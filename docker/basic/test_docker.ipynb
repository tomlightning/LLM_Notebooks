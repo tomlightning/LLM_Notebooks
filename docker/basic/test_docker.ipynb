{
 "cells": [
  {
   "cell_type": "code",
   "execution_count": 1,
   "id": "a40f0829-8ecf-4c13-95c1-40df6bfaa02e",
   "metadata": {},
   "outputs": [],
   "source": [
    "import requests"
   ]
  },
  {
   "cell_type": "code",
   "execution_count": 2,
   "id": "8e2d1bd2-5a15-4b5f-bfbe-1dc894ce5ec1",
   "metadata": {},
   "outputs": [],
   "source": [
    "r = requests.get(\"http://localhost:5020/\")"
   ]
  },
  {
   "cell_type": "code",
   "execution_count": 3,
   "id": "b9b05b9b-b7bb-4a88-807e-556d3e228946",
   "metadata": {},
   "outputs": [
    {
     "data": {
      "text/plain": [
       "'{\"message\":\"Hello test 2 , another test\"}'"
      ]
     },
     "execution_count": 3,
     "metadata": {},
     "output_type": "execute_result"
    }
   ],
   "source": [
    "r.text"
   ]
  },
  {
   "cell_type": "code",
   "execution_count": null,
   "id": "d795012f-bcdd-45e4-a696-0e29d75fb241",
   "metadata": {},
   "outputs": [],
   "source": []
  }
 ],
 "metadata": {
  "kernelspec": {
   "display_name": "Python (vertex)",
   "language": "python",
   "name": "vertex"
  },
  "language_info": {
   "codemirror_mode": {
    "name": "ipython",
    "version": 3
   },
   "file_extension": ".py",
   "mimetype": "text/x-python",
   "name": "python",
   "nbconvert_exporter": "python",
   "pygments_lexer": "ipython3",
   "version": "3.11.7"
  }
 },
 "nbformat": 4,
 "nbformat_minor": 5
}
