{
 "cells": [
  {
   "cell_type": "markdown",
   "id": "51c86644-12b9-4bb4-af4a-54d2175f978f",
   "metadata": {},
   "source": [
    "# Run Llama 3.2 locally with OpenVINO™\n",
    "\n",
    "## LLama-3.2-3B-Instruct\n",
    "\n",
    "https://huggingface.co/meta-llama/Llama-3.2-3B-Instruct\n",
    "\n",
    "![alt text](performance.png \"Online Class Memes\")\n",
    "\n",
    "## OpenVino\n",
    "https://github.com/openvinotoolkit/openvino.genai.git\n",
    "\n",
    "OpenVINO™ GenAI library provides very lightweight C++ and Python APIs to run following Generative Scenarios:\n",
    "\n",
    "Text generation using Large Language Models. For example, chat with local LLaMa model\n",
    "Image generation using Diffuser models, for example generation using Stable Diffusion models\n",
    "Speech recognition using Whisper family models\n",
    "Text generation using Large Visual Models, for instance Image analysis using LLaVa or miniCPM models family\n",
    "Library efficiently supports LoRA adapters for Text and Image generation scenarios:\n",
    "\n",
    "Load multiple adapters per model\n",
    "Select active adapters for every generation\n",
    "Mix multiple adapters with coefficients via alpha blending\n",
    "\n"
   ]
  },
  {
   "cell_type": "code",
   "execution_count": null,
   "id": "3bc10035-cf34-4f33-8691-74cf03d9daca",
   "metadata": {},
   "outputs": [],
   "source": [
    "! git clone https://github.com/openvinotoolkit/openvino.genai.git"
   ]
  },
  {
   "cell_type": "code",
   "execution_count": null,
   "id": "0c7337a2-0258-47be-829f-5a250ce38130",
   "metadata": {},
   "outputs": [],
   "source": [
    "!python -m pip install --upgrade pip\n",
    "!pip install -U --pre openvino-genai openvino openvino-tokenizers[transformers] --extra-index-url https://storage.openvinotoolkit.org/simple/wheels/nightly \n",
    "!pip install --extra-index-url https://download.pytorch.org/whl/cpu \"git+https://github.com/huggingface/optimum-intel.git\" \"git+https://github.com/openvinotoolkit/nncf.git\" \"onnx<=1.16.1\""
   ]
  },
  {
   "cell_type": "markdown",
   "id": "e3e271f1-397e-47e5-8b2d-8ea67297da50",
   "metadata": {},
   "source": [
    "# Export Model to INT4\n",
    "\n",
    "```python\n",
    "optimum-cli export openvino --model meta-llama/Llama-3.2-3B-Instruct --task text-generation-with-past --weight-format int4 --group-size 64 --ratio 1.0 --sym --awq --scale-estimation --dataset 'wikitext2' --all-layers llama-3.2-3b-instruct-INT4\n",
    "```"
   ]
  },
  {
   "cell_type": "code",
   "execution_count": null,
   "id": "621614e4-b56a-4235-b261-8eff7b616bcf",
   "metadata": {},
   "outputs": [],
   "source": [
    "# optimum-cli export openvino --model meta-llama/Llama-3.2-3B-Instruct --task text-generation-with-past --weight-format int4 --group-size 64 --ratio 1.0 --sym --awq --scale-estimation --dataset 'wikitext2' --all-layers llama-3.2-3b-instruct-INT4"
   ]
  },
  {
   "cell_type": "code",
   "execution_count": 5,
   "id": "3baeebd6-f1d6-450e-a6dc-fc4503f5ca46",
   "metadata": {},
   "outputs": [],
   "source": [
    "import openvino_genai\n",
    "\n",
    "\n",
    "def streamer(subword):\n",
    "    print(subword, end='', flush=True)\n",
    "    # Return flag corresponds whether generation should be stopped.\n",
    "    # False means continue generation.\n",
    "    return False"
   ]
  },
  {
   "cell_type": "markdown",
   "id": "3b7beda0-c25d-40d1-9f34-7bed65193db4",
   "metadata": {},
   "source": [
    "1 # Read the Instruction below and provide an answer\n",
    "```\n",
    "INSTRUCTION:\n",
    "In this task, you are given an input list A. You need to find all the elements of the list that are numbers and calculate their sum.\n",
    "\n",
    "['i', 'P', 'h', '849', 'e']\n",
    "\n",
    "RESPONSE:\n",
    "```\n",
    "\n",
    "2 # Read the Instruction below and provide an answer\n",
    "```\n",
    "INSTRUCTION:\n",
    "Question:\n",
    "I went to the market and bought 10 apples. I gave 2 apples to the neighbor and 2 to the repairman.\n",
    "Then I went again and bought 5 more apples and I ate 1 apple.\n",
    "Answer: How many apples did I remain with?\n",
    "\n",
    "### RESPONSE:\n",
    "\n",
    "```\n",
    "\n",
    "Read the Instruction below and provide an answer\n",
    "```\n",
    "INSTRUCTION:\n",
    "When I was 6, my sister was half of my age. Now I’m 70 years old.\n",
    "Answer how old is my sister now?\n",
    "\n",
    "### RESPONSE:\n",
    "\n",
    "```\n",
    "\n",
    "Read the Instruction below and provide an answer\n",
    "```\n",
    "INSTRUCTION:\n",
    "Question: I had a car 20 years ago and at that time I was 37. Answer: How old I am now?\n",
    "\n",
    "### RESPONSE:\n",
    "```\n",
    "\n",
    "\n",
    "Read the Instruction below and provide an answer .\n",
    "```\n",
    "INSTRUCTION:\n",
    "Question:\n",
    "I had a car 20 years ago, and its cost was 100000$.\n",
    "Car's anual depreciation it is 5%.\n",
    "Using the Percentage (Declining Balance) method, what it is the value of the car now ?\n",
    "\n",
    "### RESPONSE:\n",
    "```"
   ]
  },
  {
   "cell_type": "code",
   "execution_count": null,
   "id": "40d0e6e8-d923-4d61-b218-8f941609d0e3",
   "metadata": {},
   "outputs": [
    {
     "name": "stdin",
     "output_type": "stream",
     "text": [
      "question:\n",
      " 1 # Read the Instruction below and provide an answer ``` INSTRUCTION: In this task, you are given an input list A. You need to find all the elements of the list that are numbers and calculate their sum.  ['i', 'P', 'h', '849', 'e']  RESPONSE: ```\n"
     ]
    },
    {
     "name": "stdout",
     "output_type": "stream",
     "text": [
      "def sum_of_numbers(lst):\n",
      "    return sum(i for i in lst if isinstance(i, int))\n",
      "\n",
      "# Test the function\n",
      "A = ['i', 'P', 'h', '849', 'e']\n",
      "print(sum_of_numbers(A))  # Output: 849\n",
      "----------\n"
     ]
    },
    {
     "name": "stdin",
     "output_type": "stream",
     "text": [
      "question:\n",
      " Read the Instruction below and provide an answer ``` INSTRUCTION: Question: I went to the market and bought 10 apples. I gave 2 apples to the neighbor and 2 to the repairman. Then I went again and bought 5 more apples and I ate 1 apple. Answer: How many apples did I remain with?  ### RESPONSE:  ```\n"
     ]
    },
    {
     "name": "stdout",
     "output_type": "stream",
     "text": [
      "To find out how many apples you remained with, let's work through the transactions:\n",
      "\n",
      "1. You bought 10 apples.\n",
      "2. You gave 2 apples to the neighbor, so you have 10 - 2 = 8 apples left.\n",
      "3. You gave 2 apples to the repairman, so you have 8 - 2 = 6 apples left.\n",
      "4. You bought 5 more apples, so you now have 6 + 5 = 11 apples.\n",
      "5. You ate 1 apple, so you have 11 - 1 = 10 apples left.\n",
      "\n",
      "Therefore, you remained with 10 apples.\n",
      "----------\n"
     ]
    },
    {
     "name": "stdin",
     "output_type": "stream",
     "text": [
      "question:\n",
      " Read the Instruction below and provide an answer ``` INSTRUCTION: When I was 6, my sister was half of my age. Now I’m 70 years old. Answer how old is my sister now?  ### RESPONSE:  ```\n"
     ]
    },
    {
     "name": "stdout",
     "output_type": "stream",
     "text": [
      "When you were 6 years old, your sister was half of your age, which means she was 6 / 2 = 3 years old.\n",
      "\n",
      "Now, you are 70 years old, and the age difference between you and your sister remains the same. Since your sister was 3 years old when you were 6, the age difference is 6 - 3 = 3 years.\n",
      "\n",
      "To find your sister's current age, subtract the age difference from your current age:\n",
      "\n",
      "70 (your age) - 3 (age difference) = 67\n",
      "\n",
      "Therefore, your sister is now 67 years old.\n",
      "----------\n"
     ]
    },
    {
     "name": "stdin",
     "output_type": "stream",
     "text": [
      "question:\n",
      " Read the Instruction below and provide an answer ``` INSTRUCTION: Question: I had a car 20 years ago and at that time I was 37. Answer: How old I am now?  ### RESPONSE: ```\n"
     ]
    },
    {
     "name": "stdout",
     "output_type": "stream",
     "text": [
      "To find your current age, you need to add the number of years that have passed since you had the car to your age at that time.\n",
      "\n",
      "You had the car 20 years ago, and you were 37 years old at that time. To find your current age, add 20 years to 37:\n",
      "\n",
      "37 (your age 20 years ago) + 20 (years that have passed) = 57\n",
      "\n",
      "Therefore, you are now 57 years old.\n",
      "----------\n"
     ]
    },
    {
     "name": "stdin",
     "output_type": "stream",
     "text": [
      "question:\n",
      " Read the Instruction below and provide an answer . ``` INSTRUCTION: Question: I had a car 20 years ago, and its cost was 100000$. Car's anual depreciation it is 5%. Using the Percentage (Declining Balance) method, what it is the value of the car now ?  ### RESPONSE: ```\n"
     ]
    },
    {
     "name": "stdout",
     "output_type": "stream",
     "text": [
      "To find the current value of the car using the Declining Balance method, you need to calculate the annual depreciation and subtract it from the original cost.\n",
      "\n",
      "Original cost: $100,000\n",
      "Annual depreciation: 5%\n",
      "\n",
      "First, calculate the annual depreciation:\n",
      "$100,000 x 5% = $100,000 x 0.05 = $5,000\n",
      "\n",
      "Since the car depreciates by $5,000 each year, you need to subtract this amount from the original cost for each year that has passed.\n",
      "\n",
      "Number of years that have passed: 20\n",
      "Annual depreciation: $5,000\n",
      "\n",
      "Total depreciation: $5,000 x 20 = $100,000\n",
      "\n",
      "Now, subtract the total depreciation from the original cost to find the current value of the car:\n",
      "$100,000 - $100,000 = $0\n",
      "\n",
      "Therefore, the value of the car now is $0.\n",
      "----------\n"
     ]
    }
   ],
   "source": [
    "device = 'CPU' \n",
    "model_dir = \"llama-3.2-3b-instruct-INT4\"\n",
    "pipe = openvino_genai.LLMPipeline(model_dir, device)\n",
    "\n",
    "config = openvino_genai.GenerationConfig()\n",
    "config.max_new_tokens = 300\n",
    "\n",
    "pipe.start_chat()\n",
    "while True:\n",
    "    try:\n",
    "        prompt = input('question:\\n')\n",
    "    except EOFError:\n",
    "        break\n",
    "    pipe.generate(prompt, config, streamer)\n",
    "    print('\\n----------')\n",
    "pipe.finish_chat()"
   ]
  },
  {
   "cell_type": "code",
   "execution_count": null,
   "id": "9ca4dc38-1ff9-4717-8366-e8aed67bf203",
   "metadata": {},
   "outputs": [],
   "source": []
  }
 ],
 "metadata": {
  "kernelspec": {
   "display_name": "Python (openvino_genai)",
   "language": "python",
   "name": "openvino_genai"
  },
  "language_info": {
   "codemirror_mode": {
    "name": "ipython",
    "version": 3
   },
   "file_extension": ".py",
   "mimetype": "text/x-python",
   "name": "python",
   "nbconvert_exporter": "python",
   "pygments_lexer": "ipython3",
   "version": "3.11.10"
  }
 },
 "nbformat": 4,
 "nbformat_minor": 5
}
