{
 "cells": [
  {
   "cell_type": "markdown",
   "id": "2dc6f4ae-7c25-4fa2-b03a-35b977a25f13",
   "metadata": {},
   "source": [
    "# Grammatical Error Correction with OpenVINO\n",
    "AI-based auto-correction products are becoming increasingly popular due to their ease of use, editing speed, and affordability. These products improve the quality of written text in emails, blogs, and chats.\n",
    "\n",
    "Grammatical Error Correction (GEC) is the task of correcting different types of errors in text such as spelling, punctuation, grammatical and word choice errors. GEC is typically formulated as a sentence correction task. A GEC system takes a potentially erroneous sentence as input and is expected to transform it into a more correct version. See the example given below:\n",
    "\n",
    "         Input (Erroneous)\t       Output (Corrected)\n",
    "         \n",
    "        ------------------         ------------------\n",
    "        \n",
    "    I like to rides my bicycle.\tI like to ride my bicycle.\n",
    "\n",
    "\n",
    "\n",
    "# Optimization / Conversion to IR\n",
    "https://huggingface.co/docs/optimum/index\n",
    "\n",
    "https://docs.openvino.ai/2024/documentation/openvino-ir-format.html\n",
    "\n",
    "# How does it work?\n",
    "\n",
    "A Grammatical Error Correction task can be thought of as a sequence-to-sequence task where a model is trained to take a grammatically incorrect sentence as input and return a grammatically correct sentence as output. We will use the FLAN-T5 model finetuned on an expanded version of the JFLEG dataset. --> https://paperswithcode.com/dataset/jfleg\n",
    "\n",
    "--> https://aclanthology.org/E17-2037.pdf\n",
    "\n",
    "The version of FLAN-T5 released with the Scaling Instruction-Finetuned Language Models paper is an enhanced version of T5 that has been finetuned on a combination of tasks. The paper explores instruction finetuning with a particular focus on scaling the number of tasks, scaling the model size, and finetuning on chain-of-thought data. The paper discovers that overall instruction finetuning is a general method that improves the performance and usability of pre-trained language models.\n",
    "\n",
    "T5 --> Paper https://arxiv.org/pdf/2210.11416\n",
    "\n",
    "Repo --> https://github.com/google-research/t5x\n",
    "### Grammatical correctness checking\n",
    "\n",
    "to reduce the number of sentences required to be processed, you can perform grammatical correctness checking. This task should be considered as a simple binary text classification, where the model gets input text and predicts label 1 if a text contains any grammatical errors and 0 if it does not. You will use the roberta-base-CoLA model, the RoBERTa Base model finetuned on the CoLA dataset.\n",
    "\n",
    "Roberta paper --> https://arxiv.org/abs/1907.11692\n",
    "\n",
    "Roberta trained with Cola --> https://huggingface.co/textattack/roberta-base-CoLA\n",
    "\n",
    "Cola Dataset --> https://huggingface.co/datasets/shivkumarganesh/CoLA"
   ]
  },
  {
   "cell_type": "code",
   "execution_count": 1,
   "id": "0b3b14b7-f5f4-449c-ac05-395d67561435",
   "metadata": {},
   "outputs": [
    {
     "name": "stdout",
     "output_type": "stream",
     "text": [
      "Note: you may need to restart the kernel to use updated packages.\n"
     ]
    }
   ],
   "source": [
    "#%pip install -q \"torch>=2.1.0\" \"git+https://github.com/huggingface/optimum-intel.git\" \"openvino>=2024.0.0\" \"onnx<1.16.2\" tqdm \"gradio>=4.19\" \"transformers>=4.33.0\" --extra-index-url https://download.pytorch.org/whl/cpu\n",
    "%pip install -q \"nncf>=2.9.0\" datasets jiwer"
   ]
  },
  {
   "cell_type": "code",
   "execution_count": 2,
   "id": "ca3bb74b-53f6-47b7-af78-4da0405da632",
   "metadata": {},
   "outputs": [],
   "source": [
    "from pathlib import Path\n",
    "from transformers import pipeline, AutoTokenizer\n",
    "from optimum.intel.openvino import OVModelForSeq2SeqLM, OVModelForSequenceClassification"
   ]
  },
  {
   "cell_type": "code",
   "execution_count": 3,
   "id": "02337d7c-4ec6-461d-8cae-823e07eee4f9",
   "metadata": {},
   "outputs": [
    {
     "data": {
      "application/vnd.jupyter.widget-view+json": {
       "model_id": "74f2f185d4ff40f0ab99243127be8953",
       "version_major": 2,
       "version_minor": 0
      },
      "text/plain": [
       "Dropdown(description='Device:', index=1, options=('CPU', 'AUTO'), value='AUTO')"
      ]
     },
     "execution_count": 3,
     "metadata": {},
     "output_type": "execute_result"
    }
   ],
   "source": [
    "from notebook_utils import device_widget\n",
    "\n",
    "device = device_widget()\n",
    "\n",
    "device"
   ]
  },
  {
   "cell_type": "markdown",
   "id": "1c6b24ab-bf06-4c66-9702-2db8b9a97e3d",
   "metadata": {},
   "source": [
    "# Download and Convert Models\n",
    "Optimum Intel can be used to load optimized models from the Hugging Face Hub and create pipelines to run an inference with OpenVINO Runtime using Hugging Face APIs. The Optimum Inference models are API compatible with Hugging Face Transformers models. This means we just need to replace AutoModelForXxx class with the corresponding OVModelForXxx class."
   ]
  },
  {
   "cell_type": "markdown",
   "id": "820da300-7d62-454f-acc7-198896623f5a",
   "metadata": {},
   "source": [
    "# Grammar Checker"
   ]
  },
  {
   "cell_type": "code",
   "execution_count": 4,
   "id": "395252a1-e22f-40c0-928e-37b9056b5fab",
   "metadata": {},
   "outputs": [
    {
     "name": "stderr",
     "output_type": "stream",
     "text": [
      "Compiling the model to AUTO ...\n"
     ]
    }
   ],
   "source": [
    "\n",
    "grammar_checker_model_id = \"textattack/roberta-base-CoLA\"\n",
    "grammar_checker_dir = Path(\"roberta-base-cola\")\n",
    "grammar_checker_tokenizer = AutoTokenizer.from_pretrained(grammar_checker_model_id)\n",
    "\n",
    "if grammar_checker_dir.exists():\n",
    "    grammar_checker_model = OVModelForSequenceClassification.from_pretrained(grammar_checker_dir, device=device.value)\n",
    "else:\n",
    "    grammar_checker_model = OVModelForSequenceClassification.from_pretrained(grammar_checker_model_id, export=True, device=device.value, load_in_8bit=False)\n",
    "    grammar_checker_model.save_pretrained(grammar_checker_dir)"
   ]
  },
  {
   "cell_type": "code",
   "execution_count": 5,
   "id": "120204e7-c694-4858-8391-8a058c4e9cc3",
   "metadata": {},
   "outputs": [
    {
     "name": "stderr",
     "output_type": "stream",
     "text": [
      "Hardware accelerator e.g. GPU is available in the environment, but no `device` argument is passed to the `Pipeline` object. Model will be on CPU.\n"
     ]
    },
    {
     "name": "stdout",
     "output_type": "stream",
     "text": [
      "input text: The car is running with electriciti\n",
      "predicted label: contains_errors\n",
      "predicted score: 0.79\n"
     ]
    }
   ],
   "source": [
    "input_text = \"The car is running with electriciti\"\n",
    "grammar_checker_pipe = pipeline(\n",
    "    \"text-classification\",\n",
    "    model=grammar_checker_model,\n",
    "    tokenizer=grammar_checker_tokenizer,\n",
    ")\n",
    "result = grammar_checker_pipe(input_text)[0]\n",
    "print(f\"input text: {input_text}\")\n",
    "print(f'predicted label: {\"contains_errors\" if result[\"label\"] == \"LABEL_1\" else \"no errors\"}')\n",
    "print(f'predicted score: {result[\"score\"] :.2}')"
   ]
  },
  {
   "cell_type": "code",
   "execution_count": 6,
   "id": "f7b106b7-b11f-4a33-9503-2a726d227dd5",
   "metadata": {},
   "outputs": [
    {
     "data": {
      "text/plain": [
       "{'label': 'LABEL_1', 'score': 0.7926265597343445}"
      ]
     },
     "execution_count": 6,
     "metadata": {},
     "output_type": "execute_result"
    }
   ],
   "source": [
    "result"
   ]
  },
  {
   "cell_type": "markdown",
   "id": "79e0fbb0-8648-4615-a6e1-3e52d68962b2",
   "metadata": {},
   "source": [
    "# Grammar Corrector"
   ]
  },
  {
   "cell_type": "code",
   "execution_count": 7,
   "id": "243dd782-df82-4790-bb13-536c04440f73",
   "metadata": {},
   "outputs": [
    {
     "name": "stderr",
     "output_type": "stream",
     "text": [
      "Compiling the encoder to AUTO ...\n",
      "Compiling the decoder to AUTO ...\n",
      "Compiling the decoder to AUTO ...\n"
     ]
    }
   ],
   "source": [
    "grammar_corrector_model_id = \"pszemraj/flan-t5-large-grammar-synthesis\"\n",
    "grammar_corrector_dir = Path(\"flan-t5-large-grammar-synthesis\")\n",
    "grammar_corrector_tokenizer = AutoTokenizer.from_pretrained(grammar_corrector_model_id)\n",
    "\n",
    "if grammar_corrector_dir.exists():\n",
    "    grammar_corrector_model = OVModelForSeq2SeqLM.from_pretrained(grammar_corrector_dir, device=device.value)\n",
    "else:\n",
    "    grammar_corrector_model = OVModelForSeq2SeqLM.from_pretrained(grammar_corrector_model_id, export=True, device=device.value)\n",
    "    grammar_corrector_model.save_pretrained(grammar_corrector_dir)"
   ]
  },
  {
   "cell_type": "code",
   "execution_count": 8,
   "id": "dbc88879-4b70-4e7e-8e92-80c949079bf8",
   "metadata": {},
   "outputs": [
    {
     "name": "stderr",
     "output_type": "stream",
     "text": [
      "Hardware accelerator e.g. GPU is available in the environment, but no `device` argument is passed to the `Pipeline` object. Model will be on CPU.\n"
     ]
    }
   ],
   "source": [
    "grammar_corrector_pipe = pipeline(\n",
    "    \"text2text-generation\",\n",
    "    model=grammar_corrector_model,\n",
    "    tokenizer=grammar_corrector_tokenizer,\n",
    ")"
   ]
  },
  {
   "cell_type": "code",
   "execution_count": 9,
   "id": "2c47ac35-94f6-466e-ab12-53d3dea7470d",
   "metadata": {},
   "outputs": [
    {
     "name": "stdout",
     "output_type": "stream",
     "text": [
      "input text:     The car is running with electriciti\n",
      "generated text: The car is running on electricity.\n"
     ]
    }
   ],
   "source": [
    "result = grammar_corrector_pipe(input_text)[0]\n",
    "print(f\"input text:     {input_text}\")\n",
    "print(f'generated text: {result[\"generated_text\"]}')"
   ]
  },
  {
   "cell_type": "markdown",
   "id": "aa07d0a4-b32f-4e0a-9c80-79b5cc0d82bf",
   "metadata": {},
   "source": [
    "# GEC Pipeline\n",
    "1. Split text on sentences.\n",
    "2. Check grammatical correctness for each sentence using Grammar Checker.\n",
    "3. Generate an improved version of the sentence if required."
   ]
  },
  {
   "cell_type": "code",
   "execution_count": 10,
   "id": "1d5eaac2-8154-4424-81b4-b466d0e3398b",
   "metadata": {},
   "outputs": [],
   "source": [
    "import re\n",
    "import transformers\n",
    "from tqdm.notebook import tqdm\n",
    "\n",
    "\n",
    "def split_text(text: str) -> list:\n",
    "    \"\"\"\n",
    "    Split a string of text into a list of sentence batches.\n",
    "\n",
    "    Parameters:\n",
    "    text (str): The text to be split into sentence batches.\n",
    "\n",
    "    Returns:\n",
    "    list: A list of sentence batches. Each sentence batch is a list of sentences.\n",
    "    \"\"\"\n",
    "    # Split the text into sentences using regex\n",
    "    sentences = re.split(r\"(?<=[^A-Z].[.?]) +(?=[A-Z])\", text)\n",
    "    #sentences = text.split(\".\")\n",
    "\n",
    "    # Initialize a list to store the sentence batches\n",
    "    sentence_batches = []\n",
    "\n",
    "    # Initialize a temporary list to store the current batch of sentences\n",
    "    temp_batch = []\n",
    "\n",
    "    # Iterate through the sentences\n",
    "    for sentence in sentences:\n",
    "        # Add the sentence to the temporary batch\n",
    "        temp_batch.append(sentence)\n",
    "\n",
    "        # If the length of the temporary batch is between 2 and 3 sentences, or if it is the last batch, add it to the list of sentence batches\n",
    "        if len(temp_batch) >= 2 and len(temp_batch) <= 3 or sentence == sentences[-1]:\n",
    "            sentence_batches.append(temp_batch)\n",
    "            temp_batch = []\n",
    "\n",
    "    return sentence_batches\n",
    "\n",
    "\n",
    "def correct_text(\n",
    "    text: str,\n",
    "    checker: transformers.pipelines.Pipeline,\n",
    "    corrector: transformers.pipelines.Pipeline,\n",
    "    separator: str = \" \",\n",
    ") -> str:\n",
    "    \"\"\"\n",
    "    Correct the grammar in a string of text using a text-classification and text-generation pipeline.\n",
    "\n",
    "    Parameters:\n",
    "    text (str): The inpur text to be corrected.\n",
    "    checker (transformers.pipelines.Pipeline): The text-classification pipeline to use for checking the grammar quality of the text.\n",
    "    corrector (transformers.pipelines.Pipeline): The text-generation pipeline to use for correcting the text.\n",
    "    separator (str, optional): The separator to use when joining the corrected text into a single string. Default is a space character.\n",
    "\n",
    "    Returns:\n",
    "    str: The corrected text.\n",
    "    \"\"\"\n",
    "    # Split the text into sentence batches\n",
    "    sentence_batches = split_text(text)\n",
    "\n",
    "    # Initialize a list to store the corrected text\n",
    "    corrected_text = []\n",
    "\n",
    "    # Iterate through the sentence batches\n",
    "    for batch in tqdm(sentence_batches, total=len(sentence_batches), desc=\"correcting text..\"):\n",
    "        # Join the sentences in the batch into a single string\n",
    "        raw_text = \" \".join(batch)\n",
    "\n",
    "\n",
    "        # Check the grammar quality of the text using the text-classification pipeline\n",
    "        results = checker(raw_text)\n",
    "\n",
    "        # Only correct the text if the results of the text-classification are not LABEL_1 or are LABEL_1 with a score below 0.9\n",
    "        if results[0][\"label\"] != \"LABEL_1\" or (results[0][\"label\"] == \"LABEL_1\" and results[0][\"score\"] < 0.9):\n",
    "            # Correct the text using the text-generation pipeline\n",
    "            corrected_batch = corrector(raw_text)\n",
    "            corrected_text.append(corrected_batch[0][\"generated_text\"])\n",
    "        else:\n",
    "            corrected_text.append(raw_text)\n",
    "\n",
    "    # Join the corrected text into a single string\n",
    "    corrected_text = separator.join(corrected_text)\n",
    "\n",
    "    return corrected_text"
   ]
  },
  {
   "cell_type": "code",
   "execution_count": 11,
   "id": "751e5eca-935c-4438-bade-1428d39f95a7",
   "metadata": {},
   "outputs": [],
   "source": [
    "import datetime"
   ]
  },
  {
   "cell_type": "code",
   "execution_count": 12,
   "id": "d2b44afa-aa40-4b3d-aec8-115c35508922",
   "metadata": {},
   "outputs": [
    {
     "data": {
      "application/vnd.jupyter.widget-view+json": {
       "model_id": "1c95e5976ade4b8eb8b5e376127dc13e",
       "version_major": 2,
       "version_minor": 0
      },
      "text/plain": [
       "correcting text..:   0%|          | 0/1 [00:00<?, ?it/s]"
      ]
     },
     "metadata": {},
     "output_type": "display_data"
    },
    {
     "name": "stdout",
     "output_type": "stream",
     "text": [
      "Time in seconds 13\n"
     ]
    }
   ],
   "source": [
    "default_text = (\n",
    "    \"\"\"Most of the course is about semantic or  content of language but there are also interesting\n",
    "    topics to be learned from the servicefeatures except statistics in characters in documents. At\n",
    "    this point, He introduces herself as his native English speaker and goes on to say that if\n",
    "    you contine to work on social scnce\"\"\"\n",
    ")\n",
    "time1 = datetime.datetime.now()\n",
    "corrected_text = correct_text(default_text, grammar_checker_pipe, grammar_corrector_pipe)\n",
    "time2 = datetime.datetime.now()\n",
    "seconds = (time2-time1).seconds\n",
    "print(f\"Time in seconds {seconds}\")"
   ]
  },
  {
   "cell_type": "code",
   "execution_count": 13,
   "id": "5cc8b7e9-f86d-4d45-90a9-eef7821f5c37",
   "metadata": {},
   "outputs": [
    {
     "name": "stdout",
     "output_type": "stream",
     "text": [
      "input text:     Most of the course is about semantic or  content of language but there are also interesting\n",
      "    topics to be learned from the servicefeatures except statistics in characters in documents. At\n",
      "    this point, He introduces herself as his native English speaker and goes on to say that if\n",
      "    you contine to work on social scnce\n",
      "\n",
      "generated text: Most of the course is about the semantic content of language but there are also interesting topics to be learned from the service features except statistics in characters in documents. At this point, she introduces herself as a native English speaker and goes on to say that if you continue to work on social science, you will continue to be successful.\n"
     ]
    }
   ],
   "source": [
    "print(f\"input text:     {default_text}\\n\")\n",
    "print(f\"generated text: {corrected_text}\")"
   ]
  },
  {
   "cell_type": "markdown",
   "id": "ac5a609b-bfe3-4e9d-b9d5-a9df502109e4",
   "metadata": {},
   "source": [
    "# Quantization\n",
    "NNCF enables post-training quantization by adding quantization layers into model graph and then using a subset of the training dataset to initialize the parameters of these additional quantization layers. Quantized operations are executed in INT8 instead of FP32/FP16 making model inference faster.\n",
    "\n",
    "https://github.com/openvinotoolkit/nncf/\n",
    "\n",
    "Grammar checker model takes up a tiny portion of the whole text correction pipeline so we optimize only the grammar corrector model. Grammar corrector itself consists of three models: encoder, first call decoder and decoder with past. The last model's share of inference dominates the other ones. Because of this we quantize only it.\n",
    "\n",
    "The optimization process contains the following steps:\n",
    "\n",
    "1. Create a calibration dataset for quantization.\n",
    "2. Run nncf.quantize() to obtain quantized models.\n",
    "3. Serialize the INT8 model using openvino.save_model() function.\n"
   ]
  },
  {
   "cell_type": "code",
   "execution_count": 14,
   "id": "f4dfe246-7f4c-432b-93d8-79c523a2e096",
   "metadata": {},
   "outputs": [
    {
     "data": {
      "application/vnd.jupyter.widget-view+json": {
       "model_id": "9ef0de74b1d44afeb98d9700598c7d4d",
       "version_major": 2,
       "version_minor": 0
      },
      "text/plain": [
       "Checkbox(value=True, description='Quantization')"
      ]
     },
     "execution_count": 14,
     "metadata": {},
     "output_type": "execute_result"
    }
   ],
   "source": [
    "from notebook_utils import quantization_widget\n",
    "import openvino as ov\n",
    "to_quantize = quantization_widget()\n",
    "\n",
    "to_quantize"
   ]
  },
  {
   "cell_type": "code",
   "execution_count": 15,
   "id": "476e7524-6961-40ac-b358-730c36769b05",
   "metadata": {},
   "outputs": [],
   "source": [
    "core = ov.Core()"
   ]
  },
  {
   "cell_type": "code",
   "execution_count": 16,
   "id": "681b4439-a406-47df-be7f-7c52cbae1383",
   "metadata": {},
   "outputs": [
    {
     "data": {
      "application/vnd.jupyter.widget-view+json": {
       "model_id": "9de56e03c1a14d678438d8627a25b90b",
       "version_major": 2,
       "version_minor": 0
      },
      "text/plain": [
       "Collecting calibration data:   0%|          | 0/100 [00:00<?, ?it/s]"
      ]
     },
     "metadata": {},
     "output_type": "display_data"
    },
    {
     "data": {
      "application/vnd.jupyter.widget-view+json": {
       "model_id": "2d1d8a64a0ae4a19814391ba26d89558",
       "version_major": 2,
       "version_minor": 0
      },
      "text/plain": [
       "Output()"
      ]
     },
     "metadata": {},
     "output_type": "display_data"
    },
    {
     "data": {
      "text/html": [
       "<pre style=\"white-space:pre;overflow-x:auto;line-height:normal;font-family:Menlo,'DejaVu Sans Mono',consolas,'Courier New',monospace\"></pre>\n"
      ],
      "text/plain": []
     },
     "metadata": {},
     "output_type": "display_data"
    },
    {
     "data": {
      "text/html": [
       "<pre style=\"white-space:pre;overflow-x:auto;line-height:normal;font-family:Menlo,'DejaVu Sans Mono',consolas,'Courier New',monospace\">\n",
       "</pre>\n"
      ],
      "text/plain": [
       "\n"
      ]
     },
     "metadata": {},
     "output_type": "display_data"
    },
    {
     "data": {
      "application/vnd.jupyter.widget-view+json": {
       "model_id": "870c118f606e4147baec3b272279dc77",
       "version_major": 2,
       "version_minor": 0
      },
      "text/plain": [
       "Output()"
      ]
     },
     "metadata": {},
     "output_type": "display_data"
    },
    {
     "data": {
      "text/html": [
       "<pre style=\"white-space:pre;overflow-x:auto;line-height:normal;font-family:Menlo,'DejaVu Sans Mono',consolas,'Courier New',monospace\"></pre>\n"
      ],
      "text/plain": []
     },
     "metadata": {},
     "output_type": "display_data"
    },
    {
     "data": {
      "text/html": [
       "<pre style=\"white-space:pre;overflow-x:auto;line-height:normal;font-family:Menlo,'DejaVu Sans Mono',consolas,'Courier New',monospace\">\n",
       "</pre>\n"
      ],
      "text/plain": [
       "\n"
      ]
     },
     "metadata": {},
     "output_type": "display_data"
    },
    {
     "name": "stdout",
     "output_type": "stream",
     "text": [
      "INFO:nncf:72 ignored nodes were found by names in the NNCFGraph\n",
      "INFO:nncf:145 ignored nodes were found by names in the NNCFGraph\n"
     ]
    },
    {
     "data": {
      "application/vnd.jupyter.widget-view+json": {
       "model_id": "488c92005a71434fad0c79f6870a67cb",
       "version_major": 2,
       "version_minor": 0
      },
      "text/plain": [
       "Output()"
      ]
     },
     "metadata": {},
     "output_type": "display_data"
    },
    {
     "data": {
      "text/html": [
       "<pre style=\"white-space:pre;overflow-x:auto;line-height:normal;font-family:Menlo,'DejaVu Sans Mono',consolas,'Courier New',monospace\"></pre>\n"
      ],
      "text/plain": []
     },
     "metadata": {},
     "output_type": "display_data"
    },
    {
     "data": {
      "text/html": [
       "<pre style=\"white-space:pre;overflow-x:auto;line-height:normal;font-family:Menlo,'DejaVu Sans Mono',consolas,'Courier New',monospace\">\n",
       "</pre>\n"
      ],
      "text/plain": [
       "\n"
      ]
     },
     "metadata": {},
     "output_type": "display_data"
    },
    {
     "name": "stderr",
     "output_type": "stream",
     "text": [
      "Compiling the encoder to AUTO ...\n",
      "Compiling the decoder to AUTO ...\n",
      "Compiling the decoder to AUTO ...\n",
      "Compiling the decoder to AUTO ...\n",
      "Hardware accelerator e.g. GPU is available in the environment, but no `device` argument is passed to the `Pipeline` object. Model will be on CPU.\n"
     ]
    }
   ],
   "source": [
    "from src.utils import get_quantized_pipeline, CALIBRATION_DATASET_SIZE\n",
    "\n",
    "grammar_corrector_pipe_fp32 = grammar_corrector_pipe\n",
    "grammar_corrector_pipe_int8 = None\n",
    "if to_quantize.value:\n",
    "    quantized_model_path = Path(\"quantized_decoder_with_past\") / \"openvino_model.xml\"\n",
    "    grammar_corrector_pipe_int8 = get_quantized_pipeline(\n",
    "        grammar_corrector_pipe_fp32,\n",
    "        grammar_corrector_tokenizer,\n",
    "        core,\n",
    "        grammar_corrector_dir,\n",
    "        quantized_model_path,\n",
    "        device.value,\n",
    "        calibration_dataset_size=100,\n",
    "    )"
   ]
  },
  {
   "cell_type": "code",
   "execution_count": 17,
   "id": "aae1e60a-204e-4974-b1cd-d331732c3349",
   "metadata": {},
   "outputs": [
    {
     "data": {
      "application/vnd.jupyter.widget-view+json": {
       "model_id": "a09a15ed4dc948239529c040d5c29695",
       "version_major": 2,
       "version_minor": 0
      },
      "text/plain": [
       "correcting text..:   0%|          | 0/1 [00:00<?, ?it/s]"
      ]
     },
     "metadata": {},
     "output_type": "display_data"
    },
    {
     "name": "stdout",
     "output_type": "stream",
     "text": [
      "Time in seconds 12\n",
      "Input text:                   Most of the course is about semantic or  content of language but there are also interesting\n",
      "    topics to be learned from the servicefeatures except statistics in characters in documents. At\n",
      "    this point, He introduces herself as his native English speaker and goes on to say that if\n",
      "    you contine to work on social scnce\n",
      "\n",
      "Generated text by INT8 model: Most of the course is about the semantic content of language but there are also interesting topics to be learned from the service features except statistics in characters in documents. At this point, she introduces herself as a native English speaker and goes on to say that if you continue to work on social science, you will continue to be successful.\n"
     ]
    }
   ],
   "source": [
    "if to_quantize.value:\n",
    "    time1 = datetime.datetime.now()\n",
    "    corrected_text_int8 = correct_text(default_text, grammar_checker_pipe, grammar_corrector_pipe_int8)\n",
    "    time2 = datetime.datetime.now()\n",
    "    seconds = (time2-time1).seconds\n",
    "    print(f\"Time in seconds {seconds}\")\n",
    "    print(f\"Input text:                   {default_text}\\n\")\n",
    "    print(f\"Generated text by INT8 model: {corrected_text_int8}\")"
   ]
  },
  {
   "cell_type": "code",
   "execution_count": 18,
   "id": "fe43a435-a92a-430b-91e2-29ec49d29f59",
   "metadata": {},
   "outputs": [
    {
     "name": "stdout",
     "output_type": "stream",
     "text": [
      "Model footprint comparison:\n",
      "    * FP32 IR model size: 1658150.20 KB\n",
      "    * INT8 IR model size: 416957.99 KB\n"
     ]
    }
   ],
   "source": [
    "from src.utils import calculate_compression_rate\n",
    "\n",
    "if to_quantize.value:\n",
    "    model_size_fp32, model_size_int8 = calculate_compression_rate(\n",
    "        grammar_corrector_dir / \"openvino_decoder_with_past_model.xml\",\n",
    "        quantized_model_path,\n",
    "    )"
   ]
  },
  {
   "cell_type": "code",
   "execution_count": 19,
   "id": "c6e099df-9e8b-4aca-8712-f7af763fbea1",
   "metadata": {},
   "outputs": [
    {
     "data": {
      "application/vnd.jupyter.widget-view+json": {
       "model_id": "85f5655e024347aa9c30089fa69dddb3",
       "version_major": 2,
       "version_minor": 0
      },
      "text/plain": [
       "Evaluation:   0%|          | 0/50 [00:00<?, ?it/s]"
      ]
     },
     "metadata": {},
     "output_type": "display_data"
    },
    {
     "name": "stdout",
     "output_type": "stream",
     "text": [
      "Evaluation results of FP32 grammar correction pipeline. Accuracy: 58.04%. Time: 187.64 sec.\n"
     ]
    },
    {
     "data": {
      "application/vnd.jupyter.widget-view+json": {
       "model_id": "87c95b2811c1427bb3f09b8e4b50a036",
       "version_major": 2,
       "version_minor": 0
      },
      "text/plain": [
       "Evaluation:   0%|          | 0/50 [00:00<?, ?it/s]"
      ]
     },
     "metadata": {},
     "output_type": "display_data"
    },
    {
     "name": "stdout",
     "output_type": "stream",
     "text": [
      "Evaluation results of INT8 grammar correction pipeline. Accuracy: 57.89%. Time: 155.55 sec.\n",
      "Performance speedup: 1.206\n",
      "Accuracy drop :0.15%.\n",
      "Model footprint reduction: 3.977\n"
     ]
    }
   ],
   "source": [
    "from src.utils import calculate_inference_time_and_accuracy\n",
    "\n",
    "TEST_SUBSET_SIZE = 50\n",
    "\n",
    "if to_quantize.value:\n",
    "    inference_time_fp32, accuracy_fp32 = calculate_inference_time_and_accuracy(grammar_corrector_pipe_fp32, TEST_SUBSET_SIZE)\n",
    "    print(f\"Evaluation results of FP32 grammar correction pipeline. Accuracy: {accuracy_fp32:.2f}%. Time: {inference_time_fp32:.2f} sec.\")\n",
    "    inference_time_int8, accuracy_int8 = calculate_inference_time_and_accuracy(grammar_corrector_pipe_int8, TEST_SUBSET_SIZE)\n",
    "    print(f\"Evaluation results of INT8 grammar correction pipeline. Accuracy: {accuracy_int8:.2f}%. Time: {inference_time_int8:.2f} sec.\")\n",
    "    print(f\"Performance speedup: {inference_time_fp32 / inference_time_int8:.3f}\")\n",
    "    print(f\"Accuracy drop :{accuracy_fp32 - accuracy_int8:.2f}%.\")\n",
    "    print(f\"Model footprint reduction: {model_size_fp32 / model_size_int8:.3f}\")"
   ]
  },
  {
   "cell_type": "code",
   "execution_count": null,
   "id": "e536bbcd-b215-46ae-89ad-fed9bfa7e151",
   "metadata": {},
   "outputs": [],
   "source": []
  }
 ],
 "metadata": {
  "kernelspec": {
   "display_name": "Python (openvino)",
   "language": "python",
   "name": "openvino"
  },
  "language_info": {
   "codemirror_mode": {
    "name": "ipython",
    "version": 3
   },
   "file_extension": ".py",
   "mimetype": "text/x-python",
   "name": "python",
   "nbconvert_exporter": "python",
   "pygments_lexer": "ipython3",
   "version": "3.11.9"
  }
 },
 "nbformat": 4,
 "nbformat_minor": 5
}
