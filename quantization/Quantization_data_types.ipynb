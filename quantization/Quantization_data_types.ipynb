{
  "cells": [
    {
      "cell_type": "markdown",
      "metadata": {
        "id": "view-in-github",
        "colab_type": "text"
      },
      "source": [
        "<a href=\"https://colab.research.google.com/github/olonok69/LLM_Notebooks/blob/main/quantization/Quantization_data_types.ipynb\" target=\"_parent\"><img src=\"https://colab.research.google.com/assets/colab-badge.svg\" alt=\"Open In Colab\"/></a>"
      ]
    },
    {
      "cell_type": "code",
      "execution_count": 1,
      "id": "b1c29809-ee50-407b-b932-d03fbba2644e",
      "metadata": {
        "colab": {
          "base_uri": "https://localhost:8080/"
        },
        "id": "b1c29809-ee50-407b-b932-d03fbba2644e",
        "outputId": "2e9e3329-221a-4193-de3c-2f2ce35547af"
      },
      "outputs": [
        {
          "output_type": "stream",
          "name": "stdout",
          "text": [
            "Collecting torch==2.0.1\n",
            "  Downloading torch-2.0.1-cp310-cp310-manylinux1_x86_64.whl (619.9 MB)\n",
            "\u001b[2K     \u001b[90m━━━━━━━━━━━━━━━━━━━━━━━━━━━━━━━━━━━━━━━━\u001b[0m \u001b[32m619.9/619.9 MB\u001b[0m \u001b[31m1.7 MB/s\u001b[0m eta \u001b[36m0:00:00\u001b[0m\n",
            "\u001b[?25hRequirement already satisfied: filelock in /usr/local/lib/python3.10/dist-packages (from torch==2.0.1) (3.13.1)\n",
            "Requirement already satisfied: typing-extensions in /usr/local/lib/python3.10/dist-packages (from torch==2.0.1) (4.5.0)\n",
            "Requirement already satisfied: sympy in /usr/local/lib/python3.10/dist-packages (from torch==2.0.1) (1.12)\n",
            "Requirement already satisfied: networkx in /usr/local/lib/python3.10/dist-packages (from torch==2.0.1) (3.2.1)\n",
            "Requirement already satisfied: jinja2 in /usr/local/lib/python3.10/dist-packages (from torch==2.0.1) (3.1.3)\n",
            "Collecting nvidia-cuda-nvrtc-cu11==11.7.99 (from torch==2.0.1)\n",
            "  Downloading nvidia_cuda_nvrtc_cu11-11.7.99-2-py3-none-manylinux1_x86_64.whl (21.0 MB)\n",
            "\u001b[2K     \u001b[90m━━━━━━━━━━━━━━━━━━━━━━━━━━━━━━━━━━━━━━━━\u001b[0m \u001b[32m21.0/21.0 MB\u001b[0m \u001b[31m7.3 MB/s\u001b[0m eta \u001b[36m0:00:00\u001b[0m\n",
            "\u001b[?25hCollecting nvidia-cuda-runtime-cu11==11.7.99 (from torch==2.0.1)\n",
            "  Downloading nvidia_cuda_runtime_cu11-11.7.99-py3-none-manylinux1_x86_64.whl (849 kB)\n",
            "\u001b[2K     \u001b[90m━━━━━━━━━━━━━━━━━━━━━━━━━━━━━━━━━━━━━━━━\u001b[0m \u001b[32m849.3/849.3 kB\u001b[0m \u001b[31m8.1 MB/s\u001b[0m eta \u001b[36m0:00:00\u001b[0m\n",
            "\u001b[?25hCollecting nvidia-cuda-cupti-cu11==11.7.101 (from torch==2.0.1)\n",
            "  Downloading nvidia_cuda_cupti_cu11-11.7.101-py3-none-manylinux1_x86_64.whl (11.8 MB)\n",
            "\u001b[2K     \u001b[90m━━━━━━━━━━━━━━━━━━━━━━━━━━━━━━━━━━━━━━━━\u001b[0m \u001b[32m11.8/11.8 MB\u001b[0m \u001b[31m8.5 MB/s\u001b[0m eta \u001b[36m0:00:00\u001b[0m\n",
            "\u001b[?25hCollecting nvidia-cudnn-cu11==8.5.0.96 (from torch==2.0.1)\n",
            "  Downloading nvidia_cudnn_cu11-8.5.0.96-2-py3-none-manylinux1_x86_64.whl (557.1 MB)\n",
            "\u001b[2K     \u001b[90m━━━━━━━━━━━━━━━━━━━━━━━━━━━━━━━━━━━━━━━━\u001b[0m \u001b[32m557.1/557.1 MB\u001b[0m \u001b[31m2.3 MB/s\u001b[0m eta \u001b[36m0:00:00\u001b[0m\n",
            "\u001b[?25hCollecting nvidia-cublas-cu11==11.10.3.66 (from torch==2.0.1)\n",
            "  Downloading nvidia_cublas_cu11-11.10.3.66-py3-none-manylinux1_x86_64.whl (317.1 MB)\n",
            "\u001b[2K     \u001b[90m━━━━━━━━━━━━━━━━━━━━━━━━━━━━━━━━━━━━━━━━\u001b[0m \u001b[32m317.1/317.1 MB\u001b[0m \u001b[31m3.6 MB/s\u001b[0m eta \u001b[36m0:00:00\u001b[0m\n",
            "\u001b[?25hCollecting nvidia-cufft-cu11==10.9.0.58 (from torch==2.0.1)\n",
            "  Downloading nvidia_cufft_cu11-10.9.0.58-py3-none-manylinux1_x86_64.whl (168.4 MB)\n",
            "\u001b[2K     \u001b[90m━━━━━━━━━━━━━━━━━━━━━━━━━━━━━━━━━━━━━━━━\u001b[0m \u001b[32m168.4/168.4 MB\u001b[0m \u001b[31m4.7 MB/s\u001b[0m eta \u001b[36m0:00:00\u001b[0m\n",
            "\u001b[?25hCollecting nvidia-curand-cu11==10.2.10.91 (from torch==2.0.1)\n",
            "  Downloading nvidia_curand_cu11-10.2.10.91-py3-none-manylinux1_x86_64.whl (54.6 MB)\n",
            "\u001b[2K     \u001b[90m━━━━━━━━━━━━━━━━━━━━━━━━━━━━━━━━━━━━━━━━\u001b[0m \u001b[32m54.6/54.6 MB\u001b[0m \u001b[31m7.3 MB/s\u001b[0m eta \u001b[36m0:00:00\u001b[0m\n",
            "\u001b[?25hCollecting nvidia-cusolver-cu11==11.4.0.1 (from torch==2.0.1)\n",
            "  Downloading nvidia_cusolver_cu11-11.4.0.1-2-py3-none-manylinux1_x86_64.whl (102.6 MB)\n",
            "\u001b[2K     \u001b[90m━━━━━━━━━━━━━━━━━━━━━━━━━━━━━━━━━━━━━━━━\u001b[0m \u001b[32m102.6/102.6 MB\u001b[0m \u001b[31m7.2 MB/s\u001b[0m eta \u001b[36m0:00:00\u001b[0m\n",
            "\u001b[?25hCollecting nvidia-cusparse-cu11==11.7.4.91 (from torch==2.0.1)\n",
            "  Downloading nvidia_cusparse_cu11-11.7.4.91-py3-none-manylinux1_x86_64.whl (173.2 MB)\n",
            "\u001b[2K     \u001b[90m━━━━━━━━━━━━━━━━━━━━━━━━━━━━━━━━━━━━━━━━\u001b[0m \u001b[32m173.2/173.2 MB\u001b[0m \u001b[31m4.8 MB/s\u001b[0m eta \u001b[36m0:00:00\u001b[0m\n",
            "\u001b[?25hCollecting nvidia-nccl-cu11==2.14.3 (from torch==2.0.1)\n",
            "  Downloading nvidia_nccl_cu11-2.14.3-py3-none-manylinux1_x86_64.whl (177.1 MB)\n",
            "\u001b[2K     \u001b[90m━━━━━━━━━━━━━━━━━━━━━━━━━━━━━━━━━━━━━━━━\u001b[0m \u001b[32m177.1/177.1 MB\u001b[0m \u001b[31m4.9 MB/s\u001b[0m eta \u001b[36m0:00:00\u001b[0m\n",
            "\u001b[?25hCollecting nvidia-nvtx-cu11==11.7.91 (from torch==2.0.1)\n",
            "  Downloading nvidia_nvtx_cu11-11.7.91-py3-none-manylinux1_x86_64.whl (98 kB)\n",
            "\u001b[2K     \u001b[90m━━━━━━━━━━━━━━━━━━━━━━━━━━━━━━━━━━━━━━━━\u001b[0m \u001b[32m98.6/98.6 kB\u001b[0m \u001b[31m11.9 MB/s\u001b[0m eta \u001b[36m0:00:00\u001b[0m\n",
            "\u001b[?25hCollecting triton==2.0.0 (from torch==2.0.1)\n",
            "  Downloading triton-2.0.0-1-cp310-cp310-manylinux2014_x86_64.manylinux_2_17_x86_64.whl (63.3 MB)\n",
            "\u001b[2K     \u001b[90m━━━━━━━━━━━━━━━━━━━━━━━━━━━━━━━━━━━━━━━━\u001b[0m \u001b[32m63.3/63.3 MB\u001b[0m \u001b[31m7.3 MB/s\u001b[0m eta \u001b[36m0:00:00\u001b[0m\n",
            "\u001b[?25hRequirement already satisfied: setuptools in /usr/local/lib/python3.10/dist-packages (from nvidia-cublas-cu11==11.10.3.66->torch==2.0.1) (67.7.2)\n",
            "Requirement already satisfied: wheel in /usr/local/lib/python3.10/dist-packages (from nvidia-cublas-cu11==11.10.3.66->torch==2.0.1) (0.42.0)\n",
            "Requirement already satisfied: cmake in /usr/local/lib/python3.10/dist-packages (from triton==2.0.0->torch==2.0.1) (3.27.9)\n",
            "Collecting lit (from triton==2.0.0->torch==2.0.1)\n",
            "  Downloading lit-17.0.6.tar.gz (153 kB)\n",
            "\u001b[2K     \u001b[90m━━━━━━━━━━━━━━━━━━━━━━━━━━━━━━━━━━━━━━━━\u001b[0m \u001b[32m153.0/153.0 kB\u001b[0m \u001b[31m16.8 MB/s\u001b[0m eta \u001b[36m0:00:00\u001b[0m\n",
            "\u001b[?25h  Installing build dependencies ... \u001b[?25l\u001b[?25hdone\n",
            "  Getting requirements to build wheel ... \u001b[?25l\u001b[?25hdone\n",
            "  Installing backend dependencies ... \u001b[?25l\u001b[?25hdone\n",
            "  Preparing metadata (pyproject.toml) ... \u001b[?25l\u001b[?25hdone\n",
            "Requirement already satisfied: MarkupSafe>=2.0 in /usr/local/lib/python3.10/dist-packages (from jinja2->torch==2.0.1) (2.1.4)\n",
            "Requirement already satisfied: mpmath>=0.19 in /usr/local/lib/python3.10/dist-packages (from sympy->torch==2.0.1) (1.3.0)\n",
            "Building wheels for collected packages: lit\n",
            "  Building wheel for lit (pyproject.toml) ... \u001b[?25l\u001b[?25hdone\n",
            "  Created wheel for lit: filename=lit-17.0.6-py3-none-any.whl size=93255 sha256=5c0cb3cdef0bacfde3fd9d4d14aa4d2230ac45f2f432e8cdf4d3764794b3e872\n",
            "  Stored in directory: /root/.cache/pip/wheels/30/dd/04/47d42976a6a86dc2ab66d7518621ae96f43452c8841d74758a\n",
            "Successfully built lit\n",
            "Installing collected packages: lit, nvidia-nvtx-cu11, nvidia-nccl-cu11, nvidia-cusparse-cu11, nvidia-curand-cu11, nvidia-cufft-cu11, nvidia-cuda-runtime-cu11, nvidia-cuda-nvrtc-cu11, nvidia-cuda-cupti-cu11, nvidia-cublas-cu11, nvidia-cusolver-cu11, nvidia-cudnn-cu11, triton, torch\n",
            "  Attempting uninstall: triton\n",
            "    Found existing installation: triton 2.1.0\n",
            "    Uninstalling triton-2.1.0:\n",
            "      Successfully uninstalled triton-2.1.0\n",
            "  Attempting uninstall: torch\n",
            "    Found existing installation: torch 2.1.0+cu121\n",
            "    Uninstalling torch-2.1.0+cu121:\n",
            "      Successfully uninstalled torch-2.1.0+cu121\n",
            "\u001b[31mERROR: pip's dependency resolver does not currently take into account all the packages that are installed. This behaviour is the source of the following dependency conflicts.\n",
            "torchaudio 2.1.0+cu121 requires torch==2.1.0, but you have torch 2.0.1 which is incompatible.\n",
            "torchdata 0.7.0 requires torch==2.1.0, but you have torch 2.0.1 which is incompatible.\n",
            "torchtext 0.16.0 requires torch==2.1.0, but you have torch 2.0.1 which is incompatible.\n",
            "torchvision 0.16.0+cu121 requires torch==2.1.0, but you have torch 2.0.1 which is incompatible.\u001b[0m\u001b[31m\n",
            "\u001b[0mSuccessfully installed lit-17.0.6 nvidia-cublas-cu11-11.10.3.66 nvidia-cuda-cupti-cu11-11.7.101 nvidia-cuda-nvrtc-cu11-11.7.99 nvidia-cuda-runtime-cu11-11.7.99 nvidia-cudnn-cu11-8.5.0.96 nvidia-cufft-cu11-10.9.0.58 nvidia-curand-cu11-10.2.10.91 nvidia-cusolver-cu11-11.4.0.1 nvidia-cusparse-cu11-11.7.4.91 nvidia-nccl-cu11-2.14.3 nvidia-nvtx-cu11-11.7.91 torch-2.0.1 triton-2.0.0\n"
          ]
        }
      ],
      "source": [
        "%pip install -U torch==2.0.1"
      ]
    },
    {
      "cell_type": "markdown",
      "id": "f7aa5709-d18e-4fa5-b4a7-442aa7e88e19",
      "metadata": {
        "id": "f7aa5709-d18e-4fa5-b4a7-442aa7e88e19"
      },
      "source": [
        "https://pytorch.org/docs/stable/tensors.html"
      ]
    },
    {
      "cell_type": "code",
      "execution_count": 2,
      "id": "c0de5ce4-18a0-44bb-89dc-7ec50f0d9c77",
      "metadata": {
        "id": "c0de5ce4-18a0-44bb-89dc-7ec50f0d9c77"
      },
      "outputs": [],
      "source": [
        "import torch"
      ]
    },
    {
      "cell_type": "markdown",
      "id": "bed35346-aade-4e22-a0ca-84055663c364",
      "metadata": {
        "tags": [],
        "id": "bed35346-aade-4e22-a0ca-84055663c364"
      },
      "source": [
        "# Functions to convert from real to FP32, FP16, BFLOAT16, INT8"
      ]
    },
    {
      "cell_type": "markdown",
      "id": "d79941f5-60cf-4341-b53d-86a2aa93b809",
      "metadata": {
        "id": "d79941f5-60cf-4341-b53d-86a2aa93b809"
      },
      "source": [
        "### Show memory footprint"
      ]
    },
    {
      "cell_type": "code",
      "execution_count": 3,
      "id": "3817d47f-b158-49b4-9207-9669c6133083",
      "metadata": {
        "id": "3817d47f-b158-49b4-9207-9669c6133083"
      },
      "outputs": [],
      "source": [
        "def show_memory_comsumption(tensor):\n",
        "    memory_bytes = tensor.element_size() * tensor.numel()\n",
        "    print(\"Tensor memory consumption:\", memory_bytes, \"bytes\")"
      ]
    },
    {
      "cell_type": "markdown",
      "id": "5608fd78-8c9f-4ce0-b3a4-6991f74680f8",
      "metadata": {
        "id": "5608fd78-8c9f-4ce0-b3a4-6991f74680f8"
      },
      "source": [
        "### Show binary tensor values"
      ]
    },
    {
      "cell_type": "code",
      "execution_count": 4,
      "id": "b81bab4f-b07a-4296-b19d-c075f0a9d806",
      "metadata": {
        "id": "b81bab4f-b07a-4296-b19d-c075f0a9d806"
      },
      "outputs": [],
      "source": [
        "def show_binary_tensor_values(tensor):\n",
        "\n",
        "    if tensor.dtype==torch.float32:\n",
        "        # Access the underlying data as 32-bit integer\n",
        "        bits = tensor.view(torch.int32).item()\n",
        "        binary_repr = bin(bits)\n",
        "        print(\"Binary: \", binary_repr)\n",
        "        print(\"Binary representation: \", format(bits, '031b'))\n",
        "\n",
        "    elif tensor.dtype==torch.float16:\n",
        "        bits = tensor.view(torch.int16).item()\n",
        "        binary_repr = bin(bits)\n",
        "        print(\"Binary: \", binary_repr)\n",
        "        print(\"Binary representation: \", format(bits, '015b'))\n",
        "\n",
        "\n",
        "    elif tensor.dtype==torch.bfloat16:\n",
        "        bits = tensor.view(torch.int16).item()\n",
        "        binary_repr = bin(bits)\n",
        "        print(\"Binary: \", binary_repr)\n",
        "        print(\"Binary representation: \", format(bits, '015b'))\n",
        "\n",
        "\n",
        "    elif tensor.dtype==torch.int8:\n",
        "        bits = tensor.view(torch.int8).item()\n",
        "        binary_repr = bin(bits)\n",
        "        print(\"Binary: \", binary_repr)\n",
        "        print(\"Binary representation: \", format(bits, '07b'))\n"
      ]
    },
    {
      "cell_type": "markdown",
      "id": "9afdb8e5-d7fe-47aa-b568-eb9be0b94818",
      "metadata": {
        "id": "9afdb8e5-d7fe-47aa-b568-eb9be0b94818"
      },
      "source": [
        "### dtype conversions"
      ]
    },
    {
      "cell_type": "code",
      "execution_count": 6,
      "id": "17cae21d-466b-40fa-83f9-08a0f20f59f5",
      "metadata": {
        "id": "17cae21d-466b-40fa-83f9-08a0f20f59f5"
      },
      "outputs": [],
      "source": [
        "def convert_to_fp32(value):\n",
        "    tensor = torch.tensor(value)\n",
        "    float32_tensor = tensor.float()\n",
        "    print(float32_tensor.dtype)\n",
        "    show_memory_comsumption(float32_tensor)\n",
        "    show_binary_tensor_values(float32_tensor)\n",
        "    return float32_tensor\n",
        "\n",
        "def convert_to_fp16(value):\n",
        "    tensor = torch.tensor(value)\n",
        "    float16_tensor = tensor.half()\n",
        "    show_memory_comsumption(float16_tensor)\n",
        "    show_binary_tensor_values(float16_tensor)\n",
        "    return float16_tensor\n",
        "\n",
        "def convert_to_bfloat16(value):\n",
        "    tensor = torch.tensor(value)\n",
        "    bfloat16_tensor = tensor.bfloat16()\n",
        "    show_memory_comsumption(bfloat16_tensor)\n",
        "    show_binary_tensor_values(bfloat16_tensor)\n",
        "    return bfloat16_tensor\n",
        "\n",
        "def convert_to_int8(value):\n",
        "    tensor = torch.tensor(value)\n",
        "    int8_tensor = tensor.to(torch.int8)\n",
        "    show_memory_comsumption(int8_tensor)\n",
        "    show_binary_tensor_values(int8_tensor)\n",
        "    return int8_tensor"
      ]
    },
    {
      "cell_type": "markdown",
      "id": "e1205524-968f-412c-aee3-4a31516c9083",
      "metadata": {
        "id": "e1205524-968f-412c-aee3-4a31516c9083"
      },
      "source": [
        "# Set real number"
      ]
    },
    {
      "cell_type": "code",
      "execution_count": 7,
      "id": "bcaa69cf-ae31-46af-97f1-846801b58922",
      "metadata": {
        "id": "bcaa69cf-ae31-46af-97f1-846801b58922"
      },
      "outputs": [],
      "source": [
        "#real_number = 3.141592653589793238\n",
        "#real_number = 3.1415926535\n",
        "#real_number = 3.141592\n",
        "real_number = 3.141592\n",
        "#real_number = 500.141592653589793238"
      ]
    },
    {
      "cell_type": "markdown",
      "id": "c3a999c0-ad63-4581-b9f0-881590acd4ce",
      "metadata": {
        "tags": [],
        "id": "c3a999c0-ad63-4581-b9f0-881590acd4ce"
      },
      "source": [
        "# Convert"
      ]
    },
    {
      "cell_type": "code",
      "execution_count": 8,
      "id": "6ba14adc-ce4c-4c24-9a56-154eebda2ee3",
      "metadata": {
        "id": "6ba14adc-ce4c-4c24-9a56-154eebda2ee3"
      },
      "outputs": [],
      "source": [
        "torch.set_printoptions(precision=64)"
      ]
    },
    {
      "cell_type": "markdown",
      "id": "26cc8711-6fb3-4a10-bd5b-1b5a8b6d3552",
      "metadata": {
        "id": "26cc8711-6fb3-4a10-bd5b-1b5a8b6d3552"
      },
      "source": [
        "## FP32"
      ]
    },
    {
      "cell_type": "code",
      "execution_count": 9,
      "id": "d78e32e5-0b5b-4e76-9b77-64f6dba665a5",
      "metadata": {
        "colab": {
          "base_uri": "https://localhost:8080/"
        },
        "id": "d78e32e5-0b5b-4e76-9b77-64f6dba665a5",
        "outputId": "ef65f723-5c8a-45a2-b9e6-c6e8b34b445e"
      },
      "outputs": [
        {
          "output_type": "execute_result",
          "data": {
            "text/plain": [
              "finfo(resolution=1e-06, min=-3.40282e+38, max=3.40282e+38, eps=1.19209e-07, smallest_normal=1.17549e-38, tiny=1.17549e-38, dtype=float32)"
            ]
          },
          "metadata": {},
          "execution_count": 9
        }
      ],
      "source": [
        "torch.finfo(torch.float32)"
      ]
    },
    {
      "cell_type": "code",
      "source": [
        "torch.finfo(torch.float64)"
      ],
      "metadata": {
        "colab": {
          "base_uri": "https://localhost:8080/"
        },
        "id": "kv5sw0LDN1_V",
        "outputId": "8e3138bc-3fd9-4d39-c329-70d1137b53d0"
      },
      "id": "kv5sw0LDN1_V",
      "execution_count": 15,
      "outputs": [
        {
          "output_type": "execute_result",
          "data": {
            "text/plain": [
              "finfo(resolution=1e-15, min=-1.79769e+308, max=1.79769e+308, eps=2.22045e-16, smallest_normal=2.22507e-308, tiny=2.22507e-308, dtype=float64)"
            ]
          },
          "metadata": {},
          "execution_count": 15
        }
      ]
    },
    {
      "cell_type": "code",
      "execution_count": 10,
      "id": "1df2e2bf-92c7-4cfc-ae88-e1dc14fdb22a",
      "metadata": {
        "id": "1df2e2bf-92c7-4cfc-ae88-e1dc14fdb22a"
      },
      "outputs": [],
      "source": [
        "float64_test = torch.tensor(real_number, dtype=torch.float64)\n",
        "float32_test = torch.tensor(real_number, dtype=torch.float32)"
      ]
    },
    {
      "cell_type": "code",
      "execution_count": 11,
      "id": "6ac756f5-1dc3-40ab-be25-7f51608fb8ef",
      "metadata": {
        "colab": {
          "base_uri": "https://localhost:8080/"
        },
        "id": "6ac756f5-1dc3-40ab-be25-7f51608fb8ef",
        "outputId": "fdb24014-e669-46be-a123-84bfa4b39f9e"
      },
      "outputs": [
        {
          "output_type": "stream",
          "name": "stdout",
          "text": [
            "3.141592\n",
            "3.141592025756836\n"
          ]
        }
      ],
      "source": [
        "print(float64_test.item())\n",
        "print(float32_test.item())"
      ]
    },
    {
      "cell_type": "code",
      "source": [
        "t = \"1415920000000001621742740098852664232254028320312500000000000000\"\n",
        "len(t)"
      ],
      "metadata": {
        "colab": {
          "base_uri": "https://localhost:8080/"
        },
        "id": "69G8nx4KM_5M",
        "outputId": "d08fb897-ac24-499f-cfa8-8822117184b7"
      },
      "id": "69G8nx4KM_5M",
      "execution_count": 12,
      "outputs": [
        {
          "output_type": "execute_result",
          "data": {
            "text/plain": [
              "64"
            ]
          },
          "metadata": {},
          "execution_count": 12
        }
      ]
    },
    {
      "cell_type": "code",
      "execution_count": 13,
      "id": "570d7ac6-5fe4-408f-91f7-01a0ff7ed928",
      "metadata": {
        "colab": {
          "base_uri": "https://localhost:8080/"
        },
        "id": "570d7ac6-5fe4-408f-91f7-01a0ff7ed928",
        "outputId": "8dd0f702-a37b-4ae9-8b5e-43e748aa3ab6"
      },
      "outputs": [
        {
          "output_type": "execute_result",
          "data": {
            "text/plain": [
              "tensor(3.1415920000000001621742740098852664232254028320312500000000000000,\n",
              "       dtype=torch.float64)"
            ]
          },
          "metadata": {},
          "execution_count": 13
        }
      ],
      "source": [
        "float64_test"
      ]
    },
    {
      "cell_type": "code",
      "execution_count": 14,
      "id": "860c7522-1152-48e0-9288-a1830aef83ea",
      "metadata": {
        "colab": {
          "base_uri": "https://localhost:8080/"
        },
        "id": "860c7522-1152-48e0-9288-a1830aef83ea",
        "outputId": "359ef285-7155-4e9d-b748-7945ee81ed6f"
      },
      "outputs": [
        {
          "output_type": "execute_result",
          "data": {
            "text/plain": [
              "tensor(3.1415920257568359375000000000000000000000000000000000000000000000)"
            ]
          },
          "metadata": {},
          "execution_count": 14
        }
      ],
      "source": [
        "float32_test"
      ]
    },
    {
      "cell_type": "code",
      "execution_count": null,
      "id": "c21d4ae4-6bd9-4e48-9241-36a379fe46d4",
      "metadata": {
        "id": "c21d4ae4-6bd9-4e48-9241-36a379fe46d4",
        "outputId": "fc5995f3-c2df-49b1-cecf-eb378697456e"
      },
      "outputs": [
        {
          "name": "stdout",
          "output_type": "stream",
          "text": [
            "torch.float32\n",
            "Tensor memory consumption: 4 bytes\n",
            "Binary:  0b1000000010010010000111111011000\n",
            "Binary representation:  1000000010010010000111111011000\n",
            "FP32 value: 3.141592025756836 tensor(3.1415920257568359375000000000000000000000000000000000000000000000)\n"
          ]
        }
      ],
      "source": [
        "# Convert to FP32\n",
        "fp32_number = convert_to_fp32(real_number)\n",
        "print(\"FP32 value:\", fp32_number.item(), fp32_number)\n",
        "\n",
        "# # Convert back to real number\n",
        "# real_number_from_fp32 = float(fp32_number)\n",
        "# print(\"Real number from FP32:\", real_number_from_fp32)"
      ]
    },
    {
      "cell_type": "markdown",
      "id": "4435a3b8-fe78-4da4-a35f-14caf5631b39",
      "metadata": {
        "tags": [],
        "id": "4435a3b8-fe78-4da4-a35f-14caf5631b39"
      },
      "source": [
        "## FP16"
      ]
    },
    {
      "cell_type": "code",
      "execution_count": null,
      "id": "a2d45b00-05e3-4530-a2ca-034a1e7b84b5",
      "metadata": {
        "id": "a2d45b00-05e3-4530-a2ca-034a1e7b84b5",
        "outputId": "f37ffc79-be08-430c-eb6d-eafde09ec98c"
      },
      "outputs": [
        {
          "data": {
            "text/plain": [
              "finfo(resolution=0.001, min=-65504, max=65504, eps=0.000976562, smallest_normal=6.10352e-05, tiny=6.10352e-05, dtype=float16)"
            ]
          },
          "execution_count": 15,
          "metadata": {},
          "output_type": "execute_result"
        }
      ],
      "source": [
        "torch.finfo(torch.float16)"
      ]
    },
    {
      "cell_type": "code",
      "execution_count": null,
      "id": "7966bf4f-98dd-4826-904d-818fa9be7d57",
      "metadata": {
        "id": "7966bf4f-98dd-4826-904d-818fa9be7d57",
        "outputId": "ae292fc2-68cc-429a-b780-a2d1efe905c4"
      },
      "outputs": [
        {
          "name": "stdout",
          "output_type": "stream",
          "text": [
            "Tensor memory consumption: 2 bytes\n",
            "Binary:  0b100001001001000\n",
            "Binary representation:  100001001001000\n",
            "FP16 value: 3.140625 tensor(3.1406250000000000000000000000000000000000000000000000000000000000,\n",
            "       dtype=torch.float16)\n"
          ]
        }
      ],
      "source": [
        "# Convert to FP16\n",
        "fp16_number = convert_to_fp16(real_number)\n",
        "print(\"FP16 value:\", fp16_number.item(), fp16_number)\n",
        "\n",
        "# # Convert back to real number\n",
        "# real_number_from_fp16 = float(fp16_number)\n",
        "# print(\"Real number from FP16:\", real_number_from_fp16)"
      ]
    },
    {
      "cell_type": "markdown",
      "id": "fea898fa-9804-4cd8-9c98-60b2ab5cefa0",
      "metadata": {
        "id": "fea898fa-9804-4cd8-9c98-60b2ab5cefa0"
      },
      "source": [
        "## INT8"
      ]
    },
    {
      "cell_type": "code",
      "execution_count": null,
      "id": "1bae2c2a-f5d6-48e1-b9bc-32abb641e95c",
      "metadata": {
        "id": "1bae2c2a-f5d6-48e1-b9bc-32abb641e95c",
        "outputId": "5db0649a-ad48-4621-a117-eebec5446d77"
      },
      "outputs": [
        {
          "data": {
            "text/plain": [
              "iinfo(min=-128, max=127, dtype=int8)"
            ]
          },
          "execution_count": 17,
          "metadata": {},
          "output_type": "execute_result"
        }
      ],
      "source": [
        "torch.iinfo(torch.int8)"
      ]
    },
    {
      "cell_type": "code",
      "execution_count": null,
      "id": "a8dc9866-dd8f-4d3b-b79e-0fca4fc91667",
      "metadata": {
        "id": "a8dc9866-dd8f-4d3b-b79e-0fca4fc91667",
        "outputId": "f7cdcd20-9fad-4e0c-a519-d0502d0f91cf"
      },
      "outputs": [
        {
          "name": "stdout",
          "output_type": "stream",
          "text": [
            "Tensor memory consumption: 1 bytes\n",
            "Binary:  0b11\n",
            "Binary representation:  0000011\n",
            "INT8 value: 3 tensor(3, dtype=torch.int8)\n"
          ]
        }
      ],
      "source": [
        "# Convert to INT8\n",
        "int8_number = convert_to_int8(real_number)\n",
        "print(\"INT8 value:\", int8_number.item(),int8_number)"
      ]
    },
    {
      "cell_type": "markdown",
      "id": "adfe1eb5-884f-4b5f-badc-6d464fecd1ca",
      "metadata": {
        "id": "adfe1eb5-884f-4b5f-badc-6d464fecd1ca"
      },
      "source": [
        "## BFLOAT16"
      ]
    },
    {
      "cell_type": "code",
      "execution_count": null,
      "id": "75e0f878-15c2-42bd-bbd7-6e99cbc9da89",
      "metadata": {
        "id": "75e0f878-15c2-42bd-bbd7-6e99cbc9da89",
        "outputId": "25faf622-a874-407f-c751-4a75d86fbb31"
      },
      "outputs": [
        {
          "data": {
            "text/plain": [
              "finfo(resolution=0.01, min=-3.38953e+38, max=3.38953e+38, eps=0.0078125, smallest_normal=1.17549e-38, tiny=1.17549e-38, dtype=bfloat16)"
            ]
          },
          "execution_count": 19,
          "metadata": {},
          "output_type": "execute_result"
        }
      ],
      "source": [
        "torch.finfo(torch.bfloat16)"
      ]
    },
    {
      "cell_type": "code",
      "execution_count": null,
      "id": "c44c9546-dbe0-42b7-ae05-f4df375e1257",
      "metadata": {
        "tags": [],
        "id": "c44c9546-dbe0-42b7-ae05-f4df375e1257",
        "outputId": "701353ec-16b4-4f15-b205-2a1e2aaceb83"
      },
      "outputs": [
        {
          "name": "stdout",
          "output_type": "stream",
          "text": [
            "Tensor memory consumption: 2 bytes\n",
            "Binary:  0b100000001001001\n",
            "Binary representation:  100000001001001\n",
            "BFLOAT16 value: 3.140625 tensor(3.1406250000000000000000000000000000000000000000000000000000000000,\n",
            "       dtype=torch.bfloat16)\n"
          ]
        }
      ],
      "source": [
        "# Convert to BFLOAT16\n",
        "bfloat16_number = convert_to_bfloat16(real_number)\n",
        "print(\"BFLOAT16 value:\", bfloat16_number.item(), bfloat16_number)\n",
        "\n",
        "# # Convert back to real number\n",
        "# real_number_from_bfloat16 = float(bfloat16_number)\n",
        "# print(\"Real number from BFLOAT16:\", real_number_from_bfloat16)"
      ]
    },
    {
      "cell_type": "code",
      "execution_count": null,
      "id": "63a4f27e-6014-4b9c-9026-80ef87cd26f1",
      "metadata": {
        "id": "63a4f27e-6014-4b9c-9026-80ef87cd26f1"
      },
      "outputs": [],
      "source": []
    }
  ],
  "metadata": {
    "availableInstances": [
      {
        "_defaultOrder": 0,
        "_isFastLaunch": true,
        "category": "General purpose",
        "gpuNum": 0,
        "hideHardwareSpecs": false,
        "memoryGiB": 4,
        "name": "ml.t3.medium",
        "vcpuNum": 2
      },
      {
        "_defaultOrder": 1,
        "_isFastLaunch": false,
        "category": "General purpose",
        "gpuNum": 0,
        "hideHardwareSpecs": false,
        "memoryGiB": 8,
        "name": "ml.t3.large",
        "vcpuNum": 2
      },
      {
        "_defaultOrder": 2,
        "_isFastLaunch": false,
        "category": "General purpose",
        "gpuNum": 0,
        "hideHardwareSpecs": false,
        "memoryGiB": 16,
        "name": "ml.t3.xlarge",
        "vcpuNum": 4
      },
      {
        "_defaultOrder": 3,
        "_isFastLaunch": false,
        "category": "General purpose",
        "gpuNum": 0,
        "hideHardwareSpecs": false,
        "memoryGiB": 32,
        "name": "ml.t3.2xlarge",
        "vcpuNum": 8
      },
      {
        "_defaultOrder": 4,
        "_isFastLaunch": true,
        "category": "General purpose",
        "gpuNum": 0,
        "hideHardwareSpecs": false,
        "memoryGiB": 8,
        "name": "ml.m5.large",
        "vcpuNum": 2
      },
      {
        "_defaultOrder": 5,
        "_isFastLaunch": false,
        "category": "General purpose",
        "gpuNum": 0,
        "hideHardwareSpecs": false,
        "memoryGiB": 16,
        "name": "ml.m5.xlarge",
        "vcpuNum": 4
      },
      {
        "_defaultOrder": 6,
        "_isFastLaunch": false,
        "category": "General purpose",
        "gpuNum": 0,
        "hideHardwareSpecs": false,
        "memoryGiB": 32,
        "name": "ml.m5.2xlarge",
        "vcpuNum": 8
      },
      {
        "_defaultOrder": 7,
        "_isFastLaunch": false,
        "category": "General purpose",
        "gpuNum": 0,
        "hideHardwareSpecs": false,
        "memoryGiB": 64,
        "name": "ml.m5.4xlarge",
        "vcpuNum": 16
      },
      {
        "_defaultOrder": 8,
        "_isFastLaunch": false,
        "category": "General purpose",
        "gpuNum": 0,
        "hideHardwareSpecs": false,
        "memoryGiB": 128,
        "name": "ml.m5.8xlarge",
        "vcpuNum": 32
      },
      {
        "_defaultOrder": 9,
        "_isFastLaunch": false,
        "category": "General purpose",
        "gpuNum": 0,
        "hideHardwareSpecs": false,
        "memoryGiB": 192,
        "name": "ml.m5.12xlarge",
        "vcpuNum": 48
      },
      {
        "_defaultOrder": 10,
        "_isFastLaunch": false,
        "category": "General purpose",
        "gpuNum": 0,
        "hideHardwareSpecs": false,
        "memoryGiB": 256,
        "name": "ml.m5.16xlarge",
        "vcpuNum": 64
      },
      {
        "_defaultOrder": 11,
        "_isFastLaunch": false,
        "category": "General purpose",
        "gpuNum": 0,
        "hideHardwareSpecs": false,
        "memoryGiB": 384,
        "name": "ml.m5.24xlarge",
        "vcpuNum": 96
      },
      {
        "_defaultOrder": 12,
        "_isFastLaunch": false,
        "category": "General purpose",
        "gpuNum": 0,
        "hideHardwareSpecs": false,
        "memoryGiB": 8,
        "name": "ml.m5d.large",
        "vcpuNum": 2
      },
      {
        "_defaultOrder": 13,
        "_isFastLaunch": false,
        "category": "General purpose",
        "gpuNum": 0,
        "hideHardwareSpecs": false,
        "memoryGiB": 16,
        "name": "ml.m5d.xlarge",
        "vcpuNum": 4
      },
      {
        "_defaultOrder": 14,
        "_isFastLaunch": false,
        "category": "General purpose",
        "gpuNum": 0,
        "hideHardwareSpecs": false,
        "memoryGiB": 32,
        "name": "ml.m5d.2xlarge",
        "vcpuNum": 8
      },
      {
        "_defaultOrder": 15,
        "_isFastLaunch": false,
        "category": "General purpose",
        "gpuNum": 0,
        "hideHardwareSpecs": false,
        "memoryGiB": 64,
        "name": "ml.m5d.4xlarge",
        "vcpuNum": 16
      },
      {
        "_defaultOrder": 16,
        "_isFastLaunch": false,
        "category": "General purpose",
        "gpuNum": 0,
        "hideHardwareSpecs": false,
        "memoryGiB": 128,
        "name": "ml.m5d.8xlarge",
        "vcpuNum": 32
      },
      {
        "_defaultOrder": 17,
        "_isFastLaunch": false,
        "category": "General purpose",
        "gpuNum": 0,
        "hideHardwareSpecs": false,
        "memoryGiB": 192,
        "name": "ml.m5d.12xlarge",
        "vcpuNum": 48
      },
      {
        "_defaultOrder": 18,
        "_isFastLaunch": false,
        "category": "General purpose",
        "gpuNum": 0,
        "hideHardwareSpecs": false,
        "memoryGiB": 256,
        "name": "ml.m5d.16xlarge",
        "vcpuNum": 64
      },
      {
        "_defaultOrder": 19,
        "_isFastLaunch": false,
        "category": "General purpose",
        "gpuNum": 0,
        "hideHardwareSpecs": false,
        "memoryGiB": 384,
        "name": "ml.m5d.24xlarge",
        "vcpuNum": 96
      },
      {
        "_defaultOrder": 20,
        "_isFastLaunch": false,
        "category": "General purpose",
        "gpuNum": 0,
        "hideHardwareSpecs": true,
        "memoryGiB": 0,
        "name": "ml.geospatial.interactive",
        "supportedImageNames": [
          "sagemaker-geospatial-v1-0"
        ],
        "vcpuNum": 0
      },
      {
        "_defaultOrder": 21,
        "_isFastLaunch": true,
        "category": "Compute optimized",
        "gpuNum": 0,
        "hideHardwareSpecs": false,
        "memoryGiB": 4,
        "name": "ml.c5.large",
        "vcpuNum": 2
      },
      {
        "_defaultOrder": 22,
        "_isFastLaunch": false,
        "category": "Compute optimized",
        "gpuNum": 0,
        "hideHardwareSpecs": false,
        "memoryGiB": 8,
        "name": "ml.c5.xlarge",
        "vcpuNum": 4
      },
      {
        "_defaultOrder": 23,
        "_isFastLaunch": false,
        "category": "Compute optimized",
        "gpuNum": 0,
        "hideHardwareSpecs": false,
        "memoryGiB": 16,
        "name": "ml.c5.2xlarge",
        "vcpuNum": 8
      },
      {
        "_defaultOrder": 24,
        "_isFastLaunch": false,
        "category": "Compute optimized",
        "gpuNum": 0,
        "hideHardwareSpecs": false,
        "memoryGiB": 32,
        "name": "ml.c5.4xlarge",
        "vcpuNum": 16
      },
      {
        "_defaultOrder": 25,
        "_isFastLaunch": false,
        "category": "Compute optimized",
        "gpuNum": 0,
        "hideHardwareSpecs": false,
        "memoryGiB": 72,
        "name": "ml.c5.9xlarge",
        "vcpuNum": 36
      },
      {
        "_defaultOrder": 26,
        "_isFastLaunch": false,
        "category": "Compute optimized",
        "gpuNum": 0,
        "hideHardwareSpecs": false,
        "memoryGiB": 96,
        "name": "ml.c5.12xlarge",
        "vcpuNum": 48
      },
      {
        "_defaultOrder": 27,
        "_isFastLaunch": false,
        "category": "Compute optimized",
        "gpuNum": 0,
        "hideHardwareSpecs": false,
        "memoryGiB": 144,
        "name": "ml.c5.18xlarge",
        "vcpuNum": 72
      },
      {
        "_defaultOrder": 28,
        "_isFastLaunch": false,
        "category": "Compute optimized",
        "gpuNum": 0,
        "hideHardwareSpecs": false,
        "memoryGiB": 192,
        "name": "ml.c5.24xlarge",
        "vcpuNum": 96
      },
      {
        "_defaultOrder": 29,
        "_isFastLaunch": true,
        "category": "Accelerated computing",
        "gpuNum": 1,
        "hideHardwareSpecs": false,
        "memoryGiB": 16,
        "name": "ml.g4dn.xlarge",
        "vcpuNum": 4
      },
      {
        "_defaultOrder": 30,
        "_isFastLaunch": false,
        "category": "Accelerated computing",
        "gpuNum": 1,
        "hideHardwareSpecs": false,
        "memoryGiB": 32,
        "name": "ml.g4dn.2xlarge",
        "vcpuNum": 8
      },
      {
        "_defaultOrder": 31,
        "_isFastLaunch": false,
        "category": "Accelerated computing",
        "gpuNum": 1,
        "hideHardwareSpecs": false,
        "memoryGiB": 64,
        "name": "ml.g4dn.4xlarge",
        "vcpuNum": 16
      },
      {
        "_defaultOrder": 32,
        "_isFastLaunch": false,
        "category": "Accelerated computing",
        "gpuNum": 1,
        "hideHardwareSpecs": false,
        "memoryGiB": 128,
        "name": "ml.g4dn.8xlarge",
        "vcpuNum": 32
      },
      {
        "_defaultOrder": 33,
        "_isFastLaunch": false,
        "category": "Accelerated computing",
        "gpuNum": 4,
        "hideHardwareSpecs": false,
        "memoryGiB": 192,
        "name": "ml.g4dn.12xlarge",
        "vcpuNum": 48
      },
      {
        "_defaultOrder": 34,
        "_isFastLaunch": false,
        "category": "Accelerated computing",
        "gpuNum": 1,
        "hideHardwareSpecs": false,
        "memoryGiB": 256,
        "name": "ml.g4dn.16xlarge",
        "vcpuNum": 64
      },
      {
        "_defaultOrder": 35,
        "_isFastLaunch": false,
        "category": "Accelerated computing",
        "gpuNum": 1,
        "hideHardwareSpecs": false,
        "memoryGiB": 61,
        "name": "ml.p3.2xlarge",
        "vcpuNum": 8
      },
      {
        "_defaultOrder": 36,
        "_isFastLaunch": false,
        "category": "Accelerated computing",
        "gpuNum": 4,
        "hideHardwareSpecs": false,
        "memoryGiB": 244,
        "name": "ml.p3.8xlarge",
        "vcpuNum": 32
      },
      {
        "_defaultOrder": 37,
        "_isFastLaunch": false,
        "category": "Accelerated computing",
        "gpuNum": 8,
        "hideHardwareSpecs": false,
        "memoryGiB": 488,
        "name": "ml.p3.16xlarge",
        "vcpuNum": 64
      },
      {
        "_defaultOrder": 38,
        "_isFastLaunch": false,
        "category": "Accelerated computing",
        "gpuNum": 8,
        "hideHardwareSpecs": false,
        "memoryGiB": 768,
        "name": "ml.p3dn.24xlarge",
        "vcpuNum": 96
      },
      {
        "_defaultOrder": 39,
        "_isFastLaunch": false,
        "category": "Memory Optimized",
        "gpuNum": 0,
        "hideHardwareSpecs": false,
        "memoryGiB": 16,
        "name": "ml.r5.large",
        "vcpuNum": 2
      },
      {
        "_defaultOrder": 40,
        "_isFastLaunch": false,
        "category": "Memory Optimized",
        "gpuNum": 0,
        "hideHardwareSpecs": false,
        "memoryGiB": 32,
        "name": "ml.r5.xlarge",
        "vcpuNum": 4
      },
      {
        "_defaultOrder": 41,
        "_isFastLaunch": false,
        "category": "Memory Optimized",
        "gpuNum": 0,
        "hideHardwareSpecs": false,
        "memoryGiB": 64,
        "name": "ml.r5.2xlarge",
        "vcpuNum": 8
      },
      {
        "_defaultOrder": 42,
        "_isFastLaunch": false,
        "category": "Memory Optimized",
        "gpuNum": 0,
        "hideHardwareSpecs": false,
        "memoryGiB": 128,
        "name": "ml.r5.4xlarge",
        "vcpuNum": 16
      },
      {
        "_defaultOrder": 43,
        "_isFastLaunch": false,
        "category": "Memory Optimized",
        "gpuNum": 0,
        "hideHardwareSpecs": false,
        "memoryGiB": 256,
        "name": "ml.r5.8xlarge",
        "vcpuNum": 32
      },
      {
        "_defaultOrder": 44,
        "_isFastLaunch": false,
        "category": "Memory Optimized",
        "gpuNum": 0,
        "hideHardwareSpecs": false,
        "memoryGiB": 384,
        "name": "ml.r5.12xlarge",
        "vcpuNum": 48
      },
      {
        "_defaultOrder": 45,
        "_isFastLaunch": false,
        "category": "Memory Optimized",
        "gpuNum": 0,
        "hideHardwareSpecs": false,
        "memoryGiB": 512,
        "name": "ml.r5.16xlarge",
        "vcpuNum": 64
      },
      {
        "_defaultOrder": 46,
        "_isFastLaunch": false,
        "category": "Memory Optimized",
        "gpuNum": 0,
        "hideHardwareSpecs": false,
        "memoryGiB": 768,
        "name": "ml.r5.24xlarge",
        "vcpuNum": 96
      },
      {
        "_defaultOrder": 47,
        "_isFastLaunch": false,
        "category": "Accelerated computing",
        "gpuNum": 1,
        "hideHardwareSpecs": false,
        "memoryGiB": 16,
        "name": "ml.g5.xlarge",
        "vcpuNum": 4
      },
      {
        "_defaultOrder": 48,
        "_isFastLaunch": false,
        "category": "Accelerated computing",
        "gpuNum": 1,
        "hideHardwareSpecs": false,
        "memoryGiB": 32,
        "name": "ml.g5.2xlarge",
        "vcpuNum": 8
      },
      {
        "_defaultOrder": 49,
        "_isFastLaunch": false,
        "category": "Accelerated computing",
        "gpuNum": 1,
        "hideHardwareSpecs": false,
        "memoryGiB": 64,
        "name": "ml.g5.4xlarge",
        "vcpuNum": 16
      },
      {
        "_defaultOrder": 50,
        "_isFastLaunch": false,
        "category": "Accelerated computing",
        "gpuNum": 1,
        "hideHardwareSpecs": false,
        "memoryGiB": 128,
        "name": "ml.g5.8xlarge",
        "vcpuNum": 32
      },
      {
        "_defaultOrder": 51,
        "_isFastLaunch": false,
        "category": "Accelerated computing",
        "gpuNum": 1,
        "hideHardwareSpecs": false,
        "memoryGiB": 256,
        "name": "ml.g5.16xlarge",
        "vcpuNum": 64
      },
      {
        "_defaultOrder": 52,
        "_isFastLaunch": false,
        "category": "Accelerated computing",
        "gpuNum": 4,
        "hideHardwareSpecs": false,
        "memoryGiB": 192,
        "name": "ml.g5.12xlarge",
        "vcpuNum": 48
      },
      {
        "_defaultOrder": 53,
        "_isFastLaunch": false,
        "category": "Accelerated computing",
        "gpuNum": 4,
        "hideHardwareSpecs": false,
        "memoryGiB": 384,
        "name": "ml.g5.24xlarge",
        "vcpuNum": 96
      },
      {
        "_defaultOrder": 54,
        "_isFastLaunch": false,
        "category": "Accelerated computing",
        "gpuNum": 8,
        "hideHardwareSpecs": false,
        "memoryGiB": 768,
        "name": "ml.g5.48xlarge",
        "vcpuNum": 192
      },
      {
        "_defaultOrder": 55,
        "_isFastLaunch": false,
        "category": "Accelerated computing",
        "gpuNum": 8,
        "hideHardwareSpecs": false,
        "memoryGiB": 1152,
        "name": "ml.p4d.24xlarge",
        "vcpuNum": 96
      },
      {
        "_defaultOrder": 56,
        "_isFastLaunch": false,
        "category": "Accelerated computing",
        "gpuNum": 8,
        "hideHardwareSpecs": false,
        "memoryGiB": 1152,
        "name": "ml.p4de.24xlarge",
        "vcpuNum": 96
      },
      {
        "_defaultOrder": 57,
        "_isFastLaunch": false,
        "category": "Accelerated computing",
        "gpuNum": 0,
        "hideHardwareSpecs": false,
        "memoryGiB": 32,
        "name": "ml.trn1.2xlarge",
        "vcpuNum": 8
      },
      {
        "_defaultOrder": 58,
        "_isFastLaunch": false,
        "category": "Accelerated computing",
        "gpuNum": 0,
        "hideHardwareSpecs": false,
        "memoryGiB": 512,
        "name": "ml.trn1.32xlarge",
        "vcpuNum": 128
      },
      {
        "_defaultOrder": 59,
        "_isFastLaunch": false,
        "category": "Accelerated computing",
        "gpuNum": 0,
        "hideHardwareSpecs": false,
        "memoryGiB": 512,
        "name": "ml.trn1n.32xlarge",
        "vcpuNum": 128
      }
    ],
    "instance_type": "ml.t3.medium",
    "kernelspec": {
      "display_name": "Python 3 (ipykernel)",
      "language": "python",
      "name": "python3"
    },
    "language_info": {
      "codemirror_mode": {
        "name": "ipython",
        "version": 3
      },
      "file_extension": ".py",
      "mimetype": "text/x-python",
      "name": "python",
      "nbconvert_exporter": "python",
      "pygments_lexer": "ipython3",
      "version": "3.10.13"
    },
    "colab": {
      "provenance": [],
      "include_colab_link": true
    }
  },
  "nbformat": 4,
  "nbformat_minor": 5
}