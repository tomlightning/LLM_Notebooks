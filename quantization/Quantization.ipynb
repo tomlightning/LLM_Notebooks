{
  "nbformat": 4,
  "nbformat_minor": 0,
  "metadata": {
    "colab": {
      "provenance": [],
      "gpuType": "T4",
      "authorship_tag": "ABX9TyMWwHiWtgyCTUu5dU9GC9u5",
      "include_colab_link": true
    },
    "kernelspec": {
      "name": "python3",
      "display_name": "Python 3"
    },
    "language_info": {
      "name": "python"
    },
    "accelerator": "GPU"
  },
  "cells": [
    {
      "cell_type": "markdown",
      "metadata": {
        "id": "view-in-github",
        "colab_type": "text"
      },
      "source": [
        "<a href=\"https://colab.research.google.com/github/olonok69/LLM_Notebooks/blob/main/quantization/Quantization.ipynb\" target=\"_parent\"><img src=\"https://colab.research.google.com/assets/colab-badge.svg\" alt=\"Open In Colab\"/></a>"
      ]
    },
    {
      "cell_type": "code",
      "source": [
        "!pip install -q transformers\n",
        "!pip install accelerate\n",
        "!pip install -i https://pypi.org/simple/ bitsandbytes\n"
      ],
      "metadata": {
        "colab": {
          "base_uri": "https://localhost:8080/"
        },
        "id": "MQSEZ90nHY8e",
        "outputId": "f7e55526-bdfe-4e69-fe17-4e4549b1be8b"
      },
      "execution_count": 1,
      "outputs": [
        {
          "output_type": "stream",
          "name": "stdout",
          "text": [
            "Requirement already satisfied: accelerate in /usr/local/lib/python3.10/dist-packages (0.26.1)\n",
            "Requirement already satisfied: numpy>=1.17 in /usr/local/lib/python3.10/dist-packages (from accelerate) (1.23.5)\n",
            "Requirement already satisfied: packaging>=20.0 in /usr/local/lib/python3.10/dist-packages (from accelerate) (23.2)\n",
            "Requirement already satisfied: psutil in /usr/local/lib/python3.10/dist-packages (from accelerate) (5.9.5)\n",
            "Requirement already satisfied: pyyaml in /usr/local/lib/python3.10/dist-packages (from accelerate) (6.0.1)\n",
            "Requirement already satisfied: torch>=1.10.0 in /usr/local/lib/python3.10/dist-packages (from accelerate) (2.1.0+cu121)\n",
            "Requirement already satisfied: huggingface-hub in /usr/local/lib/python3.10/dist-packages (from accelerate) (0.20.3)\n",
            "Requirement already satisfied: safetensors>=0.3.1 in /usr/local/lib/python3.10/dist-packages (from accelerate) (0.4.1)\n",
            "Requirement already satisfied: filelock in /usr/local/lib/python3.10/dist-packages (from torch>=1.10.0->accelerate) (3.13.1)\n",
            "Requirement already satisfied: typing-extensions in /usr/local/lib/python3.10/dist-packages (from torch>=1.10.0->accelerate) (4.5.0)\n",
            "Requirement already satisfied: sympy in /usr/local/lib/python3.10/dist-packages (from torch>=1.10.0->accelerate) (1.12)\n",
            "Requirement already satisfied: networkx in /usr/local/lib/python3.10/dist-packages (from torch>=1.10.0->accelerate) (3.2.1)\n",
            "Requirement already satisfied: jinja2 in /usr/local/lib/python3.10/dist-packages (from torch>=1.10.0->accelerate) (3.1.3)\n",
            "Requirement already satisfied: fsspec in /usr/local/lib/python3.10/dist-packages (from torch>=1.10.0->accelerate) (2023.6.0)\n",
            "Requirement already satisfied: triton==2.1.0 in /usr/local/lib/python3.10/dist-packages (from torch>=1.10.0->accelerate) (2.1.0)\n",
            "Requirement already satisfied: requests in /usr/local/lib/python3.10/dist-packages (from huggingface-hub->accelerate) (2.31.0)\n",
            "Requirement already satisfied: tqdm>=4.42.1 in /usr/local/lib/python3.10/dist-packages (from huggingface-hub->accelerate) (4.66.1)\n",
            "Requirement already satisfied: MarkupSafe>=2.0 in /usr/local/lib/python3.10/dist-packages (from jinja2->torch>=1.10.0->accelerate) (2.1.4)\n",
            "Requirement already satisfied: charset-normalizer<4,>=2 in /usr/local/lib/python3.10/dist-packages (from requests->huggingface-hub->accelerate) (3.3.2)\n",
            "Requirement already satisfied: idna<4,>=2.5 in /usr/local/lib/python3.10/dist-packages (from requests->huggingface-hub->accelerate) (3.6)\n",
            "Requirement already satisfied: urllib3<3,>=1.21.1 in /usr/local/lib/python3.10/dist-packages (from requests->huggingface-hub->accelerate) (2.0.7)\n",
            "Requirement already satisfied: certifi>=2017.4.17 in /usr/local/lib/python3.10/dist-packages (from requests->huggingface-hub->accelerate) (2023.11.17)\n",
            "Requirement already satisfied: mpmath>=0.19 in /usr/local/lib/python3.10/dist-packages (from sympy->torch>=1.10.0->accelerate) (1.3.0)\n",
            "Looking in indexes: https://pypi.org/simple/\n",
            "Requirement already satisfied: bitsandbytes in /usr/local/lib/python3.10/dist-packages (0.42.0)\n",
            "Requirement already satisfied: scipy in /usr/local/lib/python3.10/dist-packages (from bitsandbytes) (1.11.4)\n",
            "Requirement already satisfied: numpy<1.28.0,>=1.21.6 in /usr/local/lib/python3.10/dist-packages (from scipy->bitsandbytes) (1.23.5)\n"
          ]
        }
      ]
    },
    {
      "cell_type": "code",
      "execution_count": 2,
      "metadata": {
        "id": "7L55X2o4HHgY"
      },
      "outputs": [],
      "source": [
        "import torch\n",
        "\n",
        "def absmax_quantize(X):\n",
        "    # Calculate scale\n",
        "    scale = 127 / torch.max(torch.abs(X))\n",
        "\n",
        "    # Quantize\n",
        "    X_quant = (scale * X).round()\n",
        "\n",
        "    # Dequantize\n",
        "    X_dequant = X_quant / scale\n",
        "\n",
        "    return X_quant.to(torch.int8), X_dequant"
      ]
    },
    {
      "cell_type": "code",
      "source": [
        "def zeropoint_quantize(X):\n",
        "    # Calculate value range (denominator)\n",
        "    x_range = torch.max(X) - torch.min(X)\n",
        "    x_range = 1 if x_range == 0 else x_range\n",
        "\n",
        "    # Calculate scale\n",
        "    scale = 255 / x_range\n",
        "\n",
        "    # Shift by zero-point\n",
        "    zeropoint = (-scale * torch.min(X) - 128).round()\n",
        "\n",
        "    # Scale and round the inputs\n",
        "    X_quant = torch.clip((X * scale + zeropoint).round(), -128, 127)\n",
        "\n",
        "    # Dequantize\n",
        "    X_dequant = (X_quant - zeropoint) / scale\n",
        "\n",
        "    return X_quant.to(torch.int8), X_dequant"
      ],
      "metadata": {
        "id": "MDG0jcUKHWS2"
      },
      "execution_count": 3,
      "outputs": []
    },
    {
      "cell_type": "code",
      "source": [
        "from transformers import AutoModelForCausalLM, AutoTokenizer\n",
        "import torch\n",
        "torch.manual_seed(0)\n",
        "\n",
        "# Set device to CPU for now\n",
        "device = 'cpu'\n",
        "\n",
        "# Load model and tokenizer\n",
        "model_id = 'gpt2'\n",
        "model = AutoModelForCausalLM.from_pretrained(model_id).to(device)\n",
        "tokenizer = AutoTokenizer.from_pretrained(model_id)\n",
        "\n",
        "# Print model size\n",
        "print(f\"Model size: {model.get_memory_footprint():,} bytes\")"
      ],
      "metadata": {
        "colab": {
          "base_uri": "https://localhost:8080/"
        },
        "id": "Gt-ARbesHWP_",
        "outputId": "a67be30d-e8bf-436a-e2c6-2b317555afc3"
      },
      "execution_count": 4,
      "outputs": [
        {
          "output_type": "stream",
          "name": "stdout",
          "text": [
            "Model size: 510,342,192 bytes\n"
          ]
        }
      ]
    },
    {
      "cell_type": "code",
      "source": [
        "# Extract weights of the first layer\n",
        "weights = model.transformer.h[0].attn.c_attn.weight.data\n",
        "print(\"Original weights:\")\n",
        "print(weights)\n",
        "\n",
        "# Quantize layer using absmax quantization\n",
        "weights_abs_quant, _ = absmax_quantize(weights)\n",
        "print(\"\\nAbsmax quantized weights:\")\n",
        "print(weights_abs_quant)\n",
        "\n",
        "# Quantize layer using absmax quantization\n",
        "weights_zp_quant, _ = zeropoint_quantize(weights)\n",
        "print(\"\\nZero-point quantized weights:\")\n",
        "print(weights_zp_quant)"
      ],
      "metadata": {
        "colab": {
          "base_uri": "https://localhost:8080/"
        },
        "id": "lNtLq2LTHWM-",
        "outputId": "999c02f0-d63d-4da6-d349-8f2002a3834e"
      },
      "execution_count": 5,
      "outputs": [
        {
          "output_type": "stream",
          "name": "stdout",
          "text": [
            "Original weights:\n",
            "tensor([[-0.4738, -0.2614, -0.0978,  ...,  0.0513, -0.0584,  0.0250],\n",
            "        [ 0.0874,  0.1473,  0.2387,  ..., -0.0525, -0.0113, -0.0156],\n",
            "        [ 0.0039,  0.0695,  0.3668,  ...,  0.1143,  0.0363, -0.0318],\n",
            "        ...,\n",
            "        [-0.2592, -0.0164,  0.1991,  ...,  0.0095, -0.0516,  0.0319],\n",
            "        [ 0.1517,  0.2170,  0.1043,  ...,  0.0293, -0.0429, -0.0475],\n",
            "        [-0.4100, -0.1924, -0.2400,  ..., -0.0046,  0.0070,  0.0198]])\n",
            "\n",
            "Absmax quantized weights:\n",
            "tensor([[-21, -12,  -4,  ...,   2,  -3,   1],\n",
            "        [  4,   7,  11,  ...,  -2,  -1,  -1],\n",
            "        [  0,   3,  16,  ...,   5,   2,  -1],\n",
            "        ...,\n",
            "        [-12,  -1,   9,  ...,   0,  -2,   1],\n",
            "        [  7,  10,   5,  ...,   1,  -2,  -2],\n",
            "        [-18,  -9, -11,  ...,   0,   0,   1]], dtype=torch.int8)\n",
            "\n",
            "Zero-point quantized weights:\n",
            "tensor([[-20, -11,  -3,  ...,   3,  -2,   2],\n",
            "        [  5,   8,  12,  ...,  -1,   0,   0],\n",
            "        [  1,   4,  18,  ...,   6,   3,   0],\n",
            "        ...,\n",
            "        [-11,   0,  10,  ...,   1,  -1,   2],\n",
            "        [  8,  11,   6,  ...,   2,  -1,  -1],\n",
            "        [-18,  -8, -10,  ...,   1,   1,   2]], dtype=torch.int8)\n"
          ]
        }
      ]
    },
    {
      "cell_type": "code",
      "source": [
        "import numpy as np\n",
        "from copy import deepcopy\n",
        "\n",
        "# Store original weights\n",
        "weights = [param.data.clone() for param in model.parameters()]\n",
        "\n",
        "# Create model to quantize\n",
        "model_abs = deepcopy(model)\n",
        "\n",
        "# Quantize all model weights\n",
        "weights_abs = []\n",
        "for param in model_abs.parameters():\n",
        "    _, dequantized = absmax_quantize(param.data)\n",
        "    param.data = dequantized\n",
        "    weights_abs.append(dequantized)\n",
        "\n",
        "# Create model to quantize\n",
        "model_zp = deepcopy(model)\n",
        "\n",
        "# Quantize all model weights\n",
        "weights_zp = []\n",
        "for param in model_zp.parameters():\n",
        "    _, dequantized = zeropoint_quantize(param.data)\n",
        "    param.data = dequantized\n",
        "    weights_zp.append(dequantized)"
      ],
      "metadata": {
        "id": "e2RThXHlHWJm"
      },
      "execution_count": 6,
      "outputs": []
    },
    {
      "cell_type": "code",
      "source": [
        "import matplotlib.pyplot as plt\n",
        "import matplotlib.ticker as ticker\n",
        "\n",
        "# Flatten weight tensors\n",
        "weights = np.concatenate([t.cpu().numpy().flatten() for t in weights])\n",
        "weights_abs = np.concatenate([t.cpu().numpy().flatten() for t in weights_abs])\n",
        "weights_zp = np.concatenate([t.cpu().numpy().flatten() for t in weights_zp])\n",
        "\n",
        "# Set background style\n",
        "plt.style.use('ggplot')\n",
        "\n",
        "# Create figure and axes\n",
        "fig, axs = plt.subplots(2, figsize=(6,6), dpi=100, sharex=True)\n",
        "\n",
        "# Plot the histograms for original and zero-point weights\n",
        "axs[0].hist(weights, bins=150, alpha=0.5, label='Original weights', color='blue', range=(-2, 2))\n",
        "axs[0].hist(weights_abs, bins=150, alpha=0.5, label='Absmax weights', color='red', range=(-2, 2))\n",
        "\n",
        "# Plot the histograms for original and absmax weights\n",
        "axs[1].hist(weights, bins=150, alpha=0.5, label='Original weights', color='blue', range=(-2, 2))\n",
        "axs[1].hist(weights_zp, bins=150, alpha=0.5, label='Zero-point weights', color='green', range=(-2, 2))\n",
        "\n",
        "# Add grid\n",
        "for ax in axs:\n",
        "    ax.grid(True, linestyle='--', alpha=0.6)\n",
        "\n",
        "# Add legend\n",
        "axs[0].legend()\n",
        "axs[1].legend()\n",
        "\n",
        "# Add title and labels\n",
        "axs[0].set_title('Comparison of Original and Absmax Quantized Weights', fontsize=16)\n",
        "axs[1].set_title('Comparison of Original and Zeropoint Quantized Weights', fontsize=16)\n",
        "\n",
        "for ax in axs:\n",
        "    ax.set_xlabel('Weights', fontsize=14)\n",
        "    ax.set_ylabel('Count', fontsize=14)\n",
        "    ax.yaxis.set_major_formatter(ticker.EngFormatter()) # Make y-ticks more human readable\n",
        "\n",
        "# Improve font\n",
        "plt.rc('font', size=12)\n",
        "\n",
        "plt.tight_layout()\n",
        "plt.show()\n"
      ],
      "metadata": {
        "colab": {
          "base_uri": "https://localhost:8080/",
          "height": 601
        },
        "id": "2qlaZKSLHWGm",
        "outputId": "b42be1e8-1d3d-48e2-e7fa-636b070537c2"
      },
      "execution_count": 7,
      "outputs": [
        {
          "output_type": "display_data",
          "data": {
            "text/plain": [
              "<Figure size 600x600 with 2 Axes>"
            ],
            "image/png": "[encoded data removed]"
          },
          "metadata": {}
        }
      ]
    },
    {
      "cell_type": "code",
      "source": [
        "def generate_text(model, input_text, max_length=50):\n",
        "    input_ids = tokenizer.encode(input_text, return_tensors='pt').to(device)\n",
        "    output = model.generate(inputs=input_ids,\n",
        "                            max_length=max_length,\n",
        "                            do_sample=True,\n",
        "                            top_k=30,\n",
        "                            pad_token_id=tokenizer.eos_token_id,\n",
        "                            attention_mask=input_ids.new_ones(input_ids.shape))\n",
        "    return tokenizer.decode(output[0], skip_special_tokens=True)\n",
        "\n",
        "# Generate text with original and quantized models\n",
        "original_text = generate_text(model, \"I have nothing to offer but blood, toil, tears and sweat\")\n",
        "absmax_text   = generate_text(model_abs, \"I have nothing to offer but blood, toil, tears and sweat\")\n",
        "zp_text       = generate_text(model_zp, \"I have nothing to offer but blood, toil, tears and sweat\")\n",
        "\n",
        "print(f\"Original model:\\n{original_text}\")\n",
        "print(\"-\" * 50)\n",
        "print(f\"Absmax model:\\n{absmax_text}\")\n",
        "print(\"-\" * 50)\n",
        "print(f\"Zeropoint model:\\n{zp_text}\")"
      ],
      "metadata": {
        "colab": {
          "base_uri": "https://localhost:8080/"
        },
        "id": "0oMU2gOVHWDe",
        "outputId": "89830b87-8b75-42ba-a895-72e8959bd529"
      },
      "execution_count": 8,
      "outputs": [
        {
          "output_type": "stream",
          "name": "stdout",
          "text": [
            "Original model:\n",
            "I have nothing to offer but blood, toil, tears and sweat, to the point where I cannot believe I would get rid from an old wound and then be able to look after myself and my family.\n",
            "\n",
            "\"I will tell you that\n",
            "--------------------------------------------------\n",
            "Absmax model:\n",
            "I have nothing to offer but blood, toil, tears and sweat. I'll tell you what, if anything happens to me or the rest of America – I'm going to die. And all you crazy Jews and racists trying to make me the\n",
            "--------------------------------------------------\n",
            "Zeropoint model:\n",
            "I have nothing to offer but blood, toil, tears and sweat to support my family through the hard work of our hard work.\n",
            "\n",
            "My wife, my sons and I all will miss you and I'll miss you forever. - James H\n"
          ]
        }
      ]
    },
    {
      "cell_type": "markdown",
      "source": [
        "## Perplexity\n",
        "\n",
        "it can be used to evaluate how well the model has learned the distribution of the text it was trained on.\n",
        "\n",
        "https://huggingface.co/spaces/evaluate-metric/perplexity#:~:text=Metric%3A%20perplexity&text=It%20is%20defined%20as%20the,co%2Fdocs%2Ftransformers%2Fperplexity"
      ],
      "metadata": {
        "id": "EqNvJbT5Wl1c"
      }
    },
    {
      "cell_type": "code",
      "source": [
        "def calculate_perplexity(model, text):\n",
        "    # Encode the text\n",
        "    encodings = tokenizer(text, return_tensors='pt').to(device)\n",
        "\n",
        "    # Define input_ids and target_ids\n",
        "    input_ids = encodings.input_ids\n",
        "    target_ids = input_ids.clone()\n",
        "\n",
        "    with torch.no_grad():\n",
        "        outputs = model(input_ids, labels=target_ids)\n",
        "\n",
        "    # Loss calculation\n",
        "    neg_log_likelihood = outputs.loss\n",
        "\n",
        "    # Perplexity calculation\n",
        "    ppl = torch.exp(neg_log_likelihood)\n",
        "\n",
        "    return ppl\n",
        "\n",
        "ppl     = calculate_perplexity(model, original_text)\n",
        "ppl_abs = calculate_perplexity(model_abs, absmax_text)\n",
        "ppl_zp  = calculate_perplexity(model_zp, absmax_text)\n",
        "\n",
        "print(f\"Original perplexity: {ppl.item():.2f}\")\n",
        "print(f\"Absmax perplexity:   {ppl_abs.item():.2f}\")\n",
        "print(f\"Zeropoint perplexity: {ppl_zp.item():.2f}\")"
      ],
      "metadata": {
        "colab": {
          "base_uri": "https://localhost:8080/"
        },
        "id": "AMoUmaoeHWAP",
        "outputId": "86daa81e-b43d-4a6a-cd8a-45714b64cbb7"
      },
      "execution_count": 9,
      "outputs": [
        {
          "output_type": "stream",
          "name": "stdout",
          "text": [
            "Original perplexity: 17.58\n",
            "Absmax perplexity:   22.87\n",
            "Zeropoint perplexity: 23.30\n"
          ]
        }
      ]
    },
    {
      "cell_type": "code",
      "source": [
        "from transformers import AutoModelForCausalLM, AutoTokenizer, BitsAndBytesConfig\n",
        "import torch\n",
        "\n",
        "nf4_config = BitsAndBytesConfig(\n",
        "   load_in_4bit=True,\n",
        "   bnb_4bit_quant_type=\"nf4\",\n",
        "   bnb_4bit_use_double_quant=True,\n",
        "   bnb_4bit_compute_dtype=torch.bfloat16\n",
        ")"
      ],
      "metadata": {
        "id": "r0W92qMqKj7L"
      },
      "execution_count": 10,
      "outputs": []
    },
    {
      "cell_type": "code",
      "source": [
        "device = torch.device('cuda' if torch.cuda.is_available() else 'cpu')\n",
        "\n",
        "model_int8 = AutoModelForCausalLM.from_pretrained(model_id,\n",
        "                                             device_map='auto',\n",
        "                                             quantization_config=nf4_config\n",
        "                                             )\n",
        "print(f\"Model size: {model_int8.get_memory_footprint():,} bytes\")"
      ],
      "metadata": {
        "colab": {
          "base_uri": "https://localhost:8080/"
        },
        "id": "fgPBvZJSJWUc",
        "outputId": "5836f75d-aab4-4b74-8da7-4f7732b8d668"
      },
      "execution_count": 11,
      "outputs": [
        {
          "output_type": "stream",
          "name": "stdout",
          "text": [
            "Model size: 134,060,568 bytes\n"
          ]
        }
      ]
    },
    {
      "cell_type": "code",
      "source": [
        "# Generate text with quantized model\n",
        "text_int8 = generate_text(model_int8, \"I have nothing to offer but blood, toil, tears and sweat\")\n",
        "\n",
        "print(f\"Original model:\\n{original_text}\")\n",
        "print(\"-\" * 50)\n",
        "print(f\"LLM.int8() model:\\n{text_int8}\")"
      ],
      "metadata": {
        "colab": {
          "base_uri": "https://localhost:8080/"
        },
        "id": "MDNgN8x3JWRs",
        "outputId": "56ab71cc-7592-4147-cadb-caced37057f8"
      },
      "execution_count": 12,
      "outputs": [
        {
          "output_type": "stream",
          "name": "stdout",
          "text": [
            "Original model:\n",
            "I have nothing to offer but blood, toil, tears and sweat, to the point where I cannot believe I would get rid from an old wound and then be able to look after myself and my family.\n",
            "\n",
            "\"I will tell you that\n",
            "--------------------------------------------------\n",
            "LLM.int8() model:\n",
            "I have nothing to offer but blood, toil, tears and sweat. You don't know what your destiny is to become the king of Babylon. And you know it,\" said the god. \"'I'm not going to make any mistake for you\n"
          ]
        }
      ]
    },
    {
      "cell_type": "code",
      "source": [
        "print(f\"Perplexity (original):   {ppl.item():.2f}\")\n",
        "\n",
        "ppl = calculate_perplexity(model_int8, text_int8)\n",
        "print(f\"Perplexity (LLM.int8()): {ppl.item():.2f}\")"
      ],
      "metadata": {
        "colab": {
          "base_uri": "https://localhost:8080/"
        },
        "id": "nhl0O_kyJWOW",
        "outputId": "eb9fa45b-cdd4-4d90-9c99-ae0d04a8e0b1"
      },
      "execution_count": 13,
      "outputs": [
        {
          "output_type": "stream",
          "name": "stdout",
          "text": [
            "Perplexity (original):   17.58\n",
            "Perplexity (LLM.int8()): 20.20\n"
          ]
        }
      ]
    },
    {
      "cell_type": "code",
      "source": [],
      "metadata": {
        "id": "OpM7XhnjJWLc"
      },
      "execution_count": 13,
      "outputs": []
    },
    {
      "cell_type": "code",
      "source": [],
      "metadata": {
        "id": "s9YwIvoJJWHd"
      },
      "execution_count": 13,
      "outputs": []
    }
  ]
}