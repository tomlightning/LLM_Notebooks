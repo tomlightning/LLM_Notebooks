{
 "cells": [
  {
   "cell_type": "markdown",
   "id": "de37cedb-d7fc-4e28-98a4-c971251a0201",
   "metadata": {},
   "source": [
    "# LLamaindex\n",
    "LlamaIndex is a framework for building context-augmented generative AI applications with LLMs including agents and workflows.\n",
    "\n",
    "https://docs.llamaindex.ai/en/stable/"
   ]
  },
  {
   "cell_type": "code",
   "execution_count": 2,
   "id": "b75912d2-d856-4646-a912-3e3b789096f4",
   "metadata": {},
   "outputs": [],
   "source": [
    "#! pip install \"llama-index==0.11.15\"\n",
    "# !pip install llama-index-embeddings-openai\n",
    "# !pip install llama-index-llms-openai\n",
    "# !pip install llama-index-readers-file\n",
    "# !pip install docx2txt\n",
    "# !pip install python-dotenv"
   ]
  },
  {
   "cell_type": "code",
   "execution_count": 1,
   "id": "fda128d9-7b89-492c-aab1-6181127b8d7a",
   "metadata": {},
   "outputs": [],
   "source": [
    "from dotenv import dotenv_values\n",
    "import os"
   ]
  },
  {
   "cell_type": "code",
   "execution_count": 2,
   "id": "e9db375d-d537-4e27-8799-e171a642a392",
   "metadata": {},
   "outputs": [],
   "source": [
    "# read env file\n",
    "ROOT_DIR = os.getcwd()\n",
    "config = dotenv_values(os.path.join(ROOT_DIR, \"keys\", \".env\"))\n"
   ]
  },
  {
   "cell_type": "code",
   "execution_count": 3,
   "id": "528b43e7-19da-4444-9127-d3128e33aebb",
   "metadata": {},
   "outputs": [],
   "source": [
    "from llama_index.llms.openai import OpenAI\n",
    "from llama_index.embeddings.openai import OpenAIEmbedding\n",
    "\n",
    "# initialize the LLM\n",
    "llm = OpenAI(model=\"gpt-4o\", api_key=config.get(\"OPENAI_API_KEY\"))\n",
    "\n",
    "# initialize the embedding\n",
    "embed_model = OpenAIEmbedding(model=\"text-embedding-ada-002\", api_key=config.get(\"OPENAI_API_KEY\"))"
   ]
  },
  {
   "cell_type": "code",
   "execution_count": 5,
   "id": "bbbb3f5b-613f-4e06-9eda-90563e75fc8f",
   "metadata": {},
   "outputs": [],
   "source": [
    "from llama_index.core import Settings\n",
    "\n",
    "# global settings\n",
    "Settings.llm = llm\n",
    "Settings.embed_model = embed_model"
   ]
  },
  {
   "cell_type": "code",
   "execution_count": 7,
   "id": "3f96dd7e-e944-41dd-873d-5cbee41fbaeb",
   "metadata": {},
   "outputs": [],
   "source": [
    "from llama_index.core import VectorStoreIndex, SimpleDirectoryReader\n",
    "\n",
    "# load documents\n",
    "data = SimpleDirectoryReader(input_dir=os.path.join(ROOT_DIR, \"data\"),required_exts=[\".pdf\"]).load_data()\n",
    "\n",
    "# indexing documents using vector store\n",
    "index = VectorStoreIndex.from_documents(data)"
   ]
  },
  {
   "cell_type": "code",
   "execution_count": 21,
   "id": "25e7a13e-7db9-41a9-809a-86ac8923cae1",
   "metadata": {},
   "outputs": [
    {
     "data": {
      "text/plain": [
       "Document(id_='7fddff88-fdb5-4f12-8537-e3cb5df53534', embedding=None, metadata={'page_label': '2', 'file_name': 'Parser Source 2.pdf', 'file_path': 'D:\\\\repos\\\\llamaindex\\\\data\\\\Parser Source 2.pdf', 'file_type': 'application/pdf', 'file_size': 1930169, 'creation_date': '2024-10-26', 'last_modified_date': '2024-10-25'}, excluded_embed_metadata_keys=['file_name', 'file_type', 'file_size', 'creation_date', 'last_modified_date', 'last_accessed_date'], excluded_llm_metadata_keys=['file_name', 'file_type', 'file_size', 'creation_date', 'last_modified_date', 'last_accessed_date'], relationships={}, text=\"Aardvark Constructions Limited  \\nDate  Company Profile  Company Number  \\n09/08/2024  123456  \\n \\nDate 09/08/2024  AARDVCONST/MCPARTLA -C Page 1 Main Details  \\n Name:  Aardvark Constructions Limited  \\n QuickRef:  AARDVCONST  \\n Country:  United Kingdom  \\n Company Number:  123456  \\n Incorporated:  20/10/2020  \\n Company Type:  Limited by Shares  \\n Company Status:  Active  \\n Dissolved:   \\n Registered Email Address:   \\n \\nPrimary Addresses  \\nRegistered Office:  6 Chancery  Road, London, WC2A 5DP, United Kingdom  \\n \\nAccounting Dates  \\n Last Period End  Current Period End  Last Extended  \\nAccounting Dates:  16/11/2022  16/11/2024  16/11/2022  \\n \\nCompliance Details  \\n Last Signed  Filed  Next Overdue  Last Company \\nData Request  \\nConfirmation Statement:  17/02/2023    17/02/2023  03/03/2023    \\n \\n Last Signed  Filed  Revenue  Next Overdue  \\nAccounts:  16/11/2022  16/11/2022  16/11/2022  16/11/2022  16/11/2024  16/08/2025  \\nApproved by Board:  16/11/2022  16/11/2022      \\n \\nManagement Details  \\n User Grouping:  INVSUBS_CA  \\n File Reference:   \\n Division/Partner:   \\n Managed By:  Caroline McPartland  \\n \\nEmployee Identification \\nNumber:  1  \\nHas Employees:     \\nNumber of Employees:  0  \\nCompany GUID:  12D1442A -7E25 -4031 -B574 -B97E4D73772D  \\nTax Type (Do Not Delete):    \\nNature of Business:    \\nCompany Name Restrictions?:     \\nExemption from name ending \\nwith 'Limited'?:     \\nType of Articles:    \\nRestricted Articles?:     \\nPeriod allowed for the \\npreparation of accounts:  0  \\nSame Day Change of Name?:     \\nReviewer:  Tim Brady  \\nLSL - Company Type:  Holding  \\nFCA Regulated:  Yes  \\nManaged By Email:  cmcpartland@diligent.com  \\nGSV Flag:    \\nCreation Date (audit):  28/05/2024  \\n \\nSigners  \\nMaster Signer 1:    \\nMaster Signer Name 1:    \\nMaster Signer  2:    \\nMaster Signer Name 2:    \\nMaster Signer  3:    \\nEIN:   \\nDE File:    \\nYardi:    \\nCompany Types:    \\nTax Status:    \\nCompany Handling Notes:    \\nTax Designation:    \\nCurrency:   \", mimetype='text/plain', start_char_idx=None, end_char_idx=None, text_template='{metadata_str}\\n\\n{content}', metadata_template='{key}: {value}', metadata_seperator='\\n')"
      ]
     },
     "execution_count": 21,
     "metadata": {},
     "output_type": "execute_result"
    }
   ],
   "source": [
    "data[1]"
   ]
  },
  {
   "cell_type": "code",
   "execution_count": 13,
   "id": "ea349721-c99d-4bcb-aab9-3bf779441fe5",
   "metadata": {},
   "outputs": [
    {
     "name": "stdout",
     "output_type": "stream",
     "text": [
      "The appointments to board positions at Aardvark Constructions Limited include the following:\n",
      "\n",
      "1. Nicole Adams was appointed as Director on 10/09/2020 and later as Alternate Director on 15/03/2023. She resigned from her positions as Director on 31/08/2023 and as Alternate Director, Chief Executive, Company Secretary, Deputy Chief Executive, Designated Member, Directeur Conformité, Director, and Joint Secretary on 14/11/2023.\n",
      "\n",
      "2. Tim Haines was appointed as Director on 13/11/2022.\n",
      "\n",
      "3. ABNB AltBauNeu Baugesellschaft mbH was appointed as Company Secretary on 19/12/2022.\n",
      "\n",
      "4. Trustme was appointed as Managing Member on 30/01/2023.\n",
      "\n",
      "5. Mohammed Malek was appointed as Chair on 31/01/2023 and resigned from his positions as Chair, Chief Executive Officer, and Director on 10/04/2023.\n",
      "\n",
      "6. Gordon Tatun was appointed as Director on 12/10/2023.\n",
      "\n",
      "7. Brian Jenkins was appointed as Director on 29/11/2023.\n"
     ]
    }
   ],
   "source": [
    "\n",
    "# converting vector store to query engine\n",
    "query_engine = index.as_query_engine(similarity_top_k=3)\n",
    "\n",
    "# generating query response\n",
    "response = query_engine.query(\"Appointments Board Positions list with names and other details of Aardvark Constructions Limited\")\n",
    "print(response)"
   ]
  },
  {
   "cell_type": "code",
   "execution_count": 17,
   "id": "89560e48-fe1f-4e6c-8d17-6b9e1ce52ab7",
   "metadata": {},
   "outputs": [
    {
     "name": "stdout",
     "output_type": "stream",
     "text": [
      "Certainly! Here are the main details for Aardvark Constructions Limited:\n",
      "\n",
      "- **Name:** Aardvark Constructions Limited\n",
      "- **Country:** United Kingdom\n",
      "- **Company Number:** 123456\n",
      "- **Incorporated:** 20/10/2020\n",
      "- **Company Type:** Limited by Shares\n",
      "- **Company Status:** Active\n",
      "- **Primary Addresses Registered Office:** 6 Chancery Road, London, WC2A 5DP, United Kingdom\n",
      "- **Accounting Dates:**\n",
      "  - Last Period End: 16/11/2022\n",
      "  - Current Period End: 16/11/2024\n",
      "  - Last Extended: 16/11/2022\n",
      "- **Confirmation Statement:**\n",
      "  - Last Signed: 17/02/2023\n",
      "  - Filed: 17/02/2023\n",
      "  - Next Overdue: 03/03/2023\n"
     ]
    }
   ],
   "source": [
    "from llama_index.core.memory import ChatMemoryBuffer\n",
    "from llama_index.core.chat_engine import CondensePlusContextChatEngine\n",
    "\n",
    "# creating chat memory buffer\n",
    "memory = ChatMemoryBuffer.from_defaults(token_limit=4500)\n",
    "\n",
    "# creating chat engine\n",
    "chat_engine = CondensePlusContextChatEngine.from_defaults(index.as_retriever(),memory=memory,llm=llm)\n",
    "prompt = \"\"\"\n",
    "Provide Main Details of the company Aardvark Constructions Limited. Including following details:\n",
    "Name:\n",
    "Country:\n",
    "Company Number:\n",
    "Incorporated:\n",
    "Company Type:\n",
    "Company Status:\n",
    "Primary Addresses Registered Office:\n",
    "Accounting Dates:\n",
    "Confirmation Statement:\n",
    "\"\"\"\n",
    "# generating chat response\n",
    "response = chat_engine.chat(prompt)\n",
    "print(str(response))"
   ]
  },
  {
   "cell_type": "code",
   "execution_count": 18,
   "id": "cacc5f95-d4fe-422c-8e61-df08dca6ce28",
   "metadata": {},
   "outputs": [
    {
     "name": "stdout",
     "output_type": "stream",
     "text": [
      "From the Management Details of Aardvark Constructions Limited:\n",
      "\n",
      "- **Managed By:** Caroline McPartland\n",
      "- **Managed By Email:** cmcpartland@diligent.com\n"
     ]
    }
   ],
   "source": [
    "prompt = \"\"\"\n",
    "From Management Details extract:\n",
    "Managed By:\n",
    "Managed By Email:\n",
    "\"\"\"\n",
    "response = chat_engine.chat(prompt)\n",
    "print(str(response))"
   ]
  },
  {
   "cell_type": "code",
   "execution_count": 19,
   "id": "cceba081-771c-4717-8a0f-87f4490256d7",
   "metadata": {},
   "outputs": [
    {
     "name": "stdout",
     "output_type": "stream",
     "text": [
      "I'm sorry, but the documents provided do not contain any information about past names of Aardvark Constructions Limited or the periods during which they were used.\n"
     ]
    }
   ],
   "source": [
    "prompt = \"\"\"\n",
    "Past Names of the Company with their period \n",
    "\"\"\"\n",
    "response = chat_engine.chat(prompt)\n",
    "print(str(response))"
   ]
  },
  {
   "cell_type": "code",
   "execution_count": 20,
   "id": "5f2af38e-82ee-418b-ba92-f04d063ff7b7",
   "metadata": {},
   "outputs": [
    {
     "name": "stdout",
     "output_type": "stream",
     "text": [
      "Here is a list of appointments to board positions for Aardvark Constructions Limited, along with the relevant details:\n",
      "\n",
      "1. **Nicole Adams (PRIMARYNM)**\n",
      "   - Position: Director\n",
      "   - Appointment Date: 10/09/2020\n",
      "   - Resignation Date: 31/08/2023\n",
      "\n",
      "2. **Tim Haines (HAINES -T)**\n",
      "   - Position: Director\n",
      "   - Appointment Date: 13/11/2022\n",
      "\n",
      "3. **ABNB AltBauNeu Baugesellschaft mbH (ABNBGERGMB)**\n",
      "   - Position: Company Secretary\n",
      "   - Appointment Date: 19/12/2022\n",
      "\n",
      "4. **Trustme (TRUSTME)**\n",
      "   - Position: Managing Member\n",
      "   - Appointment Date: 30/01/2023\n",
      "\n",
      "5. **Mohammed Malek (MALEK -M)**\n",
      "   - Position: Chair\n",
      "   - Appointment Date: 31/01/2023\n",
      "   - Resignation Date: 10/04/2023\n",
      "\n",
      "6. **Nicole Adams (ADAMS -N)**\n",
      "   - Position: Alternate Director\n",
      "   - Appointment Date: 15/03/2023\n",
      "   - Resignation Date: 14/11/2023\n",
      "\n",
      "7. **Gordon Tatun (TATUN -G)**\n",
      "   - Position: Director\n",
      "   - Appointment Date: 12/10/2023\n",
      "\n",
      "8. **Brian Jenkins (JENKINS -B)**\n",
      "   - Position: Director\n",
      "   - Appointment Date: 29/11/2023\n"
     ]
    }
   ],
   "source": [
    "prompt = \"\"\"\n",
    "Appointments Board Positions list with names and other details\n",
    "\"\"\"\n",
    "response = chat_engine.chat(prompt)\n",
    "print(str(response))"
   ]
  },
  {
   "cell_type": "code",
   "execution_count": null,
   "id": "89fc8d89-31cd-4fe1-8369-87239fdaedf8",
   "metadata": {},
   "outputs": [],
   "source": []
  }
 ],
 "metadata": {
  "kernelspec": {
   "display_name": "Python (llamaindex)",
   "language": "python",
   "name": "llamaindex"
  },
  "language_info": {
   "codemirror_mode": {
    "name": "ipython",
    "version": 3
   },
   "file_extension": ".py",
   "mimetype": "text/x-python",
   "name": "python",
   "nbconvert_exporter": "python",
   "pygments_lexer": "ipython3",
   "version": "3.11.10"
  }
 },
 "nbformat": 4,
 "nbformat_minor": 5
}
