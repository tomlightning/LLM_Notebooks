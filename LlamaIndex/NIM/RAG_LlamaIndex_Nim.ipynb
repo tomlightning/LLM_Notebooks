{
 "cells": [
  {
   "cell_type": "code",
   "execution_count": 2,
   "id": "02dd5023-c6f9-4a41-a7e9-0e855896771c",
   "metadata": {},
   "outputs": [],
   "source": [
    "#! pip install \"llama-index==0.11.15\"\n",
    "# !pip install llama-index-readers-file\n",
    "# !pip install python-dotenv\n",
    "# !pip install llama-index-llms-nvidia\n",
    "# !pip install llama-index-embeddings-nvidia\n"
   ]
  },
  {
   "attachments": {},
   "cell_type": "markdown",
   "id": "0cd07b8b-a164-4a86-97ab-a102ee3a246e",
   "metadata": {},
   "source": [
    "# RAG\n",
    "- RAG is a technique for augmenting LLM knowledge with additional data.\n",
    "- LLMs can reason about wide-ranging topics, but their knowledge is limited to the public data up to a specific point in time that they were trained on.\n",
    "- If you want to build AI applications that can reason about private data or data introduced after a model's cutoff date, you need to augment the knowledge of the model with the specific information it needs.\n",
    "- The process of bringing the appropriate information and inserting it into the model prompt is known as retrieval augmented generation (RAG).\n",
    "\n",
    "# LLamaindex\n",
    "LlamaIndex is a framework for building context-augmented generative AI applications with LLMs including agents and workflows.\n",
    "\n",
    "https://docs.llamaindex.ai/en/stable/\n",
    "\n",
    "# NIM\n",
    "NIM is a set of optimized cloud-native microservices designed to shorten time-to-market and simplify deployment of generative AI models anywhere, across cloud, data center, and GPU-accelerated workstations. It expands the developer pool by abstracting away the complexities of AI model development and packaging for production ‌using industry-standard APIs.\n",
    "\n",
    "https://developer.nvidia.com/blog/nvidia-nim-offers-optimized-inference-microservices-for-deploying-ai-models-at-scale/\n",
    "\n",
    "https://docs.api.nvidia.com/nim/reference/llm-apis\n",
    "\n",
    "![image.png](images/NIM.png)\n",
    "\n",
    " # NVIDIA API Catalog\n",
    " https://docs.api.nvidia.com/\n",
    " \n",
    "- NVIDIA API Catalog is a hosted platform for accessing a wide range of microservices online.\n",
    "- You can test models on the catalog and then export them with an NVIDIA AI Enterprise license for on-premises or cloud deployment\n",
    "\n",
    "# Microsoft Phi3 3.5 128K\n",
    "https://github.com/microsoft/Phi-3CookBook\n",
    "\n",
    "# LLama 3.2 3b Instruct\n",
    "https://huggingface.co/meta-llama/Llama-3.2-3B-Instruct"
   ]
  },
  {
   "cell_type": "code",
   "execution_count": 3,
   "id": "b08428ab-5054-45ba-b1ec-cf2156022c96",
   "metadata": {},
   "outputs": [],
   "source": [
    "from dotenv import dotenv_values\n",
    "import os\n",
    "# read env file\n",
    "ROOT_DIR = os.getcwd()\n",
    "config = dotenv_values(os.path.join(ROOT_DIR, \"keys\", \".env\"))"
   ]
  },
  {
   "cell_type": "code",
   "execution_count": 5,
   "id": "566e2c47-b936-44f4-9f3f-fe7523066bd0",
   "metadata": {},
   "outputs": [],
   "source": [
    "os.environ['NVIDIA_API_KEY'] = config.get('NVIDIA_API_KEY')\n"
   ]
  },
  {
   "cell_type": "markdown",
   "id": "520a5451-8e31-4a08-9ce1-7c3d20bec228",
   "metadata": {},
   "source": [
    "# Meta/llama-3.2-3b-instruct"
   ]
  },
  {
   "cell_type": "code",
   "execution_count": 11,
   "id": "d5c18327-9cb9-4ef7-992b-6749bd523c9b",
   "metadata": {},
   "outputs": [
    {
     "name": "stderr",
     "output_type": "stream",
     "text": [
      "C:\\Users\\User\\.conda\\envs\\llamaindex\\Lib\\site-packages\\llama_index\\llms\\nvidia\\base.py:178: UserWarning: Unable to determine validity of meta/llama-3.2-3b-instruct\n",
      "  warnings.warn(f\"Unable to determine validity of {model_name}\")\n"
     ]
    }
   ],
   "source": [
    "# Settings enables global configuration as a singleton object throughout your application.\n",
    "# Here, it is used to set the LLM, embedding model, and text splitter configurations globally.\n",
    "from llama_index.core import Settings\n",
    "from llama_index.llms.nvidia import NVIDIA\n",
    "\n",
    "# Here we are using meta/llama-3.2-3b-instruct model from API Catalog\n",
    "Settings.llm = NVIDIA(model=\"meta/llama-3.2-3b-instruct\", temperature=0.7)"
   ]
  },
  {
   "cell_type": "code",
   "execution_count": 12,
   "id": "86f89424-519c-4674-a793-036bd2c430c2",
   "metadata": {},
   "outputs": [],
   "source": [
    "from llama_index.embeddings.nvidia import NVIDIAEmbedding\n",
    "Settings.embed_model = NVIDIAEmbedding(model=\"NV-Embed-QA\", truncate=\"END\")\n"
   ]
  },
  {
   "cell_type": "code",
   "execution_count": 8,
   "id": "a8a9caa3-32ce-40eb-bc98-e44e50dc7669",
   "metadata": {},
   "outputs": [],
   "source": [
    "from llama_index.core import VectorStoreIndex, SimpleDirectoryReader\n",
    "\n",
    "# load documents\n",
    "data = SimpleDirectoryReader(input_dir=os.path.join(ROOT_DIR, \"data\"),required_exts=[\".pdf\"]).load_data()\n",
    "\n",
    "# indexing documents using vector store\n",
    "index = VectorStoreIndex.from_documents(data)"
   ]
  },
  {
   "cell_type": "code",
   "execution_count": 27,
   "id": "ffd454bc-06e0-49db-b0c3-96491d914844",
   "metadata": {},
   "outputs": [
    {
     "data": {
      "text/plain": [
       "143"
      ]
     },
     "execution_count": 27,
     "metadata": {},
     "output_type": "execute_result"
    }
   ],
   "source": [
    "len(data)"
   ]
  },
  {
   "cell_type": "code",
   "execution_count": 26,
   "id": "1df0828c-bcb4-424a-975a-f95ead99c67e",
   "metadata": {},
   "outputs": [
    {
     "data": {
      "text/plain": [
       "Document(id_='196e75ec-3152-45b7-af73-3dba128a1976', embedding=None, metadata={'page_label': '2', 'file_name': 'Parser Source 2.pdf', 'file_path': 'D:\\\\repos\\\\llamaindex\\\\data\\\\Parser Source 2.pdf', 'file_type': 'application/pdf', 'file_size': 1930169, 'creation_date': '2024-10-26', 'last_modified_date': '2024-10-25'}, excluded_embed_metadata_keys=['file_name', 'file_type', 'file_size', 'creation_date', 'last_modified_date', 'last_accessed_date'], excluded_llm_metadata_keys=['file_name', 'file_type', 'file_size', 'creation_date', 'last_modified_date', 'last_accessed_date'], relationships={}, text=\"Aardvark Constructions Limited  \\nDate  Company Profile  Company Number  \\n09/08/2024  123456  \\n \\nDate 09/08/2024  AARDVCONST/MCPARTLA -C Page 1 Main Details  \\n Name:  Aardvark Constructions Limited  \\n QuickRef:  AARDVCONST  \\n Country:  United Kingdom  \\n Company Number:  123456  \\n Incorporated:  20/10/2020  \\n Company Type:  Limited by Shares  \\n Company Status:  Active  \\n Dissolved:   \\n Registered Email Address:   \\n \\nPrimary Addresses  \\nRegistered Office:  6 Chancery  Road, London, WC2A 5DP, United Kingdom  \\n \\nAccounting Dates  \\n Last Period End  Current Period End  Last Extended  \\nAccounting Dates:  16/11/2022  16/11/2024  16/11/2022  \\n \\nCompliance Details  \\n Last Signed  Filed  Next Overdue  Last Company \\nData Request  \\nConfirmation Statement:  17/02/2023    17/02/2023  03/03/2023    \\n \\n Last Signed  Filed  Revenue  Next Overdue  \\nAccounts:  16/11/2022  16/11/2022  16/11/2022  16/11/2022  16/11/2024  16/08/2025  \\nApproved by Board:  16/11/2022  16/11/2022      \\n \\nManagement Details  \\n User Grouping:  INVSUBS_CA  \\n File Reference:   \\n Division/Partner:   \\n Managed By:  Caroline McPartland  \\n \\nEmployee Identification \\nNumber:  1  \\nHas Employees:     \\nNumber of Employees:  0  \\nCompany GUID:  12D1442A -7E25 -4031 -B574 -B97E4D73772D  \\nTax Type (Do Not Delete):    \\nNature of Business:    \\nCompany Name Restrictions?:     \\nExemption from name ending \\nwith 'Limited'?:     \\nType of Articles:    \\nRestricted Articles?:     \\nPeriod allowed for the \\npreparation of accounts:  0  \\nSame Day Change of Name?:     \\nReviewer:  Tim Brady  \\nLSL - Company Type:  Holding  \\nFCA Regulated:  Yes  \\nManaged By Email:  cmcpartland@diligent.com  \\nGSV Flag:    \\nCreation Date (audit):  28/05/2024  \\n \\nSigners  \\nMaster Signer 1:    \\nMaster Signer Name 1:    \\nMaster Signer  2:    \\nMaster Signer Name 2:    \\nMaster Signer  3:    \\nEIN:   \\nDE File:    \\nYardi:    \\nCompany Types:    \\nTax Status:    \\nCompany Handling Notes:    \\nTax Designation:    \\nCurrency:   \", mimetype='text/plain', start_char_idx=None, end_char_idx=None, text_template='{metadata_str}\\n\\n{content}', metadata_template='{key}: {value}', metadata_seperator='\\n')"
      ]
     },
     "execution_count": 26,
     "metadata": {},
     "output_type": "execute_result"
    }
   ],
   "source": [
    "data[1]"
   ]
  },
  {
   "cell_type": "code",
   "execution_count": 13,
   "id": "72a1ccfe-82ae-4b01-bd14-702e0b7b0fa8",
   "metadata": {},
   "outputs": [
    {
     "name": "stdout",
     "output_type": "stream",
     "text": [
      "Abbles, James - ABBLES -J - Director - 19/04/2023 - Trainer\n",
      "Abdreatta, Leopoldo - ABDREATT -L - Director - 18/10/2023 - Secretary\n",
      "Adam, Nicole - ADAMS -N - Alternate Director - 04/04/2023 - CFO, Non Executive Director - 10/04/2024\n",
      "Alberts, Stoffel - ALBERTS -S - Company Secretary - 16/12/2022 - Accountant\n",
      "Rutter, Gus - RUTTER -G - Director - 07/03/2024 - Director\n"
     ]
    }
   ],
   "source": [
    "# converting vector store to query engine\n",
    "query_engine = index.as_query_engine(similarity_top_k=3)\n",
    "\n",
    "# generating query response\n",
    "response = query_engine.query(\"Appointments Board Positions list with names and other details of Aardvark Constructions Limited\")\n",
    "print(response)"
   ]
  },
  {
   "cell_type": "code",
   "execution_count": 17,
   "id": "8b701db3-f5eb-4465-9dfc-cb19d3048270",
   "metadata": {},
   "outputs": [
    {
     "name": "stdout",
     "output_type": "stream",
     "text": [
      "Based on the provided documents, here are the Main Details of Aardvark Constructions Limited:\n",
      "\n",
      "* Name: Aardvark Constructions Limited\n",
      "* Country: United Kingdom\n",
      "* Company Number: 123456\n",
      "* Incorporated: 20/10/2020\n",
      "* Company Type: Limited by Shares\n",
      "* Company Status: Active\n",
      "* Primary Addresses Registered Office: 6 Chancery Road, London, WC2A 5DP, United Kingdom\n",
      "* Accounting Dates: Last Period End: 16/11/2022, Current Period End: 16/11/2024\n",
      "* Confirmation Statement: Filed on 17/02/2023, Next Overdue: 03/03/2023\n"
     ]
    }
   ],
   "source": [
    "from llama_index.core.memory import ChatMemoryBuffer\n",
    "from llama_index.core.chat_engine import CondensePlusContextChatEngine\n",
    "\n",
    "# creating chat memory buffer\n",
    "memory = ChatMemoryBuffer.from_defaults(token_limit=4500)\n",
    "\n",
    "# creating chat engine\n",
    "chat_engine = CondensePlusContextChatEngine.from_defaults(index.as_retriever(),memory=memory)\n",
    "prompt = \"\"\"\n",
    "Provide Main Details of the company Aardvark Constructions Limited. Including following details:\n",
    "Name:\n",
    "Country:\n",
    "Company Number:\n",
    "Incorporated:\n",
    "Company Type:\n",
    "Company Status:\n",
    "Primary Addresses Registered Office:\n",
    "Accounting Dates:\n",
    "Confirmation Statement:\n",
    "\"\"\"\n",
    "# generating chat response\n",
    "response = chat_engine.chat(prompt)\n",
    "print(str(response))"
   ]
  },
  {
   "cell_type": "code",
   "execution_count": 18,
   "id": "55762ce7-7c83-43d1-a464-965a500a39e5",
   "metadata": {},
   "outputs": [
    {
     "name": "stdout",
     "output_type": "stream",
     "text": [
      "Based on the Management Details of Aardvark Constructions Limited, here are the extracted details:\n",
      "\n",
      "* Managed By: Caroline McPartland\n",
      "* Managed By Email: cmcpartland@diligent.com\n"
     ]
    }
   ],
   "source": [
    "prompt = \"\"\"\n",
    "From Management Details extract:\n",
    "Managed By:\n",
    "Managed By Email:\n",
    "\"\"\"\n",
    "response = chat_engine.chat(prompt)\n",
    "print(str(response))"
   ]
  },
  {
   "cell_type": "code",
   "execution_count": 19,
   "id": "43334a10-da82-49e8-a824-6ed4c2964604",
   "metadata": {},
   "outputs": [
    {
     "name": "stdout",
     "output_type": "stream",
     "text": [
      "Based on the provided documents, here are the Past Names of the Company with their period:\n",
      "\n",
      "* Diligent Holdings PLC (26/05/2023 - 05/03/2024)\n",
      "* Diligent Holdings LTD (28/02/2023 - 26/05/2023)\n",
      "* Diligent Holdings PLC 2 (08/09/2022 - 28/02/2023)\n",
      "* Diligent Holdings LLC (08/09/2022 - 08/09/2022)\n",
      "* Diligent Holdings PLC 1 (26/02/2002 - 08/09/2022)\n",
      "* Blueprint Holdings Plc (31/01/2002 - 26/02/2002)\n",
      "* KLGH plc (18/06/2001 - 31/01/2002)\n",
      "* Blueprint Investment Holdings Plc (23/04/2001 - 18/06/2001)\n",
      "* BLUEPRINT Ireland Holdings PLC (09/07/1989 - 23/04/2001)\n"
     ]
    }
   ],
   "source": [
    "prompt = \"\"\"\n",
    "Past Names of the Company with their period \n",
    "\"\"\"\n",
    "response = chat_engine.chat(prompt)\n",
    "print(str(response))"
   ]
  },
  {
   "cell_type": "code",
   "execution_count": 20,
   "id": "8edcf1ef-b764-436c-969e-224b265e2fa4",
   "metadata": {},
   "outputs": [
    {
     "name": "stdout",
     "output_type": "stream",
     "text": [
      "Based on the provided documents, here is the list of Appointments to Board Positions:\n",
      "\n",
      "1. Chair:\n",
      "\t* Martin Adams (ADAMS -M) - 03/02/2023 - 09/02/2023\n",
      "\t* Nicole Adams (ADAMS -N) - 09/02/2023 - 22/03/2023\n",
      "\t* Curtis Duncan (DUNCAN -C) - 08/02/2023 - 22/02/2023\n",
      "2. Chief Executive:\n",
      "\t* Mohammed Malek (MALEK -M) - 29/12/2022 - 23/01/2023\n",
      "\t* Martin Adams (ADAMS -M) - 07/02/2023 - 14/02/2023\n",
      "\t* James Abbles (ABBLES -J) - 23/01/2023 - 14/02/2023\n",
      "\t* Brian Stafford (STAFFORD -B) - 28/11/2023 - 09/03/2023\n",
      "\t* Nicole Adams (ADAMS -N) - 22/03/2023 - 31/03/2023\n",
      "3. Deputy Chief Executive:\n",
      "\t* Caroline Ansbach (ANSBACH -C) - 19/01/2023 - 26/01/2023\n",
      "\t* Jack Brady (NBRAD) - 22/02/2023 - Present\n",
      "4. Company Secretary:\n",
      "\t* Rosslyn Adams (ADAMS -R) - 09/03/2023 - Present\n",
      "\t* Paloma Plews (PLEWS -P) - 11/10/2023 - Present\n",
      "\t* Nicole Adams (ADAMS -N) - 09/02/2023 - 22/03/2023\n",
      "5. Chair:\n",
      "\t* Nicole Adams (ADAMS -N) - 09/02/2023 - 14/03/2023\n",
      "\t* Curtis Duncan (DUNCAN -C) - 08/02/2023 - 14/03/2023\n",
      "\t* Jack Brady (NBRAD) - 22/02/2023 - Present\n",
      "6. Director:\n",
      "\t* Roman Abramovich (ABRAMOVI -R) - 11/01/2023 - Present\n",
      "\t* Martin Adams (ADAMS -M) - 28/02/2023 - Present\n",
      "\t* Mohammed Malek (MALEK -M) - 29/12/2022 - 13/02/2023\n",
      "\t* Neil Barlow (BARLOW -N) - 11/12/2023 - Present\n",
      "\t* Willem Director (WILDIR) - 10/01/2024 - Present\n",
      "\t* Susan Boyie (BOYIE -S) - 15/02/2024 - Present\n",
      "7. Assistant Secretary:\n",
      "\t* James Abbles (ABBLES -J) - 23/01/2023 - 30/01/2023\n",
      "\t* John Adams (ADAMS -J) - 03/02/2023 - 07/02/2024\n",
      "\t* Jack Brady (NBRAD) - 22/02/2023 - Present\n",
      "8. Joint Secretary:\n",
      "\t* Mike Ben Evento (BENEVENT -M_1) - 20/01/2023 - Present\n",
      "9. Alternate Director:\n",
      "\t* Alani Foss (FOSS -A) - 05/04/2023 - Present\n"
     ]
    }
   ],
   "source": [
    "prompt = \"\"\"\n",
    "Appointments Board Positions list with names and other details\n",
    "\"\"\"\n",
    "response = chat_engine.chat(prompt)\n",
    "print(str(response))"
   ]
  },
  {
   "cell_type": "markdown",
   "id": "448655fd-f5cb-4266-a793-f24ccd76b56a",
   "metadata": {},
   "source": [
    "# Microsoft  Phi-3-small-128k-instruct"
   ]
  },
  {
   "cell_type": "code",
   "execution_count": 21,
   "id": "520e3187-5b40-44f0-aae1-78ca902151dd",
   "metadata": {},
   "outputs": [],
   "source": [
    "# Here we are using meta/llama-3.2-3b-instruct model from API Catalog\n",
    "Settings.llm = NVIDIA(model=\"microsoft/phi-3-small-128k-instruct\", temperature=0.7)"
   ]
  },
  {
   "cell_type": "code",
   "execution_count": 22,
   "id": "243c7a4a-1603-45d5-9054-2998eb18a204",
   "metadata": {},
   "outputs": [
    {
     "name": "stdout",
     "output_type": "stream",
     "text": [
      " Name: Aardvark Constructions Limited\n",
      "  Country: United Kingdom\n",
      "  Company Number: 123456\n",
      "  Incorporated: 20/10/2020\n",
      "  Company Type: Limited by Shares\n",
      "  Company Status: Active\n",
      "  Primary Addresses Registered Office: 6 Chancery Road, London, WC2A 5DP, United Kingdom\n",
      "  Accounting Dates: Last Period End 16/11/2022, Current Period End 16/11/2024\n"
     ]
    }
   ],
   "source": [
    "from llama_index.core.memory import ChatMemoryBuffer\n",
    "from llama_index.core.chat_engine import CondensePlusContextChatEngine\n",
    "\n",
    "# creating chat memory buffer\n",
    "memory = ChatMemoryBuffer.from_defaults(token_limit=4500)\n",
    "\n",
    "# creating chat engine\n",
    "chat_engine = CondensePlusContextChatEngine.from_defaults(index.as_retriever(),memory=memory)\n",
    "prompt = \"\"\"\n",
    "Provide Main Details of the company Aardvark Constructions Limited. Including following details:\n",
    "Name:\n",
    "Country:\n",
    "Company Number:\n",
    "Incorporated:\n",
    "Company Type:\n",
    "Company Status:\n",
    "Primary Addresses Registered Office:\n",
    "Accounting Dates:\n",
    "Confirmation Statement:\n",
    "\"\"\"\n",
    "# generating chat response\n",
    "response = chat_engine.chat(prompt)\n",
    "print(str(response))"
   ]
  },
  {
   "cell_type": "code",
   "execution_count": 23,
   "id": "5f95b510-14f5-4b13-9514-35413144549c",
   "metadata": {},
   "outputs": [
    {
     "name": "stdout",
     "output_type": "stream",
     "text": [
      " Managed By: Caroline McPartland\n",
      "  Managed By Email: cmcpartland@diligent.com\n"
     ]
    }
   ],
   "source": [
    "prompt = \"\"\"\n",
    "From Management Details extract:\n",
    "Managed By:\n",
    "Managed By Email:\n",
    "\"\"\"\n",
    "response = chat_engine.chat(prompt)\n",
    "print(str(response))"
   ]
  },
  {
   "cell_type": "code",
   "execution_count": 24,
   "id": "0087d1b8-295b-4f75-95ae-43eec1a68656",
   "metadata": {},
   "outputs": [
    {
     "name": "stdout",
     "output_type": "stream",
     "text": [
      " The company had a past name \"Aardvark and Son Ltd\" which was used from 20/10/2021 to 20/10/2022.\n",
      "  The company was previously known as \"Aardvark Construction\" from 20/10/2020 to 20/10/2021.\n",
      "  The company was incorporated as \"Aardvark Constructions Limited\" from 20/10/2020 onwards.\n"
     ]
    }
   ],
   "source": [
    "prompt = \"\"\"\n",
    "Past Names of the Company with their period \n",
    "\"\"\"\n",
    "response = chat_engine.chat(prompt)\n",
    "print(str(response))"
   ]
  },
  {
   "cell_type": "code",
   "execution_count": 25,
   "id": "9b2d8319-4352-4019-af0c-722656559473",
   "metadata": {},
   "outputs": [
    {
     "name": "stdout",
     "output_type": "stream",
     "text": [
      "1. Name: Adams, Martin\n",
      "    Position: Director\n",
      "    Appointed: 15/07/2024\n",
      "    Job Title: Director\n",
      "    Class: A Manager\n",
      "    Secretary: Yes\n",
      " 2. Name: Adams, Nicole\n",
      "    Position: Alternate Director\n",
      "    Appointed: 23/03/2023\n",
      "    Job Title: CFO\n",
      "    Class: A Manager\n",
      " 3. Name: Adams, Rosslyn\n",
      "    Position: Director\n",
      "    Appointed: 13/06/2024\n",
      "    Job Title: Solicitor\n",
      "    Class: A Manager\n",
      " 4. Name: Armstrong, Lance\n",
      "    Position: Alternate Director\n",
      "    Appointed: 14/08/2023\n",
      "    Job Title: Company Director\n",
      "    Class: A Manager\n",
      " 5. Name: Ashcroft, John Peter\n",
      "    Position: Director\n",
      "    Appointed: 16/01/2002\n",
      "    Job Title: Company Director\n",
      "    Class: A Manager\n",
      " 6. Name: Bamford, Malcolm Ernest\n",
      "    Position: Director\n",
      "    Appointed: 11/03/1996\n",
      "    Job Title: Lawyer\n",
      "    Class: A Manager\n",
      " 7. Name: Beynon, Maldwyn\n",
      "    Position: Director\n",
      "    Appointed: 11/11/2023\n",
      "    Job Title: Financial Arranger\n",
      "    Class: A Manager\n",
      " 8. Name: Blake, John\n",
      "    Position: Director\n",
      "    Appointed: 25/09/2002\n",
      "    Job Title: Company Director\n",
      "    Class: A Manager\n",
      " 9. Name: Cooke, Jennifer\n",
      "    Position: Director\n",
      "    Appointed: 12/04/2022\n",
      "    Job Title: Retail Assistant\n",
      "    Class: A Manager\n",
      " 10. Name: Forbes, Colette\n",
      "    Position: Director\n",
      "    Appointed: 08/08/2024\n",
      "    Job Title: Director\n",
      " 11. Name: Sandberg, Maxwell Stephen George\n",
      "    Position: Secretary\n",
      "    Appointed: 09/01/2002\n",
      "    Job Title: Company Secretary\n",
      "    Class: A Manager\n",
      " 12. Name: Macaulay, Alison\n",
      "    Position: Director\n",
      "    Appointed: 15/03/2002\n",
      "    Job Title: Company Director\n",
      "    Class: A Manager\n",
      " 13. Name: Passet, Andreas\n",
      "    Position: Director\n",
      "    Appointed: 31/05/2024\n",
      "    Job Title: Company Director\n",
      " 14. Name: Plews, Paloma\n",
      "    Position: Director\n",
      "    Appointed: 30/03/2023\n",
      "    Job Title: Lawyer\n",
      " 15. Name: Rutter, Gus\n",
      "    Position: Company Secretary\n",
      "    Appointed: 30/04/2024\n",
      "    Job Title: Director\n",
      " 16. Name: Warwick, David Craig\n",
      "    Position: Director\n",
      "    Appointed: 08/10/2001\n",
      "    Job Title: Doctor\n",
      " 17. Name: York, Sarah\n",
      "    Position: Deputy Chair\n",
      "    Appointed: 01/05/2020\n",
      "    Job Title: Head of Financial Crime\n",
      " 18. Name: Abdreatta, Leopoldo\n",
      "    Position: Director\n",
      "    Appointed: 28/01/2020\n",
      "    Resigned: 22/06/2020\n",
      " 19. Name: Abdreatta, Leopoldo\n",
      "    Position: Other Appointment\n",
      "    Appointed: 28/01/2021\n",
      "    Resigned: 14/12/2022\n"
     ]
    }
   ],
   "source": [
    "prompt = \"\"\"\n",
    "Appointments Board Positions list with names and other details\n",
    "\"\"\"\n",
    "response = chat_engine.chat(prompt)\n",
    "print(str(response))"
   ]
  },
  {
   "cell_type": "code",
   "execution_count": null,
   "id": "13cca855-856d-4e48-acf2-d3d6baee2e72",
   "metadata": {},
   "outputs": [],
   "source": []
  }
 ],
 "metadata": {
  "kernelspec": {
   "display_name": "Python (llamaindex)",
   "language": "python",
   "name": "llamaindex"
  },
  "language_info": {
   "codemirror_mode": {
    "name": "ipython",
    "version": 3
   },
   "file_extension": ".py",
   "mimetype": "text/x-python",
   "name": "python",
   "nbconvert_exporter": "python",
   "pygments_lexer": "ipython3",
   "version": "3.11.10"
  }
 },
 "nbformat": 4,
 "nbformat_minor": 5
}
