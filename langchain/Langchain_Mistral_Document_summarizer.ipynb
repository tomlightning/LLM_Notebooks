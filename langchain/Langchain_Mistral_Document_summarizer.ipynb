{
  "nbformat": 4,
  "nbformat_minor": 0,
  "metadata": {
    "colab": {
      "provenance": [],
      "machine_shape": "hm",
      "gpuType": "A100",
      "mount_file_id": "1eZ5X_ZyoqE3tO1WRAGZkIoojBLchKWar",
      "authorship_tag": "ABX9TyN+pZJgwFZO5grsXLAMD21h",
      "include_colab_link": true
    },
    "kernelspec": {
      "name": "python3",
      "display_name": "Python 3"
    },
    "language_info": {
      "name": "python"
    },
    "accelerator": "GPU",
    "widgets": {
      "application/vnd.jupyter.widget-state+json": {
        "30ebcfd7cb3441189e10fe4a9f2316df": {
          "model_module": "@jupyter-widgets/controls",
          "model_name": "HBoxModel",
          "model_module_version": "1.5.0",
          "state": {
            "_dom_classes": [],
            "_model_module": "@jupyter-widgets/controls",
            "_model_module_version": "1.5.0",
            "_model_name": "HBoxModel",
            "_view_count": null,
            "_view_module": "@jupyter-widgets/controls",
            "_view_module_version": "1.5.0",
            "_view_name": "HBoxView",
            "box_style": "",
            "children": [
              "IPY_MODEL_a9750c6b07cb41eb8f2ded32275b59d3",
              "IPY_MODEL_df7cbe3e208d497ba45fe873822a4a79",
              "IPY_MODEL_6eeda88d227c4866b3df661630519d97"
            ],
            "layout": "IPY_MODEL_5c27c11ce3e24bc289aab687757dca7d"
          }
        },
        "a9750c6b07cb41eb8f2ded32275b59d3": {
          "model_module": "@jupyter-widgets/controls",
          "model_name": "HTMLModel",
          "model_module_version": "1.5.0",
          "state": {
            "_dom_classes": [],
            "_model_module": "@jupyter-widgets/controls",
            "_model_module_version": "1.5.0",
            "_model_name": "HTMLModel",
            "_view_count": null,
            "_view_module": "@jupyter-widgets/controls",
            "_view_module_version": "1.5.0",
            "_view_name": "HTMLView",
            "description": "",
            "description_tooltip": null,
            "layout": "IPY_MODEL_8331a92a465041f2b9520175b58b999b",
            "placeholder": "​",
            "style": "IPY_MODEL_132cb06650fa471b806b68e8aec5dde0",
            "value": "Loading checkpoint shards: 100%"
          }
        },
        "df7cbe3e208d497ba45fe873822a4a79": {
          "model_module": "@jupyter-widgets/controls",
          "model_name": "FloatProgressModel",
          "model_module_version": "1.5.0",
          "state": {
            "_dom_classes": [],
            "_model_module": "@jupyter-widgets/controls",
            "_model_module_version": "1.5.0",
            "_model_name": "FloatProgressModel",
            "_view_count": null,
            "_view_module": "@jupyter-widgets/controls",
            "_view_module_version": "1.5.0",
            "_view_name": "ProgressView",
            "bar_style": "success",
            "description": "",
            "description_tooltip": null,
            "layout": "IPY_MODEL_18164d2c929442c3bea02018b8534990",
            "max": 2,
            "min": 0,
            "orientation": "horizontal",
            "style": "IPY_MODEL_e2eda8da65544d25b22221d53d5269b6",
            "value": 2
          }
        },
        "6eeda88d227c4866b3df661630519d97": {
          "model_module": "@jupyter-widgets/controls",
          "model_name": "HTMLModel",
          "model_module_version": "1.5.0",
          "state": {
            "_dom_classes": [],
            "_model_module": "@jupyter-widgets/controls",
            "_model_module_version": "1.5.0",
            "_model_name": "HTMLModel",
            "_view_count": null,
            "_view_module": "@jupyter-widgets/controls",
            "_view_module_version": "1.5.0",
            "_view_name": "HTMLView",
            "description": "",
            "description_tooltip": null,
            "layout": "IPY_MODEL_0c0553ee65a34cb0bb122bbca79f472d",
            "placeholder": "​",
            "style": "IPY_MODEL_41980d5d6e23457f8e5c07337f409dd4",
            "value": " 2/2 [00:08&lt;00:00,  3.82s/it]"
          }
        },
        "5c27c11ce3e24bc289aab687757dca7d": {
          "model_module": "@jupyter-widgets/base",
          "model_name": "LayoutModel",
          "model_module_version": "1.2.0",
          "state": {
            "_model_module": "@jupyter-widgets/base",
            "_model_module_version": "1.2.0",
            "_model_name": "LayoutModel",
            "_view_count": null,
            "_view_module": "@jupyter-widgets/base",
            "_view_module_version": "1.2.0",
            "_view_name": "LayoutView",
            "align_content": null,
            "align_items": null,
            "align_self": null,
            "border": null,
            "bottom": null,
            "display": null,
            "flex": null,
            "flex_flow": null,
            "grid_area": null,
            "grid_auto_columns": null,
            "grid_auto_flow": null,
            "grid_auto_rows": null,
            "grid_column": null,
            "grid_gap": null,
            "grid_row": null,
            "grid_template_areas": null,
            "grid_template_columns": null,
            "grid_template_rows": null,
            "height": null,
            "justify_content": null,
            "justify_items": null,
            "left": null,
            "margin": null,
            "max_height": null,
            "max_width": null,
            "min_height": null,
            "min_width": null,
            "object_fit": null,
            "object_position": null,
            "order": null,
            "overflow": null,
            "overflow_x": null,
            "overflow_y": null,
            "padding": null,
            "right": null,
            "top": null,
            "visibility": null,
            "width": null
          }
        },
        "8331a92a465041f2b9520175b58b999b": {
          "model_module": "@jupyter-widgets/base",
          "model_name": "LayoutModel",
          "model_module_version": "1.2.0",
          "state": {
            "_model_module": "@jupyter-widgets/base",
            "_model_module_version": "1.2.0",
            "_model_name": "LayoutModel",
            "_view_count": null,
            "_view_module": "@jupyter-widgets/base",
            "_view_module_version": "1.2.0",
            "_view_name": "LayoutView",
            "align_content": null,
            "align_items": null,
            "align_self": null,
            "border": null,
            "bottom": null,
            "display": null,
            "flex": null,
            "flex_flow": null,
            "grid_area": null,
            "grid_auto_columns": null,
            "grid_auto_flow": null,
            "grid_auto_rows": null,
            "grid_column": null,
            "grid_gap": null,
            "grid_row": null,
            "grid_template_areas": null,
            "grid_template_columns": null,
            "grid_template_rows": null,
            "height": null,
            "justify_content": null,
            "justify_items": null,
            "left": null,
            "margin": null,
            "max_height": null,
            "max_width": null,
            "min_height": null,
            "min_width": null,
            "object_fit": null,
            "object_position": null,
            "order": null,
            "overflow": null,
            "overflow_x": null,
            "overflow_y": null,
            "padding": null,
            "right": null,
            "top": null,
            "visibility": null,
            "width": null
          }
        },
        "132cb06650fa471b806b68e8aec5dde0": {
          "model_module": "@jupyter-widgets/controls",
          "model_name": "DescriptionStyleModel",
          "model_module_version": "1.5.0",
          "state": {
            "_model_module": "@jupyter-widgets/controls",
            "_model_module_version": "1.5.0",
            "_model_name": "DescriptionStyleModel",
            "_view_count": null,
            "_view_module": "@jupyter-widgets/base",
            "_view_module_version": "1.2.0",
            "_view_name": "StyleView",
            "description_width": ""
          }
        },
        "18164d2c929442c3bea02018b8534990": {
          "model_module": "@jupyter-widgets/base",
          "model_name": "LayoutModel",
          "model_module_version": "1.2.0",
          "state": {
            "_model_module": "@jupyter-widgets/base",
            "_model_module_version": "1.2.0",
            "_model_name": "LayoutModel",
            "_view_count": null,
            "_view_module": "@jupyter-widgets/base",
            "_view_module_version": "1.2.0",
            "_view_name": "LayoutView",
            "align_content": null,
            "align_items": null,
            "align_self": null,
            "border": null,
            "bottom": null,
            "display": null,
            "flex": null,
            "flex_flow": null,
            "grid_area": null,
            "grid_auto_columns": null,
            "grid_auto_flow": null,
            "grid_auto_rows": null,
            "grid_column": null,
            "grid_gap": null,
            "grid_row": null,
            "grid_template_areas": null,
            "grid_template_columns": null,
            "grid_template_rows": null,
            "height": null,
            "justify_content": null,
            "justify_items": null,
            "left": null,
            "margin": null,
            "max_height": null,
            "max_width": null,
            "min_height": null,
            "min_width": null,
            "object_fit": null,
            "object_position": null,
            "order": null,
            "overflow": null,
            "overflow_x": null,
            "overflow_y": null,
            "padding": null,
            "right": null,
            "top": null,
            "visibility": null,
            "width": null
          }
        },
        "e2eda8da65544d25b22221d53d5269b6": {
          "model_module": "@jupyter-widgets/controls",
          "model_name": "ProgressStyleModel",
          "model_module_version": "1.5.0",
          "state": {
            "_model_module": "@jupyter-widgets/controls",
            "_model_module_version": "1.5.0",
            "_model_name": "ProgressStyleModel",
            "_view_count": null,
            "_view_module": "@jupyter-widgets/base",
            "_view_module_version": "1.2.0",
            "_view_name": "StyleView",
            "bar_color": null,
            "description_width": ""
          }
        },
        "0c0553ee65a34cb0bb122bbca79f472d": {
          "model_module": "@jupyter-widgets/base",
          "model_name": "LayoutModel",
          "model_module_version": "1.2.0",
          "state": {
            "_model_module": "@jupyter-widgets/base",
            "_model_module_version": "1.2.0",
            "_model_name": "LayoutModel",
            "_view_count": null,
            "_view_module": "@jupyter-widgets/base",
            "_view_module_version": "1.2.0",
            "_view_name": "LayoutView",
            "align_content": null,
            "align_items": null,
            "align_self": null,
            "border": null,
            "bottom": null,
            "display": null,
            "flex": null,
            "flex_flow": null,
            "grid_area": null,
            "grid_auto_columns": null,
            "grid_auto_flow": null,
            "grid_auto_rows": null,
            "grid_column": null,
            "grid_gap": null,
            "grid_row": null,
            "grid_template_areas": null,
            "grid_template_columns": null,
            "grid_template_rows": null,
            "height": null,
            "justify_content": null,
            "justify_items": null,
            "left": null,
            "margin": null,
            "max_height": null,
            "max_width": null,
            "min_height": null,
            "min_width": null,
            "object_fit": null,
            "object_position": null,
            "order": null,
            "overflow": null,
            "overflow_x": null,
            "overflow_y": null,
            "padding": null,
            "right": null,
            "top": null,
            "visibility": null,
            "width": null
          }
        },
        "41980d5d6e23457f8e5c07337f409dd4": {
          "model_module": "@jupyter-widgets/controls",
          "model_name": "DescriptionStyleModel",
          "model_module_version": "1.5.0",
          "state": {
            "_model_module": "@jupyter-widgets/controls",
            "_model_module_version": "1.5.0",
            "_model_name": "DescriptionStyleModel",
            "_view_count": null,
            "_view_module": "@jupyter-widgets/base",
            "_view_module_version": "1.2.0",
            "_view_name": "StyleView",
            "description_width": ""
          }
        }
      }
    }
  },
  "cells": [
    {
      "cell_type": "markdown",
      "metadata": {
        "id": "view-in-github",
        "colab_type": "text"
      },
      "source": [
        "<a href=\"https://colab.research.google.com/github/olonok69/LLM_Notebooks/blob/main/langchain/Langchain_Mistral_Document_summarizer.ipynb\" target=\"_parent\"><img src=\"https://colab.research.google.com/assets/colab-badge.svg\" alt=\"Open In Colab\"/></a>"
      ]
    },
    {
      "cell_type": "code",
      "execution_count": 1,
      "metadata": {
        "colab": {
          "base_uri": "https://localhost:8080/"
        },
        "id": "e3LFaHkF9AgK",
        "outputId": "185be883-8b50-4e04-e938-8ce777ce0707"
      },
      "outputs": [
        {
          "output_type": "stream",
          "name": "stdout",
          "text": [
            "\u001b[33mWARNING: Running pip as the 'root' user can result in broken permissions and conflicting behaviour with the system package manager. It is recommended to use a virtual environment instead: https://pip.pypa.io/warnings/venv\u001b[0m\u001b[33m\n",
            "\u001b[0m\u001b[33mWARNING: Running pip as the 'root' user can result in broken permissions and conflicting behaviour with the system package manager. It is recommended to use a virtual environment instead: https://pip.pypa.io/warnings/venv\u001b[0m\u001b[33m\n",
            "\u001b[0m\u001b[33mWARNING: Running pip as the 'root' user can result in broken permissions and conflicting behaviour with the system package manager. It is recommended to use a virtual environment instead: https://pip.pypa.io/warnings/venv\u001b[0m\u001b[33m\n",
            "\u001b[0m\u001b[33mWARNING: Running pip as the 'root' user can result in broken permissions and conflicting behaviour with the system package manager. It is recommended to use a virtual environment instead: https://pip.pypa.io/warnings/venv\u001b[0m\u001b[33m\n",
            "\u001b[0m\u001b[33mWARNING: Running pip as the 'root' user can result in broken permissions and conflicting behaviour with the system package manager. It is recommended to use a virtual environment instead: https://pip.pypa.io/warnings/venv\u001b[0m\u001b[33m\n",
            "\u001b[0m"
          ]
        }
      ],
      "source": [
        "\n",
        "\n",
        "!pip install -Uqqq pip --progress-bar off\n",
        "!pip install -qqq torch==2.1 --progress-bar off\n",
        "!pip install -qqq transformers==4.34.0 --progress-bar off\n",
        "!pip install -qqq accelerate==0.23.0 --progress-bar off\n",
        "!pip install -qqq bitsandbytes==0.41.1 --progress-bar off"
      ]
    },
    {
      "cell_type": "code",
      "source": [
        "!pip install sentence-transformers spacy langchain trl datasets pypdf -q"
      ],
      "metadata": {
        "colab": {
          "base_uri": "https://localhost:8080/"
        },
        "id": "veaIAYHJQJCv",
        "outputId": "27094c79-1349-4450-9cbd-5c0a78101c00"
      },
      "execution_count": 2,
      "outputs": [
        {
          "output_type": "stream",
          "name": "stdout",
          "text": [
            "\u001b[?25l   \u001b[90m━━━━━━━━━━━━━━━━━━━━━━━━━━━━━━━━━━━━━━━━\u001b[0m \u001b[32m0.0/284.0 kB\u001b[0m \u001b[31m?\u001b[0m eta \u001b[36m-:--:--\u001b[0m\r\u001b[2K   \u001b[91m━━━━━━━━━━━━━━━━━━━━━━━━━━━━━━━━━━━━━━\u001b[0m\u001b[91m╸\u001b[0m\u001b[90m━\u001b[0m \u001b[32m276.5/284.0 kB\u001b[0m \u001b[31m8.5 MB/s\u001b[0m eta \u001b[36m0:00:01\u001b[0m\r\u001b[2K   \u001b[90m━━━━━━━━━━━━━━━━━━━━━━━━━━━━━━━━━━━━━━━━\u001b[0m \u001b[32m284.0/284.0 kB\u001b[0m \u001b[31m6.1 MB/s\u001b[0m eta \u001b[36m0:00:00\u001b[0m\n",
            "\u001b[?25h\u001b[33mWARNING: Running pip as the 'root' user can result in broken permissions and conflicting behaviour with the system package manager. It is recommended to use a virtual environment instead: https://pip.pypa.io/warnings/venv\u001b[0m\u001b[33m\n",
            "\u001b[0m"
          ]
        }
      ]
    },
    {
      "cell_type": "code",
      "source": [
        "from langchain.text_splitter import SentenceTransformersTokenTextSplitter\n",
        "\n",
        "splitter = SentenceTransformersTokenTextSplitter(chunk_overlap=0)"
      ],
      "metadata": {
        "colab": {
          "base_uri": "https://localhost:8080/"
        },
        "id": "ip_uhu9L9kof",
        "outputId": "83b1cd8f-47bd-4a8e-c7fa-8c3f9e493ca6"
      },
      "execution_count": 3,
      "outputs": [
        {
          "output_type": "stream",
          "name": "stderr",
          "text": [
            "/usr/local/lib/python3.10/dist-packages/torch/_utils.py:831: UserWarning: TypedStorage is deprecated. It will be removed in the future and UntypedStorage will be the only storage class. This should only matter to you if you are using storages directly.  To access UntypedStorage directly, use tensor.untyped_storage() instead of tensor.storage()\n",
            "  return self.fget.__get__(instance, owner)()\n"
          ]
        }
      ]
    },
    {
      "cell_type": "code",
      "source": [
        "from google.colab import drive\n",
        "drive.mount('/content/drive')"
      ],
      "metadata": {
        "colab": {
          "base_uri": "https://localhost:8080/"
        },
        "id": "i6rUNtCzKsyR",
        "outputId": "f2be111a-0e5b-4ab9-af73-3508c1edd72a"
      },
      "execution_count": 4,
      "outputs": [
        {
          "output_type": "stream",
          "name": "stdout",
          "text": [
            "Drive already mounted at /content/drive; to attempt to forcibly remount, call drive.mount(\"/content/drive\", force_remount=True).\n"
          ]
        }
      ]
    },
    {
      "cell_type": "code",
      "source": [
        "file = \"/content/drive/MyDrive/data/text.txt\"\n",
        "with open(file) as f:\n",
        "    text = f.read()"
      ],
      "metadata": {
        "id": "HxPVavEf9klX"
      },
      "execution_count": 5,
      "outputs": []
    },
    {
      "cell_type": "code",
      "source": [
        "count_start_and_stop_tokens = 2\n",
        "text_token_count = splitter.count_tokens(text=text) - count_start_and_stop_tokens\n",
        "\n",
        "token_multiplier = splitter.maximum_tokens_per_chunk // text_token_count + 1\n",
        "text_to_split = text * token_multiplier\n",
        "\n",
        "text_chunks = splitter.split_text(text=text_to_split)\n"
      ],
      "metadata": {
        "id": "XZyth_yb9kiL"
      },
      "execution_count": 6,
      "outputs": []
    },
    {
      "cell_type": "code",
      "source": [
        "text_chunks"
      ],
      "metadata": {
        "colab": {
          "base_uri": "https://localhost:8080/"
        },
        "id": "XBG9-dhi9guK",
        "outputId": "3393b5c7-dc7c-4284-c206-61b0600d9c05"
      },
      "execution_count": 7,
      "outputs": [
        {
          "output_type": "execute_result",
          "data": {
            "text/plain": [
              "['madam speaker, madam vice president, our first lady and second gentleman. members of congress and the cabinet. justices of the supreme court. my fellow americans. last year covid - 19 kept us apart. this year we are finally together again. tonight, we meet as democrats republicans and independents. but most importantly as americans. with a duty to one another to the american people to the constitution. and with an unwavering resolve that freedom will always triumph over tyranny. six days ago, russia ’ s vladimir putin sought to shake the foundations of the free world thinking he could make it bend to his menacing ways. but he badly miscalculated. he thought he could roll into ukraine and the world would roll over. instead he met a wall of strength he never imagined. he met the ukrainian people. from president zelenskyy to every ukrainian, their fearlessness, their courage, their determination, inspires the world. madam speaker, madam vice president, our first lady and second gentleman. members of congress and the cabinet. justices of the supreme court. my fellow americans. last year covid - 19 kept us apart. this year we are finally together again. tonight, we meet as democrats republicans and independents. but most importantly as americans. with a duty to one another to the american people to the constitution. and with an unwavering resolve that freedom will always triumph over tyranny. six days ago, russia ’ s vladimir putin sought to shake the foundations of the free world thinking he could make it bend to his menacing ways. but he badly miscalculated. he thought he could roll into ukraine and the world would roll over. instead he met a wall of strength he never imagined. he met the ukrainian people. from president zelenskyy to every ukrainian, their fearlessness, their courage, their determination, inspires the world. madam speaker, madam vice president',\n",
              " ', our first lady and second gentleman. members of congress and the cabinet. justices of the supreme court. my fellow americans. last year covid - 19 kept us apart. this year we are finally together again. tonight, we meet as democrats republicans and independents. but most importantly as americans. with a duty to one another to the american people to the constitution. and with an unwavering resolve that freedom will always triumph over tyranny. six days ago, russia ’ s vladimir putin sought to shake the foundations of the free world thinking he could make it bend to his menacing ways. but he badly miscalculated. he thought he could roll into ukraine and the world would roll over. instead he met a wall of strength he never imagined. he met the ukrainian people. from president zelenskyy to every ukrainian, their fearlessness, their courage, their determination, inspires the world.']"
            ]
          },
          "metadata": {},
          "execution_count": 7
        }
      ]
    },
    {
      "cell_type": "code",
      "source": [
        "# Import libraries\n",
        "from transformers import AutoModelForCausalLM, AutoTokenizer\n",
        "import torch\n",
        "from langchain.llms import HuggingFacePipeline\n",
        "from langchain.chains import LLMChain\n",
        "from langchain.prompts import PromptTemplate\n",
        "import transformers\n",
        "device = 'cuda' if torch.cuda.is_available() else 'cpu'"
      ],
      "metadata": {
        "id": "NOzbh9bSM4zJ"
      },
      "execution_count": 8,
      "outputs": []
    },
    {
      "cell_type": "code",
      "source": [
        "device"
      ],
      "metadata": {
        "colab": {
          "base_uri": "https://localhost:8080/",
          "height": 36
        },
        "id": "um-qU1-KRO6e",
        "outputId": "fbc9a137-5b5f-49cf-99a4-b47450da7c56"
      },
      "execution_count": 9,
      "outputs": [
        {
          "output_type": "execute_result",
          "data": {
            "text/plain": [
              "'cuda'"
            ],
            "application/vnd.google.colaboratory.intrinsic+json": {
              "type": "string"
            }
          },
          "metadata": {},
          "execution_count": 9
        }
      ]
    },
    {
      "cell_type": "code",
      "source": [
        "model = AutoModelForCausalLM.from_pretrained(\"mistralai/Mistral-7B-Instruct-v0.1\", load_in_4bit=True, device_map='auto')\n",
        "tokenizer = AutoTokenizer.from_pretrained(\"mistralai/Mistral-7B-Instruct-v0.1\")"
      ],
      "metadata": {
        "colab": {
          "base_uri": "https://localhost:8080/",
          "height": 49,
          "referenced_widgets": [
            "30ebcfd7cb3441189e10fe4a9f2316df",
            "a9750c6b07cb41eb8f2ded32275b59d3",
            "df7cbe3e208d497ba45fe873822a4a79",
            "6eeda88d227c4866b3df661630519d97",
            "5c27c11ce3e24bc289aab687757dca7d",
            "8331a92a465041f2b9520175b58b999b",
            "132cb06650fa471b806b68e8aec5dde0",
            "18164d2c929442c3bea02018b8534990",
            "e2eda8da65544d25b22221d53d5269b6",
            "0c0553ee65a34cb0bb122bbca79f472d",
            "41980d5d6e23457f8e5c07337f409dd4"
          ]
        },
        "id": "tQiwrBYFM76m",
        "outputId": "b1e66739-412c-4b1d-a10a-a64ef4c634fb"
      },
      "execution_count": 10,
      "outputs": [
        {
          "output_type": "display_data",
          "data": {
            "text/plain": [
              "Loading checkpoint shards:   0%|          | 0/2 [00:00<?, ?it/s]"
            ],
            "application/vnd.jupyter.widget-view+json": {
              "version_major": 2,
              "version_minor": 0,
              "model_id": "30ebcfd7cb3441189e10fe4a9f2316df"
            }
          },
          "metadata": {}
        }
      ]
    },
    {
      "cell_type": "code",
      "source": [
        "# Test prompt 1\n",
        "vegeterian_recipe_prompt = \"\"\"### Instruction: Act as a gourmet chef.\n",
        "I have a friend coming over who is a vegetarian.\n",
        "I want to impress my friend with a special vegetarian dish.\n",
        "What do you recommend?\n",
        "\n",
        "Give me two options, along with the whole recipe for each.\n",
        "\n",
        " ### Answer:\n",
        " \"\"\"\n",
        "\n",
        "encoded_instruction = tokenizer(vegeterian_recipe_prompt,  return_tensors=\"pt\", add_special_tokens=True)\n",
        "\n",
        "model_inputs = encoded_instruction.to(device)\n",
        "\n",
        "generated_ids = model.generate(**model_inputs, max_new_tokens=1000, do_sample=True, pad_token_id=tokenizer.eos_token_id)\n",
        "decoded = tokenizer.batch_decode(generated_ids)\n",
        "print(decoded[0])"
      ],
      "metadata": {
        "colab": {
          "base_uri": "https://localhost:8080/"
        },
        "id": "S6nR9TgSRD8y",
        "outputId": "78c9e898-8d63-49cf-9c2b-cac0f0fd28b7"
      },
      "execution_count": 11,
      "outputs": [
        {
          "output_type": "stream",
          "name": "stderr",
          "text": [
            "/usr/local/lib/python3.10/dist-packages/bitsandbytes/nn/modules.py:224: UserWarning: Input type into Linear4bit is torch.float16, but bnb_4bit_compute_type=torch.float32 (default). This will lead to slow inference or training speed.\n",
            "  warnings.warn(f'Input type into Linear4bit is torch.float16, but bnb_4bit_compute_type=torch.float32 (default). This will lead to slow inference or training speed.')\n"
          ]
        },
        {
          "output_type": "stream",
          "name": "stdout",
          "text": [
            "<s> ### Instruction: Act as a gourmet chef. \n",
            "I have a friend coming over who is a vegetarian.\n",
            "I want to impress my friend with a special vegetarian dish. \n",
            "What do you recommend?\n",
            "\n",
            "Give me two options, along with the whole recipe for each.\n",
            "\n",
            " ### Answer:\n",
            " \n",
            "Option 1: **Vegetable Paella**\n",
            "\n",
            "Ingredients:\n",
            "- 1 cup short-grain white rice\n",
            "- 2 tablespoons extra-virgin olive oil\n",
            "- 1 onion, finely chopped\n",
            "- 2 garlic cloves, minced\n",
            "- 1 red bell pepper, seeded and diced\n",
            "- 1 carrot, peeled and diced\n",
            "- 1 zucchini, diced\n",
            "- 1 yellow squash, diced\n",
            "- 1 teaspoon dried saffron threads\n",
            "- 4 cups vegetable broth\n",
            "- 1 cup frozen peas\n",
            "- Salt and pepper to taste\n",
            "- Chopped parsley for garnish\n",
            "\n",
            "Instructions:\n",
            "1. Rinse rice until water runs clear, drain well.\n",
            "2. Heat olive oil in a large, shallow skillet or Paella pan over medium heat. Add onion, garlic, red bell pepper, and carrot, and cook until vegetables are softened, about 5 minutes.\n",
            "3. Add rice and dried saffron to the skillet, and stir to coat the rice with onion mixture.\n",
            "4. Pour in vegetable broth, and bring to a simmer. Cook rice mixture for 15-18 minutes, or until the rice is tender but still a little chewy.\n",
            "5. Add frozen peas and cook for an additional 2-3 minutes, or until peas are heated through.\n",
            "6. Season to taste with salt and pepper. Serve hot, garnished with chopped parsley.\n",
            "\n",
            "Option 2: **Vegetarian Chickpea Curry**\n",
            "\n",
            "Ingredients:\n",
            "- 1 tablespoon vegetable oil\n",
            "- 1 onion, chopped\n",
            "- 2 garlic cloves, minced\n",
            "- 1 tablespoon grated fresh ginger\n",
            "- 1 tablespoon mustard seeds\n",
            "- 1 teaspoon curry powder\n",
            "- 1/2 teaspoon ground cumin\n",
            "- 1/2 teaspoon ground coriander\n",
            "- 1/2 teaspoon turmeric\n",
            "- 1 can (15 ounces) chickpeas, drained and rinsed\n",
            "- 1 can (14 ounces) coconut milk\n",
            "- 1 tablespoon freshly squeezed lemon juice\n",
            "- Salt and pepper to taste\n",
            "- Chopped cilantro for garnish (optional)\n",
            "\n",
            "Instructions:\n",
            "1. Heat oil in a large skillet over medium-high heat. Add onion, garlic, and ginger, and sauté until onion is softened, about 3-4 minutes.\n",
            "2. Add mustard seeds, curry powder, cumin, coriander, and turmeric to the skillet, and cook, stirring constantly, for 30 seconds.\n",
            "3. Add chickpeas, coconut milk, lemon juice, and salt and pepper to taste to the skillet, and bring to a simmer. Cook for 10-15 minutes, until the chickpeas are heated through and the sauce has thickened slightly.\n",
            "4. Garnish with chopped cilantro, if desired. Serve hot.\n",
            "\n",
            "Both of the above options will be sure to impress your friend and satisfy their taste buds.</s>\n"
          ]
        }
      ]
    },
    {
      "cell_type": "code",
      "source": [
        "PROMPT= \"\"\" ### Instruction: Act as a currency expert.\n",
        "\n",
        "### Question:\n",
        "Explain to me how Digital Currency works. Assume that I am a 5-year-old child.\n",
        "\n",
        " ### Answer:\n",
        " \"\"\"\n",
        "\n"
      ],
      "metadata": {
        "id": "oRnI6iovRD5O"
      },
      "execution_count": 12,
      "outputs": []
    },
    {
      "cell_type": "code",
      "source": [
        "encoded_instruction = tokenizer(PROMPT,  return_tensors=\"pt\", add_special_tokens=True)\n",
        "\n",
        "model_inputs = encoded_instruction.to(device)\n",
        "\n",
        "generated_ids = model.generate(**model_inputs, max_new_tokens=1000, do_sample=True, pad_token_id=tokenizer.eos_token_id)\n",
        "decoded = tokenizer.batch_decode(generated_ids)\n",
        "print(decoded[0])"
      ],
      "metadata": {
        "colab": {
          "base_uri": "https://localhost:8080/"
        },
        "id": "KwAT--D1RDzk",
        "outputId": "c3a9a4f2-585e-47e3-fea2-56dcaa67ca82"
      },
      "execution_count": 13,
      "outputs": [
        {
          "output_type": "stream",
          "name": "stdout",
          "text": [
            "<s>  ### Instruction: Act as a currency expert.\n",
            "\n",
            "### Question:\n",
            "Explain to me how Digital Currency works. Assume that I am a 5-year-old child.\n",
            "\n",
            " ### Answer:\n",
            " \n",
            "Okay, sweetie, imagine if you have a special token that you can use to buy things online or in a store, but no one else knows about it, and it's just in your computer. That's kind of like what digital currency is! It's like a special type of money that only computers and people with special accounts can use, and it can be used to buy things online or in stores. Like a toy or candy, but digital! And just like any real money, it has value and can be worth lots of dollars or euros. And the best part is that you can have as much as you want, and it's just in your computer. But remember, with anything valuable, you have to be careful and keep it safe, otherwise you might lose it!</s>\n"
          ]
        }
      ]
    },
    {
      "cell_type": "code",
      "source": [
        "text_generation_pipeline = transformers.pipeline(\n",
        "    model=model,\n",
        "    tokenizer=tokenizer,\n",
        "    task=\"text-generation\",\n",
        "    temperature=0.2,\n",
        "    repetition_penalty=1.1,\n",
        "    return_full_text=True,\n",
        "    max_new_tokens=1000,\n",
        "\n",
        ")"
      ],
      "metadata": {
        "id": "SIJRqFKpRDwp"
      },
      "execution_count": 14,
      "outputs": []
    },
    {
      "cell_type": "code",
      "source": [
        "mistral_llm = HuggingFacePipeline(pipeline=text_generation_pipeline)"
      ],
      "metadata": {
        "id": "lKXgZs0bTPB7"
      },
      "execution_count": 15,
      "outputs": []
    },
    {
      "cell_type": "code",
      "source": [
        "prompt_template = \"\"\"\n",
        "### Instruction: Act as a LARGE Language Models Expert. I will ask you a QUESTION and give you an AUDIENCE PERSONA, and you will respond with an answer easily understandable by the AUDIENCE PERSONA.\n",
        "\n",
        "### AUDIENCE PERSONA:\n",
        "{audience_persona}\n",
        "\n",
        "### QUESTION:\n",
        "{question}\n",
        "\n",
        " ### Answer:\n",
        " \"\"\""
      ],
      "metadata": {
        "id": "M6esCQRsTO-5"
      },
      "execution_count": 16,
      "outputs": []
    },
    {
      "cell_type": "code",
      "source": [
        "# Create prompt from prompt template\n",
        "prompt = PromptTemplate(\n",
        "    input_variables=[\"audience_persona\", \"question\"],\n",
        "    template=prompt_template,\n",
        ")\n",
        "\n",
        "# Create llm chain\n",
        "llm_chain = LLMChain(llm=mistral_llm, prompt=prompt)"
      ],
      "metadata": {
        "id": "g71vPUVcTO7w"
      },
      "execution_count": 17,
      "outputs": []
    },
    {
      "cell_type": "code",
      "source": [
        "# Input query to LLM\n",
        "input_text = {\n",
        "    \"audience_persona\": \"A 5 year-old child\",\n",
        "    \"question\": \"Explain how Large Language Models work.\"\n",
        "}\n",
        "\n",
        "# Generate and print LLM response\n",
        "response = llm_chain(input_text)\n",
        "\n",
        "\n",
        "#print(response_text['text'])"
      ],
      "metadata": {
        "colab": {
          "base_uri": "https://localhost:8080/"
        },
        "id": "xxsh7MaSTO4j",
        "outputId": "83dbb6e8-0133-4ead-9675-df903c423b48"
      },
      "execution_count": 18,
      "outputs": [
        {
          "output_type": "stream",
          "name": "stderr",
          "text": [
            "/usr/local/lib/python3.10/dist-packages/langchain_core/_api/deprecation.py:117: LangChainDeprecationWarning: The function `__call__` was deprecated in LangChain 0.1.0 and will be removed in 0.2.0. Use invoke instead.\n",
            "  warn_deprecated(\n",
            "/usr/local/lib/python3.10/dist-packages/transformers/generation/configuration_utils.py:392: UserWarning: `do_sample` is set to `False`. However, `temperature` is set to `0.2` -- this flag is only used in sample-based generation modes. You should set `do_sample=True` or unset `temperature`.\n",
            "  warnings.warn(\n",
            "Setting `pad_token_id` to `eos_token_id`:2 for open-end generation.\n"
          ]
        }
      ]
    },
    {
      "cell_type": "code",
      "source": [
        "response['text']"
      ],
      "metadata": {
        "colab": {
          "base_uri": "https://localhost:8080/",
          "height": 88
        },
        "id": "4JfI7ctWTiDv",
        "outputId": "ca51b1fe-2dc3-4ff3-a6e1-75f63d266854"
      },
      "execution_count": 19,
      "outputs": [
        {
          "output_type": "execute_result",
          "data": {
            "text/plain": [
              "\"\\nLarge language models are like super smart computers that can understand and talk about anything! They're made up of lots of tiny computers working together, and they learn from all the things people write online. Just like how you learn new things by asking questions and listening to others, these big computers learn by reading and understanding what people say on the internet. And because they're so smart, they can even make up their own words and stories sometimes! It's like having a magic friend who can talk and think for you.\""
            ],
            "application/vnd.google.colaboratory.intrinsic+json": {
              "type": "string"
            }
          },
          "metadata": {},
          "execution_count": 19
        }
      ]
    },
    {
      "cell_type": "code",
      "source": [
        "from transformers import T5Tokenizer, T5ForConditionalGeneration\n",
        "\n",
        "tokenizer = T5Tokenizer.from_pretrained(\"t5-large\")\n",
        "model = T5ForConditionalGeneration.from_pretrained(\"t5-large\")\n",
        "\n"
      ],
      "metadata": {
        "colab": {
          "base_uri": "https://localhost:8080/"
        },
        "id": "M48uBi6kVgKJ",
        "outputId": "f5567ab5-95ca-41a0-ca81-fdfc3e8fd27b"
      },
      "execution_count": 20,
      "outputs": [
        {
          "output_type": "stream",
          "name": "stderr",
          "text": [
            "/usr/local/lib/python3.10/dist-packages/transformers/models/t5/tokenization_t5.py:240: FutureWarning: This tokenizer was incorrectly instantiated with a model max length of 512 which will be corrected in Transformers v5.\n",
            "For now, this behavior is kept to avoid breaking backwards compatibility when padding/encoding with `truncation is True`.\n",
            "- Be aware that you SHOULD NOT rely on t5-large automatically truncating your input to 512 when padding/encoding.\n",
            "- If you want to encode/pad to sequences longer than 512 you can either instantiate this tokenizer with `model_max_length` or pass `max_length` when encoding/padding.\n",
            "- To avoid this warning, please instantiate this tokenizer with `model_max_length` set to your preferred value.\n",
            "  warnings.warn(\n",
            "You are using the default legacy behaviour of the <class 'transformers.models.t5.tokenization_t5.T5Tokenizer'>. This is expected, and simply means that the `legacy` (previous) behavior will be used so nothing changes for you. If you want to use the new behaviour, set `legacy=False`. This should only be set if you understand what it means, and thoroughly read the reason why this was added as explained in https://github.com/huggingface/transformers/pull/24565\n",
            "Special tokens have been added in the vocabulary, make sure the associated word embeddings are fine-tuned or trained.\n"
          ]
        }
      ]
    },
    {
      "cell_type": "code",
      "source": [
        "text_summarization_pipeline = transformers.pipeline(\n",
        "    model=model,\n",
        "    tokenizer=tokenizer,\n",
        "    task=\"summarization\",\n",
        "    temperature=0.2,\n",
        "    repetition_penalty=1.1,\n",
        "      max_new_tokens=1000,\n",
        "    eos_token_id=tokenizer.eos_token_id,\n",
        "    pad_token_id=tokenizer.eos_token_id,\n",
        "\n",
        "\n",
        ")\n",
        "llm = HuggingFacePipeline(pipeline=text_summarization_pipeline)"
      ],
      "metadata": {
        "id": "TcvV2EzKV7vM"
      },
      "execution_count": 58,
      "outputs": []
    },
    {
      "cell_type": "code",
      "source": [
        "prompt = \"\"\"\n",
        "Please provide a summary of the following text\n",
        "\n",
        "TEXT:\n",
        "Philosophy (from Greek: φιλοσοφία, philosophia, 'love of wisdom') \\\n",
        "is the systematized study of general and fundamental questions, \\\n",
        "such as those about existence, reason, knowledge, values, mind, and language. \\\n",
        "Some sources claim the term was coined by Pythagoras (c. 570 – c. 495 BCE), \\\n",
        "although this theory is disputed by some. Philosophical methods include questioning, \\\n",
        "critical discussion, rational argument, and systematic presentation.\n",
        "\"\"\""
      ],
      "metadata": {
        "id": "T1YwAPe_WGVB"
      },
      "execution_count": 59,
      "outputs": []
    },
    {
      "cell_type": "code",
      "source": [
        "num_tokens = llm.get_num_tokens(prompt)\n",
        "print (f\"Our prompt has {num_tokens} tokens\")"
      ],
      "metadata": {
        "colab": {
          "base_uri": "https://localhost:8080/"
        },
        "id": "Pe0xpHrfWGSK",
        "outputId": "8c367867-2537-4d05-c22e-6bc5104bb59c"
      },
      "execution_count": 60,
      "outputs": [
        {
          "output_type": "stream",
          "name": "stdout",
          "text": [
            "Our prompt has 121 tokens\n"
          ]
        }
      ]
    },
    {
      "cell_type": "code",
      "source": [
        "output = llm(prompt)\n",
        "print (output)"
      ],
      "metadata": {
        "colab": {
          "base_uri": "https://localhost:8080/"
        },
        "id": "GDINUCLWWGPP",
        "outputId": "a1e4379d-1bd0-4099-d3dc-45b62b1cc165"
      },
      "execution_count": 61,
      "outputs": [
        {
          "output_type": "stream",
          "name": "stderr",
          "text": [
            "Your max_length is set to 200, but your input_length is only 125. Since this is a summarization task, where outputs shorter than the input are typically wanted, you might consider decreasing max_length manually, e.g. summarizer('...', max_length=62)\n",
            "/usr/local/lib/python3.10/dist-packages/transformers/generation/configuration_utils.py:392: UserWarning: `do_sample` is set to `False`. However, `temperature` is set to `0.2` -- this flag is only used in sample-based generation modes. You should set `do_sample=True` or unset `temperature`.\n",
            "  warnings.warn(\n"
          ]
        },
        {
          "output_type": "stream",
          "name": "stdout",
          "text": [
            "philosophy is the systematized study of general and fundamental questions . some sources claim term was coined by Pythagoras, although this theory is disputed . philosophical methods include questioning, critical discussion, rational argument .\n"
          ]
        }
      ]
    },
    {
      "cell_type": "code",
      "source": [
        "from langchain.chains.summarize import load_summarize_chain\n",
        "from langchain.text_splitter import RecursiveCharacterTextSplitter\n",
        "from langchain.document_loaders import PyPDFLoader"
      ],
      "metadata": {
        "id": "seHN-zL6WGL0"
      },
      "execution_count": 62,
      "outputs": []
    },
    {
      "cell_type": "code",
      "source": [
        "# Load the book\n",
        "loader = PyPDFLoader(\"/content/drive/MyDrive/data/IntoThinAirBook.pdf\")\n",
        "pages = loader.load()\n",
        "\n",
        "# Cut out the open and closing parts\n",
        "pages = pages[26:277]\n",
        "\n",
        "# Combine the pages, and replace the tabs with spaces\n",
        "text = \"\"\n",
        "\n",
        "for page in pages:\n",
        "    text += page.page_content\n",
        "\n",
        "text = text.replace('\\t', ' ')"
      ],
      "metadata": {
        "id": "w-A9W_TDaigM"
      },
      "execution_count": 63,
      "outputs": []
    },
    {
      "cell_type": "code",
      "source": [
        "num_tokens = llm.get_num_tokens(text)\n",
        "\n",
        "print (f\"This book has {num_tokens} tokens in it\")"
      ],
      "metadata": {
        "colab": {
          "base_uri": "https://localhost:8080/"
        },
        "id": "DXwsYrpgctjI",
        "outputId": "f2f2f3e8-a594-4f03-db5a-cf5ea830ffd8"
      },
      "execution_count": 64,
      "outputs": [
        {
          "output_type": "stream",
          "name": "stdout",
          "text": [
            "This book has 139734 tokens in it\n"
          ]
        }
      ]
    },
    {
      "cell_type": "code",
      "source": [
        "# Loaders\n",
        "from langchain.schema import Document\n",
        "\n",
        "# Splitters\n",
        "from langchain.text_splitter import RecursiveCharacterTextSplitter\n",
        "\n",
        "# Model\n",
        "\n",
        "\n",
        "# Embedding Support\n",
        "from langchain.vectorstores import FAISS\n",
        "from langchain.embeddings import HuggingFaceEmbeddings\n",
        "\n",
        "# Summarizer we'll use for Map Reduce\n",
        "from langchain.chains.summarize import load_summarize_chain\n",
        "\n",
        "# Data Science\n",
        "import numpy as np\n",
        "from sklearn.cluster import KMeans"
      ],
      "metadata": {
        "id": "GWw5tszAaidJ"
      },
      "execution_count": 28,
      "outputs": []
    },
    {
      "cell_type": "code",
      "source": [
        "text_splitter = RecursiveCharacterTextSplitter(separators=[\"\\n\\n\", \"\\n\", \"\\t\"], chunk_size=10000, chunk_overlap=3000)\n",
        "\n",
        "docs = text_splitter.create_documents([text])"
      ],
      "metadata": {
        "id": "_m2NyppqaiaF"
      },
      "execution_count": 30,
      "outputs": []
    },
    {
      "cell_type": "code",
      "source": [
        "num_documents = len(docs)\n",
        "\n",
        "print (f\"Now our book is split up into {num_documents} documents\")"
      ],
      "metadata": {
        "colab": {
          "base_uri": "https://localhost:8080/"
        },
        "id": "-05Q_Up1aiWq",
        "outputId": "dc1263fb-6841-4f7d-e13c-06be247acced"
      },
      "execution_count": 31,
      "outputs": [
        {
          "output_type": "stream",
          "name": "stdout",
          "text": [
            "Now our book is split up into 78 documents\n"
          ]
        }
      ]
    },
    {
      "cell_type": "code",
      "source": [
        "embeddings = HuggingFaceEmbeddings()\n",
        "\n",
        "vectors = embeddings.embed_documents([x.page_content for x in docs])"
      ],
      "metadata": {
        "id": "mu1UAOQRc8ZF"
      },
      "execution_count": 32,
      "outputs": []
    },
    {
      "cell_type": "code",
      "source": [
        "embeddings.Config"
      ],
      "metadata": {
        "colab": {
          "base_uri": "https://localhost:8080/"
        },
        "id": "MAO8olPDdnx1",
        "outputId": "419beb4b-c25b-40bb-c5fe-cbd172be8058"
      },
      "execution_count": 37,
      "outputs": [
        {
          "output_type": "execute_result",
          "data": {
            "text/plain": [
              "langchain_community.embeddings.huggingface.HuggingFaceEmbeddings.Config"
            ]
          },
          "metadata": {},
          "execution_count": 37
        }
      ]
    },
    {
      "cell_type": "code",
      "source": [
        "len(vectors[0])"
      ],
      "metadata": {
        "colab": {
          "base_uri": "https://localhost:8080/"
        },
        "id": "NwEouf2hdCt4",
        "outputId": "f8debbba-533b-436f-a105-b3a5401317b3"
      },
      "execution_count": 36,
      "outputs": [
        {
          "output_type": "execute_result",
          "data": {
            "text/plain": [
              "78"
            ]
          },
          "metadata": {},
          "execution_count": 36
        }
      ]
    },
    {
      "cell_type": "code",
      "source": [
        "# Assuming 'embeddings' is a list or array of 1536-dimensional embeddings\n",
        "\n",
        "# Choose the number of clusters, this can be adjusted based on the book's content.\n",
        "# I played around and found ~10 was the best.\n",
        "# Usually if you have 10 passages from a book you can tell what it's about\n",
        "num_clusters = 11\n",
        "\n",
        "# Perform K-means clustering\n",
        "kmeans = KMeans(n_clusters=num_clusters, random_state=42).fit(vectors)"
      ],
      "metadata": {
        "colab": {
          "base_uri": "https://localhost:8080/"
        },
        "id": "gwzwlQKddCqJ",
        "outputId": "8c61ef59-3e37-4a2f-f4ac-5b37694bbd6a"
      },
      "execution_count": 38,
      "outputs": [
        {
          "output_type": "stream",
          "name": "stderr",
          "text": [
            "/usr/local/lib/python3.10/dist-packages/sklearn/cluster/_kmeans.py:870: FutureWarning: The default value of `n_init` will change from 10 to 'auto' in 1.4. Set the value of `n_init` explicitly to suppress the warning\n",
            "  warnings.warn(\n"
          ]
        }
      ]
    },
    {
      "cell_type": "code",
      "source": [
        "kmeans.labels_"
      ],
      "metadata": {
        "colab": {
          "base_uri": "https://localhost:8080/"
        },
        "id": "NgH9qi4ydCmz",
        "outputId": "96c76f8d-781b-4090-fd86-877e48390611"
      },
      "execution_count": 39,
      "outputs": [
        {
          "output_type": "execute_result",
          "data": {
            "text/plain": [
              "array([ 6,  6,  6,  6,  0,  0,  6,  0,  0,  4,  6, 10, 10,  5,  6,  6,  5,\n",
              "        0, 10,  6, 10,  6,  0,  9,  9,  9, 10, 10,  6,  6,  1,  9,  0,  0,\n",
              "       10,  9,  2,  2,  2,  7,  2,  7,  2,  8,  6,  6,  2,  0,  2,  2,  7,\n",
              "        7,  8,  7,  2,  0,  8,  2,  2,  7,  2,  2,  8,  6, 10, 10, 10, 10,\n",
              "        2,  0,  1,  0,  0,  8,  8,  0,  3,  3], dtype=int32)"
            ]
          },
          "metadata": {},
          "execution_count": 39
        }
      ]
    },
    {
      "cell_type": "code",
      "source": [
        "from sklearn.manifold import TSNE\n",
        "import matplotlib.pyplot as plt\n",
        "import numpy as np\n",
        "# Taking out the warnings\n",
        "import warnings\n",
        "from warnings import simplefilter\n",
        "\n",
        "# Filter out FutureWarnings\n",
        "simplefilter(action='ignore', category=FutureWarning)\n",
        "\n",
        "# Perform t-SNE and reduce to 2 dimensions\n",
        "tsne = TSNE(n_components=2, random_state=42)\n",
        "reduced_data_tsne = tsne.fit_transform(np.array(vectors))\n",
        "\n",
        "# Plot the reduced data\n",
        "plt.scatter(reduced_data_tsne[:, 0], reduced_data_tsne[:, 1], c=kmeans.labels_)\n",
        "plt.xlabel('Dimension 1')\n",
        "plt.ylabel('Dimension 2')\n",
        "plt.title('Book Embeddings Clustered')\n",
        "plt.show()"
      ],
      "metadata": {
        "colab": {
          "base_uri": "https://localhost:8080/",
          "height": 472
        },
        "id": "OZGydweGeAlv",
        "outputId": "441a6941-76a8-4c4e-a502-804f237cba41"
      },
      "execution_count": 41,
      "outputs": [
        {
          "output_type": "display_data",
          "data": {
            "text/plain": [
              "<Figure size 640x480 with 1 Axes>"
            ],
            "image/png": "[encoded data removed]"
          },
          "metadata": {}
        }
      ]
    },
    {
      "cell_type": "code",
      "source": [
        "# Find the closest embeddings to the centroids\n",
        "\n",
        "# Create an empty list that will hold your closest points\n",
        "closest_indices = []\n",
        "\n",
        "# Loop through the number of clusters you have\n",
        "for i in range(num_clusters):\n",
        "\n",
        "    # Get the list of distances from that particular cluster center\n",
        "    distances = np.linalg.norm(vectors - kmeans.cluster_centers_[i], axis=1)\n",
        "\n",
        "    # Find the list position of the closest one (using argmin to find the smallest distance)\n",
        "    closest_index = np.argmin(distances)\n",
        "\n",
        "    # Append that position to your closest indices list\n",
        "    closest_indices.append(closest_index)"
      ],
      "metadata": {
        "id": "N6DOKSe1eRaF"
      },
      "execution_count": 42,
      "outputs": []
    },
    {
      "cell_type": "code",
      "source": [
        "selected_indices = sorted(closest_indices)\n",
        "selected_indices"
      ],
      "metadata": {
        "colab": {
          "base_uri": "https://localhost:8080/"
        },
        "id": "i5KD4VvreZiQ",
        "outputId": "91e3609e-b7f2-4958-a2ff-47ef2ff91f81"
      },
      "execution_count": 43,
      "outputs": [
        {
          "output_type": "execute_result",
          "data": {
            "text/plain": [
              "[9, 11, 13, 31, 33, 45, 49, 50, 52, 70, 76]"
            ]
          },
          "metadata": {},
          "execution_count": 43
        }
      ]
    },
    {
      "cell_type": "code",
      "source": [
        "map_prompt = \"\"\"\n",
        "You will be given a single passage of a book. This section will be enclosed in triple backticks (```)\n",
        "Your goal is to give a summary of this section so that a reader will have a full understanding of what happened.\n",
        "Your response should be at least three paragraphs and fully encompass what was said in the passage.\n",
        "\n",
        "```{text}```\n",
        "FULL SUMMARY:\n",
        "\"\"\"\n",
        "map_prompt_template = PromptTemplate(template=map_prompt, input_variables=[\"text\"])"
      ],
      "metadata": {
        "id": "V7VRN1gJeZfK"
      },
      "execution_count": 44,
      "outputs": []
    },
    {
      "cell_type": "code",
      "source": [
        "map_chain = load_summarize_chain(llm=llm,\n",
        "                             chain_type=\"stuff\",\n",
        "                             prompt=map_prompt_template)"
      ],
      "metadata": {
        "id": "OyS0OUyLeZb8"
      },
      "execution_count": 45,
      "outputs": []
    },
    {
      "cell_type": "code",
      "source": [
        "selected_docs = [docs[doc] for doc in selected_indices]"
      ],
      "metadata": {
        "id": "V0DVEitpevuN"
      },
      "execution_count": 46,
      "outputs": []
    },
    {
      "cell_type": "code",
      "source": [
        "# Make an empty list to hold your summaries\n",
        "summary_list = []\n",
        "\n",
        "# Loop through a range of the lenght of your selected docs\n",
        "for i, doc in enumerate(selected_docs):\n",
        "\n",
        "    # Go get a summary of the chunk\n",
        "    chunk_summary = map_chain.run([doc])\n",
        "\n",
        "    # Append that summary to your list\n",
        "    summary_list.append(chunk_summary)\n",
        "\n",
        "    print (f\"Summary #{i} (chunk #{selected_indices[i]}) - Preview: {chunk_summary[:250]} \\n\")"
      ],
      "metadata": {
        "colab": {
          "base_uri": "https://localhost:8080/"
        },
        "id": "mJER-0Y5evrs",
        "outputId": "63fcce22-4a68-4f74-af46-6e67d197897c"
      },
      "execution_count": 47,
      "outputs": [
        {
          "output_type": "stream",
          "name": "stderr",
          "text": [
            "/usr/local/lib/python3.10/dist-packages/langchain_core/_api/deprecation.py:117: LangChainDeprecationWarning: The function `run` was deprecated in LangChain 0.1.0 and will be removed in 0.2.0. Use invoke instead.\n",
            "  warn_deprecated(\n",
            "Token indices sequence length is longer than the specified maximum sequence length for this model (2596 > 512). Running this sequence through the model will result in indexing errors\n",
            "/usr/local/lib/python3.10/dist-packages/transformers/generation/configuration_utils.py:392: UserWarning: `do_sample` is set to `False`. However, `temperature` is set to `0.2` -- this flag is only used in sample-based generation modes. You should set `do_sample=True` or unset `temperature`.\n",
            "  warnings.warn(\n"
          ]
        },
        {
          "output_type": "stream",
          "name": "stdout",
          "text": [
            "Summary #0 (chunk #9) - Preview: sherpas are a mountain people, devoutly Buddhist, whose forebears migrated south from Tibet . the 1921 expedition hired a large corps of Sherpas as load bearers and camp helpers . despite the hazards, most sought-after jobs are the half dozen opening \n",
            "\n"
          ]
        },
        {
          "output_type": "stream",
          "name": "stderr",
          "text": [
            "/usr/local/lib/python3.10/dist-packages/transformers/generation/configuration_utils.py:392: UserWarning: `do_sample` is set to `False`. However, `temperature` is set to `0.2` -- this flag is only used in sample-based generation modes. You should set `do_sample=True` or unset `temperature`.\n",
            "  warnings.warn(\n"
          ]
        },
        {
          "output_type": "stream",
          "name": "stdout",
          "text": [
            "Summary #1 (chunk #11) - Preview: a young sherpa fell 150 feet into a crevasse while scouting a route up the Lhotse face . john sutter: \"without the support of our sherpas none of us has any chance of climbing\" he says the rescuers were untrained and didn't know what they were doing  \n",
            "\n"
          ]
        },
        {
          "output_type": "stream",
          "name": "stderr",
          "text": [
            "/usr/local/lib/python3.10/dist-packages/transformers/generation/configuration_utils.py:392: UserWarning: `do_sample` is set to `False`. However, `temperature` is set to `0.2` -- this flag is only used in sample-based generation modes. You should set `do_sample=True` or unset `temperature`.\n",
            "  warnings.warn(\n"
          ]
        },
        {
          "output_type": "stream",
          "name": "stdout",
          "text": [
            "Summary #2 (chunk #13) - Preview: cnn's john sutter talks with a climber about his experience at everest base camp . he recalls how a commercial expedition helped clean up the mountain . in 1996, he and a friend led a group of climbers to the top of the world's highest peak . the two \n",
            "\n"
          ]
        },
        {
          "output_type": "stream",
          "name": "stderr",
          "text": [
            "/usr/local/lib/python3.10/dist-packages/transformers/generation/configuration_utils.py:392: UserWarning: `do_sample` is set to `False`. However, `temperature` is set to `0.2` -- this flag is only used in sample-based generation modes. You should set `do_sample=True` or unset `temperature`.\n",
            "  warnings.warn(\n"
          ]
        },
        {
          "output_type": "stream",
          "name": "stdout",
          "text": [
            "Summary #3 (chunk #31) - Preview: bob greene: sherpas on a 1996 expedition blamed a climber for his uncle's illness . he says they believed the climber had angered the goddess of the sky, Sagarmatha . greene says the sex was ok, but he said it was bad luck for the rest of the team .  \n",
            "\n"
          ]
        },
        {
          "output_type": "stream",
          "name": "stderr",
          "text": [
            "/usr/local/lib/python3.10/dist-packages/transformers/generation/configuration_utils.py:392: UserWarning: `do_sample` is set to `False`. However, `temperature` is set to `0.2` -- this flag is only used in sample-based generation modes. You should set `do_sample=True` or unset `temperature`.\n",
            "  warnings.warn(\n"
          ]
        },
        {
          "output_type": "stream",
          "name": "stdout",
          "text": [
            "Summary #4 (chunk #33) - Preview: cnn's john sutter recalls his experience climbing the world's highest peak . he says climbing is about enduring pain and a sense of mission, not fame or fortune . one climber, Dale Kruse, suffered from high altitude cerebral edema . \"it was like i wa \n",
            "\n"
          ]
        },
        {
          "output_type": "stream",
          "name": "stderr",
          "text": [
            "/usr/local/lib/python3.10/dist-packages/transformers/generation/configuration_utils.py:392: UserWarning: `do_sample` is set to `False`. However, `temperature` is set to `0.2` -- this flag is only used in sample-based generation modes. You should set `do_sample=True` or unset `temperature`.\n",
            "  warnings.warn(\n"
          ]
        },
        {
          "output_type": "stream",
          "name": "stdout",
          "text": [
            "Summary #5 (chunk #45) - Preview: cnn's john sutter recalls his epic climb of everest in 1996 . he says the climb was hampered by a lack of oxygen on the mountain's slopes . but he recalls a moment when he realized his oxygen supply was running low . the climb ended with a sigh of re \n",
            "\n"
          ]
        },
        {
          "output_type": "stream",
          "name": "stderr",
          "text": [
            "/usr/local/lib/python3.10/dist-packages/transformers/generation/configuration_utils.py:392: UserWarning: `do_sample` is set to `False`. However, `temperature` is set to `0.2` -- this flag is only used in sample-based generation modes. You should set `do_sample=True` or unset `temperature`.\n",
            "  warnings.warn(\n"
          ]
        },
        {
          "output_type": "stream",
          "name": "stdout",
          "text": [
            "Summary #6 (chunk #49) - Preview: cnn's john sutter asks readers to give a summary of a passage in a book . he recalls the day that a climber collapsed on the summit of mt. everest . the climber had been suffering from a gastrointestinal parasite at the time, he says . after the clim \n",
            "\n"
          ]
        },
        {
          "output_type": "stream",
          "name": "stderr",
          "text": [
            "/usr/local/lib/python3.10/dist-packages/transformers/generation/configuration_utils.py:392: UserWarning: `do_sample` is set to `False`. However, `temperature` is set to `0.2` -- this flag is only used in sample-based generation modes. You should set `do_sample=True` or unset `temperature`.\n",
            "  warnings.warn(\n"
          ]
        },
        {
          "output_type": "stream",
          "name": "stdout",
          "text": [
            "Summary #7 (chunk #50) - Preview: cnn's john sutter talks with a climber who lost his group in a blizzard . the climbers had strayed too far from the ridge to reach the tents at camp four . they were dragged down the slope by a group of climbers who had run out of oxygen . despite th \n",
            "\n"
          ]
        },
        {
          "output_type": "stream",
          "name": "stderr",
          "text": [
            "/usr/local/lib/python3.10/dist-packages/transformers/generation/configuration_utils.py:392: UserWarning: `do_sample` is set to `False`. However, `temperature` is set to `0.2` -- this flag is only used in sample-based generation modes. You should set `do_sample=True` or unset `temperature`.\n",
            "  warnings.warn(\n"
          ]
        },
        {
          "output_type": "stream",
          "name": "stdout",
          "text": [
            "Summary #8 (chunk #52) - Preview: bob greene: the story of the 1996 climb of the south col is a fascinating one . he says the climbers who went missing were rescued by a group of sherpas . greene says the rescuers were unable to find their way back to camp . \n",
            "\n"
          ]
        },
        {
          "output_type": "stream",
          "name": "stderr",
          "text": [
            "/usr/local/lib/python3.10/dist-packages/transformers/generation/configuration_utils.py:392: UserWarning: `do_sample` is set to `False`. However, `temperature` is set to `0.2` -- this flag is only used in sample-based generation modes. You should set `do_sample=True` or unset `temperature`.\n",
            "  warnings.warn(\n"
          ]
        },
        {
          "output_type": "stream",
          "name": "stdout",
          "text": [
            "Summary #9 (chunk #70) - Preview: aaron carroll: critics of Into thin air have questioned author's credibility . he says he's rebutted Into Thin air's numerous errors; he regrets that . but he writes that he was trying to tell the story as accurately and honestly as possible . carrol \n",
            "\n"
          ]
        },
        {
          "output_type": "stream",
          "name": "stderr",
          "text": [
            "/usr/local/lib/python3.10/dist-packages/transformers/generation/configuration_utils.py:392: UserWarning: `do_sample` is set to `False`. However, `temperature` is set to `0.2` -- this flag is only used in sample-based generation modes. You should set `do_sample=True` or unset `temperature`.\n",
            "  warnings.warn(\n"
          ]
        },
        {
          "output_type": "stream",
          "name": "stdout",
          "text": [
            "Summary #10 (chunk #76) - Preview: eric liu: Boukreev was a global nomad in pursuit of mountains and money to make ends meet . he says after death of his friend, he decided to try a new route on Annapurna's south face . they were met with avalanche danger, but he persevered and made t \n",
            "\n"
          ]
        }
      ]
    },
    {
      "cell_type": "code",
      "source": [
        "summaries = \"\\n\".join(summary_list)\n",
        "\n",
        "# Convert it back to a document\n",
        "summaries = Document(page_content=summaries)\n",
        "\n",
        "print (f\"Your total summary has {llm.get_num_tokens(summaries.page_content)} tokens\")"
      ],
      "metadata": {
        "colab": {
          "base_uri": "https://localhost:8080/"
        },
        "id": "2jZZILejevoi",
        "outputId": "c7cc200b-6143-4310-af81-bbd961014561"
      },
      "execution_count": 48,
      "outputs": [
        {
          "output_type": "stream",
          "name": "stdout",
          "text": [
            "Your total summary has 764 tokens\n"
          ]
        }
      ]
    },
    {
      "cell_type": "code",
      "source": [
        "text_summarization_pipeline2 = transformers.pipeline(\n",
        "    model=model,\n",
        "    tokenizer=tokenizer,\n",
        "    task=\"summarization\",\n",
        "    temperature=0.2,\n",
        "    repetition_penalty=1.1,\n",
        "      max_new_tokens=1000,\n",
        "    eos_token_id=tokenizer.eos_token_id,\n",
        "    pad_token_id=tokenizer.eos_token_id,\n",
        "\n",
        ")\n",
        "llm2 = HuggingFacePipeline(pipeline=text_summarization_pipeline2)"
      ],
      "metadata": {
        "id": "RB2eHR0khaRN"
      },
      "execution_count": 49,
      "outputs": []
    },
    {
      "cell_type": "code",
      "source": [
        "combine_prompt = \"\"\"\n",
        "You will be given a series of summaries from a book. The summaries will be enclosed in triple backticks (```)\n",
        "Your goal is to give a verbose summary of what happened in the story.\n",
        "The reader should be able to grasp what happened in the book.\n",
        "\n",
        "```{text}```\n",
        "VERBOSE SUMMARY:\n",
        "\"\"\"\n",
        "combine_prompt_template = PromptTemplate(template=combine_prompt, input_variables=[\"text\"])"
      ],
      "metadata": {
        "id": "xGymo8I-evlc"
      },
      "execution_count": 50,
      "outputs": []
    },
    {
      "cell_type": "code",
      "source": [
        "reduce_chain = load_summarize_chain(llm=llm2,\n",
        "                             chain_type=\"stuff\",\n",
        "                             prompt=combine_prompt_template,\n",
        "                             verbose=True # Set this to true if you want to see the inner workings\n",
        "                                   )"
      ],
      "metadata": {
        "id": "JGygLaEphyB5"
      },
      "execution_count": 51,
      "outputs": []
    },
    {
      "cell_type": "code",
      "source": [
        "output = reduce_chain.run([summaries])"
      ],
      "metadata": {
        "colab": {
          "base_uri": "https://localhost:8080/"
        },
        "id": "Fbc9kBYDhx95",
        "outputId": "7f429e04-7e71-4461-8d32-03f6a4411d39"
      },
      "execution_count": 52,
      "outputs": [
        {
          "output_type": "stream",
          "name": "stdout",
          "text": [
            "\n",
            "\n",
            "\u001b[1m> Entering new StuffDocumentsChain chain...\u001b[0m\n",
            "\n",
            "\n",
            "\u001b[1m> Entering new LLMChain chain...\u001b[0m\n",
            "Prompt after formatting:\n",
            "\u001b[32;1m\u001b[1;3m\n",
            "You will be given a series of summaries from a book. The summaries will be enclosed in triple backticks (```)\n",
            "Your goal is to give a verbose summary of what happened in the story.\n",
            "The reader should be able to grasp what happened in the book.\n",
            "\n",
            "```sherpas are a mountain people, devoutly Buddhist, whose forebears migrated south from Tibet . the 1921 expedition hired a large corps of Sherpas as load bearers and camp helpers . despite the hazards, most sought-after jobs are the half dozen openings for climbing Sherpa .\n",
            "a young sherpa fell 150 feet into a crevasse while scouting a route up the Lhotse face . john sutter: \"without the support of our sherpas none of us has any chance of climbing\" he says the rescuers were untrained and didn't know what they were doing .\n",
            "cnn's john sutter talks with a climber about his experience at everest base camp . he recalls how a commercial expedition helped clean up the mountain . in 1996, he and a friend led a group of climbers to the top of the world's highest peak . the two men stayed at the base camp compound for the next six weeks .\n",
            "bob greene: sherpas on a 1996 expedition blamed a climber for his uncle's illness . he says they believed the climber had angered the goddess of the sky, Sagarmatha . greene says the sex was ok, but he said it was bad luck for the rest of the team . Greene: he was a cocky, athletic young man with a great sense of adventure .\n",
            "cnn's john sutter recalls his experience climbing the world's highest peak . he says climbing is about enduring pain and a sense of mission, not fame or fortune . one climber, Dale Kruse, suffered from high altitude cerebral edema . \"it was like i was very drunk, and completely lost the ability to think or speak,\" he recalls .\n",
            "cnn's john sutter recalls his epic climb of everest in 1996 . he says the climb was hampered by a lack of oxygen on the mountain's slopes . but he recalls a moment when he realized his oxygen supply was running low . the climb ended with a sigh of relief as he sat on a promontory at 27,600 feet .\n",
            "cnn's john sutter asks readers to give a summary of a passage in a book . he recalls the day that a climber collapsed on the summit of mt. everest . the climber had been suffering from a gastrointestinal parasite at the time, he says . after the climbers reached the summit, they were told to return to base camp .\n",
            "cnn's john sutter talks with a climber who lost his group in a blizzard . the climbers had strayed too far from the ridge to reach the tents at camp four . they were dragged down the slope by a group of climbers who had run out of oxygen . despite their best efforts, the group was unable to find their way back to camp .\n",
            "bob greene: the story of the 1996 climb of the south col is a fascinating one . he says the climbers who went missing were rescued by a group of sherpas . greene says the rescuers were unable to find their way back to camp .\n",
            "aaron carroll: critics of Into thin air have questioned author's credibility . he says he's rebutted Into Thin air's numerous errors; he regrets that . but he writes that he was trying to tell the story as accurately and honestly as possible . carroll says it's time for a public debate about the accuracy of books .\n",
            "eric liu: Boukreev was a global nomad in pursuit of mountains and money to make ends meet . he says after death of his friend, he decided to try a new route on Annapurna's south face . they were met with avalanche danger, but he persevered and made the ascent . the climb was hailed as one of the greatest achievements of the 20th century .```\n",
            "VERBOSE SUMMARY:\n",
            "\u001b[0m\n"
          ]
        },
        {
          "output_type": "stream",
          "name": "stderr",
          "text": [
            "/usr/local/lib/python3.10/dist-packages/transformers/generation/configuration_utils.py:392: UserWarning: `do_sample` is set to `False`. However, `temperature` is set to `0.2` -- this flag is only used in sample-based generation modes. You should set `do_sample=True` or unset `temperature`.\n",
            "  warnings.warn(\n"
          ]
        },
        {
          "output_type": "stream",
          "name": "stdout",
          "text": [
            "\n",
            "\u001b[1m> Finished chain.\u001b[0m\n",
            "\n",
            "\u001b[1m> Finished chain.\u001b[0m\n"
          ]
        }
      ]
    },
    {
      "cell_type": "code",
      "source": [
        "print (output)"
      ],
      "metadata": {
        "colab": {
          "base_uri": "https://localhost:8080/"
        },
        "id": "PdEWkrN9hx6l",
        "outputId": "765e8188-18ea-4867-f484-e272384757a3"
      },
      "execution_count": 53,
      "outputs": [
        {
          "output_type": "stream",
          "name": "stdout",
          "text": [
            "you will be given a series of summaries from a book . your goal is to give a verbose summary of what happened in the story . cnn's john sutter recalls his epic climb of mt. everest in 1996 .\n"
          ]
        }
      ]
    }
  ]
}