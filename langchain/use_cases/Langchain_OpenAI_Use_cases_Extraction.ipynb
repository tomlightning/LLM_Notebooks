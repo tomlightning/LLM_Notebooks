{
  "nbformat": 4,
  "nbformat_minor": 0,
  "metadata": {
    "colab": {
      "provenance": [],
      "machine_shape": "hm",
      "authorship_tag": "ABX9TyP2ObMOCH05aNg6lM5fRqvt",
      "include_colab_link": true
    },
    "kernelspec": {
      "name": "python3",
      "display_name": "Python 3"
    },
    "language_info": {
      "name": "python"
    }
  },
  "cells": [
    {
      "cell_type": "markdown",
      "metadata": {
        "id": "view-in-github",
        "colab_type": "text"
      },
      "source": [
        "<a href=\"https://colab.research.google.com/github/olonok69/LLM_Notebooks/blob/main/langchain/use_cases/Langchain_OpenAI_Use_cases_Extraction.ipynb\" target=\"_parent\"><img src=\"https://colab.research.google.com/assets/colab-badge.svg\" alt=\"Open In Colab\"/></a>"
      ]
    },
    {
      "cell_type": "markdown",
      "source": [
        "# LangChain\n",
        "\n",
        "LangChain is a framework for developing applications powered by language models.\n",
        "\n",
        "https://python.langchain.com/docs/use_cases\n",
        "\n",
        "Extraction\n",
        "\n",
        "https://python.langchain.com/docs/get_started/introduction\n",
        "\n",
        "https://python.langchain.com/docs/use_cases/extraction/\n",
        "\n",
        "Classical solutions to information extraction rely on a combination of people, (many) hand-crafted rules (e.g., regular expressions), and custom fine-tuned ML models.\n",
        "\n",
        "Such systems tend to get complex over time and become progressively more expensive to maintain and more difficult to enhance.\n",
        "\n",
        "LLMs can be adapted quickly for specific extraction tasks just by providing appropriate instructions to them and appropriate reference\n",
        "\n",
        "\n",
        "https://python.langchain.com/docs/modules/model_io/prompts/\n",
        "\n",
        "https://python.langchain.com/docs/modules/data_connection/document_transformers/recursive_text_splitter\n",
        "\n",
        "https://python.langchain.com/docs/modules/data_connection/document_loaders/pdf\n",
        "\n",
        "\n",
        "## Interesting Tool\n",
        "https://github.com/langchain-ai/langchain-extract/tree/main\n",
        "\n",
        "\n",
        "# Pydantic\n",
        "Pydantic is the most widely used data validation library for Python.\n"
      ],
      "metadata": {
        "id": "J2qcri2WPycg"
      }
    },
    {
      "cell_type": "code",
      "execution_count": 3,
      "metadata": {
        "id": "PAO4dulnEUOJ"
      },
      "outputs": [],
      "source": [
        "!pip install langchain langchain-community tiktoken -q\n",
        "!pip install -U accelerate -q\n",
        "! pip install -U unstructured numpy -q\n",
        "! pip install openai==0.27.7 \\\n",
        "   chromadb -q\n",
        "! pip install pypdf -q\n"
      ]
    },
    {
      "cell_type": "code",
      "source": [
        "\n",
        "from google.colab import output\n",
        "output.enable_custom_widget_manager()"
      ],
      "metadata": {
        "id": "2sGhLPYoKNal"
      },
      "execution_count": 4,
      "outputs": []
    },
    {
      "cell_type": "code",
      "source": [
        "from google.colab import drive\n",
        "drive.mount('/content/drive')"
      ],
      "metadata": {
        "colab": {
          "base_uri": "https://localhost:8080/"
        },
        "id": "_aMLt2iSKNX9",
        "outputId": "0d1e9d39-2911-485d-cf4f-ab5063b15b29"
      },
      "execution_count": 5,
      "outputs": [
        {
          "output_type": "stream",
          "name": "stdout",
          "text": [
            "Mounted at /content/drive\n"
          ]
        }
      ]
    },
    {
      "cell_type": "code",
      "source": [
        "from google.colab import userdata\n",
        "openai_api_key = userdata.get('KEY_OPENAI')"
      ],
      "metadata": {
        "id": "XdFhRM0dKNVY"
      },
      "execution_count": 6,
      "outputs": []
    },
    {
      "cell_type": "code",
      "source": [
        "import os\n",
        "from langchain.prompts import ChatPromptTemplate, HumanMessagePromptTemplate\n",
        "from langchain.chat_models import ChatOpenAI\n",
        "\n",
        "from langchain.output_parsers import PydanticOutputParser\n",
        "from pydantic import BaseModel, Field\n",
        "from typing import List"
      ],
      "metadata": {
        "id": "LoimMny0Nsyz"
      },
      "execution_count": 13,
      "outputs": []
    },
    {
      "cell_type": "code",
      "source": [
        "# To help construct our Chat Messages\n",
        "from langchain.schema import HumanMessage\n",
        "from langchain.prompts import PromptTemplate, ChatPromptTemplate, HumanMessagePromptTemplate\n",
        "\n",
        "# We will be using a chat model, defaults to gpt-3.5-turbo\n",
        "from langchain_community.chat_models import ChatOpenAI\n",
        "\n",
        "# To parse outputs and get structured data back\n",
        "from langchain.output_parsers import StructuredOutputParser, ResponseSchema\n",
        "\n",
        "chat_model = ChatOpenAI(temperature=0, model_name='gpt-3.5-turbo', openai_api_key=openai_api_key)"
      ],
      "metadata": {
        "colab": {
          "base_uri": "https://localhost:8080/"
        },
        "id": "7ySvafXC7AXR",
        "outputId": "157836a9-b43c-4ee5-da5d-fc7c07f61749"
      },
      "execution_count": 8,
      "outputs": [
        {
          "output_type": "stream",
          "name": "stderr",
          "text": [
            "/usr/local/lib/python3.10/dist-packages/langchain_core/_api/deprecation.py:117: LangChainDeprecationWarning: The class `langchain_community.chat_models.openai.ChatOpenAI` was deprecated in langchain-community 0.0.10 and will be removed in 0.2.0. An updated version of the class exists in the langchain-openai package and should be used instead. To use it run `pip install -U langchain-openai` and import as `from langchain_openai import ChatOpenAI`.\n",
            "  warn_deprecated(\n"
          ]
        }
      ]
    },
    {
      "cell_type": "code",
      "source": [
        "instructions = \"\"\"\n",
        "You will be given a sentence with person names and a sentence, extract those names and assign an emoji to them based on the emotion extracted from the sentence assigned to each person. Provide a simple explanation of the emoji as well\n",
        "Return the person name and emojis in a python dictionary\n",
        "\"\"\"\n",
        "\n",
        "text = \"\"\"\n",
        "John says that today he feels a bit under the water, Maria it is surprised and just try to cheer him up and Mathias it is not attending as he is very busy.\n",
        "\"\"\""
      ],
      "metadata": {
        "id": "IVsnMEY27ATa"
      },
      "execution_count": 55,
      "outputs": []
    },
    {
      "cell_type": "code",
      "source": [
        "# Make your prompt which combines the instructions w/ the fruit names\n",
        "prompt = (instructions + text)\n",
        "\n",
        "# Call the LLM\n",
        "output = chat_model.invoke([HumanMessage(content=prompt)])\n",
        "\n",
        "print (output.content)\n",
        "print (type(output.content))"
      ],
      "metadata": {
        "colab": {
          "base_uri": "https://localhost:8080/"
        },
        "id": "nvbbVEku_9Ij",
        "outputId": "5a26c868-92df-43fd-e7d9-5c9eaaa9b229"
      },
      "execution_count": 56,
      "outputs": [
        {
          "output_type": "stream",
          "name": "stdout",
          "text": [
            "{\n",
            "    \"John\": \"😞\",\n",
            "    \"Maria\": \"😲\",\n",
            "    \"Mathias\": \"🕰️\"\n",
            "}\n",
            "\n",
            "Explanation of emojis:\n",
            "😞 - John is feeling a bit under the water, so this emoji represents sadness or feeling down.\n",
            "😲 - Maria is surprised, so this emoji represents shock or surprise.\n",
            "🕰️ - Mathias is very busy and not attending, so this emoji represents being preoccupied or occupied with something else.\n",
            "<class 'str'>\n"
          ]
        }
      ]
    },
    {
      "cell_type": "code",
      "source": [
        "# Define a new Pydantic model with field descriptions and tailored for Twitter.\n",
        "class TwitterUser(BaseModel):\n",
        "    name: str = Field(description=\"Full name of the user.\")\n",
        "    handle: str = Field(description=\"Twitter handle of the user, without the '@'.\")\n",
        "    age: int = Field(description=\"Age of the user.\")\n",
        "    hobbies: List[str] = Field(description=\"List of hobbies of the user.\")\n",
        "    email: str = Field(description=\"Email address of the user.\")\n",
        "    bio: str = Field(description=\"Bio or short description about the user.\")\n",
        "    location: str = Field(description=\"Location or region where the user resides.\")\n",
        "    is_blue_badge: bool = Field(\n",
        "        description=\"Boolean indicating if the user has a verified blue badge.\"\n",
        "    )\n",
        "    joined: str = Field(description=\"Date the user joined Twitter.\")\n",
        "    gender: str = Field(description=\"Gender of the user.\")\n",
        "    appearance: str = Field(description=\"Physical description of the user.\")\n",
        "    avatar_prompt: str = Field(\n",
        "        description=\"Prompt for generating a photorealistic avatar image. The image should capture the essence of the user's appearance description, ideally in a setting that aligns with their interests or bio. Use professional equipment to ensure high quality and fine details.\"\n",
        "    )\n",
        "    banner_prompt: str = Field(\n",
        "        description=\"Prompt for generating a banner image. This image should represent the user's hobbies, interests, or the essence of their bio. It should be high-resolution and captivating, suitable for a Twitter profile banner.\"\n",
        "    )"
      ],
      "metadata": {
        "id": "G5Co1JDNNxOn"
      },
      "execution_count": 14,
      "outputs": []
    },
    {
      "cell_type": "code",
      "source": [
        "# Instantiate the parser with the new model.\n",
        "parser = PydanticOutputParser(pydantic_object=TwitterUser)\n",
        "\n",
        "# Update the prompt to match the new query and desired format.\n",
        "prompt = ChatPromptTemplate(\n",
        "    messages=[\n",
        "        HumanMessagePromptTemplate.from_template(\n",
        "            \"answer the users question as best as possible.\\n{format_instructions}\\n{question}\"\n",
        "        )\n",
        "    ],\n",
        "    input_variables=[\"question\"],\n",
        "    partial_variables={\n",
        "        \"format_instructions\": parser.get_format_instructions(),\n",
        "    },\n",
        ")"
      ],
      "metadata": {
        "id": "gBXceXJgN1gm"
      },
      "execution_count": 58,
      "outputs": []
    },
    {
      "cell_type": "code",
      "source": [
        "file_path = \"/content/drive/MyDrive/data/elon.pdf\"\n",
        ""
      ],
      "metadata": {
        "id": "0u9NBhPf7AJO"
      },
      "execution_count": 57,
      "outputs": []
    },
    {
      "cell_type": "code",
      "source": [
        "from langchain.document_loaders import PyPDFLoader\n",
        "import pprint\n",
        "loader = PyPDFLoader(file_path)\n",
        "document = loader.load()\n"
      ],
      "metadata": {
        "id": "Sku9VsGGKNO4"
      },
      "execution_count": 59,
      "outputs": []
    },
    {
      "cell_type": "code",
      "source": [
        "document[0].metadata"
      ],
      "metadata": {
        "colab": {
          "base_uri": "https://localhost:8080/"
        },
        "id": "Fixk2WcHcVpV",
        "outputId": "cec7b230-ffc8-4819-8248-d575dd11e877"
      },
      "execution_count": 60,
      "outputs": [
        {
          "output_type": "execute_result",
          "data": {
            "text/plain": [
              "{'source': '/content/drive/MyDrive/data/elon.pdf', 'page': 0}"
            ]
          },
          "metadata": {},
          "execution_count": 60
        }
      ]
    },
    {
      "cell_type": "code",
      "source": [
        "document[0].page_content"
      ],
      "metadata": {
        "colab": {
          "base_uri": "https://localhost:8080/",
          "height": 122
        },
        "id": "TnOEsJhjchlU",
        "outputId": "b77b9d51-8b85-45f9-844a-143cd37d482b"
      },
      "execution_count": 61,
      "outputs": [
        {
          "output_type": "execute_result",
          "data": {
            "text/plain": [
              "\"Elon MuskShort portrait.Elon Musk, a 51-year-old male entrepreneur, inventor, and CEO, is best known for his ambitiousgoals in revolutionizing transportation and energy. Born in Pretoria, South Africa, Musk latermoved to the United States to pursue higher education. He attended Queen's University inKingston, Ontario, Canada for two years before transferring to the University of Pennsylvania.As a visionary with a normal build, short-cropped hair, and a trimmed beard, Musk often sportstailored suits or smart casual attire, giving him a confident yet approachable demeanor.Throughout his career, Musk has founded and led several successful companies, includingSpaceX, Tesla, Neuralink, and The Boring Company. His interests span across various fields suchas space exploration, electric vehicles, artificial intelligence, sustainable energy, tunnelconstruction, neural interfaces, Mars colonization, and hyperloop transportation. With hisdedication to advancing technology and sustainable solutions, Elon Musk continues to leave anindelible mark on the world.\""
            ],
            "application/vnd.google.colaboratory.intrinsic+json": {
              "type": "string"
            }
          },
          "metadata": {},
          "execution_count": 61
        }
      ]
    },
    {
      "cell_type": "code",
      "source": [
        "document_query = \"Create a profile based on this description: \" + document[0].page_content\n",
        "\n",
        "_input = prompt.format_prompt(question=document_query)\n",
        "output = chat_model.invoke(_input.to_messages())\n",
        "parsed = parser.parse(output.content)\n",
        "\n",
        "pprint.pprint(parsed)\n"
      ],
      "metadata": {
        "id": "76PrbUYdL9GT",
        "colab": {
          "base_uri": "https://localhost:8080/"
        },
        "outputId": "500a3404-e115-4cb4-afe8-a5baafca71a1"
      },
      "execution_count": 62,
      "outputs": [
        {
          "output_type": "stream",
          "name": "stdout",
          "text": [
            "TwitterUser(name='Elon Musk', handle='elonmusk', age=51, hobbies=['space exploration', 'electric vehicles', 'artificial intelligence', 'sustainable energy', 'tunnel construction', 'neural interfaces', 'Mars colonization', 'hyperloop transportation'], email='elonmusk@example.com', bio='Elon Musk, a 51-year-old male entrepreneur, inventor, and CEO, is best known for his ambitious goals in revolutionizing transportation and energy.', location='United States', is_blue_badge=True, joined='2009-06-02', gender='male', appearance='normal build, short-cropped hair, trimmed beard, often in tailored suits or smart casual attire', avatar_prompt=\"Create a photorealistic avatar image capturing Elon Musk's visionary appearance, ideally in a setting that aligns with his interests in technology and innovation.\", banner_prompt=\"Generate a high-resolution banner image representing Elon Musk's diverse interests in space exploration, electric vehicles, artificial intelligence, sustainable energy, and more.\")\n"
          ]
        }
      ]
    },
    {
      "cell_type": "code",
      "source": [
        "pprint.pprint(parsed.dict())\n"
      ],
      "metadata": {
        "colab": {
          "base_uri": "https://localhost:8080/"
        },
        "id": "yTzA9z0LL9Db",
        "outputId": "7c0c0ce4-82c4-43f1-f40a-163bf163d28a"
      },
      "execution_count": 63,
      "outputs": [
        {
          "output_type": "stream",
          "name": "stdout",
          "text": [
            "{'age': 51,\n",
            " 'appearance': 'normal build, short-cropped hair, trimmed beard, often in '\n",
            "               'tailored suits or smart casual attire',\n",
            " 'avatar_prompt': \"Create a photorealistic avatar image capturing Elon Musk's \"\n",
            "                  'visionary appearance, ideally in a setting that aligns with '\n",
            "                  'his interests in technology and innovation.',\n",
            " 'banner_prompt': 'Generate a high-resolution banner image representing Elon '\n",
            "                  \"Musk's diverse interests in space exploration, electric \"\n",
            "                  'vehicles, artificial intelligence, sustainable energy, and '\n",
            "                  'more.',\n",
            " 'bio': 'Elon Musk, a 51-year-old male entrepreneur, inventor, and CEO, is '\n",
            "        'best known for his ambitious goals in revolutionizing transportation '\n",
            "        'and energy.',\n",
            " 'email': 'elonmusk@example.com',\n",
            " 'gender': 'male',\n",
            " 'handle': 'elonmusk',\n",
            " 'hobbies': ['space exploration',\n",
            "             'electric vehicles',\n",
            "             'artificial intelligence',\n",
            "             'sustainable energy',\n",
            "             'tunnel construction',\n",
            "             'neural interfaces',\n",
            "             'Mars colonization',\n",
            "             'hyperloop transportation'],\n",
            " 'is_blue_badge': True,\n",
            " 'joined': '2009-06-02',\n",
            " 'location': 'United States',\n",
            " 'name': 'Elon Musk'}\n"
          ]
        }
      ]
    },
    {
      "cell_type": "markdown",
      "source": [
        "# Second Example\n"
      ],
      "metadata": {
        "id": "KIbzJerGQZ4s"
      }
    },
    {
      "cell_type": "code",
      "source": [
        "file_path = \"/content/drive/MyDrive/data/Uber-Q4-23-Prepared-Remarks.pdf\""
      ],
      "metadata": {
        "id": "9XJE3I7BQVVX"
      },
      "execution_count": 64,
      "outputs": []
    },
    {
      "cell_type": "code",
      "source": [
        "loader = PyPDFLoader(file_path)\n",
        "document = loader.load()"
      ],
      "metadata": {
        "id": "P3uVvNYsQniR"
      },
      "execution_count": 65,
      "outputs": []
    },
    {
      "cell_type": "code",
      "source": [
        "class FinancialData(BaseModel):\n",
        "    name: str = Field(..., description=\"Name of the financial figure, such as revenue.\")\n",
        "    value: int = Field(..., description=\"Nominal earnings in local currency.\")\n",
        "    scale: str = Field(..., description=\"Scale of figure, such as MM, B, or percent.\")\n",
        "    period_start: str = Field(..., description=\"The start of the time period in ISO format.\")\n",
        "    period_duration: int = Field(..., description=\"Duration of period, in months\")\n",
        "    evidence: str = Field(..., description=\"Verbatim sentence of text where figure was found.\")\n",
        "\n",
        "data = {\n",
        "    \"description\": \"Financial revenues and other figures.\",\n",
        "    \"schema\": FinancialData.schema(),\n",
        "    \"instruction\": (\n",
        "        \"Extract standard financial figures, specifically earnings and \"\n",
        "        \"revenue figures.\"\n",
        "    )\n",
        "}"
      ],
      "metadata": {
        "id": "bLVz1lrKQnfu"
      },
      "execution_count": 66,
      "outputs": []
    },
    {
      "cell_type": "code",
      "source": [
        "# Instantiate the parser with the new model.\n",
        "parser = PydanticOutputParser(pydantic_object=FinancialData)\n",
        "\n",
        "# Update the prompt to match the new query and desired format.\n",
        "prompt = ChatPromptTemplate(\n",
        "    messages=[\n",
        "        HumanMessagePromptTemplate.from_template(\n",
        "            \"answer the users question as best as possible.\\n{format_instructions}\\n{question}\"\n",
        "        )\n",
        "    ],\n",
        "    input_variables=[\"question\"],\n",
        "    partial_variables={\n",
        "        \"format_instructions\": parser.get_format_instructions(),\n",
        "    },\n",
        ")"
      ],
      "metadata": {
        "id": "owmVE0BqQnc5"
      },
      "execution_count": 67,
      "outputs": []
    },
    {
      "cell_type": "code",
      "source": [
        "document_query = \"Extract financial key data values from this report: \" + document[0].page_content\n",
        "\n",
        "_input = prompt.format_prompt(question=document_query)\n",
        "output = chat_model.invoke(_input.to_messages())\n",
        "parsed = parser.parse(output.content)\n",
        "\n",
        "pprint.pprint(parsed)"
      ],
      "metadata": {
        "colab": {
          "base_uri": "https://localhost:8080/"
        },
        "id": "mSNbb97zQnZ-",
        "outputId": "189f1799-b533-4382-b39f-01804c625bd3"
      },
      "execution_count": 68,
      "outputs": [
        {
          "output_type": "stream",
          "name": "stdout",
          "text": [
            "FinancialData(name='Adjusted EBITDA', value=1300000000, scale='MM', period_start='2023-01-01', period_duration=12, evidence='These strong top-line trends, combined with continued rigor on costs, translated to $1.3 billion in Adjusted EBITDA and $652 million in GAAP operating income.')\n"
          ]
        }
      ]
    },
    {
      "cell_type": "code",
      "source": [
        "pprint.pprint(parsed.dict())"
      ],
      "metadata": {
        "colab": {
          "base_uri": "https://localhost:8080/"
        },
        "id": "jNLJcUyzRUxe",
        "outputId": "b66d74fa-c4d7-4aef-b571-2ec08addc885"
      },
      "execution_count": 69,
      "outputs": [
        {
          "output_type": "stream",
          "name": "stdout",
          "text": [
            "{'evidence': 'These strong top-line trends, combined with continued rigor on '\n",
            "             'costs, translated to $1.3 billion in Adjusted EBITDA and $652 '\n",
            "             'million in GAAP operating income.',\n",
            " 'name': 'Adjusted EBITDA',\n",
            " 'period_duration': 12,\n",
            " 'period_start': '2023-01-01',\n",
            " 'scale': 'MM',\n",
            " 'value': 1300000000}\n"
          ]
        }
      ]
    }
  ]
}