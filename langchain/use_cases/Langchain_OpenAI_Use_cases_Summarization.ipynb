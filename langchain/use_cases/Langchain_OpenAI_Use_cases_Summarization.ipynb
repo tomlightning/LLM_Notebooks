{
  "nbformat": 4,
  "nbformat_minor": 0,
  "metadata": {
    "colab": {
      "provenance": [],
      "machine_shape": "hm",
      "authorship_tag": "ABX9TyNUNgbs/91beS8libvD4S34",
      "include_colab_link": true
    },
    "kernelspec": {
      "name": "python3",
      "display_name": "Python 3"
    },
    "language_info": {
      "name": "python"
    }
  },
  "cells": [
    {
      "cell_type": "markdown",
      "metadata": {
        "id": "view-in-github",
        "colab_type": "text"
      },
      "source": [
        "<a href=\"https://colab.research.google.com/github/olonok69/LLM_Notebooks/blob/main/langchain/use_cases/Langchain_OpenAI_Use_cases_Summarization.ipynb\" target=\"_parent\"><img src=\"https://colab.research.google.com/assets/colab-badge.svg\" alt=\"Open In Colab\"/></a>"
      ]
    },
    {
      "cell_type": "markdown",
      "source": [
        "# LangChain\n",
        "\n",
        "LangChain is a framework for developing applications powered by language models.\n",
        "\n",
        "https://python.langchain.com/docs/use_cases\n",
        "\n",
        "## Langchain Summarization\n",
        "\n",
        "https://python.langchain.com/docs/get_started/introduction\n",
        "\n",
        "https://python.langchain.com/docs/use_cases/summarization\n",
        "\n",
        "https://python.langchain.com/docs/modules/model_io/prompts/\n",
        "\n",
        "https://python.langchain.com/docs/modules/data_connection/document_transformers/recursive_text_splitter"
      ],
      "metadata": {
        "id": "J2qcri2WPycg"
      }
    },
    {
      "cell_type": "code",
      "execution_count": 50,
      "metadata": {
        "id": "PAO4dulnEUOJ"
      },
      "outputs": [],
      "source": [
        "!pip install langchain langchain-community tiktoken -q\n",
        "!pip install -U accelerate -q\n",
        "! pip install -U unstructured numpy -q\n",
        "! pip install openai chroma -q"
      ]
    },
    {
      "cell_type": "code",
      "source": [
        "\n",
        "from google.colab import output\n",
        "output.enable_custom_widget_manager()"
      ],
      "metadata": {
        "id": "2sGhLPYoKNal"
      },
      "execution_count": 51,
      "outputs": []
    },
    {
      "cell_type": "code",
      "source": [
        "from google.colab import drive\n",
        "drive.mount('/content/drive')"
      ],
      "metadata": {
        "colab": {
          "base_uri": "https://localhost:8080/"
        },
        "id": "_aMLt2iSKNX9",
        "outputId": "7752aeeb-3421-4760-fc43-0ac8fc214452"
      },
      "execution_count": 52,
      "outputs": [
        {
          "output_type": "stream",
          "name": "stdout",
          "text": [
            "Drive already mounted at /content/drive; to attempt to forcibly remount, call drive.mount(\"/content/drive\", force_remount=True).\n"
          ]
        }
      ]
    },
    {
      "cell_type": "code",
      "source": [
        "from google.colab import userdata\n",
        "openai_api_key = userdata.get('KEY_OPENAI')"
      ],
      "metadata": {
        "id": "XdFhRM0dKNVY"
      },
      "execution_count": 53,
      "outputs": []
    },
    {
      "cell_type": "code",
      "source": [
        "from langchain_community.llms import OpenAI\n",
        "from langchain import PromptTemplate\n",
        "import pprint\n",
        "\n",
        "\n",
        "llm = OpenAI(temperature=0, model_name='gpt-3.5-turbo-instruct', openai_api_key=openai_api_key)\n",
        "\n",
        "# Create our template\n",
        "template = \"\"\"\n",
        "%INSTRUCTIONS:\n",
        "Summarize the following text and format output in lines of no more of 30 words. after each line introduce a return line.\n",
        "Respond in manner that a non-specialist on the matter would undestand.\n",
        "\n",
        "%TEXT:\n",
        "{text}\n",
        "\"\"\"\n",
        "\n",
        "# Create LangChain prompt template\n",
        "prompt = PromptTemplate(\n",
        "    input_variables=[\"text\"],\n",
        "    template=template,\n",
        ")"
      ],
      "metadata": {
        "id": "Sku9VsGGKNO4"
      },
      "execution_count": 54,
      "outputs": []
    },
    {
      "cell_type": "code",
      "source": [
        "sample1= \"\"\"\n",
        "The head of the Allied Pilots Association, the pilots union for American Airlines, insists he would never board an aircraft if it were not safe.\n",
        "\n",
        "But he says he can no longer take the quality of the plane he's flying for granted.\n",
        "\n",
        "\"I'm at an alert status that I've never had to be in on a Boeing airplane,\" he says.\n",
        "\n",
        "\"Because I don't trust that they've followed the processes that have previously kept me safe on Boeing airplanes for over three decades.\"\n",
        "\n",
        "Executives at the aerospace giant's shiny new headquarters in Arlington, Virginia could be forgiven for feeling like they are under siege.\n",
        "\n",
        "Every day seems to bring more bad headlines for the company, which is coming under pressure from regulators and airlines, and has seen its reputation badly damaged.\n",
        "\n",
        "The trouble began in January, when a disused emergency exit door blew off a brand new Boeing 737 Max shortly after take-off from Portland International Airport.\n",
        "\n",
        "An initial report from the US National Transportation Safety Board concluded that four bolts meant to attach the door securely to the aircraft had not been fitted.\n",
        "\"\"\""
      ],
      "metadata": {
        "id": "76PrbUYdL9GT"
      },
      "execution_count": 55,
      "outputs": []
    },
    {
      "cell_type": "code",
      "source": [
        "final_prompt = prompt.format(text=sample1)\n",
        "\n",
        "print(final_prompt)\n"
      ],
      "metadata": {
        "colab": {
          "base_uri": "https://localhost:8080/"
        },
        "id": "yTzA9z0LL9Db",
        "outputId": "b602b97d-c286-491c-df0e-7ee5fad91465"
      },
      "execution_count": 56,
      "outputs": [
        {
          "output_type": "stream",
          "name": "stdout",
          "text": [
            "\n",
            "%INSTRUCTIONS:\n",
            "Summarize the following text and format output in lines of no more of 30 words. after each line introduce a return line.\n",
            "Respond in manner that a non-specialist on the matter would undestand.\n",
            "\n",
            "%TEXT:\n",
            "\n",
            "The head of the Allied Pilots Association, the pilots union for American Airlines, insists he would never board an aircraft if it were not safe.\n",
            "\n",
            "But he says he can no longer take the quality of the plane he's flying for granted.\n",
            "\n",
            "\"I'm at an alert status that I've never had to be in on a Boeing airplane,\" he says.\n",
            "\n",
            "\"Because I don't trust that they've followed the processes that have previously kept me safe on Boeing airplanes for over three decades.\"\n",
            "\n",
            "Executives at the aerospace giant's shiny new headquarters in Arlington, Virginia could be forgiven for feeling like they are under siege.\n",
            "\n",
            "Every day seems to bring more bad headlines for the company, which is coming under pressure from regulators and airlines, and has seen its reputation badly damaged.\n",
            "\n",
            "The trouble began in January, when a disused emergency exit door blew off a brand new Boeing 737 Max shortly after take-off from Portland International Airport.\n",
            "\n",
            "An initial report from the US National Transportation Safety Board concluded that four bolts meant to attach the door securely to the aircraft had not been fitted.\n",
            "\n",
            "\n"
          ]
        }
      ]
    },
    {
      "cell_type": "code",
      "source": [
        "output = llm.invoke(final_prompt)\n",
        "pprint.pprint(output)"
      ],
      "metadata": {
        "colab": {
          "base_uri": "https://localhost:8080/"
        },
        "id": "PL7P9JfDL9BK",
        "outputId": "b07d77d0-b1f2-40c9-f178-eb99c6a45fc7"
      },
      "execution_count": 57,
      "outputs": [
        {
          "output_type": "stream",
          "name": "stdout",
          "text": [
            "('\\n'\n",
            " 'The head of the pilots union for American Airlines is concerned about the '\n",
            " 'safety of Boeing planes. He no longer trusts their processes and executives '\n",
            " 'are under pressure due to recent incidents.')\n"
          ]
        }
      ]
    },
    {
      "cell_type": "markdown",
      "source": [
        "# Summarize a book"
      ],
      "metadata": {
        "id": "5lc527wLOCaW"
      }
    },
    {
      "cell_type": "code",
      "source": [
        "from langchain.llms import OpenAI\n",
        "from langchain.chains.summarize import load_summarize_chain\n",
        "from langchain.text_splitter import RecursiveCharacterTextSplitter\n",
        "\n",
        "llm = OpenAI(temperature=0, openai_api_key=openai_api_key)"
      ],
      "metadata": {
        "id": "cycRNN9eL87L"
      },
      "execution_count": 58,
      "outputs": []
    },
    {
      "cell_type": "code",
      "source": [
        "text_path = \"/content/drive/MyDrive/data (1)/book.txt\"\n",
        "\n",
        "with open(text_path, 'r') as file:\n",
        "    text = file.read()\n",
        "\n",
        "# PPrinting the first 1000 characters\n",
        "pprint.pprint(text[:1000])"
      ],
      "metadata": {
        "colab": {
          "base_uri": "https://localhost:8080/"
        },
        "id": "bwJjZN8oOLYR",
        "outputId": "58ec4095-c1aa-414c-fe86-a4e3fb35d0dc"
      },
      "execution_count": 59,
      "outputs": [
        {
          "output_type": "stream",
          "name": "stdout",
          "text": [
            "('Project Gutenberg eBook of The Great Gatsby\\n'\n",
            " '    \\n'\n",
            " 'This ebook is for the use of anyone anywhere in the United States and\\n'\n",
            " 'most other parts of the world at no cost and with almost no restrictions\\n'\n",
            " 'whatsoever. You may copy it, give it away or re-use it under the terms\\n'\n",
            " 'of the Project Gutenberg License included with this ebook or online\\n'\n",
            " 'at www.gutenberg.org. If you are not located in the United States,\\n'\n",
            " 'you will have to check the laws of the country where you are located\\n'\n",
            " 'before using this eBook.\\n'\n",
            " '\\n'\n",
            " 'Title: The Great Gatsby\\n'\n",
            " '\\n'\n",
            " '\\n'\n",
            " 'Author: F. Scott Fitzgerald\\n'\n",
            " '\\n'\n",
            " 'Release date: January 17, 2021 [eBook #64317]\\n'\n",
            " '                Most recently updated: February 2, 2024\\n'\n",
            " '\\n'\n",
            " 'Language: English\\n'\n",
            " '\\n'\n",
            " 'Credits: Produced by Alex Cabal for the Standard Ebooks project, based on a '\n",
            " 'transcription produced for Project Gutenberg Australia.\\n'\n",
            " '\\n'\n",
            " '\\n'\n",
            " '*** START OF THE PROJECT GUTENBERG EBOOK THE GREAT GATSBY ***\\n'\n",
            " '\\n'\n",
            " '\\n'\n",
            " '\\n'\n",
            " '\\n'\n",
            " '                           The Great Gatsby\\n'\n",
            " '                                  by\\n'\n",
            " '                          F. Scott Fitzgerald\\n'\n",
            " '\\n'\n",
            " '\\n'\n",
            " ' ')\n"
          ]
        }
      ]
    },
    {
      "cell_type": "code",
      "source": [
        "num_tokens = llm.get_num_tokens(text)\n",
        "\n",
        "print (f\"There are {num_tokens} tokens in your file\")"
      ],
      "metadata": {
        "colab": {
          "base_uri": "https://localhost:8080/"
        },
        "id": "pGuietfoOhUT",
        "outputId": "f912048e-65c0-47d9-8f6e-e6f52d6c3439"
      },
      "execution_count": 60,
      "outputs": [
        {
          "output_type": "stream",
          "name": "stdout",
          "text": [
            "There are 69499 tokens in your file\n"
          ]
        }
      ]
    },
    {
      "cell_type": "code",
      "source": [
        "text_splitter = RecursiveCharacterTextSplitter(separators=[\"\\n\\n\", \"\\n\"], chunk_size=5000, chunk_overlap=300)\n",
        "docs = text_splitter.create_documents([text])\n",
        "\n",
        "print (f\"You now have {len(docs)} docs intead of 1 piece of text\")"
      ],
      "metadata": {
        "colab": {
          "base_uri": "https://localhost:8080/"
        },
        "id": "K6kQktRNOhQ0",
        "outputId": "b8d4373a-2f30-4adc-8a65-ed675e0ac1aa"
      },
      "execution_count": 63,
      "outputs": [
        {
          "output_type": "stream",
          "name": "stdout",
          "text": [
            "You now have 63 docs intead of 1 piece of text\n"
          ]
        }
      ]
    },
    {
      "cell_type": "code",
      "source": [
        "docs[0].page_content"
      ],
      "metadata": {
        "colab": {
          "base_uri": "https://localhost:8080/",
          "height": 122
        },
        "id": "P7tyGKu9V1Zt",
        "outputId": "db62edbb-4437-45f6-8cce-6d6f5639be85"
      },
      "execution_count": 64,
      "outputs": [
        {
          "output_type": "execute_result",
          "data": {
            "text/plain": [
              "'Project Gutenberg eBook of The Great Gatsby\\n    \\nThis ebook is for the use of anyone anywhere in the United States and\\nmost other parts of the world at no cost and with almost no restrictions\\nwhatsoever. You may copy it, give it away or re-use it under the terms\\nof the Project Gutenberg License included with this ebook or online\\nat www.gutenberg.org. If you are not located in the United States,\\nyou will have to check the laws of the country where you are located\\nbefore using this eBook.\\n\\nTitle: The Great Gatsby\\n\\n\\nAuthor: F. Scott Fitzgerald\\n\\nRelease date: January 17, 2021 [eBook #64317]\\n                Most recently updated: February 2, 2024\\n\\nLanguage: English\\n\\nCredits: Produced by Alex Cabal for the Standard Ebooks project, based on a transcription produced for Project Gutenberg Australia.\\n\\n\\n*** START OF THE PROJECT GUTENBERG EBOOK THE GREAT GATSBY ***\\n\\n\\n\\n\\n                           The Great Gatsby\\n                                  by\\n                          F. Scott Fitzgerald\\n\\n\\n                           Table of Contents\\n\\nI\\nII\\nIII\\nIV\\nV\\nVI\\nVII\\nVIII\\nIX\\n\\n\\n                              Once again\\n                                  to\\n                                 Zelda\\n\\n\\n  Then wear the gold hat, if that will move her;\\n  If you can bounce high, bounce for her too,\\n  Till she cry “Lover, gold-hatted, high-bouncing lover,\\n  I must have you!”\\n\\n  Thomas Parke d’Invilliers\\n\\n\\n                                  I\\n\\nIn my younger and more vulnerable years my father gave me some advice\\nthat I’ve been turning over in my mind ever since.\\n\\n“Whenever you feel like criticizing anyone,” he told me, “just\\nremember that all the people in this world haven’t had the advantages\\nthat you’ve had.”\\n\\nHe didn’t say any more, but we’ve always been unusually communicative\\nin a reserved way, and I understood that he meant a great deal more\\nthan that. In consequence, I’m inclined to reserve all judgements, a\\nhabit that has opened up many curious natures to me and also made me\\nthe victim of not a few veteran bores. The abnormal mind is quick to\\ndetect and attach itself to this quality when it appears in a normal\\nperson, and so it came about that in college I was unjustly accused of\\nbeing a politician, because I was privy to the secret griefs of wild,\\nunknown men. Most of the confidences were unsought—frequently I have\\nfeigned sleep, preoccupation, or a hostile levity when I realized by\\nsome unmistakable sign that an intimate revelation was quivering on\\nthe horizon; for the intimate revelations of young men, or at least\\nthe terms in which they express them, are usually plagiaristic and\\nmarred by obvious suppressions. Reserving judgements is a matter of\\ninfinite hope. I am still a little afraid of missing something if I\\nforget that, as my father snobbishly suggested, and I snobbishly\\nrepeat, a sense of the fundamental decencies is parcelled out\\nunequally at birth.\\n\\nAnd, after boasting this way of my tolerance, I come to the admission\\nthat it has a limit. Conduct may be founded on the hard rock or the\\nwet marshes, but after a certain point I don’t care what it’s founded\\non. When I came back from the East last autumn I felt that I wanted\\nthe world to be in uniform and at a sort of moral attention forever; I\\nwanted no more riotous excursions with privileged glimpses into the\\nhuman heart. Only Gatsby, the man who gives his name to this book, was\\nexempt from my reaction—Gatsby, who represented everything for which I\\nhave an unaffected scorn. If personality is an unbroken series of\\nsuccessful gestures, then there was something gorgeous about him, some\\nheightened sensitivity to the promises of life, as if he were related\\nto one of those intricate machines that register earthquakes ten\\nthousand miles away. This responsiveness had nothing to do with that\\nflabby impressionability which is dignified under the name of the\\n“creative temperament”—it was an extraordinary gift for hope, a\\nromantic readiness such as I have never found in any other person and\\nwhich it is not likely I shall ever find again. No—Gatsby turned out\\nall right at the end; it is what preyed on Gatsby, what foul dust\\nfloated in the wake of his dreams that temporarily closed out my\\ninterest in the abortive sorrows and short-winded elations of men.\\n\\n------------------------------------------------------------------------\\n\\nMy family have been prominent, well-to-do people in this Middle\\nWestern city for three generations. The Carraways are something of a\\nclan, and we have a tradition that we’re descended from the Dukes of\\nBuccleuch, but the actual founder of my line was my grandfather’s\\nbrother, who came here in fifty-one, sent a substitute to the Civil\\nWar, and started the wholesale hardware business that my father\\ncarries on today.'"
            ],
            "application/vnd.google.colaboratory.intrinsic+json": {
              "type": "string"
            }
          },
          "metadata": {},
          "execution_count": 64
        }
      ]
    },
    {
      "cell_type": "code",
      "source": [
        "len(docs[0].page_content)"
      ],
      "metadata": {
        "colab": {
          "base_uri": "https://localhost:8080/"
        },
        "id": "6-8_7W7pMnL8",
        "outputId": "3a7fdf5f-c445-4b61-d610-85cd803fec8a"
      },
      "execution_count": 68,
      "outputs": [
        {
          "output_type": "execute_result",
          "data": {
            "text/plain": [
              "4746"
            ]
          },
          "metadata": {},
          "execution_count": 68
        }
      ]
    },
    {
      "cell_type": "code",
      "source": [
        "docs[0].metadata"
      ],
      "metadata": {
        "colab": {
          "base_uri": "https://localhost:8080/"
        },
        "id": "i3xGUzpNMuhX",
        "outputId": "47f79f38-ca96-4a03-97d8-8158ce522b2d"
      },
      "execution_count": 69,
      "outputs": [
        {
          "output_type": "execute_result",
          "data": {
            "text/plain": [
              "{}"
            ]
          },
          "metadata": {},
          "execution_count": 69
        }
      ]
    },
    {
      "cell_type": "code",
      "source": [
        "# Get your chain ready to use\n",
        "chain = load_summarize_chain(llm=llm, chain_type='map_reduce')#, verbose=True )"
      ],
      "metadata": {
        "id": "VJGn2ED3OhNq"
      },
      "execution_count": 70,
      "outputs": []
    },
    {
      "cell_type": "code",
      "source": [
        "output = chain.run(docs)\n",
        "pprint.pprint(output)"
      ],
      "metadata": {
        "colab": {
          "base_uri": "https://localhost:8080/"
        },
        "id": "5RqaHhCrOhKi",
        "outputId": "cef0a454-92c6-4256-e8ec-5c9eaa43f8a7"
      },
      "execution_count": 71,
      "outputs": [
        {
          "output_type": "stream",
          "name": "stdout",
          "text": [
            "('\\n'\n",
            " '\\n'\n",
            " '\"The Great Gatsby\" by F. Scott Fitzgerald is a free ebook available through '\n",
            " \"Project Gutenberg. It tells the story of Gatsby's love for Daisy and his \"\n",
            " 'mysterious past, as observed by the narrator Nick. The passage also '\n",
            " \"discusses Project Gutenberg's mission and terms for using and distributing \"\n",
            " 'free electronic works. ')\n"
          ]
        }
      ]
    },
    {
      "cell_type": "code",
      "source": [
        "text_splitter = RecursiveCharacterTextSplitter(separators=[\"\\n\\n\", \"\\n\"], chunk_size=5000, chunk_overlap=300)\n",
        "docs = text_splitter.create_documents([sample1])\n",
        "\n",
        "print (f\"You now have {len(docs)} docs intead of 1 piece of text\")"
      ],
      "metadata": {
        "colab": {
          "base_uri": "https://localhost:8080/"
        },
        "id": "5t1S7FIXNTJS",
        "outputId": "0e233763-45c8-49ca-c00c-a73d07f6a9f0"
      },
      "execution_count": 72,
      "outputs": [
        {
          "output_type": "stream",
          "name": "stdout",
          "text": [
            "You now have 1 docs intead of 1 piece of text\n"
          ]
        }
      ]
    },
    {
      "cell_type": "code",
      "source": [
        "# Get your chain ready to use\n",
        "chain1 = load_summarize_chain(llm=llm, chain_type='stuff')#, verbose=True )"
      ],
      "metadata": {
        "id": "4lheNvcmNTE2"
      },
      "execution_count": 73,
      "outputs": []
    },
    {
      "cell_type": "code",
      "source": [
        "output1 = chain1.run(docs)\n",
        "pprint.pprint(output1)"
      ],
      "metadata": {
        "colab": {
          "base_uri": "https://localhost:8080/"
        },
        "id": "PtIbNjh3NTAv",
        "outputId": "28e450c3-c293-47ae-e043-c621485cd66a"
      },
      "execution_count": 74,
      "outputs": [
        {
          "output_type": "stream",
          "name": "stdout",
          "text": [
            "(' The head of the pilots union for American Airlines expresses concern about '\n",
            " 'the safety of Boeing airplanes and states that he no longer trusts the '\n",
            " \"company's processes. Boeing is facing backlash and damage to its reputation \"\n",
            " 'after a series of incidents, including an emergency exit door blowing off a '\n",
            " 'new 737 Max due to missing bolts.')\n"
          ]
        }
      ]
    },
    {
      "cell_type": "code",
      "source": [
        "text_splitter = RecursiveCharacterTextSplitter(separators=[\"\\n\\n\", \"\\n\"], chunk_size=15000, chunk_overlap=300)\n",
        "docs = text_splitter.create_documents([text])\n",
        "\n",
        "print (f\"You now have {len(docs)} docs intead of 1 piece of text\")"
      ],
      "metadata": {
        "colab": {
          "base_uri": "https://localhost:8080/"
        },
        "id": "fxt1uPXHNo7O",
        "outputId": "aa1c5d6b-6c20-4d9f-f9ec-fb27d8b84e97"
      },
      "execution_count": 75,
      "outputs": [
        {
          "output_type": "stream",
          "name": "stdout",
          "text": [
            "You now have 20 docs intead of 1 piece of text\n"
          ]
        }
      ]
    },
    {
      "cell_type": "code",
      "source": [
        "output = chain.run(docs)\n",
        "pprint.pprint(output)"
      ],
      "metadata": {
        "colab": {
          "base_uri": "https://localhost:8080/"
        },
        "id": "YvuDeYCENo4W",
        "outputId": "22f0dd48-97a6-4eed-fd73-f74119d74a4b"
      },
      "execution_count": 76,
      "outputs": [
        {
          "output_type": "stream",
          "name": "stdout",
          "text": [
            "(\" This ebook is a free version of F. Scott Fitzgerald's novel, The Great \"\n",
            " 'Gatsby, available for use in most parts of the world under the Project '\n",
            " 'Gutenberg License. It follows the story of a man named Gatsby and his '\n",
            " 'relationship with the narrator, who reflects on his own life and the lives '\n",
            " 'of those around him, including the wealthy and powerful Tom Buchanan. Set in '\n",
            " 'the 1920s, the novel explores themes of love, wealth, and the American '\n",
            " 'Dream. The narrator also discusses his experiences in New York and his final '\n",
            " 'encounter with Gatsby before leaving. The ebook can be distributed and '\n",
            " 'accessed in various formats, but must include the full Project Gutenberg '\n",
            " 'License. Donations to the non-profit organization are appreciated to '\n",
            " 'continue providing free electronic works. ')\n"
          ]
        }
      ]
    },
    {
      "cell_type": "code",
      "source": [
        "('\\n'\n",
        " '\\n'\n",
        " '\"The Great Gatsby\" by F. Scott Fitzgerald is a free ebook available through '\n",
        " \"Project Gutenberg. It tells the story of Gatsby's love for Daisy and his \"\n",
        " 'mysterious past, as observed by the narrator Nick. The passage also '\n",
        " \"discusses Project Gutenberg's mission and terms for using and distributing \"\n",
        " 'free electronic works. ')"
      ],
      "metadata": {
        "id": "rQblrjjiNo05"
      },
      "execution_count": null,
      "outputs": []
    },
    {
      "cell_type": "code",
      "source": [],
      "metadata": {
        "id": "UHzlW8WRNox1"
      },
      "execution_count": null,
      "outputs": []
    }
  ]
}