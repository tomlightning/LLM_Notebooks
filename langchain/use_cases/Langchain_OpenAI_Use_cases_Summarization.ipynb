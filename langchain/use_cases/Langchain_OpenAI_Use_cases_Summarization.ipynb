{
  "nbformat": 4,
  "nbformat_minor": 0,
  "metadata": {
    "colab": {
      "provenance": [],
      "machine_shape": "hm",
      "authorship_tag": "ABX9TyM5OQElN0LI02KNDhBPx/Nn",
      "include_colab_link": true
    },
    "kernelspec": {
      "name": "python3",
      "display_name": "Python 3"
    },
    "language_info": {
      "name": "python"
    }
  },
  "cells": [
    {
      "cell_type": "markdown",
      "metadata": {
        "id": "view-in-github",
        "colab_type": "text"
      },
      "source": [
        "<a href=\"https://colab.research.google.com/github/olonok69/LLM_Notebooks/blob/main/langchain/use_cases/Langchain_OpenAI_Use_cases_Summarization.ipynb\" target=\"_parent\"><img src=\"https://colab.research.google.com/assets/colab-badge.svg\" alt=\"Open In Colab\"/></a>"
      ]
    },
    {
      "cell_type": "markdown",
      "source": [
        "## Langchain Summarization\n",
        "\n",
        "https://python.langchain.com/docs/get_started/introduction\n",
        "\n",
        "https://python.langchain.com/docs/use_cases/summarization\n",
        "\n",
        "https://python.langchain.com/docs/modules/model_io/prompts/\n",
        "\n",
        "https://python.langchain.com/docs/modules/data_connection/document_transformers/recursive_text_splitter"
      ],
      "metadata": {
        "id": "J2qcri2WPycg"
      }
    },
    {
      "cell_type": "code",
      "execution_count": 7,
      "metadata": {
        "colab": {
          "base_uri": "https://localhost:8080/"
        },
        "id": "PAO4dulnEUOJ",
        "outputId": "d9f22852-c38f-4d41-e1c3-23216b731e33"
      },
      "outputs": [
        {
          "output_type": "stream",
          "name": "stdout",
          "text": [
            "\u001b[2K     \u001b[90m━━━━━━━━━━━━━━━━━━━━━━━━━━━━━━━━━━━━━━━━\u001b[0m \u001b[32m257.5/257.5 kB\u001b[0m \u001b[31m3.4 MB/s\u001b[0m eta \u001b[36m0:00:00\u001b[0m\n",
            "\u001b[?25h  Preparing metadata (setup.py) ... \u001b[?25l\u001b[?25hdone\n",
            "\u001b[2K     \u001b[90m━━━━━━━━━━━━━━━━━━━━━━━━━━━━━━━━━━━━━━━━\u001b[0m \u001b[32m75.6/75.6 kB\u001b[0m \u001b[31m9.2 MB/s\u001b[0m eta \u001b[36m0:00:00\u001b[0m\n",
            "\u001b[2K     \u001b[90m━━━━━━━━━━━━━━━━━━━━━━━━━━━━━━━━━━━━━━━━\u001b[0m \u001b[32m77.8/77.8 kB\u001b[0m \u001b[31m8.8 MB/s\u001b[0m eta \u001b[36m0:00:00\u001b[0m\n",
            "\u001b[2K     \u001b[90m━━━━━━━━━━━━━━━━━━━━━━━━━━━━━━━━━━━━━━━━\u001b[0m \u001b[32m58.3/58.3 kB\u001b[0m \u001b[31m6.8 MB/s\u001b[0m eta \u001b[36m0:00:00\u001b[0m\n",
            "\u001b[?25h  Building wheel for chroma (setup.py) ... \u001b[?25l\u001b[?25hdone\n"
          ]
        }
      ],
      "source": [
        "!pip install langchain langchain-community tiktoken -q\n",
        "!pip install -U accelerate -q\n",
        "! pip install -U unstructured numpy -q\n",
        "! pip install openai chroma -q"
      ]
    },
    {
      "cell_type": "code",
      "source": [
        "\n",
        "from google.colab import output\n",
        "output.enable_custom_widget_manager()"
      ],
      "metadata": {
        "id": "2sGhLPYoKNal"
      },
      "execution_count": 1,
      "outputs": []
    },
    {
      "cell_type": "code",
      "source": [
        "from google.colab import drive\n",
        "drive.mount('/content/drive')"
      ],
      "metadata": {
        "colab": {
          "base_uri": "https://localhost:8080/"
        },
        "id": "_aMLt2iSKNX9",
        "outputId": "808252cd-2a23-4d23-bb3e-2f4f9283d44a"
      },
      "execution_count": 3,
      "outputs": [
        {
          "output_type": "stream",
          "name": "stdout",
          "text": [
            "Mounted at /content/drive\n"
          ]
        }
      ]
    },
    {
      "cell_type": "code",
      "source": [
        "from google.colab import userdata\n",
        "openai_api_key = userdata.get('KEY_OPENAI')"
      ],
      "metadata": {
        "id": "XdFhRM0dKNVY"
      },
      "execution_count": 4,
      "outputs": []
    },
    {
      "cell_type": "code",
      "source": [
        "from langchain_community.llms import OpenAI\n",
        "from langchain import PromptTemplate\n",
        "import pprint\n",
        "\n",
        "\n",
        "llm = OpenAI(temperature=0, model_name='gpt-3.5-turbo-instruct', openai_api_key=openai_api_key)\n",
        "\n",
        "# Create our template\n",
        "template = \"\"\"\n",
        "%INSTRUCTIONS:\n",
        "Summarize the following text and format output in lines of no more of 30 words. after each line introduce a return line.\n",
        "Respond in manner that a non-specialist on the matter would undestand.\n",
        "\n",
        "%TEXT:\n",
        "{text}\n",
        "\"\"\"\n",
        "\n",
        "# Create LangChain prompt template\n",
        "prompt = PromptTemplate(\n",
        "    input_variables=[\"text\"],\n",
        "    template=template,\n",
        ")"
      ],
      "metadata": {
        "id": "Sku9VsGGKNO4"
      },
      "execution_count": 32,
      "outputs": []
    },
    {
      "cell_type": "code",
      "source": [
        "sample1= \"\"\"\n",
        "The head of the Allied Pilots Association, the pilots union for American Airlines, insists he would never board an aircraft if it were not safe.\n",
        "\n",
        "But he says he can no longer take the quality of the plane he's flying for granted.\n",
        "\n",
        "\"I'm at an alert status that I've never had to be in on a Boeing airplane,\" he says.\n",
        "\n",
        "\"Because I don't trust that they've followed the processes that have previously kept me safe on Boeing airplanes for over three decades.\"\n",
        "\n",
        "Executives at the aerospace giant's shiny new headquarters in Arlington, Virginia could be forgiven for feeling like they are under siege.\n",
        "\n",
        "Every day seems to bring more bad headlines for the company, which is coming under pressure from regulators and airlines, and has seen its reputation badly damaged.\n",
        "\n",
        "The trouble began in January, when a disused emergency exit door blew off a brand new Boeing 737 Max shortly after take-off from Portland International Airport.\n",
        "\n",
        "An initial report from the US National Transportation Safety Board concluded that four bolts meant to attach the door securely to the aircraft had not been fitted.\n",
        "\"\"\""
      ],
      "metadata": {
        "id": "76PrbUYdL9GT"
      },
      "execution_count": 28,
      "outputs": []
    },
    {
      "cell_type": "code",
      "source": [
        "final_prompt = prompt.format(text=sample1)\n",
        "\n",
        "print(final_prompt)\n"
      ],
      "metadata": {
        "colab": {
          "base_uri": "https://localhost:8080/"
        },
        "id": "yTzA9z0LL9Db",
        "outputId": "9fdf3b4f-8341-4eb3-f665-d0d9af4ec028"
      },
      "execution_count": 29,
      "outputs": [
        {
          "output_type": "stream",
          "name": "stdout",
          "text": [
            "\n",
            "%INSTRUCTIONS:\n",
            "Summarize the following text and format output in lines of no more of 30 words. after each line introduce a return line.\n",
            "Respond in manner that a non-specialist on the matter would undestand.\n",
            "\n",
            "%TEXT:\n",
            "\n",
            "The head of the Allied Pilots Association, the pilots union for American Airlines, insists he would never board an aircraft if it were not safe.\n",
            "\n",
            "But he says he can no longer take the quality of the plane he's flying for granted.\n",
            "\n",
            "\"I'm at an alert status that I've never had to be in on a Boeing airplane,\" he says.\n",
            "\n",
            "\"Because I don't trust that they've followed the processes that have previously kept me safe on Boeing airplanes for over three decades.\"\n",
            "\n",
            "Executives at the aerospace giant's shiny new headquarters in Arlington, Virginia could be forgiven for feeling like they are under siege.\n",
            "\n",
            "Every day seems to bring more bad headlines for the company, which is coming under pressure from regulators and airlines, and has seen its reputation badly damaged.\n",
            "\n",
            "The trouble began in January, when a disused emergency exit door blew off a brand new Boeing 737 Max shortly after take-off from Portland International Airport.\n",
            "\n",
            "An initial report from the US National Transportation Safety Board concluded that four bolts meant to attach the door securely to the aircraft had not been fitted.\n",
            "\n",
            "\n"
          ]
        }
      ]
    },
    {
      "cell_type": "code",
      "source": [
        "output = llm.invoke(final_prompt)\n",
        "pprint.pprint(output)"
      ],
      "metadata": {
        "colab": {
          "base_uri": "https://localhost:8080/"
        },
        "id": "PL7P9JfDL9BK",
        "outputId": "6f3237f4-3b08-4b6e-8623-1a09eb96d2ed"
      },
      "execution_count": 33,
      "outputs": [
        {
          "output_type": "stream",
          "name": "stdout",
          "text": [
            "('\\n'\n",
            " 'The head of the pilots union for American Airlines is concerned about the '\n",
            " 'safety of Boeing planes. He no longer trusts their processes and executives '\n",
            " 'are under pressure due to recent incidents.')\n"
          ]
        }
      ]
    },
    {
      "cell_type": "markdown",
      "source": [
        "# Summarize a book"
      ],
      "metadata": {
        "id": "5lc527wLOCaW"
      }
    },
    {
      "cell_type": "code",
      "source": [
        "from langchain.llms import OpenAI\n",
        "from langchain.chains.summarize import load_summarize_chain\n",
        "from langchain.text_splitter import RecursiveCharacterTextSplitter\n",
        "\n",
        "llm = OpenAI(temperature=0, openai_api_key=openai_api_key)"
      ],
      "metadata": {
        "id": "cycRNN9eL87L"
      },
      "execution_count": 34,
      "outputs": []
    },
    {
      "cell_type": "code",
      "source": [
        "text_path = \"/content/drive/MyDrive/data (1)/book.txt\"\n",
        "\n",
        "with open(text_path, 'r') as file:\n",
        "    text = file.read()\n",
        "\n",
        "# PPrinting the first 1000 characters\n",
        "pprint.pprint(text[:1000])"
      ],
      "metadata": {
        "colab": {
          "base_uri": "https://localhost:8080/"
        },
        "id": "bwJjZN8oOLYR",
        "outputId": "b93629e7-529a-475e-b4b7-f370fdadb24a"
      },
      "execution_count": 42,
      "outputs": [
        {
          "output_type": "stream",
          "name": "stdout",
          "text": [
            "('Project Gutenberg eBook of The Great Gatsby\\n'\n",
            " '    \\n'\n",
            " 'This ebook is for the use of anyone anywhere in the United States and\\n'\n",
            " 'most other parts of the world at no cost and with almost no restrictions\\n'\n",
            " 'whatsoever. You may copy it, give it away or re-use it under the terms\\n'\n",
            " 'of the Project Gutenberg License included with this ebook or online\\n'\n",
            " 'at www.gutenberg.org. If you are not located in the United States,\\n'\n",
            " 'you will have to check the laws of the country where you are located\\n'\n",
            " 'before using this eBook.\\n'\n",
            " '\\n'\n",
            " 'Title: The Great Gatsby\\n'\n",
            " '\\n'\n",
            " '\\n'\n",
            " 'Author: F. Scott Fitzgerald\\n'\n",
            " '\\n'\n",
            " 'Release date: January 17, 2021 [eBook #64317]\\n'\n",
            " '                Most recently updated: February 2, 2024\\n'\n",
            " '\\n'\n",
            " 'Language: English\\n'\n",
            " '\\n'\n",
            " 'Credits: Produced by Alex Cabal for the Standard Ebooks project, based on a '\n",
            " 'transcription produced for Project Gutenberg Australia.\\n'\n",
            " '\\n'\n",
            " '\\n'\n",
            " '*** START OF THE PROJECT GUTENBERG EBOOK THE GREAT GATSBY ***\\n'\n",
            " '\\n'\n",
            " '\\n'\n",
            " '\\n'\n",
            " '\\n'\n",
            " '                           The Great Gatsby\\n'\n",
            " '                                  by\\n'\n",
            " '                          F. Scott Fitzgerald\\n'\n",
            " '\\n'\n",
            " '\\n'\n",
            " ' ')\n"
          ]
        }
      ]
    },
    {
      "cell_type": "code",
      "source": [
        "num_tokens = llm.get_num_tokens(text)\n",
        "\n",
        "print (f\"There are {num_tokens} tokens in your file\")"
      ],
      "metadata": {
        "colab": {
          "base_uri": "https://localhost:8080/"
        },
        "id": "pGuietfoOhUT",
        "outputId": "250d3e5c-a7cd-40f8-eb23-df253a72d162"
      },
      "execution_count": 37,
      "outputs": [
        {
          "output_type": "stream",
          "name": "stdout",
          "text": [
            "There are 69499 tokens in your file\n"
          ]
        }
      ]
    },
    {
      "cell_type": "code",
      "source": [
        "text_splitter = RecursiveCharacterTextSplitter(separators=[\"\\n\\n\", \"\\n\"], chunk_size=10000, chunk_overlap=1000)\n",
        "docs = text_splitter.create_documents([text])\n",
        "\n",
        "print (f\"You now have {len(docs)} docs intead of 1 piece of text\")"
      ],
      "metadata": {
        "colab": {
          "base_uri": "https://localhost:8080/"
        },
        "id": "K6kQktRNOhQ0",
        "outputId": "b36716c9-8ef0-42fb-ce94-5c847b10f631"
      },
      "execution_count": 41,
      "outputs": [
        {
          "output_type": "stream",
          "name": "stdout",
          "text": [
            "You now have 33 docs intead of 1 piece of text\n"
          ]
        }
      ]
    },
    {
      "cell_type": "code",
      "source": [
        "docs[0].page_content"
      ],
      "metadata": {
        "colab": {
          "base_uri": "https://localhost:8080/",
          "height": 122
        },
        "id": "P7tyGKu9V1Zt",
        "outputId": "e27d8ced-894c-4893-e074-f7d63e02d2e2"
      },
      "execution_count": 47,
      "outputs": [
        {
          "output_type": "execute_result",
          "data": {
            "text/plain": [
              "'Project Gutenberg eBook of The Great Gatsby\\n    \\nThis ebook is for the use of anyone anywhere in the United States and\\nmost other parts of the world at no cost and with almost no restrictions\\nwhatsoever. You may copy it, give it away or re-use it under the terms\\nof the Project Gutenberg License included with this ebook or online\\nat www.gutenberg.org. If you are not located in the United States,\\nyou will have to check the laws of the country where you are located\\nbefore using this eBook.\\n\\nTitle: The Great Gatsby\\n\\n\\nAuthor: F. Scott Fitzgerald\\n\\nRelease date: January 17, 2021 [eBook #64317]\\n                Most recently updated: February 2, 2024\\n\\nLanguage: English\\n\\nCredits: Produced by Alex Cabal for the Standard Ebooks project, based on a transcription produced for Project Gutenberg Australia.\\n\\n\\n*** START OF THE PROJECT GUTENBERG EBOOK THE GREAT GATSBY ***\\n\\n\\n\\n\\n                           The Great Gatsby\\n                                  by\\n                          F. Scott Fitzgerald\\n\\n\\n                           Table of Contents\\n\\nI\\nII\\nIII\\nIV\\nV\\nVI\\nVII\\nVIII\\nIX\\n\\n\\n                              Once again\\n                                  to\\n                                 Zelda\\n\\n\\n  Then wear the gold hat, if that will move her;\\n  If you can bounce high, bounce for her too,\\n  Till she cry “Lover, gold-hatted, high-bouncing lover,\\n  I must have you!”\\n\\n  Thomas Parke d’Invilliers\\n\\n\\n                                  I\\n\\nIn my younger and more vulnerable years my father gave me some advice\\nthat I’ve been turning over in my mind ever since.\\n\\n“Whenever you feel like criticizing anyone,” he told me, “just\\nremember that all the people in this world haven’t had the advantages\\nthat you’ve had.”\\n\\nHe didn’t say any more, but we’ve always been unusually communicative\\nin a reserved way, and I understood that he meant a great deal more\\nthan that. In consequence, I’m inclined to reserve all judgements, a\\nhabit that has opened up many curious natures to me and also made me\\nthe victim of not a few veteran bores. The abnormal mind is quick to\\ndetect and attach itself to this quality when it appears in a normal\\nperson, and so it came about that in college I was unjustly accused of\\nbeing a politician, because I was privy to the secret griefs of wild,\\nunknown men. Most of the confidences were unsought—frequently I have\\nfeigned sleep, preoccupation, or a hostile levity when I realized by\\nsome unmistakable sign that an intimate revelation was quivering on\\nthe horizon; for the intimate revelations of young men, or at least\\nthe terms in which they express them, are usually plagiaristic and\\nmarred by obvious suppressions. Reserving judgements is a matter of\\ninfinite hope. I am still a little afraid of missing something if I\\nforget that, as my father snobbishly suggested, and I snobbishly\\nrepeat, a sense of the fundamental decencies is parcelled out\\nunequally at birth.\\n\\nAnd, after boasting this way of my tolerance, I come to the admission\\nthat it has a limit. Conduct may be founded on the hard rock or the\\nwet marshes, but after a certain point I don’t care what it’s founded\\non. When I came back from the East last autumn I felt that I wanted\\nthe world to be in uniform and at a sort of moral attention forever; I\\nwanted no more riotous excursions with privileged glimpses into the\\nhuman heart. Only Gatsby, the man who gives his name to this book, was\\nexempt from my reaction—Gatsby, who represented everything for which I\\nhave an unaffected scorn. If personality is an unbroken series of\\nsuccessful gestures, then there was something gorgeous about him, some\\nheightened sensitivity to the promises of life, as if he were related\\nto one of those intricate machines that register earthquakes ten\\nthousand miles away. This responsiveness had nothing to do with that\\nflabby impressionability which is dignified under the name of the\\n“creative temperament”—it was an extraordinary gift for hope, a\\nromantic readiness such as I have never found in any other person and\\nwhich it is not likely I shall ever find again. No—Gatsby turned out\\nall right at the end; it is what preyed on Gatsby, what foul dust\\nfloated in the wake of his dreams that temporarily closed out my\\ninterest in the abortive sorrows and short-winded elations of men.\\n\\n------------------------------------------------------------------------\\n\\nMy family have been prominent, well-to-do people in this Middle\\nWestern city for three generations. The Carraways are something of a\\nclan, and we have a tradition that we’re descended from the Dukes of\\nBuccleuch, but the actual founder of my line was my grandfather’s\\nbrother, who came here in fifty-one, sent a substitute to the Civil\\nWar, and started the wholesale hardware business that my father\\ncarries on today.\\n\\nI never saw this great-uncle, but I’m supposed to look like him—with\\nspecial reference to the rather hard-boiled painting that hangs in\\nfather’s office. I graduated from New Haven in 1915, just a quarter of\\na century after my father, and a little later I participated in that\\ndelayed Teutonic migration known as the Great War. I enjoyed the\\ncounter-raid so thoroughly that I came back restless. Instead of being\\nthe warm centre of the world, the Middle West now seemed like the\\nragged edge of the universe—so I decided to go East and learn the bond\\nbusiness. Everybody I knew was in the bond business, so I supposed it\\ncould support one more single man. All my aunts and uncles talked it\\nover as if they were choosing a prep school for me, and finally said,\\n“Why—ye-es,” with very grave, hesitant faces. Father agreed to finance\\nme for a year, and after various delays I came East, permanently, I\\nthought, in the spring of twenty-two.\\n\\nThe practical thing was to find rooms in the city, but it was a warm\\nseason, and I had just left a country of wide lawns and friendly\\ntrees, so when a young man at the office suggested that we take a\\nhouse together in a commuting town, it sounded like a great idea. He\\nfound the house, a weather-beaten cardboard bungalow at eighty a\\nmonth, but at the last minute the firm ordered him to Washington, and\\nI went out to the country alone. I had a dog—at least I had him for a\\nfew days until he ran away—and an old Dodge and a Finnish woman, who\\nmade my bed and cooked breakfast and muttered Finnish wisdom to\\nherself over the electric stove.\\n\\nIt was lonely for a day or so until one morning some man, more\\nrecently arrived than I, stopped me on the road.\\n\\n“How do you get to West Egg village?” he asked helplessly.\\n\\nI told him. And as I walked on I was lonely no longer. I was a guide,\\na pathfinder, an original settler. He had casually conferred on me the\\nfreedom of the neighbourhood.\\n\\nAnd so with the sunshine and the great bursts of leaves growing on the\\ntrees, just as things grow in fast movies, I had that familiar\\nconviction that life was beginning over again with the summer.\\n\\nThere was so much to read, for one thing, and so much fine health to\\nbe pulled down out of the young breath-giving air. I bought a dozen\\nvolumes on banking and credit and investment securities, and they\\nstood on my shelf in red and gold like new money from the mint,\\npromising to unfold the shining secrets that only Midas and Morgan and\\nMaecenas knew. And I had the high intention of reading many other\\nbooks besides. I was rather literary in college—one year I wrote a\\nseries of very solemn and obvious editorials for the Yale News—and now\\nI was going to bring back all such things into my life and become\\nagain that most limited of all specialists, the “well-rounded man.”\\nThis isn’t just an epigram—life is much more successfully looked at\\nfrom a single window, after all.\\n\\nIt was a matter of chance that I should have rented a house in one of\\nthe strangest communities in North America. It was on that slender\\nriotous island which extends itself due east of New York—and where\\nthere are, among other natural curiosities, two unusual formations of\\nland. Twenty miles from the city a pair of enormous eggs, identical in\\ncontour and separated only by a courtesy bay, jut out into the most\\ndomesticated body of salt water in the Western hemisphere, the great\\nwet barnyard of Long Island Sound. They are not perfect ovals—like the\\negg in the Columbus story, they are both crushed flat at the contact\\nend—but their physical resemblance must be a source of perpetual\\nwonder to the gulls that fly overhead. To the wingless a more\\ninteresting phenomenon is their dissimilarity in every particular\\nexcept shape and size.\\n\\nI lived at West Egg, the—well, the less fashionable of the two, though\\nthis is a most superficial tag to express the bizarre and not a little\\nsinister contrast between them. My house was at the very tip of the\\negg, only fifty yards from the Sound, and squeezed between two huge\\nplaces that rented for twelve or fifteen thousand a season. The one on\\nmy right was a colossal affair by any standard—it was a factual\\nimitation of some Hôtel de Ville in Normandy, with a tower on one\\nside, spanking new under a thin beard of raw ivy, and a marble\\nswimming pool, and more than forty acres of lawn and garden. It was\\nGatsby’s mansion. Or, rather, as I didn’t know Mr. Gatsby, it was a\\nmansion inhabited by a gentleman of that name. My own house was an\\neyesore, but it was a small eyesore, and it had been overlooked, so I\\nhad a view of the water, a partial view of my neighbour’s lawn, and\\nthe consoling proximity of millionaires—all for eighty dollars a\\nmonth.\\n\\nAcross the courtesy bay the white palaces of fashionable East Egg\\nglittered along the water, and the history of the summer really begins\\non the evening I drove over there to have dinner with the Tom\\nBuchanans. Daisy was my second cousin once removed, and I’d known Tom\\nin college. And just after the war I spent two days with them in\\nChicago.'"
            ],
            "application/vnd.google.colaboratory.intrinsic+json": {
              "type": "string"
            }
          },
          "metadata": {},
          "execution_count": 47
        }
      ]
    },
    {
      "cell_type": "code",
      "source": [
        "# Get your chain ready to use\n",
        "chain = load_summarize_chain(llm=llm, chain_type='map_reduce')#, verbose=True )"
      ],
      "metadata": {
        "id": "VJGn2ED3OhNq"
      },
      "execution_count": 48,
      "outputs": []
    },
    {
      "cell_type": "code",
      "source": [
        "output = chain.run(docs)\n",
        "pprint.pprint(output)"
      ],
      "metadata": {
        "colab": {
          "base_uri": "https://localhost:8080/"
        },
        "id": "5RqaHhCrOhKi",
        "outputId": "7e721906-5640-40bb-dfa6-34fd9722997b"
      },
      "execution_count": 49,
      "outputs": [
        {
          "output_type": "stream",
          "name": "stdout",
          "text": [
            "('\\n'\n",
            " '\\n'\n",
            " '\"The Great Gatsby\" by F. Scott Fitzgerald is a free ebook that follows Nick '\n",
            " \"Carraway's involvement with his wealthy neighbors in the 1920s. The novel \"\n",
            " 'explores themes of love, wealth, and the American Dream, as Gatsby tries to '\n",
            " \"win back Daisy's love. A tragic event leads to Gatsby's death and the \"\n",
            " 'narrator reflects on his experiences. The ebook is available for free with '\n",
            " 'the Project Gutenberg License, which requires compliance and donations to '\n",
            " \"support the Foundation's mission. The website offers a search function and \"\n",
            " 'information on how to donate and get involved.')\n"
          ]
        }
      ]
    }
  ]
}