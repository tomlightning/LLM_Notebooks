{
 "cells": [
  {
   "cell_type": "markdown",
   "id": "1b1dfa3e-a9d0-4615-89ae-7c0fbf918b15",
   "metadata": {},
   "source": [
    "# Tagging\n",
    "\n",
    "#### Tagging means labeling a document with classes such as:"
   ]
  },
  {
   "cell_type": "markdown",
   "id": "f984f3d5-9543-4d9a-9882-dc01f2872491",
   "metadata": {},
   "source": [
    "###### Sentiment.\n",
    "  \n",
    "###### Language.\n",
    "\n",
    "###### Style (formal, informal etc.)\n",
    "\n",
    "###### covered topics\n",
    "\n",
    "###### political tendency"
   ]
  },
  {
   "cell_type": "code",
   "execution_count": 1,
   "id": "0ec18d87-97af-4a44-83e9-7fa0f018c550",
   "metadata": {},
   "outputs": [],
   "source": [
    "import getpass\n",
    "import os\n",
    "\n",
    "from dotenv import dotenv_values\n",
    "\n",
    "config = dotenv_values(\".env\")"
   ]
  },
  {
   "cell_type": "markdown",
   "id": "3d9281aa-0075-4559-a1b4-49261775447b",
   "metadata": {},
   "source": [
    "#### https://api.python.langchain.com/en/latest/chains/langchain.chains.openai_functions.tagging.create_tagging_chain_pydantic.html\n",
    "#### https://api.python.langchain.com/en/latest/chains/langchain.chains.openai_functions.tagging.create_tagging_chain.html"
   ]
  },
  {
   "cell_type": "code",
   "execution_count": 2,
   "id": "07d5eb37-b36d-431c-9179-8d682022a33a",
   "metadata": {},
   "outputs": [],
   "source": [
    "from langchain.chains import create_tagging_chain, create_tagging_chain_pydantic\n",
    "from langchain_openai import ChatOpenAI"
   ]
  },
  {
   "cell_type": "code",
   "execution_count": 3,
   "id": "453a1845-f3d4-4779-a459-007de06ccece",
   "metadata": {},
   "outputs": [],
   "source": [
    "os.environ[\"OPENAI_API_KEY\"] = config.get(\"OPENAI_API_KEY\")"
   ]
  },
  {
   "cell_type": "code",
   "execution_count": 53,
   "id": "f042b82e-94a5-4d81-8ba2-d6a04b72732e",
   "metadata": {},
   "outputs": [],
   "source": [
    "# Schema\n",
    "schema = {\n",
    "    \"properties\": {\n",
    "        \"sentiment\": {\"type\": \"string\"},\n",
    "        \"aggressiveness\": {\"type\": \"integer\"},\n",
    "        \"language\": {\"type\": \"string\"},\n",
    "    }\n",
    "}\n",
    "\n",
    "# LLM\n",
    "llm = ChatOpenAI(temperature=0, model=\"gpt-3.5-turbo\")\n",
    "chain = create_tagging_chain(schema, llm)"
   ]
  },
  {
   "cell_type": "code",
   "execution_count": 54,
   "id": "0b294c8a-e354-4839-8655-c3fc99e57f91",
   "metadata": {},
   "outputs": [],
   "source": [
    "inp = \"Estoy increiblemente contento de haberte conocido! Creo que seremos muy buenos amigos! \"\n",
    "response = chain.run(inp)"
   ]
  },
  {
   "cell_type": "code",
   "execution_count": 55,
   "id": "860b53b3-52c1-4384-902e-7743ec9020e2",
   "metadata": {},
   "outputs": [
    {
     "data": {
      "text/plain": [
       "{'language': 'Spanish'}"
      ]
     },
     "execution_count": 55,
     "metadata": {},
     "output_type": "execute_result"
    }
   ],
   "source": [
    "response"
   ]
  },
  {
   "cell_type": "code",
   "execution_count": 40,
   "id": "cc65adca-d063-4326-8e71-665c6992ee18",
   "metadata": {},
   "outputs": [
    {
     "data": {
      "text/plain": [
       "{'sentiment': 'enojado', 'aggressiveness': 3, 'language': 'Spanish'}"
      ]
     },
     "execution_count": 40,
     "metadata": {},
     "output_type": "execute_result"
    }
   ],
   "source": [
    "inp = \"Estoy muy enojado con vos! Te voy a dar tu merecido!\"\n",
    "response = chain.run(inp)\n",
    "response"
   ]
  },
  {
   "cell_type": "code",
   "execution_count": 41,
   "id": "9157883b-9df8-4a97-98c3-9413be78d623",
   "metadata": {},
   "outputs": [
    {
     "data": {
      "text/plain": [
       "{'sentiment': 'wütend', 'aggressiveness': 3, 'language': 'German'}"
      ]
     },
     "execution_count": 41,
     "metadata": {},
     "output_type": "execute_result"
    }
   ],
   "source": [
    "inp = \"Ich bin sehr wütend auf dich! Ich werde dir geben, was du verdienst!\"\n",
    "response = chain.run(inp)\n",
    "response"
   ]
  },
  {
   "cell_type": "code",
   "execution_count": 42,
   "id": "f929b897-0ffd-428b-8d29-ed2ba84e95d3",
   "metadata": {},
   "outputs": [
    {
     "data": {
      "text/plain": [
       "{'sentiment': 'negative', 'aggressiveness': 3, 'language': 'Russian'}"
      ]
     },
     "execution_count": 42,
     "metadata": {},
     "output_type": "execute_result"
    }
   ],
   "source": [
    "inp = \"Я очень зол на тебя! Я дам тебе то, что ты заслуживаешь!\"\n",
    "response = chain.run(inp)\n",
    "response"
   ]
  },
  {
   "cell_type": "markdown",
   "id": "0b0ce051-bab9-426c-ba9a-46607bb3c812",
   "metadata": {},
   "source": [
    "### Finer control\n",
    "\n",
    "Careful schema definition gives us more control over the model’s output.\n",
    "\n",
    "Specifically, we can define:\n",
    "\n",
    "- possible values for each property\n",
    "- description to make sure that the model understands the property\n",
    "- required properties to be returned"
   ]
  },
  {
   "cell_type": "code",
   "execution_count": 48,
   "id": "cd89ca50-d84c-48a6-95f4-4e06269db47a",
   "metadata": {},
   "outputs": [],
   "source": [
    "schema = {\n",
    "    \"properties\": {\n",
    "        \"aggressiveness\": {\n",
    "            \"type\": \"integer\",\n",
    "            \"enum\": [1, 2, 3, 4, 5],\n",
    "            \"description\": \"describes how aggressive the statement is, the higher the number the more aggressive\",\n",
    "        },\n",
    "        \"language\": {\n",
    "            \"type\": \"string\",\n",
    "            \"enum\": [\"spanish\", \"english\", \"french\", \"german\", \"italian\"],\n",
    "        },\n",
    "        \"sentiment\": {\n",
    "            \"type\": \"string\",\n",
    "            \"enum\": [\"positive\", \"negative\", \"neutral\"],\n",
    "        },\n",
    "    },\n",
    "    \"required\": [\"language\", \"sentiment\", \"aggressiveness\"],\n",
    "}"
   ]
  },
  {
   "cell_type": "code",
   "execution_count": 49,
   "id": "db88efb1-cec1-4392-b9c8-de79e534cb9b",
   "metadata": {},
   "outputs": [],
   "source": [
    "chain = create_tagging_chain(schema, llm)"
   ]
  },
  {
   "cell_type": "code",
   "execution_count": 50,
   "id": "a1eec731-b11f-4b10-9c4d-875ca87db6ab",
   "metadata": {},
   "outputs": [
    {
     "data": {
      "text/plain": [
       "{'aggressiveness': 1, 'language': 'spanish', 'sentiment': 'positive'}"
      ]
     },
     "execution_count": 50,
     "metadata": {},
     "output_type": "execute_result"
    }
   ],
   "source": [
    "inp = \"Estoy increiblemente contento de haberte conocido! Creo que seremos muy buenos amigos!\"\n",
    "response = chain.run(inp)\n",
    "response"
   ]
  },
  {
   "cell_type": "code",
   "execution_count": 51,
   "id": "a2cd83d5-0be6-457f-b1f4-6375d74fce38",
   "metadata": {},
   "outputs": [
    {
     "data": {
      "text/plain": [
       "{'aggressiveness': 5, 'language': 'spanish', 'sentiment': 'negative'}"
      ]
     },
     "execution_count": 51,
     "metadata": {},
     "output_type": "execute_result"
    }
   ],
   "source": [
    "inp = \"Estoy muy enojado con vos! Te voy a dar tu merecido!\"\n",
    "response = chain.run(inp)\n",
    "response\n"
   ]
  },
  {
   "cell_type": "code",
   "execution_count": 52,
   "id": "3a9a7c80-773f-4730-ac8b-dd409a9c65e6",
   "metadata": {},
   "outputs": [
    {
     "data": {
      "text/plain": [
       "{'aggressiveness': 1, 'language': 'english', 'sentiment': 'neutral'}"
      ]
     },
     "execution_count": 52,
     "metadata": {},
     "output_type": "execute_result"
    }
   ],
   "source": [
    "inp = \"Weather is ok here, I can go outside without much more than a coat\"\n",
    "response = chain.run(inp)\n",
    "response"
   ]
  },
  {
   "cell_type": "markdown",
   "id": "0fe24922-b2b0-4e0d-9f07-45feec99f8c6",
   "metadata": {},
   "source": [
    "## https://docs.pydantic.dev/latest/\n",
    "\n",
    "Pydantic is the most widely used data validation library for Python.\n",
    "\n",
    "Fast and extensible, Pydantic plays nicely with your linters/IDE/brain. Define how data should be in pure, canonical Python 3.8+; validate it with Pydantic."
   ]
  },
  {
   "cell_type": "code",
   "execution_count": 15,
   "id": "a2c1bb47-219d-4ef0-9382-12b5bb8bf938",
   "metadata": {},
   "outputs": [],
   "source": [
    "from langchain_core.pydantic_v1 import BaseModel, Field"
   ]
  },
  {
   "cell_type": "code",
   "execution_count": 16,
   "id": "722c4357-2068-45cb-8f85-c0f7cf025390",
   "metadata": {},
   "outputs": [],
   "source": [
    "class Tags(BaseModel):\n",
    "    sentiment: str = Field(..., enum=[\"happy\", \"neutral\", \"sad\"])\n",
    "    aggressiveness: int = Field(\n",
    "        ...,\n",
    "        description=\"describes how aggressive the statement is, the higher the number the more aggressive\",\n",
    "        enum=[1, 2, 3, 4, 5],\n",
    "    )\n",
    "    language: str = Field(\n",
    "        ..., enum=[\"spanish\", \"english\", \"french\", \"german\", \"italian\"]\n",
    "    )"
   ]
  },
  {
   "cell_type": "code",
   "execution_count": 17,
   "id": "85dec1a1-ea3b-41f7-abf2-541b6966438a",
   "metadata": {},
   "outputs": [],
   "source": [
    "chain = create_tagging_chain_pydantic(Tags, llm)"
   ]
  },
  {
   "cell_type": "code",
   "execution_count": 18,
   "id": "99aa2cfc-7530-4f0f-a8cd-c9dd9b4610df",
   "metadata": {},
   "outputs": [
    {
     "data": {
      "text/plain": [
       "Tags(sentiment='sad', aggressiveness=5, language='spanish')"
      ]
     },
     "execution_count": 18,
     "metadata": {},
     "output_type": "execute_result"
    }
   ],
   "source": [
    "inp = \"Estoy muy enojado con vos! Te voy a dar tu merecido!\"\n",
    "res = chain.run(inp)\n",
    "res"
   ]
  },
  {
   "cell_type": "markdown",
   "id": "409a59d7-4546-49da-9556-32446edfa089",
   "metadata": {},
   "source": [
    "#### https://python.langchain.com/docs/integrations/document_transformers\n",
    "\n",
    "#### https://python.langchain.com/docs/integrations/document_transformers/openai_metadata_tagger"
   ]
  },
  {
   "cell_type": "code",
   "execution_count": 19,
   "id": "3f1d0e23-4e23-4e4f-b58b-2d2b2a3b0187",
   "metadata": {},
   "outputs": [],
   "source": [
    "from langchain_community.document_transformers.openai_functions import (\n",
    "    create_metadata_tagger,\n",
    ")\n",
    "from langchain_core.documents import Document\n",
    "from langchain_openai import ChatOpenAI"
   ]
  },
  {
   "cell_type": "code",
   "execution_count": 20,
   "id": "d768a294-8cba-4041-9d6d-fd4ffc47e4fa",
   "metadata": {},
   "outputs": [],
   "source": [
    "schema = {\n",
    "    \"properties\": {\n",
    "        \"movie_title\": {\"type\": \"string\"},\n",
    "        \"critic\": {\"type\": \"string\"},\n",
    "        \"tone\": {\"type\": \"string\", \"enum\": [\"positive\", \"negative\"]},\n",
    "        \"rating\": {\n",
    "            \"type\": \"integer\",\n",
    "            \"description\": \"The number of stars the critic rated the movie\",\n",
    "        },\n",
    "    },\n",
    "    \"required\": [\"movie_title\", \"critic\", \"tone\"],\n",
    "}\n",
    "\n",
    "\n",
    "\n",
    "document_transformer = create_metadata_tagger(metadata_schema=schema, llm=llm)"
   ]
  },
  {
   "cell_type": "code",
   "execution_count": 26,
   "id": "c449f9bd-9ed8-4a8f-9f97-e46386881a28",
   "metadata": {},
   "outputs": [],
   "source": [
    "original_documents = [\n",
    "    Document(\n",
    "        page_content=\"Review of The Bee Movie\\nBy Roger Ebert\\n\\nThis is the greatest movie ever made. 4 out of 5 stars.\"\n",
    "    ),\n",
    "    Document(\n",
    "        page_content=\"Review of The Godfather\\nBy Anonymous\\n\\nThis movie was super boring. 1 out of 5 stars.\",\n",
    "        metadata={\"reliable\": False},\n",
    "    ),\n",
    "    Document(\n",
    "        page_content=\"Review of The Godfather\\nBy testing\\n\\nThis movie was ok. 2 or 3 out of 5 stars.\",\n",
    "        metadata={\"reliable\": True},\n",
    "    ),\n",
    "]\n",
    "\n",
    "enhanced_documents = document_transformer.transform_documents(original_documents)"
   ]
  },
  {
   "cell_type": "code",
   "execution_count": 27,
   "id": "763608ed-bb01-42c1-aaaf-46b9400e1ba5",
   "metadata": {},
   "outputs": [
    {
     "name": "stdout",
     "output_type": "stream",
     "text": [
      "Review of The Bee Movie\n",
      "By Roger Ebert\n",
      "\n",
      "This is the greatest movie ever made. 4 out of 5 stars.\n",
      "\n",
      "{\"movie_title\": \"The Bee Movie\", \"critic\": \"Roger Ebert\", \"tone\": \"positive\", \"rating\": 4}\n",
      "\n",
      "---------------\n",
      "\n",
      "Review of The Godfather\n",
      "By Anonymous\n",
      "\n",
      "This movie was super boring. 1 out of 5 stars.\n",
      "\n",
      "{\"movie_title\": \"The Godfather\", \"critic\": \"Anonymous\", \"tone\": \"negative\", \"rating\": 1, \"reliable\": false}\n",
      "\n",
      "---------------\n",
      "\n",
      "Review of The Godfather\n",
      "By testing\n",
      "\n",
      "This movie was ok. 2 or 3 out of 5 stars.\n",
      "\n",
      "{\"movie_title\": \"The Godfather\", \"critic\": \"testing\", \"tone\": \"negative\", \"rating\": 2, \"reliable\": true}\n"
     ]
    }
   ],
   "source": [
    "import json\n",
    "\n",
    "print(\n",
    "    *[d.page_content + \"\\n\\n\" + json.dumps(d.metadata) for d in enhanced_documents],\n",
    "    sep=\"\\n\\n---------------\\n\\n\",\n",
    ")"
   ]
  },
  {
   "cell_type": "code",
   "execution_count": 28,
   "id": "9b54b4ac-e4b2-4a3d-857b-8a46b03d4efb",
   "metadata": {},
   "outputs": [
    {
     "name": "stdout",
     "output_type": "stream",
     "text": [
      "Review of The Bee Movie\n",
      "By Roger Ebert\n",
      "\n",
      "This is the greatest movie ever made. 4 out of 5 stars.\n",
      "\n",
      "{\"movie_title\": \"The Bee Movie\", \"critic\": \"Roger Ebert\", \"tone\": \"positive\", \"rating\": 4}\n",
      "\n",
      "---------------\n",
      "\n",
      "Review of The Godfather\n",
      "By Anonymous\n",
      "\n",
      "This movie was super boring. 1 out of 5 stars.\n",
      "\n",
      "{\"movie_title\": \"The Godfather\", \"critic\": \"Anonymous\", \"tone\": \"negative\", \"rating\": 1, \"reliable\": false}\n",
      "\n",
      "---------------\n",
      "\n",
      "Review of The Godfather\n",
      "By testing\n",
      "\n",
      "This movie was ok. 2 or 3 out of 5 stars.\n",
      "\n",
      "{\"movie_title\": \"The Godfather\", \"critic\": \"testing\", \"tone\": \"negative\", \"rating\": 2, \"reliable\": true}\n"
     ]
    }
   ],
   "source": [
    "## pydantic\n",
    "\n",
    "\n",
    "from typing import Literal\n",
    "\n",
    "from pydantic import BaseModel, Field\n",
    "\n",
    "\n",
    "class Properties(BaseModel):\n",
    "    movie_title: str\n",
    "    critic: str\n",
    "    tone: Literal[\"positive\", \"negative\"]\n",
    "    rating: int = Field(description=\"Rating out of 5 stars\")\n",
    "\n",
    "\n",
    "document_transformer = create_metadata_tagger(Properties, llm)\n",
    "enhanced_documents = document_transformer.transform_documents(original_documents)\n",
    "\n",
    "print(\n",
    "    *[d.page_content + \"\\n\\n\" + json.dumps(d.metadata) for d in enhanced_documents],\n",
    "    sep=\"\\n\\n---------------\\n\\n\",\n",
    ")"
   ]
  },
  {
   "cell_type": "code",
   "execution_count": null,
   "id": "eb76ff5a-749b-4ef4-b8ce-205996ad1ad9",
   "metadata": {},
   "outputs": [],
   "source": []
  }
 ],
 "metadata": {
  "kernelspec": {
   "display_name": "Python (azure_ml)",
   "language": "python",
   "name": "azure_ml"
  },
  "language_info": {
   "codemirror_mode": {
    "name": "ipython",
    "version": 3
   },
   "file_extension": ".py",
   "mimetype": "text/x-python",
   "name": "python",
   "nbconvert_exporter": "python",
   "pygments_lexer": "ipython3",
   "version": "3.11.8"
  }
 },
 "nbformat": 4,
 "nbformat_minor": 5
}
