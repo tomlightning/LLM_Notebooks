{
  "nbformat": 4,
  "nbformat_minor": 0,
  "metadata": {
    "colab": {
      "provenance": [],
      "machine_shape": "hm",
      "authorship_tag": "ABX9TyMxzj92UeqkTJEXna6/Bf0i",
      "include_colab_link": true
    },
    "kernelspec": {
      "name": "python3",
      "display_name": "Python 3"
    },
    "language_info": {
      "name": "python"
    }
  },
  "cells": [
    {
      "cell_type": "markdown",
      "metadata": {
        "id": "view-in-github",
        "colab_type": "text"
      },
      "source": [
        "<a href=\"https://colab.research.google.com/github/olonok69/LLM_Notebooks/blob/main/langchain/use_cases/Langchain_OpenAI_And_Faker_Generate_Syntethic_Data.ipynb\" target=\"_parent\"><img src=\"https://colab.research.google.com/assets/colab-badge.svg\" alt=\"Open In Colab\"/></a>"
      ]
    },
    {
      "cell_type": "markdown",
      "source": [
        "# LangChain\n",
        "\n",
        "LangChain is a framework for developing applications powered by language models.\n",
        "\n",
        "https://python.langchain.com/docs/use_cases\n",
        "\n",
        "## Langchain Synthetic Data\n",
        "Synthetic data is artificially generated data, rather than data collected from real-world events. It's used to simulate real data without compromising privacy or encountering real-world limitations.\n",
        "\n",
        "Benefits of Synthetic Data:\n",
        "\n",
        "Privacy and Security: No real personal data at risk of breaches.\n",
        "Data Augmentation: Expands datasets for machine learning.\n",
        "Flexibility: Create specific or rare scenarios.\n",
        "Cost-effective: Often cheaper than real-world data collection.\n",
        "Regulatory Compliance: Helps navigate strict data protection laws.\n",
        "Model Robustness: Can lead to better generalizing AI models.\n",
        "Rapid Prototyping: Enables quick testing without real data.\n",
        "Controlled Experimentation: Simulate specific conditions.\n",
        "Access to Data: Alternative when real data isn't available.\n",
        "\n",
        "https://python.langchain.com/docs/get_started/introduction\n",
        "\n",
        "https://python.langchain.com/docs/use_cases/data_generation\n",
        "\n",
        "https://python.langchain.com/docs/modules/model_io/prompts/\n",
        "\n",
        "https://python.langchain.com/docs/modules/data_connection/document_transformers/recursive_text_splitter\n",
        "\n",
        "https://api.python.langchain.com/en/latest/experimental_api_reference.html\n",
        "\n",
        "## Presidio\n",
        "https://microsoft.github.io/presidio/\n",
        "\n",
        "https://spacy.io/\n",
        "\n",
        "\n",
        "## faker\n",
        "\n",
        "https://faker.readthedocs.io/en/master/\n"
      ],
      "metadata": {
        "id": "J2qcri2WPycg"
      }
    },
    {
      "cell_type": "code",
      "execution_count": 27,
      "metadata": {
        "id": "PAO4dulnEUOJ",
        "colab": {
          "base_uri": "https://localhost:8080/"
        },
        "outputId": "4fd96fb7-2c5b-49a0-d10b-6101d03c3061"
      },
      "outputs": [
        {
          "output_type": "stream",
          "name": "stdout",
          "text": [
            "Requirement already satisfied: presidio_analyzer in /usr/local/lib/python3.10/dist-packages (2.2.354)\n",
            "Requirement already satisfied: presidio_anonymizer in /usr/local/lib/python3.10/dist-packages (2.2.354)\n",
            "Requirement already satisfied: spacy<4.0.0,>=3.4.4 in /usr/local/lib/python3.10/dist-packages (from presidio_analyzer) (3.7.4)\n",
            "Requirement already satisfied: regex in /usr/local/lib/python3.10/dist-packages (from presidio_analyzer) (2024.5.15)\n",
            "Requirement already satisfied: tldextract in /usr/local/lib/python3.10/dist-packages (from presidio_analyzer) (5.1.2)\n",
            "Requirement already satisfied: pyyaml in /usr/local/lib/python3.10/dist-packages (from presidio_analyzer) (6.0.1)\n",
            "Requirement already satisfied: phonenumbers<9.0.0,>=8.12 in /usr/local/lib/python3.10/dist-packages (from presidio_analyzer) (8.13.37)\n",
            "Requirement already satisfied: pycryptodome>=3.10.1 in /usr/local/lib/python3.10/dist-packages (from presidio_anonymizer) (3.20.0)\n",
            "Requirement already satisfied: spacy-legacy<3.1.0,>=3.0.11 in /usr/local/lib/python3.10/dist-packages (from spacy<4.0.0,>=3.4.4->presidio_analyzer) (3.0.12)\n",
            "Requirement already satisfied: spacy-loggers<2.0.0,>=1.0.0 in /usr/local/lib/python3.10/dist-packages (from spacy<4.0.0,>=3.4.4->presidio_analyzer) (1.0.5)\n",
            "Requirement already satisfied: murmurhash<1.1.0,>=0.28.0 in /usr/local/lib/python3.10/dist-packages (from spacy<4.0.0,>=3.4.4->presidio_analyzer) (1.0.10)\n",
            "Requirement already satisfied: cymem<2.1.0,>=2.0.2 in /usr/local/lib/python3.10/dist-packages (from spacy<4.0.0,>=3.4.4->presidio_analyzer) (2.0.8)\n",
            "Requirement already satisfied: preshed<3.1.0,>=3.0.2 in /usr/local/lib/python3.10/dist-packages (from spacy<4.0.0,>=3.4.4->presidio_analyzer) (3.0.9)\n",
            "Requirement already satisfied: thinc<8.3.0,>=8.2.2 in /usr/local/lib/python3.10/dist-packages (from spacy<4.0.0,>=3.4.4->presidio_analyzer) (8.2.3)\n",
            "Requirement already satisfied: wasabi<1.2.0,>=0.9.1 in /usr/local/lib/python3.10/dist-packages (from spacy<4.0.0,>=3.4.4->presidio_analyzer) (1.1.2)\n",
            "Requirement already satisfied: srsly<3.0.0,>=2.4.3 in /usr/local/lib/python3.10/dist-packages (from spacy<4.0.0,>=3.4.4->presidio_analyzer) (2.4.8)\n",
            "Requirement already satisfied: catalogue<2.1.0,>=2.0.6 in /usr/local/lib/python3.10/dist-packages (from spacy<4.0.0,>=3.4.4->presidio_analyzer) (2.0.10)\n",
            "Requirement already satisfied: weasel<0.4.0,>=0.1.0 in /usr/local/lib/python3.10/dist-packages (from spacy<4.0.0,>=3.4.4->presidio_analyzer) (0.3.4)\n",
            "Requirement already satisfied: typer<0.10.0,>=0.3.0 in /usr/local/lib/python3.10/dist-packages (from spacy<4.0.0,>=3.4.4->presidio_analyzer) (0.9.4)\n",
            "Requirement already satisfied: smart-open<7.0.0,>=5.2.1 in /usr/local/lib/python3.10/dist-packages (from spacy<4.0.0,>=3.4.4->presidio_analyzer) (6.4.0)\n",
            "Requirement already satisfied: tqdm<5.0.0,>=4.38.0 in /usr/local/lib/python3.10/dist-packages (from spacy<4.0.0,>=3.4.4->presidio_analyzer) (4.66.4)\n",
            "Requirement already satisfied: requests<3.0.0,>=2.13.0 in /usr/local/lib/python3.10/dist-packages (from spacy<4.0.0,>=3.4.4->presidio_analyzer) (2.31.0)\n",
            "Requirement already satisfied: pydantic!=1.8,!=1.8.1,<3.0.0,>=1.7.4 in /usr/local/lib/python3.10/dist-packages (from spacy<4.0.0,>=3.4.4->presidio_analyzer) (2.7.1)\n",
            "Requirement already satisfied: jinja2 in /usr/local/lib/python3.10/dist-packages (from spacy<4.0.0,>=3.4.4->presidio_analyzer) (3.1.4)\n",
            "Requirement already satisfied: setuptools in /usr/local/lib/python3.10/dist-packages (from spacy<4.0.0,>=3.4.4->presidio_analyzer) (67.7.2)\n",
            "Requirement already satisfied: packaging>=20.0 in /usr/local/lib/python3.10/dist-packages (from spacy<4.0.0,>=3.4.4->presidio_analyzer) (23.2)\n",
            "Requirement already satisfied: langcodes<4.0.0,>=3.2.0 in /usr/local/lib/python3.10/dist-packages (from spacy<4.0.0,>=3.4.4->presidio_analyzer) (3.4.0)\n",
            "Requirement already satisfied: numpy>=1.19.0 in /usr/local/lib/python3.10/dist-packages (from spacy<4.0.0,>=3.4.4->presidio_analyzer) (1.26.4)\n",
            "Requirement already satisfied: idna in /usr/local/lib/python3.10/dist-packages (from tldextract->presidio_analyzer) (3.7)\n",
            "Requirement already satisfied: requests-file>=1.4 in /usr/local/lib/python3.10/dist-packages (from tldextract->presidio_analyzer) (2.1.0)\n",
            "Requirement already satisfied: filelock>=3.0.8 in /usr/local/lib/python3.10/dist-packages (from tldextract->presidio_analyzer) (3.14.0)\n",
            "Requirement already satisfied: language-data>=1.2 in /usr/local/lib/python3.10/dist-packages (from langcodes<4.0.0,>=3.2.0->spacy<4.0.0,>=3.4.4->presidio_analyzer) (1.2.0)\n",
            "Requirement already satisfied: annotated-types>=0.4.0 in /usr/local/lib/python3.10/dist-packages (from pydantic!=1.8,!=1.8.1,<3.0.0,>=1.7.4->spacy<4.0.0,>=3.4.4->presidio_analyzer) (0.7.0)\n",
            "Requirement already satisfied: pydantic-core==2.18.2 in /usr/local/lib/python3.10/dist-packages (from pydantic!=1.8,!=1.8.1,<3.0.0,>=1.7.4->spacy<4.0.0,>=3.4.4->presidio_analyzer) (2.18.2)\n",
            "Requirement already satisfied: typing-extensions>=4.6.1 in /usr/local/lib/python3.10/dist-packages (from pydantic!=1.8,!=1.8.1,<3.0.0,>=1.7.4->spacy<4.0.0,>=3.4.4->presidio_analyzer) (4.11.0)\n",
            "Requirement already satisfied: charset-normalizer<4,>=2 in /usr/local/lib/python3.10/dist-packages (from requests<3.0.0,>=2.13.0->spacy<4.0.0,>=3.4.4->presidio_analyzer) (3.3.2)\n",
            "Requirement already satisfied: urllib3<3,>=1.21.1 in /usr/local/lib/python3.10/dist-packages (from requests<3.0.0,>=2.13.0->spacy<4.0.0,>=3.4.4->presidio_analyzer) (2.0.7)\n",
            "Requirement already satisfied: certifi>=2017.4.17 in /usr/local/lib/python3.10/dist-packages (from requests<3.0.0,>=2.13.0->spacy<4.0.0,>=3.4.4->presidio_analyzer) (2024.2.2)\n",
            "Requirement already satisfied: blis<0.8.0,>=0.7.8 in /usr/local/lib/python3.10/dist-packages (from thinc<8.3.0,>=8.2.2->spacy<4.0.0,>=3.4.4->presidio_analyzer) (0.7.11)\n",
            "Requirement already satisfied: confection<1.0.0,>=0.0.1 in /usr/local/lib/python3.10/dist-packages (from thinc<8.3.0,>=8.2.2->spacy<4.0.0,>=3.4.4->presidio_analyzer) (0.1.4)\n",
            "Requirement already satisfied: click<9.0.0,>=7.1.1 in /usr/local/lib/python3.10/dist-packages (from typer<0.10.0,>=0.3.0->spacy<4.0.0,>=3.4.4->presidio_analyzer) (8.1.7)\n",
            "Requirement already satisfied: cloudpathlib<0.17.0,>=0.7.0 in /usr/local/lib/python3.10/dist-packages (from weasel<0.4.0,>=0.1.0->spacy<4.0.0,>=3.4.4->presidio_analyzer) (0.16.0)\n",
            "Requirement already satisfied: MarkupSafe>=2.0 in /usr/local/lib/python3.10/dist-packages (from jinja2->spacy<4.0.0,>=3.4.4->presidio_analyzer) (2.1.5)\n",
            "Requirement already satisfied: marisa-trie>=0.7.7 in /usr/local/lib/python3.10/dist-packages (from language-data>=1.2->langcodes<4.0.0,>=3.2.0->spacy<4.0.0,>=3.4.4->presidio_analyzer) (1.1.1)\n",
            "Collecting en-core-web-lg==3.7.1\n",
            "  Downloading https://github.com/explosion/spacy-models/releases/download/en_core_web_lg-3.7.1/en_core_web_lg-3.7.1-py3-none-any.whl (587.7 MB)\n",
            "\u001b[2K     \u001b[90m━━━━━━━━━━━━━━━━━━━━━━━━━━━━━━━━━━━━━━━━\u001b[0m \u001b[32m587.7/587.7 MB\u001b[0m \u001b[31m2.8 MB/s\u001b[0m eta \u001b[36m0:00:00\u001b[0m\n",
            "\u001b[?25hRequirement already satisfied: spacy<3.8.0,>=3.7.2 in /usr/local/lib/python3.10/dist-packages (from en-core-web-lg==3.7.1) (3.7.4)\n",
            "Requirement already satisfied: spacy-legacy<3.1.0,>=3.0.11 in /usr/local/lib/python3.10/dist-packages (from spacy<3.8.0,>=3.7.2->en-core-web-lg==3.7.1) (3.0.12)\n",
            "Requirement already satisfied: spacy-loggers<2.0.0,>=1.0.0 in /usr/local/lib/python3.10/dist-packages (from spacy<3.8.0,>=3.7.2->en-core-web-lg==3.7.1) (1.0.5)\n",
            "Requirement already satisfied: murmurhash<1.1.0,>=0.28.0 in /usr/local/lib/python3.10/dist-packages (from spacy<3.8.0,>=3.7.2->en-core-web-lg==3.7.1) (1.0.10)\n",
            "Requirement already satisfied: cymem<2.1.0,>=2.0.2 in /usr/local/lib/python3.10/dist-packages (from spacy<3.8.0,>=3.7.2->en-core-web-lg==3.7.1) (2.0.8)\n",
            "Requirement already satisfied: preshed<3.1.0,>=3.0.2 in /usr/local/lib/python3.10/dist-packages (from spacy<3.8.0,>=3.7.2->en-core-web-lg==3.7.1) (3.0.9)\n",
            "Requirement already satisfied: thinc<8.3.0,>=8.2.2 in /usr/local/lib/python3.10/dist-packages (from spacy<3.8.0,>=3.7.2->en-core-web-lg==3.7.1) (8.2.3)\n",
            "Requirement already satisfied: wasabi<1.2.0,>=0.9.1 in /usr/local/lib/python3.10/dist-packages (from spacy<3.8.0,>=3.7.2->en-core-web-lg==3.7.1) (1.1.2)\n",
            "Requirement already satisfied: srsly<3.0.0,>=2.4.3 in /usr/local/lib/python3.10/dist-packages (from spacy<3.8.0,>=3.7.2->en-core-web-lg==3.7.1) (2.4.8)\n",
            "Requirement already satisfied: catalogue<2.1.0,>=2.0.6 in /usr/local/lib/python3.10/dist-packages (from spacy<3.8.0,>=3.7.2->en-core-web-lg==3.7.1) (2.0.10)\n",
            "Requirement already satisfied: weasel<0.4.0,>=0.1.0 in /usr/local/lib/python3.10/dist-packages (from spacy<3.8.0,>=3.7.2->en-core-web-lg==3.7.1) (0.3.4)\n",
            "Requirement already satisfied: typer<0.10.0,>=0.3.0 in /usr/local/lib/python3.10/dist-packages (from spacy<3.8.0,>=3.7.2->en-core-web-lg==3.7.1) (0.9.4)\n",
            "Requirement already satisfied: smart-open<7.0.0,>=5.2.1 in /usr/local/lib/python3.10/dist-packages (from spacy<3.8.0,>=3.7.2->en-core-web-lg==3.7.1) (6.4.0)\n",
            "Requirement already satisfied: tqdm<5.0.0,>=4.38.0 in /usr/local/lib/python3.10/dist-packages (from spacy<3.8.0,>=3.7.2->en-core-web-lg==3.7.1) (4.66.4)\n",
            "Requirement already satisfied: requests<3.0.0,>=2.13.0 in /usr/local/lib/python3.10/dist-packages (from spacy<3.8.0,>=3.7.2->en-core-web-lg==3.7.1) (2.31.0)\n",
            "Requirement already satisfied: pydantic!=1.8,!=1.8.1,<3.0.0,>=1.7.4 in /usr/local/lib/python3.10/dist-packages (from spacy<3.8.0,>=3.7.2->en-core-web-lg==3.7.1) (2.7.1)\n",
            "Requirement already satisfied: jinja2 in /usr/local/lib/python3.10/dist-packages (from spacy<3.8.0,>=3.7.2->en-core-web-lg==3.7.1) (3.1.4)\n",
            "Requirement already satisfied: setuptools in /usr/local/lib/python3.10/dist-packages (from spacy<3.8.0,>=3.7.2->en-core-web-lg==3.7.1) (67.7.2)\n",
            "Requirement already satisfied: packaging>=20.0 in /usr/local/lib/python3.10/dist-packages (from spacy<3.8.0,>=3.7.2->en-core-web-lg==3.7.1) (23.2)\n",
            "Requirement already satisfied: langcodes<4.0.0,>=3.2.0 in /usr/local/lib/python3.10/dist-packages (from spacy<3.8.0,>=3.7.2->en-core-web-lg==3.7.1) (3.4.0)\n",
            "Requirement already satisfied: numpy>=1.19.0 in /usr/local/lib/python3.10/dist-packages (from spacy<3.8.0,>=3.7.2->en-core-web-lg==3.7.1) (1.26.4)\n",
            "Requirement already satisfied: language-data>=1.2 in /usr/local/lib/python3.10/dist-packages (from langcodes<4.0.0,>=3.2.0->spacy<3.8.0,>=3.7.2->en-core-web-lg==3.7.1) (1.2.0)\n",
            "Requirement already satisfied: annotated-types>=0.4.0 in /usr/local/lib/python3.10/dist-packages (from pydantic!=1.8,!=1.8.1,<3.0.0,>=1.7.4->spacy<3.8.0,>=3.7.2->en-core-web-lg==3.7.1) (0.7.0)\n",
            "Requirement already satisfied: pydantic-core==2.18.2 in /usr/local/lib/python3.10/dist-packages (from pydantic!=1.8,!=1.8.1,<3.0.0,>=1.7.4->spacy<3.8.0,>=3.7.2->en-core-web-lg==3.7.1) (2.18.2)\n",
            "Requirement already satisfied: typing-extensions>=4.6.1 in /usr/local/lib/python3.10/dist-packages (from pydantic!=1.8,!=1.8.1,<3.0.0,>=1.7.4->spacy<3.8.0,>=3.7.2->en-core-web-lg==3.7.1) (4.11.0)\n",
            "Requirement already satisfied: charset-normalizer<4,>=2 in /usr/local/lib/python3.10/dist-packages (from requests<3.0.0,>=2.13.0->spacy<3.8.0,>=3.7.2->en-core-web-lg==3.7.1) (3.3.2)\n",
            "Requirement already satisfied: idna<4,>=2.5 in /usr/local/lib/python3.10/dist-packages (from requests<3.0.0,>=2.13.0->spacy<3.8.0,>=3.7.2->en-core-web-lg==3.7.1) (3.7)\n",
            "Requirement already satisfied: urllib3<3,>=1.21.1 in /usr/local/lib/python3.10/dist-packages (from requests<3.0.0,>=2.13.0->spacy<3.8.0,>=3.7.2->en-core-web-lg==3.7.1) (2.0.7)\n",
            "Requirement already satisfied: certifi>=2017.4.17 in /usr/local/lib/python3.10/dist-packages (from requests<3.0.0,>=2.13.0->spacy<3.8.0,>=3.7.2->en-core-web-lg==3.7.1) (2024.2.2)\n",
            "Requirement already satisfied: blis<0.8.0,>=0.7.8 in /usr/local/lib/python3.10/dist-packages (from thinc<8.3.0,>=8.2.2->spacy<3.8.0,>=3.7.2->en-core-web-lg==3.7.1) (0.7.11)\n",
            "Requirement already satisfied: confection<1.0.0,>=0.0.1 in /usr/local/lib/python3.10/dist-packages (from thinc<8.3.0,>=8.2.2->spacy<3.8.0,>=3.7.2->en-core-web-lg==3.7.1) (0.1.4)\n",
            "Requirement already satisfied: click<9.0.0,>=7.1.1 in /usr/local/lib/python3.10/dist-packages (from typer<0.10.0,>=0.3.0->spacy<3.8.0,>=3.7.2->en-core-web-lg==3.7.1) (8.1.7)\n",
            "Requirement already satisfied: cloudpathlib<0.17.0,>=0.7.0 in /usr/local/lib/python3.10/dist-packages (from weasel<0.4.0,>=0.1.0->spacy<3.8.0,>=3.7.2->en-core-web-lg==3.7.1) (0.16.0)\n",
            "Requirement already satisfied: MarkupSafe>=2.0 in /usr/local/lib/python3.10/dist-packages (from jinja2->spacy<3.8.0,>=3.7.2->en-core-web-lg==3.7.1) (2.1.5)\n",
            "Requirement already satisfied: marisa-trie>=0.7.7 in /usr/local/lib/python3.10/dist-packages (from language-data>=1.2->langcodes<4.0.0,>=3.2.0->spacy<3.8.0,>=3.7.2->en-core-web-lg==3.7.1) (1.1.1)\n",
            "\u001b[38;5;2m✔ Download and installation successful\u001b[0m\n",
            "You can now load the package via spacy.load('en_core_web_lg')\n",
            "\u001b[38;5;3m⚠ Restart to reload dependencies\u001b[0m\n",
            "If you are in a Jupyter or Colab notebook, you may need to restart Python in\n",
            "order to load all the package's dependencies. You can do this by selecting the\n",
            "'Restart kernel' or 'Restart runtime' option.\n"
          ]
        }
      ],
      "source": [
        "! pip install langchain langchain-community tiktoken faker -q\n",
        "! pip install -U unstructured numpy -q\n",
        "! pip install openai  -q\n",
        "! pip install presidio_analyzer presidio_anonymizer -q\n",
        "! python -m spacy download en_core_web_lg"
      ]
    },
    {
      "cell_type": "code",
      "source": [
        "! pip install langchain_experimental langchain-openai -q"
      ],
      "metadata": {
        "id": "l7R3dk5cAQca"
      },
      "execution_count": 28,
      "outputs": []
    },
    {
      "cell_type": "code",
      "source": [
        "\n",
        "from google.colab import output\n",
        "output.enable_custom_widget_manager()"
      ],
      "metadata": {
        "id": "2sGhLPYoKNal"
      },
      "execution_count": 29,
      "outputs": []
    },
    {
      "cell_type": "code",
      "source": [
        "from google.colab import drive\n",
        "drive.mount('/content/drive')"
      ],
      "metadata": {
        "colab": {
          "base_uri": "https://localhost:8080/"
        },
        "id": "_aMLt2iSKNX9",
        "outputId": "22b7149e-eea3-4bb0-9dfe-19c37f6459bf"
      },
      "execution_count": 30,
      "outputs": [
        {
          "output_type": "stream",
          "name": "stdout",
          "text": [
            "Drive already mounted at /content/drive; to attempt to forcibly remount, call drive.mount(\"/content/drive\", force_remount=True).\n"
          ]
        }
      ]
    },
    {
      "cell_type": "code",
      "source": [
        "from google.colab import userdata\n",
        "openai_api_key = userdata.get('KEY_OPENAI')\n"
      ],
      "metadata": {
        "id": "XdFhRM0dKNVY"
      },
      "execution_count": 31,
      "outputs": []
    },
    {
      "cell_type": "code",
      "source": [
        "from langchain.prompts import FewShotPromptTemplate, PromptTemplate\n",
        "from langchain_core.pydantic_v1 import BaseModel\n",
        "from langchain_experimental.tabular_synthetic_data.openai import (\n",
        "    OPENAI_TEMPLATE,\n",
        "    create_openai_data_generator,\n",
        ")\n",
        "from langchain_experimental.tabular_synthetic_data.prompts import (\n",
        "    SYNTHETIC_FEW_SHOT_PREFIX,\n",
        "    SYNTHETIC_FEW_SHOT_SUFFIX,\n",
        ")\n",
        "from langchain_openai import ChatOpenAI"
      ],
      "metadata": {
        "id": "rgA9OAwaA7-a"
      },
      "execution_count": 32,
      "outputs": []
    },
    {
      "cell_type": "code",
      "source": [
        "class PII_entities(BaseModel):\n",
        "    PERSON: str\n",
        "    LOCATION: str\n",
        "    CREDIT_CARD: str\n",
        "    EMAIL_ADDRESS: str\n",
        "    IP_ADDRESS: str\n",
        "    IBAN_CODE: str"
      ],
      "metadata": {
        "id": "N44gKtHRBqNw"
      },
      "execution_count": 33,
      "outputs": []
    },
    {
      "cell_type": "markdown",
      "source": [
        "# Faker to generate PII entities\n",
        "\n"
      ],
      "metadata": {
        "id": "3SifzZFdQ9ke"
      }
    },
    {
      "cell_type": "code",
      "source": [
        "from faker import Faker\n",
        "fake = Faker()\n",
        "\n",
        "\n",
        "synthetic_results = []\n",
        "for i in range(10):\n",
        "\n",
        "    cl = PII_entities(\n",
        "        PERSON=fake.name(),\n",
        "        LOCATION=fake.city(),\n",
        "        CREDIT_CARD=fake.credit_card_number(),\n",
        "        EMAIL_ADDRESS=fake.email(),\n",
        "        IP_ADDRESS=fake.ipv4_public(),\n",
        "        IBAN_CODE=fake.iban(),\n",
        "    )\n",
        "    synthetic_results.append(cl)"
      ],
      "metadata": {
        "id": "Sku9VsGGKNO4"
      },
      "execution_count": 34,
      "outputs": []
    },
    {
      "cell_type": "code",
      "source": [
        "synthetic_results[0]"
      ],
      "metadata": {
        "colab": {
          "base_uri": "https://localhost:8080/"
        },
        "id": "gQgRhDmT-mnY",
        "outputId": "28543ceb-e9cf-45be-d0d2-9a9fd30737c1"
      },
      "execution_count": 35,
      "outputs": [
        {
          "output_type": "execute_result",
          "data": {
            "text/plain": [
              "PII_entities(PERSON='Olivia Berry', LOCATION='New Danielton', CREDIT_CARD='3587172382678078', EMAIL_ADDRESS='ariasrobert@example.net', IP_ADDRESS='19.29.89.27', IBAN_CODE='GB35CPKN05411498890583')"
            ]
          },
          "metadata": {},
          "execution_count": 35
        }
      ]
    },
    {
      "cell_type": "markdown",
      "source": [
        "# Create Dataset for Synthetic data\n",
        "\n",
        "\n",
        "https://api.python.langchain.com/en/latest/tabular_synthetic_data/langchain_experimental.tabular_synthetic_data.base.SyntheticDataGenerator.html\n",
        "\n"
      ],
      "metadata": {
        "id": "OFsukVBBbrRi"
      }
    },
    {
      "cell_type": "code",
      "source": [
        "from langchain_experimental.synthetic_data import (\n",
        "    DatasetGenerator,\n",
        "\n",
        ")\n",
        "# LLM\n",
        "model = ChatOpenAI(model_name=\"gpt-4\", temperature=0.7, openai_api_key=openai_api_key)\n"
      ],
      "metadata": {
        "id": "Rm4OAURsU52K"
      },
      "execution_count": 37,
      "outputs": []
    },
    {
      "cell_type": "code",
      "source": [
        "imp= []\n",
        "for r in synthetic_results:\n",
        "\n",
        "  data= {\n",
        "        \"PERSON\": r.PERSON,\n",
        "        \"LOCATION\":r.LOCATION,\n",
        "        \"CREDIT_CARD\": r.CREDIT_CARD,\n",
        "        \"EMAIL_ADDRESS\": r.EMAIL_ADDRESS,\n",
        "        \"IP_ADDRESS\": r.IP_ADDRESS,\n",
        "        \"IBAN_CODE\": r.IBAN_CODE\n",
        "    }\n",
        "  imp.append(data)"
      ],
      "metadata": {
        "id": "7mb1EQ90aFTx"
      },
      "execution_count": 38,
      "outputs": []
    },
    {
      "cell_type": "code",
      "source": [
        "# Example input for generating synthetic customer profiles\n",
        "imp[-1]"
      ],
      "metadata": {
        "colab": {
          "base_uri": "https://localhost:8080/"
        },
        "id": "PKnAWmEbW2Ao",
        "outputId": "7e96f40e-a5a9-42aa-b454-8b68e4e8bb99"
      },
      "execution_count": 39,
      "outputs": [
        {
          "output_type": "execute_result",
          "data": {
            "text/plain": [
              "{'PERSON': 'Barry Davis',\n",
              " 'LOCATION': 'Wattsview',\n",
              " 'CREDIT_CARD': '374019527528556',\n",
              " 'EMAIL_ADDRESS': 'mccoymark@example.net',\n",
              " 'IP_ADDRESS': '181.109.191.229',\n",
              " 'IBAN_CODE': 'GB68AWEJ41397223106326'}"
            ]
          },
          "metadata": {},
          "execution_count": 39
        }
      ]
    },
    {
      "cell_type": "code",
      "source": [
        "generator = DatasetGenerator(model, {\"style\": \"formal\", \"minimal length\": 500})\n",
        "dataset = generator(imp)"
      ],
      "metadata": {
        "id": "yfGF2L92W194"
      },
      "execution_count": 40,
      "outputs": []
    },
    {
      "cell_type": "code",
      "source": [
        "dataset[-1]"
      ],
      "metadata": {
        "colab": {
          "base_uri": "https://localhost:8080/"
        },
        "id": "WyWPhYEdW162",
        "outputId": "d4ea8167-ff9d-4949-d1ed-c10d01ce0325"
      },
      "execution_count": null,
      "outputs": [
        {
          "output_type": "execute_result",
          "data": {
            "text/plain": [
              "{'fields': {'PERSON': 'Lisa Henderson',\n",
              "  'LOCATION': 'Port Eric',\n",
              "  'CREDIT_CARD': '675968923622',\n",
              "  'EMAIL_ADDRESS': 'justin59@example.com',\n",
              "  'IP_ADDRESS': '192.193.68.227',\n",
              "  'IBAN_CODE': 'GB87XPVY63622793797030'},\n",
              " 'preferences': {'style': 'formal', 'minimal length': 500},\n",
              " 'text': 'Lisa Henderson, an esteemed resident of the picturesque seaside town of Port Eric, is a woman of sophisticated tastes and impeccable credentials. Due to her meticulous nature, she is known to handle her financial affairs with utmost precision. Her credit card, the number of which is 675968923622, is a testament to her regular transactions and a symbol of her financial independence. She is an adept user of the internet and her activities can be traced back to a specific IP address, 192.193.68.227, highlighting her digital footprint. In the realm of virtual communication, she can be reached via her email address, justin59@example.com, which she checks regularly to stay updated with her personal and professional engagements. As an international businesswoman, she is also known to utilize her IBAN code, GB87XPVY63622793797030, for her cross-border financial transactions, further cementing her status as a global citizen.'}"
            ]
          },
          "metadata": {},
          "execution_count": 14
        }
      ]
    },
    {
      "cell_type": "code",
      "source": [
        "dataset[-1]['text']"
      ],
      "metadata": {
        "colab": {
          "base_uri": "https://localhost:8080/",
          "height": 105
        },
        "id": "yfem8BpVlYFu",
        "outputId": "9176228a-9436-4fb8-b927-ba442c1a6e0c"
      },
      "execution_count": null,
      "outputs": [
        {
          "output_type": "execute_result",
          "data": {
            "text/plain": [
              "'Lisa Henderson, an esteemed resident of the picturesque seaside town of Port Eric, is a woman of sophisticated tastes and impeccable credentials. Due to her meticulous nature, she is known to handle her financial affairs with utmost precision. Her credit card, the number of which is 675968923622, is a testament to her regular transactions and a symbol of her financial independence. She is an adept user of the internet and her activities can be traced back to a specific IP address, 192.193.68.227, highlighting her digital footprint. In the realm of virtual communication, she can be reached via her email address, justin59@example.com, which she checks regularly to stay updated with her personal and professional engagements. As an international businesswoman, she is also known to utilize her IBAN code, GB87XPVY63622793797030, for her cross-border financial transactions, further cementing her status as a global citizen.'"
            ],
            "application/vnd.google.colaboratory.intrinsic+json": {
              "type": "string"
            }
          },
          "metadata": {},
          "execution_count": 15
        }
      ]
    },
    {
      "cell_type": "markdown",
      "source": [
        "# Parsers Extraction\n",
        "\n",
        "https://python.langchain.com/docs/modules/model_io/output_parsers/types/pydantic\n"
      ],
      "metadata": {
        "id": "teWE4lczkRYb"
      }
    },
    {
      "cell_type": "code",
      "source": [
        "# Parsers"
      ],
      "metadata": {
        "id": "tmHYdVH-W10D"
      },
      "execution_count": null,
      "outputs": []
    },
    {
      "cell_type": "code",
      "source": [
        "from langchain.output_parsers import PydanticOutputParser\n",
        "\n",
        "from langchain_openai import OpenAI"
      ],
      "metadata": {
        "id": "Hx_wlwePUCg7"
      },
      "execution_count": 41,
      "outputs": []
    },
    {
      "cell_type": "code",
      "source": [
        "llm = OpenAI(model_name=\"gpt-3.5-turbo-instruct\",openai_api_key=openai_api_key)"
      ],
      "metadata": {
        "id": "mElJjeRiVVWU"
      },
      "execution_count": 45,
      "outputs": []
    },
    {
      "cell_type": "code",
      "source": [
        "\n",
        "parser = PydanticOutputParser(pydantic_object=PII_entities)\n",
        "\n",
        "prompt = PromptTemplate(\n",
        "    template=\"Extract fields from a given text.\\n{format_instructions}\\n{text}\\n\",\n",
        "    input_variables=[\"text\"],\n",
        "    partial_variables={\"format_instructions\": parser.get_format_instructions()},\n",
        ")"
      ],
      "metadata": {
        "id": "9RgigiSZjYdQ"
      },
      "execution_count": 44,
      "outputs": []
    },
    {
      "cell_type": "code",
      "source": [
        "_input = prompt.format_prompt(text=dataset[0][\"text\"])\n",
        "output = llm(_input.to_string())\n",
        "parsed = parser.parse(output)\n",
        "print(parsed)\n",
        "print(dataset[0][\"text\"])"
      ],
      "metadata": {
        "colab": {
          "base_uri": "https://localhost:8080/"
        },
        "id": "7jqcPzm3jenn",
        "outputId": "a4fa4852-de9d-40e2-d051-0a3bfa02cc8b"
      },
      "execution_count": 46,
      "outputs": [
        {
          "output_type": "stream",
          "name": "stdout",
          "text": [
            "PERSON='Olivia Berry' LOCATION='New Danielton' CREDIT_CARD='3587172382678078' EMAIL_ADDRESS='ariasrobert@example.net' IP_ADDRESS='19.29.89.27' IBAN_CODE='GB35CPKN05411498890583'\n",
            "Olivia Berry, a well-known and respected resident of New Danielton, has been recently identified through her unique IP address of 19.29.89.27, associated with her personal email address, ariasrobert@example.net. Highly esteemed within her community, Ms. Berry has a reputation for her meticulous attention to detail in all aspects of her life, which includes the careful management of her financial assets. Her financial transactions are usually facilitated through her credit card numbered 3587172382678078, a number she guards closely, knowing the potential risks associated with financial fraud in the digital age. Although she had made a conscious choice to live in the small town of New Danielton, she frequently engages in international transactions, especially to the United Kingdom, facilitated by her International Bank Account Number (IBAN) GB35CPKN05411498890583. This mode of transaction she finds convenient, efficient, and secure, especially when dealing with her international contacts. Olivia Berry is an epitome of the prudent and careful handling of personal information in the digital age, a trait that makes her respected and admired in New Danielton and beyond.\n"
          ]
        }
      ]
    },
    {
      "cell_type": "markdown",
      "source": [
        "# PII Detection"
      ],
      "metadata": {
        "id": "NVdBorNriqpN"
      }
    },
    {
      "cell_type": "code",
      "source": [
        "from presidio_analyzer import AnalyzerEngine\n",
        "from presidio_anonymizer import AnonymizerEngine\n",
        "import pprint\n",
        "analyzer = AnalyzerEngine()\n",
        "anonymizer = AnonymizerEngine()"
      ],
      "metadata": {
        "colab": {
          "base_uri": "https://localhost:8080/"
        },
        "id": "0Ps3FnO78RQ0",
        "outputId": "4461fabc-89b6-4127-b4df-fec914f0ba43"
      },
      "execution_count": 47,
      "outputs": [
        {
          "output_type": "stream",
          "name": "stderr",
          "text": [
            "WARNING:presidio-analyzer:configuration file /usr/local/lib/python3.10/dist-packages/conf/default.yaml not found.  Using default config: {'nlp_engine_name': 'spacy', 'models': [{'lang_code': 'en', 'model_name': 'en_core_web_lg'}]}.\n",
            "WARNING:presidio-analyzer:configuration file is missing 'ner_model_configuration'. Using default\n",
            "WARNING:presidio-analyzer:model_to_presidio_entity_mapping is missing from configuration, using default\n",
            "WARNING:presidio-analyzer:low_score_entity_names is missing from configuration, using default\n",
            "WARNING:presidio-analyzer:labels_to_ignore is missing from configuration, using default\n"
          ]
        }
      ]
    },
    {
      "cell_type": "code",
      "source": [
        "import pprint"
      ],
      "metadata": {
        "id": "FgM3v9XciYhF"
      },
      "execution_count": 48,
      "outputs": []
    },
    {
      "cell_type": "code",
      "source": [
        "for d in dataset:\n",
        "  sample =d['text']\n",
        "  results = analyzer.analyze(sample, language=\"en\")\n",
        "  anonymized = anonymizer.anonymize(text=sample, analyzer_results=results)\n",
        "  anonymized_text = anonymized.text\n",
        "  pprint.pprint(sample)\n",
        "  pprint.pprint(anonymized_text)\n",
        "  print(\"-\"*50)\n"
      ],
      "metadata": {
        "colab": {
          "base_uri": "https://localhost:8080/"
        },
        "id": "e8mmNehl8Q7j",
        "outputId": "32f44107-04ce-466d-b51e-b5fbd1ed1062"
      },
      "execution_count": 49,
      "outputs": [
        {
          "output_type": "stream",
          "name": "stdout",
          "text": [
            "('Olivia Berry, a well-known and respected resident of New Danielton, has been '\n",
            " 'recently identified through her unique IP address of 19.29.89.27, associated '\n",
            " 'with her personal email address, ariasrobert@example.net. Highly esteemed '\n",
            " 'within her community, Ms. Berry has a reputation for her meticulous '\n",
            " 'attention to detail in all aspects of her life, which includes the careful '\n",
            " 'management of her financial assets. Her financial transactions are usually '\n",
            " 'facilitated through her credit card numbered 3587172382678078, a number she '\n",
            " 'guards closely, knowing the potential risks associated with financial fraud '\n",
            " 'in the digital age. Although she had made a conscious choice to live in the '\n",
            " 'small town of New Danielton, she frequently engages in international '\n",
            " 'transactions, especially to the United Kingdom, facilitated by her '\n",
            " 'International Bank Account Number (IBAN) GB35CPKN05411498890583. This mode '\n",
            " 'of transaction she finds convenient, efficient, and secure, especially when '\n",
            " 'dealing with her international contacts. Olivia Berry is an epitome of the '\n",
            " 'prudent and careful handling of personal information in the digital age, a '\n",
            " 'trait that makes her respected and admired in New Danielton and beyond.')\n",
            "('<PERSON>, a <IN_PAN> and respected resident of New Danielton, has been '\n",
            " 'recently <IN_PAN> through her unique IP address of <IP_ADDRESS>, <IN_PAN> '\n",
            " 'with her personal email address, <EMAIL_ADDRESS>. Highly esteemed within her '\n",
            " 'community, Ms. <PERSON> has a <IN_PAN> for her <IN_PAN> attention to detail '\n",
            " 'in all aspects of her life, which includes the careful <IN_PAN> of her '\n",
            " 'financial assets. Her financial transactions are usually facilitated through '\n",
            " 'her credit card numbered <CREDIT_CARD>, a number she guards closely, knowing '\n",
            " 'the potential risks <IN_PAN> with financial fraud in the digital age. '\n",
            " 'Although she had made a conscious choice to live in the small town of New '\n",
            " 'Danielton, she <IN_PAN> engages in international transactions, <IN_PAN> to '\n",
            " '<LOCATION>, facilitated by her International Bank Account Number (IBAN) '\n",
            " '<IBAN_CODE>. This mode of transaction she finds convenient, efficient, and '\n",
            " 'secure, especially when dealing with her international contacts. <PERSON> is '\n",
            " 'an epitome of the prudent and careful handling of personal information in '\n",
            " 'the digital age, a trait that makes her respected and admired in New '\n",
            " 'Danielton and beyond.')\n",
            "--------------------------------------------------\n",
            "('John Romero, an esteemed individual hailing from the picturesque town of '\n",
            " 'Williamchester, is known for his punctilious nature when it comes to '\n",
            " 'handling his digital interactions. Armed with a credit card bearing the '\n",
            " \"number '575403422505', he conducts most of his transactions using this \"\n",
            " 'particular tool of commerce, demonstrating his trust in the global financial '\n",
            " 'system. His digital footprint, marked by the unique IP address '\n",
            " \"'169.94.222.204', can be traced back to numerous online platforms where he \"\n",
            " 'has made his presence felt, either through contributions or transactions. '\n",
            " \"His choice of email address, 'cgould@example.org', a seemingly innocuous \"\n",
            " 'identity, offers a peek into his preference for maintaining a low profile, '\n",
            " 'despite his considerable reach in the digital world. This preference for '\n",
            " 'discretion also extends to his banking interactions, where he uses his '\n",
            " \"International Bank Account Number (IBAN) 'GB30HARZ08007275654779' for all \"\n",
            " 'his international transactions, thus ensuring his financial dealings remain '\n",
            " 'secure and private. Thus, John Romero, through his careful selection of '\n",
            " 'digital tools and his meticulous approach, has carved a unique identity for '\n",
            " 'himself in this digital age.')\n",
            "('<PERSON>, an esteemed <IN_PAN> hailing from the picturesque town of '\n",
            " '<PERSON>, is known for his punctilious nature when it comes to handling his '\n",
            " 'digital interactions. Armed with a credit card bearing the number '\n",
            " \"'<US_BANK_NUMBER>', he conducts most of his transactions using this <IN_PAN> \"\n",
            " 'tool of commerce, demonstrating his trust in the global financial system. '\n",
            " \"His digital footprint, marked by the unique IP address '<IP_ADDRESS>', can \"\n",
            " 'be traced back to numerous online platforms where he has made his presence '\n",
            " 'felt, either through contributions or transactions. His choice of email '\n",
            " \"address, '<EMAIL_ADDRESS>', a seemingly innocuous identity, offers a peek \"\n",
            " 'into his <IN_PAN> for maintaining a low profile, despite his considerable '\n",
            " 'reach in the digital world. This <IN_PAN> for <IN_PAN> also extends to his '\n",
            " 'banking interactions, where he uses his International Bank Account Number '\n",
            " \"(IBAN) '<IBAN_CODE>' for all his international transactions, thus ensuring \"\n",
            " 'his financial dealings remain secure and private. Thus, <PERSON>, through '\n",
            " 'his careful selection of digital tools and his meticulous approach, has '\n",
            " 'carved a unique identity for himself in this digital age.')\n",
            "--------------------------------------------------\n",
            "('In a meticulously organized office of the Port Charles bank, a diligent bank '\n",
            " 'officer was carefully reviewing a noteworthy, yet perplexing case involving '\n",
            " 'a certain individual named Christopher Smith. The case had caught the bank '\n",
            " \"officer's attention when the peculiar patterns of transactions on the credit \"\n",
            " 'card number 3503686552920573, associated with Mr. Smith, had triggered the '\n",
            " \"bank's stringent fraud detection systems. Notably, these transactions were \"\n",
            " 'being carried out from an IP address traced back to 207.224.118.217, a '\n",
            " 'location far from the usual activity linked to Mr. Smith. To add another '\n",
            " 'layer of complexity, the bank officer discovered that all correspondences '\n",
            " 'related to these transactions were being sent to an email address, '\n",
            " \"joannajackson@example.com, which was not registered under Mr. Smith's name \"\n",
            " \"in the bank's records. When the officer tried to get in touch with Mr. Smith \"\n",
            " 'through the phone number listed on his account, the calls went unanswered. '\n",
            " \"This further piqued the officer's curiosity and concern, prompting him to \"\n",
            " 'delve deeper into the matter. In the process of his investigation, he also '\n",
            " 'noted a significant amount of funds being regularly transferred to an IBAN '\n",
            " 'account GB85KRLE65774678263369, again not associated with Christopher Smith. '\n",
            " 'It was clear that this was not a simple case of identity theft, but a '\n",
            " 'complex web of financial transactions that required further investigation by '\n",
            " 'the higher authorities. Thus, the Port Charles bank officer, armed with the '\n",
            " 'facts and evidence, prepared to escalate the matter, ensuring the safety and '\n",
            " \"security of their customer's account.\")\n",
            "('In a meticulously organized office of the <LOCATION> bank, a diligent bank '\n",
            " 'officer was carefully reviewing a <IN_PAN>, yet <IN_PAN> case involving a '\n",
            " \"certain <IN_PAN> named <PERSON>. The case had caught the bank officer's \"\n",
            " 'attention when the peculiar patterns of transactions on the credit card '\n",
            " \"number <CREDIT_CARD>, <IN_PAN> with Mr. <PERSON>, had triggered the bank's \"\n",
            " 'stringent fraud detection systems. Notably, these transactions were being '\n",
            " 'carried out from an IP address traced back to <IP_ADDRESS>, a location far '\n",
            " 'from the usual activity linked to Mr. <PERSON>. To add another layer of '\n",
            " '<IN_PAN>, the bank officer <IN_PAN> that all correspondences related to '\n",
            " 'these transactions were being sent to an email address, <EMAIL_ADDRESS>, '\n",
            " \"which was not <IN_PAN> under Mr. <PERSON>'s name in the bank's records. When \"\n",
            " 'the officer tried to get in touch with Mr. <PERSON> through the phone number '\n",
            " 'listed on his account, the calls went <IN_PAN>. This further piqued the '\n",
            " \"officer's curiosity and concern, prompting him to delve deeper into the \"\n",
            " 'matter. In the process of his investigation, he also noted a significant '\n",
            " 'amount of funds being regularly transferred to an IBAN account <IBAN_CODE>, '\n",
            " 'again not associated with <PERSON>. It was clear that this was not a simple '\n",
            " 'case of identity theft, but a complex web of financial transactions that '\n",
            " 'required further investigation by the higher authorities. Thus, the '\n",
            " '<LOCATION> bank officer, armed with the facts and evidence, prepared to '\n",
            " \"escalate the matter, ensuring the safety and security of their customer's \"\n",
            " 'account.')\n",
            "--------------------------------------------------\n",
            "('In the quaint town of Saramouth, ensconced in its idyllic charm, resides a '\n",
            " 'remarkable woman by the name of Sandra Stewart. As an individual who '\n",
            " 'appreciates the nuances of modernity intertwined with the simplicity of her '\n",
            " 'homely surroundings, Sandra Stewart is known for her digital acumen, a '\n",
            " 'rarity in the town of Saramouth. An interesting fact about Sandra is the way '\n",
            " 'she has embraced advanced technology, maintaining an active email '\n",
            " 'correspondence through her address flamb@example.org and securing her '\n",
            " 'digital transactions with the credit card numbered 4361811188909118. Even in '\n",
            " 'the remote location of Saramouth, where the technology infrastructure is yet '\n",
            " 'to match the pace of metropolitan cities, Sandra Stewart, using her IP '\n",
            " 'address 166.61.132.142, manages to stay connected with the world, conducting '\n",
            " 'online transactions and participating in digital discourses. Notably, she '\n",
            " 'ensures all her international transactions are conducted through the '\n",
            " 'globally recognized banking standard, facilitated using her IBAN code '\n",
            " \"GB29MPJA81811560906849. Sandra's adeptness at managing her digital affairs \"\n",
            " \"in the face of Saramouth's modest infrastructure has made her a beacon of \"\n",
            " 'inspiration to her fellow townsfolk, encouraging them to conquer the digital '\n",
            " 'divide.')\n",
            "('In the quaint town of Saramouth, ensconced in its idyllic charm, resides a '\n",
            " '<IN_PAN> woman by the name of <PERSON>. As an <IN_PAN> who appreciates the '\n",
            " 'nuances of modernity intertwined with the <IN_PAN> of her homely '\n",
            " 'surroundings, <PERSON> is known for her digital acumen, a rarity in the town '\n",
            " 'of Saramouth. An interesting fact about <PERSON> is the way she has embraced '\n",
            " 'advanced <IN_PAN>, maintaining an active email correspondence through her '\n",
            " 'address <EMAIL_ADDRESS> and securing her digital transactions with the '\n",
            " 'credit card numbered <CREDIT_CARD>. Even in the remote location of '\n",
            " 'Saramouth, where the <IN_PAN> infrastructure is yet to match the pace of '\n",
            " 'metropolitan cities, <PERSON>, using her IP address <IP_ADDRESS>, manages to '\n",
            " 'stay connected with the world, <IN_PAN> online transactions and '\n",
            " 'participating in digital <IN_PAN>. Notably, she ensures all her '\n",
            " 'international transactions are conducted through the globally <IN_PAN> '\n",
            " \"banking standard, facilitated using her IBAN code <IBAN_CODE>. <PERSON>'s \"\n",
            " \"adeptness at managing her digital affairs in the face of Saramouth's modest \"\n",
            " 'infrastructure has made her a beacon of inspiration to her fellow townsfolk, '\n",
            " 'encouraging them to conquer the digital divide.')\n",
            "--------------------------------------------------\n",
            "('In the quaint and charming town of Hartmanchester, a man by the name of '\n",
            " 'Jason Joyce resides, a man as intriguing as the town itself. Mr. Joyce, who '\n",
            " 'can be reached at the email address cindy43@example.net, is a diligent man '\n",
            " 'with an eye for detail and a penchant for precision. His life is as '\n",
            " 'organized as the sequence of numbers on his credit card, 30247488871691. '\n",
            " 'This meticulousness extends to his financial affairs as well, with the IBAN '\n",
            " 'code GB50BLRV64570171499447 representing his international banking '\n",
            " 'transactions. The digital world knows him by his IP address, 207.125.45.142, '\n",
            " 'a unique identifier as distinctive as his character. Jason Joyce of '\n",
            " 'Hartmanchester, with his precise financial dealings, his careful '\n",
            " 'organization, and his unique digital footprint, is a quintessential example '\n",
            " 'of the modern man, connected to the world through his online presence and '\n",
            " 'financial transactions, yet still rooted in his charming hometown.')\n",
            "('In the quaint and charming town of <LOCATION>, a man by the name of <PERSON> '\n",
            " 'resides, a man as <IN_PAN> as the town itself. Mr. <PERSON>, who can be '\n",
            " 'reached at the email address <EMAIL_ADDRESS>, is a diligent man with an eye '\n",
            " 'for detail and a penchant for precision. His life is as organized as the '\n",
            " 'sequence of numbers on his credit card, <CREDIT_CARD>. This meticulousness '\n",
            " 'extends to his financial affairs as well, with the IBAN code <IBAN_CODE> '\n",
            " 'representing his international banking transactions. The digital world knows '\n",
            " 'him by his IP address, <IP_ADDRESS>, a unique identifier as distinctive as '\n",
            " 'his character. <PERSON> of <PERSON>, with his precise financial dealings, '\n",
            " 'his careful organization, and his unique digital footprint, is a '\n",
            " 'quintessential example of the modern man, connected to the world through his '\n",
            " 'online presence and financial transactions, yet still rooted in his charming '\n",
            " 'hometown.')\n",
            "--------------------------------------------------\n",
            "('In the serene and tranquil town of Wuville, resided an industrious man named '\n",
            " 'Brady Parker who was known for his meticulous attention to detail and '\n",
            " 'unyielding integrity. Mr. Parker, who could conveniently be reached at his '\n",
            " 'email address, allison23@example.org, was a highly respected citizen who had '\n",
            " 'managed to earn a reputation of reliability and trust. He was known to '\n",
            " 'conduct all his transactions with the utmost transparency, which was evident '\n",
            " 'in his diligent use of his credit card, numbered 4027742460568155. Brady was '\n",
            " 'not only revered for his local engagements but also had a significant '\n",
            " 'digital footprint. His IP address, 11.24.2.6, was a testament to his active '\n",
            " 'participation in various online activities, ranging from e-commerce to '\n",
            " 'digital forums discussing the civic matters of Wuville. Furthermore, for his '\n",
            " 'international transactions and business dealings, he utilized an IBAN code, '\n",
            " 'GB65AFQH59563695147816, which further expanded his financial outreach beyond '\n",
            " 'the borders of the quaint town. Thus, Brady Parker of Wuville was a '\n",
            " 'quintessential example of a modern-day citizen who seamlessly blended his '\n",
            " 'physical and digital identities while maintaining an impeccable standard of '\n",
            " 'trust and reliability.')\n",
            "('In the serene and tranquil town of Wuville, resided an industrious man named '\n",
            " '<PERSON> who was known for his <IN_PAN> attention to detail and <IN_PAN> '\n",
            " 'integrity. Mr. <PERSON>, who could conveniently be reached at his email '\n",
            " 'address, <EMAIL_ADDRESS>, was a highly respected citizen who had managed to '\n",
            " 'earn a <IN_PAN> of reliability and trust. He was known to conduct all his '\n",
            " 'transactions with the utmost transparency, which was evident in his diligent '\n",
            " 'use of his credit card, numbered <CREDIT_CARD>. <PERSON> was not only '\n",
            " 'revered for his local engagements but also had a significant digital '\n",
            " 'footprint. His IP address, <IP_ADDRESS>, was a testament to his active '\n",
            " 'participation in various online <IN_PAN>, ranging from <IN_PAN> to digital '\n",
            " 'forums <IN_PAN> the civic matters of Wuville. Furthermore, for his '\n",
            " 'international transactions and business dealings, he utilized an IBAN code, '\n",
            " '<IBAN_CODE>, which further expanded his financial outreach beyond the '\n",
            " 'borders of the quaint town. Thus, <PERSON> of Wuville was a quintessential '\n",
            " 'example of a <DATE_TIME> citizen who seamlessly blended his physical and '\n",
            " 'digital identities while maintaining an impeccable standard of trust and '\n",
            " 'reliability.')\n",
            "--------------------------------------------------\n",
            "('Regina Smith, a distinguished resident of the bustling metropolis known as '\n",
            " 'New Jonathan, has always been the epitome of caution and discretion when it '\n",
            " 'comes to her personal and financial information. She has always been '\n",
            " 'meticulous in safeguarding her email address, riveradalton@example.org, from '\n",
            " 'any potential spam or phishing attempts. Keeping her IP address, '\n",
            " '56.38.11.204, protected from any malicious cyber activities has been a '\n",
            " 'priority for her. Similarly, she has always been careful with her credit '\n",
            " 'card, a number that reads 3590464190492015, making sure to avoid any '\n",
            " 'suspicious online transactions that could potentially compromise her '\n",
            " 'financial security. Regina, moreover, is known for her adherence to '\n",
            " 'international banking protocols, guided by her International Bank Account '\n",
            " 'Number (IBAN) code, GB71TRUF68295111008812, that allows her to make secure '\n",
            " 'cross-border transactions. Regina Smith, thus, serves as an example of '\n",
            " 'strict and cautious online behavior in the digital age, making her a '\n",
            " 'respected figure in the realm of cyber security in the vibrant city of New '\n",
            " 'Jonathan.')\n",
            "('<PERSON>, a distinguished resident of the bustling <IN_PAN> known as '\n",
            " '<PERSON>, has always been the epitome of caution and <IN_PAN> when it comes '\n",
            " 'to her personal and financial information. She has always been <IN_PAN> in '\n",
            " 'safeguarding her email address, <EMAIL_ADDRESS>, from any potential spam or '\n",
            " 'phishing attempts. Keeping her IP address, <IP_ADDRESS>, protected from any '\n",
            " 'malicious cyber <IN_PAN> has been a priority for her. Similarly, she has '\n",
            " 'always been careful with her credit card, a number that reads <CREDIT_CARD>, '\n",
            " 'making sure to avoid any <IN_PAN> online transactions that could potentially '\n",
            " '<IN_PAN> her financial security. Regina, moreover, is known for her '\n",
            " 'adherence to international banking protocols, guided by her International '\n",
            " 'Bank Account Number (IBAN) code, <IBAN_CODE>, that allows her to make secure '\n",
            " 'cross-border transactions. <PERSON>, thus, serves as an example of strict '\n",
            " 'and cautious online behavior in the digital age, making her a respected '\n",
            " 'figure in the realm of cyber security in the vibrant city of <LOCATION>.')\n",
            "--------------------------------------------------\n",
            "('In the bustling city of Cynthiafurt resides a remarkable woman named '\n",
            " 'Stephanie Preston, who has managed to maintain a unique blend of '\n",
            " \"professional and personal prowess amidst the city's fast-paced lifestyle. \"\n",
            " 'Stephanie, who goes by the email address amyrivers@example.net, manages her '\n",
            " 'life with a distinctive blend of grace and grit. From her extensive digital '\n",
            " 'interactions, one can trace her IP address as 166.97.55.23, reflecting her '\n",
            " 'digital footprint in the vast cyberspace where she navigates her '\n",
            " 'professional and personal pursuits with equal finesse. Stephanie, who holds '\n",
            " 'credit card number 4989927089996232503, has a reputation for being '\n",
            " 'financially savvy, balancing her income and expenses with admirable '\n",
            " 'precision. Her financial acumen is further reflected in her careful handling '\n",
            " 'of her International Bank Account Number (IBAN) GB13XTXG12184870710021, '\n",
            " 'which she uses for her international transactions, making her a truly global '\n",
            " 'citizen. Thus, Stephanie Preston stands as a sterling example of a modern, '\n",
            " 'independent woman who is successfully balancing her life in the vibrant city '\n",
            " 'of Cynthiafurt while leaving a significant digital and financial footprint.')\n",
            "('In the bustling city of Cynthiafurt resides a <IN_PAN> woman named <PERSON>, '\n",
            " 'who has managed to maintain a unique blend of professional and personal '\n",
            " \"prowess amidst the city's <IN_PAN> lifestyle. <PERSON>, who goes by the \"\n",
            " 'email address <EMAIL_ADDRESS>, manages her life with a distinctive blend of '\n",
            " 'grace and grit. From her extensive digital interactions, one can trace her '\n",
            " 'IP address as <IP_ADDRESS>, <IN_PAN> her digital footprint in the vast '\n",
            " '<IN_PAN> where she navigates her professional and personal pursuits with '\n",
            " 'equal finesse. <PERSON>, who holds credit card number 4989927089996232503, '\n",
            " 'has a <IN_PAN> for being financially savvy, balancing her income and '\n",
            " 'expenses with admirable precision. Her financial acumen is further reflected '\n",
            " 'in her careful handling of her International Bank Account Number (IBAN) '\n",
            " '<IBAN_CODE>, which she uses for her international transactions, making her a '\n",
            " 'truly global citizen. Thus, <PERSON> stands as a sterling example of a '\n",
            " 'modern, independent woman who is successfully balancing her life in the '\n",
            " 'vibrant city of Cynthiafurt while leaving a significant digital and '\n",
            " 'financial footprint.')\n",
            "--------------------------------------------------\n",
            "('In the quiet, serene town of West Brad, a woman named Maria Morse, known for '\n",
            " 'her diligence and meticulousness, resides. Maria is a person of digital age, '\n",
            " 'managing her affairs through modern tools and technology while maintaining a '\n",
            " 'strong stance on privacy and security. She uses a credit card for her '\n",
            " 'transactions, the number of which is 4085701783992 - a string of digits she '\n",
            " 'has committed to memory due to her frequent usage. This card is linked to '\n",
            " 'her primary bank account, the International Bank Account Number (IBAN) of '\n",
            " 'which is GB35XUVP29458504425853. Maria values this account greatly as it '\n",
            " 'represents her financial independence and freedom. Further, Maria maintains '\n",
            " \"an email address, which is 'pamela09@example.org', a rather unique choice \"\n",
            " 'reflecting her fondness for pseudonyms and her desire for privacy. This '\n",
            " 'email address is her main tool for communication, allowing her to connect '\n",
            " 'with a vast world beyond the boundaries of West Brad. She maintains an '\n",
            " 'Internet Protocol (IP) address of 205.185.192.17, which is an essential part '\n",
            " 'of her digital identity. Despite the cold, impersonal nature of these '\n",
            " 'strings of letters and numbers, to Maria, they represent her place in the '\n",
            " 'vast world of the internet. All these digital facets of her life, however, '\n",
            " 'do not overshadow her love for West Brad and its tranquil charm. Indeed, '\n",
            " 'Maria Morse, with her unique blend of traditional living and modern '\n",
            " 'technology, is a notable resident of West Brad, embodying the spirit of the '\n",
            " 'town in the digital age.')\n",
            "('In the quiet, serene town of <LOCATION>, a woman named <PERSON>, known for '\n",
            " 'her diligence and meticulousness, resides. <PERSON> is a person of digital '\n",
            " 'age, managing her affairs through modern tools and <IN_PAN> while '\n",
            " 'maintaining a strong stance on privacy and security. She uses a credit card '\n",
            " 'for her transactions, the number of which is <CREDIT_CARD> - a string of '\n",
            " 'digits she has committed to memory due to her frequent usage. This card is '\n",
            " 'linked to her primary bank account, the International Bank Account Number '\n",
            " '(IBAN) of which is <IBAN_CODE>. <PERSON> values this account greatly as it '\n",
            " 'represents her financial independence and freedom. Further, <PERSON> '\n",
            " \"maintains an email address, which is '<EMAIL_ADDRESS>', a rather unique \"\n",
            " 'choice reflecting her fondness for pseudonyms and her desire for privacy. '\n",
            " 'This email address is her main tool for communication, allowing her to '\n",
            " 'connect with a vast world beyond the boundaries of <LOCATION>. She maintains '\n",
            " 'an Internet Protocol (IP) address of <IP_ADDRESS>, which is an essential '\n",
            " 'part of her digital identity. Despite the cold, impersonal nature of these '\n",
            " 'strings of letters and numbers, to <PERSON>, they represent her place in the '\n",
            " 'vast world of the internet. All these digital facets of her life, however, '\n",
            " 'do not overshadow her love for <LOCATION> and its tranquil charm. Indeed, '\n",
            " '<PERSON>, with her unique blend of traditional living and modern technology, '\n",
            " 'is a notable resident of <LOCATION>, embodying the spirit of the town in the '\n",
            " 'digital age.')\n",
            "--------------------------------------------------\n",
            "('In a remarkable turn of events, we find ourselves delving into the intricate '\n",
            " 'life of a certain individual, Mr. Barry Davis, a resident of the quaint and '\n",
            " 'serene town of Wattsview. As one navigates through the labyrinthine depths '\n",
            " 'of his existence, one cannot overlook the digital footprints he has left '\n",
            " 'behind in this technologically advanced era. Firstly, we turn our attention '\n",
            " 'to his credit card, numbered 374019527528556, a string of digits that might '\n",
            " 'appear random to the untrained eye, yet conceals an intricate web of '\n",
            " 'commercial transactions and personal expenses. Furthermore, his email '\n",
            " 'address, mccoymark@example.net, serves as a virtual gateway to a plethora of '\n",
            " 'digital interactions, a testament to his active engagement with our '\n",
            " 'interconnected world. Adding another layer to this complex tapestry is his '\n",
            " 'IP address, 181.109.191.229, a unique identifier which serves as a digital '\n",
            " 'homing beacon, pinpointing his online activities with remarkable precision. '\n",
            " 'Lastly, we encounter the IBAN code, GB68AWEJ41397223106326, an international '\n",
            " 'standard for identifying bank accounts across national borders. This set of '\n",
            " 'alphanumeric characters, while seemingly cryptic, holds significance in '\n",
            " \"understanding Mr. Davis's financial transactions on a global scale. Thus, \"\n",
            " 'through these diverse pieces of information, we get a glimpse into the '\n",
            " \"multifaceted dimensions of Mr. Barry Davis's life, each field adding a new \"\n",
            " 'shade to the vibrant canvas of his existence.')\n",
            "('In a <IN_PAN> turn of events, we find ourselves delving into the intricate '\n",
            " 'life of a certain <IN_PAN>, Mr. <PERSON>, a resident of the quaint and '\n",
            " 'serene town of <LOCATION>. As one navigates through the labyrinthine depths '\n",
            " 'of his existence, one cannot overlook the digital <IN_PAN> he has left '\n",
            " 'behind in this technologically advanced era. Firstly, we turn our attention '\n",
            " 'to his credit card, numbered <CREDIT_CARD>, a string of digits that might '\n",
            " 'appear random to the untrained eye, yet conceals an intricate web of '\n",
            " '<IN_PAN> transactions and personal expenses. Furthermore, his email address, '\n",
            " '<EMAIL_ADDRESS>, serves as a virtual gateway to a plethora of digital '\n",
            " 'interactions, a testament to his active <IN_PAN> with our interconnected '\n",
            " 'world. Adding another layer to this complex tapestry is his IP address, '\n",
            " '<IP_ADDRESS>, a unique <IN_PAN> which serves as a digital homing beacon, '\n",
            " 'pinpointing his online <IN_PAN> with <IN_PAN> precision. Lastly, we '\n",
            " 'encounter the IBAN code, <IBAN_CODE>, an international standard for '\n",
            " 'identifying bank accounts across national borders. This set of alphanumeric '\n",
            " 'characters, while seemingly cryptic, holds significance in understanding Mr. '\n",
            " \"<PERSON>'s financial transactions on a global scale. Thus, through these \"\n",
            " 'diverse pieces of information, we get a glimpse into the multifaceted '\n",
            " \"dimensions of Mr. <PERSON>'s life, each field adding a new shade to the \"\n",
            " 'vibrant canvas of his existence.')\n",
            "--------------------------------------------------\n"
          ]
        }
      ]
    },
    {
      "cell_type": "code",
      "source": [
        "results"
      ],
      "metadata": {
        "colab": {
          "base_uri": "https://localhost:8080/"
        },
        "id": "gf5OmeRo2ZGL",
        "outputId": "98fa0093-bbf4-4bfc-ddca-36ffb1e7d132"
      },
      "execution_count": 50,
      "outputs": [
        {
          "output_type": "execute_result",
          "data": {
            "text/plain": [
              "[type: CREDIT_CARD, start: 406, end: 421, score: 1.0,\n",
              " type: EMAIL_ADDRESS, start: 601, end: 622, score: 1.0,\n",
              " type: IBAN_CODE, start: 999, end: 1021, score: 1.0,\n",
              " type: IP_ADDRESS, start: 824, end: 839, score: 0.95,\n",
              " type: PERSON, start: 111, end: 122, score: 0.85,\n",
              " type: LOCATION, start: 168, end: 177, score: 0.85,\n",
              " type: PERSON, start: 1206, end: 1211, score: 0.85,\n",
              " type: PERSON, start: 1364, end: 1375, score: 0.85,\n",
              " type: URL, start: 611, end: 622, score: 0.5,\n",
              " type: IN_PAN, start: 5, end: 15, score: 0.05,\n",
              " type: IN_PAN, start: 95, end: 105, score: 0.05,\n",
              " type: IN_PAN, start: 278, end: 288, score: 0.05,\n",
              " type: US_BANK_NUMBER, start: 406, end: 421, score: 0.05,\n",
              " type: IN_PAN, start: 522, end: 532, score: 0.05,\n",
              " type: IN_PAN, start: 601, end: 611, score: 0.05,\n",
              " type: IN_PAN, start: 717, end: 727, score: 0.05,\n",
              " type: IN_PAN, start: 850, end: 860, score: 0.05,\n",
              " type: IN_PAN, start: 925, end: 935, score: 0.05,\n",
              " type: IN_PAN, start: 941, end: 951, score: 0.05]"
            ]
          },
          "metadata": {},
          "execution_count": 50
        }
      ]
    }
  ]
}