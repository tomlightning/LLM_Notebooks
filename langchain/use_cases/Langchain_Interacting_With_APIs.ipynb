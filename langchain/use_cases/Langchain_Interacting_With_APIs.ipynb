{
  "nbformat": 4,
  "nbformat_minor": 0,
  "metadata": {
    "colab": {
      "provenance": [],
      "authorship_tag": "ABX9TyNkN1mK9t4jf2QXENUWpvHQ",
      "include_colab_link": true
    },
    "kernelspec": {
      "name": "python3",
      "display_name": "Python 3"
    },
    "language_info": {
      "name": "python"
    }
  },
  "cells": [
    {
      "cell_type": "markdown",
      "metadata": {
        "id": "view-in-github",
        "colab_type": "text"
      },
      "source": [
        "<a href=\"https://colab.research.google.com/github/olonok69/LLM_Notebooks/blob/main/langchain/use_cases/Langchain_Interacting_With_APIs.ipynb\" target=\"_parent\"><img src=\"https://colab.research.google.com/assets/colab-badge.svg\" alt=\"Open In Colab\"/></a>"
      ]
    },
    {
      "cell_type": "markdown",
      "source": [
        "# Interacting with APIs\n",
        "\n",
        "There are two primary ways to interface LLMs with external APIs:\n",
        "\n",
        "- Functions: For example, OpenAI functions is one popular means of doing this.\n",
        "- LLM-generated interface: Use an LLM with access to API documentation to create an interface.\n",
        "\n",
        "\n",
        "klarna\n",
        "# Langchian API docs\n",
        "\n",
        "https://github.com/langchain-ai/langchain/tree/7fc07ba5df99b9fa8bef837b0fafa220bc5c932c/libs/langchain/langchain/chains/api\n",
        "\n"
      ],
      "metadata": {
        "id": "KZhy1wzM1uyb"
      }
    },
    {
      "cell_type": "code",
      "execution_count": 2,
      "metadata": {
        "id": "-Pt4VHqF1ga_"
      },
      "outputs": [],
      "source": [
        "! pip install langchain langchain-openai  -q"
      ]
    },
    {
      "cell_type": "code",
      "source": [
        "import pprint"
      ],
      "metadata": {
        "id": "UiSoBWSE4ugY"
      },
      "execution_count": 15,
      "outputs": []
    },
    {
      "cell_type": "code",
      "source": [
        "import os\n",
        "from google.colab import userdata\n",
        "import json\n",
        "os.environ['OPENAI_API_KEY']=userdata.get('KEY_OPENAI')"
      ],
      "metadata": {
        "id": "ZQjx_r3EDViH"
      },
      "execution_count": 47,
      "outputs": []
    },
    {
      "cell_type": "markdown",
      "source": [
        "Many APIs are already compatible with OpenAI function calling.\n",
        "\n",
        "- Klarna  https://www.klarna.com/us/shopping/public/openai/v0/api-docs/\n",
        "- Speak for translation   https://api.speak.com/openapi.yaml\n",
        "- XKCD for comics https://gist.githubusercontent.com/roaldnefs/053e505b2b7a807290908fe9aa3e1f00/raw/0a212622ebfef501163f91e23803552411ed00e4/openapi.yaml\n"
      ],
      "metadata": {
        "id": "ZABLhr32C2T4"
      }
    },
    {
      "cell_type": "code",
      "source": [
        " #Klarna https://www.klarna.com/us/shopping/public/openai/v0/api-docs/"
      ],
      "metadata": {
        "id": "hBORUh9JCvmf"
      },
      "execution_count": null,
      "outputs": []
    },
    {
      "cell_type": "code",
      "source": [
        "from langchain.chains.openai_functions.openapi import get_openapi_chain\n",
        "\n",
        "# chain = get_openapi_chain(\n",
        "#     \"https://www.klarna.com/us/shopping/public/openai/v0/api-docs/\"\n",
        "# )\n",
        "# chain(\"What are some options for a men's large blue button down shirt\")"
      ],
      "metadata": {
        "id": "qwjEOViLDJ9V"
      },
      "execution_count": 53,
      "outputs": []
    },
    {
      "cell_type": "markdown",
      "source": [
        "# API Chain\n",
        "We can also build our own interface to external APIs using the APIChain and provided API documentation."
      ],
      "metadata": {
        "id": "ZupJYm2bBEIR"
      }
    },
    {
      "cell_type": "code",
      "source": [
        "import os\n",
        "from google.colab import userdata\n",
        "import json\n",
        "os.environ['OPENAI_API_KEY']=userdata.get('KEY_OPENAI')"
      ],
      "metadata": {
        "id": "JeGVisbS4hG-"
      },
      "execution_count": 8,
      "outputs": []
    },
    {
      "cell_type": "code",
      "source": [
        "from langchain.chains import APIChain\n",
        "from langchain.chains.api import open_meteo_docs\n",
        "from langchain_openai import OpenAI\n",
        "\n",
        "llm = OpenAI(temperature=0)\n",
        "chain = APIChain.from_llm_and_api_docs(\n",
        "    llm,\n",
        "    open_meteo_docs.OPEN_METEO_DOCS,\n",
        "    verbose=True,\n",
        "    limit_to_domains=[\"https://api.open-meteo.com/\"],\n",
        ")\n",
        "response = chain.run(\n",
        "    \"What is the weather like right now in London, UK in degrees Celsious?\"\n",
        ")"
      ],
      "metadata": {
        "colab": {
          "base_uri": "https://localhost:8080/"
        },
        "id": "3sqIynbP5vtG",
        "outputId": "e89536df-e473-4fa7-a707-592d55645c02"
      },
      "execution_count": 62,
      "outputs": [
        {
          "output_type": "stream",
          "name": "stdout",
          "text": [
            "\n",
            "\n",
            "\u001b[1m> Entering new APIChain chain...\u001b[0m\n",
            "\u001b[32;1m\u001b[1;3m https://api.open-meteo.com/v1/forecast?latitude=51.5074&longitude=0.1278&hourly=temperature_2m&current_weather=true&temperature_unit=celsius&timezone=auto\u001b[0m\n",
            "\u001b[33;1m\u001b[1;3m{\"latitude\":51.5,\"longitude\":0.119999886,\"generationtime_ms\":0.09894371032714844,\"utc_offset_seconds\":0,\"timezone\":\"Europe/London\",\"timezone_abbreviation\":\"GMT\",\"elevation\":3.0,\"current_weather_units\":{\"time\":\"iso8601\",\"interval\":\"seconds\",\"temperature\":\"°C\",\"windspeed\":\"km/h\",\"winddirection\":\"°\",\"is_day\":\"\",\"weathercode\":\"wmo code\"},\"current_weather\":{\"time\":\"2024-03-28T18:00\",\"interval\":900,\"temperature\":10.3,\"windspeed\":25.3,\"winddirection\":197,\"is_day\":1,\"weathercode\":3},\"hourly_units\":{\"time\":\"iso8601\",\"temperature_2m\":\"°C\"},\"hourly\":{\"time\":[\"2024-03-28T00:00\",\"2024-03-28T01:00\",\"2024-03-28T02:00\",\"2024-03-28T03:00\",\"2024-03-28T04:00\",\"2024-03-28T05:00\",\"2024-03-28T06:00\",\"2024-03-28T07:00\",\"2024-03-28T08:00\",\"2024-03-28T09:00\",\"2024-03-28T10:00\",\"2024-03-28T11:00\",\"2024-03-28T12:00\",\"2024-03-28T13:00\",\"2024-03-28T14:00\",\"2024-03-28T15:00\",\"2024-03-28T16:00\",\"2024-03-28T17:00\",\"2024-03-28T18:00\",\"2024-03-28T19:00\",\"2024-03-28T20:00\",\"2024-03-28T21:00\",\"2024-03-28T22:00\",\"2024-03-28T23:00\",\"2024-03-29T00:00\",\"2024-03-29T01:00\",\"2024-03-29T02:00\",\"2024-03-29T03:00\",\"2024-03-29T04:00\",\"2024-03-29T05:00\",\"2024-03-29T06:00\",\"2024-03-29T07:00\",\"2024-03-29T08:00\",\"2024-03-29T09:00\",\"2024-03-29T10:00\",\"2024-03-29T11:00\",\"2024-03-29T12:00\",\"2024-03-29T13:00\",\"2024-03-29T14:00\",\"2024-03-29T15:00\",\"2024-03-29T16:00\",\"2024-03-29T17:00\",\"2024-03-29T18:00\",\"2024-03-29T19:00\",\"2024-03-29T20:00\",\"2024-03-29T21:00\",\"2024-03-29T22:00\",\"2024-03-29T23:00\",\"2024-03-30T00:00\",\"2024-03-30T01:00\",\"2024-03-30T02:00\",\"2024-03-30T03:00\",\"2024-03-30T04:00\",\"2024-03-30T05:00\",\"2024-03-30T06:00\",\"2024-03-30T07:00\",\"2024-03-30T08:00\",\"2024-03-30T09:00\",\"2024-03-30T10:00\",\"2024-03-30T11:00\",\"2024-03-30T12:00\",\"2024-03-30T13:00\",\"2024-03-30T14:00\",\"2024-03-30T15:00\",\"2024-03-30T16:00\",\"2024-03-30T17:00\",\"2024-03-30T18:00\",\"2024-03-30T19:00\",\"2024-03-30T20:00\",\"2024-03-30T21:00\",\"2024-03-30T22:00\",\"2024-03-30T23:00\",\"2024-03-31T00:00\",\"2024-03-31T01:00\",\"2024-03-31T02:00\",\"2024-03-31T03:00\",\"2024-03-31T04:00\",\"2024-03-31T05:00\",\"2024-03-31T06:00\",\"2024-03-31T07:00\",\"2024-03-31T08:00\",\"2024-03-31T09:00\",\"2024-03-31T10:00\",\"2024-03-31T11:00\",\"2024-03-31T12:00\",\"2024-03-31T13:00\",\"2024-03-31T14:00\",\"2024-03-31T15:00\",\"2024-03-31T16:00\",\"2024-03-31T17:00\",\"2024-03-31T18:00\",\"2024-03-31T19:00\",\"2024-03-31T20:00\",\"2024-03-31T21:00\",\"2024-03-31T22:00\",\"2024-03-31T23:00\",\"2024-04-01T00:00\",\"2024-04-01T01:00\",\"2024-04-01T02:00\",\"2024-04-01T03:00\",\"2024-04-01T04:00\",\"2024-04-01T05:00\",\"2024-04-01T06:00\",\"2024-04-01T07:00\",\"2024-04-01T08:00\",\"2024-04-01T09:00\",\"2024-04-01T10:00\",\"2024-04-01T11:00\",\"2024-04-01T12:00\",\"2024-04-01T13:00\",\"2024-04-01T14:00\",\"2024-04-01T15:00\",\"2024-04-01T16:00\",\"2024-04-01T17:00\",\"2024-04-01T18:00\",\"2024-04-01T19:00\",\"2024-04-01T20:00\",\"2024-04-01T21:00\",\"2024-04-01T22:00\",\"2024-04-01T23:00\",\"2024-04-02T00:00\",\"2024-04-02T01:00\",\"2024-04-02T02:00\",\"2024-04-02T03:00\",\"2024-04-02T04:00\",\"2024-04-02T05:00\",\"2024-04-02T06:00\",\"2024-04-02T07:00\",\"2024-04-02T08:00\",\"2024-04-02T09:00\",\"2024-04-02T10:00\",\"2024-04-02T11:00\",\"2024-04-02T12:00\",\"2024-04-02T13:00\",\"2024-04-02T14:00\",\"2024-04-02T15:00\",\"2024-04-02T16:00\",\"2024-04-02T17:00\",\"2024-04-02T18:00\",\"2024-04-02T19:00\",\"2024-04-02T20:00\",\"2024-04-02T21:00\",\"2024-04-02T22:00\",\"2024-04-02T23:00\",\"2024-04-03T00:00\",\"2024-04-03T01:00\",\"2024-04-03T02:00\",\"2024-04-03T03:00\",\"2024-04-03T04:00\",\"2024-04-03T05:00\",\"2024-04-03T06:00\",\"2024-04-03T07:00\",\"2024-04-03T08:00\",\"2024-04-03T09:00\",\"2024-04-03T10:00\",\"2024-04-03T11:00\",\"2024-04-03T12:00\",\"2024-04-03T13:00\",\"2024-04-03T14:00\",\"2024-04-03T15:00\",\"2024-04-03T16:00\",\"2024-04-03T17:00\",\"2024-04-03T18:00\",\"2024-04-03T19:00\",\"2024-04-03T20:00\",\"2024-04-03T21:00\",\"2024-04-03T22:00\",\"2024-04-03T23:00\"],\"temperature_2m\":[7.3,7.6,7.8,7.3,7.6,6.6,5.7,6.1,7.7,8.6,9.6,9.6,8.3,8.7,10.5,10.3,10.6,10.2,10.3,10.0,9.8,9.6,9.4,9.2,8.9,8.9,9.0,8.9,8.7,8.6,8.5,8.6,9.5,9.8,10.2,11.0,12.5,13.0,13.2,13.3,13.0,12.4,11.4,10.3,9.4,8.8,8.2,7.9,7.5,7.0,6.1,5.9,6.3,6.4,5.6,6.1,7.3,9.1,10.6,11.7,12.0,12.7,13.0,13.1,12.9,12.6,11.8,10.2,9.4,8.9,8.1,7.3,6.6,5.7,5.2,4.8,4.5,4.3,4.2,4.8,7.2,9.6,11.5,12.6,13.1,13.2,13.1,12.4,11.8,10.8,9.9,9.3,8.7,8.3,8.0,7.9,7.8,7.8,7.9,8.0,7.9,7.7,7.6,7.6,7.7,7.9,8.4,9.0,9.5,10.0,10.4,10.6,10.5,10.3,9.9,9.5,9.1,8.6,8.2,7.8,7.4,7.0,6.5,6.2,5.8,5.5,5.6,6.5,7.9,9.2,10.2,11.1,11.7,11.7,11.1,10.7,10.5,10.4,10.3,10.3,10.3,10.4,10.4,10.4,10.4,10.4,10.4,10.4,10.5,10.5,10.6,10.7,10.8,11.2,12.0,13.0,13.6,13.3,12.5,11.8,11.6,11.5,11.4,11.1,10.9,10.6,10.3,10.1]}}\u001b[0m\n",
            "\n",
            "\u001b[1m> Finished chain.\u001b[0m\n"
          ]
        }
      ]
    },
    {
      "cell_type": "code",
      "source": [
        "pprint.pprint(response)"
      ],
      "metadata": {
        "colab": {
          "base_uri": "https://localhost:8080/"
        },
        "id": "qqcRvhqE8stN",
        "outputId": "bf724623-0c34-4b78-868c-8912bf6ec234"
      },
      "execution_count": 63,
      "outputs": [
        {
          "output_type": "stream",
          "name": "stdout",
          "text": [
            "(' The current temperature in London, UK is 10.3 degrees Celsius. This '\n",
            " 'information was obtained from the API url: '\n",
            " 'https://api.open-meteo.com/v1/forecast?latitude=51.5074&longitude=0.1278&hourly=temperature_2m&current_weather=true&temperature_unit=celsius&timezone=auto.')\n"
          ]
        }
      ]
    },
    {
      "cell_type": "code",
      "source": [
        "pprint.pprint(open_meteo_docs.OPEN_METEO_DOCS)"
      ],
      "metadata": {
        "colab": {
          "base_uri": "https://localhost:8080/"
        },
        "id": "CiiyqrxN8Fre",
        "outputId": "86761f69-03da-4c41-b135-46309382188f"
      },
      "execution_count": 16,
      "outputs": [
        {
          "output_type": "stream",
          "name": "stdout",
          "text": [
            "('BASE URL: https://api.open-meteo.com/\\n'\n",
            " '\\n'\n",
            " 'API Documentation\\n'\n",
            " 'The API endpoint /v1/forecast accepts a geographical coordinate, a list of '\n",
            " 'weather variables and responds with a JSON hourly weather forecast for 7 '\n",
            " 'days. Time always starts at 0:00 today and contains 168 hours. All URL '\n",
            " 'parameters are listed below:\\n'\n",
            " '\\n'\n",
            " 'Parameter\\tFormat\\tRequired\\tDefault\\tDescription\\n'\n",
            " 'latitude, longitude\\tFloating point\\tYes\\t\\tGeographical WGS84 coordinate of '\n",
            " 'the location\\n'\n",
            " 'hourly\\tString array\\tNo\\t\\tA list of weather variables which should be '\n",
            " 'returned. Values can be comma separated, or multiple &hourly= parameter in '\n",
            " 'the URL can be used.\\n'\n",
            " 'daily\\tString array\\tNo\\t\\tA list of daily weather variable aggregations '\n",
            " 'which should be returned. Values can be comma separated, or multiple &daily= '\n",
            " 'parameter in the URL can be used. If daily weather variables are specified, '\n",
            " 'parameter timezone is required.\\n'\n",
            " 'current_weather\\tBool\\tNo\\tfalse\\tInclude current weather conditions in the '\n",
            " 'JSON output.\\n'\n",
            " 'temperature_unit\\tString\\tNo\\tcelsius\\tIf fahrenheit is set, all temperature '\n",
            " 'values are converted to Fahrenheit.\\n'\n",
            " 'windspeed_unit\\tString\\tNo\\tkmh\\tOther wind speed speed units: ms, mph and '\n",
            " 'kn\\n'\n",
            " 'precipitation_unit\\tString\\tNo\\tmm\\tOther precipitation amount units: inch\\n'\n",
            " 'timeformat\\tString\\tNo\\tiso8601\\tIf format unixtime is selected, all time '\n",
            " 'values are returned in UNIX epoch time in seconds. Please note that all '\n",
            " 'timestamp are in GMT+0! For daily values with unix timestamps, please apply '\n",
            " 'utc_offset_seconds again to get the correct date.\\n'\n",
            " 'timezone\\tString\\tNo\\tGMT\\tIf timezone is set, all timestamps are returned '\n",
            " 'as local-time and data is returned starting at 00:00 local-time. Any time '\n",
            " 'zone name from the time zone database is supported. If auto is set as a time '\n",
            " 'zone, the coordinates will be automatically resolved to the local time '\n",
            " 'zone.\\n'\n",
            " 'past_days\\tInteger (0-2)\\tNo\\t0\\tIf past_days is set, yesterday or the day '\n",
            " 'before yesterday data are also returned.\\n'\n",
            " 'start_date\\n'\n",
            " 'end_date\\tString (yyyy-mm-dd)\\tNo\\t\\tThe time interval to get weather data. '\n",
            " 'A day must be specified as an ISO8601 date (e.g. 2022-06-30).\\n'\n",
            " 'models\\tString array\\tNo\\tauto\\tManually select one or more weather models. '\n",
            " 'Per default, the best suitable weather models will be combined.\\n'\n",
            " '\\n'\n",
            " 'Hourly Parameter Definition\\n'\n",
            " 'The parameter &hourly= accepts the following values. Most weather variables '\n",
            " 'are given as an instantaneous value for the indicated hour. Some variables '\n",
            " 'like precipitation are calculated from the preceding hour as an average or '\n",
            " 'sum.\\n'\n",
            " '\\n'\n",
            " 'Variable\\tValid time\\tUnit\\tDescription\\n'\n",
            " 'temperature_2m\\tInstant\\t°C (°F)\\tAir temperature at 2 meters above ground\\n'\n",
            " 'snowfall\\tPreceding hour sum\\tcm (inch)\\tSnowfall amount of the preceding '\n",
            " 'hour in centimeters. For the water equivalent in millimeter, divide by 7. '\n",
            " 'E.g. 7 cm snow = 10 mm precipitation water equivalent\\n'\n",
            " 'rain\\tPreceding hour sum\\tmm (inch)\\tRain from large scale weather systems '\n",
            " 'of the preceding hour in millimeter\\n'\n",
            " 'showers\\tPreceding hour sum\\tmm (inch)\\tShowers from convective '\n",
            " 'precipitation in millimeters from the preceding hour\\n'\n",
            " 'weathercode\\tInstant\\tWMO code\\tWeather condition as a numeric code. Follow '\n",
            " 'WMO weather interpretation codes. See table below for details.\\n'\n",
            " 'snow_depth\\tInstant\\tmeters\\tSnow depth on the ground\\n'\n",
            " 'freezinglevel_height\\tInstant\\tmeters\\tAltitude above sea level of the 0°C '\n",
            " 'level\\n'\n",
            " 'visibility\\tInstant\\tmeters\\tViewing distance in meters. Influenced by low '\n",
            " 'clouds, humidity and aerosols. Maximum visibility is approximately 24 km.')\n"
          ]
        }
      ]
    },
    {
      "cell_type": "markdown",
      "source": [
        "# NEWSAPI\n",
        "\n",
        "https://newsapi.org/"
      ],
      "metadata": {
        "id": "3yeHrrUG_gsZ"
      }
    },
    {
      "cell_type": "code",
      "source": [
        "from langchain.chains.api import news_docs, podcast_docs"
      ],
      "metadata": {
        "id": "3zRY1ZYM8FcV"
      },
      "execution_count": 20,
      "outputs": []
    },
    {
      "cell_type": "code",
      "source": [
        "pprint.pprint(news_docs.NEWS_DOCS)"
      ],
      "metadata": {
        "colab": {
          "base_uri": "https://localhost:8080/"
        },
        "id": "BZkQ_SpE9MLz",
        "outputId": "41695fff-ea71-4897-cf1d-3b4d0bf720cc"
      },
      "execution_count": 24,
      "outputs": [
        {
          "output_type": "stream",
          "name": "stdout",
          "text": [
            "('API documentation:\\n'\n",
            " 'Endpoint: https://newsapi.org\\n'\n",
            " 'Top headlines /v2/top-headlines\\n'\n",
            " '\\n'\n",
            " 'This endpoint provides live top and breaking headlines for a country, '\n",
            " 'specific category in a country, single source, or multiple sources. You can '\n",
            " 'also search with keywords. Articles are sorted by the earliest date '\n",
            " 'published first.\\n'\n",
            " '\\n'\n",
            " 'This endpoint is great for retrieving headlines for use with news tickers or '\n",
            " 'similar.\\n'\n",
            " 'Request parameters\\n'\n",
            " '\\n'\n",
            " '    country | The 2-letter ISO 3166-1 code of the country you want to get '\n",
            " 'headlines for. Possible options: ae ar at au be bg br ca ch cn co cu cz de '\n",
            " 'eg fr gb gr hk hu id ie il in it jp kr lt lv ma mx my ng nl no nz ph pl pt '\n",
            " \"ro rs ru sa se sg si sk th tr tw ua us ve za. Note: you can't mix this param \"\n",
            " 'with the sources param.\\n'\n",
            " '    category | The category you want to get headlines for. Possible options: '\n",
            " 'business entertainment general health science sports technology. Note: you '\n",
            " \"can't mix this param with the sources param.\\n\"\n",
            " '    sources | A comma-separated string of identifiers for the news sources '\n",
            " 'or blogs you want headlines from. Use the /top-headlines/sources endpoint to '\n",
            " \"locate these programmatically or look at the sources index. Note: you can't \"\n",
            " 'mix this param with the country or category params.\\n'\n",
            " '    q | Keywords or a phrase to search for.\\n'\n",
            " '    pageSize | int | The number of results to return per page (request). 20 '\n",
            " 'is the default, 100 is the maximum.\\n'\n",
            " '    page | int | Use this to page through the results if the total results '\n",
            " 'found is greater than the page size.\\n'\n",
            " '\\n'\n",
            " 'Response object\\n'\n",
            " '    status | string | If the request was successful or not. Options: ok, '\n",
            " 'error. In the case of error a code and message property will be populated.\\n'\n",
            " '    totalResults | int | The total number of results available for your '\n",
            " 'request.\\n'\n",
            " '    articles | array[article] | The results of the request.\\n'\n",
            " '    source | object | The identifier id and a display name name for the '\n",
            " 'source this article came from.\\n'\n",
            " '    author | string | The author of the article\\n'\n",
            " '    title | string | The headline or title of the article.\\n'\n",
            " '    description | string | A description or snippet from the article.\\n'\n",
            " '    url | string | The direct URL to the article.\\n'\n",
            " '    urlToImage | string | The URL to a relevant image for the article.\\n'\n",
            " '    publishedAt | string | The date and time that the article was published, '\n",
            " 'in UTC (+000)\\n'\n",
            " '    content | string | The unformatted content of the article, where '\n",
            " 'available. This is truncated to 200 chars.\\n'\n",
            " '\\n'\n",
            " 'Use page size: 2\\n')\n"
          ]
        }
      ]
    },
    {
      "cell_type": "code",
      "source": [
        "os.environ[\"NEWSAPI_KEY\"] = userdata.get('NEWSAPI_KEY')\n",
        "\n",
        "headers = {\"Authorization\": f\"Bearer {os.environ['NEWSAPI_KEY']}\"}"
      ],
      "metadata": {
        "id": "Ac62FGjL-cmp"
      },
      "execution_count": 66,
      "outputs": []
    },
    {
      "cell_type": "code",
      "source": [
        "chain = APIChain.from_llm_and_api_docs(\n",
        "    llm,\n",
        "    news_docs.NEWS_DOCS,\n",
        "    verbose=True,\n",
        "    headers=headers,\n",
        "    limit_to_domains=[\"https://newsapi.org/\"],\n",
        ")\n",
        "response = chain.run(\n",
        "    \"Latest top 5 business news  in us\"\n",
        ")"
      ],
      "metadata": {
        "colab": {
          "base_uri": "https://localhost:8080/"
        },
        "id": "zODZOs2W9bhq",
        "outputId": "428b9b17-990c-44c0-f610-184276876e3c"
      },
      "execution_count": 68,
      "outputs": [
        {
          "output_type": "stream",
          "name": "stdout",
          "text": [
            "\n",
            "\n",
            "\u001b[1m> Entering new APIChain chain...\u001b[0m\n",
            "\u001b[32;1m\u001b[1;3m https://newsapi.org/v2/top-headlines?country=us&category=business&pageSize=5\u001b[0m\n",
            "\u001b[33;1m\u001b[1;3m{\"status\":\"ok\",\"totalResults\":58,\"articles\":[{\"source\":{\"id\":null,\"name\":\"Investor's Business Daily\"},\"author\":\"Investor's Business Daily\",\"title\":\"Dow Jones Rises 250 Points As Nvidia, SMCI Fall; Tesla Gains Despite Roadblocks - Investor's Business Daily\",\"description\":\"The Dow Jones and major indexes rebounded. Nvidia fell while Cathie Wood's Robinhood rose. Tesla got a downgrade on the stock market today.\",\"url\":\"https://www.investors.com/market-trend/stock-market-today/dow-jones-sp500-nasdaq-nvidia-nvda-stock-tesla-cathie-wood/\",\"urlToImage\":\"https://www.investors.com/wp-content/uploads/2018/07/stock-WallStreet-TrafficLight-01-shutter.jpg\",\"publishedAt\":\"2024-03-27T18:37:10Z\",\"content\":\"Major indexes kept the momentum going in the afternoon Wednesday as the Dow Jones Industrial Average and S&amp;P 500 looked to break three-day losing streaks. Nvidia and Super Micro Computer added to… [+5314 chars]\"},{\"source\":{\"id\":\"the-wall-street-journal\",\"name\":\"The Wall Street Journal\"},\"author\":\"The Wall Street Journal\",\"title\":\"The Fight for AI Talent: Pay Million-Dollar Packages and Buy Whole Teams - The Wall Street Journal\",\"description\":null,\"url\":\"https://www.wsj.com/tech/ai/the-fight-for-ai-talent-pay-million-dollar-packages-and-buy-whole-teams-c370de2b\",\"urlToImage\":null,\"publishedAt\":\"2024-03-27T18:28:39Z\",\"content\":null},{\"source\":{\"id\":\"cbs-news\",\"name\":\"CBS News\"},\"author\":\"Jordan Freiman, Brian Dakss\",\"title\":\"Mega Millions estimated $1.13 billion jackpot has one winning ticket, in New Jersey - CBS News\",\"description\":\"There was one winning ticket sold for Tuesday night's estimated $1.13 billion Mega Millions jackpot, in New Jersey, officials said. It was the fifth largest in the game's history.\",\"url\":\"https://www.cbsnews.com/news/mega-millions-1-1-billion-jackpot-1-winning-ticket/\",\"urlToImage\":\"https://assets3.cbsnewsstatic.com/hub/i/r/2024/03/27/1397a21d-eaad-4ec9-b66e-eec904c1c184/thumbnail/1200x630/517fb406cc1c95930a3fb7a71a8a4a80/gettyimages-2115755837.jpg?v=3d62f4cc0092e6eb151a9685301ed284\",\"publishedAt\":\"2024-03-27T17:29:19Z\",\"content\":\"There was one winning ticket sold for Tuesday night's estimated $1.13 billion Mega Millions jackpot, in New Jersey, the game's officials said. It was the fifth largest pot of gold ever won by Mega Mi… [+2133 chars]\"},{\"source\":{\"id\":null,\"name\":\"Yahoo Entertainment\"},\"author\":null,\"title\":\"Visa, Mastercard fee settlement may impact credit card rewards - Yahoo Finance\",\"description\":null,\"url\":\"https://finance.yahoo.com/video/visa-mastercard-fee-settlement-may-171722665.html\",\"urlToImage\":null,\"publishedAt\":\"2024-03-27T17:17:22Z\",\"content\":\"Si vous cliquez sur « Tout accepter », nos partenaires (y compris 241 qui font partie du Cadre de transparence et de consentement dIAB) et nous utiliserons également des témoins et vos données person… [+982 chars]\"},{\"source\":{\"id\":null,\"name\":\"New York Post\"},\"author\":\"Brooke Steinberg\",\"title\":\"Fast-food chains still serve meats containing antibiotics — here are the ones to watch out for - New York Post \",\"description\":\"Chik-fil-A isn’t the only company to backtrack on an antibiotics promise.\",\"url\":\"https://nypost.com/2024/03/27/lifestyle/fast-food-chains-still-serve-meats-containing-antibiotics-here-are-the-ones-to-watch-out-for/\",\"urlToImage\":\"https://nypost.com/wp-content/uploads/sites/2/2024/03/newspress-collage-56g47lofq-1711555031632.jpg?quality=75&strip=all&1711540823&w=1024\",\"publishedAt\":\"2024-03-27T17:05:00Z\",\"content\":\"Chick-fil-A announced last week that it would be shifting away from antibiotic-free chicken starting this spring  though they aren’t the only fast-food chain still using antibiotics in their meats.\\r\\n… [+3483 chars]\"}]}\u001b[0m\n",
            "\n",
            "\u001b[1m> Finished chain.\u001b[0m\n"
          ]
        }
      ]
    },
    {
      "cell_type": "code",
      "source": [
        "pprint.pprint(response)"
      ],
      "metadata": {
        "colab": {
          "base_uri": "https://localhost:8080/"
        },
        "id": "srn5XIOn9bd9",
        "outputId": "8c7a6cbc-acd8-4a86-d138-c71d7e8fedec"
      },
      "execution_count": 69,
      "outputs": [
        {
          "output_type": "stream",
          "name": "stdout",
          "text": [
            "(' The API call returned the latest top 5 business news articles from the '\n",
            " 'United States, including information on the Dow Jones and major indexes, the '\n",
            " 'fight for AI talent, the Mega Millions jackpot, Visa and Mastercard fee '\n",
            " 'settlement, and fast-food chains still using antibiotics in their meats.')\n"
          ]
        }
      ]
    },
    {
      "cell_type": "markdown",
      "source": [
        "# Web requests\n",
        "\n",
        "URL requests are such a common use-case that we have the LLMRequestsChain, which makes an HTTP GET request.\n",
        "\n",
        "\n",
        "# Google search parameters\n",
        "\n",
        "https://aicontentfy.com/en/blog/demystifying-google-search-url-parameters-and-how-to-use-them#:~:text=Google%20search%20URL%20parameters%20are,%2C%20location%2C%20or%20time%20frame.\n"
      ],
      "metadata": {
        "id": "tXe1EY3e_Xsh"
      }
    },
    {
      "cell_type": "code",
      "source": [
        "from langchain.chains import LLMChain, LLMRequestsChain\n",
        "from langchain_core.prompts import PromptTemplate\n",
        "from langchain_openai import OpenAI"
      ],
      "metadata": {
        "id": "TqSc3Glc9ban"
      },
      "execution_count": 30,
      "outputs": []
    },
    {
      "cell_type": "code",
      "source": [
        "template = \"\"\"Between >>> and <<< are the raw search result text from google.\n",
        "Extract the answer to the question '{query}' or say \"not found\" if the information is not contained.\n",
        "Use the format\n",
        "Extracted:<answer or \"not found\">\n",
        ">>> {requests_result} <<<\n",
        "Extracted:\"\"\"\n",
        "\n",
        "PROMPT = PromptTemplate(\n",
        "    input_variables=[\"query\", \"requests_result\"],\n",
        "    template=template,\n",
        ")"
      ],
      "metadata": {
        "id": "Jh_We0gI_uXx"
      },
      "execution_count": 31,
      "outputs": []
    },
    {
      "cell_type": "code",
      "source": [
        "chain = LLMRequestsChain(llm_chain=LLMChain(llm=OpenAI(temperature=0), prompt=PROMPT))\n",
        "question = \"What are the Three (3) cars most sold in Europe, and their respective sales volume?\"\n",
        "inputs = {\n",
        "    \"query\": question,\n",
        "    \"url\": \"https://www.google.com/search?q=\" + question.replace(\" \", \"+\"),\n",
        "}\n",
        "response = chain.invoke(inputs)"
      ],
      "metadata": {
        "id": "7nrmbKYz_uUT"
      },
      "execution_count": 70,
      "outputs": []
    },
    {
      "cell_type": "code",
      "source": [
        "response"
      ],
      "metadata": {
        "colab": {
          "base_uri": "https://localhost:8080/"
        },
        "id": "ZDtYpi4JAJCo",
        "outputId": "75c1d502-e1e8-476b-ff55-18773401b05f"
      },
      "execution_count": 71,
      "outputs": [
        {
          "output_type": "execute_result",
          "data": {
            "text/plain": [
              "{'query': 'What are the Three (3) cars most sold in Europe, and their respective sales volume?',\n",
              " 'url': 'https://www.google.com/search?q=What+are+the+Three+(3)+cars+most+sold+in+Europe,+and+their+respective+sales+volume?',\n",
              " 'output': 'Tesla Model Y 251,604 sales, +84% YoY. ... Dacia Sandero 234,715 sales, +18% YoY. ... Volkswagen T-Roc 204,610 sales, +13% YoY.'}"
            ]
          },
          "metadata": {},
          "execution_count": 71
        }
      ]
    },
    {
      "cell_type": "code",
      "source": [
        "pprint.pprint(response['output'])"
      ],
      "metadata": {
        "colab": {
          "base_uri": "https://localhost:8080/"
        },
        "id": "etgh-BbDAPLo",
        "outputId": "71763731-0383-456e-e4fa-fc37ac331a7d"
      },
      "execution_count": 72,
      "outputs": [
        {
          "output_type": "stream",
          "name": "stdout",
          "text": [
            "('Tesla Model Y 251,604 sales, +84% YoY. ... Dacia Sandero 234,715 sales, +18% '\n",
            " 'YoY. ... Volkswagen T-Roc 204,610 sales, +13% YoY.')\n"
          ]
        }
      ]
    }
  ]
}