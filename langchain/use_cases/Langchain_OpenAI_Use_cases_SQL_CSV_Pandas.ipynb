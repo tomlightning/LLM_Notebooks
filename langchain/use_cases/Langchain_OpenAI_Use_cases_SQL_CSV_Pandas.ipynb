{
  "nbformat": 4,
  "nbformat_minor": 0,
  "metadata": {
    "colab": {
      "provenance": [],
      "machine_shape": "hm",
      "authorship_tag": "ABX9TyNTTXC0i79QKUxHZIS3llp7",
      "include_colab_link": true
    },
    "kernelspec": {
      "name": "python3",
      "display_name": "Python 3"
    },
    "language_info": {
      "name": "python"
    }
  },
  "cells": [
    {
      "cell_type": "markdown",
      "metadata": {
        "id": "view-in-github",
        "colab_type": "text"
      },
      "source": [
        "<a href=\"https://colab.research.google.com/github/olonok69/LLM_Notebooks/blob/main/langchain/use_cases/Langchain_OpenAI_Use_cases_SQL_CSV_Pandas.ipynb\" target=\"_parent\"><img src=\"https://colab.research.google.com/assets/colab-badge.svg\" alt=\"Open In Colab\"/></a>"
      ]
    },
    {
      "cell_type": "markdown",
      "source": [
        "# LangChain\n",
        "\n",
        "LangChain is a framework for developing applications powered by language models.\n",
        "\n",
        "https://python.langchain.com/docs/use_cases\n",
        "\n",
        "## SQL\n",
        "One of the most common types of databases that we can build Q&A systems for are SQL databases. LangChain comes with a number of built-in chains and agents that are compatible with any SQL dialect supported by SQLAlchemy (e.g., MySQL, PostgreSQL, Oracle SQL, Databricks, SQLite)\n",
        "\n",
        "\n",
        "https://python.langchain.com/docs/get_started/introduction\n",
        "\n",
        "https://python.langchain.com/docs/use_cases/sql/\n",
        "\n",
        "https://python.langchain.com/docs/modules/model_io/prompts/\n",
        "\n",
        "https://python.langchain.com/docs/modules/data_connection/document_transformers/recursive_text_splitter\n",
        "\n",
        "https://api.python.langchain.com/en/latest/experimental_api_reference.html\n",
        "\n",
        "## SQLITE3\n",
        "https://database.guide/2-sample-databases-sqlite/\n",
        "\n",
        "\n",
        "## FAISS\n",
        "\n",
        "https://engineering.fb.com/2017/03/29/data-infrastructure/faiss-a-library-for-efficient-similarity-search/\n",
        "\n",
        "\n",
        "# Pandas\n",
        "https://pandas.pydata.org/"
      ],
      "metadata": {
        "id": "J2qcri2WPycg"
      }
    },
    {
      "cell_type": "code",
      "execution_count": 1,
      "metadata": {
        "id": "PAO4dulnEUOJ",
        "colab": {
          "base_uri": "https://localhost:8080/"
        },
        "outputId": "f9eff05d-91e9-4cd4-8114-35dcb9c5b375"
      },
      "outputs": [
        {
          "output_type": "stream",
          "name": "stdout",
          "text": [
            "\u001b[2K     \u001b[90m━━━━━━━━━━━━━━━━━━━━━━━━━━━━━━━━━━━━━━━━\u001b[0m \u001b[32m810.5/810.5 kB\u001b[0m \u001b[31m12.5 MB/s\u001b[0m eta \u001b[36m0:00:00\u001b[0m\n",
            "\u001b[2K     \u001b[90m━━━━━━━━━━━━━━━━━━━━━━━━━━━━━━━━━━━━━━━━\u001b[0m \u001b[32m1.8/1.8 MB\u001b[0m \u001b[31m65.5 MB/s\u001b[0m eta \u001b[36m0:00:00\u001b[0m\n",
            "\u001b[2K     \u001b[90m━━━━━━━━━━━━━━━━━━━━━━━━━━━━━━━━━━━━━━━━\u001b[0m \u001b[32m1.8/1.8 MB\u001b[0m \u001b[31m72.5 MB/s\u001b[0m eta \u001b[36m0:00:00\u001b[0m\n",
            "\u001b[2K     \u001b[90m━━━━━━━━━━━━━━━━━━━━━━━━━━━━━━━━━━━━━━━━\u001b[0m \u001b[32m269.1/269.1 kB\u001b[0m \u001b[31m24.5 MB/s\u001b[0m eta \u001b[36m0:00:00\u001b[0m\n",
            "\u001b[2K     \u001b[90m━━━━━━━━━━━━━━━━━━━━━━━━━━━━━━━━━━━━━━━━\u001b[0m \u001b[32m71.6/71.6 kB\u001b[0m \u001b[31m6.4 MB/s\u001b[0m eta \u001b[36m0:00:00\u001b[0m\n",
            "\u001b[2K     \u001b[90m━━━━━━━━━━━━━━━━━━━━━━━━━━━━━━━━━━━━━━━━\u001b[0m \u001b[32m49.4/49.4 kB\u001b[0m \u001b[31m4.0 MB/s\u001b[0m eta \u001b[36m0:00:00\u001b[0m\n",
            "\u001b[2K     \u001b[90m━━━━━━━━━━━━━━━━━━━━━━━━━━━━━━━━━━━━━━━━\u001b[0m \u001b[32m53.0/53.0 kB\u001b[0m \u001b[31m4.7 MB/s\u001b[0m eta \u001b[36m0:00:00\u001b[0m\n",
            "\u001b[2K     \u001b[90m━━━━━━━━━━━━━━━━━━━━━━━━━━━━━━━━━━━━━━━━\u001b[0m \u001b[32m138.5/138.5 kB\u001b[0m \u001b[31m1.5 MB/s\u001b[0m eta \u001b[36m0:00:00\u001b[0m\n",
            "\u001b[2K     \u001b[90m━━━━━━━━━━━━━━━━━━━━━━━━━━━━━━━━━━━━━━━━\u001b[0m \u001b[32m290.1/290.1 kB\u001b[0m \u001b[31m7.4 MB/s\u001b[0m eta \u001b[36m0:00:00\u001b[0m\n",
            "\u001b[2K     \u001b[90m━━━━━━━━━━━━━━━━━━━━━━━━━━━━━━━━━━━━━━━━\u001b[0m \u001b[32m23.7/23.7 MB\u001b[0m \u001b[31m58.2 MB/s\u001b[0m eta \u001b[36m0:00:00\u001b[0m\n",
            "\u001b[2K     \u001b[90m━━━━━━━━━━━━━━━━━━━━━━━━━━━━━━━━━━━━━━━━\u001b[0m \u001b[32m823.6/823.6 kB\u001b[0m \u001b[31m55.8 MB/s\u001b[0m eta \u001b[36m0:00:00\u001b[0m\n",
            "\u001b[2K     \u001b[90m━━━━━━━━━━━━━━━━━━━━━━━━━━━━━━━━━━━━━━━━\u001b[0m \u001b[32m14.1/14.1 MB\u001b[0m \u001b[31m82.5 MB/s\u001b[0m eta \u001b[36m0:00:00\u001b[0m\n",
            "\u001b[2K     \u001b[90m━━━━━━━━━━━━━━━━━━━━━━━━━━━━━━━━━━━━━━━━\u001b[0m \u001b[32m731.7/731.7 MB\u001b[0m \u001b[31m2.1 MB/s\u001b[0m eta \u001b[36m0:00:00\u001b[0m\n",
            "\u001b[2K     \u001b[90m━━━━━━━━━━━━━━━━━━━━━━━━━━━━━━━━━━━━━━━━\u001b[0m \u001b[32m410.6/410.6 MB\u001b[0m \u001b[31m2.7 MB/s\u001b[0m eta \u001b[36m0:00:00\u001b[0m\n",
            "\u001b[2K     \u001b[90m━━━━━━━━━━━━━━━━━━━━━━━━━━━━━━━━━━━━━━━━\u001b[0m \u001b[32m121.6/121.6 MB\u001b[0m \u001b[31m12.0 MB/s\u001b[0m eta \u001b[36m0:00:00\u001b[0m\n",
            "\u001b[2K     \u001b[90m━━━━━━━━━━━━━━━━━━━━━━━━━━━━━━━━━━━━━━━━\u001b[0m \u001b[32m56.5/56.5 MB\u001b[0m \u001b[31m13.4 MB/s\u001b[0m eta \u001b[36m0:00:00\u001b[0m\n",
            "\u001b[2K     \u001b[90m━━━━━━━━━━━━━━━━━━━━━━━━━━━━━━━━━━━━━━━━\u001b[0m \u001b[32m124.2/124.2 MB\u001b[0m \u001b[31m10.2 MB/s\u001b[0m eta \u001b[36m0:00:00\u001b[0m\n",
            "\u001b[2K     \u001b[90m━━━━━━━━━━━━━━━━━━━━━━━━━━━━━━━━━━━━━━━━\u001b[0m \u001b[32m196.0/196.0 MB\u001b[0m \u001b[31m3.6 MB/s\u001b[0m eta \u001b[36m0:00:00\u001b[0m\n",
            "\u001b[2K     \u001b[90m━━━━━━━━━━━━━━━━━━━━━━━━━━━━━━━━━━━━━━━━\u001b[0m \u001b[32m166.0/166.0 MB\u001b[0m \u001b[31m7.8 MB/s\u001b[0m eta \u001b[36m0:00:00\u001b[0m\n",
            "\u001b[2K     \u001b[90m━━━━━━━━━━━━━━━━━━━━━━━━━━━━━━━━━━━━━━━━\u001b[0m \u001b[32m99.1/99.1 kB\u001b[0m \u001b[31m12.3 MB/s\u001b[0m eta \u001b[36m0:00:00\u001b[0m\n",
            "\u001b[2K     \u001b[90m━━━━━━━━━━━━━━━━━━━━━━━━━━━━━━━━━━━━━━━━\u001b[0m \u001b[32m21.1/21.1 MB\u001b[0m \u001b[31m64.6 MB/s\u001b[0m eta \u001b[36m0:00:00\u001b[0m\n",
            "\u001b[2K     \u001b[90m━━━━━━━━━━━━━━━━━━━━━━━━━━━━━━━━━━━━━━━━\u001b[0m \u001b[32m1.8/1.8 MB\u001b[0m \u001b[31m25.0 MB/s\u001b[0m eta \u001b[36m0:00:00\u001b[0m\n",
            "\u001b[2K     \u001b[90m━━━━━━━━━━━━━━━━━━━━━━━━━━━━━━━━━━━━━━━━\u001b[0m \u001b[32m18.2/18.2 MB\u001b[0m \u001b[31m69.7 MB/s\u001b[0m eta \u001b[36m0:00:00\u001b[0m\n",
            "\u001b[2K     \u001b[90m━━━━━━━━━━━━━━━━━━━━━━━━━━━━━━━━━━━━━━━━\u001b[0m \u001b[32m421.5/421.5 kB\u001b[0m \u001b[31m39.0 MB/s\u001b[0m eta \u001b[36m0:00:00\u001b[0m\n",
            "\u001b[2K     \u001b[90m━━━━━━━━━━━━━━━━━━━━━━━━━━━━━━━━━━━━━━━━\u001b[0m \u001b[32m981.5/981.5 kB\u001b[0m \u001b[31m50.5 MB/s\u001b[0m eta \u001b[36m0:00:00\u001b[0m\n",
            "\u001b[?25h  Preparing metadata (setup.py) ... \u001b[?25l\u001b[?25hdone\n",
            "\u001b[2K     \u001b[90m━━━━━━━━━━━━━━━━━━━━━━━━━━━━━━━━━━━━━━━━\u001b[0m \u001b[32m8.0/8.0 MB\u001b[0m \u001b[31m93.1 MB/s\u001b[0m eta \u001b[36m0:00:00\u001b[0m\n",
            "\u001b[2K     \u001b[90m━━━━━━━━━━━━━━━━━━━━━━━━━━━━━━━━━━━━━━━━\u001b[0m \u001b[32m49.4/49.4 kB\u001b[0m \u001b[31m6.7 MB/s\u001b[0m eta \u001b[36m0:00:00\u001b[0m\n",
            "\u001b[2K     \u001b[90m━━━━━━━━━━━━━━━━━━━━━━━━━━━━━━━━━━━━━━━━\u001b[0m \u001b[32m274.7/274.7 kB\u001b[0m \u001b[31m30.1 MB/s\u001b[0m eta \u001b[36m0:00:00\u001b[0m\n",
            "\u001b[2K     \u001b[90m━━━━━━━━━━━━━━━━━━━━━━━━━━━━━━━━━━━━━━━━\u001b[0m \u001b[32m3.4/3.4 MB\u001b[0m \u001b[31m12.1 MB/s\u001b[0m eta \u001b[36m0:00:00\u001b[0m\n",
            "\u001b[2K     \u001b[90m━━━━━━━━━━━━━━━━━━━━━━━━━━━━━━━━━━━━━━━━\u001b[0m \u001b[32m143.8/143.8 kB\u001b[0m \u001b[31m16.7 MB/s\u001b[0m eta \u001b[36m0:00:00\u001b[0m\n",
            "\u001b[2K     \u001b[90m━━━━━━━━━━━━━━━━━━━━━━━━━━━━━━━━━━━━━━━━\u001b[0m \u001b[32m80.3/80.3 kB\u001b[0m \u001b[31m10.1 MB/s\u001b[0m eta \u001b[36m0:00:00\u001b[0m\n",
            "\u001b[?25h  Building wheel for langdetect (setup.py) ... \u001b[?25l\u001b[?25hdone\n",
            "\u001b[31mERROR: pip's dependency resolver does not currently take into account all the packages that are installed. This behaviour is the source of the following dependency conflicts.\n",
            "tensorflow 2.15.0 requires wrapt<1.15,>=1.11.0, but you have wrapt 1.16.0 which is incompatible.\u001b[0m\u001b[31m\n",
            "\u001b[2K     \u001b[90m━━━━━━━━━━━━━━━━━━━━━━━━━━━━━━━━━━━━━━━━\u001b[0m \u001b[32m262.4/262.4 kB\u001b[0m \u001b[31m5.3 MB/s\u001b[0m eta \u001b[36m0:00:00\u001b[0m\n",
            "\u001b[2K     \u001b[90m━━━━━━━━━━━━━━━━━━━━━━━━━━━━━━━━━━━━━━━━\u001b[0m \u001b[32m525.5/525.5 kB\u001b[0m \u001b[31m19.7 MB/s\u001b[0m eta \u001b[36m0:00:00\u001b[0m\n",
            "\u001b[2K     \u001b[90m━━━━━━━━━━━━━━━━━━━━━━━━━━━━━━━━━━━━━━━━\u001b[0m \u001b[32m75.6/75.6 kB\u001b[0m \u001b[31m5.1 MB/s\u001b[0m eta \u001b[36m0:00:00\u001b[0m\n",
            "\u001b[2K     \u001b[90m━━━━━━━━━━━━━━━━━━━━━━━━━━━━━━━━━━━━━━━━\u001b[0m \u001b[32m2.4/2.4 MB\u001b[0m \u001b[31m30.0 MB/s\u001b[0m eta \u001b[36m0:00:00\u001b[0m\n",
            "\u001b[2K     \u001b[90m━━━━━━━━━━━━━━━━━━━━━━━━━━━━━━━━━━━━━━━━\u001b[0m \u001b[32m92.1/92.1 kB\u001b[0m \u001b[31m7.4 MB/s\u001b[0m eta \u001b[36m0:00:00\u001b[0m\n",
            "\u001b[2K     \u001b[90m━━━━━━━━━━━━━━━━━━━━━━━━━━━━━━━━━━━━━━━━\u001b[0m \u001b[32m60.8/60.8 kB\u001b[0m \u001b[31m5.0 MB/s\u001b[0m eta \u001b[36m0:00:00\u001b[0m\n",
            "\u001b[2K     \u001b[90m━━━━━━━━━━━━━━━━━━━━━━━━━━━━━━━━━━━━━━━━\u001b[0m \u001b[32m41.3/41.3 kB\u001b[0m \u001b[31m4.1 MB/s\u001b[0m eta \u001b[36m0:00:00\u001b[0m\n",
            "\u001b[2K     \u001b[90m━━━━━━━━━━━━━━━━━━━━━━━━━━━━━━━━━━━━━━━━\u001b[0m \u001b[32m5.4/5.4 MB\u001b[0m \u001b[31m37.1 MB/s\u001b[0m eta \u001b[36m0:00:00\u001b[0m\n",
            "\u001b[2K     \u001b[90m━━━━━━━━━━━━━━━━━━━━━━━━━━━━━━━━━━━━━━━━\u001b[0m \u001b[32m6.8/6.8 MB\u001b[0m \u001b[31m35.3 MB/s\u001b[0m eta \u001b[36m0:00:00\u001b[0m\n",
            "\u001b[2K     \u001b[90m━━━━━━━━━━━━━━━━━━━━━━━━━━━━━━━━━━━━━━━━\u001b[0m \u001b[32m58.4/58.4 kB\u001b[0m \u001b[31m5.9 MB/s\u001b[0m eta \u001b[36m0:00:00\u001b[0m\n",
            "\u001b[2K     \u001b[90m━━━━━━━━━━━━━━━━━━━━━━━━━━━━━━━━━━━━━━━━\u001b[0m \u001b[32m105.7/105.7 kB\u001b[0m \u001b[31m10.0 MB/s\u001b[0m eta \u001b[36m0:00:00\u001b[0m\n",
            "\u001b[2K     \u001b[90m━━━━━━━━━━━━━━━━━━━━━━━━━━━━━━━━━━━━━━━━\u001b[0m \u001b[32m67.3/67.3 kB\u001b[0m \u001b[31m5.3 MB/s\u001b[0m eta \u001b[36m0:00:00\u001b[0m\n",
            "\u001b[?25h  Installing build dependencies ... \u001b[?25l\u001b[?25hdone\n",
            "  Getting requirements to build wheel ... \u001b[?25l\u001b[?25hdone\n",
            "  Preparing metadata (pyproject.toml) ... \u001b[?25l\u001b[?25hdone\n",
            "\u001b[2K     \u001b[90m━━━━━━━━━━━━━━━━━━━━━━━━━━━━━━━━━━━━━━━━\u001b[0m \u001b[32m698.9/698.9 kB\u001b[0m \u001b[31m41.8 MB/s\u001b[0m eta \u001b[36m0:00:00\u001b[0m\n",
            "\u001b[2K     \u001b[90m━━━━━━━━━━━━━━━━━━━━━━━━━━━━━━━━━━━━━━━━\u001b[0m \u001b[32m1.6/1.6 MB\u001b[0m \u001b[31m66.5 MB/s\u001b[0m eta \u001b[36m0:00:00\u001b[0m\n",
            "\u001b[2K     \u001b[90m━━━━━━━━━━━━━━━━━━━━━━━━━━━━━━━━━━━━━━━━\u001b[0m \u001b[32m67.6/67.6 kB\u001b[0m \u001b[31m7.6 MB/s\u001b[0m eta \u001b[36m0:00:00\u001b[0m\n",
            "\u001b[2K     \u001b[90m━━━━━━━━━━━━━━━━━━━━━━━━━━━━━━━━━━━━━━━━\u001b[0m \u001b[32m71.5/71.5 kB\u001b[0m \u001b[31m8.4 MB/s\u001b[0m eta \u001b[36m0:00:00\u001b[0m\n",
            "\u001b[2K     \u001b[90m━━━━━━━━━━━━━━━━━━━━━━━━━━━━━━━━━━━━━━━━\u001b[0m \u001b[32m77.8/77.8 kB\u001b[0m \u001b[31m10.1 MB/s\u001b[0m eta \u001b[36m0:00:00\u001b[0m\n",
            "\u001b[2K     \u001b[90m━━━━━━━━━━━━━━━━━━━━━━━━━━━━━━━━━━━━━━━━\u001b[0m \u001b[32m58.3/58.3 kB\u001b[0m \u001b[31m6.8 MB/s\u001b[0m eta \u001b[36m0:00:00\u001b[0m\n",
            "\u001b[2K     \u001b[90m━━━━━━━━━━━━━━━━━━━━━━━━━━━━━━━━━━━━━━━━\u001b[0m \u001b[32m46.0/46.0 kB\u001b[0m \u001b[31m4.3 MB/s\u001b[0m eta \u001b[36m0:00:00\u001b[0m\n",
            "\u001b[2K     \u001b[90m━━━━━━━━━━━━━━━━━━━━━━━━━━━━━━━━━━━━━━━━\u001b[0m \u001b[32m50.8/50.8 kB\u001b[0m \u001b[31m5.3 MB/s\u001b[0m eta \u001b[36m0:00:00\u001b[0m\n",
            "\u001b[2K     \u001b[90m━━━━━━━━━━━━━━━━━━━━━━━━━━━━━━━━━━━━━━━━\u001b[0m \u001b[32m341.4/341.4 kB\u001b[0m \u001b[31m31.9 MB/s\u001b[0m eta \u001b[36m0:00:00\u001b[0m\n",
            "\u001b[2K     \u001b[90m━━━━━━━━━━━━━━━━━━━━━━━━━━━━━━━━━━━━━━━━\u001b[0m \u001b[32m3.4/3.4 MB\u001b[0m \u001b[31m51.8 MB/s\u001b[0m eta \u001b[36m0:00:00\u001b[0m\n",
            "\u001b[2K     \u001b[90m━━━━━━━━━━━━━━━━━━━━━━━━━━━━━━━━━━━━━━━━\u001b[0m \u001b[32m1.3/1.3 MB\u001b[0m \u001b[31m64.1 MB/s\u001b[0m eta \u001b[36m0:00:00\u001b[0m\n",
            "\u001b[2K     \u001b[90m━━━━━━━━━━━━━━━━━━━━━━━━━━━━━━━━━━━━━━━━\u001b[0m \u001b[32m130.2/130.2 kB\u001b[0m \u001b[31m14.8 MB/s\u001b[0m eta \u001b[36m0:00:00\u001b[0m\n",
            "\u001b[2K     \u001b[90m━━━━━━━━━━━━━━━━━━━━━━━━━━━━━━━━━━━━━━━━\u001b[0m \u001b[32m86.8/86.8 kB\u001b[0m \u001b[31m10.0 MB/s\u001b[0m eta \u001b[36m0:00:00\u001b[0m\n",
            "\u001b[?25h  Building wheel for pypika (pyproject.toml) ... \u001b[?25l\u001b[?25hdone\n",
            "Collecting presidio_analyzer\n",
            "  Downloading presidio_analyzer-2.2.353-py3-none-any.whl (85 kB)\n",
            "\u001b[2K     \u001b[90m━━━━━━━━━━━━━━━━━━━━━━━━━━━━━━━━━━━━━━━━\u001b[0m \u001b[32m85.7/85.7 kB\u001b[0m \u001b[31m876.5 kB/s\u001b[0m eta \u001b[36m0:00:00\u001b[0m\n",
            "\u001b[?25hCollecting presidio_anonymizer\n",
            "  Downloading presidio_anonymizer-2.2.353-py3-none-any.whl (31 kB)\n",
            "Requirement already satisfied: spacy<4.0.0,>=3.4.4 in /usr/local/lib/python3.10/dist-packages (from presidio_analyzer) (3.7.4)\n",
            "Requirement already satisfied: regex in /usr/local/lib/python3.10/dist-packages (from presidio_analyzer) (2023.12.25)\n",
            "Collecting tldextract (from presidio_analyzer)\n",
            "  Downloading tldextract-5.1.2-py3-none-any.whl (97 kB)\n",
            "\u001b[2K     \u001b[90m━━━━━━━━━━━━━━━━━━━━━━━━━━━━━━━━━━━━━━━━\u001b[0m \u001b[32m97.6/97.6 kB\u001b[0m \u001b[31m8.9 MB/s\u001b[0m eta \u001b[36m0:00:00\u001b[0m\n",
            "\u001b[?25hRequirement already satisfied: pyyaml in /usr/local/lib/python3.10/dist-packages (from presidio_analyzer) (6.0.1)\n",
            "Collecting phonenumbers<9.0.0,>=8.12 (from presidio_analyzer)\n",
            "  Downloading phonenumbers-8.13.32-py2.py3-none-any.whl (2.6 MB)\n",
            "\u001b[2K     \u001b[90m━━━━━━━━━━━━━━━━━━━━━━━━━━━━━━━━━━━━━━━━\u001b[0m \u001b[32m2.6/2.6 MB\u001b[0m \u001b[31m53.0 MB/s\u001b[0m eta \u001b[36m0:00:00\u001b[0m\n",
            "\u001b[?25hCollecting pycryptodome>=3.10.1 (from presidio_anonymizer)\n",
            "  Downloading pycryptodome-3.20.0-cp35-abi3-manylinux_2_17_x86_64.manylinux2014_x86_64.whl (2.1 MB)\n",
            "\u001b[2K     \u001b[90m━━━━━━━━━━━━━━━━━━━━━━━━━━━━━━━━━━━━━━━━\u001b[0m \u001b[32m2.1/2.1 MB\u001b[0m \u001b[31m60.1 MB/s\u001b[0m eta \u001b[36m0:00:00\u001b[0m\n",
            "\u001b[?25hRequirement already satisfied: spacy-legacy<3.1.0,>=3.0.11 in /usr/local/lib/python3.10/dist-packages (from spacy<4.0.0,>=3.4.4->presidio_analyzer) (3.0.12)\n",
            "Requirement already satisfied: spacy-loggers<2.0.0,>=1.0.0 in /usr/local/lib/python3.10/dist-packages (from spacy<4.0.0,>=3.4.4->presidio_analyzer) (1.0.5)\n",
            "Requirement already satisfied: murmurhash<1.1.0,>=0.28.0 in /usr/local/lib/python3.10/dist-packages (from spacy<4.0.0,>=3.4.4->presidio_analyzer) (1.0.10)\n",
            "Requirement already satisfied: cymem<2.1.0,>=2.0.2 in /usr/local/lib/python3.10/dist-packages (from spacy<4.0.0,>=3.4.4->presidio_analyzer) (2.0.8)\n",
            "Requirement already satisfied: preshed<3.1.0,>=3.0.2 in /usr/local/lib/python3.10/dist-packages (from spacy<4.0.0,>=3.4.4->presidio_analyzer) (3.0.9)\n",
            "Requirement already satisfied: thinc<8.3.0,>=8.2.2 in /usr/local/lib/python3.10/dist-packages (from spacy<4.0.0,>=3.4.4->presidio_analyzer) (8.2.3)\n",
            "Requirement already satisfied: wasabi<1.2.0,>=0.9.1 in /usr/local/lib/python3.10/dist-packages (from spacy<4.0.0,>=3.4.4->presidio_analyzer) (1.1.2)\n",
            "Requirement already satisfied: srsly<3.0.0,>=2.4.3 in /usr/local/lib/python3.10/dist-packages (from spacy<4.0.0,>=3.4.4->presidio_analyzer) (2.4.8)\n",
            "Requirement already satisfied: catalogue<2.1.0,>=2.0.6 in /usr/local/lib/python3.10/dist-packages (from spacy<4.0.0,>=3.4.4->presidio_analyzer) (2.0.10)\n",
            "Requirement already satisfied: weasel<0.4.0,>=0.1.0 in /usr/local/lib/python3.10/dist-packages (from spacy<4.0.0,>=3.4.4->presidio_analyzer) (0.3.4)\n",
            "Requirement already satisfied: typer<0.10.0,>=0.3.0 in /usr/local/lib/python3.10/dist-packages (from spacy<4.0.0,>=3.4.4->presidio_analyzer) (0.9.0)\n",
            "Requirement already satisfied: smart-open<7.0.0,>=5.2.1 in /usr/local/lib/python3.10/dist-packages (from spacy<4.0.0,>=3.4.4->presidio_analyzer) (6.4.0)\n",
            "Requirement already satisfied: tqdm<5.0.0,>=4.38.0 in /usr/local/lib/python3.10/dist-packages (from spacy<4.0.0,>=3.4.4->presidio_analyzer) (4.66.2)\n",
            "Requirement already satisfied: requests<3.0.0,>=2.13.0 in /usr/local/lib/python3.10/dist-packages (from spacy<4.0.0,>=3.4.4->presidio_analyzer) (2.31.0)\n",
            "Requirement already satisfied: pydantic!=1.8,!=1.8.1,<3.0.0,>=1.7.4 in /usr/local/lib/python3.10/dist-packages (from spacy<4.0.0,>=3.4.4->presidio_analyzer) (2.6.4)\n",
            "Requirement already satisfied: jinja2 in /usr/local/lib/python3.10/dist-packages (from spacy<4.0.0,>=3.4.4->presidio_analyzer) (3.1.3)\n",
            "Requirement already satisfied: setuptools in /usr/local/lib/python3.10/dist-packages (from spacy<4.0.0,>=3.4.4->presidio_analyzer) (67.7.2)\n",
            "Requirement already satisfied: packaging>=20.0 in /usr/local/lib/python3.10/dist-packages (from spacy<4.0.0,>=3.4.4->presidio_analyzer) (23.2)\n",
            "Requirement already satisfied: langcodes<4.0.0,>=3.2.0 in /usr/local/lib/python3.10/dist-packages (from spacy<4.0.0,>=3.4.4->presidio_analyzer) (3.3.0)\n",
            "Requirement already satisfied: numpy>=1.19.0 in /usr/local/lib/python3.10/dist-packages (from spacy<4.0.0,>=3.4.4->presidio_analyzer) (1.26.4)\n",
            "Requirement already satisfied: idna in /usr/local/lib/python3.10/dist-packages (from tldextract->presidio_analyzer) (3.6)\n",
            "Collecting requests-file>=1.4 (from tldextract->presidio_analyzer)\n",
            "  Downloading requests_file-2.0.0-py2.py3-none-any.whl (4.2 kB)\n",
            "Requirement already satisfied: filelock>=3.0.8 in /usr/local/lib/python3.10/dist-packages (from tldextract->presidio_analyzer) (3.13.1)\n",
            "Requirement already satisfied: annotated-types>=0.4.0 in /usr/local/lib/python3.10/dist-packages (from pydantic!=1.8,!=1.8.1,<3.0.0,>=1.7.4->spacy<4.0.0,>=3.4.4->presidio_analyzer) (0.6.0)\n",
            "Requirement already satisfied: pydantic-core==2.16.3 in /usr/local/lib/python3.10/dist-packages (from pydantic!=1.8,!=1.8.1,<3.0.0,>=1.7.4->spacy<4.0.0,>=3.4.4->presidio_analyzer) (2.16.3)\n",
            "Requirement already satisfied: typing-extensions>=4.6.1 in /usr/local/lib/python3.10/dist-packages (from pydantic!=1.8,!=1.8.1,<3.0.0,>=1.7.4->spacy<4.0.0,>=3.4.4->presidio_analyzer) (4.9.0)\n",
            "Requirement already satisfied: charset-normalizer<4,>=2 in /usr/local/lib/python3.10/dist-packages (from requests<3.0.0,>=2.13.0->spacy<4.0.0,>=3.4.4->presidio_analyzer) (3.3.2)\n",
            "Requirement already satisfied: urllib3<3,>=1.21.1 in /usr/local/lib/python3.10/dist-packages (from requests<3.0.0,>=2.13.0->spacy<4.0.0,>=3.4.4->presidio_analyzer) (1.26.18)\n",
            "Requirement already satisfied: certifi>=2017.4.17 in /usr/local/lib/python3.10/dist-packages (from requests<3.0.0,>=2.13.0->spacy<4.0.0,>=3.4.4->presidio_analyzer) (2024.2.2)\n",
            "Requirement already satisfied: blis<0.8.0,>=0.7.8 in /usr/local/lib/python3.10/dist-packages (from thinc<8.3.0,>=8.2.2->spacy<4.0.0,>=3.4.4->presidio_analyzer) (0.7.11)\n",
            "Requirement already satisfied: confection<1.0.0,>=0.0.1 in /usr/local/lib/python3.10/dist-packages (from thinc<8.3.0,>=8.2.2->spacy<4.0.0,>=3.4.4->presidio_analyzer) (0.1.4)\n",
            "Requirement already satisfied: click<9.0.0,>=7.1.1 in /usr/local/lib/python3.10/dist-packages (from typer<0.10.0,>=0.3.0->spacy<4.0.0,>=3.4.4->presidio_analyzer) (8.1.7)\n",
            "Requirement already satisfied: cloudpathlib<0.17.0,>=0.7.0 in /usr/local/lib/python3.10/dist-packages (from weasel<0.4.0,>=0.1.0->spacy<4.0.0,>=3.4.4->presidio_analyzer) (0.16.0)\n",
            "Requirement already satisfied: MarkupSafe>=2.0 in /usr/local/lib/python3.10/dist-packages (from jinja2->spacy<4.0.0,>=3.4.4->presidio_analyzer) (2.1.5)\n",
            "Installing collected packages: phonenumbers, pycryptodome, requests-file, presidio_anonymizer, tldextract, presidio_analyzer\n",
            "Successfully installed phonenumbers-8.13.32 presidio_analyzer-2.2.353 presidio_anonymizer-2.2.353 pycryptodome-3.20.0 requests-file-2.0.0 tldextract-5.1.2\n",
            "Collecting en-core-web-lg==3.7.1\n",
            "  Downloading https://github.com/explosion/spacy-models/releases/download/en_core_web_lg-3.7.1/en_core_web_lg-3.7.1-py3-none-any.whl (587.7 MB)\n",
            "\u001b[2K     \u001b[90m━━━━━━━━━━━━━━━━━━━━━━━━━━━━━━━━━━━━━━━━\u001b[0m \u001b[32m587.7/587.7 MB\u001b[0m \u001b[31m1.9 MB/s\u001b[0m eta \u001b[36m0:00:00\u001b[0m\n",
            "\u001b[?25hRequirement already satisfied: spacy<3.8.0,>=3.7.2 in /usr/local/lib/python3.10/dist-packages (from en-core-web-lg==3.7.1) (3.7.4)\n",
            "Requirement already satisfied: spacy-legacy<3.1.0,>=3.0.11 in /usr/local/lib/python3.10/dist-packages (from spacy<3.8.0,>=3.7.2->en-core-web-lg==3.7.1) (3.0.12)\n",
            "Requirement already satisfied: spacy-loggers<2.0.0,>=1.0.0 in /usr/local/lib/python3.10/dist-packages (from spacy<3.8.0,>=3.7.2->en-core-web-lg==3.7.1) (1.0.5)\n",
            "Requirement already satisfied: murmurhash<1.1.0,>=0.28.0 in /usr/local/lib/python3.10/dist-packages (from spacy<3.8.0,>=3.7.2->en-core-web-lg==3.7.1) (1.0.10)\n",
            "Requirement already satisfied: cymem<2.1.0,>=2.0.2 in /usr/local/lib/python3.10/dist-packages (from spacy<3.8.0,>=3.7.2->en-core-web-lg==3.7.1) (2.0.8)\n",
            "Requirement already satisfied: preshed<3.1.0,>=3.0.2 in /usr/local/lib/python3.10/dist-packages (from spacy<3.8.0,>=3.7.2->en-core-web-lg==3.7.1) (3.0.9)\n",
            "Requirement already satisfied: thinc<8.3.0,>=8.2.2 in /usr/local/lib/python3.10/dist-packages (from spacy<3.8.0,>=3.7.2->en-core-web-lg==3.7.1) (8.2.3)\n",
            "Requirement already satisfied: wasabi<1.2.0,>=0.9.1 in /usr/local/lib/python3.10/dist-packages (from spacy<3.8.0,>=3.7.2->en-core-web-lg==3.7.1) (1.1.2)\n",
            "Requirement already satisfied: srsly<3.0.0,>=2.4.3 in /usr/local/lib/python3.10/dist-packages (from spacy<3.8.0,>=3.7.2->en-core-web-lg==3.7.1) (2.4.8)\n",
            "Requirement already satisfied: catalogue<2.1.0,>=2.0.6 in /usr/local/lib/python3.10/dist-packages (from spacy<3.8.0,>=3.7.2->en-core-web-lg==3.7.1) (2.0.10)\n",
            "Requirement already satisfied: weasel<0.4.0,>=0.1.0 in /usr/local/lib/python3.10/dist-packages (from spacy<3.8.0,>=3.7.2->en-core-web-lg==3.7.1) (0.3.4)\n",
            "Requirement already satisfied: typer<0.10.0,>=0.3.0 in /usr/local/lib/python3.10/dist-packages (from spacy<3.8.0,>=3.7.2->en-core-web-lg==3.7.1) (0.9.0)\n",
            "Requirement already satisfied: smart-open<7.0.0,>=5.2.1 in /usr/local/lib/python3.10/dist-packages (from spacy<3.8.0,>=3.7.2->en-core-web-lg==3.7.1) (6.4.0)\n",
            "Requirement already satisfied: tqdm<5.0.0,>=4.38.0 in /usr/local/lib/python3.10/dist-packages (from spacy<3.8.0,>=3.7.2->en-core-web-lg==3.7.1) (4.66.2)\n",
            "Requirement already satisfied: requests<3.0.0,>=2.13.0 in /usr/local/lib/python3.10/dist-packages (from spacy<3.8.0,>=3.7.2->en-core-web-lg==3.7.1) (2.31.0)\n",
            "Requirement already satisfied: pydantic!=1.8,!=1.8.1,<3.0.0,>=1.7.4 in /usr/local/lib/python3.10/dist-packages (from spacy<3.8.0,>=3.7.2->en-core-web-lg==3.7.1) (2.6.4)\n",
            "Requirement already satisfied: jinja2 in /usr/local/lib/python3.10/dist-packages (from spacy<3.8.0,>=3.7.2->en-core-web-lg==3.7.1) (3.1.3)\n",
            "Requirement already satisfied: setuptools in /usr/local/lib/python3.10/dist-packages (from spacy<3.8.0,>=3.7.2->en-core-web-lg==3.7.1) (67.7.2)\n",
            "Requirement already satisfied: packaging>=20.0 in /usr/local/lib/python3.10/dist-packages (from spacy<3.8.0,>=3.7.2->en-core-web-lg==3.7.1) (23.2)\n",
            "Requirement already satisfied: langcodes<4.0.0,>=3.2.0 in /usr/local/lib/python3.10/dist-packages (from spacy<3.8.0,>=3.7.2->en-core-web-lg==3.7.1) (3.3.0)\n",
            "Requirement already satisfied: numpy>=1.19.0 in /usr/local/lib/python3.10/dist-packages (from spacy<3.8.0,>=3.7.2->en-core-web-lg==3.7.1) (1.26.4)\n",
            "Requirement already satisfied: annotated-types>=0.4.0 in /usr/local/lib/python3.10/dist-packages (from pydantic!=1.8,!=1.8.1,<3.0.0,>=1.7.4->spacy<3.8.0,>=3.7.2->en-core-web-lg==3.7.1) (0.6.0)\n",
            "Requirement already satisfied: pydantic-core==2.16.3 in /usr/local/lib/python3.10/dist-packages (from pydantic!=1.8,!=1.8.1,<3.0.0,>=1.7.4->spacy<3.8.0,>=3.7.2->en-core-web-lg==3.7.1) (2.16.3)\n",
            "Requirement already satisfied: typing-extensions>=4.6.1 in /usr/local/lib/python3.10/dist-packages (from pydantic!=1.8,!=1.8.1,<3.0.0,>=1.7.4->spacy<3.8.0,>=3.7.2->en-core-web-lg==3.7.1) (4.9.0)\n",
            "Requirement already satisfied: charset-normalizer<4,>=2 in /usr/local/lib/python3.10/dist-packages (from requests<3.0.0,>=2.13.0->spacy<3.8.0,>=3.7.2->en-core-web-lg==3.7.1) (3.3.2)\n",
            "Requirement already satisfied: idna<4,>=2.5 in /usr/local/lib/python3.10/dist-packages (from requests<3.0.0,>=2.13.0->spacy<3.8.0,>=3.7.2->en-core-web-lg==3.7.1) (3.6)\n",
            "Requirement already satisfied: urllib3<3,>=1.21.1 in /usr/local/lib/python3.10/dist-packages (from requests<3.0.0,>=2.13.0->spacy<3.8.0,>=3.7.2->en-core-web-lg==3.7.1) (1.26.18)\n",
            "Requirement already satisfied: certifi>=2017.4.17 in /usr/local/lib/python3.10/dist-packages (from requests<3.0.0,>=2.13.0->spacy<3.8.0,>=3.7.2->en-core-web-lg==3.7.1) (2024.2.2)\n",
            "Requirement already satisfied: blis<0.8.0,>=0.7.8 in /usr/local/lib/python3.10/dist-packages (from thinc<8.3.0,>=8.2.2->spacy<3.8.0,>=3.7.2->en-core-web-lg==3.7.1) (0.7.11)\n",
            "Requirement already satisfied: confection<1.0.0,>=0.0.1 in /usr/local/lib/python3.10/dist-packages (from thinc<8.3.0,>=8.2.2->spacy<3.8.0,>=3.7.2->en-core-web-lg==3.7.1) (0.1.4)\n",
            "Requirement already satisfied: click<9.0.0,>=7.1.1 in /usr/local/lib/python3.10/dist-packages (from typer<0.10.0,>=0.3.0->spacy<3.8.0,>=3.7.2->en-core-web-lg==3.7.1) (8.1.7)\n",
            "Requirement already satisfied: cloudpathlib<0.17.0,>=0.7.0 in /usr/local/lib/python3.10/dist-packages (from weasel<0.4.0,>=0.1.0->spacy<3.8.0,>=3.7.2->en-core-web-lg==3.7.1) (0.16.0)\n",
            "Requirement already satisfied: MarkupSafe>=2.0 in /usr/local/lib/python3.10/dist-packages (from jinja2->spacy<3.8.0,>=3.7.2->en-core-web-lg==3.7.1) (2.1.5)\n",
            "Installing collected packages: en-core-web-lg\n",
            "Successfully installed en-core-web-lg-3.7.1\n",
            "\u001b[38;5;2m✔ Download and installation successful\u001b[0m\n",
            "You can now load the package via spacy.load('en_core_web_lg')\n",
            "\u001b[38;5;3m⚠ Restart to reload dependencies\u001b[0m\n",
            "If you are in a Jupyter or Colab notebook, you may need to restart Python in\n",
            "order to load all the package's dependencies. You can do this by selecting the\n",
            "'Restart kernel' or 'Restart runtime' option.\n"
          ]
        }
      ],
      "source": [
        "! pip install langchain langchain-community tiktoken -q\n",
        "! pip install -U accelerate -q\n",
        "! pip install -U unstructured numpy -q\n",
        "! pip install openai chromadb beautifulsoup4 -q"
      ]
    },
    {
      "cell_type": "code",
      "source": [
        "! pip install langchain_experimental langchain-openai  faiss-cpu pandas -q"
      ],
      "metadata": {
        "id": "l7R3dk5cAQca"
      },
      "execution_count": 42,
      "outputs": []
    },
    {
      "cell_type": "code",
      "source": [
        "\n",
        "from google.colab import output\n",
        "output.enable_custom_widget_manager()"
      ],
      "metadata": {
        "id": "2sGhLPYoKNal"
      },
      "execution_count": 3,
      "outputs": []
    },
    {
      "cell_type": "code",
      "source": [
        "from google.colab import drive\n",
        "drive.mount('/content/drive')"
      ],
      "metadata": {
        "colab": {
          "base_uri": "https://localhost:8080/"
        },
        "id": "_aMLt2iSKNX9",
        "outputId": "c037c9f9-86c1-4adf-e288-1b9004f85a5d"
      },
      "execution_count": 4,
      "outputs": [
        {
          "output_type": "stream",
          "name": "stdout",
          "text": [
            "Mounted at /content/drive\n"
          ]
        }
      ]
    },
    {
      "cell_type": "code",
      "source": [
        "from google.colab import userdata\n",
        "openai_api_key = userdata.get('KEY_OPENAI')\n"
      ],
      "metadata": {
        "id": "XdFhRM0dKNVY"
      },
      "execution_count": 5,
      "outputs": []
    },
    {
      "cell_type": "code",
      "source": [
        "from langchain_community.utilities import SQLDatabase\n",
        "\n",
        "db = SQLDatabase.from_uri(\"sqlite:////content/drive/MyDrive/data/Chinook.db\")\n",
        "print(db.dialect)\n",
        "print(db.get_usable_table_names())\n",
        "db.run(\"SELECT * FROM Artist LIMIT 10;\")"
      ],
      "metadata": {
        "colab": {
          "base_uri": "https://localhost:8080/",
          "height": 87
        },
        "id": "xglw2FzRCwPa",
        "outputId": "8ced14fe-0a0e-4ce1-9d04-7f25d198d12f"
      },
      "execution_count": 67,
      "outputs": [
        {
          "output_type": "stream",
          "name": "stdout",
          "text": [
            "sqlite\n",
            "['Album', 'Artist', 'Customer', 'Employee', 'Genre', 'Invoice', 'InvoiceLine', 'MediaType', 'Playlist', 'PlaylistTrack', 'Track']\n"
          ]
        },
        {
          "output_type": "execute_result",
          "data": {
            "text/plain": [
              "\"[(1, 'AC/DC'), (2, 'Accept'), (3, 'Aerosmith'), (4, 'Alanis Morissette'), (5, 'Alice In Chains'), (6, 'Antônio Carlos Jobim'), (7, 'Apocalyptica'), (8, 'Audioslave'), (9, 'BackBeat'), (10, 'Billy Cobham')]\""
            ],
            "application/vnd.google.colaboratory.intrinsic+json": {
              "type": "string"
            }
          },
          "metadata": {},
          "execution_count": 67
        }
      ]
    },
    {
      "cell_type": "code",
      "source": [
        "from langchain_community.agent_toolkits import create_sql_agent\n",
        "from langchain_openai import ChatOpenAI"
      ],
      "metadata": {
        "id": "rgA9OAwaA7-a"
      },
      "execution_count": 68,
      "outputs": []
    },
    {
      "cell_type": "markdown",
      "source": [
        "# Agents\n",
        "\n",
        "LangChain has a SQL Agent which provides a more flexible way of interacting with SQL Databases than a chain. The main advantages of using the SQL Agent are:\n",
        "\n",
        "It can answer questions based on the databases’ schema as well as on the databases’ content (like describing a specific table).\n",
        "It can recover from errors by running a generated query, catching the traceback and regenerating it correctly.\n",
        "It can query the database as many times as needed to answer the user question.\n",
        "It will save tokens by only retrieving the schema from relevant tables.\n",
        "\n",
        "\n",
        "# create_sql_agent\n",
        "\n",
        "https://python.langchain.com/docs/integrations/toolkits/sql_database\n",
        "\n",
        "https://python.langchain.com/docs/use_cases/sql/agents\n",
        "\n",
        "# OpenaiTools\n",
        "https://python.langchain.com/docs/modules/agents/agent_types/openai_tools"
      ],
      "metadata": {
        "id": "LWu2Iwd5bclr"
      }
    },
    {
      "cell_type": "code",
      "source": [
        "#OpenAI chat model and an \"openai-tools\" agent, which will use OpenAI’s function-calling API to drive the agent’s tool selection and invocations.\n",
        "llm=ChatOpenAI(\n",
        "        model=\"gpt-3.5-turbo\", temperature=1, openai_api_key=openai_api_key\n",
        "    )\n",
        "\n",
        "agent_executor = create_sql_agent(llm, db=db, agent_type=\"openai-tools\", verbose=True)"
      ],
      "metadata": {
        "id": "Vjh53Q11SAzd"
      },
      "execution_count": 10,
      "outputs": []
    },
    {
      "cell_type": "code",
      "source": [
        "agent_executor.invoke(\n",
        "    \"List the total sales per country. Which country's customers spent the most?\"\n",
        ")"
      ],
      "metadata": {
        "id": "NakItnWb7tf7",
        "colab": {
          "base_uri": "https://localhost:8080/"
        },
        "outputId": "236505d4-2689-41ed-82cf-9a310966adf6"
      },
      "execution_count": 11,
      "outputs": [
        {
          "output_type": "stream",
          "name": "stdout",
          "text": [
            "\n",
            "\n",
            "\u001b[1m> Entering new SQL Agent Executor chain...\u001b[0m\n",
            "\u001b[32;1m\u001b[1;3m\n",
            "Invoking: `sql_db_list_tables` with `{'tool_input': ''}`\n",
            "\n",
            "\n",
            "\u001b[0m\u001b[38;5;200m\u001b[1;3mAlbum, Artist, Customer, Employee, Genre, Invoice, InvoiceLine, MediaType, Playlist, PlaylistTrack, Track\u001b[0m\u001b[32;1m\u001b[1;3m\n",
            "Invoking: `sql_db_schema` with `{'table_names': 'Customer, Invoice, InvoiceLine'}`\n",
            "\n",
            "\n",
            "\u001b[0m\u001b[33;1m\u001b[1;3m\n",
            "CREATE TABLE \"Customer\" (\n",
            "\t\"CustomerId\" INTEGER NOT NULL, \n",
            "\t\"FirstName\" NVARCHAR(40) NOT NULL, \n",
            "\t\"LastName\" NVARCHAR(20) NOT NULL, \n",
            "\t\"Company\" NVARCHAR(80), \n",
            "\t\"Address\" NVARCHAR(70), \n",
            "\t\"City\" NVARCHAR(40), \n",
            "\t\"State\" NVARCHAR(40), \n",
            "\t\"Country\" NVARCHAR(40), \n",
            "\t\"PostalCode\" NVARCHAR(10), \n",
            "\t\"Phone\" NVARCHAR(24), \n",
            "\t\"Fax\" NVARCHAR(24), \n",
            "\t\"Email\" NVARCHAR(60) NOT NULL, \n",
            "\t\"SupportRepId\" INTEGER, \n",
            "\tPRIMARY KEY (\"CustomerId\"), \n",
            "\tFOREIGN KEY(\"SupportRepId\") REFERENCES \"Employee\" (\"EmployeeId\")\n",
            ")\n",
            "\n",
            "/*\n",
            "3 rows from Customer table:\n",
            "CustomerId\tFirstName\tLastName\tCompany\tAddress\tCity\tState\tCountry\tPostalCode\tPhone\tFax\tEmail\tSupportRepId\n",
            "1\tLuís\tGonçalves\tEmbraer - Empresa Brasileira de Aeronáutica S.A.\tAv. Brigadeiro Faria Lima, 2170\tSão José dos Campos\tSP\tBrazil\t12227-000\t+55 (12) 3923-5555\t+55 (12) 3923-5566\tluisg@embraer.com.br\t3\n",
            "2\tLeonie\tKöhler\tNone\tTheodor-Heuss-Straße 34\tStuttgart\tNone\tGermany\t70174\t+49 0711 2842222\tNone\tleonekohler@surfeu.de\t5\n",
            "3\tFrançois\tTremblay\tNone\t1498 rue Bélanger\tMontréal\tQC\tCanada\tH2G 1A7\t+1 (514) 721-4711\tNone\tftremblay@gmail.com\t3\n",
            "*/\n",
            "\n",
            "\n",
            "CREATE TABLE \"Invoice\" (\n",
            "\t\"InvoiceId\" INTEGER NOT NULL, \n",
            "\t\"CustomerId\" INTEGER NOT NULL, \n",
            "\t\"InvoiceDate\" DATETIME NOT NULL, \n",
            "\t\"BillingAddress\" NVARCHAR(70), \n",
            "\t\"BillingCity\" NVARCHAR(40), \n",
            "\t\"BillingState\" NVARCHAR(40), \n",
            "\t\"BillingCountry\" NVARCHAR(40), \n",
            "\t\"BillingPostalCode\" NVARCHAR(10), \n",
            "\t\"Total\" NUMERIC(10, 2) NOT NULL, \n",
            "\tPRIMARY KEY (\"InvoiceId\"), \n",
            "\tFOREIGN KEY(\"CustomerId\") REFERENCES \"Customer\" (\"CustomerId\")\n",
            ")\n",
            "\n",
            "/*\n",
            "3 rows from Invoice table:\n",
            "InvoiceId\tCustomerId\tInvoiceDate\tBillingAddress\tBillingCity\tBillingState\tBillingCountry\tBillingPostalCode\tTotal\n",
            "1\t2\t2021-01-01 00:00:00\tTheodor-Heuss-Straße 34\tStuttgart\tNone\tGermany\t70174\t1.98\n",
            "2\t4\t2021-01-02 00:00:00\tUllevålsveien 14\tOslo\tNone\tNorway\t0171\t3.96\n",
            "3\t8\t2021-01-03 00:00:00\tGrétrystraat 63\tBrussels\tNone\tBelgium\t1000\t5.94\n",
            "*/\n",
            "\n",
            "\n",
            "CREATE TABLE \"InvoiceLine\" (\n",
            "\t\"InvoiceLineId\" INTEGER NOT NULL, \n",
            "\t\"InvoiceId\" INTEGER NOT NULL, \n",
            "\t\"TrackId\" INTEGER NOT NULL, \n",
            "\t\"UnitPrice\" NUMERIC(10, 2) NOT NULL, \n",
            "\t\"Quantity\" INTEGER NOT NULL, \n",
            "\tPRIMARY KEY (\"InvoiceLineId\"), \n",
            "\tFOREIGN KEY(\"TrackId\") REFERENCES \"Track\" (\"TrackId\"), \n",
            "\tFOREIGN KEY(\"InvoiceId\") REFERENCES \"Invoice\" (\"InvoiceId\")\n",
            ")\n",
            "\n",
            "/*\n",
            "3 rows from InvoiceLine table:\n",
            "InvoiceLineId\tInvoiceId\tTrackId\tUnitPrice\tQuantity\n",
            "1\t1\t2\t0.99\t1\n",
            "2\t1\t4\t0.99\t1\n",
            "3\t2\t6\t0.99\t1\n",
            "*/\u001b[0m\u001b[32;1m\u001b[1;3m\n",
            "Invoking: `sql_db_query` with `{'query': 'SELECT i.BillingCountry AS Country, SUM(i.Total) AS TotalSales FROM Invoice i GROUP BY i.BillingCountry ORDER BY TotalSales DESC LIMIT 1;'}`\n",
            "responded: To find the total sales per country, we need to sum the total amount from the Invoice table and group it by the country. We can then determine which country's customers spent the most based on the total sales.\n",
            "\n",
            "Here is the SQL query to achieve this:\n",
            "\n",
            "```sql\n",
            "SELECT i.BillingCountry AS Country, SUM(i.Total) AS TotalSales\n",
            "FROM Invoice i\n",
            "GROUP BY i.BillingCountry\n",
            "ORDER BY TotalSales DESC\n",
            "LIMIT 1;\n",
            "```\n",
            "\n",
            "I will now run this query to get the country whose customers spent the most.\n",
            "\n",
            "\u001b[0m\u001b[36;1m\u001b[1;3m[('USA', 523.0600000000003)]\u001b[0m\u001b[32;1m\u001b[1;3mThe country whose customers spent the most is the USA, with a total sales amount of $523.06.\u001b[0m\n",
            "\n",
            "\u001b[1m> Finished chain.\u001b[0m\n"
          ]
        },
        {
          "output_type": "execute_result",
          "data": {
            "text/plain": [
              "{'input': \"List the total sales per country. Which country's customers spent the most?\",\n",
              " 'output': 'The country whose customers spent the most is the USA, with a total sales amount of $523.06.'}"
            ]
          },
          "metadata": {},
          "execution_count": 11
        }
      ]
    },
    {
      "cell_type": "code",
      "source": [
        "agent_executor.invoke(\"Describe the playlisttrack table\")"
      ],
      "metadata": {
        "colab": {
          "base_uri": "https://localhost:8080/"
        },
        "id": "35IcxtPlTG41",
        "outputId": "bd1230b7-baa8-4561-ba0a-e78ec9908fd0"
      },
      "execution_count": 12,
      "outputs": [
        {
          "output_type": "stream",
          "name": "stdout",
          "text": [
            "\n",
            "\n",
            "\u001b[1m> Entering new SQL Agent Executor chain...\u001b[0m\n",
            "\u001b[32;1m\u001b[1;3m\n",
            "Invoking: `sql_db_list_tables` with `{'tool_input': ''}`\n",
            "\n",
            "\n",
            "\u001b[0m\u001b[38;5;200m\u001b[1;3mAlbum, Artist, Customer, Employee, Genre, Invoice, InvoiceLine, MediaType, Playlist, PlaylistTrack, Track\u001b[0m\u001b[32;1m\u001b[1;3m\n",
            "Invoking: `sql_db_schema` with `{'table_names': 'PlaylistTrack'}`\n",
            "\n",
            "\n",
            "\u001b[0m\u001b[33;1m\u001b[1;3m\n",
            "CREATE TABLE \"PlaylistTrack\" (\n",
            "\t\"PlaylistId\" INTEGER NOT NULL, \n",
            "\t\"TrackId\" INTEGER NOT NULL, \n",
            "\tPRIMARY KEY (\"PlaylistId\", \"TrackId\"), \n",
            "\tFOREIGN KEY(\"TrackId\") REFERENCES \"Track\" (\"TrackId\"), \n",
            "\tFOREIGN KEY(\"PlaylistId\") REFERENCES \"Playlist\" (\"PlaylistId\")\n",
            ")\n",
            "\n",
            "/*\n",
            "3 rows from PlaylistTrack table:\n",
            "PlaylistId\tTrackId\n",
            "1\t3402\n",
            "1\t3389\n",
            "1\t3390\n",
            "*/\u001b[0m\u001b[32;1m\u001b[1;3mThe `PlaylistTrack` table has the following columns:\n",
            "- PlaylistId (INTEGER, NOT NULL) - Foreign key referencing Playlist table\n",
            "- TrackId (INTEGER, NOT NULL) - Foreign key referencing Track table\n",
            "\n",
            "Here are 3 sample rows from the `PlaylistTrack` table:\n",
            "1. PlaylistId: 1, TrackId: 3402\n",
            "2. PlaylistId: 1, TrackId: 3389\n",
            "3. PlaylistId: 1, TrackId: 3390\n",
            "\n",
            "If you have any specific questions or queries related to this table, feel free to ask!\u001b[0m\n",
            "\n",
            "\u001b[1m> Finished chain.\u001b[0m\n"
          ]
        },
        {
          "output_type": "execute_result",
          "data": {
            "text/plain": [
              "{'input': 'Describe the playlisttrack table',\n",
              " 'output': 'The `PlaylistTrack` table has the following columns:\\n- PlaylistId (INTEGER, NOT NULL) - Foreign key referencing Playlist table\\n- TrackId (INTEGER, NOT NULL) - Foreign key referencing Track table\\n\\nHere are 3 sample rows from the `PlaylistTrack` table:\\n1. PlaylistId: 1, TrackId: 3402\\n2. PlaylistId: 1, TrackId: 3389\\n3. PlaylistId: 1, TrackId: 3390\\n\\nIf you have any specific questions or queries related to this table, feel free to ask!'}"
            ]
          },
          "metadata": {},
          "execution_count": 12
        }
      ]
    },
    {
      "cell_type": "markdown",
      "source": [
        "# Using a dynamic few-shot prompt\n",
        "\n",
        "https://python.langchain.com/docs/use_cases/sql/prompting\n",
        "\n",
        "\n",
        "To optimize agent performance, we can provide a custom prompt with domain-specific knowledge. In this case we’ll create a few shot prompt with an example selector, that will dynamically build the few shot prompt based on the user input. This will help the model make better queries by inserting relevant queries in the prompt that the model can use as reference.\n",
        "\n"
      ],
      "metadata": {
        "id": "OFsukVBBbrRi"
      }
    },
    {
      "cell_type": "code",
      "source": [
        "examples = [\n",
        "    {\"input\": \"List all artists.\", \"query\": \"SELECT * FROM Artist;\"},\n",
        "    {\n",
        "        \"input\": \"Find all albums for the artist 'AC/DC'.\",\n",
        "        \"query\": \"SELECT * FROM Album WHERE ArtistId = (SELECT ArtistId FROM Artist WHERE Name = 'AC/DC');\",\n",
        "    },\n",
        "    {\n",
        "        \"input\": \"List all tracks in the 'Rock' genre.\",\n",
        "        \"query\": \"SELECT * FROM Track WHERE GenreId = (SELECT GenreId FROM Genre WHERE Name = 'Rock');\",\n",
        "    },\n",
        "    {\n",
        "        \"input\": \"Find the total duration of all tracks.\",\n",
        "        \"query\": \"SELECT SUM(Milliseconds) FROM Track;\",\n",
        "    },\n",
        "    {\n",
        "        \"input\": \"List all customers from Canada.\",\n",
        "        \"query\": \"SELECT * FROM Customer WHERE Country = 'Canada';\",\n",
        "    },\n",
        "    {\n",
        "        \"input\": \"How many tracks are there in the album with ID 5?\",\n",
        "        \"query\": \"SELECT COUNT(*) FROM Track WHERE AlbumId = 5;\",\n",
        "    },\n",
        "    {\n",
        "        \"input\": \"Find the total number of invoices.\",\n",
        "        \"query\": \"SELECT COUNT(*) FROM Invoice;\",\n",
        "    },\n",
        "    {\n",
        "        \"input\": \"List all tracks that are longer than 5 minutes.\",\n",
        "        \"query\": \"SELECT * FROM Track WHERE Milliseconds > 300000;\",\n",
        "    },\n",
        "    {\n",
        "        \"input\": \"Who are the top 5 customers by total purchase?\",\n",
        "        \"query\": \"SELECT CustomerId, SUM(Total) AS TotalPurchase FROM Invoice GROUP BY CustomerId ORDER BY TotalPurchase DESC LIMIT 5;\",\n",
        "    },\n",
        "    {\n",
        "        \"input\": \"Which albums are from the year 2000?\",\n",
        "        \"query\": \"SELECT * FROM Album WHERE strftime('%Y', ReleaseDate) = '2000';\",\n",
        "    },\n",
        "    {\n",
        "        \"input\": \"How many employees are there\",\n",
        "        \"query\": 'SELECT COUNT(*) FROM \"Employee\"',\n",
        "    },\n",
        "]\n"
      ],
      "metadata": {
        "id": "Rm4OAURsU52K"
      },
      "execution_count": 85,
      "outputs": []
    },
    {
      "cell_type": "code",
      "source": [
        "from langchain_community.vectorstores import FAISS\n",
        "from langchain_core.example_selectors import SemanticSimilarityExampleSelector\n",
        "from langchain_openai import OpenAIEmbeddings\n",
        "\n",
        "example_selector = SemanticSimilarityExampleSelector.from_examples(\n",
        "    examples,\n",
        "    OpenAIEmbeddings(openai_api_key=openai_api_key),\n",
        "    FAISS,\n",
        "    k=5,\n",
        "    input_keys=[\"input\"],\n",
        ")"
      ],
      "metadata": {
        "id": "7mb1EQ90aFTx"
      },
      "execution_count": 86,
      "outputs": []
    },
    {
      "cell_type": "code",
      "source": [
        "from langchain_core.prompts import FewShotPromptTemplate, PromptTemplate\n",
        "\n",
        "example_prompt = PromptTemplate.from_template(\"User input: {input}\\nSQL query: {query}\")\n",
        "prompt = FewShotPromptTemplate(\n",
        "    examples=examples[:5],\n",
        "    example_prompt=example_prompt,\n",
        "    prefix=\"You are a SQLite expert. Given an input question, create a syntactically correct SQLite query to run. Unless otherwise specificed, do not return more than {top_k} rows.\\n\\nHere is the relevant table info: {table_info}\\n\\nBelow are a number of examples of questions and their corresponding SQL queries.\",\n",
        "    suffix=\"User input: {input}\\nSQL query: \",\n",
        "    input_variables=[\"input\", \"top_k\", \"table_info\"],\n",
        ")"
      ],
      "metadata": {
        "id": "BohN6ePjjNXp"
      },
      "execution_count": 89,
      "outputs": []
    },
    {
      "cell_type": "code",
      "source": [
        "print(prompt.format(input=\"How many artists are there?\", top_k=3, table_info=\"foo\"))"
      ],
      "metadata": {
        "colab": {
          "base_uri": "https://localhost:8080/"
        },
        "id": "tdOx9GV6lFm5",
        "outputId": "a44d4da1-eb7d-45d6-cebc-f4ca426a2197"
      },
      "execution_count": 101,
      "outputs": [
        {
          "output_type": "stream",
          "name": "stdout",
          "text": [
            "You are a SQLite expert. Given an input question, create a syntactically correct SQLite query to run. Unless otherwise specificed, do not return more than 3 rows.\n",
            "\n",
            "Here is the relevant table info: foo\n",
            "\n",
            "Below are a number of examples of questions and their corresponding SQL queries.\n",
            "\n",
            "User input: List all artists.\n",
            "SQL query: SELECT * FROM Artist;\n",
            "\n",
            "User input: Find all albums for the artist 'AC/DC'.\n",
            "SQL query: SELECT * FROM Album WHERE ArtistId = (SELECT ArtistId FROM Artist WHERE Name = 'AC/DC');\n",
            "\n",
            "User input: List all tracks in the 'Rock' genre.\n",
            "SQL query: SELECT * FROM Track WHERE GenreId = (SELECT GenreId FROM Genre WHERE Name = 'Rock');\n",
            "\n",
            "User input: Find the total duration of all tracks.\n",
            "SQL query: SELECT SUM(Milliseconds) FROM Track;\n",
            "\n",
            "User input: List all customers from Canada.\n",
            "SQL query: SELECT * FROM Customer WHERE Country = 'Canada';\n",
            "\n",
            "User input: How many artists are there?\n",
            "SQL query: \n"
          ]
        }
      ]
    },
    {
      "cell_type": "code",
      "source": [
        "chain = create_sql_query_chain(llm, db, prompt)\n",
        "chain.invoke({\"question\": \"how many artists are there?\"})"
      ],
      "metadata": {
        "colab": {
          "base_uri": "https://localhost:8080/",
          "height": 35
        },
        "id": "umPROhr0mez9",
        "outputId": "88eb1d23-f17a-4c98-c583-4218227548c8"
      },
      "execution_count": 106,
      "outputs": [
        {
          "output_type": "execute_result",
          "data": {
            "text/plain": [
              "'SELECT COUNT(*) FROM Artist;'"
            ],
            "application/vnd.google.colaboratory.intrinsic+json": {
              "type": "string"
            }
          },
          "metadata": {},
          "execution_count": 106
        }
      ]
    },
    {
      "cell_type": "markdown",
      "source": [
        "# Dynamic few-shot examples\n",
        "If we have enough examples, we may want to only include the most relevant ones in the prompt, either because they don’t fit in the model’s context window or because the long tail of examples distracts the model. And specifically, given any input we want to include the examples most relevant to that input.\n",
        "\n",
        "We can do just this using an ExampleSelector. In this case we’ll use a SemanticSimilarityExampleSelector\n",
        "\n",
        "\n",
        "https://api.python.langchain.com/en/latest/example_selectors/langchain_core.example_selectors.semantic_similarity.SemanticSimilarityExampleSelector.html"
      ],
      "metadata": {
        "id": "r-m2BhuOlKn2"
      }
    },
    {
      "cell_type": "code",
      "source": [
        "from langchain_core.prompts import (\n",
        "    ChatPromptTemplate,\n",
        "    FewShotPromptTemplate,\n",
        "    MessagesPlaceholder,\n",
        "    PromptTemplate,\n",
        "    SystemMessagePromptTemplate,\n",
        ")\n",
        "\n",
        "system_prefix = \"\"\"You are an agent designed to interact with a SQL database.\n",
        "Given an input question, create a syntactically correct {dialect} query to run, then look at the results of the query and return the answer.\n",
        "Unless the user specifies a specific number of examples they wish to obtain, always limit your query to at most {top_k} results.\n",
        "You can order the results by a relevant column to return the most interesting examples in the database.\n",
        "Never query for all the columns from a specific table, only ask for the relevant columns given the question.\n",
        "You have access to tools for interacting with the database.\n",
        "Only use the given tools. Only use the information returned by the tools to construct your final answer.\n",
        "You MUST double check your query before executing it. If you get an error while executing a query, rewrite the query and try again.\n",
        "\n",
        "DO NOT make any DML statements (INSERT, UPDATE, DELETE, DROP etc.) to the database.\n",
        "\n",
        "If the question does not seem related to the database, just return \"I don't know\" as the answer.\n",
        "\n",
        "Here are some examples of user inputs and their corresponding SQL queries:\"\"\"\n",
        "\n",
        "few_shot_prompt = FewShotPromptTemplate(\n",
        "    example_selector=example_selector,\n",
        "    example_prompt=PromptTemplate.from_template(\n",
        "        \"User input: {input}\\nSQL query: {query}\"\n",
        "    ),\n",
        "    input_variables=[\"input\", \"dialect\", \"top_k\"],\n",
        "    prefix=system_prefix,\n",
        "    suffix=\"\",\n",
        ")"
      ],
      "metadata": {
        "id": "PKnAWmEbW2Ao"
      },
      "execution_count": 90,
      "outputs": []
    },
    {
      "cell_type": "code",
      "source": [
        "full_prompt = ChatPromptTemplate.from_messages(\n",
        "    [\n",
        "        SystemMessagePromptTemplate(prompt=few_shot_prompt),\n",
        "        (\"human\", \"{input}\"),\n",
        "        MessagesPlaceholder(\"agent_scratchpad\"),\n",
        "    ]\n",
        ")"
      ],
      "metadata": {
        "id": "cdpq_miEjGxu"
      },
      "execution_count": 102,
      "outputs": []
    },
    {
      "cell_type": "code",
      "source": [
        "# Example formatted prompt\n",
        "prompt_val = full_prompt.invoke(\n",
        "    {\n",
        "        \"input\": \"How many arists are there\",\n",
        "        \"top_k\": 5,\n",
        "        \"dialect\": \"SQLite\",\n",
        "        \"agent_scratchpad\": [],\n",
        "    }\n",
        ")\n",
        "print(prompt_val.to_string())"
      ],
      "metadata": {
        "colab": {
          "base_uri": "https://localhost:8080/"
        },
        "id": "9nEYBL8kl_S0",
        "outputId": "688e6010-4711-4fc0-f710-f6a2e9cb517d"
      },
      "execution_count": 103,
      "outputs": [
        {
          "output_type": "stream",
          "name": "stdout",
          "text": [
            "System: You are an agent designed to interact with a SQL database.\n",
            "Given an input question, create a syntactically correct SQLite query to run, then look at the results of the query and return the answer.\n",
            "Unless the user specifies a specific number of examples they wish to obtain, always limit your query to at most 5 results.\n",
            "You can order the results by a relevant column to return the most interesting examples in the database.\n",
            "Never query for all the columns from a specific table, only ask for the relevant columns given the question.\n",
            "You have access to tools for interacting with the database.\n",
            "Only use the given tools. Only use the information returned by the tools to construct your final answer.\n",
            "You MUST double check your query before executing it. If you get an error while executing a query, rewrite the query and try again.\n",
            "\n",
            "DO NOT make any DML statements (INSERT, UPDATE, DELETE, DROP etc.) to the database.\n",
            "\n",
            "If the question does not seem related to the database, just return \"I don't know\" as the answer.\n",
            "\n",
            "Here are some examples of user inputs and their corresponding SQL queries:\n",
            "\n",
            "User input: List all artists.\n",
            "SQL query: SELECT * FROM Artist;\n",
            "\n",
            "User input: How many employees are there\n",
            "SQL query: SELECT COUNT(*) FROM \"Employee\"\n",
            "\n",
            "User input: How many tracks are there in the album with ID 5?\n",
            "SQL query: SELECT COUNT(*) FROM Track WHERE AlbumId = 5;\n",
            "\n",
            "User input: List all tracks in the 'Rock' genre.\n",
            "SQL query: SELECT * FROM Track WHERE GenreId = (SELECT GenreId FROM Genre WHERE Name = 'Rock');\n",
            "\n",
            "User input: Which albums are from the year 2000?\n",
            "SQL query: SELECT * FROM Album WHERE strftime('%Y', ReleaseDate) = '2000';\n",
            "Human: How many arists are there\n"
          ]
        }
      ]
    },
    {
      "cell_type": "code",
      "source": [
        "agent = create_sql_agent(\n",
        "    llm=llm,\n",
        "    db=db,\n",
        "    prompt=full_prompt,\n",
        "    verbose=True,\n",
        "    agent_type=\"openai-tools\",\n",
        ")"
      ],
      "metadata": {
        "id": "Davp-GgtmDrO"
      },
      "execution_count": 104,
      "outputs": []
    },
    {
      "cell_type": "code",
      "source": [
        "agent.invoke({\"input\": \"How many artists are there?\"})"
      ],
      "metadata": {
        "colab": {
          "base_uri": "https://localhost:8080/"
        },
        "id": "BLd3-uJWmGhi",
        "outputId": "5a86e9b0-1c4d-4498-ec1d-226848f87390"
      },
      "execution_count": 105,
      "outputs": [
        {
          "output_type": "stream",
          "name": "stdout",
          "text": [
            "\n",
            "\n",
            "\u001b[1m> Entering new SQL Agent Executor chain...\u001b[0m\n",
            "\u001b[32;1m\u001b[1;3m\n",
            "Invoking: `sql_db_query` with `{'query': 'SELECT COUNT(*) FROM Artist;'}`\n",
            "\n",
            "\n",
            "\u001b[0m\u001b[36;1m\u001b[1;3m[(275,)]\u001b[0m\u001b[32;1m\u001b[1;3mThere are 275 artists in the database.\u001b[0m\n",
            "\n",
            "\u001b[1m> Finished chain.\u001b[0m\n"
          ]
        },
        {
          "output_type": "execute_result",
          "data": {
            "text/plain": [
              "{'input': 'How many artists are there?',\n",
              " 'output': 'There are 275 artists in the database.'}"
            ]
          },
          "metadata": {},
          "execution_count": 105
        }
      ]
    },
    {
      "cell_type": "markdown",
      "source": [
        "# MessagesPlaceholder\n",
        "Oftentimes inputs to prompts can be a list of messages. This is when you would use a MessagesPlaceholder. These objects are parameterized by a variable_name argument. The input with the same value as this variable_name value should be a list of messages.\n",
        "\n",
        "# The agent_scratchpad has two methods available:\n",
        "\n",
        "_format_docs(docs): This method takes a list of documents as input and formats them into a string. Each document is wrapped in <item> and <page_content> tags, with an index attribute for the item tag.\n",
        "\n",
        "format_agent_scratchpad(intermediate_steps): This method takes a list of intermediate steps as input. Each step is a tuple containing an action and an observation. The method concatenates the log of each action and the formatted observation into a string, which it then returns."
      ],
      "metadata": {
        "id": "PlTdAYINecGH"
      }
    },
    {
      "cell_type": "code",
      "source": [
        "full_prompt = ChatPromptTemplate.from_messages(\n",
        "    [\n",
        "        SystemMessagePromptTemplate(prompt=few_shot_prompt),\n",
        "        (\"human\", \"{input}\"),\n",
        "        MessagesPlaceholder(\"agent_scratchpad\"),\n",
        "    ]\n",
        ")"
      ],
      "metadata": {
        "id": "yfGF2L92W194"
      },
      "execution_count": 107,
      "outputs": []
    },
    {
      "cell_type": "code",
      "source": [
        "# Example formatted prompt\n",
        "prompt_val = full_prompt.invoke(\n",
        "    {\n",
        "        \"input\": \"How many arists are there\",\n",
        "        \"top_k\": 5,\n",
        "        \"dialect\": \"SQLite\",\n",
        "        \"agent_scratchpad\": [],\n",
        "    }\n",
        ")\n",
        "print(prompt_val.to_string())"
      ],
      "metadata": {
        "colab": {
          "base_uri": "https://localhost:8080/"
        },
        "id": "WyWPhYEdW162",
        "outputId": "1ba75de2-a700-4adf-df10-874daf1ad19a"
      },
      "execution_count": 108,
      "outputs": [
        {
          "output_type": "stream",
          "name": "stdout",
          "text": [
            "System: You are an agent designed to interact with a SQL database.\n",
            "Given an input question, create a syntactically correct SQLite query to run, then look at the results of the query and return the answer.\n",
            "Unless the user specifies a specific number of examples they wish to obtain, always limit your query to at most 5 results.\n",
            "You can order the results by a relevant column to return the most interesting examples in the database.\n",
            "Never query for all the columns from a specific table, only ask for the relevant columns given the question.\n",
            "You have access to tools for interacting with the database.\n",
            "Only use the given tools. Only use the information returned by the tools to construct your final answer.\n",
            "You MUST double check your query before executing it. If you get an error while executing a query, rewrite the query and try again.\n",
            "\n",
            "DO NOT make any DML statements (INSERT, UPDATE, DELETE, DROP etc.) to the database.\n",
            "\n",
            "If the question does not seem related to the database, just return \"I don't know\" as the answer.\n",
            "\n",
            "Here are some examples of user inputs and their corresponding SQL queries:\n",
            "\n",
            "User input: List all artists.\n",
            "SQL query: SELECT * FROM Artist;\n",
            "\n",
            "User input: How many employees are there\n",
            "SQL query: SELECT COUNT(*) FROM \"Employee\"\n",
            "\n",
            "User input: How many tracks are there in the album with ID 5?\n",
            "SQL query: SELECT COUNT(*) FROM Track WHERE AlbumId = 5;\n",
            "\n",
            "User input: List all tracks in the 'Rock' genre.\n",
            "SQL query: SELECT * FROM Track WHERE GenreId = (SELECT GenreId FROM Genre WHERE Name = 'Rock');\n",
            "\n",
            "User input: Which albums are from the year 2000?\n",
            "SQL query: SELECT * FROM Album WHERE strftime('%Y', ReleaseDate) = '2000';\n",
            "Human: How many arists are there\n"
          ]
        }
      ]
    },
    {
      "cell_type": "code",
      "source": [
        "agent = create_sql_agent(\n",
        "    llm=llm,\n",
        "    db=db,\n",
        "    prompt=full_prompt,\n",
        "    verbose=True,\n",
        "    agent_type=\"openai-tools\",\n",
        ")"
      ],
      "metadata": {
        "id": "yfem8BpVlYFu"
      },
      "execution_count": 109,
      "outputs": []
    },
    {
      "cell_type": "code",
      "source": [
        "agent.invoke({\"input\": \"How many songs are in the database?\"})"
      ],
      "metadata": {
        "id": "tmHYdVH-W10D",
        "colab": {
          "base_uri": "https://localhost:8080/"
        },
        "outputId": "240ac1f5-e708-4821-e60e-9c7b36f790b6"
      },
      "execution_count": 110,
      "outputs": [
        {
          "output_type": "stream",
          "name": "stdout",
          "text": [
            "\n",
            "\n",
            "\u001b[1m> Entering new SQL Agent Executor chain...\u001b[0m\n",
            "\u001b[32;1m\u001b[1;3m\n",
            "Invoking: `sql_db_query` with `{'query': 'SELECT COUNT(*) FROM Track;'}`\n",
            "\n",
            "\n",
            "\u001b[0m\u001b[36;1m\u001b[1;3m[(3503,)]\u001b[0m\u001b[32;1m\u001b[1;3mThere are 3503 songs in the database.\u001b[0m\n",
            "\n",
            "\u001b[1m> Finished chain.\u001b[0m\n"
          ]
        },
        {
          "output_type": "execute_result",
          "data": {
            "text/plain": [
              "{'input': 'How many songs are in the database?',\n",
              " 'output': 'There are 3503 songs in the database.'}"
            ]
          },
          "metadata": {},
          "execution_count": 110
        }
      ]
    },
    {
      "cell_type": "markdown",
      "source": [
        "# Dialect-specific prompting"
      ],
      "metadata": {
        "id": "UShyOCtYHS6R"
      }
    },
    {
      "cell_type": "code",
      "source": [
        "from langchain.chains.sql_database.prompt import SQL_PROMPTS\n",
        "\n",
        "list(SQL_PROMPTS)"
      ],
      "metadata": {
        "id": "Hx_wlwePUCg7",
        "colab": {
          "base_uri": "https://localhost:8080/"
        },
        "outputId": "d25c469e-5457-487b-8810-092a96c3a781"
      },
      "execution_count": 111,
      "outputs": [
        {
          "output_type": "execute_result",
          "data": {
            "text/plain": [
              "['crate',\n",
              " 'duckdb',\n",
              " 'googlesql',\n",
              " 'mssql',\n",
              " 'mysql',\n",
              " 'mariadb',\n",
              " 'oracle',\n",
              " 'postgresql',\n",
              " 'sqlite',\n",
              " 'clickhouse',\n",
              " 'prestodb']"
            ]
          },
          "metadata": {},
          "execution_count": 111
        }
      ]
    },
    {
      "cell_type": "code",
      "source": [
        "from langchain.chains import create_sql_query_chain\n",
        "from langchain_openai import ChatOpenAI\n",
        "llm=ChatOpenAI(\n",
        "        model=\"gpt-3.5-turbo\", temperature=0, openai_api_key=openai_api_key\n",
        "    )\n",
        "\n",
        "chain = create_sql_query_chain(llm, db)\n",
        "chain.get_prompts()[0].pretty_print()"
      ],
      "metadata": {
        "id": "mElJjeRiVVWU",
        "colab": {
          "base_uri": "https://localhost:8080/"
        },
        "outputId": "95c6ee7b-c2fd-4552-917b-f403e2ee4fe4"
      },
      "execution_count": 112,
      "outputs": [
        {
          "output_type": "stream",
          "name": "stdout",
          "text": [
            "You are a SQLite expert. Given an input question, first create a syntactically correct SQLite query to run, then look at the results of the query and return the answer to the input question.\n",
            "Unless the user specifies in the question a specific number of examples to obtain, query for at most 5 results using the LIMIT clause as per SQLite. You can order the results to return the most informative data in the database.\n",
            "Never query for all columns from a table. You must query only the columns that are needed to answer the question. Wrap each column name in double quotes (\") to denote them as delimited identifiers.\n",
            "Pay attention to use only the column names you can see in the tables below. Be careful to not query for columns that do not exist. Also, pay attention to which column is in which table.\n",
            "Pay attention to use date('now') function to get the current date, if the question involves \"today\".\n",
            "\n",
            "Use the following format:\n",
            "\n",
            "Question: Question here\n",
            "SQLQuery: SQL Query to run\n",
            "SQLResult: Result of the SQLQuery\n",
            "Answer: Final answer here\n",
            "\n",
            "Only use the following tables:\n",
            "\u001b[33;1m\u001b[1;3m{table_info}\u001b[0m\n",
            "\n",
            "Question: \u001b[33;1m\u001b[1;3m{input}\u001b[0m\n"
          ]
        }
      ]
    },
    {
      "cell_type": "code",
      "source": [
        "response = chain.invoke({\"question\":\"Most common song across playlists\"})\n",
        "print('\\n',response)"
      ],
      "metadata": {
        "colab": {
          "base_uri": "https://localhost:8080/"
        },
        "id": "jn9sLcqXfvtT",
        "outputId": "edbab70b-c462-4455-d3a2-43a49c9e20ce"
      },
      "execution_count": 113,
      "outputs": [
        {
          "output_type": "stream",
          "name": "stdout",
          "text": [
            "\n",
            " SELECT t.\"Name\", COUNT(pt.\"TrackId\") AS \"Occurrences\"\n",
            "FROM Track t\n",
            "JOIN PlaylistTrack pt ON t.\"TrackId\" = pt.\"TrackId\"\n",
            "GROUP BY t.\"Name\"\n",
            "ORDER BY \"Occurrences\" DESC\n",
            "LIMIT 1;\n"
          ]
        }
      ]
    },
    {
      "cell_type": "code",
      "source": [
        "response = chain.invoke({\"question\":\"Artists with most popular songs\"})\n",
        "print('\\n',response)"
      ],
      "metadata": {
        "colab": {
          "base_uri": "https://localhost:8080/"
        },
        "id": "pvA6IAZHgbR5",
        "outputId": "3b8468a4-ed0b-4872-820f-fd504e4e59b0"
      },
      "execution_count": 114,
      "outputs": [
        {
          "output_type": "stream",
          "name": "stdout",
          "text": [
            "\n",
            " SELECT \"Artist\".\"Name\", COUNT(\"Track\".\"TrackId\") AS \"PopularSongs\"\n",
            "FROM \"Artist\"\n",
            "JOIN \"Album\" ON \"Artist\".\"ArtistId\" = \"Album\".\"ArtistId\"\n",
            "JOIN \"Track\" ON \"Album\".\"AlbumId\" = \"Track\".\"AlbumId\"\n",
            "GROUP BY \"Artist\".\"ArtistId\"\n",
            "ORDER BY \"PopularSongs\" DESC\n",
            "LIMIT 5;\n"
          ]
        }
      ]
    },
    {
      "cell_type": "markdown",
      "source": [
        "# Query checker\n",
        "\n",
        "the most error-prone part of any SQL chain or agent is writing valid and safe SQL queries. In this guide we’ll go over some strategies for validating our queries and handling invalid queries."
      ],
      "metadata": {
        "id": "SS2GJ9MzIEzZ"
      }
    },
    {
      "cell_type": "code",
      "source": [
        "db.dialect"
      ],
      "metadata": {
        "colab": {
          "base_uri": "https://localhost:8080/",
          "height": 35
        },
        "id": "_HQY_o3XLGjp",
        "outputId": "55a5b18e-884e-4553-b34b-c9eb3fdf7f5d"
      },
      "execution_count": 78,
      "outputs": [
        {
          "output_type": "execute_result",
          "data": {
            "text/plain": [
              "'sqlite'"
            ],
            "application/vnd.google.colaboratory.intrinsic+json": {
              "type": "string"
            }
          },
          "metadata": {},
          "execution_count": 78
        }
      ]
    },
    {
      "cell_type": "code",
      "source": [
        "from langchain_core.output_parsers import StrOutputParser\n",
        "from langchain_core.prompts import ChatPromptTemplate\n",
        "\n",
        "system = \"\"\"You are a {dialect} expert. Given an input question, creat a syntactically correct {dialect} query to run.\n",
        "Unless the user specifies in the question a specific number of examples to obtain, query for at most {top_k} results using the LIMIT clause as per {dialect}. You can order the results to return the most informative data in the database.\n",
        "Never query for all columns from a table. You must query only the columns that are needed to answer the question. Wrap each column name in double quotes (\") to denote them as delimited identifiers.\n",
        "Pay attention to use only the column names you can see in the tables below. Be careful to not query for columns that do not exist. Also, pay attention to which column is in which table.\n",
        "Pay attention to use date('now') function to get the current date, if the question involves \"today\".\n",
        "\n",
        "Only use the following tables:\n",
        "{table_info}\n",
        "\n",
        "Write an initial draft of the query. Then double check the {dialect} query for common mistakes, including:\n",
        "- Using NOT IN with NULL values\n",
        "- Using UNION when UNION ALL should have been used\n",
        "- Using BETWEEN for exclusive ranges\n",
        "- Data type mismatch in predicates\n",
        "- Properly quoting identifiers\n",
        "- Using the correct number of arguments for functions\n",
        "- Casting to the correct data type\n",
        "- Using the proper columns for joins\n",
        "\n",
        "Use format:\n",
        "\n",
        "First draft: <<FIRST_DRAFT_QUERY>>\n",
        "Final answer: <<FINAL_ANSWER_QUERY>>\n",
        "\"\"\"\n",
        "prompt = ChatPromptTemplate.from_messages(\n",
        "    [(\"system\", system), (\"human\", \"{input}\")]\n",
        ").partial(dialect=db.dialect)\n",
        "\n",
        "\n",
        "def parse_final_answer(output: str) -> str:\n",
        "    return output.split(\"Final answer: \")[1]\n",
        "\n",
        "\n",
        "chain = create_sql_query_chain(llm, db, prompt=prompt) | parse_final_answer\n",
        "prompt.pretty_print()\n",
        "\n",
        "\n"
      ],
      "metadata": {
        "id": "9RgigiSZjYdQ",
        "colab": {
          "base_uri": "https://localhost:8080/"
        },
        "outputId": "b46f3571-b468-4a78-e145-9be1c45a1ad7"
      },
      "execution_count": 79,
      "outputs": [
        {
          "output_type": "stream",
          "name": "stdout",
          "text": [
            "================================\u001b[1m System Message \u001b[0m================================\n",
            "\n",
            "You are a \u001b[33;1m\u001b[1;3m{dialect}\u001b[0m expert. Given an input question, creat a syntactically correct \u001b[33;1m\u001b[1;3m{dialect}\u001b[0m query to run.\n",
            "Unless the user specifies in the question a specific number of examples to obtain, query for at most \u001b[33;1m\u001b[1;3m{top_k}\u001b[0m results using the LIMIT clause as per \u001b[33;1m\u001b[1;3m{dialect}\u001b[0m. You can order the results to return the most informative data in the database.\n",
            "Never query for all columns from a table. You must query only the columns that are needed to answer the question. Wrap each column name in double quotes (\") to denote them as delimited identifiers.\n",
            "Pay attention to use only the column names you can see in the tables below. Be careful to not query for columns that do not exist. Also, pay attention to which column is in which table.\n",
            "Pay attention to use date('now') function to get the current date, if the question involves \"today\".\n",
            "\n",
            "Only use the following tables:\n",
            "\u001b[33;1m\u001b[1;3m{table_info}\u001b[0m\n",
            "\n",
            "Write an initial draft of the query. Then double check the \u001b[33;1m\u001b[1;3m{dialect}\u001b[0m query for common mistakes, including:\n",
            "- Using NOT IN with NULL values\n",
            "- Using UNION when UNION ALL should have been used\n",
            "- Using BETWEEN for exclusive ranges\n",
            "- Data type mismatch in predicates\n",
            "- Properly quoting identifiers\n",
            "- Using the correct number of arguments for functions\n",
            "- Casting to the correct data type\n",
            "- Using the proper columns for joins\n",
            "\n",
            "Use format:\n",
            "\n",
            "First draft: <<FIRST_DRAFT_QUERY>>\n",
            "Final answer: <<FINAL_ANSWER_QUERY>>\n",
            "\n",
            "\n",
            "================================\u001b[1m Human Message \u001b[0m=================================\n",
            "\n",
            "\u001b[33;1m\u001b[1;3m{input}\u001b[0m\n"
          ]
        }
      ]
    },
    {
      "cell_type": "code",
      "source": [
        "query = chain.invoke(\n",
        "    {\n",
        "        \"question\": \"What's the average Invoice from  American customers\"\n",
        "    }\n",
        ")\n",
        "pprint.pprint(query)"
      ],
      "metadata": {
        "colab": {
          "base_uri": "https://localhost:8080/"
        },
        "id": "7jqcPzm3jenn",
        "outputId": "05183b97-2ea7-4d8a-cafe-4535a9751cc8"
      },
      "execution_count": 117,
      "outputs": [
        {
          "output_type": "stream",
          "name": "stdout",
          "text": [
            "('SELECT AVG(\"Total\") AS \"AverageInvoice\"\\n'\n",
            " 'FROM \"Invoice\"\\n'\n",
            " 'JOIN \"Customer\" ON \"Invoice\".\"CustomerId\" = \"Customer\".\"CustomerId\"\\n'\n",
            " 'WHERE \"Customer\".\"Country\" = \\'USA\\'')\n"
          ]
        }
      ]
    },
    {
      "cell_type": "code",
      "source": [
        "db.run(query)"
      ],
      "metadata": {
        "colab": {
          "base_uri": "https://localhost:8080/",
          "height": 35
        },
        "id": "9tDzFBp4IZrK",
        "outputId": "200139af-1387-4d4e-cdea-b48e3dec59aa"
      },
      "execution_count": 118,
      "outputs": [
        {
          "output_type": "execute_result",
          "data": {
            "text/plain": [
              "'[(5.747912087912092,)]'"
            ],
            "application/vnd.google.colaboratory.intrinsic+json": {
              "type": "string"
            }
          },
          "metadata": {},
          "execution_count": 118
        }
      ]
    },
    {
      "cell_type": "markdown",
      "source": [
        "# CSV\n",
        "LLMs are great for building question-answering systems over various types of data sources. In this section we’ll go over how to build Q&A systems over data stored in a CSV file(s). Like working with SQL databases, the key to working with CSV files is to give an LLM access to tools for querying and interacting with the data"
      ],
      "metadata": {
        "id": "NVdBorNriqpN"
      }
    },
    {
      "cell_type": "code",
      "source": [
        "import pandas as pd\n",
        "\n",
        "df = pd.read_csv(\"/content/drive/MyDrive/data/titanic.csv\")\n",
        "print(df.shape)\n",
        "print(df.columns.tolist())"
      ],
      "metadata": {
        "colab": {
          "base_uri": "https://localhost:8080/"
        },
        "id": "0Ps3FnO78RQ0",
        "outputId": "04da1cba-5c37-4cae-d7a0-824a575f0ab6"
      },
      "execution_count": 119,
      "outputs": [
        {
          "output_type": "stream",
          "name": "stdout",
          "text": [
            "(887, 8)\n",
            "['Survived', 'Pclass', 'Name', 'Sex', 'Age', 'Siblings/Spouses Aboard', 'Parents/Children Aboard', 'Fare']\n"
          ]
        }
      ]
    },
    {
      "cell_type": "code",
      "source": [
        "import pprint"
      ],
      "metadata": {
        "id": "FgM3v9XciYhF"
      },
      "execution_count": 120,
      "outputs": []
    },
    {
      "cell_type": "code",
      "source": [
        "from langchain_community.utilities import SQLDatabase\n",
        "from sqlalchemy import create_engine\n",
        "\n",
        "engine = create_engine(\"sqlite:///titanic.db\")\n",
        "try:\n",
        "  df.to_sql(\"titanic\", engine, index=False)\n",
        "except:\n",
        "  pass\n"
      ],
      "metadata": {
        "id": "e8mmNehl8Q7j"
      },
      "execution_count": 122,
      "outputs": []
    },
    {
      "cell_type": "code",
      "source": [
        "db = SQLDatabase(engine=engine)\n",
        "print(db.dialect)\n",
        "print(db.get_usable_table_names())\n",
        "db.run(\"SELECT * FROM titanic WHERE Age < 2;\")"
      ],
      "metadata": {
        "colab": {
          "base_uri": "https://localhost:8080/",
          "height": 157
        },
        "id": "gf5OmeRo2ZGL",
        "outputId": "551f163b-6558-4069-aff1-f401f9a8edfd"
      },
      "execution_count": 123,
      "outputs": [
        {
          "output_type": "stream",
          "name": "stdout",
          "text": [
            "sqlite\n",
            "['titanic']\n"
          ]
        },
        {
          "output_type": "execute_result",
          "data": {
            "text/plain": [
              "\"[(1, 2, 'Master. Alden Gates Caldwell', 'male', 0.83, 0, 2, 29.0), (0, 3, 'Master. Eino Viljami Panula', 'male', 1.0, 4, 1, 39.6875), (1, 3, 'Miss. Eleanor Ileen Johnson', 'female', 1.0, 1, 1, 11.1333), (1, 2, 'Master. Richard F Becker', 'male', 1.0, 2, 1, 39.0), (1, 1, 'Master. Hudson Trevor Allison', 'male', 0.92, 1, 2, 151.55), (1, 3, 'Miss. Maria Nakid', 'female', 1.0, 0, 2, 15.7417), (0, 3, 'Master. Sidney Leonard Goodwin', 'male', 1.0, 5, 2, 46.9), (1, 3, 'Miss. Helene Barbara Baclini', 'female', 0.75, 2, 1, 19.2583), (1, 3, 'Miss. Eugenie Baclini', 'female', 0.75, 2, 1, 19.2583), (1, 2, 'Master. Viljo Hamalainen', 'male', 0.67, 1, 1, 14.5), (1, 3, 'Master. Bertram Vere Dean', 'male', 1.0, 1, 2, 20.575), (1, 3, 'Master. Assad Alexander Thomas', 'male', 0.42, 0, 1, 8.5167), (1, 2, 'Master. Andre Mallet', 'male', 1.0, 0, 2, 37.0042), (1, 2, 'Master. George Sibley Richards', 'male', 0.83, 1, 1, 18.75)]\""
            ],
            "application/vnd.google.colaboratory.intrinsic+json": {
              "type": "string"
            }
          },
          "metadata": {},
          "execution_count": 123
        }
      ]
    },
    {
      "cell_type": "code",
      "source": [
        "from langchain_community.agent_toolkits import create_sql_agent\n",
        "from langchain_openai import ChatOpenAI\n",
        "\n",
        "\n",
        "agent_executor = create_sql_agent(llm, db=db, agent_type=\"openai-tools\", verbose=True)"
      ],
      "metadata": {
        "id": "p-43f1DJMD9y"
      },
      "execution_count": 124,
      "outputs": []
    },
    {
      "cell_type": "code",
      "source": [
        "agent_executor.invoke({\"input\": \"what's the average age of survided in the dataset\"})"
      ],
      "metadata": {
        "colab": {
          "base_uri": "https://localhost:8080/"
        },
        "id": "9wiCtSmfMD6Q",
        "outputId": "c552eb16-a7b5-4c5b-a9e1-dca7958c9049"
      },
      "execution_count": 125,
      "outputs": [
        {
          "output_type": "stream",
          "name": "stdout",
          "text": [
            "\n",
            "\n",
            "\u001b[1m> Entering new SQL Agent Executor chain...\u001b[0m\n",
            "\u001b[32;1m\u001b[1;3m\n",
            "Invoking: `sql_db_list_tables` with `{'tool_input': ''}`\n",
            "\n",
            "\n",
            "\u001b[0m\u001b[38;5;200m\u001b[1;3mtitanic\u001b[0m\u001b[32;1m\u001b[1;3m\n",
            "Invoking: `sql_db_schema` with `{'table_names': 'titanic'}`\n",
            "\n",
            "\n",
            "\u001b[0m\u001b[33;1m\u001b[1;3m\n",
            "CREATE TABLE titanic (\n",
            "\t\"Survived\" BIGINT, \n",
            "\t\"Pclass\" BIGINT, \n",
            "\t\"Name\" TEXT, \n",
            "\t\"Sex\" TEXT, \n",
            "\t\"Age\" FLOAT, \n",
            "\t\"Siblings/Spouses Aboard\" BIGINT, \n",
            "\t\"Parents/Children Aboard\" BIGINT, \n",
            "\t\"Fare\" FLOAT\n",
            ")\n",
            "\n",
            "/*\n",
            "3 rows from titanic table:\n",
            "Survived\tPclass\tName\tSex\tAge\tSiblings/Spouses Aboard\tParents/Children Aboard\tFare\n",
            "0\t3\tMr. Owen Harris Braund\tmale\t22.0\t1\t0\t7.25\n",
            "1\t1\tMrs. John Bradley (Florence Briggs Thayer) Cumings\tfemale\t38.0\t1\t0\t71.2833\n",
            "1\t3\tMiss. Laina Heikkinen\tfemale\t26.0\t0\t0\t7.925\n",
            "*/\u001b[0m\u001b[32;1m\u001b[1;3m\n",
            "Invoking: `sql_db_query` with `{'query': 'SELECT AVG(Age) AS Average_Age FROM titanic WHERE Survived = 1'}`\n",
            "\n",
            "\n",
            "\u001b[0m\u001b[36;1m\u001b[1;3m[(28.408391812865496,)]\u001b[0m\u001b[32;1m\u001b[1;3mThe average age of the survivors in the dataset is approximately 28.41 years.\u001b[0m\n",
            "\n",
            "\u001b[1m> Finished chain.\u001b[0m\n"
          ]
        },
        {
          "output_type": "execute_result",
          "data": {
            "text/plain": [
              "{'input': \"what's the average age of survided in the dataset\",\n",
              " 'output': 'The average age of the survivors in the dataset is approximately 28.41 years.'}"
            ]
          },
          "metadata": {},
          "execution_count": 125
        }
      ]
    },
    {
      "cell_type": "markdown",
      "source": [
        "# Pandas"
      ],
      "metadata": {
        "id": "zWPOSb6hMpAW"
      }
    },
    {
      "cell_type": "code",
      "source": [
        "from langchain_core.prompts import ChatPromptTemplate\n",
        "from langchain_experimental.tools import PythonAstREPLTool\n",
        "\n",
        "\n",
        "tool = PythonAstREPLTool(locals={\"df\": df})\n",
        "tool.invoke(\"df['Fare'].mean()\")"
      ],
      "metadata": {
        "colab": {
          "base_uri": "https://localhost:8080/"
        },
        "id": "Voe9fIBSMD3M",
        "outputId": "ec5dde9f-2ccc-48ad-b7e3-97d94447bbae"
      },
      "execution_count": 126,
      "outputs": [
        {
          "output_type": "execute_result",
          "data": {
            "text/plain": [
              "32.30542018038331"
            ]
          },
          "metadata": {},
          "execution_count": 126
        }
      ]
    },
    {
      "cell_type": "code",
      "source": [
        "llm_with_tools = llm.bind_tools([tool], tool_choice=tool.name)\n",
        "response = llm_with_tools.invoke(\n",
        "    \"I have a dataframe 'df' and want to know the correlation between the 'Age' and 'Fare' columns\"\n",
        ")"
      ],
      "metadata": {
        "id": "XHNvMIufMDz1"
      },
      "execution_count": 127,
      "outputs": []
    },
    {
      "cell_type": "code",
      "source": [
        "response.to_json()"
      ],
      "metadata": {
        "colab": {
          "base_uri": "https://localhost:8080/"
        },
        "id": "ybtdaJDqM-e2",
        "outputId": "49269124-e71b-487e-9626-cdf8f023a449"
      },
      "execution_count": 128,
      "outputs": [
        {
          "output_type": "execute_result",
          "data": {
            "text/plain": [
              "{'lc': 1,\n",
              " 'type': 'constructor',\n",
              " 'id': ['langchain', 'schema', 'messages', 'AIMessage'],\n",
              " 'kwargs': {'content': '',\n",
              "  'additional_kwargs': {'tool_calls': [{'id': 'call_mQDHDovoQAZjItnYXEqfTkyZ',\n",
              "     'function': {'arguments': '{\"query\":\"df[[\\'Age\\', \\'Fare\\']].corr()\"}',\n",
              "      'name': 'python_repl_ast'},\n",
              "     'type': 'function'}]},\n",
              "  'name': None,\n",
              "  'id': None}}"
            ]
          },
          "metadata": {},
          "execution_count": 128
        }
      ]
    },
    {
      "cell_type": "markdown",
      "source": [
        "# Agent\n",
        "\n",
        "For complex questions it can be helpful for an LLM to be able to iteratively execute code while maintaining the inputs and outputs of its previous executions. This is where Agents come into play. They allow an LLM to decide how many times a tool needs to be invoked and keep track of the executions it’s made so far. The create_pandas_dataframe_agent is a built-in agent that makes it easy to work with dataframes\n",
        "\n",
        "https://api.python.langchain.com/en/latest/agents/langchain_experimental.agents.agent_toolkits.pandas.base.create_pandas_dataframe_agent.html"
      ],
      "metadata": {
        "id": "xPAecDGwPs-b"
      }
    },
    {
      "cell_type": "code",
      "source": [
        "from langchain_experimental.agents import create_pandas_dataframe_agent\n",
        "\n",
        "agent = create_pandas_dataframe_agent(llm, df, agent_type=\"openai-tools\", verbose=True)\n",
        "agent.invoke(\n",
        "    {\n",
        "        \"input\": \"What's the correlation between age and fare? is that greater than the correlation between fare and survival?\"\n",
        "    }\n",
        ")"
      ],
      "metadata": {
        "colab": {
          "base_uri": "https://localhost:8080/"
        },
        "id": "33wBCTG8M-cV",
        "outputId": "4c840096-686d-428a-c8c9-f50e6dbab9fd"
      },
      "execution_count": 129,
      "outputs": [
        {
          "output_type": "stream",
          "name": "stdout",
          "text": [
            "\n",
            "\n",
            "\u001b[1m> Entering new AgentExecutor chain...\u001b[0m\n",
            "\u001b[32;1m\u001b[1;3m\n",
            "Invoking: `python_repl_ast` with `{'query': \"df[['Age', 'Fare']].corr()\"}`\n",
            "\n",
            "\n",
            "\u001b[0m\u001b[36;1m\u001b[1;3m           Age      Fare\n",
            "Age   1.000000  0.112329\n",
            "Fare  0.112329  1.000000\u001b[0m\u001b[32;1m\u001b[1;3m\n",
            "Invoking: `python_repl_ast` with `{'query': \"df[['Fare', 'Survived']].corr()\"}`\n",
            "\n",
            "\n",
            "\u001b[0m\u001b[36;1m\u001b[1;3m              Fare  Survived\n",
            "Fare      1.000000  0.256179\n",
            "Survived  0.256179  1.000000\u001b[0m\u001b[32;1m\u001b[1;3mThe correlation between age and fare is 0.112, while the correlation between fare and survival is 0.256. Therefore, the correlation between fare and survival is greater than the correlation between age and fare.\u001b[0m\n",
            "\n",
            "\u001b[1m> Finished chain.\u001b[0m\n"
          ]
        },
        {
          "output_type": "execute_result",
          "data": {
            "text/plain": [
              "{'input': \"What's the correlation between age and fare? is that greater than the correlation between fare and survival?\",\n",
              " 'output': 'The correlation between age and fare is 0.112, while the correlation between fare and survival is 0.256. Therefore, the correlation between fare and survival is greater than the correlation between age and fare.'}"
            ]
          },
          "metadata": {},
          "execution_count": 129
        }
      ]
    },
    {
      "cell_type": "code",
      "source": [],
      "metadata": {
        "id": "iq1VzaqfM-T0"
      },
      "execution_count": null,
      "outputs": []
    }
  ]
}