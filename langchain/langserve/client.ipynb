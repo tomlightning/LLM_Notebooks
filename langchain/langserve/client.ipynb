{
 "cells": [
  {
   "cell_type": "markdown",
   "id": "ff0fd7a4-9324-49a6-bce3-4c2e34520443",
   "metadata": {},
   "source": [
    "### Langserve  Introduction\n",
    "LangServe helps developers deploy LangChain runnables and chains as a REST API.\r",
    "<br>\n",
    "\r\n",
    "This library is integrated with FastAPI and uses pydantic for data validation<br>\n",
    "\n",
    "\n",
    "https://github.com/langchain-ai/langserve/tree/mai<br>\n",
    "packages.txt review for necessary libraries\n",
    "<br>\n",
    "### Install\n",
    "\n",
    "pip install \"langserve[all]\"\n",
    "\n",
    "### FastAPI\n",
    "https://fastapi.tiangolo.com/\n",
    "\n",
    "FastAPI is a modern, fast (high-performance), web framework for building APIs with Python 3.8+ based on standard Python type hints.\n",
    "\n",
    "### Pydantic\n",
    "https://docs.pydantic.dev/latest/\n",
    "\n",
    "Pydantic is the most widely used data validation library for Python.\n",
    "\n",
    "### Anthropic\n",
    "https://www.anthropic.com/api\n",
    "\n"
   ]
  },
  {
   "cell_type": "code",
   "execution_count": 64,
   "id": "f41ba5fe-d70b-40c1-bf13-a202fb301c7e",
   "metadata": {},
   "outputs": [],
   "source": [
    "import uuid\n",
    "from langserve import RemoteRunnable\n",
    "\n",
    "conversation_id = str(uuid.uuid4())\n",
    "chat = RemoteRunnable(\"http://localhost:8000/\", cookies={\"user_id\": \"olonok\"})"
   ]
  },
  {
   "cell_type": "code",
   "execution_count": 46,
   "id": "e34ea68b-0fd5-4c2a-b3e1-c08f9255d603",
   "metadata": {},
   "outputs": [
    {
     "data": {
      "text/plain": [
       "'3def3586-fc12-4dc5-974d-0241ab84f733'"
      ]
     },
     "execution_count": 46,
     "metadata": {},
     "output_type": "execute_result"
    }
   ],
   "source": [
    "conversation_id"
   ]
  },
  {
   "cell_type": "code",
   "execution_count": 65,
   "id": "19cdd4c2-448a-4846-a0f5-965c7e44621d",
   "metadata": {},
   "outputs": [
    {
     "data": {
      "text/plain": [
       "AIMessage(content='Hello Olonok, my name is Bob. How can I assist you today?', response_metadata={'token_usage': {'completion_tokens': 17, 'prompt_tokens': 33, 'total_tokens': 50}, 'model_name': 'gpt-3.5-turbo', 'system_fingerprint': 'fp_b28b39ffa8', 'finish_reason': 'stop', 'logprobs': None})"
      ]
     },
     "execution_count": 65,
     "metadata": {},
     "output_type": "execute_result"
    }
   ],
   "source": [
    "chat.invoke({\"human_input\": \"my name is olonok. what is your name?\"}, {'configurable': { 'conversation_id': conversation_id } })\n"
   ]
  },
  {
   "cell_type": "code",
   "execution_count": 66,
   "id": "13bf2e64-f302-4ca1-a926-b8e025a5c740",
   "metadata": {},
   "outputs": [
    {
     "data": {
      "text/plain": [
       "AIMessage(content='Your name is Olonok. How can I assist you today, Olonok?', response_metadata={'token_usage': {'completion_tokens': 18, 'prompt_tokens': 63, 'total_tokens': 81}, 'model_name': 'gpt-3.5-turbo', 'system_fingerprint': 'fp_b28b39ffa8', 'finish_reason': 'stop', 'logprobs': None})"
      ]
     },
     "execution_count": 66,
     "metadata": {},
     "output_type": "execute_result"
    }
   ],
   "source": [
    "chat.invoke({\"human_input\": \"what was my name?\"}, {'configurable': { 'conversation_id': conversation_id } })"
   ]
  },
  {
   "cell_type": "code",
   "execution_count": 49,
   "id": "7b357ab6-625d-4b82-87e3-f3e182b21963",
   "metadata": {},
   "outputs": [],
   "source": [
    "# USe another userId"
   ]
  },
  {
   "cell_type": "code",
   "execution_count": 67,
   "id": "209d60c0-96b2-4e33-bb7e-7c299bec4c56",
   "metadata": {},
   "outputs": [],
   "source": [
    "chat = RemoteRunnable(\"http://localhost:8000/\", cookies={\"user_id\": \"pajaro\"})"
   ]
  },
  {
   "cell_type": "code",
   "execution_count": 68,
   "id": "706340e3-6527-473e-9a55-f51f0ab78e01",
   "metadata": {},
   "outputs": [
    {
     "data": {
      "text/plain": [
       "AIMessage(content='¡Hola! Te llamas Bob. ¿En qué puedo ayudarte hoy?', response_metadata={'token_usage': {'completion_tokens': 16, 'prompt_tokens': 26, 'total_tokens': 42}, 'model_name': 'gpt-3.5-turbo', 'system_fingerprint': 'fp_3bc1b5746c', 'finish_reason': 'stop', 'logprobs': None})"
      ]
     },
     "execution_count": 68,
     "metadata": {},
     "output_type": "execute_result"
    }
   ],
   "source": [
    "\n",
    "chat.invoke({\"human_input\": \"Como me llamo?\"}, {'configurable': { 'conversation_id': conversation_id }})"
   ]
  },
  {
   "cell_type": "code",
   "execution_count": 69,
   "id": "135dce0d-a42f-4f8b-9e60-5a614fb4b02a",
   "metadata": {},
   "outputs": [
    {
     "name": "stdout",
     "output_type": "stream",
     "text": [
      "\n",
      "\n",
      "Sure\n",
      "!\n",
      " Here\n",
      " are\n",
      " the\n",
      " days\n",
      " of\n",
      " the\n",
      " week\n",
      " in\n",
      " German\n",
      ":\n",
      "\n",
      "\n",
      "1\n",
      ".\n",
      " Mont\n",
      "ag\n",
      " (\n",
      "Monday\n",
      ")\n",
      "\n",
      "2\n",
      ".\n",
      " Dien\n",
      "stag\n",
      " (\n",
      "Tuesday\n",
      ")\n",
      "\n",
      "3\n",
      ".\n",
      " Mitt\n",
      "wo\n",
      "ch\n",
      " (\n",
      "Wednesday\n",
      ")\n",
      "\n",
      "4\n",
      ".\n",
      " Don\n",
      "ner\n",
      "stag\n",
      " (\n",
      "Thursday\n",
      ")\n",
      "\n",
      "5\n",
      ".\n",
      " Fre\n",
      "itag\n",
      " (\n",
      "Friday\n",
      ")\n",
      "\n",
      "6\n",
      ".\n",
      " Sam\n",
      "stag\n",
      " (\n",
      "Saturday\n",
      ")\n",
      "\n",
      "7\n",
      ".\n",
      " Son\n",
      "ntag\n",
      " (\n",
      "Sunday\n",
      ")\n",
      "\n",
      "\n",
      "Let\n",
      " me\n",
      " know\n",
      " if\n",
      " you\n",
      " need\n",
      " any\n",
      " more\n",
      " help\n",
      " with\n",
      " German\n",
      " or\n",
      " anything\n",
      " else\n",
      "!\n"
     ]
    }
   ],
   "source": [
    "for chunk in chat.stream({'human_input': \"Can you tell me the days of the week in German?\"},  {'configurable': { 'conversation_id': conversation_id } }):\n",
    "    print()\n",
    "    print(chunk.content, end='', flush=True)"
   ]
  },
  {
   "cell_type": "code",
   "execution_count": 70,
   "id": "07386e69-e501-4cb0-b59c-cef677bb641a",
   "metadata": {},
   "outputs": [
    {
     "data": {
      "text/plain": [
       "'4ed45ab3-a34b-40cc-bebe-7226389668c9'"
      ]
     },
     "execution_count": 70,
     "metadata": {},
     "output_type": "execute_result"
    }
   ],
   "source": [
    "conversation_id"
   ]
  },
  {
   "cell_type": "code",
   "execution_count": 71,
   "id": "1b113ad4-cbc1-470f-a7f7-3240a4832c03",
   "metadata": {},
   "outputs": [
    {
     "name": "stdout",
     "output_type": "stream",
     "text": [
      "Folder PATH listing for volume New Volume\n",
      "Volume serial number is 8679-FF45\n",
      "D:\\REPOS\\LANGSERVE\\CHAT_HISTORIES\n",
      "+---olonok\n",
      "+---pajaro\n"
     ]
    }
   ],
   "source": [
    "!tree chat_histories/"
   ]
  },
  {
   "cell_type": "code",
   "execution_count": 30,
   "id": "f51615a3-b9f4-43a3-b675-71d0570265a9",
   "metadata": {},
   "outputs": [],
   "source": [
    "import json"
   ]
  },
  {
   "cell_type": "code",
   "execution_count": 72,
   "id": "9d388051-6e1c-4255-b3fe-a4405070d47e",
   "metadata": {},
   "outputs": [],
   "source": [
    "with open(\"chat_histories/olonok/4ed45ab3-a34b-40cc-bebe-7226389668c9.json\", \"r\") as f:\n",
    "    c = json.load(f)"
   ]
  },
  {
   "cell_type": "code",
   "execution_count": 73,
   "id": "00c74739-88ed-4d64-ae38-ed16f73c7548",
   "metadata": {},
   "outputs": [
    {
     "data": {
      "text/plain": [
       "[{'type': 'human',\n",
       "  'data': {'content': 'my name is olonok. what is your name?',\n",
       "   'additional_kwargs': {},\n",
       "   'response_metadata': {},\n",
       "   'type': 'human',\n",
       "   'name': None,\n",
       "   'id': None,\n",
       "   'example': False}},\n",
       " {'type': 'ai',\n",
       "  'data': {'content': 'Hello Olonok, my name is Bob. How can I assist you today?',\n",
       "   'additional_kwargs': {},\n",
       "   'response_metadata': {'token_usage': {'completion_tokens': 17,\n",
       "     'prompt_tokens': 33,\n",
       "     'total_tokens': 50},\n",
       "    'model_name': 'gpt-3.5-turbo',\n",
       "    'system_fingerprint': 'fp_b28b39ffa8',\n",
       "    'finish_reason': 'stop',\n",
       "    'logprobs': None},\n",
       "   'type': 'ai',\n",
       "   'name': None,\n",
       "   'id': None,\n",
       "   'example': False}},\n",
       " {'type': 'human',\n",
       "  'data': {'content': 'what was my name?',\n",
       "   'additional_kwargs': {},\n",
       "   'response_metadata': {},\n",
       "   'type': 'human',\n",
       "   'name': None,\n",
       "   'id': None,\n",
       "   'example': False}},\n",
       " {'type': 'ai',\n",
       "  'data': {'content': 'Your name is Olonok. How can I assist you today, Olonok?',\n",
       "   'additional_kwargs': {},\n",
       "   'response_metadata': {'token_usage': {'completion_tokens': 18,\n",
       "     'prompt_tokens': 63,\n",
       "     'total_tokens': 81},\n",
       "    'model_name': 'gpt-3.5-turbo',\n",
       "    'system_fingerprint': 'fp_b28b39ffa8',\n",
       "    'finish_reason': 'stop',\n",
       "    'logprobs': None},\n",
       "   'type': 'ai',\n",
       "   'name': None,\n",
       "   'id': None,\n",
       "   'example': False}}]"
      ]
     },
     "execution_count": 73,
     "metadata": {},
     "output_type": "execute_result"
    }
   ],
   "source": [
    "c"
   ]
  },
  {
   "cell_type": "code",
   "execution_count": 74,
   "id": "3768f643-ee63-49ac-8d08-f00be91db336",
   "metadata": {},
   "outputs": [],
   "source": [
    "with open(\"chat_histories/pajaro/4ed45ab3-a34b-40cc-bebe-7226389668c9.json\", \"r\") as f:\n",
    "    d = json.load(f)"
   ]
  },
  {
   "cell_type": "code",
   "execution_count": 75,
   "id": "0b5a1c86-cee0-434c-97cc-cb595caba0f8",
   "metadata": {},
   "outputs": [
    {
     "data": {
      "text/plain": [
       "[{'type': 'human',\n",
       "  'data': {'content': 'Como me llamo?',\n",
       "   'additional_kwargs': {},\n",
       "   'response_metadata': {},\n",
       "   'type': 'human',\n",
       "   'name': None,\n",
       "   'id': None,\n",
       "   'example': False}},\n",
       " {'type': 'ai',\n",
       "  'data': {'content': '¡Hola! Te llamas Bob. ¿En qué puedo ayudarte hoy?',\n",
       "   'additional_kwargs': {},\n",
       "   'response_metadata': {'token_usage': {'completion_tokens': 16,\n",
       "     'prompt_tokens': 26,\n",
       "     'total_tokens': 42},\n",
       "    'model_name': 'gpt-3.5-turbo',\n",
       "    'system_fingerprint': 'fp_3bc1b5746c',\n",
       "    'finish_reason': 'stop',\n",
       "    'logprobs': None},\n",
       "   'type': 'ai',\n",
       "   'name': None,\n",
       "   'id': None,\n",
       "   'example': False}},\n",
       " {'type': 'human',\n",
       "  'data': {'content': 'Can you tell me the days of the week in German?',\n",
       "   'additional_kwargs': {},\n",
       "   'response_metadata': {},\n",
       "   'type': 'human',\n",
       "   'name': None,\n",
       "   'id': None,\n",
       "   'example': False}},\n",
       " {'type': 'AIMessageChunk',\n",
       "  'data': {'content': 'Sure! Here are the days of the week in German:\\n\\n1. Montag (Monday)\\n2. Dienstag (Tuesday)\\n3. Mittwoch (Wednesday)\\n4. Donnerstag (Thursday)\\n5. Freitag (Friday)\\n6. Samstag (Saturday)\\n7. Sonntag (Sunday)\\n\\nLet me know if you need any more help with German or anything else!',\n",
       "   'additional_kwargs': {},\n",
       "   'response_metadata': {'finish_reason': 'stop'},\n",
       "   'type': 'AIMessageChunk',\n",
       "   'name': None,\n",
       "   'id': None,\n",
       "   'example': False}}]"
      ]
     },
     "execution_count": 75,
     "metadata": {},
     "output_type": "execute_result"
    }
   ],
   "source": [
    "d"
   ]
  },
  {
   "cell_type": "code",
   "execution_count": 76,
   "id": "53399d77-522d-4667-a98a-fa37347ef953",
   "metadata": {},
   "outputs": [
    {
     "data": {
      "text/plain": [
       "AIMessage(content=\" Here's a silly joke about parrots:\\n\\nWhat do you call a parrot that flies upside down? A polygon!\")"
      ]
     },
     "execution_count": 76,
     "metadata": {},
     "output_type": "execute_result"
    }
   ],
   "source": [
    "from langchain.schema import SystemMessage, HumanMessage\n",
    "from langchain.prompts import ChatPromptTemplate\n",
    "from langchain.schema.runnable import RunnableMap\n",
    "from langserve import RemoteRunnable\n",
    "\n",
    "openai = RemoteRunnable(\"http://localhost:8000/openai/\")\n",
    "anthropic = RemoteRunnable(\"http://localhost:8000/anthropic/\")\n",
    "joke_chain = RemoteRunnable(\"http://localhost:8000/joke/\")\n",
    "\n",
    "#joke_chain.invoke({\"topic\": \"parrots\"})\n",
    "\n",
    "# or async\n",
    "await joke_chain.ainvoke({\"topic\": \"parrots\"})\n",
    "\n"
   ]
  },
  {
   "cell_type": "code",
   "execution_count": 77,
   "id": "da388fed-73d3-4499-a4e1-4fcdc3fd7b57",
   "metadata": {},
   "outputs": [
    {
     "name": "stdout",
     "output_type": "stream",
     "text": [
      "content=' *'content='fl'content='uffs'content=' feathers'content=' and'content=' squ'content='awks'content='*'content=' Pol'content='ly'content=' wants'content=' a'content=' crack'content='er'content='!'content=' *'content='til'content='ts'content=' head'content=' side'content=' to'content=' side'content='*'content=' Squ'content='aa'content='awk'content='!'content=' Hello'content='!'content=' *'content='pre'content='ens'content=' wings'content='*'content=' Pretty'content=' bird'content=','content=' pretty'content=' bird'content='!'content=' *'content='ch'content='ir'content='ps'content=' and'content=' whist'content='les'content='*'content=''"
     ]
    }
   ],
   "source": [
    "prompt = [\n",
    "    SystemMessage(content='Act like either a cat or a parrot.'),\n",
    "    HumanMessage(content='Hello!')\n",
    "]\n",
    "\n",
    "# Supports astream\n",
    "async for msg in anthropic.astream(prompt):\n",
    "    print(msg, end=\"\", flush=True)\n",
    "\n"
   ]
  },
  {
   "cell_type": "code",
   "execution_count": 78,
   "id": "e777dade-40a7-4833-ae32-8db9711fda76",
   "metadata": {},
   "outputs": [
    {
     "data": {
      "text/plain": [
       "[{'openai': AIMessage(content=\"In the lush tropical rainforests of South America, there lived a vibrant and colorful community of parrots. These beautiful birds with their striking plumage and melodious voices were known far and wide for their intelligence and playful nature.\\n\\nAmong the many parrots in the forest, there was one named Rio who stood out from the rest. Rio was a young parrot with bright green feathers and a brilliant red tail. He was known for his adventurous spirit and his insatiable curiosity about the world around him.\\n\\nOne day, as Rio was flying through the forest, he came across a group of parrots gathered around a tall tree. Curious to see what was happening, Rio flew closer and saw that there was a family of monkeys living in the tree. The monkeys were chattering and playing, swinging from branch to branch with ease.\\n\\nIntrigued by the monkeys' agility and grace, Rio decided that he wanted to learn how to swing from trees just like them. He approached the monkeys and asked if they could teach him their ways. The monkeys, amused by the young parrot's request, agreed to show him how to swing from the branches.\\n\\nRio spent hours practicing with the monkeys, learning how to use his wings to glide effortlessly through the trees. At first, he stumbled and fell, but with determination and perseverance, he soon became adept at swinging from the branches just like the monkeys.\\n\\nWord of Rio's newfound skill spread throughout the forest, and soon other parrots began to join him in his tree-swinging adventures. The once quiet forest was now filled with the joyful laughter and chatter of the parrots as they soared through the trees, their colorful feathers shimmering in the sunlight.\\n\\nAs Rio's reputation as a skilled tree-swinger grew, he became a legend among the parrots of the forest. He was admired and respected by all for his bravery and his willingness to try new things. Rio had found his calling in life, and he was happiest when he was flying through the treetops, surrounded by his friends and fellow parrots.\\n\\nAnd so, the story of Rio the adventurous parrot spread far and wide, inspiring others to embrace their own unique talents and abilities. The forest was forever changed by Rio's spirit of exploration and his unwavering determination to follow his dreams. And the parrots, with their colorful feathers and melodious voices, continued to thrive in the lush tropical paradise they called home.\", response_metadata={'token_usage': {'completion_tokens': 491, 'prompt_tokens': 15, 'total_tokens': 506}, 'model_name': 'gpt-3.5-turbo', 'system_fingerprint': 'fp_3bc1b5746c', 'finish_reason': 'stop', 'logprobs': None}),\n",
       "  'anthropic': AIMessage(content=\" Here is a long story about parrots:\\n\\nOnce upon a time there was a family of green parrots that lived in a giant tree in a lush, tropical rainforest. There were two parents named Pedro and Perdita, and their three young chicks Paula, Peter, and Priscilla. They loved living in the rainforest as it always provided plenty of food and shelter.\\n\\nEvery morning, the parrot family woke up before sunrise and would fly out to pluck fresh fruit from the nearby trees to eat. They loved mangoes, passionfruit, kiwi, and berries. After eating their fill, the parrots enjoyed taking mud baths to clean their feathers and then sunning themselves to get dry. They had to make sure to keep watch for predators like hawks and snakes though. \\n\\nAs the baby parrots grew, the parents started teaching them how to fly long distances to forage. One day Priscilla flew too far away and got lost. She was frightened but used her loud squawking call to guide her family to rescue her. After that, the parents made sure the chicks didn't stray too far for quite some time. \\n\\nWhen the rainy season came, the parrots had to\")},\n",
       " {'openai': AIMessage(content=\"Once upon a time in a small village nestled in the countryside, there lived a community of cats who were known for their intelligence, grace, and mischievous nature. These cats roamed the streets freely, exploring every nook and cranny of the village, and charming the villagers with their playful antics.\\n\\nOne particular cat named Whiskers was the leader of the group. With his sleek black fur and piercing green eyes, he commanded respect from all the other cats. Whiskers was wise beyond his years and was known for his ability to solve any problem that arose in the village.\\n\\nOne day, a new cat arrived in the village. Her name was Luna, and she had a mysterious air about her. Luna was a beautiful white cat with striking blue eyes, and she immediately caught the attention of Whiskers. The other cats were wary of Luna, as they sensed she was hiding something, but Whiskers was intrigued by her enigmatic presence.\\n\\nAs Luna settled into the village, Whiskers noticed that strange things began happening. Food would go missing from the villagers' homes, and valuable items would disappear without a trace. Whiskers knew that Luna was behind these thefts, but he couldn't understand why she would behave in such a way.\\n\\nDetermined to get to the bottom of the mystery, Whiskers decided to confront Luna. He found her sitting by the river, her fur gleaming in the sunlight. Luna looked up at Whiskers with a mixture of fear and guilt in her eyes, and she confessed that she had been stealing to survive. She had been abandoned by her previous owners and had been struggling to find enough food to eat.\\n\\nWhiskers listened to Luna's story with compassion and understanding. He knew that she had made a mistake, but he also saw the goodness in her heart. Whiskers offered to help Luna find a new home in the village, where she would be welcomed and cared for by the kind villagers.\\n\\nFrom that day on, Luna became a beloved member of the cat community in the village. With Whiskers' guidance, she learned to trust again and to let go of her past mistakes. Together, Whiskers and Luna worked to make the village a better place for all its inhabitants, both feline and human.\\n\\nAnd so, the cats of the village lived happily ever after, their bonds of friendship and love stronger than ever before. Whiskers and Luna became a symbol of forgiveness and redemption, showing that even the most unlikely of companions can find solace and joy in each other's company.\", response_metadata={'token_usage': {'completion_tokens': 521, 'prompt_tokens': 14, 'total_tokens': 535}, 'model_name': 'gpt-3.5-turbo', 'system_fingerprint': 'fp_b28b39ffa8', 'finish_reason': 'stop', 'logprobs': None}),\n",
       "  'anthropic': AIMessage(content=\" Here's a longer story about some cats:\\n\\nFluffy, Mittens, and Trixie were three cats who lived together with their owner Maggie. Fluffy was a big, fluffy orange tabby who loved to eat and take long naps in the sunshine. Mittens was a small black and white tuxedo cat who always seemed to get into mischief, exploring everywhere he could and knocking things off shelves with his tail. Trixie was a tiny calico kitten who loved playing with balls, string, and anything else she could get her paws on. She would bat things around the house for hours.\\n\\nOne sunny day, Maggie let the three cats outside to play in the backyard. Fluffy found a nice patch of grass to sprawl out in and quickly fell asleep. Mittens explored under some bushes, chasing insects and getting leaves stuck to his fur. Trixie amused herself by pouncing on dandelions, chasing butterflies, and stalking a toy mouse Maggie had brought outside. \\n\\nAfter some time, Maggie called them back in for lunch. Trixie came running at the sound of the food hitting her bowl. Mittens wandered in slowly, his belly already full from snacking on spiders and\")}]"
      ]
     },
     "execution_count": 78,
     "metadata": {},
     "output_type": "execute_result"
    }
   ],
   "source": [
    "prompt = ChatPromptTemplate.from_messages(\n",
    "    [(\"human\", \"Tell me a long story about {topic}\")]\n",
    ")\n",
    "\n",
    "# Can define custom chains\n",
    "chain = prompt | RunnableMap({\n",
    "    \"openai\": openai,\n",
    "     \"anthropic\": anthropic,\n",
    "})\n",
    "\n",
    "chain.batch([{\"topic\": \"parrots\"}, {\"topic\": \"cats\"}])"
   ]
  },
  {
   "cell_type": "code",
   "execution_count": 79,
   "id": "c22239a1-66d3-4746-80ef-956f5c80b30a",
   "metadata": {},
   "outputs": [
    {
     "data": {
      "text/plain": [
       "{'output': {'content': \" Why can't a taxi driver solve equations? He always drops passengers off before solving for x!\",\n",
       "  'additional_kwargs': {},\n",
       "  'response_metadata': {},\n",
       "  'type': 'ai',\n",
       "  'name': None,\n",
       "  'id': None,\n",
       "  'example': False},\n",
       " 'callback_events': [],\n",
       " 'metadata': {'run_id': '34ec5310-30d2-45cb-b6ec-7abb05bdc179'}}"
      ]
     },
     "execution_count": 79,
     "metadata": {},
     "output_type": "execute_result"
    }
   ],
   "source": [
    "import requests\n",
    "\n",
    "response = requests.post(\n",
    "    \"http://localhost:8000/joke/invoke\",\n",
    "    json={'input': {'topic': 'taxi-drivers'}}\n",
    ")\n",
    "response.json()"
   ]
  },
  {
   "cell_type": "code",
   "execution_count": null,
   "id": "87f5f7c6-04b7-4ed5-aa5d-7515b55c7c11",
   "metadata": {},
   "outputs": [],
   "source": []
  }
 ],
 "metadata": {
  "kernelspec": {
   "display_name": "Python (azure_ml)",
   "language": "python",
   "name": "azure_ml"
  },
  "language_info": {
   "codemirror_mode": {
    "name": "ipython",
    "version": 3
   },
   "file_extension": ".py",
   "mimetype": "text/x-python",
   "name": "python",
   "nbconvert_exporter": "python",
   "pygments_lexer": "ipython3",
   "version": "3.11.8"
  }
 },
 "nbformat": 4,
 "nbformat_minor": 5
}
