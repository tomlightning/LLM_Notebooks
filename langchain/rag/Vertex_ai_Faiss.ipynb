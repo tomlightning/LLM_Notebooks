{
 "cells": [
  {
   "cell_type": "code",
   "execution_count": 1,
   "id": "bbf8e6a9-cc99-47ba-a913-b6fc86777abd",
   "metadata": {},
   "outputs": [],
   "source": [
    "import os\n",
    "from dotenv import dotenv_values"
   ]
  },
  {
   "cell_type": "code",
   "execution_count": 2,
   "id": "f1b3e9c1-7071-4a43-acc4-0cc2414b4366",
   "metadata": {},
   "outputs": [],
   "source": [
    "config = dotenv_values(\".env\")"
   ]
  },
  {
   "cell_type": "code",
   "execution_count": 3,
   "id": "3e5c79a5-07e6-4a4e-9172-80bf2fc0c072",
   "metadata": {},
   "outputs": [],
   "source": [
    "os.environ['FAISS_ENABLE_GPU']='ON' \n",
    "os.environ['HF_TOKEN'] = config.get(\"HF_TOKEN\")"
   ]
  },
  {
   "cell_type": "code",
   "execution_count": 4,
   "id": "ec46871a-e9f0-4fbd-94af-d6012b7f98dd",
   "metadata": {},
   "outputs": [
    {
     "data": {
      "text/plain": [
       "'ON'"
      ]
     },
     "execution_count": 4,
     "metadata": {},
     "output_type": "execute_result"
    }
   ],
   "source": [
    "os.environ['FAISS_ENABLE_GPU']"
   ]
  },
  {
   "cell_type": "code",
   "execution_count": 4,
   "id": "1772ed49-db2b-4f5c-9a2b-7fd6f6fb0405",
   "metadata": {},
   "outputs": [
    {
     "name": "stdout",
     "output_type": "stream",
     "text": [
      "Requirement already satisfied: faiss-cpu in c:\\users\\user\\appdata\\roaming\\python\\python311\\site-packages (1.8.0)\n",
      "Requirement already satisfied: numpy in c:\\users\\user\\appdata\\roaming\\python\\python311\\site-packages (from faiss-cpu) (1.26.4)\n"
     ]
    }
   ],
   "source": [
    "\n",
    "! pip install --no-binary :all: faiss-cpu"
   ]
  },
  {
   "cell_type": "code",
   "execution_count": 5,
   "id": "16f4a964-c9a3-4246-903b-6d7af256d90f",
   "metadata": {},
   "outputs": [],
   "source": [
    "!pip install -U langchain-google-genai langchain langchain-community langchain-experimental  langchain-text-splitters -q --user"
   ]
  },
  {
   "cell_type": "code",
   "execution_count": 131,
   "id": "54d2e7ca-19c7-4aa8-a270-3c46fb6e7927",
   "metadata": {},
   "outputs": [
    {
     "name": "stderr",
     "output_type": "stream",
     "text": [
      "ERROR: pip's dependency resolver does not currently take into account all the packages that are installed. This behaviour is the source of the following dependency conflicts.\n",
      "optimum 1.18.0 requires transformers[sentencepiece]<4.40.0,>=4.26.0, but you have transformers 4.42.1 which is incompatible.\n",
      "torchvision 0.17.2 requires torch==2.2.2, but you have torch 2.3.1 which is incompatible.\n"
     ]
    }
   ],
   "source": [
    "!pip install sentence_transformers langchain-huggingface --quiet"
   ]
  },
  {
   "cell_type": "code",
   "execution_count": 6,
   "id": "55ce50ee-a746-41fd-aab0-ee5992b39965",
   "metadata": {},
   "outputs": [
    {
     "name": "stdout",
     "output_type": "stream",
     "text": [
      "Note: you may need to restart the kernel to use updated packages.\n"
     ]
    }
   ],
   "source": [
    "%pip install lark --user --quiet"
   ]
  },
  {
   "cell_type": "markdown",
   "id": "c3c08568-8644-47d9-9845-3eefd32ef9c5",
   "metadata": {},
   "source": [
    "# Langchain\n",
    "\n",
    "https://python.langchain.com/v0.1/docs/modules/chains/\n",
    "### ConversationalRetrievalChain\n",
    "https://api.python.langchain.com/en/latest/chains/langchain.chains.conversational_retrieval.base.ConversationalRetrievalChain.html#langchain.chains.conversational_retrieval.base.ConversationalRetrievalChain\n",
    "### RetrievalQA\n",
    "https://api.python.langchain.com/en/latest/chains/langchain.chains.retrieval_qa.base.RetrievalQA.html#langchain.chains.retrieval_qa.base.RetrievalQA\n",
    "\n",
    "### Pdf loader\n",
    "https://python.langchain.com/v0.1/docs/modules/data_connection/document_loaders/pdf/\n",
    "### Google Genai\n",
    "https://python.langchain.com/v0.1/docs/integrations/chat/google_generative_ai/\n",
    "\n",
    "# Vertexai\n",
    "https://cloud.google.com/vertex-ai/docs/general/custom-service-account\n",
    "\n",
    "# GeminiAI\n",
    "https://ai.google.dev/gemini-api/docs/api-key\n",
    "\n",
    "# Faiss\n",
    "https://python.langchain.com/v0.2/docs/integrations/vectorstores/faiss/\n",
    "\n",
    "https://github.com/facebookresearch/faiss/wiki\n",
    "\n",
    "https://engineering.fb.com/2017/03/29/data-infrastructure/faiss-a-library-for-efficient-similarity-search/\n"
   ]
  },
  {
   "cell_type": "code",
   "execution_count": 6,
   "id": "cad5fd6e-2c5f-4825-b862-d88eb610f516",
   "metadata": {},
   "outputs": [],
   "source": [
    "import os, tempfile\n",
    "from langchain.prompts import PromptTemplate\n",
    "\n",
    "\n",
    "from langchain_community.document_loaders import TextLoader\n",
    "from langchain_community.vectorstores import FAISS\n",
    "from langchain.chains import ConversationalRetrievalChain, RetrievalQA\n",
    "\n",
    "from langchain_text_splitters import CharacterTextSplitter\n",
    "from langchain_google_genai import ChatGoogleGenerativeAI, GoogleGenerativeAIEmbeddings\n",
    "from langchain_community.document_loaders import PyPDFLoader\n",
    "from google.oauth2 import service_account\n",
    "from dotenv import dotenv_values\n",
    "import json\n",
    "import vertexai\n",
    "import chromadb.utils.embedding_functions as embedding_functions\n",
    "import uuid\n",
    "import faiss   \n",
    "import itertools\n",
    "import time\n",
    "from langchain_huggingface import HuggingFaceEmbeddings"
   ]
  },
  {
   "cell_type": "code",
   "execution_count": 7,
   "id": "5b778ae7-41c4-4b96-b3eb-9a9aaf83cfdb",
   "metadata": {},
   "outputs": [],
   "source": [
    "config = dotenv_values(\"./keys/.env\")\n",
    "with open(\"./keys/complete-tube-421007-9a7c35cd44e2.json\") as source:\n",
    "    info = json.load(source)\n",
    "\n",
    "vertex_credentials = service_account.Credentials.from_service_account_info(info)\n",
    "vertexai.init(\n",
    "    project=config[\"PROJECT\"],\n",
    "    location=config[\"REGION\"],\n",
    "    credentials=vertex_credentials,\n",
    ")\n",
    "google_api_key = config[\"GEMINI-API-KEY\"]\n",
    "os.environ[\"GEMINI_API_KEY\"] = google_api_key"
   ]
  },
  {
   "cell_type": "code",
   "execution_count": 8,
   "id": "b5ed49b1-c1bc-4f28-8277-7ca1ce2b6dbd",
   "metadata": {},
   "outputs": [
    {
     "data": {
      "text/plain": [
       "'D:\\\\repos\\\\mlflow'"
      ]
     },
     "execution_count": 8,
     "metadata": {},
     "output_type": "execute_result"
    }
   ],
   "source": [
    "ROOT= os.getcwd()\n",
    "ROOT"
   ]
  },
  {
   "cell_type": "code",
   "execution_count": 27,
   "id": "b79a41cf-bcfe-4ec2-aefa-f5277c9a30ee",
   "metadata": {},
   "outputs": [],
   "source": [
    "embeddings_retriever = GoogleGenerativeAIEmbeddings(\n",
    "                        model=\"models/embedding-001\",\n",
    "                        credentials=vertex_credentials,\n",
    "                        google_api_key=google_api_key,\n",
    "                    )\n",
    "\n",
    "\n",
    "#embeddings = HuggingFaceEmbeddings(model_name = \"sentence-transformers/all-mpnet-base-v2\" ,show_progress=True)"
   ]
  },
  {
   "cell_type": "code",
   "execution_count": 24,
   "id": "5c1face3-f7ba-4eff-8087-a6b930455765",
   "metadata": {},
   "outputs": [
    {
     "data": {
      "text/plain": [
       "GoogleGenerativeAIEmbeddings(client=<google.ai.generativelanguage_v1beta.services.generative_service.client.GenerativeServiceClient object at 0x000001F3A317B590>, model='models/embedding-001', task_type=None, google_api_key=SecretStr('**********'), credentials=<google.oauth2.service_account.Credentials object at 0x000001F3F99DBE50>, client_options=None, transport=None, request_options=None)"
      ]
     },
     "execution_count": 24,
     "metadata": {},
     "output_type": "execute_result"
    }
   ],
   "source": [
    "embeddings_retriever"
   ]
  },
  {
   "cell_type": "code",
   "execution_count": 11,
   "id": "4e4227c0-e90f-43fd-a6d3-7b800adc49f4",
   "metadata": {},
   "outputs": [],
   "source": [
    "mypath = \"./docs\"\n",
    "onlyfiles = [f for f in os.listdir(mypath) if os.path.isfile(os.path.join(mypath, f))]"
   ]
  },
  {
   "cell_type": "code",
   "execution_count": 12,
   "id": "eaca6381-03fb-4402-a7d7-b0aed259db3f",
   "metadata": {},
   "outputs": [
    {
     "data": {
      "text/plain": [
       "['Baremo 2015.pdf',\n",
       " 'BAREMO_AMA_BOE_RD_1971-1999.pdf',\n",
       " 'BAREMO_PARA_LA_CALIFICACION_DEL_GRADO_DE_MINUSVALIA_Anexo_I_RD_1971-1999.pdf',\n",
       " 'Clasificación de intervenciòn quirúrgica por nomenclator.pdf',\n",
       " 'enfermedades profesionales de los agricultores.pdf',\n",
       " 'Guia de Valoración Profesional.pdf',\n",
       " 'GUIA_DE_VALORACION_DE_INCAPACIDAD_LABORAL_PARA_AP.pdf',\n",
       " 'ley_enjuiciamiento_civil.pdf',\n",
       " 'Proyecto de Ley Valoracion daÃ±os.pdf',\n",
       " 'Tabla combinada de valoración de minusvalia.pdf',\n",
       " 'Tablas_indemnizatorias_Baremo_2024.pdf',\n",
       " 'Valoración del INSS de enfermedades para incapacidades.pdf']"
      ]
     },
     "execution_count": 12,
     "metadata": {},
     "output_type": "execute_result"
    }
   ],
   "source": [
    "onlyfiles"
   ]
  },
  {
   "cell_type": "code",
   "execution_count": 146,
   "id": "2133ade0-e7fc-4d39-8953-5b8c07cf5f97",
   "metadata": {},
   "outputs": [],
   "source": [
    "def load_file(path):\n",
    "    # load pdf file and transform into Langchain Documents\n",
    "    loader = PyPDFLoader(path)\n",
    "    pages = loader.load_and_split()\n",
    "    return pages\n",
    "\n",
    "def get_docs_to_add_vectorstore(pages, file, category=\"legal\"):\n",
    "    # get components to add to Faiis\n",
    "    documents = []\n",
    "    ids= []\n",
    "    metadatas= []\n",
    "   \n",
    "    for page in pages:\n",
    "\n",
    "        metadatas.append({\"page\": page.metadata.get(\"page\"), \"filename\":file, \"category\":category})\n",
    "        ids.append(uuid.uuid1().hex)\n",
    "        documents.append(page.page_content)\n",
    "\n",
    "        \n",
    "    return  documents,  ids, metadatas "
   ]
  },
  {
   "cell_type": "code",
   "execution_count": 121,
   "id": "90838bc9-369f-4d0a-a683-d4e5bf420146",
   "metadata": {},
   "outputs": [
    {
     "data": {
      "text/plain": [
       "'ca7efe0a09774e3d8502f5c161e72bc2'"
      ]
     },
     "execution_count": 121,
     "metadata": {},
     "output_type": "execute_result"
    }
   ],
   "source": [
    "uuid.uuid4().hex"
   ]
  },
  {
   "cell_type": "code",
   "execution_count": 186,
   "id": "ea6b0578-eec2-4e63-8531-65420f986d26",
   "metadata": {},
   "outputs": [],
   "source": [
    "path = os.path.join(\"docs\", onlyfiles[0])\n",
    "pages = load_file(path)"
   ]
  },
  {
   "cell_type": "code",
   "execution_count": 187,
   "id": "2998c782-c377-4cec-bef3-a97e5b28c3c2",
   "metadata": {},
   "outputs": [
    {
     "data": {
      "text/plain": [
       "'Baremo 2015.pdf'"
      ]
     },
     "execution_count": 187,
     "metadata": {},
     "output_type": "execute_result"
    }
   ],
   "source": [
    "onlyfiles[0]"
   ]
  },
  {
   "cell_type": "code",
   "execution_count": 188,
   "id": "a7b19a4e-ddce-4745-acef-ee7f4c650560",
   "metadata": {},
   "outputs": [],
   "source": [
    "db2 = FAISS.from_documents(pages, embeddings_retriever)"
   ]
  },
  {
   "cell_type": "code",
   "execution_count": 189,
   "id": "97afd21a-7625-4f13-a18a-9f32b435a26f",
   "metadata": {},
   "outputs": [
    {
     "data": {
      "text/plain": [
       "Document(metadata={'source': 'docs\\\\Baremo 2015.pdf', 'page': 0}, page_content='BOLETÍN OFICIAL DEL ESTADO\\nNúm. 228  Miércoles 23 de septiembre de 2015  Sec. I.   Pág. 84473\\nI. DISPOSICIONES GENERALES\\nJEFATURA DEL ESTADO\\n10197 Ley 35/2015, de 22 de septiembre, de reforma del sistema para la valoración \\nde los daños y perjuicios causados a las personas en accidentes de \\ncirculación.\\nFELIPE VI\\nREY DE ESPAÑA\\nA todos los que la presente vieren y entendieren.\\nSabed: Que las Cortes Generales han aprobado y Yo vengo en sancionar la siguiente \\nley:\\nPREÁMBULO\\nI\\nHan transcurrido ya más de veinte años desde la entrada en vigor en 1995 del Sistema \\nde valoración de daños y perjuicios causados a las personas en accidentes de circulación, \\nal que en adelante nos referiremos con el nombre de «Baremo», que figura actualmente \\ncomo Anexo en el Texto Refundido de la Ley sobre responsabilidad civil y seguro en la \\ncirculación de vehículos a motor, aprobado por el Real Decreto Legislativo 8/2004, de 29 \\nde octubre. Durante este tiempo, el conjunto de reformas que en el ámbito comunitario se \\nhan emprendido en relación con el seguro del automóvil, tendentes todas ellas a \\nincrementar la protección a las víctimas mediante la garantía de una indemnización \\nsuficiente, justifican la conveniencia de revisar el sistema con el fin de introducir las \\nmodificaciones necesarias.\\nEn España, una vez transpuestas las sucesivas directivas comunitarias que pretenden \\narmonizar la responsabilidad civil derivada de los accidentes de tráfico y que establecen \\nlos límites cuantitativos que debe cubrir el seguro obligatorio, nos seguimos encontrando \\ncon una enorme disparidad en las cuantías indemnizatorias al compararlas con otros \\npaíses miembros de la Unión Europea, siendo evidente que nuestro país se sitúa detrás \\nde los países europeos más avanzados en esta materia.\\nAsí que no cabe duda de que es necesario reformar el vigente Baremo para que \\ncumpla su función de una forma efectiva, buscando un justo resarcimiento de los perjuicios \\nsufridos por las víctimas y sus familias como consecuencia de un siniestro de tráfico. El \\nprincipio de reparación íntegra de los daños y perjuicios causados no es efectivo en toda \\nsu dimensión, provocando situaciones injustas y en ocasiones dramáticas, con una pérdida \\nañadida de calidad de vida, cuando además, ya se ha sufrido un daño físico, psíquico y \\nmoral, y que impone el deber al legislador de encontrar las formas idóneas que garanticen \\nel cumplimiento de tan importante principio.\\nHay que resaltar que de los riesgos generados por la actividad humana, el específico \\nde la conducción aparece como uno de los más cercanos, de los más habituales, con el \\nque todos coexistimos, ya sea generándolo o sufriendo sus consecuencias en forma de \\ndaños. Por su frecuencia, se trata de un riesgo que tiene un enorme impacto en la realidad \\nsocial y económica de un país.\\nDe ahí la trascendencia de una interpretación uniforme de las reglas del sistema, que \\ndote de certidumbre al perjudicado y a las entidades aseguradoras respecto de la viabilidad \\nde sus respectivas pretensiones, garantizando una respuesta igualitaria ante situaciones \\nidénticas, y que contribuya decisivamente a la rápida solución extrajudicial de los conflictos \\ny, en suma, al equilibrio de recursos y a la dinamización de la actividad económica.\\ncve: BOE-A-2015-10197\\nVerificable en http://www.boe.es')"
      ]
     },
     "execution_count": 189,
     "metadata": {},
     "output_type": "execute_result"
    }
   ],
   "source": [
    "pages[0]"
   ]
  },
  {
   "cell_type": "code",
   "execution_count": 190,
   "id": "d9bc519a-789f-4384-a741-881dd162b320",
   "metadata": {},
   "outputs": [
    {
     "data": {
      "text/plain": [
       "673"
      ]
     },
     "execution_count": 190,
     "metadata": {},
     "output_type": "execute_result"
    }
   ],
   "source": [
    "len(pages)"
   ]
  },
  {
   "cell_type": "code",
   "execution_count": 192,
   "id": "c5332f52-8705-4411-be1c-05dbf9b5c964",
   "metadata": {},
   "outputs": [
    {
     "name": "stdout",
     "output_type": "stream",
     "text": [
      "673\n"
     ]
    }
   ],
   "source": [
    "print(db2.index.ntotal)"
   ]
  },
  {
   "cell_type": "code",
   "execution_count": 193,
   "id": "913b7e54-dfd6-4a36-81e8-0c52ec9e7dc1",
   "metadata": {},
   "outputs": [],
   "source": [
    "query = \"que dice la Disposición final tercera. Título competencial?\"\n",
    "docs = db2.similarity_search(query)"
   ]
  },
  {
   "cell_type": "code",
   "execution_count": 207,
   "id": "2e8a1221-c7de-41e6-a75b-650176a5f24b",
   "metadata": {},
   "outputs": [
    {
     "data": {
      "text/plain": [
       "{'source': 'docs\\\\Baremo 2015.pdf', 'page': 34}"
      ]
     },
     "execution_count": 207,
     "metadata": {},
     "output_type": "execute_result"
    }
   ],
   "source": [
    "docs[3].metadata"
   ]
  },
  {
   "cell_type": "code",
   "execution_count": 206,
   "id": "ebb4a68e-db36-4c4e-a81c-395e0bb0624b",
   "metadata": {},
   "outputs": [
    {
     "name": "stdout",
     "output_type": "stream",
     "text": [
      "BOLETÍN OFICIAL DEL ESTADO\n",
      "Núm. 228  Miércoles 23 de septiembre de 2015  Sec. I.   Pág. 84507\n",
      "Subsección 1.ª Perjuicio personal básico (Disposiciones relativas a la tabla 3.A)\n",
      "Artículo 136.  Determinación de la indemnización del perjuicio personal básico.\n",
      "1. El perjuicio personal básico por lesión temporal es el perjuicio común que se \n",
      "padece desde la fecha del accidente hasta el final del proceso curativo o hasta la \n",
      "estabilización de la lesión y su conversión en secuela.\n",
      "2. Su valoración económica se determina mediante la cantidad diaria \n",
      "establecida en la tabla 3.A.\n",
      "Subsección 2.ª Perjuicio personal particular (Disposiciones relativas a la tabla 3.B)\n",
      "Artículo 137.  Perjuicio personal por pérdida temporal de calidad de vida.\n",
      "La indemnización por pérdida temporal de calidad de vida compensa el perjuicio \n",
      "moral particular que sufre la víctima por el impedimento o la limitación que las \n",
      "lesiones sufridas o su tratamiento producen en su autonomía o desarrollo personal.\n",
      "Artículo 138.  Grados del perjuicio personal por pérdida temporal de calidad de vida.\n",
      "1. El perjuicio por pérdida temporal de calidad de vida puede ser muy grave, \n",
      "grave o moderado.\n",
      "2. El perjuicio muy grave es aquél en el que el lesionado pierde temporalmente \n",
      "su autonomía personal para realizar la casi totalidad de actividades esenciales de la \n",
      "vida ordinaria. El ingreso en una unidad de cuidados intensivos constituye un \n",
      "perjuicio de este grado.\n",
      "3. El perjuicio grave es aquél en el que el lesionado pierde temporalmente su \n",
      "autonomía personal para realizar una parte relevante de las actividades esenciales \n",
      "de la vida ordinaria o la mayor parte de sus actividades específicas de desarrollo \n",
      "personal. La estancia hospitalaria constituye un perjuicio de este grado.\n",
      "4. El perjuicio moderado es aquél en el que el lesionado pierde temporalmente \n",
      "la posibilidad de llevar a cabo una parte relevante de sus actividades específicas de \n",
      "desarrollo personal.\n",
      "5. El impedimento psicofísico para llevar a cabo la actividad laboral o \n",
      "profesional se reconduce a uno de los tres grados precedentes.\n",
      "6. Los grados de perjuicio son excluyentes entre sí y aplicables de modo \n",
      "sucesivo. En todo caso, se asignará un único grado a cada día.\n",
      "Artículo 139.  Medición del perjuicio personal por pérdida temporal de calidad de \n",
      "vida.\n",
      "1. La valoración económica del perjuicio personal por pérdida temporal de \n",
      "calidad de vida se determina mediante la cantidad diaria establecida en la tabla 3.B \n",
      "para cada uno de sus grados.\n",
      "2. La cuantía diaria establecida por cada uno de los grados incorpora ya el \n",
      "importe del perjuicio personal básico.\n",
      "Artículo 140.  Perjuicio personal particular causado por intervenciones quirúrgicas.\n",
      "El perjuicio personal particular que sufre el lesionado por cada intervención \n",
      "quirúrgica a la que se someta se indemniza con una cantidad situada entre el \n",
      "mínimo y el máximo establecido en la tabla 3.B, en atención a las características de \n",
      "la operación, complejidad de la técnica quirúrgica y tipo de anestesia.\n",
      "cve: BOE-A-2015-10197\n",
      "Verificable en http://www.boe.es\n"
     ]
    }
   ],
   "source": [
    "print(docs[3].page_content)"
   ]
  },
  {
   "cell_type": "code",
   "execution_count": 208,
   "id": "50866fb6-bcf1-42c1-a37d-eb0adabac2f3",
   "metadata": {},
   "outputs": [
    {
     "data": {
      "text/plain": [
       "4"
      ]
     },
     "execution_count": 208,
     "metadata": {},
     "output_type": "execute_result"
    }
   ],
   "source": [
    "len(docs)"
   ]
  },
  {
   "cell_type": "code",
   "execution_count": 209,
   "id": "c402f1d0-05b1-4e07-b27c-5b010bfba743",
   "metadata": {},
   "outputs": [],
   "source": [
    "db2.save_local(\"./faiss2\", index_name=\"forensic\")"
   ]
  },
  {
   "cell_type": "code",
   "execution_count": 212,
   "id": "b7b42165-cedd-48ef-a209-f0e1d48c7ec4",
   "metadata": {},
   "outputs": [],
   "source": [
    "db_load =FAISS.load_local(folder_path=\"./faiss2/\", embeddings=embeddings_retriever, index_name=\"forensic\", allow_dangerous_deserialization=True)"
   ]
  },
  {
   "cell_type": "code",
   "execution_count": 213,
   "id": "8ae96ca2-f5bd-4e68-8d44-f0cb54e3b98f",
   "metadata": {},
   "outputs": [],
   "source": [
    "docs = db_load.similarity_search_with_relevance_scores(query)# filter={\"source\" :\"docs\\\\Baremo 2015.pdf\"})"
   ]
  },
  {
   "cell_type": "code",
   "execution_count": 214,
   "id": "b7d864ac-c245-470d-a87b-fe89ecad1a12",
   "metadata": {},
   "outputs": [
    {
     "data": {
      "text/plain": [
       "4"
      ]
     },
     "execution_count": 214,
     "metadata": {},
     "output_type": "execute_result"
    }
   ],
   "source": [
    "len(docs)"
   ]
  },
  {
   "cell_type": "code",
   "execution_count": 215,
   "id": "0511a50b-8d2d-4d61-a4a3-66b699471cf6",
   "metadata": {},
   "outputs": [
    {
     "data": {
      "text/plain": [
       "{'source': 'docs\\\\Baremo 2015.pdf', 'page': 8}"
      ]
     },
     "execution_count": 215,
     "metadata": {},
     "output_type": "execute_result"
    }
   ],
   "source": [
    "docs[0][0].metadata"
   ]
  },
  {
   "cell_type": "code",
   "execution_count": 216,
   "id": "b6b272eb-3ef3-44f6-b35a-dbad1d5ef305",
   "metadata": {},
   "outputs": [
    {
     "data": {
      "text/plain": [
       "'BOLETÍN OFICIAL DEL ESTADO\\nNúm. 228  Miércoles 23 de septiembre de 2015  Sec. I.   Pág. 84481\\nen su caso, el Consorcio de Compensación de Seguros, a una comparecencia en el \\nplazo de cinco días, a fin de que pueda aportarse la oferta o la respuesta motivada, \\no hacerse las alegaciones que consideren convenientes.\\nSi en la comparecencia se produjera acuerdo entre las partes, el mismo será \\nhomologado por el juez con los efectos de una transacción judicial.\\nDe no alcanzarse el acuerdo, se dictará auto de cuantía máxima en el plazo de \\ntres días desde la terminación de la comparecencia y contra el mismo no podrá \\ninterponerse recurso alguno.»\\nSeis. Se introduce un nuevo artículo 14, con el siguiente contenido:\\n«Artículo 14.  Procedimiento de mediación en los casos de controversia.\\n1. En caso de disconformidad con la oferta o la respuesta motivada y, en \\ngeneral, en los casos de controversia, las partes podrán acudir al procedimiento de \\nmediación de conformidad con lo previsto en la Ley 5/2012, de 6 de julio, de \\nmediación en asuntos civiles y mercantiles.\\n2. A tal efecto, será el perjudicado quién podrá solicitar el inicio de una \\nmediación, en el plazo máximo de dos meses, a contar desde el momento que \\nhubiera recibido la oferta o la respuesta motivada o los informes periciales \\ncomplementarios si se hubieran pedido.\\n3. Podrán ejercer esta modalidad de mediación profesionales especializados \\nen responsabilidad civil en el ámbito de la circulación y en el sistema de valoración \\nprevisto en esta Ley, que cuenten con la formación específica para ejercer la \\nmediación en este ámbito. El mediador, además de facilitar la comunicación entre \\nlas partes y velar porque dispongan de la información y el asesoramiento suficientes, \\ndesarrollará una conducta activa tendente a posibilitar un acuerdo entre ellas.\\n4. Recibida la solicitud de mediación, el mediador o la institución de mediación \\ncitará a las partes para la celebración de la sesión informativa. En particular, el \\nmediador informará a las partes de que son plenamente libres de alcanzar o no un \\nacuerdo y de desistir del procedimiento en cualquier momento, así como que la \\nduración de la mediación no podrá ser superior a tres meses, que el acuerdo que \\neventualmente alcancen será vinculante y podrán instar su elevación a escritura \\npública al objeto de configurarlo como un título ejecutivo.»\\nSiete. Se introduce un nuevo Título IV con el siguiente enunciado y contenido:\\n«TÍTULO IV\\nSistema para la valoración de los daños y perjuicios causados \\na las personas en accidentes de circulación\\nCAPÍTULO I\\nCriterios generales para la determinación de la indemnización \\ndel daño corporal\\nSección 1.ª Disposiciones generales\\nArtículo 32.  Ámbito de aplicación y alcance.\\nEste sistema tiene por objeto valorar todos los perjuicios causados a las \\npersonas como consecuencia del daño corporal ocasionado por hechos de la \\ncirculación regulados en esta Ley.\\ncve: BOE-A-2015-10197\\nVerificable en http://www.boe.es'"
      ]
     },
     "execution_count": 216,
     "metadata": {},
     "output_type": "execute_result"
    }
   ],
   "source": [
    "docs[0][0].page_content"
   ]
  },
  {
   "cell_type": "code",
   "execution_count": 217,
   "id": "c2da0eea-f99e-477b-8a4d-a61e600fc66b",
   "metadata": {},
   "outputs": [
    {
     "data": {
      "text/plain": [
       "0.5645298260535585"
      ]
     },
     "execution_count": 217,
     "metadata": {},
     "output_type": "execute_result"
    }
   ],
   "source": [
    "docs[0][1]"
   ]
  },
  {
   "cell_type": "code",
   "execution_count": 147,
   "id": "5fac6753-d249-4980-b224-aff090da7695",
   "metadata": {},
   "outputs": [
    {
     "name": "stdout",
     "output_type": "stream",
     "text": [
      " Loaded file Baremo 2015.pdf with 673 \n",
      "number of documents: 673\n",
      " Loaded file BAREMO_AMA_BOE_RD_1971-1999.pdf with 139 \n",
      "number of documents: 812\n",
      " Loaded file BAREMO_PARA_LA_CALIFICACION_DEL_GRADO_DE_MINUSVALIA_Anexo_I_RD_1971-1999.pdf with 283 \n",
      "number of documents: 1095\n",
      " Loaded file Clasificación de intervenciòn quirúrgica por nomenclator.pdf with 254 \n",
      "number of documents: 1349\n",
      " Loaded file enfermedades profesionales de los agricultores.pdf with 36 \n",
      "number of documents: 1385\n",
      " Loaded file Guia de Valoración Profesional.pdf with 1211 \n",
      "number of documents: 2596\n",
      " Loaded file GUIA_DE_VALORACION_DE_INCAPACIDAD_LABORAL_PARA_AP.pdf with 346 \n",
      "number of documents: 2942\n",
      " Loaded file ley_enjuiciamiento_civil.pdf with 360 \n",
      "number of documents: 3302\n",
      " Loaded file Proyecto de Ley Valoracion daÃ±os.pdf with 47 \n",
      "number of documents: 3349\n",
      " Loaded file Tabla combinada de valoración de minusvalia.pdf with 5 \n",
      "number of documents: 3354\n",
      " Loaded file Tablas_indemnizatorias_Baremo_2024.pdf with 42 \n",
      "number of documents: 3396\n",
      " Loaded file Valoración del INSS de enfermedades para incapacidades.pdf with 411 \n",
      "number of documents: 3807\n"
     ]
    }
   ],
   "source": [
    "# add documents to Faiss\n",
    "documents_all =[]\n",
    "metadatas_all = []\n",
    "ids_all = []\n",
    "category= \"legal\"\n",
    "for file in onlyfiles:\n",
    "    path = os.path.join(\"docs\", file)\n",
    "    pages = load_file(path)\n",
    "    print(f\" Loaded file {file} with {len(pages)} \")\n",
    "    documents,  ids, metadatas = get_docs_to_add_vectorstore(pages, file, category)\n",
    "    # add documents to collection\n",
    "    documents_all = documents_all + documents\n",
    "    metadatas_all = metadatas_all + metadatas\n",
    "    ids_all = ids_all + ids\n",
    "\n",
    "    print(f\"number of documents: {len(documents_all)}\")\n",
    "    "
   ]
  },
  {
   "cell_type": "code",
   "execution_count": 148,
   "id": "ee33743b-29cb-4560-9a5d-07f3095f72bf",
   "metadata": {},
   "outputs": [
    {
     "data": {
      "text/plain": [
       "{'page': 0, 'filename': 'Baremo 2015.pdf', 'category': 'legal'}"
      ]
     },
     "execution_count": 148,
     "metadata": {},
     "output_type": "execute_result"
    }
   ],
   "source": [
    "metadatas_all[0]"
   ]
  },
  {
   "cell_type": "code",
   "execution_count": 149,
   "id": "38875e0b-9dbf-4349-81a3-2e6cb9791c6d",
   "metadata": {},
   "outputs": [
    {
     "data": {
      "text/plain": [
       "'BOLETÍN OFICIAL DEL ESTADO\\nNúm. 228  Miércoles 23 de septiembre de 2015  Sec. I.   Pág. 84473\\nI. DISPOSICIONES GENERALES\\nJEFATURA DEL ESTADO\\n10197 Ley 35/2015, de 22 de septiembre, de reforma del sistema para la valoración \\nde los daños y perjuicios causados a las personas en accidentes de \\ncirculación.\\nFELIPE VI\\nREY DE ESPAÑA\\nA todos los que la presente vieren y entendieren.\\nSabed: Que las Cortes Generales han aprobado y Yo vengo en sancionar la siguiente \\nley:\\nPREÁMBULO\\nI\\nHan transcurrido ya más de veinte años desde la entrada en vigor en 1995 del Sistema \\nde valoración de daños y perjuicios causados a las personas en accidentes de circulación, \\nal que en adelante nos referiremos con el nombre de «Baremo», que figura actualmente \\ncomo Anexo en el Texto Refundido de la Ley sobre responsabilidad civil y seguro en la \\ncirculación de vehículos a motor, aprobado por el Real Decreto Legislativo 8/2004, de 29 \\nde octubre. Durante este tiempo, el conjunto de reformas que en el ámbito comunitario se \\nhan emprendido en relación con el seguro del automóvil, tendentes todas ellas a \\nincrementar la protección a las víctimas mediante la garantía de una indemnización \\nsuficiente, justifican la conveniencia de revisar el sistema con el fin de introducir las \\nmodificaciones necesarias.\\nEn España, una vez transpuestas las sucesivas directivas comunitarias que pretenden \\narmonizar la responsabilidad civil derivada de los accidentes de tráfico y que establecen \\nlos límites cuantitativos que debe cubrir el seguro obligatorio, nos seguimos encontrando \\ncon una enorme disparidad en las cuantías indemnizatorias al compararlas con otros \\npaíses miembros de la Unión Europea, siendo evidente que nuestro país se sitúa detrás \\nde los países europeos más avanzados en esta materia.\\nAsí que no cabe duda de que es necesario reformar el vigente Baremo para que \\ncumpla su función de una forma efectiva, buscando un justo resarcimiento de los perjuicios \\nsufridos por las víctimas y sus familias como consecuencia de un siniestro de tráfico. El \\nprincipio de reparación íntegra de los daños y perjuicios causados no es efectivo en toda \\nsu dimensión, provocando situaciones injustas y en ocasiones dramáticas, con una pérdida \\nañadida de calidad de vida, cuando además, ya se ha sufrido un daño físico, psíquico y \\nmoral, y que impone el deber al legislador de encontrar las formas idóneas que garanticen \\nel cumplimiento de tan importante principio.\\nHay que resaltar que de los riesgos generados por la actividad humana, el específico \\nde la conducción aparece como uno de los más cercanos, de los más habituales, con el \\nque todos coexistimos, ya sea generándolo o sufriendo sus consecuencias en forma de \\ndaños. Por su frecuencia, se trata de un riesgo que tiene un enorme impacto en la realidad \\nsocial y económica de un país.\\nDe ahí la trascendencia de una interpretación uniforme de las reglas del sistema, que \\ndote de certidumbre al perjudicado y a las entidades aseguradoras respecto de la viabilidad \\nde sus respectivas pretensiones, garantizando una respuesta igualitaria ante situaciones \\nidénticas, y que contribuya decisivamente a la rápida solución extrajudicial de los conflictos \\ny, en suma, al equilibrio de recursos y a la dinamización de la actividad económica.\\ncve: BOE-A-2015-10197\\nVerificable en http://www.boe.es'"
      ]
     },
     "execution_count": 149,
     "metadata": {},
     "output_type": "execute_result"
    }
   ],
   "source": [
    "documents_all[0]"
   ]
  },
  {
   "cell_type": "code",
   "execution_count": 150,
   "id": "54c857e6-a493-4de4-b7d1-313718f18840",
   "metadata": {},
   "outputs": [
    {
     "data": {
      "text/plain": [
       "'6f4ac15d3bc011ef86f0f4b3013a69ec'"
      ]
     },
     "execution_count": 150,
     "metadata": {},
     "output_type": "execute_result"
    }
   ],
   "source": [
    "ids_all[0]"
   ]
  },
  {
   "cell_type": "code",
   "execution_count": 151,
   "id": "6fa90be3-3b0a-4b2a-ad99-da9a0fbcc66b",
   "metadata": {},
   "outputs": [],
   "source": [
    "db = FAISS.from_texts(texts=documents_all, embedding=embeddings_retriever, metadatas=metadatas_all, ids=ids_all)"
   ]
  },
  {
   "cell_type": "code",
   "execution_count": 152,
   "id": "54ba2639-5c3c-4b5e-bc62-631e5af64400",
   "metadata": {},
   "outputs": [
    {
     "name": "stdout",
     "output_type": "stream",
     "text": [
      "3807\n"
     ]
    }
   ],
   "source": [
    "print(db.index.ntotal)"
   ]
  },
  {
   "cell_type": "code",
   "execution_count": 153,
   "id": "6e06efac-ca50-417d-a731-21d165d807ba",
   "metadata": {},
   "outputs": [],
   "source": [
    "db.save_local(\"./faiss\", index_name=\"forensic\")"
   ]
  },
  {
   "cell_type": "code",
   "execution_count": 218,
   "id": "13fb8483-ba7f-4832-a71c-d3976c3aa195",
   "metadata": {},
   "outputs": [],
   "source": [
    "db_load_2 =FAISS.load_local(folder_path=\"./faiss/\", embeddings=embeddings_retriever, index_name=\"forensic\", allow_dangerous_deserialization=True)"
   ]
  },
  {
   "cell_type": "code",
   "execution_count": 219,
   "id": "476d3d4e-3b10-41a6-8156-ac77d7cd7d12",
   "metadata": {},
   "outputs": [
    {
     "name": "stdout",
     "output_type": "stream",
     "text": [
      "3807\n"
     ]
    }
   ],
   "source": [
    "print(db_load_2.index.ntotal)"
   ]
  },
  {
   "cell_type": "code",
   "execution_count": 220,
   "id": "a8429f0f-ba1c-433f-91df-b0641fa6d8fb",
   "metadata": {},
   "outputs": [],
   "source": [
    "query = \"Disposición final tercera. Título competencial\""
   ]
  },
  {
   "cell_type": "code",
   "execution_count": 221,
   "id": "168104d8-a8b4-4fe0-a327-22b5e16bd810",
   "metadata": {},
   "outputs": [],
   "source": [
    "docs2 = db_load_2.similarity_search_with_relevance_scores(query)# filter={\"filename\" :\"Baremo 2015.pdf\"})"
   ]
  },
  {
   "cell_type": "code",
   "execution_count": 222,
   "id": "3d3cf00b-3da6-4024-bfb9-3c3a7db82f21",
   "metadata": {},
   "outputs": [
    {
     "data": {
      "text/plain": [
       "4"
      ]
     },
     "execution_count": 222,
     "metadata": {},
     "output_type": "execute_result"
    }
   ],
   "source": [
    "len(docs2)"
   ]
  },
  {
   "cell_type": "code",
   "execution_count": 223,
   "id": "45de4b09-c99f-4427-bf6e-1ebde21bf90f",
   "metadata": {},
   "outputs": [
    {
     "data": {
      "text/plain": [
       "(Document(metadata={'page': 35, 'filename': 'ley_enjuiciamiento_civil.pdf', 'category': 'legal'}, page_content='Art. 60. Conflicto negativo de competencia territorial.– 1. Si la \\ndecisión de inhibición de  un tribunal por falta de  competencia territorial \\nse hubiere adoptado en virtud de declinatoria o con audiencia de todas \\nlas partes, el tribunal al  que se remitieren las actuaciones estará a lo \\ndecidido y no podrá declarar de oficio  su falta de compet encia territorial. \\n2. Si la decisión de inhibición po r falta de competen cia territorial no \\nse hubiese adoptado con audiencia de todas las partes, el tribunal a quien \\nse remitieran las actuaciones podrá declarar de oficio su falta de competencia territorial cuando ésta deba determinarse en virtud de reglas imperativas. \\n3. La resolución que declare la fa lta de competencia mandará remitir \\ntodos los antecedentes al tribunal in mediato superior común, que decidirá \\npor medio de auto, sin ulterior recu rso, el tribunal al que corresponde \\nconocer del asunto, ordenando, en su caso, la remisión de los autos y emplazamiento de las partes, dentro de los diez días siguientes, ante \\ndicho tribunal. \\nSección 3.ª De la competencia funcional \\nArt. 61. Competencia funcional por conexión. –Salvo disposición legal \\nen otro sentido, el trib unal que tenga competencia para conocer de un \\npleito, la tendrá también para resolver  sobre sus incidenc ias, para llevar a \\nefecto las providencias y autos que dictare, y para la ejecución de la \\nsentencia o convenios y transacciones que aprobare. \\nArt. 62. Apreciación de oficio de la competencia para conocer de los \\nrecursos. –1. No serán admitidos a trámit e los recursos dirigidos a un \\ntribunal que carezca de competencia funcional para conocer de los mismos. No obstante lo anterior, si ad mitido un recurso, el tribunal al que \\nse haya dirigido enti ende que no tiene comp etencia funcional para \\nconocer del mismo, dictará auto absteniéndose de conocer previa audiencia de las partes personadas  por plazo común de diez días. \\n2. Notificado el auto a que se refiere el apartado anterior, los \\nlitigantes dispondrán de un plazo de cinco días para la correcta \\ninterposición o anuncio del recurso, qu e se añadirán al plazo legalmente \\nprevisto para dichos trámites. Si sobrepasaren el tiempo resultante sin recurrir en forma, qued ará firme la resolución  de que se trate. \\nCAPÍTULO III \\nD\\nE LA DECLINATORIA  \\nArt. 63. Contenido de la declinatoria, legitimación para proponerla y \\ntribunal competente para conocer de ella. –1. Mediante la declinatoria, el \\ndemandado y los que puedan  ser parte legítima en el juicio promovido \\npodrán denunciar la falta de jurisdi cción del tribunal an te el que se ha \\ninterpuesto la demanda, por corres ponder el conocimiento de ésta a \\ntribunales extranjeros, a órganos de otro orden jurisdiccional o a árbitros. \\nTambién se propondrá declinatoria para denunciar la falta de \\ncompetencia de todo tipo. Si la declinatoria se fundare en la falta de \\ncompetencia territorial, habrá de indicar el tribunal al que, por \\n 34'),\n",
       " 0.621673534788993)"
      ]
     },
     "execution_count": 223,
     "metadata": {},
     "output_type": "execute_result"
    }
   ],
   "source": [
    "docs2[0]"
   ]
  },
  {
   "cell_type": "code",
   "execution_count": 170,
   "id": "555d4206-444c-4788-aaa1-ba1179f4604a",
   "metadata": {},
   "outputs": [],
   "source": [
    "# get vectorstore from Presistem directory"
   ]
  },
  {
   "cell_type": "code",
   "execution_count": 240,
   "id": "10d6959a-0bf3-4e12-8ac4-45e2cfbe51e1",
   "metadata": {},
   "outputs": [],
   "source": [
    "retriever = db.as_retriever(\n",
    "                        search_kwargs={\"k\": 5},\n",
    "     filter={\"filename\" :\"Baremo 2015.pdf\"}\n",
    "                    )"
   ]
  },
  {
   "cell_type": "code",
   "execution_count": 241,
   "id": "6bf31e78-bccc-4c25-81d0-5c244ca2b436",
   "metadata": {},
   "outputs": [
    {
     "data": {
      "text/plain": [
       "('similarity', 'similarity_score_threshold', 'mmr')"
      ]
     },
     "execution_count": 241,
     "metadata": {},
     "output_type": "execute_result"
    }
   ],
   "source": [
    "retriever.allowed_search_types"
   ]
  },
  {
   "cell_type": "code",
   "execution_count": 242,
   "id": "9706df80-0c08-4ef8-9de7-85a162925148",
   "metadata": {},
   "outputs": [],
   "source": [
    "llm = ChatGoogleGenerativeAI(\n",
    "                    model=\"gemini-1.5-pro-001\", credentials=vertex_credentials\n",
    "                )"
   ]
  },
  {
   "cell_type": "code",
   "execution_count": 252,
   "id": "f8610e94-5b22-464c-8260-e358381b0e78",
   "metadata": {},
   "outputs": [],
   "source": [
    "from langchain.chains import ConversationalRetrievalChain, RetrievalQA\n",
    "# filter={\"source\" :\"docs\\\\Baremo 2015.pdf\"}\n",
    "chain = ConversationalRetrievalChain.from_llm(llm, retriever=retriever, return_source_documents=True)"
   ]
  },
  {
   "cell_type": "code",
   "execution_count": 253,
   "id": "5460d16f-5232-4f34-90d4-4f440f605695",
   "metadata": {},
   "outputs": [
    {
     "name": "stdout",
     "output_type": "stream",
     "text": [
      "Hasta 15 años de convivencia, si la victima tenía hasta 67 años 90.000 €\n",
      "Hasta 15 años de convivencia, si la victima tenía desde 67 hasta 80 años 70.000 €\n",
      "Hasta 15 años de convivencia, si la victima tenía más de 80 años 50.000 €\n",
      "Por cada año adicional de convivencia o fracción con independencia de la edad de la victima. 1.000 € \n",
      "\n"
     ]
    }
   ],
   "source": [
    "chat_history = []\n",
    "\n",
    "query = \"Dame INDEMNIZACIONES POR CAUSA DE MUERTE PERJUICIO PERSONAL BÁSICO en la Categoría 1. El Cónyuge viudo,  segun el Boletin OFIcial del es del 2015?\"\n",
    "result = chain.invoke({\"question\": query, \"chat_history\": chat_history})\n",
    "\n",
    "print(result['answer'])"
   ]
  },
  {
   "cell_type": "code",
   "execution_count": 254,
   "id": "e5f558a2-3513-485d-8e55-cf89661bd7d4",
   "metadata": {},
   "outputs": [],
   "source": [
    "#print(result['source_documents'])"
   ]
  },
  {
   "cell_type": "code",
   "execution_count": 255,
   "id": "56d10ca7-1964-41d9-a259-8e6526ceefc5",
   "metadata": {},
   "outputs": [],
   "source": [
    "chat_history = [(query, result[\"answer\"])]"
   ]
  },
  {
   "cell_type": "code",
   "execution_count": 256,
   "id": "bd464871-f6f5-4025-98c2-87d44ba484d3",
   "metadata": {},
   "outputs": [
    {
     "name": "stdout",
     "output_type": "stream",
     "text": [
      "A cada progenitor, si el hijo fallecido tenía hasta 30 años 70.000 €\n",
      "A cada progenitor, si el hijo fallecido tenía más de 30 años 40.000 €\n",
      "A cada abuelo, sólo en caso de premoriencia del progenitor de su rama\n",
      "familiar 20.000 € \n",
      "\n"
     ]
    }
   ],
   "source": [
    "query = \"Y de la misma tabla Categoría 2. Los Ascendientes?\"\n",
    "result = chain.invoke({\"question\": query, \"chat_history\": chat_history})\n",
    "\n",
    "print(result['answer'])"
   ]
  },
  {
   "cell_type": "code",
   "execution_count": 257,
   "id": "83a6f41b-dbbb-43db-9250-79cb4d5dd23d",
   "metadata": {},
   "outputs": [],
   "source": [
    "chat_history = [(query, result[\"answer\"])]"
   ]
  },
  {
   "cell_type": "code",
   "execution_count": 258,
   "id": "48a9717d-9dd8-4e47-8f9a-79154547f07e",
   "metadata": {},
   "outputs": [
    {
     "name": "stdout",
     "output_type": "stream",
     "text": [
      "Lo siento, pero la información proporcionada no contiene una tabla de descendientes ni ninguna referencia a categorías y descendientes. Por lo tanto, no puedo responder a tu pregunta. \n",
      "\n"
     ]
    }
   ],
   "source": [
    "query = \"Y de la misma tabla puedes darme la Categoría 3. Los Descendientes?\"\n",
    "result = chain.invoke({\"question\": query, \"chat_history\": chat_history})\n",
    "\n",
    "print(result['answer'])"
   ]
  },
  {
   "cell_type": "code",
   "execution_count": 259,
   "id": "ebbe64c1-1748-44f3-a67d-a5d7e65b248d",
   "metadata": {},
   "outputs": [],
   "source": [
    "chat_history = [(query, result[\"answer\"])]"
   ]
  },
  {
   "cell_type": "code",
   "execution_count": 260,
   "id": "07f9bd84-f9e6-4ce1-b3c6-540ea5efb2d5",
   "metadata": {},
   "outputs": [
    {
     "name": "stdout",
     "output_type": "stream",
     "text": [
      "I'm sorry, but the provided text does not contain the information needed to answer your question about the third final provision and its competence title. \n",
      "\n"
     ]
    }
   ],
   "source": [
    "query = \"dame la Disposición final tercera. Título competencial\"\n",
    "result = chain.invoke({\"question\": query, \"chat_history\": chat_history})\n",
    "\n",
    "print(result['answer'])"
   ]
  },
  {
   "cell_type": "code",
   "execution_count": 261,
   "id": "10c08eb8-1504-4765-8d0e-e042a8fa8e44",
   "metadata": {},
   "outputs": [],
   "source": [
    "retriever = db.as_retriever(\n",
    "                        search_kwargs={\"k\": 5},\n",
    "     filter={\"filename\" :\"Baremo 2015.pdf\"})"
   ]
  },
  {
   "cell_type": "code",
   "execution_count": 262,
   "id": "987fcc68-4662-4e37-8025-f68697b78605",
   "metadata": {},
   "outputs": [],
   "source": [
    "# Use RetrievalQA chain for orchestration\n",
    "query = \"Dame INDEMNIZACIONES POR CAUSA DE MUERTE PERJUICIO PERSONAL BÁSICO en la Categoría 1. El Cónyuge viudo,  segun el Boletin OFIcial del es del 2015?\"\n",
    "qa = RetrievalQA.from_chain_type(llm=llm, chain_type=\"stuff\", retriever=retriever,  return_source_documents=True)\n",
    "result = qa.invoke(query)\n"
   ]
  },
  {
   "cell_type": "code",
   "execution_count": 263,
   "id": "5f9af637-dc45-4a0f-ba58-ded9bbc8f192",
   "metadata": {},
   "outputs": [
    {
     "data": {
      "text/plain": [
       "dict_keys(['query', 'result', 'source_documents'])"
      ]
     },
     "execution_count": 263,
     "metadata": {},
     "output_type": "execute_result"
    }
   ],
   "source": [
    "result.keys()"
   ]
  },
  {
   "cell_type": "code",
   "execution_count": 264,
   "id": "efd511c8-b6de-4ee3-a58f-c908efa92728",
   "metadata": {},
   "outputs": [
    {
     "data": {
      "text/plain": [
       "'Hasta 15 años de convivencia, si la victima tenía hasta 67 años 90.000 €\\nHasta 15 años de convivencia, si la victima tenía desde 67 hasta 80 años 70.000 €\\nHasta 15 años de convivencia, si la victima tenía más de 80 años 50.000 €\\nPor cada año adicional de convivencia o fracción con independencia de la edad de la victima. 1.000 € \\n'"
      ]
     },
     "execution_count": 264,
     "metadata": {},
     "output_type": "execute_result"
    }
   ],
   "source": [
    "result['result']"
   ]
  },
  {
   "cell_type": "code",
   "execution_count": 265,
   "id": "903ecfdd-fffd-4e01-b1dc-9324e8b70ffb",
   "metadata": {},
   "outputs": [
    {
     "data": {
      "text/plain": [
       "[Document(metadata={'page': 43, 'filename': 'Baremo 2015.pdf', 'category': 'legal'}, page_content='BOLETÍN OFICIAL DEL ESTADO\\nNúm. 228  Miércoles 23 de septiembre de 2015  Sec. I.   Pág. 84516\\nANEXO   \\n \\n    \\n    \\n    Categoría 1. El Cónyuge viudo\\nHasta 15 años de convivencia, si la victima tenía hasta 67 años 90.000 €\\nHasta 15 años de convivencia, si la victima tenía desde 67 hasta 80 años 70.000 €\\nHasta 15 años de convivencia, si la victima tenía más de 80 años 50.000 €\\nPor ca daañoadicionalde conv ivenciaofracción con independenciadela\\nedad de la victima.1.000 €\\nCategoría 2. Los Ascendientes\\nA cada progenitor, si el hijo fallecido tenía hasta 30 años 70.000 €\\nA cada progenitor, si el hijo fallecido tenía más de 30 años 40.000 €\\nA cada abuelo, sólo en caso de premoriencia del progenitor de su rama\\nfamiliar20.000 €\\nCategoría 3. Los Descendientes\\nA cada hijo que tenga hasta 14 años 90.000 €\\nA cada hijo que tenga desde 14 hasta 20 años 80.000 €\\nA cada hijo que tenga desde 20 hasta 30 años 50.000 €\\nA cada hijo que tenga más de 30 años 20.000 €\\nA cada nieto, sólo en caso de premoriencia del progenitor hijo del abuelo\\nfallecido15.000 €\\nCategoría 4. Los Hermanos\\nA cada hermano que tenga hasta 30 años. 20.000 €\\nA cada hermano que tenga más de 30 años. 15.000 €\\nCategoría 5. Los Allegados\\nA cada allegado 10.000 €INDEMNIZACIONES POR CAUSA DE MUERTE\\nPERJUICIO PERSONAL B ÁSICOTABLA 1.ATablas \\ncve: BOE-A-2015-10197\\nVerificable en http://www.boe.es'),\n",
       " Document(metadata={'page': 44, 'filename': 'Baremo 2015.pdf', 'category': 'legal'}, page_content='BOLETÍN OFICIAL DEL ESTADO\\nNúm. 228  Miércoles 23 de septiembre de 2015  Sec. I.   Pág. 84517   \\n \\n    \\n    \\n     \\nIncrementos\\nsobre perjuicio \\npersonal básico\\nA cada progenitor, si el hijo fallecido tenía más de 30 años. 30.000 €\\nA cada abuelo, en su caso. 10.000 €\\nA cada hijo que tenga más de 30 años. 30.000 €\\nA cada nieto, en su caso. 7.500 €\\nA cada hermano que tenga más de 30 años. 5.000 €\\n3. Perjudicado único de su categoría 25%\\n4. Perjudicado único familiar 25%\\nA cada hijo que tenga hasta 20 años 50%\\nA cada hijo que tenga más de 20 años 25%\\nA cada hijo que tenga hasta 20 años 70%\\nA cada hijo que tenga más de 20 años 35%\\n7. Fallecimiento del único hijo 25%\\nSi la pérdida tuvo lugar en las primeras 12 semanas de gestación 15.000 €\\nSi la pérdida tuvo lugar a partir de las 12 semanas de gestación 30.000 €\\n9. Perjuicio Excepcional Hasta 25%2. Convivencia del perjudicado con la víctima.INDEMNIZACIONES POR CAUSA DE MUERTE\\nTABLA 1.B \\nPERJUICIO PERSONAL PARTICULAR  \\nPERJUICIOS PARTICULARES\\n1. Discapacidad física o psíquica del perjudicado previa o a resulta sdel\\naccidente. Del 25% al 75%\\n5. Fallecimiento del progenitor único\\n6. Fallecimiento de ambos progenitores en accidente:\\n8. Fallecimiento de víctima embarazada con pérdida de feto: \\n \\n  \\ncve: BOE-A-2015-10197\\nVerificable en http://www.boe.es'),\n",
       " Document(metadata={'page': 447, 'filename': 'Baremo 2015.pdf', 'category': 'legal'}, page_content='BOLETÍN OFICIAL DEL ESTADO\\nNúm. 228  Miércoles 23 de septiembre de 2015  Sec. I.   Pág. 84920   \\n \\n    \\n    \\n    1. Daños morales complementarios por perjuicio psicofisico\\nCuando una sola secuela alcanza al menos 60 puntos o el re sultado de las concurrentes alcanza al menos 80 puntos. De 19.200 € hasta 96.000 €\\n2. Daños morales complementarios por perjuicio estéticoCuando alcanza  al menos 36 puntos. De 9.600 € hasta 48.000 €\\n3. Perjuicio moral por pérdida de calidad de vida ocasionada por las secuelas\\nMuy Grave De 90.000 € hasta 150.000 €\\nGrave De 40.000 € hasta 100.000 €\\nModerado De 10.000 € hasta 50.000 €\\nLeve De 1.500 € hasta 15.000 €\\n4. Perjuicio moral por pérdida de calidad de vida de los familiares de grandes lesionados De 30.000 € hasta 145.000 €\\n5. Pérdida de feto a consecuencia del accidente\\nSi la pérdida tuvo lugar en las primeras 12 semanas de gestación\\nSi la pérdida tuvo lugar a partir de las 12 semanas de gestación\\n6. Perjuicio ExcepcionalINDEMNIZACIONES POR SECUELAS\\nTABLA 2.B\\nPERJUICIOS PARTICULARESPERJUICIO PERSONAL PARTICULAR\\n15.000 €\\n30.000 €\\nHasta 25%\\n \\n \\n \\nINDEMNIZACIONES POR SECUELAS  \\nTABLA 2. C  \\nPERJUICIO PATRIMONIAL \\nDAÑO EMERGENTE \\nGastos de asistencia sanitaria futura, prótesis y ortesis, y rehabilitación domiciliaria y ambulatoria  \\n1. Gastos previsibles de asistencia  sanitaria futura según secuela Tabla 2.C.1 \\n2. Prótesis y ortesis Hasta 50.000€ por recambio \\n3. Rehabilitación domiciliaria y ambulatoria \\nEstados vegetativos crónicos y tetraplejias igual o por encima de C-4 Hasta 13.500€ anuales \\nTetraplejias, Tetraparesias graves, secuelas graves del lenguaje y trastornos graves neuropsicológicos Hasta 9.500€ anuales \\nResto de supuestos del artículo 116.4 Hasta 5.850€ anuales \\nGastos por pérdida de autonomía personal \\n3. Ayudas técnicas Hasta 150.000 € \\n4. Adecuación de vivienda Hasta 150.000€ \\n5. Incremento de Los co stes de movilidad Hasta 60.000 € \\n6. Ayuda de tercera persona \\nTabla de horas de ayuda a domicilio según secuela Tabla 2.C.2 \\nTabla de indemnizaciones de ayuda de tercera persona Tabla 2.C.3 \\nTABLAS DE LUCRO CESANTE \\nPOR INCAPACIDAD PARA REALIZAR CUAL QUIER TRABAJO O ACTIVIDAD PROFESIONAL del art. 129 a) (ABSOLUTA) Tabla 2. C.4 \\nPOR INCAPACIDAD PARA REALIZAR SU TRABAJO O ACTIVIDAD PROFESIONAL del art . 129 b) (TOTAL) Tabla 2.C.5 \\nPOR INCAPACIDAD QUE DE ORIGEN A UNA DISMINUCI ÓN PARCIAL DE INGRESOS EN EL EJERCICIO DE SU TRABAJO O \\nACTIVIDAD HABITUAL del art. 129 c) (PARCIAL) Tabla 2.C.6 \\nPOR INCAPACIDAD ABSOLUTA DE LESIONADO PENDIENTE DE ACCE DER AL MERCADO LABORAL del ar t. art. 130 c) Tabla 2.C.7 \\nPOR INCAPACIDAD TOTAL DE LESIONADO PE NDIENTE DE ACCEDER AL MERCADO LABORA L del art. art. 130 d) Tabla 2.C.8 \\n     \\ncve: BOE-A-2015-10197\\nVerificable en http://www.boe.es'),\n",
       " Document(metadata={'page': 499, 'filename': 'Baremo 2015.pdf', 'category': 'legal'}, page_content='BOLETÍN OFICIAL DEL ESTADO\\nNúm. 228  Miércoles 23 de septiembre de 2015  Sec. I.   Pág. 84972   \\n \\n    \\n    \\n     \\n  \\n INDEMNIZACIONES POR LESIONES TEMPORALES\\nTabla 3\\nTabla 3.A Perjuicio Personal Básico\\nIndemnización por día 30 €\\nTabla 3.B Perjuicio Personal Particular \\nPor pérdida temporal de calidad de vida\\nMuy Grave 100 €\\nGrave 75 €\\nModerado 52 €\\nPor cada intervención quirúrgica De 400 € hasta 1.600 €\\nTabla 3.C Perjuicio Patrimonial\\nGastos de asistencia sanitaria su importe\\nGastos diversos resarcibles su importe\\nLucro cesante su importeIndemnización por día (incluye la indemnización por perjuicio básico)\\n \\n \\n \\n \\n \\n \\ncve: BOE-A-2015-10197\\nVerificable en http://www.boe.es'),\n",
       " Document(metadata={'page': 18, 'filename': 'Proyecto de Ley Valoracion daÃ±os.pdf', 'category': 'legal'}, page_content='19  Artículo 72. Perjuicio particular del perjudicado familiar único .  \\n \\nLa condición de perjudicado familiar único constitu ye un perjuicio particular que se resarce \\nmediante un incremento del veinticinco por ciento d e la indemnización por perjuicio \\npersonal básico. \\n \\nArtículo 73. Perjuicio particular por fallecimiento del progenit or único.  \\n \\nEl fallecimiento del único progenitor vivo del perj udicado constituye un perjuicio particular \\nque se resarce mediante un incremento de la indemni zación por perjuicio personal básico \\ndel: \\n \\na) Cincuenta por ciento, en el caso de hijos de has ta veinte años. \\nb) Veinticinco por ciento, en el caso de hijos mayo res de veinte años. \\n \\nArtículo 74. Perjuicio particular por fallecimiento de ambos pro genitores en el mismo \\naccidente. \\n \\nEl fallecimiento de ambos progenitores en el mismo accidente constituye un perjuicio \\nparticular que se resarce mediante un incremento de  la indemnización por perjuicio \\npersonal básico por la muerte de cada progenitor de l: \\n \\na) Setenta por ciento, en el caso de hijos de hasta  veinte años. \\nb) Treinta y cinco por ciento, en el caso de hijos mayores de veinte años. \\n \\nArtículo 75. Perjuicio particular por fallecimiento del hijo úni co.  \\n \\nEl fallecimiento del único hijo del perjudicado con stituye un perjuicio particular que se \\nresarce mediante un incremento del veinticinco por ciento de la indemnización por perjuicio \\npersonal básico. \\n \\nArtículo 76. Perjuicio particular por fallecimiento de víctima e mbarazada con pérdida de \\nfeto.  \\n \\nEl fallecimiento de víctima embarazada con pérdida de feto a consecuencia del accidente \\nconstituye un perjuicio particular que se resarce m ediante una cantidad fija que percibe el \\ncónyuge. Dicha cantidad es superior si la pérdida d e feto tiene lugar una vez transcurridas \\ndoce semanas de gestación. \\n \\nArtículo 77. Perjuicio excepcional.')]"
      ]
     },
     "execution_count": 265,
     "metadata": {},
     "output_type": "execute_result"
    }
   ],
   "source": [
    "result['source_documents']"
   ]
  },
  {
   "cell_type": "code",
   "execution_count": null,
   "id": "a94ab6d4-671f-44d8-8b12-e81a4ed3cae4",
   "metadata": {},
   "outputs": [],
   "source": []
  }
 ],
 "metadata": {
  "kernelspec": {
   "display_name": "Python (vertex)",
   "language": "python",
   "name": "vertex"
  },
  "language_info": {
   "codemirror_mode": {
    "name": "ipython",
    "version": 3
   },
   "file_extension": ".py",
   "mimetype": "text/x-python",
   "name": "python",
   "nbconvert_exporter": "python",
   "pygments_lexer": "ipython3",
   "version": "3.11.7"
  }
 },
 "nbformat": 4,
 "nbformat_minor": 5
}
