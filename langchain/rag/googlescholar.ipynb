{
 "cells": [
  {
   "cell_type": "markdown",
   "id": "8ae9a9c5-15e3-47f1-a8c7-f381ed87286d",
   "metadata": {},
   "source": [
    "# Google Scholar\n",
    "https://scholar.google.com/\n",
    "Google Scholar provides a simple way to broadly search for scholarly literature. From one place, you can search across many disciplines and sources: articles, theses, books, abstracts and court opinions, from academic publishers, professional societies, online repositories, universities and other web sites. Google Scholar helps you find relevant work across the world of scholarly research\n",
    "\n",
    "# Langchain\n",
    "\n",
    "### Agents\n",
    "https://python.langchain.com/v0.1/docs/modules/agents/\n",
    "https://python.langchain.com/v0.1/docs/modules/agents/agent_types/\n",
    "\n",
    "### Semantic Scholar\n",
    "https://python.langchain.com/v0.2/docs/integrations/tools/semanticscholar/\n",
    "\n",
    "### Google Genai\n",
    "https://python.langchain.com/v0.1/docs/integrations/chat/google_generative_ai/\n",
    "\n",
    "# Vertexai\n",
    "https://cloud.google.com/vertex-ai/docs/general/custom-service-account\n",
    "\n",
    "# GeminiAI\n",
    "https://ai.google.dev/gemini-api/docs/api-key"
   ]
  },
  {
   "cell_type": "code",
   "execution_count": 1,
   "id": "e38f73c1-18ae-4c2d-bcc3-f50d8985c28a",
   "metadata": {},
   "outputs": [
    {
     "name": "stdout",
     "output_type": "stream",
     "text": [
      "Note: you may need to restart the kernel to use updated packages.\n"
     ]
    }
   ],
   "source": [
    "%pip install --upgrade --quiet  semanticscholar langchainhub google-cloud-aiplatform langchain-google-genai langchain langchain-community langchain-experimental langchain-openai langchain-pinecone langchain-text-splitters -q --user"
   ]
  },
  {
   "cell_type": "code",
   "execution_count": 1,
   "id": "c70d8e17-0f44-4f20-9013-5153f89e1965",
   "metadata": {},
   "outputs": [],
   "source": [
    "from dotenv import dotenv_values"
   ]
  },
  {
   "cell_type": "code",
   "execution_count": 2,
   "id": "1cd96b56-d7b6-4f54-af2f-767fd76bbcba",
   "metadata": {},
   "outputs": [],
   "source": [
    "config = dotenv_values(\".env\")"
   ]
  },
  {
   "cell_type": "code",
   "execution_count": 4,
   "id": "0a7e8018-ad21-4d31-acc6-568f87a60fb9",
   "metadata": {},
   "outputs": [],
   "source": [
    "from langchain import hub\n",
    "from langchain.agents import AgentExecutor, create_openai_functions_agent, create_tool_calling_agent\n",
    "from langchain_core.prompts import ChatPromptTemplate\n",
    "from langchain_openai import ChatOpenAI\n",
    "from langchain_google_genai import ChatGoogleGenerativeAI, GoogleGenerativeAIEmbeddings\n",
    "from google.oauth2 import service_account\n",
    "import vertexai\n",
    "import json\n",
    "import os\n"
   ]
  },
  {
   "cell_type": "code",
   "execution_count": 5,
   "id": "510b8abb-a161-4666-888b-2471c21e3322",
   "metadata": {},
   "outputs": [],
   "source": [
    "openai_api_key = config[\"KEY_OPENAI\"]\n",
    "os.environ[\"GEMINI_API_KEY\"] = config['GOOGLE_API_KEY']\n",
    "# os.environ[\"GOOGLE_API_KEY\"] = config.get(\"GOOGLE_API_KEY\")\n",
    "# os.environ[\"GOOGLE_CSE_ID\"] = config.get(\"GOOGLE_CSE_ID\")"
   ]
  },
  {
   "cell_type": "code",
   "execution_count": 6,
   "id": "da6c1faa-4306-45d0-877e-4d157156f742",
   "metadata": {},
   "outputs": [],
   "source": [
    "with open(\"keys/complete-tube-421007-9a7c35cd44e2.json\") as source:\n",
    "    info = json.load(source)\n",
    "\n",
    "vertex_credentials = service_account.Credentials.from_service_account_info(info)\n",
    "vertexai.init(\n",
    "    project=config[\"PROJECT\"],\n",
    "    location=config[\"REGION\"],\n",
    "    credentials=vertex_credentials,\n",
    ")\n",
    "google_api_key = config[\"GEMINI-API-KEY\"]\n",
    "os.environ[\"GEMINI_API_KEY\"] = google_api_key"
   ]
  },
  {
   "cell_type": "code",
   "execution_count": 7,
   "id": "88fa0882-3769-4944-80bd-bfe13f81e285",
   "metadata": {},
   "outputs": [],
   "source": [
    "# Open AI Prompt\n",
    "instructions = \"\"\"You are an expert researcher.\"\"\"\n",
    "base_prompt = hub.pull(\"langchain-ai/openai-functions-template\")\n",
    "prompt = base_prompt.partial(instructions=instructions)"
   ]
  },
  {
   "cell_type": "code",
   "execution_count": 8,
   "id": "d1f50325-9c5a-4f4b-ba80-92216723656f",
   "metadata": {},
   "outputs": [],
   "source": [
    "# Generic Prompt\n",
    "\n",
    "prompt = ChatPromptTemplate.from_messages(\n",
    "    [\n",
    "        (\n",
    "            \"system\",\n",
    "            \"You are an expert researcher.\",\n",
    "        ),\n",
    "        (\"placeholder\", \"{chat_history}\"),\n",
    "        (\"human\", \"{input}\"),\n",
    "        (\"placeholder\", \"{agent_scratchpad}\"),\n",
    "    ]\n",
    ")"
   ]
  },
  {
   "cell_type": "code",
   "execution_count": 31,
   "id": "1c6035e0-124e-4c3a-a16b-11d984157f22",
   "metadata": {},
   "outputs": [],
   "source": [
    "llm = ChatOpenAI(temperature=0, api_key= openai_api_key, model=\"gpt-4o\")"
   ]
  },
  {
   "cell_type": "code",
   "execution_count": 9,
   "id": "ddba7b57-0272-4ce9-8041-bde12b97c712",
   "metadata": {},
   "outputs": [],
   "source": [
    "llm = ChatGoogleGenerativeAI(\n",
    "                    model=\"gemini-1.5-pro-001\", credentials=vertex_credentials, google_api_key=config['GOOGLE_API_KEY'], max_output_tokens=8192\n",
    "\n",
    "                )"
   ]
  },
  {
   "cell_type": "code",
   "execution_count": 32,
   "id": "95796631-9265-47a6-aadd-5d0bf11b0f67",
   "metadata": {},
   "outputs": [],
   "source": [
    "from langchain_community.tools.semanticscholar.tool import SemanticScholarQueryRun\n",
    "from langchain_community.utilities.semanticscholar import SemanticScholarAPIWrapper\n",
    "\n",
    "api_wrapper = SemanticScholarAPIWrapper(doc_content_chars_max=1000, top_k_results=5)\n",
    "tools = [SemanticScholarQueryRun(api_wrapper=api_wrapper)]"
   ]
  },
  {
   "cell_type": "markdown",
   "id": "756eae1e-f714-4106-9dd1-9be7d0cf5bf0",
   "metadata": {},
   "source": [
    "### https://python.langchain.com/v0.1/docs/modules/agents/agent_types/tool_calling/"
   ]
  },
  {
   "cell_type": "code",
   "execution_count": 33,
   "id": "5ca36c28-afc1-461d-b711-5a695f0d9128",
   "metadata": {},
   "outputs": [],
   "source": [
    "# Open AI\n",
    "#agent = create_openai_functions_agent(llm, tools, prompt)\n",
    "# generic\n",
    "agent = create_tool_calling_agent(llm, tools, prompt)"
   ]
  },
  {
   "cell_type": "code",
   "execution_count": 35,
   "id": "907b9ad4-ad0b-4432-aa19-bedc561fae54",
   "metadata": {},
   "outputs": [],
   "source": [
    "agent_executor = AgentExecutor(\n",
    "    agent=agent,\n",
    "    tools=tools,\n",
    "    verbose=True,\n",
    ")"
   ]
  },
  {
   "cell_type": "code",
   "execution_count": 36,
   "id": "f5a28798-343d-485d-acb6-35c454254426",
   "metadata": {},
   "outputs": [
    {
     "name": "stdout",
     "output_type": "stream",
     "text": [
      "\n",
      "\n",
      "\u001b[1m> Entering new AgentExecutor chain...\u001b[0m\n",
      "\u001b[32;1m\u001b[1;3m\n",
      "Invoking: `semanticscholar` with `{'query': 'SAPHO syndrome symptoms and treatment'}`\n",
      "\n",
      "\n",
      "\u001b[0m\u001b[36;1m\u001b[1;3mPublished year: 2022\n",
      "Title: Exceptional response of skin symptoms to secukinumab treatment in a patient with SAPHO syndrome: Case report and literature review\n",
      "Authors: Q. Ji, Qing Wang, Wenping Pan, Yanfeng Hou, Xiu-hong Wang, Lin Bian, Zhankui Wang\n",
      "Astract: Rationale: SAPHO syndrome is a rare clinical entity characterized by a wide range of dermatological and musculoskeletal manifestations. Treatment strategies are not standardized. Palmoplantar pustulosis (PPP) is the most common rash in patients with SAPHO syndrome. Patient concerns: A 24-year-old Chinese woman with no relevant medical or familial history had a 1-year history of cutaneous lesions with PPP and pain in the sternoclavicular joint. Diagnosis: Based on the diagnostic criteria for SAPHO syndrome proposed by Nguyen et al in 2012, we diagnosed SAPHO syndrome with severe PPP as the predominant manifestation. Interventions: Due to the limited therapeutic efficacy of methotrexate and cyclosporin, we started therapy with subcut\u001b[0m\u001b[32;1m\u001b[1;3m\n",
      "Invoking: `semanticscholar` with `{'query': 'SAPHO syndrome review'}`\n",
      "\n",
      "\n",
      "\u001b[0m\u001b[36;1m\u001b[1;3mPublished year: 2015\n",
      "Title: Thrombotic manifestations in SAPHO syndrome. Review of the literature.\n",
      "Authors: T. Carranco-Medina, C. Hidalgo-Calleja, I. Calero-Paniagua, M. D. Sánchez-González, A. Quesada-Moreno, R. Usategui-Martín, L. Pérez-Garrido, S. Gómez-Castro, C. Montilla-Morales, O. Martínez-González, J. del Pino-Montes\n",
      "Astract: None\n",
      "\n",
      "\n",
      "Published year: 2015\n",
      "Title: Thrombotic Manifestations in SAPHO Syndrome. Review of the Literature\n",
      "Authors: T. Carranco-Medina, C. Hidalgo-Calleja, I. Calero-Paniagua, M. D. Sánchez-González, A. Quesada-Moreno, R. Usategui-Martín, L. Pérez-Garrido, S. Gómez-Castro, C. Montilla-Morales, O. Martínez-González, J. pino-Montes\n",
      "Astract: None\n",
      "\n",
      "\n",
      "Published year: 2023\n",
      "Title: SAPHO syndrome after COVID-19 vaccination complicated with thyroid function abnormalities: a case report and literature review\n",
      "Authors: Jia Lin, B. Bai\n",
      "Astract: None\n",
      "\n",
      "\n",
      "Published year: 2023\n",
      "Title: Successful treatment of SAPHO syndrome (chronic nonbacterial osteomyelitis and acne) with ana\u001b[0m\u001b[32;1m\u001b[1;3m### List of Papers\n",
      "\n",
      "1. **Exceptional response of skin symptoms to secukinumab treatment in a patient with SAPHO syndrome: Case report and literature review**\n",
      "   - **Authors**: Q. Ji, Qing Wang, Wenping Pan, Yanfeng Hou, Xiu-hong Wang, Lin Bian, Zhankui Wang\n",
      "   - **Published Year**: 2022\n",
      "   - **Abstract**: SAPHO syndrome is a rare clinical entity characterized by a wide range of dermatological and musculoskeletal manifestations. Treatment strategies are not standardized. Palmoplantar pustulosis (PPP) is the most common rash in patients with SAPHO syndrome.\n",
      "\n",
      "2. **Thrombotic manifestations in SAPHO syndrome. Review of the literature.**\n",
      "   - **Authors**: T. Carranco-Medina, C. Hidalgo-Calleja, I. Calero-Paniagua, M. D. Sánchez-González, A. Quesada-Moreno, R. Usategui-Martín, L. Pérez-Garrido, S. Gómez-Castro, C. Montilla-Morales, O. Martínez-González, J. del Pino-Montes\n",
      "   - **Published Year**: 2015\n",
      "   - **Abstract**: None\n",
      "\n",
      "3. **SAPHO syndrome after COVID-19 vaccination complicated with thyroid function abnormalities: a case report and literature review**\n",
      "   - **Authors**: Jia Lin, B. Bai\n",
      "   - **Published Year**: 2023\n",
      "   - **Abstract**: None\n",
      "\n",
      "4. **Successful treatment of SAPHO syndrome (chronic nonbacterial osteomyelitis and acne) with ana**\n",
      "   - **Authors**: Not fully listed\n",
      "   - **Published Year**: 2023\n",
      "   - **Abstract**: None\n",
      "\n",
      "### Description/Symptoms\n",
      "\n",
      "SAPHO syndrome is an acronym that stands for Synovitis, Acne, Pustulosis, Hyperostosis, and Osteitis. It is a rare and complex disorder that primarily affects the skin and bones. The syndrome is characterized by a combination of dermatological and musculoskeletal symptoms.\n",
      "\n",
      "**Main Symptoms:**\n",
      "1. **Dermatological Symptoms:**\n",
      "   - **Palmoplantar Pustulosis (PPP)**: The most common skin manifestation, characterized by pustules on the palms and soles.\n",
      "   - **Acne**: Severe acne, often resistant to conventional treatments.\n",
      "   - **Pustular Psoriasis**: Pustules and scaling on the skin.\n",
      "\n",
      "2. **Musculoskeletal Symptoms:**\n",
      "   - **Synovitis**: Inflammation of the synovial membrane, leading to joint pain and swelling.\n",
      "   - **Hyperostosis**: Excessive bone growth, often affecting the anterior chest wall, spine, and pelvis.\n",
      "   - **Osteitis**: Inflammation of the bone, causing pain and tenderness.\n",
      "\n",
      "### Treatment\n",
      "\n",
      "Treatment for SAPHO syndrome is not standardized and often requires a multidisciplinary approach. The choice of treatment depends on the severity and specific manifestations of the syndrome in each patient.\n",
      "\n",
      "**Common Treatment Strategies:**\n",
      "1. **Nonsteroidal Anti-Inflammatory Drugs (NSAIDs)**: Used to reduce pain and inflammation.\n",
      "2. **Antibiotics**: Although SAPHO is not caused by bacterial infection, antibiotics like azithromycin have shown some efficacy.\n",
      "3. **Disease-Modifying Antirheumatic Drugs (DMARDs)**: Methotrexate and sulfasalazine are commonly used.\n",
      "4. **Biologic Agents**: TNF inhibitors (e.g., infliximab, adalimumab) and IL-17 inhibitors (e.g., secukinumab) have shown promising results, especially in refractory cases.\n",
      "5. **Corticosteroids**: Used for severe inflammation but not recommended for long-term use due to side effects.\n",
      "6. **Bisphosphonates**: Used to treat hyperostosis and osteitis by inhibiting bone resorption.\n",
      "\n",
      "**Case-Specific Treatments:**\n",
      "- **Secukinumab**: A case report highlighted the exceptional response of skin symptoms to secukinumab treatment in a patient with severe PPP.\n",
      "- **Ana**: Another case report indicated successful treatment of chronic nonbacterial osteomyelitis and acne with an unspecified treatment, suggesting the need for further research.\n",
      "\n",
      "In conclusion, SAPHO syndrome requires a tailored treatment plan, often involving a combination of medications to manage both skin and bone symptoms effectively.\u001b[0m\n",
      "\n",
      "\u001b[1m> Finished chain.\u001b[0m\n"
     ]
    }
   ],
   "source": [
    "response = agent_executor.invoke(\n",
    "    {\n",
    "        \"input\": \"\"\"query: What is the SAPHO syndrome and what are the symptoms?\n",
    "                    Instruction for output:\n",
    "                    - Show me a list of papers and techniques. \n",
    "                    - Based on your findings write a description, main symptoms and how to treat them\n",
    "                    - Create 3 different sections: List of papers, Description/ symptoms and treatment. \n",
    "                    - Use search tool\"\"\"\n",
    "    }\n",
    ")"
   ]
  },
  {
   "cell_type": "code",
   "execution_count": 37,
   "id": "94e1b409-9f2e-43d3-a7a5-48c7fac36968",
   "metadata": {},
   "outputs": [
    {
     "data": {
      "text/plain": [
       "dict_keys(['input', 'output'])"
      ]
     },
     "execution_count": 37,
     "metadata": {},
     "output_type": "execute_result"
    }
   ],
   "source": [
    "response.keys()"
   ]
  },
  {
   "cell_type": "code",
   "execution_count": 38,
   "id": "0740d057-2506-424d-b689-38f7a5cdcf80",
   "metadata": {},
   "outputs": [
    {
     "name": "stdout",
     "output_type": "stream",
     "text": [
      "### List of Papers\n",
      "\n",
      "1. **Exceptional response of skin symptoms to secukinumab treatment in a patient with SAPHO syndrome: Case report and literature review**\n",
      "   - **Authors**: Q. Ji, Qing Wang, Wenping Pan, Yanfeng Hou, Xiu-hong Wang, Lin Bian, Zhankui Wang\n",
      "   - **Published Year**: 2022\n",
      "   - **Abstract**: SAPHO syndrome is a rare clinical entity characterized by a wide range of dermatological and musculoskeletal manifestations. Treatment strategies are not standardized. Palmoplantar pustulosis (PPP) is the most common rash in patients with SAPHO syndrome.\n",
      "\n",
      "2. **Thrombotic manifestations in SAPHO syndrome. Review of the literature.**\n",
      "   - **Authors**: T. Carranco-Medina, C. Hidalgo-Calleja, I. Calero-Paniagua, M. D. Sánchez-González, A. Quesada-Moreno, R. Usategui-Martín, L. Pérez-Garrido, S. Gómez-Castro, C. Montilla-Morales, O. Martínez-González, J. del Pino-Montes\n",
      "   - **Published Year**: 2015\n",
      "   - **Abstract**: None\n",
      "\n",
      "3. **SAPHO syndrome after COVID-19 vaccination complicated with thyroid function abnormalities: a case report and literature review**\n",
      "   - **Authors**: Jia Lin, B. Bai\n",
      "   - **Published Year**: 2023\n",
      "   - **Abstract**: None\n",
      "\n",
      "4. **Successful treatment of SAPHO syndrome (chronic nonbacterial osteomyelitis and acne) with ana**\n",
      "   - **Authors**: Not fully listed\n",
      "   - **Published Year**: 2023\n",
      "   - **Abstract**: None\n",
      "\n",
      "### Description/Symptoms\n",
      "\n",
      "SAPHO syndrome is an acronym that stands for Synovitis, Acne, Pustulosis, Hyperostosis, and Osteitis. It is a rare and complex disorder that primarily affects the skin and bones. The syndrome is characterized by a combination of dermatological and musculoskeletal symptoms.\n",
      "\n",
      "**Main Symptoms:**\n",
      "1. **Dermatological Symptoms:**\n",
      "   - **Palmoplantar Pustulosis (PPP)**: The most common skin manifestation, characterized by pustules on the palms and soles.\n",
      "   - **Acne**: Severe acne, often resistant to conventional treatments.\n",
      "   - **Pustular Psoriasis**: Pustules and scaling on the skin.\n",
      "\n",
      "2. **Musculoskeletal Symptoms:**\n",
      "   - **Synovitis**: Inflammation of the synovial membrane, leading to joint pain and swelling.\n",
      "   - **Hyperostosis**: Excessive bone growth, often affecting the anterior chest wall, spine, and pelvis.\n",
      "   - **Osteitis**: Inflammation of the bone, causing pain and tenderness.\n",
      "\n",
      "### Treatment\n",
      "\n",
      "Treatment for SAPHO syndrome is not standardized and often requires a multidisciplinary approach. The choice of treatment depends on the severity and specific manifestations of the syndrome in each patient.\n",
      "\n",
      "**Common Treatment Strategies:**\n",
      "1. **Nonsteroidal Anti-Inflammatory Drugs (NSAIDs)**: Used to reduce pain and inflammation.\n",
      "2. **Antibiotics**: Although SAPHO is not caused by bacterial infection, antibiotics like azithromycin have shown some efficacy.\n",
      "3. **Disease-Modifying Antirheumatic Drugs (DMARDs)**: Methotrexate and sulfasalazine are commonly used.\n",
      "4. **Biologic Agents**: TNF inhibitors (e.g., infliximab, adalimumab) and IL-17 inhibitors (e.g., secukinumab) have shown promising results, especially in refractory cases.\n",
      "5. **Corticosteroids**: Used for severe inflammation but not recommended for long-term use due to side effects.\n",
      "6. **Bisphosphonates**: Used to treat hyperostosis and osteitis by inhibiting bone resorption.\n",
      "\n",
      "**Case-Specific Treatments:**\n",
      "- **Secukinumab**: A case report highlighted the exceptional response of skin symptoms to secukinumab treatment in a patient with severe PPP.\n",
      "- **Ana**: Another case report indicated successful treatment of chronic nonbacterial osteomyelitis and acne with an unspecified treatment, suggesting the need for further research.\n",
      "\n",
      "In conclusion, SAPHO syndrome requires a tailored treatment plan, often involving a combination of medications to manage both skin and bone symptoms effectively.\n"
     ]
    }
   ],
   "source": [
    "print(response['output'])"
   ]
  },
  {
   "cell_type": "code",
   "execution_count": 30,
   "id": "1716bd15-9065-4ccb-ae8b-bb6aaf4b976b",
   "metadata": {},
   "outputs": [
    {
     "name": "stdout",
     "output_type": "stream",
     "text": [
      "query: What is the SAPHO syndrome and what are the symptoms?\n",
      "                    Instruction for output:\n",
      "                    - Show me a list of papers and techniques. \n",
      "                    - Based on your findings write a description, main symptoms and how to treat them\n",
      "                    - Create 3 different sections: List of papers, Description/ symptoms and treatment. \n",
      "                    - Use search tool\n"
     ]
    }
   ],
   "source": [
    "print(response['input'])"
   ]
  },
  {
   "cell_type": "code",
   "execution_count": null,
   "id": "fbb4bf9a-672d-4b18-9aff-24d5dd5f01f6",
   "metadata": {},
   "outputs": [],
   "source": []
  }
 ],
 "metadata": {
  "kernelspec": {
   "display_name": "Python (vertex)",
   "language": "python",
   "name": "vertex"
  },
  "language_info": {
   "codemirror_mode": {
    "name": "ipython",
    "version": 3
   },
   "file_extension": ".py",
   "mimetype": "text/x-python",
   "name": "python",
   "nbconvert_exporter": "python",
   "pygments_lexer": "ipython3",
   "version": "3.11.7"
  }
 },
 "nbformat": 4,
 "nbformat_minor": 5
}
