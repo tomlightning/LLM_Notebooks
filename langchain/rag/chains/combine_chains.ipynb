{
 "cells": [
  {
   "cell_type": "code",
   "execution_count": 1,
   "id": "16f4a964-c9a3-4246-903b-6d7af256d90f",
   "metadata": {},
   "outputs": [],
   "source": [
    "#! pip install -U langchain-google-genai langchain langchain-community langchain-experimental langchain-openai langchain-pinecone langchain-text-splitters -q --user"
   ]
  },
  {
   "cell_type": "code",
   "execution_count": 1,
   "id": "bdd2aacb-bf0a-4e07-ac73-96c84fba85e2",
   "metadata": {},
   "outputs": [],
   "source": [
    "# %pip install lark --user --quiet"
   ]
  },
  {
   "cell_type": "markdown",
   "id": "c3c08568-8644-47d9-9845-3eefd32ef9c5",
   "metadata": {},
   "source": [
    "# Langchain\n",
    "https://api.python.langchain.com/en/latest/chains/langchain.chains.combine_documents.stuff.create_stuff_documents_chain.html\n",
    "https://python.langchain.com/v0.2/docs/how_to/chatbots_retrieval/#document-chains\n",
    "### create_retrieval_chain\n",
    "https://python.langchain.com/v0.1/docs/use_cases/chatbots/retrieval/\n",
    "### Chroma\n",
    "https://python.langchain.com/v0.2/docs/integrations/vectorstores/chroma/\n",
    "### Pdf loader\n",
    "https://python.langchain.com/v0.1/docs/modules/data_connection/document_loaders/pdf/\n",
    "### Google Genai\n",
    "https://python.langchain.com/v0.1/docs/integrations/chat/google_generative_ai/\n",
    "### SelfQueryRetriever\n",
    "https://python.langchain.com/v0.1/docs/modules/data_connection/retrievers/self_query/\n",
    "### multiple_chains\n",
    "https://python.langchain.com/v0.1/docs/expression_language/cookbook/multiple_chains/\n",
    "\n",
    "# Vertexai\n",
    "https://cloud.google.com/vertex-ai/docs/general/custom-service-account\n",
    "\n",
    "# GeminiAI\n",
    "https://ai.google.dev/gemini-api/docs/api-key\n",
    "\n",
    "# Chroma\n",
    "https://docs.trychroma.com/integrations/google-gemini\n",
    "https://docs.trychroma.com/guides/embeddings"
   ]
  },
  {
   "cell_type": "code",
   "execution_count": 1,
   "id": "cad5fd6e-2c5f-4825-b862-d88eb610f516",
   "metadata": {},
   "outputs": [],
   "source": [
    "import os, tempfile\n",
    "from langchain.prompts import PromptTemplate\n",
    "from langchain.chains.combine_documents import create_stuff_documents_chain\n",
    "from langchain.chains import create_retrieval_chain\n",
    "from langchain_chroma import Chroma\n",
    "from langchain_google_genai import ChatGoogleGenerativeAI, GoogleGenerativeAIEmbeddings\n",
    "from langchain_community.document_loaders import PyPDFLoader\n",
    "from google.oauth2 import service_account\n",
    "from dotenv import dotenv_values\n",
    "import json\n",
    "import vertexai\n",
    "import chromadb.utils.embedding_functions as embedding_functions\n",
    "import chromadb\n",
    "import uuid\n"
   ]
  },
  {
   "cell_type": "code",
   "execution_count": 2,
   "id": "96e15a5b-399e-49ee-9774-a327a628117a",
   "metadata": {},
   "outputs": [],
   "source": [
    "from langchain.chains.query_constructor.base import AttributeInfo\n",
    "from langchain.retrievers.self_query.base import SelfQueryRetriever\n",
    "from operator import itemgetter\n",
    "from langchain.schema.output_parser import StrOutputParser\n",
    "from langchain.schema.runnable import RunnablePassthrough\n",
    "from langchain.prompts import ChatPromptTemplate\n",
    "from langchain.chains import LLMChain, SequentialChain"
   ]
  },
  {
   "cell_type": "code",
   "execution_count": 3,
   "id": "5b778ae7-41c4-4b96-b3eb-9a9aaf83cfdb",
   "metadata": {},
   "outputs": [],
   "source": [
    "config = dotenv_values(\"./keys/.env\")\n",
    "with open(\"./keys/complete-tube-421007-9a7c35cd44e2.json\") as source:\n",
    "    info = json.load(source)\n",
    "\n",
    "vertex_credentials = service_account.Credentials.from_service_account_info(info)\n",
    "vertexai.init(\n",
    "    project=config[\"PROJECT\"],\n",
    "    location=config[\"REGION\"],\n",
    "    credentials=vertex_credentials,\n",
    ")\n",
    "google_api_key = config[\"GEMINI-API-KEY\"]\n",
    "os.environ[\"GEMINI_API_KEY\"] = google_api_key"
   ]
  },
  {
   "cell_type": "code",
   "execution_count": 4,
   "id": "d0c39211-5ff3-44de-ba85-dfc5c097e75e",
   "metadata": {},
   "outputs": [],
   "source": [
    "client = chromadb.PersistentClient(path=\"./chroma_db\")"
   ]
  },
  {
   "cell_type": "code",
   "execution_count": 5,
   "id": "b79a41cf-bcfe-4ec2-aefa-f5277c9a30ee",
   "metadata": {},
   "outputs": [],
   "source": [
    "embeddings_retriever = GoogleGenerativeAIEmbeddings(\n",
    "                        model=\"models/embedding-001\",\n",
    "                        credentials=vertex_credentials,\n",
    "                        google_api_key=google_api_key,\n",
    "                    )\n",
    "\n",
    "google_ef  = embedding_functions.GoogleGenerativeAiEmbeddingFunction(api_key=google_api_key)"
   ]
  },
  {
   "cell_type": "code",
   "execution_count": 6,
   "id": "555d4206-444c-4788-aaa1-ba1179f4604a",
   "metadata": {},
   "outputs": [],
   "source": [
    "# get vectorstore from Presistem directory"
   ]
  },
  {
   "cell_type": "code",
   "execution_count": 7,
   "id": "34dcc1ce-6489-4f41-9e59-a858c1dd85f0",
   "metadata": {},
   "outputs": [],
   "source": [
    "vectorstore = Chroma(persist_directory=\"./chroma_db/\", embedding_function=embeddings_retriever, collection_name= \"forensic\")"
   ]
  },
  {
   "cell_type": "code",
   "execution_count": 8,
   "id": "8a443704-4744-404b-9c33-bd638af9d378",
   "metadata": {},
   "outputs": [],
   "source": [
    "collection = client.get_or_create_collection(name=\"forensic\", embedding_function=google_ef)"
   ]
  },
  {
   "cell_type": "code",
   "execution_count": 9,
   "id": "62326bb1-1754-4cf4-b7af-9d14bd4c4051",
   "metadata": {},
   "outputs": [
    {
     "data": {
      "text/plain": [
       "3807"
      ]
     },
     "execution_count": 9,
     "metadata": {},
     "output_type": "execute_result"
    }
   ],
   "source": [
    "collection.count()"
   ]
  },
  {
   "cell_type": "code",
   "execution_count": 35,
   "id": "9706df80-0c08-4ef8-9de7-85a162925148",
   "metadata": {},
   "outputs": [],
   "source": [
    "llm = ChatGoogleGenerativeAI(\n",
    "                    model=\"gemini-1.5-pro-001\", credentials=vertex_credentials, temperature=0\n",
    "                )"
   ]
  },
  {
   "cell_type": "code",
   "execution_count": 36,
   "id": "f8610e94-5b22-464c-8260-e358381b0e78",
   "metadata": {},
   "outputs": [],
   "source": [
    "metadata_field_info = [\n",
    "    AttributeInfo(\n",
    "        name=\"filename\",\n",
    "        description=\"Name of the file to search\",\n",
    "        type=\"string\",\n",
    "    )\n",
    "]"
   ]
  },
  {
   "cell_type": "code",
   "execution_count": 37,
   "id": "89af36b2-51a7-46dc-a1a7-876666e42f07",
   "metadata": {},
   "outputs": [],
   "source": [
    "retriever = SelfQueryRetriever.from_llm(\n",
    "    llm,\n",
    "    vectorstore,\n",
    "    \"Extract information from document \",\n",
    "    metadata_field_info,\n",
    ")"
   ]
  },
  {
   "cell_type": "code",
   "execution_count": 41,
   "id": "d402296a-c774-417c-ac82-fa64892824cd",
   "metadata": {},
   "outputs": [],
   "source": [
    "# This example only specifies a filter\n",
    "docs = retriever.invoke(\"Dame Déficit sensorial o dolor de BAREMO_PARA_LA_CALIFICACION_DEL_GRADO_DE_MINUSVALIA_Anexo_I_RD_1971-1999.pdf\")"
   ]
  },
  {
   "cell_type": "code",
   "execution_count": 42,
   "id": "e5974f40-bf7d-44e5-9599-297acd24c4ae",
   "metadata": {},
   "outputs": [
    {
     "data": {
      "text/plain": [
       "4"
      ]
     },
     "execution_count": 42,
     "metadata": {},
     "output_type": "execute_result"
    }
   ],
   "source": [
    "len(docs)"
   ]
  },
  {
   "cell_type": "code",
   "execution_count": 43,
   "id": "d0c8263a-ffc1-4551-a902-c0444db9f833",
   "metadata": {},
   "outputs": [
    {
     "data": {
      "text/plain": [
       "Document(page_content='SISTEMA MUSCULOESQUELÉTICO\\n51 6. EVALUACIÓN DE LAS NEUROPATÍAS PERIFÉRICAS\\nEn este apartado se evalúan las deficiencias de la extremidad superior relacionadas con los\\ntrastornos de los nervios raquídeos (C5 a D1), el plexo braquial y los nervios periféricosprincipales. \\nPara evaluar una deficiencia debida a los efectos de lesiones de los nervios periféricos es\\nnecesario determinar la gravedad de la pérdida de función debida a déficit sensorial o dolory la debida a déficit motor. \\nLos porcentajes de deficiencia estimados ya tienen en cuenta las manifestaciones debidas a\\nlesiones de los nervios periféricos, como la limitación del movimiento, atrofia y alteracionesvasomotoras tróficas y de los reflejos. Por lo tanto, si una deficiencia deriva rigurosamente deuna lesión de un nervio periférico, el evaluador no deberá aplicar los porcentajes de defi-ciencia de los apartados anteriores de esta sección junto con los porcentajes de deficienciade este apartado, puesto que se podría producir un aumento injustificado de la valoración.\\nSin embargo, si una limitación de movimiento no puede ser atribuida a una lesión de ner-\\nvio periférico, la deficiencia de movimiento se evaluará de acuerdo con los apartados ante-riores correspondientes y la deficiencia nerviosa de acuerdo con este apartado, combinán-dose posteriormente ambas valoraciones.\\nDéficit sensorial o dolor\\nLas lesiones de los nervios periféricos que producen déficit sensorial pueden asociarse auna amplia gama de sensaciones anormales, como: anestesia, disestesia, parestesia, hiperes-tesia, intolerancia al frío y dolor urente intenso.\\nSólo el dolor o las molestias persistentes que causan una pérdida de función permanente, a pesar\\nde un esfuerzo máximo en la rehabilitación médica y de haber transcurrido un periodo óptimode tiempo para la adaptación psicológica, deben considerarse como una deficiencia estableci-da. El dolor que no cumple uno o más de los criterios anteriores no se considera valorable.\\nLa gravedad de la pérdida de función debida a déficit sensorial se gradúa con la Tabla 21 y\\nse relaciona con la estructura anatómica afectada y los porcentajes máximos de deficienciapor déficit sensorial de los nervios raquídeos (Tabla 23), el plexo braquial (Tabla 24) y losnervios periféricos principales (Tabla 25).\\nDéficit motor y pérdida de fuerza\\nLa función motora de nervios específicos se explora mediante pruebas musculares; en gene-ral estas pruebas gradúan la capacidad de una persona para mover un segmento del cuer-po en toda su amplitud de movimiento contra gravedad y contra resistencia.', metadata={'filename': 'BAREMO_PARA_LA_CALIFICACION_DEL_GRADO_DE_MINUSVALIA_Anexo_I_RD_1971-1999.pdf', 'page': 37})"
      ]
     },
     "execution_count": 43,
     "metadata": {},
     "output_type": "execute_result"
    }
   ],
   "source": [
    "docs[0]"
   ]
  },
  {
   "cell_type": "code",
   "execution_count": 44,
   "id": "f9c362db-b16c-4651-9015-2d492004471b",
   "metadata": {},
   "outputs": [],
   "source": [
    "query_prompt = ChatPromptTemplate.from_template(\"extrae {input} de  {filename}\") # Tablas_indemnizatorias_Baremo_2024.pdf\n",
    "\n",
    "template = \"\"\"\n",
    "                You are a helpful AI assistant. Answer based on the context provided. \n",
    "                context: {context}\n",
    "                input: {input}\n",
    "                answer:\n",
    "                \"\"\"\n",
    "prompt = PromptTemplate.from_template(template)"
   ]
  },
  {
   "cell_type": "code",
   "execution_count": 49,
   "id": "91ce681e-fc6f-4302-9e43-63ab88063863",
   "metadata": {},
   "outputs": [],
   "source": [
    "# LCEL"
   ]
  },
  {
   "cell_type": "code",
   "execution_count": 46,
   "id": "f467a967-a976-4dd2-8456-6c19e5b9283e",
   "metadata": {},
   "outputs": [],
   "source": [
    "first_chain = query_prompt | retriever "
   ]
  },
  {
   "cell_type": "code",
   "execution_count": 47,
   "id": "d839ea37-08ad-4c1f-ae2e-61de1792e101",
   "metadata": {},
   "outputs": [],
   "source": [
    "second_chain = prompt | llm"
   ]
  },
  {
   "cell_type": "code",
   "execution_count": 48,
   "id": "5111a29f-1500-49d1-9fc8-956c386842d6",
   "metadata": {},
   "outputs": [],
   "source": [
    "docs = first_chain.invoke({\"filename\": \"BAREMO_PARA_LA_CALIFICACION_DEL_GRADO_DE_MINUSVALIA_Anexo_I_RD_1971-1999.pdf\",\"input\" :\"Déficit sensorial o dolor\"})"
   ]
  },
  {
   "cell_type": "code",
   "execution_count": 50,
   "id": "856e5ea1-a5cc-4212-afba-d896b18fc99c",
   "metadata": {},
   "outputs": [
    {
     "data": {
      "text/plain": [
       "Document(page_content='SISTEMA MUSCULOESQUELÉTICO\\n51 6. EVALUACIÓN DE LAS NEUROPATÍAS PERIFÉRICAS\\nEn este apartado se evalúan las deficiencias de la extremidad superior relacionadas con los\\ntrastornos de los nervios raquídeos (C5 a D1), el plexo braquial y los nervios periféricosprincipales. \\nPara evaluar una deficiencia debida a los efectos de lesiones de los nervios periféricos es\\nnecesario determinar la gravedad de la pérdida de función debida a déficit sensorial o dolory la debida a déficit motor. \\nLos porcentajes de deficiencia estimados ya tienen en cuenta las manifestaciones debidas a\\nlesiones de los nervios periféricos, como la limitación del movimiento, atrofia y alteracionesvasomotoras tróficas y de los reflejos. Por lo tanto, si una deficiencia deriva rigurosamente deuna lesión de un nervio periférico, el evaluador no deberá aplicar los porcentajes de defi-ciencia de los apartados anteriores de esta sección junto con los porcentajes de deficienciade este apartado, puesto que se podría producir un aumento injustificado de la valoración.\\nSin embargo, si una limitación de movimiento no puede ser atribuida a una lesión de ner-\\nvio periférico, la deficiencia de movimiento se evaluará de acuerdo con los apartados ante-riores correspondientes y la deficiencia nerviosa de acuerdo con este apartado, combinán-dose posteriormente ambas valoraciones.\\nDéficit sensorial o dolor\\nLas lesiones de los nervios periféricos que producen déficit sensorial pueden asociarse auna amplia gama de sensaciones anormales, como: anestesia, disestesia, parestesia, hiperes-tesia, intolerancia al frío y dolor urente intenso.\\nSólo el dolor o las molestias persistentes que causan una pérdida de función permanente, a pesar\\nde un esfuerzo máximo en la rehabilitación médica y de haber transcurrido un periodo óptimode tiempo para la adaptación psicológica, deben considerarse como una deficiencia estableci-da. El dolor que no cumple uno o más de los criterios anteriores no se considera valorable.\\nLa gravedad de la pérdida de función debida a déficit sensorial se gradúa con la Tabla 21 y\\nse relaciona con la estructura anatómica afectada y los porcentajes máximos de deficienciapor déficit sensorial de los nervios raquídeos (Tabla 23), el plexo braquial (Tabla 24) y losnervios periféricos principales (Tabla 25).\\nDéficit motor y pérdida de fuerza\\nLa función motora de nervios específicos se explora mediante pruebas musculares; en gene-ral estas pruebas gradúan la capacidad de una persona para mover un segmento del cuer-po en toda su amplitud de movimiento contra gravedad y contra resistencia.', metadata={'filename': 'BAREMO_PARA_LA_CALIFICACION_DEL_GRADO_DE_MINUSVALIA_Anexo_I_RD_1971-1999.pdf', 'page': 37})"
      ]
     },
     "execution_count": 50,
     "metadata": {},
     "output_type": "execute_result"
    }
   ],
   "source": [
    "docs[0]"
   ]
  },
  {
   "cell_type": "code",
   "execution_count": 51,
   "id": "67ea4bec-6a9f-4e6e-92d4-74e8ffce1c6b",
   "metadata": {},
   "outputs": [],
   "source": [
    "output = second_chain.invoke({\"context\": docs , \"input\" :\"Déficit sensorial o dolor\"})"
   ]
  },
  {
   "cell_type": "code",
   "execution_count": 53,
   "id": "4bfc0283-45ad-49b8-a943-d0a9cb688a4c",
   "metadata": {},
   "outputs": [
    {
     "name": "stdout",
     "output_type": "stream",
     "text": [
      "Las lesiones de los nervios periféricos que producen déficit sensorial pueden asociarse a una amplia gama de sensaciones anormales, como: anestesia, disestesia, parestesia, hiperestesia, intolerancia al frío y dolor urente intenso.\n",
      "\n",
      "Solo el dolor o las molestias persistentes que causan una pérdida de función permanente, a pesar de un esfuerzo máximo en la rehabilitación médica y de haber transcurrido un periodo óptimo de tiempo para la adaptación psicológica, deben considerarse como una deficiencia establecida. El dolor que no cumple uno o más de los criterios anteriores no se considera valorable.\n",
      "\n",
      "La gravedad de la pérdida de función debida a déficit sensorial se gradúa con la Tabla 21 y se relaciona con la estructura anatómica afectada y los porcentajes máximos de deficiencia por déficit sensorial de los nervios raquídeos (Tabla 23), el plexo braquial (Tabla 24) y los nervios periféricos principales (Tabla 25). \n",
      "\n"
     ]
    }
   ],
   "source": [
    "print(output.content)"
   ]
  },
  {
   "cell_type": "code",
   "execution_count": 54,
   "id": "1076ef1d-385f-48f8-b259-2d045ddbcfda",
   "metadata": {},
   "outputs": [],
   "source": [
    "complete_chain = (\n",
    "    {   \"filename\" :itemgetter(\"filename\"),\n",
    "         \"input\":  itemgetter(\"input\"),  \n",
    "     \"context\" : first_chain\n",
    "         \n",
    "    } | RunnablePassthrough.assign(output=second_chain)\n",
    ")"
   ]
  },
  {
   "cell_type": "code",
   "execution_count": 55,
   "id": "104d1ad5-4a6f-45a0-972d-e3a346c36141",
   "metadata": {},
   "outputs": [],
   "source": [
    "out = complete_chain.invoke({\"filename\": \"BAREMO_PARA_LA_CALIFICACION_DEL_GRADO_DE_MINUSVALIA_Anexo_I_RD_1971-1999.pdf\",  \"input\" :\"Déficit sensorial o dolor\"})"
   ]
  },
  {
   "cell_type": "code",
   "execution_count": 56,
   "id": "bebdc649-b64b-4d4b-a586-bc17e235129f",
   "metadata": {},
   "outputs": [
    {
     "data": {
      "text/plain": [
       "dict_keys(['filename', 'input', 'context', 'output'])"
      ]
     },
     "execution_count": 56,
     "metadata": {},
     "output_type": "execute_result"
    }
   ],
   "source": [
    "out.keys()"
   ]
  },
  {
   "cell_type": "code",
   "execution_count": 57,
   "id": "2701000a-e569-4e1a-b42f-73dddc8b0c9e",
   "metadata": {},
   "outputs": [
    {
     "name": "stdout",
     "output_type": "stream",
     "text": [
      "Las lesiones de los nervios periféricos que producen déficit sensorial pueden asociarse a una amplia gama de sensaciones anormales, como: anestesia, disestesia, parestesia, hiperestesia, intolerancia al frío y dolor urente intenso.\n",
      "\n",
      "Sólo el dolor o las molestias persistentes que causan una pérdida de función permanente, a pesar de un esfuerzo máximo en la rehabilitación médica y de haber transcurrido un periodo óptimo de tiempo para la adaptación psicológica, deben considerarse como una deficiencia establecida. El dolor que no cumple uno o más de los criterios anteriores no se considera valorable.\n",
      "\n",
      "La gravedad de la pérdida de función debida a déficit sensorial se gradúa con la Tabla 21  y se relaciona con la estructura anatómica afectada y los porcentajes máximos de deficiencia por déficit sensorial de los nervios raquídeos (Tabla 23), el plexo braquial (Tabla 24) y los nervios periféricos principales (Tabla 25). \n",
      "\n"
     ]
    }
   ],
   "source": [
    "print(out['output'].content)"
   ]
  },
  {
   "cell_type": "code",
   "execution_count": 58,
   "id": "2106ddf0-6a75-48e4-ab41-875b30831c4b",
   "metadata": {},
   "outputs": [
    {
     "data": {
      "text/plain": [
       "[Document(page_content='SISTEMA MUSCULOESQUELÉTICO\\n51 6. EVALUACIÓN DE LAS NEUROPATÍAS PERIFÉRICAS\\nEn este apartado se evalúan las deficiencias de la extremidad superior relacionadas con los\\ntrastornos de los nervios raquídeos (C5 a D1), el plexo braquial y los nervios periféricosprincipales. \\nPara evaluar una deficiencia debida a los efectos de lesiones de los nervios periféricos es\\nnecesario determinar la gravedad de la pérdida de función debida a déficit sensorial o dolory la debida a déficit motor. \\nLos porcentajes de deficiencia estimados ya tienen en cuenta las manifestaciones debidas a\\nlesiones de los nervios periféricos, como la limitación del movimiento, atrofia y alteracionesvasomotoras tróficas y de los reflejos. Por lo tanto, si una deficiencia deriva rigurosamente deuna lesión de un nervio periférico, el evaluador no deberá aplicar los porcentajes de defi-ciencia de los apartados anteriores de esta sección junto con los porcentajes de deficienciade este apartado, puesto que se podría producir un aumento injustificado de la valoración.\\nSin embargo, si una limitación de movimiento no puede ser atribuida a una lesión de ner-\\nvio periférico, la deficiencia de movimiento se evaluará de acuerdo con los apartados ante-riores correspondientes y la deficiencia nerviosa de acuerdo con este apartado, combinán-dose posteriormente ambas valoraciones.\\nDéficit sensorial o dolor\\nLas lesiones de los nervios periféricos que producen déficit sensorial pueden asociarse auna amplia gama de sensaciones anormales, como: anestesia, disestesia, parestesia, hiperes-tesia, intolerancia al frío y dolor urente intenso.\\nSólo el dolor o las molestias persistentes que causan una pérdida de función permanente, a pesar\\nde un esfuerzo máximo en la rehabilitación médica y de haber transcurrido un periodo óptimode tiempo para la adaptación psicológica, deben considerarse como una deficiencia estableci-da. El dolor que no cumple uno o más de los criterios anteriores no se considera valorable.\\nLa gravedad de la pérdida de función debida a déficit sensorial se gradúa con la Tabla 21 y\\nse relaciona con la estructura anatómica afectada y los porcentajes máximos de deficienciapor déficit sensorial de los nervios raquídeos (Tabla 23), el plexo braquial (Tabla 24) y losnervios periféricos principales (Tabla 25).\\nDéficit motor y pérdida de fuerza\\nLa función motora de nervios específicos se explora mediante pruebas musculares; en gene-ral estas pruebas gradúan la capacidad de una persona para mover un segmento del cuer-po en toda su amplitud de movimiento contra gravedad y contra resistencia.', metadata={'filename': 'BAREMO_PARA_LA_CALIFICACION_DEL_GRADO_DE_MINUSVALIA_Anexo_I_RD_1971-1999.pdf', 'page': 37}),\n",
       " Document(page_content='La función motora de cada músculo se evalúa y gradúa de acuerdo con la Tabla 22 y se rela-\\nciona con la estructura anatómica afectada y los porcentajes máximos de deficiencia pordéficit motor de los nervios raquídeos (Tabla 23), el plexo braquial (Tabla 24) y los nerviosperiféricos principales (Tabla 25)\\nNERVIOS RAQUÍDEOS\\nLa evaluación de la deficiencia de los nervios raquídeos debida a lesiones o enfermedadesse basa en la gravedad de la pérdida funcional de los nervios periféricos que reciben fibrasde dichos nervios raquídeos.\\nPuesto que los nervios periféricos reciben fibras de más de un nervio raquídeo, la afectación\\nde dos o más nervios raquídeos que dan fibras al mismo nervio periférico produce una pérdi-da funcional mayor que la afectación de un único nervio raquídeo; por lo tanto, la deficien-cia en estos casos se evaluará de acuerdo con los porcentajes de deficiencia del plexo braquialy no combinando los porcentajes de deficiencia de las raíces de los nervios raquídeos.\\nLa Tabla 23 muestra los porcentajes de deficiencia de los nervios raquídeos. Estos porcen-\\ntajes sólo hacen referencia a afectaciones unilaterales de la extremidad superior. Si la afec-VALORACIÓN DE LAS SITUACIONES DE MINUSVALÍA\\n52\\nTabla 21: Determinación de las deficiencias debidas a dolor o déficit sensorial causados\\npor trastornos de los nervios periféricos\\nClasificación\\nGrado Descripción del déficit sensorial o dolor % deficit sensorial\\n1 No existe pérdida de la sensibilidad, sensación anormal o dolor. 0\\n2 Disminución de la sensibilidad con o sin sensación anormal\\no dolor, que se olvida durante la actividad. 1-25\\n3 Disminución de la sensibilidad con o sin sensación anormal\\no dolor, que interfiere con la actividad. 26-60\\n4 Disminución de la sensibilidad con o sin sensación anormal\\no dolor, que puede impedir la actividad, o causalgia menor. 61-80\\n5 Disminución de la sensibilidad con sensaciones anormales\\ny dolor intenso que impide la actividad, o causalgia mayor. 81-100\\nProcedimiento de evaluación\\n1 Identifique el área de afectación.\\n2 Identifique el o los nervios que inervan el área.3 Gradúe la gravedad del déficit sensorial o dolor de acuerdo con la clasificación anterior.4 Determine la deficiencia máxima de la extremidad superior debida a déficit sensorial o\\ndolor del nervio afectado: nervios raquídeos (Tabla 23), plexo braquial (Tabla 24) ynervios periféricos principales (Tabla 25).\\n5 Multiplique la gravedad del déficit sensorial por el valor de deficiencia máximo,\\npara obtener la deficiencia de la extremidad superior respecto a cada estructura afectada.', metadata={'filename': 'BAREMO_PARA_LA_CALIFICACION_DEL_GRADO_DE_MINUSVALIA_Anexo_I_RD_1971-1999.pdf', 'page': 38}),\n",
       " Document(page_content='8. Pérdida de piel\\nLa pérdida de piel en todo su grosor en ciertas áreas de la extremidad inferior puede ser\\ncausa de deficiencia importante, como muestra la Tabla 46, aun cuando las áreas sean recu-biertas de forma satisfactoria con un injerto cutáneo.\\n9. Lesiones de los nervios periféricos\\nLas lesiones de los nervios periféricos se dividen en tres componentes: déficit motor, déficitsensorial y disestesia o alteración de la sensibilidad.\\nLa Tabla 47 indica las estimaciones de deficiencia correspondientes a pérdidas sensoriales\\ny motoras completas de los nervios periféricos correspondientes. El déficit motor parcialdeberá evaluarse de acuerdo con los criterios correspondientes a función muscular: Pruebamuscular manual (apartado 3).\\nLos porcentajes de deficiencia de la extremidad inferior debidos a déficit motor, sensorial y\\ndisestesia deben combinarse entre sí, y a su vez con otras deficiencias de la extremidadinferior, excepto las debidas a debilidad y atrofia muscular; posteriormente se realiza laconversión a porcentaje de discapacidad.\\n10. Causalgia y distrofia simpática refleja\\nLa causalgia es un dolor urente debido a la lesión de un nervio periférico.VALORACIÓN DE LAS SITUACIONES DE MINUSVALÍA\\n74\\nTabla 46: Deficiencias por pérdida de piel\\n% Deficiencia\\n(Extremidad inferior) (Pie)\\n• Desarticulación de cadera. (100)\\n• Recubrimiento isquiático que requiere una descarga frecuente\\ny la limitación del tiempo en la posición sentada. (12)\\n• Recubrimiento de la tuberosidad tibial que limita la acción\\nde arrodillarse. (5)\\n• Recubrimiento del talón que limita el tiempo de bipedestación\\ny de deambulación. (25) [35]\\n• Recubrimiento de la superficie plantar de la cabeza metatarsiana\\nque limita el tiempo de bipedestación y de deambulación:\\nPrimer metatarsiano. (12) [17]\\nQuinto metatarsiano. (12) [17]\\n• Osteomielitis crónica con secreción activa:\\nDel fémur. (7) [10]\\nDe la tibia. (7) [10]Del pie, que requiere la sustitución periódica de los apósitos y la limitación del tiempo de utilizaciónde calzado. (25) [35]', metadata={'filename': 'BAREMO_PARA_LA_CALIFICACION_DEL_GRADO_DE_MINUSVALIA_Anexo_I_RD_1971-1999.pdf', 'page': 60}),\n",
       " Document(page_content='Estos porcentajes sólo hacen referencia a afectaciones unilaterales de la extremidad supe-\\nrior. Si la afectación es bilateral, se determina la deficiencia de cada lado de forma inde-pendiente y se convierte a porcentaje de discapacidad. A continuación los porcentajes uni-laterales se combinan mediante la tabla de valores combinados.VALORACIÓN DE LAS SITUACIONES DE MINUSVALÍA\\n56\\nTabla 25: Deficiencias máximas de la extremidad superior debidas a déficit sensorial o\\nmotor unilateral de los nervios periféricos principales.\\n% de pérdida sensorial longitudinal\\nDéficitDéficit\\nNervio sensorial Déficit sensitivo-motor\\no dolor motor combinado\\nPectorales (mayor y menor) 0 5 5\\nCircunflejo 5 35 38Dorsal de la escápula 0 5 5Torácico largo 0 15 15Braquial cutáneo interno 5 0 5Accesorio del braquial cutáneo interno 5 0 5Mediano (por encima del punto medio del antebrazo) 38 44 65Mediano (interóseo anterior) 0 15 15Mediano (por debajo del punto medio del antebrazo) 38 10 44\\nColateral palmar radial del pulgar 7 0 7Colateral palmar cubital del pulgar 11 0 11Colateral palmar radial del dedo índice 5 0 5Colateral palmar cubital del dedo índice 4 0 4Colateral palmar radial del dedo medio 5 0 5Colateral palmar cubital del dedo medio 4 0 4Colateral palmar radial del dedo anular 2 0 2\\nMusculocutáneo 5 25 29\\nRadial (región sup. del brazo con pérdida del tríceps) 5 42 45Radial (codo sin afectación del tríceps) 5 35 38Subescapulares (superior e inferior) 0 5 5Supraescapular 5 16 20Toracodorsal 0 10 10Cubital (por encima del punto medio del antebrazo) 7 46 50Cubital (por debajo del punto medio del antebrazo) 7 35 40\\nColateral palmar cubital del dedo anular 2 0 2Colateral palmar radial del dedo meñique 2 0 2Colateral palmar cubital del dedo meñique 3 0 3', metadata={'filename': 'BAREMO_PARA_LA_CALIFICACION_DEL_GRADO_DE_MINUSVALIA_Anexo_I_RD_1971-1999.pdf', 'page': 42})]"
      ]
     },
     "execution_count": 58,
     "metadata": {},
     "output_type": "execute_result"
    }
   ],
   "source": [
    "out['context']"
   ]
  },
  {
   "cell_type": "code",
   "execution_count": null,
   "id": "e483a14e-f3fe-4de1-9755-e325bd9a50c8",
   "metadata": {},
   "outputs": [],
   "source": []
  },
  {
   "cell_type": "code",
   "execution_count": null,
   "id": "5f9af637-dc45-4a0f-ba58-ded9bbc8f192",
   "metadata": {},
   "outputs": [],
   "source": []
  }
 ],
 "metadata": {
  "kernelspec": {
   "display_name": "Python (vertex)",
   "language": "python",
   "name": "vertex"
  },
  "language_info": {
   "codemirror_mode": {
    "name": "ipython",
    "version": 3
   },
   "file_extension": ".py",
   "mimetype": "text/x-python",
   "name": "python",
   "nbconvert_exporter": "python",
   "pygments_lexer": "ipython3",
   "version": "3.11.7"
  }
 },
 "nbformat": 4,
 "nbformat_minor": 5
}
