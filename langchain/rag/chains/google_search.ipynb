{
 "cells": [
  {
   "cell_type": "code",
   "execution_count": 9,
   "id": "6fca176a-f2e0-492b-8aa5-c9d7706b6b13",
   "metadata": {},
   "outputs": [
    {
     "name": "stdout",
     "output_type": "stream",
     "text": [
      "Note: you may need to restart the kernel to use updated packages.\n"
     ]
    }
   ],
   "source": [
    "%pip install -U --quiet langchain-google-community --user"
   ]
  },
  {
   "cell_type": "code",
   "execution_count": 10,
   "id": "df8989b8-c165-49e9-acaa-eb52db144ef1",
   "metadata": {},
   "outputs": [],
   "source": [
    "from dotenv import dotenv_values\n",
    "import os"
   ]
  },
  {
   "cell_type": "code",
   "execution_count": 11,
   "id": "fe8bebc3-816a-4027-8fc7-d43eb9210217",
   "metadata": {},
   "outputs": [],
   "source": [
    "config = dotenv_values(\".env\")"
   ]
  },
  {
   "cell_type": "code",
   "execution_count": 31,
   "id": "94c867bb-9fad-4320-b818-43d65b5f7950",
   "metadata": {},
   "outputs": [],
   "source": [
    "os.environ[\"GOOGLE_API_KEY\"] = config.get(\"GOOGLE_API_KEY\")\n",
    "os.environ[\"GOOGLE_CSE_ID\"] = config.get(\"GOOGLE_CSE_ID\")\n",
    "openai_api_key = config[\"KEY_OPENAI\"]"
   ]
  },
  {
   "cell_type": "code",
   "execution_count": 32,
   "id": "136864c3-1786-4290-be31-005e2cea3f76",
   "metadata": {},
   "outputs": [],
   "source": [
    "from langchain.retrievers.web_research import WebResearchRetriever\n",
    "from langchain_chroma import Chroma\n",
    "from langchain_google_community import GoogleSearchAPIWrapper\n",
    "from langchain_openai import ChatOpenAI, OpenAIEmbeddings\n",
    "\n",
    "from langchain_community.tools.google_search import GoogleSearchResults"
   ]
  },
  {
   "cell_type": "code",
   "execution_count": 33,
   "id": "f004c644-b542-4117-b4cb-c28481049716",
   "metadata": {},
   "outputs": [],
   "source": [
    "# Vectorstore\n",
    "vectorstore = Chroma(\n",
    "    embedding_function=OpenAIEmbeddings(api_key=openai_api_key), persist_directory=\"./chroma_db_oai\"\n",
    ")"
   ]
  },
  {
   "cell_type": "code",
   "execution_count": 34,
   "id": "a5c704f0-1505-4a03-819e-a84e8e736e84",
   "metadata": {},
   "outputs": [],
   "source": [
    "# LLM\n",
    "llm = ChatOpenAI(temperature=0, api_key= openai_api_key, model=\"gpt-4\")\n",
    "\n",
    "# Search\n",
    "search = GoogleSearchAPIWrapper()"
   ]
  },
  {
   "cell_type": "code",
   "execution_count": 41,
   "id": "41990867-f81d-43eb-9260-ff94b2d96681",
   "metadata": {},
   "outputs": [],
   "source": [
    "# Initialize\n",
    "web_research_retriever = WebResearchRetriever.from_llm(\n",
    "    vectorstore=vectorstore, llm=llm, search=search\n",
    ")"
   ]
  },
  {
   "cell_type": "code",
   "execution_count": 36,
   "id": "093f966c-6279-439c-bc2f-d7ec18f05af7",
   "metadata": {},
   "outputs": [],
   "source": [
    "import logging\n",
    "\n",
    "logging.basicConfig()\n",
    "logging.getLogger(\"langchain.retrievers.web_research\").setLevel(logging.INFO)\n",
    "from langchain.chains import RetrievalQAWithSourcesChain"
   ]
  },
  {
   "cell_type": "code",
   "execution_count": 37,
   "id": "2b78ab4c-69cc-4cf8-801d-b11f536b5fe7",
   "metadata": {},
   "outputs": [
    {
     "name": "stderr",
     "output_type": "stream",
     "text": [
      "Fetching pages: 100%|####################################################################| 1/1 [00:00<00:00,  1.17it/s]\n"
     ]
    }
   ],
   "source": [
    "user_input = \"What is the Síndrome SAPHO and what are the symptoms? Based on your findings write a description, main symptoms and how to treat them \"\n",
    "qa_chain = RetrievalQAWithSourcesChain.from_chain_type(\n",
    "    llm, retriever=web_research_retriever\n",
    ")\n",
    "result = qa_chain.invoke({\"question\": user_input})"
   ]
  },
  {
   "cell_type": "code",
   "execution_count": 38,
   "id": "7997d7ca-93a7-43bb-966d-bdbaee18cb5f",
   "metadata": {},
   "outputs": [
    {
     "data": {
      "text/plain": [
       "{'question': 'What is the Síndrome SAPHO and what are the symptoms? Based on your findings write a description, main symptoms and how to treat them ',\n",
       " 'answer': 'SAPHO syndrome is a complex disorder characterized by peculiar combinations of bone lesions and dermatologic manifestations. Patients typically present with musculo-skeletal complaints, usually of the anterior chest wall, synovial articulations and synchondroses. The disease is more common in the sterno-clavicular region, but can also affect the spine, pelvis and long bones. Various articular manifestations, often due to osteitis extending to adjacent articular structures, especially in the sacroiliac and sterno-clavicular joints, may accompany the skin and bone lesions. Skin involvement includes palmoplantar pustulosis, severe cystic acne and pustular psoriasis. Skin lesions may precede, occur concurrently or appear after onset of osteoarticular manifestations, but may be initially absent in 1/3 of patients. The interval between onset of skin manifestations and osteoarticular lesions is generally less than 2 years, but intervals as long as 20 and 38 years have been reported. Hyperostosis and osteitis are the most prominent SAPHO syndrome findings. Hyperostosis appears radiologically as osteosclerosis, with cortical thickening, narrowing of the medullary canal, and external surface of the bone appearing expanded, indistinct and irregular. Osteitis refers to bone inflammation that appears histopathologically as a sterile inflammatory infiltrate. Bone pain and dermatologic manifestations are the most troublesome SAPHO syndrome symptoms. Bony lesions manifest as severe, recurrent, debilitating pain and tenderness. These symptoms can be more severe at night, adversely affect general well-being and can have a major impact on the entire family. Cutaneous manifestations include palmoplantar pustulosis, severe forms of acne and various forms of psoriasis, especially pustular psoriasis. Conservative treatment, consisting of antimicrobial therapy and NSAIDs, is generally effective in SAPHO syndrome, without a need for invasive treatments.\\n',\n",
       " 'sources': 'https://www.ncbi.nlm.nih.gov/pmc/articles/PMC2790148/, https://www.ncbi.nlm.nih.gov/pmc/articles/PMC5038107/'}"
      ]
     },
     "execution_count": 38,
     "metadata": {},
     "output_type": "execute_result"
    }
   ],
   "source": [
    "result"
   ]
  },
  {
   "cell_type": "code",
   "execution_count": 39,
   "id": "debaf905-c2ea-49b6-9029-73a912894120",
   "metadata": {},
   "outputs": [
    {
     "name": "stdout",
     "output_type": "stream",
     "text": [
      "SAPHO syndrome is a complex disorder characterized by peculiar combinations of bone lesions and dermatologic manifestations. Patients typically present with musculo-skeletal complaints, usually of the anterior chest wall, synovial articulations and synchondroses. The disease is more common in the sterno-clavicular region, but can also affect the spine, pelvis and long bones. Various articular manifestations, often due to osteitis extending to adjacent articular structures, especially in the sacroiliac and sterno-clavicular joints, may accompany the skin and bone lesions. Skin involvement includes palmoplantar pustulosis, severe cystic acne and pustular psoriasis. Skin lesions may precede, occur concurrently or appear after onset of osteoarticular manifestations, but may be initially absent in 1/3 of patients. The interval between onset of skin manifestations and osteoarticular lesions is generally less than 2 years, but intervals as long as 20 and 38 years have been reported. Hyperostosis and osteitis are the most prominent SAPHO syndrome findings. Hyperostosis appears radiologically as osteosclerosis, with cortical thickening, narrowing of the medullary canal, and external surface of the bone appearing expanded, indistinct and irregular. Osteitis refers to bone inflammation that appears histopathologically as a sterile inflammatory infiltrate. Bone pain and dermatologic manifestations are the most troublesome SAPHO syndrome symptoms. Bony lesions manifest as severe, recurrent, debilitating pain and tenderness. These symptoms can be more severe at night, adversely affect general well-being and can have a major impact on the entire family. Cutaneous manifestations include palmoplantar pustulosis, severe forms of acne and various forms of psoriasis, especially pustular psoriasis. Conservative treatment, consisting of antimicrobial therapy and NSAIDs, is generally effective in SAPHO syndrome, without a need for invasive treatments.\n",
      "\n"
     ]
    }
   ],
   "source": [
    "print(result['answer'])\n"
   ]
  },
  {
   "cell_type": "code",
   "execution_count": 28,
   "id": "3b6a0d43-a1aa-49db-ba0a-51211539dcb0",
   "metadata": {},
   "outputs": [
    {
     "name": "stdout",
     "output_type": "stream",
     "text": [
      "https://www.ncbi.nlm.nih.gov/pmc/articles/PMC2790148/, https://www.ncbi.nlm.nih.gov/pmc/articles/PMC5038107/\n"
     ]
    }
   ],
   "source": [
    "print(result['sources'])"
   ]
  },
  {
   "cell_type": "code",
   "execution_count": null,
   "id": "749f6482-361c-4708-91f0-69d098276345",
   "metadata": {},
   "outputs": [],
   "source": []
  }
 ],
 "metadata": {
  "kernelspec": {
   "display_name": "Python (vertex)",
   "language": "python",
   "name": "vertex"
  },
  "language_info": {
   "codemirror_mode": {
    "name": "ipython",
    "version": 3
   },
   "file_extension": ".py",
   "mimetype": "text/x-python",
   "name": "python",
   "nbconvert_exporter": "python",
   "pygments_lexer": "ipython3",
   "version": "3.11.7"
  }
 },
 "nbformat": 4,
 "nbformat_minor": 5
}
