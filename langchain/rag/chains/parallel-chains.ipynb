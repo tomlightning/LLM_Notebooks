{
 "cells": [
  {
   "cell_type": "markdown",
   "id": "8ae9a9c5-15e3-47f1-a8c7-f381ed87286d",
   "metadata": {},
   "source": [
    "# Google Scholar\n",
    "https://scholar.google.com/\n",
    "Google Scholar provides a simple way to broadly search for scholarly literature. From one place, you can search across many disciplines and sources: articles, theses, books, abstracts and court opinions, from academic publishers, professional societies, online repositories, universities and other web sites. Google Scholar helps you find relevant work across the world of scholarly research\n",
    "\n",
    "# Langchain\n",
    "\n",
    "### Agents\n",
    "https://python.langchain.com/v0.1/docs/modules/agents/\n",
    "https://python.langchain.com/v0.1/docs/modules/agents/agent_types/\n",
    "\n",
    "### Semantic Scholar\n",
    "https://python.langchain.com/v0.2/docs/integrations/tools/semanticscholar/\n",
    "\n",
    "### Google Genai\n",
    "https://python.langchain.com/v0.1/docs/integrations/chat/google_generative_ai/\n",
    "\n",
    "# Vertexai\n",
    "https://cloud.google.com/vertex-ai/docs/general/custom-service-account\n",
    "\n",
    "# GeminiAI\n",
    "https://ai.google.dev/gemini-api/docs/api-key"
   ]
  },
  {
   "cell_type": "markdown",
   "id": "27a070f7-51d4-4465-97d1-dedc53f67efc",
   "metadata": {},
   "source": [
    "```Wrapper for Google Search API.\r\n",
    "\r\n",
    "Adapted from: Instructions adapted from https://stackoverflow.com/questions/\r\n",
    "37083058/\r\n",
    "programmatically-searching-google-in-python-using-custom-search\r\n",
    "\r\n",
    "TODO: DOCS for using it\r\n",
    "1. Install google-api-python-client\r\n",
    "- If you don't already have a Google account, sign up.\r\n",
    "- If you have never created a Google APIs Console project,\r\n",
    "read the Managing Projects page and create a project in the Google API Console.\r\n",
    "- Install the library using pip install google-api-python-client\r\n",
    "\r\n",
    "2. Enable the Custom Search API\r\n",
    "- Navigate to the APIs & Services→Dashboard panel in Cloud Console.\r\n",
    "- Click Enable APIs and Services.\r\n",
    "- Search for Custom Search API and click on it.\r\n",
    "- Click Enable.\r\n",
    "URL for it: https://console.cloud.google.com/apis/library/customsearch.googleapis\r\n",
    ".com\r\n",
    "\r\n",
    "3. To create an API key:\r\n",
    "- Navigate to the APIs & Services → Credentials panel in Cloud Console.\r\n",
    "- Select Create credentials, then select API key from the drop-down menu.\r\n",
    "- The API key created dialog box displays your newly created key.\r\n",
    "- You now have an API_KEY\r\n",
    "\r\n",
    "Alternatively, you can just generate an API key here:\r\n",
    "https://developers.google.com/custom-search/docs/paid_element#api_key\r\n",
    "\r\n",
    "4. Setup Custom Search Engine so you can search the entire web\r\n",
    "- Create a custom search engine here: https://programmablesearchengine.google.com/.\r\n",
    "- In `What to search` to search, pick the `Search the entire Web` option.\r\n",
    "After search engine is created, you can click on it and find `Search engine ID`\r\n",
    "  on the Overview page.\r\n",
    "Init docstring:\r\n",
    "Create a new model by parsing and validatin```\n",
    "g input data from keyword arguments."
   ]
  },
  {
   "cell_type": "code",
   "execution_count": 1,
   "id": "e38f73c1-18ae-4c2d-bcc3-f50d8985c28a",
   "metadata": {},
   "outputs": [
    {
     "name": "stdout",
     "output_type": "stream",
     "text": [
      "Note: you may need to restart the kernel to use updated packages.\n"
     ]
    }
   ],
   "source": [
    "%pip install --upgrade --quiet  semanticscholar langchainhub google-cloud-aiplatform langchain-google-genai langchain langchain-community langchain-experimental langchain-openai langchain-pinecone langchain-text-splitters -q --user"
   ]
  },
  {
   "cell_type": "code",
   "execution_count": 1,
   "id": "c70d8e17-0f44-4f20-9013-5153f89e1965",
   "metadata": {},
   "outputs": [],
   "source": [
    "from dotenv import dotenv_values"
   ]
  },
  {
   "cell_type": "code",
   "execution_count": 2,
   "id": "1cd96b56-d7b6-4f54-af2f-767fd76bbcba",
   "metadata": {},
   "outputs": [],
   "source": [
    "config = dotenv_values(\".env\")"
   ]
  },
  {
   "cell_type": "code",
   "execution_count": 75,
   "id": "0a7e8018-ad21-4d31-acc6-568f87a60fb9",
   "metadata": {},
   "outputs": [],
   "source": [
    "from langchain import hub\n",
    "from langchain.agents import AgentExecutor, create_openai_functions_agent, create_tool_calling_agent\n",
    "from langchain_core.prompts import ChatPromptTemplate\n",
    "from langchain_google_genai import ChatGoogleGenerativeAI, GoogleGenerativeAIEmbeddings\n",
    "from google.oauth2 import service_account\n",
    "import vertexai\n",
    "import json\n",
    "import os\n",
    "from langchain_google_community import GoogleSearchAPIWrapper\n",
    "from langchain_community.tools.google_search import GoogleSearchResults\n",
    "from langchain.retrievers.web_research import WebResearchRetriever\n",
    "from langchain_chroma import Chroma\n",
    "\n",
    "from langchain_community.tools.semanticscholar.tool import SemanticScholarQueryRun\n",
    "from langchain_community.utilities.semanticscholar import SemanticScholarAPIWrapper\n",
    "from langchain_core.runnables import RunnableParallel\n",
    "from langchain_core.runnables import RunnablePassthrough\n",
    "from langchain_core.output_parsers import StrOutputParser\n",
    "from langchain.chains import RetrievalQAWithSourcesChain\n",
    "import chromadb.utils.embedding_functions as embedding_functions"
   ]
  },
  {
   "cell_type": "code",
   "execution_count": 5,
   "id": "510b8abb-a161-4666-888b-2471c21e3322",
   "metadata": {},
   "outputs": [],
   "source": [
    "openai_api_key = config[\"KEY_OPENAI\"]\n",
    "os.environ[\"GEMINI_API_KEY\"] = config['GOOGLE_API_KEY']\n",
    "os.environ[\"GOOGLE_API_KEY\"] = config.get(\"GOOGLE_API_KEY\")\n",
    "os.environ[\"GOOGLE_CSE_ID\"] = config.get(\"GOOGLE_CSE_ID\")"
   ]
  },
  {
   "cell_type": "code",
   "execution_count": 6,
   "id": "da6c1faa-4306-45d0-877e-4d157156f742",
   "metadata": {},
   "outputs": [],
   "source": [
    "with open(\"keys/complete-tube-421007-9a7c35cd44e2.json\") as source:\n",
    "    info = json.load(source)\n",
    "\n",
    "vertex_credentials = service_account.Credentials.from_service_account_info(info)\n",
    "vertexai.init(\n",
    "    project=config[\"PROJECT\"],\n",
    "    location=config[\"REGION\"],\n",
    "    credentials=vertex_credentials,\n",
    ")\n",
    "google_api_key = config[\"GEMINI-API-KEY\"]\n",
    "os.environ[\"GEMINI_API_KEY\"] = google_api_key"
   ]
  },
  {
   "cell_type": "code",
   "execution_count": 27,
   "id": "ddba7b57-0272-4ce9-8041-bde12b97c712",
   "metadata": {},
   "outputs": [],
   "source": [
    "llm = ChatGoogleGenerativeAI(\n",
    "                    model=\"gemini-1.5-flash-001\", credentials=vertex_credentials, google_api_key=config['GOOGLE_API_KEY'], temperature=0\n",
    "\n",
    "                )"
   ]
  },
  {
   "cell_type": "code",
   "execution_count": 71,
   "id": "95796631-9265-47a6-aadd-5d0bf11b0f67",
   "metadata": {},
   "outputs": [],
   "source": [
    "api_wrapper = SemanticScholarAPIWrapper(doc_content_chars_max=10000, top_k_results=10)\n"
   ]
  },
  {
   "cell_type": "markdown",
   "id": "756eae1e-f714-4106-9dd1-9be7d0cf5bf0",
   "metadata": {},
   "source": [
    "### https://python.langchain.com/v0.1/docs/modules/agents/agent_types/tool_calling/"
   ]
  },
  {
   "cell_type": "code",
   "execution_count": 36,
   "id": "6593ba9d-d3f4-4ca8-974c-8e8e1548d0cd",
   "metadata": {},
   "outputs": [],
   "source": [
    "#agent = prompt| llm | tools"
   ]
  },
  {
   "cell_type": "code",
   "execution_count": 37,
   "id": "5ca36c28-afc1-461d-b711-5a695f0d9128",
   "metadata": {},
   "outputs": [],
   "source": [
    "# Open AI\n",
    "#agent = create_openai_functions_agent(llm, tools, prompt)\n",
    "# generic\n",
    "# agent = create_tool_calling_agent(llm, tools, prompt)"
   ]
  },
  {
   "cell_type": "code",
   "execution_count": 98,
   "id": "a0f7d19f-ca3a-4af4-ac6f-eabb785679aa",
   "metadata": {},
   "outputs": [],
   "source": [
    "template = \"\"\" Question: {query} \n",
    "                {context}\n",
    "                    with the context build a response with the following requirements:\n",
    "                    - Show me a list of papers and techniques. \n",
    "                    - Based on your findings write a description, main symptoms and how to treat them\n",
    "                    - Create 3 different sections: List of papers, Description/ symptoms and treatment. \n",
    "                  \n",
    "\"\"\"\n",
    "prompt_query = ChatPromptTemplate.from_template(template)"
   ]
  },
  {
   "cell_type": "code",
   "execution_count": 141,
   "id": "66042ee6-cbcf-4aee-9140-7db1be493656",
   "metadata": {},
   "outputs": [],
   "source": [
    "retrieval_chain = (\n",
    "    \n",
    "        {\"context\": SemanticScholarQueryRun(api_wrapper=api_wrapper), \"query\": RunnablePassthrough()}\n",
    "        | prompt_query\n",
    "        | llm\n",
    "    | StrOutputParser()\n",
    "    \n",
    ")"
   ]
  },
  {
   "cell_type": "code",
   "execution_count": 142,
   "id": "f419b5b5-16b3-4728-bec0-d533e8d2a501",
   "metadata": {},
   "outputs": [],
   "source": [
    "out = retrieval_chain.invoke(\"What is the SAPHO syndrome and what are the symptoms?\")"
   ]
  },
  {
   "cell_type": "code",
   "execution_count": 143,
   "id": "00ca3fac-2cf8-405c-9c77-d20d7bbc1014",
   "metadata": {},
   "outputs": [
    {
     "name": "stdout",
     "output_type": "stream",
     "text": [
      "## SAPHO Syndrome: A Rare Inflammatory Condition\n",
      "\n",
      "**SAPHO** stands for **Synovitis, Acne, Pustulosis, Hyperostosis, and Osteitis**. It's a rare inflammatory condition that primarily affects the bones, skin, and joints. While the exact cause is unknown, it's believed to be an autoimmune disorder where the body's immune system mistakenly attacks healthy tissues. \n",
      "\n",
      "**List of Papers:**\n",
      "\n",
      "* **\"SAPHO syndrome: a review\"** by  A.  M.  G.  van  der  Heijden  et  al. (2004) - This paper provides a comprehensive overview of SAPHO syndrome, including its clinical presentation, diagnosis, and treatment.\n",
      "* **\"SAPHO syndrome: a clinical and radiological study\"** by  J.  C.  van  der  Heijden  et  al. (2002) - This paper focuses on the clinical and radiological features of SAPHO syndrome, highlighting the importance of imaging studies in diagnosis.\n",
      "* **\"Treatment of SAPHO syndrome: a review\"** by  M.  A.  van  der  Heijden  et  al. (2006) - This paper reviews the various treatment options for SAPHO syndrome, including medications and surgical interventions.\n",
      "\n",
      "**Description and Symptoms:**\n",
      "\n",
      "SAPHO syndrome is characterized by a combination of symptoms affecting different parts of the body:\n",
      "\n",
      "* **Skin:** Acne, pustular psoriasis, and other inflammatory skin conditions are common.\n",
      "* **Bones:**  Hyperostosis (excessive bone growth) and osteitis (inflammation of the bone) can occur, particularly in the skull, spine, and long bones.\n",
      "* **Joints:** Synovitis (inflammation of the joint lining) can cause pain, swelling, and stiffness in the joints, especially in the spine, hips, and knees.\n",
      "* **Other:** Fever, fatigue, and weight loss can also occur.\n",
      "\n",
      "The symptoms of SAPHO syndrome can vary widely from person to person, and the severity of the condition can range from mild to severe.\n",
      "\n",
      "**Treatment:**\n",
      "\n",
      "Treatment for SAPHO syndrome aims to manage the symptoms and prevent further complications. The specific treatment plan will depend on the severity of the condition and the individual's symptoms. Common treatment options include:\n",
      "\n",
      "* **Nonsteroidal anti-inflammatory drugs (NSAIDs):** These medications can help reduce pain and inflammation.\n",
      "* **Corticosteroids:** These medications can be used to suppress the immune system and reduce inflammation.\n",
      "* **Disease-modifying antirheumatic drugs (DMARDs):** These medications can help slow the progression of the disease.\n",
      "* **Biologic therapies:** These medications target specific proteins involved in the immune response and can be effective in treating severe cases of SAPHO syndrome.\n",
      "* **Surgery:** In some cases, surgery may be necessary to correct bone deformities or relieve pressure on nerves.\n",
      "\n",
      "It's important to note that SAPHO syndrome is a complex condition, and treatment can be challenging. Early diagnosis and treatment are crucial to prevent complications and improve long-term outcomes. \n",
      "\n"
     ]
    }
   ],
   "source": [
    "print(out)"
   ]
  },
  {
   "cell_type": "code",
   "execution_count": 145,
   "id": "dbeeffc7-8160-4bc0-a306-e017e33228c7",
   "metadata": {},
   "outputs": [],
   "source": [
    "# Search\n",
    "search = GoogleSearchAPIWrapper()"
   ]
  },
  {
   "cell_type": "code",
   "execution_count": 146,
   "id": "40c6db53-ace5-400a-bc5a-98ca5f8c3845",
   "metadata": {},
   "outputs": [],
   "source": [
    "# Vectorstore\n",
    "vectorstore = Chroma(\n",
    "    embedding_function=GoogleGenerativeAIEmbeddings(\n",
    "                        model=\"models/embedding-001\",\n",
    "                        credentials=vertex_credentials,\n",
    "                        google_api_key=google_api_key,\n",
    "                    ), persist_directory=\"./chroma_db_google\"\n",
    ")"
   ]
  },
  {
   "cell_type": "code",
   "execution_count": 159,
   "id": "23fc18c5-26c3-4bd9-81e7-3b7d1b05948d",
   "metadata": {},
   "outputs": [],
   "source": [
    "# Initialize\n",
    "web_research_retriever = WebResearchRetriever.from_llm(\n",
    "    vectorstore=vectorstore, llm=llm, search=search\n",
    ")"
   ]
  },
  {
   "cell_type": "code",
   "execution_count": 160,
   "id": "a962e8ed-766b-452b-809b-6056968d36e5",
   "metadata": {},
   "outputs": [],
   "source": [
    "import logging\n",
    "\n",
    "logging.basicConfig()\n",
    "logging.getLogger(\"langchain.retrievers.web_research\").setLevel(logging.INFO)\n"
   ]
  },
  {
   "cell_type": "code",
   "execution_count": 161,
   "id": "7fbcb3bc-c681-44c6-b3ca-ecea4b8a7293",
   "metadata": {},
   "outputs": [],
   "source": [
    "template2 = \"\"\" Question: {question} \n",
    "                based on your findings return an anwers and citate the sources\n",
    "\n",
    "                  \n",
    "\"\"\"\n",
    "prompt_query = ChatPromptTemplate.from_template(template2)"
   ]
  },
  {
   "cell_type": "code",
   "execution_count": 162,
   "id": "907b9ad4-ad0b-4432-aa19-bedc561fae54",
   "metadata": {},
   "outputs": [],
   "source": [
    "user_input = \"What is the Síndrome SAPHO and what are the symptoms? Based on your findings write a description, main symptoms and how to treat them \"\n",
    "qa_chain = RetrievalQAWithSourcesChain.from_chain_type(\n",
    "    llm, retriever=web_research_retriever\n",
    ")\n",
    "#result = qa_chain.invoke({\"question\": user_input})"
   ]
  },
  {
   "cell_type": "code",
   "execution_count": 153,
   "id": "19eb45e4-988e-4c4e-96de-c26a0124a389",
   "metadata": {},
   "outputs": [
    {
     "data": {
      "text/plain": [
       "dict_keys(['question', 'answer', 'sources'])"
      ]
     },
     "execution_count": 153,
     "metadata": {},
     "output_type": "execute_result"
    }
   ],
   "source": [
    "result.keys()"
   ]
  },
  {
   "cell_type": "code",
   "execution_count": 152,
   "id": "1c089d53-f9c2-403b-8c83-315dd659eaa8",
   "metadata": {},
   "outputs": [
    {
     "data": {
      "text/plain": [
       "\"SAPHO syndrome is a rare inflammatory disorder that affects the bones, skin, and joints. It is characterized by a combination of symptoms, including:\\n\\n* **Synovitis:** Inflammation of the joints, often affecting the sterno-clavicular joint (where the collarbone meets the breastbone), sacroiliac joint (where the spine meets the pelvis), and other joints.\\n* **Acne:** Severe, persistent acne, often with pustules (pus-filled bumps).\\n* **Pustulosis:** Pustules on the skin, often on the palms of the hands and soles of the feet.\\n* **Hyperostosis:** Thickening of the bones, often in the skull, spine, and pelvis.\\n* **Osteitis:** Inflammation of the bone, often affecting the sterno-clavicular joint, sacroiliac joint, and other joints.\\n\\nThe exact cause of SAPHO syndrome is unknown, but it is thought to be an autoimmune disorder, meaning the body's immune system attacks its own tissues. It may also be triggered by infections, such as bacteria or viruses.\\n\\nTreatment for SAPHO syndrome typically involves a combination of medications, including:\\n\\n* **Nonsteroidal anti-inflammatory drugs (NSAIDs):** These medications help to reduce pain and inflammation.\\n* **Disease-modifying antirheumatic drugs (DMARDs):** These medications help to suppress the immune system and slow the progression of the disease.\\n* **Biphosphonates:** These medications help to strengthen bones and prevent bone loss.\\n* **Antibiotics:** These medications may be used to treat any underlying infections.\\n* **Corticosteroids:** These medications can be used to reduce inflammation, but they are not a long-term solution.\\n\\nIn some cases, surgery may be necessary to correct bone deformities or to remove inflamed tissue.\\n\\n**\""
      ]
     },
     "execution_count": 152,
     "metadata": {},
     "output_type": "execute_result"
    }
   ],
   "source": [
    "result['answer']"
   ]
  },
  {
   "cell_type": "code",
   "execution_count": 154,
   "id": "c6b235ff-ebf6-4573-9ff0-f4535bf8e3e7",
   "metadata": {},
   "outputs": [
    {
     "data": {
      "text/plain": [
       "'**'"
      ]
     },
     "execution_count": 154,
     "metadata": {},
     "output_type": "execute_result"
    }
   ],
   "source": [
    "result['sources']"
   ]
  },
  {
   "cell_type": "code",
   "execution_count": 163,
   "id": "104b87dc-54e9-4421-a02e-2c54e3966336",
   "metadata": {},
   "outputs": [],
   "source": [
    "map_chain = RunnableParallel(scholar=retrieval_chain, google=qa_chain)"
   ]
  },
  {
   "cell_type": "code",
   "execution_count": 164,
   "id": "cc113b37-7f51-422b-b7d1-0e2fd0a2ff9d",
   "metadata": {},
   "outputs": [
    {
     "name": "stderr",
     "output_type": "stream",
     "text": [
      "Fetching pages: 100%|####################################################################| 2/2 [00:01<00:00,  1.83it/s]\n"
     ]
    }
   ],
   "source": [
    "response = map_chain.invoke({\"question\": user_input, \"query\" :\"What is the SAPHO syndrome and what are the symptoms?\"})"
   ]
  },
  {
   "cell_type": "code",
   "execution_count": 165,
   "id": "4eb150b4-4965-49ef-acc0-9557de577fac",
   "metadata": {},
   "outputs": [
    {
     "data": {
      "text/plain": [
       "dict_keys(['scholar', 'google'])"
      ]
     },
     "execution_count": 165,
     "metadata": {},
     "output_type": "execute_result"
    }
   ],
   "source": [
    "response.keys()"
   ]
  },
  {
   "cell_type": "code",
   "execution_count": 166,
   "id": "c6ef2b27-61a0-43c4-bd41-e8292f6b52eb",
   "metadata": {},
   "outputs": [
    {
     "data": {
      "text/plain": [
       "\"SAPHO syndrome is a rare inflammatory disorder that affects the bones, skin, and joints. It is characterized by a combination of symptoms, including:\\n\\n* **Synovitis:** Inflammation of the joints, often affecting the sterno-clavicular joint (where the collarbone meets the breastbone), sacroiliac joint (where the spine meets the pelvis), and other joints.\\n* **Acne:** Severe, persistent acne, often with pustules (pus-filled bumps).\\n* **Pustulosis:** Pustules on the skin, often on the palms of the hands and soles of the feet.\\n* **Hyperostosis:** Thickening of the bones, often in the skull, spine, and pelvis.\\n* **Osteitis:** Inflammation of the bone, often affecting the sterno-clavicular joint, sacroiliac joint, and other joints.\\n\\nThe exact cause of SAPHO syndrome is unknown, but it is thought to be an autoimmune disorder, meaning the body's immune system attacks its own tissues. It may also be triggered by infections, such as bacteria or viruses.\\n\\nTreatment for SAPHO syndrome typically involves a combination of medications, including:\\n\\n* **Nonsteroidal anti-inflammatory drugs (NSAIDs):** These medications help to reduce pain and inflammation.\\n* **Disease-modifying antirheumatic drugs (DMARDs):** These medications help to suppress the immune system and slow the progression of the disease.\\n* **Biphosphonates:** These medications help to strengthen bones and prevent bone loss.\\n* **Antibiotics:** These medications may be used to treat any underlying infections.\\n* **Corticosteroids:** These medications can be used to reduce inflammation, but they are not a long-term solution.\\n\\nIn some cases, surgery may be necessary to correct bone deformities or to remove inflamed tissue.\\n\\n**\""
      ]
     },
     "execution_count": 166,
     "metadata": {},
     "output_type": "execute_result"
    }
   ],
   "source": [
    "response['google'].get(\"answer\")"
   ]
  },
  {
   "cell_type": "code",
   "execution_count": 167,
   "id": "4b26523b-4f9d-4214-8189-0867736f6e63",
   "metadata": {},
   "outputs": [
    {
     "data": {
      "text/plain": [
       "'## SAPHO Syndrome: A Rare Inflammatory Condition\\n\\n**List of Papers:**\\n\\n* **\"SAPHO syndrome: a review\"** by  A.  M.  G.  van  der  Heijden  et  al.  (2004) - This comprehensive review provides an overview of the syndrome, its clinical features, and diagnostic criteria.\\n* **\"SAPHO syndrome: a clinical and radiological study\"** by  J.  C.  van  der  Heijden  et  al.  (2002) - This study focuses on the clinical and radiological manifestations of SAPHO syndrome.\\n* **\"Treatment of SAPHO syndrome: a review\"** by  M.  A.  van  der  Heijden  et  al.  (2006) - This review discusses various treatment options for SAPHO syndrome, including medications and surgical interventions.\\n\\n**Description and Symptoms:**\\n\\nSAPHO syndrome, an acronym for **S**ynovitis, **A**cne, **P**ustulosis, **H**yperostosis, and **O**steitis, is a rare inflammatory condition characterized by a combination of bone and skin lesions. It is a complex disorder with a wide range of symptoms and severity. \\n\\n**Main Symptoms:**\\n\\n* **Skin lesions:** Acne, pustulosis (small pus-filled bumps), and other inflammatory skin conditions.\\n* **Bone lesions:** Osteitis (inflammation of bone), hyperostosis (excessive bone growth), and synovitis (inflammation of the joints).\\n* **Joint pain and swelling:**  Especially in the spine, ribs, and extremities.\\n* **Fever:**  Often associated with active inflammation.\\n* **Fatigue:**  A common symptom due to chronic inflammation.\\n\\n**Treatment:**\\n\\nTreatment for SAPHO syndrome is tailored to the individual patient and the severity of their symptoms. It often involves a multidisciplinary approach, including:\\n\\n* **Medications:**\\n    * **Nonsteroidal anti-inflammatory drugs (NSAIDs):**  To reduce pain and inflammation.\\n    * **Corticosteroids:**  To suppress inflammation, often administered orally or injected directly into affected joints.\\n    * **Disease-modifying antirheumatic drugs (DMARDs):**  To slow down the progression of the disease.\\n    * **Biologic agents:**  Targeted therapies that block specific inflammatory pathways.\\n* **Surgery:**  In some cases, surgery may be necessary to correct bone deformities or relieve pressure on nerves.\\n* **Physical therapy:**  To improve joint mobility and strength.\\n* **Lifestyle modifications:**  Maintaining a healthy weight, avoiding smoking, and managing stress can help manage symptoms.\\n\\n**Important Note:** SAPHO syndrome is a complex and challenging condition. Early diagnosis and treatment are crucial to prevent long-term complications. If you suspect you may have SAPHO syndrome, it is essential to consult a qualified healthcare professional for proper diagnosis and management. \\n'"
      ]
     },
     "execution_count": 167,
     "metadata": {},
     "output_type": "execute_result"
    }
   ],
   "source": [
    "response['scholar']"
   ]
  },
  {
   "cell_type": "code",
   "execution_count": 107,
   "id": "69eda453-8e3a-41df-aab9-70f37e0299f4",
   "metadata": {},
   "outputs": [],
   "source": [
    "from operator import itemgetter"
   ]
  },
  {
   "cell_type": "code",
   "execution_count": 168,
   "id": "cd20bce0-5926-4c89-8313-cf17cfc3d24a",
   "metadata": {},
   "outputs": [],
   "source": [
    "template_last=\"\"\"\n",
    "you are a researcher wich take diferent inputs and combine the to provide an anwers\n",
    "instruction to build the final answer to the question{question}\n",
    "from {context}\n",
    "- extract 2 dictionaries with keys scholar and google \n",
    "- content of scholar is the input 1\n",
    "- from dictionary google extract the key answer and this is the input 2\n",
    "- with the input 1 and input2  build a final answer in human languange \n",
    "\"\"\"\n",
    "prompt_last = ChatPromptTemplate.from_template(template_last)\n",
    "second_chain = prompt_last | llm"
   ]
  },
  {
   "cell_type": "code",
   "execution_count": 169,
   "id": "8b1963f5-8c91-48ce-8553-72ebd054d2ae",
   "metadata": {},
   "outputs": [],
   "source": [
    "complete_chain = (\n",
    "    {   \"question\" :itemgetter(\"question\"),\n",
    "         \"query\":  itemgetter(\"query\"),  \n",
    "     \"context\" : map_chain\n",
    "         \n",
    "    } | RunnablePassthrough.assign(d=second_chain)\n",
    ")"
   ]
  },
  {
   "cell_type": "code",
   "execution_count": 170,
   "id": "bd642647-344f-4acd-b97a-eb65dcab3011",
   "metadata": {},
   "outputs": [],
   "source": [
    "response = complete_chain.invoke({\"question\": user_input, \"query\" :\"What is the SAPHO syndrome and what are the symptoms?\"})"
   ]
  },
  {
   "cell_type": "code",
   "execution_count": 171,
   "id": "f5a28798-343d-485d-acb6-35c454254426",
   "metadata": {},
   "outputs": [
    {
     "data": {
      "text/plain": [
       "dict_keys(['question', 'query', 'context', 'd'])"
      ]
     },
     "execution_count": 171,
     "metadata": {},
     "output_type": "execute_result"
    }
   ],
   "source": [
    "response.keys()"
   ]
  },
  {
   "cell_type": "code",
   "execution_count": 172,
   "id": "94e1b409-9f2e-43d3-a7a5-48c7fac36968",
   "metadata": {},
   "outputs": [
    {
     "name": "stdout",
     "output_type": "stream",
     "text": [
      "## SAPHO Syndrome: A Rare Inflammatory Condition\n",
      "\n",
      "SAPHO syndrome, an acronym for **S**ynovitis, **A**cne, **P**ustulosis, **H**yperostosis, and **O**steitis, is a rare inflammatory condition characterized by a combination of bone and skin lesions. It is a complex disorder with a wide range of symptoms and severity. \n",
      "\n",
      "**Main Symptoms:**\n",
      "\n",
      "* **Skin lesions:** Acne, pustulosis, and other skin eruptions are common.\n",
      "* **Bone lesions:**  Inflammation and bone overgrowth (hyperostosis) can occur in various parts of the skeleton, particularly the spine, ribs, sternum, and skull.\n",
      "* **Joint pain and swelling:**  Synovitis, inflammation of the joint lining, can cause pain and swelling in the affected joints.\n",
      "* **Fever:**  Fever is a common symptom, especially during active phases of the disease.\n",
      "* **Fatigue:**  Chronic fatigue is often reported by individuals with SAPHO syndrome.\n",
      "\n",
      "**Treatment:**\n",
      "\n",
      "Treatment for SAPHO syndrome is tailored to the individual patient and the severity of their symptoms. The primary goals of treatment are to manage pain, reduce inflammation, and prevent further bone damage.\n",
      "\n",
      "**Common Treatment Options:**\n",
      "\n",
      "* **Nonsteroidal anti-inflammatory drugs (NSAIDs):**  NSAIDs are often the first-line treatment for pain and inflammation.\n",
      "* **Corticosteroids:**  Corticosteroids can be administered orally, intravenously, or locally to reduce inflammation.\n",
      "* **Disease-modifying antirheumatic drugs (DMARDs):**  DMARDs, such as methotrexate and sulfasalazine, can help suppress the immune system and reduce inflammation.\n",
      "* **Biologic therapies:**  Biologic therapies, such as TNF inhibitors, can be effective in treating severe cases of SAPHO syndrome.\n",
      "* **Surgery:**  Surgery may be necessary in some cases to correct bone deformities or to remove affected tissue.\n",
      "\n",
      "**Additional Information from Google:**\n",
      "\n",
      "SAPHO syndrome is thought to be an autoimmune disorder, meaning the body's immune system attacks its own tissues. It may also be triggered by infections, such as bacteria or viruses. \n",
      "\n",
      "Treatment for SAPHO syndrome often includes:\n",
      "\n",
      "* **Biphosphonates:** These medications help to strengthen bones and reduce bone loss.\n",
      "* **Antibiotics:** These medications may be used to treat any underlying infections.\n",
      "\n",
      "**Note:**  SAPHO syndrome is a complex and challenging condition. Early diagnosis and treatment are crucial to prevent complications and improve long-term outcomes. If you suspect you may have SAPHO syndrome, it is important to consult with a qualified healthcare professional for proper diagnosis and management. \n",
      "\n"
     ]
    }
   ],
   "source": [
    "print(response['d'].content)"
   ]
  },
  {
   "cell_type": "code",
   "execution_count": 173,
   "id": "fbb4bf9a-672d-4b18-9aff-24d5dd5f01f6",
   "metadata": {},
   "outputs": [
    {
     "data": {
      "text/plain": [
       "{'scholar': '## SAPHO Syndrome: A Rare Inflammatory Condition\\n\\n**List of Papers:**\\n\\n* **\"SAPHO syndrome: a review\"** by  A.  M.  G.  van  der  Heijden,  et  al.  (2004) - This comprehensive review provides an overview of the syndrome, its clinical features, and diagnostic criteria.\\n* **\"SAPHO syndrome: a clinical and radiological study\"** by  J.  C.  L.  van  der  Heijden,  et  al.  (2002) - This study focuses on the clinical and radiological manifestations of SAPHO syndrome.\\n* **\"Treatment of SAPHO syndrome: a review\"** by  M.  A.  van  der  Heijden,  et  al.  (2006) - This review discusses various treatment options for SAPHO syndrome, including medications and surgical interventions.\\n\\n**Description and Symptoms:**\\n\\nSAPHO syndrome, an acronym for **S**ynovitis, **A**cne, **P**ustulosis, **H**yperostosis, and **O**steitis, is a rare inflammatory condition characterized by a combination of bone and skin lesions. It is a complex disorder with a wide range of symptoms and severity. \\n\\n**Main Symptoms:**\\n\\n* **Skin lesions:** Acne, pustulosis, and other skin eruptions are common.\\n* **Bone lesions:**  Inflammation and bone overgrowth (hyperostosis) can occur in various parts of the skeleton, particularly the spine, ribs, sternum, and skull.\\n* **Joint pain and swelling:**  Synovitis, inflammation of the joint lining, can cause pain and swelling in the affected joints.\\n* **Fever:**  Fever is a common symptom, especially during active phases of the disease.\\n* **Fatigue:**  Chronic fatigue is often reported by individuals with SAPHO syndrome.\\n\\n**Treatment:**\\n\\nTreatment for SAPHO syndrome is tailored to the individual patient and the severity of their symptoms. The primary goals of treatment are to manage pain, reduce inflammation, and prevent further bone damage.\\n\\n**Common Treatment Options:**\\n\\n* **Nonsteroidal anti-inflammatory drugs (NSAIDs):**  NSAIDs are often the first-line treatment for pain and inflammation.\\n* **Corticosteroids:**  Corticosteroids can be administered orally, intravenously, or locally to reduce inflammation.\\n* **Disease-modifying antirheumatic drugs (DMARDs):**  DMARDs, such as methotrexate and sulfasalazine, can help suppress the immune system and reduce inflammation.\\n* **Biologic therapies:**  Biologic therapies, such as TNF inhibitors, can be effective in treating severe cases of SAPHO syndrome.\\n* **Surgery:**  Surgery may be necessary in some cases to correct bone deformities or to remove affected tissue.\\n\\n**Note:**  SAPHO syndrome is a complex and challenging condition. Early diagnosis and treatment are crucial to prevent complications and improve long-term outcomes. If you suspect you may have SAPHO syndrome, it is important to consult with a qualified healthcare professional for proper diagnosis and management. \\n',\n",
       " 'google': {'question': 'What is the Síndrome SAPHO and what are the symptoms? Based on your findings write a description, main symptoms and how to treat them ',\n",
       "  'query': 'What is the SAPHO syndrome and what are the symptoms?',\n",
       "  'answer': \"SAPHO syndrome is a rare inflammatory disorder that affects the bones, skin, and joints. It is characterized by a combination of symptoms, including:\\n\\n* **Synovitis:** Inflammation of the joints, often affecting the sterno-clavicular joint (where the collarbone meets the breastbone), sacroiliac joint (where the spine meets the pelvis), and other joints.\\n* **Acne:** Severe, persistent acne, often with pustules (pus-filled bumps).\\n* **Pustulosis:** Pustules on the skin, often on the palms of the hands and soles of the feet.\\n* **Hyperostosis:** Thickening of the bones, often in the skull, spine, and pelvis.\\n* **Osteitis:** Inflammation of the bone, often affecting the sterno-clavicular joint, sacroiliac joint, and other joints.\\n\\nThe exact cause of SAPHO syndrome is unknown, but it is thought to be an autoimmune disorder, meaning the body's immune system attacks its own tissues. It may also be triggered by infections, such as bacteria or viruses.\\n\\nTreatment for SAPHO syndrome typically involves a combination of medications, including:\\n\\n* **Nonsteroidal anti-inflammatory drugs (NSAIDs):** These medications help to reduce pain and inflammation.\\n* **Corticosteroids:** These medications are more potent anti-inflammatory drugs that can be used for short periods of time to reduce inflammation.\\n* **Disease-modifying antirheumatic drugs (DMARDs):** These medications help to suppress the immune system and slow the progression of the disease.\\n* **Biphosphonates:** These medications help to strengthen bones and reduce bone loss.\\n* **Antibiotics:** These medications may be used to treat any underlying infections.\\n\\nIn some cases, surgery may be necessary to correct bone deformities or to remove inflamed tissue.\\n\\nIt is important to note that SAPHO syndrome is a complex disorder, and treatment may vary depending on the individual patient. If you are experiencing any of the symptoms of SAPHO syndrome, it is important to see a doctor for diagnosis and treatment.\\n\\n**\",\n",
       "  'sources': '**'}}"
      ]
     },
     "execution_count": 173,
     "metadata": {},
     "output_type": "execute_result"
    }
   ],
   "source": [
    "response['context']"
   ]
  },
  {
   "cell_type": "code",
   "execution_count": null,
   "id": "d25bc339-5ae3-4222-a0d6-9d83aaea2832",
   "metadata": {},
   "outputs": [],
   "source": []
  }
 ],
 "metadata": {
  "kernelspec": {
   "display_name": "Python (vertex)",
   "language": "python",
   "name": "vertex"
  },
  "language_info": {
   "codemirror_mode": {
    "name": "ipython",
    "version": 3
   },
   "file_extension": ".py",
   "mimetype": "text/x-python",
   "name": "python",
   "nbconvert_exporter": "python",
   "pygments_lexer": "ipython3",
   "version": "3.11.7"
  }
 },
 "nbformat": 4,
 "nbformat_minor": 5
}
