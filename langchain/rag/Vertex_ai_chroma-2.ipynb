{
 "cells": [
  {
   "cell_type": "code",
   "execution_count": 1,
   "id": "16f4a964-c9a3-4246-903b-6d7af256d90f",
   "metadata": {},
   "outputs": [],
   "source": [
    "#! pip install -U langchain-google-genai langchain langchain-community langchain-experimental langchain-openai langchain-pinecone langchain-text-splitters -q --user"
   ]
  },
  {
   "cell_type": "markdown",
   "id": "c3c08568-8644-47d9-9845-3eefd32ef9c5",
   "metadata": {},
   "source": [
    "# Langchain\n",
    "https://api.python.langchain.com/en/latest/chains/langchain.chains.combine_documents.stuff.create_stuff_documents_chain.html\n",
    "https://python.langchain.com/v0.2/docs/how_to/chatbots_retrieval/#document-chains\n",
    "### create_retrieval_chain\n",
    "https://python.langchain.com/v0.1/docs/use_cases/chatbots/retrieval/\n",
    "### Chroma\n",
    "https://python.langchain.com/v0.2/docs/integrations/vectorstores/chroma/\n",
    "### Pdf loader\n",
    "https://python.langchain.com/v0.1/docs/modules/data_connection/document_loaders/pdf/\n",
    "### Google Genai\n",
    "https://python.langchain.com/v0.1/docs/integrations/chat/google_generative_ai/\n",
    "\n",
    "# Vertexai\n",
    "https://cloud.google.com/vertex-ai/docs/general/custom-service-account\n",
    "\n",
    "# GeminiAI\n",
    "https://ai.google.dev/gemini-api/docs/api-key\n",
    "\n",
    "# Chroma\n",
    "https://docs.trychroma.com/integrations/google-gemini\n",
    "https://docs.trychroma.com/guides/embeddings"
   ]
  },
  {
   "cell_type": "code",
   "execution_count": 1,
   "id": "cad5fd6e-2c5f-4825-b862-d88eb610f516",
   "metadata": {},
   "outputs": [],
   "source": [
    "import os, tempfile\n",
    "from langchain.prompts import PromptTemplate\n",
    "from langchain.chains.combine_documents import create_stuff_documents_chain\n",
    "from langchain.chains import create_retrieval_chain\n",
    "from langchain_chroma import Chroma\n",
    "from langchain_google_genai import ChatGoogleGenerativeAI, GoogleGenerativeAIEmbeddings\n",
    "from langchain_community.document_loaders import PyPDFLoader\n",
    "from google.oauth2 import service_account\n",
    "from dotenv import dotenv_values\n",
    "import json\n",
    "import vertexai\n",
    "import chromadb.utils.embedding_functions as embedding_functions\n",
    "import chromadb\n",
    "import uuid\n"
   ]
  },
  {
   "cell_type": "code",
   "execution_count": 2,
   "id": "5b778ae7-41c4-4b96-b3eb-9a9aaf83cfdb",
   "metadata": {},
   "outputs": [],
   "source": [
    "config = dotenv_values(\"keys/.env\")\n",
    "with open(\"keys/complete-tube-421007-9a7c35cd44e2.json\") as source:\n",
    "    info = json.load(source)\n",
    "\n",
    "vertex_credentials = service_account.Credentials.from_service_account_info(info)\n",
    "vertexai.init(\n",
    "    project=config[\"PROJECT\"],\n",
    "    location=config[\"REGION\"],\n",
    "    credentials=vertex_credentials,\n",
    ")\n",
    "google_api_key = config[\"GEMINI-API-KEY\"]\n",
    "os.environ[\"GEMINI_API_KEY\"] = google_api_key"
   ]
  },
  {
   "cell_type": "code",
   "execution_count": 3,
   "id": "d0c39211-5ff3-44de-ba85-dfc5c097e75e",
   "metadata": {},
   "outputs": [],
   "source": [
    "client = chromadb.PersistentClient(path=\"./chroma_db\")"
   ]
  },
  {
   "cell_type": "code",
   "execution_count": 4,
   "id": "b79a41cf-bcfe-4ec2-aefa-f5277c9a30ee",
   "metadata": {},
   "outputs": [],
   "source": [
    "embeddings_retriever = GoogleGenerativeAIEmbeddings(\n",
    "                        model=\"models/embedding-001\",\n",
    "                        credentials=vertex_credentials,\n",
    "                        google_api_key=google_api_key,\n",
    "                    )\n",
    "\n",
    "google_ef  = embedding_functions.GoogleGenerativeAiEmbeddingFunction(api_key=google_api_key)"
   ]
  },
  {
   "cell_type": "code",
   "execution_count": 5,
   "id": "4e4227c0-e90f-43fd-a6d3-7b800adc49f4",
   "metadata": {},
   "outputs": [],
   "source": [
    "mypath = \"./docs\"\n",
    "onlyfiles = [f for f in os.listdir(mypath) if os.path.isfile(os.path.join(mypath, f))]"
   ]
  },
  {
   "cell_type": "code",
   "execution_count": 18,
   "id": "eaca6381-03fb-4402-a7d7-b0aed259db3f",
   "metadata": {},
   "outputs": [
    {
     "data": {
      "text/plain": [
       "['Baremo 2015.pdf',\n",
       " 'BAREMO_AMA_BOE_RD_1971-1999.pdf',\n",
       " 'BAREMO_PARA_LA_CALIFICACION_DEL_GRADO_DE_MINUSVALIA_Anexo_I_RD_1971-1999.pdf',\n",
       " 'Clasificación de intervenciòn quirúrgica por nomenclator.pdf',\n",
       " 'enfermedades profesionales de los agricultores.pdf',\n",
       " 'Guia de Valoración Profesional.pdf',\n",
       " 'GUIA_DE_VALORACION_DE_INCAPACIDAD_LABORAL_PARA_AP.pdf',\n",
       " 'ley_enjuiciamiento_civil.pdf',\n",
       " 'Proyecto de Ley Valoracion daÃ±os.pdf',\n",
       " 'Tabla combinada de valoración de minusvalia.pdf',\n",
       " 'Tablas_indemnizatorias_Baremo_2024.pdf',\n",
       " 'Valoración del INSS de enfermedades para incapacidades.pdf']"
      ]
     },
     "execution_count": 18,
     "metadata": {},
     "output_type": "execute_result"
    }
   ],
   "source": [
    "onlyfiles"
   ]
  },
  {
   "cell_type": "code",
   "execution_count": 6,
   "id": "2133ade0-e7fc-4d39-8953-5b8c07cf5f97",
   "metadata": {},
   "outputs": [],
   "source": [
    "def load_file(path):\n",
    "    # load pdf file and transform into Langchain Documents\n",
    "    loader = PyPDFLoader(path)\n",
    "    pages = loader.load_and_split()\n",
    "    return pages\n",
    "\n",
    "def get_docs_to_add_vectorstore(pages, file, google_ef):\n",
    "    # get components to add to Chroma\n",
    "    documents = []\n",
    "    ids= []\n",
    "    metadatas= []\n",
    "    embeddings = []\n",
    "\n",
    "    for page in pages:\n",
    "        emb = google_ef([page.page_content])\n",
    "        embeddings.append(emb[0])\n",
    "        metadatas.append({\"page\": page.metadata.get(\"page\"), \"filename\":file})\n",
    "        ids.append(uuid.uuid1().hex)\n",
    "        documents.append(page.page_content)\n",
    "    return  documents,  ids, metadatas, embeddings "
   ]
  },
  {
   "cell_type": "code",
   "execution_count": 7,
   "id": "a7b19a4e-ddce-4745-acef-ee7f4c650560",
   "metadata": {},
   "outputs": [],
   "source": [
    "collection = client.get_or_create_collection(name=\"forensic\", embedding_function=google_ef)"
   ]
  },
  {
   "cell_type": "code",
   "execution_count": 8,
   "id": "ee228fa5-0f4c-4281-885a-9538cb094a7d",
   "metadata": {},
   "outputs": [
    {
     "name": "stdout",
     "output_type": "stream",
     "text": [
      " Loaded file Baremo 2015.pdf with 673 \n",
      "673\n",
      " Loaded file BAREMO_AMA_BOE_RD_1971-1999.pdf with 139 \n",
      "812\n",
      " Loaded file BAREMO_PARA_LA_CALIFICACION_DEL_GRADO_DE_MINUSVALIA_Anexo_I_RD_1971-1999.pdf with 283 \n",
      "1095\n",
      " Loaded file Clasificación de intervenciòn quirúrgica por nomenclator.pdf with 254 \n",
      "1349\n",
      " Loaded file enfermedades profesionales de los agricultores.pdf with 36 \n",
      "1385\n",
      " Loaded file Guia de Valoración Profesional.pdf with 1211 \n",
      "2596\n",
      " Loaded file GUIA_DE_VALORACION_DE_INCAPACIDAD_LABORAL_PARA_AP.pdf with 346 \n",
      "2942\n",
      " Loaded file ley_enjuiciamiento_civil.pdf with 360 \n",
      "3302\n",
      " Loaded file Proyecto de Ley Valoracion daÃ±os.pdf with 47 \n",
      "3349\n",
      " Loaded file Tabla combinada de valoración de minusvalia.pdf with 5 \n",
      "3354\n",
      " Loaded file Tablas_indemnizatorias_Baremo_2024.pdf with 42 \n",
      "3396\n",
      " Loaded file Valoración del INSS de enfermedades para incapacidades.pdf with 411 \n",
      "3807\n"
     ]
    }
   ],
   "source": [
    "# add documents to Chroma\n",
    "for file in onlyfiles:\n",
    "    path = os.path.join(\"docs\", file)\n",
    "    pages = load_file(path)\n",
    "    print(f\" Loaded file {file} with {len(pages)} \")\n",
    "    documents,  ids, metadatas, embeddings = get_docs_to_add_vectorstore(pages, file, google_ef)\n",
    "    # add documents to collection\n",
    "    collection.add(\n",
    "    documents=documents,\n",
    "    embeddings=embeddings,\n",
    "    metadatas=metadatas,\n",
    "    ids=ids\n",
    ")\n",
    "    print(collection.count())"
   ]
  },
  {
   "cell_type": "code",
   "execution_count": 9,
   "id": "555d4206-444c-4788-aaa1-ba1179f4604a",
   "metadata": {},
   "outputs": [],
   "source": [
    "# get vectorstore from Presistem directory"
   ]
  },
  {
   "cell_type": "code",
   "execution_count": 10,
   "id": "34dcc1ce-6489-4f41-9e59-a858c1dd85f0",
   "metadata": {},
   "outputs": [],
   "source": [
    "vectorstore = Chroma(persist_directory=\"./chroma_db/\", embedding_function=embeddings_retriever, collection_name= \"forensic\")"
   ]
  },
  {
   "cell_type": "code",
   "execution_count": 11,
   "id": "10d6959a-0bf3-4e12-8ac4-45e2cfbe51e1",
   "metadata": {},
   "outputs": [],
   "source": [
    "retriever = vectorstore.as_retriever(\n",
    "                        search_kwargs={\"k\": 5}\n",
    "                    )"
   ]
  },
  {
   "cell_type": "code",
   "execution_count": 12,
   "id": "9706df80-0c08-4ef8-9de7-85a162925148",
   "metadata": {},
   "outputs": [],
   "source": [
    "llm = ChatGoogleGenerativeAI(\n",
    "                    model=\"gemini-1.5-pro-001\", credentials=vertex_credentials\n",
    "                )"
   ]
  },
  {
   "cell_type": "code",
   "execution_count": 13,
   "id": "99caaf12-99f9-4d9e-abd6-073cb33d9cb5",
   "metadata": {},
   "outputs": [],
   "source": [
    "template = \"\"\"\n",
    "                You are a helpful AI assistant. Answer based on the context provided. \n",
    "                context: {context}\n",
    "                input: {input}\n",
    "                answer:\n",
    "                \"\"\"\n",
    "prompt = PromptTemplate.from_template(template)\n",
    "\n",
    "combine_docs_chain = create_stuff_documents_chain(llm, prompt)\n",
    "retrieval_chain = create_retrieval_chain(\n",
    "    retriever, combine_docs_chain\n",
    ")\n",
    "                \n"
   ]
  },
  {
   "cell_type": "code",
   "execution_count": 19,
   "id": "26ba59cc-5743-484c-8cc8-3d64cc2f7b1f",
   "metadata": {},
   "outputs": [],
   "source": [
    "query=\"enumera las cinco categorías o clases de discapacidad\""
   ]
  },
  {
   "cell_type": "code",
   "execution_count": 35,
   "id": "edec888e-37c7-4b18-9c35-441b6e3e9808",
   "metadata": {},
   "outputs": [],
   "source": [
    "response = retrieval_chain.invoke({\"input\": query})"
   ]
  },
  {
   "cell_type": "code",
   "execution_count": 36,
   "id": "cbff1940-dc72-4d05-baef-b74aeecf69b0",
   "metadata": {},
   "outputs": [
    {
     "data": {
      "text/plain": [
       "dict_keys(['input', 'context', 'answer'])"
      ]
     },
     "execution_count": 36,
     "metadata": {},
     "output_type": "execute_result"
    }
   ],
   "source": [
    "response.keys()"
   ]
  },
  {
   "cell_type": "code",
   "execution_count": 37,
   "id": "9845fd04-5ffe-45c8-8ea6-2dc8a5b8591b",
   "metadata": {},
   "outputs": [
    {
     "name": "stdout",
     "output_type": "stream",
     "text": [
      "Las cinco categorías o clases de discapacidad, ordenadas de menor a mayor porcentaje, según la importancia de la deficiencia y el grado de discapacidad que origina son:\n",
      "\n",
      "1. **CLASE I (0%):** Deficiencias permanentes diagnosticadas y tratadas, demostradas con parámetros objetivos, pero que no producen discapacidad. \n",
      "2. **CLASE II (1 - 24%):** Deficiencias permanentes que originan una discapacidad leve.\n",
      "3. **CLASE III (25 - 49%):** Deficiencias permanentes que originan una discapacidad moderada.\n",
      "4. **CLASE IV (50 - 70%):** Deficiencias permanentes que producen una discapacidad grave.\n",
      "5. **CLASE V (75%):** Deficiencias permanentes severas que originan una discapacidad muy grave, suponiendo la dependencia de otras personas para realizar las actividades más esenciales de la vida diaria. \n",
      "\n"
     ]
    }
   ],
   "source": [
    "print(response['answer'])"
   ]
  },
  {
   "cell_type": "code",
   "execution_count": 38,
   "id": "c0fb6089-9d0c-47a5-bac8-b72c950456cc",
   "metadata": {},
   "outputs": [
    {
     "data": {
      "text/plain": [
       "5"
      ]
     },
     "execution_count": 38,
     "metadata": {},
     "output_type": "execute_result"
    }
   ],
   "source": [
    "len(response['context'])"
   ]
  },
  {
   "cell_type": "code",
   "execution_count": 39,
   "id": "a1ec2159-a76c-4e88-9ccf-44a6b95aa7e0",
   "metadata": {},
   "outputs": [
    {
     "name": "stdout",
     "output_type": "stream",
     "text": [
      "[Document(page_content='NORMAS GENERALES\\n25 Determinación del porcentaje de discapacidad\\nTanto los grados de discapacidad como las actividades de la vida diaria descritos constitu-yen patrones de referencia para la asignación del porcentaje de discapacidad. Este porcen-taje se determinará de acuerdo con los criterios y clases que se especifican en cada uno delos capítulos.\\nCon carácter general se establecen cinco categorías o clases, ordenadas de menor a\\nmayor porcentaje, según la importancia de la deficiencia y el grado de discapacidad queorigina.\\nEstas cinco clases se definen de la forma siguiente:CLASE I\\nSe encuadran en esta clase todas las deficiencias permanentes que han sido diagnosticadas,tratadas adecuadamente, demostradas mediante parámetros objetivos (datos analíticos,radiográficos, etc., que se especifican dentro de cada aparato o sistema), pero que no pro-ducen discapacidad.\\nLa calificación de esta clase es 0 %.CLASE II\\nIncluye las deficiencias permanentes que, cumpliendo los parámetros objetivos que seespecifican en cada aparato o sistema, originan una discapacidad leve.\\nA esta clase corresponde un porcentaje comprendido entre el 1 y el 24 %.CLASE III\\nIncluye las deficiencias permanentes que, cumpliendo los parámetros objetivos que seespecifican en cada uno de los sistemas o aparatos, originan una discapacidad moderada .\\nA esta clase corresponde un porcentaje comprendido entre el 25 y 49 %.CLASE IV\\nIncluye las deficiencias permanentes que, cumpliendo los parámetros objetivos que seespecifican en cada uno de los aparatos o sistemas, producen una discapacidad grave .\\nEl porcentaje que corresponde a esta clase está comprendido entre el 50 y 70 %.CLASE V\\nIncluye las deficiencias permanentes severas que, cumpliendo los parámetros objetivos quese especifican en cada aparato o sistema, originan una discapacidad muy grave .\\nEsta clase, por sí misma, supone la dependencia de otras personas para realizar las activi-\\ndades más esenciales de la vida diaria, demostrada mediante la obtención de 15 o más pun-tos en el baremo específico (ANEXO 2).', metadata={'filename': 'BAREMO_PARA_LA_CALIFICACION_DEL_GRADO_DE_MINUSVALIA_Anexo_I_RD_1971-1999.pdf', 'page': 12}), Document(page_content='BOE núm. 22 Miércoles 26 enero 2000 3321\\n2. Otras actividades de la vida diaria:\\n2.1 Comunicación\\n2.2 Actividad física:\\n2.2.1 Intrínseca (levantarse, vestirse, reclinarse...)\\n2.2.2 Funcional (llevar, elevar, empujar...)\\n2.3 Función sensorial (oír, ver...)\\n2.4 Funciones manuales (agarrar, sujetar, apretar...)2.5 Transporte (se refiere a la capacidad para uti-\\nlizar los medios de transporte)\\n2.6 Función sexual2.7 Sueño2.8 Actividades sociales y de ocio.\\nGrados de discapacidad.\\nGrado 1: discapacidad nula.\\nLos síntomas, signos o secuelas, de existir, son míni-\\nmos y no justifican una disminución de la capacidad dela persona para realizar las actividades de la vida diaria.\\nGrado 2: discapacidad leve.\\nLos síntomas, signos o secuelas existen y justifican\\nalguna dificultad para llevar a cabo las actividades de lavida diaria, pero son compatibles con la práctica totali-dad de las mismas.\\nGrado 3: discapacidad moderada.\\nLos síntomas, signos o secuelas causan una disminu-\\nción importante o imposibilidad de la capacidad de lapersona para realizar algunas de las actividades de lavida diaria, siendo independiente en las actividades deautocuidado.\\nGrado 4: discapacidad grave.\\nLos síntomas, signos o secuelas causan una disminu-\\nción importante o imposibilidad de la capacidad de lapersona para realizar la mayoría de las A.V.D., pudiendoestar afectada alguna de las actividades de autocuidado.\\nGrado 5: discapacidad muy grave.Los síntomas, signos o secuelas imposibilitan la reali-\\nzación de las A.V.D.\\nDeterminación del porcentaje de discapacidad.\\nTanto los grados de discapacidad como las activida-\\ndes de la vida diaria descritos constituyen patrones dereferencia para la asignación del porcentaje de discapa-cidad.\\nEste porcentaje se determinará de acuerdo con los\\ncriterios y clases que se especifican en cada uno de loscapítulos.\\nCon carácter general se establecen cinco categorías\\no clases, ordenadas de menor a mayor porcentaje,según la importancia de la deficiencia y el grado de dis-capacidad que origina.\\nEstas cinco clases se definen de la forma siguiente:\\nCLASE I\\nSe encuadran en esta clase todas las deficiencias\\npermanentes que han sido diagnosticadas, tratadas ade-cuadamente, demostradas mediante parámetros objeti-vos (datos analíticos, radiográficos, etc., que se especifi-can dentro de cada aparato o sistema), pero que no pro-ducen discapacidad.La calificación de esta clase es 0 por 100.\\nCLASE IIIncluye las deficiencias permanentes que, cumplien-\\ndo los parámetros objetivos que se especifican en cadaaparato o sistema, originan una discapacidad leve.\\nA esta clase corresponde un porcentaje comprendi-\\ndo entre el 1 por 100 y el 24 por 100.\\nCLASE III\\nIncluye las deficiencias permanentes que, cumplien-\\ndo los parámetros objetivos que se especifican en cadauno de los sistemas o aparatos, originan una discapaci-dad moderada.\\nA esta clase corresponde un porcentaje comprendi-\\ndo entre el 25 por 100 y 49 por 100.\\nCLASE IVIncluye las deficiencias permanentes que, cum-\\npliendo los parámetros objetivos que se especifican encada uno de los aparatos o sistemas, producen una dis-capacidad grave. \\nEl porcentaje que corresponde a esta clase está com-\\nprendido entre el 50 por 100 y 70 por 100.\\nCLASE VIncluye las deficiencias permanentes severas que,\\ncumpliendo los parámetros objetivos que se especificanen cada aparato o sistema, originan una discapacidadmuy grave.\\nEsta clase, por sí misma, supone la dependencia de\\notras personas para realizar las actividades más esencia-les de la vida diaria, demostrada mediante la obtenciónde 15 o más puntos en el baremo específico (anexo 2).\\nA esta categoría se le asigna un porcentaje de 75\\npor 100.\\nEl capítulo en el que se definen los criterios para la\\nevaluación de la discapacidad debida a Retraso Mentalconstituye una excepción a esta regla general, debido aque las deficiencias intelectuales, por leves que sean,ocasionan siempre un cierto grado de interferencia conla realización de las AVD.', metadata={'filename': 'BAREMO_AMA_BOE_RD_1971-1999.pdf', 'page': 4}), Document(page_content='4) TRASTORNOS DE ANSIEDAD, ADAPTATIVOS Y SOMATOMORFOS\\nValoración de la Discapacidad atendiendo a criterios generales de funcionalidad\\nCLASE I: (0%)\\nPresenta sintomatología psicopatológica aislada, que no supone disminución alguna de sucapacidad funcional.\\nCLASE II: DISCAPACIDAD LEVE (1 - 24%)\\na) La capacidad para llevar a cabo una vida autónoma está conservada o levemente dis-\\nminuida, de acuerdo a lo esperable para un individuo de su edad y condición, exceptoen períodos recortados de crisis o descompensación.\\nb) Pueden mantener una actividad laboral normalizada y productiva excepto en los períodos\\nde importante aumento del estrés psicosocial o descompensación, durante los que puedeser necesario un tiempo de reposo laboral junto a una intervención terapéutica adecuada.\\nc) Presencia de criterios de diagnóstico suficientes para cualquiera de los tipos de trastor-\\nnos de ansiedad, adaptativos o somatomorfos.\\nCLASE III:  DISCAPACIDAD MODERADA (25 - 59%)\\na) Restricción moderada en las actividades de la vida cotidiana (la cual incluye los contac-\\ntos sociales) y en la capacidad para desempeñar un trabajo remunerado en el mercadolaboral. La medicación y/o tratamiento psicoterapéutico pueden ser necesarios de formacontinuada, a pesar de lo cual puede persistir sintomatología clínicamente evidente\\n– que no interfiere notablemente en las actividades del paciente: se asignará un por-\\ncentaje de discapacidad comprendido entre el 25 y 44%;\\n– que interfiere notablemente en las actividades de la persona: se asignará un porcen-\\ntaje de discapacidad comprendido entre el 45 y 59%.\\nb) Las dificultades y síntomas pueden agudizarse en períodos de crisis o descompensación.\\nFuera de los períodos de crisis:\\n– El individuo es capaz de desarrollar una actividad laboral normalizada y productiva\\nla mayor parte del tiempo, con supervisión y ayuda: se asignará un porcentaje de dis-capacidad comprendido entre el 25 y 44%.\\n– El individuo sólo puede trabajar en ambientes laborales protegidos con supervisión\\nmínima: se asignará un porcentaje de discapacidad comprendido entre el 45 y 59%.\\nc) Presencia de alguna de las siguientes características clínicas:\\n– Cuadros que presentan crisis que requieran ingreso para su hospitalización.\\n– Grave alteración en la capacidad de relación interpersonal y comunicación.\\nCLASE IV:  DISCAPACIDAD GRAVE (60 - 74%)\\na) Grave restricción de las actividades de la vida cotidiana (posibilidades de desplazarse, de\\npreparar e ingerir los alimentos, de atender a su higiene personal y al vestido, de cuidar deVALORACIÓN DE LAS SITUACIONES DE MINUSVALÍA\\n280', metadata={'filename': 'BAREMO_PARA_LA_CALIFICACION_DEL_GRADO_DE_MINUSVALIA_Anexo_I_RD_1971-1999.pdf', 'page': 244}), Document(page_content='CLASE V: DISCAPACIDAD MUY GRAVE (75%)\\na) Repercusión extrema de la enfermedad o trastorno sobre el individuo, manifestado por\\nincapacidad para cuidar de sí mismo, ni siquiera en las actividades básicas de la vidacotidiana. Por ello necesitan de otra u otras personas de forma constante.\\nb) No existen posibilidades de realizar trabajo alguno, ni aún en Centros Ocupacionales\\nsupervisados.\\nc) Presencia de alguna de las siguientes características clínicas:\\n– Trastornos severos en el curso y/o contenido del pensamiento que afectan al sujeto la\\nmayor parte del tiempo.\\n– Pérdida del contacto con la realidad.– Trastornos disperceptivos permanentes– Institucionalización prolongada.– Conductas disruptivas reiteradas.\\n3) TRASTORNOS AFECTIVOS\\nValoración de la Discapacidad atendiendo a criterios generales de funcionalidad\\nCLASE I: (0%)\\nPresenta sintomatología psicopatológica aislada, que no supone disminución alguna de sucapacidad funcional.\\nCLASE II: DISCAPACIDAD LEVE (1 - 24%)\\na) La capacidad para llevar a cabo una vida autónoma está conservada o levemente dis-\\nminuida, de acuerdo a lo esperable para un individuo de su edad y condición, exceptoen períodos recortados de crisis o descompensación. \\nb) Pueden mantener una actividad laboral normalizada y productiva excepto en los períodos\\nde importante aumento del estrés psicosocial o descompensación, durante los que puedeser necesario un tiempo de reposo laboral junto a una intervención terapéutica adecuada.\\nc) Cumplen los criterios de diagnóstico para cualquier tipo de trastorno afectivo.\\nCLASE III:  DISCAPACIDAD MODERADA (25 - 59%)\\na) Restricción moderada en las actividades de la vida cotidiana (la cual incluye los con-\\ntactos sociales) y en la capacidad para desempeñar un trabajo remunerado en el merca-do laboral.\\nLa medicación y/o el tratamiento psicoterapéutico pueden ser necesarios de forma habi-tual. Si a pesar de ello persiste la sintomatología clínicamente evidente– que no interfiere notablemente en las actividades de la persona: se asignará un por-\\ncentaje de discapacidad comprendido entre el 25 y 44%;\\n– que interfiere notablemente en las actividades de la persona: se asignará un porcen-\\ntaje de discapacidad comprendido entre el 45 y 59%.\\nb) Las dificultades y síntomas pueden agudizarse en períodos de crisis o descompensación.\\nFuera de los períodos de crisis: VALORACIÓN DE LAS SITUACIONES DE MINUSVALÍA\\n278', metadata={'filename': 'BAREMO_PARA_LA_CALIFICACION_DEL_GRADO_DE_MINUSVALIA_Anexo_I_RD_1971-1999.pdf', 'page': 242}), Document(page_content='ENFERMEDAD MENTAL\\n281 su hábitat y realizar las tareas domésticas, de comunicarse  y tener contactos sociales), lo\\nque obliga a supervisión intermitente en ambientes protegidos y total fuera de ellos.\\nb) Grave disminución de su capacidad laboral, puesta de manifiesto por deficiencias\\nimportantes en la capacidad para mantener la concentración, continuidad y ritmo en laejecución de las tareas y repetidos episodios de deterioro o descompensación asociadosa las actividades laborales, como consecuencia del fracaso en adaptarse a circunstan-cias estresantes. No puede desempeñar una actividad laboral con regularidad. Puedeacceder a Centros Ocupacionales protegidos, aunque, incluso con supervisión, el ren-dimiento suele ser pobre o irregular.\\nc) Presencia de alguna de las siguientes características clínicas:\\n– Cuadros con grave repercusión sobre la conducta y mala respuesta al tratamiento.  \\nCLASE V:  DISCAPACIDAD MUY GRAVE (75%)\\na) Repercusión extrema de la enfermedad o trastorno sobre el individuo, manifestado por\\nincapacidad para cuidar de sí mismo ni siquiera en las actividades básicas de la vidacotidiana. Por ello necesitan de otra u otras personas de forma constante.\\nb) No existen posibilidades de realizar trabajo alguno, ni aún en Centros Ocupacionales\\nsupervisados.\\nc) Trastorno grave resistente por completo a todo tratamiento.\\n5) TRASTORNOS DE LA PERSONALIDAD\\nValoración de la Discapacidad atendiendo a criterios generales de funcionalidad\\nCLASE I: (0%)\\nPresenta sintomatología psicopatológica aislada, que no supone disminución alguna de sucapacidad funcional.\\nCLASE II:  DISCAPACIDAD LEVE (1 - 24%)\\na) La capacidad para llevar a cabo una vida autónoma está conservada o levemente dis-\\nminuida, de acuerdo a lo esperable para un individuo de su edad y condición, exceptoen períodos recortados de crisis o descompensación.\\nb) Pueden mantener una actividad laboral normalizada y productiva excepto en los períodos\\nde importante aumento del estrés psicosocial o descompensación, durante los que puedeser necesario un tiempo de reposo laboral junto a una intervención terapéutica adecuada.\\nc) Presencia de criterios de diagnóstico para cualquiera de los tipos de trastorno de la per-\\nsonalidad.\\nCLASE III:  DISCAPACIDAD MODERADA (25 - 59%)\\na) Restricción moderada de las actividades de la vida cotidiana (la cual incluye los contac-\\ntos sociales) y en la capacidad para desempeñar un trabajo remunerado en el mercadolaboral. La medicación y/o tratamiento psicoterapéutico pueden ser necesarios de formahabitual, a pesar de lo cual puede persistir sintomatología clínicamente evidente\\n– que no interfiere notablemente en las actividades del paciente: se asignará un por-\\ncentaje de discapacidad comprendido entre el 25 y 44%;', metadata={'filename': 'BAREMO_PARA_LA_CALIFICACION_DEL_GRADO_DE_MINUSVALIA_Anexo_I_RD_1971-1999.pdf', 'page': 245})]\n"
     ]
    }
   ],
   "source": [
    "print(response['context'])"
   ]
  },
  {
   "cell_type": "code",
   "execution_count": null,
   "id": "5f9af637-dc45-4a0f-ba58-ded9bbc8f192",
   "metadata": {},
   "outputs": [],
   "source": []
  }
 ],
 "metadata": {
  "kernelspec": {
   "display_name": "Python (vertex)",
   "language": "python",
   "name": "vertex"
  },
  "language_info": {
   "codemirror_mode": {
    "name": "ipython",
    "version": 3
   },
   "file_extension": ".py",
   "mimetype": "text/x-python",
   "name": "python",
   "nbconvert_exporter": "python",
   "pygments_lexer": "ipython3",
   "version": "3.11.7"
  }
 },
 "nbformat": 4,
 "nbformat_minor": 5
}
