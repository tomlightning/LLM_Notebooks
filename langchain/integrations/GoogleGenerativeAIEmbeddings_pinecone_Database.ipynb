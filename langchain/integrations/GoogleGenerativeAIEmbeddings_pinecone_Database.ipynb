{
  "nbformat": 4,
  "nbformat_minor": 0,
  "metadata": {
    "colab": {
      "provenance": [],
      "authorship_tag": "ABX9TyN8jTfoAzgUj97LuQ7W1VNu",
      "include_colab_link": true
    },
    "kernelspec": {
      "name": "python3",
      "display_name": "Python 3"
    },
    "language_info": {
      "name": "python"
    }
  },
  "cells": [
    {
      "cell_type": "markdown",
      "metadata": {
        "id": "view-in-github",
        "colab_type": "text"
      },
      "source": [
        "<a href=\"https://colab.research.google.com/github/olonok69/LLM_Notebooks/blob/main/langchain/integrations/GoogleGenerativeAIEmbeddings_pinecone_Database.ipynb\" target=\"_parent\"><img src=\"https://colab.research.google.com/assets/colab-badge.svg\" alt=\"Open In Colab\"/></a>"
      ]
    },
    {
      "cell_type": "markdown",
      "source": [
        "#Langchain\n",
        "https://python.langchain.com/v0.1/docs/integrations/text_embedding/google_generative_ai/\n",
        "\n",
        "#Pinecone\n",
        "https://docs.pinecone.io/home\n",
        "\n",
        "# VertexAi\n",
        "https://cloud.google.com/vertex-ai/generative-ai/docs/learn/model-versioning#stable-versions-available.md\n"
      ],
      "metadata": {
        "id": "GycpfyBBhoF6"
      }
    },
    {
      "cell_type": "code",
      "execution_count": 20,
      "metadata": {
        "colab": {
          "base_uri": "https://localhost:8080/"
        },
        "id": "_53CfnPhKF3D",
        "outputId": "f6829eca-b1c2-47c3-b353-32622aa90853"
      },
      "outputs": [
        {
          "output_type": "stream",
          "name": "stdout",
          "text": [
            "Drive already mounted at /content/drive; to attempt to forcibly remount, call drive.mount(\"/content/drive\", force_remount=True).\n"
          ]
        }
      ],
      "source": [
        "from google.colab import drive\n",
        "drive.mount('/content/drive')"
      ]
    },
    {
      "cell_type": "code",
      "source": [
        "pip install -qU pinecone-client langchain-google-genai google-cloud-aiplatform langchain-pinecone langchain langchain-community"
      ],
      "metadata": {
        "colab": {
          "base_uri": "https://localhost:8080/"
        },
        "id": "3WKeWqnBK69A",
        "outputId": "43569ac3-5a2a-4763-f5f4-9c9b4b48718c"
      },
      "execution_count": 59,
      "outputs": [
        {
          "output_type": "stream",
          "name": "stdout",
          "text": [
            "\u001b[2K     \u001b[90m━━━━━━━━━━━━━━━━━━━━━━━━━━━━━━━━━━━━━━━━\u001b[0m \u001b[32m2.1/2.1 MB\u001b[0m \u001b[31m7.3 MB/s\u001b[0m eta \u001b[36m0:00:00\u001b[0m\n",
            "\u001b[2K     \u001b[90m━━━━━━━━━━━━━━━━━━━━━━━━━━━━━━━━━━━━━━━━\u001b[0m \u001b[32m49.3/49.3 kB\u001b[0m \u001b[31m3.7 MB/s\u001b[0m eta \u001b[36m0:00:00\u001b[0m\n",
            "\u001b[?25h"
          ]
        }
      ]
    },
    {
      "cell_type": "code",
      "source": [
        "from google.colab import userdata\n",
        "\n",
        "PINECONE_KEY = userdata.get('PINECONE_KEY')\n",
        "GOOGLE_API_KEY  = userdata.get('GOOGLE_API_KEY')"
      ],
      "metadata": {
        "id": "aYh0pKEdK65p"
      },
      "execution_count": 78,
      "outputs": []
    },
    {
      "cell_type": "code",
      "source": [
        "import os\n",
        "import uuid\n",
        "if \"GOOGLE_API_KEY\" not in os.environ:\n",
        "    os.environ[\"GOOGLE_API_KEY\"] = GOOGLE_API_KEY\n",
        "if \"PINECONE_API_KEY\" not in os.environ:\n",
        "    os.environ[\"PINECONE_API_KEY\"] = PINECONE_KEY\n",
        "if \"PINECONE_INDEX_NAME\" not in os.environ:\n",
        "    os.environ[\"PINECONE_INDEX_NAME\"] = \"forensic\""
      ],
      "metadata": {
        "id": "p0l1UeCkK60S"
      },
      "execution_count": 79,
      "outputs": []
    },
    {
      "cell_type": "code",
      "source": [
        "from langchain_google_genai import GoogleGenerativeAIEmbeddings\n",
        "\n",
        "embeddings = GoogleGenerativeAIEmbeddings(model=\"models/text-embedding-004\")\n",
        "vector = embeddings.embed_query(\"hello, world!\")"
      ],
      "metadata": {
        "id": "rCWdjXIJMELK"
      },
      "execution_count": 90,
      "outputs": []
    },
    {
      "cell_type": "code",
      "source": [
        "len(vector)"
      ],
      "metadata": {
        "colab": {
          "base_uri": "https://localhost:8080/"
        },
        "id": "fRtHvNddMGgA",
        "outputId": "11826afe-a432-4e83-e12d-569530b807c7"
      },
      "execution_count": 91,
      "outputs": [
        {
          "output_type": "execute_result",
          "data": {
            "text/plain": [
              "768"
            ]
          },
          "metadata": {},
          "execution_count": 91
        }
      ]
    },
    {
      "cell_type": "code",
      "source": [
        "prompt1 = \"\"\"\n",
        "Resumen lo más sintetizado que se pueda con la fecha de creación de este informe, poniendo siempre al principio de dicho resumen la siguiente frase “Informe de fecha”,\n",
        "seguido del lugar de asistencia médica o el lugar donde se creó el informe, el servicio médico donde se atiende al paciente y terminando estas indicaciones con dos puntos y seguidos.\n",
        "A continuación redacta un resumen muy sintetizado con los datos del reconocimiento médico, la evolución y posibilidades terapéuticas y de las conclusiones,\n",
        "relacionando los párrafos entre ellos y separándolos con puntos y seguidos (escribirlo remarcando los diferentes apartados, con vocabulario y tecnicismo médico.\n",
        "No poner la edad del paciente o de la persona a la que se refiere el informe. Referirse al paciente o a la persona a la que se refiere el informe con la abreviatura Sr. o Sra. delante de su apellido si aparece).\"\"\"\n",
        "\n",
        "name_prompt1=\"\"\"INFORME MÉDICO DE SÍNTESIS DE INCAPACIDAD PERMANENTE\"\"\"\n",
        "keywords1 =  [\"informe\",\"incapacidad\", \"hospital\"]"
      ],
      "metadata": {
        "id": "sUf6u_9NNtzi"
      },
      "execution_count": 92,
      "outputs": []
    },
    {
      "cell_type": "code",
      "source": [
        "prompt2 = \"\"\"Redacta un resumen muy escueto con la fecha de creación de este informe, poniendo siempre al principio de dicho resumen la siguiente frase “Informe de fecha” seguido de la fecha del informe, seguido del lugar de asistencia médica o el lugar donde se creó el informe, el servicio médico donde se atiende al paciente y terminando estas indicaciones con dos puntos y seguidos. A continuación redacta un resumen muy escueto con los datos de la empresa y de su representante y los datos del trabajador, y otro resumen muy escueto de la descripción de las tareas realizadas (escribirlo sin poner apartados ni puntos aparte pero remarcando los diferentes apartados, escribirlo con vocabulario y tecnicismo médico. No poner la edad del paciente o de la persona a la que se refiere el informe. Referirse al paciente o a la persona a la que se refiere el informe con la abreviatura Sr. o Sra. delante de su apellido si aparece).\"\"\"\n",
        "\n",
        "name_prompt2=\"\"\"CERTIFICADO TAREAS\"\"\"\n",
        "keywords2 =  [\"certificado\",\"tareas\", \"centro salud\"]"
      ],
      "metadata": {
        "id": "0QglHZKmRDlU"
      },
      "execution_count": 93,
      "outputs": []
    },
    {
      "cell_type": "code",
      "source": [
        "prompt3 = \"\"\"Resumen lo más sintetizado que se pueda con la fecha de creación de este informe, poniendo siempre al principio de dicho resumen la siguiente frase “Informe de fecha”, seguido del lugar de asistencia médica o el lugar donde se creó el informe, el servicio médico donde se atiende al paciente y terminando estas indicaciones con dos puntos y seguidos. A continuación redacta un resumen muy sintetizado con los datos del resumen clínico, motivo de consulta, evolución y comentario, información de pruebas complementarias, impresión diagnóstica, tratamiento recomendado, destino y recomendación, relacionando los párrafos entre ellos y separándolos con puntos y seguidos (escribirlo remarcando los diferentes apartados, con vocabulario y tecnicismo médico. No poner la edad del paciente o de la persona a la que se refiere el informe. Referirse al paciente o a la persona a la que se refiere el informe con la abreviatura Sr. o Sra. delante de su apellido si aparece).\n",
        "\n",
        "Resume al máximo que se pueda con la fecha de creación de este informe, poniendo siempre al principio de dicho resumen la siguiente frase “Informe de fecha”, seguido del lugar de asistencia médica o el lugar donde se creó el informe, el servicio médico donde se atiende al paciente y terminando estas indicaciones con dos puntos y seguidos. A continuación redacta un resumen muy sintetizado con los datos del resumen clínico, motivo de consulta, evolución y comentario, información de pruebas complementarias, impresión diagnóstica, tratamiento recomendado, destino y recomendación, relacionando los párrafos entre ellos y separándolos con puntos y seguidos (escribirlo remarcando los diferentes apartados, con vocabulario y tecnicismo médico. No poner la edad del paciente o de la persona a la que se refiere el informe. Referirse al paciente o a la persona a la que se refiere el informe con la abreviatura Sr. o Sra. delante de su apellido si aparece).\n",
        "\n",
        "Diferenciando y separando cada informe redacta una redacción que sea lo más resumida posible de cada apartado que haya en cada informe con la fecha de creación de este informe, poniendo siempre al principio de dicho resumen la siguiente frase “Informe de fecha”, seguido del lugar de asistencia médica o el lugar donde se creó el informe, el servicio médico donde se atiende al paciente y terminando estas indicaciones con dos puntos y seguidos. A continuación redacta un resumen muy sintetizado con los datos del resumen clínico, motivo de consulta, evolución y comentario, información de pruebas complementarias, impresión diagnóstica, tratamiento recomendado, destino y recomendación (si no aparecen esos datos no escribirlos) relacionando los párrafos entre ellos y separándolos con puntos y seguidos (escribirlo con vocabulario y tecnicismo médico. No poner la edad del paciente o de la persona a la que se refiere el informe. Referirse al paciente o a la persona a la que se refiere el informe con la abreviatura Sr. o Sra. delante de su apellido si aparece).\n",
        "\n",
        "Escríbelo con el siguiente formato:\n",
        "1. 17/04/2019 - Hospital Universitario Virgen Macarena (Sevilla): Consulta por sospecha de síndrome de apnea e hipopnea durante el sueño. Se recomienda pérdida de peso.\n",
        "2. 23/04/2019 - SUAP de Brenes (Sevilla): Alta de urgencias por hernia de línea media. Se trató con analgesia y se recomendó acudir a urgencias del hospital.\n",
        "\"\"\"\n",
        "\n",
        "name_prompt3=\"\"\"INFORME DE CONSULTA DE REVISIÓN\"\"\"\n",
        "keywords3 =  [\"informe\",\"revision\", \"hospital\"]"
      ],
      "metadata": {
        "id": "pZJnz_53TJhJ"
      },
      "execution_count": 94,
      "outputs": []
    },
    {
      "cell_type": "code",
      "source": [
        "vectors=[]\n",
        "for name_prompt, prompt  in zip([name_prompt1,name_prompt2,name_prompt3],[prompt1,prompt2,prompt3]):\n",
        "\n",
        "  vectors.append(embeddings.embed_query(name_prompt.strip() + \"\\n\" + prompt.strip()))"
      ],
      "metadata": {
        "id": "RS3vgR0tN12H"
      },
      "execution_count": 95,
      "outputs": []
    },
    {
      "cell_type": "code",
      "source": [
        "len(vectors[0])"
      ],
      "metadata": {
        "colab": {
          "base_uri": "https://localhost:8080/"
        },
        "id": "YDIBFnivN7U2",
        "outputId": "4f420f8e-a209-4d43-a491-ea429a843281"
      },
      "execution_count": 96,
      "outputs": [
        {
          "output_type": "execute_result",
          "data": {
            "text/plain": [
              "768"
            ]
          },
          "metadata": {},
          "execution_count": 96
        }
      ]
    },
    {
      "cell_type": "code",
      "source": [
        "from pinecone import Pinecone\n",
        "\n",
        "pc = Pinecone(api_key=PINECONE_KEY)\n",
        "index = pc.Index(\"forensic\")\n"
      ],
      "metadata": {
        "id": "VBokp5psOuT9"
      },
      "execution_count": 111,
      "outputs": []
    },
    {
      "cell_type": "code",
      "source": [
        "uuid.uuid4()"
      ],
      "metadata": {
        "colab": {
          "base_uri": "https://localhost:8080/"
        },
        "id": "RJ9vVttPC4Nz",
        "outputId": "584259f1-6a54-4b67-ea4e-60110a717799"
      },
      "execution_count": 116,
      "outputs": [
        {
          "output_type": "execute_result",
          "data": {
            "text/plain": [
              "UUID('0f1ab521-45c0-47fb-bd74-820c58e92b1a')"
            ]
          },
          "metadata": {},
          "execution_count": 116
        }
      ]
    },
    {
      "cell_type": "code",
      "source": [
        "for name_prompt, prompt, keywords,vector  in zip([name_prompt1,name_prompt2,name_prompt3],[prompt1,prompt2,prompt3],[keywords1,keywords2,keywords3],vectors):\n",
        "\n",
        "  index.upsert(\n",
        "    vectors=[\n",
        "        {\n",
        "            \"id\": str(uuid.uuid4()),\n",
        "            \"values\": vector,\n",
        "            \"metadata\": {\"prompt\": prompt.strip(), \"name_prompt\": name_prompt.strip(), \"keywords\": keywords}\n",
        "        }\n",
        "    ],\n",
        "    namespace= \"prompts\"\n",
        ")\n",
        "\n",
        "\n"
      ],
      "metadata": {
        "id": "ojodvr-0O3hH"
      },
      "execution_count": 117,
      "outputs": []
    },
    {
      "cell_type": "code",
      "source": [
        "v_query = embeddings.embed_query(\"Informe medico de incapacidad permanente de un hospital\")"
      ],
      "metadata": {
        "id": "bziDjQInWH1f"
      },
      "execution_count": 118,
      "outputs": []
    },
    {
      "cell_type": "code",
      "source": [
        "len(v_query)"
      ],
      "metadata": {
        "colab": {
          "base_uri": "https://localhost:8080/"
        },
        "id": "IY5F73i3b71r",
        "outputId": "7889e917-1352-47b6-bcdc-0ad384c25c83"
      },
      "execution_count": 119,
      "outputs": [
        {
          "output_type": "execute_result",
          "data": {
            "text/plain": [
              "768"
            ]
          },
          "metadata": {},
          "execution_count": 119
        }
      ]
    },
    {
      "cell_type": "code",
      "source": [
        "r = index.query(\n",
        "    namespace=\"prompts\",\n",
        "    vector=list(v_query),\n",
        "    top_k=1, include_metadata=True,)"
      ],
      "metadata": {
        "id": "iFGU8R849Bln"
      },
      "execution_count": 120,
      "outputs": []
    },
    {
      "cell_type": "code",
      "source": [
        "r"
      ],
      "metadata": {
        "colab": {
          "base_uri": "https://localhost:8080/"
        },
        "id": "SJDZ3lWO9EYh",
        "outputId": "4648009c-cd97-4cfe-a546-a49ffa414e93"
      },
      "execution_count": 108,
      "outputs": [
        {
          "output_type": "execute_result",
          "data": {
            "text/plain": [
              "{'matches': [{'id': '898b0670-420c-48ff-982b-0421e218401f',\n",
              "              'metadata': {'keywords': ['informe', 'incapacidad', 'hospital'],\n",
              "                           'name_prompt': 'INFORME MÉDICO DE SÍNTESIS DE '\n",
              "                                          'INCAPACIDAD PERMANENTE',\n",
              "                           'prompt': 'Resumen lo más sintetizado que se pueda '\n",
              "                                     'con la fecha de creación de este '\n",
              "                                     'informe, poniendo siempre al principio '\n",
              "                                     'de dicho resumen la siguiente frase '\n",
              "                                     '“Informe de fecha”, \\n'\n",
              "                                     'seguido del lugar de asistencia médica o '\n",
              "                                     'el lugar donde se creó el informe, el '\n",
              "                                     'servicio médico donde se atiende al '\n",
              "                                     'paciente y terminando estas indicaciones '\n",
              "                                     'con dos puntos y seguidos. \\n'\n",
              "                                     'A continuación redacta un resumen muy '\n",
              "                                     'sintetizado con los datos del '\n",
              "                                     'reconocimiento médico, la evolución y '\n",
              "                                     'posibilidades terapéuticas y de las '\n",
              "                                     'conclusiones, \\n'\n",
              "                                     'relacionando los párrafos entre ellos y '\n",
              "                                     'separándolos con puntos y seguidos '\n",
              "                                     '(escribirlo remarcando los diferentes '\n",
              "                                     'apartados, con vocabulario y tecnicismo '\n",
              "                                     'médico. \\n'\n",
              "                                     'No poner la edad del paciente o de la '\n",
              "                                     'persona a la que se refiere el informe. '\n",
              "                                     'Referirse al paciente o a la persona a '\n",
              "                                     'la que se refiere el informe con la '\n",
              "                                     'abreviatura Sr. o Sra. delante de su '\n",
              "                                     'apellido si aparece).'},\n",
              "              'score': 0.716441453,\n",
              "              'values': []}],\n",
              " 'namespace': 'prompts',\n",
              " 'usage': {'read_units': 6}}"
            ]
          },
          "metadata": {},
          "execution_count": 108
        }
      ]
    },
    {
      "cell_type": "code",
      "source": [
        "r = index.query(\n",
        "    namespace=\"prompts\",\n",
        "    vector=list(v_query),\n",
        "    top_k=1, include_metadata=True,\n",
        "    filter={\"$or\": [{\"keywords\": \"car\"}, {\"keywords\":\"task\"}]})\n"
      ],
      "metadata": {
        "id": "4qAL_adoQ59U"
      },
      "execution_count": 124,
      "outputs": []
    },
    {
      "cell_type": "code",
      "source": [
        "r"
      ],
      "metadata": {
        "colab": {
          "base_uri": "https://localhost:8080/"
        },
        "id": "HN52i3z6diSy",
        "outputId": "fbcc160b-2f19-4d7d-e062-69c2651b157f"
      },
      "execution_count": 125,
      "outputs": [
        {
          "output_type": "execute_result",
          "data": {
            "text/plain": [
              "{'matches': [], 'namespace': 'prompts', 'usage': {'read_units': 1}}"
            ]
          },
          "metadata": {},
          "execution_count": 125
        }
      ]
    }
  ]
}