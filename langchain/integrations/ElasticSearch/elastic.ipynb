{
 "cells": [
  {
   "cell_type": "markdown",
   "id": "f41b39ba-c5a2-43f7-a6bf-30d8179c45f8",
   "metadata": {},
   "source": [
    "# Langchain <--> Elastic Search\n",
    "\n",
    "Elasticsearch is an open source distributed, RESTful search and analytics engine, scalable data store, and vector database capable of addressing a growing number of use cases. As the heart of the Elastic Stack, it centrally stores your data for lightning-fast search, fine‑tuned relevancy, and powerful analytics that scale with ease.\n",
    "Elasticsearch can store and index a variety of data, including structured and unstructured text, numerical data, and geospatial data. It's known for its ability to find queries in large-scale unstructured data\n",
    "Elasticsearch uses a search index, which is similar to an index in the back of a book, to map content to its location in a document. This allows users to quickly find information without scanning through an entire document\n",
    "\n",
    "- https://www.elastic.co/search-labs/blog/langchain-collaboration\n",
    "- https://www.elastic.co/guide/en/elasticsearch/reference/current/docker.html\n",
    "- https://python.langchain.com/docs/integrations/vectorstores/elasticsearch/\n",
    "- https://www.elastic.co/blog/elasticsearch-is-open-source-again\n"
   ]
  },
  {
   "cell_type": "code",
   "execution_count": null,
   "id": "54202443-41a9-4d26-9345-3dae7d117266",
   "metadata": {},
   "outputs": [],
   "source": [
    "! pip install -r requirements.txt -q"
   ]
  },
  {
   "cell_type": "markdown",
   "id": "b5341825-1534-4d50-9a2d-c3e28bbb444e",
   "metadata": {},
   "source": [
    "# Install ELastic Search Docker\n",
    "\n",
    "- docker network create elastic\n",
    "- docker pull docker.elastic.co/elasticsearch/elasticsearch:8.15.3\n",
    "- docker run --name es01 --net elastic -p 9200:9200 -it -m 1GB docker.elastic.co/elasticsearch/elasticsearch:8.15.3"
   ]
  },
  {
   "cell_type": "code",
   "execution_count": 2,
   "id": "5ce3ca41-6a91-4b55-961b-26e3d1eaa2e6",
   "metadata": {},
   "outputs": [],
   "source": [
    "import os\n",
    "from dotenv import dotenv_values"
   ]
  },
  {
   "cell_type": "code",
   "execution_count": 3,
   "id": "c1086070-63a7-41a8-80ab-b54a398764a4",
   "metadata": {},
   "outputs": [],
   "source": [
    "config = dotenv_values(\"./keys/.env\")"
   ]
  },
  {
   "cell_type": "code",
   "execution_count": 7,
   "id": "0f338483-7888-4520-8b59-c77d5d033043",
   "metadata": {},
   "outputs": [],
   "source": [
    "import os, tempfile\n",
    "from langchain.prompts import PromptTemplate\n",
    "\n",
    "\n",
    "from langchain_community.document_loaders import TextLoader\n",
    "\n",
    "from langchain.chains import ConversationalRetrievalChain, RetrievalQA\n",
    "\n",
    "from langchain_text_splitters import CharacterTextSplitter\n",
    "from langchain_google_genai import ChatGoogleGenerativeAI, GoogleGenerativeAIEmbeddings\n",
    "from langchain_community.document_loaders import PyPDFLoader\n",
    "from google.oauth2 import service_account\n",
    "from dotenv import dotenv_values\n",
    "import json\n",
    "import vertexai\n",
    " \n",
    "import itertools\n",
    "import time\n"
   ]
  },
  {
   "cell_type": "code",
   "execution_count": 8,
   "id": "7433e972-08db-4a8b-9037-b66eac9ffc2c",
   "metadata": {},
   "outputs": [],
   "source": [
    "config = dotenv_values(\"./keys/.env\")\n",
    "with open(\"./keys/complete-tube-421007-208a4862c992.json\") as source:\n",
    "    info = json.load(source)\n",
    "\n",
    "vertex_credentials = service_account.Credentials.from_service_account_info(info)\n",
    "vertexai.init(\n",
    "    project=config[\"PROJECT\"],\n",
    "    location=config[\"REGION\"],\n",
    "    credentials=vertex_credentials,\n",
    ")\n",
    "google_api_key = config[\"GEMINI-API-KEY\"]\n",
    "os.environ[\"GEMINI_API_KEY\"] = google_api_key"
   ]
  },
  {
   "cell_type": "code",
   "execution_count": 9,
   "id": "8aedd986-e586-4539-86d0-0d62509caccd",
   "metadata": {},
   "outputs": [
    {
     "data": {
      "text/plain": [
       "'/mnt/d/repos2/elastic'"
      ]
     },
     "execution_count": 9,
     "metadata": {},
     "output_type": "execute_result"
    }
   ],
   "source": [
    "ROOT= os.getcwd()\n",
    "ROOT"
   ]
  },
  {
   "cell_type": "code",
   "execution_count": 10,
   "id": "cbd95317-ac09-457f-bc1c-ebdddd189918",
   "metadata": {},
   "outputs": [],
   "source": [
    "embeddings = GoogleGenerativeAIEmbeddings(\n",
    "                        model=\"models/embedding-001\",\n",
    "                        credentials=vertex_credentials,\n",
    "                        google_api_key=google_api_key,\n",
    "                    )"
   ]
  },
  {
   "cell_type": "code",
   "execution_count": 13,
   "id": "a35cdd2a-3742-4778-ad93-9d042c7c4640",
   "metadata": {},
   "outputs": [],
   "source": [
    "from langchain_elasticsearch import ElasticsearchStore\n",
    "\n",
    "elastic_vector_search = ElasticsearchStore(\n",
    "    es_url=\"http://localhost:9200\",\n",
    "    index_name=\"langchain_index\",\n",
    "    embedding=embeddings,\n",
    "    es_user=\"elastic\",\n",
    "    es_password=\"changeme\",\n",
    ")"
   ]
  },
  {
   "cell_type": "code",
   "execution_count": 15,
   "id": "6cc8e0c6-569b-43d9-8e06-65fb5c97b631",
   "metadata": {},
   "outputs": [],
   "source": [
    "from langchain_elasticsearch import ElasticsearchStore\n",
    "\n",
    "vector_store = ElasticsearchStore(\n",
    "    \"langchain-demo\", embedding=embeddings, es_url=\"http://localhost:9200\"\n",
    ")"
   ]
  },
  {
   "cell_type": "code",
   "execution_count": 16,
   "id": "d3028c05-1544-4744-815b-052c40dea794",
   "metadata": {},
   "outputs": [
    {
     "data": {
      "text/plain": [
       "['Parser Source 2.pdf']"
      ]
     },
     "execution_count": 16,
     "metadata": {},
     "output_type": "execute_result"
    }
   ],
   "source": [
    "mypath = \"./docs\"\n",
    "onlyfiles = [f for f in os.listdir(mypath) if os.path.isfile(os.path.join(mypath, f))]\n",
    "onlyfiles"
   ]
  },
  {
   "cell_type": "code",
   "execution_count": 17,
   "id": "87be801b-04dc-4baf-bdaf-51ef944d96ae",
   "metadata": {},
   "outputs": [],
   "source": [
    "def load_file(path):\n",
    "    # load pdf file and transform into Langchain Documents\n",
    "    loader = PyPDFLoader(path)\n",
    "    pages = loader.load_and_split()\n",
    "    return pages\n",
    "\n",
    "path = os.path.join(\"docs\", onlyfiles[0])\n",
    "pages = load_file(path)"
   ]
  },
  {
   "cell_type": "code",
   "execution_count": 46,
   "id": "fec18609-8c73-4da0-8151-0c8b00d67649",
   "metadata": {},
   "outputs": [
    {
     "data": {
      "text/plain": [
       "Document(metadata={'source': 'docs/Parser Source 2.pdf', 'page': 0}, page_content='Company Profiles on following pages')"
      ]
     },
     "execution_count": 46,
     "metadata": {},
     "output_type": "execute_result"
    }
   ],
   "source": [
    "pages[0]"
   ]
  },
  {
   "cell_type": "code",
   "execution_count": 47,
   "id": "3d2adb7c-8538-493b-87d5-54e0df6f9eda",
   "metadata": {},
   "outputs": [
    {
     "data": {
      "text/plain": [
       "196"
      ]
     },
     "execution_count": 47,
     "metadata": {},
     "output_type": "execute_result"
    }
   ],
   "source": [
    "len(pages)"
   ]
  },
  {
   "cell_type": "code",
   "execution_count": 26,
   "id": "ec5added-9e5b-495b-b4d4-b400d7d12192",
   "metadata": {},
   "outputs": [],
   "source": [
    "from uuid import uuid4\n",
    "\n",
    "from langchain_core.documents import Document"
   ]
  },
  {
   "cell_type": "code",
   "execution_count": 27,
   "id": "1192ce56-c938-4a3d-b897-ce85b7d40181",
   "metadata": {},
   "outputs": [
    {
     "data": {
      "text/plain": [
       "['56e59f0d-a761-46e1-ba51-bd81e9a267d2',\n",
       " '27ea64cb-1995-47a0-a70d-058a1a87b9b2',\n",
       " 'a632e509-dfdd-40e0-b2ae-3e6fc8ee4aef',\n",
       " '1d277a30-17a3-4d4b-ab77-47a718682c5c',\n",
       " '69e9b652-96f7-4f4f-9b47-54c658f83855',\n",
       " 'b1a2e6bb-5bb0-43f6-b397-be7bde8e0263',\n",
       " '66f53694-80a9-4c68-8b3e-f5c424e953b9',\n",
       " '042ecfe6-3f67-4bbf-9332-8afec6485816',\n",
       " 'f22cb185-75c5-427b-8589-49dd83d41931',\n",
       " '17ec4d9c-5f52-4fca-b293-8d47242e7fb2',\n",
       " '6fb88ff6-d9fb-44fd-b745-087aebffdcb7',\n",
       " 'c4c465e0-7880-467b-abd2-5badd6eb5dd1',\n",
       " 'e1003769-96f0-435c-8faa-e419bd1a01c8',\n",
       " '02a4fa78-8231-4cd0-893c-a21a760ec836',\n",
       " '3fe7ba4e-802a-4617-bed6-347c15a2ea40',\n",
       " '65bc1daa-ca65-4261-ba30-86f56973ef84',\n",
       " '7c7cb1df-fedd-43b4-9b2f-1c62f72eb170',\n",
       " 'b40e98ee-1b97-49a9-afb2-e0e4134ba0c2',\n",
       " 'f4adb478-3cea-490c-9edb-d2e42573ae57',\n",
       " '82e99d24-3e0b-4464-9e9d-e68b55331d91',\n",
       " '9c555f71-e98f-405b-b61d-0ad820b02d91',\n",
       " '5e8db496-57a3-4e12-ba18-416e102026ab',\n",
       " 'a629e83f-b61f-4e01-ab68-46c39a6030a0',\n",
       " '6a4e5dae-3ce2-4c36-acc0-5261f2846ce1',\n",
       " 'c656ee2e-9d6b-4051-851e-2be29957301c',\n",
       " 'ce34791e-0757-4e32-92fa-dd43e65bb2c4',\n",
       " 'e81feedb-8b21-4ad8-8631-079889f5ad23',\n",
       " '1501d810-13fc-4fa0-8e40-3acaca270f8c',\n",
       " '82e099eb-516d-4a00-bcbd-78a7fa798e83',\n",
       " '94dd8a85-aa50-4258-8225-23046cde86c5',\n",
       " '87172898-a1b5-4cf5-9ee8-bcfd7dd6b679',\n",
       " 'e9f58fcc-50b9-4fcd-a7cb-db151b9a9014',\n",
       " 'fd100867-e363-4098-b974-90ebd156afdf',\n",
       " '2b6d75a4-a25d-494c-adb1-70c7f644fac5',\n",
       " 'eb3e96bf-0b4f-4fe0-ab98-002faa86a733',\n",
       " '2a9bbe14-d8c4-487d-80f9-1cf87dca19cd',\n",
       " '1ff94187-6308-420b-8811-6de3e9b762fd',\n",
       " '415030c1-2978-4530-b8fd-0662badc2ad9',\n",
       " '50bd8317-f750-4b91-812f-c450ae4f04a8',\n",
       " '2131132f-9ef5-4505-b480-7c66771dc414',\n",
       " '360fd464-aa14-4f09-86de-db3945d4f746',\n",
       " 'f972acf1-ccd3-4fbd-8e9d-ffb3146da616',\n",
       " '201c35d3-2e40-4730-b73f-d1495190a6c9',\n",
       " '2fb7fbe5-0b02-4919-bd6f-213cd49a8cb6',\n",
       " '1444d869-f0a2-4c66-9a9f-8ccf7f018fea',\n",
       " '3c7e25aa-00a6-435a-bded-8844d4f03708',\n",
       " 'a14c376c-ba95-41ea-9511-51538602f7bb',\n",
       " '2796b5ee-c278-4792-bef7-01b853427502',\n",
       " 'e98d5e35-810a-4e2c-bf9c-2906120b4138',\n",
       " 'c6bee199-06b4-451a-92c7-d38a39cf7adf',\n",
       " '6d505817-1887-46c2-a5fd-c4a9aaef7df2',\n",
       " 'da1ddaad-e5ce-4c9e-842d-edea5f2df433',\n",
       " 'c55b2c3d-4842-4b31-a4a9-7f24c3d6fbf4',\n",
       " 'c1bdf48a-0206-48f9-b3c0-652992fc6db8',\n",
       " 'eb344f01-349f-42fc-8147-c75adc35459b',\n",
       " 'a5f6cc9d-5d0d-4a37-b491-1672fe7b71ce',\n",
       " 'ca2aadf4-0a7b-4ea7-8476-f1720a9bc870',\n",
       " 'da56e90a-d32c-4fa7-a383-b9e9b21e91be',\n",
       " '1b24b0ce-5d73-4a6f-9c76-38a647ab9ecd',\n",
       " 'bb00d045-171c-4f36-946c-7c297140e805',\n",
       " '81eabdd8-d900-430a-aaac-cb58373f15ef',\n",
       " 'fd746e7e-a44b-4e45-91bc-538c74ed9006',\n",
       " '35cd9ffc-68d2-480c-b198-2b11b1512968',\n",
       " 'cfccb8ab-6765-4f70-9d90-e62a84708934',\n",
       " '7eb68c33-6833-45ba-8306-c5b3309c1efa',\n",
       " 'bc76a9c0-2bc4-49d4-b396-2534c6ca8c1f',\n",
       " '51053340-0d5b-4f14-b285-68cffac8d921',\n",
       " '2e80e5f3-f3f6-48d5-a405-bc36564bddbe',\n",
       " '5fb6fb9e-9c67-4598-889e-01a22f2de18e',\n",
       " 'efae739e-d8ca-4aa9-b061-96b796a3717f',\n",
       " 'bf7839fc-7352-4db3-99b8-ceee17492e52',\n",
       " 'e420216b-9e55-4e8e-b14b-32f10d9029f7',\n",
       " 'a8b86d16-e490-42f5-a34d-80bde71a4244',\n",
       " '748b530d-f00a-49cc-92cd-9788a21de3e2',\n",
       " '8b0081bb-caab-4f4d-897d-ff6f37480352',\n",
       " '9ef8de09-2599-4232-86f4-1b43ba2751bf',\n",
       " '3103d58c-be75-4e29-916a-f4453db5d1e2',\n",
       " 'e3995787-aa4a-4565-a26c-07593f72c693',\n",
       " 'bdcdeb97-2625-4ce3-82c1-119593a124a4',\n",
       " '6e9823e7-8562-46cc-b188-6f8dc5500c16',\n",
       " '7ea7d427-bc61-4a24-9339-4b50d2574824',\n",
       " 'c5ff7393-2fe8-4609-a756-f1f99223c962',\n",
       " 'c880336c-744a-4f21-ae15-2d9d4cfb3999',\n",
       " '447aaf8f-a5aa-4467-81eb-131e26e28c96',\n",
       " '3abc549d-4683-44c8-bdb4-5867b54272f9',\n",
       " '7418759a-b040-486a-b740-de652a593449',\n",
       " '98354a8f-db39-4763-a283-f7e3e4114021',\n",
       " '845b6042-b1a2-4e46-b71e-560811bcf336',\n",
       " '150c63d4-5d5d-4dca-974c-07682d2cb23f',\n",
       " 'd3828d23-9bc2-4ab9-96f0-6a41da517f44',\n",
       " 'bcfaa8da-d5d0-4a5c-a2e6-52d053b4066b',\n",
       " 'e819b2cb-a0c2-4357-86a7-cfcbc14fc158',\n",
       " '904fab37-b46b-4364-bd0b-6e09a5c7a3a7',\n",
       " '9e19cb9d-c6fd-44ab-aa36-9f71620d45bb',\n",
       " '2c18dc07-8ed8-43e3-8a84-bf994e0fb9e0',\n",
       " 'c312ec57-acea-4ab8-92d2-0a69a4cce78a',\n",
       " '60112a42-e816-423d-ba5d-57be196c59b9',\n",
       " '1df5988b-1427-44af-b0d4-92e4392fa30e',\n",
       " 'f5f81fd6-7972-4eb1-a22b-c1603c0b6e3d',\n",
       " '6339ce4c-7114-4386-8734-7d4c0c18d048',\n",
       " 'de1203d6-0605-4371-a3a4-ea283c4816f6',\n",
       " '52ea2f82-6bfc-4b13-a6e6-3e04e47eab54',\n",
       " '0a745bad-3fd9-4c0d-bde2-7b48f1639d21',\n",
       " 'cf762eec-8dce-42dc-b2c6-98a75748895d',\n",
       " '34fce5d8-87e5-48a5-9211-cad02e970dc0',\n",
       " 'b56d45bc-d220-4f4b-90f7-424661a28909',\n",
       " '8759ac95-3ffb-43a7-aaf9-fb464658c888',\n",
       " '5452872e-f0cc-4cbe-ac9c-5c173abd1fdf',\n",
       " '7fee95bc-3658-441e-a181-48e60a80c7f6',\n",
       " 'cf7939ef-bbdf-49bd-a706-6a6a8f4bc3ea',\n",
       " '9e4b1f3e-b3f6-4a8d-ac33-2c7ee9e087be',\n",
       " '2360cb81-4079-4f66-9081-8096932754d2',\n",
       " '9e9ce35a-d677-4847-a5fa-9a74c165a73f',\n",
       " '9a783386-4717-4bd5-8846-5c036daafb1d',\n",
       " 'a15fc681-b02b-468c-b5bb-c039b54bda64',\n",
       " 'f3e97ec0-1960-4fb8-aff1-3c0d713a1d32',\n",
       " '32a7dae5-2d1b-46eb-8da1-f63f7c526b3e',\n",
       " 'ec8bdef4-0402-49a1-bbb5-989df2ba4a90',\n",
       " '2161c479-b2f7-4107-889b-5b69244b572d',\n",
       " '516e298f-9969-4d00-9a7b-f21cc9a7060e',\n",
       " 'dfef2336-793f-48af-ad09-96d22da399d0',\n",
       " 'f52329a8-29a1-41fe-89e1-a60226495071',\n",
       " '97353954-6fbe-4218-bf63-3ba22c3dda0f',\n",
       " '1b920d67-f252-4bce-baae-7a739cc57313',\n",
       " '2a78f684-6984-4414-844d-ea7b33e3fb5b',\n",
       " '0c1602ea-0b30-425c-92af-580468093778',\n",
       " 'a69d53ee-7326-4ae7-851a-5a1272c50857',\n",
       " 'd56a2ae8-4abe-492b-88f3-17a17bbbbe00',\n",
       " '513f9f3c-24d9-4a63-81b4-84fbe23987cd',\n",
       " '99a7b48d-9a79-448c-97fd-281f453a81a2',\n",
       " '8e231cdc-1733-4ff3-af7c-3e30bc0dd139',\n",
       " '6e5c3335-3adc-4a65-b3d0-beea4944a014',\n",
       " '34a1d23d-faa5-4be8-bc83-4c7977fd475d',\n",
       " '35d6f233-f184-4299-8ed7-1936cfa0f6a1',\n",
       " '7f2b53a3-5a9c-42c4-8be6-3a02923ff443',\n",
       " '23628ba5-5705-4c49-860b-5fa3f15fb3b0',\n",
       " '6b3164b1-93d7-46c4-b82d-4b0910c4b64a',\n",
       " '94864aa6-ba43-4fb5-b87e-5bc9961b2914',\n",
       " 'f8b918ff-5ddf-491e-8fe3-5749080de26e',\n",
       " '273528a8-3564-4394-be03-acc74e2faa86',\n",
       " 'fbb5c2d4-9ca1-4d63-8d60-466ca4cfb6ad',\n",
       " '9743f246-4efc-4ffb-b034-5da98823fb41',\n",
       " 'c007f780-a609-45fa-a90f-c9bcf0bac8df',\n",
       " '270a3ac1-72ce-455b-a536-d2a3676d8f24',\n",
       " '681c487f-b030-4639-8803-9249b0339e4b',\n",
       " '68dc2649-464b-49bb-9e52-2501cee46574',\n",
       " '9be4a1bb-d7b6-4d5e-8088-c6302bcdf282',\n",
       " '767e3e2e-1e97-4808-bb73-07a75bb2ca9f',\n",
       " 'cafa6f13-f732-4940-9e82-4d316a46573c',\n",
       " 'ffdac6cf-9bb5-4025-8e47-323b1b5fdce4',\n",
       " 'd72d0ca4-2d88-4c57-a709-7c48dfc60db8',\n",
       " '5dfb0e4d-99c0-473f-ba10-527ce7b46ad2',\n",
       " 'fab16d15-4ae3-4965-a8cb-8ef17ace86c7',\n",
       " '3eaccb21-7a59-4f9b-b27f-c0755b1c402d',\n",
       " '0d8dbb27-3b4f-4836-9f31-b041f298b72e',\n",
       " 'e96ccc4c-8b04-44f3-bcde-f29e5b5f2c7d',\n",
       " '352a7ebb-026d-4d55-9828-32fa33c2ded2',\n",
       " 'f3ba4c24-06e3-424c-961e-ec917fab693a',\n",
       " 'a05dde07-ce0c-40d1-9d61-e15f984a5d6f',\n",
       " '7a6fbe53-c80e-41b0-b969-cdd44d78eb62',\n",
       " '0a1fadf2-304b-431c-8dbf-a427bff3a2c6',\n",
       " '3e553e33-070b-4fdf-82f4-31a9b0a98a83',\n",
       " 'dc52ba9c-6b89-4906-9419-bd27885f6870',\n",
       " '9617f294-1b22-427b-9f99-4b9e7839f8ef',\n",
       " '2d9e62ad-9a58-4ded-aa60-f1578d080f57',\n",
       " 'caac69e2-5d01-4c2d-90ce-cd34e1402fa5',\n",
       " '803cb8b1-87f2-4448-a2e5-9b7a6bf854e7',\n",
       " '86ad7a80-57a1-4f60-828b-62b96d49ee7b',\n",
       " '1df021a2-2ca7-45da-adcc-9b7a190758aa',\n",
       " '69d3c25c-ea25-4a71-8808-8750284e0289',\n",
       " '4be65992-e4c4-4d87-bb9a-9efa75eebff3',\n",
       " 'b4c25e6e-85dc-4864-a407-c9f01ec29bc6',\n",
       " '95f7d8c1-3b60-442e-bd4b-1c312edee09c',\n",
       " 'ad29b4b9-076b-47af-a661-bf11d583709a',\n",
       " '29fe80fb-6d5a-4bb7-979e-5c1e40e50e41',\n",
       " '10a5ae5f-e129-4cb3-a880-92ec4a48ee09',\n",
       " '56447a94-8c54-450a-9c34-c9466bbdcc61',\n",
       " 'ec0257ab-24c1-4087-b7e2-cf2421862481',\n",
       " '856c441c-863f-4bef-bc66-98dac4baf5bd',\n",
       " '2815cdeb-38da-4f01-b31c-63b136dce8ac',\n",
       " '1f285cda-f012-4e3b-b7aa-d61cf47d74aa',\n",
       " '1d64e43a-428f-4da4-b9e9-794d54194060',\n",
       " 'fe1a8d5f-e545-4b7c-b538-c21695a64f3d',\n",
       " '0ff36168-2b81-40a4-afc8-4aefb2d5143a',\n",
       " 'eb23b329-d4f0-49e2-97a6-dcac3662a761',\n",
       " 'a95346c0-3558-4371-9dc7-392383870019',\n",
       " '4bd234e4-3d21-4764-947e-52cef61eded3',\n",
       " 'f2a41d1d-3f78-44a4-bb76-b2789a12b526',\n",
       " '7cbcc56e-e7ee-4c92-81bb-6da3a86ddafb',\n",
       " '972b3522-82e2-44ef-b3d0-723aa7199f3c',\n",
       " '110d3ba5-f279-4efd-b75e-17a29a44dd51',\n",
       " '744a0cd7-0dda-46bc-8b8c-b815339ef649',\n",
       " 'cd256d34-06e4-4315-b8ad-be9d618358cc',\n",
       " '01f8af1c-1473-4f11-a946-3c1b048b36c6',\n",
       " '5b72d988-af8a-45fd-b1af-709a52f3de59',\n",
       " 'a3ec139e-068c-45a7-8e7d-6b392fad3aa5']"
      ]
     },
     "execution_count": 27,
     "metadata": {},
     "output_type": "execute_result"
    }
   ],
   "source": [
    "uuids = [str(uuid4()) for _ in range(len(pages))]\n",
    "\n",
    "vector_store.add_documents(documents=pages, ids=uuids)"
   ]
  },
  {
   "cell_type": "code",
   "execution_count": 28,
   "id": "940f021b-dcad-4379-a81d-b626d3576c4e",
   "metadata": {},
   "outputs": [],
   "source": [
    "retriever = vector_store.as_retriever(\n",
    "                        search_kwargs={\"k\": 5})"
   ]
  },
  {
   "cell_type": "code",
   "execution_count": 29,
   "id": "6b597b09-012b-4f71-8d62-2486400a3a84",
   "metadata": {},
   "outputs": [],
   "source": [
    "llm = ChatGoogleGenerativeAI(\n",
    "                    model=\"gemini-1.5-pro-001\", credentials=vertex_credentials\n",
    "                )"
   ]
  },
  {
   "cell_type": "code",
   "execution_count": 48,
   "id": "e00da3c9-6990-407a-862a-2c4c0e7d0101",
   "metadata": {},
   "outputs": [],
   "source": [
    "from langchain.chains import ConversationalRetrievalChain, RetrievalQA\n",
    "# filter={\"source\" :\"docs\\\\Baremo 2015.pdf\"}\n",
    "chain = ConversationalRetrievalChain.from_llm(llm, retriever=retriever, return_source_documents=True)"
   ]
  },
  {
   "cell_type": "code",
   "execution_count": 49,
   "id": "33037d57-62d7-4863-bc3f-5eb2c5bc7fdc",
   "metadata": {},
   "outputs": [
    {
     "name": "stdout",
     "output_type": "stream",
     "text": [
      "Name: Aardvark Constructions Limited\n",
      "Country: United Kingdom\n",
      "Company Number: 123456\n",
      "Incorporated: 20/10/2020\n",
      "Company Type: Limited by Shares\n",
      "Company Status: Active\n",
      "Primary Addresses Registered Office: 6 Chancery Road, London, WC2A 5DP, United Kingdom\n",
      "Accounting Dates: \n",
      "      Last Period End: 16/11/2022\n",
      "      Current Period End: 16/11/2024\n",
      "Confirmation Statement:\n",
      "      Last Signed: 17/02/2023\n",
      "      Filed: 17/02/2023\n",
      "      Next Overdue: 03/03/2023 \n",
      "\n"
     ]
    }
   ],
   "source": [
    "chat_history = []\n",
    "\n",
    "query = \"\"\"Provide Main Details of the company Aardvark Constructions Limited. Including following details:\n",
    "Name:\n",
    "Country:\n",
    "Company Number:\n",
    "Incorporated:\n",
    "Company Type:\n",
    "Company Status:\n",
    "Primary Addresses Registered Office:\n",
    "Accounting Dates:\n",
    "Confirmation Statement:\n",
    "\"\"\"\n",
    "result = chain.invoke({\"question\": query, \"chat_history\": chat_history})\n",
    "\n",
    "print(result['answer'])"
   ]
  },
  {
   "cell_type": "code",
   "execution_count": 50,
   "id": "ef380307-61d1-4c5d-81b1-0cd4d27a5a59",
   "metadata": {},
   "outputs": [
    {
     "data": {
      "text/plain": [
       "dict_keys(['question', 'chat_history', 'answer', 'source_documents'])"
      ]
     },
     "execution_count": 50,
     "metadata": {},
     "output_type": "execute_result"
    }
   ],
   "source": [
    "result.keys()"
   ]
  },
  {
   "cell_type": "code",
   "execution_count": 52,
   "id": "13fc9766-67c8-4f5b-9347-63a5b035a7c2",
   "metadata": {},
   "outputs": [
    {
     "data": {
      "text/plain": [
       "5"
      ]
     },
     "execution_count": 52,
     "metadata": {},
     "output_type": "execute_result"
    }
   ],
   "source": [
    "len(result[\"source_documents\"])"
   ]
  },
  {
   "cell_type": "code",
   "execution_count": 53,
   "id": "04634aca-a99a-478e-a773-e7c3e21d3196",
   "metadata": {},
   "outputs": [],
   "source": [
    "chat_history = [(query, result[\"answer\"])]"
   ]
  },
  {
   "cell_type": "code",
   "execution_count": 54,
   "id": "95929096-52d1-4038-80ed-e557ad29a174",
   "metadata": {},
   "outputs": [
    {
     "name": "stdout",
     "output_type": "stream",
     "text": [
      "The document lists \"Caroline McPartland\" as \"Managed By\" with the email address \"cmcpartland@diligent.com\". \n",
      "\n"
     ]
    }
   ],
   "source": [
    "query2 = \"\"\"From Management Details extract:\n",
    "Managed By:\n",
    "Managed By Email:\n",
    "\"\"\"\n",
    "result = chain.invoke({\"question\": query2, \"chat_history\": chat_history})\n",
    "print(result['answer'])"
   ]
  },
  {
   "cell_type": "code",
   "execution_count": 35,
   "id": "a32632ef-ae00-465d-b584-f193110953a8",
   "metadata": {},
   "outputs": [
    {
     "data": {
      "text/plain": [
       "[('Provide Main Details of the company Aardvark Constructions Limited. Including following details:\\nName:\\nCountry:\\nCompany Number:\\nIncorporated:\\nCompany Type:\\nCompany Status:\\nPrimary Addresses Registered Office:\\nAccounting Dates:\\nConfirmation Statement:\\n',\n",
       "  'Name: Aardvark Constructions Limited\\nCountry: United Kingdom\\nCompany Number: 123456\\nIncorporated: 20/10/2020\\nCompany Type: Limited by Shares\\nCompany Status: Active\\nPrimary Addresses Registered Office: 6 Chancery Road, London, WC2A 5DP, United Kingdom\\nAccounting Dates: \\n      Last Period End: 16/11/2022\\n      Current Period End: 16/11/2024 \\nConfirmation Statement:\\n      Last Signed: 17/02/2023\\n      Filed: 17/02/2023\\n      Next Overdue: 03/03/2023 \\n'),\n",
       " ('From Management Details extract:\\nManaged By:\\nManaged By Email:\\n',\n",
       "  'The document lists Caroline McPartland as \"Managed By\", and her email address is cmcpartland@diligent.com. \\n')]"
      ]
     },
     "execution_count": 35,
     "metadata": {},
     "output_type": "execute_result"
    }
   ],
   "source": [
    "chat_history.append((query2, result[\"answer\"]))\n",
    "chat_history"
   ]
  },
  {
   "cell_type": "code",
   "execution_count": 55,
   "id": "d6343330-18f4-40cc-a7b9-12360c210ada",
   "metadata": {},
   "outputs": [
    {
     "name": "stdout",
     "output_type": "stream",
     "text": [
      "Aardvark Constructions Limited had two previous names:\n",
      "\n",
      "* **Aardvark Construction** from 20/10/2020 to 20/10/2021\n",
      "* **Aardvark and Son Ltd** from 20/10/2021 to 20/10/2022 \n",
      "\n"
     ]
    }
   ],
   "source": [
    "query3 = \"\"\"Past Names of the Company with their period \"\"\"\n",
    "result = chain.invoke({\"question\": query3 ,\"chat_history\": chat_history})\n",
    "print(result['answer'])"
   ]
  },
  {
   "cell_type": "code",
   "execution_count": 37,
   "id": "bd571421-57cd-426c-bd9a-af96f5f4169d",
   "metadata": {},
   "outputs": [
    {
     "data": {
      "text/plain": [
       "[('Provide Main Details of the company Aardvark Constructions Limited. Including following details:\\nName:\\nCountry:\\nCompany Number:\\nIncorporated:\\nCompany Type:\\nCompany Status:\\nPrimary Addresses Registered Office:\\nAccounting Dates:\\nConfirmation Statement:\\n',\n",
       "  'Name: Aardvark Constructions Limited\\nCountry: United Kingdom\\nCompany Number: 123456\\nIncorporated: 20/10/2020\\nCompany Type: Limited by Shares\\nCompany Status: Active\\nPrimary Addresses Registered Office: 6 Chancery Road, London, WC2A 5DP, United Kingdom\\nAccounting Dates: \\n      Last Period End: 16/11/2022\\n      Current Period End: 16/11/2024 \\nConfirmation Statement:\\n      Last Signed: 17/02/2023\\n      Filed: 17/02/2023\\n      Next Overdue: 03/03/2023 \\n'),\n",
       " ('From Management Details extract:\\nManaged By:\\nManaged By Email:\\n',\n",
       "  'The document lists Caroline McPartland as \"Managed By\", and her email address is cmcpartland@diligent.com. \\n'),\n",
       " ('Past Names of the Company with their period ',\n",
       "  'Aardvark Constructions Limited had two previous names:\\n\\n* **Aardvark and Son Ltd:** From October 20, 2021 to October 20, 2022\\n* **Aardvark Construction:** From October 20, 2020 to October 20, 2021 \\n')]"
      ]
     },
     "execution_count": 37,
     "metadata": {},
     "output_type": "execute_result"
    }
   ],
   "source": [
    "chat_history.append((query3, result[\"answer\"]))\n",
    "chat_history"
   ]
  },
  {
   "cell_type": "code",
   "execution_count": 56,
   "id": "1863d091-b13f-4dad-9498-47a0d0394c11",
   "metadata": {},
   "outputs": [
    {
     "name": "stdout",
     "output_type": "stream",
     "text": [
      "Appointments  \n",
      "Board Positions  \n",
      "Name  QuickRef  Position  Appointed  Job Title  \n",
      "Abbles, James  ABBLES -J Director  19/04/2023  Trainer  \n",
      "Abdreatta, Leopoldo  ABDREATT -L Director  18/10/2023  Secretary  \n",
      "Adam, Nicole  ADAMS -N Alternate Director  04/04/2023  CFO  \n",
      "  Non Executive \n",
      "Director  10/04/2024  CFO  \n",
      "Alberts, Stoffel  ALBERTS -S Company Secretary  16/12/2022  Accountant  \n",
      "Rutter, Gus  RUTTER -G Director  07/03/2024  Director  \n",
      " \n",
      "Past Appointments  \n",
      "Name  QuickRef  Position  Appointed  Resigned  \n",
      "Malek, Mohammed  MALEK -M Director  22/07/2022  18/01/2024 \n",
      "\n"
     ]
    }
   ],
   "source": [
    "query4 = \"\"\"Appointments Board Positions\"\"\"\n",
    "result = chain.invoke({\"question\": query4 ,\"chat_history\": chat_history})\n",
    "print(result['answer'])"
   ]
  },
  {
   "cell_type": "code",
   "execution_count": null,
   "id": "f65ccc08-8f17-4391-afa7-3c81a6b1d83e",
   "metadata": {},
   "outputs": [],
   "source": []
  }
 ],
 "metadata": {
  "kernelspec": {
   "display_name": "Python 3 (ipykernel)",
   "language": "python",
   "name": "python3"
  },
  "language_info": {
   "codemirror_mode": {
    "name": "ipython",
    "version": 3
   },
   "file_extension": ".py",
   "mimetype": "text/x-python",
   "name": "python",
   "nbconvert_exporter": "python",
   "pygments_lexer": "ipython3",
   "version": "3.10.15"
  }
 },
 "nbformat": 4,
 "nbformat_minor": 5
}
