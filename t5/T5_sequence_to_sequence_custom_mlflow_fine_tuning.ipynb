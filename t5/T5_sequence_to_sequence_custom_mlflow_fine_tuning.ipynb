{
  "cells": [
    {
      "cell_type": "markdown",
      "metadata": {
        "id": "view-in-github",
        "colab_type": "text"
      },
      "source": [
        "<a href=\"https://colab.research.google.com/github/olonok69/LLM_Notebooks/blob/main/t5/T5_sequence_to_sequence_custom_mlflow_fine_tuning.ipynb\" target=\"_parent\"><img src=\"https://colab.research.google.com/assets/colab-badge.svg\" alt=\"Open In Colab\"/></a>"
      ]
    },
    {
      "cell_type": "markdown",
      "source": [
        "#MLFLOW\n",
        "https://mlflow.org/docs/latest/introduction/index.html\n",
        "\n",
        "\n",
        "MLflow is a solution to many of these issues in this dynamic landscape, offering tools and simplifying processes to streamline the ML lifecycle and foster collaboration among ML practitioners.\n",
        "\n",
        "https://mlflow.org/docs/latest/llms/llm-evaluate/index.html\n",
        "\n",
        "# MLflow transformers Guide\n",
        "https://mlflow.org/docs/latest/llms/transformers/guide/index.html\n",
        "https://mlflow.org/docs/latest/llms/transformers/tutorials/fine-tuning/transformers-fine-tuning.html\n",
        "\n",
        "# T5forConditionalGeneration\n",
        "T5Model contains the encoder (stack of encoder layers) and decoder (stack of decoder layers) without any task specific heads. It returns the raw hidden states of the decoder as output.\n",
        "\n",
        "T5ForConditionalGeneration also contains the encoder and decoder and adds an additional linear layer (lm_head) which takes the final hidden states of decoder and generates the next token.\n",
        "\n",
        "For fine-tuning the model for seq2seq generation you should use T5ForConditionalGeneration, if you want to add some different task specific head then you can T5Model.\n",
        "\n",
        "# ngrok\n",
        "Connect localhost to the internet for testing applications and APIs\n",
        "Bring secure connectivity to apps and APIs in localhost and dev/test environments with just one command or function call.\n",
        "- Webhook testing\n",
        "- Developer Previews\n",
        "- Mobile backend testing\n",
        "\n",
        "https://ngrok.com/\n"
      ],
      "metadata": {
        "id": "nSXck4MZMLmi"
      }
    },
    {
      "cell_type": "code",
      "source": [
        "from google.colab import drive\n",
        "drive.mount('/content/drive')"
      ],
      "metadata": {
        "colab": {
          "base_uri": "https://localhost:8080/"
        },
        "id": "Vl9iotQIL95z",
        "outputId": "3fc9e7b2-5835-46bd-8c5c-a2e1473a0403"
      },
      "execution_count": 1,
      "outputs": [
        {
          "output_type": "stream",
          "name": "stdout",
          "text": [
            "Drive already mounted at /content/drive; to attempt to forcibly remount, call drive.mount(\"/content/drive\", force_remount=True).\n"
          ]
        }
      ]
    },
    {
      "cell_type": "code",
      "source": [
        "!pip install mlflow pyngrok evaluate  bitsandbytes accelerate datasets transformers==4.39.3 --quiet\n",
        "get_ipython().system_raw(\"mlflow ui --port 5000 &\")"
      ],
      "metadata": {
        "id": "OLCKO2xiJxWg"
      },
      "execution_count": 2,
      "outputs": []
    },
    {
      "cell_type": "code",
      "source": [
        "\n",
        "from pyngrok import ngrok\n",
        "from getpass import getpass\n",
        "\n",
        "# Terminate open tunnels if exist\n",
        "ngrok.kill()"
      ],
      "metadata": {
        "id": "lyavcj5lKbgo"
      },
      "execution_count": 5,
      "outputs": []
    },
    {
      "cell_type": "code",
      "source": [
        "from google.colab import userdata\n",
        "NGROK_AUTH_TOKEN  = userdata.get('NGROK')\n",
        "\n",
        "ngrok.set_auth_token(NGROK_AUTH_TOKEN)\n",
        "\n",
        "# Open an HTTPs tunnel on port 5000 for http://localhost:5000\n",
        "ngrok_tunnel = ngrok.connect(addr=\"5000\", proto=\"http\", bind_tls=True)\n",
        "print(\"MLflow Tracking UI:\", ngrok_tunnel.public_url)"
      ],
      "metadata": {
        "colab": {
          "base_uri": "https://localhost:8080/"
        },
        "id": "pBF_ADV1KglQ",
        "outputId": "15e48bd4-eb0a-4159-a5f6-c783b7a00ddd"
      },
      "execution_count": 6,
      "outputs": [
        {
          "output_type": "stream",
          "name": "stdout",
          "text": [
            "MLflow Tracking UI: https://b94e-34-124-207-210.ngrok-free.app\n"
          ]
        }
      ]
    },
    {
      "cell_type": "markdown",
      "metadata": {
        "id": "9Kt_eCWCJCOO"
      },
      "source": [
        "## Fine-Tuning Transformers with MLflow for Enhanced Model Management\n",
        "\n"
      ]
    },
    {
      "cell_type": "code",
      "execution_count": 7,
      "metadata": {
        "colab": {
          "base_uri": "https://localhost:8080/"
        },
        "id": "mIufw48uJCOi",
        "outputId": "b10d051b-612b-4b2a-bc1c-f6b5e4df9730"
      },
      "outputs": [
        {
          "output_type": "stream",
          "name": "stdout",
          "text": [
            "env: TOKENIZERS_PARALLELISM=false\n"
          ]
        }
      ],
      "source": [
        "# Disable tokenizers warnings when constructing pipelines\n",
        "%env TOKENIZERS_PARALLELISM=false\n",
        "\n",
        "import warnings\n",
        "\n",
        "# Disable a few less-than-useful UserWarnings from setuptools and pydantic\n",
        "warnings.filterwarnings(\"ignore\", category=UserWarning)"
      ]
    },
    {
      "cell_type": "markdown",
      "metadata": {
        "id": "-mSgKmc2JCOp"
      },
      "source": [
        "### Preparing the Dataset and Environment for Fine-Tuning\n",
        "\n",
        "#### Key Steps in this Section\n",
        "\n",
        "1. **Loading the Dataset**: Utilizing the `sms_spam` dataset for spam detection.\n",
        "2. **Splitting the Dataset**: Dividing the dataset into training and test sets with an 80/20 distribution.\n",
        "3. **Importing Necessary Libraries**: Including libraries like `evaluate`, `mlflow`, `numpy`, and essential components from the `transformers` library.\n",
        "\n",
        "Before diving into the fine-tuning process, setting up our environment and preparing the dataset is crucial. This step involves loading the dataset, splitting it into training and testing sets, and initializing essential components of the Transformers library. These preparatory steps lay the groundwork for an efficient fine-tuning process.\n",
        "\n",
        "This setup ensures that we have a solid foundation for fine-tuning our model, with all the necessary data and tools at our disposal. In the following Python code, we'll execute these steps to kickstart our model fine-tuning journey."
      ]
    },
    {
      "cell_type": "code",
      "execution_count": 8,
      "metadata": {
        "id": "62iKDf55JCOs"
      },
      "outputs": [],
      "source": [
        "import evaluate\n",
        "import numpy as np\n",
        "from datasets import load_dataset, Dataset\n",
        "from transformers import (\n",
        "    AutoTokenizer,\n",
        "    Trainer,\n",
        "    TrainingArguments,\n",
        "    pipeline,\n",
        ")\n",
        "\n",
        "import mlflow\n",
        "import pandas as pd\n",
        "from sklearn.model_selection import train_test_split"
      ]
    },
    {
      "cell_type": "code",
      "source": [
        "data_path = \"/content/drive/MyDrive/data/documents_final_cv.csv\"\n",
        "data = pd.read_csv(data_path, header=None)\n",
        "data_path_test = \"/content/drive/MyDrive/data/documents_test_cv.csv\"\n",
        "data_test= pd.read_csv(data_path_test,  header=None)\n",
        "data.columns = [\"label\", \"text\"]\n",
        "data_test.columns = [\"label\", \"text\"]"
      ],
      "metadata": {
        "id": "6QHW12utW5Xq"
      },
      "execution_count": 9,
      "outputs": []
    },
    {
      "cell_type": "code",
      "source": [
        "y =  data['label'].values\n",
        "X = data.drop(\"label\", axis=1)"
      ],
      "metadata": {
        "id": "czXyakXCaWK2"
      },
      "execution_count": 10,
      "outputs": []
    },
    {
      "cell_type": "code",
      "source": [
        "X_train, X_test, y_train, y_test = train_test_split(X, y, test_size=0.2, stratify=y, random_state=42)\n"
      ],
      "metadata": {
        "id": "itmDj8Z7XzTI"
      },
      "execution_count": 11,
      "outputs": []
    },
    {
      "cell_type": "code",
      "source": [
        "X_train['label'] = y_train\n",
        "X_test['label'] = y_test"
      ],
      "metadata": {
        "id": "Sk0kL0nVayP_"
      },
      "execution_count": 12,
      "outputs": []
    },
    {
      "cell_type": "code",
      "source": [
        "X_train.head()"
      ],
      "metadata": {
        "colab": {
          "base_uri": "https://localhost:8080/",
          "height": 206
        },
        "id": "hGybppsJbRBE",
        "outputId": "6f9d123b-5a7e-4801-dca9-f26d24b0069a"
      },
      "execution_count": 13,
      "outputs": [
        {
          "output_type": "execute_result",
          "data": {
            "text/plain": [
              "                                                  text   label\n",
              "54   profile resume capm ga 30022 404 372 2126 lead...      cv\n",
              "175  evaluation document created security 98549 day...  non-cv\n",
              "78   scott willard cumberland park dr fl 32821 febr...      cv\n",
              "100  evaluation document created security 19 meadow...  non-cv\n",
              "158  evaluation document created 55373 main safety ...  non-cv"
            ],
            "text/html": [
              "\n",
              "  <div id=\"df-5423e032-cbc5-41c1-9aca-dae851d4135c\" class=\"colab-df-container\">\n",
              "    <div>\n",
              "<style scoped>\n",
              "    .dataframe tbody tr th:only-of-type {\n",
              "        vertical-align: middle;\n",
              "    }\n",
              "\n",
              "    .dataframe tbody tr th {\n",
              "        vertical-align: top;\n",
              "    }\n",
              "\n",
              "    .dataframe thead th {\n",
              "        text-align: right;\n",
              "    }\n",
              "</style>\n",
              "<table border=\"1\" class=\"dataframe\">\n",
              "  <thead>\n",
              "    <tr style=\"text-align: right;\">\n",
              "      <th></th>\n",
              "      <th>text</th>\n",
              "      <th>label</th>\n",
              "    </tr>\n",
              "  </thead>\n",
              "  <tbody>\n",
              "    <tr>\n",
              "      <th>54</th>\n",
              "      <td>profile resume capm ga 30022 404 372 2126 lead...</td>\n",
              "      <td>cv</td>\n",
              "    </tr>\n",
              "    <tr>\n",
              "      <th>175</th>\n",
              "      <td>evaluation document created security 98549 day...</td>\n",
              "      <td>non-cv</td>\n",
              "    </tr>\n",
              "    <tr>\n",
              "      <th>78</th>\n",
              "      <td>scott willard cumberland park dr fl 32821 febr...</td>\n",
              "      <td>cv</td>\n",
              "    </tr>\n",
              "    <tr>\n",
              "      <th>100</th>\n",
              "      <td>evaluation document created security 19 meadow...</td>\n",
              "      <td>non-cv</td>\n",
              "    </tr>\n",
              "    <tr>\n",
              "      <th>158</th>\n",
              "      <td>evaluation document created 55373 main safety ...</td>\n",
              "      <td>non-cv</td>\n",
              "    </tr>\n",
              "  </tbody>\n",
              "</table>\n",
              "</div>\n",
              "    <div class=\"colab-df-buttons\">\n",
              "\n",
              "  <div class=\"colab-df-container\">\n",
              "    <button class=\"colab-df-convert\" onclick=\"convertToInteractive('df-5423e032-cbc5-41c1-9aca-dae851d4135c')\"\n",
              "            title=\"Convert this dataframe to an interactive table.\"\n",
              "            style=\"display:none;\">\n",
              "\n",
              "  <svg xmlns=\"http://www.w3.org/2000/svg\" height=\"24px\" viewBox=\"0 -960 960 960\">\n",
              "    <path d=\"M120-120v-720h720v720H120Zm60-500h600v-160H180v160Zm220 220h160v-160H400v160Zm0 220h160v-160H400v160ZM180-400h160v-160H180v160Zm440 0h160v-160H620v160ZM180-180h160v-160H180v160Zm440 0h160v-160H620v160Z\"/>\n",
              "  </svg>\n",
              "    </button>\n",
              "\n",
              "  <style>\n",
              "    .colab-df-container {\n",
              "      display:flex;\n",
              "      gap: 12px;\n",
              "    }\n",
              "\n",
              "    .colab-df-convert {\n",
              "      background-color: #E8F0FE;\n",
              "      border: none;\n",
              "      border-radius: 50%;\n",
              "      cursor: pointer;\n",
              "      display: none;\n",
              "      fill: #1967D2;\n",
              "      height: 32px;\n",
              "      padding: 0 0 0 0;\n",
              "      width: 32px;\n",
              "    }\n",
              "\n",
              "    .colab-df-convert:hover {\n",
              "      background-color: #E2EBFA;\n",
              "      box-shadow: 0px 1px 2px rgba(60, 64, 67, 0.3), 0px 1px 3px 1px rgba(60, 64, 67, 0.15);\n",
              "      fill: #174EA6;\n",
              "    }\n",
              "\n",
              "    .colab-df-buttons div {\n",
              "      margin-bottom: 4px;\n",
              "    }\n",
              "\n",
              "    [theme=dark] .colab-df-convert {\n",
              "      background-color: #3B4455;\n",
              "      fill: #D2E3FC;\n",
              "    }\n",
              "\n",
              "    [theme=dark] .colab-df-convert:hover {\n",
              "      background-color: #434B5C;\n",
              "      box-shadow: 0px 1px 3px 1px rgba(0, 0, 0, 0.15);\n",
              "      filter: drop-shadow(0px 1px 2px rgba(0, 0, 0, 0.3));\n",
              "      fill: #FFFFFF;\n",
              "    }\n",
              "  </style>\n",
              "\n",
              "    <script>\n",
              "      const buttonEl =\n",
              "        document.querySelector('#df-5423e032-cbc5-41c1-9aca-dae851d4135c button.colab-df-convert');\n",
              "      buttonEl.style.display =\n",
              "        google.colab.kernel.accessAllowed ? 'block' : 'none';\n",
              "\n",
              "      async function convertToInteractive(key) {\n",
              "        const element = document.querySelector('#df-5423e032-cbc5-41c1-9aca-dae851d4135c');\n",
              "        const dataTable =\n",
              "          await google.colab.kernel.invokeFunction('convertToInteractive',\n",
              "                                                    [key], {});\n",
              "        if (!dataTable) return;\n",
              "\n",
              "        const docLinkHtml = 'Like what you see? Visit the ' +\n",
              "          '<a target=\"_blank\" href=https://colab.research.google.com/notebooks/data_table.ipynb>data table notebook</a>'\n",
              "          + ' to learn more about interactive tables.';\n",
              "        element.innerHTML = '';\n",
              "        dataTable['output_type'] = 'display_data';\n",
              "        await google.colab.output.renderOutput(dataTable, element);\n",
              "        const docLink = document.createElement('div');\n",
              "        docLink.innerHTML = docLinkHtml;\n",
              "        element.appendChild(docLink);\n",
              "      }\n",
              "    </script>\n",
              "  </div>\n",
              "\n",
              "\n",
              "<div id=\"df-5080ebba-b7ac-4c40-a73c-128a09f63da1\">\n",
              "  <button class=\"colab-df-quickchart\" onclick=\"quickchart('df-5080ebba-b7ac-4c40-a73c-128a09f63da1')\"\n",
              "            title=\"Suggest charts\"\n",
              "            style=\"display:none;\">\n",
              "\n",
              "<svg xmlns=\"http://www.w3.org/2000/svg\" height=\"24px\"viewBox=\"0 0 24 24\"\n",
              "     width=\"24px\">\n",
              "    <g>\n",
              "        <path d=\"M19 3H5c-1.1 0-2 .9-2 2v14c0 1.1.9 2 2 2h14c1.1 0 2-.9 2-2V5c0-1.1-.9-2-2-2zM9 17H7v-7h2v7zm4 0h-2V7h2v10zm4 0h-2v-4h2v4z\"/>\n",
              "    </g>\n",
              "</svg>\n",
              "  </button>\n",
              "\n",
              "<style>\n",
              "  .colab-df-quickchart {\n",
              "      --bg-color: #E8F0FE;\n",
              "      --fill-color: #1967D2;\n",
              "      --hover-bg-color: #E2EBFA;\n",
              "      --hover-fill-color: #174EA6;\n",
              "      --disabled-fill-color: #AAA;\n",
              "      --disabled-bg-color: #DDD;\n",
              "  }\n",
              "\n",
              "  [theme=dark] .colab-df-quickchart {\n",
              "      --bg-color: #3B4455;\n",
              "      --fill-color: #D2E3FC;\n",
              "      --hover-bg-color: #434B5C;\n",
              "      --hover-fill-color: #FFFFFF;\n",
              "      --disabled-bg-color: #3B4455;\n",
              "      --disabled-fill-color: #666;\n",
              "  }\n",
              "\n",
              "  .colab-df-quickchart {\n",
              "    background-color: var(--bg-color);\n",
              "    border: none;\n",
              "    border-radius: 50%;\n",
              "    cursor: pointer;\n",
              "    display: none;\n",
              "    fill: var(--fill-color);\n",
              "    height: 32px;\n",
              "    padding: 0;\n",
              "    width: 32px;\n",
              "  }\n",
              "\n",
              "  .colab-df-quickchart:hover {\n",
              "    background-color: var(--hover-bg-color);\n",
              "    box-shadow: 0 1px 2px rgba(60, 64, 67, 0.3), 0 1px 3px 1px rgba(60, 64, 67, 0.15);\n",
              "    fill: var(--button-hover-fill-color);\n",
              "  }\n",
              "\n",
              "  .colab-df-quickchart-complete:disabled,\n",
              "  .colab-df-quickchart-complete:disabled:hover {\n",
              "    background-color: var(--disabled-bg-color);\n",
              "    fill: var(--disabled-fill-color);\n",
              "    box-shadow: none;\n",
              "  }\n",
              "\n",
              "  .colab-df-spinner {\n",
              "    border: 2px solid var(--fill-color);\n",
              "    border-color: transparent;\n",
              "    border-bottom-color: var(--fill-color);\n",
              "    animation:\n",
              "      spin 1s steps(1) infinite;\n",
              "  }\n",
              "\n",
              "  @keyframes spin {\n",
              "    0% {\n",
              "      border-color: transparent;\n",
              "      border-bottom-color: var(--fill-color);\n",
              "      border-left-color: var(--fill-color);\n",
              "    }\n",
              "    20% {\n",
              "      border-color: transparent;\n",
              "      border-left-color: var(--fill-color);\n",
              "      border-top-color: var(--fill-color);\n",
              "    }\n",
              "    30% {\n",
              "      border-color: transparent;\n",
              "      border-left-color: var(--fill-color);\n",
              "      border-top-color: var(--fill-color);\n",
              "      border-right-color: var(--fill-color);\n",
              "    }\n",
              "    40% {\n",
              "      border-color: transparent;\n",
              "      border-right-color: var(--fill-color);\n",
              "      border-top-color: var(--fill-color);\n",
              "    }\n",
              "    60% {\n",
              "      border-color: transparent;\n",
              "      border-right-color: var(--fill-color);\n",
              "    }\n",
              "    80% {\n",
              "      border-color: transparent;\n",
              "      border-right-color: var(--fill-color);\n",
              "      border-bottom-color: var(--fill-color);\n",
              "    }\n",
              "    90% {\n",
              "      border-color: transparent;\n",
              "      border-bottom-color: var(--fill-color);\n",
              "    }\n",
              "  }\n",
              "</style>\n",
              "\n",
              "  <script>\n",
              "    async function quickchart(key) {\n",
              "      const quickchartButtonEl =\n",
              "        document.querySelector('#' + key + ' button');\n",
              "      quickchartButtonEl.disabled = true;  // To prevent multiple clicks.\n",
              "      quickchartButtonEl.classList.add('colab-df-spinner');\n",
              "      try {\n",
              "        const charts = await google.colab.kernel.invokeFunction(\n",
              "            'suggestCharts', [key], {});\n",
              "      } catch (error) {\n",
              "        console.error('Error during call to suggestCharts:', error);\n",
              "      }\n",
              "      quickchartButtonEl.classList.remove('colab-df-spinner');\n",
              "      quickchartButtonEl.classList.add('colab-df-quickchart-complete');\n",
              "    }\n",
              "    (() => {\n",
              "      let quickchartButtonEl =\n",
              "        document.querySelector('#df-5080ebba-b7ac-4c40-a73c-128a09f63da1 button');\n",
              "      quickchartButtonEl.style.display =\n",
              "        google.colab.kernel.accessAllowed ? 'block' : 'none';\n",
              "    })();\n",
              "  </script>\n",
              "</div>\n",
              "    </div>\n",
              "  </div>\n"
            ],
            "application/vnd.google.colaboratory.intrinsic+json": {
              "type": "dataframe",
              "variable_name": "X_train",
              "summary": "{\n  \"name\": \"X_train\",\n  \"rows\": 160,\n  \"fields\": [\n    {\n      \"column\": \"text\",\n      \"properties\": {\n        \"dtype\": \"string\",\n        \"num_unique_values\": 158,\n        \"samples\": [\n          \"dylan fl supervisor proven track record thriving exceptional work ethic consistent desire go beyond demonstrated ability building productive trusting relationships prefer fast environment goal oriented mindset help contribute overall success conflict development 2021 front end supervisors managers follow standard operating procedures appearance ensure member ability work flexible schedule ensure continuity throughout exceptional customer service members ensure view costco always top cleanliness store cleaning check products ensure pristine condition load members shopping carts alongside cashiers checkout flow keg 2020 aug supervisor 10 managers team members maintain general ensure welcoming environment exceptional customer service speaking potential customers answering general questions addressing park completing inspections detailed repairs rest bar staff pouring drinks taking orders also helping maintain menu items memorized cocktail opening closing restocking bar changed kegs kept bar clean guest prepared food cook food guests chef greeted guests walked answered questions might finishing touches completed adding garnishes ran food tables server washed servers take food drink orders zone space coast trampoline 2019 sept thorough closing shift change functions maintain supplier operations verify delivery conformance trained team members provide exceptional driving team leveraged operations market data assess areas need capitalized changing conditions increased operations working team members customers find park completing inspections detailed repairs efficiency day guest air trampoline 2020 may thorough closing shift change functions maintain staff maximize customer streamline procedures employees additional job positions maintain coverage roles existing procedures policies offer optimal leadership employees operations standing absent shores fl jul 2017 jan pos terminals input split bills calculate customers topping drinks anticipating napkins minimum age requirements consumption alcoholic beverages answered questions recommended wine desserts issued table collected payments high school 2014\",\n          \"e f f r e c r w f r c p seagull drive nc 28037 cpa license accounting big 4 audit experience family business years accounting experience years controller roles 17 years construction industry years retail industry resources employee benefits management technology management access remote experience sage 300 cre industry microsoft dynamics sl customized fuel industry quickbooks management experience oil nc industry multiple convenience stores march 2018 present analyze interpret financial performance company present results issues appropriate department managers board monthly close completion production internal external financial including completion reconciliations accrual accumulate record new store construction renovation costs completion record fixed preparation annual budget obtaining inputs different levels accountability required filings prepared accurately timely coordinate director technology software vendor resolve updates maintenance accounting software business completion new software implementation complete identification several problematic unprofitable one standalone losing thousand per improve generate new financial statements department management directors deferred revenue million date resulting reduction taxes 179 asset deductions future construction va industry commercial general october 2000 december 2017 overall responsibility benefit human resource information sage 300 functions many three companies primary functions include accurate cash developing financial projections ensuring benefit labor timely efficient processing payroll vendor consult project preparation monthly billings monthly requisitions cover projected cash flow subsequent subcontractor manage risk management function including owner subcontractor contract reviews working agent ensure premiums reasonable exposures evaluate project maintain accurate complete wip staffing levels overall lead discussion potential issues successes startup new franchise business jack foundation discovery almost thousand dollars illegally diverted funds subsequently investigated development revised incentive plan better reward top performers upon success first employee reorganized structure project delivery personnel better match company goals company first commodity low experience stores advance auto va financial accountant assist team responsible preparation periodic financial assisted preparation completion required sec reports streamlined process preparing financial statements creating various templates reduced prepare rand va analyst performed complex analysis evaluate current financial position profitability roanoke plant worldwide rock drill created maintained financial database using microsoft access produce update annual prepare monthly spending peat va services supervised functions performed include physical outsourcing engagements procedural polytechnic state va science accounting real estate license active\",\n          \"evaluation document created first last 6509 eagle crest postal united employment annual credit first last 8049 continental postal united employment annual credit 765 village green kansas postal united\"\n        ],\n        \"semantic_type\": \"\",\n        \"description\": \"\"\n      }\n    },\n    {\n      \"column\": \"label\",\n      \"properties\": {\n        \"dtype\": \"category\",\n        \"num_unique_values\": 2,\n        \"samples\": [\n          \"non-cv\",\n          \"cv\"\n        ],\n        \"semantic_type\": \"\",\n        \"description\": \"\"\n      }\n    }\n  ]\n}"
            }
          },
          "metadata": {},
          "execution_count": 13
        }
      ]
    },
    {
      "cell_type": "code",
      "source": [
        "train_dataset = Dataset.from_pandas(X_train)\n",
        "test_dataset= Dataset.from_pandas(X_test)\n",
        "df_val = Dataset.from_pandas(data_test)\n"
      ],
      "metadata": {
        "id": "24ydnJuRZGck"
      },
      "execution_count": 14,
      "outputs": []
    },
    {
      "cell_type": "code",
      "source": [
        "train_dataset = train_dataset.remove_columns(['__index_level_0__'])\n",
        "train_dataset"
      ],
      "metadata": {
        "colab": {
          "base_uri": "https://localhost:8080/"
        },
        "id": "eb-hMaHqmNJ_",
        "outputId": "e51bcf11-5043-4792-d182-bc397bce4d6b"
      },
      "execution_count": 15,
      "outputs": [
        {
          "output_type": "execute_result",
          "data": {
            "text/plain": [
              "Dataset({\n",
              "    features: ['text', 'label'],\n",
              "    num_rows: 160\n",
              "})"
            ]
          },
          "metadata": {},
          "execution_count": 15
        }
      ]
    },
    {
      "cell_type": "code",
      "source": [
        "test_dataset = test_dataset.remove_columns(['__index_level_0__'])\n",
        "test_dataset"
      ],
      "metadata": {
        "colab": {
          "base_uri": "https://localhost:8080/"
        },
        "id": "i26525XwmPc7",
        "outputId": "ce07b644-d070-49b9-d7ac-ad2c272fcb9a"
      },
      "execution_count": 16,
      "outputs": [
        {
          "output_type": "execute_result",
          "data": {
            "text/plain": [
              "Dataset({\n",
              "    features: ['text', 'label'],\n",
              "    num_rows: 40\n",
              "})"
            ]
          },
          "metadata": {},
          "execution_count": 16
        }
      ]
    },
    {
      "cell_type": "code",
      "source": [
        "train_dataset[0]['text']"
      ],
      "metadata": {
        "colab": {
          "base_uri": "https://localhost:8080/",
          "height": 122
        },
        "id": "3gGm73qyNKfl",
        "outputId": "e7224cab-ebc0-4bcc-d35a-6c567dbfeb9b"
      },
      "execution_count": 17,
      "outputs": [
        {
          "output_type": "execute_result",
          "data": {
            "text/plain": [
              "'profile resume capm ga 30022 404 372 2126 leader 15 years management experience leading large enterprise teams comprehensive global support service itsm itil methodology global environment focus itsm processes partnership itsm tooling working collaboratively executive leadership key stakeholders across hierarchal levels proper alignment technology initiatives business experience phases program initial analysis design support experience building solutions yield employee solid expertise ensuring operational excellence establishing quantifiable team management communications skills well team player analytical thinking service delivery management change release management methodologies management methodologies analysis business blueprinting system documentation sap templates erp configuration deployment platform management service delivery associate project management mysap srm mysap scm procurement computer science 2002 history atos solutions ga 2020 present servicenow platform service delivery manager atos global atos group france managing service delivery atos internal servicenow platform atos worldwide end offshore nearshore servicenow administrators developers coordinating teams consultants developers deliver across multiple atos internal excellence driving new requirements originating non atos groups finance shared functions products asset mgmt knowledge managed servicenow clones integrations applications advisor community business service owners delivery groups value added solution focus service business transformation change management based itil best practices focus information perspectives providing integrated organization wide business solutions includes aspects itsm best practices methods architecture atos solutions ga 2014 2019 service delivery manager global processes atos global group key role servicenow implementation end end process design atos took 9 months april 2019 march value added solution focus service business transformation change management based itil best practices focus information perspectives providing integrated organization wide business solutions includes aspects itsm best practices methods architecture manager working servicenow professional services implement servicenow global instance key role ava virtual implementation global measurable cost savings 2017 global service desk optimizing ticket management tool content management atos internal one stop shop mysupport portal global well gbu business local shared functions administration management global organization sdm12 tool coordination atos managed services leaders various domains touch telecommunication applications non service tools global applications management support ticketing tool successfully completed migration atos chess service desk osd tool sdm12 git infrastructure demand management processes tool 3rd party suppliers service delivery according contractual atos solutions ga 2014 north america service delivery manager processes north america office strong business relationship various business groups within atos na service requirements delivery local customer atos global reengineered business processes global local strategy meetings managed requirements different internal business groups system support local business key end users participated local business review meetings discuss local global management local project activities consulted business opportunities service process improvement coordinated global service delivery groups siemens solutions ga genesis sap full life cycle implementation siemens solutions usa senior business analyst supply chain management 2009 june aligning initiatives related process technology closely business strategy leadership support development effective procurement logistics business supported new existing worked business users management continuously improve reengineer processes competitive business case defined business technology axle alliance company daimler trucks north america sap application mgmt services michigan service delivery manager 2009 april maintained assured delivery sap offshore application support services siemens argentina production client location strategic partners significantly impact business satisfaction executed service operations according contracts achieved slas kpis managed successfully sap change management process client managed successfully sap release management process client applications dimp accounting management distribution planning management execution enbridge gas distribution sap application management services canada service delivery manager 2008 april planned transitioned client project operations sap application management steady state executed transition project plan managed knowledge transfer handover methodology executed service operations handbook steady state support team onsite offshore india production strategic partners significantly impact business raise satisfaction aes corporation sap application management services virginia global customer locations service delivery manager 2007 oct managed led environment support aes eletropaulo sap implementation sap customer care support solution million consumers implementation largest sap ccs implementation world sap received personal recognition siemens john role leading delivery application support maintenance services client global entities chile el strategic partners significantly impact business satisfaction environments supported complex 20 prd systems users reported service delivery client contracts across global factories delivering parties global production third quality services including cost contract improvement service delivery model client operational change requests escalations across factories business continuity plans 2 global teams structured follows support india production centre sap basis team client location usa sap basis team client location sao brazil sap basis team client location sao brazil transition manager transition support client location usa ms team india production centre ms team enterprise sem manager 2005 ecc 2004s development infrastructure exchange 2000 2003 siemens brazil sap full life cycle implementation sao brazil materials management procurement team lead 2007 sep successfully sap mm procurement module including serialization intensive support spiridon brazil analyzing new business requirements making sure aligned siemens sap template brazilian local tax requirements siemens energy siemens building siemens siemens shared services siemens sap center competence north usa consultant 2006 may steady state support logistics areas sap system specifications maintained system configurations meet business functional technical knowledge expertise required within mm purchase order service order master release inventory invoice verifications integration additional functionalities improve system business performance test scripts new functionality regression testing using ecatt siemens ltd saudi arabia saudi arabia 2004 2006 siemens application management center competence asia pacific thailand consultant 2005 april compliance formalities spiridon sap worked closely management pertaining changes current processes especially regarding impact processes functionality conducted presentations according phases input team lead integration manager regarding changing log requests prepare impact analysis spiridon sap roll projects input pm enable planning monitoring escalation missing input application team lead documented integration testing data migrations end user training updated project documentation configuration business continuity plans sap implementation siemens saudi arabia saudi arabia business analyst material management module 2004 june first level sap support siemens ltd saudi arabia end users procurement processes power transmission distribution factory including purchase order purchase stock scenarios bring people solution fully integrated one resolved operations application help desk issues area materials procurement warehouse management per itil change request process followed resolved sap problems queries received siemens saudi arabia data migration activities end user training data interchange administrator pmi master coordinator change request manager second third level sap global team technical support requirements service management team creating statistics helpdesk performance training requirements faqs recommended appropriate training needs end users effat college saudi arabia 2003 2004 information technology coordinator leadership role developing implementing district plan instructional use implementation included provisions evaluation periodic district technology resource center used school level technology software acquisition hardware software inventory develop implement district procedure evaluation sharing results evaluation troubleshot complex software applications errors due sudden items repair escalated software user support requests warranties kept records warranties'"
            ],
            "application/vnd.google.colaboratory.intrinsic+json": {
              "type": "string"
            }
          },
          "metadata": {},
          "execution_count": 17
        }
      ]
    },
    {
      "cell_type": "code",
      "source": [
        "train_dataset[0]['label']"
      ],
      "metadata": {
        "colab": {
          "base_uri": "https://localhost:8080/",
          "height": 35
        },
        "id": "6Pv19IA_Na6E",
        "outputId": "bfacab0e-f7d2-44d5-a985-e962e4ad1e67"
      },
      "execution_count": 18,
      "outputs": [
        {
          "output_type": "execute_result",
          "data": {
            "text/plain": [
              "'cv'"
            ],
            "application/vnd.google.colaboratory.intrinsic+json": {
              "type": "string"
            }
          },
          "metadata": {},
          "execution_count": 18
        }
      ]
    },
    {
      "cell_type": "code",
      "source": [
        "train_dataset.to_pandas()['label'].value_counts()"
      ],
      "metadata": {
        "colab": {
          "base_uri": "https://localhost:8080/"
        },
        "id": "1wHW1eFJc_-T",
        "outputId": "41c580b4-d3da-4798-d5d2-33a42f5adeb3"
      },
      "execution_count": 19,
      "outputs": [
        {
          "output_type": "execute_result",
          "data": {
            "text/plain": [
              "label\n",
              "cv        80\n",
              "non-cv    80\n",
              "Name: count, dtype: int64"
            ]
          },
          "metadata": {},
          "execution_count": 19
        }
      ]
    },
    {
      "cell_type": "code",
      "source": [
        "test_dataset.to_pandas()['label'].value_counts()"
      ],
      "metadata": {
        "colab": {
          "base_uri": "https://localhost:8080/"
        },
        "id": "y9BR7EHjdKHc",
        "outputId": "396a8f95-814c-4509-948c-5ac00ce25471"
      },
      "execution_count": 20,
      "outputs": [
        {
          "output_type": "execute_result",
          "data": {
            "text/plain": [
              "label\n",
              "cv        20\n",
              "non-cv    20\n",
              "Name: count, dtype: int64"
            ]
          },
          "metadata": {},
          "execution_count": 20
        }
      ]
    },
    {
      "cell_type": "code",
      "source": [
        "import evaluate\n",
        "import nltk\n",
        "import numpy as np\n",
        "from typing import List, Tuple\n",
        "from nltk.tokenize import sent_tokenize\n",
        "from datasets import Dataset, concatenate_datasets\n",
        "from huggingface_hub import HfFolder\n",
        "from transformers import (\n",
        "    AutoTokenizer,\n",
        "    AutoModelForSeq2SeqLM,\n",
        "    DataCollatorForSeq2Seq,\n",
        "    Seq2SeqTrainer,\n",
        "    Seq2SeqTrainingArguments\n",
        ")"
      ],
      "metadata": {
        "id": "8gmQADTZsJka"
      },
      "execution_count": 21,
      "outputs": []
    },
    {
      "cell_type": "code",
      "source": [
        "PROJECT = \"FlanT5-Custom\"\n",
        "MODEL_NAME = 'google/flan-t5-base'\n",
        "DATASET = \"CVS-Premcloud\""
      ],
      "metadata": {
        "id": "h0b-4sD-ah1w"
      },
      "execution_count": 22,
      "outputs": []
    },
    {
      "cell_type": "code",
      "source": [
        "MODEL_ID = \"google/flan-t5-base\"\n",
        "# Load tokenizer of FLAN-t5\n",
        "tokenizer = AutoTokenizer.from_pretrained(MODEL_ID)"
      ],
      "metadata": {
        "id": "MhrQMkN7riTW"
      },
      "execution_count": 23,
      "outputs": []
    },
    {
      "cell_type": "code",
      "source": [
        "\n",
        "# The maximum total input sequence length after tokenization.\n",
        "# Sequences longer than this will be truncated, sequences shorter will be padded.\n",
        "tokenized_inputs = concatenate_datasets([train_dataset, test_dataset]).map(\n",
        "    lambda x: tokenizer(x[\"text\"], truncation=True), batched=True, remove_columns=['text', 'label']\n",
        ")\n",
        "max_source_length = max([len(x) for x in tokenized_inputs[\"input_ids\"]])\n",
        "print(f\"Max source length: {max_source_length}\")"
      ],
      "metadata": {
        "colab": {
          "base_uri": "https://localhost:8080/",
          "height": 66,
          "referenced_widgets": [
            "a9200fa932a04f0b987d45a3d77b42e5",
            "fb133aa332214088af287b57a79fa4c6",
            "66a2b3e9a52b43198b4eee94b03220dd",
            "5ed23d7185254c5288da18be3f9cc3f9",
            "809a89bae0cc465fb8595f5a1d944a03",
            "1539582e70f1456c9d23ffb908abb88e",
            "4c328691bfd34e6dba238b00ae0cb2de",
            "5682c78bde6346819272b13e35ce46c1",
            "be46fcc53a28469280ea6716270b7d08",
            "37b08f85c509407ebbac68717045618a",
            "dece6dafb4ff4af68d8e17d508994643"
          ]
        },
        "id": "mQGb832NcXvF",
        "outputId": "729ee6bf-dc8e-470f-d7eb-70bebbd45679"
      },
      "execution_count": 24,
      "outputs": [
        {
          "output_type": "display_data",
          "data": {
            "text/plain": [
              "Map:   0%|          | 0/200 [00:00<?, ? examples/s]"
            ],
            "application/vnd.jupyter.widget-view+json": {
              "version_major": 2,
              "version_minor": 0,
              "model_id": "a9200fa932a04f0b987d45a3d77b42e5"
            }
          },
          "metadata": {}
        },
        {
          "output_type": "stream",
          "name": "stdout",
          "text": [
            "Max source length: 512\n"
          ]
        }
      ]
    },
    {
      "cell_type": "code",
      "source": [
        "# The maximum total sequence length for target text after tokenization.\n",
        "# Sequences longer than this will be truncated, sequences shorter will be padded.\"\n",
        "tokenized_targets = concatenate_datasets([train_dataset, test_dataset]).map(\n",
        "    lambda x: tokenizer(x[\"label\"], truncation=True), batched=True, remove_columns=['text', 'label']\n",
        ")\n",
        "max_target_length = max([len(x) for x in tokenized_targets[\"input_ids\"]])\n",
        "print(f\"Max target length: {max_target_length}\")"
      ],
      "metadata": {
        "colab": {
          "base_uri": "https://localhost:8080/",
          "height": 66,
          "referenced_widgets": [
            "543a4a4ead594add9cbe3ef77f98d37b",
            "f0d28a2086b64613840eee768d03ca5b",
            "2aac81ca55dc4a67a564d2ea322dce64",
            "470785aee06a40e2a1516968e1c68a10",
            "5f0a934742e344d2b7d3dd32bfe946ed",
            "e7a08715846a42b4a2d6970c5c034fce",
            "05919c6c6ae04611afa668867445b662",
            "d5a5f3809fbd437ba81837e2a23b4709",
            "26f4fc2833d94fa192640962ae3fc5b0",
            "a9aae6b8c6c44cfaa3a3aa4f272f9f6a",
            "0d202c0194e44ab6b05bf244f44f62ff"
          ]
        },
        "id": "nMyVBEz6stBu",
        "outputId": "03cc3a01-17da-45b7-8b4b-356e071f437a"
      },
      "execution_count": 25,
      "outputs": [
        {
          "output_type": "display_data",
          "data": {
            "text/plain": [
              "Map:   0%|          | 0/200 [00:00<?, ? examples/s]"
            ],
            "application/vnd.jupyter.widget-view+json": {
              "version_major": 2,
              "version_minor": 0,
              "model_id": "543a4a4ead594add9cbe3ef77f98d37b"
            }
          },
          "metadata": {}
        },
        {
          "output_type": "stream",
          "name": "stdout",
          "text": [
            "Max target length: 5\n"
          ]
        }
      ]
    },
    {
      "cell_type": "code",
      "execution_count": 26,
      "metadata": {
        "colab": {
          "base_uri": "https://localhost:8080/",
          "height": 35
        },
        "id": "5atl7YUDJCOw",
        "outputId": "873a4040-c8ac-44f5-e994-2106aad9999c"
      },
      "outputs": [
        {
          "output_type": "execute_result",
          "data": {
            "text/plain": [
              "'flan-t5-base-text-classification'"
            ],
            "application/vnd.google.colaboratory.intrinsic+json": {
              "type": "string"
            }
          },
          "metadata": {},
          "execution_count": 26
        }
      ],
      "source": [
        "REPOSITORY_ID = f\"{MODEL_ID.split('/')[1]}-text-classification\"\n",
        "REPOSITORY_ID"
      ]
    },
    {
      "cell_type": "markdown",
      "metadata": {
        "id": "nH8pDUoEJCOy"
      },
      "source": [
        "### Model Initialization and Label Mapping\n",
        "\n",
        "Next, we'll set up label mappings and initialize the model for our text classification task.\n",
        "\n",
        "Having prepared our data, the next crucial step is to initialize our model and set up label mappings. This involves defining a clear relationship between the labels in our dataset and their corresponding representations in the model.\n",
        "\n",
        "#### Setting Up Label Mappings\n",
        "\n",
        "- **Defining Label Mappings**: Creating bi-directional mappings between integer labels and textual representations (\"ham\" and \"spam\").\n",
        "\n",
        "#### Initializing the Model\n",
        "\n",
        "- **Model Selection**: Choosing the `distilbert-base-uncased` model for its balance of performance and efficiency.\n",
        "- **Model Configuration**: Configuring the model for sequence classification with the defined label mappings.\n",
        "\n",
        "Proper model initialization and label mapping are key to ensuring that the model accurately understands and processes the task at hand. By explicitly defining these mappings and selecting an appropriate pre-trained model, we lay the groundwork for effective and efficient fine-tuning."
      ]
    },
    {
      "cell_type": "code",
      "execution_count": 27,
      "metadata": {
        "id": "t3ZDQ3hIJCO1"
      },
      "outputs": [],
      "source": [
        "# Define training args\n",
        "training_args = Seq2SeqTrainingArguments(\n",
        "    output_dir=REPOSITORY_ID,\n",
        "    per_device_train_batch_size=8,\n",
        "    per_device_eval_batch_size=8,\n",
        "    predict_with_generate=True,\n",
        "    fp16=False,     # Overflows with fp16\n",
        "    learning_rate=1e-3,\n",
        "    num_train_epochs=4,\n",
        "    logging_dir=f\"{REPOSITORY_ID}/logs\",    # logging & evaluation strategies\n",
        "    logging_strategy=\"epoch\",\n",
        "    evaluation_strategy=\"epoch\",\n",
        "    save_strategy=\"epoch\",\n",
        "    save_total_limit=2,\n",
        "    load_best_model_at_end=True,\n",
        "\n",
        ")\n",
        "\n",
        "def preprocess_function(sample: Dataset, padding: str = \"max_length\") -> dict:\n",
        "    \"\"\" Preprocess the dataset. \"\"\"\n",
        "\n",
        "    # add prefix to the input for t5\n",
        "    inputs = [item for item in sample[\"text\"]]\n",
        "\n",
        "    # tokenize inputs\n",
        "    model_inputs = tokenizer(inputs, max_length=max_source_length, padding=padding, truncation=True)\n",
        "\n",
        "    # Tokenize targets with the `text_target` keyword argument\n",
        "    labels = tokenizer(text_target=sample[\"label\"], max_length=max_target_length, padding=padding, truncation=True)\n",
        "\n",
        "    # If we are padding here, replace all tokenizer.pad_token_id in the labels by -100 when we want to ignore\n",
        "    # padding in the loss.\n",
        "    if padding == \"max_length\":\n",
        "        labels[\"input_ids\"] = [\n",
        "            [(l if l != tokenizer.pad_token_id else -100) for l in label] for label in labels[\"input_ids\"]\n",
        "        ]\n",
        "\n",
        "    model_inputs[\"labels\"] = labels[\"input_ids\"]\n",
        "    return model_inputs\n",
        "\n",
        "\n",
        "def postprocess_text(preds: List[str], labels: List[str]) -> Tuple[List[str], List[str]]:\n",
        "    \"\"\" helper function to postprocess text\"\"\"\n",
        "    preds = [pred.strip() for pred in preds]\n",
        "    labels = [label.strip() for label in labels]\n",
        "\n",
        "    # rougeLSum expects newline after each sentence\n",
        "    preds = [\"\\n\".join(sent_tokenize(pred)) for pred in preds]\n",
        "    labels = [\"\\n\".join(sent_tokenize(label)) for label in labels]\n",
        "\n",
        "    return preds, labels\n",
        "\n",
        "\n",
        "def compute_metrics(eval_preds):\n",
        "    # load metrics\n",
        "    metric = evaluate.load(\"f1\")\n",
        "    metric1 = evaluate.load(\"roc_auc\")\n",
        "    metric2 = evaluate.load(\"recall\")\n",
        "    metric3 = evaluate.load(\"precision\")\n",
        "\n",
        "    preds, labels = eval_preds\n",
        "    if isinstance(preds, tuple):\n",
        "        preds = preds[0]\n",
        "\n",
        "    decoded_preds = tokenizer.batch_decode(preds, skip_special_tokens=True)\n",
        "    # Replace -100 in the labels as we can't decode them.\n",
        "    labels = np.where(labels != -100, labels, tokenizer.pad_token_id)\n",
        "    decoded_labels = tokenizer.batch_decode(labels, skip_special_tokens=True)\n",
        "\n",
        "    # Some simple post-processing\n",
        "    decoded_preds, decoded_labels = postprocess_text(decoded_preds, decoded_labels)\n",
        "    id2label = {0: \"non-cv\", 1: \"cv\"}\n",
        "    label2id = {\"non-cv\": 0, \"cv\": 1}\n",
        "\n",
        "    decoded_preds_bin = np.array([label2id.get(x) for x in decoded_preds ])\n",
        "    decoded_labels_bin = np.array([label2id.get(x) for x in decoded_labels ])\n",
        "    result = metric.compute(predictions=decoded_preds_bin, references=decoded_labels_bin, average='macro')\n",
        "    prediction_lens = [np.count_nonzero(pred != tokenizer.pad_token_id) for pred in preds]\n",
        "    result[\"gen_len\"] = np.mean(prediction_lens)\n",
        "    result['roc_auc'] = metric1.compute(prediction_scores=decoded_preds_bin, references=decoded_labels_bin, average='macro')['roc_auc']\n",
        "    result['recall'] = metric2.compute(predictions=decoded_preds_bin, references=decoded_labels_bin, average='macro')['recall']\n",
        "    result['precision'] = metric3.compute(predictions=decoded_preds_bin, references=decoded_labels_bin, average='macro')['precision']\n",
        "\n",
        "    return result"
      ]
    },
    {
      "cell_type": "code",
      "source": [
        "import datasets\n",
        "df_train_test = datasets.DatasetDict({\"train\": train_dataset, \"test\": test_dataset})\n",
        "df_train_test"
      ],
      "metadata": {
        "colab": {
          "base_uri": "https://localhost:8080/"
        },
        "id": "ReuMZcOUeSzG",
        "outputId": "77e125ab-09a4-4201-8fd6-eb7025732a06"
      },
      "execution_count": 28,
      "outputs": [
        {
          "output_type": "execute_result",
          "data": {
            "text/plain": [
              "DatasetDict({\n",
              "    train: Dataset({\n",
              "        features: ['text', 'label'],\n",
              "        num_rows: 160\n",
              "    })\n",
              "    test: Dataset({\n",
              "        features: ['text', 'label'],\n",
              "        num_rows: 40\n",
              "    })\n",
              "})"
            ]
          },
          "metadata": {},
          "execution_count": 28
        }
      ]
    },
    {
      "cell_type": "code",
      "source": [
        "tokenized_dataset = df_train_test.map(preprocess_function, batched=True, remove_columns=['text', 'label'])\n",
        "print(f\"Keys of tokenized dataset: {list(tokenized_dataset['train'].features)}\")"
      ],
      "metadata": {
        "colab": {
          "base_uri": "https://localhost:8080/",
          "height": 98,
          "referenced_widgets": [
            "2bcde2b502224e4daad6cb2182302f7a",
            "387285505b3f4ee599b9f939fd09f4b6",
            "8a53e31ed75d4bcab170b7b21a9d83b3",
            "156ee608b2e242c78f5937f81c6a1189",
            "e36faf6299f74d52b7d9247a578ffc06",
            "9a7d8eccfbf74486abee474cf1c7c20b",
            "4dec781ddbbf4e938653195cfcf7ecba",
            "358ebbfa6c1d4f8aa50774d630a1bca4",
            "61ea050ac7624ddcb02b6f192aade156",
            "9308ee0c42e64f78b3f148751ba60262",
            "06938e13e71c4d22a926fe82636f4672",
            "005be2efba5a4233aafef3060e017d01",
            "b2837b6630014c0daccbe5e644df973a",
            "ee42819fc527461e9e51c4d2a4b6b91a",
            "dd80b9081e5f42c0a1f45273775480d7",
            "afe1657b7e7e47229dac8b7c71b084c3",
            "01620df34e134866a144fc75374849b3",
            "b92fc80a1110463f895f051e1939d4dc",
            "cf31de7075a64f25a7ed43bf4a3b50aa",
            "194a9f79ef0d4cf9a6c56e8bf7dae712",
            "1ca59a546d884612ab9bec07f69e9b58",
            "af5d989a5e184758a2593435ee147cfb"
          ]
        },
        "id": "1OEaaUVyttVR",
        "outputId": "352d49ef-75dc-44ff-8a31-d24bdef5a7ee"
      },
      "execution_count": 29,
      "outputs": [
        {
          "output_type": "display_data",
          "data": {
            "text/plain": [
              "Map:   0%|          | 0/160 [00:00<?, ? examples/s]"
            ],
            "application/vnd.jupyter.widget-view+json": {
              "version_major": 2,
              "version_minor": 0,
              "model_id": "2bcde2b502224e4daad6cb2182302f7a"
            }
          },
          "metadata": {}
        },
        {
          "output_type": "display_data",
          "data": {
            "text/plain": [
              "Map:   0%|          | 0/40 [00:00<?, ? examples/s]"
            ],
            "application/vnd.jupyter.widget-view+json": {
              "version_major": 2,
              "version_minor": 0,
              "model_id": "005be2efba5a4233aafef3060e017d01"
            }
          },
          "metadata": {}
        },
        {
          "output_type": "stream",
          "name": "stdout",
          "text": [
            "Keys of tokenized dataset: ['input_ids', 'attention_mask', 'labels']\n"
          ]
        }
      ]
    },
    {
      "cell_type": "code",
      "source": [
        "tokenized_dataset['train'][0]['labels']"
      ],
      "metadata": {
        "colab": {
          "base_uri": "https://localhost:8080/"
        },
        "id": "_IQfQi3oocB4",
        "outputId": "0706ab52-7b1c-4695-f28d-b372a2021af5"
      },
      "execution_count": 31,
      "outputs": [
        {
          "output_type": "execute_result",
          "data": {
            "text/plain": [
              "[3, 75, 208, 1, -100]"
            ]
          },
          "metadata": {},
          "execution_count": 31
        }
      ]
    },
    {
      "cell_type": "code",
      "source": [
        "tokenized_dataset['train'][0]['input_ids']"
      ],
      "metadata": {
        "colab": {
          "base_uri": "https://localhost:8080/"
        },
        "id": "xG5PxL3PpQj3",
        "outputId": "dcf8920c-5c0c-4c10-c1ec-1fde6b74eaf8"
      },
      "execution_count": 30,
      "outputs": [
        {
          "output_type": "execute_result",
          "data": {
            "text/plain": [
              "[3278,\n",
              " 4258,\n",
              " 2468,\n",
              " 51,\n",
              " 7922,\n",
              " 3147,\n",
              " 2884,\n",
              " 3,\n",
              " 25285,\n",
              " 220,\n",
              " 5865,\n",
              " 1401,\n",
              " 2688,\n",
              " 2488,\n",
              " 627,\n",
              " 203,\n",
              " 758,\n",
              " 351,\n",
              " 1374,\n",
              " 508,\n",
              " 5399,\n",
              " 2323,\n",
              " 3452,\n",
              " 1252,\n",
              " 380,\n",
              " 313,\n",
              " 165,\n",
              " 51,\n",
              " 34,\n",
              " 173,\n",
              " 15663,\n",
              " 1252,\n",
              " 1164,\n",
              " 992,\n",
              " 165,\n",
              " 51,\n",
              " 2842,\n",
              " 4696,\n",
              " 165,\n",
              " 51,\n",
              " 1464,\n",
              " 53,\n",
              " 464,\n",
              " 9642,\n",
              " 120,\n",
              " 4297,\n",
              " 2843,\n",
              " 843,\n",
              " 10588,\n",
              " 640,\n",
              " 1382,\n",
              " 7064,\n",
              " 138,\n",
              " 1425,\n",
              " 2757,\n",
              " 14632,\n",
              " 748,\n",
              " 6985,\n",
              " 268,\n",
              " 351,\n",
              " 17258,\n",
              " 478,\n",
              " 2332,\n",
              " 1693,\n",
              " 408,\n",
              " 380,\n",
              " 351,\n",
              " 740,\n",
              " 1275,\n",
              " 6339,\n",
              " 3490,\n",
              " 1973,\n",
              " 2980,\n",
              " 3,\n",
              " 5833,\n",
              " 7763,\n",
              " 8978,\n",
              " 3,\n",
              " 12585,\n",
              " 13500,\n",
              " 99,\n",
              " 23,\n",
              " 179,\n",
              " 372,\n",
              " 758,\n",
              " 5030,\n",
              " 1098,\n",
              " 168,\n",
              " 372,\n",
              " 1959,\n",
              " 18355,\n",
              " 1631,\n",
              " 313,\n",
              " 1929,\n",
              " 758,\n",
              " 483,\n",
              " 1576,\n",
              " 758,\n",
              " 25984,\n",
              " 758,\n",
              " 25984,\n",
              " 1693,\n",
              " 268,\n",
              " 28471,\n",
              " 53,\n",
              " 358,\n",
              " 7192,\n",
              " 16333,\n",
              " 7405,\n",
              " 3,\n",
              " 49,\n",
              " 102,\n",
              " 5298,\n",
              " 12001,\n",
              " 1585,\n",
              " 758,\n",
              " 313,\n",
              " 1929,\n",
              " 7573,\n",
              " 516,\n",
              " 758,\n",
              " 82,\n",
              " 7,\n",
              " 9,\n",
              " 102,\n",
              " 3,\n",
              " 7,\n",
              " 52,\n",
              " 51,\n",
              " 82,\n",
              " 7,\n",
              " 9,\n",
              " 102,\n",
              " 3,\n",
              " 7,\n",
              " 75,\n",
              " 51,\n",
              " 19339,\n",
              " 1218,\n",
              " 2056,\n",
              " 4407,\n",
              " 892,\n",
              " 44,\n",
              " 32,\n",
              " 7,\n",
              " 1275,\n",
              " 7922,\n",
              " 6503,\n",
              " 915,\n",
              " 313,\n",
              " 7651,\n",
              " 1585,\n",
              " 313,\n",
              " 1929,\n",
              " 2743,\n",
              " 44,\n",
              " 32,\n",
              " 7,\n",
              " 1252,\n",
              " 44,\n",
              " 32,\n",
              " 7,\n",
              " 563,\n",
              " 2515,\n",
              " 663,\n",
              " 5037,\n",
              " 313,\n",
              " 1929,\n",
              " 44,\n",
              " 32,\n",
              " 7,\n",
              " 3224,\n",
              " 313,\n",
              " 7651,\n",
              " 1585,\n",
              " 44,\n",
              " 32,\n",
              " 7,\n",
              " 4388,\n",
              " 414,\n",
              " 16667,\n",
              " 1084,\n",
              " 13303,\n",
              " 313,\n",
              " 7651,\n",
              " 17747,\n",
              " 5564,\n",
              " 3,\n",
              " 24232,\n",
              " 2323,\n",
              " 14135,\n",
              " 5564,\n",
              " 2156,\n",
              " 640,\n",
              " 1317,\n",
              " 44,\n",
              " 32,\n",
              " 7,\n",
              " 3224,\n",
              " 8978,\n",
              " 2191,\n",
              " 126,\n",
              " 1502,\n",
              " 3,\n",
              " 31433,\n",
              " 529,\n",
              " 44,\n",
              " 32,\n",
              " 7,\n",
              " 1637,\n",
              " 4747,\n",
              " 2471,\n",
              " 3621,\n",
              " 494,\n",
              " 7000,\n",
              " 5453,\n",
              " 51,\n",
              " 17,\n",
              " 1103,\n",
              " 3030,\n",
              " 313,\n",
              " 7651,\n",
              " 3,\n",
              " 3903,\n",
              " 1496,\n",
              " 5660,\n",
              " 7,\n",
              " 1564,\n",
              " 8815,\n",
              " 573,\n",
              " 268,\n",
              " 313,\n",
              " 2713,\n",
              " 1929,\n",
              " 1637,\n",
              " 701,\n",
              " 974,\n",
              " 1127,\n",
              " 992,\n",
              " 313,\n",
              " 268,\n",
              " 6586,\n",
              " 483,\n",
              " 758,\n",
              " 3,\n",
              " 390,\n",
              " 34,\n",
              " 173,\n",
              " 200,\n",
              " 2869,\n",
              " 992,\n",
              " 251,\n",
              " 14013,\n",
              " 1260,\n",
              " 4580,\n",
              " 1470,\n",
              " 1148,\n",
              " 268,\n",
              " 1275,\n",
              " 963,\n",
              " 3149,\n",
              " 165,\n",
              " 51,\n",
              " 200,\n",
              " 2869,\n",
              " 2254,\n",
              " 4648,\n",
              " 44,\n",
              " 32,\n",
              " 7,\n",
              " 1275,\n",
              " 7922,\n",
              " 1412,\n",
              " 1360,\n",
              " 313,\n",
              " 1929,\n",
              " 2743,\n",
              " 1252,\n",
              " 2842,\n",
              " 44,\n",
              " 32,\n",
              " 7,\n",
              " 1252,\n",
              " 563,\n",
              " 843,\n",
              " 1075,\n",
              " 313,\n",
              " 7651,\n",
              " 4432,\n",
              " 414,\n",
              " 414,\n",
              " 433,\n",
              " 408,\n",
              " 44,\n",
              " 32,\n",
              " 7,\n",
              " 808,\n",
              " 668,\n",
              " 767,\n",
              " 3,\n",
              " 9,\n",
              " 2246,\n",
              " 40,\n",
              " 1360,\n",
              " 10556,\n",
              " 701,\n",
              " 974,\n",
              " 1127,\n",
              " 992,\n",
              " 313,\n",
              " 268,\n",
              " 6586,\n",
              " 483,\n",
              " 758,\n",
              " 3,\n",
              " 390,\n",
              " 34,\n",
              " 173,\n",
              " 200,\n",
              " 2869,\n",
              " 992,\n",
              " 251,\n",
              " 14013,\n",
              " 1260,\n",
              " 4580,\n",
              " 1470,\n",
              " 1148,\n",
              " 268,\n",
              " 1275,\n",
              " 963,\n",
              " 3149,\n",
              " 165,\n",
              " 51,\n",
              " 200,\n",
              " 2869,\n",
              " 2254,\n",
              " 4648,\n",
              " 2743,\n",
              " 464,\n",
              " 313,\n",
              " 7651,\n",
              " 771,\n",
              " 364,\n",
              " 4028,\n",
              " 313,\n",
              " 7651,\n",
              " 1252,\n",
              " 3421,\n",
              " 843,\n",
              " 1075,\n",
              " 3,\n",
              " 8644,\n",
              " 4291,\n",
              " 4432,\n",
              " 1252,\n",
              " 3,\n",
              " 29208,\n",
              " 583,\n",
              " 5051,\n",
              " 1233,\n",
              " 1252,\n",
              " 313,\n",
              " 4808,\n",
              " 19769,\n",
              " 53,\n",
              " 4142,\n",
              " 758,\n",
              " 1464,\n",
              " 738,\n",
              " 758,\n",
              " 44,\n",
              " 32,\n",
              " 7,\n",
              " 3224,\n",
              " 80,\n",
              " 1190,\n",
              " 1814,\n",
              " 82,\n",
              " 20390,\n",
              " 8948,\n",
              " 1252,\n",
              " 168,\n",
              " 3,\n",
              " 122,\n",
              " 3007,\n",
              " 268,\n",
              " 415,\n",
              " 2471,\n",
              " 3621,\n",
              " 3602,\n",
              " 758,\n",
              " 1252,\n",
              " 1470,\n",
              " 3,\n",
              " 7,\n",
              " 26,\n",
              " 51,\n",
              " 2122,\n",
              " 1464,\n",
              " 13954,\n",
              " 44,\n",
              " 32,\n",
              " 7,\n",
              " 3030,\n",
              " 364,\n",
              " 2440,\n",
              " 796,\n",
              " 3303,\n",
              " 7,\n",
              " 1586,\n",
              " 3,\n",
              " 17,\n",
              " 18329,\n",
              " 1564,\n",
              " 529,\n",
              " 313,\n",
              " 1339,\n",
              " 1252,\n",
              " 1564,\n",
              " 758,\n",
              " 380,\n",
              " 4142,\n",
              " 53,\n",
              " 1464,\n",
              " 4234,\n",
              " 2012,\n",
              " 11661,\n",
              " 44,\n",
              " 32,\n",
              " 7,\n",
              " 3,\n",
              " 2951,\n",
              " 7,\n",
              " 313,\n",
              " 4808,\n",
              " 3,\n",
              " 32,\n",
              " 7,\n",
              " 26,\n",
              " 1464,\n",
              " 3,\n",
              " 7,\n",
              " 26,\n",
              " 51,\n",
              " 2122,\n",
              " 3,\n",
              " 12651,\n",
              " 3620,\n",
              " 2173,\n",
              " 758,\n",
              " 2842,\n",
              " 1464,\n",
              " 220,\n",
              " 52,\n",
              " 26,\n",
              " 1088,\n",
              " 6603,\n",
              " 313,\n",
              " 1929,\n",
              " 1315,\n",
              " 20032,\n",
              " 44,\n",
              " 32,\n",
              " 7,\n",
              " 1275,\n",
              " 7922,\n",
              " 1412,\n",
              " 3457,\n",
              " 3,\n",
              " 23064,\n",
              " 313,\n",
              " 1929,\n",
              " 2743,\n",
              " 2842,\n",
              " 3457,\n",
              " 3,\n",
              " 23064,\n",
              " 828,\n",
              " 1101,\n",
              " 268,\n",
              " 1675,\n",
              " 796,\n",
              " 268,\n",
              " 1637,\n",
              " 441,\n",
              " 44,\n",
              " 32,\n",
              " 7,\n",
              " 3,\n",
              " 29,\n",
              " 9,\n",
              " 313,\n",
              " 1502,\n",
              " 1929,\n",
              " 415,\n",
              " 884,\n",
              " 44,\n",
              " 32,\n",
              " 7,\n",
              " 1252,\n",
              " 3,\n",
              " 60,\n",
              " 20165,\n",
              " 3737,\n",
              " 268,\n",
              " 2842,\n",
              " 1252,\n",
              " 415,\n",
              " 1998,\n",
              " 4677,\n",
              " 3030,\n",
              " 1]"
            ]
          },
          "metadata": {},
          "execution_count": 30
        }
      ]
    },
    {
      "cell_type": "markdown",
      "source": [
        "# model loader with a sequence-to-sequence language modeling head\n",
        "https://huggingface.co/docs/transformers/main/en/model_doc/auto#transformers.AutoModelForSeq2SeqLM"
      ],
      "metadata": {
        "id": "b7SRJ2zfL_1U"
      }
    },
    {
      "cell_type": "code",
      "execution_count": 32,
      "metadata": {
        "id": "8QkamPjdJCO3"
      },
      "outputs": [],
      "source": [
        "# load model from the hub\n",
        "model = AutoModelForSeq2SeqLM.from_pretrained(MODEL_ID)"
      ]
    },
    {
      "cell_type": "code",
      "source": [
        "#nltk.download(\"punkt\")\n",
        "\n",
        "# we want to ignore tokenizer pad token in the loss\n",
        "label_pad_token_id = -100\n",
        "# Data collator\n",
        "data_collator = DataCollatorForSeq2Seq(\n",
        "    tokenizer,\n",
        "    model=model,\n",
        "    label_pad_token_id=label_pad_token_id,\n",
        "    pad_to_multiple_of=8\n",
        ")"
      ],
      "metadata": {
        "id": "sVjKunoIewtO"
      },
      "execution_count": 33,
      "outputs": []
    },
    {
      "cell_type": "code",
      "source": [
        "# Create Trainer instance\n",
        "trainer = Seq2SeqTrainer(\n",
        "    model=model,\n",
        "    args=training_args,\n",
        "    data_collator=data_collator,\n",
        "    train_dataset=tokenized_dataset[\"train\"],\n",
        "    eval_dataset=tokenized_dataset[\"test\"],\n",
        "    compute_metrics=compute_metrics,\n",
        ")"
      ],
      "metadata": {
        "colab": {
          "base_uri": "https://localhost:8080/"
        },
        "id": "F9AaEtqhe4-5",
        "outputId": "e6a3f4fa-0ae6-401b-f0d9-a96c588c79e9"
      },
      "execution_count": 34,
      "outputs": [
        {
          "output_type": "stream",
          "name": "stderr",
          "text": [
            "/usr/local/lib/python3.10/dist-packages/accelerate/accelerator.py:436: FutureWarning: Passing the following arguments to `Accelerator` is deprecated and will be removed in version 1.0 of Accelerate: dict_keys(['dispatch_batches', 'split_batches', 'even_batches', 'use_seedable_sampler']). Please pass an `accelerate.DataLoaderConfiguration` instead: \n",
            "dataloader_config = DataLoaderConfiguration(dispatch_batches=None, split_batches=False, even_batches=True, use_seedable_sampler=True)\n",
            "  warnings.warn(\n"
          ]
        }
      ]
    },
    {
      "cell_type": "code",
      "execution_count": 35,
      "metadata": {
        "id": "vMFocc_YJCO9"
      },
      "outputs": [],
      "source": [
        "# If you are running this tutorial in local mode, leave the next line commented out.\n",
        "# Otherwise, uncomment the following line and set your tracking uri to your local or remote tracking server.\n",
        "\n",
        "mlflow.set_tracking_uri(\"http://127.0.0.1:5000\")"
      ]
    },
    {
      "cell_type": "markdown",
      "metadata": {
        "id": "AWQcXte4JCO-"
      },
      "source": [
        "### Integrating MLflow for Experiment Tracking\n",
        "\n",
        "The final preparatory step before beginning the training process is to integrate MLflow for experiment tracking.\n",
        "   \n",
        "MLflow is a critical tool in our workflow, enabling us to log, monitor, and compare different runs of our model training.\n",
        "\n",
        "#### Setting up the MLflow Experiment\n",
        "\n",
        "- **Naming the Experiment**: We use `mlflow.set_experiment` to create a new experiment or assign the current run to an existing experiment. In this case, we name our experiment \"Spam Classifier Training\". This name should be descriptive and related to the task at hand, aiding in organizing and identifying experiments later.\n",
        "- **Role of MLflow in Training**: By setting up an MLflow experiment, we can track various aspects of our model training, such as parameters, metrics, and outputs. This tracking is invaluable for comparing different models, tuning hyperparameters, and maintaining a record of our experiments.\n",
        "\n",
        "#### Benefits of Experiment Tracking\n",
        "Utilizing MLflow for experiment tracking offers several advantages:\n",
        "\n",
        "- **Organization**: Keeps your training runs organized and easily accessible.\n",
        "- **Comparability**: Allows for easy comparison of different training runs to understand the impact of changes in parameters or data.\n",
        "- **Reproducibility**: Enhances the reproducibility of experiments by logging all necessary details.\n",
        "\n",
        "With MLflow set up, we're now ready to begin the training process, keeping track of every important aspect along the way.\n",
        "\n",
        "In the next code snippet, we'll set up our MLflow experiment for tracking the training of our spam classification model."
      ]
    },
    {
      "cell_type": "code",
      "execution_count": 37,
      "metadata": {
        "colab": {
          "base_uri": "https://localhost:8080/"
        },
        "id": "gIh5vsNKJCO-",
        "outputId": "743d2359-9131-4df7-e28e-b0af0b9bc7f9"
      },
      "outputs": [
        {
          "output_type": "stream",
          "name": "stderr",
          "text": [
            "2024/05/02 10:36:20 INFO mlflow.tracking.fluent: Experiment with name 'T5 Custom Classifier seq_to_seq Training v2' does not exist. Creating a new experiment.\n"
          ]
        },
        {
          "output_type": "execute_result",
          "data": {
            "text/plain": [
              "<Experiment: artifact_location='mlflow-artifacts:/797910977184651261', creation_time=1714646180373, experiment_id='797910977184651261', last_update_time=1714646180373, lifecycle_stage='active', name='T5 Custom Classifier seq_to_seq Training v2', tags={}>"
            ]
          },
          "metadata": {},
          "execution_count": 37
        }
      ],
      "source": [
        "# Pick a name that you like and reflects the nature of the runs that you will be recording to the experiment.\n",
        "mlflow.set_experiment(\"T5 Custom Classifier seq_to_seq Training v2\")"
      ]
    },
    {
      "cell_type": "code",
      "source": [
        "!rm -rf ./flan-T5-fine-tune"
      ],
      "metadata": {
        "id": "_ijlb0VhSRfA"
      },
      "execution_count": 40,
      "outputs": []
    },
    {
      "cell_type": "code",
      "source": [
        "!mkdir ./flan-T5-fine-tune\n",
        "custom_path = \"./flan-T5-fine-tune/\""
      ],
      "metadata": {
        "id": "2ZWm7V0-SKwY"
      },
      "execution_count": 41,
      "outputs": []
    },
    {
      "cell_type": "code",
      "execution_count": 42,
      "metadata": {
        "colab": {
          "base_uri": "https://localhost:8080/",
          "height": 342
        },
        "id": "CYNiqGglJCPA",
        "outputId": "33c2cce5-bcb3-4cc4-d123-c8b6244374d1"
      },
      "outputs": [
        {
          "output_type": "display_data",
          "data": {
            "text/plain": [
              "<IPython.core.display.HTML object>"
            ],
            "text/html": [
              "\n",
              "    <div>\n",
              "      \n",
              "      <progress value='80' max='80' style='width:300px; height:20px; vertical-align: middle;'></progress>\n",
              "      [80/80 01:52, Epoch 4/4]\n",
              "    </div>\n",
              "    <table border=\"1\" class=\"dataframe\">\n",
              "  <thead>\n",
              " <tr style=\"text-align: left;\">\n",
              "      <th>Epoch</th>\n",
              "      <th>Training Loss</th>\n",
              "      <th>Validation Loss</th>\n",
              "      <th>F1</th>\n",
              "      <th>Gen Len</th>\n",
              "      <th>Roc Auc</th>\n",
              "      <th>Recall</th>\n",
              "      <th>Precision</th>\n",
              "    </tr>\n",
              "  </thead>\n",
              "  <tbody>\n",
              "    <tr>\n",
              "      <td>1</td>\n",
              "      <td>0.496500</td>\n",
              "      <td>0.008734</td>\n",
              "      <td>0.974984</td>\n",
              "      <td>4.525000</td>\n",
              "      <td>0.975000</td>\n",
              "      <td>0.975000</td>\n",
              "      <td>0.976190</td>\n",
              "    </tr>\n",
              "    <tr>\n",
              "      <td>2</td>\n",
              "      <td>0.000400</td>\n",
              "      <td>0.002362</td>\n",
              "      <td>1.000000</td>\n",
              "      <td>4.500000</td>\n",
              "      <td>1.000000</td>\n",
              "      <td>1.000000</td>\n",
              "      <td>1.000000</td>\n",
              "    </tr>\n",
              "    <tr>\n",
              "      <td>3</td>\n",
              "      <td>0.000000</td>\n",
              "      <td>0.002515</td>\n",
              "      <td>1.000000</td>\n",
              "      <td>4.500000</td>\n",
              "      <td>1.000000</td>\n",
              "      <td>1.000000</td>\n",
              "      <td>1.000000</td>\n",
              "    </tr>\n",
              "    <tr>\n",
              "      <td>4</td>\n",
              "      <td>0.000000</td>\n",
              "      <td>0.002525</td>\n",
              "      <td>1.000000</td>\n",
              "      <td>4.500000</td>\n",
              "      <td>1.000000</td>\n",
              "      <td>1.000000</td>\n",
              "      <td>1.000000</td>\n",
              "    </tr>\n",
              "  </tbody>\n",
              "</table><p>"
            ]
          },
          "metadata": {}
        },
        {
          "output_type": "stream",
          "name": "stderr",
          "text": [
            "There were missing keys in the checkpoint model loaded: ['encoder.embed_tokens.weight', 'decoder.embed_tokens.weight'].\n"
          ]
        },
        {
          "output_type": "stream",
          "name": "stdout",
          "text": [
            "{'train_runtime': 113.7749, 'train_samples_per_second': 5.625, 'train_steps_per_second': 0.703, 'total_flos': 438244705566720.0, 'train_loss': 0.12422466695006733, 'epoch': 4.0}\n"
          ]
        },
        {
          "output_type": "stream",
          "name": "stderr",
          "text": [
            "The model 'T5ForConditionalGeneration' is not supported for text-classification. Supported models are ['AlbertForSequenceClassification', 'BartForSequenceClassification', 'BertForSequenceClassification', 'BigBirdForSequenceClassification', 'BigBirdPegasusForSequenceClassification', 'BioGptForSequenceClassification', 'BloomForSequenceClassification', 'CamembertForSequenceClassification', 'CanineForSequenceClassification', 'LlamaForSequenceClassification', 'ConvBertForSequenceClassification', 'CTRLForSequenceClassification', 'Data2VecTextForSequenceClassification', 'DebertaForSequenceClassification', 'DebertaV2ForSequenceClassification', 'DistilBertForSequenceClassification', 'ElectraForSequenceClassification', 'ErnieForSequenceClassification', 'ErnieMForSequenceClassification', 'EsmForSequenceClassification', 'FalconForSequenceClassification', 'FlaubertForSequenceClassification', 'FNetForSequenceClassification', 'FunnelForSequenceClassification', 'GemmaForSequenceClassification', 'GPT2ForSequenceClassification', 'GPT2ForSequenceClassification', 'GPTBigCodeForSequenceClassification', 'GPTNeoForSequenceClassification', 'GPTNeoXForSequenceClassification', 'GPTJForSequenceClassification', 'IBertForSequenceClassification', 'LayoutLMForSequenceClassification', 'LayoutLMv2ForSequenceClassification', 'LayoutLMv3ForSequenceClassification', 'LEDForSequenceClassification', 'LiltForSequenceClassification', 'LlamaForSequenceClassification', 'LongformerForSequenceClassification', 'LukeForSequenceClassification', 'MarkupLMForSequenceClassification', 'MBartForSequenceClassification', 'MegaForSequenceClassification', 'MegatronBertForSequenceClassification', 'MistralForSequenceClassification', 'MixtralForSequenceClassification', 'MobileBertForSequenceClassification', 'MPNetForSequenceClassification', 'MptForSequenceClassification', 'MraForSequenceClassification', 'MT5ForSequenceClassification', 'MvpForSequenceClassification', 'NezhaForSequenceClassification', 'NystromformerForSequenceClassification', 'OpenLlamaForSequenceClassification', 'OpenAIGPTForSequenceClassification', 'OPTForSequenceClassification', 'PerceiverForSequenceClassification', 'PersimmonForSequenceClassification', 'PhiForSequenceClassification', 'PLBartForSequenceClassification', 'QDQBertForSequenceClassification', 'Qwen2ForSequenceClassification', 'ReformerForSequenceClassification', 'RemBertForSequenceClassification', 'RobertaForSequenceClassification', 'RobertaPreLayerNormForSequenceClassification', 'RoCBertForSequenceClassification', 'RoFormerForSequenceClassification', 'SqueezeBertForSequenceClassification', 'StableLmForSequenceClassification', 'Starcoder2ForSequenceClassification', 'T5ForSequenceClassification', 'TapasForSequenceClassification', 'TransfoXLForSequenceClassification', 'UMT5ForSequenceClassification', 'XLMForSequenceClassification', 'XLMRobertaForSequenceClassification', 'XLMRobertaXLForSequenceClassification', 'XLNetForSequenceClassification', 'XmodForSequenceClassification', 'YosoForSequenceClassification'].\n",
            "2024/05/02 10:39:40 WARNING mlflow.utils.requirements_utils: Found torch version (2.2.1+cu121) contains a local version label (+cu121). MLflow logged a pip requirement for this package as 'torch==2.2.1' without the local version label to make it installable from PyPI. To specify pip requirements containing local version labels, please use `conda_env` or `pip_requirements`.\n",
            "2024/05/02 10:39:40 WARNING mlflow.utils.requirements_utils: Found torchvision version (0.17.1+cu121) contains a local version label (+cu121). MLflow logged a pip requirement for this package as 'torchvision==0.17.1' without the local version label to make it installable from PyPI. To specify pip requirements containing local version labels, please use `conda_env` or `pip_requirements`.\n",
            "2024/05/02 10:39:48 WARNING mlflow.utils.requirements_utils: Found jaxlib version (0.4.26+cuda12.cudnn89) contains a local version label (+cuda12.cudnn89). MLflow logged a pip requirement for this package as 'jaxlib==0.4.26' without the local version label to make it installable from PyPI. To specify pip requirements containing local version labels, please use `conda_env` or `pip_requirements`.\n"
          ]
        },
        {
          "output_type": "stream",
          "name": "stdout",
          "text": [
            "<mlflow.models.model.ModelInfo object at 0x7ec89c49c550>\n"
          ]
        }
      ],
      "source": [
        "with mlflow.start_run() as run:\n",
        "    train_results = trainer.train()\n",
        "    print(train_results.metrics)\n",
        "    trainer.model.save_pretrained(custom_path)\n",
        "    trainer.data_collator.tokenizer.save_pretrained(custom_path)\n",
        "\n",
        "    transformers_model = {\"model\": trainer.model, \"tokenizer\": trainer.data_collator.tokenizer}\n",
        "    task = \"text-classification\"\n",
        "    model_info = mlflow.transformers.log_model(\n",
        "        transformers_model=transformers_model,\n",
        "        artifact_path=\"text_classifier\",\n",
        "        task=task,\n",
        "    )\n",
        "    print(model_info)\n"
      ]
    },
    {
      "cell_type": "code",
      "source": [
        "run.to_dictionary()"
      ],
      "metadata": {
        "colab": {
          "base_uri": "https://localhost:8080/"
        },
        "id": "z-_VBXFpwkFU",
        "outputId": "db5b4185-6eb0-4939-b16a-07b962434ac0"
      },
      "execution_count": 43,
      "outputs": [
        {
          "output_type": "execute_result",
          "data": {
            "text/plain": [
              "{'info': {'artifact_uri': 'mlflow-artifacts:/797910977184651261/4e218f478e224c9eb8e7e76529a7f1b3/artifacts',\n",
              "  'end_time': None,\n",
              "  'experiment_id': '797910977184651261',\n",
              "  'lifecycle_stage': 'active',\n",
              "  'run_id': '4e218f478e224c9eb8e7e76529a7f1b3',\n",
              "  'run_name': 'popular-toad-904',\n",
              "  'run_uuid': '4e218f478e224c9eb8e7e76529a7f1b3',\n",
              "  'start_time': 1714646261368,\n",
              "  'status': 'RUNNING',\n",
              "  'user_id': 'root'},\n",
              " 'data': {'metrics': {},\n",
              "  'params': {},\n",
              "  'tags': {'mlflow.runName': 'popular-toad-904',\n",
              "   'mlflow.source.name': '/usr/local/lib/python3.10/dist-packages/colab_kernel_launcher.py',\n",
              "   'mlflow.user': 'root',\n",
              "   'mlflow.source.type': 'LOCAL'}}}"
            ]
          },
          "metadata": {},
          "execution_count": 43
        }
      ]
    },
    {
      "cell_type": "code",
      "source": [
        "run.data"
      ],
      "metadata": {
        "colab": {
          "base_uri": "https://localhost:8080/"
        },
        "id": "SDIdP4damUkV",
        "outputId": "08a64eed-7e50-4e03-b985-684d2dd3b2ea"
      },
      "execution_count": 44,
      "outputs": [
        {
          "output_type": "execute_result",
          "data": {
            "text/plain": [
              "<RunData: metrics={}, params={}, tags={'mlflow.runName': 'popular-toad-904',\n",
              " 'mlflow.source.name': '/usr/local/lib/python3.10/dist-packages/colab_kernel_launcher.py',\n",
              " 'mlflow.source.type': 'LOCAL',\n",
              " 'mlflow.user': 'root'}>"
            ]
          },
          "metadata": {},
          "execution_count": 44
        }
      ]
    },
    {
      "cell_type": "code",
      "source": [
        "import transformers\n",
        "from mlflow.models import infer_signature\n",
        "from mlflow.transformers import generate_signature_output\n",
        "import locale\n",
        "def getpreferredencoding(do_setlocale = True):\n",
        "    return \"UTF-8\"\n",
        "locale.getpreferredencoding = getpreferredencoding"
      ],
      "metadata": {
        "id": "hARiKp-9LzHl"
      },
      "execution_count": 45,
      "outputs": []
    },
    {
      "cell_type": "code",
      "source": [
        "model_info.signature"
      ],
      "metadata": {
        "colab": {
          "base_uri": "https://localhost:8080/"
        },
        "id": "sJY_rR-27Zlp",
        "outputId": "1391a257-572a-4f65-8374-354dffa56579"
      },
      "execution_count": 47,
      "outputs": [
        {
          "output_type": "execute_result",
          "data": {
            "text/plain": [
              "inputs: \n",
              "  [string (required)]\n",
              "outputs: \n",
              "  ['label': string (required), 'score': double (required)]\n",
              "params: \n",
              "  None"
            ]
          },
          "metadata": {},
          "execution_count": 47
        }
      ]
    },
    {
      "cell_type": "code",
      "source": [
        "model_info.model_uri"
      ],
      "metadata": {
        "colab": {
          "base_uri": "https://localhost:8080/",
          "height": 35
        },
        "id": "WcY1xqyttUt0",
        "outputId": "409bb96b-1b30-486a-ce9c-22b95067c216"
      },
      "execution_count": 46,
      "outputs": [
        {
          "output_type": "execute_result",
          "data": {
            "text/plain": [
              "'runs:/4e218f478e224c9eb8e7e76529a7f1b3/text_classifier'"
            ],
            "application/vnd.google.colaboratory.intrinsic+json": {
              "type": "string"
            }
          },
          "metadata": {},
          "execution_count": 46
        }
      ]
    },
    {
      "cell_type": "code",
      "source": [
        "classification_components = mlflow.transformers.load_model(\n",
        "    model_info.model_uri, return_type=\"components\"\n",
        ")\n"
      ],
      "metadata": {
        "colab": {
          "base_uri": "https://localhost:8080/",
          "height": 168,
          "referenced_widgets": [
            "4ff0b82881804f0b90b530a5e2119c34",
            "244a444cb18e4b4bb28c7d7da47e91a7",
            "6980e8488b3a4524ab23244318544e8b",
            "3d42c01b619e445aa0364e3d16c75ad6",
            "66fd866e57904507b89045b09b79fba4",
            "cf8e9fb7ab2a4862837c8e743cd9d48c",
            "d305c0246b2c43b8a130be932c9ecaeb",
            "9f4d3b1df3c54a519306216dedb88da6",
            "1dbcbfe910764418b460019645e95373",
            "3bb583a273504b32ae62be0d954b6b03",
            "ddd178863e6645e7aa68375849b744ae",
            "40261feebbed49a6b4ef1fa87f7b0525",
            "2d10fbfc4f834d01b3f3a63d22b695f7",
            "4df0f6861f5d4a81b04dc1c7e7121000",
            "8c7862e7db844db6825bf7464338f6ab",
            "550600acd3bf44c18c3262fca86456a0",
            "d67aa580dc44450e9739ec821a34ed1b",
            "fa0e47f485b34d0a93019093cfc6026d",
            "8b394586124a4e1cacce591e9a0cf416",
            "6334b0ecf16d4ff2be7a30a33ba92a4b",
            "2283b095ee1d4725b65b16a33824da85",
            "17885fb38d5c40ccb7c8a7abdf372d8e",
            "17783ed79e3541bca4e4dd7811a62108",
            "567cc428ed4e4553ad2d707c47b7c43e",
            "391069b4dc1b44ef81ee4d14e387e871",
            "c1edd85457fc433aafc3530da0556077",
            "e54a8d35898b4ff381ff7ca3b77b397e",
            "dcee23efe7234209bfdbddba1fe6c96c",
            "ea9b31db82754ff8859872e84a549918",
            "7ae615e745514225bca0ed8150c478da",
            "bc44a35060c045bdb4200dfc5f0ddc84",
            "9a2202cfb1b54102808fbe9f4743c3f0",
            "400163a38c3c4c40b9125653423e7da4"
          ]
        },
        "id": "X_6oLE4UMSgd",
        "outputId": "e3a3e9f1-b42d-4201-bb51-b9ddc56cf57b"
      },
      "execution_count": 48,
      "outputs": [
        {
          "output_type": "display_data",
          "data": {
            "text/plain": [
              "Downloading artifacts:   0%|          | 0/20 [00:00<?, ?it/s]"
            ],
            "application/vnd.jupyter.widget-view+json": {
              "version_major": 2,
              "version_minor": 0,
              "model_id": "4ff0b82881804f0b90b530a5e2119c34"
            }
          },
          "metadata": {}
        },
        {
          "output_type": "stream",
          "name": "stderr",
          "text": [
            "2024/05/02 10:51:18 INFO mlflow.store.artifact.artifact_repo: The progress bar can be disabled by setting the environment variable MLFLOW_ENABLE_ARTIFACTS_PROGRESS_BAR to false\n",
            "2024/05/02 10:51:31 INFO mlflow.transformers: 'runs:/4e218f478e224c9eb8e7e76529a7f1b3/text_classifier' resolved as 'mlflow-artifacts:/797910977184651261/4e218f478e224c9eb8e7e76529a7f1b3/artifacts/text_classifier'\n"
          ]
        },
        {
          "output_type": "display_data",
          "data": {
            "text/plain": [
              "Downloading artifacts:   0%|          | 0/1 [00:00<?, ?it/s]"
            ],
            "application/vnd.jupyter.widget-view+json": {
              "version_major": 2,
              "version_minor": 0,
              "model_id": "40261feebbed49a6b4ef1fa87f7b0525"
            }
          },
          "metadata": {}
        },
        {
          "output_type": "display_data",
          "data": {
            "text/plain": [
              "Loading checkpoint shards:   0%|          | 0/2 [00:00<?, ?it/s]"
            ],
            "application/vnd.jupyter.widget-view+json": {
              "version_major": 2,
              "version_minor": 0,
              "model_id": "17783ed79e3541bca4e4dd7811a62108"
            }
          },
          "metadata": {}
        }
      ]
    },
    {
      "cell_type": "code",
      "source": [
        "type(classification_components['tokenizer'])"
      ],
      "metadata": {
        "colab": {
          "base_uri": "https://localhost:8080/",
          "height": 378
        },
        "id": "yxQvehPf7sf1",
        "outputId": "eba83b91-a973-456a-ed02-c28561a8f3fb"
      },
      "execution_count": 49,
      "outputs": [
        {
          "output_type": "execute_result",
          "data": {
            "text/plain": [
              "transformers.models.t5.tokenization_t5_fast.T5TokenizerFast"
            ],
            "text/html": [
              "<div style=\"max-width:800px; border: 1px solid var(--colab-border-color);\"><style>\n",
              "      pre.function-repr-contents {\n",
              "        overflow-x: auto;\n",
              "        padding: 8px 12px;\n",
              "        max-height: 500px;\n",
              "      }\n",
              "\n",
              "      pre.function-repr-contents.function-repr-contents-collapsed {\n",
              "        cursor: pointer;\n",
              "        max-height: 100px;\n",
              "      }\n",
              "    </style>\n",
              "    <pre style=\"white-space: initial; background:\n",
              "         var(--colab-secondary-surface-color); padding: 8px 12px;\n",
              "         border-bottom: 1px solid var(--colab-border-color);\"><b>transformers.models.t5.tokenization_t5_fast.T5TokenizerFast</b><br/>def __call__(text: Union[TextInput, PreTokenizedInput, List[TextInput], List[PreTokenizedInput]]=None, text_pair: Optional[Union[TextInput, PreTokenizedInput, List[TextInput], List[PreTokenizedInput]]]=None, text_target: Union[TextInput, PreTokenizedInput, List[TextInput], List[PreTokenizedInput]]=None, text_pair_target: Optional[Union[TextInput, PreTokenizedInput, List[TextInput], List[PreTokenizedInput]]]=None, add_special_tokens: bool=True, padding: Union[bool, str, PaddingStrategy]=False, truncation: Union[bool, str, TruncationStrategy]=None, max_length: Optional[int]=None, stride: int=0, is_split_into_words: bool=False, pad_to_multiple_of: Optional[int]=None, return_tensors: Optional[Union[str, TensorType]]=None, return_token_type_ids: Optional[bool]=None, return_attention_mask: Optional[bool]=None, return_overflowing_tokens: bool=False, return_special_tokens_mask: bool=False, return_offsets_mapping: bool=False, return_length: bool=False, verbose: bool=True, **kwargs) -&gt; BatchEncoding</pre><pre class=\"function-repr-contents function-repr-contents-collapsed\" style=\"\"><a class=\"filepath\" style=\"display:none\" href=\"#\">/usr/local/lib/python3.10/dist-packages/transformers/models/t5/tokenization_t5_fast.py</a>Construct a &quot;fast&quot; T5 tokenizer (backed by HuggingFace&#x27;s *tokenizers* library). Based on\n",
              "[Unigram](https://huggingface.co/docs/tokenizers/python/latest/components.html?highlight=unigram#models).\n",
              "\n",
              "This tokenizer inherits from [`PreTrainedTokenizerFast`] which contains most of the main methods. Users should\n",
              "refer to this superclass for more information regarding those methods.\n",
              "\n",
              "Args:\n",
              "    vocab_file (`str`):\n",
              "        [SentencePiece](https://github.com/google/sentencepiece) file (generally has a *.spm* extension) that\n",
              "        contains the vocabulary necessary to instantiate a tokenizer.\n",
              "    eos_token (`str`, *optional*, defaults to `&quot;&lt;/s&gt;&quot;`):\n",
              "        The end of sequence token.\n",
              "\n",
              "        &lt;Tip&gt;\n",
              "\n",
              "        When building a sequence using special tokens, this is not the token that is used for the end of sequence.\n",
              "        The token used is the `sep_token`.\n",
              "\n",
              "        &lt;/Tip&gt;\n",
              "\n",
              "    unk_token (`str`, *optional*, defaults to `&quot;&lt;unk&gt;&quot;`):\n",
              "        The unknown token. A token that is not in the vocabulary cannot be converted to an ID and is set to be this\n",
              "        token instead.\n",
              "    pad_token (`str`, *optional*, defaults to `&quot;&lt;pad&gt;&quot;`):\n",
              "        The token used for padding, for example when batching sequences of different lengths.\n",
              "    extra_ids (`int`, *optional*, defaults to 100):\n",
              "        Add a number of extra ids added to the vocabulary for use as sentinels. These tokens are accessible as\n",
              "        &quot;&lt;extra_id_{%d}&gt;&quot; where &quot;{%d}&quot; is a number between 0 and extra_ids-1. These tokens can be retrieved by\n",
              "        calling get_sentinel_tokens method and token ids can be by calling get_sentinel_token_ids method\n",
              "    additional_special_tokens (`List[str]`, *optional*):\n",
              "        Additional special tokens used by the tokenizer.\n",
              "    add_prefix_space (`bool`, *optional*):\n",
              "        Whether or not the tokenizer should automatically add a prefix space\n",
              "    from_slow (`book`, *optional*, defaults to `False`):\n",
              "        Whether or not the tokenizer should be converted from a slow one. If `add_prefix_space` is set, this will be set to `True`.</pre>\n",
              "      <script>\n",
              "      if (google.colab.kernel.accessAllowed && google.colab.files && google.colab.files.view) {\n",
              "        for (const element of document.querySelectorAll('.filepath')) {\n",
              "          element.style.display = 'block'\n",
              "          element.onclick = (event) => {\n",
              "            event.preventDefault();\n",
              "            event.stopPropagation();\n",
              "            google.colab.files.view(element.textContent, 66);\n",
              "          };\n",
              "        }\n",
              "      }\n",
              "      for (const element of document.querySelectorAll('.function-repr-contents')) {\n",
              "        element.onclick = (event) => {\n",
              "          event.preventDefault();\n",
              "          event.stopPropagation();\n",
              "          element.classList.toggle('function-repr-contents-collapsed');\n",
              "        };\n",
              "      }\n",
              "      </script>\n",
              "      </div>"
            ]
          },
          "metadata": {},
          "execution_count": 49
        }
      ]
    },
    {
      "cell_type": "code",
      "source": [
        "type(classification_components['model'])"
      ],
      "metadata": {
        "colab": {
          "base_uri": "https://localhost:8080/",
          "height": 187
        },
        "id": "f2UB963g7uyN",
        "outputId": "ec388e72-6eb7-4621-d7d6-6f748a24adf5"
      },
      "execution_count": 50,
      "outputs": [
        {
          "output_type": "execute_result",
          "data": {
            "text/plain": [
              "transformers.models.t5.modeling_t5.T5ForConditionalGeneration"
            ],
            "text/html": [
              "<div style=\"max-width:800px; border: 1px solid var(--colab-border-color);\"><style>\n",
              "      pre.function-repr-contents {\n",
              "        overflow-x: auto;\n",
              "        padding: 8px 12px;\n",
              "        max-height: 500px;\n",
              "      }\n",
              "\n",
              "      pre.function-repr-contents.function-repr-contents-collapsed {\n",
              "        cursor: pointer;\n",
              "        max-height: 100px;\n",
              "      }\n",
              "    </style>\n",
              "    <pre style=\"white-space: initial; background:\n",
              "         var(--colab-secondary-surface-color); padding: 8px 12px;\n",
              "         border-bottom: 1px solid var(--colab-border-color);\"><b>transformers.models.t5.modeling_t5.T5ForConditionalGeneration</b><br/>def _wrapped_call_impl(*args, **kwargs)</pre><pre class=\"function-repr-contents function-repr-contents-collapsed\" style=\"\"><a class=\"filepath\" style=\"display:none\" href=\"#\">/usr/local/lib/python3.10/dist-packages/transformers/models/t5/modeling_t5.py</a>T5 Model with a `language modeling` head on top.\n",
              "\n",
              "The T5 model was proposed in [Exploring the Limits of Transfer Learning with a Unified Text-to-Text\n",
              "Transformer](https://arxiv.org/abs/1910.10683) by Colin Raffel, Noam Shazeer, Adam Roberts, Katherine Lee, Sharan\n",
              "Narang, Michael Matena, Yanqi Zhou, Wei Li, Peter J. Liu. It&#x27;s an encoder decoder transformer pre-trained in a\n",
              "text-to-text denoising generative setting.\n",
              "\n",
              "This model inherits from [`PreTrainedModel`]. Check the superclass documentation for the generic methods the\n",
              "library implements for all its model (such as downloading or saving, resizing the input embeddings, pruning heads\n",
              "etc.)\n",
              "\n",
              "This model is also a PyTorch [torch.nn.Module](https://pytorch.org/docs/stable/nn.html#torch.nn.Module) subclass.\n",
              "Use it as a regular PyTorch Module and refer to the PyTorch documentation for all matter related to general usage\n",
              "and behavior.\n",
              "\n",
              "Parameters:\n",
              "    config ([`T5Config`]): Model configuration class with all the parameters of the model.\n",
              "        Initializing with a config file does not load the weights associated with the model, only the\n",
              "        configuration. Check out the [`~PreTrainedModel.from_pretrained`] method to load the model weights.</pre>\n",
              "      <script>\n",
              "      if (google.colab.kernel.accessAllowed && google.colab.files && google.colab.files.view) {\n",
              "        for (const element of document.querySelectorAll('.filepath')) {\n",
              "          element.style.display = 'block'\n",
              "          element.onclick = (event) => {\n",
              "            event.preventDefault();\n",
              "            event.stopPropagation();\n",
              "            google.colab.files.view(element.textContent, 1553);\n",
              "          };\n",
              "        }\n",
              "      }\n",
              "      for (const element of document.querySelectorAll('.function-repr-contents')) {\n",
              "        element.onclick = (event) => {\n",
              "          event.preventDefault();\n",
              "          event.stopPropagation();\n",
              "          element.classList.toggle('function-repr-contents-collapsed');\n",
              "        };\n",
              "      }\n",
              "      </script>\n",
              "      </div>"
            ]
          },
          "metadata": {},
          "execution_count": 50
        }
      ]
    },
    {
      "cell_type": "markdown",
      "metadata": {
        "id": "5Can8WHCJCPK"
      },
      "source": [
        "### Loading and Testing the Model from MLflow\n",
        "\n",
        "After logging our fine-tuned model to MLflow, we'll now load and test it.\n",
        "    \n",
        "#### Loading the Model from MLflow\n",
        "\n",
        "- **Using mlflow.transformers.load_model**: We use this function to load the model stored in MLflow. This demonstrates how models can be retrieved and utilized post-training, ensuring they are accessible for future use.\n",
        "- **Retrieving Model URI**: We use the `model_uri` obtained from logging the model to MLflow. This URI is the unique identifier for our logged model, allowing us to retrieve it accurately.\n",
        "\n",
        "#### Testing the Model with Validation Text\n",
        "\n",
        "- **Preparing Validation Text**: We use a creatively crafted text to test the model's performance. This text is designed to mimic a typical spam message, which is relevant to our model's training on spam classification.\n",
        "- **Evaluating Model Output**: By passing this text through the loaded model, we can observe its performance and effectiveness in a practical scenario. This step is crucial to ensure that the model works as expected in real-world conditions.\n",
        "\n",
        "Testing the model after loading it from MLflow is essential for several reasons:\n",
        "\n",
        "- **Validation of Logging Process**: It confirms that the model was logged and loaded correctly.\n",
        "- **Practical Performance Assessment**: Provides a real-world assessment of the model's performance, which is critical for deployment decisions.\n",
        "- **Demonstrating End-to-End Workflow**: Showcases a complete workflow from training, logging, loading, to using the model, which is vital for understanding the entire model lifecycle.\n",
        "\n",
        "In the next code block, we'll load our model from MLflow and test it with a validation text to assess its real-world performance."
      ]
    },
    {
      "cell_type": "code",
      "source": [
        "def load_dataset_test(data_path) -> Dataset:\n",
        "    \"\"\" Load dataset. \"\"\"\n",
        "\n",
        "    dataset_ecommerce_pandas = pd.read_csv(data_path, header=None, names=['label', 'text'])\n",
        "    dataset_ecommerce_pandas['label'] = dataset_ecommerce_pandas['label'].astype(str)\n",
        "    dataset_ecommerce_pandas['text'] = dataset_ecommerce_pandas['text'].astype(str)\n",
        "    dataset = Dataset.from_pandas(dataset_ecommerce_pandas)\n",
        "\n",
        "    return dataset"
      ],
      "metadata": {
        "id": "V8WAzkMSJAv8"
      },
      "execution_count": 51,
      "outputs": []
    },
    {
      "cell_type": "code",
      "source": [
        "datatest= load_dataset_test(data_path_test)"
      ],
      "metadata": {
        "id": "AOp0mSI7Ipso"
      },
      "execution_count": 52,
      "outputs": []
    },
    {
      "cell_type": "code",
      "source": [
        "len(datatest)"
      ],
      "metadata": {
        "colab": {
          "base_uri": "https://localhost:8080/"
        },
        "id": "gnFA4-TxIpok",
        "outputId": "6bc5f84c-50b3-47da-f5d3-a632864f1133"
      },
      "execution_count": 53,
      "outputs": [
        {
          "output_type": "execute_result",
          "data": {
            "text/plain": [
              "284"
            ]
          },
          "metadata": {},
          "execution_count": 53
        }
      ]
    },
    {
      "cell_type": "code",
      "source": [
        "datatest[0]"
      ],
      "metadata": {
        "colab": {
          "base_uri": "https://localhost:8080/"
        },
        "id": "6otN3O1kWx7J",
        "outputId": "c3257d6f-b303-4a35-908f-6f1503b6bf8e"
      },
      "execution_count": 54,
      "outputs": [
        {
          "output_type": "execute_result",
          "data": {
            "text/plain": [
              "{'label': 'cv',\n",
              " 'text': 'justin wa adkins thrives cultivating business workflows creating strategic key stakeholders simple effective delights customers key inflection points inside business focusing innovation bringing 8 years coding experience managing mission world better place supporting make central actuarial science may manager 2021 construction accounting consulting telecom erp related project data conversion ms dynamics solomon vista 3 months limited solomon cio role managing multiple systems bringing cohesion lead senior analyst 2016 april systems construction accounting battle erp related project project code vista etl modules reconcile jc beginning balances using managed implemented ms materials module batch creation multiple streamlined xml certified payroll report efficient washington equipment gps import allocation procedure built forecast software project managers upload capabilities directly viewpoint database lead eos level 10 weekly meetings mentored 6 various business challenges user stories understanding business needs implementing project develop advanced reports using bi implement software automation supporting multiple levels audiences driving vista software engagement office project management increased customer profitability revenue since analyst 2016 august consulting syteline erp software syteline erp software focusing multiple department interaction users building reports implementing business workflows design department erp homepages reports driving business decisions using executed successful upgrade syteline erp 8 9 within analyst ii 2014 february global legal development team integrate using framework using version control stored dynamic nested monitor support large import export data load operations generated xml data closely client services team understand client document sustainable confluence production programmer 2014 august strategic data leading compiler institutional sweet generated custom reports utilizing sql access datalever software orders requiring programming services file match customized tutor educational di kansas programming sql server 8 years including viewpoint construction management tools remote desktop'}"
            ]
          },
          "metadata": {},
          "execution_count": 54
        }
      ]
    },
    {
      "cell_type": "code",
      "source": [
        "import torch\n",
        "from tqdm.auto import tqdm\n",
        "\n",
        "from transformers import AutoTokenizer, AutoModelForSeq2SeqLM\n",
        "from sklearn.metrics import classification_report"
      ],
      "metadata": {
        "id": "yoWtWcoZJakq"
      },
      "execution_count": 55,
      "outputs": []
    },
    {
      "cell_type": "code",
      "source": [
        "model = classification_components.get('model')\n",
        "tokenizer = classification_components.get('tokenizer')"
      ],
      "metadata": {
        "id": "99TYeFUyIpkq"
      },
      "execution_count": 56,
      "outputs": []
    },
    {
      "cell_type": "code",
      "source": [
        "def classify(text_to_classify: str) -> str:\n",
        "    \"\"\"Classify a text using the model.\"\"\"\n",
        "    inputs = tokenizer.encode_plus(text_to_classify, padding='max_length', max_length=512, return_tensors='pt')\n",
        "    inputs = inputs.to('cuda') if torch.cuda.is_available() else inputs.to('cpu')\n",
        "    outputs = model.generate(inputs['input_ids'], attention_mask=inputs['attention_mask'], max_length=5)\n",
        "\n",
        "    prediction = tokenizer.decode(outputs[0], skip_special_tokens=True)\n",
        "    return prediction\n",
        "\n",
        "\n",
        "def evaluate_model() -> None:\n",
        "    \"\"\"Evaluate the model on the test dataset.\"\"\"\n",
        "    predictions_list, labels_list = [], []\n",
        "\n",
        "    samples_number = len(datatest)\n",
        "    progress_bar = tqdm(range(samples_number))\n",
        "\n",
        "    for i in range(samples_number):\n",
        "        text = datatest['text'][i]\n",
        "        predictions_list.append(classify(text))\n",
        "        labels_list.append(str(datatest['label'][i]))\n",
        "\n",
        "        progress_bar.update(1)\n",
        "\n",
        "    report = classification_report(labels_list, predictions_list)\n",
        "    print(report)"
      ],
      "metadata": {
        "id": "tJmcuNkkIpgp"
      },
      "execution_count": 57,
      "outputs": []
    },
    {
      "cell_type": "code",
      "source": [
        "evaluate_model()"
      ],
      "metadata": {
        "colab": {
          "base_uri": "https://localhost:8080/",
          "height": 205,
          "referenced_widgets": [
            "6904b7b8ffa745b3b7b26b81cc5a3f22",
            "20768bb1b7944ae29d1046b326143277",
            "3c766de442c84f48b61708d4dd39e86d",
            "1fbd07c7f7574c23b205cdd4f321f8c0",
            "94d84c14d0b04e41abe07d1ea489f9fc",
            "69317c31ea1a433aa5bc903244ac91fe",
            "48602b69aa154e69ba28c2979e87b185",
            "d2325dc4219041a296979d4b35866079",
            "4ccd0a8262d34c6ea2deaec9c69cf7d6",
            "a4a23e0b87864339bf7568bda43ad159",
            "b62d68a0de0c42198a480ad47baf3455"
          ]
        },
        "id": "znSB3WR-IpcZ",
        "outputId": "2f1bb9f1-8a2d-4ca6-a3cf-a7c5fa7e46e8"
      },
      "execution_count": 58,
      "outputs": [
        {
          "output_type": "display_data",
          "data": {
            "text/plain": [
              "  0%|          | 0/284 [00:00<?, ?it/s]"
            ],
            "application/vnd.jupyter.widget-view+json": {
              "version_major": 2,
              "version_minor": 0,
              "model_id": "6904b7b8ffa745b3b7b26b81cc5a3f22"
            }
          },
          "metadata": {}
        },
        {
          "output_type": "stream",
          "name": "stdout",
          "text": [
            "              precision    recall  f1-score   support\n",
            "\n",
            "          cv       0.97      1.00      0.99       142\n",
            "      non-cv       1.00      0.97      0.99       142\n",
            "\n",
            "    accuracy                           0.99       284\n",
            "   macro avg       0.99      0.99      0.99       284\n",
            "weighted avg       0.99      0.99      0.99       284\n",
            "\n"
          ]
        }
      ]
    },
    {
      "cell_type": "code",
      "source": [
        "ngrok.kill()"
      ],
      "metadata": {
        "id": "gacOoqHhi23R"
      },
      "execution_count": 48,
      "outputs": []
    }
  ],
  "metadata": {
    "kernelspec": {
      "display_name": "Python 3",
      "name": "python3"
    },
    "language_info": {
      "codemirror_mode": {
        "name": "ipython",
        "version": 3
      },
      "file_extension": ".py",
      "mimetype": "text/x-python",
      "name": "python",
      "nbconvert_exporter": "python",
      "pygments_lexer": "ipython3",
      "version": "3.8.13"
    },
    "colab": {
      "provenance": [],
      "gpuType": "L4",
      "machine_shape": "hm",
      "include_colab_link": true
    },
    "accelerator": "GPU",
    "widgets": {
      "application/vnd.jupyter.widget-state+json": {
        "a9200fa932a04f0b987d45a3d77b42e5": {
          "model_module": "@jupyter-widgets/controls",
          "model_name": "HBoxModel",
          "model_module_version": "1.5.0",
          "state": {
            "_dom_classes": [],
            "_model_module": "@jupyter-widgets/controls",
            "_model_module_version": "1.5.0",
            "_model_name": "HBoxModel",
            "_view_count": null,
            "_view_module": "@jupyter-widgets/controls",
            "_view_module_version": "1.5.0",
            "_view_name": "HBoxView",
            "box_style": "",
            "children": [
              "IPY_MODEL_fb133aa332214088af287b57a79fa4c6",
              "IPY_MODEL_66a2b3e9a52b43198b4eee94b03220dd",
              "IPY_MODEL_5ed23d7185254c5288da18be3f9cc3f9"
            ],
            "layout": "IPY_MODEL_809a89bae0cc465fb8595f5a1d944a03"
          }
        },
        "fb133aa332214088af287b57a79fa4c6": {
          "model_module": "@jupyter-widgets/controls",
          "model_name": "HTMLModel",
          "model_module_version": "1.5.0",
          "state": {
            "_dom_classes": [],
            "_model_module": "@jupyter-widgets/controls",
            "_model_module_version": "1.5.0",
            "_model_name": "HTMLModel",
            "_view_count": null,
            "_view_module": "@jupyter-widgets/controls",
            "_view_module_version": "1.5.0",
            "_view_name": "HTMLView",
            "description": "",
            "description_tooltip": null,
            "layout": "IPY_MODEL_1539582e70f1456c9d23ffb908abb88e",
            "placeholder": "​",
            "style": "IPY_MODEL_4c328691bfd34e6dba238b00ae0cb2de",
            "value": "Map: 100%"
          }
        },
        "66a2b3e9a52b43198b4eee94b03220dd": {
          "model_module": "@jupyter-widgets/controls",
          "model_name": "FloatProgressModel",
          "model_module_version": "1.5.0",
          "state": {
            "_dom_classes": [],
            "_model_module": "@jupyter-widgets/controls",
            "_model_module_version": "1.5.0",
            "_model_name": "FloatProgressModel",
            "_view_count": null,
            "_view_module": "@jupyter-widgets/controls",
            "_view_module_version": "1.5.0",
            "_view_name": "ProgressView",
            "bar_style": "success",
            "description": "",
            "description_tooltip": null,
            "layout": "IPY_MODEL_5682c78bde6346819272b13e35ce46c1",
            "max": 200,
            "min": 0,
            "orientation": "horizontal",
            "style": "IPY_MODEL_be46fcc53a28469280ea6716270b7d08",
            "value": 200
          }
        },
        "5ed23d7185254c5288da18be3f9cc3f9": {
          "model_module": "@jupyter-widgets/controls",
          "model_name": "HTMLModel",
          "model_module_version": "1.5.0",
          "state": {
            "_dom_classes": [],
            "_model_module": "@jupyter-widgets/controls",
            "_model_module_version": "1.5.0",
            "_model_name": "HTMLModel",
            "_view_count": null,
            "_view_module": "@jupyter-widgets/controls",
            "_view_module_version": "1.5.0",
            "_view_name": "HTMLView",
            "description": "",
            "description_tooltip": null,
            "layout": "IPY_MODEL_37b08f85c509407ebbac68717045618a",
            "placeholder": "​",
            "style": "IPY_MODEL_dece6dafb4ff4af68d8e17d508994643",
            "value": " 200/200 [00:00&lt;00:00, 946.81 examples/s]"
          }
        },
        "809a89bae0cc465fb8595f5a1d944a03": {
          "model_module": "@jupyter-widgets/base",
          "model_name": "LayoutModel",
          "model_module_version": "1.2.0",
          "state": {
            "_model_module": "@jupyter-widgets/base",
            "_model_module_version": "1.2.0",
            "_model_name": "LayoutModel",
            "_view_count": null,
            "_view_module": "@jupyter-widgets/base",
            "_view_module_version": "1.2.0",
            "_view_name": "LayoutView",
            "align_content": null,
            "align_items": null,
            "align_self": null,
            "border": null,
            "bottom": null,
            "display": null,
            "flex": null,
            "flex_flow": null,
            "grid_area": null,
            "grid_auto_columns": null,
            "grid_auto_flow": null,
            "grid_auto_rows": null,
            "grid_column": null,
            "grid_gap": null,
            "grid_row": null,
            "grid_template_areas": null,
            "grid_template_columns": null,
            "grid_template_rows": null,
            "height": null,
            "justify_content": null,
            "justify_items": null,
            "left": null,
            "margin": null,
            "max_height": null,
            "max_width": null,
            "min_height": null,
            "min_width": null,
            "object_fit": null,
            "object_position": null,
            "order": null,
            "overflow": null,
            "overflow_x": null,
            "overflow_y": null,
            "padding": null,
            "right": null,
            "top": null,
            "visibility": null,
            "width": null
          }
        },
        "1539582e70f1456c9d23ffb908abb88e": {
          "model_module": "@jupyter-widgets/base",
          "model_name": "LayoutModel",
          "model_module_version": "1.2.0",
          "state": {
            "_model_module": "@jupyter-widgets/base",
            "_model_module_version": "1.2.0",
            "_model_name": "LayoutModel",
            "_view_count": null,
            "_view_module": "@jupyter-widgets/base",
            "_view_module_version": "1.2.0",
            "_view_name": "LayoutView",
            "align_content": null,
            "align_items": null,
            "align_self": null,
            "border": null,
            "bottom": null,
            "display": null,
            "flex": null,
            "flex_flow": null,
            "grid_area": null,
            "grid_auto_columns": null,
            "grid_auto_flow": null,
            "grid_auto_rows": null,
            "grid_column": null,
            "grid_gap": null,
            "grid_row": null,
            "grid_template_areas": null,
            "grid_template_columns": null,
            "grid_template_rows": null,
            "height": null,
            "justify_content": null,
            "justify_items": null,
            "left": null,
            "margin": null,
            "max_height": null,
            "max_width": null,
            "min_height": null,
            "min_width": null,
            "object_fit": null,
            "object_position": null,
            "order": null,
            "overflow": null,
            "overflow_x": null,
            "overflow_y": null,
            "padding": null,
            "right": null,
            "top": null,
            "visibility": null,
            "width": null
          }
        },
        "4c328691bfd34e6dba238b00ae0cb2de": {
          "model_module": "@jupyter-widgets/controls",
          "model_name": "DescriptionStyleModel",
          "model_module_version": "1.5.0",
          "state": {
            "_model_module": "@jupyter-widgets/controls",
            "_model_module_version": "1.5.0",
            "_model_name": "DescriptionStyleModel",
            "_view_count": null,
            "_view_module": "@jupyter-widgets/base",
            "_view_module_version": "1.2.0",
            "_view_name": "StyleView",
            "description_width": ""
          }
        },
        "5682c78bde6346819272b13e35ce46c1": {
          "model_module": "@jupyter-widgets/base",
          "model_name": "LayoutModel",
          "model_module_version": "1.2.0",
          "state": {
            "_model_module": "@jupyter-widgets/base",
            "_model_module_version": "1.2.0",
            "_model_name": "LayoutModel",
            "_view_count": null,
            "_view_module": "@jupyter-widgets/base",
            "_view_module_version": "1.2.0",
            "_view_name": "LayoutView",
            "align_content": null,
            "align_items": null,
            "align_self": null,
            "border": null,
            "bottom": null,
            "display": null,
            "flex": null,
            "flex_flow": null,
            "grid_area": null,
            "grid_auto_columns": null,
            "grid_auto_flow": null,
            "grid_auto_rows": null,
            "grid_column": null,
            "grid_gap": null,
            "grid_row": null,
            "grid_template_areas": null,
            "grid_template_columns": null,
            "grid_template_rows": null,
            "height": null,
            "justify_content": null,
            "justify_items": null,
            "left": null,
            "margin": null,
            "max_height": null,
            "max_width": null,
            "min_height": null,
            "min_width": null,
            "object_fit": null,
            "object_position": null,
            "order": null,
            "overflow": null,
            "overflow_x": null,
            "overflow_y": null,
            "padding": null,
            "right": null,
            "top": null,
            "visibility": null,
            "width": null
          }
        },
        "be46fcc53a28469280ea6716270b7d08": {
          "model_module": "@jupyter-widgets/controls",
          "model_name": "ProgressStyleModel",
          "model_module_version": "1.5.0",
          "state": {
            "_model_module": "@jupyter-widgets/controls",
            "_model_module_version": "1.5.0",
            "_model_name": "ProgressStyleModel",
            "_view_count": null,
            "_view_module": "@jupyter-widgets/base",
            "_view_module_version": "1.2.0",
            "_view_name": "StyleView",
            "bar_color": null,
            "description_width": ""
          }
        },
        "37b08f85c509407ebbac68717045618a": {
          "model_module": "@jupyter-widgets/base",
          "model_name": "LayoutModel",
          "model_module_version": "1.2.0",
          "state": {
            "_model_module": "@jupyter-widgets/base",
            "_model_module_version": "1.2.0",
            "_model_name": "LayoutModel",
            "_view_count": null,
            "_view_module": "@jupyter-widgets/base",
            "_view_module_version": "1.2.0",
            "_view_name": "LayoutView",
            "align_content": null,
            "align_items": null,
            "align_self": null,
            "border": null,
            "bottom": null,
            "display": null,
            "flex": null,
            "flex_flow": null,
            "grid_area": null,
            "grid_auto_columns": null,
            "grid_auto_flow": null,
            "grid_auto_rows": null,
            "grid_column": null,
            "grid_gap": null,
            "grid_row": null,
            "grid_template_areas": null,
            "grid_template_columns": null,
            "grid_template_rows": null,
            "height": null,
            "justify_content": null,
            "justify_items": null,
            "left": null,
            "margin": null,
            "max_height": null,
            "max_width": null,
            "min_height": null,
            "min_width": null,
            "object_fit": null,
            "object_position": null,
            "order": null,
            "overflow": null,
            "overflow_x": null,
            "overflow_y": null,
            "padding": null,
            "right": null,
            "top": null,
            "visibility": null,
            "width": null
          }
        },
        "dece6dafb4ff4af68d8e17d508994643": {
          "model_module": "@jupyter-widgets/controls",
          "model_name": "DescriptionStyleModel",
          "model_module_version": "1.5.0",
          "state": {
            "_model_module": "@jupyter-widgets/controls",
            "_model_module_version": "1.5.0",
            "_model_name": "DescriptionStyleModel",
            "_view_count": null,
            "_view_module": "@jupyter-widgets/base",
            "_view_module_version": "1.2.0",
            "_view_name": "StyleView",
            "description_width": ""
          }
        },
        "543a4a4ead594add9cbe3ef77f98d37b": {
          "model_module": "@jupyter-widgets/controls",
          "model_name": "HBoxModel",
          "model_module_version": "1.5.0",
          "state": {
            "_dom_classes": [],
            "_model_module": "@jupyter-widgets/controls",
            "_model_module_version": "1.5.0",
            "_model_name": "HBoxModel",
            "_view_count": null,
            "_view_module": "@jupyter-widgets/controls",
            "_view_module_version": "1.5.0",
            "_view_name": "HBoxView",
            "box_style": "",
            "children": [
              "IPY_MODEL_f0d28a2086b64613840eee768d03ca5b",
              "IPY_MODEL_2aac81ca55dc4a67a564d2ea322dce64",
              "IPY_MODEL_470785aee06a40e2a1516968e1c68a10"
            ],
            "layout": "IPY_MODEL_5f0a934742e344d2b7d3dd32bfe946ed"
          }
        },
        "f0d28a2086b64613840eee768d03ca5b": {
          "model_module": "@jupyter-widgets/controls",
          "model_name": "HTMLModel",
          "model_module_version": "1.5.0",
          "state": {
            "_dom_classes": [],
            "_model_module": "@jupyter-widgets/controls",
            "_model_module_version": "1.5.0",
            "_model_name": "HTMLModel",
            "_view_count": null,
            "_view_module": "@jupyter-widgets/controls",
            "_view_module_version": "1.5.0",
            "_view_name": "HTMLView",
            "description": "",
            "description_tooltip": null,
            "layout": "IPY_MODEL_e7a08715846a42b4a2d6970c5c034fce",
            "placeholder": "​",
            "style": "IPY_MODEL_05919c6c6ae04611afa668867445b662",
            "value": "Map: 100%"
          }
        },
        "2aac81ca55dc4a67a564d2ea322dce64": {
          "model_module": "@jupyter-widgets/controls",
          "model_name": "FloatProgressModel",
          "model_module_version": "1.5.0",
          "state": {
            "_dom_classes": [],
            "_model_module": "@jupyter-widgets/controls",
            "_model_module_version": "1.5.0",
            "_model_name": "FloatProgressModel",
            "_view_count": null,
            "_view_module": "@jupyter-widgets/controls",
            "_view_module_version": "1.5.0",
            "_view_name": "ProgressView",
            "bar_style": "success",
            "description": "",
            "description_tooltip": null,
            "layout": "IPY_MODEL_d5a5f3809fbd437ba81837e2a23b4709",
            "max": 200,
            "min": 0,
            "orientation": "horizontal",
            "style": "IPY_MODEL_26f4fc2833d94fa192640962ae3fc5b0",
            "value": 200
          }
        },
        "470785aee06a40e2a1516968e1c68a10": {
          "model_module": "@jupyter-widgets/controls",
          "model_name": "HTMLModel",
          "model_module_version": "1.5.0",
          "state": {
            "_dom_classes": [],
            "_model_module": "@jupyter-widgets/controls",
            "_model_module_version": "1.5.0",
            "_model_name": "HTMLModel",
            "_view_count": null,
            "_view_module": "@jupyter-widgets/controls",
            "_view_module_version": "1.5.0",
            "_view_name": "HTMLView",
            "description": "",
            "description_tooltip": null,
            "layout": "IPY_MODEL_a9aae6b8c6c44cfaa3a3aa4f272f9f6a",
            "placeholder": "​",
            "style": "IPY_MODEL_0d202c0194e44ab6b05bf244f44f62ff",
            "value": " 200/200 [00:00&lt;00:00, 7731.01 examples/s]"
          }
        },
        "5f0a934742e344d2b7d3dd32bfe946ed": {
          "model_module": "@jupyter-widgets/base",
          "model_name": "LayoutModel",
          "model_module_version": "1.2.0",
          "state": {
            "_model_module": "@jupyter-widgets/base",
            "_model_module_version": "1.2.0",
            "_model_name": "LayoutModel",
            "_view_count": null,
            "_view_module": "@jupyter-widgets/base",
            "_view_module_version": "1.2.0",
            "_view_name": "LayoutView",
            "align_content": null,
            "align_items": null,
            "align_self": null,
            "border": null,
            "bottom": null,
            "display": null,
            "flex": null,
            "flex_flow": null,
            "grid_area": null,
            "grid_auto_columns": null,
            "grid_auto_flow": null,
            "grid_auto_rows": null,
            "grid_column": null,
            "grid_gap": null,
            "grid_row": null,
            "grid_template_areas": null,
            "grid_template_columns": null,
            "grid_template_rows": null,
            "height": null,
            "justify_content": null,
            "justify_items": null,
            "left": null,
            "margin": null,
            "max_height": null,
            "max_width": null,
            "min_height": null,
            "min_width": null,
            "object_fit": null,
            "object_position": null,
            "order": null,
            "overflow": null,
            "overflow_x": null,
            "overflow_y": null,
            "padding": null,
            "right": null,
            "top": null,
            "visibility": null,
            "width": null
          }
        },
        "e7a08715846a42b4a2d6970c5c034fce": {
          "model_module": "@jupyter-widgets/base",
          "model_name": "LayoutModel",
          "model_module_version": "1.2.0",
          "state": {
            "_model_module": "@jupyter-widgets/base",
            "_model_module_version": "1.2.0",
            "_model_name": "LayoutModel",
            "_view_count": null,
            "_view_module": "@jupyter-widgets/base",
            "_view_module_version": "1.2.0",
            "_view_name": "LayoutView",
            "align_content": null,
            "align_items": null,
            "align_self": null,
            "border": null,
            "bottom": null,
            "display": null,
            "flex": null,
            "flex_flow": null,
            "grid_area": null,
            "grid_auto_columns": null,
            "grid_auto_flow": null,
            "grid_auto_rows": null,
            "grid_column": null,
            "grid_gap": null,
            "grid_row": null,
            "grid_template_areas": null,
            "grid_template_columns": null,
            "grid_template_rows": null,
            "height": null,
            "justify_content": null,
            "justify_items": null,
            "left": null,
            "margin": null,
            "max_height": null,
            "max_width": null,
            "min_height": null,
            "min_width": null,
            "object_fit": null,
            "object_position": null,
            "order": null,
            "overflow": null,
            "overflow_x": null,
            "overflow_y": null,
            "padding": null,
            "right": null,
            "top": null,
            "visibility": null,
            "width": null
          }
        },
        "05919c6c6ae04611afa668867445b662": {
          "model_module": "@jupyter-widgets/controls",
          "model_name": "DescriptionStyleModel",
          "model_module_version": "1.5.0",
          "state": {
            "_model_module": "@jupyter-widgets/controls",
            "_model_module_version": "1.5.0",
            "_model_name": "DescriptionStyleModel",
            "_view_count": null,
            "_view_module": "@jupyter-widgets/base",
            "_view_module_version": "1.2.0",
            "_view_name": "StyleView",
            "description_width": ""
          }
        },
        "d5a5f3809fbd437ba81837e2a23b4709": {
          "model_module": "@jupyter-widgets/base",
          "model_name": "LayoutModel",
          "model_module_version": "1.2.0",
          "state": {
            "_model_module": "@jupyter-widgets/base",
            "_model_module_version": "1.2.0",
            "_model_name": "LayoutModel",
            "_view_count": null,
            "_view_module": "@jupyter-widgets/base",
            "_view_module_version": "1.2.0",
            "_view_name": "LayoutView",
            "align_content": null,
            "align_items": null,
            "align_self": null,
            "border": null,
            "bottom": null,
            "display": null,
            "flex": null,
            "flex_flow": null,
            "grid_area": null,
            "grid_auto_columns": null,
            "grid_auto_flow": null,
            "grid_auto_rows": null,
            "grid_column": null,
            "grid_gap": null,
            "grid_row": null,
            "grid_template_areas": null,
            "grid_template_columns": null,
            "grid_template_rows": null,
            "height": null,
            "justify_content": null,
            "justify_items": null,
            "left": null,
            "margin": null,
            "max_height": null,
            "max_width": null,
            "min_height": null,
            "min_width": null,
            "object_fit": null,
            "object_position": null,
            "order": null,
            "overflow": null,
            "overflow_x": null,
            "overflow_y": null,
            "padding": null,
            "right": null,
            "top": null,
            "visibility": null,
            "width": null
          }
        },
        "26f4fc2833d94fa192640962ae3fc5b0": {
          "model_module": "@jupyter-widgets/controls",
          "model_name": "ProgressStyleModel",
          "model_module_version": "1.5.0",
          "state": {
            "_model_module": "@jupyter-widgets/controls",
            "_model_module_version": "1.5.0",
            "_model_name": "ProgressStyleModel",
            "_view_count": null,
            "_view_module": "@jupyter-widgets/base",
            "_view_module_version": "1.2.0",
            "_view_name": "StyleView",
            "bar_color": null,
            "description_width": ""
          }
        },
        "a9aae6b8c6c44cfaa3a3aa4f272f9f6a": {
          "model_module": "@jupyter-widgets/base",
          "model_name": "LayoutModel",
          "model_module_version": "1.2.0",
          "state": {
            "_model_module": "@jupyter-widgets/base",
            "_model_module_version": "1.2.0",
            "_model_name": "LayoutModel",
            "_view_count": null,
            "_view_module": "@jupyter-widgets/base",
            "_view_module_version": "1.2.0",
            "_view_name": "LayoutView",
            "align_content": null,
            "align_items": null,
            "align_self": null,
            "border": null,
            "bottom": null,
            "display": null,
            "flex": null,
            "flex_flow": null,
            "grid_area": null,
            "grid_auto_columns": null,
            "grid_auto_flow": null,
            "grid_auto_rows": null,
            "grid_column": null,
            "grid_gap": null,
            "grid_row": null,
            "grid_template_areas": null,
            "grid_template_columns": null,
            "grid_template_rows": null,
            "height": null,
            "justify_content": null,
            "justify_items": null,
            "left": null,
            "margin": null,
            "max_height": null,
            "max_width": null,
            "min_height": null,
            "min_width": null,
            "object_fit": null,
            "object_position": null,
            "order": null,
            "overflow": null,
            "overflow_x": null,
            "overflow_y": null,
            "padding": null,
            "right": null,
            "top": null,
            "visibility": null,
            "width": null
          }
        },
        "0d202c0194e44ab6b05bf244f44f62ff": {
          "model_module": "@jupyter-widgets/controls",
          "model_name": "DescriptionStyleModel",
          "model_module_version": "1.5.0",
          "state": {
            "_model_module": "@jupyter-widgets/controls",
            "_model_module_version": "1.5.0",
            "_model_name": "DescriptionStyleModel",
            "_view_count": null,
            "_view_module": "@jupyter-widgets/base",
            "_view_module_version": "1.2.0",
            "_view_name": "StyleView",
            "description_width": ""
          }
        },
        "2bcde2b502224e4daad6cb2182302f7a": {
          "model_module": "@jupyter-widgets/controls",
          "model_name": "HBoxModel",
          "model_module_version": "1.5.0",
          "state": {
            "_dom_classes": [],
            "_model_module": "@jupyter-widgets/controls",
            "_model_module_version": "1.5.0",
            "_model_name": "HBoxModel",
            "_view_count": null,
            "_view_module": "@jupyter-widgets/controls",
            "_view_module_version": "1.5.0",
            "_view_name": "HBoxView",
            "box_style": "",
            "children": [
              "IPY_MODEL_387285505b3f4ee599b9f939fd09f4b6",
              "IPY_MODEL_8a53e31ed75d4bcab170b7b21a9d83b3",
              "IPY_MODEL_156ee608b2e242c78f5937f81c6a1189"
            ],
            "layout": "IPY_MODEL_e36faf6299f74d52b7d9247a578ffc06"
          }
        },
        "387285505b3f4ee599b9f939fd09f4b6": {
          "model_module": "@jupyter-widgets/controls",
          "model_name": "HTMLModel",
          "model_module_version": "1.5.0",
          "state": {
            "_dom_classes": [],
            "_model_module": "@jupyter-widgets/controls",
            "_model_module_version": "1.5.0",
            "_model_name": "HTMLModel",
            "_view_count": null,
            "_view_module": "@jupyter-widgets/controls",
            "_view_module_version": "1.5.0",
            "_view_name": "HTMLView",
            "description": "",
            "description_tooltip": null,
            "layout": "IPY_MODEL_9a7d8eccfbf74486abee474cf1c7c20b",
            "placeholder": "​",
            "style": "IPY_MODEL_4dec781ddbbf4e938653195cfcf7ecba",
            "value": "Map: 100%"
          }
        },
        "8a53e31ed75d4bcab170b7b21a9d83b3": {
          "model_module": "@jupyter-widgets/controls",
          "model_name": "FloatProgressModel",
          "model_module_version": "1.5.0",
          "state": {
            "_dom_classes": [],
            "_model_module": "@jupyter-widgets/controls",
            "_model_module_version": "1.5.0",
            "_model_name": "FloatProgressModel",
            "_view_count": null,
            "_view_module": "@jupyter-widgets/controls",
            "_view_module_version": "1.5.0",
            "_view_name": "ProgressView",
            "bar_style": "success",
            "description": "",
            "description_tooltip": null,
            "layout": "IPY_MODEL_358ebbfa6c1d4f8aa50774d630a1bca4",
            "max": 160,
            "min": 0,
            "orientation": "horizontal",
            "style": "IPY_MODEL_61ea050ac7624ddcb02b6f192aade156",
            "value": 160
          }
        },
        "156ee608b2e242c78f5937f81c6a1189": {
          "model_module": "@jupyter-widgets/controls",
          "model_name": "HTMLModel",
          "model_module_version": "1.5.0",
          "state": {
            "_dom_classes": [],
            "_model_module": "@jupyter-widgets/controls",
            "_model_module_version": "1.5.0",
            "_model_name": "HTMLModel",
            "_view_count": null,
            "_view_module": "@jupyter-widgets/controls",
            "_view_module_version": "1.5.0",
            "_view_name": "HTMLView",
            "description": "",
            "description_tooltip": null,
            "layout": "IPY_MODEL_9308ee0c42e64f78b3f148751ba60262",
            "placeholder": "​",
            "style": "IPY_MODEL_06938e13e71c4d22a926fe82636f4672",
            "value": " 160/160 [00:00&lt;00:00, 936.97 examples/s]"
          }
        },
        "e36faf6299f74d52b7d9247a578ffc06": {
          "model_module": "@jupyter-widgets/base",
          "model_name": "LayoutModel",
          "model_module_version": "1.2.0",
          "state": {
            "_model_module": "@jupyter-widgets/base",
            "_model_module_version": "1.2.0",
            "_model_name": "LayoutModel",
            "_view_count": null,
            "_view_module": "@jupyter-widgets/base",
            "_view_module_version": "1.2.0",
            "_view_name": "LayoutView",
            "align_content": null,
            "align_items": null,
            "align_self": null,
            "border": null,
            "bottom": null,
            "display": null,
            "flex": null,
            "flex_flow": null,
            "grid_area": null,
            "grid_auto_columns": null,
            "grid_auto_flow": null,
            "grid_auto_rows": null,
            "grid_column": null,
            "grid_gap": null,
            "grid_row": null,
            "grid_template_areas": null,
            "grid_template_columns": null,
            "grid_template_rows": null,
            "height": null,
            "justify_content": null,
            "justify_items": null,
            "left": null,
            "margin": null,
            "max_height": null,
            "max_width": null,
            "min_height": null,
            "min_width": null,
            "object_fit": null,
            "object_position": null,
            "order": null,
            "overflow": null,
            "overflow_x": null,
            "overflow_y": null,
            "padding": null,
            "right": null,
            "top": null,
            "visibility": null,
            "width": null
          }
        },
        "9a7d8eccfbf74486abee474cf1c7c20b": {
          "model_module": "@jupyter-widgets/base",
          "model_name": "LayoutModel",
          "model_module_version": "1.2.0",
          "state": {
            "_model_module": "@jupyter-widgets/base",
            "_model_module_version": "1.2.0",
            "_model_name": "LayoutModel",
            "_view_count": null,
            "_view_module": "@jupyter-widgets/base",
            "_view_module_version": "1.2.0",
            "_view_name": "LayoutView",
            "align_content": null,
            "align_items": null,
            "align_self": null,
            "border": null,
            "bottom": null,
            "display": null,
            "flex": null,
            "flex_flow": null,
            "grid_area": null,
            "grid_auto_columns": null,
            "grid_auto_flow": null,
            "grid_auto_rows": null,
            "grid_column": null,
            "grid_gap": null,
            "grid_row": null,
            "grid_template_areas": null,
            "grid_template_columns": null,
            "grid_template_rows": null,
            "height": null,
            "justify_content": null,
            "justify_items": null,
            "left": null,
            "margin": null,
            "max_height": null,
            "max_width": null,
            "min_height": null,
            "min_width": null,
            "object_fit": null,
            "object_position": null,
            "order": null,
            "overflow": null,
            "overflow_x": null,
            "overflow_y": null,
            "padding": null,
            "right": null,
            "top": null,
            "visibility": null,
            "width": null
          }
        },
        "4dec781ddbbf4e938653195cfcf7ecba": {
          "model_module": "@jupyter-widgets/controls",
          "model_name": "DescriptionStyleModel",
          "model_module_version": "1.5.0",
          "state": {
            "_model_module": "@jupyter-widgets/controls",
            "_model_module_version": "1.5.0",
            "_model_name": "DescriptionStyleModel",
            "_view_count": null,
            "_view_module": "@jupyter-widgets/base",
            "_view_module_version": "1.2.0",
            "_view_name": "StyleView",
            "description_width": ""
          }
        },
        "358ebbfa6c1d4f8aa50774d630a1bca4": {
          "model_module": "@jupyter-widgets/base",
          "model_name": "LayoutModel",
          "model_module_version": "1.2.0",
          "state": {
            "_model_module": "@jupyter-widgets/base",
            "_model_module_version": "1.2.0",
            "_model_name": "LayoutModel",
            "_view_count": null,
            "_view_module": "@jupyter-widgets/base",
            "_view_module_version": "1.2.0",
            "_view_name": "LayoutView",
            "align_content": null,
            "align_items": null,
            "align_self": null,
            "border": null,
            "bottom": null,
            "display": null,
            "flex": null,
            "flex_flow": null,
            "grid_area": null,
            "grid_auto_columns": null,
            "grid_auto_flow": null,
            "grid_auto_rows": null,
            "grid_column": null,
            "grid_gap": null,
            "grid_row": null,
            "grid_template_areas": null,
            "grid_template_columns": null,
            "grid_template_rows": null,
            "height": null,
            "justify_content": null,
            "justify_items": null,
            "left": null,
            "margin": null,
            "max_height": null,
            "max_width": null,
            "min_height": null,
            "min_width": null,
            "object_fit": null,
            "object_position": null,
            "order": null,
            "overflow": null,
            "overflow_x": null,
            "overflow_y": null,
            "padding": null,
            "right": null,
            "top": null,
            "visibility": null,
            "width": null
          }
        },
        "61ea050ac7624ddcb02b6f192aade156": {
          "model_module": "@jupyter-widgets/controls",
          "model_name": "ProgressStyleModel",
          "model_module_version": "1.5.0",
          "state": {
            "_model_module": "@jupyter-widgets/controls",
            "_model_module_version": "1.5.0",
            "_model_name": "ProgressStyleModel",
            "_view_count": null,
            "_view_module": "@jupyter-widgets/base",
            "_view_module_version": "1.2.0",
            "_view_name": "StyleView",
            "bar_color": null,
            "description_width": ""
          }
        },
        "9308ee0c42e64f78b3f148751ba60262": {
          "model_module": "@jupyter-widgets/base",
          "model_name": "LayoutModel",
          "model_module_version": "1.2.0",
          "state": {
            "_model_module": "@jupyter-widgets/base",
            "_model_module_version": "1.2.0",
            "_model_name": "LayoutModel",
            "_view_count": null,
            "_view_module": "@jupyter-widgets/base",
            "_view_module_version": "1.2.0",
            "_view_name": "LayoutView",
            "align_content": null,
            "align_items": null,
            "align_self": null,
            "border": null,
            "bottom": null,
            "display": null,
            "flex": null,
            "flex_flow": null,
            "grid_area": null,
            "grid_auto_columns": null,
            "grid_auto_flow": null,
            "grid_auto_rows": null,
            "grid_column": null,
            "grid_gap": null,
            "grid_row": null,
            "grid_template_areas": null,
            "grid_template_columns": null,
            "grid_template_rows": null,
            "height": null,
            "justify_content": null,
            "justify_items": null,
            "left": null,
            "margin": null,
            "max_height": null,
            "max_width": null,
            "min_height": null,
            "min_width": null,
            "object_fit": null,
            "object_position": null,
            "order": null,
            "overflow": null,
            "overflow_x": null,
            "overflow_y": null,
            "padding": null,
            "right": null,
            "top": null,
            "visibility": null,
            "width": null
          }
        },
        "06938e13e71c4d22a926fe82636f4672": {
          "model_module": "@jupyter-widgets/controls",
          "model_name": "DescriptionStyleModel",
          "model_module_version": "1.5.0",
          "state": {
            "_model_module": "@jupyter-widgets/controls",
            "_model_module_version": "1.5.0",
            "_model_name": "DescriptionStyleModel",
            "_view_count": null,
            "_view_module": "@jupyter-widgets/base",
            "_view_module_version": "1.2.0",
            "_view_name": "StyleView",
            "description_width": ""
          }
        },
        "005be2efba5a4233aafef3060e017d01": {
          "model_module": "@jupyter-widgets/controls",
          "model_name": "HBoxModel",
          "model_module_version": "1.5.0",
          "state": {
            "_dom_classes": [],
            "_model_module": "@jupyter-widgets/controls",
            "_model_module_version": "1.5.0",
            "_model_name": "HBoxModel",
            "_view_count": null,
            "_view_module": "@jupyter-widgets/controls",
            "_view_module_version": "1.5.0",
            "_view_name": "HBoxView",
            "box_style": "",
            "children": [
              "IPY_MODEL_b2837b6630014c0daccbe5e644df973a",
              "IPY_MODEL_ee42819fc527461e9e51c4d2a4b6b91a",
              "IPY_MODEL_dd80b9081e5f42c0a1f45273775480d7"
            ],
            "layout": "IPY_MODEL_afe1657b7e7e47229dac8b7c71b084c3"
          }
        },
        "b2837b6630014c0daccbe5e644df973a": {
          "model_module": "@jupyter-widgets/controls",
          "model_name": "HTMLModel",
          "model_module_version": "1.5.0",
          "state": {
            "_dom_classes": [],
            "_model_module": "@jupyter-widgets/controls",
            "_model_module_version": "1.5.0",
            "_model_name": "HTMLModel",
            "_view_count": null,
            "_view_module": "@jupyter-widgets/controls",
            "_view_module_version": "1.5.0",
            "_view_name": "HTMLView",
            "description": "",
            "description_tooltip": null,
            "layout": "IPY_MODEL_01620df34e134866a144fc75374849b3",
            "placeholder": "​",
            "style": "IPY_MODEL_b92fc80a1110463f895f051e1939d4dc",
            "value": "Map: 100%"
          }
        },
        "ee42819fc527461e9e51c4d2a4b6b91a": {
          "model_module": "@jupyter-widgets/controls",
          "model_name": "FloatProgressModel",
          "model_module_version": "1.5.0",
          "state": {
            "_dom_classes": [],
            "_model_module": "@jupyter-widgets/controls",
            "_model_module_version": "1.5.0",
            "_model_name": "FloatProgressModel",
            "_view_count": null,
            "_view_module": "@jupyter-widgets/controls",
            "_view_module_version": "1.5.0",
            "_view_name": "ProgressView",
            "bar_style": "success",
            "description": "",
            "description_tooltip": null,
            "layout": "IPY_MODEL_cf31de7075a64f25a7ed43bf4a3b50aa",
            "max": 40,
            "min": 0,
            "orientation": "horizontal",
            "style": "IPY_MODEL_194a9f79ef0d4cf9a6c56e8bf7dae712",
            "value": 40
          }
        },
        "dd80b9081e5f42c0a1f45273775480d7": {
          "model_module": "@jupyter-widgets/controls",
          "model_name": "HTMLModel",
          "model_module_version": "1.5.0",
          "state": {
            "_dom_classes": [],
            "_model_module": "@jupyter-widgets/controls",
            "_model_module_version": "1.5.0",
            "_model_name": "HTMLModel",
            "_view_count": null,
            "_view_module": "@jupyter-widgets/controls",
            "_view_module_version": "1.5.0",
            "_view_name": "HTMLView",
            "description": "",
            "description_tooltip": null,
            "layout": "IPY_MODEL_1ca59a546d884612ab9bec07f69e9b58",
            "placeholder": "​",
            "style": "IPY_MODEL_af5d989a5e184758a2593435ee147cfb",
            "value": " 40/40 [00:00&lt;00:00, 698.77 examples/s]"
          }
        },
        "afe1657b7e7e47229dac8b7c71b084c3": {
          "model_module": "@jupyter-widgets/base",
          "model_name": "LayoutModel",
          "model_module_version": "1.2.0",
          "state": {
            "_model_module": "@jupyter-widgets/base",
            "_model_module_version": "1.2.0",
            "_model_name": "LayoutModel",
            "_view_count": null,
            "_view_module": "@jupyter-widgets/base",
            "_view_module_version": "1.2.0",
            "_view_name": "LayoutView",
            "align_content": null,
            "align_items": null,
            "align_self": null,
            "border": null,
            "bottom": null,
            "display": null,
            "flex": null,
            "flex_flow": null,
            "grid_area": null,
            "grid_auto_columns": null,
            "grid_auto_flow": null,
            "grid_auto_rows": null,
            "grid_column": null,
            "grid_gap": null,
            "grid_row": null,
            "grid_template_areas": null,
            "grid_template_columns": null,
            "grid_template_rows": null,
            "height": null,
            "justify_content": null,
            "justify_items": null,
            "left": null,
            "margin": null,
            "max_height": null,
            "max_width": null,
            "min_height": null,
            "min_width": null,
            "object_fit": null,
            "object_position": null,
            "order": null,
            "overflow": null,
            "overflow_x": null,
            "overflow_y": null,
            "padding": null,
            "right": null,
            "top": null,
            "visibility": null,
            "width": null
          }
        },
        "01620df34e134866a144fc75374849b3": {
          "model_module": "@jupyter-widgets/base",
          "model_name": "LayoutModel",
          "model_module_version": "1.2.0",
          "state": {
            "_model_module": "@jupyter-widgets/base",
            "_model_module_version": "1.2.0",
            "_model_name": "LayoutModel",
            "_view_count": null,
            "_view_module": "@jupyter-widgets/base",
            "_view_module_version": "1.2.0",
            "_view_name": "LayoutView",
            "align_content": null,
            "align_items": null,
            "align_self": null,
            "border": null,
            "bottom": null,
            "display": null,
            "flex": null,
            "flex_flow": null,
            "grid_area": null,
            "grid_auto_columns": null,
            "grid_auto_flow": null,
            "grid_auto_rows": null,
            "grid_column": null,
            "grid_gap": null,
            "grid_row": null,
            "grid_template_areas": null,
            "grid_template_columns": null,
            "grid_template_rows": null,
            "height": null,
            "justify_content": null,
            "justify_items": null,
            "left": null,
            "margin": null,
            "max_height": null,
            "max_width": null,
            "min_height": null,
            "min_width": null,
            "object_fit": null,
            "object_position": null,
            "order": null,
            "overflow": null,
            "overflow_x": null,
            "overflow_y": null,
            "padding": null,
            "right": null,
            "top": null,
            "visibility": null,
            "width": null
          }
        },
        "b92fc80a1110463f895f051e1939d4dc": {
          "model_module": "@jupyter-widgets/controls",
          "model_name": "DescriptionStyleModel",
          "model_module_version": "1.5.0",
          "state": {
            "_model_module": "@jupyter-widgets/controls",
            "_model_module_version": "1.5.0",
            "_model_name": "DescriptionStyleModel",
            "_view_count": null,
            "_view_module": "@jupyter-widgets/base",
            "_view_module_version": "1.2.0",
            "_view_name": "StyleView",
            "description_width": ""
          }
        },
        "cf31de7075a64f25a7ed43bf4a3b50aa": {
          "model_module": "@jupyter-widgets/base",
          "model_name": "LayoutModel",
          "model_module_version": "1.2.0",
          "state": {
            "_model_module": "@jupyter-widgets/base",
            "_model_module_version": "1.2.0",
            "_model_name": "LayoutModel",
            "_view_count": null,
            "_view_module": "@jupyter-widgets/base",
            "_view_module_version": "1.2.0",
            "_view_name": "LayoutView",
            "align_content": null,
            "align_items": null,
            "align_self": null,
            "border": null,
            "bottom": null,
            "display": null,
            "flex": null,
            "flex_flow": null,
            "grid_area": null,
            "grid_auto_columns": null,
            "grid_auto_flow": null,
            "grid_auto_rows": null,
            "grid_column": null,
            "grid_gap": null,
            "grid_row": null,
            "grid_template_areas": null,
            "grid_template_columns": null,
            "grid_template_rows": null,
            "height": null,
            "justify_content": null,
            "justify_items": null,
            "left": null,
            "margin": null,
            "max_height": null,
            "max_width": null,
            "min_height": null,
            "min_width": null,
            "object_fit": null,
            "object_position": null,
            "order": null,
            "overflow": null,
            "overflow_x": null,
            "overflow_y": null,
            "padding": null,
            "right": null,
            "top": null,
            "visibility": null,
            "width": null
          }
        },
        "194a9f79ef0d4cf9a6c56e8bf7dae712": {
          "model_module": "@jupyter-widgets/controls",
          "model_name": "ProgressStyleModel",
          "model_module_version": "1.5.0",
          "state": {
            "_model_module": "@jupyter-widgets/controls",
            "_model_module_version": "1.5.0",
            "_model_name": "ProgressStyleModel",
            "_view_count": null,
            "_view_module": "@jupyter-widgets/base",
            "_view_module_version": "1.2.0",
            "_view_name": "StyleView",
            "bar_color": null,
            "description_width": ""
          }
        },
        "1ca59a546d884612ab9bec07f69e9b58": {
          "model_module": "@jupyter-widgets/base",
          "model_name": "LayoutModel",
          "model_module_version": "1.2.0",
          "state": {
            "_model_module": "@jupyter-widgets/base",
            "_model_module_version": "1.2.0",
            "_model_name": "LayoutModel",
            "_view_count": null,
            "_view_module": "@jupyter-widgets/base",
            "_view_module_version": "1.2.0",
            "_view_name": "LayoutView",
            "align_content": null,
            "align_items": null,
            "align_self": null,
            "border": null,
            "bottom": null,
            "display": null,
            "flex": null,
            "flex_flow": null,
            "grid_area": null,
            "grid_auto_columns": null,
            "grid_auto_flow": null,
            "grid_auto_rows": null,
            "grid_column": null,
            "grid_gap": null,
            "grid_row": null,
            "grid_template_areas": null,
            "grid_template_columns": null,
            "grid_template_rows": null,
            "height": null,
            "justify_content": null,
            "justify_items": null,
            "left": null,
            "margin": null,
            "max_height": null,
            "max_width": null,
            "min_height": null,
            "min_width": null,
            "object_fit": null,
            "object_position": null,
            "order": null,
            "overflow": null,
            "overflow_x": null,
            "overflow_y": null,
            "padding": null,
            "right": null,
            "top": null,
            "visibility": null,
            "width": null
          }
        },
        "af5d989a5e184758a2593435ee147cfb": {
          "model_module": "@jupyter-widgets/controls",
          "model_name": "DescriptionStyleModel",
          "model_module_version": "1.5.0",
          "state": {
            "_model_module": "@jupyter-widgets/controls",
            "_model_module_version": "1.5.0",
            "_model_name": "DescriptionStyleModel",
            "_view_count": null,
            "_view_module": "@jupyter-widgets/base",
            "_view_module_version": "1.2.0",
            "_view_name": "StyleView",
            "description_width": ""
          }
        },
        "4ff0b82881804f0b90b530a5e2119c34": {
          "model_module": "@jupyter-widgets/controls",
          "model_name": "HBoxModel",
          "model_module_version": "1.5.0",
          "state": {
            "_dom_classes": [],
            "_model_module": "@jupyter-widgets/controls",
            "_model_module_version": "1.5.0",
            "_model_name": "HBoxModel",
            "_view_count": null,
            "_view_module": "@jupyter-widgets/controls",
            "_view_module_version": "1.5.0",
            "_view_name": "HBoxView",
            "box_style": "",
            "children": [
              "IPY_MODEL_244a444cb18e4b4bb28c7d7da47e91a7",
              "IPY_MODEL_6980e8488b3a4524ab23244318544e8b",
              "IPY_MODEL_3d42c01b619e445aa0364e3d16c75ad6"
            ],
            "layout": "IPY_MODEL_66fd866e57904507b89045b09b79fba4"
          }
        },
        "244a444cb18e4b4bb28c7d7da47e91a7": {
          "model_module": "@jupyter-widgets/controls",
          "model_name": "HTMLModel",
          "model_module_version": "1.5.0",
          "state": {
            "_dom_classes": [],
            "_model_module": "@jupyter-widgets/controls",
            "_model_module_version": "1.5.0",
            "_model_name": "HTMLModel",
            "_view_count": null,
            "_view_module": "@jupyter-widgets/controls",
            "_view_module_version": "1.5.0",
            "_view_name": "HTMLView",
            "description": "",
            "description_tooltip": null,
            "layout": "IPY_MODEL_cf8e9fb7ab2a4862837c8e743cd9d48c",
            "placeholder": "​",
            "style": "IPY_MODEL_d305c0246b2c43b8a130be932c9ecaeb",
            "value": "Downloading artifacts: 100%"
          }
        },
        "6980e8488b3a4524ab23244318544e8b": {
          "model_module": "@jupyter-widgets/controls",
          "model_name": "FloatProgressModel",
          "model_module_version": "1.5.0",
          "state": {
            "_dom_classes": [],
            "_model_module": "@jupyter-widgets/controls",
            "_model_module_version": "1.5.0",
            "_model_name": "FloatProgressModel",
            "_view_count": null,
            "_view_module": "@jupyter-widgets/controls",
            "_view_module_version": "1.5.0",
            "_view_name": "ProgressView",
            "bar_style": "success",
            "description": "",
            "description_tooltip": null,
            "layout": "IPY_MODEL_9f4d3b1df3c54a519306216dedb88da6",
            "max": 20,
            "min": 0,
            "orientation": "horizontal",
            "style": "IPY_MODEL_1dbcbfe910764418b460019645e95373",
            "value": 20
          }
        },
        "3d42c01b619e445aa0364e3d16c75ad6": {
          "model_module": "@jupyter-widgets/controls",
          "model_name": "HTMLModel",
          "model_module_version": "1.5.0",
          "state": {
            "_dom_classes": [],
            "_model_module": "@jupyter-widgets/controls",
            "_model_module_version": "1.5.0",
            "_model_name": "HTMLModel",
            "_view_count": null,
            "_view_module": "@jupyter-widgets/controls",
            "_view_module_version": "1.5.0",
            "_view_name": "HTMLView",
            "description": "",
            "description_tooltip": null,
            "layout": "IPY_MODEL_3bb583a273504b32ae62be0d954b6b03",
            "placeholder": "​",
            "style": "IPY_MODEL_ddd178863e6645e7aa68375849b744ae",
            "value": " 20/20 [00:12&lt;00:00, 21.03it/s]"
          }
        },
        "66fd866e57904507b89045b09b79fba4": {
          "model_module": "@jupyter-widgets/base",
          "model_name": "LayoutModel",
          "model_module_version": "1.2.0",
          "state": {
            "_model_module": "@jupyter-widgets/base",
            "_model_module_version": "1.2.0",
            "_model_name": "LayoutModel",
            "_view_count": null,
            "_view_module": "@jupyter-widgets/base",
            "_view_module_version": "1.2.0",
            "_view_name": "LayoutView",
            "align_content": null,
            "align_items": null,
            "align_self": null,
            "border": null,
            "bottom": null,
            "display": null,
            "flex": null,
            "flex_flow": null,
            "grid_area": null,
            "grid_auto_columns": null,
            "grid_auto_flow": null,
            "grid_auto_rows": null,
            "grid_column": null,
            "grid_gap": null,
            "grid_row": null,
            "grid_template_areas": null,
            "grid_template_columns": null,
            "grid_template_rows": null,
            "height": null,
            "justify_content": null,
            "justify_items": null,
            "left": null,
            "margin": null,
            "max_height": null,
            "max_width": null,
            "min_height": null,
            "min_width": null,
            "object_fit": null,
            "object_position": null,
            "order": null,
            "overflow": null,
            "overflow_x": null,
            "overflow_y": null,
            "padding": null,
            "right": null,
            "top": null,
            "visibility": null,
            "width": null
          }
        },
        "cf8e9fb7ab2a4862837c8e743cd9d48c": {
          "model_module": "@jupyter-widgets/base",
          "model_name": "LayoutModel",
          "model_module_version": "1.2.0",
          "state": {
            "_model_module": "@jupyter-widgets/base",
            "_model_module_version": "1.2.0",
            "_model_name": "LayoutModel",
            "_view_count": null,
            "_view_module": "@jupyter-widgets/base",
            "_view_module_version": "1.2.0",
            "_view_name": "LayoutView",
            "align_content": null,
            "align_items": null,
            "align_self": null,
            "border": null,
            "bottom": null,
            "display": null,
            "flex": null,
            "flex_flow": null,
            "grid_area": null,
            "grid_auto_columns": null,
            "grid_auto_flow": null,
            "grid_auto_rows": null,
            "grid_column": null,
            "grid_gap": null,
            "grid_row": null,
            "grid_template_areas": null,
            "grid_template_columns": null,
            "grid_template_rows": null,
            "height": null,
            "justify_content": null,
            "justify_items": null,
            "left": null,
            "margin": null,
            "max_height": null,
            "max_width": null,
            "min_height": null,
            "min_width": null,
            "object_fit": null,
            "object_position": null,
            "order": null,
            "overflow": null,
            "overflow_x": null,
            "overflow_y": null,
            "padding": null,
            "right": null,
            "top": null,
            "visibility": null,
            "width": null
          }
        },
        "d305c0246b2c43b8a130be932c9ecaeb": {
          "model_module": "@jupyter-widgets/controls",
          "model_name": "DescriptionStyleModel",
          "model_module_version": "1.5.0",
          "state": {
            "_model_module": "@jupyter-widgets/controls",
            "_model_module_version": "1.5.0",
            "_model_name": "DescriptionStyleModel",
            "_view_count": null,
            "_view_module": "@jupyter-widgets/base",
            "_view_module_version": "1.2.0",
            "_view_name": "StyleView",
            "description_width": ""
          }
        },
        "9f4d3b1df3c54a519306216dedb88da6": {
          "model_module": "@jupyter-widgets/base",
          "model_name": "LayoutModel",
          "model_module_version": "1.2.0",
          "state": {
            "_model_module": "@jupyter-widgets/base",
            "_model_module_version": "1.2.0",
            "_model_name": "LayoutModel",
            "_view_count": null,
            "_view_module": "@jupyter-widgets/base",
            "_view_module_version": "1.2.0",
            "_view_name": "LayoutView",
            "align_content": null,
            "align_items": null,
            "align_self": null,
            "border": null,
            "bottom": null,
            "display": null,
            "flex": null,
            "flex_flow": null,
            "grid_area": null,
            "grid_auto_columns": null,
            "grid_auto_flow": null,
            "grid_auto_rows": null,
            "grid_column": null,
            "grid_gap": null,
            "grid_row": null,
            "grid_template_areas": null,
            "grid_template_columns": null,
            "grid_template_rows": null,
            "height": null,
            "justify_content": null,
            "justify_items": null,
            "left": null,
            "margin": null,
            "max_height": null,
            "max_width": null,
            "min_height": null,
            "min_width": null,
            "object_fit": null,
            "object_position": null,
            "order": null,
            "overflow": null,
            "overflow_x": null,
            "overflow_y": null,
            "padding": null,
            "right": null,
            "top": null,
            "visibility": null,
            "width": null
          }
        },
        "1dbcbfe910764418b460019645e95373": {
          "model_module": "@jupyter-widgets/controls",
          "model_name": "ProgressStyleModel",
          "model_module_version": "1.5.0",
          "state": {
            "_model_module": "@jupyter-widgets/controls",
            "_model_module_version": "1.5.0",
            "_model_name": "ProgressStyleModel",
            "_view_count": null,
            "_view_module": "@jupyter-widgets/base",
            "_view_module_version": "1.2.0",
            "_view_name": "StyleView",
            "bar_color": null,
            "description_width": ""
          }
        },
        "3bb583a273504b32ae62be0d954b6b03": {
          "model_module": "@jupyter-widgets/base",
          "model_name": "LayoutModel",
          "model_module_version": "1.2.0",
          "state": {
            "_model_module": "@jupyter-widgets/base",
            "_model_module_version": "1.2.0",
            "_model_name": "LayoutModel",
            "_view_count": null,
            "_view_module": "@jupyter-widgets/base",
            "_view_module_version": "1.2.0",
            "_view_name": "LayoutView",
            "align_content": null,
            "align_items": null,
            "align_self": null,
            "border": null,
            "bottom": null,
            "display": null,
            "flex": null,
            "flex_flow": null,
            "grid_area": null,
            "grid_auto_columns": null,
            "grid_auto_flow": null,
            "grid_auto_rows": null,
            "grid_column": null,
            "grid_gap": null,
            "grid_row": null,
            "grid_template_areas": null,
            "grid_template_columns": null,
            "grid_template_rows": null,
            "height": null,
            "justify_content": null,
            "justify_items": null,
            "left": null,
            "margin": null,
            "max_height": null,
            "max_width": null,
            "min_height": null,
            "min_width": null,
            "object_fit": null,
            "object_position": null,
            "order": null,
            "overflow": null,
            "overflow_x": null,
            "overflow_y": null,
            "padding": null,
            "right": null,
            "top": null,
            "visibility": null,
            "width": null
          }
        },
        "ddd178863e6645e7aa68375849b744ae": {
          "model_module": "@jupyter-widgets/controls",
          "model_name": "DescriptionStyleModel",
          "model_module_version": "1.5.0",
          "state": {
            "_model_module": "@jupyter-widgets/controls",
            "_model_module_version": "1.5.0",
            "_model_name": "DescriptionStyleModel",
            "_view_count": null,
            "_view_module": "@jupyter-widgets/base",
            "_view_module_version": "1.2.0",
            "_view_name": "StyleView",
            "description_width": ""
          }
        },
        "40261feebbed49a6b4ef1fa87f7b0525": {
          "model_module": "@jupyter-widgets/controls",
          "model_name": "HBoxModel",
          "model_module_version": "1.5.0",
          "state": {
            "_dom_classes": [],
            "_model_module": "@jupyter-widgets/controls",
            "_model_module_version": "1.5.0",
            "_model_name": "HBoxModel",
            "_view_count": null,
            "_view_module": "@jupyter-widgets/controls",
            "_view_module_version": "1.5.0",
            "_view_name": "HBoxView",
            "box_style": "",
            "children": [
              "IPY_MODEL_2d10fbfc4f834d01b3f3a63d22b695f7",
              "IPY_MODEL_4df0f6861f5d4a81b04dc1c7e7121000",
              "IPY_MODEL_8c7862e7db844db6825bf7464338f6ab"
            ],
            "layout": "IPY_MODEL_550600acd3bf44c18c3262fca86456a0"
          }
        },
        "2d10fbfc4f834d01b3f3a63d22b695f7": {
          "model_module": "@jupyter-widgets/controls",
          "model_name": "HTMLModel",
          "model_module_version": "1.5.0",
          "state": {
            "_dom_classes": [],
            "_model_module": "@jupyter-widgets/controls",
            "_model_module_version": "1.5.0",
            "_model_name": "HTMLModel",
            "_view_count": null,
            "_view_module": "@jupyter-widgets/controls",
            "_view_module_version": "1.5.0",
            "_view_name": "HTMLView",
            "description": "",
            "description_tooltip": null,
            "layout": "IPY_MODEL_d67aa580dc44450e9739ec821a34ed1b",
            "placeholder": "​",
            "style": "IPY_MODEL_fa0e47f485b34d0a93019093cfc6026d",
            "value": "Downloading artifacts: 100%"
          }
        },
        "4df0f6861f5d4a81b04dc1c7e7121000": {
          "model_module": "@jupyter-widgets/controls",
          "model_name": "FloatProgressModel",
          "model_module_version": "1.5.0",
          "state": {
            "_dom_classes": [],
            "_model_module": "@jupyter-widgets/controls",
            "_model_module_version": "1.5.0",
            "_model_name": "FloatProgressModel",
            "_view_count": null,
            "_view_module": "@jupyter-widgets/controls",
            "_view_module_version": "1.5.0",
            "_view_name": "ProgressView",
            "bar_style": "success",
            "description": "",
            "description_tooltip": null,
            "layout": "IPY_MODEL_8b394586124a4e1cacce591e9a0cf416",
            "max": 1,
            "min": 0,
            "orientation": "horizontal",
            "style": "IPY_MODEL_6334b0ecf16d4ff2be7a30a33ba92a4b",
            "value": 1
          }
        },
        "8c7862e7db844db6825bf7464338f6ab": {
          "model_module": "@jupyter-widgets/controls",
          "model_name": "HTMLModel",
          "model_module_version": "1.5.0",
          "state": {
            "_dom_classes": [],
            "_model_module": "@jupyter-widgets/controls",
            "_model_module_version": "1.5.0",
            "_model_name": "HTMLModel",
            "_view_count": null,
            "_view_module": "@jupyter-widgets/controls",
            "_view_module_version": "1.5.0",
            "_view_name": "HTMLView",
            "description": "",
            "description_tooltip": null,
            "layout": "IPY_MODEL_2283b095ee1d4725b65b16a33824da85",
            "placeholder": "​",
            "style": "IPY_MODEL_17885fb38d5c40ccb7c8a7abdf372d8e",
            "value": " 1/1 [00:00&lt;00:00, 43.03it/s]"
          }
        },
        "550600acd3bf44c18c3262fca86456a0": {
          "model_module": "@jupyter-widgets/base",
          "model_name": "LayoutModel",
          "model_module_version": "1.2.0",
          "state": {
            "_model_module": "@jupyter-widgets/base",
            "_model_module_version": "1.2.0",
            "_model_name": "LayoutModel",
            "_view_count": null,
            "_view_module": "@jupyter-widgets/base",
            "_view_module_version": "1.2.0",
            "_view_name": "LayoutView",
            "align_content": null,
            "align_items": null,
            "align_self": null,
            "border": null,
            "bottom": null,
            "display": null,
            "flex": null,
            "flex_flow": null,
            "grid_area": null,
            "grid_auto_columns": null,
            "grid_auto_flow": null,
            "grid_auto_rows": null,
            "grid_column": null,
            "grid_gap": null,
            "grid_row": null,
            "grid_template_areas": null,
            "grid_template_columns": null,
            "grid_template_rows": null,
            "height": null,
            "justify_content": null,
            "justify_items": null,
            "left": null,
            "margin": null,
            "max_height": null,
            "max_width": null,
            "min_height": null,
            "min_width": null,
            "object_fit": null,
            "object_position": null,
            "order": null,
            "overflow": null,
            "overflow_x": null,
            "overflow_y": null,
            "padding": null,
            "right": null,
            "top": null,
            "visibility": null,
            "width": null
          }
        },
        "d67aa580dc44450e9739ec821a34ed1b": {
          "model_module": "@jupyter-widgets/base",
          "model_name": "LayoutModel",
          "model_module_version": "1.2.0",
          "state": {
            "_model_module": "@jupyter-widgets/base",
            "_model_module_version": "1.2.0",
            "_model_name": "LayoutModel",
            "_view_count": null,
            "_view_module": "@jupyter-widgets/base",
            "_view_module_version": "1.2.0",
            "_view_name": "LayoutView",
            "align_content": null,
            "align_items": null,
            "align_self": null,
            "border": null,
            "bottom": null,
            "display": null,
            "flex": null,
            "flex_flow": null,
            "grid_area": null,
            "grid_auto_columns": null,
            "grid_auto_flow": null,
            "grid_auto_rows": null,
            "grid_column": null,
            "grid_gap": null,
            "grid_row": null,
            "grid_template_areas": null,
            "grid_template_columns": null,
            "grid_template_rows": null,
            "height": null,
            "justify_content": null,
            "justify_items": null,
            "left": null,
            "margin": null,
            "max_height": null,
            "max_width": null,
            "min_height": null,
            "min_width": null,
            "object_fit": null,
            "object_position": null,
            "order": null,
            "overflow": null,
            "overflow_x": null,
            "overflow_y": null,
            "padding": null,
            "right": null,
            "top": null,
            "visibility": null,
            "width": null
          }
        },
        "fa0e47f485b34d0a93019093cfc6026d": {
          "model_module": "@jupyter-widgets/controls",
          "model_name": "DescriptionStyleModel",
          "model_module_version": "1.5.0",
          "state": {
            "_model_module": "@jupyter-widgets/controls",
            "_model_module_version": "1.5.0",
            "_model_name": "DescriptionStyleModel",
            "_view_count": null,
            "_view_module": "@jupyter-widgets/base",
            "_view_module_version": "1.2.0",
            "_view_name": "StyleView",
            "description_width": ""
          }
        },
        "8b394586124a4e1cacce591e9a0cf416": {
          "model_module": "@jupyter-widgets/base",
          "model_name": "LayoutModel",
          "model_module_version": "1.2.0",
          "state": {
            "_model_module": "@jupyter-widgets/base",
            "_model_module_version": "1.2.0",
            "_model_name": "LayoutModel",
            "_view_count": null,
            "_view_module": "@jupyter-widgets/base",
            "_view_module_version": "1.2.0",
            "_view_name": "LayoutView",
            "align_content": null,
            "align_items": null,
            "align_self": null,
            "border": null,
            "bottom": null,
            "display": null,
            "flex": null,
            "flex_flow": null,
            "grid_area": null,
            "grid_auto_columns": null,
            "grid_auto_flow": null,
            "grid_auto_rows": null,
            "grid_column": null,
            "grid_gap": null,
            "grid_row": null,
            "grid_template_areas": null,
            "grid_template_columns": null,
            "grid_template_rows": null,
            "height": null,
            "justify_content": null,
            "justify_items": null,
            "left": null,
            "margin": null,
            "max_height": null,
            "max_width": null,
            "min_height": null,
            "min_width": null,
            "object_fit": null,
            "object_position": null,
            "order": null,
            "overflow": null,
            "overflow_x": null,
            "overflow_y": null,
            "padding": null,
            "right": null,
            "top": null,
            "visibility": null,
            "width": null
          }
        },
        "6334b0ecf16d4ff2be7a30a33ba92a4b": {
          "model_module": "@jupyter-widgets/controls",
          "model_name": "ProgressStyleModel",
          "model_module_version": "1.5.0",
          "state": {
            "_model_module": "@jupyter-widgets/controls",
            "_model_module_version": "1.5.0",
            "_model_name": "ProgressStyleModel",
            "_view_count": null,
            "_view_module": "@jupyter-widgets/base",
            "_view_module_version": "1.2.0",
            "_view_name": "StyleView",
            "bar_color": null,
            "description_width": ""
          }
        },
        "2283b095ee1d4725b65b16a33824da85": {
          "model_module": "@jupyter-widgets/base",
          "model_name": "LayoutModel",
          "model_module_version": "1.2.0",
          "state": {
            "_model_module": "@jupyter-widgets/base",
            "_model_module_version": "1.2.0",
            "_model_name": "LayoutModel",
            "_view_count": null,
            "_view_module": "@jupyter-widgets/base",
            "_view_module_version": "1.2.0",
            "_view_name": "LayoutView",
            "align_content": null,
            "align_items": null,
            "align_self": null,
            "border": null,
            "bottom": null,
            "display": null,
            "flex": null,
            "flex_flow": null,
            "grid_area": null,
            "grid_auto_columns": null,
            "grid_auto_flow": null,
            "grid_auto_rows": null,
            "grid_column": null,
            "grid_gap": null,
            "grid_row": null,
            "grid_template_areas": null,
            "grid_template_columns": null,
            "grid_template_rows": null,
            "height": null,
            "justify_content": null,
            "justify_items": null,
            "left": null,
            "margin": null,
            "max_height": null,
            "max_width": null,
            "min_height": null,
            "min_width": null,
            "object_fit": null,
            "object_position": null,
            "order": null,
            "overflow": null,
            "overflow_x": null,
            "overflow_y": null,
            "padding": null,
            "right": null,
            "top": null,
            "visibility": null,
            "width": null
          }
        },
        "17885fb38d5c40ccb7c8a7abdf372d8e": {
          "model_module": "@jupyter-widgets/controls",
          "model_name": "DescriptionStyleModel",
          "model_module_version": "1.5.0",
          "state": {
            "_model_module": "@jupyter-widgets/controls",
            "_model_module_version": "1.5.0",
            "_model_name": "DescriptionStyleModel",
            "_view_count": null,
            "_view_module": "@jupyter-widgets/base",
            "_view_module_version": "1.2.0",
            "_view_name": "StyleView",
            "description_width": ""
          }
        },
        "17783ed79e3541bca4e4dd7811a62108": {
          "model_module": "@jupyter-widgets/controls",
          "model_name": "HBoxModel",
          "model_module_version": "1.5.0",
          "state": {
            "_dom_classes": [],
            "_model_module": "@jupyter-widgets/controls",
            "_model_module_version": "1.5.0",
            "_model_name": "HBoxModel",
            "_view_count": null,
            "_view_module": "@jupyter-widgets/controls",
            "_view_module_version": "1.5.0",
            "_view_name": "HBoxView",
            "box_style": "",
            "children": [
              "IPY_MODEL_567cc428ed4e4553ad2d707c47b7c43e",
              "IPY_MODEL_391069b4dc1b44ef81ee4d14e387e871",
              "IPY_MODEL_c1edd85457fc433aafc3530da0556077"
            ],
            "layout": "IPY_MODEL_e54a8d35898b4ff381ff7ca3b77b397e"
          }
        },
        "567cc428ed4e4553ad2d707c47b7c43e": {
          "model_module": "@jupyter-widgets/controls",
          "model_name": "HTMLModel",
          "model_module_version": "1.5.0",
          "state": {
            "_dom_classes": [],
            "_model_module": "@jupyter-widgets/controls",
            "_model_module_version": "1.5.0",
            "_model_name": "HTMLModel",
            "_view_count": null,
            "_view_module": "@jupyter-widgets/controls",
            "_view_module_version": "1.5.0",
            "_view_name": "HTMLView",
            "description": "",
            "description_tooltip": null,
            "layout": "IPY_MODEL_dcee23efe7234209bfdbddba1fe6c96c",
            "placeholder": "​",
            "style": "IPY_MODEL_ea9b31db82754ff8859872e84a549918",
            "value": "Loading checkpoint shards: 100%"
          }
        },
        "391069b4dc1b44ef81ee4d14e387e871": {
          "model_module": "@jupyter-widgets/controls",
          "model_name": "FloatProgressModel",
          "model_module_version": "1.5.0",
          "state": {
            "_dom_classes": [],
            "_model_module": "@jupyter-widgets/controls",
            "_model_module_version": "1.5.0",
            "_model_name": "FloatProgressModel",
            "_view_count": null,
            "_view_module": "@jupyter-widgets/controls",
            "_view_module_version": "1.5.0",
            "_view_name": "ProgressView",
            "bar_style": "success",
            "description": "",
            "description_tooltip": null,
            "layout": "IPY_MODEL_7ae615e745514225bca0ed8150c478da",
            "max": 2,
            "min": 0,
            "orientation": "horizontal",
            "style": "IPY_MODEL_bc44a35060c045bdb4200dfc5f0ddc84",
            "value": 2
          }
        },
        "c1edd85457fc433aafc3530da0556077": {
          "model_module": "@jupyter-widgets/controls",
          "model_name": "HTMLModel",
          "model_module_version": "1.5.0",
          "state": {
            "_dom_classes": [],
            "_model_module": "@jupyter-widgets/controls",
            "_model_module_version": "1.5.0",
            "_model_name": "HTMLModel",
            "_view_count": null,
            "_view_module": "@jupyter-widgets/controls",
            "_view_module_version": "1.5.0",
            "_view_name": "HTMLView",
            "description": "",
            "description_tooltip": null,
            "layout": "IPY_MODEL_9a2202cfb1b54102808fbe9f4743c3f0",
            "placeholder": "​",
            "style": "IPY_MODEL_400163a38c3c4c40b9125653423e7da4",
            "value": " 2/2 [00:01&lt;00:00,  1.61it/s]"
          }
        },
        "e54a8d35898b4ff381ff7ca3b77b397e": {
          "model_module": "@jupyter-widgets/base",
          "model_name": "LayoutModel",
          "model_module_version": "1.2.0",
          "state": {
            "_model_module": "@jupyter-widgets/base",
            "_model_module_version": "1.2.0",
            "_model_name": "LayoutModel",
            "_view_count": null,
            "_view_module": "@jupyter-widgets/base",
            "_view_module_version": "1.2.0",
            "_view_name": "LayoutView",
            "align_content": null,
            "align_items": null,
            "align_self": null,
            "border": null,
            "bottom": null,
            "display": null,
            "flex": null,
            "flex_flow": null,
            "grid_area": null,
            "grid_auto_columns": null,
            "grid_auto_flow": null,
            "grid_auto_rows": null,
            "grid_column": null,
            "grid_gap": null,
            "grid_row": null,
            "grid_template_areas": null,
            "grid_template_columns": null,
            "grid_template_rows": null,
            "height": null,
            "justify_content": null,
            "justify_items": null,
            "left": null,
            "margin": null,
            "max_height": null,
            "max_width": null,
            "min_height": null,
            "min_width": null,
            "object_fit": null,
            "object_position": null,
            "order": null,
            "overflow": null,
            "overflow_x": null,
            "overflow_y": null,
            "padding": null,
            "right": null,
            "top": null,
            "visibility": null,
            "width": null
          }
        },
        "dcee23efe7234209bfdbddba1fe6c96c": {
          "model_module": "@jupyter-widgets/base",
          "model_name": "LayoutModel",
          "model_module_version": "1.2.0",
          "state": {
            "_model_module": "@jupyter-widgets/base",
            "_model_module_version": "1.2.0",
            "_model_name": "LayoutModel",
            "_view_count": null,
            "_view_module": "@jupyter-widgets/base",
            "_view_module_version": "1.2.0",
            "_view_name": "LayoutView",
            "align_content": null,
            "align_items": null,
            "align_self": null,
            "border": null,
            "bottom": null,
            "display": null,
            "flex": null,
            "flex_flow": null,
            "grid_area": null,
            "grid_auto_columns": null,
            "grid_auto_flow": null,
            "grid_auto_rows": null,
            "grid_column": null,
            "grid_gap": null,
            "grid_row": null,
            "grid_template_areas": null,
            "grid_template_columns": null,
            "grid_template_rows": null,
            "height": null,
            "justify_content": null,
            "justify_items": null,
            "left": null,
            "margin": null,
            "max_height": null,
            "max_width": null,
            "min_height": null,
            "min_width": null,
            "object_fit": null,
            "object_position": null,
            "order": null,
            "overflow": null,
            "overflow_x": null,
            "overflow_y": null,
            "padding": null,
            "right": null,
            "top": null,
            "visibility": null,
            "width": null
          }
        },
        "ea9b31db82754ff8859872e84a549918": {
          "model_module": "@jupyter-widgets/controls",
          "model_name": "DescriptionStyleModel",
          "model_module_version": "1.5.0",
          "state": {
            "_model_module": "@jupyter-widgets/controls",
            "_model_module_version": "1.5.0",
            "_model_name": "DescriptionStyleModel",
            "_view_count": null,
            "_view_module": "@jupyter-widgets/base",
            "_view_module_version": "1.2.0",
            "_view_name": "StyleView",
            "description_width": ""
          }
        },
        "7ae615e745514225bca0ed8150c478da": {
          "model_module": "@jupyter-widgets/base",
          "model_name": "LayoutModel",
          "model_module_version": "1.2.0",
          "state": {
            "_model_module": "@jupyter-widgets/base",
            "_model_module_version": "1.2.0",
            "_model_name": "LayoutModel",
            "_view_count": null,
            "_view_module": "@jupyter-widgets/base",
            "_view_module_version": "1.2.0",
            "_view_name": "LayoutView",
            "align_content": null,
            "align_items": null,
            "align_self": null,
            "border": null,
            "bottom": null,
            "display": null,
            "flex": null,
            "flex_flow": null,
            "grid_area": null,
            "grid_auto_columns": null,
            "grid_auto_flow": null,
            "grid_auto_rows": null,
            "grid_column": null,
            "grid_gap": null,
            "grid_row": null,
            "grid_template_areas": null,
            "grid_template_columns": null,
            "grid_template_rows": null,
            "height": null,
            "justify_content": null,
            "justify_items": null,
            "left": null,
            "margin": null,
            "max_height": null,
            "max_width": null,
            "min_height": null,
            "min_width": null,
            "object_fit": null,
            "object_position": null,
            "order": null,
            "overflow": null,
            "overflow_x": null,
            "overflow_y": null,
            "padding": null,
            "right": null,
            "top": null,
            "visibility": null,
            "width": null
          }
        },
        "bc44a35060c045bdb4200dfc5f0ddc84": {
          "model_module": "@jupyter-widgets/controls",
          "model_name": "ProgressStyleModel",
          "model_module_version": "1.5.0",
          "state": {
            "_model_module": "@jupyter-widgets/controls",
            "_model_module_version": "1.5.0",
            "_model_name": "ProgressStyleModel",
            "_view_count": null,
            "_view_module": "@jupyter-widgets/base",
            "_view_module_version": "1.2.0",
            "_view_name": "StyleView",
            "bar_color": null,
            "description_width": ""
          }
        },
        "9a2202cfb1b54102808fbe9f4743c3f0": {
          "model_module": "@jupyter-widgets/base",
          "model_name": "LayoutModel",
          "model_module_version": "1.2.0",
          "state": {
            "_model_module": "@jupyter-widgets/base",
            "_model_module_version": "1.2.0",
            "_model_name": "LayoutModel",
            "_view_count": null,
            "_view_module": "@jupyter-widgets/base",
            "_view_module_version": "1.2.0",
            "_view_name": "LayoutView",
            "align_content": null,
            "align_items": null,
            "align_self": null,
            "border": null,
            "bottom": null,
            "display": null,
            "flex": null,
            "flex_flow": null,
            "grid_area": null,
            "grid_auto_columns": null,
            "grid_auto_flow": null,
            "grid_auto_rows": null,
            "grid_column": null,
            "grid_gap": null,
            "grid_row": null,
            "grid_template_areas": null,
            "grid_template_columns": null,
            "grid_template_rows": null,
            "height": null,
            "justify_content": null,
            "justify_items": null,
            "left": null,
            "margin": null,
            "max_height": null,
            "max_width": null,
            "min_height": null,
            "min_width": null,
            "object_fit": null,
            "object_position": null,
            "order": null,
            "overflow": null,
            "overflow_x": null,
            "overflow_y": null,
            "padding": null,
            "right": null,
            "top": null,
            "visibility": null,
            "width": null
          }
        },
        "400163a38c3c4c40b9125653423e7da4": {
          "model_module": "@jupyter-widgets/controls",
          "model_name": "DescriptionStyleModel",
          "model_module_version": "1.5.0",
          "state": {
            "_model_module": "@jupyter-widgets/controls",
            "_model_module_version": "1.5.0",
            "_model_name": "DescriptionStyleModel",
            "_view_count": null,
            "_view_module": "@jupyter-widgets/base",
            "_view_module_version": "1.2.0",
            "_view_name": "StyleView",
            "description_width": ""
          }
        },
        "6904b7b8ffa745b3b7b26b81cc5a3f22": {
          "model_module": "@jupyter-widgets/controls",
          "model_name": "HBoxModel",
          "model_module_version": "1.5.0",
          "state": {
            "_dom_classes": [],
            "_model_module": "@jupyter-widgets/controls",
            "_model_module_version": "1.5.0",
            "_model_name": "HBoxModel",
            "_view_count": null,
            "_view_module": "@jupyter-widgets/controls",
            "_view_module_version": "1.5.0",
            "_view_name": "HBoxView",
            "box_style": "",
            "children": [
              "IPY_MODEL_20768bb1b7944ae29d1046b326143277",
              "IPY_MODEL_3c766de442c84f48b61708d4dd39e86d",
              "IPY_MODEL_1fbd07c7f7574c23b205cdd4f321f8c0"
            ],
            "layout": "IPY_MODEL_94d84c14d0b04e41abe07d1ea489f9fc"
          }
        },
        "20768bb1b7944ae29d1046b326143277": {
          "model_module": "@jupyter-widgets/controls",
          "model_name": "HTMLModel",
          "model_module_version": "1.5.0",
          "state": {
            "_dom_classes": [],
            "_model_module": "@jupyter-widgets/controls",
            "_model_module_version": "1.5.0",
            "_model_name": "HTMLModel",
            "_view_count": null,
            "_view_module": "@jupyter-widgets/controls",
            "_view_module_version": "1.5.0",
            "_view_name": "HTMLView",
            "description": "",
            "description_tooltip": null,
            "layout": "IPY_MODEL_69317c31ea1a433aa5bc903244ac91fe",
            "placeholder": "​",
            "style": "IPY_MODEL_48602b69aa154e69ba28c2979e87b185",
            "value": "100%"
          }
        },
        "3c766de442c84f48b61708d4dd39e86d": {
          "model_module": "@jupyter-widgets/controls",
          "model_name": "FloatProgressModel",
          "model_module_version": "1.5.0",
          "state": {
            "_dom_classes": [],
            "_model_module": "@jupyter-widgets/controls",
            "_model_module_version": "1.5.0",
            "_model_name": "FloatProgressModel",
            "_view_count": null,
            "_view_module": "@jupyter-widgets/controls",
            "_view_module_version": "1.5.0",
            "_view_name": "ProgressView",
            "bar_style": "",
            "description": "",
            "description_tooltip": null,
            "layout": "IPY_MODEL_d2325dc4219041a296979d4b35866079",
            "max": 284,
            "min": 0,
            "orientation": "horizontal",
            "style": "IPY_MODEL_4ccd0a8262d34c6ea2deaec9c69cf7d6",
            "value": 284
          }
        },
        "1fbd07c7f7574c23b205cdd4f321f8c0": {
          "model_module": "@jupyter-widgets/controls",
          "model_name": "HTMLModel",
          "model_module_version": "1.5.0",
          "state": {
            "_dom_classes": [],
            "_model_module": "@jupyter-widgets/controls",
            "_model_module_version": "1.5.0",
            "_model_name": "HTMLModel",
            "_view_count": null,
            "_view_module": "@jupyter-widgets/controls",
            "_view_module_version": "1.5.0",
            "_view_name": "HTMLView",
            "description": "",
            "description_tooltip": null,
            "layout": "IPY_MODEL_a4a23e0b87864339bf7568bda43ad159",
            "placeholder": "​",
            "style": "IPY_MODEL_b62d68a0de0c42198a480ad47baf3455",
            "value": " 284/284 [00:40&lt;00:00, 10.56it/s]"
          }
        },
        "94d84c14d0b04e41abe07d1ea489f9fc": {
          "model_module": "@jupyter-widgets/base",
          "model_name": "LayoutModel",
          "model_module_version": "1.2.0",
          "state": {
            "_model_module": "@jupyter-widgets/base",
            "_model_module_version": "1.2.0",
            "_model_name": "LayoutModel",
            "_view_count": null,
            "_view_module": "@jupyter-widgets/base",
            "_view_module_version": "1.2.0",
            "_view_name": "LayoutView",
            "align_content": null,
            "align_items": null,
            "align_self": null,
            "border": null,
            "bottom": null,
            "display": null,
            "flex": null,
            "flex_flow": null,
            "grid_area": null,
            "grid_auto_columns": null,
            "grid_auto_flow": null,
            "grid_auto_rows": null,
            "grid_column": null,
            "grid_gap": null,
            "grid_row": null,
            "grid_template_areas": null,
            "grid_template_columns": null,
            "grid_template_rows": null,
            "height": null,
            "justify_content": null,
            "justify_items": null,
            "left": null,
            "margin": null,
            "max_height": null,
            "max_width": null,
            "min_height": null,
            "min_width": null,
            "object_fit": null,
            "object_position": null,
            "order": null,
            "overflow": null,
            "overflow_x": null,
            "overflow_y": null,
            "padding": null,
            "right": null,
            "top": null,
            "visibility": null,
            "width": null
          }
        },
        "69317c31ea1a433aa5bc903244ac91fe": {
          "model_module": "@jupyter-widgets/base",
          "model_name": "LayoutModel",
          "model_module_version": "1.2.0",
          "state": {
            "_model_module": "@jupyter-widgets/base",
            "_model_module_version": "1.2.0",
            "_model_name": "LayoutModel",
            "_view_count": null,
            "_view_module": "@jupyter-widgets/base",
            "_view_module_version": "1.2.0",
            "_view_name": "LayoutView",
            "align_content": null,
            "align_items": null,
            "align_self": null,
            "border": null,
            "bottom": null,
            "display": null,
            "flex": null,
            "flex_flow": null,
            "grid_area": null,
            "grid_auto_columns": null,
            "grid_auto_flow": null,
            "grid_auto_rows": null,
            "grid_column": null,
            "grid_gap": null,
            "grid_row": null,
            "grid_template_areas": null,
            "grid_template_columns": null,
            "grid_template_rows": null,
            "height": null,
            "justify_content": null,
            "justify_items": null,
            "left": null,
            "margin": null,
            "max_height": null,
            "max_width": null,
            "min_height": null,
            "min_width": null,
            "object_fit": null,
            "object_position": null,
            "order": null,
            "overflow": null,
            "overflow_x": null,
            "overflow_y": null,
            "padding": null,
            "right": null,
            "top": null,
            "visibility": null,
            "width": null
          }
        },
        "48602b69aa154e69ba28c2979e87b185": {
          "model_module": "@jupyter-widgets/controls",
          "model_name": "DescriptionStyleModel",
          "model_module_version": "1.5.0",
          "state": {
            "_model_module": "@jupyter-widgets/controls",
            "_model_module_version": "1.5.0",
            "_model_name": "DescriptionStyleModel",
            "_view_count": null,
            "_view_module": "@jupyter-widgets/base",
            "_view_module_version": "1.2.0",
            "_view_name": "StyleView",
            "description_width": ""
          }
        },
        "d2325dc4219041a296979d4b35866079": {
          "model_module": "@jupyter-widgets/base",
          "model_name": "LayoutModel",
          "model_module_version": "1.2.0",
          "state": {
            "_model_module": "@jupyter-widgets/base",
            "_model_module_version": "1.2.0",
            "_model_name": "LayoutModel",
            "_view_count": null,
            "_view_module": "@jupyter-widgets/base",
            "_view_module_version": "1.2.0",
            "_view_name": "LayoutView",
            "align_content": null,
            "align_items": null,
            "align_self": null,
            "border": null,
            "bottom": null,
            "display": null,
            "flex": null,
            "flex_flow": null,
            "grid_area": null,
            "grid_auto_columns": null,
            "grid_auto_flow": null,
            "grid_auto_rows": null,
            "grid_column": null,
            "grid_gap": null,
            "grid_row": null,
            "grid_template_areas": null,
            "grid_template_columns": null,
            "grid_template_rows": null,
            "height": null,
            "justify_content": null,
            "justify_items": null,
            "left": null,
            "margin": null,
            "max_height": null,
            "max_width": null,
            "min_height": null,
            "min_width": null,
            "object_fit": null,
            "object_position": null,
            "order": null,
            "overflow": null,
            "overflow_x": null,
            "overflow_y": null,
            "padding": null,
            "right": null,
            "top": null,
            "visibility": null,
            "width": null
          }
        },
        "4ccd0a8262d34c6ea2deaec9c69cf7d6": {
          "model_module": "@jupyter-widgets/controls",
          "model_name": "ProgressStyleModel",
          "model_module_version": "1.5.0",
          "state": {
            "_model_module": "@jupyter-widgets/controls",
            "_model_module_version": "1.5.0",
            "_model_name": "ProgressStyleModel",
            "_view_count": null,
            "_view_module": "@jupyter-widgets/base",
            "_view_module_version": "1.2.0",
            "_view_name": "StyleView",
            "bar_color": null,
            "description_width": ""
          }
        },
        "a4a23e0b87864339bf7568bda43ad159": {
          "model_module": "@jupyter-widgets/base",
          "model_name": "LayoutModel",
          "model_module_version": "1.2.0",
          "state": {
            "_model_module": "@jupyter-widgets/base",
            "_model_module_version": "1.2.0",
            "_model_name": "LayoutModel",
            "_view_count": null,
            "_view_module": "@jupyter-widgets/base",
            "_view_module_version": "1.2.0",
            "_view_name": "LayoutView",
            "align_content": null,
            "align_items": null,
            "align_self": null,
            "border": null,
            "bottom": null,
            "display": null,
            "flex": null,
            "flex_flow": null,
            "grid_area": null,
            "grid_auto_columns": null,
            "grid_auto_flow": null,
            "grid_auto_rows": null,
            "grid_column": null,
            "grid_gap": null,
            "grid_row": null,
            "grid_template_areas": null,
            "grid_template_columns": null,
            "grid_template_rows": null,
            "height": null,
            "justify_content": null,
            "justify_items": null,
            "left": null,
            "margin": null,
            "max_height": null,
            "max_width": null,
            "min_height": null,
            "min_width": null,
            "object_fit": null,
            "object_position": null,
            "order": null,
            "overflow": null,
            "overflow_x": null,
            "overflow_y": null,
            "padding": null,
            "right": null,
            "top": null,
            "visibility": null,
            "width": null
          }
        },
        "b62d68a0de0c42198a480ad47baf3455": {
          "model_module": "@jupyter-widgets/controls",
          "model_name": "DescriptionStyleModel",
          "model_module_version": "1.5.0",
          "state": {
            "_model_module": "@jupyter-widgets/controls",
            "_model_module_version": "1.5.0",
            "_model_name": "DescriptionStyleModel",
            "_view_count": null,
            "_view_module": "@jupyter-widgets/base",
            "_view_module_version": "1.2.0",
            "_view_name": "StyleView",
            "description_width": ""
          }
        }
      }
    }
  },
  "nbformat": 4,
  "nbformat_minor": 0
}