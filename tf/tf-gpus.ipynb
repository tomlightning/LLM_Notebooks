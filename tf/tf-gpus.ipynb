{
 "cells": [
  {
   "cell_type": "code",
   "execution_count": 1,
   "id": "b8519370",
   "metadata": {
    "execution": {
     "iopub.execute_input": "2024-05-13T19:34:15.362701Z",
     "iopub.status.busy": "2024-05-13T19:34:15.362432Z",
     "iopub.status.idle": "2024-05-13T19:34:16.389560Z",
     "shell.execute_reply": "2024-05-13T19:34:16.388665Z"
    },
    "papermill": {
     "duration": 1.03376,
     "end_time": "2024-05-13T19:34:16.391745",
     "exception": false,
     "start_time": "2024-05-13T19:34:15.357985",
     "status": "completed"
    },
    "tags": []
   },
   "outputs": [
    {
     "name": "stdout",
     "output_type": "stream",
     "text": [
      "Mon May 13 19:34:16 2024       \r\n",
      "+---------------------------------------------------------------------------------------+\r\n",
      "| NVIDIA-SMI 535.129.03             Driver Version: 535.129.03   CUDA Version: 12.2     |\r\n",
      "|-----------------------------------------+----------------------+----------------------+\r\n",
      "| GPU  Name                 Persistence-M | Bus-Id        Disp.A | Volatile Uncorr. ECC |\r\n",
      "| Fan  Temp   Perf          Pwr:Usage/Cap |         Memory-Usage | GPU-Util  Compute M. |\r\n",
      "|                                         |                      |               MIG M. |\r\n",
      "|=========================================+======================+======================|\r\n",
      "|   0  Tesla T4                       Off | 00000000:00:04.0 Off |                    0 |\r\n",
      "| N/A   41C    P8               9W /  70W |      0MiB / 15360MiB |      0%      Default |\r\n",
      "|                                         |                      |                  N/A |\r\n",
      "+-----------------------------------------+----------------------+----------------------+\r\n",
      "|   1  Tesla T4                       Off | 00000000:00:05.0 Off |                    0 |\r\n",
      "| N/A   44C    P8              10W /  70W |      0MiB / 15360MiB |      0%      Default |\r\n",
      "|                                         |                      |                  N/A |\r\n",
      "+-----------------------------------------+----------------------+----------------------+\r\n",
      "                                                                                         \r\n",
      "+---------------------------------------------------------------------------------------+\r\n",
      "| Processes:                                                                            |\r\n",
      "|  GPU   GI   CI        PID   Type   Process name                            GPU Memory |\r\n",
      "|        ID   ID                                                             Usage      |\r\n",
      "|=======================================================================================|\r\n",
      "|  No running processes found                                                           |\r\n",
      "+---------------------------------------------------------------------------------------+\r\n"
     ]
    }
   ],
   "source": [
    "! nvidia-smi"
   ]
  },
  {
   "cell_type": "code",
   "execution_count": 2,
   "id": "b0bc6383",
   "metadata": {
    "execution": {
     "iopub.execute_input": "2024-05-13T19:34:16.400208Z",
     "iopub.status.busy": "2024-05-13T19:34:16.399911Z",
     "iopub.status.idle": "2024-05-13T19:34:27.606850Z",
     "shell.execute_reply": "2024-05-13T19:34:27.605822Z"
    },
    "papermill": {
     "duration": 11.213757,
     "end_time": "2024-05-13T19:34:27.609153",
     "exception": false,
     "start_time": "2024-05-13T19:34:16.395396",
     "status": "completed"
    },
    "tags": []
   },
   "outputs": [
    {
     "name": "stderr",
     "output_type": "stream",
     "text": [
      "2024-05-13 19:34:17.895287: E external/local_xla/xla/stream_executor/cuda/cuda_dnn.cc:9261] Unable to register cuDNN factory: Attempting to register factory for plugin cuDNN when one has already been registered\n",
      "2024-05-13 19:34:17.895424: E external/local_xla/xla/stream_executor/cuda/cuda_fft.cc:607] Unable to register cuFFT factory: Attempting to register factory for plugin cuFFT when one has already been registered\n",
      "2024-05-13 19:34:17.993907: E external/local_xla/xla/stream_executor/cuda/cuda_blas.cc:1515] Unable to register cuBLAS factory: Attempting to register factory for plugin cuBLAS when one has already been registered\n"
     ]
    },
    {
     "data": {
      "text/plain": [
       "'2.15.0'"
      ]
     },
     "execution_count": 2,
     "metadata": {},
     "output_type": "execute_result"
    }
   ],
   "source": [
    "import tensorflow as tf\n",
    "tf.__version__"
   ]
  },
  {
   "cell_type": "code",
   "execution_count": 3,
   "id": "70fbdd19",
   "metadata": {
    "execution": {
     "iopub.execute_input": "2024-05-13T19:34:27.617903Z",
     "iopub.status.busy": "2024-05-13T19:34:27.617392Z",
     "iopub.status.idle": "2024-05-13T19:34:27.806006Z",
     "shell.execute_reply": "2024-05-13T19:34:27.805090Z"
    },
    "papermill": {
     "duration": 0.195198,
     "end_time": "2024-05-13T19:34:27.807960",
     "exception": false,
     "start_time": "2024-05-13T19:34:27.612762",
     "status": "completed"
    },
    "tags": []
   },
   "outputs": [
    {
     "data": {
      "text/plain": [
       "[PhysicalDevice(name='/physical_device:CPU:0', device_type='CPU'),\n",
       " PhysicalDevice(name='/physical_device:GPU:0', device_type='GPU'),\n",
       " PhysicalDevice(name='/physical_device:GPU:1', device_type='GPU')]"
      ]
     },
     "execution_count": 3,
     "metadata": {},
     "output_type": "execute_result"
    }
   ],
   "source": [
    "tf.config.list_physical_devices()"
   ]
  },
  {
   "cell_type": "code",
   "execution_count": 4,
   "id": "c1e711a7",
   "metadata": {
    "execution": {
     "iopub.execute_input": "2024-05-13T19:34:27.816426Z",
     "iopub.status.busy": "2024-05-13T19:34:27.816125Z",
     "iopub.status.idle": "2024-05-13T19:34:27.821638Z",
     "shell.execute_reply": "2024-05-13T19:34:27.820828Z"
    },
    "papermill": {
     "duration": 0.011812,
     "end_time": "2024-05-13T19:34:27.823494",
     "exception": false,
     "start_time": "2024-05-13T19:34:27.811682",
     "status": "completed"
    },
    "tags": []
   },
   "outputs": [
    {
     "data": {
      "text/plain": [
       "[PhysicalDevice(name='/physical_device:GPU:0', device_type='GPU'),\n",
       " PhysicalDevice(name='/physical_device:GPU:1', device_type='GPU')]"
      ]
     },
     "execution_count": 4,
     "metadata": {},
     "output_type": "execute_result"
    }
   ],
   "source": [
    "tf.config.list_physical_devices('GPU')"
   ]
  },
  {
   "cell_type": "code",
   "execution_count": 5,
   "id": "78263f39",
   "metadata": {
    "_cell_guid": "b1076dfc-b9ad-4769-8c92-a6c4dae69d19",
    "_kg_hide-input": true,
    "_uuid": "8f2839f25d086af736a60e9eeb907d3b93b6e0e5",
    "execution": {
     "iopub.execute_input": "2024-05-13T19:34:27.831780Z",
     "iopub.status.busy": "2024-05-13T19:34:27.831507Z",
     "iopub.status.idle": "2024-05-13T19:34:27.836055Z",
     "shell.execute_reply": "2024-05-13T19:34:27.835293Z"
    },
    "papermill": {
     "duration": 0.010857,
     "end_time": "2024-05-13T19:34:27.837964",
     "exception": false,
     "start_time": "2024-05-13T19:34:27.827107",
     "status": "completed"
    },
    "tags": []
   },
   "outputs": [
    {
     "name": "stdout",
     "output_type": "stream",
     "text": [
      "Num GPUs Available:  2\n"
     ]
    }
   ],
   "source": [
    "\n",
    "print(\"Num GPUs Available: \", len(tf.config.list_physical_devices('GPU')))"
   ]
  },
  {
   "cell_type": "code",
   "execution_count": 6,
   "id": "64010429",
   "metadata": {
    "execution": {
     "iopub.execute_input": "2024-05-13T19:34:27.846598Z",
     "iopub.status.busy": "2024-05-13T19:34:27.846121Z",
     "iopub.status.idle": "2024-05-13T19:34:28.440296Z",
     "shell.execute_reply": "2024-05-13T19:34:28.439231Z"
    },
    "papermill": {
     "duration": 0.600715,
     "end_time": "2024-05-13T19:34:28.442318",
     "exception": false,
     "start_time": "2024-05-13T19:34:27.841603",
     "status": "completed"
    },
    "tags": []
   },
   "outputs": [
    {
     "name": "stdout",
     "output_type": "stream",
     "text": [
      "Executing op MatMul in device /job:localhost/replica:0/task:0/device:GPU:0\n",
      "tf.Tensor(\n",
      "[[22. 28.]\n",
      " [49. 64.]], shape=(2, 2), dtype=float32)\n"
     ]
    }
   ],
   "source": [
    "tf.debugging.set_log_device_placement(True)\n",
    "\n",
    "# Place tensors on the CPU\n",
    "with tf.device('/CPU:0'):\n",
    "  a = tf.constant([[1.0, 2.0, 3.0], [4.0, 5.0, 6.0]])\n",
    "  b = tf.constant([[1.0, 2.0], [3.0, 4.0], [5.0, 6.0]])\n",
    "\n",
    "# Run on the GPU\n",
    "c = tf.matmul(a, b)\n",
    "print(c)"
   ]
  },
  {
   "cell_type": "code",
   "execution_count": null,
   "id": "7a3df087",
   "metadata": {
    "papermill": {
     "duration": 0.003844,
     "end_time": "2024-05-13T19:34:28.450265",
     "exception": false,
     "start_time": "2024-05-13T19:34:28.446421",
     "status": "completed"
    },
    "tags": []
   },
   "outputs": [],
   "source": []
  },
  {
   "cell_type": "code",
   "execution_count": 7,
   "id": "01ea29d3",
   "metadata": {
    "execution": {
     "iopub.execute_input": "2024-05-13T19:34:28.459470Z",
     "iopub.status.busy": "2024-05-13T19:34:28.459052Z",
     "iopub.status.idle": "2024-05-13T19:34:28.757178Z",
     "shell.execute_reply": "2024-05-13T19:34:28.756286Z"
    },
    "papermill": {
     "duration": 0.30488,
     "end_time": "2024-05-13T19:34:28.759177",
     "exception": false,
     "start_time": "2024-05-13T19:34:28.454297",
     "status": "completed"
    },
    "tags": []
   },
   "outputs": [
    {
     "name": "stdout",
     "output_type": "stream",
     "text": [
      "Executing op _EagerConst in device /job:localhost/replica:0/task:0/device:GPU:1\n",
      "Executing op _EagerConst in device /job:localhost/replica:0/task:0/device:GPU:1\n",
      "Executing op MatMul in device /job:localhost/replica:0/task:0/device:GPU:1\n"
     ]
    }
   ],
   "source": [
    "tf.debugging.set_log_device_placement(True)\n",
    "\n",
    "try:\n",
    "  # Specify an invalid GPU device\n",
    "  with tf.device('/device:GPU:1'):\n",
    "    a = tf.constant([[1.0, 2.0, 3.0], [4.0, 5.0, 6.0]])\n",
    "    b = tf.constant([[1.0, 2.0], [3.0, 4.0], [5.0, 6.0]])\n",
    "    c = tf.matmul(a, b)\n",
    "except RuntimeError as e:\n",
    "  print(e)"
   ]
  },
  {
   "cell_type": "code",
   "execution_count": 8,
   "id": "f618747d",
   "metadata": {
    "execution": {
     "iopub.execute_input": "2024-05-13T19:34:28.768996Z",
     "iopub.status.busy": "2024-05-13T19:34:28.768695Z",
     "iopub.status.idle": "2024-05-13T19:34:28.787550Z",
     "shell.execute_reply": "2024-05-13T19:34:28.786554Z"
    },
    "papermill": {
     "duration": 0.025992,
     "end_time": "2024-05-13T19:34:28.789553",
     "exception": false,
     "start_time": "2024-05-13T19:34:28.763561",
     "status": "completed"
    },
    "tags": []
   },
   "outputs": [
    {
     "name": "stdout",
     "output_type": "stream",
     "text": [
      "Executing op _EagerConst in device /job:localhost/replica:0/task:0/device:GPU:0\n",
      "Executing op _EagerConst in device /job:localhost/replica:0/task:0/device:GPU:0\n",
      "Executing op MatMul in device /job:localhost/replica:0/task:0/device:GPU:0\n",
      "Executing op _EagerConst in device /job:localhost/replica:0/task:0/device:GPU:1\n",
      "Executing op _EagerConst in device /job:localhost/replica:0/task:0/device:GPU:1\n",
      "Executing op MatMul in device /job:localhost/replica:0/task:0/device:GPU:1\n",
      "Executing op AddN in device /job:localhost/replica:0/task:0/device:CPU:0\n",
      "tf.Tensor(\n",
      "[[ 44.  56.]\n",
      " [ 98. 128.]], shape=(2, 2), dtype=float32)\n"
     ]
    }
   ],
   "source": [
    "tf.debugging.set_log_device_placement(True)\n",
    "\n",
    "gpus = tf.config.list_logical_devices('GPU')\n",
    "if gpus:\n",
    "  # Replicate your computation on multiple GPUs\n",
    "  c = []\n",
    "  for gpu in gpus:\n",
    "    with tf.device(gpu.name):\n",
    "      a = tf.constant([[1.0, 2.0, 3.0], [4.0, 5.0, 6.0]])\n",
    "      b = tf.constant([[1.0, 2.0], [3.0, 4.0], [5.0, 6.0]])\n",
    "      c.append(tf.matmul(a, b))\n",
    "\n",
    "  with tf.device('/CPU:0'):\n",
    "    matmul_sum = tf.add_n(c)\n",
    "\n",
    "  print(matmul_sum)"
   ]
  }
 ],
 "metadata": {
  "kaggle": {
   "accelerator": "nvidiaTeslaT4",
   "dataSources": [],
   "dockerImageVersionId": 30699,
   "isGpuEnabled": true,
   "isInternetEnabled": false,
   "language": "python",
   "sourceType": "notebook"
  },
  "kernelspec": {
   "display_name": "Python 3",
   "language": "python",
   "name": "python3"
  },
  "language_info": {
   "codemirror_mode": {
    "name": "ipython",
    "version": 3
   },
   "file_extension": ".py",
   "mimetype": "text/x-python",
   "name": "python",
   "nbconvert_exporter": "python",
   "pygments_lexer": "ipython3",
   "version": "3.10.13"
  },
  "papermill": {
   "default_parameters": {},
   "duration": 17.641098,
   "end_time": "2024-05-13T19:34:30.415845",
   "environment_variables": {},
   "exception": null,
   "input_path": "__notebook__.ipynb",
   "output_path": "__notebook__.ipynb",
   "parameters": {},
   "start_time": "2024-05-13T19:34:12.774747",
   "version": "2.5.0"
  }
 },
 "nbformat": 4,
 "nbformat_minor": 5
}
