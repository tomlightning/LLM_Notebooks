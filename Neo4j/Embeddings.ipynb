{
 "cells": [
  {
   "cell_type": "markdown",
   "id": "ad43fb0d-692b-464a-9f6b-a86e74b8e562",
   "metadata": {},
   "source": [
    "# Neo4J GDS \n",
    "\n",
    "https://neo4j.com/docs/graph-data-science/current/machine-learning/node-embeddings/\n",
    "\n",
    "## Node embeddings\n",
    "\n",
    "Node embedding algorithms compute low-dimensional vector representations of nodes in a graph. These vectors, also called embeddings, can be used for machine learning. The Neo4j Graph Data Science library contains the following node embedding algorithms:\n",
    "\n",
    "#### Production Quaility\n",
    "- FastRP\n",
    "\n",
    "#### Beta\n",
    "- GraphSage\n",
    "- Node2Vec\n",
    "- HashGNN"
   ]
  },
  {
   "cell_type": "markdown",
   "id": "fad2cc76-650e-4c40-b3de-d59a6ac4b0b3",
   "metadata": {},
   "source": [
    "## Generalization across graphs\n",
    "Node embeddings are typically used as input to downstream machine learning tasks such as node classification, link prediction and kNN similarity graph construction.\n",
    "\n",
    "Often the graph used for constructing the embeddings and training the downstream model differs from the graph on which predictions are made. Compared to normal machine learning where we just have a stream of independent examples from some distribution, we now have graphs that are used to generate a set of labeled examples. Therefore, we must ensure that the set of training examples is representative of the set of labeled examples derived from the prediction graph. For this to work, certain things are required of the embedding algorithm, and we denote such algorithms as inductive"
   ]
  },
  {
   "attachments": {},
   "cell_type": "markdown",
   "id": "e3d4453f-2202-4d61-a7e2-8e67389df3a5",
   "metadata": {},
   "source": [
    "# FastRP\n",
    "\n",
    "https://neo4j.com/docs/graph-data-science/current/machine-learning/node-embeddings/fastrp/\n",
    "\n",
    "Fast Random Projection, or FastRP for short, is a node embedding algorithm in the family of random projection algorithms. These algorithms are theoretically backed by the Johnsson-Lindenstrauss lemma according to which one can project n vectors of arbitrary dimension into O(log(n)) dimensions and still approximately preserve pairwise distances among the points. In fact, a linear projection chosen in a random way satisfies this property.\n",
    "\n",
    "Such techniques therefore allow for aggressive dimensionality reduction while preserving most of the distance information. The FastRP algorithm operates on graphs, in which case we care about preserving similarity between nodes and their neighbors. This means that two nodes that have similar neighborhoods should be assigned similar embedding vectors. Conversely, two nodes that are not similar should be not be assigned similar embedding vectors.\n",
    "\n",
    "### Johnson–Lindenstrauss lemma\n",
    "https://en.wikipedia.org/wiki/Johnson%E2%80%93Lindenstrauss_lemma\n",
    "\n",
    "### Node properties\r\n",
    "Most real-world graphs contain node properties which store information about the nodes and what they represent. The FastRP algorithm in the GDS library extends the original FastRP algorithm with a capability to take node properties into account. The resulting embeddings can therefore represent the graph more accurately.\r\n",
    "\r\n",
    "The node property aware aspect of the algorithm is configured via the parameters featureProperties and propertyRatio. Each node property in featureProperties is associated with a randomly generated vector of dimension propertyDimension, where propertyDimension = embeddingDimension * propertyRatio. Each node is then initialized with a vector of size embeddingDimension formed by concatenation of two parts:\r\n",
    "\r\n",
    "The first part is formed like in the standard FastRP algorithm,\r\n",
    "\r\n",
    "The second one is a linear combination of the property vectors, using the property values of the node as weights.\r\n",
    "\r\n",
    "The algorithm then proceeds with the same logic as the FastRP algorithm. Therefore, the algorithm will output arrays of size embeddingDimension. The last propertyDimension coordinates in the embedding captures information about property values of nearby nodes (the \"property part\" below), and the remaining coordinates (embeddingDimension - propertyDimension of them; \"topology part\") captures information about nearby presence \n",
    "\n",
    "of nodes."
   ]
  },
  {
   "attachments": {
    "ac3e9371-f590-490b-b729-870525f17c13.png": {
     "image/png": "[encoded data removed]"
    }
   },
   "cell_type": "markdown",
   "id": "fda25bff-c6e6-4c91-b1ee-c45fd47b78d4",
   "metadata": {},
   "source": [
    "![image.png](attachment:ac3e9371-f590-490b-b729-870525f17c13.png)"
   ]
  },
  {
   "cell_type": "markdown",
   "id": "cbd34dca-5425-4e58-bb06-02c85f46fc7f",
   "metadata": {},
   "source": [
    "### Example\n",
    "https://colab.research.google.com/github/neo4j/graph-data-science-client/blob/main/examples/fastrp-and-knn.ipynb"
   ]
  },
  {
   "cell_type": "code",
   "execution_count": 1,
   "id": "bf6c6899-34d6-4629-afe9-549fdcf1bbf5",
   "metadata": {},
   "outputs": [
    {
     "name": "stdout",
     "output_type": "stream",
     "text": [
      "[{'n': {'altitude': 127, 'descr': 'Los Angeles International Airport', 'longest': 12091, 'iata': 'LAX', 'city': 'Los Angeles', 'icao': 'KLAX', 'location': POINT(-118.4079971 33.94250107), 'id': '13', 'pagerank': 8.193558075446687, 'runways': 4, 'region_airports': 1, 'country_airports': 1}}]\n"
     ]
    }
   ],
   "source": [
    "from langchain.graphs import Neo4jGraph\n",
    "\n",
    "graph = Neo4jGraph(\n",
    "    url=\"bolt://100.26.193.165:7687\",\n",
    "    username=\"neo4j\",\n",
    "    password=\"tie-rubbish-word\"\n",
    ")\n",
    "\n",
    "r = graph.query(\"\"\"MATCH (n:Airport {city:\"Los Angeles\"}) RETURN n\"\"\")\n",
    "print(r)"
   ]
  },
  {
   "cell_type": "code",
   "execution_count": 3,
   "id": "7a8e0685-1cd4-4a12-8e83-f3da258049cb",
   "metadata": {},
   "outputs": [
    {
     "name": "stdout",
     "output_type": "stream",
     "text": [
      "[{'nodeProjection': {'Airport': {'label': 'Airport', 'properties': {'country_airports': {'property': 'country_airports', 'defaultValue': None}, 'region_airports': {'property': 'region_airports', 'defaultValue': None}, 'pagerank': {'property': 'pagerank', 'defaultValue': None}, 'runways': {'property': 'runways', 'defaultValue': None}, 'altitude': {'property': 'altitude', 'defaultValue': None}, 'longest': {'property': 'longest', 'defaultValue': None}}}}, 'relationshipProjection': {'HAS_ROUTE': {'aggregation': 'DEFAULT', 'orientation': 'UNDIRECTED', 'indexInverse': False, 'properties': {'distance': {'aggregation': 'DEFAULT', 'property': 'distance', 'defaultValue': None}}, 'type': 'HAS_ROUTE'}}, 'graphName': 'Airports', 'nodeCount': 3503, 'relationshipCount': 92778, 'projectMillis': 500}]\n"
     ]
    }
   ],
   "source": [
    "r = graph.query(\"\"\"CALL gds.graph.project(\n",
    "    'Airports',\n",
    "    'Airport', \n",
    "    {\n",
    "    HAS_ROUTE:   {    \n",
    "        orientation: 'UNDIRECTED',\n",
    "        properties: 'distance'\n",
    "    }\n",
    "    }\n",
    "    ,\n",
    "   { nodeProperties: ['longest','country_airports','altitude', 'region_airports', 'pagerank', 'runways'] } \n",
    ");\"\"\")\n",
    "print(r)"
   ]
  },
  {
   "cell_type": "code",
   "execution_count": 4,
   "id": "b214b569-59fa-4ce4-a8c4-a916617479f6",
   "metadata": {},
   "outputs": [
    {
     "name": "stdout",
     "output_type": "stream",
     "text": [
      "[{'nodeCount': 3503, 'relationshipCount': 92778, 'bytesMin': 11097792, 'bytesMax': 11097792, 'requiredMemory': '10837 KiB'}]\n"
     ]
    }
   ],
   "source": [
    "r = graph.query(\"\"\"CALL gds.fastRP.stream.estimate('Airports', {embeddingDimension: 256})\n",
    "YIELD nodeCount, relationshipCount, bytesMin, bytesMax, requiredMemory\"\"\")\n",
    "print(r)"
   ]
  },
  {
   "cell_type": "code",
   "execution_count": 5,
   "id": "bee38355-b1ab-460e-8a64-396369c6f53c",
   "metadata": {},
   "outputs": [],
   "source": [
    "# unweighted\n",
    "r = graph.query(\"\"\"CALL gds.fastRP.stream('Airports',\n",
    "  {\n",
    "    embeddingDimension: 256,\n",
    "    randomSeed: 42\n",
    "  }\n",
    ")\n",
    "YIELD nodeId, embedding\n",
    "\"\"\")"
   ]
  },
  {
   "cell_type": "code",
   "execution_count": 8,
   "id": "6cfab2ba-b711-44aa-88bf-c3311b0a3a32",
   "metadata": {},
   "outputs": [
    {
     "name": "stdout",
     "output_type": "stream",
     "text": [
      "{'nodeId': 8627, 'embedding': [0.03484951704740524, -0.02616049163043499, -0.05085065960884094, -0.03925191983580589, 0.07475659996271133, -0.02048027142882347, 0.05792176350951195, -0.07685893774032593, 0.291058748960495, 0.08514612913131714, -0.15322786569595337, 0.059608981013298035, 0.0786915272474289, -0.08643384277820587, 0.0498017892241478, -0.22369259595870972, -0.05722637474536896, 0.18671193718910217, -0.10880599915981293, -0.18699537217617035, 0.07331272214651108, 0.03479019179940224, 0.11827300488948822, 0.09609447419643402, -0.12170525640249252, 0.06478095054626465, -0.004645588807761669, -0.2872890830039978, 0.058145053684711456, 0.11094865202903748, 0.10485120117664337, 0.023339737206697464, 0.1226349025964737, -0.07385698705911636, -0.019326893612742424, 0.06074300408363342, 0.06967775523662567, -0.0822642520070076, -0.12171635776758194, 0.052760809659957886, -0.020920224487781525, 0.14200058579444885, -0.05876987427473068, -0.11199477314949036, 0.06728161126375198, -0.11149613559246063, -0.07138033211231232, -0.02293381839990616, 0.22047537565231323, 0.11940283328294754, -0.03328326717019081, 0.02309495210647583, -0.21350349485874176, 0.03019801899790764, 0.03750638663768768, 0.07543721795082092, -0.022343887016177177, 0.0063071465119719505, -0.20690008997917175, -0.029543450102210045, 0.20483458042144775, -0.1616443544626236, -0.19502931833267212, 0.06683124601840973, -0.17175713181495667, -0.06785216927528381, -0.0620032399892807, 0.028537742793560028, 0.025780607014894485, -0.1134398877620697, 0.15309157967567444, 0.0288707185536623, -0.033898260444402695, 0.015073644928634167, -0.12774424254894257, 0.08404923230409622, -0.009831825271248817, 0.11641941219568253, 0.04506853222846985, 0.08496058732271194, 0.1349291205406189, -0.015223411843180656, 0.24291518330574036, 0.1985575258731842, 0.01414361223578453, 0.010027527809143066, -0.020594164729118347, -0.02208331786096096, 0.021963415667414665, 0.04358574375510216, -0.07077187299728394, 0.006976413540542126, 0.02792672999203205, 0.1737568974494934, 0.3070610761642456, 0.017808284610509872, 0.11908705532550812, -0.0880698636174202, -0.12458481639623642, 0.16137990355491638, -0.11524927616119385, -0.09343178570270538, 0.0653451532125473, 0.1896277666091919, 0.33199670910835266, 0.06458591669797897, 0.010182041674852371, 0.1472761034965515, 0.08273127675056458, -0.09243921935558319, 0.022211633622646332, -0.10431745648384094, 0.08343002200126648, 0.14286015927791595, 0.19363760948181152, -0.06156858056783676, -0.1117224469780922, 0.030690930783748627, 0.05407750979065895, 0.06820876151323318, 0.05355340987443924, 0.35362082719802856, 0.042199891060590744, 0.22937187552452087, -0.03429420292377472, -0.21689817309379578, 0.07533393055200577, 0.19016826152801514, 0.10490715503692627, -0.03971999138593674, -0.23806971311569214, -0.03694648668169975, 0.013958407565951347, -0.2554255425930023, 0.010277064517140388, -0.024211367592215538, 0.04510512202978134, -0.02345503680408001, -0.10205438733100891, 0.04488537460565567, -0.14147472381591797, 0.1178833395242691, -0.14468848705291748, 0.04857665300369263, -0.20789998769760132, 0.07755725085735321, -0.06650328636169434, -0.19756492972373962, -0.08911383897066116, 0.29432058334350586, -0.04911424219608307, -0.014031684026122093, -0.1069297343492508, -0.0020058404188603163, 0.15405595302581787, 0.04191922768950462, -0.008697106502950191, -0.026551123708486557, -0.14970695972442627, 0.08225499093532562, 0.0856805145740509, -0.021428856998682022, -0.19012591242790222, 0.15872493386268616, -0.11777915060520172, -0.046166591346263885, 0.07427053153514862, -0.029155919328331947, 0.29629307985305786, -0.03762988746166229, -0.15485289692878723, -0.02520044520497322, -0.013723311945796013, 0.005810169968754053, -0.27381598949432373, 0.10611481964588165, -0.0817907303571701, -0.09812001138925552, 0.015600143000483513, -0.0882614254951477, 0.0844583511352539, -0.19319233298301697, 0.0763188973069191, 0.00848471187055111, -0.04102984070777893, -0.05677753686904907, 0.06386347115039825, -0.09434884041547775, 0.16523919999599457, -0.03037051483988762, 0.11421007663011551, 0.1465541273355484, -0.1570882648229599, 0.11224611103534698, -0.06633175909519196, -0.10289371758699417, 0.14093714952468872, 0.0040627578273415565, 0.07322877645492554, -0.15622757375240326, -0.11493292450904846, -0.03865013271570206, -0.16429072618484497, -0.009213276207447052, 0.03832883760333061, 0.04199616611003876, 0.12221945822238922, -0.06171582639217377, -0.00895002018660307, 0.29377368092536926, 0.18487882614135742, -0.006406559608876705, -0.053355634212493896, 0.11926952004432678, -0.049266356974840164, -0.12987492978572845, 0.11086522042751312, -0.08317305147647858, 0.08110760152339935, 0.04993068054318428, -0.07603421807289124, 0.15204937756061554, -0.02571456879377365, 0.09824461489915848, -0.1021902784705162, 0.16423732042312622, -0.03694077581167221, -0.029545102268457413, -0.01230613049119711, -0.01830456592142582, -0.139646977186203, 0.15115594863891602, -0.2540162205696106, 0.027368251234292984, 0.05670160800218582, -0.15047365427017212, -0.11325806379318237, -0.10448114573955536, 0.11358636617660522, 0.01923469640314579, -0.061118632555007935, 0.1314965784549713, -0.06843124330043793, 0.045085929334163666, 0.08964528143405914, -0.03177234157919884, -0.15835562348365784, 0.0780477300286293, -0.16633111238479614, -0.09663869440555573, 0.2782391607761383, 0.13026197254657745, 0.19982795417308807, -0.0860031247138977, 0.23685184121131897, -0.010029454715549946]}\n"
     ]
    }
   ],
   "source": [
    "print(r[0])"
   ]
  },
  {
   "cell_type": "code",
   "execution_count": 9,
   "id": "1fd09ede-2e43-4365-abf1-6eb306320e00",
   "metadata": {},
   "outputs": [],
   "source": [
    "# weighted\n",
    "r = graph.query(\"\"\"CALL gds.fastRP.stream('Airports',\n",
    "  {\n",
    "    embeddingDimension: 256,\n",
    "    randomSeed: 42,\n",
    "    relationshipWeightProperty: 'distance'\n",
    "  }\n",
    ")\n",
    "YIELD nodeId, embedding\n",
    "\"\"\")"
   ]
  },
  {
   "cell_type": "code",
   "execution_count": 10,
   "id": "628c08f9-66f1-4f47-ae36-85773c3bc995",
   "metadata": {},
   "outputs": [
    {
     "name": "stdout",
     "output_type": "stream",
     "text": [
      "{'nodeId': 8627, 'embedding': [0.03580985218286514, -0.036011260002851486, 0.031647056341171265, 0.04367472231388092, 0.07375358045101166, -0.04210198298096657, 0.013596644625067711, -0.11564319580793381, 0.297812283039093, 0.07166710495948792, -0.09110728651285172, 0.17944592237472534, 0.08549007773399353, -0.14020967483520508, -0.11156188696622849, -0.13838014006614685, -0.019016234204173088, 0.1950339823961258, -0.0876714438199997, -0.10531874001026154, -0.012475626543164253, 0.10900287330150604, 0.024276835843920708, -0.01222410798072815, -0.18405857682228088, 0.07853298634290695, 0.06455501914024353, -0.18589136004447937, -0.027108311653137207, 0.07346668094396591, 0.18880373239517212, -0.010766295716166496, 0.12735310196876526, -0.2244969606399536, 0.023201650008559227, 0.11452081799507141, 0.14434504508972168, 0.007650021463632584, -0.13751119375228882, 0.14813318848609924, -0.09538495540618896, 0.16589194536209106, 0.05756119266152382, 0.02495419979095459, 0.13501812517642975, -0.07289832085371017, -0.060374826192855835, -0.1425143927335739, 0.2639356851577759, 0.04819905385375023, -0.1241707056760788, 0.041543565690517426, -0.17299258708953857, 0.011525463312864304, -0.06644213199615479, 0.04589235410094261, -0.06999917328357697, 0.06086896359920502, -0.24844220280647278, 0.06650473922491074, 0.21792209148406982, -0.16943393647670746, -0.04073980078101158, 0.014748239889740944, -0.22251828014850616, -0.06135163456201553, -0.13137373328208923, -0.007825116626918316, 0.07823313027620316, 0.0337093323469162, 0.16539260745048523, 0.06529901921749115, -0.10334157943725586, 0.1217065304517746, -0.12398754060268402, -0.01776616834104061, 0.08839377760887146, -0.0038009583950042725, 0.07463940232992172, 0.039479341357946396, 0.07743015140295029, -0.008368756622076035, 0.3242838978767395, 0.19534853100776672, 0.02551870048046112, -0.06053915247321129, -0.03656897693872452, -0.015974700450897217, 0.10691343247890472, 0.012062635272741318, -0.06838630884885788, 0.016015779227018356, 0.01849956437945366, 0.05450618267059326, 0.32425230741500854, 0.07387864589691162, 0.1718348264694214, -0.10676207393407822, -0.09632603079080582, 0.1095733791589737, -0.03173711895942688, 0.013961229473352432, -0.02710091508924961, 0.22879210114479065, 0.18795832991600037, 0.08826898038387299, 0.06569347530603409, 0.2054462879896164, 0.005991552025079727, -0.18229711055755615, 0.18610545992851257, -0.05312304571270943, 0.18853706121444702, 0.1500397026538849, 0.07150070369243622, -0.02797408029437065, -0.032728176563978195, 0.014257673174142838, 0.0784769356250763, 0.08953842520713806, 0.06640098989009857, 0.20648452639579773, 0.09902594983577728, 0.23710457980632782, -0.060688748955726624, -0.1836824119091034, 0.12638817727565765, 0.16943150758743286, 0.05753927677869797, -0.04215122014284134, -0.3296794295310974, -0.07142597436904907, 0.003816898912191391, -0.14841067790985107, 0.058962296694517136, -0.04446355998516083, 0.10636329650878906, -0.10153462737798691, -0.1193210557103157, 0.005106080323457718, -0.1270124614238739, 0.166409432888031, -0.13271638751029968, 0.09240478277206421, -0.2068125605583191, 0.043875802308321, -0.016354631632566452, -0.21101418137550354, -0.1185460239648819, 0.23176521062850952, -0.006812125910073519, 0.042024947702884674, -0.08534394949674606, 0.04496556520462036, 0.24221143126487732, 0.192140132188797, 0.15389986336231232, -0.013666290789842606, -0.19994492828845978, 0.014534021727740765, 0.18680980801582336, -0.11004453897476196, -0.10643834620714188, 0.14917126297950745, -0.1639874279499054, -0.009256526827812195, 0.04662381857633591, -0.02425730600953102, 0.18749459087848663, -0.09117689728736877, -0.3312724828720093, 0.09642501175403595, -0.024729158729314804, 0.01442931592464447, -0.16990512609481812, 0.06600131094455719, -0.10403928905725479, -0.0361107662320137, 0.0004142913967370987, -0.050980888307094574, 0.0034892596304416656, -0.10270600020885468, 0.18635118007659912, -0.047467660158872604, -0.11783310770988464, -0.0082169808447361, 0.006235234439373016, -0.06373343616724014, 0.11165693402290344, -0.027992915362119675, -0.01853334903717041, 0.12164893746376038, -0.08126865327358246, 0.12143311649560928, -0.07574602216482162, -0.023395951837301254, 0.18523910641670227, 0.009152736514806747, 0.22810402512550354, -0.06763108819723129, -0.17820104956626892, 0.017122449353337288, -0.08531296998262405, 0.08196155726909637, 0.05331139266490936, 0.10841405391693115, 0.01336853951215744, -0.052135441452264786, -0.06375271826982498, 0.2706143260002136, 0.10901399701833725, 0.08977995812892914, -0.07840032130479813, -0.02477453276515007, 0.05410173162817955, -0.08724386990070343, 0.07337073981761932, -0.016850467771291733, 0.0634600967168808, 0.02892371639609337, -0.05271456390619278, 0.15062838792800903, -0.10119864344596863, 0.07017798721790314, -0.026084542274475098, 0.22551503777503967, -0.023521006107330322, 0.02099256031215191, 0.042318373918533325, -0.019767411053180695, -0.08917754143476486, 0.06416890025138855, -0.23588067293167114, 0.09569021314382553, 0.04349730536341667, -0.09671811759471893, -0.0769537091255188, -0.046044494956731796, 0.12968142330646515, 0.02577037364244461, -0.015521278604865074, 0.05627017095685005, -0.11886271089315414, -0.0517476461827755, 0.09974279999732971, 0.08468040823936462, -0.06224159151315689, 0.10407336056232452, -0.21231570839881897, -0.08136000484228134, 0.24928611516952515, 0.12148766219615936, 0.17456594109535217, -0.022777175530791283, 0.24792954325675964, 0.023718886077404022]}\n"
     ]
    }
   ],
   "source": [
    "print(r[0])"
   ]
  },
  {
   "cell_type": "markdown",
   "id": "0d3e55b3-b715-48c6-9fe2-a9fd33b6c971",
   "metadata": {},
   "source": [
    "# GraphSAGE\n",
    "\n",
    "https://neo4j.com/docs/graph-data-science/current/machine-learning/node-embeddings/graph-sage/\n",
    "\n",
    "GraphSAGE is an inductive algorithm for computing node embeddings. GraphSAGE is using node feature information to generate node embeddings on unseen nodes or graphs. Instead of training individual embeddings for each node, the algorithm learns a function that generates embeddings by sampling and aggregating features from a node’s local neighborhood."
   ]
  },
  {
   "cell_type": "markdown",
   "id": "45260428-49c0-4d73-890d-4bad1917d0cf",
   "metadata": {},
   "source": [
    "# Node2Vec\n",
    "\n",
    "https://neo4j.com/docs/graph-data-science/current/machine-learning/node-embeddings/node2vec/\n",
    "\n",
    "Node2Vec is a node embedding algorithm that computes a vector representation of a node based on random walks in the graph. The neighborhood is sampled through random walks. Using a number of random neighborhood samples, the algorithm trains a single hidden layer neural network. The neural network is trained to predict the likelihood that a node will occur in a walk based on the occurrence of another node."
   ]
  },
  {
   "cell_type": "markdown",
   "id": "77e4d597-2217-4972-a7d1-d61c6f54cc37",
   "metadata": {},
   "source": [
    "# HashGNN\n",
    "\n",
    "https://neo4j.com/docs/graph-data-science/current/machine-learning/node-embeddings/hashgnn/\n",
    "\n",
    "HashGNN is a node embedding algorithm which resembles Graph Neural Networks (GNN) but does not include a model or require training. The neural networks of GNNs are replaced by random hash functions, in the flavor of the min-hash locality sensitive hashing. Thus, HashGNN combines ideas of GNNs and fast randomized algorithms.\r\n",
    "\r\n",
    "The GDS implementation of HashGNN is based on the paper \"Hashing-Accelerated Graph Neural Networks for Link Prediction\", and further introduces a few improvements and generalizations. The generalizations include support for embedding heterogeneous graphs; relationships of different types are associated with different hash functions, which allows for preserving relationship-typed graph topology. Moreover, a way to specify how much embeddings are updated using features from neighboring nodes versus features from the same node can be configured via neighborInfluence.\r\n",
    "\r\n",
    "The runtime of this algorithm is significantly lower than that of GNNs in general, but can still give comparable embedding quality for certain graphs as shown in the original paper. Moreover, the heterogeneous generalization also gives comparable results when compared to the paper \"Graph Transformer Networks\" when benchmarked on the same datasets."
   ]
  },
  {
   "cell_type": "code",
   "execution_count": null,
   "id": "8ad0e9b2-bcbc-467a-a975-f2866b3bdb3b",
   "metadata": {},
   "outputs": [],
   "source": []
  }
 ],
 "metadata": {
  "kernelspec": {
   "display_name": "Python (azure_ml)",
   "language": "python",
   "name": "azure_ml"
  },
  "language_info": {
   "codemirror_mode": {
    "name": "ipython",
    "version": 3
   },
   "file_extension": ".py",
   "mimetype": "text/x-python",
   "name": "python",
   "nbconvert_exporter": "python",
   "pygments_lexer": "ipython3",
   "version": "3.11.8"
  }
 },
 "nbformat": 4,
 "nbformat_minor": 5
}
