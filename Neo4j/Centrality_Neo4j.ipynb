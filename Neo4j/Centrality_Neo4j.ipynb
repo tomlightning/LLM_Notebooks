{
 "cells": [
  {
   "cell_type": "markdown",
   "id": "087b250b-77b4-41f0-9a28-56b9dc183542",
   "metadata": {},
   "source": [
    "# Neo4J GDS \n",
    "\n",
    "https://neo4j.com/docs/graph-data-science/current/algorithms/centrality/\n",
    "\n",
    "## Centrality\n",
    "Centrality algorithms are used to determine the importance of distinct nodes in a network. The Neo4j GDS library includes the following centrality algorithms, grouped by quality tier:\n",
    "\n",
    "## Production-quality\n",
    "\n",
    "- Article Rank\n",
    "<br>\n",
    "- Betweenness Centrality\n",
    "<br>\n",
    "- CELF\n",
    "<br>\n",
    "- Closeness Centrality\n",
    "<br>\n",
    "- Degree Centrality\n",
    "<br>\n",
    "- Eigenvector Centrality\n",
    "<br>\n",
    "- Page Rank\n",
    "\n",
    "IN Alpha\n",
    "\n",
    "Harmonic Centrality and HITS"
   ]
  },
  {
   "cell_type": "code",
   "execution_count": 1,
   "id": "f5c8ff27-3f6a-40db-a924-f473a15db898",
   "metadata": {},
   "outputs": [],
   "source": [
    "from dotenv import dotenv_values\n",
    "config = dotenv_values(\".env\")"
   ]
  },
  {
   "cell_type": "code",
   "execution_count": 61,
   "id": "b8fb7859-f7de-4263-9391-5e4dfeaf2f13",
   "metadata": {},
   "outputs": [
    {
     "name": "stdout",
     "output_type": "stream",
     "text": [
      "[{'n': {'altitude': 127, 'descr': 'Los Angeles International Airport', 'longest': 12091, 'iata': 'LAX', 'city': 'Los Angeles', 'icao': 'KLAX', 'location': POINT(-118.4079971 33.94250107), 'id': '13', 'pagerank': 8.193558075446687, 'runways': 4}}]\n"
     ]
    }
   ],
   "source": [
    "from langchain.graphs import Neo4jGraph\n",
    "\n",
    "graph = Neo4jGraph(\n",
    "    url=\"bolt://18.234.164.187:7687\",\n",
    "    username=\"neo4j\",\n",
    "    password=\"energies-hope-fuses\"\n",
    ")\n",
    "\n",
    "r = graph.query(\"\"\"MATCH (n:Airport {city:\"Los Angeles\"}) RETURN n\"\"\")\n",
    "print(r)"
   ]
  },
  {
   "cell_type": "markdown",
   "id": "7e6065db-6af1-42e4-ae22-8e1bb09a8087",
   "metadata": {},
   "source": [
    "# PageRank\n",
    "https://neo4j.com/docs/graph-data-science/current/algorithms/page-rank/\n",
    "\n",
    "The PageRank algorithm measures the importance of each node within the graph, based on the number incoming relationships and the importance of the corresponding source nodes. The underlying assumption roughly speaking is that a page is only as important as the pages that link to it.\n"
   ]
  },
  {
   "cell_type": "code",
   "execution_count": 3,
   "id": "0d9504af-233c-4190-a6e3-83dbbfe05ae7",
   "metadata": {},
   "outputs": [
    {
     "data": {
      "text/plain": [
       "'MATCH (m:Country)\\nremove m.num_airports\\nreturn m\\n'"
      ]
     },
     "execution_count": 3,
     "metadata": {},
     "output_type": "execute_result"
    }
   ],
   "source": [
    "# Remove Property\n",
    "\"\"\"MATCH (m:Country)\n",
    "remove m.num_airports\n",
    "return m\n",
    "\"\"\""
   ]
  },
  {
   "cell_type": "code",
   "execution_count": 62,
   "id": "d1a45cfe-9fb0-4f48-b8e8-cfc45a0fd986",
   "metadata": {},
   "outputs": [
    {
     "name": "stdout",
     "output_type": "stream",
     "text": [
      "3503\n"
     ]
    }
   ],
   "source": [
    "# create a new property in Country with the count of Airports in that country\n",
    "r = graph.query(\"\"\"MATCH (m:Country)\n",
    "OPTIONAL MATCH (p:Airport)-[r:IN_COUNTRY]->(m:Country)\n",
    "with  m,p, count(r) as num_airports\n",
    "set m.num_airports = num_airports\n",
    "set p.country_airports = num_airports\n",
    "return m\"\"\")\n",
    "print(len(r))"
   ]
  },
  {
   "cell_type": "code",
   "execution_count": 64,
   "id": "ab012921-365e-473d-adb0-ab667183c127",
   "metadata": {},
   "outputs": [
    {
     "name": "stdout",
     "output_type": "stream",
     "text": [
      "3503\n"
     ]
    }
   ],
   "source": [
    "# create a new property in Region with the count of Airports in that Region\n",
    "r = graph.query(\"\"\"MATCH (m:Region)\n",
    "OPTIONAL MATCH (p:Airport)-[r:IN_REGION]->(m:Region)\n",
    "with  m,p, count(r) as num_airports\n",
    "set m.num_airports = num_airports\n",
    "set p.region_airports = num_airports\n",
    "return m\"\"\")\n",
    "print(len(r))"
   ]
  },
  {
   "cell_type": "code",
   "execution_count": null,
   "id": "73c654ee-ba51-40b5-87b9-94ee8216d641",
   "metadata": {},
   "outputs": [],
   "source": [
    "# create attribute in Relationship IN_COUNTRY\n",
    "\"\"\"\n",
    "MATCH (p:Airport)-[r:HAS_ROUTE]->(m:Airport)\n",
    "with  r, p, m, p.region_airports as region_airports, p.country_airports as country_airports, p.runways as runways\n",
    "merge (p)-[:HAS_ROUTE_WEIGHT {weight : (region_airports* runways)/country_airports }]->(m) \n",
    "\n",
    "return p limit 25\n",
    "\"\"\""
   ]
  },
  {
   "cell_type": "code",
   "execution_count": 6,
   "id": "da3546ca-cdf6-4143-ac02-a034a6ee8c20",
   "metadata": {},
   "outputs": [],
   "source": [
    "# create Projection Num Airports"
   ]
  },
  {
   "cell_type": "code",
   "execution_count": null,
   "id": "34eed1e3-df97-45d3-ad21-6f512760546a",
   "metadata": {},
   "outputs": [],
   "source": [
    "# Call gds.graph.drop(\"Graph_Airports\")"
   ]
  },
  {
   "cell_type": "code",
   "execution_count": 138,
   "id": "e3e94b58-be2e-457c-8540-e1d54c98e9af",
   "metadata": {},
   "outputs": [
    {
     "name": "stdout",
     "output_type": "stream",
     "text": [
      "[{'nodeProjection': {'Airport': {'label': 'Airport', 'properties': {}}}, 'relationshipProjection': {'HAS_ROUTE_WEIGHT': {'aggregation': 'DEFAULT', 'orientation': 'NATURAL', 'indexInverse': False, 'properties': {'weight': {'aggregation': 'DEFAULT', 'property': 'weight', 'defaultValue': None}}, 'type': 'HAS_ROUTE_WEIGHT'}}, 'graphName': 'Graph_Airports', 'nodeCount': 3503, 'relationshipCount': 46389, 'projectMillis': 31}]\n"
     ]
    }
   ],
   "source": [
    "r = graph.query(\"\"\"CALL gds.graph.project(\n",
    "  'Graph_Airports',\n",
    "  'Airport',\n",
    "  'HAS_ROUTE_WEIGHT',\n",
    "  {\n",
    "    relationshipProperties: 'weight'\n",
    "  }\n",
    ")\"\"\")\n",
    "print(r)"
   ]
  },
  {
   "cell_type": "code",
   "execution_count": 66,
   "id": "28530eb3-0a1d-4828-b4df-885f407d2409",
   "metadata": {},
   "outputs": [
    {
     "data": {
      "text/plain": [
       "1"
      ]
     },
     "execution_count": 66,
     "metadata": {},
     "output_type": "execute_result"
    }
   ],
   "source": [
    "len(r)"
   ]
  },
  {
   "cell_type": "code",
   "execution_count": 139,
   "id": "bf23b0dc-6e1d-40f3-8708-c1563fb15e09",
   "metadata": {},
   "outputs": [
    {
     "data": {
      "text/plain": [
       "{'nodeProjection': {'Airport': {'label': 'Airport', 'properties': {}}},\n",
       " 'relationshipProjection': {'HAS_ROUTE_WEIGHT': {'aggregation': 'DEFAULT',\n",
       "   'orientation': 'NATURAL',\n",
       "   'indexInverse': False,\n",
       "   'properties': {'weight': {'aggregation': 'DEFAULT',\n",
       "     'property': 'weight',\n",
       "     'defaultValue': None}},\n",
       "   'type': 'HAS_ROUTE_WEIGHT'}},\n",
       " 'graphName': 'Graph_Airports',\n",
       " 'nodeCount': 3503,\n",
       " 'relationshipCount': 46389,\n",
       " 'projectMillis': 31}"
      ]
     },
     "execution_count": 139,
     "metadata": {},
     "output_type": "execute_result"
    }
   ],
   "source": [
    "r[-1]"
   ]
  },
  {
   "cell_type": "markdown",
   "id": "5bde34d8-22cb-43a8-9776-023b94374425",
   "metadata": {},
   "source": [
    "# Memory Estimation\r\n"
   ]
  },
  {
   "cell_type": "code",
   "execution_count": null,
   "id": "b3631374-7c01-4ee3-b0f9-604601d65021",
   "metadata": {},
   "outputs": [],
   "source": [
    "# Call gds.graph.drop(\"AirportGraph\")"
   ]
  },
  {
   "cell_type": "code",
   "execution_count": 140,
   "id": "9fb1bb13-e3b1-4de6-b960-ad4575e1db71",
   "metadata": {},
   "outputs": [
    {
     "name": "stdout",
     "output_type": "stream",
     "text": [
      "[{'nodeCount': 3503, 'relationshipCount': 46389, 'bytesMin': 85336, 'bytesMax': 85336, 'requiredMemory': '83 KiB'}]\n"
     ]
    }
   ],
   "source": [
    "r = graph.query(\"\"\"CALL gds.pageRank.write.estimate('Graph_Airports', {\n",
    "  writeProperty: 'pageRank_weight',\n",
    "  maxIterations: 20,\n",
    "  dampingFactor: 0.85\n",
    "})\n",
    "YIELD nodeCount, relationshipCount, bytesMin, bytesMax, requiredMemory\n",
    "\"\"\")\n",
    "\n",
    "print(r)"
   ]
  },
  {
   "cell_type": "markdown",
   "id": "91359f75-66f8-4f82-b5bf-07e8862f842e",
   "metadata": {},
   "source": [
    "# Run the algorithm in stream mode\n",
    "\n",
    "In the stream execution mode, the algorithm returns the score for each node. This allows us to inspect the results directly or post-process them in Cypher without any side effects. For example, we can order the results to find the nodes with the highest PageRank score."
   ]
  },
  {
   "cell_type": "code",
   "execution_count": 141,
   "id": "1ba4f185-d532-4b4c-846c-ee6f8d98d79a",
   "metadata": {},
   "outputs": [
    {
     "name": "stdout",
     "output_type": "stream",
     "text": [
      "[{'code': 'Dallas/Fort Worth International Airport', 'score': 11.97978260670334}, {'code': \"Chicago O'Hare International Airport\", 'score': 11.162988178920267}, {'code': 'Denver International Airport', 'score': 10.997299338126385}, {'code': 'Hartsfield - Jackson Atlanta International Airport', 'score': 10.389948350302957}, {'code': 'Istanbul International Airport', 'score': 8.425801217705782}]\n"
     ]
    }
   ],
   "source": [
    "# unweighted\n",
    "r = graph.query(\"\"\"CALL gds.pageRank.stream('Graph_Airports')\n",
    "YIELD nodeId, score\n",
    "RETURN gds.util.asNode(nodeId).descr AS code, score\n",
    "ORDER BY score DESC\"\"\")\n",
    "\n",
    "print(r[:5])"
   ]
  },
  {
   "cell_type": "code",
   "execution_count": 142,
   "id": "10b6c16d-3189-4206-ad76-f30e9addaef6",
   "metadata": {},
   "outputs": [
    {
     "data": {
      "text/plain": [
       "[{'code': 'Dallas/Fort Worth International Airport',\n",
       "  'score': 11.97978260670334},\n",
       " {'code': \"Chicago O'Hare International Airport\", 'score': 11.162988178920267},\n",
       " {'code': 'Denver International Airport', 'score': 10.997299338126385},\n",
       " {'code': 'Hartsfield - Jackson Atlanta International Airport',\n",
       "  'score': 10.389948350302957},\n",
       " {'code': 'Istanbul International Airport', 'score': 8.425801217705782}]"
      ]
     },
     "execution_count": 142,
     "metadata": {},
     "output_type": "execute_result"
    }
   ],
   "source": [
    "r[:5]"
   ]
  },
  {
   "cell_type": "markdown",
   "id": "5c552aeb-50a2-47bf-94d6-5cc96b75edfa",
   "metadata": {},
   "source": [
    "### Weighted\n",
    "By default, the algorithm is considering the relationships of the graph to be unweighted, to change this behaviour we can use configuration parameter called relationshipWeightProperty. In the weighted case, the previous score of a node send to its neighbors, is multiplied by the relationship weight and then divided by the sum of the weights of its outgoing relationships. If the value of the relationship property is negative it will be ignored during computation"
   ]
  },
  {
   "cell_type": "code",
   "execution_count": 127,
   "id": "f5e23170-d019-4b06-8d2b-1336ff58a35c",
   "metadata": {},
   "outputs": [
    {
     "name": "stdout",
     "output_type": "stream",
     "text": [
      "[{'code': 'Dallas/Fort Worth International Airport', 'score': 11.979782606703338}, {'code': \"Chicago O'Hare International Airport\", 'score': 11.162988178920267}, {'code': 'Denver International Airport', 'score': 10.997299338126385}, {'code': 'Hartsfield - Jackson Atlanta International Airport', 'score': 10.389948350302959}, {'code': 'Istanbul International Airport', 'score': 8.425801217705784}, {'code': 'Paris Charles de Gaulle', 'score': 8.401469085296544}, {'code': 'George Bush Intercontinental', 'score': 8.34114108524013}, {'code': 'Frankfurt am Main', 'score': 8.203204538770198}, {'code': 'Los Angeles International Airport', 'score': 8.193558075446688}, {'code': 'Charlotte Douglas International Airport', 'score': 7.873302960818333}, {'code': 'Amsterdam Airport Schiphol', 'score': 7.812313354381448}, {'code': 'Toronto Pearson International Airport', 'score': 7.378619943321167}, {'code': 'Minneapolis-St.Paul International Airport', 'score': 7.093881625001813}, {'code': 'Dubai International Airport', 'score': 6.977353791143903}, {'code': 'Munich International Airport', 'score': 6.900220506852598}, {'code': 'Newark, Liberty', 'score': 6.789103043084471}, {'code': 'Miami International Airport', 'score': 6.589204062549781}, {'code': 'New York John F. Kennedy International Airport', 'score': 6.5012739836172475}, {'code': 'Las Vegas Mc Carran', 'score': 6.333971354233901}, {'code': 'Johannesburg, OR Tambo International Airport', 'score': 6.234775406843103}, {'code': 'Stockholm-Arlanda Airport', 'score': 6.226211591218842}, {'code': 'London Gatwick', 'score': 6.126670317025154}, {'code': 'London Heathrow', 'score': 6.106808315820342}, {'code': 'Mexico City, Licenciado Benito Juarez International Airport', 'score': 6.1008358741580615}, {'code': 'Fort Lauderdale/Hollywood International Airport', 'score': 5.990039569972173}]\n"
     ]
    }
   ],
   "source": [
    "r = graph.query(\"\"\"CALL gds.pageRank.stream('Graph_Airports', {\n",
    "  maxIterations: 20,\n",
    "  dampingFactor: 0.85,\n",
    "  relationshipWeightProperty: 'weight'\n",
    "})\n",
    "YIELD nodeId, score\n",
    "RETURN gds.util.asNode(nodeId).descr AS code, score\n",
    "ORDER BY score DESC\n",
    "\n",
    "\"\"\")\n",
    "\n",
    "print(r[:25])"
   ]
  },
  {
   "cell_type": "markdown",
   "id": "af17fcb1-35df-48a4-bd36-beaf17119648",
   "metadata": {},
   "source": [
    "# Write the results\n",
    "If the results of the algorithm are as expected, the next step can be to write them back to the Neo4j database"
   ]
  },
  {
   "cell_type": "code",
   "execution_count": 82,
   "id": "d162ee66-471f-4053-b74a-6a4d1596ede3",
   "metadata": {},
   "outputs": [
    {
     "name": "stdout",
     "output_type": "stream",
     "text": [
      "[{'nodePropertiesWritten': 3503, 'ranIterations': 20}]\n"
     ]
    }
   ],
   "source": [
    "r = graph.query(\"\"\"CALL gds.pageRank.write('Graph_Airports', {\n",
    "  maxIterations: 20,\n",
    "  dampingFactor: 0.85,\n",
    "  writeProperty: 'pagerank_weight'\n",
    "})\n",
    "YIELD nodePropertiesWritten, ranIterations\n",
    "\"\"\")\n",
    "\n",
    "print(r)"
   ]
  },
  {
   "cell_type": "markdown",
   "id": "3d8df2f8-7d26-4e69-b3cf-494013c98e25",
   "metadata": {},
   "source": [
    " # Query the Neo4j database"
   ]
  },
  {
   "cell_type": "code",
   "execution_count": 143,
   "id": "b12e45c3-e97d-4c9a-b345-e9317af0f997",
   "metadata": {},
   "outputs": [
    {
     "name": "stdout",
     "output_type": "stream",
     "text": [
      "[{'n.pagerank_weight': 10.38994835030296, 'n.descr': 'Hartsfield - Jackson Atlanta International Airport'}, {'n.pagerank_weight': 2.651157253813937, 'n.descr': 'Anchorage Ted Stevens'}, {'n.pagerank_weight': 3.3970361709221706, 'n.descr': 'Austin Bergstrom International Airport'}, {'n.pagerank_weight': 2.913092915746176, 'n.descr': 'Nashville International Airport'}, {'n.pagerank_weight': 5.587850199484761, 'n.descr': 'Boston Logan'}, {'n.pagerank_weight': 3.3294218606289148, 'n.descr': 'Baltimore/Washington International Airport'}, {'n.pagerank_weight': 3.6967971368788204, 'n.descr': 'Ronald Reagan Washington National Airport'}, {'n.pagerank_weight': 11.979782606703338, 'n.descr': 'Dallas/Fort Worth International Airport'}, {'n.pagerank_weight': 5.990039569972173, 'n.descr': 'Fort Lauderdale/Hollywood International Airport'}, {'n.pagerank_weight': 5.825059084187616, 'n.descr': 'Washington Dulles International Airport'}]\n"
     ]
    }
   ],
   "source": [
    "r = graph.query(\"\"\"MATCH (n:Airport) RETURN n.pagerank_weight, n.descr LIMIT 10\n",
    "\"\"\")\n",
    "\n",
    "print(r)"
   ]
  },
  {
   "cell_type": "code",
   "execution_count": 144,
   "id": "f10e7733-902a-4ca7-9d15-bda0f3204a29",
   "metadata": {},
   "outputs": [
    {
     "name": "stdout",
     "output_type": "stream",
     "text": [
      "[{'graphName': 'Graph_Airports', 'database': 'neo4j', 'databaseLocation': 'local', 'memoryUsage': '', 'sizeInBytes': -1, 'nodeCount': 3503, 'relationshipCount': 46389, 'configuration': {'relationshipProjection': {'HAS_ROUTE_WEIGHT': {'aggregation': 'DEFAULT', 'orientation': 'NATURAL', 'indexInverse': False, 'properties': {'weight': {'aggregation': 'DEFAULT', 'property': 'weight', 'defaultValue': None}}, 'type': 'HAS_ROUTE_WEIGHT'}}, 'readConcurrency': 4, 'relationshipProperties': {}, 'nodeProperties': {}, 'jobId': 'a654b482-84d3-4fa8-9d64-a03f3e65c773', 'nodeProjection': {'Airport': {'label': 'Airport', 'properties': {}}}, 'logProgress': True, 'creationTime': neo4j.time.DateTime(2024, 4, 3, 20, 8, 18, 643827085, tzinfo=<UTC>), 'validateRelationships': False, 'sudo': False}, 'density': 0.0037814532146957986, 'creationTime': neo4j.time.DateTime(2024, 4, 3, 20, 8, 18, 643827085, tzinfo=<UTC>), 'modificationTime': neo4j.time.DateTime(2024, 4, 3, 20, 8, 18, 677384145, tzinfo=<UTC>), 'schema': {'graphProperties': {}, 'nodes': {'Airport': {}}, 'relationships': {'HAS_ROUTE_WEIGHT': {'weight': 'Float (DefaultValue(NaN), PERSISTENT, Aggregation.NONE)'}}}, 'schemaWithOrientation': {'graphProperties': {}, 'nodes': {'Airport': {}}, 'relationships': {'HAS_ROUTE_WEIGHT': {'direction': 'DIRECTED', 'properties': {'weight': 'Float (DefaultValue(NaN), PERSISTENT, Aggregation.NONE)'}}}}}]\n"
     ]
    }
   ],
   "source": [
    "r = graph.query(\"\"\"Call gds.graph.drop(\"Graph_Airports\")\"\"\")\n",
    "print(r)"
   ]
  },
  {
   "cell_type": "markdown",
   "id": "a4e164c3-844c-4fd6-97c8-bebcc8d9bb32",
   "metadata": {},
   "source": [
    "## Article Rank\n",
    "\n",
    "https://neo4j.com/docs/graph-data-science/current/algorithms/article-rank/\n",
    "\n",
    "ArticleRank is a variant of the Page Rank algorithm, which measures the transitive influence of nodes.\n",
    "\n",
    "Page Rank follows the assumption that relationships originating from low-degree nodes have a higher influence than relationships from high-degree nodes. Article Rank lowers the influence of low-degree nodes by lowering the scores being sent to their neighbors in each iteration."
   ]
  },
  {
   "cell_type": "code",
   "execution_count": 129,
   "id": "74d3d3de-4233-4b02-9efc-f1201d10bee5",
   "metadata": {},
   "outputs": [
    {
     "name": "stdout",
     "output_type": "stream",
     "text": [
      "[{'nodeProjection': {'Airport': {'label': 'Airport', 'properties': {}}}, 'relationshipProjection': {'HAS_ROUTE_WEIGHT': {'aggregation': 'DEFAULT', 'orientation': 'NATURAL', 'indexInverse': False, 'properties': {'weight': {'aggregation': 'DEFAULT', 'property': 'weight', 'defaultValue': None}}, 'type': 'HAS_ROUTE_WEIGHT'}}, 'graphName': 'Graph_Airports_AR', 'nodeCount': 3503, 'relationshipCount': 46389, 'projectMillis': 57}]\n"
     ]
    }
   ],
   "source": [
    "r = graph.query(\"\"\"CALL gds.graph.project(\n",
    "  'Graph_Airports_AR',\n",
    "  'Airport',\n",
    "  'HAS_ROUTE_WEIGHT',\n",
    "  {\n",
    "    relationshipProperties: 'weight'\n",
    "  }\n",
    ")\"\"\")\n",
    "print(r)"
   ]
  },
  {
   "cell_type": "code",
   "execution_count": 130,
   "id": "3e197807-b8c1-4d69-83bd-965e48b25af0",
   "metadata": {},
   "outputs": [
    {
     "name": "stdout",
     "output_type": "stream",
     "text": [
      "[{'nodeCount': 3503, 'relationshipCount': 46389, 'bytesMin': 85336, 'bytesMax': 85336, 'requiredMemory': '83 KiB'}]\n"
     ]
    }
   ],
   "source": [
    "r = graph.query(\"\"\"CALL gds.articleRank.write.estimate('Graph_Airports_AR', {\n",
    "  writeProperty: 'centrality',\n",
    "  maxIterations: 20\n",
    "})\n",
    "YIELD nodeCount, relationshipCount, bytesMin, bytesMax, requiredMemory\"\"\")\n",
    "print(r)"
   ]
  },
  {
   "cell_type": "code",
   "execution_count": 132,
   "id": "9d9eb75b-f63c-47d1-8467-a824020de36c",
   "metadata": {},
   "outputs": [
    {
     "name": "stdout",
     "output_type": "stream",
     "text": [
      "[{'name': \"Chicago O'Hare International Airport\", 'score': 1.8939755133996963}, {'name': 'Dallas/Fort Worth International Airport', 'score': 1.8904536902822802}, {'name': 'Frankfurt am Main', 'score': 1.8876473521634138}, {'name': 'Paris Charles de Gaulle', 'score': 1.84972402662708}, {'name': 'Hartsfield - Jackson Atlanta International Airport', 'score': 1.8030872573050167}, {'name': 'Amsterdam Airport Schiphol', 'score': 1.774709069851866}, {'name': 'Istanbul International Airport', 'score': 1.7638492155308716}, {'name': 'Munich International Airport', 'score': 1.6746206317067545}, {'name': 'Denver International Airport', 'score': 1.640439360372361}, {'name': 'Dubai International Airport', 'score': 1.5430537022298554}, {'name': 'George Bush Intercontinental', 'score': 1.4945608138148059}, {'name': 'Los Angeles International Airport', 'score': 1.4787718312744296}, {'name': 'London Gatwick', 'score': 1.4667146715720172}, {'name': 'Beijing Capital International Airport', 'score': 1.4405476482862223}, {'name': 'Charlotte Douglas International Airport', 'score': 1.4095678185707545}, {'name': 'London Stansted Airport', 'score': 1.3914761371141462}, {'name': 'London Heathrow', 'score': 1.3748093855460581}, {'name': 'Newark, Liberty', 'score': 1.3721982525418412}, {'name': 'Toronto Pearson International Airport', 'score': 1.367090134657747}, {'name': 'Manchester Airport', 'score': 1.360251292820508}, {'name': 'Miami International Airport', 'score': 1.3601813914205643}, {'name': 'New York John F. Kennedy International Airport', 'score': 1.3379536748998544}, {'name': 'Adolfo Suarez Barajas Airport International Airport', 'score': 1.30910121337824}, {'name': 'Dusseldorf International Airport', 'score': 1.2915827329948442}, {'name': 'Barcelona International Airport', 'score': 1.2874411431606665}]\n"
     ]
    }
   ],
   "source": [
    "r = graph.query(\"\"\"CALL gds.articleRank.stream('Graph_Airports_AR')\n",
    "YIELD nodeId, score\n",
    "RETURN gds.util.asNode(nodeId).descr AS name, score\n",
    "ORDER BY score DESC\"\"\")\n",
    "print(r[:25])"
   ]
  },
  {
   "cell_type": "code",
   "execution_count": null,
   "id": "8f8c0e87-9d02-4da1-aa7e-c84e3bfdaa96",
   "metadata": {},
   "outputs": [],
   "source": [
    "# Call gds.graph.drop(\"Graph_Airports\")"
   ]
  },
  {
   "cell_type": "code",
   "execution_count": 133,
   "id": "9c61aee1-1871-4c7f-8d41-2a0b7edc1b4a",
   "metadata": {},
   "outputs": [
    {
     "name": "stdout",
     "output_type": "stream",
     "text": [
      "[{'graphName': 'Graph_Airports_AR', 'database': 'neo4j', 'databaseLocation': 'local', 'memoryUsage': '', 'sizeInBytes': -1, 'nodeCount': 3503, 'relationshipCount': 46389, 'configuration': {'relationshipProjection': {'HAS_ROUTE_WEIGHT': {'aggregation': 'DEFAULT', 'orientation': 'NATURAL', 'indexInverse': False, 'properties': {'weight': {'aggregation': 'DEFAULT', 'property': 'weight', 'defaultValue': None}}, 'type': 'HAS_ROUTE_WEIGHT'}}, 'readConcurrency': 4, 'relationshipProperties': {}, 'nodeProperties': {}, 'jobId': 'a7c684a8-a969-42af-aef4-07b928443a86', 'nodeProjection': {'Airport': {'label': 'Airport', 'properties': {}}}, 'logProgress': True, 'creationTime': neo4j.time.DateTime(2024, 4, 3, 18, 58, 54, 198268154, tzinfo=<UTC>), 'validateRelationships': False, 'sudo': False}, 'density': 0.0037814532146957986, 'creationTime': neo4j.time.DateTime(2024, 4, 3, 18, 58, 54, 198268154, tzinfo=<UTC>), 'modificationTime': neo4j.time.DateTime(2024, 4, 3, 18, 58, 54, 256329738, tzinfo=<UTC>), 'schema': {'graphProperties': {}, 'nodes': {'Airport': {}}, 'relationships': {'HAS_ROUTE_WEIGHT': {'weight': 'Float (DefaultValue(NaN), PERSISTENT, Aggregation.NONE)'}}}, 'schemaWithOrientation': {'graphProperties': {}, 'nodes': {'Airport': {}}, 'relationships': {'HAS_ROUTE_WEIGHT': {'direction': 'DIRECTED', 'properties': {'weight': 'Float (DefaultValue(NaN), PERSISTENT, Aggregation.NONE)'}}}}}]\n"
     ]
    }
   ],
   "source": [
    "r = graph.query(\"\"\"Call gds.graph.drop(\"Graph_Airports_AR\")\"\"\")\n",
    "print(r)"
   ]
  },
  {
   "cell_type": "markdown",
   "id": "eb0bd359-9b36-4530-a72e-fb642b49cfb6",
   "metadata": {},
   "source": [
    "## Betweenness Centrality\n",
    "https://neo4j.com/docs/graph-data-science/current/algorithms/betweenness-centrality/\n",
    "\n",
    "Betweenness centrality is a way of detecting the amount of influence a node has over the flow of information in a graph. It is often used to find nodes that serve as a bridge from one part of a graph to another.\r\n",
    "\r\n",
    "The algorithm calculates shortest paths between all pairs of nodes in a graph. Each node receives a score, based on the number of shortest paths that pass through the node. Nodes that more frequently lie on shortest paths between other nodes will have higher betweenness centrality scores."
   ]
  },
  {
   "cell_type": "code",
   "execution_count": 145,
   "id": "955a4ffc-3d1d-4b83-9fe8-1320dd317578",
   "metadata": {},
   "outputs": [
    {
     "name": "stdout",
     "output_type": "stream",
     "text": [
      "[{'nodeProjection': {'Airport': {'label': 'Airport', 'properties': {}}}, 'relationshipProjection': {'HAS_ROUTE_WEIGHT': {'aggregation': 'DEFAULT', 'orientation': 'NATURAL', 'indexInverse': False, 'properties': {'weight': {'aggregation': 'DEFAULT', 'property': 'weight', 'defaultValue': None}}, 'type': 'HAS_ROUTE_WEIGHT'}}, 'graphName': 'Graph_Airports_BC', 'nodeCount': 3503, 'relationshipCount': 46389, 'projectMillis': 101}]\n"
     ]
    }
   ],
   "source": [
    "r = graph.query(\"\"\"CALL gds.graph.project(\n",
    "  'Graph_Airports_BC',\n",
    "  'Airport',\n",
    "  {HAS_ROUTE_WEIGHT:{properties: 'weight'}}\n",
    ")\"\"\")\n",
    "print(r)"
   ]
  },
  {
   "cell_type": "code",
   "execution_count": 146,
   "id": "12313491-9571-4b35-b8bd-7b8cab37002f",
   "metadata": {},
   "outputs": [
    {
     "name": "stdout",
     "output_type": "stream",
     "text": [
      "[{'nodeCount': 3503, 'relationshipCount': 46389, 'bytesMin': 2327664, 'bytesMax': 2327664, 'requiredMemory': '2273 KiB'}]\n"
     ]
    }
   ],
   "source": [
    "r = graph.query(\"\"\"CALL gds.betweenness.write.estimate('Graph_Airports_BC', { writeProperty: 'betweenness' })\n",
    "YIELD nodeCount, relationshipCount, bytesMin, bytesMax, requiredMemory\"\"\")\n",
    "print(r)"
   ]
  },
  {
   "cell_type": "code",
   "execution_count": 147,
   "id": "7e05d88c-b9ba-4fda-80b1-665555210004",
   "metadata": {},
   "outputs": [
    {
     "name": "stdout",
     "output_type": "stream",
     "text": [
      "[{'descr': 'Dubai International Airport', 'score': 390958.5850961311}, {'descr': 'Los Angeles International Airport', 'score': 368734.10410234286}, {'descr': 'Paris Charles de Gaulle', 'score': 365259.6507074962}, {'descr': 'Beijing Capital International Airport', 'score': 340393.582883937}, {'descr': 'Istanbul International Airport', 'score': 339441.88600743026}]\n"
     ]
    }
   ],
   "source": [
    "r = graph.query(\"\"\"CALL gds.betweenness.stream('Graph_Airports_BC')\n",
    "YIELD nodeId, score\n",
    "RETURN gds.util.asNode(nodeId).descr AS descr, score\n",
    "ORDER BY score DESC\"\"\")\n",
    "print(r[:5])"
   ]
  },
  {
   "cell_type": "code",
   "execution_count": 148,
   "id": "d4141c8c-c7fa-4ca2-bec0-5ec91f1d50dd",
   "metadata": {},
   "outputs": [
    {
     "name": "stdout",
     "output_type": "stream",
     "text": [
      "[{'graphName': 'Graph_Airports_BC', 'database': 'neo4j', 'databaseLocation': 'local', 'memoryUsage': '', 'sizeInBytes': -1, 'nodeCount': 3503, 'relationshipCount': 46389, 'configuration': {'relationshipProjection': {'HAS_ROUTE_WEIGHT': {'aggregation': 'DEFAULT', 'orientation': 'NATURAL', 'indexInverse': False, 'properties': {'weight': {'aggregation': 'DEFAULT', 'property': 'weight', 'defaultValue': None}}, 'type': 'HAS_ROUTE_WEIGHT'}}, 'readConcurrency': 4, 'relationshipProperties': {}, 'nodeProperties': {}, 'jobId': 'f3844e00-a841-4ac3-be1e-859888046097', 'nodeProjection': {'Airport': {'label': 'Airport', 'properties': {}}}, 'logProgress': True, 'creationTime': neo4j.time.DateTime(2024, 4, 3, 20, 23, 40, 544517750, tzinfo=<UTC>), 'validateRelationships': False, 'sudo': False}, 'density': 0.0037814532146957986, 'creationTime': neo4j.time.DateTime(2024, 4, 3, 20, 23, 40, 544517750, tzinfo=<UTC>), 'modificationTime': neo4j.time.DateTime(2024, 4, 3, 20, 23, 40, 647084331, tzinfo=<UTC>), 'schema': {'graphProperties': {}, 'nodes': {'Airport': {}}, 'relationships': {'HAS_ROUTE_WEIGHT': {'weight': 'Float (DefaultValue(NaN), PERSISTENT, Aggregation.NONE)'}}}, 'schemaWithOrientation': {'graphProperties': {}, 'nodes': {'Airport': {}}, 'relationships': {'HAS_ROUTE_WEIGHT': {'direction': 'DIRECTED', 'properties': {'weight': 'Float (DefaultValue(NaN), PERSISTENT, Aggregation.NONE)'}}}}}]\n"
     ]
    }
   ],
   "source": [
    "r = graph.query(\"\"\"Call gds.graph.drop(\"Graph_Airports_BC\")\"\"\")\n",
    "print(r)"
   ]
  },
  {
   "cell_type": "markdown",
   "id": "43248a63-8ab8-49dd-8278-8cc0250bf328",
   "metadata": {},
   "source": [
    "# CELF\n",
    "https://neo4j.com/docs/graph-data-science/current/algorithms/celf/\n",
    "\n",
    "The influence maximization problem asks for a set of k nodes that maximize the expected spread of influence in the network. The set of these initial k is called the seed set\n"
   ]
  },
  {
   "cell_type": "code",
   "execution_count": 100,
   "id": "98f79fd3-aab8-403d-b9b9-42b80ab17b96",
   "metadata": {},
   "outputs": [
    {
     "name": "stdout",
     "output_type": "stream",
     "text": [
      "[{'nodeProjection': {'Airport': {'label': 'Airport', 'properties': {}}}, 'relationshipProjection': {'HAS_ROUTE_WEIGHT': {'aggregation': 'DEFAULT', 'orientation': 'NATURAL', 'indexInverse': False, 'properties': {}, 'type': 'HAS_ROUTE_WEIGHT'}}, 'graphName': 'Graph_Airports_CELF', 'nodeCount': 3503, 'relationshipCount': 46389, 'projectMillis': 105}]\n"
     ]
    }
   ],
   "source": [
    "r = graph.query(\"\"\"CALL gds.graph.project(\n",
    "  'Graph_Airports_CELF',\n",
    "  'Airport',\n",
    "  'HAS_ROUTE_WEIGHT')\"\"\")\n",
    "print(r)"
   ]
  },
  {
   "cell_type": "code",
   "execution_count": 101,
   "id": "28231c3c-5e8b-4d68-9f6a-12d11d7ca5db",
   "metadata": {},
   "outputs": [
    {
     "name": "stdout",
     "output_type": "stream",
     "text": [
      "[{'nodeCount': 3503, 'relationshipCount': 46389, 'bytesMin': 257232, 'bytesMax': 257232, 'requiredMemory': '251 KiB'}]\n"
     ]
    }
   ],
   "source": [
    "r = graph.query(\"\"\"CALL gds.influenceMaximization.celf.write.estimate('Graph_Airports_CELF', {\n",
    "  writeProperty: 'spread',\n",
    "  seedSetSize: 3\n",
    "})\n",
    "YIELD nodeCount, relationshipCount, bytesMin, bytesMax, requiredMemory\"\"\")\n",
    "print(r)"
   ]
  },
  {
   "cell_type": "code",
   "execution_count": 103,
   "id": "1f4663c2-dff6-47ce-9b89-f971db5c47bd",
   "metadata": {},
   "outputs": [
    {
     "name": "stdout",
     "output_type": "stream",
     "text": [
      "[{'totalSpread': 1152.08}]\n"
     ]
    }
   ],
   "source": [
    "# In the stats execution mode, the algorithm returns a single row containing a summary of the algorithm result.\n",
    "r = graph.query(\"\"\"CALL gds.influenceMaximization.celf.stats('Graph_Airports_CELF', {seedSetSize: 3})\n",
    "YIELD totalSpread\"\"\")\n",
    "print(r)"
   ]
  },
  {
   "cell_type": "code",
   "execution_count": 105,
   "id": "7c7fa618-3e47-4622-b239-ac0d54195684",
   "metadata": {},
   "outputs": [
    {
     "name": "stdout",
     "output_type": "stream",
     "text": [
      "[{'name': 'Hartsfield - Jackson Atlanta International Airport', 'spread': 1143.31}, {'name': 'Dallas/Fort Worth International Airport', 'spread': 4.8900000000001}, {'name': 'Anchorage Ted Stevens', 'spread': 3.8799999999998818}]\n"
     ]
    }
   ],
   "source": [
    "# In the stats execution mode, the algorithm returns a single row containing a summary of the algorithm result.\n",
    "r = graph.query(\"\"\"CALL gds.influenceMaximization.celf.stream('Graph_Airports_CELF', {seedSetSize: 3})\n",
    "YIELD nodeId, spread\n",
    "RETURN gds.util.asNode(nodeId).descr AS name, spread\n",
    "ORDER BY spread DESC, name ASC\"\"\")\n",
    "print(r[:3])"
   ]
  },
  {
   "cell_type": "code",
   "execution_count": 106,
   "id": "6045b433-1f48-4e24-aed1-5254f3f03e1b",
   "metadata": {},
   "outputs": [
    {
     "name": "stdout",
     "output_type": "stream",
     "text": [
      "[{'graphName': 'Graph_Airports_CELF', 'database': 'neo4j', 'databaseLocation': 'local', 'memoryUsage': '', 'sizeInBytes': -1, 'nodeCount': 3503, 'relationshipCount': 46389, 'configuration': {'relationshipProjection': {'HAS_ROUTE_WEIGHT': {'aggregation': 'DEFAULT', 'orientation': 'NATURAL', 'indexInverse': False, 'properties': {}, 'type': 'HAS_ROUTE_WEIGHT'}}, 'readConcurrency': 4, 'relationshipProperties': {}, 'nodeProperties': {}, 'jobId': '6fc74ed9-ab99-4551-bb8c-8d8b16f7aee4', 'nodeProjection': {'Airport': {'label': 'Airport', 'properties': {}}}, 'logProgress': True, 'creationTime': neo4j.time.DateTime(2024, 4, 3, 17, 30, 12, 640343474, tzinfo=<UTC>), 'validateRelationships': False, 'sudo': False}, 'density': 0.0037814532146957986, 'creationTime': neo4j.time.DateTime(2024, 4, 3, 17, 30, 12, 640343474, tzinfo=<UTC>), 'modificationTime': neo4j.time.DateTime(2024, 4, 3, 17, 30, 12, 746903031, tzinfo=<UTC>), 'schema': {'graphProperties': {}, 'nodes': {'Airport': {}}, 'relationships': {'HAS_ROUTE_WEIGHT': {}}}, 'schemaWithOrientation': {'graphProperties': {}, 'nodes': {'Airport': {}}, 'relationships': {'HAS_ROUTE_WEIGHT': {'direction': 'DIRECTED', 'properties': {}}}}}]\n"
     ]
    }
   ],
   "source": [
    "r = graph.query(\"\"\"Call gds.graph.drop(\"Graph_Airports_CELF\")\"\"\")\n",
    "print(r)"
   ]
  },
  {
   "cell_type": "markdown",
   "id": "4a1093d3-ae76-4283-a7a2-78b928a40578",
   "metadata": {},
   "source": [
    "# Closeness Centrality\n",
    "https://neo4j.com/docs/graph-data-science/current/algorithms/closeness-centrality/\n",
    "\n",
    "Closeness centrality is a way of detecting nodes that are able to spread information very efficiently through a graph.\r\n",
    "\r\n",
    "The closeness centrality of a node measures its average farness (inverse distance) to all other nodes. Nodes with a high closeness score have the shortest distances to all other nodes.\r\n",
    "\r\n",
    "For each node u, the Closeness Centrality algorithm calculates the sum of its distances to all other nodes, based on calculating the shortest paths between all pairs of nodes. The resulting sum is then inverted to determine the closeness centrality score for that n\n",
    "ion\".ode."
   ]
  },
  {
   "cell_type": "markdown",
   "id": "e27615f5-bf35-4f48-8f9c-ff183b8ec254",
   "metadata": {},
   "source": [
    "### Use-cases - when to use the Closeness Centrality algorithm\n",
    "- Closeness centrality is used to research organizational networks, where individuals with high closeness centrality are in a favourable position to control and acquire vital information and resources within the organization. One such study is \"Mapping Networks of Terrorist Cells\" by Valdis E. Krebs.\n",
    "\n",
    "- Closeness centrality can be interpreted as an estimated time of arrival of information flowing through telecommunications or package delivery networks where information flows through shortest paths to a predefined target. It can also be used in networks where information spreads through all shortest paths simultaneously, such as infection spreading through a social network. Find more details in \"Centrality and network flow\" by Stephen P. Borgatti.\n",
    "\n",
    "- Closeness centrality has been used to estimate the importance of words in a document, based on a graph-based keyphrase extraction process. This process is described by Florian Boudin in \"A Comparison of Centrality Measures for Graph-Based Keyphrase Extraction\"."
   ]
  },
  {
   "cell_type": "code",
   "execution_count": 149,
   "id": "39a59dee-cc7c-46d9-8f34-b4988842b5e7",
   "metadata": {},
   "outputs": [
    {
     "name": "stdout",
     "output_type": "stream",
     "text": [
      "[{'nodeProjection': {'Airport': {'label': 'Airport', 'properties': {}}}, 'relationshipProjection': {'HAS_ROUTE': {'aggregation': 'DEFAULT', 'orientation': 'NATURAL', 'indexInverse': False, 'properties': {}, 'type': 'HAS_ROUTE'}}, 'graphName': 'Graph_Airports_CC', 'nodeCount': 3503, 'relationshipCount': 92778, 'projectMillis': 31}]\n"
     ]
    }
   ],
   "source": [
    "r = graph.query(\"\"\"CALL gds.graph.project(\n",
    "  'Graph_Airports_CC',\n",
    "  'Airport',\n",
    "  'HAS_ROUTE')\"\"\")\n",
    "print(r)"
   ]
  },
  {
   "cell_type": "code",
   "execution_count": 150,
   "id": "6b596923-374e-4d14-86ef-4abe551d5f88",
   "metadata": {},
   "outputs": [
    {
     "name": "stdout",
     "output_type": "stream",
     "text": [
      "[{'descr': 'Paris Charles de Gaulle', 'score': 0.4843442084519378}, {'descr': 'Frankfurt am Main', 'score': 0.48212728857890147}, {'descr': 'London Heathrow', 'score': 0.4760060253927265}, {'descr': 'Amsterdam Airport Schiphol', 'score': 0.47539222007307114}, {'descr': 'Los Angeles International Airport', 'score': 0.46804909013965296}, {'descr': 'Dubai International Airport', 'score': 0.46686365555086534}, {'descr': 'New York John F. Kennedy International Airport', 'score': 0.46656823454967306}, {'descr': 'Munich International Airport', 'score': 0.46656823454967306}, {'descr': \"Chicago O'Hare International Airport\", 'score': 0.4633431085043988}, {'descr': 'Beijing Capital International Airport', 'score': 0.4598752598752599}, {'descr': 'Toronto Pearson International Airport', 'score': 0.45977967158594885}, {'descr': 'Newark, Liberty', 'score': 0.45806585214330087}, {'descr': 'Istanbul International Airport', 'score': 0.45693038628382565}, {'descr': 'Adolfo Suarez Barajas Airport International Airport', 'score': 0.4544894185329772}, {'descr': 'San Francisco International Airport', 'score': 0.45290745290745293}, {'descr': 'Doha, Hamad International Airport', 'score': 0.4525368248772504}, {'descr': 'Leonardo da Vinci-Fiumicino International Airport', 'score': 0.4519820187985288}, {'descr': 'Zurich-Kloten Airport', 'score': 0.4506009370543899}, {'descr': 'London Gatwick', 'score': 0.45014245014245013}, {'descr': 'Dallas/Fort Worth International Airport', 'score': 0.4497763318422123}, {'descr': 'George Bush Intercontinental', 'score': 0.4481361426256078}, {'descr': 'Hartsfield - Jackson Atlanta International Airport', 'score': 0.4461476401774909}, {'descr': 'Washington Dulles International Airport', 'score': 0.4429315178213857}, {'descr': 'Hong Kong - Chek Lap Kok International Airport', 'score': 0.4424}, {'descr': 'Barcelona International Airport', 'score': 0.44204636290967225}]\n"
     ]
    }
   ],
   "source": [
    "r = graph.query(\"\"\"CALL gds.closeness.stream('Graph_Airports_CC')\n",
    "YIELD nodeId, score\n",
    "RETURN gds.util.asNode(nodeId).descr AS descr, score\n",
    "ORDER BY score DESC\"\"\")\n",
    "print(r[:25])"
   ]
  },
  {
   "cell_type": "code",
   "execution_count": 151,
   "id": "eeacc08a-7c0b-4f89-97eb-d0bf74abbb92",
   "metadata": {},
   "outputs": [
    {
     "name": "stdout",
     "output_type": "stream",
     "text": [
      "[{'graphName': 'Graph_Airports_CC', 'database': 'neo4j', 'databaseLocation': 'local', 'memoryUsage': '', 'sizeInBytes': -1, 'nodeCount': 3503, 'relationshipCount': 92778, 'configuration': {'relationshipProjection': {'HAS_ROUTE': {'aggregation': 'DEFAULT', 'orientation': 'NATURAL', 'indexInverse': False, 'properties': {}, 'type': 'HAS_ROUTE'}}, 'readConcurrency': 4, 'relationshipProperties': {}, 'nodeProperties': {}, 'jobId': 'e8dda7fd-192b-4c9e-bd91-d30ae3df6f0e', 'nodeProjection': {'Airport': {'label': 'Airport', 'properties': {}}}, 'logProgress': True, 'creationTime': neo4j.time.DateTime(2024, 4, 3, 20, 27, 14, 749330454, tzinfo=<UTC>), 'validateRelationships': False, 'sudo': False}, 'density': 0.007562906429391597, 'creationTime': neo4j.time.DateTime(2024, 4, 3, 20, 27, 14, 749330454, tzinfo=<UTC>), 'modificationTime': neo4j.time.DateTime(2024, 4, 3, 20, 27, 14, 781587794, tzinfo=<UTC>), 'schema': {'graphProperties': {}, 'nodes': {'Airport': {}}, 'relationships': {'HAS_ROUTE': {}}}, 'schemaWithOrientation': {'graphProperties': {}, 'nodes': {'Airport': {}}, 'relationships': {'HAS_ROUTE': {'direction': 'DIRECTED', 'properties': {}}}}}]\n"
     ]
    }
   ],
   "source": [
    "r = graph.query(\"\"\"Call gds.graph.drop(\"Graph_Airports_CC\")\"\"\")\n",
    "print(r)"
   ]
  },
  {
   "cell_type": "markdown",
   "id": "9f1be08a-7491-413d-8b9a-278c2c5ce7dd",
   "metadata": {},
   "source": [
    "# Degree Centrality\n",
    "https://neo4j.com/docs/graph-data-science/current/algorithms/degree-centrality/\n",
    "\n",
    "The Degree Centrality algorithm can be used to find popular nodes within a graph. Degree centrality measures the number of incoming or outgoing (or both) relationships from a node, depending on the orientation of a relationship projection."
   ]
  },
  {
   "cell_type": "markdown",
   "id": "669740b3-b22a-4597-b810-562b47102cb8",
   "metadata": {},
   "source": [
    "The Degree Centrality algorithm has been shown to be useful in many different applications. For example:\n",
    "\n",
    "Degree centrality is an important component of any attempt to determine the most important people in a social network. For example, in BrandWatch’s most influential men and women on Twitter 2017 the top 5 people in each category have over 40m followers each, which is a lot higher than the average degree.\n",
    "\n",
    "Weighted degree centrality has been used to help separate fraudsters from legitimate users of an online auction. The weighted centrality for fraudsters is significantly higher because they tend to collude with each other to artificially increase the price of items. Read more in Two Step graph-based semi-supervised Learning for Online Auction Fraud Detection"
   ]
  },
  {
   "cell_type": "code",
   "execution_count": 157,
   "id": "898a3f64-f1ce-4b6b-bc5a-0e4eea585685",
   "metadata": {},
   "outputs": [
    {
     "name": "stdout",
     "output_type": "stream",
     "text": [
      "[{'nodeProjection': {'Airport': {'label': 'Airport', 'properties': {}}}, 'relationshipProjection': {'HAS_ROUTE': {'aggregation': 'DEFAULT', 'orientation': 'REVERSE', 'indexInverse': False, 'properties': {'distance': {'aggregation': 'DEFAULT', 'property': 'distance', 'defaultValue': None}}, 'type': 'HAS_ROUTE'}}, 'graphName': 'Graph_Airports_DC', 'nodeCount': 3503, 'relationshipCount': 92778, 'projectMillis': 142}]\n"
     ]
    }
   ],
   "source": [
    "r = graph.query(\"\"\"CALL gds.graph.project(\n",
    "  'Graph_Airports_DC',\n",
    "  'Airport',\n",
    "   {\n",
    "    HAS_ROUTE: {\n",
    "      orientation: 'REVERSE',\n",
    "      properties: ['distance']\n",
    "    }\n",
    "  }\n",
    ")\"\"\")\n",
    "print(r)"
   ]
  },
  {
   "cell_type": "code",
   "execution_count": 153,
   "id": "0079a03e-cb24-4fa3-b5cb-ad28710e5312",
   "metadata": {},
   "outputs": [
    {
     "name": "stdout",
     "output_type": "stream",
     "text": [
      "[{'nodeCount': 3503, 'relationshipCount': 92778, 'bytesMin': 64, 'bytesMax': 64, 'requiredMemory': '64 Bytes'}]\n"
     ]
    }
   ],
   "source": [
    "r = graph.query(\"\"\"CALL gds.degree.write.estimate('Graph_Airports_DC', { writeProperty: 'degree' })\n",
    "YIELD nodeCount, relationshipCount, bytesMin, bytesMax, requiredMemory\"\"\")\n",
    "print(r)"
   ]
  },
  {
   "cell_type": "code",
   "execution_count": 154,
   "id": "deff221e-213b-4208-83ba-4c1431fb18e6",
   "metadata": {},
   "outputs": [
    {
     "name": "stdout",
     "output_type": "stream",
     "text": [
      "[{'name': 'Frankfurt am Main', 'score': 606.0}, {'name': 'Paris Charles de Gaulle', 'score': 582.0}, {'name': 'Amsterdam Airport Schiphol', 'score': 560.0}, {'name': 'Istanbul International Airport', 'score': 536.0}, {'name': 'Munich International Airport', 'score': 530.0}, {'name': \"Chicago O'Hare International Airport\", 'score': 514.0}, {'name': 'Dallas/Fort Worth International Airport', 'score': 496.0}, {'name': 'Hartsfield - Jackson Atlanta International Airport', 'score': 484.0}, {'name': 'Dubai International Airport', 'score': 474.0}, {'name': 'London Gatwick', 'score': 452.0}]\n"
     ]
    }
   ],
   "source": [
    "# Unweigthed\n",
    "r = graph.query(\"\"\"CALL gds.degree.stream('Graph_Airports_DC')\n",
    "YIELD nodeId, score\n",
    "RETURN gds.util.asNode(nodeId).descr AS name, score AS score\n",
    "ORDER BY score DESC, name DESC\"\"\")\n",
    "print(r[:10])"
   ]
  },
  {
   "cell_type": "code",
   "execution_count": 115,
   "id": "5887cc02-4e30-4154-843b-3364f27ffcf1",
   "metadata": {},
   "outputs": [
    {
     "name": "stdout",
     "output_type": "stream",
     "text": [
      "[{'name': 'Paris Charles de Gaulle', 'score': 689778.0}, {'name': 'Frankfurt am Main', 'score': 684595.0}, {'name': 'Dubai International Airport', 'score': 635287.0}, {'name': 'Los Angeles International Airport', 'score': 610727.0}, {'name': 'London Heathrow', 'score': 600022.0}, {'name': 'Amsterdam Airport Schiphol', 'score': 596370.0}, {'name': 'New York John F. Kennedy International Airport', 'score': 562902.0}, {'name': 'Beijing Capital International Airport', 'score': 528600.0}, {'name': 'Istanbul International Airport', 'score': 513494.0}, {'name': 'Doha, Hamad International Airport', 'score': 485087.0}]\n"
     ]
    }
   ],
   "source": [
    "# Weighted Degree Centrality example\n",
    "r = graph.query(\"\"\"CALL gds.degree.stream('Graph_Airports_DC', { relationshipWeightProperty: 'distance' })\n",
    "YIELD nodeId, score\n",
    "RETURN gds.util.asNode(nodeId).descr AS name, score AS score\n",
    "ORDER BY score DESC, name DESC\"\"\")\n",
    "print(r[:10])"
   ]
  },
  {
   "cell_type": "code",
   "execution_count": 156,
   "id": "97d53ef5-59d8-4998-87fe-b9a51a9cc1f3",
   "metadata": {},
   "outputs": [
    {
     "name": "stdout",
     "output_type": "stream",
     "text": [
      "[{'graphName': 'Graph_Airports_DC', 'database': 'neo4j', 'databaseLocation': 'local', 'memoryUsage': '', 'sizeInBytes': -1, 'nodeCount': 3503, 'relationshipCount': 92778, 'configuration': {'relationshipProjection': {'HAS_ROUTE': {'aggregation': 'DEFAULT', 'orientation': 'REVERSE', 'indexInverse': False, 'properties': {'distance': {'aggregation': 'DEFAULT', 'property': 'distance', 'defaultValue': None}}, 'type': 'HAS_ROUTE'}}, 'readConcurrency': 4, 'relationshipProperties': {}, 'nodeProperties': {}, 'jobId': '670fd800-43af-4225-8f37-f2adf3565e94', 'nodeProjection': {'Airport': {'label': 'Airport', 'properties': {}}}, 'logProgress': True, 'creationTime': neo4j.time.DateTime(2024, 4, 3, 20, 28, 41, 8776300, tzinfo=<UTC>), 'validateRelationships': False, 'sudo': False}, 'density': 0.007562906429391597, 'creationTime': neo4j.time.DateTime(2024, 4, 3, 20, 28, 41, 8776300, tzinfo=<UTC>), 'modificationTime': neo4j.time.DateTime(2024, 4, 3, 20, 28, 41, 146646496, tzinfo=<UTC>), 'schema': {'graphProperties': {}, 'nodes': {'Airport': {}}, 'relationships': {'HAS_ROUTE': {'distance': 'Float (DefaultValue(NaN), PERSISTENT, Aggregation.NONE)'}}}, 'schemaWithOrientation': {'graphProperties': {}, 'nodes': {'Airport': {}}, 'relationships': {'HAS_ROUTE': {'direction': 'DIRECTED', 'properties': {'distance': 'Float (DefaultValue(NaN), PERSISTENT, Aggregation.NONE)'}}}}}]\n"
     ]
    }
   ],
   "source": [
    "r = graph.query(\"\"\"Call gds.graph.drop(\"Graph_Airports_DC\")\"\"\")\n",
    "print(r)"
   ]
  },
  {
   "cell_type": "markdown",
   "id": "f48baa2a-5836-442d-9171-585ec0ae8c00",
   "metadata": {},
   "source": [
    "# Eigenvector Centrality\n",
    "\n",
    "https://neo4j.com/docs/graph-data-science/current/algorithms/eigenvector-centrality/\n",
    "\n",
    "Eigenvector Centrality is an algorithm that measures the transitive influence of nodes. Relationships originating from high-scoring nodes contribute more to the score of a node than connections from low-scoring nodes. A high eigenvector score means that a node is connected to many nodes who themselves have high scores.\n",
    "\n",
    "    "
   ]
  },
  {
   "cell_type": "code",
   "execution_count": 117,
   "id": "0dfcd30c-673a-42cb-b863-754108ab0aab",
   "metadata": {},
   "outputs": [
    {
     "name": "stdout",
     "output_type": "stream",
     "text": [
      "[{'nodeProjection': {'Airport': {'label': 'Airport', 'properties': {}}}, 'relationshipProjection': {'HAS_ROUTE_WEIGHT': {'aggregation': 'DEFAULT', 'orientation': 'NATURAL', 'indexInverse': False, 'properties': {'weight': {'aggregation': 'DEFAULT', 'property': 'weight', 'defaultValue': None}}, 'type': 'HAS_ROUTE_WEIGHT'}}, 'graphName': 'Graph_Airports_EC', 'nodeCount': 3503, 'relationshipCount': 46389, 'projectMillis': 143}]\n"
     ]
    }
   ],
   "source": [
    "r = graph.query(\"\"\"CALL gds.graph.project(\n",
    "  'Graph_Airports_EC',\n",
    "  'Airport',\n",
    "  'HAS_ROUTE_WEIGHT',\n",
    "  {relationshipProperties: 'weight'}\n",
    ")\"\"\")\n",
    "print(r)"
   ]
  },
  {
   "cell_type": "code",
   "execution_count": 118,
   "id": "11479e46-4d2c-4f68-9dc9-aff8bf53a8fe",
   "metadata": {},
   "outputs": [
    {
     "name": "stdout",
     "output_type": "stream",
     "text": [
      "[{'nodeCount': 3503, 'relationshipCount': 46389, 'bytesMin': 85336, 'bytesMax': 85336, 'requiredMemory': '83 KiB'}]\n"
     ]
    }
   ],
   "source": [
    "r = graph.query(\"\"\"CALL gds.eigenvector.write.estimate('Graph_Airports_EC', {\n",
    "  writeProperty: 'centrality',\n",
    "  maxIterations: 20\n",
    "})\n",
    "YIELD nodeCount, relationshipCount, bytesMin, bytesMax, requiredMemory\"\"\")\n",
    "print(r)"
   ]
  },
  {
   "cell_type": "code",
   "execution_count": 119,
   "id": "bfa72def-e2bb-483a-8e28-fbbfb5c94aeb",
   "metadata": {},
   "outputs": [
    {
     "name": "stdout",
     "output_type": "stream",
     "text": [
      "[{'name': 'Frankfurt am Main', 'score': 0.1495017186916459}, {'name': 'Amsterdam Airport Schiphol', 'score': 0.1441701063262446}, {'name': 'Paris Charles de Gaulle', 'score': 0.14230832410157165}, {'name': 'Munich International Airport', 'score': 0.14145049423228861}, {'name': 'Leonardo da Vinci-Fiumicino International Airport', 'score': 0.12035136383222038}, {'name': 'Barcelona International Airport', 'score': 0.11995566418115934}, {'name': 'London Heathrow', 'score': 0.11936862692715622}, {'name': 'Adolfo Suarez Barajas Airport International Airport', 'score': 0.11933953567783778}, {'name': 'Vienna International Airport', 'score': 0.11921058374435377}, {'name': 'Manchester Airport', 'score': 0.11776363194734268}, {'name': 'London Gatwick', 'score': 0.11745830797344789}, {'name': 'Istanbul International Airport', 'score': 0.1153900648713748}, {'name': 'Copenhagen Kastrup Airport', 'score': 0.11524796935424696}, {'name': 'Berlin Brandenburg International Airport', 'score': 0.11448341553290273}, {'name': 'Brussels Airport', 'score': 0.11322121660377306}]\n"
     ]
    }
   ],
   "source": [
    "r = graph.query(\"\"\"CALL gds.eigenvector.stream('Graph_Airports_EC')\n",
    "YIELD nodeId, score\n",
    "RETURN gds.util.asNode(nodeId).descr AS name, score\n",
    "ORDER BY score DESC, name ASC\"\"\")\n",
    "print(r[:15])"
   ]
  },
  {
   "cell_type": "code",
   "execution_count": null,
   "id": "e4932bac-28aa-49c2-a028-4c5bff486369",
   "metadata": {},
   "outputs": [],
   "source": []
  }
 ],
 "metadata": {
  "kernelspec": {
   "display_name": "Python 3 (ipykernel)",
   "language": "python",
   "name": "python3"
  },
  "language_info": {
   "codemirror_mode": {
    "name": "ipython",
    "version": 3
   },
   "file_extension": ".py",
   "mimetype": "text/x-python",
   "name": "python",
   "nbconvert_exporter": "python",
   "pygments_lexer": "ipython3",
   "version": "3.11.8"
  }
 },
 "nbformat": 4,
 "nbformat_minor": 5
}
