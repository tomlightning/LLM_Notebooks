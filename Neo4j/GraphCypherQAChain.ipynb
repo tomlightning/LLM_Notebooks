{
 "cells": [
  {
   "cell_type": "markdown",
   "id": "81fa9a38-5552-42db-ae05-a2c483a1efbd",
   "metadata": {},
   "source": [
    "# Neo4J Openai Langchain quering Graph Database\n",
    "\n",
    "### GraphCypherQAChain\n",
    "https://api.python.langchain.com/en/latest/chains/langchain.chains.graph_qa.cypher.GraphCypherQAChain.html\n",
    "### Neo4jGraph\n",
    "https://python.langchain.com/docs/integrations/graphs/neo4j_cypher/\n",
    "\n",
    "### Integrations Langchain with Graph Databases\n",
    "\n",
    "https://python.langchain.com/docs/integrations/graphs/"
   ]
  },
  {
   "cell_type": "code",
   "execution_count": 1,
   "id": "139e47ce-920c-4ee5-8a1c-ee838e7acb53",
   "metadata": {},
   "outputs": [],
   "source": [
    "from dotenv import dotenv_values\n",
    "config = dotenv_values(\".env\")\n",
    "KEY_OPENAI = config.get(\"OPENAI_API_KEY\")"
   ]
  },
  {
   "cell_type": "code",
   "execution_count": 22,
   "id": "946dba09-82d8-4264-b50b-e4083457253d",
   "metadata": {},
   "outputs": [
    {
     "name": "stdout",
     "output_type": "stream",
     "text": [
      "\n",
      "\n",
      "\u001b[1m> Entering new GraphCypherQAChain chain...\u001b[0m\n",
      "Generated Cypher:\n",
      "\u001b[32;1m\u001b[1;3mMATCH (p:Person {name: \"Tom Hanks\"})-[:ACTED_IN]->(m:Movie)\n",
      "RETURN COUNT(m) as NumberOfMovies, COLLECT(m.title) as MovieList\u001b[0m\n",
      "Full Context:\n",
      "\u001b[32;1m\u001b[1;3m[{'NumberOfMovies': 12, 'MovieList': ['Apollo 13', \"You've Got Mail\", 'A League of Their Own', 'Joe Versus the Volcano', 'That Thing You Do', 'The Da Vinci Code', 'Cloud Atlas', 'Cast Away', 'The Green Mile', 'Sleepless in Seattle', 'The Polar Express', \"Charlie Wilson's War\"]}]\u001b[0m\n",
      "\n",
      "\u001b[1m> Finished chain.\u001b[0m\n"
     ]
    },
    {
     "data": {
      "text/plain": [
       "'Tom Hanks acted in 12 movies. The list includes \\'Apollo 13\\', \"You\\'ve Got Mail\", \\'A League of Their Own\\', \\'Joe Versus the Volcano\\', \\'That Thing You Do\\', \\'The Da Vinci Code\\', \\'Cloud Atlas\\', \\'Cast Away\\', \\'The Green Mile\\', \\'Sleepless in Seattle\\', \\'The Polar Express\\', and \"Charlie Wilson\\'s War\".'"
      ]
     },
     "execution_count": 22,
     "metadata": {},
     "output_type": "execute_result"
    }
   ],
   "source": [
    "from langchain_openai import ChatOpenAI\n",
    "from langchain.graphs import Neo4jGraph\n",
    "from langchain.chains import GraphCypherQAChain\n",
    "from langchain.prompts import PromptTemplate\n",
    "\n",
    "llm = ChatOpenAI(\n",
    "    openai_api_key=KEY_OPENAI,model =\"gpt-4\"\n",
    ")\n",
    "\n",
    "graph = Neo4jGraph(\n",
    "    url=\"bolt://18.232.137.29:7687\",\n",
    "    username=\"neo4j\",\n",
    "    password=\"counters-transport-tension\",\n",
    ")\n",
    "\n",
    "CYPHER_GENERATION_TEMPLATE = \"\"\"\n",
    "You are an expert Neo4j Developer translating user questions into Cypher to answer questions about movies and provide recommendations.\n",
    "Convert the user's question based on the schema.\n",
    "\n",
    "Schema: {schema}\n",
    "Question: {question}\n",
    "\"\"\"\n",
    "\n",
    "cypher_generation_prompt = PromptTemplate(\n",
    "    template=CYPHER_GENERATION_TEMPLATE,\n",
    "    input_variables=[\"schema\", \"question\"],\n",
    ")\n",
    "\n",
    "cypher_chain = GraphCypherQAChain.from_llm(\n",
    "    llm,\n",
    "    graph=graph,\n",
    "    cypher_prompt=cypher_generation_prompt,\n",
    "    verbose=True\n",
    ")\n",
    "\n",
    "cypher_chain.run(\"In which movies  acted Tom Hanks? return the number and a list of them\")"
   ]
  },
  {
   "cell_type": "code",
   "execution_count": 23,
   "id": "d1a45cfe-9fb0-4f48-b8e8-cfc45a0fd986",
   "metadata": {},
   "outputs": [
    {
     "name": "stdout",
     "output_type": "stream",
     "text": [
      "\n",
      "\n",
      "\u001b[1m> Entering new GraphCypherQAChain chain...\u001b[0m\n",
      "Generated Cypher:\n",
      "\u001b[32;1m\u001b[1;3mMATCH (p:Person {name: \"Meg Ryan\"})-[:ACTED_IN]->(m:Movie)\n",
      "RETURN COUNT(m) AS count, COLLECT(m.title) AS movies\u001b[0m\n",
      "Full Context:\n",
      "\u001b[32;1m\u001b[1;3m[{'count': 5, 'movies': ['Sleepless in Seattle', \"You've Got Mail\", 'Top Gun', 'When Harry Met Sally', 'Joe Versus the Volcano']}]\u001b[0m\n",
      "\n",
      "\u001b[1m> Finished chain.\u001b[0m\n"
     ]
    },
    {
     "data": {
      "text/plain": [
       "'Meg Ryan acted in 5 movies. These include \\'Sleepless in Seattle\\', \"You\\'ve Got Mail\", \\'Top Gun\\', \\'When Harry Met Sally\\', and \\'Joe Versus the Volcano\\'.'"
      ]
     },
     "execution_count": 23,
     "metadata": {},
     "output_type": "execute_result"
    }
   ],
   "source": [
    "cypher_chain.run(\"What movies did Meg Ryan act in? return the count and list of names\")"
   ]
  },
  {
   "cell_type": "code",
   "execution_count": 24,
   "id": "6bb2898f-e314-4e48-bed5-d15bc0228a37",
   "metadata": {},
   "outputs": [
    {
     "name": "stdout",
     "output_type": "stream",
     "text": [
      "\n",
      "\n",
      "\u001b[1m> Entering new GraphCypherQAChain chain...\u001b[0m\n",
      "Generated Cypher:\n",
      "\u001b[32;1m\u001b[1;3m\n",
      "MATCH (p:Person {name: 'Tom Hanks'})-[:DIRECTED]->(m:Movie)\n",
      "RETURN COUNT(m) AS TotalMoviesDirected, COLLECT(m.title) AS MovieTitles\n",
      "\u001b[0m\n",
      "Full Context:\n",
      "\u001b[32;1m\u001b[1;3m[{'TotalMoviesDirected': 1, 'MovieTitles': ['That Thing You Do']}]\u001b[0m\n",
      "\n",
      "\u001b[1m> Finished chain.\u001b[0m\n"
     ]
    },
    {
     "data": {
      "text/plain": [
       "\"Tom Hanks has directed 1 movie, which is titled 'That Thing You Do'.\""
      ]
     },
     "execution_count": 24,
     "metadata": {},
     "output_type": "execute_result"
    }
   ],
   "source": [
    "cypher_chain.run( \"How many movies has Tom Hanks directed? tell me as well the titles\")"
   ]
  },
  {
   "cell_type": "code",
   "execution_count": 25,
   "id": "f438f0b9-06e4-49d7-9be0-ff73b8974355",
   "metadata": {},
   "outputs": [
    {
     "name": "stdout",
     "output_type": "stream",
     "text": [
      "\n",
      "\n",
      "\u001b[1m> Entering new GraphCypherQAChain chain...\u001b[0m\n",
      "Generated Cypher:\n",
      "\u001b[32;1m\u001b[1;3mMATCH (p1:Person {name: 'Tom Hanks'})-[:ACTED_IN]->(m:Movie)<-[:ACTED_IN]-(p2:Person {name: 'Meg Ryan'})\n",
      "RETURN m.title\u001b[0m\n",
      "Full Context:\n",
      "\u001b[32;1m\u001b[1;3m[{'m.title': 'Sleepless in Seattle'}, {'m.title': \"You've Got Mail\"}, {'m.title': 'Joe Versus the Volcano'}]\u001b[0m\n",
      "\n",
      "\u001b[1m> Finished chain.\u001b[0m\n"
     ]
    },
    {
     "data": {
      "text/plain": [
       "'Tom Hanks and Meg Ryan acted together in \\'Sleepless in Seattle\\', \"You\\'ve Got Mail\", and \\'Joe Versus the Volcano\\'.'"
      ]
     },
     "execution_count": 25,
     "metadata": {},
     "output_type": "execute_result"
    }
   ],
   "source": [
    "cypher_chain.run( \"In which Movies acted Tom Hanks and Meg Ryan together?\")"
   ]
  },
  {
   "cell_type": "code",
   "execution_count": 26,
   "id": "a1a998f2-375a-4832-aae9-5ac6dbcd6f6d",
   "metadata": {},
   "outputs": [
    {
     "name": "stdout",
     "output_type": "stream",
     "text": [
      "\n",
      "\n",
      "\u001b[1m> Entering new GraphCypherQAChain chain...\u001b[0m\n",
      "Generated Cypher:\n",
      "\u001b[32;1m\u001b[1;3mMATCH (p:Person)-[:ACTED_IN]->(m:Movie)\n",
      "WHERE m.title = 'Top Gun'\n",
      "RETURN p.name\u001b[0m\n",
      "Full Context:\n",
      "\u001b[32;1m\u001b[1;3m[{'p.name': 'Val Kilmer'}, {'p.name': 'Meg Ryan'}, {'p.name': 'Tom Skerritt'}, {'p.name': 'Kelly McGillis'}, {'p.name': 'Tom Cruise'}, {'p.name': 'Anthony Edwards'}]\u001b[0m\n",
      "\n",
      "\u001b[1m> Finished chain.\u001b[0m\n"
     ]
    },
    {
     "data": {
      "text/plain": [
       "'Val Kilmer, Meg Ryan, Tom Skerritt, Kelly McGillis, Tom Cruise, and Anthony Edwards played in Top Gun.'"
      ]
     },
     "execution_count": 26,
     "metadata": {},
     "output_type": "execute_result"
    }
   ],
   "source": [
    "cypher_chain.run(\"Who played in Top Gun?\")"
   ]
  },
  {
   "cell_type": "code",
   "execution_count": 21,
   "id": "b08ac722-b8df-4978-a66e-2d3994e0efbf",
   "metadata": {},
   "outputs": [],
   "source": [
    "#cypher_chain.run(\"Who played in Top Gun Maverick?\")"
   ]
  },
  {
   "cell_type": "code",
   "execution_count": null,
   "id": "237965b5-b532-4d51-9166-8d2824c354d7",
   "metadata": {},
   "outputs": [],
   "source": []
  }
 ],
 "metadata": {
  "kernelspec": {
   "display_name": "Python 3 (ipykernel)",
   "language": "python",
   "name": "python3"
  },
  "language_info": {
   "codemirror_mode": {
    "name": "ipython",
    "version": 3
   },
   "file_extension": ".py",
   "mimetype": "text/x-python",
   "name": "python",
   "nbconvert_exporter": "python",
   "pygments_lexer": "ipython3",
   "version": "3.11.8"
  }
 },
 "nbformat": 4,
 "nbformat_minor": 5
}
