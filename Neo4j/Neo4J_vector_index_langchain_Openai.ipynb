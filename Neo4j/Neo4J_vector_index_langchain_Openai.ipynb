{
  "nbformat": 4,
  "nbformat_minor": 0,
  "metadata": {
    "colab": {
      "provenance": [],
      "authorship_tag": "ABX9TyP/8dAEfgoA8U8zJfbjKooK",
      "include_colab_link": true
    },
    "kernelspec": {
      "name": "python3",
      "display_name": "Python 3"
    },
    "language_info": {
      "name": "python"
    }
  },
  "cells": [
    {
      "cell_type": "markdown",
      "metadata": {
        "id": "view-in-github",
        "colab_type": "text"
      },
      "source": [
        "<a href=\"https://colab.research.google.com/github/olonok69/LLM_Notebooks/blob/main/Neo4j/Neo4J_vector_index_langchain_Openai.ipynb\" target=\"_parent\"><img src=\"https://colab.research.google.com/assets/colab-badge.svg\" alt=\"Open In Colab\"/></a>"
      ]
    },
    {
      "cell_type": "markdown",
      "source": [
        "# Neo4j as Vector Index\n",
        "\n",
        "https://python.langchain.com/docs/integrations/vectorstores/neo4jvector/\n",
        "\n",
        "- approximate nearest neighbor search\n",
        "- Euclidean similarity and cosine similarity\n",
        "- Hybrid search combining vector and keyword searches\n",
        "\n",
        "\n",
        "https://python.langchain.com/docs/integrations/document_loaders/wikipedia/\n",
        "\n",
        "Wikipedia is a multilingual free online encyclopedia written and maintained by a community of volunteers, known as Wikipedians, through open collaboration and using a wiki-based editing system called MediaWiki. Wikipedia is the largest and most-read reference work in history.\n",
        "\n",
        "\n",
        "https://python.langchain.com/docs/integrations/text_embedding/openai/\n",
        "\n",
        "Create embeddings with openai\n",
        "\n",
        "\n",
        "# RAG\n",
        "https://ai.meta.com/blog/retrieval-augmented-generation-streamlining-the-creation-of-intelligent-natural-language-processing-models/\n",
        "\n",
        "https://www.promptingguide.ai/techniques/rag\n",
        "\n",
        "RAG combines an information retrieval component with a text generator model. RAG can be fine-tuned and its internal knowledge can be modified in an efficient manner and without needing retraining of the entire model.\n",
        "\n",
        "RAG takes an input and retrieves a set of relevant/supporting documents given a source (e.g., Wikipedia). The documents are concatenated as context with the original input prompt and fed to the text generator which produces the final output. This makes RAG adaptive for situations where facts could evolve over time. This is very useful as LLMs's parametric knowledge is static. RAG allows language models to bypass retraining, enabling access to the latest information for generating reliable outputs via retrieval-based generation."
      ],
      "metadata": {
        "id": "YJeZigriGCU9"
      }
    },
    {
      "cell_type": "code",
      "execution_count": null,
      "metadata": {
        "id": "_mNhDjU2jXus"
      },
      "outputs": [],
      "source": [
        "!pip install langchain openai wikipedia tiktoken neo4j langchain_openai --quiet"
      ]
    },
    {
      "cell_type": "code",
      "source": [
        "import os\n",
        "\n",
        "from langchain_community.vectorstores.neo4j_vector import Neo4jVector\n",
        "from langchain.document_loaders import WikipediaLoader\n",
        "from langchain_openai import OpenAIEmbeddings\n",
        "from langchain.text_splitter import CharacterTextSplitter\n",
        "from langchain.docstore.document import Document"
      ],
      "metadata": {
        "id": "p2IL-46iloSw"
      },
      "execution_count": 3,
      "outputs": []
    },
    {
      "cell_type": "code",
      "source": [
        "from google.colab import userdata\n",
        "os.environ[\"OPENAI_API_KEY\"] = userdata.get('KEY_OPENAI')"
      ],
      "metadata": {
        "id": "AKqsEQoNloP3"
      },
      "execution_count": 4,
      "outputs": []
    },
    {
      "cell_type": "code",
      "source": [
        "topics= [\"Youtube\", \"Twitter\", \"Facebook\", \"Google\", \"Microsoft\", \"Neo4J\", \"Amazon\", \"Langchain\", \"python\", \"Whatsapp\"]"
      ],
      "metadata": {
        "id": "tf2k0abcBn5G"
      },
      "execution_count": 24,
      "outputs": []
    },
    {
      "cell_type": "code",
      "source": [
        "documents = []\n",
        "for topic in topics:\n",
        "  # Read the wikipedia article\n",
        "  raw_documents = WikipediaLoader(query=topic).load()\n",
        "  # Define chunking strategy\n",
        "  text_splitter = CharacterTextSplitter.from_tiktoken_encoder(\n",
        "      chunk_size=1000, chunk_overlap=20\n",
        "  )\n",
        "  # Chunk the document\n",
        "  docs = text_splitter.split_documents(raw_documents)\n",
        "  for d in docs:\n",
        "      del d.metadata[\"summary\"]\n",
        "  documents=documents + docs"
      ],
      "metadata": {
        "colab": {
          "base_uri": "https://localhost:8080/"
        },
        "id": "RxEW35sPloMY",
        "outputId": "8f190346-6678-4942-828f-991df6cce48c"
      },
      "execution_count": 25,
      "outputs": [
        {
          "output_type": "stream",
          "name": "stderr",
          "text": [
            "/usr/local/lib/python3.10/dist-packages/wikipedia/wikipedia.py:389: GuessedAtParserWarning: No parser was explicitly specified, so I'm using the best available HTML parser for this system (\"lxml\"). This usually isn't a problem, but if you run this code on another system, or in a different virtual environment, it may use a different parser and behave differently.\n",
            "\n",
            "The code that caused this warning is on line 389 of the file /usr/local/lib/python3.10/dist-packages/wikipedia/wikipedia.py. To get rid of this warning, pass the additional argument 'features=\"lxml\"' to the BeautifulSoup constructor.\n",
            "\n",
            "  lis = BeautifulSoup(html).find_all('li')\n"
          ]
        }
      ]
    },
    {
      "cell_type": "code",
      "source": [
        "len(documents)"
      ],
      "metadata": {
        "colab": {
          "base_uri": "https://localhost:8080/"
        },
        "id": "HyruhtkHloJE",
        "outputId": "e5f7c25f-c945-4023-a015-08e2cffa0f0f"
      },
      "execution_count": 26,
      "outputs": [
        {
          "output_type": "execute_result",
          "data": {
            "text/plain": [
              "232"
            ]
          },
          "metadata": {},
          "execution_count": 26
        }
      ]
    },
    {
      "cell_type": "code",
      "source": [
        "documents[0]"
      ],
      "metadata": {
        "colab": {
          "base_uri": "https://localhost:8080/"
        },
        "id": "lTFXQjd2pEeW",
        "outputId": "290ccd87-21bf-4636-83d8-69d980360c55"
      },
      "execution_count": 52,
      "outputs": [
        {
          "output_type": "execute_result",
          "data": {
            "text/plain": [
              "Document(page_content='YouTube is an American online video sharing platform owned by Google. Accessible worldwide, it was launched on February 14, 2005, by Steve Chen, Chad Hurley, and Jawed Karim, three former employees of PayPal. Headquartered in San Bruno, California, United States, it is the second most visited website in the world, after Google Search. YouTube has more than 2.5 billion monthly users, who collectively watch more than one billion hours of videos every day. As of May 2019, videos were being uploaded to the platform at a rate of more than 500 hours of content per minute, and as of 2021, there were approximately 14 billion videos in total.\\nIn October 2006, YouTube was purchased by Google for $1.65 billion (equivalent to $2.31 billion in 2023). Google expanded YouTube\\'s business model of generating revenue from advertisements alone, to offering paid content such as movies and exclusive content produced by and for YouTube. It also offers YouTube Premium, a paid subscription option for watching content without ads. YouTube incorporated Google\\'s AdSense program, generating more revenue for both YouTube and approved content creators. In 2022, YouTube\\'s annual advertising revenue increased to $29.2 billion, more than $9 billion higher than in 2020.\\nSince its purchase by Google, YouTube has expanded beyond the core website into mobile apps, network television, and the ability to link with other platforms. Video categories on YouTube include music videos, video clips, news, short and feature films, songs, documentaries, movie and teaser trailers, live streams, vlogs, and more. Most content is generated by individuals, including collaborations between \"YouTubers\" and corporate sponsors. Established media, news, and entertainment corporations have also created and expanded their visibility to YouTube channels in order to reach greater audiences.\\nYouTube has had unprecedented social impact, influencing popular culture, internet trends, and creating multimillionaire celebrities. Despite its growth and success, the platform is sometimes criticized for allegedly facilitating the spread of misinformation, the sharing of copyrighted content, routinely violating its users\\' privacy, enabling censorship, endangering child safety and wellbeing, and for its inconsistent or incorrect implementation of platform guidelines.\\n\\n\\n== History ==\\n\\n\\n=== Founding and initial growth (2005–2006) ===\\n\\nYouTube was founded by Steve Chen, Chad Hurley, and Jawed Karim. The trio were early employees of PayPal, which left them enriched after the company was bought by eBay. Hurley had studied design at the Indiana University of Pennsylvania, and Chen and Karim studied computer science together at the University of Illinois Urbana-Champaign.\\nAccording to a story that has often been repeated in the media, Hurley and Chen developed the idea for YouTube during the early months of 2005, after they had experienced difficulty sharing videos that had been shot at a dinner party at Chen\\'s apartment in San Francisco. Karim did not attend the party and denied that it had occurred, but Chen remarked that the idea that YouTube was founded after a dinner party \"was probably very strengthened by marketing ideas around creating a story that was very digestible\".\\nKarim said the inspiration for YouTube came from the Super Bowl XXXVIII halftime show controversy, when Janet Jackson\\'s breast was briefly exposed by Justin Timberlake during the halftime show. Karim could not easily find video clips of the incident and the 2004 Indian Ocean Tsunami online, which led to the idea of a video-sharing site. Hurley and Chen said that the original idea for YouTube was a video version of an online dating service and had been influenced by the website Hot or Not. They created posts on Craigslist asking attractive women to upload videos of themselves to YouTube in exchange for a $100 reward. Difficulty in finding enough dating videos led to a change of plans, with the site\\'s founders deciding to accept uploa', metadata={'title': 'YouTube', 'source': 'https://en.wikipedia.org/wiki/YouTube'})"
            ]
          },
          "metadata": {},
          "execution_count": 52
        }
      ]
    },
    {
      "cell_type": "code",
      "source": [
        "documents[-1]"
      ],
      "metadata": {
        "colab": {
          "base_uri": "https://localhost:8080/"
        },
        "id": "drtKUjLQVaEq",
        "outputId": "f0c3e2b7-d7f9-4692-d0af-73293f01b729"
      },
      "execution_count": 61,
      "outputs": [
        {
          "output_type": "execute_result",
          "data": {
            "text/plain": [
              "Document(page_content='This is a list of most-visited websites worldwide as of March 2024, along with their change in ranking compared to the previous month.\\n\\n\\n== List ==\\n\\nData is compiled from Similarweb and Semrush as of March 2024. This list does not factor subpages that use the same domain as the parent site.\\n\\n\\n== References ==', metadata={'title': 'List of most-visited websites', 'source': 'https://en.wikipedia.org/wiki/List_of_most-visited_websites'})"
            ]
          },
          "metadata": {},
          "execution_count": 61
        }
      ]
    },
    {
      "cell_type": "code",
      "source": [
        "OpenAIEmbeddings()"
      ],
      "metadata": {
        "colab": {
          "base_uri": "https://localhost:8080/"
        },
        "id": "IAm9rYOsICVr",
        "outputId": "cc4718d1-0920-4f78-b7b2-71be379ca881"
      },
      "execution_count": 62,
      "outputs": [
        {
          "output_type": "execute_result",
          "data": {
            "text/plain": [
              "OpenAIEmbeddings(client=<openai.resources.embeddings.Embeddings object at 0x7bf808132590>, async_client=<openai.resources.embeddings.AsyncEmbeddings object at 0x7bf808132ef0>, model='text-embedding-ada-002', dimensions=None, deployment='text-embedding-ada-002', openai_api_version='', openai_api_base=None, openai_api_type='', openai_proxy='', embedding_ctx_length=8191, openai_api_key=SecretStr('**********'), openai_organization=None, allowed_special=set(), disallowed_special='all', chunk_size=1000, max_retries=2, request_timeout=None, headers=None, tiktoken_enabled=True, tiktoken_model_name=None, show_progress_bar=False, model_kwargs={}, skip_empty=False, default_headers=None, default_query=None, retry_min_seconds=4, retry_max_seconds=20, http_client=None, http_async_client=None)"
            ]
          },
          "metadata": {},
          "execution_count": 62
        }
      ]
    },
    {
      "cell_type": "code",
      "source": [
        "text =documents[0].page_content\n",
        "text"
      ],
      "metadata": {
        "colab": {
          "base_uri": "https://localhost:8080/",
          "height": 105
        },
        "id": "EW3Y6diTIu5z",
        "outputId": "41e9fc14-9ad3-4145-bc95-edb8b0b64274"
      },
      "execution_count": 53,
      "outputs": [
        {
          "output_type": "execute_result",
          "data": {
            "text/plain": [
              "'YouTube is an American online video sharing platform owned by Google. Accessible worldwide, it was launched on February 14, 2005, by Steve Chen, Chad Hurley, and Jawed Karim, three former employees of PayPal. Headquartered in San Bruno, California, United States, it is the second most visited website in the world, after Google Search. YouTube has more than 2.5 billion monthly users, who collectively watch more than one billion hours of videos every day. As of May 2019, videos were being uploaded to the platform at a rate of more than 500 hours of content per minute, and as of 2021, there were approximately 14 billion videos in total.\\nIn October 2006, YouTube was purchased by Google for $1.65 billion (equivalent to $2.31 billion in 2023). Google expanded YouTube\\'s business model of generating revenue from advertisements alone, to offering paid content such as movies and exclusive content produced by and for YouTube. It also offers YouTube Premium, a paid subscription option for watching content without ads. YouTube incorporated Google\\'s AdSense program, generating more revenue for both YouTube and approved content creators. In 2022, YouTube\\'s annual advertising revenue increased to $29.2 billion, more than $9 billion higher than in 2020.\\nSince its purchase by Google, YouTube has expanded beyond the core website into mobile apps, network television, and the ability to link with other platforms. Video categories on YouTube include music videos, video clips, news, short and feature films, songs, documentaries, movie and teaser trailers, live streams, vlogs, and more. Most content is generated by individuals, including collaborations between \"YouTubers\" and corporate sponsors. Established media, news, and entertainment corporations have also created and expanded their visibility to YouTube channels in order to reach greater audiences.\\nYouTube has had unprecedented social impact, influencing popular culture, internet trends, and creating multimillionaire celebrities. Despite its growth and success, the platform is sometimes criticized for allegedly facilitating the spread of misinformation, the sharing of copyrighted content, routinely violating its users\\' privacy, enabling censorship, endangering child safety and wellbeing, and for its inconsistent or incorrect implementation of platform guidelines.\\n\\n\\n== History ==\\n\\n\\n=== Founding and initial growth (2005–2006) ===\\n\\nYouTube was founded by Steve Chen, Chad Hurley, and Jawed Karim. The trio were early employees of PayPal, which left them enriched after the company was bought by eBay. Hurley had studied design at the Indiana University of Pennsylvania, and Chen and Karim studied computer science together at the University of Illinois Urbana-Champaign.\\nAccording to a story that has often been repeated in the media, Hurley and Chen developed the idea for YouTube during the early months of 2005, after they had experienced difficulty sharing videos that had been shot at a dinner party at Chen\\'s apartment in San Francisco. Karim did not attend the party and denied that it had occurred, but Chen remarked that the idea that YouTube was founded after a dinner party \"was probably very strengthened by marketing ideas around creating a story that was very digestible\".\\nKarim said the inspiration for YouTube came from the Super Bowl XXXVIII halftime show controversy, when Janet Jackson\\'s breast was briefly exposed by Justin Timberlake during the halftime show. Karim could not easily find video clips of the incident and the 2004 Indian Ocean Tsunami online, which led to the idea of a video-sharing site. Hurley and Chen said that the original idea for YouTube was a video version of an online dating service and had been influenced by the website Hot or Not. They created posts on Craigslist asking attractive women to upload videos of themselves to YouTube in exchange for a $100 reward. Difficulty in finding enough dating videos led to a change of plans, with the site\\'s founders deciding to accept uploa'"
            ],
            "application/vnd.google.colaboratory.intrinsic+json": {
              "type": "string"
            }
          },
          "metadata": {},
          "execution_count": 53
        }
      ]
    },
    {
      "cell_type": "code",
      "source": [
        "OpenAIEmbeddings().embed_documents(texts=[text])[0][:10]"
      ],
      "metadata": {
        "colab": {
          "base_uri": "https://localhost:8080/"
        },
        "id": "0REQgnNXIGBc",
        "outputId": "2cecbcf9-c613-43e6-bb35-587878e84a7b"
      },
      "execution_count": 58,
      "outputs": [
        {
          "output_type": "execute_result",
          "data": {
            "text/plain": [
              "[-0.02060152733574137,\n",
              " -0.02013070835126636,\n",
              " -0.004071950730049511,\n",
              " -0.05061944181156403,\n",
              " -0.0031684867447656978,\n",
              " -0.00636560467577303,\n",
              " -0.003071459922378797,\n",
              " -0.015409789188681007,\n",
              " -0.012324013673181393,\n",
              " -0.044587861122684924]"
            ]
          },
          "metadata": {},
          "execution_count": 58
        }
      ]
    },
    {
      "cell_type": "code",
      "source": [
        "len(OpenAIEmbeddings().embed_documents(texts=[text])[0])"
      ],
      "metadata": {
        "colab": {
          "base_uri": "https://localhost:8080/"
        },
        "id": "8oP-xjc4JIfL",
        "outputId": "760c521c-b151-436a-c58f-a3b41e740bf5"
      },
      "execution_count": 56,
      "outputs": [
        {
          "output_type": "execute_result",
          "data": {
            "text/plain": [
              "1536"
            ]
          },
          "metadata": {},
          "execution_count": 56
        }
      ]
    },
    {
      "cell_type": "code",
      "source": [
        "url = \"bolt://44.204.228.84:7687\"\n",
        "username = \"neo4j\"\n",
        "password = \"setup-output-escape\"\n",
        "\n",
        "neo4j_db = Neo4jVector.from_documents(\n",
        "    documents,\n",
        "    OpenAIEmbeddings(),\n",
        "    url=url,\n",
        "    username=username,\n",
        "    password=password,\n",
        "    database=\"neo4j\",  # neo4j by default\n",
        "    index_name=\"wikipedia\",  # vector by default\n",
        "    node_label=\"WikipediaArticle\",  # Chunk by default\n",
        "    text_node_property=\"info\",  # text by default\n",
        "    embedding_node_property=\"vector\",  # embedding by default\n",
        "    create_id_index=True,  # True by default\n",
        ")"
      ],
      "metadata": {
        "id": "Y8azczX6rsJL"
      },
      "execution_count": 28,
      "outputs": []
    },
    {
      "cell_type": "markdown",
      "source": [
        "# Unique node property constraints\n",
        "Unique node property constraints, or node property uniqueness constraints, ensure that property values are unique for all nodes with a specific label. For property uniqueness constraints on multiple properties, the combination of the property values is unique. Node property uniqueness constraints do not require all nodes to have a unique value for the properties listed (nodes without all properties on which the constraint exists are not subject to this rule"
      ],
      "metadata": {
        "id": "PO6QDS_vR7qX"
      }
    },
    {
      "cell_type": "code",
      "source": [
        "neo4j_db.query(\"SHOW CONSTRAINTS\")\n"
      ],
      "metadata": {
        "colab": {
          "base_uri": "https://localhost:8080/"
        },
        "id": "H0zAyWuqrsGc",
        "outputId": "0f6a9dff-9e04-46ad-fe91-71ef920589c8"
      },
      "execution_count": 29,
      "outputs": [
        {
          "output_type": "execute_result",
          "data": {
            "text/plain": [
              "[{'id': 5,\n",
              "  'name': 'constraint_e5da4d45',\n",
              "  'type': 'UNIQUENESS',\n",
              "  'entityType': 'NODE',\n",
              "  'labelsOrTypes': ['WikipediaArticle'],\n",
              "  'properties': ['id'],\n",
              "  'ownedIndex': 'constraint_e5da4d45',\n",
              "  'propertyType': None}]"
            ]
          },
          "metadata": {},
          "execution_count": 29
        }
      ]
    },
    {
      "cell_type": "code",
      "source": [
        "neo4j_db.query(\n",
        "    \"\"\"SHOW INDEXES\n",
        "       YIELD name, type, labelsOrTypes, properties, options\n",
        "       WHERE type = 'VECTOR'\n",
        "    \"\"\"\n",
        ")"
      ],
      "metadata": {
        "colab": {
          "base_uri": "https://localhost:8080/"
        },
        "id": "YxZAKpF7rsDF",
        "outputId": "2d6faf48-1de9-4009-e306-66ee089e87c8"
      },
      "execution_count": 30,
      "outputs": [
        {
          "output_type": "execute_result",
          "data": {
            "text/plain": [
              "[{'name': 'wikipedia',\n",
              "  'type': 'VECTOR',\n",
              "  'labelsOrTypes': ['WikipediaArticle'],\n",
              "  'properties': ['vector'],\n",
              "  'options': {'indexProvider': 'vector-2.0',\n",
              "   'indexConfig': {'vector.dimensions': 1536,\n",
              "    'vector.similarity_function': 'cosine'}}}]"
            ]
          },
          "metadata": {},
          "execution_count": 30
        }
      ]
    },
    {
      "cell_type": "code",
      "source": [
        "neo4j_db.add_documents(\n",
        "    [\n",
        "        Document(\n",
        "            page_content=\"LangChain is the coolest library since the second world wide\",\n",
        "            metadata={\"author\": \"Olonok\", \"confidence\": 1.0}\n",
        "        )\n",
        "    ],\n",
        "    ids=[\"langchain\"],\n",
        ")"
      ],
      "metadata": {
        "colab": {
          "base_uri": "https://localhost:8080/"
        },
        "id": "_M3vCPPmsuoE",
        "outputId": "253811d7-b180-4dd3-803c-9c4cb0f2224f"
      },
      "execution_count": 31,
      "outputs": [
        {
          "output_type": "execute_result",
          "data": {
            "text/plain": [
              "['langchain']"
            ]
          },
          "metadata": {},
          "execution_count": 31
        }
      ]
    },
    {
      "cell_type": "code",
      "source": [
        "existing_index = Neo4jVector.from_existing_index(\n",
        "    OpenAIEmbeddings(),\n",
        "    url=url,\n",
        "    username=username,\n",
        "    password=password,\n",
        "    index_name=\"wikipedia\",\n",
        "    text_node_property=\"info\",  # Need to define if it is not default\n",
        ")"
      ],
      "metadata": {
        "id": "N_4hYLQquYPK"
      },
      "execution_count": 32,
      "outputs": []
    },
    {
      "cell_type": "code",
      "source": [
        "print(existing_index.node_label)\n",
        "print(existing_index.embedding_node_property)"
      ],
      "metadata": {
        "colab": {
          "base_uri": "https://localhost:8080/"
        },
        "id": "30iFPXCjuvbC",
        "outputId": "7d7f5eb5-f4ac-4703-f736-7a2457164985"
      },
      "execution_count": 33,
      "outputs": [
        {
          "output_type": "stream",
          "name": "stdout",
          "text": [
            "WikipediaArticle\n",
            "vector\n"
          ]
        }
      ]
    },
    {
      "cell_type": "code",
      "source": [
        "retrieval_query = \"\"\"\n",
        "OPTIONAL MATCH (node)<-[:EDITED_BY]-(p)\n",
        "WITH node, score, collect(p) AS editors\n",
        "RETURN node.info AS text,\n",
        "       score,\n",
        "       node {.*, vector: Null, info: Null, editors: editors, score: score} AS metadata\n",
        "\"\"\"\n",
        "\n",
        "existing_index_return = Neo4jVector.from_existing_index(\n",
        "    OpenAIEmbeddings(),\n",
        "    url=url,\n",
        "    username=username,\n",
        "    password=password,\n",
        "    database=\"neo4j\",\n",
        "    index_name=\"wikipedia\",\n",
        "    text_node_property=\"info\",\n",
        "    retrieval_query=retrieval_query,\n",
        ")"
      ],
      "metadata": {
        "id": "Nz19mzgAuvVB"
      },
      "execution_count": 35,
      "outputs": []
    },
    {
      "cell_type": "code",
      "source": [
        "existing_index_return.similarity_search(\"What do you know about Youtube?\", k=2)"
      ],
      "metadata": {
        "colab": {
          "base_uri": "https://localhost:8080/"
        },
        "id": "qQpmci-Au7Rh",
        "outputId": "5403b92f-70a4-45bf-a409-99cf08d01eb7"
      },
      "execution_count": 37,
      "outputs": [
        {
          "output_type": "execute_result",
          "data": {
            "text/plain": [
              "[Document(page_content='YouTube (formerly YouTube Spotlight) is the official YouTube channel for the American video-sharing platform YouTube, spotlighting videos and events on the platform. Events shown on the channel include YouTube Comedy Week and the YouTube Music Awards. Additionally, the channel uploaded annual installments of YouTube Rewind between 2010 and 2019. For a brief period in late 2013, this channel was ranked as the most-subscribed on the platform. As of March 2024, the channel has earned 39.8 million subscribers and 3.05 billion video views.\\n\\n\\n== History ==\\nThe YouTube channel was registered on February 1, 2005. On November 2, 2013, the YouTube channel briefly surpassed PewDiePie\\'s channel, to become the most-subscribed channel on the website. The channel ascended to the top position through auto-suggesting and pre-selecting itself as a subscription option upon new user registration for YouTube. Throughout December 2013, the channel and PewDiePie struggled for the top position, but soon PewDiePie secured it on December 23, 2013.\\n\\n\\n== Videos ==\\n\\n\\n=== YouTube Rewind ===\\n\\nBetween 2010 and 2019, YouTube released an annual YouTube Rewind video through its Spotlight channel. All YouTube Rewind videos from 2012 to 2018 have surpassed 100 million views, while YouTube Rewind: The Ultimate 2016 Challenge surpassed 200 million views. YouTube Rewind 2010: Year in Review and YouTube Rewind 2011, however, have less than 10 million views each. The Ultimate 2016 Challenge became YouTube\\'s fastest video to reach 100 million views, doing so in just 3.2 days. It is also the eighth most-liked non-music video of all time with over 3.40 million likes. On December 14, 2016, shortly after The Ultimate 2016 Challenge was released, the Spotlight channel surpassed 1 billion total video views. On December 12, 2018, approximately 6 days and 10 hours after upload, YouTube Rewind 2018: Everyone Controls Rewind became YouTube\\'s most-disliked video of all time, surpassing Justin Bieber\\'s Baby. Shortly after, it also became the first YouTube video to reach 10 million dislikes, doing so in 6 days and 12 hours. Everyone Controls Rewind currently sits at 20 million dislikes. YouTube Rewind 2019: For the Record quickly garnered a notably negative like/dislike ratio as well, amassing 3.9 million dislikes in under 24 hours since its release on December 5, 2019. It is currently the third most disliked YouTube video with over 9.6 million dislikes.\\n\\n\\n=== YouTube Nation ===\\nIn January 2014, YouTube Nation was launched on its channel, as a collaborative project between YouTube and DreamWorks Animation. DWA oversaw the production while YouTube managed the sales and marketing of the series. The series is a news series that rounds up information from the Spotlight channel. YouTube also promotes the series through its Spotlight channel. Early in its history, the series used guest hosts Grace Helbig, Hannah Hart, and Mamrie Hart (no relation) to help propel the series and its audience.\\nDue to regularly being promoted on the Spotlight channel (now just called YouTube), YouTube Nation was able to reach the 1 million subscriber milestone within three months of its launch. The series was nominated for the fourth annual Streamy Award under Best News and Current Events but lost to SourceFed. After 350 episodes, the series aired its last episode on December 5, 2014.\\n\\n\\n=== Hello 2021 ===\\n\\nOn December 10, 2020, YouTube announced that Fremantle would produce Hello 2021—a series of five localized New Year\\'s Eve countdown specials that will celebrate notable videos of the year, and feature other guest appearances and performances. There will be separate specials for Japan, South Korea, India, the UK, and the Americas.\\n\\n\\n=== One Trillion Minecraft Views on YouTube and Counting ===\\nIn December 2021, \"One Trillion Minecraft Views on YouTube and Counting\" was posted to commemorate the one trillion views of Minecraft-related videos. The video is a 3D animation based on Minecraft, and as of 2022, it', metadata={'id': 'e85ac839a7b6544b7418d29f0b88116d', 'title': 'YouTube (YouTube channel)', 'source': 'https://en.wikipedia.org/wiki/YouTube_(YouTube_channel)', 'score': 0.9195659160614014, 'editors': []}),\n",
              " Document(page_content='YouTube is an American online video-sharing platform headquartered in San Bruno, California, founded by three former PayPal employees—Chad Hurley, Steve Chen, and Jawed Karim—in February 2005. Google bought the site in November 2006 for US$1.65 billion, since which it operates as one of Google\\'s subsidiaries.\\nYouTube allows users to upload videos, view them, rate them with likes and dislikes, share them, add videos to playlists, report, make comments on videos, and subscribe to other users. The slogan \"Broadcast Yourself\" used for several years and the reference to user profiles as \"Channels\" signifies the premise upon which the platform is based, of allowing anyone to operate a personal broadcasting station in resemblance to television with the extension of video on demand.\\nAs such, the platform offers a wide variety of user-generated and corporate media videos. Available content includes video clips, TV show clips, music videos, short and documentary films, audio recordings, movie trailers, live streams, and other content such as video blogging, short original videos, and educational videos.\\nAs of February 2017, there were more than 400 hours of content uploaded to YouTube each minute, and one billion hours of content being watched on YouTube every day. As of October 2020, YouTube is the second-most popular website in the world, behind Google, according to Alexa Internet. As of May 2019, more than 500 hours of video content are uploaded to YouTube every minute. Based on reported quarterly advertising revenue, YouTube is estimated to have US$15 billion in annual revenues.\\nYouTube has faced criticism over aspects of its operations, including its handling of copyrighted content contained within uploaded videos, its recommendation algorithms perpetuating videos that promote conspiracy theories and falsehoods, hosting videos ostensibly targeting children but containing violent or sexually suggestive content involving popular characters, videos of minors attracting pedophilic activities in their comment sections, and fluctuating policies on the types of content that is eligible to be monetized with advertising.\\n\\n\\n== Founding (2005) ==\\n\\nYouTube was founded by Chad Hurley, Steve Chen, and Jawed Karim, when they worked for PayPal. Prior to working for PayPal, Hurley studied design at the Indiana University of Pennsylvania; Chen and Karim studied computer science together at the University of Illinois at Urbana–Champaign. YouTube\\'s initial headquarters was above a pizzeria and Japanese restaurant in San Mateo, California.\\nThe domain name \"YouTube.com\" was activated on February 14, 2005, with video upload options being integrated on April 23, 2005, after being named \"Tune In, Hook Up\" ─ the original idea of Chad Hurley, Steve Chen, and Jawed Karim. The concept was an online dating service that ultimately failed but had an exceptional video and uploading platform. After the infamous Justin Timberlake and Janet Jackson Halftime show incident, the three creators realized they couldn\\'t find any videos of it on the internet, after noticing that this type of platform did not exist they made the changes to become the first major video sharing platform. The idea of the new company was for non-computer experts to be able to use a simple interface that allowed the user to publish, upload and view streaming videos through standard web browsers and modern internet speeds. Ultimately, creating an easy to use video streaming platform that wouldn\\'t stress out the new internet users of the early 2000s. The first YouTube video, titled Me at the zoo, was uploaded on April 23, 2005, and shows co-founder Jawed Karim at the San Diego Zoo and currently has over 120 million views and almost 5 million likes. Hurley was behind more of the looks of the website, he used his art skills to create the logo and designed the look of the website. Chen made sure the page actually worked and that there would be no issues with the uploading and playback process. Karim wa', metadata={'id': 'e20c26c320af03e556ed428671e16b80', 'title': 'History of YouTube', 'source': 'https://en.wikipedia.org/wiki/History_of_YouTube', 'score': 0.9163485169410706, 'editors': []})]"
            ]
          },
          "metadata": {},
          "execution_count": 37
        }
      ]
    },
    {
      "cell_type": "code",
      "source": [
        "existing_index_return.similarity_search(\"What it is Whatsapp?\", k=1)"
      ],
      "metadata": {
        "colab": {
          "base_uri": "https://localhost:8080/"
        },
        "id": "79Ed6So7Fl68",
        "outputId": "edae9558-6d7a-4069-9afe-1c2ea61d5646"
      },
      "execution_count": 39,
      "outputs": [
        {
          "output_type": "execute_result",
          "data": {
            "text/plain": [
              "[Document(page_content='WhatsApp (officially WhatsApp Messenger) is an instant messaging (IM) and voice-over-IP (VoIP) service owned by technology conglomerate Meta. It allows users to send text, voice messages and video messages, make voice and video calls, and share images, documents, user locations, and other content. WhatsApp\\'s client application runs on mobile devices, and can be accessed from computers. The service requires a cellular mobile telephone number to sign up. In January 2018, WhatsApp released a standalone business app called WhatsApp Business which can communicate with the standard WhatsApp client.\\nThe service was created by WhatsApp Inc. of Mountain View, California, which was acquired by Facebook in February 2014 for approximately US$19.3 billion. It became the world\\'s most popular messaging application by 2015, and had more than 2 billion users worldwide by February 2020. By 2016, it had become the primary means of Internet communication in regions including Latin America, the Indian subcontinent, and large parts of Europe and Africa.\\n\\n\\n== History ==\\n\\n\\n=== 2009–2014 ===\\nWhatsApp was founded in February 2009 by Brian Acton and Jan Koum, former employees of Yahoo! A month earlier, after Koum purchased an iPhone, he and Acton decided to create an app for the App Store. The idea started off as an app that would display statuses in a phone\\'s Contacts menu, showing if a person was at work or on a call.\\nTheir discussions often took place at the home of Koum\\'s Russian friend Alex Fishman in West San Jose. They realized that to take the idea further, they would need an iPhone developer. Fishman visited RentACoder.com, found Russian developer Igor Solomennikov, and introduced him to Koum.\\nKoum named the app WhatsApp to sound like \"what\\'s up\". On February 24, 2009, he incorporated WhatsApp Inc. in California. However, when early versions of WhatsApp kept crashing, Koum considered giving up and looking for a new job. Acton encouraged him to wait for a \"few more months\".\\nIn June 2009, when the app had been downloaded by only a handful of Fishman\\'s Russian-speaking friends, Apple launched push notifications, allowing users to be pinged even when not using the app.\\nKoum updated WhatsApp so that everyone in the user\\'s network would be notified when a user\\'s status changed. This new facility, to Koum\\'s surprise, was used by users to ping \"each other with jokey custom statuses like, \\'I woke up late\\' or \\'I\\'m on my way.\\'\"\\nFishman said \"At some point it sort of became instant messaging\".\\nWhatsApp 2.0, released for iPhone in August 2009, featured a purpose-designed messaging component; the number of active users suddenly increased to 250,000.\\nAlthough Acton was working on another startup idea, he decided to join the company. In October 2009, Acton persuaded five former friends at Yahoo! to invest $250,000 in seed funding, and Acton became a co-founder and was given a stake. He officially joined WhatsApp on November 1. Koum then hired a friend in Los Angeles, Chris Peiffer, to develop a BlackBerry version, which arrived two months later. Subsequently, WhatsApp for Symbian OS was added in May 2010, and for Android OS in August 2010. In 2010 Google made multiple acquisition offers for WhatsApp, which were all declined.\\nTo cover the cost of sending verification texts to users, WhatsApp was changed from a free service to a paid one. In December 2009, the ability to send photos was added to the iOS version. By early 2011, WhatsApp was one of the top 20 apps in the U.S. Apple App Store.\\nIn April 2011, Sequoia Capital invested about $8 million for more than 15% of the company, after months of negotiation by Sequoia partner Jim Goetz.\\nBy February 2013, WhatsApp had about 200 million active users and 50 staff members. Sequoia invested another $50 million, and WhatsApp was valued at $1.5 billion. Some time in 2013 WhatsApp acquired Santa Clara-based startup SkyMobius, the developers of Vtok, a video and voice calling app.\\nIn a December 2013 blog post, WhatsApp c', metadata={'id': '1a796564db4dd325ffeea99823cc28b1', 'title': 'WhatsApp', 'source': 'https://en.wikipedia.org/wiki/WhatsApp', 'score': 0.9387162923812866, 'editors': []})]"
            ]
          },
          "metadata": {},
          "execution_count": 39
        }
      ]
    },
    {
      "cell_type": "code",
      "source": [],
      "metadata": {
        "id": "zLXvR6_qPkSg"
      },
      "execution_count": null,
      "outputs": []
    }
  ]
}