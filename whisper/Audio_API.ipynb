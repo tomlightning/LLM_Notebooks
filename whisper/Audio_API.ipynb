{
 "cells": [
  {
   "cell_type": "code",
   "execution_count": 1,
   "id": "e1231beb",
   "metadata": {},
   "outputs": [],
   "source": [
    "import requests\n",
    "import datetime\n",
    "import base64\n",
    "import json\n",
    "import io\n",
    "from PIL import Image\n",
    "\n",
    "url = 'http://127.0.0.1:5014/process'"
   ]
  },
  {
   "cell_type": "code",
   "execution_count": 14,
   "id": "d826de11",
   "metadata": {},
   "outputs": [],
   "source": [
    "IMAGE_PATH = \"./audio/spanish_record.wav\" # example image\n",
    "#IMAGE_PATH = \"../../image_tagger/images/2Persons.jpg\""
   ]
  },
  {
   "cell_type": "code",
   "execution_count": 15,
   "id": "c7098cfb",
   "metadata": {},
   "outputs": [],
   "source": [
    "with open(IMAGE_PATH, \"rb\") as f:\n",
    "    im_bytes = f.read()        \n",
    "im_b64 = base64.b64encode(im_bytes).decode(\"utf8\")"
   ]
  },
  {
   "cell_type": "code",
   "execution_count": 4,
   "id": "fc0700df",
   "metadata": {},
   "outputs": [],
   "source": [
    "with open(\"ocr_1_file.json\", \"r\") as f:\n",
    "    list_docs = json.load(f)"
   ]
  },
  {
   "cell_type": "code",
   "execution_count": 16,
   "id": "81b30cd8",
   "metadata": {},
   "outputs": [],
   "source": [
    "list_docs['documents'][0]['source']['content'] = im_b64\n",
    "list_docs['documents'][0]['source']['file_name'] = \"spanish_record.wav\"\n",
    "list_docs['documents'][0]['source']['file_type'] = \"wav\"\n",
    "list_docs['documents'][0]['source']['fs'] ['uri']= 'file:///home/demofilesystem/test_data/Large%20Control%20DataSet/Office%20Files%20and%20Documents/images/spanish_record.wav'"
   ]
  },
  {
   "cell_type": "code",
   "execution_count": 52,
   "id": "33087764",
   "metadata": {},
   "outputs": [],
   "source": [
    "with open(\"audio_test1_file2.json\", \"w\") as f:\n",
    "    json.dump(list_docs,f,  indent=4)"
   ]
  },
  {
   "cell_type": "code",
   "execution_count": 17,
   "id": "fd12af9c",
   "metadata": {},
   "outputs": [],
   "source": [
    "data1 = json.dumps(list_docs).encode()"
   ]
  },
  {
   "cell_type": "code",
   "execution_count": 18,
   "id": "cc4bb7b2",
   "metadata": {},
   "outputs": [
    {
     "name": "stdout",
     "output_type": "stream",
     "text": [
      "{'results': [{'filename': 'spanish_record.wav', 'transcript': {'text': ' Hi, my name is Federico, I live in London, I have 21 years and I am astronaut.', 'segments': [{'id': 0, 'seek': 0, 'start': 0.0, 'end': 7.0, 'text': ' Hi, my name is Federico, I live in London, I have 21 years and I am astronaut.', 'tokens': [50364, 2421, 11, 452, 1315, 307, 45545, 2789, 11, 286, 1621, 294, 7042, 11, 286, 362, 5080, 924, 293, 286, 669, 18516, 13, 50714], 'temperature': 0.0, 'avg_logprob': -0.43888809204101564, 'compression_ratio': 1.0129870129870129, 'no_speech_prob': 0.03878482058644295}], 'language': 'es'}}]}\n"
     ]
    }
   ],
   "source": [
    "try:\n",
    "    r = requests.post(url, data=data1)#files=files)\n",
    "    print(r.json())\n",
    "finally:\n",
    "\n",
    "    pass"
   ]
  },
  {
   "cell_type": "code",
   "execution_count": 19,
   "id": "400c845d",
   "metadata": {},
   "outputs": [
    {
     "data": {
      "text/plain": [
       "' Hi, my name is Federico, I live in London, I have 21 years and I am astronaut.'"
      ]
     },
     "execution_count": 19,
     "metadata": {},
     "output_type": "execute_result"
    }
   ],
   "source": [
    "r.json()['results'][0]['transcript']['text']"
   ]
  },
  {
   "cell_type": "code",
   "execution_count": 14,
   "id": "69dc64c6",
   "metadata": {},
   "outputs": [],
   "source": [
    "files = {'upload_file': open(IMAGE_PATH,'rb')}\n"
   ]
  },
  {
   "cell_type": "code",
   "execution_count": 15,
   "id": "0db57142",
   "metadata": {},
   "outputs": [],
   "source": [
    "r = requests.post(url, files=files)"
   ]
  },
  {
   "cell_type": "code",
   "execution_count": 16,
   "id": "25a9f8ae",
   "metadata": {},
   "outputs": [
    {
     "data": {
      "text/plain": [
       "{'results': [{'filename': 'upload_file',\n",
       "   'transcript': {'language': 'zh',\n",
       "    'segments': [{'avg_logprob': -3.562240932298743,\n",
       "      'compression_ratio': 1.5675675675675675,\n",
       "      'end': 3.8000000000000003,\n",
       "      'id': 0,\n",
       "      'no_speech_prob': 0.034653276205062866,\n",
       "      'seek': 0,\n",
       "      'start': 0.0,\n",
       "      'temperature': 1.0,\n",
       "      'text': \" Yesterday, the Super they issued aandroid ban on Beijing's cold andates\",\n",
       "      'tokens': [50364,\n",
       "       19765,\n",
       "       11,\n",
       "       264,\n",
       "       4548,\n",
       "       436,\n",
       "       14379,\n",
       "       257,\n",
       "       29173,\n",
       "       327,\n",
       "       5643,\n",
       "       322,\n",
       "       20240,\n",
       "       311,\n",
       "       3554,\n",
       "       293,\n",
       "       1024,\n",
       "       50554]},\n",
       "     {'avg_logprob': -3.562240932298743,\n",
       "      'compression_ratio': 1.5675675675675675,\n",
       "      'end': 6.44,\n",
       "      'id': 1,\n",
       "      'no_speech_prob': 0.034653276205062866,\n",
       "      'seek': 0,\n",
       "      'start': 3.8000000000000003,\n",
       "      'temperature': 1.0,\n",
       "      'text': ' of the particularly declining arm granary in South Korea.',\n",
       "      'tokens': [50554,\n",
       "       295,\n",
       "       264,\n",
       "       4098,\n",
       "       34298,\n",
       "       3726,\n",
       "       9370,\n",
       "       822,\n",
       "       294,\n",
       "       4242,\n",
       "       6307,\n",
       "       13,\n",
       "       50686]},\n",
       "     {'avg_logprob': -3.562240932298743,\n",
       "      'compression_ratio': 1.5675675675675675,\n",
       "      'end': 8.84,\n",
       "      'id': 2,\n",
       "      'no_speech_prob': 0.034653276205062866,\n",
       "      'seek': 0,\n",
       "      'start': 6.44,\n",
       "      'temperature': 1.0,\n",
       "      'text': ' Then the cold andates',\n",
       "      'tokens': [50686, 1396, 264, 3554, 293, 1024, 50806]},\n",
       "     {'avg_logprob': -3.562240932298743,\n",
       "      'compression_ratio': 1.5675675675675675,\n",
       "      'end': 10.48,\n",
       "      'id': 3,\n",
       "      'no_speech_prob': 0.034653276205062866,\n",
       "      'seek': 0,\n",
       "      'start': 8.84,\n",
       "      'temperature': 1.0,\n",
       "      'text': \" long run into the field play a Show for free in viewers' backs.\",\n",
       "      'tokens': [50806,\n",
       "       938,\n",
       "       1190,\n",
       "       666,\n",
       "       264,\n",
       "       2519,\n",
       "       862,\n",
       "       257,\n",
       "       6895,\n",
       "       337,\n",
       "       1737,\n",
       "       294,\n",
       "       8499,\n",
       "       6,\n",
       "       19513,\n",
       "       13,\n",
       "       50888]},\n",
       "     {'avg_logprob': -3.562240932298743,\n",
       "      'compression_ratio': 1.5675675675675675,\n",
       "      'end': 11.76,\n",
       "      'id': 4,\n",
       "      'no_speech_prob': 0.034653276205062866,\n",
       "      'seek': 0,\n",
       "      'start': 10.48,\n",
       "      'temperature': 1.0,\n",
       "      'text': ' However, the cold andates',\n",
       "      'tokens': [50888, 2908, 11, 264, 3554, 293, 1024, 50952]},\n",
       "     {'avg_logprob': -3.562240932298743,\n",
       "      'compression_ratio': 1.5675675675675675,\n",
       "      'end': 14.040000000000001,\n",
       "      'id': 5,\n",
       "      'no_speech_prob': 0.034653276205062866,\n",
       "      'seek': 0,\n",
       "      'start': 11.76,\n",
       "      'temperature': 1.0,\n",
       "      'text': ' still ignore the hot emotions',\n",
       "      'tokens': [50952, 920, 11200, 264, 2368, 8462, 51066]},\n",
       "     {'avg_logprob': -3.562240932298743,\n",
       "      'compression_ratio': 1.5675675675675675,\n",
       "      'end': 16.44,\n",
       "      'id': 6,\n",
       "      'no_speech_prob': 0.034653276205062866,\n",
       "      'seek': 0,\n",
       "      'start': 14.040000000000001,\n",
       "      'temperature': 1.0,\n",
       "      'text': ' of people which have not been cooked.',\n",
       "      'tokens': [51066, 295, 561, 597, 362, 406, 668, 9267, 13, 51186]},\n",
       "     {'avg_logprob': -3.562240932298743,\n",
       "      'compression_ratio': 1.5675675675675675,\n",
       "      'end': 21.36,\n",
       "      'id': 7,\n",
       "      'no_speech_prob': 0.034653276205062866,\n",
       "      'seek': 0,\n",
       "      'start': 16.44,\n",
       "      'temperature': 1.0,\n",
       "      'text': \" The New Bomb is very cold and players'\",\n",
       "      'tokens': [51186,\n",
       "       440,\n",
       "       1873,\n",
       "       25463,\n",
       "       307,\n",
       "       588,\n",
       "       3554,\n",
       "       293,\n",
       "       4150,\n",
       "       6,\n",
       "       51432]}],\n",
       "    'text': \" Yesterday, the Super they issued aandroid ban on Beijing's cold andates of the particularly declining arm granary in South Korea. Then the cold andates long run into the field play a Show for free in viewers' backs. However, the cold andates still ignore the hot emotions of people which have not been cooked. The New Bomb is very cold and players'\"}}]}"
      ]
     },
     "execution_count": 16,
     "metadata": {},
     "output_type": "execute_result"
    }
   ],
   "source": [
    "r.json()\n"
   ]
  },
  {
   "cell_type": "code",
   "execution_count": null,
   "id": "259240f9",
   "metadata": {},
   "outputs": [],
   "source": []
  }
 ],
 "metadata": {
  "kernelspec": {
   "display_name": "Python (pii)",
   "language": "python",
   "name": "myenv"
  },
  "language_info": {
   "codemirror_mode": {
    "name": "ipython",
    "version": 3
   },
   "file_extension": ".py",
   "mimetype": "text/x-python",
   "name": "python",
   "nbconvert_exporter": "python",
   "pygments_lexer": "ipython3",
   "version": "3.10.11"
  }
 },
 "nbformat": 4,
 "nbformat_minor": 5
}
