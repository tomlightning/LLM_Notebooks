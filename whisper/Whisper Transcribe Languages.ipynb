{
 "cells": [
  {
   "cell_type": "code",
   "execution_count": null,
   "id": "1ccf86c9-fbe8-47d4-9536-0a0406ab7de9",
   "metadata": {},
   "outputs": [],
   "source": [
    "# ! pip install pyaudio --user\n",
    "# ! pip install openai==0.28 --user"
   ]
  },
  {
   "cell_type": "code",
   "execution_count": 20,
   "id": "39d7ac80",
   "metadata": {},
   "outputs": [],
   "source": [
    "import openai\n",
    "import whisper"
   ]
  },
  {
   "cell_type": "code",
   "execution_count": 2,
   "id": "96de38cc",
   "metadata": {},
   "outputs": [],
   "source": [
    "from dotenv import dotenv_values"
   ]
  },
  {
   "cell_type": "code",
   "execution_count": 3,
   "id": "3b630436",
   "metadata": {},
   "outputs": [],
   "source": [
    "config = dotenv_values(\"../.env\")"
   ]
  },
  {
   "cell_type": "code",
   "execution_count": 4,
   "id": "b3cb65c7",
   "metadata": {},
   "outputs": [],
   "source": [
    "openai.api_key = config[\"KEY_OPENAI\"]"
   ]
  },
  {
   "cell_type": "code",
   "execution_count": 5,
   "id": "11746170",
   "metadata": {},
   "outputs": [],
   "source": [
    "# Record Some audio\n",
    "\n",
    "import wave\n",
    "import sys\n",
    "import pyaudio\n",
    "\n",
    "CHUNK = 1024\n",
    "FORMAT = pyaudio.paInt16\n",
    "CHANNELS = 1 #if sys.platform == \"darwin\" else 2\n",
    "RATE = 44100\n",
    "\n",
    "\n",
    "def record_audio(seconds: int, filename: str):\n",
    "    output_path = f\"./audio/{filename}\"\n",
    "    with wave.open(output_path, \"wb\") as wf:\n",
    "        p = pyaudio.PyAudio()\n",
    "        wf.setnchannels(CHANNELS)\n",
    "        wf.setsampwidth(p.get_sample_size(FORMAT))\n",
    "        wf.setframerate(RATE)\n",
    "\n",
    "        stream = p.open(format=FORMAT, channels=CHANNELS, rate=RATE, input=True)\n",
    "\n",
    "        print(\"Recording...\")\n",
    "        for index in range(0, RATE // CHUNK * seconds):\n",
    "            if index % (RATE // CHUNK) == 0:\n",
    "                print(f\"{index // (RATE // CHUNK)} / {seconds}s\")\n",
    "            wf.writeframes(stream.read(CHUNK))\n",
    "        print(\"Done\")\n",
    "\n",
    "        stream.close()\n",
    "        p.terminate()\n",
    "    print(f\"File saved at {output_path}\")\n",
    "    return output_path"
   ]
  },
  {
   "cell_type": "code",
   "execution_count": 66,
   "id": "9f7cbe12",
   "metadata": {},
   "outputs": [
    {
     "name": "stdout",
     "output_type": "stream",
     "text": [
      "Recording...\n",
      "0 / 10s\n",
      "1 / 10s\n",
      "2 / 10s\n",
      "3 / 10s\n",
      "4 / 10s\n",
      "5 / 10s\n",
      "6 / 10s\n",
      "7 / 10s\n",
      "8 / 10s\n",
      "9 / 10s\n",
      "Done\n",
      "File saved at ./audio/russian_record.wav\n"
     ]
    },
    {
     "data": {
      "text/plain": [
       "'./audio/russian_record.wav'"
      ]
     },
     "execution_count": 66,
     "metadata": {},
     "output_type": "execute_result"
    }
   ],
   "source": [
    "record_audio(10, \"russian_record.wav\")"
   ]
  },
  {
   "cell_type": "code",
   "execution_count": 67,
   "id": "bf57ab1d-892e-4093-bfa4-e4996bdfabdd",
   "metadata": {},
   "outputs": [
    {
     "data": {
      "text/plain": [
       "<OpenAIObject at 0x28f86a1a1b0> JSON: {\n",
       "  \"text\": \"Hola, mi nombre es Juan\"\n",
       "}"
      ]
     },
     "execution_count": 67,
     "metadata": {},
     "output_type": "execute_result"
    }
   ],
   "source": [
    "german_file = open(\"./audio/russian_record.wav\", \"rb\")\n",
    "german_response = openai.Audio.transcribe(\n",
    "    model=\"whisper-1\",\n",
    "    file=german_file\n",
    ")\n",
    "german_response"
   ]
  },
  {
   "cell_type": "code",
   "execution_count": 68,
   "id": "2ec7a00e-8df8-4556-adb7-410d51c7843a",
   "metadata": {},
   "outputs": [],
   "source": [
    "model = whisper.load_model(\"base\")\n",
    "\n",
    "options = dict(language = 'ru', beam_size=5, best_of=5, verbose=True)\n",
    "transcribe_options = dict(task=\"transcribe\", **options)\n",
    "translate_options = dict(task=\"translate\", **options)"
   ]
  },
  {
   "cell_type": "code",
   "execution_count": 69,
   "id": "1bd78a89-1ca3-4112-85de-b3c65bd7e50f",
   "metadata": {},
   "outputs": [
    {
     "name": "stdout",
     "output_type": "stream",
     "text": [
      "[00:00.000 --> 00:04.600]  Привет, и меня зовут Хуан.\n"
     ]
    },
    {
     "data": {
      "text/plain": [
       "' Привет, и меня зовут Хуан.'"
      ]
     },
     "execution_count": 69,
     "metadata": {},
     "output_type": "execute_result"
    }
   ],
   "source": [
    "res = model.transcribe(\"./audio/russian_record.wav\", **transcribe_options)\n",
    "res['text']"
   ]
  },
  {
   "cell_type": "code",
   "execution_count": 70,
   "id": "9cc312a7-d4c1-4990-bbca-cae45f6fb4a9",
   "metadata": {},
   "outputs": [
    {
     "name": "stdout",
     "output_type": "stream",
     "text": [
      "[00:00.000 --> 00:04.880]  I'm interested in business and I want to know one thing.\n"
     ]
    },
    {
     "data": {
      "text/plain": [
       "\" I'm interested in business and I want to know one thing.\""
      ]
     },
     "execution_count": 70,
     "metadata": {},
     "output_type": "execute_result"
    }
   ],
   "source": [
    "res = model.transcribe(\"./audio/russian_record.wav\", **translate_options)\n",
    "res['text']"
   ]
  },
  {
   "cell_type": "code",
   "execution_count": 54,
   "id": "e6ce2120",
   "metadata": {},
   "outputs": [],
   "source": [
    "french_file = open(\"./audio/french.wav\", \"rb\")"
   ]
  },
  {
   "cell_type": "code",
   "execution_count": 55,
   "id": "d9a80031",
   "metadata": {},
   "outputs": [],
   "source": [
    "french_response = openai.Audio.transcribe(\n",
    "    model=\"whisper-1\",\n",
    "    file=french_file\n",
    ")"
   ]
  },
  {
   "cell_type": "code",
   "execution_count": 56,
   "id": "025ac1f5",
   "metadata": {},
   "outputs": [
    {
     "data": {
      "text/plain": [
       "<OpenAIObject at 0x28f83dce0f0> JSON: {\n",
       "  \"text\": \"Bonjour, je m'appelle Colt Steele et je voudrais un croissant.\"\n",
       "}"
      ]
     },
     "execution_count": 56,
     "metadata": {},
     "output_type": "execute_result"
    }
   ],
   "source": [
    "french_response"
   ]
  },
  {
   "cell_type": "code",
   "execution_count": 57,
   "id": "b3d7b1e1",
   "metadata": {},
   "outputs": [],
   "source": [
    "italian_news = open(\"./audio/italian_news.wav\", \"rb\")"
   ]
  },
  {
   "cell_type": "code",
   "execution_count": 58,
   "id": "699125bb",
   "metadata": {},
   "outputs": [],
   "source": [
    "italian_response = openai.Audio.transcribe(\n",
    "    model=\"whisper-1\",\n",
    "    file=italian_news\n",
    ")"
   ]
  },
  {
   "cell_type": "code",
   "execution_count": 59,
   "id": "c7f3a7bb",
   "metadata": {},
   "outputs": [
    {
     "data": {
      "text/plain": [
       "<OpenAIObject at 0x28f83dcebd0> JSON: {\n",
       "  \"text\": \"Mentre cresce l'allarme per il virus in Cina, in Italia soltanto la scorsa settimana sono stati segnalati quasi 500.000 casi di influenza stagionale, che a met\\u00e0 gennaio sta dunque raggiungendo il suo picco, come era stato previsto dal Ministero della Salute. Finora gli italiani colpiti sono quasi 3 milioni.\"\n",
       "}"
      ]
     },
     "execution_count": 59,
     "metadata": {},
     "output_type": "execute_result"
    }
   ],
   "source": [
    "italian_response"
   ]
  },
  {
   "cell_type": "code",
   "execution_count": 60,
   "id": "05fe0585",
   "metadata": {},
   "outputs": [
    {
     "name": "stdout",
     "output_type": "stream",
     "text": [
      "Recording...\n",
      "0 / 10s\n",
      "1 / 10s\n",
      "2 / 10s\n",
      "3 / 10s\n",
      "4 / 10s\n",
      "5 / 10s\n",
      "6 / 10s\n",
      "7 / 10s\n",
      "8 / 10s\n",
      "9 / 10s\n",
      "Done\n",
      "File saved at ./audio/spanish_record.wav\n"
     ]
    },
    {
     "data": {
      "text/plain": [
       "'./audio/spanish_record.wav'"
      ]
     },
     "execution_count": 60,
     "metadata": {},
     "output_type": "execute_result"
    }
   ],
   "source": [
    "record_audio(10, \"spanish_record.wav\")"
   ]
  },
  {
   "cell_type": "code",
   "execution_count": 61,
   "id": "d1ca060f-e2d1-462a-8268-f703578ee3a8",
   "metadata": {},
   "outputs": [
    {
     "data": {
      "text/plain": [
       "<OpenAIObject at 0x28f86a19bb0> JSON: {\n",
       "  \"text\": \"Hola, me llamo Federico, vivo en Londres y esto es una prueba que estoy haciendo para un v\\u00eddeo en Youtube.\"\n",
       "}"
      ]
     },
     "execution_count": 61,
     "metadata": {},
     "output_type": "execute_result"
    }
   ],
   "source": [
    "spanish_file = open(\"./audio/spanish_record.wav\", \"rb\")\n",
    "spanish_response = openai.Audio.transcribe(\n",
    "    model=\"whisper-1\",\n",
    "    file=spanish_file\n",
    ")\n",
    "spanish_response"
   ]
  },
  {
   "cell_type": "code",
   "execution_count": 63,
   "id": "31270bea-9ae1-47f6-801b-756ff3912cd4",
   "metadata": {},
   "outputs": [],
   "source": [
    "options = dict(language = 'es', beam_size=5, best_of=5, verbose=True)\n",
    "transcribe_options = dict(task=\"transcribe\", **options)\n",
    "translate_options = dict(task=\"translate\", **options)"
   ]
  },
  {
   "cell_type": "code",
   "execution_count": 64,
   "id": "219c1303-ee11-47ae-bd25-91cae892cdce",
   "metadata": {},
   "outputs": [
    {
     "name": "stdout",
     "output_type": "stream",
     "text": [
      "[00:00.000 --> 00:08.000]  Hola, me llamo Federico, vivo el Londres y esto es una prueba que estoy haciendo para un vídeo en Youtube\n"
     ]
    },
    {
     "data": {
      "text/plain": [
       "' Hola, me llamo Federico, vivo el Londres y esto es una prueba que estoy haciendo para un vídeo en Youtube'"
      ]
     },
     "execution_count": 64,
     "metadata": {},
     "output_type": "execute_result"
    }
   ],
   "source": [
    "res = model.transcribe(\"./audio/spanish_record.wav\", **transcribe_options)\n",
    "res['text']"
   ]
  },
  {
   "cell_type": "code",
   "execution_count": 65,
   "id": "9d1743ca-b027-44bb-8bb6-2363e1265799",
   "metadata": {},
   "outputs": [
    {
     "name": "stdout",
     "output_type": "stream",
     "text": [
      "[00:00.000 --> 00:08.000]  Hello, my name is Federico, I live in Londres, and this is a proof that I am doing for a video on YouTube.\n"
     ]
    },
    {
     "data": {
      "text/plain": [
       "' Hello, my name is Federico, I live in Londres, and this is a proof that I am doing for a video on YouTube.'"
      ]
     },
     "execution_count": 65,
     "metadata": {},
     "output_type": "execute_result"
    }
   ],
   "source": [
    "res = model.transcribe(\"./audio/spanish_record.wav\", **translate_options)\n",
    "res['text']"
   ]
  },
  {
   "cell_type": "code",
   "execution_count": null,
   "id": "bd906a42-ac0b-405e-8f97-d3c9f62f1c39",
   "metadata": {},
   "outputs": [],
   "source": []
  }
 ],
 "metadata": {
  "kernelspec": {
   "display_name": "Python 3 (ipykernel)",
   "language": "python",
   "name": "python3"
  },
  "language_info": {
   "codemirror_mode": {
    "name": "ipython",
    "version": 3
   },
   "file_extension": ".py",
   "mimetype": "text/x-python",
   "name": "python",
   "nbconvert_exporter": "python",
   "pygments_lexer": "ipython3",
   "version": "3.11.7"
  }
 },
 "nbformat": 4,
 "nbformat_minor": 5
}
