{
 "cells": [
  {
   "cell_type": "code",
   "execution_count": null,
   "id": "220e2aa4-2093-4100-acb7-9f9cfadb22b0",
   "metadata": {},
   "outputs": [],
   "source": [
    "# https://github.com/openai/whisper\n",
    "# https://github.com/ScoopInstaller/Scoop#readme\n",
    "# https://www.gyan.dev/ffmpeg/builds/"
   ]
  },
  {
   "cell_type": "code",
   "execution_count": 1,
   "id": "311fda07",
   "metadata": {},
   "outputs": [],
   "source": [
    "import whisper\n",
    "import pprint\n",
    "pp = pprint.PrettyPrinter(indent=4)"
   ]
  },
  {
   "cell_type": "code",
   "execution_count": 2,
   "id": "929f3531",
   "metadata": {},
   "outputs": [
    {
     "name": "stderr",
     "output_type": "stream",
     "text": [
      "100%|████████████████████████████████████████| 139M/139M [02:27<00:00, 982kiB/s]\n"
     ]
    }
   ],
   "source": [
    "model = whisper.load_model(\"base\")"
   ]
  },
  {
   "cell_type": "code",
   "execution_count": 3,
   "id": "b46b6e30-7fc8-4c86-9058-e17e72e79b4e",
   "metadata": {},
   "outputs": [
    {
     "data": {
      "text/plain": [
       "['tiny.en',\n",
       " 'tiny',\n",
       " 'base.en',\n",
       " 'base',\n",
       " 'small.en',\n",
       " 'small',\n",
       " 'medium.en',\n",
       " 'medium',\n",
       " 'large-v1',\n",
       " 'large-v2',\n",
       " 'large-v3',\n",
       " 'large']"
      ]
     },
     "execution_count": 3,
     "metadata": {},
     "output_type": "execute_result"
    }
   ],
   "source": [
    "whisper.available_models()"
   ]
  },
  {
   "cell_type": "code",
   "execution_count": 21,
   "id": "fd489082-caa2-4ccf-bebe-ce9ebc6ef7ba",
   "metadata": {},
   "outputs": [],
   "source": [
    "options = dict(language = 'zh', beam_size=5, best_of=5, verbose=True)\n",
    "transcribe_options = dict(task=\"transcribe\", **options)\n",
    "translate_options = dict(task=\"translate\", **options)"
   ]
  },
  {
   "cell_type": "code",
   "execution_count": 22,
   "id": "e736c440-9abc-4c76-9173-9ff541c6dc04",
   "metadata": {},
   "outputs": [
    {
     "name": "stdout",
     "output_type": "stream",
     "text": [
      "[00:00.000 --> 00:03.520] 昨天 中央氣象台繼續發佈韓朝藍色預警\n",
      "[00:03.520 --> 00:06.120] 多地氣溫創今年入東以來的新低\n",
      "[00:06.120 --> 00:09.880] 本輪韓朝天氣持續時間長影響範圍廣\n",
      "[00:09.880 --> 00:13.280] 不過 韓冷的天氣依然擋不住人們的熱情\n",
      "[00:13.280 --> 00:15.800] 東京美景吸引了許多的遊客\n"
     ]
    }
   ],
   "source": [
    "res = model.transcribe(\"./audio/chinese_news.wav\", **transcribe_options)"
   ]
  },
  {
   "cell_type": "code",
   "execution_count": 14,
   "id": "a8fbe348-f5ac-4af7-af70-e33be9a4ae41",
   "metadata": {},
   "outputs": [
    {
     "data": {
      "text/plain": [
       "dict_keys(['text', 'segments', 'language'])"
      ]
     },
     "execution_count": 14,
     "metadata": {},
     "output_type": "execute_result"
    }
   ],
   "source": [
    "res.keys()"
   ]
  },
  {
   "cell_type": "code",
   "execution_count": 23,
   "id": "733e6a47-5f37-43c1-bce0-0392afbbcebd",
   "metadata": {},
   "outputs": [
    {
     "name": "stdout",
     "output_type": "stream",
     "text": [
      "zh\n"
     ]
    }
   ],
   "source": [
    "print(res['language'])"
   ]
  },
  {
   "cell_type": "code",
   "execution_count": 24,
   "id": "02cc4e04-1904-4acb-8629-43eff5397637",
   "metadata": {},
   "outputs": [
    {
     "name": "stdout",
     "output_type": "stream",
     "text": [
      "昨天 中央氣象台繼續發佈韓朝藍色預警多地氣溫創今年入東以來的新低本輪韓朝天氣持續時間長影響範圍廣不過 韓冷的天氣依然擋不住人們的熱情東京美景吸引了許多的遊客\n"
     ]
    }
   ],
   "source": [
    "print(res['text'])"
   ]
  },
  {
   "cell_type": "code",
   "execution_count": 25,
   "id": "bb1d1b36-ca3d-4c2e-a913-db52af54c078",
   "metadata": {},
   "outputs": [
    {
     "name": "stdout",
     "output_type": "stream",
     "text": [
      "[00:00.000 --> 00:17.520]  Yesterday,\n"
     ]
    }
   ],
   "source": [
    "res = model.transcribe(\"./audio/chinese_news.wav\", **translate_options)"
   ]
  },
  {
   "cell_type": "code",
   "execution_count": 26,
   "id": "254cae7c-ccc9-4698-98f8-ef48da6eafd7",
   "metadata": {},
   "outputs": [
    {
     "data": {
      "text/plain": [
       "' Yesterday,'"
      ]
     },
     "execution_count": 26,
     "metadata": {},
     "output_type": "execute_result"
    }
   ],
   "source": [
    "res['text']"
   ]
  },
  {
   "cell_type": "code",
   "execution_count": 29,
   "id": "dfe78008-7032-42b6-a2a7-f295f3b5a3f7",
   "metadata": {},
   "outputs": [],
   "source": [
    "options = dict(language = 'de', beam_size=5, best_of=5, verbose=True)\n",
    "transcribe_options = dict(task=\"transcribe\", **options)\n",
    "translate_options = dict(task=\"translate\", **options)"
   ]
  },
  {
   "cell_type": "code",
   "execution_count": 30,
   "id": "9c3371c3-37d4-49f2-bb8c-a8b3169d0931",
   "metadata": {},
   "outputs": [
    {
     "name": "stdout",
     "output_type": "stream",
     "text": [
      "[00:00.000 --> 00:07.000]  Hello, I am in the network, I live in Deresweis, and I have been here for six years now.\n",
      "[00:07.000 --> 00:10.000]  I will see you later.\n"
     ]
    },
    {
     "data": {
      "text/plain": [
       "' Hello, I am in the network, I live in Deresweis, and I have been here for six years now. I will see you later.'"
      ]
     },
     "execution_count": 30,
     "metadata": {},
     "output_type": "execute_result"
    }
   ],
   "source": [
    "res = model.transcribe(\"./audio/german_record.wav\", **translate_options)\n",
    "res['text']"
   ]
  },
  {
   "cell_type": "code",
   "execution_count": 28,
   "id": "71325954-3556-43ce-91bf-be896aaadf45",
   "metadata": {},
   "outputs": [
    {
     "data": {
      "text/plain": [
       "dict_keys(['text', 'segments', 'language'])"
      ]
     },
     "execution_count": 28,
     "metadata": {},
     "output_type": "execute_result"
    }
   ],
   "source": [
    "res.keys()"
   ]
  },
  {
   "cell_type": "code",
   "execution_count": null,
   "id": "1b40f791-f69e-4cf1-bf62-e3772bea0906",
   "metadata": {},
   "outputs": [],
   "source": []
  }
 ],
 "metadata": {
  "kernelspec": {
   "display_name": "Python 3 (ipykernel)",
   "language": "python",
   "name": "python3"
  },
  "language_info": {
   "codemirror_mode": {
    "name": "ipython",
    "version": 3
   },
   "file_extension": ".py",
   "mimetype": "text/x-python",
   "name": "python",
   "nbconvert_exporter": "python",
   "pygments_lexer": "ipython3",
   "version": "3.11.7"
  }
 },
 "nbformat": 4,
 "nbformat_minor": 5
}
