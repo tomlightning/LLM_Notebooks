{
 "cells": [
  {
   "attachments": {},
   "cell_type": "markdown",
   "metadata": {},
   "source": [
    "## CPU Inference on ONNX Runtime on Azure Kubernetes Service\r\n",
    "Vision Transformer converted to ONNXs\r\n",
    "\r\n",
    "This example shows how to deploy an image classification neural network using ONNX Runtime on GPU compute SKUs in Azur In this example we use a Vision Transformer fine tuned with a custom datased to detect images non-safe for workrme\n"
   ]
  },
  {
   "attachments": {},
   "cell_type": "markdown",
   "metadata": {},
   "source": [
    "#### 1. Prerequisites to install A\n",
    "Please restart kernel after pip installs to sync environment with new modules."
   ]
  },
  {
   "cell_type": "code",
   "execution_count": 1,
   "metadata": {},
   "outputs": [],
   "source": [
    "#! pip install matplotlib onnx opencv-python\n",
    "# pip install azure-ai-ml azure-identity datasets azure-cli mlflow"
   ]
  },
  {
   "attachments": {},
   "cell_type": "markdown",
   "metadata": {
    "nteract": {
     "transient": {
      "deleting": false
     }
    }
   },
   "source": [
    "#### 2. Connect to Azure Machine Learning workspace\n",
    "\n",
    "Before we dive in the code, you'll need to connect to your workspace. The workspace is the top-level resource for Azure Machine Learning, providing a centralized place to work with all the artifacts you create when you use Azure Machine Learning.\n",
    "\n",
    "For this lab, we've already setup an AzureML Workspace for you. If you'd like to learn more about `Workspace`s, please reference [`AzureML's documentation`](https://learn.microsoft.com/en-us/azure/machine-learning/how-to-manage-workspace?view=azureml-api-2&tabs=azure-portal).\n",
    "\n",
    "We are using the `DefaultAzureCredential` to get access to workspace. `DefaultAzureCredential` should be capable of handling most scenarios. If you want to learn more about other available credentials, go to [`Set up authentication`](https://learn.microsoft.com/en-us/azure/machine-learning/how-to-setup-authentication?tabs=sdk&view=azureml-api-2) for more available credentials."
   ]
  },
  {
   "cell_type": "code",
   "execution_count": 1,
   "metadata": {},
   "outputs": [],
   "source": [
    "from azure.identity import DefaultAzureCredential\n",
    "from azure.ai.ml import MLClient\n",
    "from azure.ai.ml import Input\n",
    "from azure.ai.ml.dsl import pipeline\n",
    "from dotenv import dotenv_values\n",
    "from dotenv import load_dotenv\n",
    "from utils.login import get_ws_client\n",
    "from utils.datasets import get_labels_dataset, create_datasets\n",
    "from utils.computer import create_gpu_cluster\n",
    "from azure.ai.ml.entities import Model\n",
    "from azure.ai.ml.constants import AssetTypes"
   ]
  },
  {
   "cell_type": "markdown",
   "metadata": {},
   "source": [
    "### .env file to use your service principal account\n",
    "\n",
    "```md\n",
    "RESOURCE_GROUP=\n",
    "SUBSCRIPTION_ID=\n",
    "AZUREML_WORKSPACE_NAME=\n",
    "TENANTID=\n",
    "AZURE_CLIENT_ID=\n",
    "AZURE_TENANT_ID=\n",
    "AZURE_CLIENT_SECRET=\n",
    "```"
   ]
  },
  {
   "cell_type": "code",
   "execution_count": 2,
   "metadata": {},
   "outputs": [],
   "source": [
    "# Load env and login to Workspace\n",
    "load_dotenv(\".env\")\n",
    "config = dotenv_values(\".env\")\n",
    "\n",
    "\n",
    "# Enter details of your Azure Machine Learning workspace\n",
    "subscription_id = config.get(\"SUBSCRIPTION_ID\")\n",
    "resource_group = config.get(\"RESOURCE_GROUP\")\n",
    "workspace = config.get(\"AZUREML_WORKSPACE_NAME\")"
   ]
  },
  {
   "cell_type": "code",
   "execution_count": 3,
   "metadata": {},
   "outputs": [
    {
     "name": "stdout",
     "output_type": "stream",
     "text": [
      "MLClient(credential=<azure.identity._credentials.default.DefaultAzureCredential object at 0x00000226A2107F10>,\n",
      "         subscription_id=5a8ec57c-47f9-4bc3-aee5-9e4db1b89345,\n",
      "         resource_group_name=olonok-ml,\n",
      "         workspace_name=olonok-ml)\n"
     ]
    }
   ],
   "source": [
    "credential = DefaultAzureCredential()\n",
    "# Check if given credential can get token successfully.\n",
    "credential.get_token(\"https://management.azure.com/.default\")\n",
    "\n",
    "\n",
    "ml_client = get_ws_client(\n",
    "    credential, subscription_id, resource_group, workspace\n",
    ")\n",
    "print(ml_client)"
   ]
  },
  {
   "attachments": {},
   "cell_type": "markdown",
   "metadata": {
    "nteract": {
     "transient": {
      "deleting": false
     }
    }
   },
   "source": [
    "#### Model Converted to ONNX\n",
    "#### Video\n",
    "LLMOps: Convert Fine Tuned  ViT classifier to ONNX and CPU inference --> https://youtu.be/SRPjOFZbsSs\n",
    "#### code\n",
    "https://github.com/olonok69/LLM_Notebooks/blob/main/image/onnx/app/convert.py\n",
    "\n",
    "\n",
    "#### Model Base \n",
    "https://huggingface.co/google/vit-base-patch16-224-in21k\n",
    "\n",
    "### Fine Tuning with own Dataset\n",
    "#### Notebook\n",
    "https://github.com/olonok69/LLM_Notebooks/blob/main/image/Inference_image_classification_NSWF_full.ipynb\n",
    "\n",
    "#### Video\n",
    "Fine Tune Transformer  ViT classifier with your own data (training) --> https://youtu.be/9BNYhe8YTPk\n",
    "\r\n"
   ]
  },
  {
   "cell_type": "code",
   "execution_count": 4,
   "metadata": {
    "collapsed": false,
    "gather": {
     "logged": 1684438712706
    },
    "jupyter": {
     "outputs_hidden": false,
     "source_hidden": false
    },
    "nteract": {
     "transient": {
      "deleting": false
     }
    }
   },
   "outputs": [],
   "source": [
    "path_model =\"nsfw/vit_nsfw.onnx\"\n"
   ]
  },
  {
   "attachments": {},
   "cell_type": "markdown",
   "metadata": {
    "nteract": {
     "transient": {
      "deleting": false
     }
    }
   },
   "source": [
    "#### Load Azure ML workspace\n",
    "\n"
   ]
  },
  {
   "cell_type": "code",
   "execution_count": 5,
   "metadata": {
    "collapsed": false,
    "gather": {
     "logged": 1684438754226
    },
    "jupyter": {
     "outputs_hidden": false,
     "source_hidden": false
    },
    "nteract": {
     "transient": {
      "deleting": false
     }
    }
   },
   "outputs": [
    {
     "name": "stdout",
     "output_type": "stream",
     "text": [
      "SDK version: 1.57.0\n"
     ]
    }
   ],
   "source": [
    "# Check core SDK version number\n",
    "import azureml.core\n",
    "from azureml.core import Workspace\n",
    "print(\"SDK version:\", azureml.core.VERSION)\n"
   ]
  },
  {
   "cell_type": "code",
   "execution_count": 6,
   "metadata": {},
   "outputs": [
    {
     "name": "stdout",
     "output_type": "stream",
     "text": [
      "5a8ec57c-47f9-4bc3-aee5-9e4db1b89345\n",
      "uksouth\n",
      "olonok-ml\n"
     ]
    }
   ],
   "source": [
    "from azureml.core import Workspace\n",
    "\n",
    "# read existing workspace from config.json\n",
    "ws = Workspace(subscription_id=subscription_id, resource_group=resource_group, workspace_name=workspace)\n",
    "\n",
    "print(ws.subscription_id, ws.location, ws.resource_group, sep = '\\n')"
   ]
  },
  {
   "attachments": {},
   "cell_type": "markdown",
   "metadata": {},
   "source": [
    "#### Register your ONNX model with Azure ML\n",
    "\n"
   ]
  },
  {
   "cell_type": "code",
   "execution_count": 7,
   "metadata": {
    "gather": {
     "logged": 1684438763102
    }
   },
   "outputs": [],
   "source": [
    "from azure.ai.ml.entities import Model\n",
    "from azure.ai.ml.constants import AssetTypes\n"
   ]
  },
  {
   "cell_type": "code",
   "execution_count": 8,
   "metadata": {},
   "outputs": [
    {
     "name": "stderr",
     "output_type": "stream",
     "text": [
      "\u001b[32mUploading vit_nsfw.onnx\u001b[32m (< 1 MB): 277MB [09:55, 465kB/s]                                                                                                                           \u001b[0m\n",
      "\u001b[39m\n",
      "\n"
     ]
    },
    {
     "data": {
      "text/plain": [
       "Model({'job_name': None, 'intellectual_property': None, 'is_anonymous': False, 'auto_increment_version': False, 'auto_delete_setting': None, 'name': 'onnx_nsfw', 'description': 'Non-safe for work onnx format', 'tags': {'type': 'vit-base-patch16-224-in21k', 'format': 'onnx'}, 'properties': {}, 'print_as_yaml': True, 'id': '/subscriptions/5a8ec57c-47f9-4bc3-aee5-9e4db1b89345/resourceGroups/olonok-ml/providers/Microsoft.MachineLearningServices/workspaces/olonok-ml/models/onnx_nsfw/versions/1', 'Resource__source_path': None, 'base_path': 'D:\\\\repos\\\\onnx\\\\azureml', 'creation_context': <azure.ai.ml.entities._system_data.SystemData object at 0x00000226A5482010>, 'serialize': <msrest.serialization.Serializer object at 0x00000226A51ADA50>, 'version': '1', 'latest_version': None, 'path': 'azureml://subscriptions/5a8ec57c-47f9-4bc3-aee5-9e4db1b89345/resourceGroups/olonok-ml/workspaces/olonok-ml/datastores/workspaceblobstore/paths/LocalUpload/a4f6bfcb4fbe89fcb96287ada0659f66/vit_nsfw.onnx', 'datastore': None, 'utc_time_created': None, 'flavors': None, 'arm_type': 'model_version', 'type': 'custom_model', 'stage': 'Development'})"
      ]
     },
     "execution_count": 8,
     "metadata": {},
     "output_type": "execute_result"
    }
   ],
   "source": [
    "model_dir = \"nsfw\" # replace this with the location of your model files\n",
    "\n",
    "\n",
    "file_model = Model(\n",
    "    path= path_model,\n",
    "    type=AssetTypes.CUSTOM_MODEL,\n",
    "    name=\"onnx_nsfw\",\n",
    "    description= \"Non-safe for work onnx format\",\n",
    "    tags={\"type\": \"vit-base-patch16-224-in21k\", \"format\":\"onnx\"}\n",
    ")\n",
    "ml_client.models.create_or_update(file_model)\n",
    "\n"
   ]
  },
  {
   "cell_type": "code",
   "execution_count": 9,
   "metadata": {
    "collapsed": false,
    "gather": {
     "logged": 1684438864620
    },
    "jupyter": {
     "outputs_hidden": false,
     "source_hidden": false
    },
    "nteract": {
     "transient": {
      "deleting": false
     }
    }
   },
   "outputs": [
    {
     "name": "stdout",
     "output_type": "stream",
     "text": [
      "Name: onnx_emotion \tVersion: 1 \tDescription: FER+ emotion recognition CNN from ONNX Model Zoo {}\n",
      "Name: onnx_nsfw \tVersion: 1 \tDescription: Non-safe for work onnx format {'type': 'vit-base-patch16-224-in21k', 'format': 'onnx'}\n"
     ]
    }
   ],
   "source": [
    "models = ws.models\n",
    "for name, m in models.items():\n",
    "    print(\"Name:\", name,\"\\tVersion:\", m.version, \"\\tDescription:\", m.description, m.tags)"
   ]
  },
  {
   "cell_type": "code",
   "execution_count": 11,
   "metadata": {},
   "outputs": [
    {
     "name": "stderr",
     "output_type": "stream",
     "text": [
      "Downloading the model LocalUpload/a4f6bfcb4fbe89fcb96287ada0659f66/vit_nsfw.onnx at .\\onnx_nsfw\n",
      "\n",
      "Your file exceeds 100 MB. If you experience low speeds, latency, or broken connections, we recommend using the AzCopyv10 tool for this file transfer.\n",
      "\n",
      "Example: azcopy copy 'https://olonokml8611719525.blob.core.windows.net/azureml-blobstore-9a0f0906-2e91-4aab-8570-30319c6b7c6c/LocalUpload/a4f6bfcb4fbe89fcb96287ada0659f66/vit_nsfw.onnx' '.\\onnx_nsfw' \n",
      "\n",
      "See https://docs.microsoft.com/azure/storage/common/storage-use-azcopy-v10 for more information.\n"
     ]
    }
   ],
   "source": [
    "model_path = ml_client.models.download(\"onnx_nsfw\", version=1)"
   ]
  },
  {
   "attachments": {},
   "cell_type": "markdown",
   "metadata": {
    "nteract": {
     "transient": {
      "deleting": false
     }
    }
   },
   "source": [
    "#### Create Scoring file"
   ]
  },
  {
   "cell_type": "code",
   "execution_count": 119,
   "metadata": {
    "collapsed": false,
    "gather": {
     "logged": 1684438987595
    },
    "jupyter": {
     "outputs_hidden": false,
     "source_hidden": false
    },
    "nteract": {
     "transient": {
      "deleting": false
     }
    }
   },
   "outputs": [
    {
     "name": "stdout",
     "output_type": "stream",
     "text": [
      "Overwriting nsfw/score.py\n"
     ]
    }
   ],
   "source": [
    "%%writefile nsfw/score.py\n",
    "import json\n",
    "import numpy as np\n",
    "import onnxruntime\n",
    "import sys\n",
    "import os\n",
    "from azureml.core.model import Model\n",
    "import time\n",
    "\n",
    "def init():\n",
    "    global session, input_name, output_name\n",
    "    model = \"vit_nsfw.onnx\"\n",
    "    # Load the model in onnx runtime to start the session    \n",
    "    session = onnxruntime.InferenceSession(model, providers=[\"CPUExecutionProvider\"])\n",
    "    input_name = session.get_inputs()[0].name\n",
    "    output_name = session.get_outputs()[0].name \n",
    "    \n",
    "def run(input_data):\n",
    "    '''Purpose: evaluate test input in Azure Cloud using onnxruntime.\n",
    "        We will call the run function later from our Jupyter Notebook \n",
    "        so our azure service can evaluate our model input in the cloud. '''\n",
    "\n",
    "    try:\n",
    "        # load in our data, convert to readable format\n",
    "        data = np.array([np.array(json.loads(input_data)['data']).astype('float32')])\n",
    "        \n",
    "        # pass input data to do model inference with ONNX Runtime\n",
    "        start = time.time()\n",
    "        r = session.run([output_name], {input_name : data})\n",
    "        end = time.time()\n",
    "        \n",
    "        result = label_map(postprocess(r[0]))\n",
    "        \n",
    "        result_dict = {\"result\": result,\n",
    "                      \"time_in_sec\": [end - start]}\n",
    "    except Exception as e:\n",
    "        result_dict = {\"error\": str(e)}\n",
    "    \n",
    "    return json.dumps(result_dict)\n",
    "\n",
    "\n",
    "\n",
    "def label_map(probs, threshold=.5):\n",
    "    \"\"\"Take the most probable labels (output of postprocess) and returns the \n",
    "    probs of each label.\"\"\"\n",
    "    # labels and dictionary to \n",
    "    label_dic = {\"drawings\": 0, \"hentai\": 1, \"neutral\": 2, \"porn\": 3, \"sexy\": 4}\n",
    "    output_probs = {}\n",
    "    image_preds = {}\n",
    "    for prob, key in zip(probs, range(0, len(probs))):\n",
    "        label = get_key(label_dic, key)\n",
    "        output_probs[label] = float(prob)\n",
    "\n",
    "    prob_nsfw = output_probs[\"sexy\"] + output_probs[\"hentai\"] + output_probs[\"porn\"]\n",
    "    if prob_nsfw > threshold:\n",
    "        image_preds[\"nsfw\"] = 1\n",
    "    else:\n",
    "        image_preds[\"nsfw\"] = 0\n",
    "\n",
    "    image_preds[\"class_probabilities\"] = output_probs\n",
    "    return image_preds\n",
    "\n",
    "def get_key(dict, value):\n",
    "    \"\"\"\n",
    "    return key given a value. From a dictionary\n",
    "    \"\"\"\n",
    "    for key, val in dict.items():\n",
    "        if val == value:\n",
    "            return key\n",
    "    return \"Value not found\"\n",
    "\n",
    "def postprocess(scores):\n",
    "    \"\"\"This function takes the scores generated by the network and \n",
    "    returns the class IDs in decreasing order of probability.\"\"\"\n",
    "    logits = np.array(scores)\n",
    "    probabilities = np.exp(logits) / np.sum(np.exp(logits), axis=1, keepdims=True)\n",
    "    probs = probabilities[0]\n",
    "    \n",
    "    return probs"
   ]
  },
  {
   "attachments": {},
   "cell_type": "markdown",
   "metadata": {
    "nteract": {
     "transient": {
      "deleting": false
     }
    }
   },
   "source": [
    "##### Create Endpoint"
   ]
  },
  {
   "cell_type": "code",
   "execution_count": 44,
   "metadata": {},
   "outputs": [],
   "source": [
    "import onnxruntime"
   ]
  },
  {
   "cell_type": "code",
   "execution_count": 141,
   "metadata": {},
   "outputs": [
    {
     "data": {
      "text/plain": [
       "('input', 'output')"
      ]
     },
     "execution_count": 141,
     "metadata": {},
     "output_type": "execute_result"
    }
   ],
   "source": [
    "model_vit = \"nsfw/vit_nsfw.onnx\"\n",
    "session = onnxruntime.InferenceSession(model_vit, providers=[\"CPUExecutionProvider\"])\n",
    "\n",
    "input_name = session.get_inputs()[0].name\n",
    "output_name = session.get_outputs()[0].name \n",
    "input_name, output_name"
   ]
  },
  {
   "cell_type": "code",
   "execution_count": 91,
   "metadata": {},
   "outputs": [
    {
     "data": {
      "text/plain": [
       "ManagedOnlineEndpoint({'public_network_access': 'Enabled', 'provisioning_state': 'Succeeded', 'scoring_uri': 'https://endpt-nsfw-inference-onnx.uksouth.inference.ml.azure.com/score', 'openapi_uri': 'https://endpt-nsfw-inference-onnx.uksouth.inference.ml.azure.com/swagger.json', 'name': 'endpt-nsfw-inference-onnx', 'description': 'this is a endpoint for onnx inference nsfw model', 'tags': {}, 'properties': {'azureml.onlineendpointid': '/subscriptions/5a8ec57c-47f9-4bc3-aee5-9e4db1b89345/resourcegroups/olonok-ml/providers/microsoft.machinelearningservices/workspaces/olonok-ml/onlineendpoints/endpt-nsfw-inference-onnx', 'AzureAsyncOperationUri': 'https://management.azure.com/subscriptions/5a8ec57c-47f9-4bc3-aee5-9e4db1b89345/providers/Microsoft.MachineLearningServices/locations/uksouth/mfeOperationsStatus/oeidp:9a0f0906-2e91-4aab-8570-30319c6b7c6c:18aedb61-1d6c-4667-8cdf-2913a260406b?api-version=2022-02-01-preview'}, 'print_as_yaml': True, 'id': '/subscriptions/5a8ec57c-47f9-4bc3-aee5-9e4db1b89345/resourceGroups/olonok-ml/providers/Microsoft.MachineLearningServices/workspaces/olonok-ml/onlineEndpoints/endpt-nsfw-inference-onnx', 'Resource__source_path': None, 'base_path': 'D:\\\\repos\\\\onnx\\\\azureml', 'creation_context': None, 'serialize': <msrest.serialization.Serializer object at 0x00000226B1D00350>, 'auth_mode': 'key', 'location': 'uksouth', 'identity': <azure.ai.ml.entities._credentials.IdentityConfiguration object at 0x00000226ABE91D50>, 'traffic': {}, 'mirror_traffic': {}, 'kind': 'Managed'})"
      ]
     },
     "execution_count": 91,
     "metadata": {},
     "output_type": "execute_result"
    }
   ],
   "source": [
    "from azure.ai.ml.entities import (\n",
    "    ManagedOnlineEndpoint,\n",
    "    ManagedOnlineDeployment,\n",
    "    Model,\n",
    "    Environment,\n",
    "    CodeConfiguration,\n",
    ")\n",
    "# Define an endpoint name\n",
    "endpoint_name = \"endpt-nsfw-inference-onnx\"\n",
    "\n",
    "# Example way to define a random name\n",
    "import datetime\n",
    "\n",
    "#endpoint_name = \"endpt-\" + datetime.datetime.now().strftime(\"%m%d%H%M%f\")\n",
    "\n",
    "# create an online endpoint\n",
    "endpoint = ManagedOnlineEndpoint(\n",
    "    name = endpoint_name, \n",
    "    description=\"this is a endpoint for onnx inference nsfw model\",\n",
    "    auth_mode=\"key\"\n",
    ")\n",
    "\n",
    "ml_client.online_endpoints.begin_create_or_update(endpoint).wait()\n",
    "ml_client.begin_create_or_update(endpoint).result()"
   ]
  },
  {
   "cell_type": "code",
   "execution_count": 17,
   "metadata": {},
   "outputs": [],
   "source": [
    "image = \"mcr.microsoft.com/azureml/curated/acpt-pytorch-2.2-cuda12.1:13\""
   ]
  },
  {
   "cell_type": "code",
   "execution_count": 18,
   "metadata": {},
   "outputs": [
    {
     "name": "stdout",
     "output_type": "stream",
     "text": [
      "creation_context:\n",
      "  created_at: '2024-08-21T14:24:35.700236+00:00'\n",
      "  created_by: 947fca35-35c1-4316-af96-dc987ad57f98\n",
      "  created_by_type: Application\n",
      "  last_modified_at: '2024-08-21T14:24:35.700236+00:00'\n",
      "  last_modified_by: 947fca35-35c1-4316-af96-dc987ad57f98\n",
      "  last_modified_by_type: Application\n",
      "id: azureml:/subscriptions/5a8ec57c-47f9-4bc3-aee5-9e4db1b89345/resourceGroups/olonok-ml/providers/Microsoft.MachineLearningServices/workspaces/olonok-ml/models/onnx_emotion\n",
      "latest_version: '1'\n",
      "name: onnx_emotion\n",
      "properties: {}\n",
      "tags: {}\n",
      "type: custom_model\n",
      "\n",
      "creation_context:\n",
      "  created_at: '2024-08-22T11:57:20.020267+00:00'\n",
      "  created_by: 947fca35-35c1-4316-af96-dc987ad57f98\n",
      "  created_by_type: Application\n",
      "  last_modified_at: '2024-08-22T11:57:20.020267+00:00'\n",
      "  last_modified_by: 947fca35-35c1-4316-af96-dc987ad57f98\n",
      "  last_modified_by_type: Application\n",
      "id: azureml:/subscriptions/5a8ec57c-47f9-4bc3-aee5-9e4db1b89345/resourceGroups/olonok-ml/providers/Microsoft.MachineLearningServices/workspaces/olonok-ml/models/onnx_nsfw\n",
      "latest_version: '1'\n",
      "name: onnx_nsfw\n",
      "properties: {}\n",
      "tags: {}\n",
      "type: custom_model\n",
      "\n"
     ]
    }
   ],
   "source": [
    "for m in ml_client.models.list():\n",
    "    print(m)"
   ]
  },
  {
   "cell_type": "code",
   "execution_count": 126,
   "metadata": {
    "collapsed": false,
    "gather": {
     "logged": 1684439751829
    },
    "jupyter": {
     "outputs_hidden": false,
     "source_hidden": false
    },
    "nteract": {
     "transient": {
      "deleting": false
     }
    }
   },
   "outputs": [],
   "source": [
    "env = Environment(\n",
    "    image=image,\n",
    ")\n",
    "model = ml_client.models.get(name=\"onnx_nsfw\", version = 1)"
   ]
  },
  {
   "cell_type": "code",
   "execution_count": 74,
   "metadata": {},
   "outputs": [
    {
     "name": "stderr",
     "output_type": "stream",
     "text": [
      "Downloading the model LocalUpload/7234b0d83a59c8bd791994828d9fabee/model.onnx at .\\onnx_emotion\n",
      "\n"
     ]
    }
   ],
   "source": [
    "#ml_client.models.download(name=\"onnx_emotion\", version = 1)"
   ]
  },
  {
   "attachments": {},
   "cell_type": "markdown",
   "metadata": {
    "nteract": {
     "transient": {
      "deleting": false
     }
    }
   },
   "source": [
    "##### 9.3 Deploy scoring file to the endpoint"
   ]
  },
  {
   "cell_type": "code",
   "execution_count": 131,
   "metadata": {},
   "outputs": [
    {
     "data": {
      "text/plain": [
       "('onnx_nsfw', '1')"
      ]
     },
     "execution_count": 131,
     "metadata": {},
     "output_type": "execute_result"
    }
   ],
   "source": [
    "model.name, model.version"
   ]
  },
  {
   "cell_type": "code",
   "execution_count": 125,
   "metadata": {},
   "outputs": [
    {
     "data": {
      "text/plain": [
       "'endpt-nsfw-inference-onnx'"
      ]
     },
     "execution_count": 125,
     "metadata": {},
     "output_type": "execute_result"
    }
   ],
   "source": [
    "endpoint_name"
   ]
  },
  {
   "cell_type": "code",
   "execution_count": 127,
   "metadata": {
    "collapsed": false,
    "gather": {
     "logged": 1684439501278
    },
    "jupyter": {
     "outputs_hidden": false,
     "source_hidden": false
    },
    "nteract": {
     "transient": {
      "deleting": false
     }
    }
   },
   "outputs": [
    {
     "name": "stderr",
     "output_type": "stream",
     "text": [
      "Check: endpoint endpt-nsfw-inference-onnx exists\n",
      "Your file exceeds 100 MB. If you experience low speeds, latency, or broken connections, we recommend using the AzCopyv10 tool for this file transfer.\n",
      "\n",
      "Example: azcopy copy 'D:\\repos\\onnx\\azureml\\nsfw' 'https://olonokml8611719525.blob.core.windows.net/9a0f0906-2e91-4aab-8570-30319c6b7c6c-frmxds7kkvrsp8g3oxj4xog9ci/nsfw' \n",
      "\n",
      "See https://docs.microsoft.com/azure/storage/common/storage-use-azcopy-v10 for more information.\n",
      "Uploading nsfw (343.51 MBs): 100%|############################################################################################################################| 343513141/343513141 [10:15<00:00, 557920.13it/s]\n",
      "\n",
      "\n"
     ]
    },
    {
     "data": {
      "text/plain": [
       "<azure.core.polling._poller.LROPoller at 0x226acffed50>"
      ]
     },
     "execution_count": 127,
     "metadata": {},
     "output_type": "execute_result"
    },
    {
     "name": "stdout",
     "output_type": "stream",
     "text": [
      "......................................................................................................................................................................................."
     ]
    }
   ],
   "source": [
    "\n",
    "\n",
    "blue_deployment = ManagedOnlineDeployment(\n",
    "    name=\"nsfw-onnx\",\n",
    "    endpoint_name=endpoint_name,\n",
    "    model=model,\n",
    "    environment=env,\n",
    "    code_configuration=CodeConfiguration(\n",
    "        code=\"./nsfw\", scoring_script=\"score.py\"\n",
    "    ),\n",
    "    instance_type=\"Standard_NC4as_T4_v3\",\n",
    "    instance_count=1,\n",
    ")\n",
    "\n",
    "ml_client.online_deployments.begin_create_or_update(blue_deployment)"
   ]
  },
  {
   "cell_type": "code",
   "execution_count": 99,
   "metadata": {
    "collapsed": false,
    "gather": {
     "logged": 1684906894100
    },
    "jupyter": {
     "outputs_hidden": false,
     "source_hidden": false
    },
    "nteract": {
     "transient": {
      "deleting": false
     }
    }
   },
   "outputs": [],
   "source": [
    "KEY = \"wVyvoBwfUdavqY0sk7kffbheUpafUnRC\"\n",
    "# Documentation: https://learn.microsoft.com/en-us/azure/machine-learning/how-to-deploy-online-endpoints\n",
    "# Troubleshooting: https://learn.microsoft.com/en-us/azure/machine-learning/how-to-troubleshoot-online-endpoints\n",
    "  \n",
    "# Preprocessing functions take your image and format it so it can be passed\n",
    "# as input into our ONNX model\n",
    "import cv2\n",
    "import numpy as np\n",
    "from PIL import Image \n",
    "\n",
    "def rgb2gray(rgb):\n",
    "    \"\"\"Convert the input image into grayscale\"\"\"\n",
    "    return np.dot(rgb[...,:3], [0.299, 0.587, 0.114])\n",
    "\n",
    "def resize_img(img):\n",
    "    \"\"\"Resize image to MNIST model input dimensions\"\"\"\n",
    "    img = cv2.resize(img, dsize=(224, 224), interpolation=cv2.INTER_AREA)\n",
    "    img.resize((1, 3, 224, 224))\n",
    "    return img\n",
    "\n",
    "def preprocess(img):\n",
    "    \"\"\"Resize input images and convert them to grayscale.\"\"\"\n",
    "    if img.shape == (224, 224):\n",
    "        img.resize((1, 3, 224, 224))\n",
    "        return img\n",
    "    \n",
    "    grayscale = rgb2gray(img)\n",
    "    processed_img = resize_img(grayscale)\n",
    "    return processed_img\n",
    "\n",
    "\n",
    "def load_img(path):\n",
    "    \"\"\"Load Image for onnx\n",
    "\n",
    "    Args:\n",
    "        path (_type_): path of image\n",
    "\n",
    "    Returns:\n",
    "        _type_: numpy array\n",
    "    \"\"\"\n",
    "    image = Image.open(path).convert(\"RGB\")\n",
    "    image = image.resize((224, 224), Image.BILINEAR)\n",
    "    img = np.array(image, dtype=np.float32)\n",
    "    img /= 255.0\n",
    "    img = np.transpose(img, (2, 0, 1))\n",
    "    return img"
   ]
  },
  {
   "cell_type": "code",
   "execution_count": 100,
   "metadata": {
    "collapsed": false,
    "gather": {
     "logged": 1684442248813
    },
    "jupyter": {
     "outputs_hidden": false,
     "source_hidden": false
    },
    "nteract": {
     "transient": {
      "deleting": false
     }
    }
   },
   "outputs": [
    {
     "name": "stdout",
     "output_type": "stream",
     "text": [
      "Old Dimensions:  (1026, 600, 3)\n",
      "New Dimensions:  (1, 3, 224, 224)\n"
     ]
    },
    {
     "data": {
      "image/png": "[encoded data removed]",
      "text/plain": [
       "<Figure size 640x480 with 1 Axes>"
      ]
     },
     "metadata": {},
     "output_type": "display_data"
    }
   ],
   "source": [
    "your_test_image = \"image/drawing1.jpg\"\n",
    "\n",
    "import matplotlib.pyplot as plt\n",
    "import matplotlib.image as mpimg\n",
    "import numpy as np\n",
    "import json\n",
    "import os\n",
    "\n",
    "if your_test_image != \"<path to file>\":\n",
    "    img2 = mpimg.imread(your_test_image)\n",
    "    plt.subplot(1,3,1)\n",
    "    plt.imshow(img2, cmap = plt.cm.Greys)\n",
    "    print(\"Old Dimensions: \", img2.shape)\n",
    "    img2 = preprocess(img2)\n",
    "    print(\"New Dimensions: \", img2.shape)\n",
    "else:\n",
    "    img2 = None"
   ]
  },
  {
   "cell_type": "code",
   "execution_count": 132,
   "metadata": {},
   "outputs": [],
   "source": [
    "img = load_img(your_test_image)"
   ]
  },
  {
   "cell_type": "code",
   "execution_count": 133,
   "metadata": {},
   "outputs": [
    {
     "data": {
      "text/plain": [
       "(3, 224, 224)"
      ]
     },
     "execution_count": 133,
     "metadata": {},
     "output_type": "execute_result"
    }
   ],
   "source": [
    "img.shape"
   ]
  },
  {
   "cell_type": "code",
   "execution_count": 103,
   "metadata": {},
   "outputs": [
    {
     "data": {
      "text/plain": [
       "(3, 224, 224)"
      ]
     },
     "execution_count": 103,
     "metadata": {},
     "output_type": "execute_result"
    }
   ],
   "source": [
    "np.array(img.tolist()).shape"
   ]
  },
  {
   "cell_type": "code",
   "execution_count": 134,
   "metadata": {
    "collapsed": false,
    "jupyter": {
     "outputs_hidden": false,
     "source_hidden": false
    },
    "nteract": {
     "transient": {
      "deleting": false
     }
    }
   },
   "outputs": [],
   "source": [
    "input_data = json.dumps({'data': img.tolist()})"
   ]
  },
  {
   "cell_type": "code",
   "execution_count": 123,
   "metadata": {},
   "outputs": [
    {
     "data": {
      "text/plain": [
       "(1, 3, 224, 224)"
      ]
     },
     "execution_count": 123,
     "metadata": {},
     "output_type": "execute_result"
    }
   ],
   "source": [
    "np.array([np.array(json.loads(input_data)['data']).astype('float32')]).shape"
   ]
  },
  {
   "cell_type": "code",
   "execution_count": 110,
   "metadata": {},
   "outputs": [],
   "source": [
    "import json\n",
    "import numpy as np\n",
    "import onnxruntime\n",
    "import sys\n",
    "import os\n",
    "from azureml.core.model import Model\n",
    "import time\n",
    "\n",
    "def run(input_data):\n",
    "    '''Purpose: evaluate test input in Azure Cloud using onnxruntime.\n",
    "        We will call the run function later from our Jupyter Notebook \n",
    "        so our azure service can evaluate our model input in the cloud. '''\n",
    "\n",
    "    try:\n",
    "        # load in our data, convert to readable format\n",
    "        data = np.array([np.array(json.loads(input_data)['data']).astype('float32')])\n",
    "        \n",
    "        # pass input data to do model inference with ONNX Runtime\n",
    "        start = time.time()\n",
    "        r = session.run([output_name], {input_name : data})\n",
    "        end = time.time()\n",
    "        \n",
    "        result = label_map(postprocess(r[0]))\n",
    "        \n",
    "        result_dict = {\"result\": result,\n",
    "                      \"time_in_sec\": [end - start]}\n",
    "    except Exception as e:\n",
    "        result_dict = {\"error\": str(e)}\n",
    "    \n",
    "    return json.dumps(result_dict)\n",
    "\n",
    "\n",
    "\n",
    "def label_map(probs, threshold=.5):\n",
    "    \"\"\"Take the most probable labels (output of postprocess) and returns the \n",
    "    probs of each label.\"\"\"\n",
    "    # labels and dictionary to \n",
    "    label_dic = {\"drawings\": 0, \"hentai\": 1, \"neutral\": 2, \"porn\": 3, \"sexy\": 4}\n",
    "    output_probs = {}\n",
    "    image_preds = {}\n",
    "    for prob, key in zip(probs, range(0, len(probs))):\n",
    "        label = get_key(label_dic, key)\n",
    "        output_probs[label] = float(prob)\n",
    "\n",
    "    prob_nsfw = output_probs[\"sexy\"] + output_probs[\"hentai\"] + output_probs[\"porn\"]\n",
    "    if prob_nsfw > threshold:\n",
    "        image_preds[\"nsfw\"] = 1\n",
    "    else:\n",
    "        image_preds[\"nsfw\"] = 0\n",
    "\n",
    "    image_preds[\"class_probabilities\"] = output_probs\n",
    "    return image_preds\n",
    "\n",
    "def get_key(dict, value):\n",
    "    \"\"\"\n",
    "    return key given a value. From a dictionary\n",
    "    \"\"\"\n",
    "    for key, val in dict.items():\n",
    "        if val == value:\n",
    "            return key\n",
    "    return \"Value not found\"\n",
    "\n",
    "def postprocess(scores):\n",
    "    \"\"\"This function takes the scores generated by the network and \n",
    "    returns the class IDs in decreasing order of probability.\"\"\"\n",
    "    logits = np.array(scores)\n",
    "    probabilities = np.exp(logits) / np.sum(np.exp(logits), axis=1, keepdims=True)\n",
    "    probs = probabilities[0]\n",
    "    \n",
    "    return probs"
   ]
  },
  {
   "cell_type": "code",
   "execution_count": 143,
   "metadata": {},
   "outputs": [
    {
     "data": {
      "text/plain": [
       "'{\"result\": {\"nsfw\": 0, \"class_probabilities\": {\"drawings\": 0.9823650121688843, \"hentai\": 0.01111314631998539, \"neutral\": 0.0038373712450265884, \"porn\": 0.001065530814230442, \"sexy\": 0.0016189715825021267}}, \"time_in_sec\": [0.4466402530670166]}'"
      ]
     },
     "execution_count": 143,
     "metadata": {},
     "output_type": "execute_result"
    }
   ],
   "source": [
    "run(input_data)\n",
    "# body.decode()"
   ]
  },
  {
   "cell_type": "code",
   "execution_count": 108,
   "metadata": {},
   "outputs": [],
   "source": [
    "import urllib.request\n",
    "import json\n",
    "import os\n",
    "import ssl\n",
    "\n",
    "def allowSelfSignedHttps(allowed):\n",
    "    # bypass the server certificate verification on client side\n",
    "    if allowed and not os.environ.get('PYTHONHTTPSVERIFY', '') and getattr(ssl, '_create_unverified_context', None):\n",
    "        ssl._create_default_https_context = ssl._create_unverified_context\n",
    "\n",
    "allowSelfSignedHttps(True) "
   ]
  },
  {
   "cell_type": "code",
   "execution_count": 136,
   "metadata": {},
   "outputs": [],
   "source": [
    "body = str.encode(input_data)"
   ]
  },
  {
   "cell_type": "code",
   "execution_count": 145,
   "metadata": {},
   "outputs": [
    {
     "name": "stdout",
     "output_type": "stream",
     "text": [
      "b'\"{\\\\\"result\\\\\": {\\\\\"nsfw\\\\\": 0, \\\\\"class_probabilities\\\\\": {\\\\\"drawings\\\\\": 0.9823650121688843, \\\\\"hentai\\\\\": 0.01111314631998539, \\\\\"neutral\\\\\": 0.0038373712450265884, \\\\\"porn\\\\\": 0.001065530814230442, \\\\\"sexy\\\\\": 0.0016189715825021267}}, \\\\\"time_in_sec\\\\\": [0.17425036430358887]}\"'\n"
     ]
    }
   ],
   "source": [
    "\n",
    "\n",
    "body = str.encode(input_data)\n",
    "\n",
    "url = 'https://endpt-nsfw-inference-onnx.uksouth.inference.ml.azure.com/score'\n",
    "# Replace this with the primary/secondary key, AMLToken, or Microsoft Entra ID token for the endpoint\n",
    "api_key = \"wVyvoBwfUdavqY0sk7kffbheUpafUnRC\"\n",
    "if not api_key:\n",
    "    raise Exception(\"A key should be provided to invoke the endpoint\")\n",
    "\n",
    "\n",
    "headers = {'Content-Type':'application/json', 'Authorization':('Bearer '+ api_key), 'azureml-model-deployment': 'nsfw-onnx' }\n",
    "\n",
    "req = urllib.request.Request(url, body, headers)\n",
    "try:\n",
    "    response = urllib.request.urlopen(req)\n",
    "\n",
    "    result = response.read()\n",
    "    print(result)\n",
    "except urllib.error.HTTPError as error:\n",
    "    print(\"The request failed with status code: \" + str(error.code))\n",
    "\n",
    "    # Print the headers - they include the requert ID and the timestamp, which are useful for debugging the failure\n",
    "    print(error.info())\n",
    "    print(error.read().decode(\"utf8\", 'ignore'))"
   ]
  },
  {
   "cell_type": "code",
   "execution_count": 146,
   "metadata": {},
   "outputs": [
    {
     "data": {
      "text/plain": [
       "'{\"result\": {\"nsfw\": 0, \"class_probabilities\": {\"drawings\": 0.9823650121688843, \"hentai\": 0.01111314631998539, \"neutral\": 0.0038373712450265884, \"porn\": 0.001065530814230442, \"sexy\": 0.0016189715825021267}}, \"time_in_sec\": [0.17425036430358887]}'"
      ]
     },
     "execution_count": 146,
     "metadata": {},
     "output_type": "execute_result"
    }
   ],
   "source": [
    "json.loads(result.decode())"
   ]
  },
  {
   "attachments": {},
   "cell_type": "markdown",
   "metadata": {
    "nteract": {
     "transient": {
      "deleting": false
     }
    }
   },
   "source": [
    "##### 9.5: Delete the online endpoint\n",
    "Don't forget to delete the online endpoint, else you will leave the billing meter running for the compute used by the endpoint"
   ]
  },
  {
   "cell_type": "code",
   "execution_count": 147,
   "metadata": {
    "collapsed": false,
    "gather": {
     "logged": 1684306030654
    },
    "jupyter": {
     "outputs_hidden": false,
     "source_hidden": false
    },
    "nteract": {
     "transient": {
      "deleting": false
     }
    }
   },
   "outputs": [
    {
     "name": "stdout",
     "output_type": "stream",
     "text": [
      "........................................................................"
     ]
    }
   ],
   "source": [
    "ml_client.online_endpoints.begin_delete(name=endpoint_name).wait()"
   ]
  },
  {
   "cell_type": "code",
   "execution_count": null,
   "metadata": {},
   "outputs": [],
   "source": []
  }
 ],
 "metadata": {
  "kernel_info": {
   "name": "python3"
  },
  "kernelspec": {
   "display_name": "Python (azure_ml)",
   "language": "python",
   "name": "azure_ml"
  },
  "language_info": {
   "codemirror_mode": {
    "name": "ipython",
    "version": 3
   },
   "file_extension": ".py",
   "mimetype": "text/x-python",
   "name": "python",
   "nbconvert_exporter": "python",
   "pygments_lexer": "ipython3",
   "version": "3.11.8"
  },
  "microsoft": {
   "host": {
    "AzureML": {
     "notebookHasBeenCompleted": true
    }
   },
   "ms_spell_check": {
    "ms_spell_check_language": "en"
   }
  },
  "nteract": {
   "version": "nteract-front-end@1.0.0"
  }
 },
 "nbformat": 4,
 "nbformat_minor": 4
}
