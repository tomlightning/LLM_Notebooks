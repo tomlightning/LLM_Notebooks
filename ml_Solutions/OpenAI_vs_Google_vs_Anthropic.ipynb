{
  "cells": [
    {
      "cell_type": "markdown",
      "metadata": {
        "id": "view-in-github",
        "colab_type": "text"
      },
      "source": [
        "<a href=\"https://colab.research.google.com/github/olonok69/LLM_Notebooks/blob/main/ml_Solutions/OpenAI_vs_Google_vs_Anthropic.ipynb\" target=\"_parent\"><img src=\"https://colab.research.google.com/assets/colab-badge.svg\" alt=\"Open In Colab\"/></a>"
      ]
    },
    {
      "cell_type": "markdown",
      "source": [
        "# Multimodal Models\n",
        "\n",
        "# OpenAI\n",
        "### OpenAi Pricing\n",
        "https://openai.com/api/pricing/\n",
        "\n",
        "###Gpt-4o\n",
        "\n",
        "https://openai.com/index/hello-gpt-4o/\n",
        "\n",
        "#####Context Window\n",
        "https://community.openai.com/t/announcing-gpt-4o-in-the-api/744700\n",
        "\n",
        "GPT-4o has a 128K context window and has a knowledge cut-off date of October 2023.\n",
        "\n",
        "\n",
        "# Anthropic\n",
        "https://www.anthropic.com/news/claude-3-family\n",
        "\n",
        "###Claude 3\n",
        "https://docs.anthropic.com/en/docs/models-overview\n",
        "\n",
        "#####Context Window\n",
        "https://www.anthropic.com/news/claude-3-family\n",
        "\n",
        "The Claude 3 family of models will initially offer a 200K context window upon launch. However, all three models are capable of accepting inputs exceeding 1 million tokens and we may make this available to select customers who need enhanced processing power.\n",
        "\n",
        "### pricing\n",
        "https://www.anthropic.com/api#pricing\n",
        "\n",
        "# Google Gemini\n",
        "\n",
        "### Gemini 1.5 flask\n",
        "\n",
        "https://deepmind.google/technologies/gemini/flash/\n",
        "\n",
        "\n",
        "\n",
        "### pricing\n",
        "https://ai.google.dev/pricing\n",
        "\n",
        "https://github.com/anthropics/anthropic-sdk-python\n",
        "\n",
        "#####Context Window\n",
        "https://deepmind.google/technologies/gemini/flash/\n",
        "\n",
        "Flash has a one-million-token context window by default, which means you can process one hour of video, 11 hours of audio, codebases with more than 30,000 lines of code, or over 700,000 words."
      ],
      "metadata": {
        "id": "gi-IIkAE-U3P"
      },
      "id": "gi-IIkAE-U3P"
    },
    {
      "cell_type": "code",
      "source": [
        "!pip install tiktoken openai voyageai anthropic google-cloud-aiplatform  google-generativeai  python-dotenv -q"
      ],
      "metadata": {
        "id": "02LF184Dqg9H"
      },
      "id": "02LF184Dqg9H",
      "execution_count": 9,
      "outputs": []
    },
    {
      "cell_type": "code",
      "source": [
        "!curl ipinfo.io"
      ],
      "metadata": {
        "colab": {
          "base_uri": "https://localhost:8080/"
        },
        "id": "WnemRxqFVAAp",
        "outputId": "7dbe3ce9-20c1-4086-efcc-44e3fcd7a660"
      },
      "id": "WnemRxqFVAAp",
      "execution_count": 13,
      "outputs": [
        {
          "output_type": "stream",
          "name": "stdout",
          "text": [
            "{\n",
            "  \"ip\": \"104.199.230.178\",\n",
            "  \"hostname\": \"178.230.199.104.bc.googleusercontent.com\",\n",
            "  \"city\": \"Taipei\",\n",
            "  \"region\": \"Taiwan\",\n",
            "  \"country\": \"TW\",\n",
            "  \"loc\": \"25.0478,121.5319\",\n",
            "  \"org\": \"AS396982 Google LLC\",\n",
            "  \"timezone\": \"Asia/Taipei\",\n",
            "  \"readme\": \"https://ipinfo.io/missingauth\"\n",
            "}"
          ]
        }
      ]
    },
    {
      "cell_type": "code",
      "source": [
        "from google.colab import drive\n",
        "drive.mount('/content/drive')"
      ],
      "metadata": {
        "colab": {
          "base_uri": "https://localhost:8080/"
        },
        "id": "fdHB_0oDV0pE",
        "outputId": "dcf10863-43cb-4800-a414-d3e0803ebae8"
      },
      "id": "fdHB_0oDV0pE",
      "execution_count": 6,
      "outputs": [
        {
          "output_type": "stream",
          "name": "stdout",
          "text": [
            "Mounted at /content/drive\n"
          ]
        }
      ]
    },
    {
      "cell_type": "code",
      "execution_count": 17,
      "id": "2b65de9a",
      "metadata": {
        "id": "2b65de9a"
      },
      "outputs": [],
      "source": [
        "import tiktoken\n",
        "from openai import OpenAI\n",
        "from dotenv import dotenv_values\n",
        "import json\n",
        "import vertexai\n",
        "from google.oauth2 import service_account\n",
        "import base64\n",
        "from vertexai.generative_models import GenerativeModel, Part, ChatSession\n",
        "import vertexai.preview.generative_models as generative_models"
      ]
    },
    {
      "cell_type": "code",
      "source": [
        "from google.colab import userdata\n",
        "# OpenAI and ANTROPHIC credentials\n",
        "api_key = userdata.get('KEY_OPENAI')\n",
        "API_KEY_ANTROPIC = userdata.get(\"ANTROPIC_KEY\")"
      ],
      "metadata": {
        "id": "RXH8QevB724l"
      },
      "id": "RXH8QevB724l",
      "execution_count": 7,
      "outputs": []
    },
    {
      "cell_type": "code",
      "source": [
        "config = dotenv_values(\"/content/drive/MyDrive/keys/keys/.env\")\n",
        "with open(\"/content/drive/MyDrive/keys/keys/complete-tube-421007-9a7c35cd44e2.json\") as source:\n",
        "    info = json.load(source)"
      ],
      "metadata": {
        "id": "ShwT1YNUiEyg"
      },
      "id": "ShwT1YNUiEyg",
      "execution_count": 11,
      "outputs": []
    },
    {
      "cell_type": "markdown",
      "source": [
        "#Gemini Pro flash"
      ],
      "metadata": {
        "id": "gr2kraSasmPh"
      },
      "id": "gr2kraSasmPh"
    },
    {
      "cell_type": "code",
      "source": [
        "#vertex AI credentials\n",
        "vertex_credentials = service_account.Credentials.from_service_account_info(info)\n",
        "\n",
        "vertexai.init(\n",
        "        project=config[\"PROJECT\"],\n",
        "        location=config[\"REGION\"],\n",
        "        credentials=vertex_credentials,\n",
        "    )"
      ],
      "metadata": {
        "id": "KFGG0HNFi0CQ"
      },
      "id": "KFGG0HNFi0CQ",
      "execution_count": 15,
      "outputs": []
    },
    {
      "cell_type": "code",
      "source": [
        "def get_chat_response(chat: ChatSession, prompt: str) -> str:\n",
        "    text_response = []\n",
        "    responses = chat.send_message(prompt, stream=True)\n",
        "    for chunk in responses:\n",
        "        text_response.append(chunk.text)\n",
        "    return \"\".join(text_response), responses"
      ],
      "metadata": {
        "id": "DooR8mnwjcuB"
      },
      "id": "DooR8mnwjcuB",
      "execution_count": 69,
      "outputs": []
    },
    {
      "cell_type": "code",
      "source": [
        "model = GenerativeModel(\n",
        "    \"gemini-1.5-flash-preview-0514\",\n",
        "    system_instruction=[\"\"\"You a helpful agent who helps to extract relevant information from documents\"\"\"],\n",
        "    safety_settings= {\n",
        "    generative_models.HarmCategory.HARM_CATEGORY_HATE_SPEECH: generative_models.HarmBlockThreshold.BLOCK_NONE,\n",
        "    generative_models.HarmCategory.HARM_CATEGORY_DANGEROUS_CONTENT: generative_models.HarmBlockThreshold.BLOCK_NONE,\n",
        "    generative_models.HarmCategory.HARM_CATEGORY_SEXUALLY_EXPLICIT: generative_models.HarmBlockThreshold.BLOCK_NONE,\n",
        "    generative_models.HarmCategory.HARM_CATEGORY_HARASSMENT: generative_models.HarmBlockThreshold.BLOCK_NONE,\n",
        "},\n",
        "     generation_config = {\n",
        "    \"max_output_tokens\": 8192,\n",
        "    \"temperature\": 0.1,\n",
        "    \"top_p\": 0.95,\n",
        "}\n",
        "  )\n",
        "chat = model.start_chat(response_validation=False)"
      ],
      "metadata": {
        "id": "x_Z0zZ8xjcpD"
      },
      "id": "x_Z0zZ8xjcpD",
      "execution_count": 50,
      "outputs": []
    },
    {
      "cell_type": "code",
      "source": [
        "from pathlib import Path\n",
        "content=[]\n",
        "base64_images = []\n",
        "pathlist = Path(\"/content/drive/MyDrive/data (1)/docs/\").glob('**/*.jpg')\n",
        "for path in pathlist:\n",
        "    # Convert path object to a string\n",
        "    path_in_str = str(path)\n",
        "    # Perform actions on the file (e.g., print its path)\n",
        "    print(path_in_str)\n",
        "    with open(path_in_str, \"rb\") as f:\n",
        "        im_bytes = f.read()\n",
        "        im_b64 = base64.b64encode(im_bytes).decode(\"utf8\")\n",
        "        base64_images.append(im_b64)\n",
        "        image = Part.from_data(data=im_b64, mime_type=\"image/jpeg\")\n",
        "        content.append(image)"
      ],
      "metadata": {
        "colab": {
          "base_uri": "https://localhost:8080/"
        },
        "id": "6JI8eUuIjck_",
        "outputId": "f6604df8-c29a-47e7-b64a-adf2bd2d61f8"
      },
      "id": "6JI8eUuIjck_",
      "execution_count": 64,
      "outputs": [
        {
          "output_type": "stream",
          "name": "stdout",
          "text": [
            "/content/drive/MyDrive/data (1)/docs/Halifax - Bank Statement 1.jpg\n"
          ]
        }
      ]
    },
    {
      "cell_type": "code",
      "source": [
        "base64_images[0][:100]"
      ],
      "metadata": {
        "colab": {
          "base_uri": "https://localhost:8080/",
          "height": 35
        },
        "id": "AYje-VwznUbk",
        "outputId": "4c622f9a-7a7f-464e-a5d2-e2cce0a046cd"
      },
      "id": "AYje-VwznUbk",
      "execution_count": 60,
      "outputs": [
        {
          "output_type": "execute_result",
          "data": {
            "text/plain": [
              "'/9j/4AAQSkZJRgABAQAAAQABAAD/2wBDAAgGBgcGBQgHBwcJCQgKDBQNDAsLDBkSEw8UHRofHh0aHBwgJC4nICIsIxwcKDcpLDAx'"
            ],
            "application/vnd.google.colaboratory.intrinsic+json": {
              "type": "string"
            }
          },
          "metadata": {},
          "execution_count": 60
        }
      ]
    },
    {
      "cell_type": "code",
      "source": [
        "question = \"\"\"Intructions:\n",
        "              1) Extract bank name\n",
        "              2) Date of statement\n",
        "              3) Dont show names or surnames. refers as subject Mr X or Mrs X.\n",
        "              4) Money In, Money Out and closing Balance\n",
        "              5) If the Language is not English , respond in English together with the document language\n",
        "\n",
        "\"\"\""
      ],
      "metadata": {
        "id": "fqYtFlgckvrp"
      },
      "id": "fqYtFlgckvrp",
      "execution_count": 65,
      "outputs": []
    },
    {
      "cell_type": "code",
      "source": [
        "prompt =[f\"\"\"{question} \"\"\"] +  content"
      ],
      "metadata": {
        "id": "hQLyGMYdkvoQ"
      },
      "id": "hQLyGMYdkvoQ",
      "execution_count": 80,
      "outputs": []
    },
    {
      "cell_type": "code",
      "source": [
        "model.count_tokens(prompt)"
      ],
      "metadata": {
        "colab": {
          "base_uri": "https://localhost:8080/"
        },
        "id": "pquHTWySsgqh",
        "outputId": "e7084665-2fc7-4998-ff93-edf5acddc280"
      },
      "id": "pquHTWySsgqh",
      "execution_count": 81,
      "outputs": [
        {
          "output_type": "execute_result",
          "data": {
            "text/plain": [
              "total_tokens: 330\n",
              "total_billable_characters: 207"
            ]
          },
          "metadata": {},
          "execution_count": 81
        }
      ]
    },
    {
      "cell_type": "code",
      "source": [
        "response, res = get_chat_response(chat, prompt)"
      ],
      "metadata": {
        "id": "zrTp8r9KkvDp"
      },
      "id": "zrTp8r9KkvDp",
      "execution_count": 70,
      "outputs": []
    },
    {
      "cell_type": "code",
      "source": [
        "print(response)"
      ],
      "metadata": {
        "colab": {
          "base_uri": "https://localhost:8080/"
        },
        "id": "hvgDDlWVkrzm",
        "outputId": "4fd38d5a-0465-4513-bd32-33c8265537e6"
      },
      "id": "hvgDDlWVkrzm",
      "execution_count": 71,
      "outputs": [
        {
          "output_type": "stream",
          "name": "stdout",
          "text": [
            "The bank name is Halifax.\n",
            "\n",
            "The date of the statement is 11 November 2017.\n",
            "\n",
            "Mr/Mrs X's Money In is 9,070.00.\n",
            "\n",
            "Mr/Mrs X's Money Out is 9,741.17.\n",
            "\n",
            "Mr/Mrs X's closing balance is 3,815.97. \n",
            "\n"
          ]
        }
      ]
    },
    {
      "cell_type": "code",
      "source": [
        "chat.history[-1]"
      ],
      "metadata": {
        "colab": {
          "base_uri": "https://localhost:8080/"
        },
        "id": "_08PLmdLrpih",
        "outputId": "6cfc4e4f-d947-4859-8329-0cbe8b941cf2"
      },
      "id": "_08PLmdLrpih",
      "execution_count": 78,
      "outputs": [
        {
          "output_type": "execute_result",
          "data": {
            "text/plain": [
              "role: \"model\"\n",
              "parts {\n",
              "  text: \"The bank name is Halifax.\\n\\nThe date of the statement is 11 November 2017.\\n\\nMr/Mrs X\\'s Money In is 9,070.00.\\n\\nMr/Mrs X\\'s Money Out is 9,741.17.\\n\\nMr/Mrs X\\'s closing balance is 3,815.97. \\n\"\n",
              "}"
            ]
          },
          "metadata": {},
          "execution_count": 78
        }
      ]
    },
    {
      "cell_type": "code",
      "source": [
        "model.count_tokens(prompt)"
      ],
      "metadata": {
        "colab": {
          "base_uri": "https://localhost:8080/"
        },
        "id": "uZPqA9gesOpX",
        "outputId": "94f1c730-aab4-4d94-aa99-b51c13d50714"
      },
      "id": "uZPqA9gesOpX",
      "execution_count": 79,
      "outputs": [
        {
          "output_type": "execute_result",
          "data": {
            "text/plain": [
              "total_tokens: 330\n",
              "total_billable_characters: 207"
            ]
          },
          "metadata": {},
          "execution_count": 79
        }
      ]
    },
    {
      "cell_type": "code",
      "source": [
        "\n",
        "client = OpenAI(api_key=api_key)\n",
        "\n",
        "\n",
        "response = client.chat.completions.create(\n",
        "  model=\"gpt-4o\",\n",
        "  messages=[\n",
        "    {\n",
        "      \"role\": \"system\",\n",
        "      \"content\": [\n",
        "        {\n",
        "          \"type\": \"text\",\n",
        "          \"text\": \"you are a document extractor tool\"\n",
        "        }\n",
        "      ]\n",
        "    },\n",
        "    {\n",
        "      \"role\": \"user\",\n",
        "      \"content\": [\n",
        "        {\n",
        "          \"type\": \"text\",\n",
        "          \"text\": question\n",
        "        },\n",
        "        {\n",
        "          \"type\": \"image_url\",\n",
        "          \"image_url\": {\n",
        "            \"url\": f\"data:image/jpeg;base64,{base64_images[0]}\"\n",
        "          }\n",
        "        }\n",
        "\n",
        "      ]\n",
        "    },\n",
        "    {\n",
        "      \"role\": \"assistant\",\n",
        "      \"content\": [\n",
        "        {\n",
        "          \"type\": \"text\",\n",
        "          \"text\": \"\",\n",
        "        }\n",
        "      ]\n",
        "    }\n",
        "  ],\n",
        "  temperature=1,\n",
        "  max_tokens=256,\n",
        "  top_p=1,\n",
        "  frequency_penalty=0,\n",
        "  presence_penalty=0\n",
        ")"
      ],
      "metadata": {
        "id": "VBXG4wCj7m8U"
      },
      "id": "VBXG4wCj7m8U",
      "execution_count": 82,
      "outputs": []
    },
    {
      "cell_type": "code",
      "source": [
        "response.usage"
      ],
      "metadata": {
        "colab": {
          "base_uri": "https://localhost:8080/"
        },
        "id": "N-FL0P1X9d2C",
        "outputId": "283a10e3-1bfe-47a4-8d25-1590fc541856"
      },
      "id": "N-FL0P1X9d2C",
      "execution_count": 83,
      "outputs": [
        {
          "output_type": "execute_result",
          "data": {
            "text/plain": [
              "CompletionUsage(completion_tokens=79, prompt_tokens=1200, total_tokens=1279)"
            ]
          },
          "metadata": {},
          "execution_count": 83
        }
      ]
    },
    {
      "cell_type": "code",
      "source": [
        "print(response.choices[0].message.content)"
      ],
      "metadata": {
        "id": "61ZjKlBj-Fab",
        "colab": {
          "base_uri": "https://localhost:8080/"
        },
        "outputId": "638ef5bd-3bf3-46f5-fbf3-51d26c9344a2"
      },
      "id": "61ZjKlBj-Fab",
      "execution_count": 86,
      "outputs": [
        {
          "output_type": "stream",
          "name": "stdout",
          "text": [
            "1) **Bank Name**: Halifax\n",
            "\n",
            "2) **Date of Statement**: 11 November 2017\n",
            "\n",
            "3) **Money In, Money Out, and Closing Balance**:\n",
            "   - **Money In**: £9,070.00\n",
            "   - **Money Out**: £9,741.17\n",
            "   - **Closing Balance**: £3,815.97\n"
          ]
        }
      ]
    },
    {
      "cell_type": "markdown",
      "source": [
        "# Claude 3\n"
      ],
      "metadata": {
        "id": "d-Ik_HSXvnol"
      },
      "id": "d-Ik_HSXvnol"
    },
    {
      "cell_type": "code",
      "source": [
        "import os\n",
        "from anthropic import Anthropic"
      ],
      "metadata": {
        "id": "YJH8_n-GxDa8"
      },
      "id": "YJH8_n-GxDa8",
      "execution_count": 88,
      "outputs": []
    },
    {
      "cell_type": "code",
      "execution_count": 94,
      "id": "204b8a05",
      "metadata": {
        "id": "204b8a05"
      },
      "outputs": [],
      "source": [
        "# ANTHROPIC_API_KEY\n",
        "os.environ[\"ANTHROPIC_API_KEY\"] = API_KEY_ANTROPIC"
      ]
    },
    {
      "cell_type": "code",
      "source": [
        "import anthropic\n",
        "\n",
        "client = anthropic.Anthropic(\n",
        "    # defaults to os.environ.get(\"ANTHROPIC_API_KEY\")\n",
        "    api_key=API_KEY_ANTROPIC,\n",
        ")"
      ],
      "metadata": {
        "id": "nJL8WjxIyRjz"
      },
      "id": "nJL8WjxIyRjz",
      "execution_count": 95,
      "outputs": []
    },
    {
      "cell_type": "code",
      "execution_count": 108,
      "id": "51c32d58",
      "metadata": {
        "colab": {
          "base_uri": "https://localhost:8080/"
        },
        "id": "51c32d58",
        "outputId": "bbdda9b5-afbb-4ef6-8694-ccb5ff597348"
      },
      "outputs": [
        {
          "output_type": "stream",
          "name": "stdout",
          "text": [
            "Message(id='msg_01HaWKA5ShYy2Z58XGNTVJai', content=[TextBlock(text='1) The bank name is Halifax.\\n\\n2) The date of the statement is 11 November 2017.\\n\\n3) The statement does not contain any names or surnames that can be identified. The transactions are described with the payment type or vendor name.\\n\\n4) The Money In column shows a single credit of £5.00 on 04 Oct 17. The Money Out column shows various debit transactions totaling £3,750.83. The closing Balance is £3,815.97.\\n\\n5) The statement is in English.', type='text')], model='claude-3-haiku-20240307', role='assistant', stop_reason='end_turn', stop_sequence=None, type='message', usage=Usage(input_tokens=1634, output_tokens=121))\n"
          ]
        }
      ],
      "source": [
        "# claude-3-haiku-20240307 # claude-3-opus-20240229\n",
        "message = client.messages.create(\n",
        "    model=\"claude-3-haiku-20240307\",\n",
        "    max_tokens=2048,\n",
        "    messages=[\n",
        "        {\n",
        "            \"role\": \"user\",\n",
        "            \"content\": [\n",
        "                {\n",
        "                    \"type\": \"image\",\n",
        "                    \"source\": {\n",
        "                        \"type\": \"base64\",\n",
        "                        \"media_type\": \"image/jpeg\",\n",
        "                        \"data\": f\"{base64_images[0]}\",\n",
        "                    },\n",
        "                },\n",
        "                {\n",
        "                    \"type\": \"text\",\n",
        "                    \"text\": question\n",
        "                }\n",
        "            ],\n",
        "        }\n",
        "    ],\n",
        ")\n",
        "print(message)"
      ]
    },
    {
      "cell_type": "code",
      "execution_count": 109,
      "id": "6db00f7c",
      "metadata": {
        "id": "6db00f7c",
        "colab": {
          "base_uri": "https://localhost:8080/"
        },
        "outputId": "61fa3275-d2da-485d-f3af-c3bb812f4351"
      },
      "outputs": [
        {
          "output_type": "stream",
          "name": "stdout",
          "text": [
            "1) The bank name is Halifax.\n",
            "\n",
            "2) The date of the statement is 11 November 2017.\n",
            "\n",
            "3) The statement does not contain any names or surnames that can be identified. The transactions are described with the payment type or vendor name.\n",
            "\n",
            "4) The Money In column shows a single credit of £5.00 on 04 Oct 17. The Money Out column shows various debit transactions totaling £3,750.83. The closing Balance is £3,815.97.\n",
            "\n",
            "5) The statement is in English.\n"
          ]
        }
      ],
      "source": [
        "print(message.content[0].text)"
      ]
    },
    {
      "cell_type": "code",
      "execution_count": 100,
      "id": "8468368c",
      "metadata": {
        "colab": {
          "base_uri": "https://localhost:8080/"
        },
        "id": "8468368c",
        "outputId": "1d308953-0f93-4177-c6f3-bd55241e2c4d"
      },
      "outputs": [
        {
          "output_type": "stream",
          "name": "stdout",
          "text": [
            "Usage(input_tokens=1634, output_tokens=95)\n"
          ]
        }
      ],
      "source": [
        "print(message.usage)"
      ]
    },
    {
      "cell_type": "code",
      "source": [
        "#cost Anthropic\n",
        "\n",
        "message.usage.input_tokens * (15/10**6) + message.usage.output_tokens * (75/10**6)"
      ],
      "metadata": {
        "colab": {
          "base_uri": "https://localhost:8080/"
        },
        "id": "DR0slKww0JlR",
        "outputId": "449a568b-a907-460d-ea7f-bcdbaa9cae19"
      },
      "id": "DR0slKww0JlR",
      "execution_count": 101,
      "outputs": [
        {
          "output_type": "execute_result",
          "data": {
            "text/plain": [
              "0.031634999999999996"
            ]
          },
          "metadata": {},
          "execution_count": 101
        }
      ]
    },
    {
      "cell_type": "code",
      "source": [
        "\n",
        "message.usage.input_tokens * (0.25/10**6) + message.usage.output_tokens * (1.25/10**6)"
      ],
      "metadata": {
        "colab": {
          "base_uri": "https://localhost:8080/"
        },
        "id": "o_pojYEEHeqG",
        "outputId": "56ac698f-8afd-49fb-8a32-df0f7e7e2bfe"
      },
      "id": "o_pojYEEHeqG",
      "execution_count": 107,
      "outputs": [
        {
          "output_type": "execute_result",
          "data": {
            "text/plain": [
              "0.0005272499999999999"
            ]
          },
          "metadata": {},
          "execution_count": 107
        }
      ]
    },
    {
      "cell_type": "code",
      "source": [
        "#cost OpenAi\n",
        "\n",
        "response.usage.completion_tokens * (5/10**6) + response.usage.completion_tokens * (15/10**6)"
      ],
      "metadata": {
        "colab": {
          "base_uri": "https://localhost:8080/"
        },
        "id": "od2XIala2jvA",
        "outputId": "260fca5a-55c0-4a11-f25f-828a89b10f25"
      },
      "id": "od2XIala2jvA",
      "execution_count": 104,
      "outputs": [
        {
          "output_type": "execute_result",
          "data": {
            "text/plain": [
              "0.00158"
            ]
          },
          "metadata": {},
          "execution_count": 104
        }
      ]
    },
    {
      "cell_type": "code",
      "source": [
        "#cost Gemini\n",
        "model.count_tokens(prompt)"
      ],
      "metadata": {
        "colab": {
          "base_uri": "https://localhost:8080/"
        },
        "id": "upQrpDlG3Cjm",
        "outputId": "1f6b575f-5c96-44b5-d830-5ea882fd8aba"
      },
      "id": "upQrpDlG3Cjm",
      "execution_count": 105,
      "outputs": [
        {
          "output_type": "execute_result",
          "data": {
            "text/plain": [
              "total_tokens: 330\n",
              "total_billable_characters: 207\n"
            ]
          },
          "metadata": {},
          "execution_count": 105
        }
      ]
    },
    {
      "cell_type": "code",
      "source": [
        "330 * (0.70/10**6)"
      ],
      "metadata": {
        "colab": {
          "base_uri": "https://localhost:8080/"
        },
        "id": "9Zz5r-lJ3e33",
        "outputId": "447347ff-c2d6-4479-bdbc-a0aad3ced0f1"
      },
      "id": "9Zz5r-lJ3e33",
      "execution_count": 106,
      "outputs": [
        {
          "output_type": "execute_result",
          "data": {
            "text/plain": [
              "0.00023099999999999998"
            ]
          },
          "metadata": {},
          "execution_count": 106
        }
      ]
    }
  ],
  "metadata": {
    "kernelspec": {
      "display_name": "Python 3",
      "language": "python",
      "name": "python3"
    },
    "language_info": {
      "codemirror_mode": {
        "name": "ipython",
        "version": 3
      },
      "file_extension": ".py",
      "mimetype": "text/x-python",
      "name": "python",
      "nbconvert_exporter": "python",
      "pygments_lexer": "ipython3",
      "version": "3.8.8"
    },
    "colab": {
      "provenance": [],
      "include_colab_link": true
    }
  },
  "nbformat": 4,
  "nbformat_minor": 5
}