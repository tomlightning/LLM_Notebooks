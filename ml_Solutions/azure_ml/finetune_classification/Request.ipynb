{
 "cells": [
  {
   "cell_type": "code",
   "execution_count": 6,
   "id": "7f683dd7-60cd-4f31-bcd6-6192c6b8a3a1",
   "metadata": {},
   "outputs": [],
   "source": [
    "import time\n",
    "import pandas as pd\n",
    "import json\n",
    "from azure.identity import DefaultAzureCredential\n",
    "from azure.ai.ml import MLClient\n",
    "from dotenv import dotenv_values\n",
    "from dotenv import load_dotenv\n",
    "from src.login import get_ws_client"
   ]
  },
  {
   "cell_type": "code",
   "execution_count": 18,
   "id": "503f671a-df63-4211-bd8e-fb2b8c35ddd9",
   "metadata": {},
   "outputs": [],
   "source": [
    "# Load env and login to Workspace\n",
    "load_dotenv(\".env\")\n",
    "config = dotenv_values(\".env\")\n",
    "\n",
    "# Enter details of your Azure Machine Learning workspace\n",
    "subscription_id = config.get(\"SUBSCRIPTION_ID\")\n",
    "resource_group = config.get(\"RESOURCE_GROUP\")\n",
    "workspace = config.get(\"AZUREML_WORKSPACE_NAME\")"
   ]
  },
  {
   "cell_type": "code",
   "execution_count": 8,
   "id": "a529746e-92da-43c3-9ea9-789dfc72df1d",
   "metadata": {},
   "outputs": [
    {
     "name": "stdout",
     "output_type": "stream",
     "text": [
      "MLClient(credential=<azure.identity._credentials.default.DefaultAzureCredential object at 0x0000022B3678CF10>,\n",
      "         subscription_id=5a8ec57c-47f9-4bc3-aee5-9e4db1b89345,\n",
      "         resource_group_name=olonok-ml,\n",
      "         workspace_name=azure-ml)\n"
     ]
    }
   ],
   "source": [
    "credential = DefaultAzureCredential()\n",
    "# Check if given credential can get token successfully.\n",
    "credential.get_token(\"https://management.azure.com/.default\")\n",
    "\n",
    "\n",
    "workspace_ml_client = get_ws_client(\n",
    "    credential, subscription_id, resource_group, workspace\n",
    ")\n",
    "print(workspace_ml_client)"
   ]
  },
  {
   "cell_type": "code",
   "execution_count": 9,
   "id": "5d2f25cb-9b4b-4f59-b9f0-41aff55d0caf",
   "metadata": {},
   "outputs": [
    {
     "data": {
      "text/html": [
       "<div>\n",
       "<style scoped>\n",
       "    .dataframe tbody tr th:only-of-type {\n",
       "        vertical-align: middle;\n",
       "    }\n",
       "\n",
       "    .dataframe tbody tr th {\n",
       "        vertical-align: top;\n",
       "    }\n",
       "\n",
       "    .dataframe thead th {\n",
       "        text-align: right;\n",
       "    }\n",
       "</style>\n",
       "<table border=\"1\" class=\"dataframe\">\n",
       "  <thead>\n",
       "    <tr style=\"text-align: right;\">\n",
       "      <th></th>\n",
       "      <th>text</th>\n",
       "      <th>label</th>\n",
       "      <th>ground_truth_label</th>\n",
       "    </tr>\n",
       "  </thead>\n",
       "  <tbody>\n",
       "    <tr>\n",
       "      <th>0</th>\n",
       "      <td>i feel his gracious presence even now</td>\n",
       "      <td>1</td>\n",
       "      <td>joy</td>\n",
       "    </tr>\n",
       "    <tr>\n",
       "      <th>1</th>\n",
       "      <td>i had the feeling that it might not have been ...</td>\n",
       "      <td>1</td>\n",
       "      <td>joy</td>\n",
       "    </tr>\n",
       "    <tr>\n",
       "      <th>2</th>\n",
       "      <td>im feeling kind of melancholy and really want ...</td>\n",
       "      <td>0</td>\n",
       "      <td>sadness</td>\n",
       "    </tr>\n",
       "    <tr>\n",
       "      <th>3</th>\n",
       "      <td>im feeling greedy for right now</td>\n",
       "      <td>3</td>\n",
       "      <td>anger</td>\n",
       "    </tr>\n",
       "    <tr>\n",
       "      <th>4</th>\n",
       "      <td>i dont know how to deal with this i feel like ...</td>\n",
       "      <td>4</td>\n",
       "      <td>fear</td>\n",
       "    </tr>\n",
       "  </tbody>\n",
       "</table>\n",
       "</div>"
      ],
      "text/plain": [
       "                                                text  label ground_truth_label\n",
       "0              i feel his gracious presence even now      1                joy\n",
       "1  i had the feeling that it might not have been ...      1                joy\n",
       "2  im feeling kind of melancholy and really want ...      0            sadness\n",
       "3                    im feeling greedy for right now      3              anger\n",
       "4  i dont know how to deal with this i feel like ...      4               fear"
      ]
     },
     "execution_count": 9,
     "metadata": {},
     "output_type": "execute_result"
    }
   ],
   "source": [
    "# read ./emotion-dataset/small_test.jsonl into a pandas dataframe\n",
    "test_df = pd.read_json(\"./emotion-dataset/small_test.jsonl\", lines=True)\n",
    "# take 5 random samples\n",
    "test_df = test_df.sample(n=5)\n",
    "# rebuild index\n",
    "test_df.reset_index(drop=True, inplace=True)\n",
    "# rename the label_string column to ground_truth_label\n",
    "test_df = test_df.rename(columns={\"label_string\": \"ground_truth_label\"})\n",
    "test_df.head(5)"
   ]
  },
  {
   "cell_type": "code",
   "execution_count": 13,
   "id": "4d36b3fd-45d2-44df-8f13-3f16490691aa",
   "metadata": {},
   "outputs": [],
   "source": [
    "# create a json object with the key as \"inputs\" and value as a list of values from the text column of the test dataframe\n",
    "test_df_copy = test_df[[\"text\"]]\n",
    "test_df_copy = test_df_copy.rename(columns={\"text\": \"input_string\"})\n",
    "test_json = {\"input_data\": test_df_copy.to_dict(\"split\")}\n",
    "# save the json object to a file named sample_score.json in the ./emotion-dataset folder\n",
    "with open(\"./emotion-dataset/sample_score.json\", \"w\") as f:\n",
    "    json.dump(test_json, f)"
   ]
  },
  {
   "cell_type": "code",
   "execution_count": 15,
   "id": "b395a44b-f03d-4ecd-9e96-5c47d6243136",
   "metadata": {},
   "outputs": [],
   "source": [
    "import urllib.request\n",
    "import json\n",
    "import os\n",
    "import ssl\n",
    "\n",
    "def allowSelfSignedHttps(allowed):\n",
    "    # bypass the server certificate verification on client side\n",
    "    if allowed and not os.environ.get('PYTHONHTTPSVERIFY', '') and getattr(ssl, '_create_unverified_context', None):\n",
    "        ssl._create_default_https_context = ssl._create_unverified_context\n",
    "\n",
    "allowSelfSignedHttps(True) "
   ]
  },
  {
   "cell_type": "code",
   "execution_count": 22,
   "id": "ea81b63c-ffe5-4ea0-9bd7-b7ea22dc1169",
   "metadata": {},
   "outputs": [],
   "source": [
    "data= {\n",
    "  \"input_data\": [\n",
    "    [\"i feel his gracious presence even now\"], \n",
    "      [\"i had the feeling that it might not have been taken as the truthful and sincere compliment it would have been\"], \n",
    "      [\"im feeling kind of melancholy and really want to go home and cuddle up with my boys\"], \n",
    "      [\"im feeling greedy for right now\"], \n",
    "      [\"i dont know how to deal with this i feel like its becoming apart if who i am im afraid that im going to associate it with regular things so that i will never forget it\"]\n",
    "  ],\n",
    "  \"params\": {\n",
    "    \"return_all_scores\": True\n",
    "  }\n",
    "}\n",
    "body = str.encode(json.dumps(data))"
   ]
  },
  {
   "cell_type": "code",
   "execution_count": 20,
   "id": "2a5d513d-854b-419e-9b5a-cb15a0cbd09e",
   "metadata": {},
   "outputs": [],
   "source": [
    "url = 'https://emotion-1710679378.uksouth.inference.ml.azure.com/score'\n",
    "# Replace this with the primary/secondary key or AMLToken for the endpoint\n",
    "api_key = config.get(\"KEY\")\n",
    "if not api_key:\n",
    "    raise Exception(\"A key should be provided to invoke the endpoint\")"
   ]
  },
  {
   "cell_type": "code",
   "execution_count": 23,
   "id": "744e4fee-e6af-4ec1-b1fe-a14b7231aa7a",
   "metadata": {},
   "outputs": [
    {
     "name": "stdout",
     "output_type": "stream",
     "text": [
      "b'[{\"0\": {\"label\": \"anger\", \"score\": 0.000270799791906029}, \"1\": {\"label\": \"fear\", \"score\": 0.00034690299071371555}, \"2\": {\"label\": \"joy\", \"score\": 0.8664152026176453}, \"3\": {\"label\": \"love\", \"score\": 0.1316552609205246}, \"4\": {\"label\": \"sadness\", \"score\": 0.0005942079587839544}, \"5\": {\"label\": \"surprise\", \"score\": 0.0007175387581810355}}, {\"0\": {\"label\": \"anger\", \"score\": 0.007055370137095451}, \"1\": {\"label\": \"fear\", \"score\": 0.0044976212084293365}, \"2\": {\"label\": \"joy\", \"score\": 0.9613637328147888}, \"3\": {\"label\": \"love\", \"score\": 0.02018970623612404}, \"4\": {\"label\": \"sadness\", \"score\": 0.0011905002174898982}, \"5\": {\"label\": \"surprise\", \"score\": 0.005703076720237732}}, {\"0\": {\"label\": \"anger\", \"score\": 0.0019255997613072395}, \"1\": {\"label\": \"fear\", \"score\": 0.00450942711904645}, \"2\": {\"label\": \"joy\", \"score\": 0.003267080755904317}, \"3\": {\"label\": \"love\", \"score\": 0.01176548469811678}, \"4\": {\"label\": \"sadness\", \"score\": 0.9784568548202515}, \"5\": {\"label\": \"surprise\", \"score\": 7.557063509011641e-05}}, {\"0\": {\"label\": \"anger\", \"score\": 0.6473566293716431}, \"1\": {\"label\": \"fear\", \"score\": 0.00829456839710474}, \"2\": {\"label\": \"joy\", \"score\": 0.051462382078170776}, \"3\": {\"label\": \"love\", \"score\": 0.27029016613960266}, \"4\": {\"label\": \"sadness\", \"score\": 0.01849283277988434}, \"5\": {\"label\": \"surprise\", \"score\": 0.004103419836610556}}, {\"0\": {\"label\": \"anger\", \"score\": 0.001282882527448237}, \"1\": {\"label\": \"fear\", \"score\": 0.9346040487289429}, \"2\": {\"label\": \"joy\", \"score\": 0.007547296583652496}, \"3\": {\"label\": \"love\", \"score\": 0.0012438050471246243}, \"4\": {\"label\": \"sadness\", \"score\": 0.05445537343621254}, \"5\": {\"label\": \"surprise\", \"score\": 0.0008665901841595769}}]'\n"
     ]
    }
   ],
   "source": [
    "headers = {'Content-Type':'application/json', 'Authorization':('Bearer '+ api_key), 'azureml-model-deployment': 'demo' }\n",
    "\n",
    "req = urllib.request.Request(url, body, headers)\n",
    "\n",
    "try:\n",
    "    response = urllib.request.urlopen(req)\n",
    "\n",
    "    result = response.read()\n",
    "    print(result)\n",
    "except urllib.error.HTTPError as error:\n",
    "    print(\"The request failed with status code: \" + str(error.code))\n",
    "\n",
    "    # Print the headers - they include the requert ID and the timestamp, which are useful for debugging the failure\n",
    "    print(error.info())\n",
    "    print(error.read().decode(\"utf8\", 'ignore'))"
   ]
  },
  {
   "cell_type": "code",
   "execution_count": 25,
   "id": "00ba3b04-72ca-4b97-98d0-88c1a341d18d",
   "metadata": {},
   "outputs": [],
   "source": [
    "result = eval(result.decode(\"utf8\", 'ignore'))"
   ]
  },
  {
   "cell_type": "code",
   "execution_count": 34,
   "id": "403b5201-6b6a-416d-b0d2-96f60ff62498",
   "metadata": {},
   "outputs": [
    {
     "name": "stdout",
     "output_type": "stream",
     "text": [
      "i feel his gracious presence even now\n",
      "Prediction\n",
      "{'label': 'anger', 'score': 0.000270799791906029}\n",
      "{'label': 'fear', 'score': 0.00034690299071371555}\n",
      "{'label': 'joy', 'score': 0.8664152026176453}\n",
      "{'label': 'love', 'score': 0.1316552609205246}\n",
      "{'label': 'sadness', 'score': 0.0005942079587839544}\n",
      "{'label': 'surprise', 'score': 0.0007175387581810355}\n",
      "\n",
      "\n",
      "i had the feeling that it might not have been taken as the truthful and sincere compliment it would have been\n",
      "Prediction\n",
      "{'label': 'anger', 'score': 0.007055370137095451}\n",
      "{'label': 'fear', 'score': 0.0044976212084293365}\n",
      "{'label': 'joy', 'score': 0.9613637328147888}\n",
      "{'label': 'love', 'score': 0.02018970623612404}\n",
      "{'label': 'sadness', 'score': 0.0011905002174898982}\n",
      "{'label': 'surprise', 'score': 0.005703076720237732}\n",
      "\n",
      "\n",
      "im feeling kind of melancholy and really want to go home and cuddle up with my boys\n",
      "Prediction\n",
      "{'label': 'anger', 'score': 0.0019255997613072395}\n",
      "{'label': 'fear', 'score': 0.00450942711904645}\n",
      "{'label': 'joy', 'score': 0.003267080755904317}\n",
      "{'label': 'love', 'score': 0.01176548469811678}\n",
      "{'label': 'sadness', 'score': 0.9784568548202515}\n",
      "{'label': 'surprise', 'score': 7.557063509011641e-05}\n",
      "\n",
      "\n",
      "im feeling greedy for right now\n",
      "Prediction\n",
      "{'label': 'anger', 'score': 0.6473566293716431}\n",
      "{'label': 'fear', 'score': 0.00829456839710474}\n",
      "{'label': 'joy', 'score': 0.051462382078170776}\n",
      "{'label': 'love', 'score': 0.27029016613960266}\n",
      "{'label': 'sadness', 'score': 0.01849283277988434}\n",
      "{'label': 'surprise', 'score': 0.004103419836610556}\n",
      "\n",
      "\n",
      "i dont know how to deal with this i feel like its becoming apart if who i am im afraid that im going to associate it with regular things so that i will never forget it\n",
      "Prediction\n",
      "{'label': 'anger', 'score': 0.001282882527448237}\n",
      "{'label': 'fear', 'score': 0.9346040487289429}\n",
      "{'label': 'joy', 'score': 0.007547296583652496}\n",
      "{'label': 'love', 'score': 0.0012438050471246243}\n",
      "{'label': 'sadness', 'score': 0.05445537343621254}\n",
      "{'label': 'surprise', 'score': 0.0008665901841595769}\n",
      "\n",
      "\n"
     ]
    }
   ],
   "source": [
    "for t, output in zip(data.get(\"input_data\"), result):\n",
    "    print(t[0])\n",
    "    print(\"Prediction\")\n",
    "    for key in output.keys():\n",
    "        print(output[key])\n",
    "    print(\"\\n\")"
   ]
  },
  {
   "cell_type": "code",
   "execution_count": null,
   "id": "12be0fd6-2705-4b74-8195-c02c3d958d13",
   "metadata": {},
   "outputs": [],
   "source": []
  }
 ],
 "metadata": {
  "kernelspec": {
   "display_name": "Python (azure_ml)",
   "language": "python",
   "name": "azure_ml"
  },
  "language_info": {
   "codemirror_mode": {
    "name": "ipython",
    "version": 3
   },
   "file_extension": ".py",
   "mimetype": "text/x-python",
   "name": "python",
   "nbconvert_exporter": "python",
   "pygments_lexer": "ipython3",
   "version": "3.11.8"
  }
 },
 "nbformat": 4,
 "nbformat_minor": 5
}
