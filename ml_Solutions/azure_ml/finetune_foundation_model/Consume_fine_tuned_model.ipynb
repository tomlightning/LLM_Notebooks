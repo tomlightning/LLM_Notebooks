{
 "cells": [
  {
   "cell_type": "markdown",
   "id": "0a978329-b2e7-4733-94b4-39047deb2049",
   "metadata": {},
   "source": [
    "#### Fine-tuning foundation models for specific tasks\n",
    "\r\n",
    "Though the foundation models may already satisfy your requirements, it may be necessary for you to fine-tune a foundation model.\r\n",
    "\r\n",
    "Foundation models are pretrained on a diverse range of text from the internet, making them proficient in general language understanding. However, fine-tuning allows you to tailor the model's knowledge to a specific task or domain, optimizing its performance and ensuring it excels in that particular context.\r\n",
    "\r\n",
    "Some common tasks for which you may want to fine-tune a foundation model are:\r\n",
    "\r\n",
    "Text classification: Categorizing a given text into predefined classes or categories based on its content or context.\r\n",
    "Token classification: Assigning specific labels or tags to individual tokens or words in a text, often used in tasks like named entity recognition.\r\n",
    "Question answering: Providing accurate and relevant answers to questions posed in natural language.\r\n",
    "Summarization: Creating concise and coherent summaries of longer texts, capturing the essential information.\r\n",
    "Translation: Converting text from one language to another while preserving the meaning and context.\r\n",
    "As foundation models are already pretrained, you need a smaller task-specific dataset to fine-tune a foundation model. When you fine-tune a model, you're likely to need less data and compute than when you would train a model from scratch."
   ]
  },
  {
   "cell_type": "code",
   "execution_count": null,
   "id": "6e5409b5-3a96-4291-97f1-5cebf0f2a89c",
   "metadata": {},
   "outputs": [],
   "source": [
    " # https://learn.microsoft.com/en-us/azure/machine-learning/concept-endpoints?view=azureml-api-2"
   ]
  },
  {
   "attachments": {
    "3cfe0485-4772-4fad-ac8a-27c1d72c33fe.png": {
     "image/png": "[encoded data removed]"
    }
   },
   "cell_type": "markdown",
   "id": "ded56f50-242e-4b0d-838d-4b5e0969143d",
   "metadata": {},
   "source": [
    "![image.png](attachment:3cfe0485-4772-4fad-ac8a-27c1d72c33fe.png)"
   ]
  },
  {
   "cell_type": "code",
   "execution_count": 23,
   "id": "ee390dce-b8d7-45c3-a639-42c13bde6dec",
   "metadata": {},
   "outputs": [],
   "source": [
    "import urllib.request\n",
    "import json\n",
    "import os\n",
    "import ssl\n",
    "import pprint\n",
    "from dotenv import dotenv_values\n",
    "from dotenv import load_dotenv\n",
    "\n",
    "def allowSelfSignedHttps(allowed):\n",
    "    # bypass the server certificate verification on client side\n",
    "    if allowed and not os.environ.get('PYTHONHTTPSVERIFY', '') and getattr(ssl, '_create_unverified_context', None):\n",
    "        ssl._create_default_https_context = ssl._create_unverified_context\n",
    "\n",
    "allowSelfSignedHttps(True) # this line is needed if you use self-signed certificate in your scoring service.\n",
    "\n"
   ]
  },
  {
   "cell_type": "code",
   "execution_count": 6,
   "id": "e112d365-3307-4e5d-8555-a12b15e74c32",
   "metadata": {},
   "outputs": [],
   "source": [
    "config = dotenv_values(\".env\")\n"
   ]
  },
  {
   "cell_type": "code",
   "execution_count": 15,
   "id": "be974c18-6dbc-4dff-bcc7-aa80c5552980",
   "metadata": {},
   "outputs": [],
   "source": [
    "\n",
    "samples= [\"Contoso Suites exceeded our expectations with their impeccable service and luxurious amenities.\", \n",
    "       \"The breathtaking mountain views from our room at Alpine Ski House made our stay truly magical.\",\n",
    "       \"We had a disappointing experience at Margie's Travel due to the lack of cleanliness and outdated facilities.\",\n",
    "       \"The cozy fireplace in our room at Alpine Ski House created a warm and inviting atmosphere after a day on the slopes.\", \n",
    "       \"The rooftop pool at Contoso Suites offered a stunning panoramic view of the city, making our stay unforgettable.\"]\n",
    "\n"
   ]
  },
  {
   "cell_type": "code",
   "execution_count": 16,
   "id": "11510dda-eb5f-4f36-afcd-9f4f7ee59d59",
   "metadata": {},
   "outputs": [
    {
     "data": {
      "text/plain": [
       "{'input_data': ['Contoso Suites exceeded our expectations with their impeccable service and luxurious amenities.'],\n",
       " 'params': {'return_all_scores': True}}"
      ]
     },
     "execution_count": 16,
     "metadata": {},
     "output_type": "execute_result"
    }
   ],
   "source": [
    "# Request data goes here\n",
    "# The example below assumes JSON formatting which may be updated\n",
    "# depending on the format your endpoint expects.\n",
    "# More information can be found here:\n",
    "# https://docs.microsoft.com/azure/machine-learning/how-to-deploy-advanced-entry-script\n",
    "text=samples[0]\n",
    "data =  {\n",
    "  \"input_data\": [\n",
    "    f\"{text}\"\n",
    "  ],\n",
    "  \"params\": {\n",
    "    \"return_all_scores\": True\n",
    "  }\n",
    "}\n",
    "data"
   ]
  },
  {
   "cell_type": "code",
   "execution_count": 26,
   "id": "692a13ad-57a2-4927-82f5-adfa6037dd7f",
   "metadata": {},
   "outputs": [],
   "source": [
    "\n",
    "responses= []\n",
    "\n",
    "\n",
    "url = 'https://azure-ml-xrhhu.uksouth.inference.ml.azure.com/score'\n",
    "# Replace this with the primary/secondary key or AMLToken for the endpoint\n",
    "api_key = config.get('ENDPOINT_KEY')\n",
    "if not api_key:\n",
    "    raise Exception(\"A key should be provided to invoke the endpoint\")\n",
    "\n",
    "# The azureml-model-deployment header will force the request to go to a specific deployment.\n",
    "# Remove this header to have the request observe the endpoint traffic rules\n",
    "headers = {'Content-Type':'application/json', 'Authorization':('Bearer '+ api_key), 'azureml-model-deployment': 'review-hotel-classification-m-1' }\n",
    "\n",
    "req = urllib.request.Request(url, body, headers)\n",
    "\n",
    "for t in samples:\n",
    "    data =  {\n",
    "  \"input_data\": [\n",
    "    f\"{t}\"\n",
    "  ],\n",
    "  \"params\": {\n",
    "    \"return_all_scores\": True\n",
    "  }\n",
    "}\n",
    "    #encode  request\n",
    "    body = str.encode(json.dumps(data))\n",
    "    try:\n",
    "        response = urllib.request.urlopen(req)\n",
    "    \n",
    "        result = response.read().decode(\"utf8\", 'ignore')\n",
    "        responses.append({t: json.loads(result)[0]})\n",
    "    except urllib.error.HTTPError as error:\n",
    "        print(\"The request failed with status code: \" + str(error.code))\n",
    "    \n",
    "        # Print the headers - they include the requert ID and the timestamp, which are useful for debugging the failure\n",
    "        print(error.info())\n",
    "        print(error.read().decode(\"utf8\", 'ignore'))"
   ]
  },
  {
   "cell_type": "code",
   "execution_count": 30,
   "id": "ea858e57-bd71-4b5d-b180-0e544d708b4d",
   "metadata": {},
   "outputs": [
    {
     "name": "stdout",
     "output_type": "stream",
     "text": [
      "('Contoso Suites exceeded our expectations with their impeccable service and '\n",
      " 'luxurious amenities.')\n",
      "[{'0': {'label': 'Average', 'score': 0.0066314334981143475},\n",
      "  '1': {'label': 'Excellent', 'score': 0.019722113385796547},\n",
      "  '2': {'label': 'Poor', 'score': 0.02784910425543785},\n",
      "  '3': {'label': 'Terrible', 'score': 0.0044416100718081},\n",
      "  '4': {'label': 'Very good', 'score': 0.9413557052612305}}]\n",
      "\n",
      "\n",
      "('The breathtaking mountain views from our room at Alpine Ski House made our '\n",
      " 'stay truly magical.')\n",
      "[{'0': {'label': 'Average', 'score': 0.0066314334981143475},\n",
      "  '1': {'label': 'Excellent', 'score': 0.019722113385796547},\n",
      "  '2': {'label': 'Poor', 'score': 0.02784910425543785},\n",
      "  '3': {'label': 'Terrible', 'score': 0.0044416100718081},\n",
      "  '4': {'label': 'Very good', 'score': 0.9413557052612305}}]\n",
      "\n",
      "\n",
      "(\"We had a disappointing experience at Margie's Travel due to the lack of \"\n",
      " 'cleanliness and outdated facilities.')\n",
      "[{'0': {'label': 'Average', 'score': 0.0066314334981143475},\n",
      "  '1': {'label': 'Excellent', 'score': 0.019722113385796547},\n",
      "  '2': {'label': 'Poor', 'score': 0.02784910425543785},\n",
      "  '3': {'label': 'Terrible', 'score': 0.0044416100718081},\n",
      "  '4': {'label': 'Very good', 'score': 0.9413557052612305}}]\n",
      "\n",
      "\n",
      "('The cozy fireplace in our room at Alpine Ski House created a warm and '\n",
      " 'inviting atmosphere after a day on the slopes.')\n",
      "[{'0': {'label': 'Average', 'score': 0.0066314334981143475},\n",
      "  '1': {'label': 'Excellent', 'score': 0.019722113385796547},\n",
      "  '2': {'label': 'Poor', 'score': 0.02784910425543785},\n",
      "  '3': {'label': 'Terrible', 'score': 0.0044416100718081},\n",
      "  '4': {'label': 'Very good', 'score': 0.9413557052612305}}]\n",
      "\n",
      "\n",
      "('The rooftop pool at Contoso Suites offered a stunning panoramic view of the '\n",
      " 'city, making our stay unforgettable.')\n",
      "[{'0': {'label': 'Average', 'score': 0.0066314334981143475},\n",
      "  '1': {'label': 'Excellent', 'score': 0.019722113385796547},\n",
      "  '2': {'label': 'Poor', 'score': 0.02784910425543785},\n",
      "  '3': {'label': 'Terrible', 'score': 0.0044416100718081},\n",
      "  '4': {'label': 'Very good', 'score': 0.9413557052612305}}]\n",
      "\n",
      "\n"
     ]
    }
   ],
   "source": [
    "for r in responses:\n",
    "    pprint.pprint(list(r.keys())[0])\n",
    "    pprint.pprint(list(r.values()))\n",
    "    print(\"\\n\")"
   ]
  },
  {
   "cell_type": "code",
   "execution_count": null,
   "id": "436f59e5-f187-40d8-97b2-d327f4ab3a70",
   "metadata": {},
   "outputs": [],
   "source": []
  }
 ],
 "metadata": {
  "kernelspec": {
   "display_name": "Python (azure_ml)",
   "language": "python",
   "name": "azure_ml"
  },
  "language_info": {
   "codemirror_mode": {
    "name": "ipython",
    "version": 3
   },
   "file_extension": ".py",
   "mimetype": "text/x-python",
   "name": "python",
   "nbconvert_exporter": "python",
   "pygments_lexer": "ipython3",
   "version": "3.11.8"
  }
 },
 "nbformat": 4,
 "nbformat_minor": 5
}
