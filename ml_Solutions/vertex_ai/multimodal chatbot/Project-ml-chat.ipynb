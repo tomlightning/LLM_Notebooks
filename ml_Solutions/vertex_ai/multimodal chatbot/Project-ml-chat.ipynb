{
 "cells": [
  {
   "cell_type": "markdown",
   "id": "f77789f7-148a-47b8-8182-da8fc43b05d9",
   "metadata": {},
   "source": [
    "# VERTEX AI\n"
   ]
  },
  {
   "cell_type": "code",
   "execution_count": 25,
   "id": "5925e1bd-1429-4e78-aeba-4855bfcb7488",
   "metadata": {},
   "outputs": [],
   "source": [
    "# pip install --upgrade google-cloud-aiplatform\n",
    "# gcloud auth application-default login"
   ]
  },
  {
   "cell_type": "code",
   "execution_count": 11,
   "id": "6a0f7367-f073-4f5d-b5da-4967707a5856",
   "metadata": {},
   "outputs": [
    {
     "name": "stdout",
     "output_type": "stream",
     "text": [
      "^C\n"
     ]
    }
   ],
   "source": [
    "#!gcloud auth application-default login"
   ]
  },
  {
   "cell_type": "code",
   "execution_count": 1,
   "id": "58c20b4a-7b1e-470b-953a-3fd6d4dc730c",
   "metadata": {},
   "outputs": [],
   "source": [
    "import base64\n",
    "import vertexai\n",
    "from vertexai.generative_models import GenerativeModel, Part, ChatSession\n",
    "import vertexai.preview.generative_models as generative_models\n",
    "import pprint"
   ]
  },
  {
   "cell_type": "code",
   "execution_count": 2,
   "id": "7e473fb7-ab32-4bfd-9137-99d6b7f760e5",
   "metadata": {},
   "outputs": [],
   "source": [
    "from dotenv import dotenv_values\n",
    "\n",
    "config = dotenv_values(\".env\")"
   ]
  },
  {
   "cell_type": "code",
   "execution_count": 3,
   "id": "5893150d-9e63-49b5-9307-b2fdc7b022ca",
   "metadata": {},
   "outputs": [],
   "source": [
    "vertexai.init(project=config['PROJECT'], location=config['REGION'])"
   ]
  },
  {
   "cell_type": "code",
   "execution_count": 4,
   "id": "cbcd1636-a47d-47b7-a8fb-6015c32bd99f",
   "metadata": {},
   "outputs": [],
   "source": [
    "def get_chat_response(chat: ChatSession, prompt: str) -> str:\n",
    "    text_response = []\n",
    "    responses = chat.send_message(prompt, stream=True)\n",
    "    for chunk in responses:\n",
    "        text_response.append(chunk.text)\n",
    "    return \"\".join(text_response)"
   ]
  },
  {
   "cell_type": "code",
   "execution_count": 5,
   "id": "ffd771ec-109e-43ce-8acd-ff722c0b2376",
   "metadata": {},
   "outputs": [],
   "source": [
    "model = GenerativeModel(\n",
    "    \"gemini-1.5-pro-preview-0409\",\n",
    "    system_instruction=[\"\"\"You a helpful agent who helps to extract relevant information from documents\"\"\"],\n",
    "    safety_settings= {\n",
    "    generative_models.HarmCategory.HARM_CATEGORY_HATE_SPEECH: generative_models.HarmBlockThreshold.BLOCK_NONE,\n",
    "    generative_models.HarmCategory.HARM_CATEGORY_DANGEROUS_CONTENT: generative_models.HarmBlockThreshold.BLOCK_NONE,\n",
    "    generative_models.HarmCategory.HARM_CATEGORY_SEXUALLY_EXPLICIT: generative_models.HarmBlockThreshold.BLOCK_NONE,\n",
    "    generative_models.HarmCategory.HARM_CATEGORY_HARASSMENT: generative_models.HarmBlockThreshold.BLOCK_NONE,\n",
    "},\n",
    "     generation_config = {\n",
    "    \"max_output_tokens\": 8192,\n",
    "    \"temperature\": 0.1,\n",
    "    \"top_p\": 0.95,\n",
    "}\n",
    "  )\n",
    "chat = model.start_chat(response_validation=False)"
   ]
  },
  {
   "cell_type": "code",
   "execution_count": 6,
   "id": "e9abf6aa-ef5d-4c88-8c1f-0d8c693c85aa",
   "metadata": {},
   "outputs": [
    {
     "name": "stdout",
     "output_type": "stream",
     "text": [
      "data\\project\\Dolores_Reyes_IPA\\Informes\\CERTIFICADO TAREAS.pdf\n",
      "data\\project\\Dolores_Reyes_IPA\\Informes\\HOJA DE CITA.pdf\n",
      "data\\project\\Dolores_Reyes_IPA\\Informes\\IMS.pdf\n",
      "data\\project\\Dolores_Reyes_IPA\\Informes\\Informe 07.06.2021 ASISTENCIA ESPECIALIZADA.pdf\n",
      "data\\project\\Dolores_Reyes_IPA\\Informes\\INFORME 12.08.2020.pdf\n",
      "data\\project\\Dolores_Reyes_IPA\\Informes\\INFORME CONSULTA REVISIÓN.pdf\n",
      "data\\project\\Dolores_Reyes_IPA\\Informes\\LOLA REYES - HOJA DE ANEMNESIS.pdf\n",
      "data\\project\\Dolores_Reyes_IPA\\Informes\\Resolución INSS.pdf\n"
     ]
    }
   ],
   "source": [
    "from pathlib import Path\n",
    "content=[]\n",
    "pathlist = Path(\"data/project/Dolores_Reyes_IPA/Informes\").glob('**/*.pdf')\n",
    "for path in pathlist:\n",
    "    # Convert path object to a string\n",
    "    path_in_str = str(path)\n",
    "    # Perform actions on the file (e.g., print its path)\n",
    "    print(path_in_str)\n",
    "    with open(path_in_str, \"rb\") as f:\n",
    "        im_bytes = f.read()\n",
    "        im_b64 = base64.b64encode(im_bytes).decode(\"utf8\")\n",
    "        image = Part.from_data(data=im_b64, mime_type=\"application/pdf\")\n",
    "        content.append(image)"
   ]
  },
  {
   "cell_type": "code",
   "execution_count": 7,
   "id": "1a2ef53a-be2c-41ba-9dfe-fd8423bdd039",
   "metadata": {},
   "outputs": [],
   "source": [
    "question = \"\"\"Instrucciones:\n",
    "              1) Extrae de estos informes fechas de la asistencia seguido del centro de asistencia médica donde se atiende al paciente con un resumen de lo que pasó.\n",
    "              2) Al principio de dicho resumen la siguiente frase \"Informe de fecha\". \n",
    "              3) Nunca mostrar nombres, solo el paciente o la paciente\n",
    "              4) Escribirlo con vocabulario Médico. \n",
    "              5) No poner la edad. \n",
    "              6) Usar para la respuesta el mismo idioma que el nativo de los documentos.\n",
    "\"\"\""
   ]
  },
  {
   "cell_type": "code",
   "execution_count": 8,
   "id": "b8cd0d4a-0818-49ea-a30d-7988fb77bebd",
   "metadata": {},
   "outputs": [],
   "source": [
    "prompt =[f\"\"\"{question} \"\"\"]+  content"
   ]
  },
  {
   "cell_type": "code",
   "execution_count": 9,
   "id": "2be03d0b-3943-4b14-9df0-90c7e71a0fab",
   "metadata": {},
   "outputs": [],
   "source": [
    "response = get_chat_response(chat, prompt)"
   ]
  },
  {
   "cell_type": "code",
   "execution_count": 15,
   "id": "685fcf73-35c6-4d2c-9f14-6c24b7c35edd",
   "metadata": {},
   "outputs": [
    {
     "name": "stdout",
     "output_type": "stream",
     "text": [
      "## Extracción de información de informes médicos:\n",
      "\n",
      "**Informe de fecha 24/06/2021 - Hospital San Juan de Dios del Aljarafe:** \n",
      "\n",
      "El paciente está citado para un estudio preanestésico previo a una intervención de traumatología. Se le indica que debe acudir en dos días diferentes: el primero para pruebas prequirúrgicas (analítica y electrocardiograma) y el segundo para la consulta de preanestesia. \n",
      "\n",
      "**Informe de fecha 11/06/2021 - INSS:**\n",
      "\n",
      "El paciente, con profesión de teleoperador, se encuentra en situación de Incapacidad Temporal desde julio de 2019 debido a EPOC con obstrucción moderada, fractura no consolidada de clavícula, estenosis del canal medular L4-L5 y degenerativos L5-S1. Presenta además antecedentes de sífilis curada, VHC sin actividad actual, HTA y colon irritable. Actualmente refiere dolor por la fractura de clavícula no intervenida y reagudización de la ciática derecha. Se encuentra pendiente de pruebas de digestivo solicitadas en enero de 2021. \n",
      "\n",
      "**Informe de fecha 19/01/2021 - Consorcio Aljarafe de Sevilla. HSJD:**\n",
      "\n",
      "El paciente se realizó una RM de columna lumbosacra sin contraste el 06/08/2020. El informe radiológico indica espondilolistesis L4-L5 grado 1 con cambios degenerativos, protrusión paramedial y estenosis significativa del canal medular a ese nivel con agrupación de las raíces de la cola de caballo. \n",
      "\n",
      "**Informe de fecha 15/04/2020 - Hospital San Juan de Dios del Aljarafe (Digestivo):**\n",
      "\n",
      "El paciente presenta antecedentes de SII tipo diarrea, intolerancia a la lactosa, gastritis crónica antral y dispepsia funcional. Se le realizó una ileocolonoscopia con resultado normal y se detectaron hemorroides internas pequeñas. Se le solicitó test de H2 fructosa y se pautó tratamiento para la colopatía funcional. \n",
      "\n",
      "**Informe de fecha 09/09/2021 - Hospital Universitario Virgen del Rocío (Neurocirugía):**\n",
      "\n",
      "El paciente presenta un cuadro de dolor lumbar y ciática derecha que le impide deambular, con claudicación de la marcha a los 50 metros e incontinencia de esfínteres vesical y fecal. La exploración neurológica es normal. Se revisó una RM lumbar de 2020 que informa de espondilolistesis y estenosis L4-L5. Se plantea la indicación quirúrgica para foraminotomías bilaterales y colocación de dispositivo interespinoso L4-L5. \n",
      "\n",
      "**Informe de fecha 11/11/2020 - Hospital San Juan de Dios del Aljarafe (Traumatología):**\n",
      "\n",
      "El paciente presenta una fractura no consolidada del extremo distal de la clavícula izquierda. Se plantea la posibilidad de tratamiento quirúrgico mediante técnica de Weaver-Dunn o RAFI con placa e injerto autólogo de cresta ilíaca. \n",
      "\n"
     ]
    }
   ],
   "source": [
    "print(response)"
   ]
  },
  {
   "cell_type": "code",
   "execution_count": 12,
   "id": "307152e5-c28f-4f02-983f-ee566e842cd6",
   "metadata": {},
   "outputs": [],
   "source": [
    "question = \"\"\"organizar la informacion en una lista separada de puntos y da un resumen final\"\"\"\n",
    "prompt=  [f\"\"\"{question} \"\"\"]\n"
   ]
  },
  {
   "cell_type": "code",
   "execution_count": 13,
   "id": "b9ded247-437f-454a-9327-e947dce9e33e",
   "metadata": {},
   "outputs": [],
   "source": [
    "response1 = get_chat_response(chat, prompt)\n",
    "        "
   ]
  },
  {
   "cell_type": "code",
   "execution_count": 16,
   "id": "8b9b43b8-8ec1-402b-8057-e8526c4c2640",
   "metadata": {},
   "outputs": [
    {
     "name": "stdout",
     "output_type": "stream",
     "text": [
      "## Resumen de informes médicos:\n",
      "\n",
      "* **24/06/2021:** Cita para estudio preanestésico previo a intervención de traumatología.\n",
      "* **11/06/2021:**  Incapacidad Temporal desde julio de 2019 por EPOC, fractura de clavícula, estenosis del canal medular y degenerativos lumbares. Dolor por fractura de clavícula no intervenida y reagudización de ciática. Pendiente de pruebas digestivas.\n",
      "* **19/01/2021:** RM lumbar informa espondilolistesis L4-L5 con estenosis del canal medular y cambios degenerativos.\n",
      "* **15/04/2020:** Colonoscopia e ileoscopia normales. Diagnóstico de colon irritable y hemorroides internas. Se pautó tratamiento.\n",
      "* **09/09/2021:**  Dolor lumbar y ciática derecha invalidante con claudicación de la marcha e incontinencia de esfínteres. Se plantea cirugía para espondilolistesis L4-L5.\n",
      "* **11/11/2020:** Fractura no consolidada de clavícula izquierda. Se plantea tratamiento quirúrgico.\n",
      "\n",
      "## Resumen final:\n",
      "\n",
      "El paciente presenta una compleja situación médica con múltiples problemas de salud que incluyen EPOC, fractura de clavícula, estenosis del canal lumbar, colon irritable y hemorroides. Actualmente, su principal problema es el dolor lumbar y ciática derecha que le impiden deambular y le provocan incontinencia. Se está considerando la cirugía para la espondilolistesis L4-L5 como solución a este problema. \n",
      "\n"
     ]
    }
   ],
   "source": [
    "print(response1)"
   ]
  },
  {
   "cell_type": "code",
   "execution_count": null,
   "id": "42496659-174b-40aa-834e-0b7e489ef346",
   "metadata": {},
   "outputs": [],
   "source": []
  }
 ],
 "metadata": {
  "kernelspec": {
   "display_name": "Python (vertex)",
   "language": "python",
   "name": "vertex"
  },
  "language_info": {
   "codemirror_mode": {
    "name": "ipython",
    "version": 3
   },
   "file_extension": ".py",
   "mimetype": "text/x-python",
   "name": "python",
   "nbconvert_exporter": "python",
   "pygments_lexer": "ipython3",
   "version": "3.11.7"
  }
 },
 "nbformat": 4,
 "nbformat_minor": 5
}
