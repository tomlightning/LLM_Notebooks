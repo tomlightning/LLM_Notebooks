{
 "cells": [
  {
   "cell_type": "markdown",
   "id": "f77789f7-148a-47b8-8182-da8fc43b05d9",
   "metadata": {},
   "source": [
    "# VERTEX AI\n"
   ]
  },
  {
   "cell_type": "code",
   "execution_count": 25,
   "id": "5925e1bd-1429-4e78-aeba-4855bfcb7488",
   "metadata": {},
   "outputs": [],
   "source": [
    "# pip install --upgrade google-cloud-aiplatform\n",
    "# gcloud auth application-default login"
   ]
  },
  {
   "cell_type": "code",
   "execution_count": 1,
   "id": "58c20b4a-7b1e-470b-953a-3fd6d4dc730c",
   "metadata": {},
   "outputs": [],
   "source": [
    "import base64\n",
    "import vertexai\n",
    "from vertexai.preview.generative_models import GenerativeModel, Part\n",
    "import vertexai.preview.generative_models as generative_models"
   ]
  },
  {
   "cell_type": "code",
   "execution_count": 6,
   "id": "7e473fb7-ab32-4bfd-9137-99d6b7f760e5",
   "metadata": {},
   "outputs": [],
   "source": [
    "from dotenv import dotenv_values\n",
    "\n",
    "config = dotenv_values(\".env\")"
   ]
  },
  {
   "cell_type": "code",
   "execution_count": 7,
   "id": "97bdb3c7-e6ec-412d-933c-64f9fe25225c",
   "metadata": {},
   "outputs": [],
   "source": [
    "def generate(question, object):\n",
    "  vertexai.init(project=config['PROJECT'], location=config['REGION'])\n",
    "  model = GenerativeModel(\"gemini-1.5-pro-preview-0409\")\n",
    "  responses = model.generate_content(\n",
    "    [f\"\"\"{question}\"\"\"] + object,\n",
    "    generation_config={\n",
    "        \"max_output_tokens\": 2048,\n",
    "        \"temperature\": 0.4,\n",
    "        \"top_p\": 1,\n",
    "        \"top_k\": 32\n",
    "    },\n",
    "    safety_settings={\n",
    "          generative_models.HarmCategory.HARM_CATEGORY_HATE_SPEECH: generative_models.HarmBlockThreshold.BLOCK_MEDIUM_AND_ABOVE,\n",
    "          generative_models.HarmCategory.HARM_CATEGORY_DANGEROUS_CONTENT: generative_models.HarmBlockThreshold.BLOCK_MEDIUM_AND_ABOVE,\n",
    "          generative_models.HarmCategory.HARM_CATEGORY_SEXUALLY_EXPLICIT: generative_models.HarmBlockThreshold.BLOCK_MEDIUM_AND_ABOVE,\n",
    "          generative_models.HarmCategory.HARM_CATEGORY_HARASSMENT: generative_models.HarmBlockThreshold.BLOCK_MEDIUM_AND_ABOVE,\n",
    "    },\n",
    "    stream=True,\n",
    "  )\n",
    "  \n",
    "  for response in responses:\n",
    "    print(response.text, end=\"\")\n",
    "  return response"
   ]
  },
  {
   "cell_type": "markdown",
   "id": "3ecbcbf7-0770-4f13-b61f-853a269b3bb2",
   "metadata": {},
   "source": [
    "#### Multimodal Prompt 1 extract text from images , describe the image , and translate language"
   ]
  },
  {
   "cell_type": "code",
   "execution_count": 24,
   "id": "2b903cb2-7d9f-43de-b17c-2c6178028c7b",
   "metadata": {},
   "outputs": [],
   "source": [
    "content=[]\n",
    "for i in range(7):\n",
    "    if i == 0:\n",
    "        continue\n",
    "    with open(f\"data/data/libro{i}.jpg\", \"rb\") as f:\n",
    "        im_bytes = f.read()\n",
    "        im_b64 = base64.b64encode(im_bytes).decode(\"utf8\")\n",
    "        image = Part.from_data(data=im_b64, mime_type=\"image/jpeg\")\n",
    "        content.append(image)"
   ]
  },
  {
   "cell_type": "code",
   "execution_count": 27,
   "id": "1a2ef53a-be2c-41ba-9dfe-fd8423bdd039",
   "metadata": {},
   "outputs": [],
   "source": [
    "question = \"\"\"Describe each picture , extract the text and tranlate the to english and spanish\"\"\""
   ]
  },
  {
   "cell_type": "code",
   "execution_count": 28,
   "id": "2be03d0b-3943-4b14-9df0-90c7e71a0fab",
   "metadata": {},
   "outputs": [
    {
     "name": "stdout",
     "output_type": "stream",
     "text": [
      "## Description and Translations of the Pictures:\n",
      "\n",
      "**Picture 1:**\n",
      "\n",
      "* **Description:** A boy is drawing lines on a grid. The lines are diagonal, going from top left to bottom right. \n",
      "* **Text:** \"Продолжи ряды\" (Russian)\n",
      "* **Translation:**\n",
      "    * **English:** \"Continue the rows\"\n",
      "    * **Spanish:** \"Continúa las filas\"\n",
      "\n",
      "**Picture 2:**\n",
      "\n",
      "* **Description:** A girl is rolling a ball. Dotted lines show the path of the ball.\n",
      "* **Text:** \"Прокати мячик\" (Russian)\n",
      "* **Translation:**\n",
      "    * **English:** \"Roll the ball\"\n",
      "    * **Spanish:** \"Rueda la pelota\"\n",
      "\n",
      "**Picture 3:**\n",
      "\n",
      "* **Description:** A boy is aiming a bow and arrow at a target. Dotted lines show the trajectory of the arrow.\n",
      "* **Text:** \"Пусти стрелу\" (Russian)\n",
      "* **Translation:**\n",
      "    * **English:** \"Shoot the arrow\"\n",
      "    * **Spanish:** \"Dispara la flecha\"\n",
      "\n",
      "**Picture 4:**\n",
      "\n",
      "* **Description:** Snails are shown with their spiral shells incomplete. Dotted lines show the path to complete the spirals.\n",
      "* **Text:** \"Домалюй равликів\" (Ukrainian)\n",
      "* **Translation:**\n",
      "    * **English:** \"Finish drawing the snails\"\n",
      "    * **Spanish:** \"Termina de dibujar los caracoles\"\n",
      "\n",
      "**Picture 5:**\n",
      "\n",
      "* **Description:** Children and a dog are walking in the rain with umbrellas. Dotted lines represent the falling rain.\n",
      "* **Text:** \"Домалюй дощик\" (Ukrainian)\n",
      "* **Translation:**\n",
      "    * **English:** \"Finish drawing the rain\"\n",
      "    * **Spanish:** \"Termina de dibujar la lluvia\"\n",
      "\n",
      "**Picture 6:**\n",
      "\n",
      "* **Description:** Children are playing on a seesaw and flying a kite in a playground. Triangles are hidden in the picture as part of the slide, kite, and other objects.\n",
      "* **Text:** \"Знайди трикутники. Обведи їх\" (Ukrainian)\n",
      "* **Translation:**\n",
      "    * **English:** \"Find the triangles. Circle them\"\n",
      "    * **Spanish:** \"Encuentra los triángulos. Enciérralos\" \n"
     ]
    }
   ],
   "source": [
    "response = generate(question, content)"
   ]
  },
  {
   "cell_type": "code",
   "execution_count": 13,
   "id": "399a1674-30ba-4ed5-a65c-93ee3736ffbe",
   "metadata": {},
   "outputs": [
    {
     "data": {
      "text/plain": [
       "candidates {\n",
       "  content {\n",
       "    role: \"model\"\n",
       "    parts {\n",
       "      text: \"Translation:**\\n    * **English:** \\\"Find the triangles. Circle them\\\"\\n    * **Spanish:** \\\"Encuentra los triángulos. Rodealos\\\" \\n\"\n",
       "    }\n",
       "  }\n",
       "  finish_reason: STOP\n",
       "  safety_ratings {\n",
       "    category: HARM_CATEGORY_HATE_SPEECH\n",
       "    probability: NEGLIGIBLE\n",
       "  }\n",
       "  safety_ratings {\n",
       "    category: HARM_CATEGORY_DANGEROUS_CONTENT\n",
       "    probability: NEGLIGIBLE\n",
       "  }\n",
       "  safety_ratings {\n",
       "    category: HARM_CATEGORY_HARASSMENT\n",
       "    probability: NEGLIGIBLE\n",
       "  }\n",
       "  safety_ratings {\n",
       "    category: HARM_CATEGORY_SEXUALLY_EXPLICIT\n",
       "    probability: NEGLIGIBLE\n",
       "  }\n",
       "}\n",
       "usage_metadata {\n",
       "  prompt_token_count: 1563\n",
       "  candidates_token_count: 484\n",
       "  total_token_count: 2047\n",
       "}"
      ]
     },
     "execution_count": 13,
     "metadata": {},
     "output_type": "execute_result"
    }
   ],
   "source": [
    "response"
   ]
  },
  {
   "cell_type": "markdown",
   "id": "8d349b29-b063-4e6a-ae1b-1aea6e21bbd3",
   "metadata": {},
   "source": [
    "#### Multimodal Prompt 2 Describe content of Video and create history"
   ]
  },
  {
   "cell_type": "code",
   "execution_count": 29,
   "id": "307152e5-c28f-4f02-983f-ee566e842cd6",
   "metadata": {},
   "outputs": [],
   "source": [
    "content=[]\n",
    "\n",
    "with open(f\"data/part1.mp4\", \"rb\") as f:\n",
    "    im_bytes = f.read()\n",
    "    im_b64 = base64.b64encode(im_bytes).decode(\"utf8\")\n",
    "    video = Part.from_data(data=im_b64, mime_type=\"video/mp4\")\n",
    "    content.append(video)"
   ]
  },
  {
   "cell_type": "code",
   "execution_count": 30,
   "id": "279aaa36-18e9-43dd-87d9-aefced4f4c46",
   "metadata": {},
   "outputs": [],
   "source": [
    "question = \"Create a short story from this video for a child of 5 years\""
   ]
  },
  {
   "cell_type": "code",
   "execution_count": 31,
   "id": "fe445b5f-c072-4e6a-acc4-a30c0595a684",
   "metadata": {},
   "outputs": [
    {
     "name": "stdout",
     "output_type": "stream",
     "text": [
      "Once upon a time, there was a big, fluffy bunny named Hopscotch. Hopscotch loved to hop around in the sunshine and smell the pretty flowers. He was a very happy bunny!\n",
      "\n",
      "One day, Hopscotch saw a yummy red apple high up in a tree. He wanted to eat it, but he couldn't reach it! He tried and tried to jump high enough, but the apple was just too far.\n",
      "\n",
      "Just when Hopscotch was about to give up, he saw a beautiful butterfly. The butterfly fluttered its wings and flew up to the apple. It tickled the apple with its tiny feet, and the apple fell right into Hopscotch's paws!\n",
      "\n",
      "Hopscotch was so happy! He thanked the butterfly for its help, and then he took a big bite of the delicious apple. It was the best apple he had ever tasted!\n",
      "\n",
      "From that day on, Hopscotch and the butterfly were best friends. They played together in the sunshine and shared all of their yummy treats. They lived happily ever after! \n"
     ]
    }
   ],
   "source": [
    "response = generate(question, content)"
   ]
  },
  {
   "cell_type": "code",
   "execution_count": 32,
   "id": "ad6bba84-0b4e-4694-856b-0db5f249e651",
   "metadata": {},
   "outputs": [
    {
     "data": {
      "text/plain": [
       "candidates {\n",
       "  content {\n",
       "    role: \"model\"\n",
       "    parts {\n",
       "      text: \" were best friends. They played together in the sunshine and shared all of their yummy treats. They lived happily ever after! \\n\"\n",
       "    }\n",
       "  }\n",
       "  finish_reason: STOP\n",
       "  safety_ratings {\n",
       "    category: HARM_CATEGORY_HATE_SPEECH\n",
       "    probability: NEGLIGIBLE\n",
       "  }\n",
       "  safety_ratings {\n",
       "    category: HARM_CATEGORY_DANGEROUS_CONTENT\n",
       "    probability: NEGLIGIBLE\n",
       "  }\n",
       "  safety_ratings {\n",
       "    category: HARM_CATEGORY_HARASSMENT\n",
       "    probability: NEGLIGIBLE\n",
       "  }\n",
       "  safety_ratings {\n",
       "    category: HARM_CATEGORY_SEXUALLY_EXPLICIT\n",
       "    probability: NEGLIGIBLE\n",
       "  }\n",
       "}\n",
       "usage_metadata {\n",
       "  prompt_token_count: 1046\n",
       "  candidates_token_count: 219\n",
       "  total_token_count: 1265\n",
       "}"
      ]
     },
     "execution_count": 32,
     "metadata": {},
     "output_type": "execute_result"
    }
   ],
   "source": [
    "response"
   ]
  },
  {
   "cell_type": "markdown",
   "id": "158901d2-65c0-4774-a67b-66f726796d56",
   "metadata": {},
   "source": [
    "#### Multimodal Prompt 3 Transcribe Audio of file and Translate to language"
   ]
  },
  {
   "cell_type": "code",
   "execution_count": 33,
   "id": "b9ded247-437f-454a-9327-e947dce9e33e",
   "metadata": {},
   "outputs": [],
   "source": [
    "content= []\n",
    "with open(\"data/data/male.wav\", \"rb\") as f:\n",
    "    im_bytes = f.read()\n",
    "    im_b64 = base64.b64encode(im_bytes)\n",
    "    file = Part.from_data(data=base64.b64decode(im_b64), mime_type=\"audio/wav\")\n",
    "    content.append(file)\n",
    "        "
   ]
  },
  {
   "cell_type": "code",
   "execution_count": 34,
   "id": "2f586647-3256-43c2-b379-0bd00402b90a",
   "metadata": {},
   "outputs": [
    {
     "name": "stdout",
     "output_type": "stream",
     "text": [
      "## Audio Transcription:\n",
      "\n",
      "00:00: ... but what if somebody decides to break it? Be careful that you keep adequate coverage, but look for places to save money. \n",
      "00:05: Maybe it's taking longer to get things squared away than the bankers expected. \n",
      "00:11: Hiring the wife for one's company may win her tax-aided retirement income. \n",
      "00:16: The boost is helpful, but inadequate. \n",
      "00:18: New self-deceiving rags are hurriedly tossed on the two naked bones. \n",
      "00:22: What a discussion can ensue when the title of this type of song is in question? \n",
      "00:26: There's no dying or waxing or gassing needed. \n",
      "00:29: Paper weight may be personalized on backs while clay is leather hard. \n",
      "00:33: Place work on a flat surface and smooth out. \n",
      "00:36: The simplest kind of septic system uses a single self-contained unit. \n",
      "00:40: The old shop adage still holds: a good mechanic is usually a bad boss. \n",
      "00:44: Both figures would go higher in later years. \n",
      "00:47: Some make beautiful chairs, cabinets, chests, doll houses, etc. \n",
      "00:51: *[End of audio]* \n"
     ]
    }
   ],
   "source": [
    "question = \"Transcribe literal the content of this audio\"\n",
    "response = generate(question, content)"
   ]
  },
  {
   "cell_type": "code",
   "execution_count": 35,
   "id": "306492f6-3e6c-4190-97c2-146794fd7176",
   "metadata": {},
   "outputs": [
    {
     "name": "stdout",
     "output_type": "stream",
     "text": [
      "## Transcripción y traducción al español:\n",
      "\n",
      "**00:00** Pero, ¿qué pasa si alguien decide romperlo? Ten cuidado de mantener una cobertura adecuada, pero busca lugares para ahorrar dinero. \n",
      "\n",
      "**00:06** Tal vez esté tomando más tiempo arreglar las cosas de lo que esperaban los banqueros.\n",
      "\n",
      "**00:11** Contratar a la esposa para la propia empresa puede ganar su ingreso de jubilación con impuestos diferidos.\n",
      "\n",
      "**00:16** El impulso es útil, pero inadecuado.\n",
      "\n",
      "**00:19** Nuevos harapos autoengañosos se arrojan apresuradamente sobre los dos huesos desnudos.\n",
      "\n",
      "**00:22** ¿Qué discusión puede surgir cuando el título de este tipo de canción está en duda?\n",
      "\n",
      "**00:26** No hay necesidad de teñir, depilar o gasear.\n",
      "\n",
      "**00:29** El peso del papel puede personalizarse en la parte posterior mientras la arcilla es dura como el cuero.\n",
      "\n",
      "**00:33** Coloque el trabajo sobre una superficie plana y alise.\n",
      "\n",
      "**00:36** El tipo más simple de sistema séptico utiliza una sola unidad autónoma.\n",
      "\n",
      "**00:41** El viejo adagio de la tienda todavía se mantiene: un buen mecánico suele ser un mal jefe.\n",
      "\n",
      "**00:45** Ambas cifras serían más altas en años posteriores.\n",
      "\n",
      "**00:47** Algunos hacen hermosas sillas, cabañas, cofres, casas de muñecas, etc. \n"
     ]
    }
   ],
   "source": [
    "question = \"Transcribe literal the content of this audio and translate to Spanish\"\n",
    "response = generate(question, content)"
   ]
  },
  {
   "cell_type": "markdown",
   "id": "7a6913b4-fe5e-4961-8c90-7f646d46ae40",
   "metadata": {},
   "source": [
    "#### Multimodal Prompt 4 Extract facts from pdf and summary"
   ]
  },
  {
   "cell_type": "code",
   "execution_count": 36,
   "id": "b86c559e-7a33-4390-af48-9b36226b814c",
   "metadata": {},
   "outputs": [],
   "source": [
    "content= []\n",
    "with open(\"data/report.pdf\", \"rb\") as f:\n",
    "    im_bytes = f.read()\n",
    "    im_b64 = base64.b64encode(im_bytes)\n",
    "    file = Part.from_data(data=base64.b64decode(im_b64), mime_type=\"application/pdf\")\n",
    "    content.append(file)"
   ]
  },
  {
   "cell_type": "code",
   "execution_count": 37,
   "id": "dfdde95b-7985-4fba-8036-59409258b76b",
   "metadata": {},
   "outputs": [
    {
     "name": "stdout",
     "output_type": "stream",
     "text": [
      "## Summary of How to Check Stationarity of a Time Series\n",
      "\n",
      "This document discusses the concept of stationarity in time series data and methods for checking and achieving it. \n",
      "\n",
      "**Key facts:**\n",
      "\n",
      "* **Stationarity**: A time series is stationary if its statistical properties (mean, variance, autocovariance) remain constant over time. This is important for many time series models as they assume stationarity.\n",
      "* **Checking Stationarity**:\n",
      "    * **Visual Techniques**: Plotting rolling statistics like moving average or moving variance can visually indicate if the series is stationary.\n",
      "    * **Dickey-Fuller Test**: This statistical test helps determine stationarity with a null hypothesis that the series is non-stationary. \n",
      "* **Reasons for Non-Stationarity**:\n",
      "    * **Trend**: Varying mean over time (e.g., increasing number of passengers).\n",
      "    * **Seasonality**: Variations at specific time frames (e.g., increased car sales during certain months).\n",
      "* **Achieving Stationarity**:\n",
      "    * **Transformations**: Applying transformations like log, square root, or cube root can help stabilize the variance and reduce trend.\n",
      "    * **Trend Removal**: Techniques like aggregation, smoothing, and polynomial fitting can be used to estimate and remove the trend component.\n",
      "    * **Seasonality Removal**: Differencing (taking the difference between consecutive observations) or decomposition (modeling trend and seasonality separately) can help remove seasonality.\n",
      "* **Forecasting**:\n",
      "    * **ARIMA models**: After achieving stationarity, models like ARIMA can be used for forecasting. ARIMA models use autoregressive (AR), integrated (I), and moving average (MA) components to capture the dependence among values in the time series.\n",
      "    * **ACF and PACF plots**: These plots help determine the order of AR and MA terms in the ARIMA model.\n",
      "\n",
      "**Final Summary:**\n",
      "\n",
      "Stationarity is crucial for many time series analyses and forecasting methods. This document explored various techniques for checking and achieving stationarity, including visual analysis, statistical tests, and methods for removing trend and seasonality. Finally, it introduced ARIMA models as a popular forecasting technique for stationary time series.\n",
      "\n",
      "**Additional Notes:**\n",
      "\n",
      "* The document provides examples using various time series data and demonstrates the application of the discussed techniques.\n",
      "* The document emphasizes the importance of understanding the underlying concepts and interpreting the results of the tests and models.\n",
      "\n",
      "**Overall, this document offers a valuable resource for understanding and working with stationarity in time series data.** \n"
     ]
    }
   ],
   "source": [
    "question = \"Extract main key facts and create a final summary from this document\"\n",
    "response = generate(question, content)"
   ]
  },
  {
   "cell_type": "code",
   "execution_count": null,
   "id": "112f5135-b070-4b40-be39-c7f1aaaf2630",
   "metadata": {},
   "outputs": [],
   "source": []
  }
 ],
 "metadata": {
  "kernelspec": {
   "display_name": "Python (vertex)",
   "language": "python",
   "name": "vertex"
  },
  "language_info": {
   "codemirror_mode": {
    "name": "ipython",
    "version": 3
   },
   "file_extension": ".py",
   "mimetype": "text/x-python",
   "name": "python",
   "nbconvert_exporter": "python",
   "pygments_lexer": "ipython3",
   "version": "3.11.7"
  }
 },
 "nbformat": 4,
 "nbformat_minor": 5
}
