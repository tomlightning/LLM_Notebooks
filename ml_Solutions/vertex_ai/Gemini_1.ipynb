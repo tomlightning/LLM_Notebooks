{
 "cells": [
  {
   "cell_type": "markdown",
   "id": "f77789f7-148a-47b8-8182-da8fc43b05d9",
   "metadata": {},
   "source": [
    "# VERTEX AI\n",
    "#### https://cloud.google.com/sdk/docs/install\n",
    "#### https://cloud.google.com/sdk/gcloud/reference/auth/application-default/login\n",
    "#### https://blog.google/technology/ai/google-gemini-ai/#introducing-gemini\n",
    "#### https://cloud.google.com/vertex-ai/docs/generative-ai/learn/overview\n",
    "#### https://the-decoder.com/google-rolls-out-ai-model-gemini-pro-gemini-ultra-to-beat-gpt-4/\n",
    "\n",
    "\n",
    "# Video Llama\n",
    "#### https://huggingface.co/spaces/DAMO-NLP-SG/Video-LLaMA"
   ]
  },
  {
   "cell_type": "code",
   "execution_count": 25,
   "id": "5925e1bd-1429-4e78-aeba-4855bfcb7488",
   "metadata": {},
   "outputs": [],
   "source": [
    "# pip install --upgrade google-cloud-aiplatform\n",
    "# gcloud auth application-default login"
   ]
  },
  {
   "cell_type": "code",
   "execution_count": 24,
   "id": "58c20b4a-7b1e-470b-953a-3fd6d4dc730c",
   "metadata": {},
   "outputs": [],
   "source": [
    "import base64\n",
    "import vertexai\n",
    "from vertexai.preview.generative_models import GenerativeModel, Part\n",
    "import vertexai.preview.generative_models as generative_models"
   ]
  },
  {
   "cell_type": "code",
   "execution_count": 18,
   "id": "7e473fb7-ab32-4bfd-9137-99d6b7f760e5",
   "metadata": {},
   "outputs": [],
   "source": [
    "from dotenv import dotenv_values\n",
    "\n",
    "config = dotenv_values(\".env\")"
   ]
  },
  {
   "cell_type": "code",
   "execution_count": 22,
   "id": "97bdb3c7-e6ec-412d-933c-64f9fe25225c",
   "metadata": {},
   "outputs": [],
   "source": [
    "def generate(question, object):\n",
    "  vertexai.init(project=config['PROJECT'], location=config['REGION'])\n",
    "  model = GenerativeModel(\"gemini-1.0-pro-vision-001\")\n",
    "  responses = model.generate_content(\n",
    "    [f\"\"\"{question}\"\"\", object],\n",
    "    generation_config={\n",
    "        \"max_output_tokens\": 2048,\n",
    "        \"temperature\": 0.4,\n",
    "        \"top_p\": 1,\n",
    "        \"top_k\": 32\n",
    "    },\n",
    "    safety_settings={\n",
    "          generative_models.HarmCategory.HARM_CATEGORY_HATE_SPEECH: generative_models.HarmBlockThreshold.BLOCK_MEDIUM_AND_ABOVE,\n",
    "          generative_models.HarmCategory.HARM_CATEGORY_DANGEROUS_CONTENT: generative_models.HarmBlockThreshold.BLOCK_MEDIUM_AND_ABOVE,\n",
    "          generative_models.HarmCategory.HARM_CATEGORY_SEXUALLY_EXPLICIT: generative_models.HarmBlockThreshold.BLOCK_MEDIUM_AND_ABOVE,\n",
    "          generative_models.HarmCategory.HARM_CATEGORY_HARASSMENT: generative_models.HarmBlockThreshold.BLOCK_MEDIUM_AND_ABOVE,\n",
    "    },\n",
    "    stream=True,\n",
    "  )\n",
    "  \n",
    "  for response in responses:\n",
    "    print(response.text, end=\"\")"
   ]
  },
  {
   "cell_type": "code",
   "execution_count": 3,
   "id": "74d712b4-95ad-459a-8946-aacb0819d62b",
   "metadata": {},
   "outputs": [],
   "source": [
    "with open(\"data/forest.jpg\", \"rb\") as f:\n",
    "    im_bytes = f.read()        \n",
    "im_b64 = base64.b64encode(im_bytes).decode(\"utf8\")"
   ]
  },
  {
   "cell_type": "code",
   "execution_count": 26,
   "id": "1a2ef53a-be2c-41ba-9dfe-fd8423bdd039",
   "metadata": {},
   "outputs": [],
   "source": [
    "image1 = Part.from_data(data=im_b64, mime_type=\"image/jpeg\")"
   ]
  },
  {
   "cell_type": "code",
   "execution_count": 27,
   "id": "2be03d0b-3943-4b14-9df0-90c7e71a0fab",
   "metadata": {},
   "outputs": [
    {
     "name": "stdout",
     "output_type": "stream",
     "text": [
      " The image is a photograph of a forest. The trees are tall and have thick branches. The leaves on the trees in the front are yellow. The leaves on the trees in the back are green. The sun is shining through the trees. There is a path on the ground that leads into the forest."
     ]
    }
   ],
   "source": [
    "generate(\"can you describe what do you see in this image?\", image1)"
   ]
  },
  {
   "cell_type": "code",
   "execution_count": null,
   "id": "307152e5-c28f-4f02-983f-ee566e842cd6",
   "metadata": {},
   "outputs": [],
   "source": [
    "Un bosque con los árboles llenos de hojas amarillas y verdes, con un camino en medio y un haz de luz que ilumina el camino"
   ]
  },
  {
   "cell_type": "markdown",
   "id": "1902b9d2-39bb-4d34-ae12-869bbff07190",
   "metadata": {},
   "source": [
    "The image depicts a beautiful autumn forest with a sun shining through the trees. The forest is filled with trees of various colors, including yellow, orange, and green. The sunlight is shining down from the sky, casting a warm and inviting glow on the forest floor."
   ]
  },
  {
   "cell_type": "code",
   "execution_count": 28,
   "id": "b9ded247-437f-454a-9327-e947dce9e33e",
   "metadata": {},
   "outputs": [],
   "source": [
    "with open(\"data/part1.mp4\", \"rb\") as f:\n",
    "    im_bytes = f.read()        \n",
    "vi_b64 = base64.b64encode(im_bytes).decode(\"utf8\")"
   ]
  },
  {
   "cell_type": "code",
   "execution_count": 29,
   "id": "dfdde95b-7985-4fba-8036-59409258b76b",
   "metadata": {},
   "outputs": [],
   "source": [
    "video1 = Part.from_data(data=vi_b64, mime_type=\"video/mp4\")"
   ]
  },
  {
   "cell_type": "code",
   "execution_count": 30,
   "id": "6a6ed68b-88c9-4de5-8598-3bb81a2059d7",
   "metadata": {},
   "outputs": [
    {
     "name": "stdout",
     "output_type": "stream",
     "text": [
      " The video is about a rabbit who is trying to get an apple from a tree. The rabbit is unsuccessful in getting the apple, but he does manage to get a butterfly. The butterfly is attracted to the rabbit's fur, and it lands on his nose. The rabbit is surprised by the butterfly, but he doesn't seem to mind it. The butterfly stays on the rabbit's nose for a few seconds, and then it flies away. The rabbit watches the butterfly go, and then he smiles."
     ]
    }
   ],
   "source": [
    "generate(\"can you describe what do you see in this video?\",video1)"
   ]
  },
  {
   "cell_type": "markdown",
   "id": "3d32f5f0-287b-41cb-a0f1-e78c7d869716",
   "metadata": {},
   "source": [
    "Sure. In this video, I can see a series of scenes featuring different objects and animals. The video starts with a cartoon character standing on a hill with a green field in the background. Then, there is a scene of a rabbit and a dog on a hill with a green field and a blue sky. Next, there is a scene of a white cat on a hill with a green field and a blue sky. After that, there is a scene of a white cat and a dog on a hill with a green field and a blue sky. Then, there is a scene of a white cat and a dog on a hill with a green field and a blue sky. Finally, there is a scene of a white cat and a dog on a hill with a green field and a blue sky. Throughout the video, there are also various objects and animals, such as a bird, a bear, and a rabbit."
   ]
  }
 ],
 "metadata": {
  "kernelspec": {
   "display_name": "Python (vertex)",
   "language": "python",
   "name": "vertex"
  },
  "language_info": {
   "codemirror_mode": {
    "name": "ipython",
    "version": 3
   },
   "file_extension": ".py",
   "mimetype": "text/x-python",
   "name": "python",
   "nbconvert_exporter": "python",
   "pygments_lexer": "ipython3",
   "version": "3.11.7"
  }
 },
 "nbformat": 4,
 "nbformat_minor": 5
}
