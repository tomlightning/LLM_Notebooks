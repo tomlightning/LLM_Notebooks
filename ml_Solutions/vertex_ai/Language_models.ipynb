{
 "cells": [
  {
   "cell_type": "code",
   "execution_count": 1,
   "id": "075c97b9-0cef-494b-bd49-8658bc2b339e",
   "metadata": {},
   "outputs": [],
   "source": [
    "import base64\n",
    "import vertexai\n",
    "from vertexai.generative_models import GenerativeModel, Part, FinishReason\n",
    "import vertexai.preview.generative_models as generative_models"
   ]
  },
  {
   "cell_type": "code",
   "execution_count": 16,
   "id": "fdbe1eaf-fd61-4ef2-8424-3eaca38c7a8d",
   "metadata": {},
   "outputs": [],
   "source": [
    "from dotenv import dotenv_values\n",
    "import json\n",
    "from google.oauth2 import service_account\n",
    "config = dotenv_values(\".env\")"
   ]
  },
  {
   "cell_type": "code",
   "execution_count": 17,
   "id": "5a5b1a8a-e42d-48cb-94e5-9ddaccea3d24",
   "metadata": {},
   "outputs": [],
   "source": [
    "with open('./complete-tube-421007-9a7c35cd44e2.json') as source:\n",
    "    info = json.load(source)"
   ]
  },
  {
   "cell_type": "code",
   "execution_count": 18,
   "id": "73b2d440-29c2-41b4-95a7-6fef8ae3e326",
   "metadata": {},
   "outputs": [],
   "source": [
    "vertex_credentials = service_account.Credentials.from_service_account_info(info)"
   ]
  },
  {
   "cell_type": "code",
   "execution_count": 19,
   "id": "f25868ac-b720-46c9-9dce-a69623be49b3",
   "metadata": {},
   "outputs": [],
   "source": [
    "vertexai.init(project=config['PROJECT'], location=config['REGION'],  credentials=vertex_credentials)"
   ]
  },
  {
   "cell_type": "code",
   "execution_count": 20,
   "id": "6afdcc69-226b-4a51-9410-9252c4d55667",
   "metadata": {},
   "outputs": [],
   "source": [
    "def generate(text):\n",
    "    generation_config = {\n",
    "    \"max_output_tokens\": 256,\n",
    "    \"temperature\": 0.2,\n",
    "    \"top_p\": 0.8,\n",
    "}\n",
    "\n",
    "    safety_settings = {\n",
    "    generative_models.HarmCategory.HARM_CATEGORY_HATE_SPEECH: generative_models.HarmBlockThreshold.BLOCK_MEDIUM_AND_ABOVE,\n",
    "    generative_models.HarmCategory.HARM_CATEGORY_DANGEROUS_CONTENT: generative_models.HarmBlockThreshold.BLOCK_MEDIUM_AND_ABOVE,\n",
    "    generative_models.HarmCategory.HARM_CATEGORY_SEXUALLY_EXPLICIT: generative_models.HarmBlockThreshold.BLOCK_MEDIUM_AND_ABOVE,\n",
    "    generative_models.HarmCategory.HARM_CATEGORY_HARASSMENT: generative_models.HarmBlockThreshold.BLOCK_MEDIUM_AND_ABOVE,\n",
    "} \n",
    "\n",
    "    model = GenerativeModel(\"gemini-1.0-pro-002\")\n",
    "    responses = model.generate_content(\n",
    "      [f\"\"\"Define the categories for the text below?\n",
    "Options:\n",
    "- outdoor\n",
    "- health\n",
    "- aviation\n",
    "- cycling\n",
    "- automotive\n",
    "- fitness\n",
    "- marine\n",
    "- fish and hunt\n",
    "\n",
    "Text: When shopping for chartplotters that will work well with your unit, there are three factors to consider.\n",
    "Categories: fish and hunt, marine\n",
    "\n",
    "Text: Whether you’re planning short weekend getaways or longer cross-country adventures, bring a variety of tools to help plan your RV trip.\n",
    "Categories: automotive, outdoor\n",
    "\n",
    "Text: The skipper of the A Team, John, is on a mission to win the Vendée Globe ocean race. He\\'s relying on his team to help.\n",
    "Categories: marine\n",
    "\n",
    "Text: Are you sleeping better or worse than your peers? New data from recent smart watches show average sleep scores — and where yours may fit in.\n",
    "Categories: health\n",
    "\n",
    "Text: When Idaho State Highway 21 was closed by an avalanche, Mark and Kim Nero were stranded. They shared the story of how they got out.\n",
    "Categories: automotive, outdoor\n",
    "\n",
    "Text: {text}\n",
    "Categories:\n",
    "\"\"\"],\n",
    "      generation_config=generation_config,\n",
    "      safety_settings=safety_settings,\n",
    "  )\n",
    "\n",
    " \n",
    "    return responses\n"
   ]
  },
  {
   "cell_type": "code",
   "execution_count": 21,
   "id": "1fb12c82-a982-402a-be26-dd25d3f2823e",
   "metadata": {},
   "outputs": [
    {
     "data": {
      "text/plain": [
       "candidates {\n",
       "  content {\n",
       "    role: \"model\"\n",
       "    parts {\n",
       "      text: \"health, fitness\"\n",
       "    }\n",
       "  }\n",
       "  finish_reason: STOP\n",
       "  safety_ratings {\n",
       "    category: HARM_CATEGORY_HATE_SPEECH\n",
       "    probability: NEGLIGIBLE\n",
       "    probability_score: 0.079782\n",
       "    severity: HARM_SEVERITY_NEGLIGIBLE\n",
       "    severity_score: 0.118998013\n",
       "  }\n",
       "  safety_ratings {\n",
       "    category: HARM_CATEGORY_DANGEROUS_CONTENT\n",
       "    probability: NEGLIGIBLE\n",
       "    probability_score: 0.0686622858\n",
       "    severity: HARM_SEVERITY_NEGLIGIBLE\n",
       "    severity_score: 0.0407692641\n",
       "  }\n",
       "  safety_ratings {\n",
       "    category: HARM_CATEGORY_HARASSMENT\n",
       "    probability: NEGLIGIBLE\n",
       "    probability_score: 0.142112792\n",
       "    severity: HARM_SEVERITY_NEGLIGIBLE\n",
       "    severity_score: 0.0729002729\n",
       "  }\n",
       "  safety_ratings {\n",
       "    category: HARM_CATEGORY_SEXUALLY_EXPLICIT\n",
       "    probability: NEGLIGIBLE\n",
       "    probability_score: 0.0690379292\n",
       "    severity: HARM_SEVERITY_NEGLIGIBLE\n",
       "    severity_score: 0.0249877963\n",
       "  }\n",
       "}\n",
       "usage_metadata {\n",
       "  prompt_token_count: 255\n",
       "  candidates_token_count: 3\n",
       "  total_token_count: 258\n",
       "}"
      ]
     },
     "execution_count": 21,
     "metadata": {},
     "output_type": "execute_result"
    }
   ],
   "source": [
    "text = \"The ways to practice self-care with a fitness watch are almost limitless, but here are six easy-to-implement tips to start today.\"\n",
    "generate (text)"
   ]
  },
  {
   "cell_type": "code",
   "execution_count": 23,
   "id": "7f6a3a63-ff9c-4184-9b2f-ab2bfcdeb8bd",
   "metadata": {},
   "outputs": [],
   "source": [
    "\n",
    "def generate_text(text1):\n",
    "    generation_config = {\n",
    "    \"max_output_tokens\": 2048,\n",
    "    \"temperature\": .1,\n",
    "    \"top_p\": 1,\n",
    "}\n",
    "\n",
    "    safety_settings = {\n",
    "    generative_models.HarmCategory.HARM_CATEGORY_HATE_SPEECH: generative_models.HarmBlockThreshold.BLOCK_MEDIUM_AND_ABOVE,\n",
    "    generative_models.HarmCategory.HARM_CATEGORY_DANGEROUS_CONTENT: generative_models.HarmBlockThreshold.BLOCK_MEDIUM_AND_ABOVE,\n",
    "    generative_models.HarmCategory.HARM_CATEGORY_SEXUALLY_EXPLICIT: generative_models.HarmBlockThreshold.BLOCK_MEDIUM_AND_ABOVE,\n",
    "    generative_models.HarmCategory.HARM_CATEGORY_HARASSMENT: generative_models.HarmBlockThreshold.BLOCK_MEDIUM_AND_ABOVE,\n",
    "}\n",
    "\n",
    "    model = GenerativeModel(\"gemini-1.0-pro-002\")\n",
    "    responses = model.generate_content(\n",
    "      [text1],\n",
    "      generation_config=generation_config,\n",
    "      safety_settings=safety_settings,\n",
    "      stream=True,\n",
    "  )\n",
    "    r = \"\"\n",
    "    for response in responses:\n",
    "        r = r + response.text\n",
    "\n",
    "    return r\n",
    "\n",
    "\n",
    "\n"
   ]
  },
  {
   "cell_type": "code",
   "execution_count": 24,
   "id": "c7233df5-dd35-42d1-8e1b-f313bb1bbeff",
   "metadata": {},
   "outputs": [],
   "source": [
    "text1 = \"\"\"Question: What is the sentiment\n",
    "of this review? Provide an\n",
    "explanation of the reasoning.\n",
    "\n",
    "Review: This is a shoe I will wear\n",
    "with black dress pants or jeans\n",
    "when I need comfort and a little\n",
    "style, but I am not impressed.\n",
    "This is a very flimsy shoe with\n",
    "little support at all. Unlike any\n",
    "other shoes I\\'ve purchased in the\n",
    "past. It looks nice, but it\\'s not\n",
    "comfortable.\"\"\""
   ]
  },
  {
   "cell_type": "code",
   "execution_count": 26,
   "id": "48900b30-8331-400f-805b-5c2c0801a674",
   "metadata": {},
   "outputs": [
    {
     "name": "stdout",
     "output_type": "stream",
     "text": [
      "The sentiment of the review is negative. \n",
      "\n",
      "Here's why:\n",
      "\n",
      "* **Negative adjectives:** The reviewer uses words like \"flimsy,\" \"little support,\" \"not impressed,\" and \"not comfortable\" to describe the shoe. These words all have negative connotations.\n",
      "* **Comparison to other shoes:** The reviewer says that this shoe is \"unlike any other shoes I've purchased in the past.\" This suggests that the reviewer has had negative experiences with this shoe compared to other shoes they have owned.\n",
      "* **Focus on negatives:** The review focuses on the negative aspects of the shoe, such as its lack of support and comfort. The reviewer only mentions the shoe's appearance in passing, and even then, it is in a negative context (\"It looks nice, but it's not comfortable\"). \n",
      "\n",
      "Overall, the language and tone of the review indicate that the reviewer is not happy with the shoe. \n",
      "\n"
     ]
    }
   ],
   "source": [
    "print(generate_text(text1))"
   ]
  },
  {
   "cell_type": "code",
   "execution_count": 28,
   "id": "861c3333-a359-4b81-9c4b-666705d9bd29",
   "metadata": {},
   "outputs": [],
   "source": [
    "\n",
    "def generate_text_cot(text1):\n",
    "    generation_config = {\n",
    "    \"max_output_tokens\": 2048,\n",
    "    \"temperature\": .1,\n",
    "    \"top_p\": 1,\n",
    "}\n",
    "\n",
    "    safety_settings = {\n",
    "    generative_models.HarmCategory.HARM_CATEGORY_HATE_SPEECH: generative_models.HarmBlockThreshold.BLOCK_MEDIUM_AND_ABOVE,\n",
    "    generative_models.HarmCategory.HARM_CATEGORY_DANGEROUS_CONTENT: generative_models.HarmBlockThreshold.BLOCK_MEDIUM_AND_ABOVE,\n",
    "    generative_models.HarmCategory.HARM_CATEGORY_SEXUALLY_EXPLICIT: generative_models.HarmBlockThreshold.BLOCK_MEDIUM_AND_ABOVE,\n",
    "    generative_models.HarmCategory.HARM_CATEGORY_HARASSMENT: generative_models.HarmBlockThreshold.BLOCK_MEDIUM_AND_ABOVE,\n",
    "}\n",
    "\n",
    "    model = GenerativeModel(\"gemini-1.0-pro-002\",\n",
    "                           system_instruction=[\"\"\"You a helpful agent who answer logic and maths questions and provide a rationale of your answers\"\"\"],)\n",
    "    responses = model.generate_content(\n",
    "      [text1],\n",
    "      generation_config=generation_config,\n",
    "      safety_settings=safety_settings,\n",
    "      stream=True,\n",
    "  )\n",
    "    r = \"\"\n",
    "    for response in responses:\n",
    "        r = r + response.text\n",
    "\n",
    "    return r"
   ]
  },
  {
   "cell_type": "code",
   "execution_count": 34,
   "id": "571940ce-f867-4179-bfe0-ef34cb0e3f51",
   "metadata": {},
   "outputs": [
    {
     "name": "stdout",
     "output_type": "stream",
     "text": [
      "The sum of the numbers in the list is 852.\n",
      "\n",
      "Here's the breakdown:\n",
      "\n",
      "* We identified two elements as numbers: \"849\" and \"3\".\n",
      "* We converted these strings to integers: 849 and 3.\n",
      "* We calculated the sum: 849 + 3 = 852.\n",
      "\n",
      "Therefore, the sum of the numbers in the list is 852. \n",
      "\n"
     ]
    }
   ],
   "source": [
    "text1 = \"\"\"Read the Instruction below and provide an answer\n",
    "\n",
    "INSTRUCTION:\n",
    "In this task, you are given an input list A. You need to find all the elements of the list that are numbers and calculate their sum.\n",
    "\n",
    "['i', 'P', 'h', '849', 'e', '3']\n",
    "\n",
    "RESPONSE:\"\"\"\n",
    "print(generate_text_cot(text1))"
   ]
  },
  {
   "cell_type": "code",
   "execution_count": 35,
   "id": "0a88793d-bbf0-4bec-a7c2-1d903a8c8bc6",
   "metadata": {},
   "outputs": [
    {
     "name": "stdout",
     "output_type": "stream",
     "text": [
      "## Determining the Sister's Age\n",
      "\n",
      "Based on the information provided, we can determine the sister's current age as follows:\n",
      "\n",
      "**1. Age Difference:**\n",
      "\n",
      "When you were 6 years old, your sister was half your age, which means she was 6/2 = 3 years old. \n",
      "\n",
      "This establishes an age difference of 6 - 3 = 3 years between you and your sister. This age difference remains constant throughout your lives.\n",
      "\n",
      "**2. Current Age:**\n",
      "\n",
      "You are currently 70 years old. Since the age difference remains constant, your sister's current age can be calculated by subtracting the age difference from your current age:\n",
      "\n",
      "Sister's age = Your current age - Age difference\n",
      "Sister's age = 70 years - 3 years\n",
      "Sister's age = 67 years old\n",
      "\n",
      "**Therefore, your sister is currently 67 years old.** \n",
      "\n"
     ]
    }
   ],
   "source": [
    "text1 = \"\"\" Read the Instruction below and provide an answer\n",
    "\n",
    "INSTRUCTION:\n",
    "When I was 6, my sister was half of my age. Now I’m 70 years old.\n",
    "Answer how old is my sister now?\n",
    "\n",
    "### RESPONSE:\"\"\"\n",
    "print(generate_text_cot(text1))"
   ]
  },
  {
   "cell_type": "code",
   "execution_count": 36,
   "id": "9eb2339b-0d70-4197-8e90-fc7da5737037",
   "metadata": {},
   "outputs": [
    {
     "name": "stdout",
     "output_type": "stream",
     "text": [
      "## Response:\n",
      "\n",
      "You remained with **10 apples**.\n",
      "\n",
      "### Rationale:\n",
      "\n",
      "1. You started with **10 apples**.\n",
      "2. You gave away **2 + 2 = 4 apples** to the neighbor and the repairman.\n",
      "3. You were left with **10 - 4 = 6 apples**.\n",
      "4. You bought **5 more apples**, making a total of **6 + 5 = 11 apples**.\n",
      "5. You ate **1 apple**, leaving you with **11 - 1 = 10 apples**.\n",
      "\n",
      "Therefore, you remained with **10 apples**. \n",
      "\n"
     ]
    }
   ],
   "source": [
    "text1 = \"\"\" Read the Instruction below and provide an answer\n",
    "\n",
    "INSTRUCTION:\n",
    "Question:\n",
    "I went to the market and bought 10 apples. I gave 2 apples to the neighbor and 2 to the repairman.\n",
    "Then I went again and bought 5 more apples and I ate 1 apple.\n",
    "Answer: How many apples did I remain with?\n",
    "\n",
    "### RESPONSE:\"\"\"\n",
    "print(generate_text_cot(text1))"
   ]
  },
  {
   "cell_type": "code",
   "execution_count": 38,
   "id": "d413bae1-6101-4ae9-950e-bbb92e118165",
   "metadata": {},
   "outputs": [
    {
     "name": "stdout",
     "output_type": "stream",
     "text": [
      "The value of the car now is $37,688.92.\n",
      "\n",
      "### Rationale:\n",
      "\n",
      "The percentage (declining balance) method is an accounting method used to calculate the depreciation of an asset over its useful life. The method calculates depreciation as a percentage of the asset's book value at the beginning of each period.\n",
      "\n",
      "In this case, the car's book value at the beginning of each year is equal to its cost minus the accumulated depreciation from previous years. The annual depreciation rate is 5%.\n",
      "\n",
      "The following table shows the calculation of the car's value over the past 20 years:\n",
      "\n",
      "| Year | Beginning Book Value | Depreciation Expense | Ending Book Value |\n",
      "|---|---|---|---|\n",
      "| 1 | $100,000 | $5,000 | $95,000 |\n",
      "| 2 | $95,000 | $4,750 | $90,250 |\n",
      "| 3 | $90,250 | $4,512.50 | $85,737.50 |\n",
      "| 4 | $85,737.50 | $4,286.88 | $81,450.62 |\n",
      "| 5 | $81,450.62 | $4,072.53 | $77,378.09 |\n",
      "| 6 | $77,378.09 | $3,868.90 | $73,509.19 |\n",
      "| 7 | $73,509.19 | $3,675.46 | $69,833.73 |\n",
      "| 8 | $69,833.73 | $3,491.69 | $66,342.04 |\n",
      "| 9 | $66,342.04 | $3,317.10 | $63,024.94 |\n",
      "| 10 | $63,024.94 | $3,151.25 | $59,873.69 |\n",
      "| 11 | $59,873.69 | $2,993.68 | $56,880.01 |\n",
      "| 12 | $56,880.01 | $2,844.00 | $54,036.01 |\n",
      "| 13 | $54,036.01 | $2,701.80 | $51,334.21 |\n",
      "| 14 | $51,334.21 | $2,566.71 | $48,767.50 |\n",
      "| 15 | $48,767.50 | $2,438.38 | $46,329.12 |\n",
      "| 16 | $46,329.12 | $2,316.46 | $44,012.66 |\n",
      "| 17 | $44,012.66 | $2,200.63 | $41,812.03 |\n",
      "| 18 | $41,812.03 | $2,090.60 | $39,721.43 |\n",
      "| 19 | $39,721.43 | $1,986.07 | $37,735.36 |\n",
      "| 20 | $37,735.36 | $1,886.77 | $35,848.59 |\n",
      "\n",
      "As you can see, the car's value has declined from $100,000 to $35,848.59 over the past 20 years. This is due to the fact that the car has been depreciating at a rate of 5% per year.\n"
     ]
    }
   ],
   "source": [
    "text1 = \"\"\" Read the Instruction below and provide an answer\n",
    "\n",
    "INSTRUCTION:\n",
    "Question:\n",
    "I had a car 20 years ago, and its cost was 100000$.\n",
    "Car's anual depreciation it is 5%.\n",
    "Using the Percentage (Declining Balance) method, what it is the value of the car now ?\n",
    "\n",
    "### RESPONSE:\"\"\"\n",
    "print(generate_text_cot(text1))"
   ]
  },
  {
   "cell_type": "code",
   "execution_count": 39,
   "id": "eca1b34d-d1a4-4ccc-948e-390a6ea1e60d",
   "metadata": {},
   "outputs": [
    {
     "name": "stdout",
     "output_type": "stream",
     "text": [
      "To determine your current age, we need to consider the information provided:\n",
      "\n",
      "* You had a car 20 years ago.\n",
      "* At that time, you were 37 years old.\n",
      "\n",
      "**Calculation:**\n",
      "\n",
      "1. Your age 20 years ago was 37.\n",
      "2. To find your current age, we add 20 years to your age from 20 years ago:\n",
      "\n",
      "Current age = Age 20 years ago + 20 years\n",
      "Current age = 37 + 20\n",
      "Current age = 57\n",
      "\n",
      "**Therefore, you are currently 57 years old.** \n",
      "\n"
     ]
    }
   ],
   "source": [
    "text1 = \"\"\" Read the Instruction below and provide an answer\n",
    "\n",
    "INSTRUCTION:\n",
    "Question: I had a car 20 years ago and at that time I was 37. Answer: How old I am now?\n",
    "\n",
    "### RESPONSE:\"\"\"\n",
    "print(generate_text_cot(text1))"
   ]
  },
  {
   "cell_type": "code",
   "execution_count": 59,
   "id": "0d3e0ebe-f9ad-48ae-abe7-01ff3ef7cead",
   "metadata": {},
   "outputs": [],
   "source": [
    "import base64\n",
    "import vertexai\n",
    "from vertexai.generative_models import GenerativeModel, Part, FinishReason\n",
    "import vertexai.preview.generative_models as generative_models\n",
    "\n",
    "def generate_text2(text2):\n",
    "    model = GenerativeModel(\"gemini-1.0-pro-002\")\n",
    "\n",
    "    generation_config = {\n",
    "    \"max_output_tokens\": 256,\n",
    "    \"temperature\": 0.2,\n",
    "    \"top_p\": 0.95,\n",
    "}\n",
    "\n",
    "    safety_settings = {\n",
    "    generative_models.HarmCategory.HARM_CATEGORY_HATE_SPEECH: generative_models.HarmBlockThreshold.BLOCK_MEDIUM_AND_ABOVE,\n",
    "    generative_models.HarmCategory.HARM_CATEGORY_DANGEROUS_CONTENT: generative_models.HarmBlockThreshold.BLOCK_MEDIUM_AND_ABOVE,\n",
    "    generative_models.HarmCategory.HARM_CATEGORY_SEXUALLY_EXPLICIT: generative_models.HarmBlockThreshold.BLOCK_MEDIUM_AND_ABOVE,\n",
    "    generative_models.HarmCategory.HARM_CATEGORY_HARASSMENT: generative_models.HarmBlockThreshold.BLOCK_MEDIUM_AND_ABOVE,\n",
    "}\n",
    "    responses = model.generate_content(\n",
    "      [f\"\"\"Provide a summary with about two sentences for the following article: Beyond our own products, we think it\\'s important to make it easy, safe and scalable for others to benefit from these advances by building on top of our best models. Next month, we\\'ll start onboarding individual developers, creators and enterprises so they can try our Generative Language API, initially powered by LaMDA with a range of models to follow. Over time, we intend to create a suite of tools and APIs that will make it easy for others to build more innovative applications with AI. Having the necessary compute power to build reliable and trustworthy AI systems is also crucial to startups, and we are excited to help scale these efforts through our Google Cloud partnerships with Cohere, C3.ai and Anthropic, which was just announced last week. Stay tuned for more developer details soon.\n",
    "Summary: Google will soon allow individual developers, creators, and enterprises to access its Generative Language API, powered by LaMDA, to build innovative AI applications. Google Cloud is also partnering with Cohere, C3.ai, and Anthropic to provide startups with the necessary compute power to build reliable and trustworthy AI systems.\n",
    "\n",
    "Provide a summary with about two sentences for the following article: The benefits of electric kitchens go beyond climate impact, starting with speed. The first time I ever cooked on induction (electric) equipment, the biggest surprise was just how incredibly fast it is. In fact, induction boils water twice as fast as traditional gas equipment and is far more efficient — because unlike a flame, electric heat has nowhere to escape. At Bay View, our training programs help Google chefs appreciate and adjust to the new pace of induction. The speed truly opens up whole new ways of cooking.\n",
    "Summary: Electric kitchens are faster, more efficient, and better for the environment than gas kitchens. This speed opens up whole new ways of cooking. Google chefs are trained to adapt to induction cooking at Bay View.\n",
    "\n",
    "Provide a summary with about two sentences for the following article: We\\'re also using AI to forecast floods, another extreme weather pattern exacerbated by climate change. We\\'ve already helped communities to predict when floods will hit and how deep the waters will get — in 2021, we sent 115 million flood alert notifications to 23 million people over Google Search and Maps, helping save countless lives. Today, we\\'re sharing that we\\'re now expanding our coverage to more countries in South America (Brazil and Colombia), Sub-Saharan Africa (Burkina Faso, Cameroon, Chad, Democratic Republic of Congo, Ivory Coast, Ghana, Guinea, Malawi, Nigeria, Sierra Leone, Angola, South Sudan, Namibia, Liberia, and South Africa), and South Asia (Sri Lanka). We\\'ve used an AI technique called transfer learning to make it work in areas where there\\'s less data available. We\\'re also announcing the global launch of Google FloodHub, a new platform that displays when and where floods may occur. We\\'ll also be bringing this information to Google Search and Maps in the future to help more people to reach safety in flooding situations.\n",
    "Summary: Google is expanding its AI-powered flood forecasting and alert system to more countries in South America, Sub-Saharan Africa, and South Asia. The system uses transfer learning to work in areas with less data. Google is also launching FloodHub, a platform that displays flood information, which will be integrated into Google Search and Maps.\n",
    "\n",
    "Provide a summary with about two sentences for the following article: In order to learn skiing, you must first be educated on the proper use of the equipment. This includes learning how to properly fit your boot on your foot, understand the different functions of the ski, and bring gloves, goggles etc. Your instructor starts you with one-footed ski drills. Stepping side-to-side, forward-and-backward, making snow angels while keeping your ski flat to the ground, and gliding with the foot not attached to a ski up for several seconds. Then you can put on both skis and get used to doing them with two skis on at once. Next, before going down the hill, you must first learn how to walk on the flat ground and up small hills through two methods, known as side stepping and herringbone. Now it\\'s time to get skiing! For your first attempted run, you will use the skills you just learned on walking up the hill, to go down a small five foot vertical straight run, in which you will naturally stop on the flat ground. This makes you learn the proper athletic stance to balance and get you used to going down the hill in a safe, controlled setting. What do you need next? To be able to stop yourself. Here, your coach will teach you how to turn your skis into a wedge, also commonly referred to as a pizza, by rotating legs inward and pushing out on the heels. Once learned, you practice a gliding wedge down a small hill where you gradually come to a stop on the flat ground thanks to your wedge. Finally, you learn the necessary skill of getting up after falling, which is much easier than it looks, but once learned, a piece of cake.\n",
    "Summary: Skiing is a great way to enjoy the outdoors and get some exercise. It can be a little daunting at first, but with a little practice, you\\'ll be skiing like a pro in no time.\n",
    "\n",
    "Provide a summary with about two sentences for the following article: Yellowstone National Park is an American national park located in the western United States, largely in the northwest corner of Wyoming and extending into Montana and Idaho. It was established by the 42nd U.S. Congress with the Yellowstone National Park Protection Act and signed into law by President Ulysses S. Grant on March 1, 1872. Yellowstone was the first national park in the U.S. and is also widely held to be the first national park in the world.The park is known for its wildlife and its many geothermal features, especially the Old Faithful geyser, one of its most popular. While it represents many types of biomes, the subalpine forest is the most abundant. It is part of the South Central Rockies forests ecoregion.\n",
    "Summary: Yellowstone National Park is the first national park in the United States and the world. It is located in the western United States, largely in the northwest corner of Wyoming and extending into Montana and Idaho. The park is known for its wildlife and its many geothermal features, especially the Old Faithful geyser.\n",
    "\n",
    "Provide a summary with about two sentences for the following article: {text2}\n",
    "Summary:\n",
    "\"\"\"],\n",
    "      generation_config=generation_config,\n",
    "      safety_settings=safety_settings,\n",
    "  )\n",
    "\n",
    "\n",
    "    return responses\n"
   ]
  },
  {
   "cell_type": "code",
   "execution_count": 60,
   "id": "d6886779-16c5-4768-b08f-4f1d39383ed7",
   "metadata": {},
   "outputs": [],
   "source": [
    "res1 =\"\"\"The efficient-market hypothesis (EMH) is a hypothesis in financial economics that states that asset prices reflect all available information.\n",
    "A direct implication is that it is impossible to \\\"beat the market\\\" consistently on a risk-adjusted basis since market prices should only react \n",
    "to new information. Because the EMH is formulated in terms of risk adjustment, it only makes testable predictions when coupled with a particular model\n",
    "of risk. As a result, research in financial economics since at least the 1990s has focused on market anomalies, that is, deviations from specific models\n",
    "of risk. The idea that financial market returns are difficult to predict goes back to Bachelier, Mandelbrot, and Samuelson, but is closely associated \n",
    "with Eugene Fama, in part due to his influential 1970 review of the theoretical and empirical research. The EMH provides the basic logic for modern\n",
    "risk-based theories of asset prices, and frameworks such as consumption-based asset pricing and intermediary asset pricing can be thought of as the\n",
    "combination of a model of risk with the EMH. Many decades of empirical research on return predictability has found mixed evidence.\n",
    "Research in the 1950s and 1960s often found a lack of predictability (e.g. Ball and Brown 1968; Fama, Fisher, Jensen, and Roll 1969), \n",
    "yet the 1980s-2000s saw an explosion of discovered return predictors (e.g. Rosenberg, Reid, and Lanstein 1985; Campbell and Shiller 1988; \n",
    "Jegadeesh and Titman 1993). Since the 2010s, studies have often found that return predictability has become more elusive, as predictability fails\n",
    "to work out-of-sample (Goyal and Welch 2008), or has been weakened by advances in trading technology and investor learning\n",
    "(Chordia, Subrahmanyam, and Tong 2014; McLean and Pontiff 2016; Martineau 2021).\"\"\""
   ]
  },
  {
   "cell_type": "code",
   "execution_count": 61,
   "id": "33b59717-7423-43cc-87fe-38e905520f81",
   "metadata": {},
   "outputs": [],
   "source": [
    "response = generate_text2(res1)"
   ]
  },
  {
   "cell_type": "code",
   "execution_count": 62,
   "id": "07bf64f0-3c35-4f5a-bb32-12ad3dae5252",
   "metadata": {},
   "outputs": [
    {
     "name": "stdout",
     "output_type": "stream",
     "text": [
      "The efficient-market hypothesis (EMH) is a hypothesis in financial economics that states that asset prices reflect all available information. A direct implication is that it is impossible to \"beat the market\" consistently on a risk-adjusted basis since market prices should only react to new information.\n"
     ]
    }
   ],
   "source": [
    "print(response.text)"
   ]
  },
  {
   "cell_type": "code",
   "execution_count": null,
   "id": "361e71c7-48a0-4600-af1b-0da06dea4b46",
   "metadata": {},
   "outputs": [],
   "source": []
  }
 ],
 "metadata": {
  "kernelspec": {
   "display_name": "Python (vertex)",
   "language": "python",
   "name": "vertex"
  },
  "language_info": {
   "codemirror_mode": {
    "name": "ipython",
    "version": 3
   },
   "file_extension": ".py",
   "mimetype": "text/x-python",
   "name": "python",
   "nbconvert_exporter": "python",
   "pygments_lexer": "ipython3",
   "version": "3.11.7"
  }
 },
 "nbformat": 4,
 "nbformat_minor": 5
}
