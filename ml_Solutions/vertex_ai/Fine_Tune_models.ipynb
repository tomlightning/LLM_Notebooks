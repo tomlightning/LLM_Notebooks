{
 "cells": [
  {
   "cell_type": "code",
   "execution_count": 1,
   "id": "91aaef6b-89e3-4ce8-aa00-9a1a72737fc8",
   "metadata": {},
   "outputs": [],
   "source": [
    "\n",
    "# Supervised Tuned\n",
    "# https://cloud.google.com/vertex-ai/generative-ai/docs/models/gemini-supervised-tuning-about\n",
    "\n",
    "\n",
    "#https://console.cloud.google.com/storage/browser/cloud-samples-data/ai-platform/generative_ai;tab=objects?prefix=&forceOnObjectsSortingFiltering=false\n"
   ]
  },
  {
   "cell_type": "code",
   "execution_count": 1,
   "id": "6fb6eb99-de9a-46ca-9e85-c199d5b32515",
   "metadata": {},
   "outputs": [],
   "source": [
    "import json"
   ]
  },
  {
   "cell_type": "code",
   "execution_count": 7,
   "id": "74981b48-4bc5-4c8e-a878-0f9ea0d17b9e",
   "metadata": {},
   "outputs": [],
   "source": [
    "def open_jsonl_file(filename):\n",
    "  with open(filename, 'r') as f:\n",
    "    data = [json.loads(line) for line in f]\n",
    "  return data"
   ]
  },
  {
   "cell_type": "code",
   "execution_count": 18,
   "id": "1e4e873f-a44f-422f-94e4-229b3da0f96f",
   "metadata": {},
   "outputs": [],
   "source": [
    "\n",
    "data= open_jsonl_file(\"./gemini_pro_peft_train_sample.jsonl\")"
   ]
  },
  {
   "cell_type": "code",
   "execution_count": 42,
   "id": "121ae387-7e8b-4994-b6af-d0787950d0e1",
   "metadata": {},
   "outputs": [
    {
     "data": {
      "text/plain": [
       "{'messages': [{'role': 'user',\n",
       "   'content': 'TRANSCRIPT: \\nSUBJECTIVE:,  This 23-year-old white female presents with complaint of allergies.  She used to have allergies when she lived in Seattle but she thinks they are worse here.  In the past, she has tried Claritin, and Zyrtec.  Both worked for short time but then seemed to lose effectiveness.  She has used Allegra also.  She used that last summer and she began using it again two weeks ago.  It does not appear to be working very well.  She has used over-the-counter sprays but no prescription nasal sprays.  She does have asthma but doest not require daily medication for this and does not think it is flaring up.,MEDICATIONS: , Her only medication currently is Ortho Tri-Cyclen and the Allegra.,ALLERGIES: , She has no known medicine allergies.,OBJECTIVE:,Vitals:  Weight was 130 pounds and blood pressure 124/78.,HEENT:  Her throat was mildly erythematous without exudate.  Nasal mucosa was erythematous and swollen.  Only clear drainage was seen.  TMs were clear.,Neck:  Supple without adenopathy.,Lungs:  Clear.,ASSESSMENT:,  Allergic rhinitis.,PLAN:,1.  She will try Zyrtec instead of Allegra again.  Another option will be to use loratadine.  She does not think she has prescription coverage so that might be cheaper.,2.  Samples of Nasonex two sprays in each nostril given for three weeks.  A prescription was written as well.\\n\\n LABEL:'},\n",
       "  {'role': 'model', 'content': 'Allergy / Immunology'}]}"
      ]
     },
     "execution_count": 42,
     "metadata": {},
     "output_type": "execute_result"
    }
   ],
   "source": [
    "data[1]"
   ]
  },
  {
   "cell_type": "code",
   "execution_count": 39,
   "id": "c6270af6-5ee1-4892-84c7-97305b1d6bda",
   "metadata": {},
   "outputs": [
    {
     "data": {
      "text/plain": [
       "{'role': 'user',\n",
       " 'content': 'TRANSCRIPT: \\nSUBJECTIVE:,  This 23-year-old white female presents with complaint of allergies.  She used to have allergies when she lived in Seattle but she thinks they are worse here.  In the past, she has tried Claritin, and Zyrtec.  Both worked for short time but then seemed to lose effectiveness.  She has used Allegra also.  She used that last summer and she began using it again two weeks ago.  It does not appear to be working very well.  She has used over-the-counter sprays but no prescription nasal sprays.  She does have asthma but doest not require daily medication for this and does not think it is flaring up.,MEDICATIONS: , Her only medication currently is Ortho Tri-Cyclen and the Allegra.,ALLERGIES: , She has no known medicine allergies.,OBJECTIVE:,Vitals:  Weight was 130 pounds and blood pressure 124/78.,HEENT:  Her throat was mildly erythematous without exudate.  Nasal mucosa was erythematous and swollen.  Only clear drainage was seen.  TMs were clear.,Neck:  Supple without adenopathy.,Lungs:  Clear.,ASSESSMENT:,  Allergic rhinitis.,PLAN:,1.  She will try Zyrtec instead of Allegra again.  Another option will be to use loratadine.  She does not think she has prescription coverage so that might be cheaper.,2.  Samples of Nasonex two sprays in each nostril given for three weeks.  A prescription was written as well.\\n\\n LABEL:'}"
      ]
     },
     "execution_count": 39,
     "metadata": {},
     "output_type": "execute_result"
    }
   ],
   "source": [
    "data[1]['messages'][0]"
   ]
  },
  {
   "cell_type": "code",
   "execution_count": 33,
   "id": "f4ad2eb6-9fde-41c8-b441-9d3e8d6f1395",
   "metadata": {},
   "outputs": [
    {
     "data": {
      "text/plain": [
       "{'role': 'model', 'content': 'Allergy / Immunology'}"
      ]
     },
     "execution_count": 33,
     "metadata": {},
     "output_type": "execute_result"
    }
   ],
   "source": [
    "data[1]['messages'][1]"
   ]
  },
  {
   "cell_type": "code",
   "execution_count": 35,
   "id": "9abed5af-c92d-43e8-bdff-a7def15f3ec0",
   "metadata": {},
   "outputs": [],
   "source": [
    "classes= []\n",
    "for d in data:\n",
    "    if d['messages'][1].get(\"role\") == 'model':\n",
    "        classes.append(d['messages'][1].get(\"content\"))"
   ]
  },
  {
   "cell_type": "code",
   "execution_count": 36,
   "id": "14f7f971-a89f-42d7-a976-c4e6060137b7",
   "metadata": {},
   "outputs": [
    {
     "data": {
      "text/plain": [
       "519"
      ]
     },
     "execution_count": 36,
     "metadata": {},
     "output_type": "execute_result"
    }
   ],
   "source": [
    "len(data)"
   ]
  },
  {
   "cell_type": "code",
   "execution_count": 37,
   "id": "3998584d-ba6a-40f1-bab4-7f2d2d870b7f",
   "metadata": {},
   "outputs": [
    {
     "data": {
      "text/plain": [
       "{'Allergy / Immunology',\n",
       " 'Autopsy',\n",
       " 'Bariatrics',\n",
       " 'Cardiovascular / Pulmonary',\n",
       " 'Chiropractic',\n",
       " 'Consult - History and Phy.',\n",
       " 'Cosmetic / Plastic Surgery',\n",
       " 'Dentistry',\n",
       " 'Dermatology',\n",
       " 'Diets and Nutritions',\n",
       " 'Discharge Summary',\n",
       " 'ENT - Otolaryngology',\n",
       " 'Emergency Room Reports',\n",
       " 'Endocrinology',\n",
       " 'Gastroenterology',\n",
       " 'General Medicine',\n",
       " 'Hematology - Oncology',\n",
       " 'Hospice - Palliative Care',\n",
       " 'IME-QME-Work Comp etc.',\n",
       " 'Lab Medicine - Pathology',\n",
       " 'Letters',\n",
       " 'Nephrology',\n",
       " 'Neurology',\n",
       " 'Neurosurgery',\n",
       " 'Obstetrics / Gynecology',\n",
       " 'Office Notes',\n",
       " 'Ophthalmology',\n",
       " 'Orthopedic',\n",
       " 'Pain Management',\n",
       " 'Pediatrics - Neonatal',\n",
       " 'Physical Medicine - Rehab',\n",
       " 'Podiatry',\n",
       " 'Psychiatry / Psychology',\n",
       " 'Radiology',\n",
       " 'Rheumatology',\n",
       " 'SOAP / Chart / Progress Notes',\n",
       " 'Sleep Medicine',\n",
       " 'Speech - Language',\n",
       " 'Surgery',\n",
       " 'Urology'}"
      ]
     },
     "execution_count": 37,
     "metadata": {},
     "output_type": "execute_result"
    }
   ],
   "source": [
    "set(classes)"
   ]
  },
  {
   "cell_type": "code",
   "execution_count": 11,
   "id": "a6b94db2-d869-4977-8f89-bb384c7fbad5",
   "metadata": {},
   "outputs": [],
   "source": [
    "import base64\n",
    "import vertexai\n",
    "from vertexai.generative_models import GenerativeModel, Part\n",
    "import vertexai.preview.generative_models as generative_models"
   ]
  },
  {
   "cell_type": "code",
   "execution_count": 12,
   "id": "99cded45-7a14-4e4a-a575-8a89a50863bb",
   "metadata": {},
   "outputs": [],
   "source": [
    "from dotenv import dotenv_values\n",
    "import json\n",
    "from google.oauth2 import service_account\n",
    "config = dotenv_values(\".env\")\n",
    "\n",
    "\n",
    "with open('./complete-tube-421007-9a7c35cd44e2.json') as source:\n",
    "    info = json.load(source)\n",
    "\n",
    "vertex_credentials = service_account.Credentials.from_service_account_info(info)\n",
    "vertexai.init(project=config['PROJECT'], location=config['REGION'],  credentials=vertex_credentials)"
   ]
  },
  {
   "cell_type": "code",
   "execution_count": 43,
   "id": "40ee14c2-9374-4447-ab8d-b985ba69f479",
   "metadata": {},
   "outputs": [],
   "source": [
    "def multiturn_generate_content(text):\n",
    "    generation_config = {\n",
    "    \"max_output_tokens\": 2048,\n",
    "    \"temperature\": .1,\n",
    "    \"top_p\": 1,\n",
    "}\n",
    "    safety_settings = {\n",
    "    generative_models.HarmCategory.HARM_CATEGORY_HATE_SPEECH: generative_models.HarmBlockThreshold.BLOCK_MEDIUM_AND_ABOVE,\n",
    "    generative_models.HarmCategory.HARM_CATEGORY_DANGEROUS_CONTENT: generative_models.HarmBlockThreshold.BLOCK_MEDIUM_AND_ABOVE,\n",
    "    generative_models.HarmCategory.HARM_CATEGORY_SEXUALLY_EXPLICIT: generative_models.HarmBlockThreshold.BLOCK_MEDIUM_AND_ABOVE,\n",
    "    generative_models.HarmCategory.HARM_CATEGORY_HARASSMENT: generative_models.HarmBlockThreshold.BLOCK_MEDIUM_AND_ABOVE,\n",
    "}  \n",
    "    model = GenerativeModel(\n",
    "    \"projects/124210009832/locations/europe-west2/endpoints/782504833302134784\",\n",
    "    system_instruction=[\"\"\"You are a model able to classify a text\"\"\"]\n",
    "  )\n",
    "    chat = model.start_chat()\n",
    "    response = chat.send_message(\n",
    "      [text],\n",
    "      generation_config=generation_config,\n",
    "      safety_settings=safety_settings\n",
    "  )\n",
    "\n",
    "    return response\n",
    "\n"
   ]
  },
  {
   "cell_type": "code",
   "execution_count": 44,
   "id": "9aa6ee75-19c7-4402-8e39-dbc5fe966847",
   "metadata": {},
   "outputs": [
    {
     "data": {
      "text/plain": [
       "candidates {\n",
       "  content {\n",
       "    role: \"model\"\n",
       "    parts {\n",
       "      text: \"Consult - History and Phy.\"\n",
       "    }\n",
       "  }\n",
       "  finish_reason: STOP\n",
       "  safety_ratings {\n",
       "    category: HARM_CATEGORY_HATE_SPEECH\n",
       "    probability: NEGLIGIBLE\n",
       "    probability_score: 0.172589809\n",
       "    severity: HARM_SEVERITY_NEGLIGIBLE\n",
       "    severity_score: 0.0701762959\n",
       "  }\n",
       "  safety_ratings {\n",
       "    category: HARM_CATEGORY_DANGEROUS_CONTENT\n",
       "    probability: NEGLIGIBLE\n",
       "    probability_score: 0.298491359\n",
       "    severity: HARM_SEVERITY_NEGLIGIBLE\n",
       "    severity_score: 0.0601970479\n",
       "  }\n",
       "  safety_ratings {\n",
       "    category: HARM_CATEGORY_HARASSMENT\n",
       "    probability: NEGLIGIBLE\n",
       "    probability_score: 0.22303842\n",
       "    severity: HARM_SEVERITY_NEGLIGIBLE\n",
       "    severity_score: 0.124958552\n",
       "  }\n",
       "  safety_ratings {\n",
       "    category: HARM_CATEGORY_SEXUALLY_EXPLICIT\n",
       "    probability: NEGLIGIBLE\n",
       "    probability_score: 0.114368536\n",
       "    severity: HARM_SEVERITY_NEGLIGIBLE\n",
       "    severity_score: 0.0626743659\n",
       "  }\n",
       "}\n",
       "usage_metadata {\n",
       "  prompt_token_count: 948\n",
       "  candidates_token_count: 6\n",
       "  total_token_count: 954\n",
       "}"
      ]
     },
     "execution_count": 44,
     "metadata": {},
     "output_type": "execute_result"
    }
   ],
   "source": [
    "text1_1 = \"\"\"\n",
    "classify the text using these classes in the list ['Allergy / Immunology',  'Autopsy', 'Bariatrics', 'Cardiovascular / Pulmonary', 'Chiropractic',\n",
    " 'Consult - History and Phy.', 'Cosmetic / Plastic Surgery', 'Dentistry', 'Dermatology', 'Diets and Nutritions',\n",
    " 'Discharge Summary', 'ENT - Otolaryngology', 'Emergency Room Reports', 'Endocrinology', 'Gastroenterology',\n",
    " 'General Medicine', 'Hematology - Oncology', 'Hospice - Palliative Care', 'IME-QME-Work Comp etc.', 'Lab Medicine - Pathology',\n",
    " 'Letters', 'Nephrology', 'Neurology', 'Neurosurgery', 'Obstetrics / Gynecology', 'Office Notes', 'Ophthalmology', 'Orthopedic',\n",
    " 'Pain Management', 'Pediatrics - Neonatal', 'Physical Medicine - Rehab', 'Podiatry', 'Psychiatry / Psychology', 'Radiology',\n",
    " 'Rheumatology', 'SOAP / Chart / Progress Notes', 'Sleep Medicine', 'Speech - Language', 'Surgery', 'Urology']\n",
    "\n",
    "Text # 'TRANSCRIPT: \\\\nREVIEW OF SYSTEMS,GENERAL/CONSTITUTIONAL: , The patient denies fever, fatigue, weakness, weight gain or weight loss.,HEAD, EYES, EARS, NOSE AND THROAT:,  Eyes - The patient denies pain, redness, loss of vision, double or blurred vision, flashing lights or spots, dryness, the feeling that something is in the eye and denies wearing glasses.  Ears, nose, mouth and throat.  The patient denies ringing in the ears, loss of hearing, nosebleeds, loss of sense of smell, dry sinuses, sinusitis, post nasal drip, sore tongue, bleeding gums, sores in the mouth, loss of sense of taste, dry mouth, dentures or removable dental work, frequent sore throats, hoarseness or constant feeling of a need to clear the throat when nothing is there, waking up with acid or bitter fluid in the mouth or throat, food sticking in throat when swallows or painful swallowing.,CARDIOVASCULAR: , The patient denies chest pain, irregular heartbeats, sudden changes in heartbeat or palpitation, shortness of breath, difficulty breathing at night, swollen legs or feet, heart murmurs, high blood pressure, cramps in his legs with walking, pain in his feet or toes at night or varicose veins.,RESPIRATORY: , The patient denies chronic dry cough, coughing up blood, coughing  up mucus, waking at night coughing or choking, repeated pneumonias, wheezing or night sweats.,GASTROINTESTINAL: , The patient denies decreased appetite, nausea, vomiting, vomiting blood or coffee ground material, heartburn, regurgitation, frequent belching, stomach pain relieved by food, yellow jaundice, diarrhea, constipation, gas, blood in the stools, black tarry stools or hemorrhoids.,GENITOURINARY:  ,The patient denies difficult urination, pain or burning with urination, blood in the urine, cloudy or smoky urine, frequent need to urinate, urgency, needing to urinate frequently at night, inability to hold the urine, discharge from the penis, kidney stones, rash or ulcers, sexual difficulties, impotence or prostate trouble, no sexually transmitted diseases.,MUSCULOSKELETAL: , The patient denies arm, buttock, thigh or calf cramps.  No joint or muscle pain.  No muscle weakness or tenderness.  No joint swelling, neck pain, back pain or major orthopedic injuries.,SKIN AND BREASTS:  ,The patient denies easy bruising, skin redness, skin rash,  hives, sensitivity to sun exposure, tightness, nodules or bumps, hair loss, color changes in the hands or feet with cold, breast lump, breast pain or nipple discharge.,NEUROLOGIC: , The patient denies headache, dizziness, fainting, muscle spasm, loss of consciousness, sensitivity or pain in the hands and feet or memory loss.,PSYCHIATRIC:  ,The patient denies depression with thoughts of suicide, voices in ?? head telling ?? to do things and has not been seen for psychiatric counseling or treatment.,ENDOCRINE: , The patient denies intolerance to hot or cold temperature, flushing, fingernail changes, increased thirst, increased salt intake or decreased sexual desire.,HEMATOLOGIC/LYMPHATIC:  ,The patient denies anemia, bleeding tendency or clotting tendency.,ALLERGIC/IMMUNOLOGIC: , The patient denies rhinitis, asthma, skin sensitivity, latex allergies or sensitivity.\\\\n\\\\n \n",
    "LABEL:' \"\"\"\n",
    "\n",
    "\n",
    "\n",
    "multiturn_generate_content(text1_1)"
   ]
  },
  {
   "cell_type": "code",
   "execution_count": null,
   "id": "8a863ebc-94b4-43bd-8a4e-48df3b152d79",
   "metadata": {},
   "outputs": [],
   "source": [
    "# Example Fine Tune with code\n",
    "\n",
    "\n",
    "import vertexai\n",
    "from vertexai.generative_models import GenerativeModel\n",
    "from vertexai.preview.tuning import sft\n",
    "\n",
    "vertexai.init(project=\"complete-tube-421007\", location=\"europe-west2\")\n",
    "\n",
    "gemini_pro = GenerativeModel(\"gemini-1.0-pro-002\")\n",
    "\n",
    "sft_tuning_job = sft.train(\n",
    "    source_model=gemini_pro,\n",
    "    train_dataset=\"gs://cloud-samples-data/vertex-ai/model-evaluation/gemini_pro_peft_train_sample.jsonl\",\n",
    "    validation_dataset=\"gs://cloud-samples-data/vertex-ai/model-evaluation/gemini_pro_peft_eval_sample.jsonl\",\n",
    "    tuned_model_display_name=\"test2\",\n",
    "    epochs=4,\n",
    "    learning_rate_multiplier=1,\n",
    ")\n"
   ]
  }
 ],
 "metadata": {
  "kernelspec": {
   "display_name": "Python (vertex)",
   "language": "python",
   "name": "vertex"
  },
  "language_info": {
   "codemirror_mode": {
    "name": "ipython",
    "version": 3
   },
   "file_extension": ".py",
   "mimetype": "text/x-python",
   "name": "python",
   "nbconvert_exporter": "python",
   "pygments_lexer": "ipython3",
   "version": "3.11.7"
  }
 },
 "nbformat": 4,
 "nbformat_minor": 5
}
