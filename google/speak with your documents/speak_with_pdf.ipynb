{
 "cells": [
  {
   "cell_type": "code",
   "execution_count": 1,
   "id": "8b061fa1-8006-45ea-9ea8-69064c1a130a",
   "metadata": {},
   "outputs": [],
   "source": [
    "import os\n",
    "from dotenv import dotenv_values"
   ]
  },
  {
   "cell_type": "code",
   "execution_count": 2,
   "id": "f8109b5a-9b12-4c0f-aed4-bb60e4dff294",
   "metadata": {},
   "outputs": [],
   "source": [
    "config = dotenv_values(\"./keys/.env\")"
   ]
  },
  {
   "cell_type": "code",
   "execution_count": 3,
   "id": "9850a9de-277e-41a8-8b96-04a83b33ca6e",
   "metadata": {},
   "outputs": [],
   "source": [
    "os.environ['FAISS_ENABLE_GPU']='ON' \n"
   ]
  },
  {
   "cell_type": "code",
   "execution_count": 4,
   "id": "3aec73f0-4287-4ac0-90ee-8ecc761539b4",
   "metadata": {},
   "outputs": [],
   "source": [
    "import os, tempfile\n",
    "from langchain.prompts import PromptTemplate\n",
    "\n",
    "\n",
    "from langchain_community.document_loaders import TextLoader\n",
    "from langchain_community.vectorstores import FAISS\n",
    "from langchain.chains import ConversationalRetrievalChain, RetrievalQA\n",
    "\n",
    "from langchain_text_splitters import CharacterTextSplitter\n",
    "from langchain_google_genai import ChatGoogleGenerativeAI, GoogleGenerativeAIEmbeddings\n",
    "from langchain_community.document_loaders import PyPDFLoader\n",
    "from google.oauth2 import service_account\n",
    "from dotenv import dotenv_values\n",
    "import json\n",
    "import vertexai\n",
    "import uuid\n",
    "import faiss   \n",
    "import itertools\n",
    "import time\n",
    "from langchain_core.prompts import ChatPromptTemplate, MessagesPlaceholder\n",
    "from langchain_core.runnables.history import RunnableWithMessageHistory\n",
    "from langchain.chains import create_history_aware_retriever, create_retrieval_chain\n",
    "from langchain.chains.combine_documents import create_stuff_documents_chain\n",
    "\n",
    "from langchain_core.chat_history import BaseChatMessageHistory\n",
    "from langchain_community.chat_message_histories import ChatMessageHistory\n",
    "from langchain_core.runnables.history import RunnableWithMessageHistory"
   ]
  },
  {
   "cell_type": "code",
   "execution_count": 5,
   "id": "ccd0c15d-4ea2-4036-897f-9de50c14023b",
   "metadata": {},
   "outputs": [],
   "source": [
    "config = dotenv_values(\"./keys/.env\")\n",
    "with open(\"./keys/complete-tube-421007-208a4862c992.json\") as source:\n",
    "    info = json.load(source)\n",
    "\n",
    "vertex_credentials = service_account.Credentials.from_service_account_info(info)\n",
    "vertexai.init(\n",
    "    project=config[\"PROJECT\"],\n",
    "    location=config[\"REGION\"],\n",
    "    credentials=vertex_credentials,\n",
    ")\n",
    "google_api_key = config[\"GEMINI-API-KEY\"]\n",
    "os.environ[\"GEMINI_API_KEY\"] = google_api_key"
   ]
  },
  {
   "cell_type": "code",
   "execution_count": 6,
   "id": "e935408a-a875-4596-af4b-a9a7a478076e",
   "metadata": {},
   "outputs": [
    {
     "data": {
      "text/plain": [
       "'D:\\\\repos2\\\\bot'"
      ]
     },
     "execution_count": 6,
     "metadata": {},
     "output_type": "execute_result"
    }
   ],
   "source": [
    "ROOT= os.getcwd()\n",
    "ROOT"
   ]
  },
  {
   "cell_type": "code",
   "execution_count": 7,
   "id": "a40406d9-e95e-442a-99c3-fa674299915e",
   "metadata": {},
   "outputs": [],
   "source": [
    "embeddings_retriever = GoogleGenerativeAIEmbeddings(\n",
    "                        model=\"models/embedding-001\",\n",
    "                        credentials=vertex_credentials,\n",
    "                        google_api_key=google_api_key,\n",
    "                    )"
   ]
  },
  {
   "cell_type": "code",
   "execution_count": 8,
   "id": "d7185706-0b66-4278-8861-35048ba4b7f5",
   "metadata": {},
   "outputs": [
    {
     "data": {
      "text/plain": [
       "GoogleGenerativeAIEmbeddings(client=<google.ai.generativelanguage_v1beta.services.generative_service.client.GenerativeServiceClient object at 0x000002B517058FD0>, model='models/embedding-001', task_type=None, google_api_key=SecretStr('**********'), credentials=<google.oauth2.service_account.Credentials object at 0x000002B56D947450>, client_options=None, transport=None, request_options=None)"
      ]
     },
     "execution_count": 8,
     "metadata": {},
     "output_type": "execute_result"
    }
   ],
   "source": [
    "embeddings_retriever"
   ]
  },
  {
   "cell_type": "code",
   "execution_count": 9,
   "id": "276540b9-b224-4cd7-b151-36ceda5e5794",
   "metadata": {},
   "outputs": [
    {
     "data": {
      "text/plain": [
       "['Parser Source 2.pdf']"
      ]
     },
     "execution_count": 9,
     "metadata": {},
     "output_type": "execute_result"
    }
   ],
   "source": [
    "mypath = \"./docs\"\n",
    "onlyfiles = [f for f in os.listdir(mypath) if os.path.isfile(os.path.join(mypath, f))]\n",
    "onlyfiles"
   ]
  },
  {
   "cell_type": "code",
   "execution_count": 10,
   "id": "a391180a-0940-46b8-88a7-5aba32ec2d24",
   "metadata": {},
   "outputs": [],
   "source": [
    "def load_file(path):\n",
    "    # load pdf file and transform into Langchain Documents\n",
    "    loader = PyPDFLoader(path)\n",
    "    pages = loader.load_and_split()\n",
    "    return pages\n",
    "\n",
    "def get_docs_to_add_vectorstore(pages, file, category=\"legal\"):\n",
    "    # get components to add to Faiis\n",
    "    documents = []\n",
    "    ids= []\n",
    "    metadatas= []\n",
    "   \n",
    "    for page in pages:\n",
    "\n",
    "        metadatas.append({\"page\": page.metadata.get(\"page\"), \"filename\":file, \"category\":category})\n",
    "        ids.append(uuid.uuid1().hex)\n",
    "        documents.append(page.page_content)\n",
    "\n",
    "        \n",
    "    return  documents,  ids, metadatas "
   ]
  },
  {
   "cell_type": "code",
   "execution_count": 15,
   "id": "799b1d41-eea6-4e06-9564-105a08312587",
   "metadata": {},
   "outputs": [],
   "source": [
    "# path = os.path.join(\"docs\", onlyfiles[0])\n",
    "# pages = load_file(path)"
   ]
  },
  {
   "cell_type": "code",
   "execution_count": 41,
   "id": "ea04c65b-eeb0-4811-9ce7-77f44d0a1670",
   "metadata": {},
   "outputs": [
    {
     "name": "stdout",
     "output_type": "stream",
     "text": [
      " Loaded file Parser Source 2.pdf with 196 \n",
      "number of documents: 196\n"
     ]
    }
   ],
   "source": [
    "# add documents to Faiss\n",
    "documents_all =[]\n",
    "metadatas_all = []\n",
    "ids_all = []\n",
    "category= \"legal\"\n",
    "for file in onlyfiles:\n",
    "    path = os.path.join(\"docs\", file)\n",
    "    pages = load_file(path)\n",
    "    print(f\" Loaded file {file} with {len(pages)} \")\n",
    "    documents,  ids, metadatas = get_docs_to_add_vectorstore(pages, file, category)\n",
    "    # add documents to collection\n",
    "    documents_all = documents_all + documents\n",
    "    metadatas_all = metadatas_all + metadatas\n",
    "    ids_all = ids_all + ids\n",
    "\n",
    "    print(f\"number of documents: {len(documents_all)}\")"
   ]
  },
  {
   "cell_type": "code",
   "execution_count": 32,
   "id": "20f618c9-4bc7-4940-bc4a-765a4fdf1cc5",
   "metadata": {},
   "outputs": [
    {
     "data": {
      "text/plain": [
       "\"Aardvark Constructions Limited  \\nDate  Company Profile  Company Number  \\n09/08/2024  123456  \\n \\nDate 09/08/2024  AARDVCONST/MCPARTLA -C Page 1 Main Details  \\n Name:  Aardvark Constructions Limited  \\n QuickRef:  AARDVCONST  \\n Country:  United Kingdom  \\n Company Number:  123456  \\n Incorporated:  20/10/2020  \\n Company Type:  Limited by Shares  \\n Company Status:  Active  \\n Dissolved:   \\n Registered Email Address:   \\n \\nPrimary Addresses  \\nRegistered Office:  6 Chancery  Road, London, WC2A 5DP, United Kingdom  \\n \\nAccounting Dates  \\n Last Period End  Current Period End  Last Extended  \\nAccounting Dates:  16/11/2022  16/11/2024  16/11/2022  \\n \\nCompliance Details  \\n Last Signed  Filed  Next Overdue  Last Company \\nData Request  \\nConfirmation Statement:  17/02/2023    17/02/2023  03/03/2023    \\n \\n Last Signed  Filed  Revenue  Next Overdue  \\nAccounts:  16/11/2022  16/11/2022  16/11/2022  16/11/2022  16/11/2024  16/08/2025  \\nApproved by Board:  16/11/2022  16/11/2022      \\n \\nManagement Details  \\n User Grouping:  INVSUBS_CA  \\n File Reference:   \\n Division/Partner:   \\n Managed By:  Caroline McPartland  \\n \\nEmployee Identification \\nNumber:  1  \\nHas Employees:     \\nNumber of Employees:  0  \\nCompany GUID:  12D1442A -7E25 -4031 -B574 -B97E4D73772D  \\nTax Type (Do Not Delete):    \\nNature of Business:    \\nCompany Name Restrictions?:     \\nExemption from name ending \\nwith 'Limited'?:     \\nType of Articles:    \\nRestricted Articles?:     \\nPeriod allowed for the \\npreparation of accounts:  0  \\nSame Day Change of Name?:     \\nReviewer:  Tim Brady  \\nLSL - Company Type:  Holding  \\nFCA Regulated:  Yes  \\nManaged By Email:  cmcpartland@diligent.com  \\nGSV Flag:    \\nCreation Date (audit):  28/05/2024  \\n \\nSigners  \\nMaster Signer 1:    \\nMaster Signer Name 1:    \\nMaster Signer  2:    \\nMaster Signer Name 2:    \\nMaster Signer  3:    \\nEIN:   \\nDE File:    \\nYardi:    \\nCompany Types:    \\nTax Status:    \\nCompany Handling Notes:    \\nTax Designation:    \\nCurrency:\""
      ]
     },
     "execution_count": 32,
     "metadata": {},
     "output_type": "execute_result"
    }
   ],
   "source": [
    "documents_all[1]"
   ]
  },
  {
   "cell_type": "code",
   "execution_count": 13,
   "id": "9b6f723f-8c56-4600-8e28-517956e70f16",
   "metadata": {},
   "outputs": [],
   "source": [
    "db = FAISS.from_texts(texts=documents_all, embedding=embeddings_retriever, metadatas=metadatas_all, ids=ids_all)"
   ]
  },
  {
   "cell_type": "code",
   "execution_count": 14,
   "id": "e9cb1ca7-f7e6-4fc8-9632-672fa4d5ede4",
   "metadata": {},
   "outputs": [
    {
     "name": "stdout",
     "output_type": "stream",
     "text": [
      "196\n"
     ]
    }
   ],
   "source": [
    "print(db.index.ntotal)"
   ]
  },
  {
   "cell_type": "code",
   "execution_count": 15,
   "id": "756a591b-7290-453b-b4a8-6c5889199273",
   "metadata": {},
   "outputs": [],
   "source": [
    "db.save_local(\"./faiss\", index_name=\"companies\")"
   ]
  },
  {
   "cell_type": "code",
   "execution_count": 16,
   "id": "eeec4035-bfa2-48ea-85a4-06f4ea16a1b1",
   "metadata": {},
   "outputs": [],
   "source": [
    "db_load_2 =FAISS.load_local(folder_path=\"./faiss/\", embeddings=embeddings_retriever, index_name=\"companies\", allow_dangerous_deserialization=True)"
   ]
  },
  {
   "cell_type": "code",
   "execution_count": 17,
   "id": "880d07d7-aa4c-4970-8f73-b40c8d984b14",
   "metadata": {},
   "outputs": [
    {
     "name": "stdout",
     "output_type": "stream",
     "text": [
      "196\n"
     ]
    }
   ],
   "source": [
    "print(db_load_2.index.ntotal)"
   ]
  },
  {
   "cell_type": "code",
   "execution_count": 18,
   "id": "8c848944-f155-4d03-a811-81ce96c9eb64",
   "metadata": {},
   "outputs": [],
   "source": [
    "query = \"Main Details\""
   ]
  },
  {
   "cell_type": "code",
   "execution_count": 19,
   "id": "7203f6c4-5140-4984-97cc-8e3bd980128f",
   "metadata": {},
   "outputs": [],
   "source": [
    "docs2 = db_load_2.similarity_search_with_relevance_scores(query)"
   ]
  },
  {
   "cell_type": "code",
   "execution_count": 20,
   "id": "9293faec-7cbb-4e9f-9fe5-36d587d75f7d",
   "metadata": {},
   "outputs": [
    {
     "data": {
      "text/plain": [
       "4"
      ]
     },
     "execution_count": 20,
     "metadata": {},
     "output_type": "execute_result"
    }
   ],
   "source": [
    "len(docs2)"
   ]
  },
  {
   "cell_type": "code",
   "execution_count": 21,
   "id": "deb2aa44-79a6-4ddf-ad65-57cf1a7e793c",
   "metadata": {},
   "outputs": [
    {
     "data": {
      "text/plain": [
       "(Document(metadata={'page': 89, 'filename': 'Parser Source 2.pdf', 'category': 'legal'}, page_content='Signatories:  ................................ ......  \\nNotes:  ................................ ...............   \\nSigned On  \\nInternal Reference Number:  .............  0008  \\nContract Description:  ........................   \\nTotal Consideration:  .........................  1,000,000.00  \\nCurrency:  ................................ .........  EU-EUR (Euro)  \\nOther Party Reference Number (if any):   \\nMain Contact:  ................................ ...'),\n",
       " 0.5117046520039444)"
      ]
     },
     "execution_count": 21,
     "metadata": {},
     "output_type": "execute_result"
    }
   ],
   "source": [
    "docs2[0]"
   ]
  },
  {
   "cell_type": "code",
   "execution_count": 22,
   "id": "00d55470-65b1-4864-83b6-e0d48b1e8fcc",
   "metadata": {},
   "outputs": [],
   "source": [
    "retriever = db.as_retriever(\n",
    "                        search_kwargs={\"k\": 5},\n",
    "     filter={\"filename\" :\"Parser Source 2.pdf\"}\n",
    "                    )"
   ]
  },
  {
   "cell_type": "code",
   "execution_count": 23,
   "id": "203fbfbd-c6be-4bba-bb4e-28321ff19cfe",
   "metadata": {},
   "outputs": [],
   "source": [
    "llm = ChatGoogleGenerativeAI(\n",
    "                    model=\"gemini-1.5-pro-001\", credentials=vertex_credentials\n",
    "                )"
   ]
  },
  {
   "cell_type": "code",
   "execution_count": 42,
   "id": "f884c83c-7c57-4329-8588-a570136f9303",
   "metadata": {},
   "outputs": [],
   "source": [
    "from langchain.chains import ConversationalRetrievalChain, RetrievalQA\n",
    "# filter={\"source\" :\"docs\\\\Baremo 2015.pdf\"}\n",
    "chain = ConversationalRetrievalChain.from_llm(llm, retriever=retriever, return_source_documents=True)"
   ]
  },
  {
   "cell_type": "code",
   "execution_count": 54,
   "id": "b506f1ef-d17b-4854-a55e-568cbb6d438c",
   "metadata": {},
   "outputs": [
    {
     "name": "stdout",
     "output_type": "stream",
     "text": [
      "Name: Aardvark Constructions Limited\n",
      "Country: United Kingdom\n",
      "Company Number: 123456\n",
      "Incorporated: 20/10/2020\n",
      "Company Type: Limited by Shares\n",
      "Company Status: Active\n",
      "Primary Addresses Registered Office: 6 Chancery Road, London, WC2A 5DP, United Kingdom\n",
      "Accounting Dates: 16/11/2022 - 16/11/2024\n",
      "Confirmation Statement: Last Signed - 17/02/2023; Filed - 17/02/2023; Next Overdue - 03/03/2023 \n",
      "\n"
     ]
    }
   ],
   "source": [
    "chat_history = []\n",
    "\n",
    "query = \"\"\"Provide Main Details of the company Aardvark Constructions Limited. Including following details:\n",
    "Name:\n",
    "Country:\n",
    "Company Number:\n",
    "Incorporated:\n",
    "Company Type:\n",
    "Company Status:\n",
    "Primary Addresses Registered Office:\n",
    "Accounting Dates:\n",
    "Confirmation Statement:\n",
    "\"\"\"\n",
    "result = chain.invoke({\"question\": query, \"chat_history\": chat_history})\n",
    "\n",
    "print(result['answer'])"
   ]
  },
  {
   "cell_type": "code",
   "execution_count": 55,
   "id": "d16b4bac-90c3-461b-a875-8258318d1ec2",
   "metadata": {},
   "outputs": [],
   "source": [
    "#result['source_documents']"
   ]
  },
  {
   "cell_type": "code",
   "execution_count": 56,
   "id": "3dfbfad0-9a17-47ed-9f65-7bb7dcff842e",
   "metadata": {},
   "outputs": [],
   "source": [
    "chat_history.append((query, result[\"answer\"]))"
   ]
  },
  {
   "cell_type": "code",
   "execution_count": 57,
   "id": "b74d63d3-a463-45b5-bdbf-49ff6225281c",
   "metadata": {},
   "outputs": [
    {
     "name": "stdout",
     "output_type": "stream",
     "text": [
      "The document contains the name of one individual listed as \"Managed By\" for Aardvark Constructions Limited: Caroline McPartland. Her email address is cmcpartland@diligent.com. \n",
      "\n"
     ]
    }
   ],
   "source": [
    "query2 = \"\"\"From Management Details extract:\n",
    "Managed By:\n",
    "Managed By Email:\n",
    "\"\"\"\n",
    "result = chain.invoke({\"question\": query2, \"chat_history\": chat_history})\n",
    "print(result['answer'])"
   ]
  },
  {
   "cell_type": "code",
   "execution_count": 58,
   "id": "c916cdeb-9dbc-418a-a619-904a4a5a4868",
   "metadata": {},
   "outputs": [],
   "source": [
    "chat_history.append((query2, result[\"answer\"]))"
   ]
  },
  {
   "cell_type": "code",
   "execution_count": 59,
   "id": "42b6cc48-6227-4970-8d2e-caab5f89e608",
   "metadata": {},
   "outputs": [
    {
     "name": "stdout",
     "output_type": "stream",
     "text": [
      "Aardvark Constructions Limited had two previous names:\n",
      "\n",
      "* **Aardvark Construction** from **20/10/2020** to **20/10/2021**. \n",
      "* **Aardvark and Son Ltd** from **20/10/2021** to **20/10/2022**. \n",
      "\n"
     ]
    }
   ],
   "source": [
    "query3 = \"\"\"Past Names of the Company with their period \"\"\"\n",
    "result = chain.invoke({\"question\": query3 ,\"chat_history\": chat_history})\n",
    "print(result['answer'])"
   ]
  },
  {
   "cell_type": "code",
   "execution_count": 60,
   "id": "33b0d029-88e9-4c8d-bc58-6648af80121d",
   "metadata": {},
   "outputs": [],
   "source": [
    "chat_history.append((query3, result[\"answer\"]))"
   ]
  },
  {
   "cell_type": "code",
   "execution_count": 61,
   "id": "8b5a6ed4-21bf-4378-b300-64e291352578",
   "metadata": {},
   "outputs": [
    {
     "name": "stdout",
     "output_type": "stream",
     "text": [
      "## Appointments and Board Positions within Aardvark Constructions Limited:\n",
      "\n",
      "**Board Positions:**\n",
      "\n",
      "* **Abbles, James** (ABBLES -J): Director, Appointed: 19/04/2023, Job Title: Trainer\n",
      "* **Abdreatta, Leopoldo** (ABDREATT -L): Director, Appointed: 18/10/2023, Job Title: Secretary\n",
      "* **Adam, Nicole** (ADAMS -N): \n",
      "    * Alternate Director, Appointed: 04/04/2023, Job Title: CFO\n",
      "    * Non-Executive Director, Appointed: 10/04/2024, Job Title: CFO\n",
      "* **Alberts, Stoffel** (ALBERTS -S): Company Secretary, Appointed: 16/12/2022, Job Title: Accountant\n",
      "* **Rutter, Gus** (RUTTER -G): Director, Appointed: 07/03/2024, Job Title: Director\n",
      "\n",
      "**Past Appointments:**\n",
      "\n",
      "* **Malek, Mohammed** (MALEK -M): Director, Appointed: 22/07/2022, Resigned: 18/01/2024 \n",
      "\n"
     ]
    }
   ],
   "source": [
    "query4 = \"\"\"Appointments Board Positions\"\"\"\n",
    "result = chain.invoke({\"question\": query4 ,\"chat_history\": chat_history})\n",
    "print(result['answer'])"
   ]
  },
  {
   "cell_type": "code",
   "execution_count": null,
   "id": "cf30f8d2-8bbb-4309-8d00-38de1ccb0650",
   "metadata": {},
   "outputs": [],
   "source": []
  }
 ],
 "metadata": {
  "kernelspec": {
   "display_name": "Python (google)",
   "language": "python",
   "name": "google"
  },
  "language_info": {
   "codemirror_mode": {
    "name": "ipython",
    "version": 3
   },
   "file_extension": ".py",
   "mimetype": "text/x-python",
   "name": "python",
   "nbconvert_exporter": "python",
   "pygments_lexer": "ipython3",
   "version": "3.11.9"
  }
 },
 "nbformat": 4,
 "nbformat_minor": 5
}
