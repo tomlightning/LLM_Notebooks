{
 "cells": [
  {
   "cell_type": "code",
   "execution_count": 1,
   "id": "f83f1200-686d-4d50-a072-08632f802c05",
   "metadata": {},
   "outputs": [],
   "source": [
    "import os\n",
    "from dotenv import dotenv_values"
   ]
  },
  {
   "cell_type": "code",
   "execution_count": 2,
   "id": "e95feeed-c048-413b-89de-5c48e4a6c63c",
   "metadata": {},
   "outputs": [],
   "source": [
    "config = dotenv_values(\"./keys/.env\")"
   ]
  },
  {
   "cell_type": "code",
   "execution_count": 3,
   "id": "11ec4941-e188-47be-b7cb-36805dcc0ad7",
   "metadata": {},
   "outputs": [],
   "source": [
    "from dotenv import dotenv_values\n",
    "import json\n",
    "import vertexai\n",
    "from google.oauth2 import service_account\n",
    "from vertexai.generative_models import GenerationConfig, GenerativeModel, Image, Part"
   ]
  },
  {
   "cell_type": "code",
   "execution_count": 4,
   "id": "f16d85de-c89d-4bc3-be00-7f4ed68f886a",
   "metadata": {},
   "outputs": [],
   "source": [
    "\n",
    "with open(\"./keys/complete-tube-421007-208a4862c992.json\") as source:\n",
    "    info = json.load(source)\n",
    "\n",
    "vertex_credentials = service_account.Credentials.from_service_account_info(info)\n",
    "vertexai.init(\n",
    "    project=config[\"PROJECT\"],\n",
    "    location=config[\"REGION\"],\n",
    "    credentials=vertex_credentials,\n",
    ")\n",
    "google_api_key = config[\"GEMINI-API-KEY\"]\n",
    "os.environ[\"GEMINI_API_KEY\"] = google_api_key"
   ]
  },
  {
   "cell_type": "code",
   "execution_count": 6,
   "id": "bcbfd060-665b-47e8-8e19-abf561ce90d9",
   "metadata": {},
   "outputs": [],
   "source": [
    "import http.client\n",
    "import typing\n",
    "import urllib.request\n",
    "\n",
    "import IPython.display\n",
    "from PIL import Image as PIL_Image\n",
    "from PIL import ImageOps as PIL_ImageOps\n",
    "\n",
    "import base64\n",
    "import vertexai\n",
    "\n",
    "\n"
   ]
  },
  {
   "cell_type": "code",
   "execution_count": 12,
   "id": "03fd7221-a695-4b33-b854-cf689de479c9",
   "metadata": {},
   "outputs": [],
   "source": [
    "def generate(document1, prompt):\n",
    "    safety_settings = [\n",
    "    SafetySetting(\n",
    "        category=SafetySetting.HarmCategory.HARM_CATEGORY_HATE_SPEECH,\n",
    "        threshold=SafetySetting.HarmBlockThreshold.BLOCK_MEDIUM_AND_ABOVE\n",
    "    ),\n",
    "    SafetySetting(\n",
    "        category=SafetySetting.HarmCategory.HARM_CATEGORY_DANGEROUS_CONTENT,\n",
    "        threshold=SafetySetting.HarmBlockThreshold.BLOCK_MEDIUM_AND_ABOVE\n",
    "    ),\n",
    "    SafetySetting(\n",
    "        category=SafetySetting.HarmCategory.HARM_CATEGORY_SEXUALLY_EXPLICIT,\n",
    "        threshold=SafetySetting.HarmBlockThreshold.BLOCK_MEDIUM_AND_ABOVE\n",
    "    ),\n",
    "    SafetySetting(\n",
    "        category=SafetySetting.HarmCategory.HARM_CATEGORY_HARASSMENT,\n",
    "        threshold=SafetySetting.HarmBlockThreshold.BLOCK_MEDIUM_AND_ABOVE\n",
    "    ),\n",
    "]\n",
    "    generation_config = {\n",
    "    \"max_output_tokens\": 8192,\n",
    "    \"temperature\": 1,\n",
    "    \"top_p\": 0.95,\n",
    "}\n",
    "    \n",
    "    model = GenerativeModel(\n",
    "        \"gemini-1.5-flash-001\",\n",
    "    )\n",
    "    responses = model.generate_content(\n",
    "        [document1, prompt],\n",
    "        generation_config=generation_config,\n",
    "        safety_settings=safety_settings,\n",
    "        stream=True,\n",
    "    )\n",
    "\n",
    "    for response in responses:\n",
    "        print(response.text, end=\"\")"
   ]
  },
  {
   "cell_type": "code",
   "execution_count": 18,
   "id": "62255d80-e859-494a-be32-86a64ce58e98",
   "metadata": {},
   "outputs": [
    {
     "data": {
      "text/plain": [
       "b'%PDF-1.7\\n\\n4 0 obj\\n(Identity)\\nendobj\\n5 0 obj\\n(Adobe)\\nendobj\\n8 0 obj\\n<<\\n/Filter /FlateDecode\\n/Length 2'"
      ]
     },
     "execution_count": 18,
     "metadata": {},
     "output_type": "execute_result"
    }
   ],
   "source": [
    "with open(\"data/PArser Source 1.pdf\", \"rb\") as f:\n",
    "    pdf_file = f.read()\n",
    "    f.close()\n",
    "pdf_file[:100]   "
   ]
  },
  {
   "cell_type": "code",
   "execution_count": 19,
   "id": "5a30c2e6-8c4f-4024-83ef-2a928a2729a0",
   "metadata": {},
   "outputs": [
    {
     "data": {
      "text/plain": [
       "'JVBERi0xLj'"
      ]
     },
     "execution_count": 19,
     "metadata": {},
     "output_type": "execute_result"
    }
   ],
   "source": [
    "im_b64 = base64.b64encode(pdf_file).decode(\"utf8\")\n",
    "image = Part.from_data(data=im_b64, mime_type=\"application/pdf\")\n",
    "im_b64[:10]"
   ]
  },
  {
   "cell_type": "code",
   "execution_count": 20,
   "id": "bbbb3044-570f-4a67-80f9-982342a9bc3e",
   "metadata": {},
   "outputs": [],
   "source": [
    "prompt =  \"\"\"Legal Company Type ,Status, Registration Number/Tax ID, Incorporation Date, Country, Region/State, Dissolved Date(if has), \n",
    "Registered Office Address and Main Address Line 1 of Yuga Studios\"\"\""
   ]
  },
  {
   "cell_type": "code",
   "execution_count": 21,
   "id": "c5d5b322-1199-4307-a546-b36a1d1e4aed",
   "metadata": {},
   "outputs": [
    {
     "name": "stdout",
     "output_type": "stream",
     "text": [
      "Legal Company Type: Committee\n",
      "Status: Active\n",
      "Registration Number / Tax ID: 54646111\n",
      "Incorporation Date: 2017-04-09\n",
      "Country: RU\n",
      "Region/State: Saint Petersburg\n",
      "Dissolved Date: \n",
      "Registered Office Address: 23 Nevsky Prospekt, Saint Petersburg, 191186, Russia\n",
      "Main Address Line 1: 78 Bolshaya Morskaya Street, Saint Petersburg, 190000, Russia"
     ]
    }
   ],
   "source": [
    "generate(image, prompt)"
   ]
  },
  {
   "cell_type": "code",
   "execution_count": null,
   "id": "34c4dc63-8632-4fb4-9ab7-832dabb6dd3d",
   "metadata": {},
   "outputs": [],
   "source": []
  }
 ],
 "metadata": {
  "kernelspec": {
   "display_name": "Python (google)",
   "language": "python",
   "name": "google"
  },
  "language_info": {
   "codemirror_mode": {
    "name": "ipython",
    "version": 3
   },
   "file_extension": ".py",
   "mimetype": "text/x-python",
   "name": "python",
   "nbconvert_exporter": "python",
   "pygments_lexer": "ipython3",
   "version": "3.11.9"
  }
 },
 "nbformat": 4,
 "nbformat_minor": 5
}
