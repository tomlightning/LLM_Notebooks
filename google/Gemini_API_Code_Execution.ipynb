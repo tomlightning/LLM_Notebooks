{
  "nbformat": 4,
  "nbformat_minor": 0,
  "metadata": {
    "colab": {
      "provenance": [],
      "authorship_tag": "ABX9TyPHyqKTqKwvA+/zmFTT0BZu",
      "include_colab_link": true
    },
    "kernelspec": {
      "name": "python3",
      "display_name": "Python 3"
    },
    "language_info": {
      "name": "python"
    }
  },
  "cells": [
    {
      "cell_type": "markdown",
      "metadata": {
        "id": "view-in-github",
        "colab_type": "text"
      },
      "source": [
        "<a href=\"https://colab.research.google.com/github/olonok69/LLM_Notebooks/blob/main/google/Gemini_API_Code_Execution.ipynb\" target=\"_parent\"><img src=\"https://colab.research.google.com/assets/colab-badge.svg\" alt=\"Open In Colab\"/></a>"
      ]
    },
    {
      "cell_type": "markdown",
      "source": [
        "# Code Execution\n",
        "The Gemini API can generate and run code based on plain-text instructions that you give it."
      ],
      "metadata": {
        "id": "gLsAIyXnk7fw"
      }
    },
    {
      "cell_type": "code",
      "source": [
        "!pip install -U -q google-generativeai"
      ],
      "metadata": {
        "id": "reYWUsbwqJXA"
      },
      "execution_count": 1,
      "outputs": []
    },
    {
      "cell_type": "code",
      "execution_count": 4,
      "metadata": {
        "id": "anL5QAR6ksBc"
      },
      "outputs": [],
      "source": [
        "from google.colab import userdata\n",
        "import pathlib\n",
        "import os\n",
        "pathlib.Path('client_secret.json').write_text(userdata.get('CLIENT_SECRET'))\n",
        "GOOGLE_API_KEY = userdata.get('GEMINI_API_KEY')"
      ]
    },
    {
      "cell_type": "code",
      "source": [
        "os.environ['GOOGLE_API_KEY'] = GOOGLE_API_KEY"
      ],
      "metadata": {
        "id": "2uGw0sDUqcEC"
      },
      "execution_count": 7,
      "outputs": []
    },
    {
      "cell_type": "code",
      "source": [
        "import google.generativeai as genai\n",
        "genai.__version__\n",
        ""
      ],
      "metadata": {
        "colab": {
          "base_uri": "https://localhost:8080/",
          "height": 35
        },
        "id": "yP8xYjKrpjpy",
        "outputId": "727b1b5b-9593-46eb-a694-c45592627595"
      },
      "execution_count": 11,
      "outputs": [
        {
          "output_type": "execute_result",
          "data": {
            "text/plain": [
              "'0.7.2'"
            ],
            "application/vnd.google.colaboratory.intrinsic+json": {
              "type": "string"
            }
          },
          "metadata": {},
          "execution_count": 11
        }
      ]
    },
    {
      "cell_type": "code",
      "source": [
        "genai.configure()\n",
        "\n",
        "print('Available base models:', [m.name for m in genai.list_models()])"
      ],
      "metadata": {
        "colab": {
          "base_uri": "https://localhost:8080/",
          "height": 54
        },
        "id": "95MEu-v251th",
        "outputId": "bc855e7d-ea1e-487a-c9c6-099753955ae5"
      },
      "execution_count": 12,
      "outputs": [
        {
          "output_type": "stream",
          "name": "stdout",
          "text": [
            "Available base models: ['models/chat-bison-001', 'models/text-bison-001', 'models/embedding-gecko-001', 'models/gemini-1.0-pro-latest', 'models/gemini-1.0-pro', 'models/gemini-pro', 'models/gemini-1.0-pro-001', 'models/gemini-1.0-pro-vision-latest', 'models/gemini-pro-vision', 'models/gemini-1.5-pro-latest', 'models/gemini-1.5-pro-001', 'models/gemini-1.5-pro', 'models/gemini-1.5-flash-latest', 'models/gemini-1.5-flash-001', 'models/gemini-1.5-flash', 'models/embedding-001', 'models/text-embedding-004', 'models/aqa']\n"
          ]
        }
      ]
    },
    {
      "cell_type": "code",
      "source": [
        "\n",
        "from IPython.display import HTML, Markdown\n",
        "\n",
        "def set_css_in_cell_output(unused):\n",
        "  display(HTML(\"\"\"\"\"\"))\n",
        "\n",
        "get_ipython().events.register('pre_run_cell', set_css_in_cell_output)\n",
        "\n"
      ],
      "metadata": {
        "id": "JBAslu2tqO2v"
      },
      "execution_count": 13,
      "outputs": []
    },
    {
      "cell_type": "code",
      "source": [
        "\n",
        "model = genai.GenerativeModel(model_name='gemini-1.5-flash', tools=\"code_execution\")"
      ],
      "metadata": {
        "colab": {
          "base_uri": "https://localhost:8080/",
          "height": 17
        },
        "id": "ZQ-26huU4Ea_",
        "outputId": "66866595-be6f-46b9-810a-da0b30fb2e32"
      },
      "execution_count": 14,
      "outputs": [
        {
          "output_type": "display_data",
          "data": {
            "text/plain": [
              "<IPython.core.display.HTML object>"
            ],
            "text/html": []
          },
          "metadata": {}
        }
      ]
    },
    {
      "cell_type": "code",
      "source": [
        "\n",
        "result = model.generate_content(\"What's the sum of the sum of first 200 prime numbers? Make sure you get all 200.\")"
      ],
      "metadata": {
        "colab": {
          "base_uri": "https://localhost:8080/",
          "height": 17
        },
        "id": "rK1E5jhe6FOF",
        "outputId": "cb6f5e1d-fb7c-438d-e9b9-26767456d673"
      },
      "execution_count": 15,
      "outputs": [
        {
          "output_type": "display_data",
          "data": {
            "text/plain": [
              "<IPython.core.display.HTML object>"
            ],
            "text/html": []
          },
          "metadata": {}
        }
      ]
    },
    {
      "cell_type": "code",
      "source": [
        "\n",
        "[\n",
        "    list(type(p).to_dict(p))\n",
        "    for p in result.candidates[0].content.parts\n",
        "]"
      ],
      "metadata": {
        "colab": {
          "base_uri": "https://localhost:8080/",
          "height": 34
        },
        "id": "lf8w7qRl6IQj",
        "outputId": "84951d00-01a6-4c26-8656-f031f9cf40d9"
      },
      "execution_count": 16,
      "outputs": [
        {
          "output_type": "display_data",
          "data": {
            "text/plain": [
              "<IPython.core.display.HTML object>"
            ],
            "text/html": []
          },
          "metadata": {}
        },
        {
          "output_type": "execute_result",
          "data": {
            "text/plain": [
              "[['text'], ['executable_code'], ['code_execution_result'], ['text']]"
            ]
          },
          "metadata": {},
          "execution_count": 16
        }
      ]
    },
    {
      "cell_type": "code",
      "source": [
        "\n",
        "for part in result.candidates[0].content.parts:\n",
        "  print(part)\n",
        "  print()"
      ],
      "metadata": {
        "colab": {
          "base_uri": "https://localhost:8080/",
          "height": 349
        },
        "id": "sl3KLk7-6OsH",
        "outputId": "da4a02e0-0a07-4878-9df5-d5e7456e7baa"
      },
      "execution_count": 17,
      "outputs": [
        {
          "output_type": "display_data",
          "data": {
            "text/plain": [
              "<IPython.core.display.HTML object>"
            ],
            "text/html": []
          },
          "metadata": {}
        },
        {
          "output_type": "stream",
          "name": "stdout",
          "text": [
            "text: \"To find the sum of the sum of the first 200 prime numbers, we need to:\\n\\n1. **Identify the first 200 prime numbers:**  A prime number is a whole number greater than 1 that has only two divisors: 1 and itself. \\n2. **Calculate the sum of those prime numbers.**\\n\\nLet\\'s use Python to achieve this:\\n\\n\"\n",
            "\n",
            "\n",
            "executable_code {\n",
            "  language: PYTHON\n",
            "  code: \"\\nimport math\\n\\ndef is_prime(num):\\n  \\\"\\\"\\\"\\n  Checks if a number is prime.\\n  \\\"\\\"\\\"\\n  if num <= 1:\\n    return False\\n  for i in range(2, int(math.sqrt(num)) + 1):\\n    if num % i == 0:\\n      return False\\n  return True\\n\\nprimes = []\\ncount = 0\\nnum = 2\\n\\nwhile count < 200:\\n  if is_prime(num):\\n    primes.append(num)\\n    count += 1\\n  num += 1\\n\\nprint(f\\'The sum of the first 200 prime numbers is: {sum(primes)}\\')\\n\"\n",
            "}\n",
            "\n",
            "\n",
            "code_execution_result {\n",
            "  outcome: OUTCOME_OK\n",
            "  output: \"The sum of the first 200 prime numbers is: 111587\\n\"\n",
            "}\n",
            "\n",
            "\n",
            "text: \"Therefore, the sum of the first 200 prime numbers is **111587**. \\n\"\n",
            "\n",
            "\n"
          ]
        }
      ]
    },
    {
      "cell_type": "code",
      "source": [
        "print(result.text)"
      ],
      "metadata": {
        "colab": {
          "base_uri": "https://localhost:8080/",
          "height": 729
        },
        "id": "-9puBu_G6Sy2",
        "outputId": "f468060f-7fd4-4fbe-827f-42ed2d196547"
      },
      "execution_count": 18,
      "outputs": [
        {
          "output_type": "display_data",
          "data": {
            "text/plain": [
              "<IPython.core.display.HTML object>"
            ],
            "text/html": []
          },
          "metadata": {}
        },
        {
          "output_type": "stream",
          "name": "stdout",
          "text": [
            "To find the sum of the sum of the first 200 prime numbers, we need to:\n",
            "\n",
            "1. **Identify the first 200 prime numbers:**  A prime number is a whole number greater than 1 that has only two divisors: 1 and itself. \n",
            "2. **Calculate the sum of those prime numbers.**\n",
            "\n",
            "Let's use Python to achieve this:\n",
            "\n",
            "\n",
            "``` python\n",
            "import math\n",
            "\n",
            "def is_prime(num):\n",
            "  \"\"\"\n",
            "  Checks if a number is prime.\n",
            "  \"\"\"\n",
            "  if num <= 1:\n",
            "    return False\n",
            "  for i in range(2, int(math.sqrt(num)) + 1):\n",
            "    if num % i == 0:\n",
            "      return False\n",
            "  return True\n",
            "\n",
            "primes = []\n",
            "count = 0\n",
            "num = 2\n",
            "\n",
            "while count < 200:\n",
            "  if is_prime(num):\n",
            "    primes.append(num)\n",
            "    count += 1\n",
            "  num += 1\n",
            "\n",
            "print(f'The sum of the first 200 prime numbers is: {sum(primes)}')\n",
            "\n",
            "```\n",
            "```\n",
            "The sum of the first 200 prime numbers is: 111587\n",
            "\n",
            "```\n",
            "Therefore, the sum of the first 200 prime numbers is **111587**. \n",
            "\n"
          ]
        }
      ]
    },
    {
      "cell_type": "code",
      "source": [
        "from IPython.display import Markdown\n",
        "Markdown(result.text)"
      ],
      "metadata": {
        "colab": {
          "base_uri": "https://localhost:8080/",
          "height": 590
        },
        "id": "GdHyVDxb6X95",
        "outputId": "ba647e1b-21ff-40f8-97c8-44da2da44bb1"
      },
      "execution_count": 19,
      "outputs": [
        {
          "output_type": "display_data",
          "data": {
            "text/plain": [
              "<IPython.core.display.HTML object>"
            ],
            "text/html": []
          },
          "metadata": {}
        },
        {
          "output_type": "execute_result",
          "data": {
            "text/plain": [
              "<IPython.core.display.Markdown object>"
            ],
            "text/markdown": "To find the sum of the sum of the first 200 prime numbers, we need to:\n\n1. **Identify the first 200 prime numbers:**  A prime number is a whole number greater than 1 that has only two divisors: 1 and itself. \n2. **Calculate the sum of those prime numbers.**\n\nLet's use Python to achieve this:\n\n\n``` python\nimport math\n\ndef is_prime(num):\n  \"\"\"\n  Checks if a number is prime.\n  \"\"\"\n  if num <= 1:\n    return False\n  for i in range(2, int(math.sqrt(num)) + 1):\n    if num % i == 0:\n      return False\n  return True\n\nprimes = []\ncount = 0\nnum = 2\n\nwhile count < 200:\n  if is_prime(num):\n    primes.append(num)\n    count += 1\n  num += 1\n\nprint(f'The sum of the first 200 prime numbers is: {sum(primes)}')\n\n```\n```\nThe sum of the first 200 prime numbers is: 111587\n\n```\nTherefore, the sum of the first 200 prime numbers is **111587**. \n"
          },
          "metadata": {},
          "execution_count": 19
        }
      ]
    },
    {
      "cell_type": "code",
      "source": [
        "model2 = genai.GenerativeModel(model_name='gemini-1.5-flash')"
      ],
      "metadata": {
        "colab": {
          "base_uri": "https://localhost:8080/",
          "height": 17
        },
        "id": "bwj6ImzK6cxE",
        "outputId": "95543bf6-698c-499a-ae20-b8be65e79843"
      },
      "execution_count": 20,
      "outputs": [
        {
          "output_type": "display_data",
          "data": {
            "text/plain": [
              "<IPython.core.display.HTML object>"
            ],
            "text/html": []
          },
          "metadata": {}
        }
      ]
    },
    {
      "cell_type": "code",
      "source": [
        "response = model2.generate_content(\n",
        "    \"Write code to count how many letter r in the word strawberry\",\n",
        "    tools=\"code_execution\")"
      ],
      "metadata": {
        "colab": {
          "base_uri": "https://localhost:8080/",
          "height": 17
        },
        "id": "PD4DqTah6jL5",
        "outputId": "dc3de84d-6476-42ba-bd51-84211f363262"
      },
      "execution_count": 21,
      "outputs": [
        {
          "output_type": "display_data",
          "data": {
            "text/plain": [
              "<IPython.core.display.HTML object>"
            ],
            "text/html": []
          },
          "metadata": {}
        }
      ]
    },
    {
      "cell_type": "code",
      "source": [
        "Markdown(response.text)"
      ],
      "metadata": {
        "colab": {
          "base_uri": "https://localhost:8080/",
          "height": 98
        },
        "id": "RA-FjSqd6jGv",
        "outputId": "3131d6b2-cdcd-4669-f7e2-b9d7e3245b7b"
      },
      "execution_count": 22,
      "outputs": [
        {
          "output_type": "display_data",
          "data": {
            "text/plain": [
              "<IPython.core.display.HTML object>"
            ],
            "text/html": []
          },
          "metadata": {}
        },
        {
          "output_type": "execute_result",
          "data": {
            "text/plain": [
              "<IPython.core.display.Markdown object>"
            ],
            "text/markdown": "\n``` python\nprint(list(filter(lambda x: x == 'r', 'strawberry')))\n\n```\n```\n['r', 'r', 'r']\n\n```\nThe code first converts the string \"strawberry\" to a list of characters. Then it uses the `filter()` function with a lambda function to filter out only the 'r' characters. Finally, it converts the resulting filter object back into a list. The output shows that there are three 'r' characters in the word \"strawberry\". \n"
          },
          "metadata": {},
          "execution_count": 22
        }
      ]
    },
    {
      "cell_type": "markdown",
      "source": [
        "# Montecarlo simulation\n",
        "Monte Carlo methods, or Monte Carlo experiments, are a broad class of computational algorithms that rely on repeated random sampling to obtain numerical results. The underlying concept is to use randomness to solve problems that might be deterministic in principle. The name comes from the Monte Carlo Casino in Monaco, where the primary developer of the method, physicist Stanislaw Ulam, was inspired by his uncle's gambling habits.\n",
        "\n",
        "https://en.wikipedia.org/wiki/Monte_Carlo_method"
      ],
      "metadata": {
        "id": "4_jyamCkSDZb"
      }
    },
    {
      "cell_type": "code",
      "source": [
        "prompt = \"\"\"\n",
        "Our simple game will involve two six-sided dice. In order to win, the player needs to roll the same number on both dice. A six-sided die has six possible outcomes (1, 2, 3, 4, 5, and 6).\n",
        "With two dice, there is now 36 possible outcomes (1 and 1, 1 and 2, 1 and 3, etc., or 6 x 6 = 36 possibilities).\n",
        "In this game, the house has more opportunities to win (30 outcomes vs. the player’s 6 outcomes), meaning the house has the quite the advantage.\n",
        "\n",
        "Let’s say our player starts with a balance of $1,000 and is prepared to lose it all, so they bet $1 on every roll (meaning both dice are rolled) and decide to play 1,000 rolls.\n",
        "Because the house is so generous, they offer to payout 8 times the player’s bet when the player wins. For example, if the player wins the first roll, their balance increases by $8,\n",
        "and they end the round with a balance of $1,008. If they miraculously went on a 1,000 roll win-streak, they could go home with $5,000. If they lost every round, they could go home with nothing.\n",
        "\n",
        "using the Montecarlo Simulation simulate our game to find out if the player made the right choice to play this game.\n",
        "\n",
        "our number of rolls per game is 1000, and the amount the player will be betting each roll is $1. In addition to our input variables.\n",
        "\n",
        "num_simulations = 10000\n",
        "\n",
        "\"\"\""
      ],
      "metadata": {
        "colab": {
          "base_uri": "https://localhost:8080/",
          "height": 17
        },
        "id": "zssMb3MjPwnu",
        "outputId": "fcf4b99f-67cd-4627-c82b-ffc0ba8a37d7"
      },
      "execution_count": 42,
      "outputs": [
        {
          "output_type": "display_data",
          "data": {
            "text/plain": [
              "<IPython.core.display.HTML object>"
            ],
            "text/html": []
          },
          "metadata": {}
        }
      ]
    },
    {
      "cell_type": "code",
      "source": [
        "response = model2.generate_content(\n",
        "    prompt,\n",
        "    tools=\"code_execution\")"
      ],
      "metadata": {
        "colab": {
          "base_uri": "https://localhost:8080/",
          "height": 17
        },
        "id": "mpQLAY5NPV3f",
        "outputId": "fd9da48c-ae0c-425d-9afd-28d8d7c60155"
      },
      "execution_count": 43,
      "outputs": [
        {
          "output_type": "display_data",
          "data": {
            "text/plain": [
              "<IPython.core.display.HTML object>"
            ],
            "text/html": []
          },
          "metadata": {}
        }
      ]
    },
    {
      "cell_type": "code",
      "source": [
        "Markdown(response.text)"
      ],
      "metadata": {
        "colab": {
          "base_uri": "https://localhost:8080/",
          "height": 498
        },
        "id": "5GYgmep9QmSb",
        "outputId": "23ed4931-09df-43ac-d37b-a99130f8fc30"
      },
      "execution_count": 44,
      "outputs": [
        {
          "output_type": "display_data",
          "data": {
            "text/plain": [
              "<IPython.core.display.HTML object>"
            ],
            "text/html": []
          },
          "metadata": {}
        },
        {
          "output_type": "execute_result",
          "data": {
            "text/plain": [
              "<IPython.core.display.Markdown object>"
            ],
            "text/markdown": "\n``` python\nimport random\n\ndef play_game(num_rolls, bet_amount):\n    balance = 1000\n    for _ in range(num_rolls):\n        die1 = random.randint(1, 6)\n        die2 = random.randint(1, 6)\n        if die1 == die2:\n            balance += bet_amount * 8\n        else:\n            balance -= bet_amount\n    return balance\n\nnum_simulations = 10000\nnum_rolls = 1000\nbet_amount = 1\n\nresults = []\nfor _ in range(num_simulations):\n    result = play_game(num_rolls, bet_amount)\n    results.append(result)\n\naverage_balance = sum(results) / num_simulations\nprint(f'Average balance after {num_simulations} simulations: ${average_balance:.2f}')\n\n```\n```\nAverage balance after 10000 simulations: $1500.62\n\n```\nThe player is expected to end with $1500.62 after 10,000 simulations, which means they are likely to make money, so the player made the right choice to play this game. \n"
          },
          "metadata": {},
          "execution_count": 44
        }
      ]
    },
    {
      "cell_type": "markdown",
      "source": [
        "# Chat\n",
        "It works the same when using a chat"
      ],
      "metadata": {
        "id": "lzcGZZln6u9k"
      }
    },
    {
      "cell_type": "code",
      "source": [
        "\n",
        "chat = model.start_chat()"
      ],
      "metadata": {
        "colab": {
          "base_uri": "https://localhost:8080/",
          "height": 17
        },
        "id": "y2FXbrSB6jCq",
        "outputId": "728cf212-f513-4e5c-de30-053399a6b221"
      },
      "execution_count": 45,
      "outputs": [
        {
          "output_type": "display_data",
          "data": {
            "text/plain": [
              "<IPython.core.display.HTML object>"
            ],
            "text/html": []
          },
          "metadata": {}
        }
      ]
    },
    {
      "cell_type": "markdown",
      "source": [
        "# bogo-sort\n",
        "In computer science, bogosort(also known as permutation sort and stupid sort) is a sorting algorithm based on the generate and test paradigm. The function successively generates permutations of its input until it finds one that is sorted. It is not considered useful for sorting, but may be used for educational purposes, to contrast it with more efficient algorithms."
      ],
      "metadata": {
        "id": "r2epPke8UIRj"
      }
    },
    {
      "cell_type": "code",
      "source": [
        "response = chat.send_message(\"Can you run some code to bogo-sort this list of numbers?: [2,34,1,65,4]\")\n",
        "Markdown(response.text)"
      ],
      "metadata": {
        "colab": {
          "base_uri": "https://localhost:8080/",
          "height": 400
        },
        "id": "BhZ2RX_T61f5",
        "outputId": "3d293d57-a52d-4f1b-b83a-002a051eee16"
      },
      "execution_count": 46,
      "outputs": [
        {
          "output_type": "display_data",
          "data": {
            "text/plain": [
              "<IPython.core.display.HTML object>"
            ],
            "text/html": []
          },
          "metadata": {}
        },
        {
          "output_type": "execute_result",
          "data": {
            "text/plain": [
              "<IPython.core.display.Markdown object>"
            ],
            "text/markdown": "\n``` python\nimport random\n\ndef bogo_sort(list_):\n    while not is_sorted(list_):\n        random.shuffle(list_)\n    return list_\n\ndef is_sorted(list_):\n    for i in range(len(list_) - 1):\n        if list_[i] > list_[i + 1]:\n            return False\n    return True\n\nlist_ = [2, 34, 1, 65, 4]\nsorted_list = bogo_sort(list_)\nprint(f'Sorted List: {sorted_list}')\n\n```\n```\nSorted List: [1, 2, 4, 34, 65]\n\n```\nBogo Sort is a notoriously inefficient sorting algorithm that works by repeatedly shuffling the list until it is sorted. It has a worst-case time complexity of O(n!), making it extremely slow for even moderately sized lists.\n\nI ran the provided code using `bogo_sort` function and it returned the sorted list `[1, 2, 4, 34, 65]`.  Although, the code might take a very long time to run for larger lists. \n"
          },
          "metadata": {},
          "execution_count": 46
        }
      ]
    },
    {
      "cell_type": "code",
      "source": [
        "response = chat.send_message(\"Modify the code to count the number of iterations. How many iterations doews it take?\")\n",
        "Markdown(response.text)"
      ],
      "metadata": {
        "colab": {
          "base_uri": "https://localhost:8080/",
          "height": 428
        },
        "id": "05Rq0zTO66sR",
        "outputId": "309b9ac3-f6fb-4ee7-ac3e-fa402169b427"
      },
      "execution_count": 47,
      "outputs": [
        {
          "output_type": "display_data",
          "data": {
            "text/plain": [
              "<IPython.core.display.HTML object>"
            ],
            "text/html": []
          },
          "metadata": {}
        },
        {
          "output_type": "execute_result",
          "data": {
            "text/plain": [
              "<IPython.core.display.Markdown object>"
            ],
            "text/markdown": "\n``` python\nimport random\n\ndef bogo_sort(list_):\n    iteration = 0\n    while not is_sorted(list_):\n        random.shuffle(list_)\n        iteration += 1\n    return list_, iteration\n\ndef is_sorted(list_):\n    for i in range(len(list_) - 1):\n        if list_[i] > list_[i + 1]:\n            return False\n    return True\n\nlist_ = [2, 34, 1, 65, 4]\nsorted_list, iterations = bogo_sort(list_)\nprint(f'Sorted List: {sorted_list}')\nprint(f'Iterations: {iterations}')\n\n```\n```\nSorted List: [1, 2, 4, 34, 65]\nIterations: 101\n\n```\nI've modified the code to count the iterations it takes to sort the list. It took 101 iterations in this instance. Keep in mind that Bogo Sort is highly dependent on randomness, so the number of iterations will vary significantly each time you run it. \n"
          },
          "metadata": {},
          "execution_count": 47
        }
      ]
    },
    {
      "cell_type": "markdown",
      "source": [
        "# Monty Hall problem\n",
        "The Monty Hall problem is a brain teaser, in the form of a probability puzzle, based nominally on the American television game show Let's Make a Deal and named after its original host, Monty Hall. The problem was originally posed (and solved) in a letter by Steve Selvin to the American Statistician in 1975. It became famous as a question from reader Craig F. Whitaker's letter quoted in Marilyn vos Savant's \"Ask Marilyn\" column in Parade magazine in 1990.\n",
        "\n",
        "Suppose you're on a game show, and you're given the choice of three doors: Behind one door is a car; behind the others, goats. You pick a door, say No. 1, and the host, who knows what's behind the doors, opens another door, say No. 3, which has a goat. He then says to you, \"Do you want to pick door No. 2?\" Is it to your advantage to switch your choice?"
      ],
      "metadata": {
        "id": "hi4-iHpgUu4C"
      }
    },
    {
      "cell_type": "code",
      "source": [
        "! curl -o montey_hall.png https://upload.wikimedia.org/wikipedia/commons/thumb/3/3f/Monty_open_door.svg/640px-Monty_open_door.svg.png\n",
        ""
      ],
      "metadata": {
        "colab": {
          "base_uri": "https://localhost:8080/",
          "height": 69
        },
        "id": "lq96frhc7HeV",
        "outputId": "e3ed1ccd-81fa-4835-ffcf-2385ba8afbda"
      },
      "execution_count": 26,
      "outputs": [
        {
          "output_type": "display_data",
          "data": {
            "text/plain": [
              "<IPython.core.display.HTML object>"
            ],
            "text/html": []
          },
          "metadata": {}
        },
        {
          "output_type": "stream",
          "name": "stdout",
          "text": [
            "  % Total    % Received % Xferd  Average Speed   Time    Time     Time  Current\n",
            "                                 Dload  Upload   Total   Spent    Left  Speed\n",
            "\r  0     0    0     0    0     0      0      0 --:--:-- --:--:-- --:--:--     0\r100 24719  100 24719    0     0   172k      0 --:--:-- --:--:-- --:--:--  173k\n"
          ]
        }
      ]
    },
    {
      "cell_type": "code",
      "source": [
        "from PIL import Image\n",
        "montey_hall_image = Image.open(\"montey_hall.png\")\n",
        "montey_hall_image"
      ],
      "metadata": {
        "colab": {
          "base_uri": "https://localhost:8080/",
          "height": 373
        },
        "id": "NY7Xm2H37UMe",
        "outputId": "1d85d2a0-b014-44e8-c420-4f3b6568e255"
      },
      "execution_count": 27,
      "outputs": [
        {
          "output_type": "display_data",
          "data": {
            "text/plain": [
              "<IPython.core.display.HTML object>"
            ],
            "text/html": []
          },
          "metadata": {}
        },
        {
          "output_type": "execute_result",
          "data": {
            "text/plain": [
              "<PIL.PngImagePlugin.PngImageFile image mode=RGBA size=640x356>"
            ],
            "image/png": "[encoded data removed]"
          },
          "metadata": {},
          "execution_count": 27
        }
      ]
    },
    {
      "cell_type": "code",
      "source": [
        "prompt=\"\"\"\n",
        "Run a simulation of the Monty Hall Problem with 1,000 trials.\n",
        "\n",
        "\n",
        "Here's how this works as a reminder. In the Monty Hall Problem, you're on a game\n",
        "show with three doors. Behind one is a car, and behind the others are goats. You\n",
        "pick a door. The host, who knows what's behind the doors, opens a different door\n",
        "to reveal a goat. Should you switch to the remaining unopened door?\n",
        "\n",
        "\n",
        "The answer has always been a little difficult for me to understand when people\n",
        "solve it with math - so please run a simulation with Python to show me what the\n",
        "best strategy is.\n",
        "\n",
        "\n",
        "Thank you!\n",
        "\"\"\"\n",
        "result = model.generate_content([montey_hall_image, prompt])\n",
        "Markdown(result.text)"
      ],
      "metadata": {
        "colab": {
          "base_uri": "https://localhost:8080/",
          "height": 793
        },
        "id": "DSsgFrjS7fDO",
        "outputId": "3cfc980d-4470-4eff-a003-fd4d91d66fdf"
      },
      "execution_count": 48,
      "outputs": [
        {
          "output_type": "display_data",
          "data": {
            "text/plain": [
              "<IPython.core.display.HTML object>"
            ],
            "text/html": []
          },
          "metadata": {}
        },
        {
          "output_type": "execute_result",
          "data": {
            "text/plain": [
              "<IPython.core.display.Markdown object>"
            ],
            "text/markdown": "The best strategy is to switch doors. Here's a Python simulation to demonstrate why:\n\n\n``` python\nimport random\n\ndef play_monty_hall(switch_doors):\n    \"\"\"Plays a single round of Monty Hall, returns whether the player wins.\"\"\"\n    # Choose a door at random\n    chosen_door = random.randint(1, 3)\n\n    # Determine where the car is\n    car_door = random.randint(1, 3)\n\n    # Monty opens a door with a goat\n    goat_doors = [door for door in range(1, 4) if door != car_door and door != chosen_door]\n    monty_opens = random.choice(goat_doors)\n\n    # If the player switches, change their choice\n    if switch_doors:\n        remaining_door = [door for door in range(1, 4) if door != chosen_door and door != monty_opens][0]\n        chosen_door = remaining_door\n\n    return chosen_door == car_door\n\ndef simulate_monty_hall(switch_doors, num_trials=1000):\n    \"\"\"Simulates the Monty Hall problem for the given number of trials.\"\"\"\n    wins = 0\n    for _ in range(num_trials):\n        if play_monty_hall(switch_doors):\n            wins += 1\n    return wins / num_trials\n\n# Run the simulations\nswitch_wins = simulate_monty_hall(switch_doors=True)\nstay_wins = simulate_monty_hall(switch_doors=False)\n\nprint(f\"Win rate when switching doors: {switch_wins:.2%}\")\nprint(f\"Win rate when staying with the original choice: {stay_wins:.2%}\")\n\n```\n```\nWin rate when switching doors: 65.60%\nWin rate when staying with the original choice: 33.50%\n\n```\nAs you can see from the simulation, the win rate is significantly higher when switching doors (around 65%) compared to staying with the original choice (around 33%). This demonstrates that switching doors is the best strategy in the Monty Hall problem. \n\nThe reason for this counterintuitive result is that when you initially choose a door, you have a 1/3 chance of selecting the door with the car and a 2/3 chance of selecting a door with a goat.  When Monty reveals a goat behind another door, he is essentially concentrating the remaining 2/3 probability onto the other unopened door. Switching gives you a 2/3 chance of winning, while staying with your original choice only gives you a 1/3 chance. \n"
          },
          "metadata": {},
          "execution_count": 48
        }
      ]
    }
  ]
}