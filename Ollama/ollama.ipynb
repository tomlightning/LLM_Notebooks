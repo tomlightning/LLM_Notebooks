{
 "cells": [
  {
   "cell_type": "markdown",
   "id": "34dc5fb6-6c50-448e-9397-a50acd94a81f",
   "metadata": {},
   "source": [
    "# Ollama\n",
    "\n",
    "https://github.com/ollama/ollama/tree/main\n",
    "\n",
    "\n",
    "### Install in Linux/ WSL2\n",
    "\n",
    "https://github.com/ollama/ollama/blob/main/docs/linux.md\n",
    "\n",
    "### API\n",
    "\n",
    "https://github.com/ollama/ollama/blob/main/docs/api.md\n",
    "\n",
    "### Python Library\n",
    "\n",
    "https://github.com/ollama/ollama-python\n",
    "\n",
    "### GGUF\n",
    "https://medium.com/@phillipgimmi/what-is-gguf-and-ggml-e364834d241c\n",
    "\n",
    "https://github.com/ggerganov/llama.cpp\n"
   ]
  },
  {
   "cell_type": "code",
   "execution_count": 1,
   "id": "17b9b343-72da-4882-962d-d53c8502aac2",
   "metadata": {},
   "outputs": [],
   "source": [
    "import ollama"
   ]
  },
  {
   "cell_type": "code",
   "execution_count": 16,
   "id": "d892b647-6df3-40ca-9a9d-4aa70f376db8",
   "metadata": {},
   "outputs": [
    {
     "data": {
      "text/plain": [
       "{'models': [{'name': 'llama2:latest',\n",
       "   'model': 'llama2:latest',\n",
       "   'modified_at': '2024-02-09T15:57:42.840725907Z',\n",
       "   'size': 3826793677,\n",
       "   'digest': '78e26419b4469263f75331927a00a0284ef6544c1975b826b15abdaef17bb962',\n",
       "   'details': {'parent_model': '',\n",
       "    'format': 'gguf',\n",
       "    'family': 'llama',\n",
       "    'families': ['llama'],\n",
       "    'parameter_size': '7B',\n",
       "    'quantization_level': 'Q4_0'}},\n",
       "  {'name': 'mistral:latest',\n",
       "   'model': 'mistral:latest',\n",
       "   'modified_at': '2024-02-09T16:25:55.559325908Z',\n",
       "   'size': 4109865159,\n",
       "   'digest': '61e88e884507ba5e06c49b40e6226884b2a16e872382c2b44a42f2d119d804a5',\n",
       "   'details': {'parent_model': '',\n",
       "    'format': 'gguf',\n",
       "    'family': 'llama',\n",
       "    'families': ['llama'],\n",
       "    'parameter_size': '7B',\n",
       "    'quantization_level': 'Q4_0'}}]}"
      ]
     },
     "execution_count": 16,
     "metadata": {},
     "output_type": "execute_result"
    }
   ],
   "source": [
    "ollama.list()"
   ]
  },
  {
   "cell_type": "code",
   "execution_count": 5,
   "id": "23b29b6c-4a65-4f04-85b2-a1b01277847e",
   "metadata": {},
   "outputs": [
    {
     "data": {
      "text/plain": [
       "{'status': 'success'}"
      ]
     },
     "execution_count": 5,
     "metadata": {},
     "output_type": "execute_result"
    }
   ],
   "source": [
    "ollama.pull('llama2')"
   ]
  },
  {
   "cell_type": "code",
   "execution_count": 17,
   "id": "a4752e8b-78c5-4381-a01f-418e6af52af7",
   "metadata": {},
   "outputs": [
    {
     "data": {
      "text/plain": [
       "{'status': 'success'}"
      ]
     },
     "execution_count": 17,
     "metadata": {},
     "output_type": "execute_result"
    }
   ],
   "source": [
    "ollama.pull('mistral')"
   ]
  },
  {
   "cell_type": "code",
   "execution_count": 28,
   "id": "4d39593a-f4c2-4ab8-9fab-de956e970da3",
   "metadata": {},
   "outputs": [
    {
     "data": {
      "text/plain": [
       "{'status': 'success'}"
      ]
     },
     "execution_count": 28,
     "metadata": {},
     "output_type": "execute_result"
    }
   ],
   "source": [
    "ollama.pull('falcon:7b')"
   ]
  },
  {
   "cell_type": "code",
   "execution_count": 18,
   "id": "0c279165-a543-49a2-85d6-dc26257869f6",
   "metadata": {},
   "outputs": [],
   "source": [
    "response = ollama.embeddings(model='llama2', prompt='They sky is blue because of rayleigh scattering')"
   ]
  },
  {
   "cell_type": "code",
   "execution_count": 19,
   "id": "e0ad580a-d507-471f-ba06-5750604acb53",
   "metadata": {},
   "outputs": [
    {
     "data": {
      "text/plain": [
       "dict_keys(['embedding'])"
      ]
     },
     "execution_count": 19,
     "metadata": {},
     "output_type": "execute_result"
    }
   ],
   "source": [
    "response.keys()"
   ]
  },
  {
   "cell_type": "code",
   "execution_count": 20,
   "id": "1a189924-1a28-4490-ac60-a905b099d7f6",
   "metadata": {},
   "outputs": [
    {
     "data": {
      "text/plain": [
       "4096"
      ]
     },
     "execution_count": 20,
     "metadata": {},
     "output_type": "execute_result"
    }
   ],
   "source": [
    "len(response['embedding'])"
   ]
  },
  {
   "cell_type": "code",
   "execution_count": 21,
   "id": "13dd60ff-0ba9-4e81-b3ec-88164a54dc2e",
   "metadata": {},
   "outputs": [],
   "source": [
    "response2 = ollama.generate(model='llama2', prompt='You are an LLM expert in software development in python. Provide python code to open a pdf file?')"
   ]
  },
  {
   "cell_type": "code",
   "execution_count": 22,
   "id": "565a7559-6651-4f90-a391-f91acf0641eb",
   "metadata": {},
   "outputs": [
    {
     "data": {
      "text/plain": [
       "dict_keys(['model', 'created_at', 'response', 'done', 'context', 'total_duration', 'load_duration', 'prompt_eval_count', 'prompt_eval_duration', 'eval_count', 'eval_duration'])"
      ]
     },
     "execution_count": 22,
     "metadata": {},
     "output_type": "execute_result"
    }
   ],
   "source": [
    "response2.keys()"
   ]
  },
  {
   "cell_type": "code",
   "execution_count": 24,
   "id": "2e09ccb4-ba61-4efc-be11-d5eb432dfbac",
   "metadata": {},
   "outputs": [
    {
     "name": "stdout",
     "output_type": "stream",
     "text": [
      "{'model': 'llama2', 'created_at': '2024-02-09T17:24:36.979026821Z', 'response': \"\\nCertainly! There are several ways to open a PDF file in Python, depending on the specific requirements and the library you want to use. Here are some common methods:\\n\\n1. Using the `PyPDF2` library:\\n```python\\nimport PyPDF2\\n\\nwith open('document.pdf', 'rb') as f:\\n    pdf = PyPDF2.PdfFileReader(f)\\n    pageCount = pdf.getNumPages()\\n    for i in range(pageCount):\\n        page = pdf.getPage(i+1)\\n        # do something with the page\\n```\\nThis code opens a PDF file `document.pdf` and reads it using the `PyPDF2` library. It then iterates over the pages of the document and performs some action on each page (in this case, simply printing its number).\\n\\n2. Using the `pandas` library:\\n```python\\nimport pandas as pd\\n\\ndf = pd.read_pdf('document.pdf')\\nprint(df)\\n```\\nThis code reads a PDF file `document.pdf` using the `pandas` library and prints its contents to the console. The resulting DataFrame will have the same structure as the PDF document, with each page turned into a column.\\n\\n3. Using the ` pdfminer` library:\\n```python\\nfrom pdfminer import PDFDocument\\n\\nwith open('document.pdf', 'rb') as f:\\n    doc = PDFDocument(f)\\n    pages = doc.getPages()\\n    for page in pages:\\n        # do something with the page\\n```\\nThis code opens a PDF file `document.pdf` and reads it using the `pdfminer` library. It then iterates over the pages of the document and performs some action on each page (in this case, simply printing its number).\\n\\n4. Using the ` PyPDF3` library:\\n```python\\nimport PyPDF3\\n\\nwith open('document.pdf', 'rb') as f:\\n    pdf = PyPDF3.PdfFileReader(f)\\n    pageCount = pdf.getNumPages()\\n    for i in range(pageCount):\\n        page = pdf.getPage(i+1)\\n        # do something with the page\\n```\\nThis code is similar to the previous example, but uses the `PyPDF3` library instead of `PyPDF2`.\\n\\nI hope this helps! Let me know if you have any questions.\", 'done': True, 'context': [518, 25580, 29962, 3532, 14816, 29903, 29958, 5299, 829, 14816, 29903, 6778, 13, 13, 3492, 526, 385, 365, 26369, 17924, 297, 7047, 5849, 297, 3017, 29889, 9133, 680, 3017, 775, 304, 1722, 263, 13552, 934, 29973, 518, 29914, 25580, 29962, 13, 13, 29907, 13946, 368, 29991, 1670, 526, 3196, 5837, 304, 1722, 263, 11328, 934, 297, 5132, 29892, 8679, 373, 278, 2702, 11780, 322, 278, 3489, 366, 864, 304, 671, 29889, 2266, 526, 777, 3619, 3519, 29901, 13, 13, 29896, 29889, 5293, 278, 421, 19737, 8493, 29906, 29952, 3489, 29901, 13, 28956, 4691, 13, 5215, 10772, 8493, 29906, 13, 13, 2541, 1722, 877, 3225, 29889, 5140, 742, 525, 6050, 1495, 408, 285, 29901, 13, 1678, 13552, 353, 10772, 8493, 29906, 29889, 29925, 2176, 2283, 6982, 29898, 29888, 29897, 13, 1678, 1813, 3981, 353, 13552, 29889, 657, 8009, 27514, 580, 13, 1678, 363, 474, 297, 3464, 29898, 3488, 3981, 1125, 13, 4706, 1813, 353, 13552, 29889, 657, 5074, 29898, 29875, 29974, 29896, 29897, 13, 4706, 396, 437, 1554, 411, 278, 1813, 13, 28956, 13, 4013, 775, 13246, 263, 11328, 934, 421, 3225, 29889, 5140, 29952, 322, 13623, 372, 773, 278, 421, 19737, 8493, 29906, 29952, 3489, 29889, 739, 769, 4256, 1078, 975, 278, 6515, 310, 278, 1842, 322, 23233, 777, 3158, 373, 1269, 1813, 313, 262, 445, 1206, 29892, 3763, 14010, 967, 1353, 467, 13, 13, 29906, 29889, 5293, 278, 421, 15112, 29952, 3489, 29901, 13, 28956, 4691, 13, 5215, 11701, 408, 10518, 13, 13, 2176, 353, 10518, 29889, 949, 29918, 5140, 877, 3225, 29889, 5140, 1495, 13, 2158, 29898, 2176, 29897, 13, 28956, 13, 4013, 775, 13623, 263, 11328, 934, 421, 3225, 29889, 5140, 29952, 773, 278, 421, 15112, 29952, 3489, 322, 14677, 967, 8118, 304, 278, 2991, 29889, 450, 9819, 3630, 4308, 674, 505, 278, 1021, 3829, 408, 278, 11328, 1842, 29892, 411, 1269, 1813, 6077, 964, 263, 1897, 29889, 13, 13, 29941, 29889, 5293, 278, 421, 13552, 1195, 261, 29952, 3489, 29901, 13, 28956, 4691, 13, 3166, 13552, 1195, 261, 1053, 11328, 6268, 13, 13, 2541, 1722, 877, 3225, 29889, 5140, 742, 525, 6050, 1495, 408, 285, 29901, 13, 1678, 1574, 353, 11328, 6268, 29898, 29888, 29897, 13, 1678, 6515, 353, 1574, 29889, 657, 27514, 580, 13, 1678, 363, 1813, 297, 6515, 29901, 13, 4706, 396, 437, 1554, 411, 278, 1813, 13, 28956, 13, 4013, 775, 13246, 263, 11328, 934, 421, 3225, 29889, 5140, 29952, 322, 13623, 372, 773, 278, 421, 5140, 1195, 261, 29952, 3489, 29889, 739, 769, 4256, 1078, 975, 278, 6515, 310, 278, 1842, 322, 23233, 777, 3158, 373, 1269, 1813, 313, 262, 445, 1206, 29892, 3763, 14010, 967, 1353, 467, 13, 13, 29946, 29889, 5293, 278, 421, 10772, 8493, 29941, 29952, 3489, 29901, 13, 28956, 4691, 13, 5215, 10772, 8493, 29941, 13, 13, 2541, 1722, 877, 3225, 29889, 5140, 742, 525, 6050, 1495, 408, 285, 29901, 13, 1678, 13552, 353, 10772, 8493, 29941, 29889, 29925, 2176, 2283, 6982, 29898, 29888, 29897, 13, 1678, 1813, 3981, 353, 13552, 29889, 657, 8009, 27514, 580, 13, 1678, 363, 474, 297, 3464, 29898, 3488, 3981, 1125, 13, 4706, 1813, 353, 13552, 29889, 657, 5074, 29898, 29875, 29974, 29896, 29897, 13, 4706, 396, 437, 1554, 411, 278, 1813, 13, 28956, 13, 4013, 775, 338, 2788, 304, 278, 3517, 1342, 29892, 541, 3913, 278, 421, 19737, 8493, 29941, 29952, 3489, 2012, 310, 421, 19737, 8493, 29906, 1412, 13, 13, 29902, 4966, 445, 6911, 29991, 2803, 592, 1073, 565, 366, 505, 738, 5155, 29889], 'total_duration': 346273487777, 'load_duration': 555700, 'prompt_eval_count': 41, 'prompt_eval_duration': 3380349000, 'eval_count': 533, 'eval_duration': 342891315000}\n"
     ]
    }
   ],
   "source": [
    "print(response2)"
   ]
  },
  {
   "cell_type": "code",
   "execution_count": 25,
   "id": "d9b6ef02-0724-4a20-b6bf-4c4a8ae79b17",
   "metadata": {},
   "outputs": [
    {
     "name": "stdout",
     "output_type": "stream",
     "text": [
      "\n",
      "Certainly! There are several ways to open a PDF file in Python, depending on the specific requirements and the library you want to use. Here are some common methods:\n",
      "\n",
      "1. Using the `PyPDF2` library:\n",
      "```python\n",
      "import PyPDF2\n",
      "\n",
      "with open('document.pdf', 'rb') as f:\n",
      "    pdf = PyPDF2.PdfFileReader(f)\n",
      "    pageCount = pdf.getNumPages()\n",
      "    for i in range(pageCount):\n",
      "        page = pdf.getPage(i+1)\n",
      "        # do something with the page\n",
      "```\n",
      "This code opens a PDF file `document.pdf` and reads it using the `PyPDF2` library. It then iterates over the pages of the document and performs some action on each page (in this case, simply printing its number).\n",
      "\n",
      "2. Using the `pandas` library:\n",
      "```python\n",
      "import pandas as pd\n",
      "\n",
      "df = pd.read_pdf('document.pdf')\n",
      "print(df)\n",
      "```\n",
      "This code reads a PDF file `document.pdf` using the `pandas` library and prints its contents to the console. The resulting DataFrame will have the same structure as the PDF document, with each page turned into a column.\n",
      "\n",
      "3. Using the ` pdfminer` library:\n",
      "```python\n",
      "from pdfminer import PDFDocument\n",
      "\n",
      "with open('document.pdf', 'rb') as f:\n",
      "    doc = PDFDocument(f)\n",
      "    pages = doc.getPages()\n",
      "    for page in pages:\n",
      "        # do something with the page\n",
      "```\n",
      "This code opens a PDF file `document.pdf` and reads it using the `pdfminer` library. It then iterates over the pages of the document and performs some action on each page (in this case, simply printing its number).\n",
      "\n",
      "4. Using the ` PyPDF3` library:\n",
      "```python\n",
      "import PyPDF3\n",
      "\n",
      "with open('document.pdf', 'rb') as f:\n",
      "    pdf = PyPDF3.PdfFileReader(f)\n",
      "    pageCount = pdf.getNumPages()\n",
      "    for i in range(pageCount):\n",
      "        page = pdf.getPage(i+1)\n",
      "        # do something with the page\n",
      "```\n",
      "This code is similar to the previous example, but uses the `PyPDF3` library instead of `PyPDF2`.\n",
      "\n",
      "I hope this helps! Let me know if you have any questions.\n"
     ]
    }
   ],
   "source": [
    "print(response2['response'])"
   ]
  },
  {
   "cell_type": "code",
   "execution_count": 26,
   "id": "4e48edaa-c392-428c-adb3-8a644b86c161",
   "metadata": {},
   "outputs": [
    {
     "data": {
      "text/plain": [
       "{'models': [{'name': 'llama2:latest',\n",
       "   'model': 'llama2:latest',\n",
       "   'modified_at': '2024-02-09T15:57:42.840725907Z',\n",
       "   'size': 3826793677,\n",
       "   'digest': '78e26419b4469263f75331927a00a0284ef6544c1975b826b15abdaef17bb962',\n",
       "   'details': {'parent_model': '',\n",
       "    'format': 'gguf',\n",
       "    'family': 'llama',\n",
       "    'families': ['llama'],\n",
       "    'parameter_size': '7B',\n",
       "    'quantization_level': 'Q4_0'}},\n",
       "  {'name': 'mistral:latest',\n",
       "   'model': 'mistral:latest',\n",
       "   'modified_at': '2024-02-09T17:14:56.65634476Z',\n",
       "   'size': 4109865159,\n",
       "   'digest': '61e88e884507ba5e06c49b40e6226884b2a16e872382c2b44a42f2d119d804a5',\n",
       "   'details': {'parent_model': '',\n",
       "    'format': 'gguf',\n",
       "    'family': 'llama',\n",
       "    'families': ['llama'],\n",
       "    'parameter_size': '7B',\n",
       "    'quantization_level': 'Q4_0'}}]}"
      ]
     },
     "execution_count": 26,
     "metadata": {},
     "output_type": "execute_result"
    }
   ],
   "source": [
    "ollama.list()"
   ]
  },
  {
   "cell_type": "code",
   "execution_count": 27,
   "id": "9a1be125-8582-451d-8fb8-44956007f1da",
   "metadata": {},
   "outputs": [
    {
     "name": "stdout",
     "output_type": "stream",
     "text": [
      "\n",
      "The Prime Minister of the United Kingdom is Boris Johnson. He has been in office since July 2019 and is the leader of the Conservative Party."
     ]
    }
   ],
   "source": [
    "stream = ollama.chat(\n",
    "    model='llama2',\n",
    "    messages=[{'role': 'user', 'content': 'Who is the PM of uk?'}],\n",
    "    stream=True,\n",
    ")\n",
    "\n",
    "for chunk in stream:\n",
    "  print(chunk['message']['content'], end='', flush=True)"
   ]
  },
  {
   "cell_type": "code",
   "execution_count": null,
   "id": "34b10ee8-f499-4ca0-9397-ce6c07365746",
   "metadata": {},
   "outputs": [],
   "source": []
  }
 ],
 "metadata": {
  "kernelspec": {
   "display_name": "Python 3 (ipykernel)",
   "language": "python",
   "name": "python3"
  },
  "language_info": {
   "codemirror_mode": {
    "name": "ipython",
    "version": 3
   },
   "file_extension": ".py",
   "mimetype": "text/x-python",
   "name": "python",
   "nbconvert_exporter": "python",
   "pygments_lexer": "ipython3",
   "version": "3.11.7"
  }
 },
 "nbformat": 4,
 "nbformat_minor": 5
}
