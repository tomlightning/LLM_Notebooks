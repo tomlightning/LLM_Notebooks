{
  "nbformat": 4,
  "nbformat_minor": 0,
  "metadata": {
    "colab": {
      "provenance": [],
      "machine_shape": "hm",
      "gpuType": "A100",
      "authorship_tag": "ABX9TyMIiJFdLS6ZEk/4tiErAedG",
      "include_colab_link": true
    },
    "kernelspec": {
      "name": "python3",
      "display_name": "Python 3"
    },
    "language_info": {
      "name": "python"
    },
    "accelerator": "GPU"
  },
  "cells": [
    {
      "cell_type": "markdown",
      "metadata": {
        "id": "view-in-github",
        "colab_type": "text"
      },
      "source": [
        "<a href=\"https://colab.research.google.com/github/olonok69/LLM_Notebooks/blob/main/mistral/Mistral7b_instruct.ipynb\" target=\"_parent\"><img src=\"https://colab.research.google.com/assets/colab-badge.svg\" alt=\"Open In Colab\"/></a>"
      ]
    },
    {
      "cell_type": "code",
      "source": [
        "import torch\n",
        "import torch.nn.functional as F\n",
        "\n",
        "from torch import Tensor\n",
        "from transformers import AutoTokenizer, AutoModel\n",
        "\n",
        "\n",
        "def last_token_pool(last_hidden_states: Tensor,\n",
        "                 attention_mask: Tensor) -> Tensor:\n",
        "    left_padding = (attention_mask[:, -1].sum() == attention_mask.shape[0])\n",
        "    if left_padding:\n",
        "        return last_hidden_states[:, -1]\n",
        "    else:\n",
        "        sequence_lengths = attention_mask.sum(dim=1) - 1\n",
        "        batch_size = last_hidden_states.shape[0]\n",
        "        return last_hidden_states[torch.arange(batch_size, device=last_hidden_states.device), sequence_lengths]\n",
        "\n",
        "\n",
        "def get_detailed_instruct(task_description: str, query: str) -> str:\n",
        "    return f'Instruct: {task_description}\\nQuery: {query}'\n",
        "\n",
        "\n",
        "# Each query must come with a one-sentence instruction that describes the task\n",
        "task = 'Given a web search query, retrieve relevant passages that answer the query'\n",
        "queries = [\n",
        "    get_detailed_instruct(task, 'how much protein should a female eat'),\n",
        "    get_detailed_instruct(task, 'summit define')\n",
        "]\n",
        "# No need to add instruction for retrieval documents\n",
        "documents = [\n",
        "    \"As a general guideline, the CDC's average requirement of protein for women ages 19 to 70 is 46 grams per day. But, as you can see from this chart, you'll need to increase that if you're expecting or training for a marathon. Check out the chart below to see how much protein you should be eating each day.\",\n",
        "    \"Definition of summit for English Language Learners. : 1  the highest point of a mountain : the top of a mountain. : 2  the highest level. : 3  a meeting or series of meetings between the leaders of two or more governments.\"\n",
        "]\n",
        "input_texts = queries + documents\n",
        "\n",
        "tokenizer = AutoTokenizer.from_pretrained('intfloat/e5-mistral-7b-instruct')\n",
        "model = AutoModel.from_pretrained('intfloat/e5-mistral-7b-instruct')\n",
        "\n",
        "max_length = 4096\n",
        "# Tokenize the input texts\n",
        "batch_dict = tokenizer(input_texts, max_length=max_length - 1, return_attention_mask=False, padding=False, truncation=True)\n",
        "# append eos_token_id to every input_ids\n",
        "batch_dict['input_ids'] = [input_ids + [tokenizer.eos_token_id] for input_ids in batch_dict['input_ids']]\n",
        "batch_dict = tokenizer.pad(batch_dict, padding=True, return_attention_mask=True, return_tensors='pt')\n",
        "\n",
        "outputs = model(**batch_dict)\n",
        "embeddings = last_token_pool(outputs.last_hidden_state, batch_dict['attention_mask'])\n",
        "\n",
        "# normalize embeddings\n",
        "embeddings = F.normalize(embeddings, p=2, dim=1)\n",
        "scores = (embeddings[:2] @ embeddings[2:].T) * 100\n",
        "print(scores.tolist())"
      ],
      "metadata": {
        "id": "5O_6NbCrzavz"
      },
      "execution_count": null,
      "outputs": []
    },
    {
      "cell_type": "code",
      "source": [
        "outputs = model(**batch_dict)\n",
        "embeddings = last_token_pool(outputs.last_hidden_state, batch_dict['attention_mask'])\n"
      ],
      "metadata": {
        "id": "l7npK7FAokzj"
      },
      "execution_count": 4,
      "outputs": []
    },
    {
      "cell_type": "code",
      "source": [
        "\n",
        "len(embeddings[0]), len(embeddings[1]), len(embeddings[2]), len(embeddings[3])"
      ],
      "metadata": {
        "colab": {
          "base_uri": "https://localhost:8080/"
        },
        "id": "ppuXbvdaoaKH",
        "outputId": "bb42fe09-2273-4b9e-f91d-263ff3cb9d3a"
      },
      "execution_count": 9,
      "outputs": [
        {
          "output_type": "execute_result",
          "data": {
            "text/plain": [
              "(4096, 4096, 4096, 4096)"
            ]
          },
          "metadata": {},
          "execution_count": 9
        }
      ]
    },
    {
      "cell_type": "code",
      "source": [
        "embeddings[0]"
      ],
      "metadata": {
        "colab": {
          "base_uri": "https://localhost:8080/"
        },
        "id": "53TZQ1pOpSR1",
        "outputId": "e52aa4dc-4e85-4ff6-f489-b63fa2438204"
      },
      "execution_count": 10,
      "outputs": [
        {
          "output_type": "execute_result",
          "data": {
            "text/plain": [
              "tensor([ 4.7781,  1.0019, -2.0097,  ...,  7.9832, -5.1849,  1.7203],\n",
              "       grad_fn=<SelectBackward0>)"
            ]
          },
          "metadata": {},
          "execution_count": 10
        }
      ]
    }
  ]
}