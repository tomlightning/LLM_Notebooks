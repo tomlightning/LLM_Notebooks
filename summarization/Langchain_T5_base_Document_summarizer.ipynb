{
  "nbformat": 4,
  "nbformat_minor": 0,
  "metadata": {
    "colab": {
      "provenance": [],
      "machine_shape": "hm",
      "gpuType": "T4",
      "mount_file_id": "1eZ5X_ZyoqE3tO1WRAGZkIoojBLchKWar",
      "authorship_tag": "ABX9TyPj5B7PSLIuobzZ80QZjcrt",
      "include_colab_link": true
    },
    "kernelspec": {
      "name": "python3",
      "display_name": "Python 3"
    },
    "language_info": {
      "name": "python"
    },
    "accelerator": "GPU",
    "widgets": {
      "application/vnd.jupyter.widget-state+json": {
        "bb6184b55ce240fcadbd5e51ab49c0fc": {
          "model_module": "@jupyter-widgets/controls",
          "model_name": "HBoxModel",
          "model_module_version": "1.5.0",
          "state": {
            "_dom_classes": [],
            "_model_module": "@jupyter-widgets/controls",
            "_model_module_version": "1.5.0",
            "_model_name": "HBoxModel",
            "_view_count": null,
            "_view_module": "@jupyter-widgets/controls",
            "_view_module_version": "1.5.0",
            "_view_name": "HBoxView",
            "box_style": "",
            "children": [
              "IPY_MODEL_35a776ccc9534bcea8defca45b01c25e",
              "IPY_MODEL_f4ebc80c0e7e49b4b4e442cfdc959686",
              "IPY_MODEL_901a635bf012419f8eb3d2be638f6202"
            ],
            "layout": "IPY_MODEL_a96c7d13cfeb47e29ba118b62e6c62f9"
          }
        },
        "35a776ccc9534bcea8defca45b01c25e": {
          "model_module": "@jupyter-widgets/controls",
          "model_name": "HTMLModel",
          "model_module_version": "1.5.0",
          "state": {
            "_dom_classes": [],
            "_model_module": "@jupyter-widgets/controls",
            "_model_module_version": "1.5.0",
            "_model_name": "HTMLModel",
            "_view_count": null,
            "_view_module": "@jupyter-widgets/controls",
            "_view_module_version": "1.5.0",
            "_view_name": "HTMLView",
            "description": "",
            "description_tooltip": null,
            "layout": "IPY_MODEL_010baba4ca494c63940b589108db0c8d",
            "placeholder": "​",
            "style": "IPY_MODEL_a70ebb20650144cfa788007d79c9d717",
            "value": "tokenizer_config.json: 100%"
          }
        },
        "f4ebc80c0e7e49b4b4e442cfdc959686": {
          "model_module": "@jupyter-widgets/controls",
          "model_name": "FloatProgressModel",
          "model_module_version": "1.5.0",
          "state": {
            "_dom_classes": [],
            "_model_module": "@jupyter-widgets/controls",
            "_model_module_version": "1.5.0",
            "_model_name": "FloatProgressModel",
            "_view_count": null,
            "_view_module": "@jupyter-widgets/controls",
            "_view_module_version": "1.5.0",
            "_view_name": "ProgressView",
            "bar_style": "success",
            "description": "",
            "description_tooltip": null,
            "layout": "IPY_MODEL_c2997d5abd6b40af97371802cb3bef90",
            "max": 26,
            "min": 0,
            "orientation": "horizontal",
            "style": "IPY_MODEL_d8f41c55470440109b3d6d7116245e43",
            "value": 26
          }
        },
        "901a635bf012419f8eb3d2be638f6202": {
          "model_module": "@jupyter-widgets/controls",
          "model_name": "HTMLModel",
          "model_module_version": "1.5.0",
          "state": {
            "_dom_classes": [],
            "_model_module": "@jupyter-widgets/controls",
            "_model_module_version": "1.5.0",
            "_model_name": "HTMLModel",
            "_view_count": null,
            "_view_module": "@jupyter-widgets/controls",
            "_view_module_version": "1.5.0",
            "_view_name": "HTMLView",
            "description": "",
            "description_tooltip": null,
            "layout": "IPY_MODEL_36c6b1b1e52e465cb9ecaeb3d47b1078",
            "placeholder": "​",
            "style": "IPY_MODEL_58a8997bc2194ffd9025293e5dc2d924",
            "value": " 26.0/26.0 [00:00&lt;00:00, 2.19kB/s]"
          }
        },
        "a96c7d13cfeb47e29ba118b62e6c62f9": {
          "model_module": "@jupyter-widgets/base",
          "model_name": "LayoutModel",
          "model_module_version": "1.2.0",
          "state": {
            "_model_module": "@jupyter-widgets/base",
            "_model_module_version": "1.2.0",
            "_model_name": "LayoutModel",
            "_view_count": null,
            "_view_module": "@jupyter-widgets/base",
            "_view_module_version": "1.2.0",
            "_view_name": "LayoutView",
            "align_content": null,
            "align_items": null,
            "align_self": null,
            "border": null,
            "bottom": null,
            "display": null,
            "flex": null,
            "flex_flow": null,
            "grid_area": null,
            "grid_auto_columns": null,
            "grid_auto_flow": null,
            "grid_auto_rows": null,
            "grid_column": null,
            "grid_gap": null,
            "grid_row": null,
            "grid_template_areas": null,
            "grid_template_columns": null,
            "grid_template_rows": null,
            "height": null,
            "justify_content": null,
            "justify_items": null,
            "left": null,
            "margin": null,
            "max_height": null,
            "max_width": null,
            "min_height": null,
            "min_width": null,
            "object_fit": null,
            "object_position": null,
            "order": null,
            "overflow": null,
            "overflow_x": null,
            "overflow_y": null,
            "padding": null,
            "right": null,
            "top": null,
            "visibility": null,
            "width": null
          }
        },
        "010baba4ca494c63940b589108db0c8d": {
          "model_module": "@jupyter-widgets/base",
          "model_name": "LayoutModel",
          "model_module_version": "1.2.0",
          "state": {
            "_model_module": "@jupyter-widgets/base",
            "_model_module_version": "1.2.0",
            "_model_name": "LayoutModel",
            "_view_count": null,
            "_view_module": "@jupyter-widgets/base",
            "_view_module_version": "1.2.0",
            "_view_name": "LayoutView",
            "align_content": null,
            "align_items": null,
            "align_self": null,
            "border": null,
            "bottom": null,
            "display": null,
            "flex": null,
            "flex_flow": null,
            "grid_area": null,
            "grid_auto_columns": null,
            "grid_auto_flow": null,
            "grid_auto_rows": null,
            "grid_column": null,
            "grid_gap": null,
            "grid_row": null,
            "grid_template_areas": null,
            "grid_template_columns": null,
            "grid_template_rows": null,
            "height": null,
            "justify_content": null,
            "justify_items": null,
            "left": null,
            "margin": null,
            "max_height": null,
            "max_width": null,
            "min_height": null,
            "min_width": null,
            "object_fit": null,
            "object_position": null,
            "order": null,
            "overflow": null,
            "overflow_x": null,
            "overflow_y": null,
            "padding": null,
            "right": null,
            "top": null,
            "visibility": null,
            "width": null
          }
        },
        "a70ebb20650144cfa788007d79c9d717": {
          "model_module": "@jupyter-widgets/controls",
          "model_name": "DescriptionStyleModel",
          "model_module_version": "1.5.0",
          "state": {
            "_model_module": "@jupyter-widgets/controls",
            "_model_module_version": "1.5.0",
            "_model_name": "DescriptionStyleModel",
            "_view_count": null,
            "_view_module": "@jupyter-widgets/base",
            "_view_module_version": "1.2.0",
            "_view_name": "StyleView",
            "description_width": ""
          }
        },
        "c2997d5abd6b40af97371802cb3bef90": {
          "model_module": "@jupyter-widgets/base",
          "model_name": "LayoutModel",
          "model_module_version": "1.2.0",
          "state": {
            "_model_module": "@jupyter-widgets/base",
            "_model_module_version": "1.2.0",
            "_model_name": "LayoutModel",
            "_view_count": null,
            "_view_module": "@jupyter-widgets/base",
            "_view_module_version": "1.2.0",
            "_view_name": "LayoutView",
            "align_content": null,
            "align_items": null,
            "align_self": null,
            "border": null,
            "bottom": null,
            "display": null,
            "flex": null,
            "flex_flow": null,
            "grid_area": null,
            "grid_auto_columns": null,
            "grid_auto_flow": null,
            "grid_auto_rows": null,
            "grid_column": null,
            "grid_gap": null,
            "grid_row": null,
            "grid_template_areas": null,
            "grid_template_columns": null,
            "grid_template_rows": null,
            "height": null,
            "justify_content": null,
            "justify_items": null,
            "left": null,
            "margin": null,
            "max_height": null,
            "max_width": null,
            "min_height": null,
            "min_width": null,
            "object_fit": null,
            "object_position": null,
            "order": null,
            "overflow": null,
            "overflow_x": null,
            "overflow_y": null,
            "padding": null,
            "right": null,
            "top": null,
            "visibility": null,
            "width": null
          }
        },
        "d8f41c55470440109b3d6d7116245e43": {
          "model_module": "@jupyter-widgets/controls",
          "model_name": "ProgressStyleModel",
          "model_module_version": "1.5.0",
          "state": {
            "_model_module": "@jupyter-widgets/controls",
            "_model_module_version": "1.5.0",
            "_model_name": "ProgressStyleModel",
            "_view_count": null,
            "_view_module": "@jupyter-widgets/base",
            "_view_module_version": "1.2.0",
            "_view_name": "StyleView",
            "bar_color": null,
            "description_width": ""
          }
        },
        "36c6b1b1e52e465cb9ecaeb3d47b1078": {
          "model_module": "@jupyter-widgets/base",
          "model_name": "LayoutModel",
          "model_module_version": "1.2.0",
          "state": {
            "_model_module": "@jupyter-widgets/base",
            "_model_module_version": "1.2.0",
            "_model_name": "LayoutModel",
            "_view_count": null,
            "_view_module": "@jupyter-widgets/base",
            "_view_module_version": "1.2.0",
            "_view_name": "LayoutView",
            "align_content": null,
            "align_items": null,
            "align_self": null,
            "border": null,
            "bottom": null,
            "display": null,
            "flex": null,
            "flex_flow": null,
            "grid_area": null,
            "grid_auto_columns": null,
            "grid_auto_flow": null,
            "grid_auto_rows": null,
            "grid_column": null,
            "grid_gap": null,
            "grid_row": null,
            "grid_template_areas": null,
            "grid_template_columns": null,
            "grid_template_rows": null,
            "height": null,
            "justify_content": null,
            "justify_items": null,
            "left": null,
            "margin": null,
            "max_height": null,
            "max_width": null,
            "min_height": null,
            "min_width": null,
            "object_fit": null,
            "object_position": null,
            "order": null,
            "overflow": null,
            "overflow_x": null,
            "overflow_y": null,
            "padding": null,
            "right": null,
            "top": null,
            "visibility": null,
            "width": null
          }
        },
        "58a8997bc2194ffd9025293e5dc2d924": {
          "model_module": "@jupyter-widgets/controls",
          "model_name": "DescriptionStyleModel",
          "model_module_version": "1.5.0",
          "state": {
            "_model_module": "@jupyter-widgets/controls",
            "_model_module_version": "1.5.0",
            "_model_name": "DescriptionStyleModel",
            "_view_count": null,
            "_view_module": "@jupyter-widgets/base",
            "_view_module_version": "1.2.0",
            "_view_name": "StyleView",
            "description_width": ""
          }
        },
        "8f529718fc024254bbab73043c6f07f7": {
          "model_module": "@jupyter-widgets/controls",
          "model_name": "HBoxModel",
          "model_module_version": "1.5.0",
          "state": {
            "_dom_classes": [],
            "_model_module": "@jupyter-widgets/controls",
            "_model_module_version": "1.5.0",
            "_model_name": "HBoxModel",
            "_view_count": null,
            "_view_module": "@jupyter-widgets/controls",
            "_view_module_version": "1.5.0",
            "_view_name": "HBoxView",
            "box_style": "",
            "children": [
              "IPY_MODEL_4459cf71b944430a98162685f9ff8453",
              "IPY_MODEL_29e9a7f0d59b4d5d96529dbb38d60be2",
              "IPY_MODEL_122da0f039304a7980976d5212593084"
            ],
            "layout": "IPY_MODEL_0faef835804d49f3b861578e6633929a"
          }
        },
        "4459cf71b944430a98162685f9ff8453": {
          "model_module": "@jupyter-widgets/controls",
          "model_name": "HTMLModel",
          "model_module_version": "1.5.0",
          "state": {
            "_dom_classes": [],
            "_model_module": "@jupyter-widgets/controls",
            "_model_module_version": "1.5.0",
            "_model_name": "HTMLModel",
            "_view_count": null,
            "_view_module": "@jupyter-widgets/controls",
            "_view_module_version": "1.5.0",
            "_view_name": "HTMLView",
            "description": "",
            "description_tooltip": null,
            "layout": "IPY_MODEL_9893a235d793483986ecf2adc6eced85",
            "placeholder": "​",
            "style": "IPY_MODEL_68e0ddbeb35a4e1dadcb2668065681ce",
            "value": "vocab.json: 100%"
          }
        },
        "29e9a7f0d59b4d5d96529dbb38d60be2": {
          "model_module": "@jupyter-widgets/controls",
          "model_name": "FloatProgressModel",
          "model_module_version": "1.5.0",
          "state": {
            "_dom_classes": [],
            "_model_module": "@jupyter-widgets/controls",
            "_model_module_version": "1.5.0",
            "_model_name": "FloatProgressModel",
            "_view_count": null,
            "_view_module": "@jupyter-widgets/controls",
            "_view_module_version": "1.5.0",
            "_view_name": "ProgressView",
            "bar_style": "success",
            "description": "",
            "description_tooltip": null,
            "layout": "IPY_MODEL_5220af46f44144e5b4d3d57f55301dd2",
            "max": 1042301,
            "min": 0,
            "orientation": "horizontal",
            "style": "IPY_MODEL_1c71e5f11c984c94aa562e43b41d676a",
            "value": 1042301
          }
        },
        "122da0f039304a7980976d5212593084": {
          "model_module": "@jupyter-widgets/controls",
          "model_name": "HTMLModel",
          "model_module_version": "1.5.0",
          "state": {
            "_dom_classes": [],
            "_model_module": "@jupyter-widgets/controls",
            "_model_module_version": "1.5.0",
            "_model_name": "HTMLModel",
            "_view_count": null,
            "_view_module": "@jupyter-widgets/controls",
            "_view_module_version": "1.5.0",
            "_view_name": "HTMLView",
            "description": "",
            "description_tooltip": null,
            "layout": "IPY_MODEL_1e2fb455da0b4f2e9962e20551357faa",
            "placeholder": "​",
            "style": "IPY_MODEL_2a1ed3a6340641e0b7cf516cfa7a0c79",
            "value": " 1.04M/1.04M [00:00&lt;00:00, 2.18MB/s]"
          }
        },
        "0faef835804d49f3b861578e6633929a": {
          "model_module": "@jupyter-widgets/base",
          "model_name": "LayoutModel",
          "model_module_version": "1.2.0",
          "state": {
            "_model_module": "@jupyter-widgets/base",
            "_model_module_version": "1.2.0",
            "_model_name": "LayoutModel",
            "_view_count": null,
            "_view_module": "@jupyter-widgets/base",
            "_view_module_version": "1.2.0",
            "_view_name": "LayoutView",
            "align_content": null,
            "align_items": null,
            "align_self": null,
            "border": null,
            "bottom": null,
            "display": null,
            "flex": null,
            "flex_flow": null,
            "grid_area": null,
            "grid_auto_columns": null,
            "grid_auto_flow": null,
            "grid_auto_rows": null,
            "grid_column": null,
            "grid_gap": null,
            "grid_row": null,
            "grid_template_areas": null,
            "grid_template_columns": null,
            "grid_template_rows": null,
            "height": null,
            "justify_content": null,
            "justify_items": null,
            "left": null,
            "margin": null,
            "max_height": null,
            "max_width": null,
            "min_height": null,
            "min_width": null,
            "object_fit": null,
            "object_position": null,
            "order": null,
            "overflow": null,
            "overflow_x": null,
            "overflow_y": null,
            "padding": null,
            "right": null,
            "top": null,
            "visibility": null,
            "width": null
          }
        },
        "9893a235d793483986ecf2adc6eced85": {
          "model_module": "@jupyter-widgets/base",
          "model_name": "LayoutModel",
          "model_module_version": "1.2.0",
          "state": {
            "_model_module": "@jupyter-widgets/base",
            "_model_module_version": "1.2.0",
            "_model_name": "LayoutModel",
            "_view_count": null,
            "_view_module": "@jupyter-widgets/base",
            "_view_module_version": "1.2.0",
            "_view_name": "LayoutView",
            "align_content": null,
            "align_items": null,
            "align_self": null,
            "border": null,
            "bottom": null,
            "display": null,
            "flex": null,
            "flex_flow": null,
            "grid_area": null,
            "grid_auto_columns": null,
            "grid_auto_flow": null,
            "grid_auto_rows": null,
            "grid_column": null,
            "grid_gap": null,
            "grid_row": null,
            "grid_template_areas": null,
            "grid_template_columns": null,
            "grid_template_rows": null,
            "height": null,
            "justify_content": null,
            "justify_items": null,
            "left": null,
            "margin": null,
            "max_height": null,
            "max_width": null,
            "min_height": null,
            "min_width": null,
            "object_fit": null,
            "object_position": null,
            "order": null,
            "overflow": null,
            "overflow_x": null,
            "overflow_y": null,
            "padding": null,
            "right": null,
            "top": null,
            "visibility": null,
            "width": null
          }
        },
        "68e0ddbeb35a4e1dadcb2668065681ce": {
          "model_module": "@jupyter-widgets/controls",
          "model_name": "DescriptionStyleModel",
          "model_module_version": "1.5.0",
          "state": {
            "_model_module": "@jupyter-widgets/controls",
            "_model_module_version": "1.5.0",
            "_model_name": "DescriptionStyleModel",
            "_view_count": null,
            "_view_module": "@jupyter-widgets/base",
            "_view_module_version": "1.2.0",
            "_view_name": "StyleView",
            "description_width": ""
          }
        },
        "5220af46f44144e5b4d3d57f55301dd2": {
          "model_module": "@jupyter-widgets/base",
          "model_name": "LayoutModel",
          "model_module_version": "1.2.0",
          "state": {
            "_model_module": "@jupyter-widgets/base",
            "_model_module_version": "1.2.0",
            "_model_name": "LayoutModel",
            "_view_count": null,
            "_view_module": "@jupyter-widgets/base",
            "_view_module_version": "1.2.0",
            "_view_name": "LayoutView",
            "align_content": null,
            "align_items": null,
            "align_self": null,
            "border": null,
            "bottom": null,
            "display": null,
            "flex": null,
            "flex_flow": null,
            "grid_area": null,
            "grid_auto_columns": null,
            "grid_auto_flow": null,
            "grid_auto_rows": null,
            "grid_column": null,
            "grid_gap": null,
            "grid_row": null,
            "grid_template_areas": null,
            "grid_template_columns": null,
            "grid_template_rows": null,
            "height": null,
            "justify_content": null,
            "justify_items": null,
            "left": null,
            "margin": null,
            "max_height": null,
            "max_width": null,
            "min_height": null,
            "min_width": null,
            "object_fit": null,
            "object_position": null,
            "order": null,
            "overflow": null,
            "overflow_x": null,
            "overflow_y": null,
            "padding": null,
            "right": null,
            "top": null,
            "visibility": null,
            "width": null
          }
        },
        "1c71e5f11c984c94aa562e43b41d676a": {
          "model_module": "@jupyter-widgets/controls",
          "model_name": "ProgressStyleModel",
          "model_module_version": "1.5.0",
          "state": {
            "_model_module": "@jupyter-widgets/controls",
            "_model_module_version": "1.5.0",
            "_model_name": "ProgressStyleModel",
            "_view_count": null,
            "_view_module": "@jupyter-widgets/base",
            "_view_module_version": "1.2.0",
            "_view_name": "StyleView",
            "bar_color": null,
            "description_width": ""
          }
        },
        "1e2fb455da0b4f2e9962e20551357faa": {
          "model_module": "@jupyter-widgets/base",
          "model_name": "LayoutModel",
          "model_module_version": "1.2.0",
          "state": {
            "_model_module": "@jupyter-widgets/base",
            "_model_module_version": "1.2.0",
            "_model_name": "LayoutModel",
            "_view_count": null,
            "_view_module": "@jupyter-widgets/base",
            "_view_module_version": "1.2.0",
            "_view_name": "LayoutView",
            "align_content": null,
            "align_items": null,
            "align_self": null,
            "border": null,
            "bottom": null,
            "display": null,
            "flex": null,
            "flex_flow": null,
            "grid_area": null,
            "grid_auto_columns": null,
            "grid_auto_flow": null,
            "grid_auto_rows": null,
            "grid_column": null,
            "grid_gap": null,
            "grid_row": null,
            "grid_template_areas": null,
            "grid_template_columns": null,
            "grid_template_rows": null,
            "height": null,
            "justify_content": null,
            "justify_items": null,
            "left": null,
            "margin": null,
            "max_height": null,
            "max_width": null,
            "min_height": null,
            "min_width": null,
            "object_fit": null,
            "object_position": null,
            "order": null,
            "overflow": null,
            "overflow_x": null,
            "overflow_y": null,
            "padding": null,
            "right": null,
            "top": null,
            "visibility": null,
            "width": null
          }
        },
        "2a1ed3a6340641e0b7cf516cfa7a0c79": {
          "model_module": "@jupyter-widgets/controls",
          "model_name": "DescriptionStyleModel",
          "model_module_version": "1.5.0",
          "state": {
            "_model_module": "@jupyter-widgets/controls",
            "_model_module_version": "1.5.0",
            "_model_name": "DescriptionStyleModel",
            "_view_count": null,
            "_view_module": "@jupyter-widgets/base",
            "_view_module_version": "1.2.0",
            "_view_name": "StyleView",
            "description_width": ""
          }
        },
        "0d33fd4d10df4efeb858e43dc1bfd7e4": {
          "model_module": "@jupyter-widgets/controls",
          "model_name": "HBoxModel",
          "model_module_version": "1.5.0",
          "state": {
            "_dom_classes": [],
            "_model_module": "@jupyter-widgets/controls",
            "_model_module_version": "1.5.0",
            "_model_name": "HBoxModel",
            "_view_count": null,
            "_view_module": "@jupyter-widgets/controls",
            "_view_module_version": "1.5.0",
            "_view_name": "HBoxView",
            "box_style": "",
            "children": [
              "IPY_MODEL_6aac6c9374224e81b02ac7d9abb4b82b",
              "IPY_MODEL_762b4cc56cd3427b83cd4f340e2e2b2b",
              "IPY_MODEL_5a0a8cdf3b384c17b91481aaf96a051f"
            ],
            "layout": "IPY_MODEL_8a0a7741e9194329bb2093cf99ab96f2"
          }
        },
        "6aac6c9374224e81b02ac7d9abb4b82b": {
          "model_module": "@jupyter-widgets/controls",
          "model_name": "HTMLModel",
          "model_module_version": "1.5.0",
          "state": {
            "_dom_classes": [],
            "_model_module": "@jupyter-widgets/controls",
            "_model_module_version": "1.5.0",
            "_model_name": "HTMLModel",
            "_view_count": null,
            "_view_module": "@jupyter-widgets/controls",
            "_view_module_version": "1.5.0",
            "_view_name": "HTMLView",
            "description": "",
            "description_tooltip": null,
            "layout": "IPY_MODEL_0f06e166c8b948858b1e142bc4766fee",
            "placeholder": "​",
            "style": "IPY_MODEL_36c8a56fe08b4e359e0e498b8ed06cb1",
            "value": "merges.txt: 100%"
          }
        },
        "762b4cc56cd3427b83cd4f340e2e2b2b": {
          "model_module": "@jupyter-widgets/controls",
          "model_name": "FloatProgressModel",
          "model_module_version": "1.5.0",
          "state": {
            "_dom_classes": [],
            "_model_module": "@jupyter-widgets/controls",
            "_model_module_version": "1.5.0",
            "_model_name": "FloatProgressModel",
            "_view_count": null,
            "_view_module": "@jupyter-widgets/controls",
            "_view_module_version": "1.5.0",
            "_view_name": "ProgressView",
            "bar_style": "success",
            "description": "",
            "description_tooltip": null,
            "layout": "IPY_MODEL_2700e7dc9f344783937593dff290bb71",
            "max": 456318,
            "min": 0,
            "orientation": "horizontal",
            "style": "IPY_MODEL_7221f69d101b40e097efeedc34a200e2",
            "value": 456318
          }
        },
        "5a0a8cdf3b384c17b91481aaf96a051f": {
          "model_module": "@jupyter-widgets/controls",
          "model_name": "HTMLModel",
          "model_module_version": "1.5.0",
          "state": {
            "_dom_classes": [],
            "_model_module": "@jupyter-widgets/controls",
            "_model_module_version": "1.5.0",
            "_model_name": "HTMLModel",
            "_view_count": null,
            "_view_module": "@jupyter-widgets/controls",
            "_view_module_version": "1.5.0",
            "_view_name": "HTMLView",
            "description": "",
            "description_tooltip": null,
            "layout": "IPY_MODEL_42866e35259a44afae198c31d5f4f3c7",
            "placeholder": "​",
            "style": "IPY_MODEL_e1c4349e3d6e4f38859a090ec3a1a052",
            "value": " 456k/456k [00:00&lt;00:00, 31.0MB/s]"
          }
        },
        "8a0a7741e9194329bb2093cf99ab96f2": {
          "model_module": "@jupyter-widgets/base",
          "model_name": "LayoutModel",
          "model_module_version": "1.2.0",
          "state": {
            "_model_module": "@jupyter-widgets/base",
            "_model_module_version": "1.2.0",
            "_model_name": "LayoutModel",
            "_view_count": null,
            "_view_module": "@jupyter-widgets/base",
            "_view_module_version": "1.2.0",
            "_view_name": "LayoutView",
            "align_content": null,
            "align_items": null,
            "align_self": null,
            "border": null,
            "bottom": null,
            "display": null,
            "flex": null,
            "flex_flow": null,
            "grid_area": null,
            "grid_auto_columns": null,
            "grid_auto_flow": null,
            "grid_auto_rows": null,
            "grid_column": null,
            "grid_gap": null,
            "grid_row": null,
            "grid_template_areas": null,
            "grid_template_columns": null,
            "grid_template_rows": null,
            "height": null,
            "justify_content": null,
            "justify_items": null,
            "left": null,
            "margin": null,
            "max_height": null,
            "max_width": null,
            "min_height": null,
            "min_width": null,
            "object_fit": null,
            "object_position": null,
            "order": null,
            "overflow": null,
            "overflow_x": null,
            "overflow_y": null,
            "padding": null,
            "right": null,
            "top": null,
            "visibility": null,
            "width": null
          }
        },
        "0f06e166c8b948858b1e142bc4766fee": {
          "model_module": "@jupyter-widgets/base",
          "model_name": "LayoutModel",
          "model_module_version": "1.2.0",
          "state": {
            "_model_module": "@jupyter-widgets/base",
            "_model_module_version": "1.2.0",
            "_model_name": "LayoutModel",
            "_view_count": null,
            "_view_module": "@jupyter-widgets/base",
            "_view_module_version": "1.2.0",
            "_view_name": "LayoutView",
            "align_content": null,
            "align_items": null,
            "align_self": null,
            "border": null,
            "bottom": null,
            "display": null,
            "flex": null,
            "flex_flow": null,
            "grid_area": null,
            "grid_auto_columns": null,
            "grid_auto_flow": null,
            "grid_auto_rows": null,
            "grid_column": null,
            "grid_gap": null,
            "grid_row": null,
            "grid_template_areas": null,
            "grid_template_columns": null,
            "grid_template_rows": null,
            "height": null,
            "justify_content": null,
            "justify_items": null,
            "left": null,
            "margin": null,
            "max_height": null,
            "max_width": null,
            "min_height": null,
            "min_width": null,
            "object_fit": null,
            "object_position": null,
            "order": null,
            "overflow": null,
            "overflow_x": null,
            "overflow_y": null,
            "padding": null,
            "right": null,
            "top": null,
            "visibility": null,
            "width": null
          }
        },
        "36c8a56fe08b4e359e0e498b8ed06cb1": {
          "model_module": "@jupyter-widgets/controls",
          "model_name": "DescriptionStyleModel",
          "model_module_version": "1.5.0",
          "state": {
            "_model_module": "@jupyter-widgets/controls",
            "_model_module_version": "1.5.0",
            "_model_name": "DescriptionStyleModel",
            "_view_count": null,
            "_view_module": "@jupyter-widgets/base",
            "_view_module_version": "1.2.0",
            "_view_name": "StyleView",
            "description_width": ""
          }
        },
        "2700e7dc9f344783937593dff290bb71": {
          "model_module": "@jupyter-widgets/base",
          "model_name": "LayoutModel",
          "model_module_version": "1.2.0",
          "state": {
            "_model_module": "@jupyter-widgets/base",
            "_model_module_version": "1.2.0",
            "_model_name": "LayoutModel",
            "_view_count": null,
            "_view_module": "@jupyter-widgets/base",
            "_view_module_version": "1.2.0",
            "_view_name": "LayoutView",
            "align_content": null,
            "align_items": null,
            "align_self": null,
            "border": null,
            "bottom": null,
            "display": null,
            "flex": null,
            "flex_flow": null,
            "grid_area": null,
            "grid_auto_columns": null,
            "grid_auto_flow": null,
            "grid_auto_rows": null,
            "grid_column": null,
            "grid_gap": null,
            "grid_row": null,
            "grid_template_areas": null,
            "grid_template_columns": null,
            "grid_template_rows": null,
            "height": null,
            "justify_content": null,
            "justify_items": null,
            "left": null,
            "margin": null,
            "max_height": null,
            "max_width": null,
            "min_height": null,
            "min_width": null,
            "object_fit": null,
            "object_position": null,
            "order": null,
            "overflow": null,
            "overflow_x": null,
            "overflow_y": null,
            "padding": null,
            "right": null,
            "top": null,
            "visibility": null,
            "width": null
          }
        },
        "7221f69d101b40e097efeedc34a200e2": {
          "model_module": "@jupyter-widgets/controls",
          "model_name": "ProgressStyleModel",
          "model_module_version": "1.5.0",
          "state": {
            "_model_module": "@jupyter-widgets/controls",
            "_model_module_version": "1.5.0",
            "_model_name": "ProgressStyleModel",
            "_view_count": null,
            "_view_module": "@jupyter-widgets/base",
            "_view_module_version": "1.2.0",
            "_view_name": "StyleView",
            "bar_color": null,
            "description_width": ""
          }
        },
        "42866e35259a44afae198c31d5f4f3c7": {
          "model_module": "@jupyter-widgets/base",
          "model_name": "LayoutModel",
          "model_module_version": "1.2.0",
          "state": {
            "_model_module": "@jupyter-widgets/base",
            "_model_module_version": "1.2.0",
            "_model_name": "LayoutModel",
            "_view_count": null,
            "_view_module": "@jupyter-widgets/base",
            "_view_module_version": "1.2.0",
            "_view_name": "LayoutView",
            "align_content": null,
            "align_items": null,
            "align_self": null,
            "border": null,
            "bottom": null,
            "display": null,
            "flex": null,
            "flex_flow": null,
            "grid_area": null,
            "grid_auto_columns": null,
            "grid_auto_flow": null,
            "grid_auto_rows": null,
            "grid_column": null,
            "grid_gap": null,
            "grid_row": null,
            "grid_template_areas": null,
            "grid_template_columns": null,
            "grid_template_rows": null,
            "height": null,
            "justify_content": null,
            "justify_items": null,
            "left": null,
            "margin": null,
            "max_height": null,
            "max_width": null,
            "min_height": null,
            "min_width": null,
            "object_fit": null,
            "object_position": null,
            "order": null,
            "overflow": null,
            "overflow_x": null,
            "overflow_y": null,
            "padding": null,
            "right": null,
            "top": null,
            "visibility": null,
            "width": null
          }
        },
        "e1c4349e3d6e4f38859a090ec3a1a052": {
          "model_module": "@jupyter-widgets/controls",
          "model_name": "DescriptionStyleModel",
          "model_module_version": "1.5.0",
          "state": {
            "_model_module": "@jupyter-widgets/controls",
            "_model_module_version": "1.5.0",
            "_model_name": "DescriptionStyleModel",
            "_view_count": null,
            "_view_module": "@jupyter-widgets/base",
            "_view_module_version": "1.2.0",
            "_view_name": "StyleView",
            "description_width": ""
          }
        },
        "5605c233f9254f33a4fab2a076225e91": {
          "model_module": "@jupyter-widgets/controls",
          "model_name": "HBoxModel",
          "model_module_version": "1.5.0",
          "state": {
            "_dom_classes": [],
            "_model_module": "@jupyter-widgets/controls",
            "_model_module_version": "1.5.0",
            "_model_name": "HBoxModel",
            "_view_count": null,
            "_view_module": "@jupyter-widgets/controls",
            "_view_module_version": "1.5.0",
            "_view_name": "HBoxView",
            "box_style": "",
            "children": [
              "IPY_MODEL_7a1a6944ffe4431bbaf4552b6e23968b",
              "IPY_MODEL_63252d182f5149c7bc5568f11b7df0c0",
              "IPY_MODEL_1e4f5d82622d4f26a2f1df2a35a238d7"
            ],
            "layout": "IPY_MODEL_1043149efca54675b746ce0ea9fac6b4"
          }
        },
        "7a1a6944ffe4431bbaf4552b6e23968b": {
          "model_module": "@jupyter-widgets/controls",
          "model_name": "HTMLModel",
          "model_module_version": "1.5.0",
          "state": {
            "_dom_classes": [],
            "_model_module": "@jupyter-widgets/controls",
            "_model_module_version": "1.5.0",
            "_model_name": "HTMLModel",
            "_view_count": null,
            "_view_module": "@jupyter-widgets/controls",
            "_view_module_version": "1.5.0",
            "_view_name": "HTMLView",
            "description": "",
            "description_tooltip": null,
            "layout": "IPY_MODEL_0b79b0e2468f4183b7c820ba8d49adce",
            "placeholder": "​",
            "style": "IPY_MODEL_1a953c63a4294e3f940d482c9ddb1053",
            "value": "tokenizer.json: 100%"
          }
        },
        "63252d182f5149c7bc5568f11b7df0c0": {
          "model_module": "@jupyter-widgets/controls",
          "model_name": "FloatProgressModel",
          "model_module_version": "1.5.0",
          "state": {
            "_dom_classes": [],
            "_model_module": "@jupyter-widgets/controls",
            "_model_module_version": "1.5.0",
            "_model_name": "FloatProgressModel",
            "_view_count": null,
            "_view_module": "@jupyter-widgets/controls",
            "_view_module_version": "1.5.0",
            "_view_name": "ProgressView",
            "bar_style": "success",
            "description": "",
            "description_tooltip": null,
            "layout": "IPY_MODEL_53108072483c44f2bc2043b0c4459dba",
            "max": 1355256,
            "min": 0,
            "orientation": "horizontal",
            "style": "IPY_MODEL_cdb09826c52e4f43836c2a1c44e8ee8d",
            "value": 1355256
          }
        },
        "1e4f5d82622d4f26a2f1df2a35a238d7": {
          "model_module": "@jupyter-widgets/controls",
          "model_name": "HTMLModel",
          "model_module_version": "1.5.0",
          "state": {
            "_dom_classes": [],
            "_model_module": "@jupyter-widgets/controls",
            "_model_module_version": "1.5.0",
            "_model_name": "HTMLModel",
            "_view_count": null,
            "_view_module": "@jupyter-widgets/controls",
            "_view_module_version": "1.5.0",
            "_view_name": "HTMLView",
            "description": "",
            "description_tooltip": null,
            "layout": "IPY_MODEL_9282cbc8649448178d803b9a67a02b20",
            "placeholder": "​",
            "style": "IPY_MODEL_addb02f3c0ad400abaf6055943553504",
            "value": " 1.36M/1.36M [00:00&lt;00:00, 1.91MB/s]"
          }
        },
        "1043149efca54675b746ce0ea9fac6b4": {
          "model_module": "@jupyter-widgets/base",
          "model_name": "LayoutModel",
          "model_module_version": "1.2.0",
          "state": {
            "_model_module": "@jupyter-widgets/base",
            "_model_module_version": "1.2.0",
            "_model_name": "LayoutModel",
            "_view_count": null,
            "_view_module": "@jupyter-widgets/base",
            "_view_module_version": "1.2.0",
            "_view_name": "LayoutView",
            "align_content": null,
            "align_items": null,
            "align_self": null,
            "border": null,
            "bottom": null,
            "display": null,
            "flex": null,
            "flex_flow": null,
            "grid_area": null,
            "grid_auto_columns": null,
            "grid_auto_flow": null,
            "grid_auto_rows": null,
            "grid_column": null,
            "grid_gap": null,
            "grid_row": null,
            "grid_template_areas": null,
            "grid_template_columns": null,
            "grid_template_rows": null,
            "height": null,
            "justify_content": null,
            "justify_items": null,
            "left": null,
            "margin": null,
            "max_height": null,
            "max_width": null,
            "min_height": null,
            "min_width": null,
            "object_fit": null,
            "object_position": null,
            "order": null,
            "overflow": null,
            "overflow_x": null,
            "overflow_y": null,
            "padding": null,
            "right": null,
            "top": null,
            "visibility": null,
            "width": null
          }
        },
        "0b79b0e2468f4183b7c820ba8d49adce": {
          "model_module": "@jupyter-widgets/base",
          "model_name": "LayoutModel",
          "model_module_version": "1.2.0",
          "state": {
            "_model_module": "@jupyter-widgets/base",
            "_model_module_version": "1.2.0",
            "_model_name": "LayoutModel",
            "_view_count": null,
            "_view_module": "@jupyter-widgets/base",
            "_view_module_version": "1.2.0",
            "_view_name": "LayoutView",
            "align_content": null,
            "align_items": null,
            "align_self": null,
            "border": null,
            "bottom": null,
            "display": null,
            "flex": null,
            "flex_flow": null,
            "grid_area": null,
            "grid_auto_columns": null,
            "grid_auto_flow": null,
            "grid_auto_rows": null,
            "grid_column": null,
            "grid_gap": null,
            "grid_row": null,
            "grid_template_areas": null,
            "grid_template_columns": null,
            "grid_template_rows": null,
            "height": null,
            "justify_content": null,
            "justify_items": null,
            "left": null,
            "margin": null,
            "max_height": null,
            "max_width": null,
            "min_height": null,
            "min_width": null,
            "object_fit": null,
            "object_position": null,
            "order": null,
            "overflow": null,
            "overflow_x": null,
            "overflow_y": null,
            "padding": null,
            "right": null,
            "top": null,
            "visibility": null,
            "width": null
          }
        },
        "1a953c63a4294e3f940d482c9ddb1053": {
          "model_module": "@jupyter-widgets/controls",
          "model_name": "DescriptionStyleModel",
          "model_module_version": "1.5.0",
          "state": {
            "_model_module": "@jupyter-widgets/controls",
            "_model_module_version": "1.5.0",
            "_model_name": "DescriptionStyleModel",
            "_view_count": null,
            "_view_module": "@jupyter-widgets/base",
            "_view_module_version": "1.2.0",
            "_view_name": "StyleView",
            "description_width": ""
          }
        },
        "53108072483c44f2bc2043b0c4459dba": {
          "model_module": "@jupyter-widgets/base",
          "model_name": "LayoutModel",
          "model_module_version": "1.2.0",
          "state": {
            "_model_module": "@jupyter-widgets/base",
            "_model_module_version": "1.2.0",
            "_model_name": "LayoutModel",
            "_view_count": null,
            "_view_module": "@jupyter-widgets/base",
            "_view_module_version": "1.2.0",
            "_view_name": "LayoutView",
            "align_content": null,
            "align_items": null,
            "align_self": null,
            "border": null,
            "bottom": null,
            "display": null,
            "flex": null,
            "flex_flow": null,
            "grid_area": null,
            "grid_auto_columns": null,
            "grid_auto_flow": null,
            "grid_auto_rows": null,
            "grid_column": null,
            "grid_gap": null,
            "grid_row": null,
            "grid_template_areas": null,
            "grid_template_columns": null,
            "grid_template_rows": null,
            "height": null,
            "justify_content": null,
            "justify_items": null,
            "left": null,
            "margin": null,
            "max_height": null,
            "max_width": null,
            "min_height": null,
            "min_width": null,
            "object_fit": null,
            "object_position": null,
            "order": null,
            "overflow": null,
            "overflow_x": null,
            "overflow_y": null,
            "padding": null,
            "right": null,
            "top": null,
            "visibility": null,
            "width": null
          }
        },
        "cdb09826c52e4f43836c2a1c44e8ee8d": {
          "model_module": "@jupyter-widgets/controls",
          "model_name": "ProgressStyleModel",
          "model_module_version": "1.5.0",
          "state": {
            "_model_module": "@jupyter-widgets/controls",
            "_model_module_version": "1.5.0",
            "_model_name": "ProgressStyleModel",
            "_view_count": null,
            "_view_module": "@jupyter-widgets/base",
            "_view_module_version": "1.2.0",
            "_view_name": "StyleView",
            "bar_color": null,
            "description_width": ""
          }
        },
        "9282cbc8649448178d803b9a67a02b20": {
          "model_module": "@jupyter-widgets/base",
          "model_name": "LayoutModel",
          "model_module_version": "1.2.0",
          "state": {
            "_model_module": "@jupyter-widgets/base",
            "_model_module_version": "1.2.0",
            "_model_name": "LayoutModel",
            "_view_count": null,
            "_view_module": "@jupyter-widgets/base",
            "_view_module_version": "1.2.0",
            "_view_name": "LayoutView",
            "align_content": null,
            "align_items": null,
            "align_self": null,
            "border": null,
            "bottom": null,
            "display": null,
            "flex": null,
            "flex_flow": null,
            "grid_area": null,
            "grid_auto_columns": null,
            "grid_auto_flow": null,
            "grid_auto_rows": null,
            "grid_column": null,
            "grid_gap": null,
            "grid_row": null,
            "grid_template_areas": null,
            "grid_template_columns": null,
            "grid_template_rows": null,
            "height": null,
            "justify_content": null,
            "justify_items": null,
            "left": null,
            "margin": null,
            "max_height": null,
            "max_width": null,
            "min_height": null,
            "min_width": null,
            "object_fit": null,
            "object_position": null,
            "order": null,
            "overflow": null,
            "overflow_x": null,
            "overflow_y": null,
            "padding": null,
            "right": null,
            "top": null,
            "visibility": null,
            "width": null
          }
        },
        "addb02f3c0ad400abaf6055943553504": {
          "model_module": "@jupyter-widgets/controls",
          "model_name": "DescriptionStyleModel",
          "model_module_version": "1.5.0",
          "state": {
            "_model_module": "@jupyter-widgets/controls",
            "_model_module_version": "1.5.0",
            "_model_name": "DescriptionStyleModel",
            "_view_count": null,
            "_view_module": "@jupyter-widgets/base",
            "_view_module_version": "1.2.0",
            "_view_name": "StyleView",
            "description_width": ""
          }
        },
        "fc630ef8229e4a069bafcb3b16611590": {
          "model_module": "@jupyter-widgets/controls",
          "model_name": "HBoxModel",
          "model_module_version": "1.5.0",
          "state": {
            "_dom_classes": [],
            "_model_module": "@jupyter-widgets/controls",
            "_model_module_version": "1.5.0",
            "_model_name": "HBoxModel",
            "_view_count": null,
            "_view_module": "@jupyter-widgets/controls",
            "_view_module_version": "1.5.0",
            "_view_name": "HBoxView",
            "box_style": "",
            "children": [
              "IPY_MODEL_6a856d9bbab24226b55ae74e992e2307",
              "IPY_MODEL_c2091799ab1e4db2899e2a5ff6010e2c",
              "IPY_MODEL_a8c51e247dc5433694dd4d9ec2c2fc2f"
            ],
            "layout": "IPY_MODEL_a684fd6f2d06422e9c41d764c5e2dda3"
          }
        },
        "6a856d9bbab24226b55ae74e992e2307": {
          "model_module": "@jupyter-widgets/controls",
          "model_name": "HTMLModel",
          "model_module_version": "1.5.0",
          "state": {
            "_dom_classes": [],
            "_model_module": "@jupyter-widgets/controls",
            "_model_module_version": "1.5.0",
            "_model_name": "HTMLModel",
            "_view_count": null,
            "_view_module": "@jupyter-widgets/controls",
            "_view_module_version": "1.5.0",
            "_view_name": "HTMLView",
            "description": "",
            "description_tooltip": null,
            "layout": "IPY_MODEL_7b6b3495615d476d82e8843306cf9f8c",
            "placeholder": "​",
            "style": "IPY_MODEL_1cb4a7201862413a884692f571849cba",
            "value": "config.json: 100%"
          }
        },
        "c2091799ab1e4db2899e2a5ff6010e2c": {
          "model_module": "@jupyter-widgets/controls",
          "model_name": "FloatProgressModel",
          "model_module_version": "1.5.0",
          "state": {
            "_dom_classes": [],
            "_model_module": "@jupyter-widgets/controls",
            "_model_module_version": "1.5.0",
            "_model_name": "FloatProgressModel",
            "_view_count": null,
            "_view_module": "@jupyter-widgets/controls",
            "_view_module_version": "1.5.0",
            "_view_name": "ProgressView",
            "bar_style": "success",
            "description": "",
            "description_tooltip": null,
            "layout": "IPY_MODEL_02c0b74ee48644d3a1c2dec8d355cde0",
            "max": 665,
            "min": 0,
            "orientation": "horizontal",
            "style": "IPY_MODEL_26a45b0540d84817a5ca074901f0e7c6",
            "value": 665
          }
        },
        "a8c51e247dc5433694dd4d9ec2c2fc2f": {
          "model_module": "@jupyter-widgets/controls",
          "model_name": "HTMLModel",
          "model_module_version": "1.5.0",
          "state": {
            "_dom_classes": [],
            "_model_module": "@jupyter-widgets/controls",
            "_model_module_version": "1.5.0",
            "_model_name": "HTMLModel",
            "_view_count": null,
            "_view_module": "@jupyter-widgets/controls",
            "_view_module_version": "1.5.0",
            "_view_name": "HTMLView",
            "description": "",
            "description_tooltip": null,
            "layout": "IPY_MODEL_14f86bae47454af5ba39b89e92e6efa0",
            "placeholder": "​",
            "style": "IPY_MODEL_a8818719dad64abfa38c9bfd35c7fa6d",
            "value": " 665/665 [00:00&lt;00:00, 58.0kB/s]"
          }
        },
        "a684fd6f2d06422e9c41d764c5e2dda3": {
          "model_module": "@jupyter-widgets/base",
          "model_name": "LayoutModel",
          "model_module_version": "1.2.0",
          "state": {
            "_model_module": "@jupyter-widgets/base",
            "_model_module_version": "1.2.0",
            "_model_name": "LayoutModel",
            "_view_count": null,
            "_view_module": "@jupyter-widgets/base",
            "_view_module_version": "1.2.0",
            "_view_name": "LayoutView",
            "align_content": null,
            "align_items": null,
            "align_self": null,
            "border": null,
            "bottom": null,
            "display": null,
            "flex": null,
            "flex_flow": null,
            "grid_area": null,
            "grid_auto_columns": null,
            "grid_auto_flow": null,
            "grid_auto_rows": null,
            "grid_column": null,
            "grid_gap": null,
            "grid_row": null,
            "grid_template_areas": null,
            "grid_template_columns": null,
            "grid_template_rows": null,
            "height": null,
            "justify_content": null,
            "justify_items": null,
            "left": null,
            "margin": null,
            "max_height": null,
            "max_width": null,
            "min_height": null,
            "min_width": null,
            "object_fit": null,
            "object_position": null,
            "order": null,
            "overflow": null,
            "overflow_x": null,
            "overflow_y": null,
            "padding": null,
            "right": null,
            "top": null,
            "visibility": null,
            "width": null
          }
        },
        "7b6b3495615d476d82e8843306cf9f8c": {
          "model_module": "@jupyter-widgets/base",
          "model_name": "LayoutModel",
          "model_module_version": "1.2.0",
          "state": {
            "_model_module": "@jupyter-widgets/base",
            "_model_module_version": "1.2.0",
            "_model_name": "LayoutModel",
            "_view_count": null,
            "_view_module": "@jupyter-widgets/base",
            "_view_module_version": "1.2.0",
            "_view_name": "LayoutView",
            "align_content": null,
            "align_items": null,
            "align_self": null,
            "border": null,
            "bottom": null,
            "display": null,
            "flex": null,
            "flex_flow": null,
            "grid_area": null,
            "grid_auto_columns": null,
            "grid_auto_flow": null,
            "grid_auto_rows": null,
            "grid_column": null,
            "grid_gap": null,
            "grid_row": null,
            "grid_template_areas": null,
            "grid_template_columns": null,
            "grid_template_rows": null,
            "height": null,
            "justify_content": null,
            "justify_items": null,
            "left": null,
            "margin": null,
            "max_height": null,
            "max_width": null,
            "min_height": null,
            "min_width": null,
            "object_fit": null,
            "object_position": null,
            "order": null,
            "overflow": null,
            "overflow_x": null,
            "overflow_y": null,
            "padding": null,
            "right": null,
            "top": null,
            "visibility": null,
            "width": null
          }
        },
        "1cb4a7201862413a884692f571849cba": {
          "model_module": "@jupyter-widgets/controls",
          "model_name": "DescriptionStyleModel",
          "model_module_version": "1.5.0",
          "state": {
            "_model_module": "@jupyter-widgets/controls",
            "_model_module_version": "1.5.0",
            "_model_name": "DescriptionStyleModel",
            "_view_count": null,
            "_view_module": "@jupyter-widgets/base",
            "_view_module_version": "1.2.0",
            "_view_name": "StyleView",
            "description_width": ""
          }
        },
        "02c0b74ee48644d3a1c2dec8d355cde0": {
          "model_module": "@jupyter-widgets/base",
          "model_name": "LayoutModel",
          "model_module_version": "1.2.0",
          "state": {
            "_model_module": "@jupyter-widgets/base",
            "_model_module_version": "1.2.0",
            "_model_name": "LayoutModel",
            "_view_count": null,
            "_view_module": "@jupyter-widgets/base",
            "_view_module_version": "1.2.0",
            "_view_name": "LayoutView",
            "align_content": null,
            "align_items": null,
            "align_self": null,
            "border": null,
            "bottom": null,
            "display": null,
            "flex": null,
            "flex_flow": null,
            "grid_area": null,
            "grid_auto_columns": null,
            "grid_auto_flow": null,
            "grid_auto_rows": null,
            "grid_column": null,
            "grid_gap": null,
            "grid_row": null,
            "grid_template_areas": null,
            "grid_template_columns": null,
            "grid_template_rows": null,
            "height": null,
            "justify_content": null,
            "justify_items": null,
            "left": null,
            "margin": null,
            "max_height": null,
            "max_width": null,
            "min_height": null,
            "min_width": null,
            "object_fit": null,
            "object_position": null,
            "order": null,
            "overflow": null,
            "overflow_x": null,
            "overflow_y": null,
            "padding": null,
            "right": null,
            "top": null,
            "visibility": null,
            "width": null
          }
        },
        "26a45b0540d84817a5ca074901f0e7c6": {
          "model_module": "@jupyter-widgets/controls",
          "model_name": "ProgressStyleModel",
          "model_module_version": "1.5.0",
          "state": {
            "_model_module": "@jupyter-widgets/controls",
            "_model_module_version": "1.5.0",
            "_model_name": "ProgressStyleModel",
            "_view_count": null,
            "_view_module": "@jupyter-widgets/base",
            "_view_module_version": "1.2.0",
            "_view_name": "StyleView",
            "bar_color": null,
            "description_width": ""
          }
        },
        "14f86bae47454af5ba39b89e92e6efa0": {
          "model_module": "@jupyter-widgets/base",
          "model_name": "LayoutModel",
          "model_module_version": "1.2.0",
          "state": {
            "_model_module": "@jupyter-widgets/base",
            "_model_module_version": "1.2.0",
            "_model_name": "LayoutModel",
            "_view_count": null,
            "_view_module": "@jupyter-widgets/base",
            "_view_module_version": "1.2.0",
            "_view_name": "LayoutView",
            "align_content": null,
            "align_items": null,
            "align_self": null,
            "border": null,
            "bottom": null,
            "display": null,
            "flex": null,
            "flex_flow": null,
            "grid_area": null,
            "grid_auto_columns": null,
            "grid_auto_flow": null,
            "grid_auto_rows": null,
            "grid_column": null,
            "grid_gap": null,
            "grid_row": null,
            "grid_template_areas": null,
            "grid_template_columns": null,
            "grid_template_rows": null,
            "height": null,
            "justify_content": null,
            "justify_items": null,
            "left": null,
            "margin": null,
            "max_height": null,
            "max_width": null,
            "min_height": null,
            "min_width": null,
            "object_fit": null,
            "object_position": null,
            "order": null,
            "overflow": null,
            "overflow_x": null,
            "overflow_y": null,
            "padding": null,
            "right": null,
            "top": null,
            "visibility": null,
            "width": null
          }
        },
        "a8818719dad64abfa38c9bfd35c7fa6d": {
          "model_module": "@jupyter-widgets/controls",
          "model_name": "DescriptionStyleModel",
          "model_module_version": "1.5.0",
          "state": {
            "_model_module": "@jupyter-widgets/controls",
            "_model_module_version": "1.5.0",
            "_model_name": "DescriptionStyleModel",
            "_view_count": null,
            "_view_module": "@jupyter-widgets/base",
            "_view_module_version": "1.2.0",
            "_view_name": "StyleView",
            "description_width": ""
          }
        }
      }
    }
  },
  "cells": [
    {
      "cell_type": "markdown",
      "metadata": {
        "id": "view-in-github",
        "colab_type": "text"
      },
      "source": [
        "<a href=\"https://colab.research.google.com/github/olonok69/LLM_Notebooks/blob/main/summarization/Langchain_T5_base_Document_summarizer.ipynb\" target=\"_parent\"><img src=\"https://colab.research.google.com/assets/colab-badge.svg\" alt=\"Open In Colab\"/></a>"
      ]
    },
    {
      "cell_type": "code",
      "execution_count": 1,
      "metadata": {
        "colab": {
          "base_uri": "https://localhost:8080/"
        },
        "id": "e3LFaHkF9AgK",
        "outputId": "055715b1-91e8-4697-8036-5ec32c0b4e37"
      },
      "outputs": [
        {
          "output_type": "stream",
          "name": "stdout",
          "text": [
            "\u001b[33mWARNING: Running pip as the 'root' user can result in broken permissions and conflicting behaviour with the system package manager. It is recommended to use a virtual environment instead: https://pip.pypa.io/warnings/venv\u001b[0m\u001b[33m\n",
            "\u001b[0m\u001b[33mWARNING: Running pip as the 'root' user can result in broken permissions and conflicting behaviour with the system package manager. It is recommended to use a virtual environment instead: https://pip.pypa.io/warnings/venv\u001b[0m\u001b[33m\n",
            "\u001b[0m\u001b[33mWARNING: Running pip as the 'root' user can result in broken permissions and conflicting behaviour with the system package manager. It is recommended to use a virtual environment instead: https://pip.pypa.io/warnings/venv\u001b[0m\u001b[33m\n",
            "\u001b[0m\u001b[33mWARNING: Running pip as the 'root' user can result in broken permissions and conflicting behaviour with the system package manager. It is recommended to use a virtual environment instead: https://pip.pypa.io/warnings/venv\u001b[0m\u001b[33m\n",
            "\u001b[0m\u001b[31mERROR: pip's dependency resolver does not currently take into account all the packages that are installed. This behaviour is the source of the following dependency conflicts.\n",
            "ibis-framework 7.1.0 requires pyarrow<15,>=2, but you have pyarrow 15.0.0 which is incompatible.\u001b[0m\u001b[31m\n",
            "\u001b[0m\u001b[33mWARNING: Running pip as the 'root' user can result in broken permissions and conflicting behaviour with the system package manager. It is recommended to use a virtual environment instead: https://pip.pypa.io/warnings/venv\u001b[0m\u001b[33m\n",
            "\u001b[0m"
          ]
        }
      ],
      "source": [
        "!pip install -Uqqq pip --progress-bar off\n",
        "!pip install -qqq torch==2.1 --progress-bar off\n",
        "!pip install -qqq transformers==4.34.0 --progress-bar off\n",
        "!pip install -qqq accelerate==0.23.0 --progress-bar off\n",
        "!pip install -qqq bitsandbytes==0.41.1 --progress-bar off\n",
        "!pip install sentence-transformers spacy langchain trl datasets pypdf -qqq --progress-bar off"
      ]
    },
    {
      "cell_type": "code",
      "source": [
        "from langchain.text_splitter import SentenceTransformersTokenTextSplitter\n",
        "from langchain.document_loaders import DirectoryLoader, TextLoader\n",
        "\n",
        "# Loaders\n",
        "from langchain.schema import Document\n",
        "\n",
        "# Splitters\n",
        "from langchain.text_splitter import RecursiveCharacterTextSplitter\n",
        "\n",
        "# Model\n",
        "\n",
        "\n",
        "# Embedding Support\n",
        "from langchain.vectorstores import FAISS\n",
        "from langchain.embeddings import HuggingFaceEmbeddings\n",
        "\n",
        "# Summarizer we'll use for Map Reduce\n",
        "from langchain.chains.summarize import load_summarize_chain\n",
        "\n",
        "# Data Science\n",
        "import numpy as np\n",
        "from sklearn.cluster import KMeans\n",
        "\n",
        "\n",
        "#splitter = SentenceTransformersTokenTextSplitter(chunk_overlap=30, tokens_per_chunk=512, model_name= \"sentence-transformers/gtr-t5-large\")"
      ],
      "metadata": {
        "id": "ip_uhu9L9kof"
      },
      "execution_count": 2,
      "outputs": []
    },
    {
      "cell_type": "code",
      "source": [
        "from google.colab import drive\n",
        "drive.mount('/content/drive')"
      ],
      "metadata": {
        "colab": {
          "base_uri": "https://localhost:8080/"
        },
        "id": "i6rUNtCzKsyR",
        "outputId": "6100ae54-0959-4594-fd59-d9f8fbd56dd9"
      },
      "execution_count": 3,
      "outputs": [
        {
          "output_type": "stream",
          "name": "stdout",
          "text": [
            "Mounted at /content/drive\n"
          ]
        }
      ]
    },
    {
      "cell_type": "code",
      "source": [
        "import requests\n",
        "\n",
        "response = requests.get(\"https://www.gutenberg.org/cache/epub/64317/pg64317.txt\")"
      ],
      "metadata": {
        "id": "qDSb12ivAsnm"
      },
      "execution_count": 4,
      "outputs": []
    },
    {
      "cell_type": "code",
      "source": [
        "book_complete_text = response.text"
      ],
      "metadata": {
        "id": "1X7_iELMA24V"
      },
      "execution_count": 5,
      "outputs": []
    },
    {
      "cell_type": "code",
      "source": [
        "book_complete_text = book_complete_text[5:]"
      ],
      "metadata": {
        "id": "tVp1hwM7yGRf"
      },
      "execution_count": 6,
      "outputs": []
    },
    {
      "cell_type": "code",
      "source": [
        "len(book_complete_text)"
      ],
      "metadata": {
        "colab": {
          "base_uri": "https://localhost:8080/"
        },
        "id": "YKgdWQqCA4fl",
        "outputId": "cea6a71f-5104-4240-db33-5d70a1a2363e"
      },
      "execution_count": 7,
      "outputs": [
        {
          "output_type": "execute_result",
          "data": {
            "text/plain": [
              "296884"
            ]
          },
          "metadata": {},
          "execution_count": 7
        }
      ]
    },
    {
      "cell_type": "code",
      "source": [
        "file_path = \"/content/drive/MyDrive/data/book.txt\""
      ],
      "metadata": {
        "id": "COC8KgjlA-IF"
      },
      "execution_count": 8,
      "outputs": []
    },
    {
      "cell_type": "code",
      "source": [
        "with open(file_path, \"w\", encoding=\"utf-8\") as f:\n",
        "    f.write(book_complete_text)"
      ],
      "metadata": {
        "id": "MB1lTJ1RA7e0"
      },
      "execution_count": 9,
      "outputs": []
    },
    {
      "cell_type": "code",
      "source": [
        "\n",
        "with open(file_path, \"r\",  encoding=\"utf-8\") as f:\n",
        "    text = f.read()"
      ],
      "metadata": {
        "id": "HxPVavEf9klX"
      },
      "execution_count": 10,
      "outputs": []
    },
    {
      "cell_type": "code",
      "source": [
        "text = text.replace('\\t', ' ')"
      ],
      "metadata": {
        "id": "ZX6MHp-ky-_X"
      },
      "execution_count": 11,
      "outputs": []
    },
    {
      "cell_type": "code",
      "source": [
        "len(text)"
      ],
      "metadata": {
        "colab": {
          "base_uri": "https://localhost:8080/"
        },
        "id": "QHMtl9KgzVU0",
        "outputId": "a893e89f-cc9d-4efd-ee91-7144ba7d9573"
      },
      "execution_count": 12,
      "outputs": [
        {
          "output_type": "execute_result",
          "data": {
            "text/plain": [
              "290101"
            ]
          },
          "metadata": {},
          "execution_count": 12
        }
      ]
    },
    {
      "cell_type": "code",
      "source": [
        "text_splitter = RecursiveCharacterTextSplitter(separators=[\"\\n\\n\", \"\\n\", \"\\t\"], chunk_size=4500, chunk_overlap=1000)\n",
        "\n"
      ],
      "metadata": {
        "id": "KKaIuJi9BKON"
      },
      "execution_count": 53,
      "outputs": []
    },
    {
      "cell_type": "code",
      "source": [
        "docs = text_splitter.create_documents([text])\n",
        "num_documents = len(docs)\n",
        "\n",
        "print (f\"Now our book is split up into {num_documents} documents\")"
      ],
      "metadata": {
        "colab": {
          "base_uri": "https://localhost:8080/"
        },
        "id": "FaSxJgZWBKK7",
        "outputId": "50392836-aaf0-407a-f044-e6425faaa63f"
      },
      "execution_count": 54,
      "outputs": [
        {
          "output_type": "stream",
          "name": "stdout",
          "text": [
            "Now our book is split up into 83 documents\n"
          ]
        }
      ]
    },
    {
      "cell_type": "code",
      "source": [
        "model_name = \"sentence-transformers/gtr-t5-base\"\n",
        "model_kwargs = {'device': 'cpu'}\n",
        "encode_kwargs = {'normalize_embeddings': False}\n",
        "embeddings = HuggingFaceEmbeddings(\n",
        "    model_name=model_name,\n",
        "    model_kwargs=model_kwargs,\n",
        "    encode_kwargs=encode_kwargs\n",
        ")\n",
        "\n",
        "\n",
        "\n",
        "\n",
        "vectors = embeddings.embed_documents([x.page_content for x in docs])"
      ],
      "metadata": {
        "id": "Kj0a9QspBKHH"
      },
      "execution_count": 55,
      "outputs": []
    },
    {
      "cell_type": "code",
      "source": [
        "len(vectors[0])"
      ],
      "metadata": {
        "colab": {
          "base_uri": "https://localhost:8080/"
        },
        "id": "wnjkLByMBKDF",
        "outputId": "7656c6c2-c7ee-4013-b30a-ba5dbf71944e"
      },
      "execution_count": 56,
      "outputs": [
        {
          "output_type": "execute_result",
          "data": {
            "text/plain": [
              "768"
            ]
          },
          "metadata": {},
          "execution_count": 56
        }
      ]
    },
    {
      "cell_type": "code",
      "source": [
        "num_clusters = int(len(vectors) // 4)\n",
        "num_clusters"
      ],
      "metadata": {
        "colab": {
          "base_uri": "https://localhost:8080/"
        },
        "id": "c9WqZHJGEhJQ",
        "outputId": "53b2c379-ab03-4d48-9380-4553d8ed6b81"
      },
      "execution_count": 57,
      "outputs": [
        {
          "output_type": "execute_result",
          "data": {
            "text/plain": [
              "20"
            ]
          },
          "metadata": {},
          "execution_count": 57
        }
      ]
    },
    {
      "cell_type": "code",
      "source": [
        "# Assuming 'embeddings' is a list or array of 768-dimensional embeddings\n",
        "\n",
        "# Choose the number of clusters, this can be adjusted based on the book's content.\n",
        "# I played around and found ~10 was the best.\n",
        "# Usually if you have 10 passages from a book you can tell what it's about\n",
        "num_clusters = 5 if num_clusters <=5 else num_clusters\n",
        "\n",
        "# Perform K-means clustering\n",
        "kmeans = KMeans(n_clusters=num_clusters, random_state=42).fit(vectors)"
      ],
      "metadata": {
        "id": "A82raZvaB2NY"
      },
      "execution_count": 58,
      "outputs": []
    },
    {
      "cell_type": "code",
      "source": [
        "kmeans.labels_"
      ],
      "metadata": {
        "colab": {
          "base_uri": "https://localhost:8080/"
        },
        "id": "Hk5VRB78B2KG",
        "outputId": "62ccfcf5-6d67-482b-e4f5-2b32ba891793"
      },
      "execution_count": 59,
      "outputs": [
        {
          "output_type": "execute_result",
          "data": {
            "text/plain": [
              "array([ 1, 17,  4,  6,  4,  4,  4,  4,  4,  8,  2,  6, 13, 13, 13, 19, 13,\n",
              "       19,  3,  3,  3,  3,  3, 14,  8,  4,  3, 14, 11, 19,  5,  5,  4,  2,\n",
              "        7, 14,  8,  4,  8,  8,  7,  0, 10, 10,  2,  7,  4,  9, 14,  7,  8,\n",
              "        6,  6,  6, 18,  9,  9,  8, 15,  6,  6,  2,  0,  7,  8, 14, 19, 15,\n",
              "       15, 19,  5, 16,  5, 16,  8, 17,  2,  0, 12, 12, 12, 12, 12],\n",
              "      dtype=int32)"
            ]
          },
          "metadata": {},
          "execution_count": 59
        }
      ]
    },
    {
      "cell_type": "code",
      "source": [
        "len(kmeans.labels_)"
      ],
      "metadata": {
        "colab": {
          "base_uri": "https://localhost:8080/"
        },
        "id": "X8VSz9TIB2HZ",
        "outputId": "dc615c8c-3559-4185-b04e-0b3296a23e07"
      },
      "execution_count": 60,
      "outputs": [
        {
          "output_type": "execute_result",
          "data": {
            "text/plain": [
              "83"
            ]
          },
          "metadata": {},
          "execution_count": 60
        }
      ]
    },
    {
      "cell_type": "code",
      "source": [
        "from sklearn.manifold import TSNE\n",
        "import matplotlib.pyplot as plt\n",
        "import numpy as np\n",
        "# Taking out the warnings\n",
        "import warnings\n",
        "from warnings import simplefilter\n",
        "\n",
        "# Filter out FutureWarnings\n",
        "simplefilter(action='ignore', category=FutureWarning)\n",
        "\n",
        "# Perform t-SNE and reduce to 2 dimensions\n",
        "tsne = TSNE(n_components=2, random_state=42)\n",
        "reduced_data_tsne = tsne.fit_transform(np.array(vectors))\n",
        "\n",
        "# Plot the reduced data\n",
        "plt.scatter(reduced_data_tsne[:, 0], reduced_data_tsne[:, 1], c=kmeans.labels_)\n",
        "plt.xlabel('Dimension 1')\n",
        "plt.ylabel('Dimension 2')\n",
        "plt.title('Book Embeddings Clustered')\n",
        "plt.show()"
      ],
      "metadata": {
        "colab": {
          "base_uri": "https://localhost:8080/",
          "height": 472
        },
        "id": "kjl4n0fHB2En",
        "outputId": "26f9babf-cb4b-4987-ef3f-e7eadb16f4f8"
      },
      "execution_count": 61,
      "outputs": [
        {
          "output_type": "display_data",
          "data": {
            "text/plain": [
              "<Figure size 640x480 with 1 Axes>"
            ],
            "image/png": "[encoded data removed]"
          },
          "metadata": {}
        }
      ]
    },
    {
      "cell_type": "code",
      "source": [
        "# Find the closest embeddings to the centroids\n",
        "\n",
        "# Create an empty list that will hold your closest points\n",
        "closest_indices = []\n",
        "\n",
        "# Loop through the number of clusters you have\n",
        "for i in range(num_clusters):\n",
        "\n",
        "    # Get the list of distances from that particular cluster center\n",
        "    distances = np.linalg.norm(vectors - kmeans.cluster_centers_[i], axis=1)\n",
        "\n",
        "    # Find the list position of the closest one (using argmin to find the smallest distance)\n",
        "    closest_index = np.argmin(distances)\n",
        "\n",
        "    # Append that position to your closest indices list\n",
        "    closest_indices.append(closest_index)"
      ],
      "metadata": {
        "id": "y4vyHnUtB2B7"
      },
      "execution_count": 62,
      "outputs": []
    },
    {
      "cell_type": "code",
      "source": [
        "selected_indices = sorted(closest_indices)\n",
        "selected_indices"
      ],
      "metadata": {
        "colab": {
          "base_uri": "https://localhost:8080/"
        },
        "id": "MltvvttCDd48",
        "outputId": "7b952be9-ef93-4717-ff70-f57eb836af1d"
      },
      "execution_count": 63,
      "outputs": [
        {
          "output_type": "execute_result",
          "data": {
            "text/plain": [
              "[0, 1, 5, 14, 19, 28, 38, 42, 49, 54, 56, 58, 60, 62, 65, 66, 70, 71, 76, 78]"
            ]
          },
          "metadata": {},
          "execution_count": 63
        }
      ]
    },
    {
      "cell_type": "code",
      "source": [
        "# Import libraries\n",
        "from transformers import AutoModelForCausalLM, AutoTokenizer\n",
        "import torch\n",
        "from langchain.llms import HuggingFacePipeline\n",
        "from langchain.chains import LLMChain\n",
        "from langchain.prompts import PromptTemplate\n",
        "import transformers\n",
        "device = 'cuda' if torch.cuda.is_available() else 'cpu'"
      ],
      "metadata": {
        "id": "NOzbh9bSM4zJ"
      },
      "execution_count": 64,
      "outputs": []
    },
    {
      "cell_type": "code",
      "source": [
        "device"
      ],
      "metadata": {
        "colab": {
          "base_uri": "https://localhost:8080/",
          "height": 35
        },
        "id": "um-qU1-KRO6e",
        "outputId": "4b77528c-e20c-4dce-b450-abeefd9a237b"
      },
      "execution_count": 65,
      "outputs": [
        {
          "output_type": "execute_result",
          "data": {
            "text/plain": [
              "'cuda'"
            ],
            "application/vnd.google.colaboratory.intrinsic+json": {
              "type": "string"
            }
          },
          "metadata": {},
          "execution_count": 65
        }
      ]
    },
    {
      "cell_type": "code",
      "source": [
        "text_summarization_pipeline = transformers.pipeline(\"summarization\", model=\"olonok/olonok_billsum_model\")\n",
        "\n",
        "\n",
        "llm = HuggingFacePipeline(pipeline=text_summarization_pipeline )"
      ],
      "metadata": {
        "id": "TcvV2EzKV7vM"
      },
      "execution_count": 43,
      "outputs": []
    },
    {
      "cell_type": "code",
      "source": [
        "map_prompt = \"\"\"\n",
        "Summarize a single passage of a book. The section will be enclosed in triple backticks (```)\n",
        "Your response should be at least three paragraphs and fully encompass what was said in the passage.\n",
        "\n",
        "```{text}```\n",
        "summary:\n",
        "\"\"\"\n",
        "map_prompt_template = PromptTemplate(template=map_prompt, input_variables=[\"text\"])"
      ],
      "metadata": {
        "id": "CLFVjgvIC3P0"
      },
      "execution_count": 39,
      "outputs": []
    },
    {
      "cell_type": "code",
      "source": [
        "map_chain = load_summarize_chain(llm=llm,\n",
        "                             chain_type=\"stuff\",\n",
        "                             prompt=map_prompt_template)"
      ],
      "metadata": {
        "id": "JKDpbQvUC3Mi"
      },
      "execution_count": 44,
      "outputs": []
    },
    {
      "cell_type": "code",
      "source": [
        "selected_docs = [docs[doc] for doc in selected_indices]"
      ],
      "metadata": {
        "id": "OJZAmYyADYgo"
      },
      "execution_count": 69,
      "outputs": []
    },
    {
      "cell_type": "code",
      "source": [
        "from transformers import pipeline\n",
        "\n",
        "summarizer = pipeline(\"summarization\", model=\"olonok/olonok_billsum_model\")"
      ],
      "metadata": {
        "id": "KRqD2zKPaibg"
      },
      "execution_count": 70,
      "outputs": []
    },
    {
      "cell_type": "code",
      "source": [
        "selected_docs[1].page_content"
      ],
      "metadata": {
        "colab": {
          "base_uri": "https://localhost:8080/",
          "height": 105
        },
        "id": "_S4mnqneaxtI",
        "outputId": "c125808f-7c36-4289-f8f9-6dd995e2a0e6"
      },
      "execution_count": 71,
      "outputs": [
        {
          "output_type": "execute_result",
          "data": {
            "text/plain": [
              "'------------------------------------------------------------------------\\n\\nMy family have been prominent, well-to-do people in this Middle\\nWestern city for three generations. The Carraways are something of a\\nclan, and we have a tradition that we’re descended from the Dukes of\\nBuccleuch, but the actual founder of my line was my grandfather’s\\nbrother, who came here in fifty-one, sent a substitute to the Civil\\nWar, and started the wholesale hardware business that my father\\ncarries on today.\\n\\nI never saw this great-uncle, but I’m supposed to look like him—with\\nspecial reference to the rather hard-boiled painting that hangs in\\nfather’s office. I graduated from New Haven in 1915, just a quarter of\\na century after my father, and a little later I participated in that\\ndelayed Teutonic migration known as the Great War. I enjoyed the\\ncounter-raid so thoroughly that I came back restless. Instead of being\\nthe warm centre of the world, the Middle West now seemed like the\\nragged edge of the universe—so I decided to go East and learn the bond\\nbusiness. Everybody I knew was in the bond business, so I supposed it\\ncould support one more single man. All my aunts and uncles talked it\\nover as if they were choosing a prep school for me, and finally said,\\n“Why—ye-es,” with very grave, hesitant faces. Father agreed to finance\\nme for a year, and after various delays I came East, permanently, I\\nthought, in the spring of twenty-two.\\n\\nThe practical thing was to find rooms in the city, but it was a warm\\nseason, and I had just left a country of wide lawns and friendly\\ntrees, so when a young man at the office suggested that we take a\\nhouse together in a commuting town, it sounded like a great idea. He\\nfound the house, a weather-beaten cardboard bungalow at eighty a\\nmonth, but at the last minute the firm ordered him to Washington, and\\nI went out to the country alone. I had a dog—at least I had him for a\\nfew days until he ran away—and an old Dodge and a Finnish woman, who\\nmade my bed and cooked breakfast and muttered Finnish wisdom to\\nherself over the electric stove.\\n\\nIt was lonely for a day or so until one morning some man, more\\nrecently arrived than I, stopped me on the road.\\n\\n“How do you get to West Egg village?” he asked helplessly.\\n\\nI told him. And as I walked on I was lonely no longer. I was a guide,\\na pathfinder, an original settler. He had casually conferred on me the\\nfreedom of the neighbourhood.\\n\\nAnd so with the sunshine and the great bursts of leaves growing on the\\ntrees, just as things grow in fast movies, I had that familiar\\nconviction that life was beginning over again with the summer.\\n\\nThere was so much to read, for one thing, and so much fine health to\\nbe pulled down out of the young breath-giving air. I bought a dozen\\nvolumes on banking and credit and investment securities, and they\\nstood on my shelf in red and gold like new money from the mint,\\npromising to unfold the shining secrets that only Midas and Morgan and\\nMaecenas knew. And I had the high intention of reading many other\\nbooks besides. I was rather literary in college—one year I wrote a\\nseries of very solemn and obvious editorials for the Yale News—and now\\nI was going to bring back all such things into my life and become\\nagain that most limited of all specialists, the “well-rounded man.”\\nThis isn’t just an epigram—life is much more successfully looked at\\nfrom a single window, after all.\\n\\nIt was a matter of chance that I should have rented a house in one of\\nthe strangest communities in North America. It was on that slender\\nriotous island which extends itself due east of New York—and where\\nthere are, among other natural curiosities, two unusual formations of\\nland. Twenty miles from the city a pair of enormous eggs, identical in\\ncontour and separated only by a courtesy bay, jut out into the most\\ndomesticated body of salt water in the Western hemisphere, the great\\nwet barnyard of Long Island Sound. They are not perfect ovals—like the\\negg in the Columbus story, they are both crushed flat at the contact\\nend—but their physical resemblance must be a source of perpetual\\nwonder to the gulls that fly overhead. To the wingless a more\\ninteresting phenomenon is their dissimilarity in every particular\\nexcept shape and size.'"
            ],
            "application/vnd.google.colaboratory.intrinsic+json": {
              "type": "string"
            }
          },
          "metadata": {},
          "execution_count": 71
        }
      ]
    },
    {
      "cell_type": "code",
      "source": [
        "response = summarizer(selected_docs[1].page_content)\n",
        "response[0]['summary_text']"
      ],
      "metadata": {
        "colab": {
          "base_uri": "https://localhost:8080/",
          "height": 70
        },
        "id": "8sZ4To6uav0D",
        "outputId": "6db74aed-b4b9-414f-9735-f8474ee76772"
      },
      "execution_count": 72,
      "outputs": [
        {
          "output_type": "stream",
          "name": "stderr",
          "text": [
            "Token indices sequence length is longer than the specified maximum sequence length for this model (1031 > 1024). Running this sequence through the model will result in indexing errors\n"
          ]
        },
        {
          "output_type": "execute_result",
          "data": {
            "text/plain": [
              "'a pair of enormous eggs, identical in contour and separated only by a courtesy bay, jut out into the most domesticated body of salt water in the Western hemisphere, the great wet barnyard of Long Island Sound . they are both crushed flat at the contact end, but their physical resemblance must be a source of perpetual wonder to the gulls that fly overhead. a more interesting phenomenon is their dissimilarity in every particular except shape and size.'"
            ],
            "application/vnd.google.colaboratory.intrinsic+json": {
              "type": "string"
            }
          },
          "metadata": {},
          "execution_count": 72
        }
      ]
    },
    {
      "cell_type": "code",
      "source": [
        "# Make an empty list to hold your summaries\n",
        "summary_list = []\n",
        "\n",
        "# Loop through a range of the lenght of your selected docs\n",
        "for i, doc in enumerate(selected_docs):\n",
        "\n",
        "    # Go get a summary of the chunk\n",
        "    #chunk_summary = map_chain.run([doc])\n",
        "    response = summarizer(doc.page_content)\n",
        "    chunk_summary = response[0]['summary_text']\n",
        "    # Append that summary to your list\n",
        "    summary_list.append(chunk_summary)\n",
        "\n",
        "    print (f\"Summary #{i} (chunk #{selected_indices[i]}) - Preview: {chunk_summary[:500]} \\n\")"
      ],
      "metadata": {
        "colab": {
          "base_uri": "https://localhost:8080/"
        },
        "id": "izaKwo_kDYJ4",
        "outputId": "717647ab-0add-4cf4-c2d6-cbe107ccafe3"
      },
      "execution_count": 73,
      "outputs": [
        {
          "output_type": "stream",
          "name": "stdout",
          "text": [
            "Summary #0 (chunk #0) - Preview: Project Gutenberg eBook of The Great Gatsby is for the use of anyone anywhere in the United States and most other parts of the world at no cost and with almost no restrictions whatsoever . you may copy it, give it away or re-use it under the terms of the project Gutenberg License included with this ebook or online at www.gutenberg.org . if you are not located in the US, you will have to check the laws of the country where you are located before using this eBook . \n",
            "\n",
            "Summary #1 (chunk #1) - Preview: a pair of enormous eggs, identical in contour and separated only by a courtesy bay, jut out into the most domesticated body of salt water in the Western hemisphere, the great wet barnyard of Long Island Sound . they are both crushed flat at the contact end, but their physical resemblance must be a source of perpetual wonder to the gulls that fly overhead. a more interesting phenomenon is their dissimilarity in every particular except shape and size. \n",
            "\n",
            "Summary #2 (chunk #5) - Preview: Daisy retorted, “I’ve been trying to get you to New York all afternoon.” Her host looked at her as if it were a drop in the bottom of a glass. “How you ever get anything done is beyond me,” said Miss Baker, with an erect carriage, which she accentuated by throwing her body backwards at the shoulders like a young cadet. “I know somebody there.” “You must know Gatsby.” “I always watch for the longest day of the year.” \n",
            "\n",
            "Summary #3 (chunk #14) - Preview: the only crazy I was was when I married him. I knew right away I made a mistake. he borrowed somebody’s best suit to get married in, and never even told me about it one day when he was out: ‘Oh, is that your suit?’ I gave it to him and then I lay down and cried to beat the band all afternoon. I’d hate to have him get anything on me,’ said Catherine. “I’d like to do more work on Long Island, if I could get the \n",
            "\n",
            "Summary #4 (chunk #19) - Preview: the Stoddard Lectures were written by a woman named Roosevelt, who had been drunk for about a week, and who was brought by her. She was a stout, middle-aged man, with enormous owl-eyed spectacles, and sat somewhat drunk on the edge of a great table, staring with unsteady concentration at the shelves of books. “See!” he cried triumphantly. “This fella’s a regular Belasco. It fooled \n",
            "\n",
            "Summary #5 (chunk #28) - Preview: a young rajah lived in all the capitals of Europe—Paris, Venice, Rome—collecting jewels, chiefly rubies, hunting big game, painting a little, things for myself only, and trying to forget something very sad that had happened to me long ago. “Then came the war, old sport. It was a great relief, and I tried very hard to die, but I seemed to bear an enchanted life,” he said. “I’m going to make a big \n",
            "\n",
            "Summary #6 (chunk #38) - Preview: Gatsby’s house is full of interesting people, night and day. “I love it, but I don’t see how you live there all alone. People who do interesting things. Celebrated people.” Daisy’s face was smeared with tears, and when she came in she jumped up and began wiping at it with her handkerchief before a mirror. “Oh, hello, old sport,” he said, as if he hadn’t seen me for years. “What do you think \n",
            "\n",
            "Summary #7 (chunk #42) - Preview: James Gatz, of West Egg, Long Island, sprang from his Platonic conception of himself . he had been beating his way along the south shore of Lake Superior as a clam-digger and a salmon-fisher or in any other capacity that brought him food and bed . each night he added to the pattern of his fancies until drowsiness closed down upon some vivid scene with an oblivious embrace . \n",
            "\n",
            "Summary #8 (chunk #49) - Preview: Daisy and Jordan sat down guiltily on the couch just as a freshly laundered nurse led a little girl into the room. “Bles-sed pre-cious!” she crooned, holding out her arms, kissing him on the mouth. “You forget there’s a lady present,” said the child. “She doesn’t look like me. She’s got my hair and shape of the face.” “Goodbye, sweetheart!” cried Daisy. “I’m right across \n",
            "\n",
            "Summary #9 (chunk #54) - Preview: Tom Gatsby and his wife, Daisy, were married in the middle of June in Louisville, Tennessee . they lived just two doors from the church, and he stayed three weeks until Daddy told him he had to get out. The day after he left Daddy died. “If we were young we’d rise and dance,” said Daisy. “I used to know a Bill Biloxi from Memphis,” she remarked. “He was a friend of his.” “I’d never seen him before.” \n",
            "\n",
            "Summary #10 (chunk #56) - Preview: Tom Gatsby and his wife, Daisy, have been dating for a year now . they have a son, a daughter, and a grandson, and they live in a small town in california . he has a young son, who lives in the same neighborhood as him . but he doesn’t know what he’s doing, and it’s wiped out forever . \n",
            "\n",
            "Summary #11 (chunk #58) - Preview: Michaelis and myrtle Wilson had been neighbours for four years, and he had never seemed faintly capable of such a statement . when he wasn’t working, he sat on a chair in the doorway and stared at the people and the cars that passed along the road, and when anyone spoke to him he invariably laughed in an agreeable, colourless way . he would throw curious glances at his visitor and ask him what he’d been doing at certain times on certain days . \n",
            "\n",
            "Summary #12 (chunk #60) - Preview: the car was a blue, a coupé, and the policeman picked up Wilson like a doll . he carried him into the office, set him down in a chair, and went unwillingly into the room . as he passed close to him he whispered: “Let’s get out.” Self-consciously, with his authoritative arms breaking the way, we pushed through the still gathering crowd, passing a hurried doctor, case in hand, who had been sent for in wild hope half \n",
            "\n",
            "Summary #13 (chunk #62) - Preview: he knew that he was in Daisy’s house by a colossal accident, a penniless young man without a past, and at any moment the invisible cloak of his uniform might slip from his shoulders . he took what he could get, ravenously and unscrupulously, and took her one still October night, took her because he had no real right to touch her hand . \n",
            "\n",
            "Summary #14 (chunk #65) - Preview: Gatsby’s former servants, the gardener, came to the foot of the steps to drain the pool . he said he’d never used that pool all summer, but it was more than that—I didn’t want to leave him. “I’m at Hempstead, and I’m going down to Southampton this afternoon.” “I suppose you’re worth the whole damn bunch put together.” I shouted across the lawn and drive, as if he hoped I’d corrobo \n",
            "\n",
            "Summary #15 (chunk #66) - Preview: Michaelis and myrtle Wilson were in a garage when they found their sister, Catherine, dead . when they convinced her of this, she immediately fainted, as if that was the intolerable part of the affair . a stranger took her in his car and drove her in the wake of her sister’s body . after midnight a changing crowd lapped up against the front of the garage, while George Wilson rocked himself back and forth on the couch inside, trying to keep him more quiet. \n",
            "\n",
            "Summary #16 (chunk #70) - Preview: a telegram signed by Henry C. Gatz arrived from a town in Minnesota. It said only that the sender was leaving immediately and to postpone the funeral until he came. “I saw it in the Chicago newspaper. I started right away.” “I didn’t know how to reach you.” “Wouldn’t you like some coffee?” I urged him. “Well, I’m all right now. Where have they got Jimmy?” he asked. “Oh, I can’t go through this \n",
            "\n",
            "Summary #17 (chunk #71) - Preview: Gatsby’s father, a solemn old man, was helpless and dismayed, bundled up in a long cheap ulster against the warm September day, and on the point of collapse, so I took him into the music-room and made him sit down while I sent for something to eat. “I saw it in the Chicago newspaper. I started right away.” “He must have been mad.” “I don’t want anything. I’m all right now, Mr.—” “Mr. \n",
            "\n",
            "Summary #18 (chunk #76) - Preview: a man named Nick Buchanan was a careless man who smashed up things and creatures and then retreated back into their money or their vast carelessness, and let other people clean up the mess they had made . he shook hands with him, but he was crazy enough to kill me if I hadn’t told him who owned the car, and he ran over Myrtle like you’d run over a dog and never even stopped his car . when I went to give up his \n",
            "\n",
            "Summary #19 (chunk #78) - Preview: To protect the Project GutenbergTM mission of promoting the free distribution of electronic works, by using or distributing this work (or any other work associated in any way with the phrase “Project Gutenberg”), you agree to comply with all the terms of the Full Project GUTENBERGTM License available with this file or online at www.gutenberg.org/license . By reading or using any part of this work, you indicate that you have read, understand, agree to and accept all terms of this license and inte \n",
            "\n"
          ]
        }
      ]
    },
    {
      "cell_type": "code",
      "source": [
        "summaries = \"\\n\".join(summary_list)\n",
        "\n",
        "# Convert it back to a document\n",
        "summaries = Document(page_content=summaries)\n",
        "\n",
        "print (f\"Your total summary has {llm.get_num_tokens(summaries.page_content)} tokens\")"
      ],
      "metadata": {
        "colab": {
          "base_uri": "https://localhost:8080/",
          "height": 212,
          "referenced_widgets": [
            "bb6184b55ce240fcadbd5e51ab49c0fc",
            "35a776ccc9534bcea8defca45b01c25e",
            "f4ebc80c0e7e49b4b4e442cfdc959686",
            "901a635bf012419f8eb3d2be638f6202",
            "a96c7d13cfeb47e29ba118b62e6c62f9",
            "010baba4ca494c63940b589108db0c8d",
            "a70ebb20650144cfa788007d79c9d717",
            "c2997d5abd6b40af97371802cb3bef90",
            "d8f41c55470440109b3d6d7116245e43",
            "36c6b1b1e52e465cb9ecaeb3d47b1078",
            "58a8997bc2194ffd9025293e5dc2d924",
            "8f529718fc024254bbab73043c6f07f7",
            "4459cf71b944430a98162685f9ff8453",
            "29e9a7f0d59b4d5d96529dbb38d60be2",
            "122da0f039304a7980976d5212593084",
            "0faef835804d49f3b861578e6633929a",
            "9893a235d793483986ecf2adc6eced85",
            "68e0ddbeb35a4e1dadcb2668065681ce",
            "5220af46f44144e5b4d3d57f55301dd2",
            "1c71e5f11c984c94aa562e43b41d676a",
            "1e2fb455da0b4f2e9962e20551357faa",
            "2a1ed3a6340641e0b7cf516cfa7a0c79",
            "0d33fd4d10df4efeb858e43dc1bfd7e4",
            "6aac6c9374224e81b02ac7d9abb4b82b",
            "762b4cc56cd3427b83cd4f340e2e2b2b",
            "5a0a8cdf3b384c17b91481aaf96a051f",
            "8a0a7741e9194329bb2093cf99ab96f2",
            "0f06e166c8b948858b1e142bc4766fee",
            "36c8a56fe08b4e359e0e498b8ed06cb1",
            "2700e7dc9f344783937593dff290bb71",
            "7221f69d101b40e097efeedc34a200e2",
            "42866e35259a44afae198c31d5f4f3c7",
            "e1c4349e3d6e4f38859a090ec3a1a052",
            "5605c233f9254f33a4fab2a076225e91",
            "7a1a6944ffe4431bbaf4552b6e23968b",
            "63252d182f5149c7bc5568f11b7df0c0",
            "1e4f5d82622d4f26a2f1df2a35a238d7",
            "1043149efca54675b746ce0ea9fac6b4",
            "0b79b0e2468f4183b7c820ba8d49adce",
            "1a953c63a4294e3f940d482c9ddb1053",
            "53108072483c44f2bc2043b0c4459dba",
            "cdb09826c52e4f43836c2a1c44e8ee8d",
            "9282cbc8649448178d803b9a67a02b20",
            "addb02f3c0ad400abaf6055943553504",
            "fc630ef8229e4a069bafcb3b16611590",
            "6a856d9bbab24226b55ae74e992e2307",
            "c2091799ab1e4db2899e2a5ff6010e2c",
            "a8c51e247dc5433694dd4d9ec2c2fc2f",
            "a684fd6f2d06422e9c41d764c5e2dda3",
            "7b6b3495615d476d82e8843306cf9f8c",
            "1cb4a7201862413a884692f571849cba",
            "02c0b74ee48644d3a1c2dec8d355cde0",
            "26a45b0540d84817a5ca074901f0e7c6",
            "14f86bae47454af5ba39b89e92e6efa0",
            "a8818719dad64abfa38c9bfd35c7fa6d"
          ]
        },
        "id": "P6tvLvS3DX8Q",
        "outputId": "2cdc4909-894a-4c3e-8bb3-a3dc834ee261"
      },
      "execution_count": 74,
      "outputs": [
        {
          "output_type": "display_data",
          "data": {
            "text/plain": [
              "tokenizer_config.json:   0%|          | 0.00/26.0 [00:00<?, ?B/s]"
            ],
            "application/vnd.jupyter.widget-view+json": {
              "version_major": 2,
              "version_minor": 0,
              "model_id": "bb6184b55ce240fcadbd5e51ab49c0fc"
            }
          },
          "metadata": {}
        },
        {
          "output_type": "display_data",
          "data": {
            "text/plain": [
              "vocab.json:   0%|          | 0.00/1.04M [00:00<?, ?B/s]"
            ],
            "application/vnd.jupyter.widget-view+json": {
              "version_major": 2,
              "version_minor": 0,
              "model_id": "8f529718fc024254bbab73043c6f07f7"
            }
          },
          "metadata": {}
        },
        {
          "output_type": "display_data",
          "data": {
            "text/plain": [
              "merges.txt:   0%|          | 0.00/456k [00:00<?, ?B/s]"
            ],
            "application/vnd.jupyter.widget-view+json": {
              "version_major": 2,
              "version_minor": 0,
              "model_id": "0d33fd4d10df4efeb858e43dc1bfd7e4"
            }
          },
          "metadata": {}
        },
        {
          "output_type": "display_data",
          "data": {
            "text/plain": [
              "tokenizer.json:   0%|          | 0.00/1.36M [00:00<?, ?B/s]"
            ],
            "application/vnd.jupyter.widget-view+json": {
              "version_major": 2,
              "version_minor": 0,
              "model_id": "5605c233f9254f33a4fab2a076225e91"
            }
          },
          "metadata": {}
        },
        {
          "output_type": "display_data",
          "data": {
            "text/plain": [
              "config.json:   0%|          | 0.00/665 [00:00<?, ?B/s]"
            ],
            "application/vnd.jupyter.widget-view+json": {
              "version_major": 2,
              "version_minor": 0,
              "model_id": "fc630ef8229e4a069bafcb3b16611590"
            }
          },
          "metadata": {}
        },
        {
          "output_type": "stream",
          "name": "stderr",
          "text": [
            "Token indices sequence length is longer than the specified maximum sequence length for this model (2096 > 1024). Running this sequence through the model will result in indexing errors\n"
          ]
        },
        {
          "output_type": "stream",
          "name": "stdout",
          "text": [
            "Your total summary has 2096 tokens\n"
          ]
        }
      ]
    },
    {
      "cell_type": "code",
      "source": [
        "print(summaries.page_content)"
      ],
      "metadata": {
        "colab": {
          "base_uri": "https://localhost:8080/"
        },
        "id": "c4py-VHMDXY5",
        "outputId": "e5eed8ba-4527-4123-94c0-ab8659c430b4"
      },
      "execution_count": 75,
      "outputs": [
        {
          "output_type": "stream",
          "name": "stdout",
          "text": [
            "Project Gutenberg eBook of The Great Gatsby is for the use of anyone anywhere in the United States and most other parts of the world at no cost and with almost no restrictions whatsoever . you may copy it, give it away or re-use it under the terms of the project Gutenberg License included with this ebook or online at www.gutenberg.org . if you are not located in the US, you will have to check the laws of the country where you are located before using this eBook .\n",
            "a pair of enormous eggs, identical in contour and separated only by a courtesy bay, jut out into the most domesticated body of salt water in the Western hemisphere, the great wet barnyard of Long Island Sound . they are both crushed flat at the contact end, but their physical resemblance must be a source of perpetual wonder to the gulls that fly overhead. a more interesting phenomenon is their dissimilarity in every particular except shape and size.\n",
            "Daisy retorted, “I’ve been trying to get you to New York all afternoon.” Her host looked at her as if it were a drop in the bottom of a glass. “How you ever get anything done is beyond me,” said Miss Baker, with an erect carriage, which she accentuated by throwing her body backwards at the shoulders like a young cadet. “I know somebody there.” “You must know Gatsby.” “I always watch for the longest day of the year.”\n",
            "the only crazy I was was when I married him. I knew right away I made a mistake. he borrowed somebody’s best suit to get married in, and never even told me about it one day when he was out: ‘Oh, is that your suit?’ I gave it to him and then I lay down and cried to beat the band all afternoon. I’d hate to have him get anything on me,’ said Catherine. “I’d like to do more work on Long Island, if I could get the\n",
            "the Stoddard Lectures were written by a woman named Roosevelt, who had been drunk for about a week, and who was brought by her. She was a stout, middle-aged man, with enormous owl-eyed spectacles, and sat somewhat drunk on the edge of a great table, staring with unsteady concentration at the shelves of books. “See!” he cried triumphantly. “This fella’s a regular Belasco. It fooled\n",
            "a young rajah lived in all the capitals of Europe—Paris, Venice, Rome—collecting jewels, chiefly rubies, hunting big game, painting a little, things for myself only, and trying to forget something very sad that had happened to me long ago. “Then came the war, old sport. It was a great relief, and I tried very hard to die, but I seemed to bear an enchanted life,” he said. “I’m going to make a big\n",
            "Gatsby’s house is full of interesting people, night and day. “I love it, but I don’t see how you live there all alone. People who do interesting things. Celebrated people.” Daisy’s face was smeared with tears, and when she came in she jumped up and began wiping at it with her handkerchief before a mirror. “Oh, hello, old sport,” he said, as if he hadn’t seen me for years. “What do you think\n",
            "James Gatz, of West Egg, Long Island, sprang from his Platonic conception of himself . he had been beating his way along the south shore of Lake Superior as a clam-digger and a salmon-fisher or in any other capacity that brought him food and bed . each night he added to the pattern of his fancies until drowsiness closed down upon some vivid scene with an oblivious embrace .\n",
            "Daisy and Jordan sat down guiltily on the couch just as a freshly laundered nurse led a little girl into the room. “Bles-sed pre-cious!” she crooned, holding out her arms, kissing him on the mouth. “You forget there’s a lady present,” said the child. “She doesn’t look like me. She’s got my hair and shape of the face.” “Goodbye, sweetheart!” cried Daisy. “I’m right across\n",
            "Tom Gatsby and his wife, Daisy, were married in the middle of June in Louisville, Tennessee . they lived just two doors from the church, and he stayed three weeks until Daddy told him he had to get out. The day after he left Daddy died. “If we were young we’d rise and dance,” said Daisy. “I used to know a Bill Biloxi from Memphis,” she remarked. “He was a friend of his.” “I’d never seen him before.”\n",
            "Tom Gatsby and his wife, Daisy, have been dating for a year now . they have a son, a daughter, and a grandson, and they live in a small town in california . he has a young son, who lives in the same neighborhood as him . but he doesn’t know what he’s doing, and it’s wiped out forever .\n",
            "Michaelis and myrtle Wilson had been neighbours for four years, and he had never seemed faintly capable of such a statement . when he wasn’t working, he sat on a chair in the doorway and stared at the people and the cars that passed along the road, and when anyone spoke to him he invariably laughed in an agreeable, colourless way . he would throw curious glances at his visitor and ask him what he’d been doing at certain times on certain days .\n",
            "the car was a blue, a coupé, and the policeman picked up Wilson like a doll . he carried him into the office, set him down in a chair, and went unwillingly into the room . as he passed close to him he whispered: “Let’s get out.” Self-consciously, with his authoritative arms breaking the way, we pushed through the still gathering crowd, passing a hurried doctor, case in hand, who had been sent for in wild hope half\n",
            "he knew that he was in Daisy’s house by a colossal accident, a penniless young man without a past, and at any moment the invisible cloak of his uniform might slip from his shoulders . he took what he could get, ravenously and unscrupulously, and took her one still October night, took her because he had no real right to touch her hand .\n",
            "Gatsby’s former servants, the gardener, came to the foot of the steps to drain the pool . he said he’d never used that pool all summer, but it was more than that—I didn’t want to leave him. “I’m at Hempstead, and I’m going down to Southampton this afternoon.” “I suppose you’re worth the whole damn bunch put together.” I shouted across the lawn and drive, as if he hoped I’d corrobo\n",
            "Michaelis and myrtle Wilson were in a garage when they found their sister, Catherine, dead . when they convinced her of this, she immediately fainted, as if that was the intolerable part of the affair . a stranger took her in his car and drove her in the wake of her sister’s body . after midnight a changing crowd lapped up against the front of the garage, while George Wilson rocked himself back and forth on the couch inside, trying to keep him more quiet.\n",
            "a telegram signed by Henry C. Gatz arrived from a town in Minnesota. It said only that the sender was leaving immediately and to postpone the funeral until he came. “I saw it in the Chicago newspaper. I started right away.” “I didn’t know how to reach you.” “Wouldn’t you like some coffee?” I urged him. “Well, I’m all right now. Where have they got Jimmy?” he asked. “Oh, I can’t go through this\n",
            "Gatsby’s father, a solemn old man, was helpless and dismayed, bundled up in a long cheap ulster against the warm September day, and on the point of collapse, so I took him into the music-room and made him sit down while I sent for something to eat. “I saw it in the Chicago newspaper. I started right away.” “He must have been mad.” “I don’t want anything. I’m all right now, Mr.—” “Mr.\n",
            "a man named Nick Buchanan was a careless man who smashed up things and creatures and then retreated back into their money or their vast carelessness, and let other people clean up the mess they had made . he shook hands with him, but he was crazy enough to kill me if I hadn’t told him who owned the car, and he ran over Myrtle like you’d run over a dog and never even stopped his car . when I went to give up his\n",
            "To protect the Project GutenbergTM mission of promoting the free distribution of electronic works, by using or distributing this work (or any other work associated in any way with the phrase “Project Gutenberg”), you agree to comply with all the terms of the Full Project GUTENBERGTM License available with this file or online at www.gutenberg.org/license . By reading or using any part of this work, you indicate that you have read, understand, agree to and accept all terms of this license and intellectual property (trademark/copyright) agreement .\n"
          ]
        }
      ]
    },
    {
      "cell_type": "code",
      "source": [
        "len(summaries.page_content)"
      ],
      "metadata": {
        "id": "3g0xINMpC3Iz",
        "colab": {
          "base_uri": "https://localhost:8080/"
        },
        "outputId": "32af84e1-668f-4064-f1a4-fec38f1b7afd"
      },
      "execution_count": 76,
      "outputs": [
        {
          "output_type": "execute_result",
          "data": {
            "text/plain": [
              "8170"
            ]
          },
          "metadata": {},
          "execution_count": 76
        }
      ]
    },
    {
      "cell_type": "code",
      "source": [
        "text_final = summaries.page_content\n",
        "docsf = text_splitter.create_documents([text_final])\n",
        "num_documents = len(docsf)\n",
        "\n",
        "print (f\"Now our book is split up into {num_documents} documents\")"
      ],
      "metadata": {
        "id": "U82Wn0PSzrnZ",
        "colab": {
          "base_uri": "https://localhost:8080/"
        },
        "outputId": "febe8459-6a61-45c7-92fb-5e2f98431506"
      },
      "execution_count": 77,
      "outputs": [
        {
          "output_type": "stream",
          "name": "stdout",
          "text": [
            "Now our book is split up into 2 documents\n"
          ]
        }
      ]
    },
    {
      "cell_type": "code",
      "source": [
        "# Make an empty list to hold your summaries\n",
        "summary_final = []\n",
        "\n",
        "# Loop through a range of the lenght of your selected docs\n",
        "for i, doc in enumerate(docsf):\n",
        "\n",
        "    # Go get a summary of the chunk\n",
        "    #chunk_summary = map_chain.run([doc])\n",
        "    response = summarizer(doc.page_content)\n",
        "    chunk_summary = response[0]['summary_text']\n",
        "    # Append that summary to your list\n",
        "    summary_final.append(chunk_summary)\n",
        "\n",
        "    print (f\"Summary #{i} (chunk #{selected_indices[i]}) - Preview: {chunk_summary[:500]} \\n\")"
      ],
      "metadata": {
        "id": "zRw_Q90Hzrj3",
        "colab": {
          "base_uri": "https://localhost:8080/"
        },
        "outputId": "5eb32bb8-1c05-4af9-9923-1aed30fba045"
      },
      "execution_count": 78,
      "outputs": [
        {
          "output_type": "stream",
          "name": "stdout",
          "text": [
            "Summary #0 (chunk #0) - Preview: Project Gutenberg eBook of The Great Gatsby is for the use of anyone anywhere in the United States and most other parts of the world at no cost and with almost no restrictions whatsoever . if you are not located in the US, you will have to check the laws of the country where you are located before using this eBook . \n",
            "\n",
            "Summary #1 (chunk #1) - Preview: Tom Gatsby and his wife, Daisy, were married in the middle of June in Louisville, Tennessee . they lived just two doors from the church, and he stayed three weeks until Daddy told him he had to get out. the day after he left Daddy died. “If we were young we’d rise and dance,” said Daisy. “I used to know a Bill Biloxi from Memphis,” she remarked. “He was a friend of his.” “I’d never seen him before.” \n",
            "\n"
          ]
        }
      ]
    },
    {
      "cell_type": "code",
      "source": [
        "summary_final = \"\\n\".join(summary_final)\n",
        "\n",
        "# Convert it back to a document\n",
        "summaries = Document(page_content=summary_final)\n",
        "\n",
        "print (f\"Your total summary has {llm.get_num_tokens(summaries.page_content)} tokens\")"
      ],
      "metadata": {
        "colab": {
          "base_uri": "https://localhost:8080/"
        },
        "id": "vXUh2i5o0Q82",
        "outputId": "2f30c35d-62d4-4ccb-853f-c026b62ad75a"
      },
      "execution_count": 79,
      "outputs": [
        {
          "output_type": "stream",
          "name": "stdout",
          "text": [
            "Your total summary has 182 tokens\n"
          ]
        }
      ]
    },
    {
      "cell_type": "code",
      "source": [
        "print(summaries.page_content)"
      ],
      "metadata": {
        "id": "O7AbxHi70Q25",
        "colab": {
          "base_uri": "https://localhost:8080/"
        },
        "outputId": "99d7633a-091d-41f7-fb32-fdf4f3e98794"
      },
      "execution_count": 81,
      "outputs": [
        {
          "output_type": "stream",
          "name": "stdout",
          "text": [
            "Project Gutenberg eBook of The Great Gatsby is for the use of anyone anywhere in the United States and most other parts of the world at no cost and with almost no restrictions whatsoever . if you are not located in the US, you will have to check the laws of the country where you are located before using this eBook .\n",
            "Tom Gatsby and his wife, Daisy, were married in the middle of June in Louisville, Tennessee . they lived just two doors from the church, and he stayed three weeks until Daddy told him he had to get out. the day after he left Daddy died. “If we were young we’d rise and dance,” said Daisy. “I used to know a Bill Biloxi from Memphis,” she remarked. “He was a friend of his.” “I’d never seen him before.”\n"
          ]
        }
      ]
    },
    {
      "cell_type": "code",
      "source": [
        "len(summaries.page_content)"
      ],
      "metadata": {
        "id": "L24cF7PW0QzK",
        "colab": {
          "base_uri": "https://localhost:8080/"
        },
        "outputId": "e2b00862-e5e4-47fd-9f86-5e018fc8ff9d"
      },
      "execution_count": 82,
      "outputs": [
        {
          "output_type": "execute_result",
          "data": {
            "text/plain": [
              "720"
            ]
          },
          "metadata": {},
          "execution_count": 82
        }
      ]
    },
    {
      "cell_type": "code",
      "source": [],
      "metadata": {
        "id": "miFy9gBUzrf9"
      },
      "execution_count": null,
      "outputs": []
    }
  ]
}