{
 "cells": [
  {
   "cell_type": "markdown",
   "id": "c5b84254-8f36-4752-ba97-872b50c4bf08",
   "metadata": {},
   "source": [
    "# EyeQ --> https://github.com/HzFu/EyeQ/tree/master\n",
    "\n",
    "#### Citacion \n",
    "\n",
    "[1] Huazhu Fu, Boyang Wang, Jianbing Shen, Shanshan Cui, Yanwu Xu, Jiang Liu, Ling Shao, \"Evaluation of Retinal Image Quality Assessment Networks in Different Color-spaces\", in MICCAI, 2019. [PDF] Note: The corrected accuracy score of MCF-Net is 0.8800.\n",
    "\n",
    "\n",
    "\n",
    "# EyePacs\n",
    "https://www.kaggle.com/competitions/diabetic-retinopathy-detection/overview\n"
   ]
  },
  {
   "cell_type": "code",
   "execution_count": 1,
   "id": "cd7adb91",
   "metadata": {},
   "outputs": [],
   "source": [
    "import pandas as pd\n",
    "import glob\n",
    "from pathlib import Path\n",
    "import os"
   ]
  },
  {
   "cell_type": "code",
   "execution_count": 2,
   "id": "34f6d134-7df1-4afc-80b9-63dec8293447",
   "metadata": {},
   "outputs": [
    {
     "data": {
      "text/plain": [
       "'F:\\\\repos\\\\test_retina'"
      ]
     },
     "execution_count": 2,
     "metadata": {},
     "output_type": "execute_result"
    }
   ],
   "source": [
    "os.getcwd()"
   ]
  },
  {
   "cell_type": "code",
   "execution_count": 3,
   "id": "e6b65dc6",
   "metadata": {},
   "outputs": [],
   "source": [
    "path =os.getcwd()"
   ]
  },
  {
   "cell_type": "code",
   "execution_count": 4,
   "id": "ad20dcf8",
   "metadata": {},
   "outputs": [],
   "source": [
    "import os\n",
    "os.chdir(path)"
   ]
  },
  {
   "cell_type": "code",
   "execution_count": 10,
   "id": "651ccf2a",
   "metadata": {},
   "outputs": [],
   "source": [
    "path_images = os.path.join(path, \"eyePacs\", \"pre-processed\") # all EyePacs Preprocessed \n",
    "path_images_test = os.path.join(path, \"eyePacs\", \"test\")\n",
    "path_images_train = os.path.join(path, \"eyePacs\", \"train\")\n",
    "path_images_test_pre = os.path.join(path, \"eyePacs\", \"test-pre\")\n",
    "path_images_train_pre = os.path.join(path, \"eyePacs\", \"train-pre\")"
   ]
  },
  {
   "cell_type": "code",
   "execution_count": 11,
   "id": "fa58d6d9",
   "metadata": {},
   "outputs": [],
   "source": [
    "train_lst = [f.split(\"\\\\\")[-1] for f in glob.glob(path_images_train + \"/*.jpeg\")]\n",
    "test_lst = [f.split(\"\\\\\")[-1] for f in glob.glob(path_images_test + \"/*.jpeg\")]\n",
    "pre_lst = [f.split(\"\\\\\")[-1] for f in glob.glob(path_images + \"/*.jpeg\")]"
   ]
  },
  {
   "cell_type": "code",
   "execution_count": 12,
   "id": "c4d355cd",
   "metadata": {},
   "outputs": [
    {
     "data": {
      "text/plain": [
       "'10003_left.jpeg'"
      ]
     },
     "execution_count": 12,
     "metadata": {},
     "output_type": "execute_result"
    }
   ],
   "source": [
    "train_lst[0]"
   ]
  },
  {
   "cell_type": "code",
   "execution_count": 13,
   "id": "3b0f5b58",
   "metadata": {},
   "outputs": [
    {
     "data": {
      "text/plain": [
       "(35126, 53576, 88702)"
      ]
     },
     "execution_count": 13,
     "metadata": {},
     "output_type": "execute_result"
    }
   ],
   "source": [
    "len(train_lst), len(test_lst), len(pre_lst)"
   ]
  },
  {
   "cell_type": "markdown",
   "id": "a112c634-f743-4c89-8052-f8cbb6e396d7",
   "metadata": {},
   "source": [
    "# EyeQ Metadata"
   ]
  },
  {
   "cell_type": "code",
   "execution_count": 14,
   "id": "5ff85e4f",
   "metadata": {},
   "outputs": [
    {
     "data": {
      "text/html": [
       "<div>\n",
       "<style scoped>\n",
       "    .dataframe tbody tr th:only-of-type {\n",
       "        vertical-align: middle;\n",
       "    }\n",
       "\n",
       "    .dataframe tbody tr th {\n",
       "        vertical-align: top;\n",
       "    }\n",
       "\n",
       "    .dataframe thead th {\n",
       "        text-align: right;\n",
       "    }\n",
       "</style>\n",
       "<table border=\"1\" class=\"dataframe\">\n",
       "  <thead>\n",
       "    <tr style=\"text-align: right;\">\n",
       "      <th></th>\n",
       "      <th>image</th>\n",
       "      <th>quality</th>\n",
       "      <th>DR_grade</th>\n",
       "    </tr>\n",
       "  </thead>\n",
       "  <tbody>\n",
       "    <tr>\n",
       "      <th>0</th>\n",
       "      <td>1_right.jpeg</td>\n",
       "      <td>1</td>\n",
       "      <td>0</td>\n",
       "    </tr>\n",
       "    <tr>\n",
       "      <th>1</th>\n",
       "      <td>10001_right.jpeg</td>\n",
       "      <td>0</td>\n",
       "      <td>2</td>\n",
       "    </tr>\n",
       "    <tr>\n",
       "      <th>2</th>\n",
       "      <td>10004_right.jpeg</td>\n",
       "      <td>0</td>\n",
       "      <td>0</td>\n",
       "    </tr>\n",
       "    <tr>\n",
       "      <th>3</th>\n",
       "      <td>10008_left.jpeg</td>\n",
       "      <td>0</td>\n",
       "      <td>0</td>\n",
       "    </tr>\n",
       "    <tr>\n",
       "      <th>4</th>\n",
       "      <td>10016_right.jpeg</td>\n",
       "      <td>0</td>\n",
       "      <td>2</td>\n",
       "    </tr>\n",
       "  </tbody>\n",
       "</table>\n",
       "</div>"
      ],
      "text/plain": [
       "              image  quality  DR_grade\n",
       "0      1_right.jpeg        1         0\n",
       "1  10001_right.jpeg        0         2\n",
       "2  10004_right.jpeg        0         0\n",
       "3   10008_left.jpeg        0         0\n",
       "4  10016_right.jpeg        0         2"
      ]
     },
     "execution_count": 14,
     "metadata": {},
     "output_type": "execute_result"
    }
   ],
   "source": [
    "train = pd.read_csv(os.path.join(path, \"eyePacs\", \"Label_EyeQ_train.csv\"), index_col=0)\n",
    "test = pd.read_csv(os.path.join(path, \"eyePacs\", \"Label_EyeQ_test.csv\"), index_col=0)\n",
    "test.head()"
   ]
  },
  {
   "cell_type": "code",
   "execution_count": 15,
   "id": "8c977947",
   "metadata": {},
   "outputs": [
    {
     "data": {
      "text/plain": [
       "quality\n",
       "0    8347\n",
       "2    2320\n",
       "1    1876\n",
       "Name: count, dtype: int64"
      ]
     },
     "execution_count": 15,
     "metadata": {},
     "output_type": "execute_result"
    }
   ],
   "source": [
    "train.quality.value_counts()"
   ]
  },
  {
   "cell_type": "code",
   "execution_count": 16,
   "id": "d89e90ce",
   "metadata": {},
   "outputs": [
    {
     "data": {
      "text/plain": [
       "quality\n",
       "0    8471\n",
       "1    4558\n",
       "2    3220\n",
       "Name: count, dtype: int64"
      ]
     },
     "execution_count": 16,
     "metadata": {},
     "output_type": "execute_result"
    }
   ],
   "source": [
    "test.quality.value_counts()"
   ]
  },
  {
   "cell_type": "code",
   "execution_count": 17,
   "id": "92868def",
   "metadata": {},
   "outputs": [],
   "source": [
    "def apply_label(x):\n",
    "    if x == 0:\n",
    "        return True\n",
    "    else:\n",
    "        return False"
   ]
  },
  {
   "cell_type": "code",
   "execution_count": 18,
   "id": "68fe2098",
   "metadata": {},
   "outputs": [],
   "source": [
    "train['label'] = train['quality'].apply(apply_label)\n",
    "test['label'] = test['quality'].apply(apply_label)"
   ]
  },
  {
   "cell_type": "code",
   "execution_count": 19,
   "id": "348b1953",
   "metadata": {},
   "outputs": [
    {
     "data": {
      "text/plain": [
       "(label\n",
       " True     8347\n",
       " False    4196\n",
       " Name: count, dtype: int64,\n",
       " label\n",
       " True     8471\n",
       " False    7778\n",
       " Name: count, dtype: int64)"
      ]
     },
     "execution_count": 19,
     "metadata": {},
     "output_type": "execute_result"
    }
   ],
   "source": [
    "train.label.value_counts(), test.label.value_counts()"
   ]
  },
  {
   "cell_type": "code",
   "execution_count": 20,
   "id": "4203a7e9",
   "metadata": {},
   "outputs": [],
   "source": [
    "train.columns = ['image_file_name', 'quality', 'DR_grade', 'label']\n",
    "test.columns = ['image_file_name', 'quality', 'DR_grade', 'label']"
   ]
  },
  {
   "cell_type": "code",
   "execution_count": 21,
   "id": "fa0adaed",
   "metadata": {},
   "outputs": [],
   "source": [
    "train.to_csv(os.path.join(path, \"eyePacs\", \"metadata_train.csv\"), index=False)\n",
    "test.to_csv(os.path.join(path, \"eyePacs\", \"metadata_test.csv\"), index=False)"
   ]
  },
  {
   "cell_type": "code",
   "execution_count": 22,
   "id": "f7b190eb",
   "metadata": {},
   "outputs": [],
   "source": [
    "trainl = train['image_file_name'].to_list()\n",
    "testl = test['image_file_name'].to_list()"
   ]
  },
  {
   "cell_type": "code",
   "execution_count": 23,
   "id": "f003ceed-8a70-4cf6-9437-95aa1ec8e6b1",
   "metadata": {},
   "outputs": [],
   "source": [
    "# Check if all images are in Pre-processed"
   ]
  },
  {
   "cell_type": "code",
   "execution_count": 24,
   "id": "88290e09",
   "metadata": {},
   "outputs": [],
   "source": [
    "trainls = set(trainl)\n",
    "testls = set(testl)"
   ]
  },
  {
   "cell_type": "code",
   "execution_count": 25,
   "id": "17638487",
   "metadata": {},
   "outputs": [
    {
     "data": {
      "text/plain": [
       "[]"
      ]
     },
     "execution_count": 25,
     "metadata": {},
     "output_type": "execute_result"
    }
   ],
   "source": [
    "[print(x) for x  in trainl if not(x in pre_lst)] # check if train images are in pre-processed images"
   ]
  },
  {
   "cell_type": "code",
   "execution_count": 26,
   "id": "24a3dbb8",
   "metadata": {},
   "outputs": [
    {
     "data": {
      "text/plain": [
       "[]"
      ]
     },
     "execution_count": 26,
     "metadata": {},
     "output_type": "execute_result"
    }
   ],
   "source": [
    "[print(x) for x  in testl if not(x in pre_lst)] # check if test images are in pre-processed images"
   ]
  },
  {
   "cell_type": "markdown",
   "id": "54bb098f-4a09-4aae-b4c7-a344161e7cd9",
   "metadata": {},
   "source": [
    "### Now we join test and train and take 9000 train, 1200 test and 1200 eval"
   ]
  },
  {
   "cell_type": "code",
   "execution_count": 27,
   "id": "40f1409d-fc38-4345-a011-22ee2b18c851",
   "metadata": {},
   "outputs": [],
   "source": [
    "train = pd.concat([train, test], ignore_index=True)"
   ]
  },
  {
   "cell_type": "code",
   "execution_count": 28,
   "id": "dedc2039-7a25-4d03-bd61-a2edae93206e",
   "metadata": {},
   "outputs": [],
   "source": [
    "trainq = train['quality'].to_list()"
   ]
  },
  {
   "cell_type": "code",
   "execution_count": 29,
   "id": "8dc3cb3b-84bd-45c9-bc72-1c7fd74b45a3",
   "metadata": {},
   "outputs": [
    {
     "data": {
      "text/plain": [
       "quality\n",
       "0    16818\n",
       "1     6434\n",
       "2     5540\n",
       "Name: count, dtype: int64"
      ]
     },
     "execution_count": 29,
     "metadata": {},
     "output_type": "execute_result"
    }
   ],
   "source": [
    "train['quality'].value_counts()"
   ]
  },
  {
   "cell_type": "code",
   "execution_count": 30,
   "id": "d073c31d-8cb8-42aa-8a4e-b2c3431e9f61",
   "metadata": {},
   "outputs": [],
   "source": [
    "TRAIN_LENGTH = 9000\n",
    "TEST_LENGTH = 1200\n",
    "VAL_LENGTH = 1200"
   ]
  },
  {
   "cell_type": "code",
   "execution_count": 31,
   "id": "7634c1ca-ed22-4b3a-bb0e-c9b630446f75",
   "metadata": {},
   "outputs": [],
   "source": [
    "def sample(df, label,  value, number):\n",
    "    return df[df[label] ==value].sample(number)\n",
    "    "
   ]
  },
  {
   "cell_type": "markdown",
   "id": "50644002-f7a0-4f07-a48e-0f39a96cc52e",
   "metadata": {},
   "source": [
    "# Create train Dataframe"
   ]
  },
  {
   "cell_type": "code",
   "execution_count": 32,
   "id": "8acd47eb-0de7-4d99-80b6-fb1815851352",
   "metadata": {},
   "outputs": [
    {
     "name": "stdout",
     "output_type": "stream",
     "text": [
      "9000 quality\n",
      "0    3000\n",
      "2    3000\n",
      "1    3000\n",
      "Name: count, dtype: int64\n"
     ]
    }
   ],
   "source": [
    "dataframes =[]\n",
    "for label in list(train['quality'].unique()):\n",
    "    dataframes.append(sample(train, \"quality\",  label, int(TRAIN_LENGTH/ len(list(train['quality'].unique())))))\n",
    "train_df = pd.concat(dataframes, ignore_index=True)\n",
    "print(len(train_df), train_df['quality'].value_counts())"
   ]
  },
  {
   "cell_type": "markdown",
   "id": "84c458bb-935b-49ec-a103-f8ea04542aaa",
   "metadata": {},
   "source": [
    "# Create Val Dataset"
   ]
  },
  {
   "cell_type": "code",
   "execution_count": 33,
   "id": "6c566599-c026-4f85-b45c-1a834ead709f",
   "metadata": {},
   "outputs": [
    {
     "data": {
      "text/plain": [
       "0        False\n",
       "1        False\n",
       "2        False\n",
       "3         True\n",
       "4        False\n",
       "         ...  \n",
       "28787    False\n",
       "28788    False\n",
       "28789    False\n",
       "28790    False\n",
       "28791     True\n",
       "Name: image_file_name, Length: 28792, dtype: bool"
      ]
     },
     "execution_count": 33,
     "metadata": {},
     "output_type": "execute_result"
    }
   ],
   "source": [
    "train['image_file_name'].isin( train_df['image_file_name'].to_list()) "
   ]
  },
  {
   "cell_type": "code",
   "execution_count": 34,
   "id": "f3c2caab-66f0-4beb-afa7-8d1ff03c69db",
   "metadata": {},
   "outputs": [],
   "source": [
    "train_rest = train[~(train['image_file_name'].isin( train_df['image_file_name'].to_list()))]"
   ]
  },
  {
   "cell_type": "code",
   "execution_count": 35,
   "id": "fee71753-d895-4f00-970a-b26597840553",
   "metadata": {},
   "outputs": [
    {
     "data": {
      "text/plain": [
       "19792"
      ]
     },
     "execution_count": 35,
     "metadata": {},
     "output_type": "execute_result"
    }
   ],
   "source": [
    "len(train_rest)"
   ]
  },
  {
   "cell_type": "code",
   "execution_count": 37,
   "id": "32f620ce-5128-4e14-9b90-15213cf9bd3c",
   "metadata": {},
   "outputs": [
    {
     "name": "stdout",
     "output_type": "stream",
     "text": [
      "1200 quality\n",
      "0    400\n",
      "2    400\n",
      "1    400\n",
      "Name: count, dtype: int64\n"
     ]
    }
   ],
   "source": [
    "dataframes =[]\n",
    "for label in list(train_rest['quality'].unique()):\n",
    "    dataframes.append(sample(train_rest, \"quality\",  label, 400))\n",
    "val_df = pd.concat(dataframes, ignore_index=True)\n",
    "print(len(val_df), val_df['quality'].value_counts())"
   ]
  },
  {
   "cell_type": "markdown",
   "id": "87a1b8ac-00a4-4ccb-8b14-8f56a53096ba",
   "metadata": {},
   "source": [
    "# Create Test Dataset HoldOut "
   ]
  },
  {
   "cell_type": "code",
   "execution_count": 38,
   "id": "ae5e8484-7157-4c66-ac00-e8985f151495",
   "metadata": {},
   "outputs": [
    {
     "data": {
      "text/plain": [
       "18592"
      ]
     },
     "execution_count": 38,
     "metadata": {},
     "output_type": "execute_result"
    }
   ],
   "source": [
    "train_rest = train_rest[~(train_rest['image_file_name'].isin( val_df['image_file_name'].to_list()))]\n",
    "len(train_rest)"
   ]
  },
  {
   "cell_type": "code",
   "execution_count": 39,
   "id": "bf20be17-d79b-4df1-96cd-3191e1cba1a6",
   "metadata": {},
   "outputs": [
    {
     "name": "stdout",
     "output_type": "stream",
     "text": [
      "1200 quality\n",
      "0    400\n",
      "2    400\n",
      "1    400\n",
      "Name: count, dtype: int64\n"
     ]
    }
   ],
   "source": [
    "dataframes =[]\n",
    "for label in list(train_rest['quality'].unique()):\n",
    "    dataframes.append(sample(train_rest, \"quality\",  label, 400))\n",
    "test_df = pd.concat(dataframes, ignore_index=True)\n",
    "print(len(test_df), test_df['quality'].value_counts())"
   ]
  },
  {
   "cell_type": "markdown",
   "id": "82480bfc-81ad-4567-a8d0-c6304b1bc9ab",
   "metadata": {},
   "source": [
    "# Save Dataframes"
   ]
  },
  {
   "cell_type": "code",
   "execution_count": 40,
   "id": "6e76ce73-79ee-4df0-8fbf-98636e946f39",
   "metadata": {},
   "outputs": [],
   "source": [
    "train_df.to_csv(\"train.csv\", index=False)\n",
    "val_df.to_csv(\"val.csv\", index=False)\n",
    "test_df.to_csv(\"test.csv\", index=False)"
   ]
  },
  {
   "cell_type": "markdown",
   "id": "f4969878-474d-4ab5-b787-9e97b2fa44d1",
   "metadata": {},
   "source": [
    "# List Images Train, Test, Val"
   ]
  },
  {
   "cell_type": "code",
   "execution_count": 41,
   "id": "9e842214-144e-472d-b7d7-2c9a91395401",
   "metadata": {},
   "outputs": [],
   "source": [
    "trainl = train_df['image_file_name'].to_list()\n",
    "trainq = train_df['quality'].to_list()\n",
    "testl = test_df['image_file_name'].to_list()\n",
    "testq = test_df['quality'].to_list()\n",
    "vall = val_df['image_file_name'].to_list()\n",
    "valq = val_df['quality'].to_list()"
   ]
  },
  {
   "cell_type": "markdown",
   "id": "d0bb934f-b695-41c8-937c-103fd6304a1c",
   "metadata": {},
   "source": [
    "# Copy Images for Experiment"
   ]
  },
  {
   "cell_type": "code",
   "execution_count": 42,
   "id": "a30f2b5b-f4b6-4dbe-a749-1f45f27878e1",
   "metadata": {},
   "outputs": [
    {
     "data": {
      "text/plain": [
       "'F:\\\\repos\\\\test_retina\\\\eyePacs\\\\pre-processed'"
      ]
     },
     "execution_count": 42,
     "metadata": {},
     "output_type": "execute_result"
    }
   ],
   "source": [
    "path_images"
   ]
  },
  {
   "cell_type": "code",
   "execution_count": 43,
   "id": "b3b0f142-5af4-4e44-9b24-1466b83ebb37",
   "metadata": {},
   "outputs": [],
   "source": [
    "label_dic={0:\"good\", 1:\"usable\",2:\"reject\"}"
   ]
  },
  {
   "cell_type": "code",
   "execution_count": 44,
   "id": "4ee6e05f-32a7-49c9-bbee-0b8758715c22",
   "metadata": {},
   "outputs": [
    {
     "data": {
      "text/plain": [
       "'good'"
      ]
     },
     "execution_count": 44,
     "metadata": {},
     "output_type": "execute_result"
    }
   ],
   "source": [
    "label_dic.get(0)"
   ]
  },
  {
   "cell_type": "code",
   "execution_count": 45,
   "id": "662e5510-8520-471a-830a-b989775c7eed",
   "metadata": {},
   "outputs": [
    {
     "data": {
      "text/plain": [
       "quality\n",
       "0    3000\n",
       "2    3000\n",
       "1    3000\n",
       "Name: count, dtype: int64"
      ]
     },
     "execution_count": 45,
     "metadata": {},
     "output_type": "execute_result"
    }
   ],
   "source": [
    "train_df.quality.value_counts()"
   ]
  },
  {
   "cell_type": "code",
   "execution_count": 46,
   "id": "06925fa7",
   "metadata": {},
   "outputs": [],
   "source": [
    "# TRAIN\n",
    "import shutil\n",
    "\n",
    "for file, label in zip(trainl,trainq):\n",
    "    src = os.path.join(path_images, file)\n",
    "    dst = os.path.join(path , \"canal\", \"train\",label_dic.get(label), file)\n",
    "    shutil.copyfile(src, dst)\n",
    "    "
   ]
  },
  {
   "cell_type": "code",
   "execution_count": 47,
   "id": "f272b8db-1198-4a2e-b540-3d5235944b53",
   "metadata": {},
   "outputs": [],
   "source": [
    "# VALIDATION\n",
    "for file, label in zip(vall,valq) :\n",
    "    src = os.path.join(path_images, file)\n",
    "    dst = os.path.join(path , \"canal\", \"val\",label_dic.get(label), file)\n",
    "    shutil.copyfile(src, dst)"
   ]
  },
  {
   "cell_type": "code",
   "execution_count": 48,
   "id": "d06956cf",
   "metadata": {},
   "outputs": [],
   "source": [
    "# TEST\n",
    "for file, label in zip(testl,testq) :\n",
    "    src = os.path.join(path_images, file)\n",
    "    dst = os.path.join(path , \"canal\", \"test\",label_dic.get(label), file)\n",
    "    shutil.copyfile(src, dst)"
   ]
  },
  {
   "cell_type": "code",
   "execution_count": 49,
   "id": "3c459d6d",
   "metadata": {},
   "outputs": [
    {
     "data": {
      "text/plain": [
       "(9000, 1200, 1200)"
      ]
     },
     "execution_count": 49,
     "metadata": {},
     "output_type": "execute_result"
    }
   ],
   "source": [
    "len(trainl), len(testl), len(vall)"
   ]
  },
  {
   "cell_type": "code",
   "execution_count": null,
   "id": "a305974c-fad0-49fb-be1e-a7b8cd1bf06b",
   "metadata": {},
   "outputs": [],
   "source": []
  }
 ],
 "metadata": {
  "kernelspec": {
   "display_name": "Python 3 (ipykernel)",
   "language": "python",
   "name": "python3"
  },
  "language_info": {
   "codemirror_mode": {
    "name": "ipython",
    "version": 3
   },
   "file_extension": ".py",
   "mimetype": "text/x-python",
   "name": "python",
   "nbconvert_exporter": "python",
   "pygments_lexer": "ipython3",
   "version": "3.11.9"
  }
 },
 "nbformat": 4,
 "nbformat_minor": 5
}
