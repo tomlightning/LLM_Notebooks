{
 "cells": [
  {
   "cell_type": "code",
   "execution_count": 0,
   "metadata": {
    "application/vnd.databricks.v1+cell": {
     "cellMetadata": {
      "byteLimit": 2048000,
      "rowLimit": 10000
     },
     "inputWidgets": {},
     "nuid": "fe5d446a-48ea-4f14-9bb6-ceb564d04495",
     "showTitle": false,
     "title": ""
    }
   },
   "outputs": [
    {
     "output_type": "stream",
     "name": "stdout",
     "output_type": "stream",
     "text": [
      "\u001B[43mNote: you may need to restart the kernel using %restart_python or dbutils.library.restartPython() to use updated packages.\u001B[0m\n\u001B[43mNote: you may need to restart the kernel using %restart_python or dbutils.library.restartPython() to use updated packages.\u001B[0m\n"
     ]
    }
   ],
   "source": [
    "%pip install beautifulsoup4 faiss-cpu==1.7.4 langchain==0.1.16 langchain-community==0.0.33 langchain-openai==0.0.8 openai==1.12.0 tiktoken==0.6.0 mlflow==2.12.1 -q\n"
   ]
  },
  {
   "cell_type": "code",
   "execution_count": 0,
   "metadata": {
    "application/vnd.databricks.v1+cell": {
     "cellMetadata": {
      "byteLimit": 2048000,
      "rowLimit": 10000
     },
     "inputWidgets": {},
     "nuid": "1d9989fc-a4a9-4cc0-b241-5d71af993dc3",
     "showTitle": false,
     "title": ""
    }
   },
   "outputs": [],
   "source": [
    "dbutils.library.restartPython()"
   ]
  },
  {
   "cell_type": "code",
   "execution_count": 0,
   "metadata": {
    "application/vnd.databricks.v1+cell": {
     "cellMetadata": {
      "byteLimit": 2048000,
      "rowLimit": 10000
     },
     "inputWidgets": {},
     "nuid": "0430776a-25c4-4b03-920e-3fbdfe225e69",
     "showTitle": false,
     "title": ""
    }
   },
   "outputs": [],
   "source": [
    "import os\n",
    "import shutil\n",
    "import tempfile\n",
    "\n",
    "import requests\n",
    "from bs4 import BeautifulSoup\n",
    "from langchain.chains import RetrievalQA\n",
    "from langchain.document_loaders import TextLoader\n",
    "from langchain.text_splitter import CharacterTextSplitter\n",
    "from langchain.vectorstores import FAISS\n",
    "from langchain_openai import OpenAI, OpenAIEmbeddings\n",
    "\n",
    "import mlflow"
   ]
  },
  {
   "cell_type": "code",
   "execution_count": 0,
   "metadata": {
    "application/vnd.databricks.v1+cell": {
     "cellMetadata": {
      "byteLimit": 2048000,
      "rowLimit": 10000
     },
     "inputWidgets": {},
     "nuid": "c0f5d076-0c41-4162-9ccd-f091b3590f49",
     "showTitle": false,
     "title": ""
    }
   },
   "outputs": [],
   "source": [
    "import warnings\n",
    "\n",
    "# Disable a few less-than-useful UserWarnings from setuptools and pydantic\n",
    "warnings.filterwarnings(\"ignore\", category=UserWarning)"
   ]
  },
  {
   "cell_type": "code",
   "execution_count": 0,
   "metadata": {
    "application/vnd.databricks.v1+cell": {
     "cellMetadata": {
      "byteLimit": 2048000,
      "rowLimit": 10000
     },
     "inputWidgets": {},
     "nuid": "b8463793-a0a5-4041-afd1-ea9522e48448",
     "showTitle": false,
     "title": ""
    }
   },
   "outputs": [],
   "source": [
    "OPENAI_API_KEY= dbutils.secrets.get(scope= \"databricks-azure\", key = \"OPENAIAPIKEY\")\n",
    "\n",
    "if \"OPENAI_API_KEY\" not in os.environ:\n",
    "    os.environ[\"OPENAI_API_KEY\"] = OPENAI_API_KEY\n",
    "\n",
    "assert \"OPENAI_API_KEY\" in os.environ, \"Please set the OPENAI_API_KEY environment variable.\""
   ]
  },
  {
   "cell_type": "code",
   "execution_count": 0,
   "metadata": {
    "application/vnd.databricks.v1+cell": {
     "cellMetadata": {
      "byteLimit": 2048000,
      "rowLimit": 10000
     },
     "inputWidgets": {},
     "nuid": "3f3da367-1ec3-4e2b-bc07-95a450f21ded",
     "showTitle": false,
     "title": ""
    }
   },
   "outputs": [],
   "source": [
    "%run ./utils"
   ]
  },
  {
   "cell_type": "code",
   "execution_count": 0,
   "metadata": {
    "application/vnd.databricks.v1+cell": {
     "cellMetadata": {
      "byteLimit": 2048000,
      "rowLimit": 10000
     },
     "inputWidgets": {},
     "nuid": "f64e07e7-ce1a-46dc-825b-2779b20ac401",
     "showTitle": false,
     "title": ""
    }
   },
   "outputs": [],
   "source": [
    "temporary_directory = tempfile.mkdtemp()\n",
    "persist_dir = os.path.join(temporary_directory, \"faiss_index\")\n",
    "doc_path = os.path.join(temporary_directory, \"docs.txt\")\n",
    "url_listings = [\n",
    "    \"https://www.archives.gov/milestone-documents/act-establishing-yellowstone-national-park#transcript\",\n",
    "    \"https://www.archives.gov/milestone-documents/sherman-anti-trust-act#transcript\",\n",
    "]\n",
    "\n",
    "fetch_and_save_documents(url_listings, doc_path)"
   ]
  },
  {
   "cell_type": "code",
   "execution_count": 0,
   "metadata": {
    "application/vnd.databricks.v1+cell": {
     "cellMetadata": {
      "byteLimit": 2048000,
      "rowLimit": 10000
     },
     "inputWidgets": {},
     "nuid": "8fec5742-86af-4650-809a-2f7f1902850b",
     "showTitle": false,
     "title": ""
    }
   },
   "outputs": [
    {
     "output_type": "execute_result",
     "data": {
      "text/plain": [
       "'/tmp/tmp0vo1pv62/faiss_index'"
      ]
     },
     "execution_count": 8,
     "metadata": {},
     "output_type": "execute_result"
    }
   ],
   "source": [
    "persist_dir"
   ]
  },
  {
   "cell_type": "code",
   "execution_count": 0,
   "metadata": {
    "application/vnd.databricks.v1+cell": {
     "cellMetadata": {
      "byteLimit": 2048000,
      "rowLimit": 10000
     },
     "inputWidgets": {},
     "nuid": "ed88be37-d09f-4c64-832f-131f3a0f033b",
     "showTitle": false,
     "title": ""
    }
   },
   "outputs": [],
   "source": [
    "vector_db = create_faiss_database(doc_path, persist_dir)"
   ]
  },
  {
   "cell_type": "markdown",
   "metadata": {
    "application/vnd.databricks.v1+cell": {
     "cellMetadata": {},
     "inputWidgets": {},
     "nuid": "473a076f-ecc5-41c1-b9f9-fdcb7f13470e",
     "showTitle": false,
     "title": ""
    }
   },
   "source": [
    "### Supported Elements in MLflow LangChain Integration\n",
    "- LLMChain\n",
    "\n",
    "- Agents\n",
    "\n",
    "- RetrievalQA\n",
    "\n",
    "- Retrievers"
   ]
  },
  {
   "cell_type": "code",
   "execution_count": 0,
   "metadata": {
    "application/vnd.databricks.v1+cell": {
     "cellMetadata": {
      "byteLimit": 2048000,
      "rowLimit": 10000
     },
     "inputWidgets": {},
     "nuid": "3e4d2743-fd45-4154-bea6-54cd03a4d53c",
     "showTitle": false,
     "title": ""
    }
   },
   "outputs": [
    {
     "output_type": "display_data",
     "data": {
      "application/vnd.jupyter.widget-view+json": {
       "model_id": "4636698766b9418a9893ac1eb6442c99",
       "version_major": 2,
       "version_minor": 0
      },
      "text/plain": [
       "Uploading artifacts:   0%|          | 0/12 [00:00<?, ?it/s]"
      ]
     },
     "metadata": {},
     "output_type": "display_data"
    },
    {
     "output_type": "stream",
     "name": "stderr",
     "output_type": "stream",
     "text": [
      "2024/06/18 11:04:50 INFO mlflow.store.artifact.cloud_artifact_repo: The progress bar can be disabled by setting the environment variable MLFLOW_ENABLE_ARTIFACTS_PROGRESS_BAR to false\n"
     ]
    }
   ],
   "source": [
    "mlflow.set_experiment(\"/Users/olonok@hotmail.com/LLMOPS/Legal RAG\")\n",
    "\n",
    "retrievalQA = RetrievalQA.from_llm(llm=OpenAI(), retriever=vector_db.as_retriever())\n",
    "\n",
    "\n",
    "# Log the retrievalQA chain\n",
    "def load_retriever(persist_directory):\n",
    "    embeddings = OpenAIEmbeddings()\n",
    "    vectorstore = FAISS.load_local(\n",
    "        persist_directory,\n",
    "        embeddings,\n",
    "        allow_dangerous_deserialization=True,  # This is required to load the index from MLflow\n",
    "    )\n",
    "    return vectorstore.as_retriever()\n",
    "\n",
    "\n",
    "with mlflow.start_run() as run:\n",
    "    model_info = mlflow.langchain.log_model(\n",
    "        retrievalQA,\n",
    "        artifact_path=\"retrieval_qa\",\n",
    "        loader_fn=load_retriever,\n",
    "        persist_dir=persist_dir,\n",
    "    )"
   ]
  },
  {
   "cell_type": "code",
   "execution_count": 0,
   "metadata": {
    "application/vnd.databricks.v1+cell": {
     "cellMetadata": {
      "byteLimit": 2048000,
      "rowLimit": 10000
     },
     "inputWidgets": {},
     "nuid": "07346085-92ba-4368-85e8-dc8d21c15367",
     "showTitle": false,
     "title": ""
    }
   },
   "outputs": [
    {
     "output_type": "execute_result",
     "data": {
      "text/plain": [
       "{'info': {'artifact_uri': 'dbfs:/databricks/mlflow-tracking/2057591202958809/10cb646d8dd54976b3aff2eacc2fe036/artifacts',\n",
       "  'end_time': None,\n",
       "  'experiment_id': '2057591202958809',\n",
       "  'lifecycle_stage': 'active',\n",
       "  'run_id': '10cb646d8dd54976b3aff2eacc2fe036',\n",
       "  'run_name': 'loud-eel-888',\n",
       "  'run_uuid': '10cb646d8dd54976b3aff2eacc2fe036',\n",
       "  'start_time': 1718699709468,\n",
       "  'status': 'RUNNING',\n",
       "  'user_id': ''},\n",
       " 'data': {'metrics': {},\n",
       "  'params': {},\n",
       "  'tags': {'mlflow.databricks.cluster.id': '0617-210938-tuxu3pur',\n",
       "   'mlflow.databricks.notebook.commandID': '1409828623599537264_9020663491274508607_e4edd8b86e0d43afbdb3692d64101d74',\n",
       "   'mlflow.databricks.notebookID': '2057591202958785',\n",
       "   'mlflow.databricks.notebookPath': '/Users/olonok@hotmail.com/LLMOPS/LLMOPS Langchain',\n",
       "   'mlflow.databricks.webappURL': 'https://ukwest.azuredatabricks.net',\n",
       "   'mlflow.databricks.workspaceID': '1286930193882465',\n",
       "   'mlflow.databricks.workspaceURL': 'adb-1286930193882465.5.azuredatabricks.net',\n",
       "   'mlflow.runName': 'loud-eel-888',\n",
       "   'mlflow.source.name': '/Users/olonok@hotmail.com/LLMOPS/LLMOPS Langchain',\n",
       "   'mlflow.source.type': 'NOTEBOOK',\n",
       "   'mlflow.user': '1491868126462402'}}}"
      ]
     },
     "execution_count": 11,
     "metadata": {},
     "output_type": "execute_result"
    }
   ],
   "source": [
    "run.to_dictionary()"
   ]
  },
  {
   "cell_type": "code",
   "execution_count": 0,
   "metadata": {
    "application/vnd.databricks.v1+cell": {
     "cellMetadata": {
      "byteLimit": 2048000,
      "rowLimit": 10000
     },
     "inputWidgets": {},
     "nuid": "b5c3ded1-c49f-4032-a82d-ae8d53e5228d",
     "showTitle": false,
     "title": ""
    }
   },
   "outputs": [
    {
     "output_type": "execute_result",
     "data": {
      "text/plain": [
       "'runs:/a225bae6dfd64a9cb6355647ce38ae75/retrieval_qa'"
      ]
     },
     "execution_count": 12,
     "metadata": {},
     "output_type": "execute_result"
    }
   ],
   "source": [
    "model_info.model_uri"
   ]
  },
  {
   "cell_type": "code",
   "execution_count": 0,
   "metadata": {
    "application/vnd.databricks.v1+cell": {
     "cellMetadata": {
      "byteLimit": 2048000,
      "rowLimit": 10000
     },
     "inputWidgets": {},
     "nuid": "0a82653d-33a9-4864-96e9-8503c53caec6",
     "showTitle": false,
     "title": ""
    }
   },
   "outputs": [
    {
     "output_type": "display_data",
     "data": {
      "application/vnd.jupyter.widget-view+json": {
       "model_id": "f862f09c64f44b4298744e5f15cadba6",
       "version_major": 2,
       "version_minor": 0
      },
      "text/plain": [
       "Downloading artifacts:   0%|          | 0/12 [00:00<?, ?it/s]"
      ]
     },
     "metadata": {},
     "output_type": "display_data"
    },
    {
     "output_type": "stream",
     "name": "stderr",
     "output_type": "stream",
     "text": [
      "2024/06/18 11:08:35 INFO mlflow.store.artifact.artifact_repo: The progress bar can be disabled by setting the environment variable MLFLOW_ENABLE_ARTIFACTS_PROGRESS_BAR to false\n"
     ]
    }
   ],
   "source": [
    "loaded_model = mlflow.pyfunc.load_model(model_info.model_uri)"
   ]
  },
  {
   "cell_type": "code",
   "execution_count": 0,
   "metadata": {
    "application/vnd.databricks.v1+cell": {
     "cellMetadata": {
      "byteLimit": 2048000,
      "rowLimit": 10000
     },
     "inputWidgets": {},
     "nuid": "c04614b2-4099-4005-bffd-b0a3ce96fc6c",
     "showTitle": false,
     "title": ""
    }
   },
   "outputs": [],
   "source": [
    "def print_formatted_response(response_list, max_line_length=80):\n",
    "    \"\"\"\n",
    "    Formats and prints responses with a maximum line length for better readability.\n",
    "\n",
    "    Args:\n",
    "    response_list (list): A list of strings representing responses.\n",
    "    max_line_length (int): Maximum number of characters in a line. Defaults to 80.\n",
    "    \"\"\"\n",
    "    for response in response_list:\n",
    "        words = response.split()\n",
    "        line = \"\"\n",
    "        for word in words:\n",
    "            if len(line) + len(word) + 1 <= max_line_length:\n",
    "                line += word + \" \"\n",
    "            else:\n",
    "                print(line)\n",
    "                line = word + \" \"\n",
    "        print(line)"
   ]
  },
  {
   "cell_type": "code",
   "execution_count": 0,
   "metadata": {
    "application/vnd.databricks.v1+cell": {
     "cellMetadata": {
      "byteLimit": 2048000,
      "rowLimit": 10000
     },
     "inputWidgets": {},
     "nuid": "7345233a-2649-4411-af78-066f594ff11d",
     "showTitle": false,
     "title": ""
    }
   },
   "outputs": [
    {
     "output_type": "stream",
     "name": "stderr",
     "output_type": "stream",
     "text": [
      "/local_disk0/.ephemeral_nfs/envs/pythonEnv-1f59b01b-69df-4c50-9e7b-cb3219a78aa9/lib/python3.11/site-packages/langchain_core/_api/deprecation.py:119: LangChainDeprecationWarning: The method `Chain.__call__` was deprecated in langchain 0.1.0 and will be removed in 0.2.0. Use invoke instead.\n  warn_deprecated(\n"
     ]
    },
    {
     "output_type": "stream",
     "name": "stdout",
     "output_type": "stream",
     "text": [
      "The document states that anyone who settles, occupies, or trespasses on the \nland reserved for the public park near the headwaters of the Yellowstone River \nwill be considered a trespasser and will be removed. \n"
     ]
    }
   ],
   "source": [
    "answer1 = loaded_model.predict([{\"query\": \"What does the document say about trespassers?\"}])\n",
    "\n",
    "print_formatted_response(answer1)"
   ]
  },
  {
   "cell_type": "code",
   "execution_count": 0,
   "metadata": {
    "application/vnd.databricks.v1+cell": {
     "cellMetadata": {
      "byteLimit": 2048000,
      "rowLimit": 10000
     },
     "inputWidgets": {},
     "nuid": "92c0788e-e35e-4801-bc8b-509118e8eed0",
     "showTitle": false,
     "title": ""
    }
   },
   "outputs": [
    {
     "output_type": "stream",
     "name": "stdout",
     "output_type": "stream",
     "text": [
      "legalRAG - olonok@hotmail_com\n"
     ]
    }
   ],
   "source": [
    "# Define the name for the model in the Model Registry.\n",
    "# We filter out some special characters which cannot be used in model names.\n",
    "user= \"olonok@hotmail.com\"\n",
    "model_name = f\"legalRAG - {user}\"\n",
    "model_name = model_name.replace(\"/\", \"_\").replace(\".\", \"_\").replace(\":\", \"_\")\n",
    "print(model_name)"
   ]
  },
  {
   "cell_type": "markdown",
   "metadata": {
    "application/vnd.databricks.v1+cell": {
     "cellMetadata": {},
     "inputWidgets": {},
     "nuid": "4249a8e4-051d-4ac7-9913-4ffc4e80c957",
     "showTitle": false,
     "title": ""
    }
   },
   "source": [
    "# Register Model"
   ]
  },
  {
   "cell_type": "code",
   "execution_count": 0,
   "metadata": {
    "application/vnd.databricks.v1+cell": {
     "cellMetadata": {
      "byteLimit": 2048000,
      "rowLimit": 10000
     },
     "inputWidgets": {},
     "nuid": "a69485e4-932a-4d23-8a60-ef8005921204",
     "showTitle": false,
     "title": ""
    }
   },
   "outputs": [
    {
     "output_type": "execute_result",
     "data": {
      "text/plain": [
       "'runs:/a225bae6dfd64a9cb6355647ce38ae75/retrieval_qa'"
      ]
     },
     "execution_count": 17,
     "metadata": {},
     "output_type": "execute_result"
    }
   ],
   "source": [
    "\n",
    "model_info.model_uri"
   ]
  },
  {
   "cell_type": "code",
   "execution_count": 0,
   "metadata": {
    "application/vnd.databricks.v1+cell": {
     "cellMetadata": {
      "byteLimit": 2048000,
      "rowLimit": 10000
     },
     "inputWidgets": {},
     "nuid": "ced749cd-d169-41ee-989f-d89eff9b025d",
     "showTitle": false,
     "title": ""
    }
   },
   "outputs": [
    {
     "output_type": "stream",
     "name": "stderr",
     "output_type": "stream",
     "text": [
      "Registered model 'legalRAG - olonok@hotmail_com' already exists. Creating a new version of this model...\n2024/06/18 11:10:25 INFO mlflow.store.model_registry.abstract_store: Waiting up to 300 seconds for model version to finish creation. Model name: legalRAG - olonok@hotmail_com, version 3\nCreated version '3' of model 'legalRAG - olonok@hotmail_com'.\n"
     ]
    },
    {
     "output_type": "execute_result",
     "data": {
      "text/plain": [
       "<ModelVersion: aliases=[], creation_timestamp=1718709025358, current_stage='None', description='', last_updated_timestamp=1718709025358, name='legalRAG - olonok@hotmail_com', run_id='a225bae6dfd64a9cb6355647ce38ae75', run_link='', source='dbfs:/databricks/mlflow-tracking/2057591202958809/a225bae6dfd64a9cb6355647ce38ae75/artifacts/retrieval_qa', status='PENDING_REGISTRATION', status_message='', tags={}, user_id='1491868126462402', version='3'>"
      ]
     },
     "execution_count": 18,
     "metadata": {},
     "output_type": "execute_result"
    }
   ],
   "source": [
    "# Register a new model under the given name, or a new model version if the name exists already.\n",
    "mlflow.register_model(model_uri=model_info.model_uri, name=model_name)"
   ]
  },
  {
   "cell_type": "markdown",
   "metadata": {
    "application/vnd.databricks.v1+cell": {
     "cellMetadata": {},
     "inputWidgets": {},
     "nuid": "f69beb17-1def-46cd-a21d-f8489c128055",
     "showTitle": false,
     "title": ""
    }
   },
   "source": [
    "# Test Model from Registry"
   ]
  },
  {
   "cell_type": "code",
   "execution_count": 0,
   "metadata": {
    "application/vnd.databricks.v1+cell": {
     "cellMetadata": {
      "byteLimit": 2048000,
      "rowLimit": 10000
     },
     "inputWidgets": {},
     "nuid": "38faf3cc-84ee-4815-aa98-4f4b630c7a99",
     "showTitle": false,
     "title": ""
    }
   },
   "outputs": [
    {
     "output_type": "execute_result",
     "data": {
      "text/plain": [
       "[<RegisteredModel: aliases={}, creation_timestamp=1718660612240, description='', last_updated_timestamp=1718709025358, latest_versions=[<ModelVersion: aliases=[], creation_timestamp=1718660612632, current_stage='Archived', description='', last_updated_timestamp=1718700396046, name='legalRAG - olonok@hotmail_com', run_id='1ba74217fb6a44438520b8956696b903', run_link='', source='dbfs:/databricks/mlflow-tracking/2057591202958809/1ba74217fb6a44438520b8956696b903/artifacts/retrieval_qa', status='READY', status_message='', tags={}, user_id='olonok@hotmail.com', version='1'>,\n",
       "  <ModelVersion: aliases=[], creation_timestamp=1718709025358, current_stage='None', description='', last_updated_timestamp=1718709027737, name='legalRAG - olonok@hotmail_com', run_id='a225bae6dfd64a9cb6355647ce38ae75', run_link='', source='dbfs:/databricks/mlflow-tracking/2057591202958809/a225bae6dfd64a9cb6355647ce38ae75/artifacts/retrieval_qa', status='READY', status_message='', tags={}, user_id='olonok@hotmail.com', version='3'>,\n",
       "  <ModelVersion: aliases=[], creation_timestamp=1718700263977, current_stage='Production', description='', last_updated_timestamp=1718700447493, name='legalRAG - olonok@hotmail_com', run_id='10cb646d8dd54976b3aff2eacc2fe036', run_link='', source='dbfs:/databricks/mlflow-tracking/2057591202958809/10cb646d8dd54976b3aff2eacc2fe036/artifacts/retrieval_qa', status='READY', status_message='', tags={}, user_id='olonok@hotmail.com', version='2'>], name='legalRAG - olonok@hotmail_com', tags={}>]"
      ]
     },
     "execution_count": 19,
     "metadata": {},
     "output_type": "execute_result"
    }
   ],
   "source": [
    "from mlflow import MlflowClient\n",
    "\n",
    "client = MlflowClient()\n",
    "client.search_registered_models(filter_string=f\"name = '{model_name}'\")"
   ]
  },
  {
   "cell_type": "code",
   "execution_count": 0,
   "metadata": {
    "application/vnd.databricks.v1+cell": {
     "cellMetadata": {
      "byteLimit": 2048000,
      "rowLimit": 10000
     },
     "inputWidgets": {},
     "nuid": "b9409590-a8d4-4ff8-a05f-8cc658c4f82d",
     "showTitle": false,
     "title": ""
    }
   },
   "outputs": [
    {
     "output_type": "display_data",
     "data": {
      "application/vnd.jupyter.widget-view+json": {
       "model_id": "24d99e389b0945ffaaf634f61f386f45",
       "version_major": 2,
       "version_minor": 0
      },
      "text/plain": [
       "Downloading artifacts:   0%|          | 0/12 [00:00<?, ?it/s]"
      ]
     },
     "metadata": {},
     "output_type": "display_data"
    },
    {
     "output_type": "stream",
     "name": "stderr",
     "output_type": "stream",
     "text": [
      "2024/06/18 11:14:16 INFO mlflow.store.artifact.artifact_repo: The progress bar can be disabled by setting the environment variable MLFLOW_ENABLE_ARTIFACTS_PROGRESS_BAR to false\n"
     ]
    },
    {
     "output_type": "execute_result",
     "data": {
      "text/plain": [
       "mlflow.pyfunc.loaded_model:\n",
       "  artifact_path: retrieval_qa\n",
       "  flavor: mlflow.langchain\n",
       "  run_id: 10cb646d8dd54976b3aff2eacc2fe036"
      ]
     },
     "execution_count": 20,
     "metadata": {},
     "output_type": "execute_result"
    }
   ],
   "source": [
    "model_version = 2\n",
    "dev_model = mlflow.pyfunc.load_model(model_uri=f\"models:/{model_name}/{model_version}\")\n",
    "dev_model"
   ]
  },
  {
   "cell_type": "code",
   "execution_count": 0,
   "metadata": {
    "application/vnd.databricks.v1+cell": {
     "cellMetadata": {
      "byteLimit": 2048000,
      "rowLimit": 10000
     },
     "inputWidgets": {},
     "nuid": "5e3d4373-9e50-4823-85d8-ebb69ed794f3",
     "showTitle": false,
     "title": ""
    }
   },
   "outputs": [
    {
     "output_type": "stream",
     "name": "stderr",
     "output_type": "stream",
     "text": [
      "/root/.ipykernel/1263/command-2057591202958821-3079282698:1: FutureWarning: ``mlflow.tracking.client.MlflowClient.transition_model_version_stage`` is deprecated since 2.9.0. Model registry stages will be removed in a future major release. To learn more about the deprecation of model registry stages, see our migration guide here: https://mlflow.org/docs/2.12.1/model-registry.html#migrating-from-stages\n  client.transition_model_version_stage(model_name, model_version, \"Archived\")\n"
     ]
    },
    {
     "output_type": "execute_result",
     "data": {
      "text/plain": [
       "<ModelVersion: aliases=[], creation_timestamp=1718700263977, current_stage='Archived', description='', last_updated_timestamp=1718709263980, name='legalRAG - olonok@hotmail_com', run_id='10cb646d8dd54976b3aff2eacc2fe036', run_link='', source='dbfs:/databricks/mlflow-tracking/2057591202958809/10cb646d8dd54976b3aff2eacc2fe036/artifacts/retrieval_qa', status='READY', status_message='', tags={}, user_id='1491868126462402', version='2'>"
      ]
     },
     "execution_count": 21,
     "metadata": {},
     "output_type": "execute_result"
    }
   ],
   "source": [
    "client.transition_model_version_stage(model_name, model_version, \"Archived\")"
   ]
  },
  {
   "cell_type": "code",
   "execution_count": 0,
   "metadata": {
    "application/vnd.databricks.v1+cell": {
     "cellMetadata": {
      "byteLimit": 2048000,
      "rowLimit": 10000
     },
     "inputWidgets": {},
     "nuid": "bb4a561f-e837-4907-b859-ed7a823e6295",
     "showTitle": false,
     "title": ""
    }
   },
   "outputs": [
    {
     "output_type": "display_data",
     "data": {
      "application/vnd.jupyter.widget-view+json": {
       "model_id": "0c7b1d935cfb4b73b21d26a57089ed14",
       "version_major": 2,
       "version_minor": 0
      },
      "text/plain": [
       "Downloading artifacts:   0%|          | 0/12 [00:00<?, ?it/s]"
      ]
     },
     "metadata": {},
     "output_type": "display_data"
    },
    {
     "output_type": "stream",
     "name": "stderr",
     "output_type": "stream",
     "text": [
      "2024/06/18 11:16:15 INFO mlflow.store.artifact.artifact_repo: The progress bar can be disabled by setting the environment variable MLFLOW_ENABLE_ARTIFACTS_PROGRESS_BAR to false\n"
     ]
    },
    {
     "output_type": "execute_result",
     "data": {
      "text/plain": [
       "mlflow.pyfunc.loaded_model:\n",
       "  artifact_path: retrieval_qa\n",
       "  flavor: mlflow.langchain\n",
       "  run_id: a225bae6dfd64a9cb6355647ce38ae75"
      ]
     },
     "execution_count": 23,
     "metadata": {},
     "output_type": "execute_result"
    }
   ],
   "source": [
    "model_version = 3\n",
    "dev_model = mlflow.pyfunc.load_model(model_uri=f\"models:/{model_name}/{model_version}\")\n",
    "dev_model"
   ]
  },
  {
   "cell_type": "code",
   "execution_count": 0,
   "metadata": {
    "application/vnd.databricks.v1+cell": {
     "cellMetadata": {
      "byteLimit": 2048000,
      "rowLimit": 10000
     },
     "inputWidgets": {},
     "nuid": "e0c3895f-60d8-46d3-aed0-984d4377992c",
     "showTitle": false,
     "title": ""
    }
   },
   "outputs": [
    {
     "output_type": "stream",
     "name": "stderr",
     "output_type": "stream",
     "text": [
      "/root/.ipykernel/1263/command-2428707818863070-2740612586:1: FutureWarning: ``mlflow.tracking.client.MlflowClient.transition_model_version_stage`` is deprecated since 2.9.0. Model registry stages will be removed in a future major release. To learn more about the deprecation of model registry stages, see our migration guide here: https://mlflow.org/docs/2.12.1/model-registry.html#migrating-from-stages\n  client.transition_model_version_stage(model_name, model_version, \"Production\")\n"
     ]
    },
    {
     "output_type": "execute_result",
     "data": {
      "text/plain": [
       "<ModelVersion: aliases=[], creation_timestamp=1718709025358, current_stage='Production', description='', last_updated_timestamp=1718709400632, name='legalRAG - olonok@hotmail_com', run_id='a225bae6dfd64a9cb6355647ce38ae75', run_link='', source='dbfs:/databricks/mlflow-tracking/2057591202958809/a225bae6dfd64a9cb6355647ce38ae75/artifacts/retrieval_qa', status='READY', status_message='', tags={}, user_id='1491868126462402', version='3'>"
      ]
     },
     "execution_count": 24,
     "metadata": {},
     "output_type": "execute_result"
    }
   ],
   "source": [
    "client.transition_model_version_stage(model_name, model_version, \"Production\")"
   ]
  },
  {
   "cell_type": "code",
   "execution_count": 0,
   "metadata": {
    "application/vnd.databricks.v1+cell": {
     "cellMetadata": {
      "byteLimit": 2048000,
      "rowLimit": 10000
     },
     "inputWidgets": {},
     "nuid": "2ffcd12e-4238-4b7e-b62a-96718b964621",
     "showTitle": false,
     "title": ""
    }
   },
   "outputs": [
    {
     "output_type": "stream",
     "name": "stdout",
     "output_type": "stream",
     "text": [
      "No, according to the context and the act passed by the 51st Congress of the \nUnited States in 1890, it is illegal to monopolize any part of trade or \ncommerce among the states, including buying land from the federal government \nfor commercial purposes. Additionally, the land near the headwaters of the \nYellowstone River was set aside as a public park for the enjoyment and benefit \nof the people, and any attempts to buy or occupy the land for personal gain \nwould be considered trespassing. \n"
     ]
    }
   ],
   "source": [
    "answer3 = dev_model.predict(\n",
    "    [\n",
    "        {\n",
    "            \"query\": \"Can I buy Yellowstone from the Federal Government to set up a buffalo-themed day spa?\"\n",
    "        }\n",
    "    ]\n",
    ")\n",
    "\n",
    "print_formatted_response(answer3)"
   ]
  },
  {
   "cell_type": "code",
   "execution_count": 0,
   "metadata": {
    "application/vnd.databricks.v1+cell": {
     "cellMetadata": {
      "byteLimit": 2048000,
      "rowLimit": 10000
     },
     "inputWidgets": {},
     "nuid": "d2da1c99-a5e9-41da-9b96-1c44938a3cdb",
     "showTitle": false,
     "title": ""
    }
   },
   "outputs": [
    {
     "output_type": "stream",
     "name": "stdout",
     "output_type": "stream",
     "text": [
      "No, according to the context provided, the Secretary of the Interior has the \nexclusive control over the public park and can only grant leases for building \npurposes for terms not exceeding ten years for buildings that accommodate \nvisitors. A buffalo-themed day spa would not fall under this category and \ntherefore cannot be leased from the Federal Government. \n"
     ]
    }
   ],
   "source": [
    "answer4 = dev_model.predict(\n",
    "    [\n",
    "        {\n",
    "            \"query\": \"Can I lease a small parcel of land from the Federal Government for a small \"\n",
    "            \"buffalo-themed day spa for visitors to the park?\"\n",
    "        }\n",
    "    ]\n",
    ")\n",
    "\n",
    "print_formatted_response(answer4)"
   ]
  },
  {
   "cell_type": "code",
   "execution_count": 0,
   "metadata": {
    "application/vnd.databricks.v1+cell": {
     "cellMetadata": {
      "byteLimit": 2048000,
      "rowLimit": 10000
     },
     "inputWidgets": {},
     "nuid": "aea94103-ae6c-452d-8457-b933332e5849",
     "showTitle": false,
     "title": ""
    }
   },
   "outputs": [
    {
     "output_type": "stream",
     "name": "stdout",
     "output_type": "stream",
     "text": [
      "It is not stated in the context whether or not leases for building purposes are \nallowed in this particular park. It would be best to consult with the Secretary \nof the Interior for further information on the regulations and processes for \nobtaining a lease in the park. \n"
     ]
    }
   ],
   "source": [
    "answer5 = dev_model.predict(\n",
    "    [\n",
    "        {\n",
    "            \"query\": \"Can I lease a small parcel of land from the Federal Government for a small \"\n",
    "            \"buffalo-themed day spa and hotel for visitors to stay in and relax at while visiting the park?\"\n",
    "        }\n",
    "    ]\n",
    ")\n",
    "print_formatted_response(answer5)"
   ]
  }
 ],
 "metadata": {
  "application/vnd.databricks.v1+notebook": {
   "dashboards": [],
   "environmentMetadata": null,
   "language": "python",
   "notebookMetadata": {
    "pythonIndentUnit": 4
   },
   "notebookName": "LLMOPS Langchain",
   "widgets": {}
  }
 },
 "nbformat": 4,
 "nbformat_minor": 0
}
