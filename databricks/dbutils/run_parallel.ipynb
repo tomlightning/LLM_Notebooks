{
 "cells": [
  {
   "cell_type": "code",
   "execution_count": 0,
   "metadata": {
    "application/vnd.databricks.v1+cell": {
     "cellMetadata": {
      "byteLimit": 2048000,
      "rowLimit": 10000
     },
     "inputWidgets": {},
     "nuid": "cb3017fa-0483-4600-81a5-7edd53148c1d",
     "showTitle": false,
     "title": ""
    }
   },
   "outputs": [
    {
     "output_type": "stream",
     "name": "stdout",
     "output_type": "stream",
     "text": [
      "Executing 6 notebooks with a maxParallel of 3\nExecuting notebook ./py1\nExecuting notebook ./py2\nExecuting notebook ./py3\nExecuting notebook ./py4\nExecuting notebook ./py5\nExecuting notebook ./py6\n[{'status': 'succeeded', 'notebook': './py1'}, {'status': 'succeeded', 'notebook': './py2'}, {'status': 'succeeded', 'notebook': './py3'}, {'status': 'succeeded', 'notebook': './py4'}, {'status': 'succeeded', 'notebook': './py5'}, {'status': 'succeeded', 'notebook': './py6'}]\n"
     ]
    }
   ],
   "source": [
    "from concurrent.futures import ThreadPoolExecutor, Future\n",
    "from dataclasses import dataclass\n",
    "from typing import List\n",
    "import json\n",
    " \n",
    "# used to carry notebook data\n",
    "@dataclass\n",
    "class Notebook:\n",
    "  path: str\n",
    "  timeout: int\n",
    "  parameters: dict = None\n",
    "  retry: int = 0\n",
    "  enabled:bool = True\n",
    "     \n",
    "  # add the notebook name to parameters using the path and return\n",
    "  def getParameters(self):\n",
    "     \n",
    "    if not self.parameters:\n",
    "      self.parameters = dict()\n",
    "       \n",
    "    params = self.parameters\n",
    "    params[\"notebook\"] = self.path\n",
    "    return params\n",
    " \n",
    "# execute a notebook using databricks workflows\n",
    "def executeNotebook(notebook:Notebook):\n",
    "   \n",
    "  print(f\"Executing notebook {notebook.path}\")\n",
    "   \n",
    "  try:\n",
    "     \n",
    "    return dbutils.notebook.run(notebook.path, notebook.timeout, notebook.getParameters())\n",
    "   \n",
    "  except Exception as e:\n",
    "     \n",
    "    if notebook.retry < 1:\n",
    "      failed = json.dumps({\n",
    "          \"status\" : \"failed\",\n",
    "          \"error\" : str(e),\n",
    "          \"notebook\" : notebook.path})\n",
    "      raise Exception(failed)\n",
    "     \n",
    "    print(f\"Retrying notebook {notebook.path}\")\n",
    "    notebook.retry -= 1\n",
    "   \n",
    "   \n",
    "def tryFuture(future:Future):\n",
    "  try:\n",
    "    return json.loads(future.result())\n",
    "  except Exception as e:\n",
    "    return json.loads(str(e))\n",
    "   \n",
    "   \n",
    "# Parallel execute a list of notebooks\n",
    "def executeNotebooks(notebooks:List[Notebook], maxParallel:int):\n",
    "   \n",
    "  print(f\"Executing {len(notebooks)} notebooks with a maxParallel of {maxParallel}\")\n",
    "  with ThreadPoolExecutor(max_workers=maxParallel) as executor:\n",
    " \n",
    "    results = [executor.submit(executeNotebook, notebook)\n",
    "            for notebook in notebooks \n",
    "            if notebook.enabled]\n",
    "   \n",
    "    # the individual notebooks handle their errors and pass back a packaged result\n",
    "    # we will still need to handle the fact that the notebook execution call may fail\n",
    "    # or a programmer missed the handling of an error in the notebook task\n",
    "    # that's what tryFuture(future:Future) does    \n",
    "    return [tryFuture(r) for r in results]\n",
    " \n",
    "   \n",
    "# build a list of notebooks to run\n",
    "notebooks = [\n",
    "  Notebook(\"./py1\", 3600, {\"waittimeout\": 15}, 0, True),\n",
    "  Notebook(\"./py2\", 3600, {\"waittimeout\": 10}, 0, True),\n",
    "  Notebook(\"./py3\", 3600, {\"waittimeout\": 8},  0, True),\n",
    "  Notebook(\"./py4\", 3600, {\"waittimeout\": 6},  0, True),\n",
    "  Notebook(\"./py5\", 3600, {\"waittimeout\": 18},  0, True),\n",
    "  Notebook(\"./py6\", 3600, {\"waittimeout\": 3},  0, True),\n",
    "\n",
    "]\n",
    " \n",
    "# execute the notebooks in 4 parallel tasks\n",
    "results = executeNotebooks(notebooks, 3)\n",
    " \n",
    "# show the results\n",
    "print(results)"
   ]
  }
 ],
 "metadata": {
  "application/vnd.databricks.v1+notebook": {
   "dashboards": [],
   "environmentMetadata": null,
   "language": "python",
   "notebookMetadata": {
    "pythonIndentUnit": 4
   },
   "notebookName": "run_parallel",
   "widgets": {}
  }
 },
 "nbformat": 4,
 "nbformat_minor": 0
}
