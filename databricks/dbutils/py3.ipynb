{
 "cells": [
  {
   "cell_type": "code",
   "execution_count": 0,
   "metadata": {
    "application/vnd.databricks.v1+cell": {
     "cellMetadata": {
      "byteLimit": 2048000,
      "rowLimit": 10000
     },
     "inputWidgets": {},
     "nuid": "06643d9d-687c-4bf9-a94f-38432216f458",
     "showTitle": false,
     "title": ""
    }
   },
   "outputs": [],
   "source": [
    "# uncomment this and run once when creating to create the parameters\n",
    "# once that's done comment it back out.\n",
    "# dbutils.widgets.removeAll()\n",
    "# dbutils.widgets.text(\"waittimeout\", \"0\", \"WaitTimout(s)\")\n",
    "# dbutils.widgets.text(\"notebook\", \"./py3\", \"notebook\")\n",
    " \n",
    "import time\n",
    "import json\n",
    " \n",
    "try:\n",
    "  seconds = int(dbutils.widgets.get(\"waittimeout\"))\n",
    "  notebook = dbutils.widgets.get(\"notebook\")\n",
    "  print(f\"Sleeping for {seconds} seconds...\")\n",
    "  time.sleep(seconds)\n",
    "except Exception as e:\n",
    "  out = {\n",
    "    \"status\" : \"failed\",\n",
    "    \"error\" : str(e),\n",
    "    \"notebook\" : notebook\n",
    "  }\n",
    "  dbutils.notebook.exit(json.dumps(out))\n",
    " \n",
    "out = json.dumps({\n",
    "  \"status\" : \"succeeded\",\n",
    "  \"notebook\" : notebook})\n",
    " \n",
    "dbutils.notebook.exit(out)\n"
   ]
  }
 ],
 "metadata": {
  "application/vnd.databricks.v1+notebook": {
   "dashboards": [],
   "environmentMetadata": null,
   "language": "python",
   "notebookMetadata": {
    "pythonIndentUnit": 4
   },
   "notebookName": "py3",
   "widgets": {}
  }
 },
 "nbformat": 4,
 "nbformat_minor": 0
}
