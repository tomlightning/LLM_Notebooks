{
 "cells": [
  {
   "cell_type": "code",
   "execution_count": 0,
   "metadata": {
    "application/vnd.databricks.v1+cell": {
     "cellMetadata": {
      "byteLimit": 2048000,
      "rowLimit": 10000
     },
     "inputWidgets": {},
     "nuid": "18ad9876-fc8e-47e4-9a17-ba1729adb81d",
     "showTitle": false,
     "title": ""
    }
   },
   "outputs": [
    {
     "output_type": "execute_result",
     "data": {
      "text/plain": [
       "[SecretScope(name='databricks-azure'),\n",
       " SecretScope(name='local-scope'),\n",
       " SecretScope(name='test-dev'),\n",
       " SecretScope(name='test-dev-2'),\n",
       " SecretScope(name='test-dev-3'),\n",
       " SecretScope(name='test-scope-test2'),\n",
       " SecretScope(name='test-scope-test3')]"
      ]
     },
     "execution_count": 10,
     "metadata": {},
     "output_type": "execute_result"
    }
   ],
   "source": [
    "dbutils.secrets.listScopes()"
   ]
  },
  {
   "cell_type": "code",
   "execution_count": 0,
   "metadata": {
    "application/vnd.databricks.v1+cell": {
     "cellMetadata": {
      "byteLimit": 2048000,
      "rowLimit": 10000
     },
     "inputWidgets": {},
     "nuid": "bb628dba-66ca-449d-b942-099eefe66170",
     "showTitle": false,
     "title": ""
    }
   },
   "outputs": [
    {
     "output_type": "execute_result",
     "data": {
      "text/plain": [
       "'[REDACTED]'"
      ]
     },
     "execution_count": 9,
     "metadata": {},
     "output_type": "execute_result"
    }
   ],
   "source": [
    "dbutils.secrets.get(scope= \"test-dev\", key = \"HF_TOKEN\")"
   ]
  },
  {
   "cell_type": "code",
   "execution_count": 0,
   "metadata": {
    "application/vnd.databricks.v1+cell": {
     "cellMetadata": {
      "byteLimit": 2048000,
      "rowLimit": 10000
     },
     "inputWidgets": {},
     "nuid": "83487c9d-2dbc-4175-ba7c-06f17c0c31a7",
     "showTitle": false,
     "title": ""
    }
   },
   "outputs": [
    {
     "output_type": "execute_result",
     "data": {
      "text/plain": [
       "[SecretMetadata(key='DATABRICKS_TOKEN'),\n",
       " SecretMetadata(key='HF_TOKEN'),\n",
       " SecretMetadata(key='test-key'),\n",
       " SecretMetadata(key='test-key-2')]"
      ]
     },
     "execution_count": 3,
     "metadata": {},
     "output_type": "execute_result"
    }
   ],
   "source": [
    "dbutils.secrets.list(scope=\"test-dev\")"
   ]
  },
  {
   "cell_type": "code",
   "execution_count": 0,
   "metadata": {
    "application/vnd.databricks.v1+cell": {
     "cellMetadata": {
      "byteLimit": 2048000,
      "rowLimit": 10000
     },
     "inputWidgets": {},
     "nuid": "a9812d0c-92aa-4ea5-a1cf-ed6306a228f1",
     "showTitle": false,
     "title": ""
    }
   },
   "outputs": [
    {
     "output_type": "execute_result",
     "data": {
      "text/plain": [
       "[SecretMetadata(key='cd2e4b76-c4bf-4826-bdd3-addc6c4f7cee-8CfSLrz1ASCMGCrNI9dkPbzl7M9sUi5U7O1cFmiieeI'),\n",
       " SecretMetadata(key='cd2e4b76-c4bf-4826-bdd3-addc6c4f7cee-bUt1Qdglk0S06U-nyiMMxO0TYuuwYoVIq37OcgcL6TA'),\n",
       " SecretMetadata(key='cd2e4b76-c4bf-4826-bdd3-addc6c4f7cee-e6UfIDBVevZNE5bSaGApCGxWAAn4rivk3P1kF4cJ19I'),\n",
       " SecretMetadata(key='cd2e4b76-c4bf-4826-bdd3-addc6c4f7cee-gKj5vnGDg3hwYjM4VcUgcyGehfv8zbADO6Zy9tMRbTQ'),\n",
       " SecretMetadata(key='cd2e4b76-c4bf-4826-bdd3-addc6c4f7cee-lvgq7p7B8u3qytG65UC-zu99URLrd-jPbeQaMCj2tS4'),\n",
       " SecretMetadata(key='test-local'),\n",
       " SecretMetadata(key='test-local-2'),\n",
       " SecretMetadata(key='test3')]"
      ]
     },
     "execution_count": 11,
     "metadata": {},
     "output_type": "execute_result"
    }
   ],
   "source": [
    "dbutils.secrets.list(scope=\"test-scope-test3\")"
   ]
  },
  {
   "cell_type": "code",
   "execution_count": 0,
   "metadata": {
    "application/vnd.databricks.v1+cell": {
     "cellMetadata": {
      "byteLimit": 2048000,
      "rowLimit": 10000
     },
     "inputWidgets": {},
     "nuid": "3008019e-d907-4da6-bc9c-672cc752c126",
     "showTitle": false,
     "title": ""
    }
   },
   "outputs": [
    {
     "output_type": "execute_result",
     "data": {
      "text/plain": [
       "'[REDACTED]'"
      ]
     },
     "execution_count": 12,
     "metadata": {},
     "output_type": "execute_result"
    }
   ],
   "source": [
    "dbutils.secrets.get(scope= \"test-scope-test3\", key = \"test3\")"
   ]
  },
  {
   "cell_type": "code",
   "execution_count": 0,
   "metadata": {
    "application/vnd.databricks.v1+cell": {
     "cellMetadata": {
      "byteLimit": 2048000,
      "rowLimit": 10000
     },
     "inputWidgets": {},
     "nuid": "8ee5d07e-98a3-4dd4-837f-4b8ef018b93e",
     "showTitle": false,
     "title": ""
    }
   },
   "outputs": [
    {
     "output_type": "execute_result",
     "data": {
      "text/plain": [
       "[FileInfo(path='dbfs:/mnt/dbacademy-datasets/', name='dbacademy-datasets/', size=0, modificationTime=1717699479000),\n",
       " FileInfo(path='dbfs:/mnt/dbacademy-users/', name='dbacademy-users/', size=0, modificationTime=1717699479000),\n",
       " FileInfo(path='dbfs:/mnt/tmp/', name='tmp/', size=0, modificationTime=1718291806000)]"
      ]
     },
     "execution_count": 6,
     "metadata": {},
     "output_type": "execute_result"
    }
   ],
   "source": [
    "dbutils.fs.ls(\"/mnt\")"
   ]
  },
  {
   "cell_type": "code",
   "execution_count": 0,
   "metadata": {
    "application/vnd.databricks.v1+cell": {
     "cellMetadata": {
      "byteLimit": 2048000,
      "rowLimit": 10000
     },
     "inputWidgets": {},
     "nuid": "faafd987-ac35-495f-8a90-417aa20ff30b",
     "showTitle": false,
     "title": ""
    }
   },
   "outputs": [
    {
     "output_type": "stream",
     "name": "stdout",
     "output_type": "stream",
     "text": [
      "Python 3.10.12\r\n"
     ]
    }
   ],
   "source": [
    "! python --version"
   ]
  }
 ],
 "metadata": {
  "application/vnd.databricks.v1+notebook": {
   "dashboards": [],
   "environmentMetadata": null,
   "language": "python",
   "notebookMetadata": {
    "pythonIndentUnit": 4
   },
   "notebookName": "dbutils",
   "widgets": {}
  }
 },
 "nbformat": 4,
 "nbformat_minor": 0
}
