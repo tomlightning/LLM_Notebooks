{
 "cells": [
  {
   "cell_type": "markdown",
   "id": "8452f99f-242d-4c2c-856f-aecc57f7aa8c",
   "metadata": {},
   "source": [
    "#  API Databricks\n",
    "\n",
    "https://docs.databricks.com/api/\n",
    "\n",
    "# Secrets backend -keyvault\n",
    "https://learn.microsoft.com/en-us/azure/databricks/security/secrets/secret-scopes#akv-ss"
   ]
  },
  {
   "cell_type": "code",
   "execution_count": 2,
   "id": "f08b030d-77a0-4c36-921e-040d26f331cd",
   "metadata": {},
   "outputs": [],
   "source": [
    "!pip install python-dotenv -q"
   ]
  },
  {
   "cell_type": "code",
   "execution_count": 3,
   "id": "ef863495-a417-4fcf-a17e-8a3f93ca2e05",
   "metadata": {},
   "outputs": [],
   "source": [
    "import requests\n",
    "import json\n",
    "from dotenv import dotenv_values\n",
    "import pprint"
   ]
  },
  {
   "cell_type": "code",
   "execution_count": 4,
   "id": "7889435b-577f-4d4d-9309-287cf4f938db",
   "metadata": {},
   "outputs": [],
   "source": [
    "config = dotenv_values(\".env\")"
   ]
  },
  {
   "cell_type": "markdown",
   "id": "52154b6b-4e22-4870-a99b-a3793c10535d",
   "metadata": {},
   "source": [
    "# Create secrets scope  post to /api/2.0/secrets/scopes/create"
   ]
  },
  {
   "cell_type": "code",
   "execution_count": 78,
   "id": "fa8fe51b-9e78-47e3-b1c2-ba923808cc64",
   "metadata": {},
   "outputs": [
    {
     "data": {
      "text/plain": [
       "'https://adb-1286930193882465.5.azuredatabricks.net'"
      ]
     },
     "execution_count": 78,
     "metadata": {},
     "output_type": "execute_result"
    }
   ],
   "source": [
    "config.get(\"DATABRICKS_HOST\")"
   ]
  },
  {
   "cell_type": "code",
   "execution_count": 79,
   "id": "b0087ae6-35ae-44f8-8537-0de40318763e",
   "metadata": {},
   "outputs": [],
   "source": [
    "workspace_url = config.get(\"DATABRICKS_HOST\")\n",
    "token = config.get(\"DATABRICKS_TOKEN\")\n",
    "\n",
    "headers = {\n",
    "    \"Authorization\": f\"Bearer {token}\",\n",
    "    \"Content-Type\": \"application/json\"\n",
    "}"
   ]
  },
  {
   "cell_type": "code",
   "execution_count": 83,
   "id": "94c77347-77f8-4030-b6c4-37e51a7abc78",
   "metadata": {},
   "outputs": [
    {
     "name": "stdout",
     "output_type": "stream",
     "text": [
      "200\n",
      "{}\n"
     ]
    }
   ],
   "source": [
    "urlcreate_cluster = workspace_url + \"/api/2.0/secrets/scopes/create\"\n",
    "\n",
    "# Scope name requested by the user. Scope names are unique.\n",
    "# scope_backend_type: type the scope will be created with DATABRICKS | AZURE_KEYVAULT. default to DATABRICKS\n",
    "body = {\n",
    "  \"scope\": \"test-dev-6\",\n",
    "  \"scope_backend_type\": \"DATABRICKS\"\n",
    "}\n",
    "\n",
    "response = requests.post(urlcreate_cluster, headers = headers, data = json.dumps(body))\n",
    "\n",
    "print(response.status_code)\n",
    "print(response.text)"
   ]
  },
  {
   "cell_type": "markdown",
   "id": "6b6196b2-556b-4fba-9982-cfdc92bdc039",
   "metadata": {},
   "source": [
    "# List of scopes Get to /api/2.0/secrets/scopes/list"
   ]
  },
  {
   "cell_type": "code",
   "execution_count": 48,
   "id": "9d2e51cc-670a-44a1-a1af-85fb29343a69",
   "metadata": {},
   "outputs": [
    {
     "data": {
      "text/plain": [
       "'https://adb-1286930193882465.5.azuredatabricks.net'"
      ]
     },
     "execution_count": 48,
     "metadata": {},
     "output_type": "execute_result"
    }
   ],
   "source": [
    "config.get(\"DATABRICKS_HOST\")"
   ]
  },
  {
   "cell_type": "code",
   "execution_count": 84,
   "id": "00feb9d4-6568-4887-b167-c6689043aecc",
   "metadata": {},
   "outputs": [],
   "source": [
    "workspace_url = config.get(\"DATABRICKS_HOST\")\n",
    "token = config.get(\"DATABRICKS_TOKEN\")\n",
    "\n",
    "headers = {\n",
    "    \"Authorization\": f\"Bearer {token}\",\n",
    "    \"Content-Type\": \"application/json\"}\n",
    "\n",
    "url = workspace_url + \"/api/2.0/secrets/scopes/list\"\n"
   ]
  },
  {
   "cell_type": "code",
   "execution_count": 86,
   "id": "561350f9-8d87-4116-95bf-f47b38c86a96",
   "metadata": {},
   "outputs": [
    {
     "name": "stdout",
     "output_type": "stream",
     "text": [
      "200\n",
      "{'scopes': [{'backend_type': 'AZURE_KEYVAULT',\n",
      "             'keyvault_metadata': {'dns_name': 'https://olonokml8118962659.vault.azure.net/',\n",
      "                                   'resource_id': '/subscriptions/5a8ec57c-47f9-4bc3-aee5-9e4db1b89345/resourceGroups/olonok-ml/providers/Microsoft.KeyVault/vaults/olonokml8118962659'},\n",
      "             'name': 'databricks-azure'},\n",
      "            {'backend_type': 'DATABRICKS', 'name': 'local-scope'},\n",
      "            {'backend_type': 'DATABRICKS', 'name': 'test-dev'},\n",
      "            {'backend_type': 'DATABRICKS', 'name': 'test-dev-2'},\n",
      "            {'backend_type': 'DATABRICKS', 'name': 'test-dev-3'},\n",
      "            {'backend_type': 'DATABRICKS', 'name': 'test-dev-4'},\n",
      "            {'backend_type': 'DATABRICKS', 'name': 'test-dev-5'},\n",
      "            {'backend_type': 'DATABRICKS', 'name': 'test-dev-6'},\n",
      "            {'backend_type': 'AZURE_KEYVAULT',\n",
      "             'keyvault_metadata': {'dns_name': 'https://olonokml8118962659.vault.azure.net/',\n",
      "                                   'resource_id': '/subscriptions/5a8ec57c-47f9-4bc3-aee5-9e4db1b89345/resourceGroups/olonok-ml/providers/Microsoft.KeyVault/vaults/olonokml8118962659'},\n",
      "             'name': 'test-scope-test2'},\n",
      "            {'backend_type': 'AZURE_KEYVAULT',\n",
      "             'keyvault_metadata': {'dns_name': 'https://olonokml8118962659.vault.azure.net/',\n",
      "                                   'resource_id': '/subscriptions/5a8ec57c-47f9-4bc3-aee5-9e4db1b89345/resourceGroups/olonok-ml/providers/Microsoft.KeyVault/vaults/olonokml8118962659'},\n",
      "             'name': 'test-scope-test3'}]}\n"
     ]
    }
   ],
   "source": [
    "response = requests.get(url, headers = headers)\n",
    "\n",
    "print(response.status_code)\n",
    "pprint.pprint(json.loads(response.text))"
   ]
  },
  {
   "cell_type": "markdown",
   "id": "003f5281-5b60-46e5-9379-73bc7bffe63a",
   "metadata": {},
   "source": [
    "# Delete a secrets scope post to api/2.0/secrets/scopes/delete"
   ]
  },
  {
   "cell_type": "code",
   "execution_count": 87,
   "id": "df871403-9855-4709-bc7e-3383d00a4be8",
   "metadata": {},
   "outputs": [
    {
     "data": {
      "text/plain": [
       "'https://adb-1286930193882465.5.azuredatabricks.net'"
      ]
     },
     "execution_count": 87,
     "metadata": {},
     "output_type": "execute_result"
    }
   ],
   "source": [
    "config.get(\"DATABRICKS_HOST\")"
   ]
  },
  {
   "cell_type": "code",
   "execution_count": 88,
   "id": "b4914ac7-ec22-4f55-a915-1e8dc5c87178",
   "metadata": {},
   "outputs": [],
   "source": [
    "workspace_url = config.get(\"DATABRICKS_HOST\")\n",
    "token = config.get(\"DATABRICKS_TOKEN\")\n",
    "\n",
    "headers = {\n",
    "    \"Authorization\": f\"Bearer {token}\",\n",
    "    \"Content-Type\": \"application/json\"}\n",
    "\n",
    "url = workspace_url + \"/api/2.0/secrets/scopes/delete\"\n"
   ]
  },
  {
   "cell_type": "code",
   "execution_count": 91,
   "id": "13bb79f3-fab6-4fa2-a54d-3fd7c9365751",
   "metadata": {},
   "outputs": [
    {
     "name": "stdout",
     "output_type": "stream",
     "text": [
      "200\n",
      "{}\n"
     ]
    }
   ],
   "source": [
    "body = {\n",
    "  \"scope\": \"test-dev-4\",\n",
    "\n",
    "}\n",
    "response = requests.post(url, headers = headers, data = json.dumps(body))\n",
    "\n",
    "print(response.status_code)\n",
    "print(response.text)"
   ]
  },
  {
   "cell_type": "markdown",
   "id": "e7f216d8-2298-43d2-ac04-f62c301d7550",
   "metadata": {},
   "source": [
    "# List ACL,s"
   ]
  },
  {
   "cell_type": "code",
   "execution_count": 57,
   "id": "eb8ce05a-24af-4c9f-a427-7181f07df6f7",
   "metadata": {},
   "outputs": [
    {
     "data": {
      "text/plain": [
       "'https://adb-1286930193882465.5.azuredatabricks.net'"
      ]
     },
     "execution_count": 57,
     "metadata": {},
     "output_type": "execute_result"
    }
   ],
   "source": [
    "config.get(\"DATABRICKS_HOST\")"
   ]
  },
  {
   "cell_type": "code",
   "execution_count": 71,
   "id": "9bc4c2a2-d744-43b2-b1bf-38df24386a09",
   "metadata": {},
   "outputs": [],
   "source": [
    "workspace_url = config.get(\"DATABRICKS_HOST\")\n",
    "token = config.get(\"DATABRICKS_TOKEN\")\n",
    "\n",
    "headers = {\n",
    "    \"Authorization\": f\"Bearer {token}\",\n",
    "    \"Content-Type\": \"application/json\"\n",
    "}\n",
    "# url = workspace_url + \"/api/2.1/jobs/runs/submit\"\n",
    "url = workspace_url + \"/api/2.0/secrets/acls/list\""
   ]
  },
  {
   "cell_type": "code",
   "execution_count": 72,
   "id": "4df4fd3a-3276-4c6d-a3ff-3434c0ed3071",
   "metadata": {},
   "outputs": [
    {
     "name": "stdout",
     "output_type": "stream",
     "text": [
      "200\n",
      "'{\"items\":[{\"principal\":\"olonok@hotmail.com\",\"permission\":\"MANAGE\"}]}'\n"
     ]
    }
   ],
   "source": [
    "response = requests.get(url, headers = headers,params={\"scope\": \"test-dev\"})\n",
    "\n",
    "print(response.status_code)\n",
    "pprint.pprint(response.text)"
   ]
  },
  {
   "cell_type": "markdown",
   "id": "1d329505-37e2-470e-8f31-7801cc00ca40",
   "metadata": {},
   "source": [
    "# Add a secret send a post to /api/2.0/secrets/put"
   ]
  },
  {
   "cell_type": "code",
   "execution_count": 92,
   "id": "90aa1f42-cc30-4de6-be18-b1f90e320acf",
   "metadata": {},
   "outputs": [
    {
     "data": {
      "text/plain": [
       "'https://adb-1286930193882465.5.azuredatabricks.net'"
      ]
     },
     "execution_count": 92,
     "metadata": {},
     "output_type": "execute_result"
    }
   ],
   "source": [
    "config.get(\"DATABRICKS_HOST\")"
   ]
  },
  {
   "cell_type": "code",
   "execution_count": 140,
   "id": "adfb90f9-624f-408f-bfa4-55bc42553b6a",
   "metadata": {},
   "outputs": [],
   "source": [
    "workspace_url = config.get(\"DATABRICKS_HOST\")\n",
    "token = config.get(\"DATABRICKS_TOKEN\")\n",
    "\n",
    "headers = {\n",
    "    \"Authorization\": f\"Bearer {token}\",\n",
    "    \"Content-Type\": \"application/json\"\n",
    "}\n",
    "# url = workspace_url + \"/api/2.1/jobs/runs/submit\"\n",
    "url = workspace_url + \"/api/2.0/secrets/put\"\n"
   ]
  },
  {
   "cell_type": "code",
   "execution_count": 141,
   "id": "b7816a21-ad8a-4483-b70a-158d6ec49bd0",
   "metadata": {},
   "outputs": [
    {
     "data": {
      "text/plain": [
       "'Zm9vYmFyMy0tLQ=='"
      ]
     },
     "execution_count": 141,
     "metadata": {},
     "output_type": "execute_result"
    }
   ],
   "source": [
    "base64.b64encode(\"foobar3---\".encode()).decode()"
   ]
  },
  {
   "cell_type": "code",
   "execution_count": 142,
   "id": "6b97c9f7-3ed7-457b-bd96-e54a821cfd95",
   "metadata": {},
   "outputs": [
    {
     "name": "stdout",
     "output_type": "stream",
     "text": [
      "200\n",
      "{}\n"
     ]
    }
   ],
   "source": [
    "# ccreate cluster\n",
    "body ={\n",
    "  \"scope\": \"test-dev\",\n",
    "  \"key\": \"test-key-2\",\n",
    "  \"bytes_value\": base64.b64encode(\"foobar3---\".encode()).decode()\n",
    "}\n",
    "# string_value --> If specified, note that the value will be stored in UTF-8 (MB4) form.\n",
    "# bytes_value --> If specified, value will be stored as bytes. base64.b64encode(\"foobar3---\".encode()).decode()\n",
    "\n",
    "url = workspace_url + \"/api/2.0/secrets/put\"\n",
    "\n",
    "response = requests.post(url, headers = headers, data = json.dumps(body))\n",
    "\n",
    "print(response.status_code)\n",
    "print(response.text)"
   ]
  },
  {
   "cell_type": "markdown",
   "id": "1a2e8f90-9c4c-4fc2-8e2e-101f8f2341f9",
   "metadata": {},
   "source": [
    "# Get a secret get to entry point /api/2.0/secrets/get"
   ]
  },
  {
   "cell_type": "code",
   "execution_count": 114,
   "id": "0b699a3e-52ad-4873-9c16-8754e1488b5b",
   "metadata": {},
   "outputs": [
    {
     "data": {
      "text/plain": [
       "'https://adb-1286930193882465.5.azuredatabricks.net'"
      ]
     },
     "execution_count": 114,
     "metadata": {},
     "output_type": "execute_result"
    }
   ],
   "source": [
    "config.get(\"DATABRICKS_HOST\")"
   ]
  },
  {
   "cell_type": "code",
   "execution_count": 115,
   "id": "94e81f6f-b0db-47ba-b89c-44afa5e23d4b",
   "metadata": {},
   "outputs": [],
   "source": [
    "workspace_url = config.get(\"DATABRICKS_HOST\")\n",
    "token = config.get(\"DATABRICKS_TOKEN\")\n",
    "\n",
    "headers = {\n",
    "    \"Authorization\": f\"Bearer {token}\",\n",
    "    \"Content-Type\": \"application/json\"\n",
    "}"
   ]
  },
  {
   "cell_type": "code",
   "execution_count": 124,
   "id": "348fea04-e4f9-4768-b0e4-6e6890879a74",
   "metadata": {},
   "outputs": [
    {
     "name": "stdout",
     "output_type": "stream",
     "text": [
      "200\n",
      "'{\"key\":\"test-key-2\",\"value\":\"Zm9vYmFyMy0tLQ==\"}'\n"
     ]
    }
   ],
   "source": [
    "url = workspace_url + \"/api/2.0/secrets/get\"\n",
    "response = requests.get(url, headers = headers, params={\"scope\": \"test-dev\", \"key\" : \"test-key-2\"})\n",
    "\n",
    "print(response.status_code)\n",
    "pprint.pprint(response.text)"
   ]
  },
  {
   "cell_type": "code",
   "execution_count": 75,
   "id": "ddf43b24-5be7-4d20-b36c-88535f1f07d5",
   "metadata": {},
   "outputs": [
    {
     "name": "stdout",
     "output_type": "stream",
     "text": [
      "200\n",
      "'{\"key\":\"test-local\",\"value\":\"dGVzdC1sb2NhbC0tMTEx\"}'\n"
     ]
    }
   ],
   "source": [
    "url = workspace_url + \"/api/2.0/secrets/get\"\n",
    "response = requests.get(url, headers = headers,params={\"scope\": \"databricks-azure\", \"key\" : \"test-local\"})\n",
    "\n",
    "print(response.status_code)\n",
    "pprint.pprint(response.text)"
   ]
  },
  {
   "cell_type": "code",
   "execution_count": 63,
   "id": "964d741b-7bf5-473d-ab88-ec505d7e5762",
   "metadata": {},
   "outputs": [],
   "source": [
    "import base64"
   ]
  },
  {
   "cell_type": "code",
   "execution_count": 64,
   "id": "bb16c3c9-0ffd-4763-bd1f-470047dcb73f",
   "metadata": {},
   "outputs": [
    {
     "data": {
      "text/plain": [
       "'test-local--111'"
      ]
     },
     "execution_count": 64,
     "metadata": {},
     "output_type": "execute_result"
    }
   ],
   "source": [
    "base64.b64decode(\"dGVzdC1sb2NhbC0tMTEx\").decode()"
   ]
  },
  {
   "cell_type": "code",
   "execution_count": 125,
   "id": "13ecdd81-3b23-4ff6-becd-7bf0566188c7",
   "metadata": {},
   "outputs": [
    {
     "data": {
      "text/plain": [
       "'foobar3---'"
      ]
     },
     "execution_count": 125,
     "metadata": {},
     "output_type": "execute_result"
    }
   ],
   "source": [
    "base64.b64decode(\"Zm9vYmFyMy0tLQ==\").decode()"
   ]
  },
  {
   "cell_type": "markdown",
   "id": "b2949eae-d520-4a7a-9c19-2a0195c3b5d1",
   "metadata": {},
   "source": [
    "# List Secret keys send get to /api/2.0/secrets/list"
   ]
  },
  {
   "cell_type": "code",
   "execution_count": 126,
   "id": "7733c889-fbec-47ad-badd-4e68de9ddb81",
   "metadata": {},
   "outputs": [
    {
     "data": {
      "text/plain": [
       "'https://adb-1286930193882465.5.azuredatabricks.net'"
      ]
     },
     "execution_count": 126,
     "metadata": {},
     "output_type": "execute_result"
    }
   ],
   "source": [
    "config.get(\"DATABRICKS_HOST\")"
   ]
  },
  {
   "cell_type": "code",
   "execution_count": 144,
   "id": "f70a8497-7062-4d91-a079-3b380c5f8a35",
   "metadata": {},
   "outputs": [],
   "source": [
    "workspace_url = config.get(\"DATABRICKS_HOST\")\n",
    "token = config.get(\"DATABRICKS_TOKEN\")\n",
    "\n",
    "headers = {\n",
    "    \"Authorization\": f\"Bearer {token}\",\n",
    "    \"Content-Type\": \"application/json\"\n",
    "}"
   ]
  },
  {
   "cell_type": "code",
   "execution_count": 145,
   "id": "799ab305-2840-44c4-80c3-3b470bcd7655",
   "metadata": {},
   "outputs": [
    {
     "name": "stdout",
     "output_type": "stream",
     "text": [
      "200\n",
      "{'secrets': [{'key': 'DATABRICKS_TOKEN',\n",
      "              'last_updated_timestamp': 1718295058119},\n",
      "             {'key': 'HF_TOKEN', 'last_updated_timestamp': 1718295271482},\n",
      "             {'key': 'test-key', 'last_updated_timestamp': 1718294632330}]}\n"
     ]
    }
   ],
   "source": [
    "url = workspace_url + \"/api/2.0/secrets/list\"\n",
    "response = requests.get(url, headers = headers,params={\"scope\": \"test-dev\"})\n",
    "\n",
    "print(response.status_code)\n",
    "pprint.pprint(json.loads(response.text))"
   ]
  },
  {
   "cell_type": "markdown",
   "id": "ff3e880e-6434-4ee1-8f83-a21f40282f64",
   "metadata": {},
   "source": [
    "# Delete secret send post /api/2.0/secrets/delete"
   ]
  },
  {
   "cell_type": "code",
   "execution_count": 131,
   "id": "9edbcf3f-66eb-42f3-9246-f5479639b501",
   "metadata": {},
   "outputs": [
    {
     "data": {
      "text/plain": [
       "'https://adb-1286930193882465.5.azuredatabricks.net'"
      ]
     },
     "execution_count": 131,
     "metadata": {},
     "output_type": "execute_result"
    }
   ],
   "source": [
    "config.get(\"DATABRICKS_HOST\")"
   ]
  },
  {
   "cell_type": "code",
   "execution_count": 132,
   "id": "4ecdf3e0-1dab-46d4-b43d-fd99a1b6ce49",
   "metadata": {},
   "outputs": [],
   "source": [
    "workspace_url = config.get(\"DATABRICKS_HOST\")\n",
    "token = config.get(\"DATABRICKS_TOKEN\")\n",
    "\n",
    "headers = {\n",
    "    \"Authorization\": f\"Bearer {token}\",\n",
    "    \"Content-Type\": \"application/json\"\n",
    "}"
   ]
  },
  {
   "cell_type": "code",
   "execution_count": 143,
   "id": "49a830a9-fead-4cc9-8e9f-d31dd5386e32",
   "metadata": {},
   "outputs": [
    {
     "name": "stdout",
     "output_type": "stream",
     "text": [
      "200\n",
      "{}\n"
     ]
    }
   ],
   "source": [
    "body ={\n",
    "  \"scope\": \"test-dev\",\n",
    "  \"key\": \"test-key-2\",\n",
    "}\n",
    "\n",
    "\n",
    "url = workspace_url + \"/api/2.0/secrets/delete\"\n",
    "\n",
    "response = requests.post(url, headers = headers, data = json.dumps(body))\n",
    "\n",
    "print(response.status_code)\n",
    "print(response.text)"
   ]
  },
  {
   "cell_type": "code",
   "execution_count": null,
   "id": "08a48d0c-8155-4008-93b9-6af45bff196f",
   "metadata": {},
   "outputs": [],
   "source": []
  }
 ],
 "metadata": {
  "kernelspec": {
   "display_name": "Python 3 (ipykernel)",
   "language": "python",
   "name": "python3"
  },
  "language_info": {
   "codemirror_mode": {
    "name": "ipython",
    "version": 3
   },
   "file_extension": ".py",
   "mimetype": "text/x-python",
   "name": "python",
   "nbconvert_exporter": "python",
   "pygments_lexer": "ipython3",
   "version": "3.11.9"
  }
 },
 "nbformat": 4,
 "nbformat_minor": 5
}
