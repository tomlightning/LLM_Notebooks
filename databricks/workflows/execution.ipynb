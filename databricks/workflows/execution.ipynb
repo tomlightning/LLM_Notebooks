{
 "cells": [
  {
   "cell_type": "code",
   "execution_count": 0,
   "metadata": {
    "application/vnd.databricks.v1+cell": {
     "cellMetadata": {},
     "inputWidgets": {},
     "nuid": "104f0fce-0ea8-4db5-8e2d-0064dd0b5f1d",
     "showTitle": false,
     "title": ""
    }
   },
   "outputs": [],
   "source": [
    "name = dbutils.widgets.get(\"name\")\n",
    "city = dbutils.widgets.get(\"city\")\n",
    "out = f\"{name} lives in {city}\"\n",
    "print(out)"
   ]
  },
  {
   "cell_type": "code",
   "execution_count": 0,
   "metadata": {
    "application/vnd.databricks.v1+cell": {
     "cellMetadata": {},
     "inputWidgets": {},
     "nuid": "b49e6590-7bf6-4a26-96f7-ea5151a6cf3c",
     "showTitle": false,
     "title": ""
    }
   },
   "outputs": [],
   "source": [
    "dbutils.notebook.exit(out)"
   ]
  }
 ],
 "metadata": {
  "application/vnd.databricks.v1+notebook": {
   "dashboards": [],
   "environmentMetadata": null,
   "language": "python",
   "notebookMetadata": {
    "pythonIndentUnit": 4
   },
   "notebookName": "execution",
   "widgets": {}
  }
 },
 "nbformat": 4,
 "nbformat_minor": 0
}
