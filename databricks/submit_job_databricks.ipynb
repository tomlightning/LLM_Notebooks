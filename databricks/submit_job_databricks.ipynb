{
 "cells": [
  {
   "cell_type": "code",
   "execution_count": 57,
   "id": "eb92b67e-7ea5-49e7-9025-397ea2201713",
   "metadata": {},
   "outputs": [],
   "source": [
    "#  submit jobs to API Databricks\n",
    "# https://docs.databricks.com/api/workspace/jobs/create"
   ]
  },
  {
   "cell_type": "code",
   "execution_count": 34,
   "id": "ef863495-a417-4fcf-a17e-8a3f93ca2e05",
   "metadata": {},
   "outputs": [],
   "source": [
    "import requests\n",
    "import json\n",
    "from dotenv import dotenv_values"
   ]
  },
  {
   "cell_type": "code",
   "execution_count": 35,
   "id": "7889435b-577f-4d4d-9309-287cf4f938db",
   "metadata": {},
   "outputs": [],
   "source": [
    "config = dotenv_values(\".env\")"
   ]
  },
  {
   "cell_type": "code",
   "execution_count": 76,
   "id": "b6b999f5-196c-4e9b-b705-5406485f9fcc",
   "metadata": {},
   "outputs": [
    {
     "data": {
      "text/plain": [
       "'https://adb-1286930193882465.5.azuredatabricks.net'"
      ]
     },
     "execution_count": 76,
     "metadata": {},
     "output_type": "execute_result"
    }
   ],
   "source": [
    "config.get(\"DATABRICKS_HOST\")"
   ]
  },
  {
   "cell_type": "code",
   "execution_count": 95,
   "id": "4ec3009f-2727-48cb-808d-37d2d44795d6",
   "metadata": {},
   "outputs": [],
   "source": [
    "workspace_url = config.get(\"DATABRICKS_HOST\")\n",
    "url = workspace_url + \"/api/2.1/jobs/runs/submit\"\n",
    "#url = workspace_url + \"/api/2.1/jobs/create\""
   ]
  },
  {
   "cell_type": "code",
   "execution_count": 92,
   "id": "c68d6633-1840-44f2-9639-706720748386",
   "metadata": {},
   "outputs": [],
   "source": [
    "token = config.get(\"DATABRICKS_TOKEN\")\n",
    "\n",
    "headers = {\n",
    "    \"Authorization\": f\"Bearer {token}\",\n",
    "    \"Content-Type\": \"application/json\"\n",
    "}\n",
    "#\"existing_cluster_id\" : \"0531-123607-lblvj6fa\","
   ]
  },
  {
   "cell_type": "markdown",
   "id": "8662b492-25d2-4e24-bec6-c689e7ee4607",
   "metadata": {},
   "source": [
    "# cluster on Demand"
   ]
  },
  {
   "cell_type": "code",
   "execution_count": 96,
   "id": "58492004-de98-4a40-a6e1-32a4eadaea66",
   "metadata": {},
   "outputs": [],
   "source": [
    "body = {\n",
    "  \"name\" : \"MyJob_run\",\n",
    "  \"tasks\" : [\n",
    "    {\n",
    "      \"task_key\" : \"run_notebook_from_api\",\n",
    "        \"new_cluster\":{\n",
    "                \"spark_version\": \"15.1.x-cpu-ml-scala2.12\",\n",
    "    \"spark_conf\": {\n",
    "        \"spark.master\": \"local[*, 4]\",\n",
    "        \"spark.databricks.cluster.profile\": \"singleNode\"\n",
    "    },\n",
    "    \"azure_attributes\": {\n",
    "        \"first_on_demand\": 1,\n",
    "        \"availability\": \"ON_DEMAND_AZURE\",\n",
    "        \"spot_bid_max_price\": -1\n",
    "    },\n",
    "    \"node_type_id\": \"Standard_DS3_v2\",\n",
    "    \"driver_node_type_id\": \"Standard_DS3_v2\",\n",
    "    \"custom_tags\": {\n",
    "        \"ResourceClass\": \"SingleNode\"\n",
    "    },\n",
    "\n",
    "    \"enable_elastic_disk\": True,\n",
    "    \"single_user_name\": \"olonok@hotmail.com\",\n",
    "    \"data_security_mode\": \"LEGACY_SINGLE_USER_STANDARD\",\n",
    "    \"runtime_engine\": \"STANDARD\",\n",
    "    \"num_workers\": 0,\n",
    "               \n",
    "            },\n",
    "      \"notebook_task\" : {\n",
    "        \"notebook_path\" : \"/Workspace/Users/olonok@hotmail.com/jobs-api\",\n",
    "        \"source\" : \"WORKSPACE\",\n",
    "        \"base_parameters\": {\n",
    "            \"experiment_name\": \"xgboost_experiments_test_en\",\n",
    "  \n",
    "            }\n",
    "        }\n",
    "    }\n",
    "  ],\n",
    "  \"timeout_seconds\" : 3600,\n",
    "  \"tags\" : {\n",
    "    \"project\" : \"data_analytics\",\n",
    "    \"process\" : \"extraction\"\n",
    "   } \n",
    "}"
   ]
  },
  {
   "cell_type": "code",
   "execution_count": 97,
   "id": "561350f9-8d87-4116-95bf-f47b38c86a96",
   "metadata": {},
   "outputs": [
    {
     "name": "stdout",
     "output_type": "stream",
     "text": [
      "200\n",
      "{\"run_id\":766733162915718}\n"
     ]
    }
   ],
   "source": [
    "response = requests.post(url, headers = headers, data = json.dumps(body))\n",
    "\n",
    "print(response.status_code)\n",
    "print(response.text)"
   ]
  },
  {
   "cell_type": "markdown",
   "id": "e7f216d8-2298-43d2-ac04-f62c301d7550",
   "metadata": {},
   "source": [
    "# To an existing Cluster"
   ]
  },
  {
   "cell_type": "code",
   "execution_count": 98,
   "id": "846187ae-4d5b-4612-af3f-9a78540bd291",
   "metadata": {},
   "outputs": [],
   "source": [
    "body = {\n",
    "  \"name\" : \"MyJob_existing_cluster\",\n",
    "  \"tasks\" : [\n",
    "    {\n",
    "      \"task_key\" : \"run_notebook_from_api\",\n",
    "        \"existing_cluster_id\" : \"0603-211930-u6lf0uot\",\n",
    "\n",
    "      \"notebook_task\" : {\n",
    "        \"notebook_path\" : \"/Workspace/Users/olonok@hotmail.com/jobs-api\",\n",
    "        \"source\" : \"WORKSPACE\",\n",
    "          \"base_parameters\": {\n",
    "            \"experiment_name\": \"xgboost_experiments_existing_cluster\",\n",
    "  \n",
    "            }\n",
    "        }\n",
    "    }\n",
    "  ],\n",
    "  \"timeout_seconds\" : 3600,\n",
    "  \"tags\" : {\n",
    "    \"project\" : \"data_analytics\",\n",
    "    \"process\" : \"extraction\"\n",
    "   } \n",
    "}"
   ]
  },
  {
   "cell_type": "code",
   "execution_count": 99,
   "id": "4df4fd3a-3276-4c6d-a3ff-3434c0ed3071",
   "metadata": {},
   "outputs": [
    {
     "name": "stdout",
     "output_type": "stream",
     "text": [
      "200\n",
      "{\"run_id\":850595848950128}\n"
     ]
    }
   ],
   "source": [
    "response = requests.post(url, headers = headers, data = json.dumps(body))\n",
    "\n",
    "print(response.status_code)\n",
    "print(response.text)"
   ]
  },
  {
   "cell_type": "markdown",
   "id": "1d329505-37e2-470e-8f31-7801cc00ca40",
   "metadata": {},
   "source": [
    "# To a pool"
   ]
  },
  {
   "cell_type": "code",
   "execution_count": null,
   "id": "adfb90f9-624f-408f-bfa4-55bc42553b6a",
   "metadata": {},
   "outputs": [],
   "source": [
    "body = {\n",
    "  \"name\" : \"MyJob\",\n",
    "  \"tasks\" : [\n",
    "    {\n",
    "      \"task_key\" : \"run_notebook_from_api\",\n",
    "\n",
    "        \"new_cluster\":{\n",
    "                \"num_workers\": 1,\n",
    "                \"autoscale\":{\n",
    "                    \"min_workers\":1,\n",
    "                    \"max_workers\":1\n",
    "                },\n",
    "\n",
    "                \"spark_version\": \"15.1.x-cpu-ml-scala2.12\",\n",
    "                \"spark_conf\":{\n",
    "\n",
    "                },\n",
    "                \"instance_pool_id\": \"0603-205900-times49-pool-v6dusypa\"\n",
    "            },\n",
    "      \"notebook_task\" : {\n",
    "        \"notebook_path\" : \"/Workspace/Users/olonok@hotmail.com/jobs-api\",\n",
    "        \"source\" : \"WORKSPACE\",\n",
    "          \"base_parameters\": {\n",
    "            \"experiment_name\": \"xgboost_experiments\",\n",
    "  \n",
    "            }\n",
    "        }\n",
    "    }\n",
    "  ],\n",
    "  \"timeout_seconds\" : 3600,\n",
    "  \"tags\" : {\n",
    "    \"project\" : \"data_analytics\",\n",
    "    \"process\" : \"extraction\"\n",
    "   } \n",
    "}"
   ]
  },
  {
   "cell_type": "markdown",
   "id": "2a7eddef-bbd6-4f50-a371-5ea5cde4fde7",
   "metadata": {},
   "source": [
    "# list jobs"
   ]
  },
  {
   "cell_type": "code",
   "execution_count": 100,
   "id": "df78c9e4-4a84-43f3-934c-449f0ea40e7e",
   "metadata": {},
   "outputs": [
    {
     "name": "stdout",
     "output_type": "stream",
     "text": [
      "200\n",
      "{\"jobs\":[{\"job_id\":743233108966656,\"creator_user_name\":\"olonok@hotmail.com\",\"settings\":{\"name\":\"MyJob\",\"email_notifications\":{},\"timeout_seconds\":3600,\"max_concurrent_runs\":1,\"tags\":{\"process\":\"extraction\",\"project\":\"data_analytics\"},\"format\":\"MULTI_TASK\"},\"created_time\":1717492079616},{\"job_id\":433201300352403,\"creator_user_name\":\"olonok@hotmail.com\",\"settings\":{\"name\":\"New Job 2024-06-04 09:21:45\",\"email_notifications\":{\"no_alert_for_skipped_runs\":false},\"timeout_seconds\":0,\"max_concurrent_runs\":1,\"format\":\"MULTI_TASK\",\"queue\":{\"enabled\":true}},\"created_time\":1717489297837}],\"has_more\":false}\n"
     ]
    }
   ],
   "source": [
    "\n",
    "urllist = workspace_url + \"/api/2.1/jobs/list\"\n",
    "response = requests.get(urllist, headers = headers)\n",
    "\n",
    "print(response.status_code)\n",
    "print(response.text)"
   ]
  },
  {
   "cell_type": "code",
   "execution_count": 65,
   "id": "225aa68a-2cb6-4824-9d48-1039433f01cb",
   "metadata": {},
   "outputs": [],
   "source": [
    "# List runs"
   ]
  },
  {
   "cell_type": "code",
   "execution_count": 101,
   "id": "f18f53a0-36af-4d8b-9a0b-de805959b2b7",
   "metadata": {},
   "outputs": [
    {
     "name": "stdout",
     "output_type": "stream",
     "text": [
      "200\n",
      "{\"runs\":[{\"job_id\":92750622646995,\"run_id\":850595848950128,\"creator_user_name\":\"olonok@hotmail.com\",\"number_in_job\":850595848950128,\"state\":{\"life_cycle_state\":\"RUNNING\",\"state_message\":\"\",\"user_cancelled_or_timedout\":false},\"start_time\":1717492447012,\"setup_duration\":0,\"execution_duration\":0,\"cleanup_duration\":0,\"end_time\":0,\"run_duration\":313175,\"run_name\":\"Untitled\",\"run_page_url\":\"https://adb-1286930193882465.5.azuredatabricks.net/?o=1286930193882465#job/92750622646995/run/850595848950128\",\"run_type\":\"SUBMIT_RUN\",\"format\":\"MULTI_TASK\"},{\"job_id\":867241885321951,\"run_id\":766733162915718,\"creator_user_name\":\"olonok@hotmail.com\",\"number_in_job\":766733162915718,\"state\":{\"life_cycle_state\":\"RUNNING\",\"state_message\":\"\",\"user_cancelled_or_timedout\":false},\"start_time\":1717492308050,\"setup_duration\":0,\"execution_duration\":0,\"cleanup_duration\":0,\"end_time\":0,\"run_duration\":452138,\"run_name\":\"Untitled\",\"run_page_url\":\"https://adb-1286930193882465.5.azuredatabricks.net/?o=1286930193882465#job/867241885321951/run/766733162915718\",\"run_type\":\"SUBMIT_RUN\",\"format\":\"MULTI_TASK\"},{\"job_id\":1104518121601963,\"run_id\":344319335613970,\"creator_user_name\":\"olonok@hotmail.com\",\"number_in_job\":344319335613970,\"state\":{\"life_cycle_state\":\"TERMINATED\",\"result_state\":\"CANCELED\",\"state_message\":\"Run cancelled.\",\"user_cancelled_or_timedout\":true},\"start_time\":1717489978721,\"setup_duration\":0,\"execution_duration\":0,\"cleanup_duration\":0,\"end_time\":1717490147386,\"run_duration\":168665,\"run_name\":\"Untitled\",\"run_page_url\":\"https://adb-1286930193882465.5.azuredatabricks.net/?o=1286930193882465#job/1104518121601963/run/344319335613970\",\"run_type\":\"SUBMIT_RUN\",\"format\":\"MULTI_TASK\"},{\"job_id\":1061137351611308,\"run_id\":802560028961597,\"creator_user_name\":\"olonok@hotmail.com\",\"number_in_job\":802560028961597,\"state\":{\"life_cycle_state\":\"TERMINATED\",\"result_state\":\"SUCCESS\",\"state_message\":\"\",\"user_cancelled_or_timedout\":false},\"start_time\":1717489114423,\"setup_duration\":0,\"execution_duration\":0,\"cleanup_duration\":0,\"end_time\":1717489905107,\"run_duration\":790684,\"run_name\":\"Untitled\",\"run_page_url\":\"https://adb-1286930193882465.5.azuredatabricks.net/?o=1286930193882465#job/1061137351611308/run/802560028961597\",\"run_type\":\"SUBMIT_RUN\",\"format\":\"MULTI_TASK\"},{\"job_id\":217859279271920,\"run_id\":114147823600026,\"creator_user_name\":\"olonok@hotmail.com\",\"number_in_job\":114147823600026,\"state\":{\"life_cycle_state\":\"TERMINATED\",\"result_state\":\"CANCELED\",\"state_message\":\"Run cancelled.\",\"user_cancelled_or_timedout\":true},\"start_time\":1717488933794,\"setup_duration\":0,\"execution_duration\":0,\"cleanup_duration\":0,\"end_time\":1717489548391,\"run_duration\":614597,\"run_name\":\"Untitled\",\"run_page_url\":\"https://adb-1286930193882465.5.azuredatabricks.net/?o=1286930193882465#job/217859279271920/run/114147823600026\",\"run_type\":\"SUBMIT_RUN\",\"format\":\"MULTI_TASK\"},{\"job_id\":938344524291005,\"run_id\":1024027120334004,\"creator_user_name\":\"olonok@hotmail.com\",\"number_in_job\":1024027120334004,\"state\":{\"life_cycle_state\":\"TERMINATED\",\"result_state\":\"CANCELED\",\"state_message\":\"Run cancelled.\",\"user_cancelled_or_timedout\":true},\"start_time\":1717481752679,\"setup_duration\":0,\"execution_duration\":0,\"cleanup_duration\":0,\"end_time\":1717482154602,\"run_duration\":401923,\"run_name\":\"Untitled\",\"run_page_url\":\"https://adb-1286930193882465.5.azuredatabricks.net/?o=1286930193882465#job/938344524291005/run/1024027120334004\",\"run_type\":\"SUBMIT_RUN\",\"format\":\"MULTI_TASK\"},{\"job_id\":885789614069564,\"run_id\":658499728614182,\"creator_user_name\":\"olonok@hotmail.com\",\"number_in_job\":658499728614182,\"state\":{\"life_cycle_state\":\"TERMINATED\",\"result_state\":\"SUCCESS\",\"state_message\":\"\",\"user_cancelled_or_timedout\":false},\"start_time\":1717450712125,\"setup_duration\":0,\"execution_duration\":0,\"cleanup_duration\":0,\"end_time\":1717451269528,\"run_duration\":557403,\"run_name\":\"Untitled\",\"run_page_url\":\"https://adb-1286930193882465.5.azuredatabricks.net/?o=1286930193882465#job/885789614069564/run/658499728614182\",\"run_type\":\"SUBMIT_RUN\",\"format\":\"MULTI_TASK\"},{\"job_id\":240803391452322,\"run_id\":716784659184088,\"creator_user_name\":\"olonok@hotmail.com\",\"number_in_job\":716784659184088,\"state\":{\"life_cycle_state\":\"TERMINATED\",\"result_state\":\"SUCCESS\",\"state_message\":\"\",\"user_cancelled_or_timedout\":false},\"start_time\":1717450478315,\"setup_duration\":0,\"execution_duration\":0,\"cleanup_duration\":0,\"end_time\":1717451103660,\"run_duration\":625345,\"run_name\":\"Untitled\",\"run_page_url\":\"https://adb-1286930193882465.5.azuredatabricks.net/?o=1286930193882465#job/240803391452322/run/716784659184088\",\"run_type\":\"SUBMIT_RUN\",\"format\":\"MULTI_TASK\"}],\"has_more\":false,\"next_page_token\":\"CAEQ66WagP4xINjz9veW_aIB\",\"prev_page_token\":\"CAAQpO6blP4xIPCisrvMs8EB\"}\n"
     ]
    }
   ],
   "source": [
    "\n",
    "urllistrun = workspace_url + \"/api/2.1/jobs/runs/list\"\n",
    "response = requests.get(urllistrun, headers = headers)\n",
    "\n",
    "print(response.status_code)\n",
    "print(response.text)"
   ]
  },
  {
   "cell_type": "markdown",
   "id": "dd4ee610-5d7a-464d-9628-ee4a23b72c75",
   "metadata": {},
   "source": [
    "# Cancel a Job Run"
   ]
  },
  {
   "cell_type": "code",
   "execution_count": 102,
   "id": "56e29b8b-9834-4cc2-8e58-44c524af0a57",
   "metadata": {},
   "outputs": [
    {
     "name": "stdout",
     "output_type": "stream",
     "text": [
      "200\n",
      "{}\n"
     ]
    }
   ],
   "source": [
    "body = {\n",
    "  \"run_id\": 850595848950128\n",
    "}\n",
    "urlcancelrun = workspace_url + \"/api/2.1/jobs/runs/cancel\"\n",
    "response = requests.post(urlcancelrun, headers = headers, data = json.dumps(body))\n",
    "\n",
    "print(response.status_code)\n",
    "print(response.text)"
   ]
  },
  {
   "cell_type": "markdown",
   "id": "b7eeeb65-2eea-4b63-afc1-7e2331dd22b2",
   "metadata": {},
   "source": [
    "# Workspace "
   ]
  },
  {
   "cell_type": "code",
   "execution_count": 103,
   "id": "9bf54116-5bd9-4022-af0a-55510b0716d6",
   "metadata": {},
   "outputs": [
    {
     "name": "stdout",
     "output_type": "stream",
     "text": [
      "200\n",
      "{\"objects\":[{\"object_type\":\"NOTEBOOK\",\"path\":\"/Users/olonok@hotmail.com/jobs-api\",\"language\":\"PYTHON\",\"created_at\":1717159068335,\"modified_at\":1717482081431,\"object_id\":760923413360882,\"resource_id\":\"760923413360882\"},{\"object_type\":\"MLFLOW_EXPERIMENT\",\"path\":\"/Users/olonok@hotmail.com/pipelines\",\"object_id\":878341338033203,\"resource_id\":\"878341338033203\"},{\"object_type\":\"NOTEBOOK\",\"path\":\"/Users/olonok@hotmail.com/mlflow-end-to-end\",\"language\":\"PYTHON\",\"created_at\":1717447044835,\"modified_at\":1717447044888,\"object_id\":1899686197831447,\"resource_id\":\"1899686197831447\"},{\"object_type\":\"MLFLOW_EXPERIMENT\",\"path\":\"/Users/olonok@hotmail.com/multistep_workflow\",\"object_id\":1910808740223562,\"resource_id\":\"1910808740223562\"},{\"object_type\":\"NOTEBOOK\",\"path\":\"/Users/olonok@hotmail.com/MLflow with Optuna: Hyperparameter Optimization and Tracking\",\"language\":\"PYTHON\",\"created_at\":1717344828119,\"modified_at\":1717395402270,\"object_id\":2546891085146716,\"resource_id\":\"2546891085146716\"},{\"object_type\":\"NOTEBOOK\",\"path\":\"/Users/olonok@hotmail.com/utils\",\"language\":\"PYTHON\",\"created_at\":1717344999414,\"modified_at\":1717382852513,\"object_id\":2546891085146718,\"resource_id\":\"2546891085146718\"},{\"object_type\":\"DIRECTORY\",\"path\":\"/Users/olonok@hotmail.com/pics\",\"object_id\":2546891085146725,\"resource_id\":\"2546891085146725\"},{\"object_type\":\"MLFLOW_EXPERIMENT\",\"path\":\"/Users/olonok@hotmail.com/Apples Demand\",\"object_id\":2546891085146744,\"resource_id\":\"2546891085146744\"},{\"object_type\":\"MLFLOW_EXPERIMENT\",\"path\":\"/Users/olonok@hotmail.com/pipelines_databricks\",\"object_id\":3434781439750620,\"resource_id\":\"3434781439750620\"},{\"object_type\":\"MLFLOW_EXPERIMENT\",\"path\":\"/Users/olonok@hotmail.com/pipelines_databricks_2\",\"object_id\":3434781439750621,\"resource_id\":\"3434781439750621\"}]}\n",
      "\n"
     ]
    }
   ],
   "source": [
    "urllist = workspace_url + \"/api/2.0/workspace/list\"\n",
    "params={\n",
    "\"path\": \"/Users/olonok@hotmail.com/\"\n",
    "}\n",
    "response = requests.get(urllist, headers = headers, params=params )\n",
    "\n",
    "print(response.status_code)\n",
    "print(response.text)"
   ]
  },
  {
   "cell_type": "markdown",
   "id": "35f0c5fc-fd9c-48b8-9113-5e82ce3354f0",
   "metadata": {},
   "source": [
    "# Machine Learning"
   ]
  },
  {
   "cell_type": "code",
   "execution_count": 104,
   "id": "188b876b-af11-4aca-832c-6653dfbdafb6",
   "metadata": {},
   "outputs": [
    {
     "name": "stdout",
     "output_type": "stream",
     "text": [
      "200\n",
      "{\"run\":{\"info\":{\"run_id\":\"0e3c41c688d841f39c83ccd0095d5954\",\"run_uuid\":\"0e3c41c688d841f39c83ccd0095d5954\",\"experiment_id\":\"2546891085146744\",\"run_name\":\"charming-hog-782\",\"status\":\"FINISHED\",\"start_time\":1717353627765,\"end_time\":1717353628754,\"artifact_uri\":\"dbfs:/databricks/mlflow-tracking/2546891085146744/0e3c41c688d841f39c83ccd0095d5954/artifacts\",\"lifecycle_stage\":\"active\"},\"data\":{\"metrics\":[{\"key\":\"mse\",\"value\":34331.82597229768,\"timestamp\":1717353628366,\"step\":0},{\"key\":\"rmse\",\"value\":185.28849390153098,\"timestamp\":1717353628551,\"step\":0}],\"params\":[{\"key\":\"alpha\",\"value\":\"5.0206024979717066e-08\"},{\"key\":\"booster\",\"value\":\"gbtree\"},{\"key\":\"eta\",\"value\":\"0.6943485418169614\"},{\"key\":\"eval_metric\",\"value\":\"rmse\"},{\"key\":\"gamma\",\"value\":\"0.00019463076719002743\"},{\"key\":\"grow_policy\",\"value\":\"depthwise\"},{\"key\":\"lambda\",\"value\":\"1.238357756908523e-06\"},{\"key\":\"max_depth\",\"value\":\"5\"},{\"key\":\"objective\",\"value\":\"reg:squarederror\"}],\"tags\":[{\"key\":\"mlflow.databricks.cluster.id\",\"value\":\"0531-123607-lblvj6fa\"},{\"key\":\"mlflow.databricks.cluster.info\",\"value\":\"{\\\"cluster_name\\\":\\\"Jan Gogol's Cluster\\\",\\\"spark_version\\\":\\\"15.1.x-cpu-ml-scala2.12\\\",\\\"node_type_id\\\":\\\"Standard_DS3_v2\\\",\\\"driver_node_type_id\\\":\\\"Standard_DS3_v2\\\",\\\"autotermination_minutes\\\":120,\\\"disk_spec\\\":{},\\\"autoscale\\\":{\\\"min_workers\\\":1,\\\"max_workers\\\":1,\\\"target_workers\\\":1}}\"},{\"key\":\"mlflow.databricks.cluster.libraries\",\"value\":\"{\\\"installable\\\":[{\\\"pypi\\\":{\\\"package\\\":\\\"optuna\\\"}},{\\\"pypi\\\":{\\\"package\\\":\\\"faker\\\"}}],\\\"redacted\\\":[]}\"},{\"key\":\"mlflow.databricks.notebook.commandID\",\"value\":\"1473973421898776429_7989566754412881815_ed36f6d002c44bb6aaea28421e8a4aa4\"},{\"key\":\"mlflow.databricks.notebookID\",\"value\":\"2546891085146716\"},{\"key\":\"mlflow.databricks.notebookPath\",\"value\":\"/Users/olonok@hotmail.com/MLflow with Optuna: Hyperparameter Optimization and Tracking\"},{\"key\":\"mlflow.databricks.notebookRevisionID\",\"value\":\"1717353629137\"},{\"key\":\"mlflow.databricks.webappURL\",\"value\":\"https://ukwest.azuredatabricks.net\"},{\"key\":\"mlflow.databricks.workspaceID\",\"value\":\"1286930193882465\"},{\"key\":\"mlflow.databricks.workspaceURL\",\"value\":\"adb-1286930193882465.5.azuredatabricks.net\"},{\"key\":\"mlflow.parentRunId\",\"value\":\"968f7b3399c843e890f18f212a20d302\"},{\"key\":\"mlflow.rootRunId\",\"value\":\"968f7b3399c843e890f18f212a20d302\"},{\"key\":\"mlflow.runName\",\"value\":\"charming-hog-782\"},{\"key\":\"mlflow.source.name\",\"value\":\"/Users/olonok@hotmail.com/MLflow with Optuna: Hyperparameter Optimization and Tracking\"},{\"key\":\"mlflow.source.type\",\"value\":\"NOTEBOOK\"},{\"key\":\"mlflow.user\",\"value\":\"olonok@hotmail.com\"}]},\"inputs\":{}}}\n"
     ]
    }
   ],
   "source": [
    "urlrun_id = workspace_url + \"/api/2.0/mlflow/runs/get\"\n",
    "params={\n",
    "\"run_id\": \"0e3c41c688d841f39c83ccd0095d5954\"\n",
    "}\n",
    "response = requests.get(urlrun_id, headers = headers, params=params )\n",
    "\n",
    "print(response.status_code)\n",
    "print(response.text)"
   ]
  },
  {
   "cell_type": "markdown",
   "id": "8cceb400-5faa-4be5-95cb-b520a0e7e797",
   "metadata": {},
   "source": [
    "# Create cluster"
   ]
  },
  {
   "cell_type": "code",
   "execution_count": 105,
   "id": "6b97c9f7-3ed7-457b-bd96-e54a821cfd95",
   "metadata": {},
   "outputs": [
    {
     "name": "stdout",
     "output_type": "stream",
     "text": [
      "200\n",
      "{\"cluster_id\":\"0604-092256-b5lijbdg\"}\n"
     ]
    }
   ],
   "source": [
    "# ccreate cluster\n",
    "body = {\n",
    "  \"cluster_name\": \"single-node-cluster\",\n",
    "  \"spark_version\": \"14.3.x-scala2.12\",\n",
    "  \"node_type_id\":\"Standard_DS3_v2\",\n",
    "  \"num_workers\": 0,\n",
    "  \"spark_conf\": {\n",
    "    \"spark.databricks.cluster.profile\": \"singleNode\",\n",
    "    \"spark.master\": \"[*, 4]\"\n",
    "  },\n",
    "  \"custom_tags\": {\n",
    "    \"ResourceClass\": \"SingleNode\"\n",
    "  },\n",
    "\n",
    "}\n",
    "\n",
    "\n",
    "urlcreate_cluster = workspace_url + \"/api/2.0/clusters/create\"\n",
    "response = requests.post(urlcreate_cluster, headers = headers, data = json.dumps(body))\n",
    "\n",
    "print(response.status_code)\n",
    "print(response.text)"
   ]
  },
  {
   "cell_type": "code",
   "execution_count": null,
   "id": "34c93fe1-65d7-45f7-bbf2-2a3b9c956161",
   "metadata": {},
   "outputs": [],
   "source": []
  }
 ],
 "metadata": {
  "kernelspec": {
   "display_name": "Python (azure_ml)",
   "language": "python",
   "name": "azure_ml"
  },
  "language_info": {
   "codemirror_mode": {
    "name": "ipython",
    "version": 3
   },
   "file_extension": ".py",
   "mimetype": "text/x-python",
   "name": "python",
   "nbconvert_exporter": "python",
   "pygments_lexer": "ipython3",
   "version": "3.11.8"
  }
 },
 "nbformat": 4,
 "nbformat_minor": 5
}
