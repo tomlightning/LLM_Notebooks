{
 "cells": [
  {
   "cell_type": "code",
   "execution_count": 57,
   "id": "eb92b67e-7ea5-49e7-9025-397ea2201713",
   "metadata": {},
   "outputs": [],
   "source": [
    "#  submit jobs to API Databricks\n",
    "# https://docs.databricks.com/api/workspace/jobs/create"
   ]
  },
  {
   "cell_type": "code",
   "execution_count": 133,
   "id": "ef863495-a417-4fcf-a17e-8a3f93ca2e05",
   "metadata": {},
   "outputs": [],
   "source": [
    "import requests\n",
    "import json\n",
    "from dotenv import dotenv_values\n",
    "import pprint"
   ]
  },
  {
   "cell_type": "code",
   "execution_count": 35,
   "id": "7889435b-577f-4d4d-9309-287cf4f938db",
   "metadata": {},
   "outputs": [],
   "source": [
    "config = dotenv_values(\".env\")"
   ]
  },
  {
   "cell_type": "code",
   "execution_count": 106,
   "id": "b6b999f5-196c-4e9b-b705-5406485f9fcc",
   "metadata": {},
   "outputs": [
    {
     "data": {
      "text/plain": [
       "'https://adb-1286930193882465.5.azuredatabricks.net'"
      ]
     },
     "execution_count": 106,
     "metadata": {},
     "output_type": "execute_result"
    }
   ],
   "source": [
    "config.get(\"DATABRICKS_HOST\")"
   ]
  },
  {
   "cell_type": "code",
   "execution_count": 107,
   "id": "c68d6633-1840-44f2-9639-706720748386",
   "metadata": {},
   "outputs": [],
   "source": [
    "workspace_url = config.get(\"DATABRICKS_HOST\")\n",
    "token = config.get(\"DATABRICKS_TOKEN\")\n",
    "\n",
    "headers = {\n",
    "    \"Authorization\": f\"Bearer {token}\",\n",
    "    \"Content-Type\": \"application/json\"\n",
    "}\n"
   ]
  },
  {
   "cell_type": "markdown",
   "id": "52154b6b-4e22-4870-a99b-a3793c10535d",
   "metadata": {},
   "source": [
    "# Create cluster"
   ]
  },
  {
   "cell_type": "code",
   "execution_count": 110,
   "id": "94c77347-77f8-4030-b6c4-37e51a7abc78",
   "metadata": {},
   "outputs": [
    {
     "name": "stdout",
     "output_type": "stream",
     "text": [
      "200\n",
      "{\"cluster_id\":\"0604-101731-n1bv91jk\"}\n"
     ]
    }
   ],
   "source": [
    "urlcreate_cluster = workspace_url + \"/api/2.0/clusters/create\"\n",
    "\n",
    "body = {\n",
    "  \"cluster_name\": \"single-node-cluster\",\n",
    "  \"spark_version\": \"14.3.x-scala2.12\",\n",
    "  \"node_type_id\":\"Standard_DS3_v2\",\n",
    "  \"num_workers\": 0,\n",
    "  \"spark_conf\": {\n",
    "    \"spark.databricks.cluster.profile\": \"singleNode\",\n",
    "    \"spark.master\": \"[*, 4]\"\n",
    "  },\n",
    "  \"custom_tags\": {\n",
    "    \"ResourceClass\": \"SingleNode\"\n",
    "  },\n",
    "\n",
    "}\n",
    "\n",
    "response = requests.post(urlcreate_cluster, headers = headers, data = json.dumps(body))\n",
    "\n",
    "print(response.status_code)\n",
    "print(response.text)"
   ]
  },
  {
   "cell_type": "markdown",
   "id": "6b6196b2-556b-4fba-9982-cfdc92bdc039",
   "metadata": {},
   "source": [
    "# Submit Job run with creation of new cluster"
   ]
  },
  {
   "cell_type": "code",
   "execution_count": 111,
   "id": "9d2e51cc-670a-44a1-a1af-85fb29343a69",
   "metadata": {},
   "outputs": [
    {
     "data": {
      "text/plain": [
       "'https://adb-1286930193882465.5.azuredatabricks.net'"
      ]
     },
     "execution_count": 111,
     "metadata": {},
     "output_type": "execute_result"
    }
   ],
   "source": [
    "config.get(\"DATABRICKS_HOST\")"
   ]
  },
  {
   "cell_type": "code",
   "execution_count": 157,
   "id": "00feb9d4-6568-4887-b167-c6689043aecc",
   "metadata": {},
   "outputs": [],
   "source": [
    "workspace_url = config.get(\"DATABRICKS_HOST\")\n",
    "token = config.get(\"DATABRICKS_TOKEN\")\n",
    "\n",
    "headers = {\n",
    "    \"Authorization\": f\"Bearer {token}\",\n",
    "    \"Content-Type\": \"application/json\"}\n",
    "\n",
    "url = workspace_url + \"/api/2.1/jobs/runs/submit\"\n"
   ]
  },
  {
   "cell_type": "code",
   "execution_count": 158,
   "id": "58492004-de98-4a40-a6e1-32a4eadaea66",
   "metadata": {},
   "outputs": [],
   "source": [
    "body = {\n",
    "  \"name\" : \"MyJob_run\",\n",
    "  \"tasks\" : [\n",
    "    {\n",
    "      \"task_key\" : \"run_notebook_from_api\",\n",
    "        \"new_cluster\":{\n",
    "                \"spark_version\": \"15.1.x-cpu-ml-scala2.12\",\n",
    "    \"spark_conf\": {\n",
    "        \"spark.master\": \"local[*, 4]\",\n",
    "        \"spark.databricks.cluster.profile\": \"singleNode\"\n",
    "    },\n",
    "    \"azure_attributes\": {\n",
    "        \"first_on_demand\": 1,\n",
    "        \"availability\": \"ON_DEMAND_AZURE\",\n",
    "        \"spot_bid_max_price\": -1\n",
    "    },\n",
    "    \"node_type_id\": \"Standard_DS3_v2\",\n",
    "    \"driver_node_type_id\": \"Standard_DS3_v2\",\n",
    "    \"custom_tags\": {\n",
    "        \"ResourceClass\": \"SingleNode\"\n",
    "    },\n",
    "\n",
    "    \"enable_elastic_disk\": True,\n",
    "    \"single_user_name\": \"olonok@hotmail.com\",\n",
    "    \"data_security_mode\": \"LEGACY_SINGLE_USER_STANDARD\",\n",
    "    \"runtime_engine\": \"STANDARD\",\n",
    "    \"num_workers\": 0,\n",
    "               \n",
    "            },\n",
    "      \"notebook_task\" : {\n",
    "        \"notebook_path\" : \"/Workspace/Users/olonok@hotmail.com/jobs-api\",\n",
    "        \"source\" : \"WORKSPACE\",\n",
    "        \"base_parameters\": {\n",
    "            \"experiment_name\": \"xgboost_experiments_test_en\",\n",
    "  \n",
    "            }\n",
    "        }\n",
    "    }\n",
    "  ],\n",
    "  \"timeout_seconds\" : 3600,\n",
    "  \"tags\" : {\n",
    "    \"project\" : \"data_analytics\",\n",
    "    \"process\" : \"extraction\"\n",
    "   } \n",
    "}"
   ]
  },
  {
   "cell_type": "code",
   "execution_count": 159,
   "id": "561350f9-8d87-4116-95bf-f47b38c86a96",
   "metadata": {},
   "outputs": [
    {
     "name": "stdout",
     "output_type": "stream",
     "text": [
      "200\n",
      "{\"run_id\":640968121528131}\n"
     ]
    }
   ],
   "source": [
    "response = requests.post(url, headers = headers, data = json.dumps(body))\n",
    "\n",
    "print(response.status_code)\n",
    "print(response.text)"
   ]
  },
  {
   "cell_type": "markdown",
   "id": "e7f216d8-2298-43d2-ac04-f62c301d7550",
   "metadata": {},
   "source": [
    "# Create a Job and link it to an an existing Cluster"
   ]
  },
  {
   "cell_type": "code",
   "execution_count": 119,
   "id": "eb8ce05a-24af-4c9f-a427-7181f07df6f7",
   "metadata": {},
   "outputs": [
    {
     "data": {
      "text/plain": [
       "'https://adb-1286930193882465.5.azuredatabricks.net'"
      ]
     },
     "execution_count": 119,
     "metadata": {},
     "output_type": "execute_result"
    }
   ],
   "source": [
    "config.get(\"DATABRICKS_HOST\")"
   ]
  },
  {
   "cell_type": "code",
   "execution_count": 150,
   "id": "9bc4c2a2-d744-43b2-b1bf-38df24386a09",
   "metadata": {},
   "outputs": [],
   "source": [
    "workspace_url = config.get(\"DATABRICKS_HOST\")\n",
    "token = config.get(\"DATABRICKS_TOKEN\")\n",
    "\n",
    "headers = {\n",
    "    \"Authorization\": f\"Bearer {token}\",\n",
    "    \"Content-Type\": \"application/json\"\n",
    "}\n",
    "# url = workspace_url + \"/api/2.1/jobs/runs/submit\"\n",
    "url = workspace_url + \"/api/2.1/jobs/create\""
   ]
  },
  {
   "cell_type": "code",
   "execution_count": 151,
   "id": "846187ae-4d5b-4612-af3f-9a78540bd291",
   "metadata": {},
   "outputs": [],
   "source": [
    "body = {\n",
    "  \"name\" : \"New_Job_existing_cluster_2\",\n",
    "  \"tasks\" : [\n",
    "    {\n",
    "      \"task_key\" : \"run_notebook_from_api\",\n",
    "        \"existing_cluster_id\" : \"0603-211930-u6lf0uot\",\n",
    "\n",
    "      \"notebook_task\" : {\n",
    "        \"notebook_path\" : \"/Workspace/Users/olonok@hotmail.com/jobs-api\",\n",
    "        \"source\" : \"WORKSPACE\",\n",
    "          \"base_parameters\": {\n",
    "            \"experiment_name\": \"xgboost_experiments_existing_cluster\",\n",
    "  \n",
    "            }\n",
    "        }\n",
    "    }\n",
    "  ],\n",
    "  \"timeout_seconds\" : 3600,\n",
    "  \"tags\" : {\n",
    "    \"project\" : \"data_analytics\",\n",
    "    \"process\" : \"extraction\"\n",
    "   } \n",
    "}"
   ]
  },
  {
   "cell_type": "code",
   "execution_count": 152,
   "id": "4df4fd3a-3276-4c6d-a3ff-3434c0ed3071",
   "metadata": {},
   "outputs": [
    {
     "name": "stdout",
     "output_type": "stream",
     "text": [
      "200\n",
      "'{\"job_id\":562279998675533}'\n"
     ]
    }
   ],
   "source": [
    "response = requests.post(url, headers = headers, data = json.dumps(body))\n",
    "\n",
    "print(response.status_code)\n",
    "pprint.pprint(response.text)"
   ]
  },
  {
   "cell_type": "markdown",
   "id": "1d329505-37e2-470e-8f31-7801cc00ca40",
   "metadata": {},
   "source": [
    "# To a pool"
   ]
  },
  {
   "cell_type": "code",
   "execution_count": null,
   "id": "adfb90f9-624f-408f-bfa4-55bc42553b6a",
   "metadata": {},
   "outputs": [],
   "source": [
    "body = {\n",
    "  \"name\" : \"MyJob\",\n",
    "  \"tasks\" : [\n",
    "    {\n",
    "      \"task_key\" : \"run_notebook_from_api\",\n",
    "\n",
    "        \"new_cluster\":{\n",
    "                \"num_workers\": 1,\n",
    "                \"autoscale\":{\n",
    "                    \"min_workers\":1,\n",
    "                    \"max_workers\":1\n",
    "                },\n",
    "\n",
    "                \"spark_version\": \"15.1.x-cpu-ml-scala2.12\",\n",
    "                \"spark_conf\":{\n",
    "\n",
    "                },\n",
    "                \"instance_pool_id\": \"0603-205900-times49-pool-v6dusypa\"\n",
    "            },\n",
    "      \"notebook_task\" : {\n",
    "        \"notebook_path\" : \"/Workspace/Users/olonok@hotmail.com/jobs-api\",\n",
    "        \"source\" : \"WORKSPACE\",\n",
    "          \"base_parameters\": {\n",
    "            \"experiment_name\": \"xgboost_experiments\",\n",
    "  \n",
    "            }\n",
    "        }\n",
    "    }\n",
    "  ],\n",
    "  \"timeout_seconds\" : 3600,\n",
    "  \"tags\" : {\n",
    "    \"project\" : \"data_analytics\",\n",
    "    \"process\" : \"extraction\"\n",
    "   } \n",
    "}"
   ]
  },
  {
   "cell_type": "markdown",
   "id": "2a7eddef-bbd6-4f50-a371-5ea5cde4fde7",
   "metadata": {},
   "source": [
    "# List jobs in your workspace"
   ]
  },
  {
   "cell_type": "code",
   "execution_count": 138,
   "id": "9873eee7-1d76-42af-88b0-b0dd56076479",
   "metadata": {},
   "outputs": [
    {
     "data": {
      "text/plain": [
       "'https://adb-1286930193882465.5.azuredatabricks.net'"
      ]
     },
     "execution_count": 138,
     "metadata": {},
     "output_type": "execute_result"
    }
   ],
   "source": [
    "config.get(\"DATABRICKS_HOST\")"
   ]
  },
  {
   "cell_type": "code",
   "execution_count": 139,
   "id": "20fd41c7-1cb9-4b57-89e5-f21d978a50eb",
   "metadata": {},
   "outputs": [],
   "source": [
    "workspace_url = config.get(\"DATABRICKS_HOST\")\n",
    "token = config.get(\"DATABRICKS_TOKEN\")\n",
    "\n",
    "headers = {\n",
    "    \"Authorization\": f\"Bearer {token}\",\n",
    "    \"Content-Type\": \"application/json\"\n",
    "}"
   ]
  },
  {
   "cell_type": "code",
   "execution_count": 142,
   "id": "df78c9e4-4a84-43f3-934c-449f0ea40e7e",
   "metadata": {},
   "outputs": [
    {
     "name": "stdout",
     "output_type": "stream",
     "text": [
      "200\n",
      "{'has_more': False,\n",
      " 'jobs': [{'created_time': 1717508072708,\n",
      "           'creator_user_name': 'olonok@hotmail.com',\n",
      "           'job_id': 864744060298442,\n",
      "           'settings': {'email_notifications': {},\n",
      "                        'format': 'MULTI_TASK',\n",
      "                        'max_concurrent_runs': 1,\n",
      "                        'name': 'New_Job_existing_cluster_2',\n",
      "                        'tags': {'process': 'extraction',\n",
      "                                 'project': 'data_analytics'},\n",
      "                        'timeout_seconds': 3600}},\n",
      "          {'created_time': 1717506959101,\n",
      "           'creator_user_name': 'olonok@hotmail.com',\n",
      "           'job_id': 621160275574138,\n",
      "           'settings': {'email_notifications': {},\n",
      "                        'format': 'MULTI_TASK',\n",
      "                        'max_concurrent_runs': 1,\n",
      "                        'name': 'New_Job_existing_cluster',\n",
      "                        'tags': {'process': 'extraction',\n",
      "                                 'project': 'data_analytics'},\n",
      "                        'timeout_seconds': 3600}}]}\n"
     ]
    }
   ],
   "source": [
    "\n",
    "urllist = workspace_url + \"/api/2.1/jobs/list\"\n",
    "response = requests.get(urllist, headers = headers)\n",
    "\n",
    "print(response.status_code)\n",
    "pprint.pprint(response.json())"
   ]
  },
  {
   "cell_type": "markdown",
   "id": "4c4fc3ad-ddd6-448e-94b0-a63b07ab9bb5",
   "metadata": {},
   "source": [
    "# List all runs workspace"
   ]
  },
  {
   "cell_type": "code",
   "execution_count": 143,
   "id": "b8fc1b62-9496-4965-bf64-666d32c19075",
   "metadata": {},
   "outputs": [
    {
     "data": {
      "text/plain": [
       "'https://adb-1286930193882465.5.azuredatabricks.net'"
      ]
     },
     "execution_count": 143,
     "metadata": {},
     "output_type": "execute_result"
    }
   ],
   "source": [
    "config.get(\"DATABRICKS_HOST\")"
   ]
  },
  {
   "cell_type": "code",
   "execution_count": 144,
   "id": "3b8ce770-7eb0-4763-b7c1-e3fbd19126f2",
   "metadata": {},
   "outputs": [],
   "source": [
    "workspace_url = config.get(\"DATABRICKS_HOST\")\n",
    "token = config.get(\"DATABRICKS_TOKEN\")\n",
    "\n",
    "headers = {\n",
    "    \"Authorization\": f\"Bearer {token}\",\n",
    "    \"Content-Type\": \"application/json\"\n",
    "}"
   ]
  },
  {
   "cell_type": "code",
   "execution_count": 148,
   "id": "f18f53a0-36af-4d8b-9a0b-de805959b2b7",
   "metadata": {},
   "outputs": [
    {
     "name": "stdout",
     "output_type": "stream",
     "text": [
      "200\n",
      "{'has_more': False,\n",
      " 'next_page_token': 'CAEQ66WagP4xINjz9veW_aIB',\n",
      " 'prev_page_token': 'CAAQle2Al_4xILW7x6Tctyc=',\n",
      " 'runs': [{'cleanup_duration': 0,\n",
      "           'creator_user_name': 'olonok@hotmail.com',\n",
      "           'end_time': 1717498836077,\n",
      "           'execution_duration': 0,\n",
      "           'format': 'MULTI_TASK',\n",
      "           'job_id': 220500977018293,\n",
      "           'number_in_job': 173438372273589,\n",
      "           'run_duration': 540120,\n",
      "           'run_id': 173438372273589,\n",
      "           'run_name': 'Untitled',\n",
      "           'run_page_url': 'https://adb-1286930193882465.5.azuredatabricks.net/?o=1286930193882465#job/220500977018293/run/173438372273589',\n",
      "           'run_type': 'SUBMIT_RUN',\n",
      "           'setup_duration': 0,\n",
      "           'start_time': 1717498295957,\n",
      "           'state': {'life_cycle_state': 'TERMINATED',\n",
      "                     'result_state': 'SUCCESS',\n",
      "                     'state_message': '',\n",
      "                     'user_cancelled_or_timedout': False}},\n",
      "          {'cleanup_duration': 0,\n",
      "           'creator_user_name': 'olonok@hotmail.com',\n",
      "           'end_time': 1717497931764,\n",
      "           'execution_duration': 0,\n",
      "           'format': 'MULTI_TASK',\n",
      "           'job_id': 81141540227527,\n",
      "           'number_in_job': 664414179448977,\n",
      "           'run_duration': 47808,\n",
      "           'run_id': 664414179448977,\n",
      "           'run_name': 'Untitled',\n",
      "           'run_page_url': 'https://adb-1286930193882465.5.azuredatabricks.net/?o=1286930193882465#job/81141540227527/run/664414179448977',\n",
      "           'run_type': 'SUBMIT_RUN',\n",
      "           'setup_duration': 0,\n",
      "           'start_time': 1717497883956,\n",
      "           'state': {'life_cycle_state': 'TERMINATED',\n",
      "                     'result_state': 'CANCELED',\n",
      "                     'state_message': 'Run cancelled.',\n",
      "                     'user_cancelled_or_timedout': True}},\n",
      "          {'cleanup_duration': 0,\n",
      "           'creator_user_name': 'olonok@hotmail.com',\n",
      "           'end_time': 1717492806482,\n",
      "           'execution_duration': 0,\n",
      "           'format': 'MULTI_TASK',\n",
      "           'job_id': 92750622646995,\n",
      "           'number_in_job': 850595848950128,\n",
      "           'run_duration': 359470,\n",
      "           'run_id': 850595848950128,\n",
      "           'run_name': 'Untitled',\n",
      "           'run_page_url': 'https://adb-1286930193882465.5.azuredatabricks.net/?o=1286930193882465#job/92750622646995/run/850595848950128',\n",
      "           'run_type': 'SUBMIT_RUN',\n",
      "           'setup_duration': 0,\n",
      "           'start_time': 1717492447012,\n",
      "           'state': {'life_cycle_state': 'TERMINATED',\n",
      "                     'result_state': 'CANCELED',\n",
      "                     'state_message': 'Run cancelled.',\n",
      "                     'user_cancelled_or_timedout': True}},\n",
      "          {'cleanup_duration': 0,\n",
      "           'creator_user_name': 'olonok@hotmail.com',\n",
      "           'end_time': 1717493211191,\n",
      "           'execution_duration': 0,\n",
      "           'format': 'MULTI_TASK',\n",
      "           'job_id': 867241885321951,\n",
      "           'number_in_job': 766733162915718,\n",
      "           'run_duration': 903141,\n",
      "           'run_id': 766733162915718,\n",
      "           'run_name': 'Untitled',\n",
      "           'run_page_url': 'https://adb-1286930193882465.5.azuredatabricks.net/?o=1286930193882465#job/867241885321951/run/766733162915718',\n",
      "           'run_type': 'SUBMIT_RUN',\n",
      "           'setup_duration': 0,\n",
      "           'start_time': 1717492308050,\n",
      "           'state': {'life_cycle_state': 'TERMINATED',\n",
      "                     'result_state': 'SUCCESS',\n",
      "                     'state_message': '',\n",
      "                     'user_cancelled_or_timedout': False}},\n",
      "          {'cleanup_duration': 0,\n",
      "           'creator_user_name': 'olonok@hotmail.com',\n",
      "           'end_time': 1717490147386,\n",
      "           'execution_duration': 0,\n",
      "           'format': 'MULTI_TASK',\n",
      "           'job_id': 1104518121601963,\n",
      "           'number_in_job': 344319335613970,\n",
      "           'run_duration': 168665,\n",
      "           'run_id': 344319335613970,\n",
      "           'run_name': 'Untitled',\n",
      "           'run_page_url': 'https://adb-1286930193882465.5.azuredatabricks.net/?o=1286930193882465#job/1104518121601963/run/344319335613970',\n",
      "           'run_type': 'SUBMIT_RUN',\n",
      "           'setup_duration': 0,\n",
      "           'start_time': 1717489978721,\n",
      "           'state': {'life_cycle_state': 'TERMINATED',\n",
      "                     'result_state': 'CANCELED',\n",
      "                     'state_message': 'Run cancelled.',\n",
      "                     'user_cancelled_or_timedout': True}},\n",
      "          {'cleanup_duration': 0,\n",
      "           'creator_user_name': 'olonok@hotmail.com',\n",
      "           'end_time': 1717489905107,\n",
      "           'execution_duration': 0,\n",
      "           'format': 'MULTI_TASK',\n",
      "           'job_id': 1061137351611308,\n",
      "           'number_in_job': 802560028961597,\n",
      "           'run_duration': 790684,\n",
      "           'run_id': 802560028961597,\n",
      "           'run_name': 'Untitled',\n",
      "           'run_page_url': 'https://adb-1286930193882465.5.azuredatabricks.net/?o=1286930193882465#job/1061137351611308/run/802560028961597',\n",
      "           'run_type': 'SUBMIT_RUN',\n",
      "           'setup_duration': 0,\n",
      "           'start_time': 1717489114423,\n",
      "           'state': {'life_cycle_state': 'TERMINATED',\n",
      "                     'result_state': 'SUCCESS',\n",
      "                     'state_message': '',\n",
      "                     'user_cancelled_or_timedout': False}},\n",
      "          {'cleanup_duration': 0,\n",
      "           'creator_user_name': 'olonok@hotmail.com',\n",
      "           'end_time': 1717489548391,\n",
      "           'execution_duration': 0,\n",
      "           'format': 'MULTI_TASK',\n",
      "           'job_id': 217859279271920,\n",
      "           'number_in_job': 114147823600026,\n",
      "           'run_duration': 614597,\n",
      "           'run_id': 114147823600026,\n",
      "           'run_name': 'Untitled',\n",
      "           'run_page_url': 'https://adb-1286930193882465.5.azuredatabricks.net/?o=1286930193882465#job/217859279271920/run/114147823600026',\n",
      "           'run_type': 'SUBMIT_RUN',\n",
      "           'setup_duration': 0,\n",
      "           'start_time': 1717488933794,\n",
      "           'state': {'life_cycle_state': 'TERMINATED',\n",
      "                     'result_state': 'CANCELED',\n",
      "                     'state_message': 'Run cancelled.',\n",
      "                     'user_cancelled_or_timedout': True}},\n",
      "          {'cleanup_duration': 0,\n",
      "           'creator_user_name': 'olonok@hotmail.com',\n",
      "           'end_time': 1717482154602,\n",
      "           'execution_duration': 0,\n",
      "           'format': 'MULTI_TASK',\n",
      "           'job_id': 938344524291005,\n",
      "           'number_in_job': 1024027120334004,\n",
      "           'run_duration': 401923,\n",
      "           'run_id': 1024027120334004,\n",
      "           'run_name': 'Untitled',\n",
      "           'run_page_url': 'https://adb-1286930193882465.5.azuredatabricks.net/?o=1286930193882465#job/938344524291005/run/1024027120334004',\n",
      "           'run_type': 'SUBMIT_RUN',\n",
      "           'setup_duration': 0,\n",
      "           'start_time': 1717481752679,\n",
      "           'state': {'life_cycle_state': 'TERMINATED',\n",
      "                     'result_state': 'CANCELED',\n",
      "                     'state_message': 'Run cancelled.',\n",
      "                     'user_cancelled_or_timedout': True}},\n",
      "          {'cleanup_duration': 0,\n",
      "           'creator_user_name': 'olonok@hotmail.com',\n",
      "           'end_time': 1717451269528,\n",
      "           'execution_duration': 0,\n",
      "           'format': 'MULTI_TASK',\n",
      "           'job_id': 885789614069564,\n",
      "           'number_in_job': 658499728614182,\n",
      "           'run_duration': 557403,\n",
      "           'run_id': 658499728614182,\n",
      "           'run_name': 'Untitled',\n",
      "           'run_page_url': 'https://adb-1286930193882465.5.azuredatabricks.net/?o=1286930193882465#job/885789614069564/run/658499728614182',\n",
      "           'run_type': 'SUBMIT_RUN',\n",
      "           'setup_duration': 0,\n",
      "           'start_time': 1717450712125,\n",
      "           'state': {'life_cycle_state': 'TERMINATED',\n",
      "                     'result_state': 'SUCCESS',\n",
      "                     'state_message': '',\n",
      "                     'user_cancelled_or_timedout': False}},\n",
      "          {'cleanup_duration': 0,\n",
      "           'creator_user_name': 'olonok@hotmail.com',\n",
      "           'end_time': 1717451103660,\n",
      "           'execution_duration': 0,\n",
      "           'format': 'MULTI_TASK',\n",
      "           'job_id': 240803391452322,\n",
      "           'number_in_job': 716784659184088,\n",
      "           'run_duration': 625345,\n",
      "           'run_id': 716784659184088,\n",
      "           'run_name': 'Untitled',\n",
      "           'run_page_url': 'https://adb-1286930193882465.5.azuredatabricks.net/?o=1286930193882465#job/240803391452322/run/716784659184088',\n",
      "           'run_type': 'SUBMIT_RUN',\n",
      "           'setup_duration': 0,\n",
      "           'start_time': 1717450478315,\n",
      "           'state': {'life_cycle_state': 'TERMINATED',\n",
      "                     'result_state': 'SUCCESS',\n",
      "                     'state_message': '',\n",
      "                     'user_cancelled_or_timedout': False}}]}\n"
     ]
    }
   ],
   "source": [
    "\n",
    "urllistrun = workspace_url + \"/api/2.1/jobs/runs/list\"\n",
    "\n",
    "params={\n",
    "\"completed_only\": \"true\"\n",
    "}\n",
    "\n",
    "response = requests.get(urllistrun, headers = headers, params=params)\n",
    "\n",
    "print(response.status_code)\n",
    "pprint.pprint(response.json())"
   ]
  },
  {
   "cell_type": "markdown",
   "id": "dd4ee610-5d7a-464d-9628-ee4a23b72c75",
   "metadata": {},
   "source": [
    "# Cancel a Job Run"
   ]
  },
  {
   "cell_type": "code",
   "execution_count": 149,
   "id": "376cd735-63c2-46d5-95be-d0e51f0f9df8",
   "metadata": {},
   "outputs": [
    {
     "data": {
      "text/plain": [
       "'https://adb-1286930193882465.5.azuredatabricks.net'"
      ]
     },
     "execution_count": 149,
     "metadata": {},
     "output_type": "execute_result"
    }
   ],
   "source": [
    "config.get(\"DATABRICKS_HOST\")"
   ]
  },
  {
   "cell_type": "code",
   "execution_count": 160,
   "id": "35bee9e6-3a8d-4f5b-9616-513785da4f38",
   "metadata": {},
   "outputs": [],
   "source": [
    "workspace_url = config.get(\"DATABRICKS_HOST\")\n",
    "token = config.get(\"DATABRICKS_TOKEN\")\n",
    "\n",
    "headers = {\n",
    "    \"Authorization\": f\"Bearer {token}\",\n",
    "    \"Content-Type\": \"application/json\"\n",
    "}"
   ]
  },
  {
   "cell_type": "code",
   "execution_count": 161,
   "id": "56e29b8b-9834-4cc2-8e58-44c524af0a57",
   "metadata": {},
   "outputs": [
    {
     "name": "stdout",
     "output_type": "stream",
     "text": [
      "200\n",
      "{}\n"
     ]
    }
   ],
   "source": [
    "body = {\n",
    "  \"run_id\": 640968121528131\n",
    "}\n",
    "urlcancelrun = workspace_url + \"/api/2.1/jobs/runs/cancel\"\n",
    "response = requests.post(urlcancelrun, headers = headers, data = json.dumps(body))\n",
    "\n",
    "print(response.status_code)\n",
    "print(response.text)"
   ]
  },
  {
   "cell_type": "markdown",
   "id": "b7eeeb65-2eea-4b63-afc1-7e2331dd22b2",
   "metadata": {},
   "source": [
    "# Workspace "
   ]
  },
  {
   "cell_type": "code",
   "execution_count": 103,
   "id": "9bf54116-5bd9-4022-af0a-55510b0716d6",
   "metadata": {},
   "outputs": [
    {
     "name": "stdout",
     "output_type": "stream",
     "text": [
      "200\n",
      "{\"objects\":[{\"object_type\":\"NOTEBOOK\",\"path\":\"/Users/olonok@hotmail.com/jobs-api\",\"language\":\"PYTHON\",\"created_at\":1717159068335,\"modified_at\":1717482081431,\"object_id\":760923413360882,\"resource_id\":\"760923413360882\"},{\"object_type\":\"MLFLOW_EXPERIMENT\",\"path\":\"/Users/olonok@hotmail.com/pipelines\",\"object_id\":878341338033203,\"resource_id\":\"878341338033203\"},{\"object_type\":\"NOTEBOOK\",\"path\":\"/Users/olonok@hotmail.com/mlflow-end-to-end\",\"language\":\"PYTHON\",\"created_at\":1717447044835,\"modified_at\":1717447044888,\"object_id\":1899686197831447,\"resource_id\":\"1899686197831447\"},{\"object_type\":\"MLFLOW_EXPERIMENT\",\"path\":\"/Users/olonok@hotmail.com/multistep_workflow\",\"object_id\":1910808740223562,\"resource_id\":\"1910808740223562\"},{\"object_type\":\"NOTEBOOK\",\"path\":\"/Users/olonok@hotmail.com/MLflow with Optuna: Hyperparameter Optimization and Tracking\",\"language\":\"PYTHON\",\"created_at\":1717344828119,\"modified_at\":1717395402270,\"object_id\":2546891085146716,\"resource_id\":\"2546891085146716\"},{\"object_type\":\"NOTEBOOK\",\"path\":\"/Users/olonok@hotmail.com/utils\",\"language\":\"PYTHON\",\"created_at\":1717344999414,\"modified_at\":1717382852513,\"object_id\":2546891085146718,\"resource_id\":\"2546891085146718\"},{\"object_type\":\"DIRECTORY\",\"path\":\"/Users/olonok@hotmail.com/pics\",\"object_id\":2546891085146725,\"resource_id\":\"2546891085146725\"},{\"object_type\":\"MLFLOW_EXPERIMENT\",\"path\":\"/Users/olonok@hotmail.com/Apples Demand\",\"object_id\":2546891085146744,\"resource_id\":\"2546891085146744\"},{\"object_type\":\"MLFLOW_EXPERIMENT\",\"path\":\"/Users/olonok@hotmail.com/pipelines_databricks\",\"object_id\":3434781439750620,\"resource_id\":\"3434781439750620\"},{\"object_type\":\"MLFLOW_EXPERIMENT\",\"path\":\"/Users/olonok@hotmail.com/pipelines_databricks_2\",\"object_id\":3434781439750621,\"resource_id\":\"3434781439750621\"}]}\n",
      "\n"
     ]
    }
   ],
   "source": [
    "urllist = workspace_url + \"/api/2.0/workspace/list\"\n",
    "params={\n",
    "\"path\": \"/Users/olonok@hotmail.com/\"\n",
    "}\n",
    "response = requests.get(urllist, headers = headers, params=params )\n",
    "\n",
    "print(response.status_code)\n",
    "print(response.text)"
   ]
  },
  {
   "cell_type": "markdown",
   "id": "35f0c5fc-fd9c-48b8-9113-5e82ce3354f0",
   "metadata": {},
   "source": [
    "# Machine Learning"
   ]
  },
  {
   "cell_type": "code",
   "execution_count": 104,
   "id": "188b876b-af11-4aca-832c-6653dfbdafb6",
   "metadata": {},
   "outputs": [
    {
     "name": "stdout",
     "output_type": "stream",
     "text": [
      "200\n",
      "{\"run\":{\"info\":{\"run_id\":\"0e3c41c688d841f39c83ccd0095d5954\",\"run_uuid\":\"0e3c41c688d841f39c83ccd0095d5954\",\"experiment_id\":\"2546891085146744\",\"run_name\":\"charming-hog-782\",\"status\":\"FINISHED\",\"start_time\":1717353627765,\"end_time\":1717353628754,\"artifact_uri\":\"dbfs:/databricks/mlflow-tracking/2546891085146744/0e3c41c688d841f39c83ccd0095d5954/artifacts\",\"lifecycle_stage\":\"active\"},\"data\":{\"metrics\":[{\"key\":\"mse\",\"value\":34331.82597229768,\"timestamp\":1717353628366,\"step\":0},{\"key\":\"rmse\",\"value\":185.28849390153098,\"timestamp\":1717353628551,\"step\":0}],\"params\":[{\"key\":\"alpha\",\"value\":\"5.0206024979717066e-08\"},{\"key\":\"booster\",\"value\":\"gbtree\"},{\"key\":\"eta\",\"value\":\"0.6943485418169614\"},{\"key\":\"eval_metric\",\"value\":\"rmse\"},{\"key\":\"gamma\",\"value\":\"0.00019463076719002743\"},{\"key\":\"grow_policy\",\"value\":\"depthwise\"},{\"key\":\"lambda\",\"value\":\"1.238357756908523e-06\"},{\"key\":\"max_depth\",\"value\":\"5\"},{\"key\":\"objective\",\"value\":\"reg:squarederror\"}],\"tags\":[{\"key\":\"mlflow.databricks.cluster.id\",\"value\":\"0531-123607-lblvj6fa\"},{\"key\":\"mlflow.databricks.cluster.info\",\"value\":\"{\\\"cluster_name\\\":\\\"Jan Gogol's Cluster\\\",\\\"spark_version\\\":\\\"15.1.x-cpu-ml-scala2.12\\\",\\\"node_type_id\\\":\\\"Standard_DS3_v2\\\",\\\"driver_node_type_id\\\":\\\"Standard_DS3_v2\\\",\\\"autotermination_minutes\\\":120,\\\"disk_spec\\\":{},\\\"autoscale\\\":{\\\"min_workers\\\":1,\\\"max_workers\\\":1,\\\"target_workers\\\":1}}\"},{\"key\":\"mlflow.databricks.cluster.libraries\",\"value\":\"{\\\"installable\\\":[{\\\"pypi\\\":{\\\"package\\\":\\\"optuna\\\"}},{\\\"pypi\\\":{\\\"package\\\":\\\"faker\\\"}}],\\\"redacted\\\":[]}\"},{\"key\":\"mlflow.databricks.notebook.commandID\",\"value\":\"1473973421898776429_7989566754412881815_ed36f6d002c44bb6aaea28421e8a4aa4\"},{\"key\":\"mlflow.databricks.notebookID\",\"value\":\"2546891085146716\"},{\"key\":\"mlflow.databricks.notebookPath\",\"value\":\"/Users/olonok@hotmail.com/MLflow with Optuna: Hyperparameter Optimization and Tracking\"},{\"key\":\"mlflow.databricks.notebookRevisionID\",\"value\":\"1717353629137\"},{\"key\":\"mlflow.databricks.webappURL\",\"value\":\"https://ukwest.azuredatabricks.net\"},{\"key\":\"mlflow.databricks.workspaceID\",\"value\":\"1286930193882465\"},{\"key\":\"mlflow.databricks.workspaceURL\",\"value\":\"adb-1286930193882465.5.azuredatabricks.net\"},{\"key\":\"mlflow.parentRunId\",\"value\":\"968f7b3399c843e890f18f212a20d302\"},{\"key\":\"mlflow.rootRunId\",\"value\":\"968f7b3399c843e890f18f212a20d302\"},{\"key\":\"mlflow.runName\",\"value\":\"charming-hog-782\"},{\"key\":\"mlflow.source.name\",\"value\":\"/Users/olonok@hotmail.com/MLflow with Optuna: Hyperparameter Optimization and Tracking\"},{\"key\":\"mlflow.source.type\",\"value\":\"NOTEBOOK\"},{\"key\":\"mlflow.user\",\"value\":\"olonok@hotmail.com\"}]},\"inputs\":{}}}\n"
     ]
    }
   ],
   "source": [
    "urlrun_id = workspace_url + \"/api/2.0/mlflow/runs/get\"\n",
    "params={\n",
    "\"run_id\": \"0e3c41c688d841f39c83ccd0095d5954\"\n",
    "}\n",
    "response = requests.get(urlrun_id, headers = headers, params=params )\n",
    "\n",
    "print(response.status_code)\n",
    "print(response.text)"
   ]
  },
  {
   "cell_type": "markdown",
   "id": "8cceb400-5faa-4be5-95cb-b520a0e7e797",
   "metadata": {},
   "source": [
    "# Create cluster"
   ]
  },
  {
   "cell_type": "code",
   "execution_count": 105,
   "id": "6b97c9f7-3ed7-457b-bd96-e54a821cfd95",
   "metadata": {},
   "outputs": [
    {
     "name": "stdout",
     "output_type": "stream",
     "text": [
      "200\n",
      "{\"cluster_id\":\"0604-092256-b5lijbdg\"}\n"
     ]
    }
   ],
   "source": [
    "# ccreate cluster\n",
    "body = {\n",
    "  \"cluster_name\": \"single-node-cluster\",\n",
    "  \"spark_version\": \"14.3.x-scala2.12\",\n",
    "  \"node_type_id\":\"Standard_DS3_v2\",\n",
    "  \"num_workers\": 0,\n",
    "  \"spark_conf\": {\n",
    "    \"spark.databricks.cluster.profile\": \"singleNode\",\n",
    "    \"spark.master\": \"[*, 4]\"\n",
    "  },\n",
    "  \"custom_tags\": {\n",
    "    \"ResourceClass\": \"SingleNode\"\n",
    "  },\n",
    "\n",
    "}\n",
    "\n",
    "\n",
    "urlcreate_cluster = workspace_url + \"/api/2.0/clusters/create\"\n",
    "response = requests.post(urlcreate_cluster, headers = headers, data = json.dumps(body))\n",
    "\n",
    "print(response.status_code)\n",
    "print(response.text)"
   ]
  },
  {
   "cell_type": "code",
   "execution_count": null,
   "id": "34c93fe1-65d7-45f7-bbf2-2a3b9c956161",
   "metadata": {},
   "outputs": [],
   "source": []
  }
 ],
 "metadata": {
  "kernelspec": {
   "display_name": "Python (azure_ml)",
   "language": "python",
   "name": "azure_ml"
  },
  "language_info": {
   "codemirror_mode": {
    "name": "ipython",
    "version": 3
   },
   "file_extension": ".py",
   "mimetype": "text/x-python",
   "name": "python",
   "nbconvert_exporter": "python",
   "pygments_lexer": "ipython3",
   "version": "3.11.8"
  }
 },
 "nbformat": 4,
 "nbformat_minor": 5
}
