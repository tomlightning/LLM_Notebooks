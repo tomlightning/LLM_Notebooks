{
  "nbformat": 4,
  "nbformat_minor": 0,
  "metadata": {
    "colab": {
      "provenance": [],
      "authorship_tag": "ABX9TyMxtg6DU3qSSkK9mTV95YoL",
      "include_colab_link": true
    },
    "kernelspec": {
      "name": "python3",
      "display_name": "Python 3"
    },
    "language_info": {
      "name": "python"
    }
  },
  "cells": [
    {
      "cell_type": "markdown",
      "metadata": {
        "id": "view-in-github",
        "colab_type": "text"
      },
      "source": [
        "<a href=\"https://colab.research.google.com/github/olonok69/LLM_Notebooks/blob/main/Prompt_engineering/Prompt_engineering_OpenAI.ipynb\" target=\"_parent\"><img src=\"https://colab.research.google.com/assets/colab-badge.svg\" alt=\"Open In Colab\"/></a>"
      ]
    },
    {
      "cell_type": "code",
      "source": [
        "# ! pip install openai==0.28 tiktoken cohere -q"
      ],
      "metadata": {
        "colab": {
          "base_uri": "https://localhost:8080/"
        },
        "id": "WI8j92ov9mIP",
        "outputId": "c4324ddf-2dd6-4812-a542-0326ec16b90d"
      },
      "execution_count": 14,
      "outputs": [
        {
          "output_type": "stream",
          "name": "stdout",
          "text": [
            "\u001b[2K     \u001b[90m━━━━━━━━━━━━━━━━━━━━━━━━━━━━━━━━━━━━━━━━\u001b[0m \u001b[32m51.9/51.9 kB\u001b[0m \u001b[31m2.6 MB/s\u001b[0m eta \u001b[36m0:00:00\u001b[0m\n",
            "\u001b[2K     \u001b[90m━━━━━━━━━━━━━━━━━━━━━━━━━━━━━━━━━━━━━━━━\u001b[0m \u001b[32m3.1/3.1 MB\u001b[0m \u001b[31m60.3 MB/s\u001b[0m eta \u001b[36m0:00:00\u001b[0m\n",
            "\u001b[?25h"
          ]
        }
      ]
    },
    {
      "cell_type": "markdown",
      "source": [
        "\n",
        "# What is Prompt Engineering\n",
        "\n",
        "Prompt engineering is a relatively new discipline for developing and optimizing prompts to efficiently use language models (LMs) for a wide variety of applications and research topics. Prompt engineering skills help to better understand the capabilities and limitations of large language models (LLMs).\n",
        "\n",
        "Researchers use prompt engineering to improve the capacity of LLMs on a wide range of common and complex tasks such as question answering and arithmetic reasoning. Developers use prompt engineering to design robust and effective prompting techniques that interface with LLMs and other tools.\n",
        "\n",
        "Prompt engineering is not just about designing and developing prompts. It encompasses a wide range of skills and techniques that are useful for interacting and developing with LLMs. It's an important skill to interface, build with, and understand capabilities of LLMs. You can use prompt engineering to improve safety of LLMs and build new capabilities like augmenting LLMs with domain knowledge and external tools.\n",
        "\n",
        "https://arxiv.org/abs/2205.11916\n",
        "\n",
        "\n",
        "https://www.promptingguide.ai/introduction/settings\n",
        "\n",
        "\n",
        "https://github.com/openai/tiktoken/blob/main/README.md\n",
        "\n",
        "https://help.openai.com/en/articles/4936856-what-are-tokens-and-how-to-count-them\n",
        "\n",
        "\n",
        "https://openai.com/pricing\n"
      ],
      "metadata": {
        "id": "oXcyfkSe_4__"
      }
    },
    {
      "cell_type": "code",
      "execution_count": 20,
      "metadata": {
        "id": "tGG9BlPy8xT0"
      },
      "outputs": [],
      "source": [
        "import openai\n"
      ]
    },
    {
      "cell_type": "code",
      "source": [
        "from google.colab import userdata\n",
        "openai.api_key = userdata.get('KEY_OPENAI')"
      ],
      "metadata": {
        "id": "8rsZKkW092hN"
      },
      "execution_count": 21,
      "outputs": []
    },
    {
      "cell_type": "code",
      "source": [
        "response = openai.Completion.create(\n",
        "    prompt=\"generate me 3 trivia questions and answers\",\n",
        "    model=\"gpt-3.5-turbo-instruct\",\n",
        "    max_tokens=300\n",
        ")\n",
        "print(response.choices[0].text)"
      ],
      "metadata": {
        "colab": {
          "base_uri": "https://localhost:8080/"
        },
        "id": "8iphRgM-92a8",
        "outputId": "ebc15e5b-f141-4d9c-cc4d-0633ae46b22c"
      },
      "execution_count": 22,
      "outputs": [
        {
          "output_type": "stream",
          "name": "stdout",
          "text": [
            "\n",
            "\n",
            "1. What was the first feature-length animated film ever released, and in what year?\n",
            "Answer: Snow White and the Seven Dwarfs, released in 1937.\n",
            "\n",
            "2. Who was the first female astronaut in space?\n",
            "Answer: Valentina Tereshkova, a Soviet cosmonaut who flew on the Vostok 6 mission in 1963.\n",
            "\n",
            "3. How many elements are on the periodic table?\n",
            "Answer: There are currently 118 known elements on the periodic table.\n"
          ]
        }
      ]
    },
    {
      "cell_type": "code",
      "source": [
        "## Using the Chat API # GPT3.5 Turbo\n",
        "reply = openai.ChatCompletion.create(\n",
        "    model=\"gpt-3.5-turbo\", #\"gpt-4\",\n",
        "    messages=[\n",
        "        {\"role\": \"user\", \"content\": \"generate me 3 trivia questions and answers\"}\n",
        "    ]\n",
        ")\n",
        "print(reply.choices[0].message.content)"
      ],
      "metadata": {
        "colab": {
          "base_uri": "https://localhost:8080/"
        },
        "id": "jNepI3Zz92X0",
        "outputId": "8c2fee29-934d-4b24-c93c-ac2b75a3a65a"
      },
      "execution_count": 23,
      "outputs": [
        {
          "output_type": "stream",
          "name": "stdout",
          "text": [
            "Sure! Here are three trivia questions along with their answers:\n",
            "\n",
            "1. Question: Who is the author of the famous novel \"To Kill a Mockingbird\"?\n",
            "   Answer: Harper Lee\n",
            "\n",
            "2. Question: In which country was the sport of volleyball invented?\n",
            "   Answer: The United States of America\n",
            "\n",
            "3. Question: What is the chemical symbol for the element silver?\n",
            "   Answer: Ag\n"
          ]
        }
      ]
    },
    {
      "cell_type": "code",
      "source": [
        "## Using the Chat API # GPT4\n",
        "reply = openai.ChatCompletion.create(\n",
        "    model=\"gpt-4\",\n",
        "    messages=[\n",
        "        {\"role\": \"user\", \"content\": \"generate me 3 trivia questions and answers\"}\n",
        "    ]\n",
        ")\n",
        "print(reply.choices[0].message.content)"
      ],
      "metadata": {
        "colab": {
          "base_uri": "https://localhost:8080/"
        },
        "id": "n7n6BDwn92VC",
        "outputId": "13029868-bdb2-4801-b03e-46be49fd04b7"
      },
      "execution_count": 24,
      "outputs": [
        {
          "output_type": "stream",
          "name": "stdout",
          "text": [
            "Question 1: Which planet is known as the \"Red Planet\"? \n",
            "Answer 1: Mars \n",
            "\n",
            "Question 2: Who wrote the famous novel \"Pride and Prejudice\"? \n",
            "Answer 2: Jane Austen \n",
            "\n",
            "Question 3: In what year did the United States land the first human on the moon? \n",
            "Answer 3: 1969\n"
          ]
        }
      ]
    },
    {
      "cell_type": "markdown",
      "source": [
        "https://help.openai.com/en/articles/4936856-what-are-tokens-and-how-to-count-them\n",
        "\n",
        "https://openai.com/pricing"
      ],
      "metadata": {
        "id": "Fwhav425B16V"
      }
    },
    {
      "cell_type": "code",
      "source": [
        "openai.ChatCompletion.create(\n",
        "    model=\"gpt-3.5-turbo\",\n",
        "    messages=[\n",
        "      {\"role\": \"system\", \"content\": \"You are a helpful assistant that translates English to Spanish.\"},\n",
        "      {\"role\": \"user\", \"content\": 'Translate the following English text to Spanish: I want a pet frog'}\n",
        "    ]\n",
        ")"
      ],
      "metadata": {
        "colab": {
          "base_uri": "https://localhost:8080/"
        },
        "id": "wNO13wdy92SA",
        "outputId": "0e6de105-1aa9-4a53-c703-cbd73f0ed227"
      },
      "execution_count": 25,
      "outputs": [
        {
          "output_type": "execute_result",
          "data": {
            "text/plain": [
              "<OpenAIObject chat.completion id=chatcmpl-8k9LA4JZxJ1lwUCiLXQ6dSReNWSln at 0x7844e10b1d50> JSON: {\n",
              "  \"id\": \"chatcmpl-8k9LA4JZxJ1lwUCiLXQ6dSReNWSln\",\n",
              "  \"object\": \"chat.completion\",\n",
              "  \"created\": 1706009684,\n",
              "  \"model\": \"gpt-3.5-turbo-0613\",\n",
              "  \"choices\": [\n",
              "    {\n",
              "      \"index\": 0,\n",
              "      \"message\": {\n",
              "        \"role\": \"assistant\",\n",
              "        \"content\": \"Quiero una rana como mascota.\"\n",
              "      },\n",
              "      \"logprobs\": null,\n",
              "      \"finish_reason\": \"stop\"\n",
              "    }\n",
              "  ],\n",
              "  \"usage\": {\n",
              "    \"prompt_tokens\": 35,\n",
              "    \"completion_tokens\": 9,\n",
              "    \"total_tokens\": 44\n",
              "  },\n",
              "  \"system_fingerprint\": null\n",
              "}"
            ]
          },
          "metadata": {},
          "execution_count": 25
        }
      ]
    },
    {
      "cell_type": "code",
      "source": [
        "#Zero Shot\n",
        "openai.ChatCompletion.create(\n",
        "    model=\"gpt-3.5-turbo\",\n",
        "    messages=[\n",
        "      {\"role\": \"user\", \"content\": 'You are a helpful assistant that translates English to Spanish. Translate the following English text to Spanish: I want a pet frog'}\n",
        "    ]\n",
        ")"
      ],
      "metadata": {
        "colab": {
          "base_uri": "https://localhost:8080/"
        },
        "id": "8ms7EziE92PA",
        "outputId": "9849b6b4-2488-49ba-c896-5f95120217e2"
      },
      "execution_count": 26,
      "outputs": [
        {
          "output_type": "execute_result",
          "data": {
            "text/plain": [
              "<OpenAIObject chat.completion id=chatcmpl-8k9QQJf9wuj4ETGzdP57LJs8Lvgyj at 0x7844e10d35b0> JSON: {\n",
              "  \"id\": \"chatcmpl-8k9QQJf9wuj4ETGzdP57LJs8Lvgyj\",\n",
              "  \"object\": \"chat.completion\",\n",
              "  \"created\": 1706010010,\n",
              "  \"model\": \"gpt-3.5-turbo-0613\",\n",
              "  \"choices\": [\n",
              "    {\n",
              "      \"index\": 0,\n",
              "      \"message\": {\n",
              "        \"role\": \"assistant\",\n",
              "        \"content\": \"Quiero una rana como mascota.\"\n",
              "      },\n",
              "      \"logprobs\": null,\n",
              "      \"finish_reason\": \"stop\"\n",
              "    }\n",
              "  ],\n",
              "  \"usage\": {\n",
              "    \"prompt_tokens\": 31,\n",
              "    \"completion_tokens\": 9,\n",
              "    \"total_tokens\": 40\n",
              "  },\n",
              "  \"system_fingerprint\": null\n",
              "}"
            ]
          },
          "metadata": {},
          "execution_count": 26
        }
      ]
    },
    {
      "cell_type": "code",
      "source": [
        "# 1 Shot Prompting\n",
        "openai.ChatCompletion.create(\n",
        "    model=\"gpt-3.5-turbo\",\n",
        "    messages=[\n",
        "        {\"role\": \"system\", \"content\": \"You are a helpful assistant that classifies the sentiment in text as either positive, neutral, or negative\"},\n",
        "        {\"role\": \"user\", \"content\": \"Classify the sentiment in the following text: 'I really hate chickens'\" },\n",
        "        {\"role\": \"assistant\", \"content\": \"Negative\" },\n",
        "        {\"role\": \"user\", \"content\": \"Classify the sentiment in the following text: 'I love my dog'\" },\n",
        "    ]\n",
        ")"
      ],
      "metadata": {
        "colab": {
          "base_uri": "https://localhost:8080/"
        },
        "id": "M5SZKuMb_LE5",
        "outputId": "a81aec77-d047-42d5-e72d-43e3993f7a74"
      },
      "execution_count": 10,
      "outputs": [
        {
          "output_type": "execute_result",
          "data": {
            "text/plain": [
              "<OpenAIObject chat.completion id=chatcmpl-8k8rHQ1zJqnXjlt7g1rNbStL0OqSU at 0x7844e10b3380> JSON: {\n",
              "  \"id\": \"chatcmpl-8k8rHQ1zJqnXjlt7g1rNbStL0OqSU\",\n",
              "  \"object\": \"chat.completion\",\n",
              "  \"created\": 1706007831,\n",
              "  \"model\": \"gpt-3.5-turbo-0613\",\n",
              "  \"choices\": [\n",
              "    {\n",
              "      \"index\": 0,\n",
              "      \"message\": {\n",
              "        \"role\": \"assistant\",\n",
              "        \"content\": \"Positive\"\n",
              "      },\n",
              "      \"logprobs\": null,\n",
              "      \"finish_reason\": \"stop\"\n",
              "    }\n",
              "  ],\n",
              "  \"usage\": {\n",
              "    \"prompt_tokens\": 70,\n",
              "    \"completion_tokens\": 1,\n",
              "    \"total_tokens\": 71\n",
              "  },\n",
              "  \"system_fingerprint\": null\n",
              "}"
            ]
          },
          "metadata": {},
          "execution_count": 10
        }
      ]
    },
    {
      "cell_type": "code",
      "source": [
        "# Generte a poem\n",
        "response = openai.ChatCompletion.create(\n",
        "    model=\"gpt-3.5-turbo\",\n",
        "    messages=[\n",
        "        {\"role\": \"system\", \"content\": \"You are a helpful assistant that creates funny poems\"},\n",
        "        {\"role\": \"user\", \"content\": \"Generate me a 5 line poem about the topic sailing in the ocean\"}\n",
        "    ],\n",
        "    temperature=0.9,\n",
        "    max_tokens=200\n",
        ")\n",
        "\n",
        "print(response[\"choices\"][0][\"message\"][\"content\"])"
      ],
      "metadata": {
        "colab": {
          "base_uri": "https://localhost:8080/"
        },
        "id": "Pxyu1Srd_LBf",
        "outputId": "026bbfbf-ddd4-4163-dc23-b71639a21270"
      },
      "execution_count": 27,
      "outputs": [
        {
          "output_type": "stream",
          "name": "stdout",
          "text": [
            "In a ship on the vast blue sea,\n",
            "With wind in our sails, we roam carefree.\n",
            "The dolphins dance, the seagulls swoop,\n",
            "Adventure awaits with every loop.\n",
            "Sailing, where the horizon's our only boundary.\n"
          ]
        }
      ]
    },
    {
      "cell_type": "code",
      "source": [
        "# Text Summarization\n",
        "response = openai.ChatCompletion.create(\n",
        "    model=\"gpt-3.5-turbo\",\n",
        "    messages=[\n",
        "        {\"role\": \"system\", \"content\": \"You are a helpful assistant that summarize text into a sentence\"},\n",
        "        {\"role\": \"user\", \"content\": \"\"\"Antibiotics are a type of medication used to treat bacterial infections. They work by either killing the bacteria or preventing them from reproducing, allowing the body’s immune system to fight off the infection. Antibiotics are usually taken orally in the form of pills, capsules, or liquid solutions, or sometimes administered intravenously. They are not effective against viral infections, and using them inappropriately can lead to antibiotic resistance.\n",
        "Explain the above in one sentence:\"\"\" },\n",
        "    ]\n",
        ")\n",
        "print(response[\"choices\"][0][\"message\"][\"content\"])"
      ],
      "metadata": {
        "colab": {
          "base_uri": "https://localhost:8080/"
        },
        "id": "75-Tkmt9_K-I",
        "outputId": "56f527a7-feb0-40a8-f56e-6db2cb52fd44"
      },
      "execution_count": 28,
      "outputs": [
        {
          "output_type": "stream",
          "name": "stdout",
          "text": [
            "Antibiotics are medication that kill or hinder the reproduction of bacteria to treat infections, but they are ineffective for viral infections and their misuse can cause antibiotic resistance.\n"
          ]
        }
      ]
    },
    {
      "cell_type": "code",
      "source": [
        "# Information Extraction\n",
        "\n",
        "response = openai.ChatCompletion.create(\n",
        "    model=\"gpt-3.5-turbo\",\n",
        "    messages=[\n",
        "        {\"role\": \"system\", \"content\": \"You are a helpful assistant which is able to extracts  information from a given paragraph.\"},\n",
        "        {\"role\": \"user\", \"content\": \"\"\"Author-contribution statements and acknowledgements in research papers should state clearly and specifically whether, and to what extent, the authors used AI technologies such as ChatGPT in the preparation of their manuscript and analysis. They should also indicate which LLMs were used. This will alert editors and reviewers to scrutinize manuscripts more carefully for potential biases, inaccuracies and improper source crediting. Likewise, scientific journals should be transparent about their use of LLMs, for example when selecting submitted manuscripts.\n",
        "\n",
        "Mention the large language model based product mentioned in the paragraph above:\"\"\" },\n",
        "    ]\n",
        ")\n",
        "print(response[\"choices\"][0][\"message\"][\"content\"])"
      ],
      "metadata": {
        "colab": {
          "base_uri": "https://localhost:8080/"
        },
        "id": "djjkxIw9BaJN",
        "outputId": "b5a56fdb-3e01-45a3-ef2d-92d9b4e57b93"
      },
      "execution_count": 29,
      "outputs": [
        {
          "output_type": "stream",
          "name": "stdout",
          "text": [
            "The large language model based product mentioned in the paragraph above is ChatGPT.\n"
          ]
        }
      ]
    },
    {
      "cell_type": "code",
      "source": [
        "# Question Answering\n",
        "\n",
        "response = openai.ChatCompletion.create(\n",
        "    model=\"gpt-3.5-turbo\",\n",
        "    messages=[\n",
        "        {\"role\": \"system\", \"content\": \"You are a helpful assistant which is able to answers questions about a provided paragraph or context.\"},\n",
        "        {\"role\": \"user\", \"content\": \"\"\"Answer the question based on the context below. Keep the answer short and concise. Respond \"Unsure about answer\" if not sure about the answer.\n",
        "Context: Teplizumab traces its roots to a New Jersey drug company called Ortho Pharmaceutical. There, scientists generated an early version of the antibody, dubbed OKT3. Originally sourced from mice, the molecule was able to bind to the surface of T cells and limit their cell-killing potential. In 1986, it was approved to help prevent organ rejection after kidney transplants, making it the first therapeutic antibody allowed for human use.\n",
        "Question: What was OKT3 originally sourced from?\"\"\" },\n",
        "    ]\n",
        ")\n",
        "print(response[\"choices\"][0][\"message\"][\"content\"])"
      ],
      "metadata": {
        "colab": {
          "base_uri": "https://localhost:8080/"
        },
        "id": "oIoT-AR2BaFz",
        "outputId": "595e4740-c38a-4d74-95d6-f555f21b926a"
      },
      "execution_count": 30,
      "outputs": [
        {
          "output_type": "stream",
          "name": "stdout",
          "text": [
            "Mice.\n"
          ]
        }
      ]
    },
    {
      "cell_type": "code",
      "source": [
        "# Text Classification\n",
        "\n",
        "\n",
        "response = openai.ChatCompletion.create(\n",
        "    model=\"gpt-3.5-turbo\",\n",
        "    messages=[\n",
        "        {\"role\": \"system\", \"content\": \"You are a helpful assistant which is able to classify text into neutral, negative or positive.\"},\n",
        "        {\"role\": \"user\", \"content\": \"\"\"Classify the text into neutral, negative or positive.\n",
        "Text: I think the food was okay.\n",
        "Sentiment:\"\"\" },\n",
        "    ]\n",
        ")\n",
        "print(response[\"choices\"][0][\"message\"][\"content\"])"
      ],
      "metadata": {
        "colab": {
          "base_uri": "https://localhost:8080/"
        },
        "id": "mUB6E6Q8BaCk",
        "outputId": "43ffab03-5b6e-4d18-ae5c-c8de6af40757"
      },
      "execution_count": 31,
      "outputs": [
        {
          "output_type": "stream",
          "name": "stdout",
          "text": [
            "Neutral\n"
          ]
        }
      ]
    },
    {
      "cell_type": "code",
      "source": [
        "# Conversation\n",
        "\n",
        "# 1\n",
        "response = openai.ChatCompletion.create(\n",
        "    model=\"gpt-3.5-turbo\",\n",
        "    messages=[\n",
        "        {\"role\": \"system\", \"content\": \"You are a helpful Conversational Bot.\"},\n",
        "        {\"role\": \"user\", \"content\": \"\"\"Hello, who are you?\"\"\" },\n",
        "    ]\n",
        ")\n",
        "print(response[\"choices\"][0][\"message\"][\"content\"])"
      ],
      "metadata": {
        "colab": {
          "base_uri": "https://localhost:8080/"
        },
        "id": "rEzzp_7zBZ0s",
        "outputId": "f41f77e4-2cd4-4f85-b81b-cf528c49e468"
      },
      "execution_count": 32,
      "outputs": [
        {
          "output_type": "stream",
          "name": "stdout",
          "text": [
            "Hello! I am a Conversational Bot designed to assist and help with any questions or tasks you may have. How can I assist you today?\n"
          ]
        }
      ]
    },
    {
      "cell_type": "code",
      "source": [
        "# 1\n",
        "response = openai.ChatCompletion.create(\n",
        "    model=\"gpt-3.5-turbo\",\n",
        "    messages=[\n",
        "        {\"role\": \"system\", \"content\": \"You are a helpful Conversational Bot.\"},\n",
        "        {\"role\": \"user\", \"content\": \"\"\"Hello, who are you?\"\"\" },\n",
        "        {\"role\": \"assistant\", \"content\": \"Hello! I am a Conversational Bot designed to assist and help answer questions. How can I assist you today?\" },\n",
        "        {\"role\": \"user\", \"content\": \"\"\"Can you tell me about when was founded Real Madrid football team?\"\"\" },\n",
        "    ]\n",
        ")\n",
        "print(response[\"choices\"][0][\"message\"][\"content\"])"
      ],
      "metadata": {
        "colab": {
          "base_uri": "https://localhost:8080/"
        },
        "id": "x6YDU4nmBjmW",
        "outputId": "69ca05bc-c961-4989-86ef-d3c95546d8f4"
      },
      "execution_count": 33,
      "outputs": [
        {
          "output_type": "stream",
          "name": "stdout",
          "text": [
            "Real Madrid football team was officially founded on March 6, 1902. It was established by a group of football enthusiasts from different universities and schools in Madrid, Spain. Since its inception, Real Madrid has become one of the most successful and well-known football clubs in the world, with a rich history and a large fan base. The team has won numerous domestic and international titles, including a record 34 La Liga titles and 13 UEFA Champions League titles.\n"
          ]
        }
      ]
    },
    {
      "cell_type": "code",
      "source": [
        "# Code Generation\n",
        "response = openai.ChatCompletion.create(\n",
        "    model=\"gpt-3.5-turbo\",\n",
        "    messages=[\n",
        "        {\"role\": \"system\", \"content\": \"You are a helpful assistant able to generate SQL code\"},\n",
        "        {\"role\": \"user\", \"content\": \"\"\"Table departments, columns = [DepartmentId, DepartmentName]\n",
        "Table students, columns = [DepartmentId, StudentId, StudentName]\n",
        "Create a MySQL query for all students in the Computer Science Department\n",
        "SQL Code:\"\"\" },\n",
        "    ]\n",
        ")\n",
        "print(response[\"choices\"][0][\"message\"][\"content\"])"
      ],
      "metadata": {
        "colab": {
          "base_uri": "https://localhost:8080/"
        },
        "id": "LJF2vqNcBji_",
        "outputId": "4c002cd7-08d9-4073-fc5f-30f35e2286f2"
      },
      "execution_count": 34,
      "outputs": [
        {
          "output_type": "stream",
          "name": "stdout",
          "text": [
            "SELECT s.StudentId, s.StudentName\n",
            "FROM students s\n",
            "JOIN departments d ON s.DepartmentId = d.DepartmentId\n",
            "WHERE d.DepartmentName = 'Computer Science';\n"
          ]
        }
      ]
    },
    {
      "cell_type": "code",
      "source": [
        "# Reasoning\n",
        "\n",
        "response = openai.ChatCompletion.create(\n",
        "    model=\"gpt-3.5-turbo\",\n",
        "    messages=[\n",
        "        {\"role\": \"system\", \"content\": \"You are a helpful assistant with arithmethic and mathematical capabilities, Lets think step by step\"},\n",
        "        {\"role\": \"user\", \"content\": \"\"\"The odd numbers in this group add up to an even number: 15, 32, 5, 13, 82, 7, 1.\n",
        "A: \"\"\" },\n",
        "    ]\n",
        ")\n",
        "print(response[\"choices\"][0][\"message\"][\"content\"])"
      ],
      "metadata": {
        "colab": {
          "base_uri": "https://localhost:8080/"
        },
        "id": "WjpwszS3Bjfl",
        "outputId": "7f81d34b-fd1a-488a-bfa8-7b95e48a5662"
      },
      "execution_count": 35,
      "outputs": [
        {
          "output_type": "stream",
          "name": "stdout",
          "text": [
            "To find out whether the odd numbers in this group add up to an even number, we need to add all the odd numbers together. \n",
            "\n",
            "The odd numbers in the group are 15, 5, 13, 7, and 1. \n",
            "\n",
            "Let's add them up: \n",
            "\n",
            "15 + 5 + 13 + 7 + 1 = 41\n",
            "\n",
            "Now, let's determine whether 41 is an even number or not. \n",
            "\n",
            "An easy way to do this is to check if 41 is divisible by 2. If it is, then it is an even number, otherwise it is odd. \n",
            "\n",
            "41 is not divisible by 2, so it is an odd number. \n",
            "\n",
            "Therefore, the odd numbers in this group do not add up to an even number.\n"
          ]
        }
      ]
    },
    {
      "cell_type": "code",
      "source": [
        "# Reasoning\n",
        "\n",
        "response = openai.ChatCompletion.create(\n",
        "    model=\"gpt-3.5-turbo\",\n",
        "    messages=[\n",
        "        {\"role\": \"system\", \"content\": \"You are a helpful assistant with arithmethic and mathematical capabilities\"},\n",
        "        {\"role\": \"user\", \"content\": \"\"\"The odd numbers in this group add up to an even number: 15, 32, 5, 13, 82, 7, 1.\n",
        "A: \"\"\" },\n",
        "    ]\n",
        ")\n",
        "print(response[\"choices\"][0][\"message\"][\"content\"])"
      ],
      "metadata": {
        "colab": {
          "base_uri": "https://localhost:8080/"
        },
        "id": "Bzdhg5BBBjcM",
        "outputId": "3e8b5715-b11d-431c-f7b4-23db352ba532"
      },
      "execution_count": 36,
      "outputs": [
        {
          "output_type": "stream",
          "name": "stdout",
          "text": [
            "That is correct. The odd numbers in the group are 15, 5, 13, 7, and 1. If we add them up, we get 15 + 5 + 13 + 7 + 1 = 41, which is an odd number.\n"
          ]
        }
      ]
    }
  ]
}