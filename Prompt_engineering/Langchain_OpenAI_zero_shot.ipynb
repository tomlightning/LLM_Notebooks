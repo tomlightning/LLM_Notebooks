{
  "nbformat": 4,
  "nbformat_minor": 0,
  "metadata": {
    "colab": {
      "provenance": [],
      "machine_shape": "hm",
      "authorship_tag": "ABX9TyNcPGglwImE7lFnII48+P15",
      "include_colab_link": true
    },
    "kernelspec": {
      "name": "python3",
      "display_name": "Python 3"
    },
    "language_info": {
      "name": "python"
    }
  },
  "cells": [
    {
      "cell_type": "markdown",
      "metadata": {
        "id": "view-in-github",
        "colab_type": "text"
      },
      "source": [
        "<a href=\"https://colab.research.google.com/github/olonok69/LLM_Notebooks/blob/main/Prompt_engineering/Langchain_OpenAI_zero_shot.ipynb\" target=\"_parent\"><img src=\"https://colab.research.google.com/assets/colab-badge.svg\" alt=\"Open In Colab\"/></a>"
      ]
    },
    {
      "cell_type": "markdown",
      "source": [
        "https://www.promptingguide.ai/techniques\n",
        "\n",
        "# Large Language Models are Zero-Shot Reasoners\n",
        "\n",
        "https://arxiv.org/pdf/2205.11916.pdf\n",
        "\n",
        "# LangChain\n",
        "\n",
        "LangChain is a framework for developing applications powered by language models.\n",
        "\n",
        "https://python.langchain.com/docs/use_cases"
      ],
      "metadata": {
        "id": "J2qcri2WPycg"
      }
    },
    {
      "cell_type": "code",
      "execution_count": 2,
      "metadata": {
        "id": "PAO4dulnEUOJ"
      },
      "outputs": [],
      "source": [
        "!pip install langchain langchain-community tiktoken -q\n",
        "!pip install -U accelerate -q\n",
        "! pip install -U unstructured numpy -q\n",
        "! pip install openai==0.27.7 \\\n",
        "   chromadb -q\n",
        "! pip install pypdf -q\n"
      ]
    },
    {
      "cell_type": "code",
      "source": [
        "\n",
        "from google.colab import output\n",
        "output.enable_custom_widget_manager()"
      ],
      "metadata": {
        "id": "2sGhLPYoKNal"
      },
      "execution_count": 3,
      "outputs": []
    },
    {
      "cell_type": "code",
      "source": [
        "from google.colab import drive\n",
        "drive.mount('/content/drive')"
      ],
      "metadata": {
        "colab": {
          "base_uri": "https://localhost:8080/"
        },
        "id": "_aMLt2iSKNX9",
        "outputId": "91bdc5f7-0fb0-4433-bde3-013123f241f5"
      },
      "execution_count": 4,
      "outputs": [
        {
          "output_type": "stream",
          "name": "stdout",
          "text": [
            "Mounted at /content/drive\n"
          ]
        }
      ]
    },
    {
      "cell_type": "code",
      "source": [
        "from google.colab import userdata\n",
        "openai_api_key = userdata.get('KEY_OPENAI')"
      ],
      "metadata": {
        "id": "XdFhRM0dKNVY"
      },
      "execution_count": 1,
      "outputs": []
    },
    {
      "cell_type": "code",
      "source": [
        "import os\n",
        "from langchain.prompts import ChatPromptTemplate, HumanMessagePromptTemplate\n",
        "from langchain.chat_models import ChatOpenAI\n",
        "\n",
        "from langchain.output_parsers import PydanticOutputParser\n",
        "from pydantic import BaseModel, Field\n",
        "from typing import List"
      ],
      "metadata": {
        "id": "LoimMny0Nsyz"
      },
      "execution_count": 2,
      "outputs": []
    },
    {
      "cell_type": "code",
      "source": [
        "# To help construct our Chat Messages\n",
        "from langchain.schema import HumanMessage\n",
        "from langchain.prompts import PromptTemplate, ChatPromptTemplate, HumanMessagePromptTemplate\n",
        "\n",
        "# We will be using a chat model, defaults to gpt-3.5-turbo\n",
        "from langchain_community.chat_models import ChatOpenAI\n",
        "\n",
        "# To parse outputs and get structured data back\n",
        "from langchain.output_parsers import StructuredOutputParser, ResponseSchema\n",
        "\n",
        "chat_model = ChatOpenAI(temperature=0, model_name='gpt-3.5-turbo', openai_api_key=openai_api_key)"
      ],
      "metadata": {
        "colab": {
          "base_uri": "https://localhost:8080/"
        },
        "id": "7ySvafXC7AXR",
        "outputId": "a1d231fe-ebab-4382-ef23-a929dc53eee0"
      },
      "execution_count": 3,
      "outputs": [
        {
          "output_type": "stream",
          "name": "stderr",
          "text": [
            "/usr/local/lib/python3.10/dist-packages/langchain_core/_api/deprecation.py:117: LangChainDeprecationWarning: The class `langchain_community.chat_models.openai.ChatOpenAI` was deprecated in langchain-community 0.0.10 and will be removed in 0.2.0. An updated version of the class exists in the langchain-openai package and should be used instead. To use it run `pip install -U langchain-openai` and import as `from langchain_openai import ChatOpenAI`.\n",
            "  warn_deprecated(\n"
          ]
        }
      ]
    },
    {
      "cell_type": "code",
      "source": [
        "import pprint"
      ],
      "metadata": {
        "id": "Cn8Hv0D5VW4l"
      },
      "execution_count": 4,
      "outputs": []
    },
    {
      "cell_type": "code",
      "source": [
        "instructions = \"\"\"\n",
        "Answer this question  and detail your answer.\n",
        "\"\"\"\n",
        "\n",
        "text = \"\"\"\n",
        "Question: When I was 6, my sister was the 25 yourger than my father.\n",
        "My father was 30 years when I was 6 and now I’m 70 years old.\n",
        "Answer: how old is my sister now?\n",
        "\"\"\""
      ],
      "metadata": {
        "id": "IVsnMEY27ATa"
      },
      "execution_count": 10,
      "outputs": []
    },
    {
      "cell_type": "code",
      "source": [
        "# Make your prompt which combines the instructions w/ the fruit names\n",
        "prompt = (instructions + text)\n",
        "\n",
        "# Call the LLM\n",
        "output = chat_model.invoke([HumanMessage(content=prompt)])\n",
        "\n",
        "pprint.pprint(output.content)\n"
      ],
      "metadata": {
        "colab": {
          "base_uri": "https://localhost:8080/"
        },
        "id": "nvbbVEku_9Ij",
        "outputId": "a2945060-4d2b-48b3-bc77-aa220bdf1efa"
      },
      "execution_count": 11,
      "outputs": [
        {
          "output_type": "stream",
          "name": "stdout",
          "text": [
            "('When you were 6 years old, your father was 30 years old, which means there '\n",
            " 'is a 24-year age gap between you and your father. This also means that your '\n",
            " 'sister is 24 years younger than your father, as stated in the question. \\n'\n",
            " '\\n'\n",
            " 'Now that you are 70 years old, your father would be 70 + 24 = 94 years old. '\n",
            " 'Since your sister is 24 years younger than your father, she would be 94 - 24 '\n",
            " '= 70 years old now. \\n'\n",
            " '\\n'\n",
            " 'Therefore, your sister is now 70 years old.')\n"
          ]
        }
      ]
    },
    {
      "cell_type": "code",
      "source": [
        "instructions = \"\"\"\n",
        "Answer this question  and detail your answer. Let's think step by step.\n",
        "\"\"\"\n",
        "\n",
        "text = \"\"\"\n",
        "Question: When I was 6, my sister was the 25 yourger than my father.\n",
        "My father was 30 years when I was 6 and now I’m 70 years old.\n",
        "Answer: how old is my sister now?\n",
        "\"\"\""
      ],
      "metadata": {
        "id": "G5Co1JDNNxOn"
      },
      "execution_count": 12,
      "outputs": []
    },
    {
      "cell_type": "code",
      "source": [
        "# Make your prompt which combines the instructions w/ the fruit names\n",
        "prompt = (instructions + text)\n",
        "\n",
        "# Call the LLM\n",
        "output = chat_model.invoke([HumanMessage(content=prompt)])\n",
        "\n",
        "pprint.pprint(output.content)"
      ],
      "metadata": {
        "id": "gBXceXJgN1gm",
        "colab": {
          "base_uri": "https://localhost:8080/"
        },
        "outputId": "6be88a81-245c-4a0c-80f6-8c3232268e6f"
      },
      "execution_count": 13,
      "outputs": [
        {
          "output_type": "stream",
          "name": "stdout",
          "text": [
            "('To find out how old your sister is now, we need to first determine the age '\n",
            " 'difference between your father and your sister when you were 6 years old.\\n'\n",
            " '\\n'\n",
            " 'When you were 6 years old, your father was 30 years old. This means there is '\n",
            " 'a 24-year age gap between you and your father (30 - 6 = 24).\\n'\n",
            " '\\n'\n",
            " 'Given that your sister is 25 years younger than your father, we can '\n",
            " 'calculate her age when you were 6 years old by subtracting the age '\n",
            " \"difference between you and your father from your father's age. So, your \"\n",
            " 'sister was 30 - 25 = 5 years old when you were 6 years old.\\n'\n",
            " '\\n'\n",
            " 'Now, fast forward to the present. You are now 70 years old, which means 64 '\n",
            " 'years have passed since you were 6 years old. Therefore, your sister has '\n",
            " 'also aged 64 years since she was 5 years old.\\n'\n",
            " '\\n'\n",
            " \"Adding 64 years to your sister's age when you were 6 years old, we find that \"\n",
            " 'your sister is now 5 + 64 = 69 years old. Therefore, your sister is now 69 '\n",
            " 'years old.')\n"
          ]
        }
      ]
    },
    {
      "cell_type": "code",
      "source": [],
      "metadata": {
        "id": "_zOVICibAb2f"
      },
      "execution_count": null,
      "outputs": []
    }
  ]
}