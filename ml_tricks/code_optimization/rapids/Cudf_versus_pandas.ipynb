{
 "cells": [
  {
   "cell_type": "markdown",
   "id": "9095e8ad-26bf-4e56-82a3-ac046cc31afc",
   "metadata": {},
   "source": [
    "# Rapids\n",
    "\n",
    "https://rapids.ai/\n",
    "\n",
    "The RAPIDS data science framework is a collection of libraries for running end-to-end data science pipelines completely on the GPU. The interaction is designed to have a familiar look and feel to working in Python, but utilizes optimized NVIDIA® CUDA® primitives and high-bandwidth GPU memory under the hood. Below are some links to help getting started with each of the individual RAPIDS libraries.\n",
    "\n",
    "\n",
    "cuDF accelerates pandas with no code change and brings greatly improved performance\n",
    "\n",
    "GIS stands for Geographic Information System"
   ]
  },
  {
   "cell_type": "code",
   "execution_count": 31,
   "id": "3d83c5d1-838f-4aad-9646-2851c61aafd2",
   "metadata": {
    "tags": []
   },
   "outputs": [],
   "source": [
    "import pandas as pd\n",
    "import numpy as np\n",
    "from numba import njit, jit\n",
    "import cudf"
   ]
  },
  {
   "cell_type": "code",
   "execution_count": 34,
   "id": "df1d64bb-0765-4867-8a76-776ceba67099",
   "metadata": {
    "tags": []
   },
   "outputs": [
    {
     "name": "stdout",
     "output_type": "stream",
     "text": [
      "Thu May  9 19:49:42 2024       \n",
      "+---------------------------------------------------------------------------------------+\n",
      "| NVIDIA-SMI 535.104.07             Driver Version: 537.34       CUDA Version: 12.2     |\n",
      "|-----------------------------------------+----------------------+----------------------+\n",
      "| GPU  Name                 Persistence-M | Bus-Id        Disp.A | Volatile Uncorr. ECC |\n",
      "| Fan  Temp   Perf          Pwr:Usage/Cap |         Memory-Usage | GPU-Util  Compute M. |\n",
      "|                                         |                      |               MIG M. |\n",
      "|=========================================+======================+======================|\n",
      "|   0  NVIDIA GeForce GTX 1650        On  | 00000000:01:00.0  On |                  N/A |\n",
      "| 54%   52C    P8              N/A /  75W |   3587MiB /  4096MiB |     25%      Default |\n",
      "|                                         |                      |                  N/A |\n",
      "+-----------------------------------------+----------------------+----------------------+\n",
      "                                                                                         \n",
      "+---------------------------------------------------------------------------------------+\n",
      "| Processes:                                                                            |\n",
      "|  GPU   GI   CI        PID   Type   Process name                            GPU Memory |\n",
      "|        ID   ID                                                             Usage      |\n",
      "|=======================================================================================|\n",
      "|    0   N/A  N/A        28      G   /Xwayland                                 N/A      |\n",
      "|    0   N/A  N/A        31      G   /Xwayland                                 N/A      |\n",
      "|    0   N/A  N/A        32      G   /Xwayland                                 N/A      |\n",
      "|    0   N/A  N/A        32      G   /Xwayland                                 N/A      |\n",
      "|    0   N/A  N/A        58      G   /Xwayland                                 N/A      |\n",
      "+---------------------------------------------------------------------------------------+\n"
     ]
    }
   ],
   "source": [
    "! nvidia-smi"
   ]
  },
  {
   "cell_type": "code",
   "execution_count": 32,
   "id": "6a449742-2f27-497a-941d-b480e672dd0c",
   "metadata": {
    "tags": []
   },
   "outputs": [
    {
     "data": {
      "text/html": [
       "<div>\n",
       "<style scoped>\n",
       "    .dataframe tbody tr th:only-of-type {\n",
       "        vertical-align: middle;\n",
       "    }\n",
       "\n",
       "    .dataframe tbody tr th {\n",
       "        vertical-align: top;\n",
       "    }\n",
       "\n",
       "    .dataframe thead th {\n",
       "        text-align: right;\n",
       "    }\n",
       "</style>\n",
       "<table border=\"1\" class=\"dataframe\">\n",
       "  <thead>\n",
       "    <tr style=\"text-align: right;\">\n",
       "      <th></th>\n",
       "      <th>A</th>\n",
       "      <th>B</th>\n",
       "    </tr>\n",
       "  </thead>\n",
       "  <tbody>\n",
       "    <tr>\n",
       "      <th>0</th>\n",
       "      <td>130</td>\n",
       "      <td>22</td>\n",
       "    </tr>\n",
       "    <tr>\n",
       "      <th>1</th>\n",
       "      <td>130</td>\n",
       "      <td>165</td>\n",
       "    </tr>\n",
       "    <tr>\n",
       "      <th>2</th>\n",
       "      <td>116</td>\n",
       "      <td>60</td>\n",
       "    </tr>\n",
       "    <tr>\n",
       "      <th>3</th>\n",
       "      <td>172</td>\n",
       "      <td>151</td>\n",
       "    </tr>\n",
       "    <tr>\n",
       "      <th>4</th>\n",
       "      <td>164</td>\n",
       "      <td>144</td>\n",
       "    </tr>\n",
       "  </tbody>\n",
       "</table>\n",
       "</div>"
      ],
      "text/plain": [
       "     A    B\n",
       "0  130   22\n",
       "1  130  165\n",
       "2  116   60\n",
       "3  172  151\n",
       "4  164  144"
      ]
     },
     "execution_count": 32,
     "metadata": {},
     "output_type": "execute_result"
    }
   ],
   "source": [
    "N = 1000000\n",
    "A_list = np.random.randint(1, 200, N)\n",
    "B_list = np.random.randint(1, 200, N)\n",
    "df = pd.DataFrame({'A': A_list, 'B': B_list})\n",
    "df.head()"
   ]
  },
  {
   "cell_type": "code",
   "execution_count": 33,
   "id": "18a9c07e-7938-46c5-a20a-50f787a860c9",
   "metadata": {
    "tags": []
   },
   "outputs": [],
   "source": [
    "def f(x, y):\n",
    "    return x + y"
   ]
  },
  {
   "cell_type": "code",
   "execution_count": 5,
   "id": "2f465c2f-4acf-49df-bdb8-418812fe027e",
   "metadata": {
    "tags": []
   },
   "outputs": [],
   "source": [
    "@njit\n",
    "def f_jit(x, y):\n",
    "    return x + y\n",
    "\n",
    "@njit(parallel=True)\n",
    "def f_jit_parallel(x, y):\n",
    "    return x + y\n",
    "\n",
    "@njit(cache=True)\n",
    "def f_jit_cache(x, y):\n",
    "    return x + y\n",
    "\n",
    "@njit(cache=True, parallel=True)\n",
    "def f_jit_cache_p(x, y):\n",
    "    return x + y"
   ]
  },
  {
   "cell_type": "code",
   "execution_count": 6,
   "id": "1965dcfc-8ca8-413c-81d8-4121090567eb",
   "metadata": {
    "tags": []
   },
   "outputs": [
    {
     "name": "stdout",
     "output_type": "stream",
     "text": [
      "17.2 s ± 59.5 ms per loop (mean ± std. dev. of 7 runs, 1 loop each)\n"
     ]
    }
   ],
   "source": [
    "%timeit df['apply'] = df.apply(lambda row: f(row['A'], row['B']), axis=1)"
   ]
  },
  {
   "cell_type": "code",
   "execution_count": 7,
   "id": "bac1f5ee-fd03-463d-92f3-4942f5ed7be2",
   "metadata": {
    "tags": []
   },
   "outputs": [
    {
     "name": "stdout",
     "output_type": "stream",
     "text": [
      "6.35 ms ± 1.97 ms per loop (mean ± std. dev. of 7 runs, 1 loop each)\n"
     ]
    }
   ],
   "source": [
    "%timeit f_jit(df['A'].values, df['B'].values) "
   ]
  },
  {
   "cell_type": "code",
   "execution_count": 8,
   "id": "e3c5125e-56c5-489e-9529-bbe89fc5dbd6",
   "metadata": {
    "tags": []
   },
   "outputs": [
    {
     "name": "stdout",
     "output_type": "stream",
     "text": [
      "The slowest run took 9.70 times longer than the fastest. This could mean that an intermediate result is being cached.\n",
      "3.02 ms ± 2.33 ms per loop (mean ± std. dev. of 7 runs, 1 loop each)\n"
     ]
    }
   ],
   "source": [
    "%timeit f_jit_parallel(df['A'].values, df['B'].values) "
   ]
  },
  {
   "cell_type": "code",
   "execution_count": 9,
   "id": "f75a9c35-6b24-4cd4-9d7a-79ef3c4b77dc",
   "metadata": {
    "tags": []
   },
   "outputs": [
    {
     "name": "stdout",
     "output_type": "stream",
     "text": [
      "4.13 ms ± 489 µs per loop (mean ± std. dev. of 7 runs, 1 loop each)\n"
     ]
    }
   ],
   "source": [
    "%timeit f_jit_cache(df['A'].values, df['B'].values) "
   ]
  },
  {
   "cell_type": "code",
   "execution_count": 10,
   "id": "2cdd6f3f-1b29-4bcc-97ec-08954a4d03ee",
   "metadata": {
    "tags": []
   },
   "outputs": [
    {
     "name": "stdout",
     "output_type": "stream",
     "text": [
      "The slowest run took 4.35 times longer than the fastest. This could mean that an intermediate result is being cached.\n",
      "1.19 ms ± 788 µs per loop (mean ± std. dev. of 7 runs, 1 loop each)\n"
     ]
    }
   ],
   "source": [
    "%timeit f_jit_cache_p(df['A'].values, df['B'].values) "
   ]
  },
  {
   "cell_type": "code",
   "execution_count": 11,
   "id": "a97ca4f8-9618-4664-bfa5-b5486948363a",
   "metadata": {
    "tags": []
   },
   "outputs": [
    {
     "name": "stdout",
     "output_type": "stream",
     "text": [
      "363 ms ± 9.85 ms per loop (mean ± std. dev. of 7 runs, 1 loop each)\n"
     ]
    }
   ],
   "source": [
    "%timeit df['vectorize'] = np.vectorize(f)(df['A'], df['B'])"
   ]
  },
  {
   "cell_type": "code",
   "execution_count": 12,
   "id": "086becbb-f186-4b85-9afb-b1718c25108b",
   "metadata": {
    "tags": []
   },
   "outputs": [],
   "source": [
    "import cudf"
   ]
  },
  {
   "cell_type": "code",
   "execution_count": 13,
   "id": "f27bd2f8-40f1-4fef-bbcd-04b39bd76ec5",
   "metadata": {
    "tags": []
   },
   "outputs": [
    {
     "data": {
      "text/html": [
       "<div>\n",
       "<style scoped>\n",
       "    .dataframe tbody tr th:only-of-type {\n",
       "        vertical-align: middle;\n",
       "    }\n",
       "\n",
       "    .dataframe tbody tr th {\n",
       "        vertical-align: top;\n",
       "    }\n",
       "\n",
       "    .dataframe thead th {\n",
       "        text-align: right;\n",
       "    }\n",
       "</style>\n",
       "<table border=\"1\" class=\"dataframe\">\n",
       "  <thead>\n",
       "    <tr style=\"text-align: right;\">\n",
       "      <th></th>\n",
       "      <th>A</th>\n",
       "      <th>B</th>\n",
       "    </tr>\n",
       "  </thead>\n",
       "  <tbody>\n",
       "    <tr>\n",
       "      <th>0</th>\n",
       "      <td>136</td>\n",
       "      <td>147</td>\n",
       "    </tr>\n",
       "    <tr>\n",
       "      <th>1</th>\n",
       "      <td>130</td>\n",
       "      <td>65</td>\n",
       "    </tr>\n",
       "    <tr>\n",
       "      <th>2</th>\n",
       "      <td>194</td>\n",
       "      <td>126</td>\n",
       "    </tr>\n",
       "    <tr>\n",
       "      <th>3</th>\n",
       "      <td>137</td>\n",
       "      <td>112</td>\n",
       "    </tr>\n",
       "    <tr>\n",
       "      <th>4</th>\n",
       "      <td>28</td>\n",
       "      <td>95</td>\n",
       "    </tr>\n",
       "  </tbody>\n",
       "</table>\n",
       "</div>"
      ],
      "text/plain": [
       "     A    B\n",
       "0  136  147\n",
       "1  130   65\n",
       "2  194  126\n",
       "3  137  112\n",
       "4   28   95"
      ]
     },
     "execution_count": 13,
     "metadata": {},
     "output_type": "execute_result"
    }
   ],
   "source": [
    "dfcuda = cudf.DataFrame({'A': A_list, 'B': B_list})\n",
    "dfcuda.head()"
   ]
  },
  {
   "cell_type": "code",
   "execution_count": 15,
   "id": "7ffc383f-e05e-4b15-95ac-feb8858f1097",
   "metadata": {
    "tags": []
   },
   "outputs": [],
   "source": [
    "def fcuda(row):\n",
    "    return row[\"A\"] + row[\"B\"]"
   ]
  },
  {
   "cell_type": "code",
   "execution_count": 16,
   "id": "bd8e68fc-0711-474d-83d9-e8133314911a",
   "metadata": {
    "tags": []
   },
   "outputs": [
    {
     "name": "stdout",
     "output_type": "stream",
     "text": [
      "12.2 ms ± 1.7 ms per loop (mean ± std. dev. of 7 runs, 1 loop each)\n"
     ]
    }
   ],
   "source": [
    "%timeit dfcuda.apply(fcuda, axis=1)"
   ]
  },
  {
   "cell_type": "markdown",
   "id": "2e9438be-7d69-41db-8e18-66ea7a4bf16f",
   "metadata": {},
   "source": [
    "# STRINGS\n",
    "\n",
    "Experimental support for a subset of string functionality is available for `apply`. The following string operations are currently supported:\n",
    "\n",
    "- `str.count`\n",
    "- `str.startswith`\n",
    "- `str.endswith`\n",
    "- `str.find`\n",
    "- `str.rfind`\n",
    "- `str.isalnum`\n",
    "- `str.isdecimal`\n",
    "- `str.isdigit`\n",
    "- `str.islower`\n",
    "- `str.isupper`\n",
    "- `str.isalpha`\n",
    "- `str.istitle`\n",
    "- `str.isspace`\n",
    "- `==`, `!=`, `>=`, `<=`, `>`, `<` (between two strings)\n",
    "- `len` (e.g. `len(some_string))`\n",
    "- `in` (e.g, `'abc' in some_string`)\n",
    "- `strip`\n",
    "- `lstrip`\n",
    "- `rstrip`\n",
    "- `upper`\n",
    "- `lower`\n",
    "- `+` (string concatenation)\n",
    "- `replace`"
   ]
  },
  {
   "cell_type": "code",
   "execution_count": 35,
   "id": "df7ad0b2-8412-4cfa-b3f2-b4e21ef8aa30",
   "metadata": {
    "tags": []
   },
   "outputs": [],
   "source": [
    "name_series = pd.Series(np.random.choice(['adam', 'chang', 'eliza', 'odom'], replace=True, size=100000))\n",
    "\n",
    "\n",
    "def f(st):\n",
    "    if len(st) > 0:\n",
    "        if st.startswith(\"a\") or st.startswith(\"o\"):\n",
    "            return 1\n",
    "        elif \"eliz\" in st:\n",
    "            return 2\n",
    "        else:\n",
    "            return -1\n",
    "    else:\n",
    "        return 42"
   ]
  },
  {
   "cell_type": "code",
   "execution_count": 41,
   "id": "0fc333d5-37e1-4cad-94c3-afeda580e7ca",
   "metadata": {
    "tags": []
   },
   "outputs": [
    {
     "name": "stdout",
     "output_type": "stream",
     "text": [
      "132 ms ± 1.76 ms per loop (mean ± std. dev. of 7 runs, 10 loops each)\n"
     ]
    }
   ],
   "source": [
    "%timeit name_series = pd.Series(np.random.choice(['adam', 'chang', 'eliza', 'odom'], replace=True, size=100000)); name_series.apply(f)"
   ]
  },
  {
   "cell_type": "code",
   "execution_count": 37,
   "id": "6ff2e355-d6e6-4ef7-90a6-6e965ab668e6",
   "metadata": {
    "tags": []
   },
   "outputs": [],
   "source": [
    "sr = cudf.Series(np.random.choice(['adam', 'chang', 'eliza', 'odom'], replace=True, size=100000))"
   ]
  },
  {
   "cell_type": "code",
   "execution_count": 40,
   "id": "8940e42d-905d-48be-a270-e63faf8b2c39",
   "metadata": {
    "tags": []
   },
   "outputs": [
    {
     "name": "stdout",
     "output_type": "stream",
     "text": [
      "41 ms ± 273 µs per loop (mean ± std. dev. of 7 runs, 10 loops each)\n"
     ]
    }
   ],
   "source": [
    "%timeit sr = cudf.Series(np.random.choice(['adam', 'chang', 'eliza', 'odom'], replace=True, size=100000)) ; sr.apply(f)"
   ]
  },
  {
   "cell_type": "code",
   "execution_count": 42,
   "id": "d53751dd-5019-423d-b589-2071e4a4c02c",
   "metadata": {},
   "outputs": [],
   "source": [
    "@njit\n",
    "def f(st):\n",
    "    if len(st) > 0:\n",
    "        if st.startswith(\"a\") or st.startswith(\"o\"):\n",
    "            return 1\n",
    "        elif \"eliz\" in st:\n",
    "            return 2\n",
    "        else:\n",
    "            return -1\n",
    "    else:\n",
    "        return 42"
   ]
  },
  {
   "cell_type": "code",
   "execution_count": 43,
   "id": "d164bfc8-1001-4899-81ca-582a354f38aa",
   "metadata": {
    "tags": []
   },
   "outputs": [
    {
     "name": "stdout",
     "output_type": "stream",
     "text": [
      "527 ms ± 11.2 ms per loop (mean ± std. dev. of 7 runs, 1 loop each)\n"
     ]
    }
   ],
   "source": [
    "%timeit name_series = pd.Series(np.random.choice(['adam', 'chang', 'eliza', 'odom'], replace=True, size=100000)); name_series.apply(f)"
   ]
  },
  {
   "cell_type": "code",
   "execution_count": null,
   "id": "4ca0364c-8c93-411e-94b9-6c3c410293f7",
   "metadata": {},
   "outputs": [],
   "source": []
  }
 ],
 "metadata": {
  "kernelspec": {
   "display_name": "Python 3 (ipykernel)",
   "language": "python",
   "name": "python3"
  },
  "language_info": {
   "codemirror_mode": {
    "name": "ipython",
    "version": 3
   },
   "file_extension": ".py",
   "mimetype": "text/x-python",
   "name": "python",
   "nbconvert_exporter": "python",
   "pygments_lexer": "ipython3",
   "version": "3.11.9"
  }
 },
 "nbformat": 4,
 "nbformat_minor": 5
}
