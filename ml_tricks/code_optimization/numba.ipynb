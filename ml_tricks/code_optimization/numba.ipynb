{
 "cells": [
  {
   "cell_type": "markdown",
   "id": "3ee8d9a7-e306-4cba-b4e4-b09aad02c3df",
   "metadata": {},
   "source": [
    "# numba\n",
    "\n",
    "https://numba.readthedocs.io/en/stable/user/5minguide.html\n",
    "\n",
    "Numba is a just-in-time compiler for Python that works best on code that uses NumPy arrays and functions, and loops. The most common way to use Numba is through its collection of decorators that can be applied to your functions to instruct Numba to compile them. When a call is made to a Numba-decorated function it is compiled to machine code “just-in-time” for execution and all or part of your code can subsequently run at native machine code speed!\n",
    "\n",
    "A JIT compiler runs after the program has started and compiles the code (usually bytecode or some kind of VM instructions) on the fly (or just-in-time, as it's called) into a form that's usually faster, typically the host CPU's native instruction set. A JIT has access to dynamic runtime information whereas a standard compiler doesn't and can make better optimizations like inlining functions that are used frequently.\n",
    "\n",
    "\n",
    "# numba.jit \n",
    "is a function decorator that tells Numba to compile a Python function into native machine code using just-in-time (JIT) compilation. It can be used to speed up the execution of the function by compiling it to machine code, which can be faster than interpreting the Python code.\n",
    "\n",
    "# numba.njit \n",
    "is a function decorator that is similar to numba.jit, but it has stricter requirements for the types of input and output that the function can accept and return. This means that numba.njit may be more restrictive in the types of functions it can compile, but it may also be faster and more memory-efficient than numba.jit\n",
    "\n",
    "# nopython mode\r\n",
    "A Numba compilation mode that generates code that does not access the Python C API. This compilation mode produces the highest performance code, but requires that the native types of all values in the function can be inferred.\n",
    "\n",
    "# cache\r\n",
    "To avoid compilation times each time you invoke a Python program, you can instruct Numba to write the result of function compilation into a file-based cache\n",
    "\n",
    "# parallel\n",
    "Enables automatic parallelization (and related optimizations) for those operations in the function known to have parallel semantics."
   ]
  },
  {
   "cell_type": "code",
   "execution_count": 52,
   "id": "901558ac-b1d2-41e1-8b77-d37495788655",
   "metadata": {},
   "outputs": [],
   "source": [
    "import pandas as pd\n",
    "import numpy as np\n",
    "from numba import njit, jit\n",
    "from functools import lru_cache , cache"
   ]
  },
  {
   "cell_type": "code",
   "execution_count": 3,
   "id": "2cba89c0-ac2e-4d3c-9702-9c0e9964047d",
   "metadata": {},
   "outputs": [
    {
     "data": {
      "text/html": [
       "<div>\n",
       "<style scoped>\n",
       "    .dataframe tbody tr th:only-of-type {\n",
       "        vertical-align: middle;\n",
       "    }\n",
       "\n",
       "    .dataframe tbody tr th {\n",
       "        vertical-align: top;\n",
       "    }\n",
       "\n",
       "    .dataframe thead th {\n",
       "        text-align: right;\n",
       "    }\n",
       "</style>\n",
       "<table border=\"1\" class=\"dataframe\">\n",
       "  <thead>\n",
       "    <tr style=\"text-align: right;\">\n",
       "      <th></th>\n",
       "      <th>A</th>\n",
       "      <th>B</th>\n",
       "    </tr>\n",
       "  </thead>\n",
       "  <tbody>\n",
       "    <tr>\n",
       "      <th>0</th>\n",
       "      <td>23</td>\n",
       "      <td>101</td>\n",
       "    </tr>\n",
       "    <tr>\n",
       "      <th>1</th>\n",
       "      <td>32</td>\n",
       "      <td>95</td>\n",
       "    </tr>\n",
       "    <tr>\n",
       "      <th>2</th>\n",
       "      <td>57</td>\n",
       "      <td>11</td>\n",
       "    </tr>\n",
       "    <tr>\n",
       "      <th>3</th>\n",
       "      <td>74</td>\n",
       "      <td>26</td>\n",
       "    </tr>\n",
       "    <tr>\n",
       "      <th>4</th>\n",
       "      <td>179</td>\n",
       "      <td>144</td>\n",
       "    </tr>\n",
       "  </tbody>\n",
       "</table>\n",
       "</div>"
      ],
      "text/plain": [
       "     A    B\n",
       "0   23  101\n",
       "1   32   95\n",
       "2   57   11\n",
       "3   74   26\n",
       "4  179  144"
      ]
     },
     "execution_count": 3,
     "metadata": {},
     "output_type": "execute_result"
    }
   ],
   "source": [
    "N = 1000000\n",
    "A_list = np.random.randint(1, 200, N)\n",
    "B_list = np.random.randint(1, 200, N)\n",
    "df = pd.DataFrame({'A': A_list, 'B': B_list})\n",
    "df.head()"
   ]
  },
  {
   "cell_type": "code",
   "execution_count": 30,
   "id": "1e9494a3-84fa-498c-9439-ab27d260e5ad",
   "metadata": {},
   "outputs": [],
   "source": [
    "def f(x, y):\n",
    "    return x + y"
   ]
  },
  {
   "cell_type": "code",
   "execution_count": 58,
   "id": "bb76aa39-e9ac-4a27-bc0d-8782b4591b36",
   "metadata": {},
   "outputs": [],
   "source": [
    "@njit\n",
    "def f_jit(x, y):\n",
    "    return x + y\n",
    "\n",
    "@njit(parallel=True)\n",
    "def f_jit_parallel(x, y):\n",
    "    return x + y\n",
    "\n",
    "@njit(cache=True)\n",
    "def f_jit_cache(x, y):\n",
    "    return x + y\n",
    "\n",
    "@njit(cache=True, parallel=True)\n",
    "def f_jit_cache_p(x, y):\n",
    "    return x + y\n",
    "\n"
   ]
  },
  {
   "cell_type": "code",
   "execution_count": 46,
   "id": "aa1e709f-55c3-47d3-aaad-eae8ad907ddc",
   "metadata": {},
   "outputs": [
    {
     "name": "stdout",
     "output_type": "stream",
     "text": [
      "18.2 s ± 95.9 ms per loop (mean ± std. dev. of 7 runs, 1 loop each)\n"
     ]
    }
   ],
   "source": [
    "%timeit df['apply'] = df.apply(lambda row: f(row['A'], row['B']), axis=1)"
   ]
  },
  {
   "cell_type": "code",
   "execution_count": 47,
   "id": "715be7c2-a8a8-4da9-ba02-c7e9de703005",
   "metadata": {},
   "outputs": [
    {
     "name": "stdout",
     "output_type": "stream",
     "text": [
      "3.27 ms ± 48.3 µs per loop (mean ± std. dev. of 7 runs, 100 loops each)\n"
     ]
    }
   ],
   "source": [
    "%timeit f_jit(df['A'].values, df['B'].values) "
   ]
  },
  {
   "cell_type": "code",
   "execution_count": 48,
   "id": "002ac8c7-8328-40a1-a4b3-51aee1e15322",
   "metadata": {},
   "outputs": [
    {
     "name": "stdout",
     "output_type": "stream",
     "text": [
      "1.37 ms ± 11.2 µs per loop (mean ± std. dev. of 7 runs, 1,000 loops each)\n"
     ]
    }
   ],
   "source": [
    "%timeit f_jit_parallel(df['A'].values, df['B'].values) "
   ]
  },
  {
   "cell_type": "code",
   "execution_count": 49,
   "id": "b23395b5-eec7-4443-92b9-25ad60f655b8",
   "metadata": {},
   "outputs": [
    {
     "name": "stdout",
     "output_type": "stream",
     "text": [
      "3.3 ms ± 59.9 µs per loop (mean ± std. dev. of 7 runs, 100 loops each)\n"
     ]
    }
   ],
   "source": [
    "%timeit f_jit_cache(df['A'].values, df['B'].values) "
   ]
  },
  {
   "cell_type": "code",
   "execution_count": 50,
   "id": "d2def4b7-b543-4e4c-b629-2d2711ed845f",
   "metadata": {},
   "outputs": [
    {
     "name": "stdout",
     "output_type": "stream",
     "text": [
      "1.37 ms ± 9.32 µs per loop (mean ± std. dev. of 7 runs, 1,000 loops each)\n"
     ]
    }
   ],
   "source": [
    "%timeit f_jit_cache_p(df['A'].values, df['B'].values) "
   ]
  },
  {
   "cell_type": "code",
   "execution_count": 60,
   "id": "b59da678-c13c-4bb3-9133-e9e1b5acddb0",
   "metadata": {},
   "outputs": [
    {
     "data": {
      "text/plain": [
       "5565.749235474006"
      ]
     },
     "execution_count": 60,
     "metadata": {},
     "output_type": "execute_result"
    }
   ],
   "source": [
    "(18.2 *1000) / 3.27"
   ]
  },
  {
   "cell_type": "code",
   "execution_count": 59,
   "id": "f1f804f6-beab-4da9-a4db-fe0c149b732b",
   "metadata": {},
   "outputs": [
    {
     "name": "stdout",
     "output_type": "stream",
     "text": [
      "405 ms ± 3.62 ms per loop (mean ± std. dev. of 7 runs, 1 loop each)\n"
     ]
    }
   ],
   "source": [
    "%timeit df['vectorize'] = np.vectorize(f)(df['A'], df['B'])"
   ]
  },
  {
   "cell_type": "code",
   "execution_count": 61,
   "id": "056010a9-e7ae-4964-af1f-b8e975c5d6b1",
   "metadata": {},
   "outputs": [
    {
     "data": {
      "text/plain": [
       "44.93827160493827"
      ]
     },
     "execution_count": 61,
     "metadata": {},
     "output_type": "execute_result"
    }
   ],
   "source": [
    "(18.2 *1000) / 405"
   ]
  },
  {
   "cell_type": "code",
   "execution_count": 70,
   "id": "db391811-d08f-445e-997c-30fd58495568",
   "metadata": {},
   "outputs": [],
   "source": [
    "name_series = pd.Series(np.random.choice(['adam', 'chang', 'eliza', 'odom'], replace=True, size=100000))\n",
    "\n",
    "def parse_name(name):\n",
    "    if name.lower().startswith('a'):\n",
    "        return 'A'\n",
    "    elif name.lower().startswith('e'):\n",
    "        return 'E'\n",
    "    elif name.lower().startswith('i'):\n",
    "        return 'I'\n",
    "    elif name.lower().startswith('o'):\n",
    "        return 'O'\n",
    "    elif name.lower().startswith('u'):\n",
    "        return 'U'\n",
    "    return name\n",
    "\n",
    "def parse_name_p(name):\n",
    "    if name.lower().startswith('a'):\n",
    "        return 'A'\n",
    "    elif name.lower().startswith('e'):\n",
    "        return 'E'\n",
    "    elif name.lower().startswith('o'):\n",
    "        return 'O'\n",
    "    elif name.lower().startswith('i'):\n",
    "        return 'I'\n",
    "    elif name.lower().startswith('u'):\n",
    "        return 'U'\n",
    "    return name\n",
    "\n",
    "def parse_name_pp(name):\n",
    "    if name.lower().startswith('c'):\n",
    "        return name\n",
    "    elif name.lower().startswith('a'):\n",
    "        return 'A'\n",
    "    elif name.lower().startswith('e'):\n",
    "        return 'E'\n",
    "    elif name.lower().startswith('o'):\n",
    "        return 'O'\n",
    "    elif name.lower().startswith('i'):\n",
    "        return 'I'\n",
    "    elif name.lower().startswith('u'):\n",
    "        return 'U'\n",
    "    return name\n",
    "    \n",
    "@jit(nopython=True)\n",
    "def parse_name_jit(name):\n",
    "    if name.lower().startswith('a'):\n",
    "        return 'A'\n",
    "    elif name.lower().startswith('e'):\n",
    "        return 'E'\n",
    "    elif name.lower().startswith('i'):\n",
    "        return 'I'\n",
    "    elif name.lower().startswith('o'):\n",
    "        return 'O'\n",
    "    elif name.lower().startswith('u'):\n",
    "        return 'U'\n",
    "    return name\n",
    "\n",
    "@jit(nopython=True,parallel=True)\n",
    "def parse_name_parallel(name):\n",
    "    if name.lower().startswith('a'):\n",
    "        return 'A'\n",
    "    elif name.lower().startswith('e'):\n",
    "        return 'E'\n",
    "    elif name.lower().startswith('i'):\n",
    "        return 'I'\n",
    "    elif name.lower().startswith('o'):\n",
    "        return 'O'\n",
    "    elif name.lower().startswith('u'):\n",
    "        return 'U'\n",
    "    return name\n",
    "\n",
    "@jit(nopython=True,cache=True)\n",
    "def parse_name_cache(name):\n",
    "    if name.lower().startswith('a'):\n",
    "        return 'A'\n",
    "    elif name.lower().startswith('e'):\n",
    "        return 'E'\n",
    "    elif name.lower().startswith('i'):\n",
    "        return 'I'\n",
    "    elif name.lower().startswith('o'):\n",
    "        return 'O'\n",
    "    elif name.lower().startswith('u'):\n",
    "        return 'U'\n",
    "    return name"
   ]
  },
  {
   "cell_type": "code",
   "execution_count": 64,
   "id": "94ba70a6-b51e-42eb-bef0-f7b2e8453269",
   "metadata": {},
   "outputs": [
    {
     "name": "stdout",
     "output_type": "stream",
     "text": [
      "159 ms ± 1.54 ms per loop (mean ± std. dev. of 7 runs, 10 loops each)\n"
     ]
    }
   ],
   "source": [
    "%timeit name_series.apply(parse_name)"
   ]
  },
  {
   "cell_type": "code",
   "execution_count": 65,
   "id": "aafb1fb8-002e-48c3-886f-a4cb0c254382",
   "metadata": {},
   "outputs": [
    {
     "name": "stdout",
     "output_type": "stream",
     "text": [
      "149 ms ± 831 µs per loop (mean ± std. dev. of 7 runs, 10 loops each)\n"
     ]
    }
   ],
   "source": [
    "%timeit name_series.apply(parse_name_p)"
   ]
  },
  {
   "cell_type": "code",
   "execution_count": 71,
   "id": "7b9d0fbb-8d9a-414e-af8a-950ac05678af",
   "metadata": {},
   "outputs": [
    {
     "name": "stdout",
     "output_type": "stream",
     "text": [
      "141 ms ± 860 µs per loop (mean ± std. dev. of 7 runs, 10 loops each)\n"
     ]
    }
   ],
   "source": [
    "%timeit name_series.apply(parse_name_pp)"
   ]
  },
  {
   "cell_type": "code",
   "execution_count": 67,
   "id": "f89bb501-f16a-49c7-97d5-480565fa3f30",
   "metadata": {},
   "outputs": [
    {
     "name": "stdout",
     "output_type": "stream",
     "text": [
      "747 ms ± 11.7 ms per loop (mean ± std. dev. of 7 runs, 1 loop each)\n"
     ]
    }
   ],
   "source": [
    "%timeit name_series.apply(parse_name_jit)"
   ]
  },
  {
   "cell_type": "code",
   "execution_count": 68,
   "id": "65ea8a28-4211-4683-990d-866bb5186c39",
   "metadata": {},
   "outputs": [
    {
     "name": "stderr",
     "output_type": "stream",
     "text": [
      "C:\\Users\\User\\AppData\\Roaming\\Python\\Python311\\site-packages\\numba\\core\\typed_passes.py:336: NumbaPerformanceWarning: \u001b[1m\n",
      "The keyword argument 'parallel=True' was specified but no transformation for parallel execution was possible.\n",
      "\n",
      "To find out why, try turning on parallel diagnostics, see https://numba.readthedocs.io/en/stable/user/parallel.html#diagnostics for help.\n",
      "\u001b[1m\n",
      "File \"C:\\Users\\User\\AppData\\Local\\Temp\\ipykernel_51492\\90145841.py\", line 44:\u001b[0m\n",
      "\u001b[1m@jit(nopython=True,parallel=True)\n",
      "\u001b[1mdef parse_name_parallel(name):\n",
      "\u001b[0m\u001b[1m^\u001b[0m\u001b[0m\n",
      "\u001b[0m\n",
      "  warnings.warn(errors.NumbaPerformanceWarning(msg,\n"
     ]
    },
    {
     "name": "stdout",
     "output_type": "stream",
     "text": [
      "734 ms ± 2.36 ms per loop (mean ± std. dev. of 7 runs, 1 loop each)\n"
     ]
    }
   ],
   "source": [
    "%timeit name_series.apply(parse_name_parallel)"
   ]
  },
  {
   "cell_type": "code",
   "execution_count": 69,
   "id": "3250af0e-6aaa-429b-9a8c-ebc07ab65f48",
   "metadata": {},
   "outputs": [
    {
     "name": "stdout",
     "output_type": "stream",
     "text": [
      "724 ms ± 10.2 ms per loop (mean ± std. dev. of 7 runs, 1 loop each)\n"
     ]
    }
   ],
   "source": [
    "%timeit name_series.apply(parse_name_cache)"
   ]
  },
  {
   "cell_type": "code",
   "execution_count": null,
   "id": "f076023e-1fb4-41f3-902a-651da693e115",
   "metadata": {},
   "outputs": [],
   "source": []
  }
 ],
 "metadata": {
  "kernelspec": {
   "display_name": "Python (azure_ml)",
   "language": "python",
   "name": "azure_ml"
  },
  "language_info": {
   "codemirror_mode": {
    "name": "ipython",
    "version": 3
   },
   "file_extension": ".py",
   "mimetype": "text/x-python",
   "name": "python",
   "nbconvert_exporter": "python",
   "pygments_lexer": "ipython3",
   "version": "3.11.8"
  }
 },
 "nbformat": 4,
 "nbformat_minor": 5
}
