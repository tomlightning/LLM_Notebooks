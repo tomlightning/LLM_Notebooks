{
 "cells": [
  {
   "cell_type": "markdown",
   "id": "9b077555-8d3a-4b8c-be96-530ba593869e",
   "metadata": {},
   "source": [
    "# Dask\n",
    "Dask is a Python library for parallel and distributed computing\n",
    "\n",
    "https://www.dask.org/\n",
    "\n",
    "# pandarallel\n",
    "pandarallel is a simple and efficient tool to parallelize Pandas operations on all available CPUs.\n",
    "\n",
    "https://pypi.org/project/pandarallel/\n",
    "\n",
    "https://nalepae.github.io/pandarallel/\n",
    "\n",
    "# mapply\n",
    "provides a sensible multi-core apply function for Pandas.\n",
    "\n",
    "https://mapply.readthedocs.io/en/stable/README.html#mapply-vs-pandarallel-vs-swifter"
   ]
  },
  {
   "cell_type": "code",
   "execution_count": 1,
   "id": "5e96c8cb-7a74-4ddf-b318-7df3304a158c",
   "metadata": {},
   "outputs": [
    {
     "name": "stdout",
     "output_type": "stream",
     "text": [
      "INFO: Pandarallel will run on 8 workers.\n",
      "INFO: Pandarallel will use standard multiprocessing data transfer (pipe) to transfer data between the main process and workers.\n",
      "\n",
      "WARNING: You are on Windows. If you detect any issue with pandarallel, be sure you checked out the Troubleshooting page:\n",
      "https://nalepae.github.io/pandarallel/troubleshooting/\n"
     ]
    }
   ],
   "source": [
    "import pandas as pd\n",
    "import dask.dataframe as dd\n",
    "from dask.multiprocessing import get\n",
    "import numpy as np\n",
    "import timeit\n",
    "from pandarallel import pandarallel\n",
    "\n",
    "pandarallel.initialize(progress_bar=True)"
   ]
  },
  {
   "cell_type": "code",
   "execution_count": 2,
   "id": "f0e36c61-6a47-41f2-903b-cf27d04a018a",
   "metadata": {},
   "outputs": [
    {
     "data": {
      "text/html": [
       "<div>\n",
       "<style scoped>\n",
       "    .dataframe tbody tr th:only-of-type {\n",
       "        vertical-align: middle;\n",
       "    }\n",
       "\n",
       "    .dataframe tbody tr th {\n",
       "        vertical-align: top;\n",
       "    }\n",
       "\n",
       "    .dataframe thead th {\n",
       "        text-align: right;\n",
       "    }\n",
       "</style>\n",
       "<table border=\"1\" class=\"dataframe\">\n",
       "  <thead>\n",
       "    <tr style=\"text-align: right;\">\n",
       "      <th></th>\n",
       "      <th>A</th>\n",
       "      <th>B</th>\n",
       "    </tr>\n",
       "  </thead>\n",
       "  <tbody>\n",
       "    <tr>\n",
       "      <th>0</th>\n",
       "      <td>129</td>\n",
       "      <td>80</td>\n",
       "    </tr>\n",
       "    <tr>\n",
       "      <th>1</th>\n",
       "      <td>122</td>\n",
       "      <td>88</td>\n",
       "    </tr>\n",
       "    <tr>\n",
       "      <th>2</th>\n",
       "      <td>63</td>\n",
       "      <td>117</td>\n",
       "    </tr>\n",
       "    <tr>\n",
       "      <th>3</th>\n",
       "      <td>60</td>\n",
       "      <td>20</td>\n",
       "    </tr>\n",
       "    <tr>\n",
       "      <th>4</th>\n",
       "      <td>41</td>\n",
       "      <td>10</td>\n",
       "    </tr>\n",
       "  </tbody>\n",
       "</table>\n",
       "</div>"
      ],
      "text/plain": [
       "     A    B\n",
       "0  129   80\n",
       "1  122   88\n",
       "2   63  117\n",
       "3   60   20\n",
       "4   41   10"
      ]
     },
     "execution_count": 2,
     "metadata": {},
     "output_type": "execute_result"
    }
   ],
   "source": [
    "N = 5000000\n",
    "A_list = np.random.randint(1, 200, N)\n",
    "B_list = np.random.randint(1, 200, N)\n",
    "data = pd.DataFrame({'A': A_list, 'B': B_list})\n",
    "data.head()"
   ]
  },
  {
   "cell_type": "code",
   "execution_count": 3,
   "id": "817e7c77-d35b-405a-b9d7-c77f4023d948",
   "metadata": {},
   "outputs": [
    {
     "data": {
      "text/plain": [
       "16"
      ]
     },
     "execution_count": 3,
     "metadata": {},
     "output_type": "execute_result"
    }
   ],
   "source": [
    "import multiprocessing\n",
    "\n",
    "multiprocessing.cpu_count()"
   ]
  },
  {
   "cell_type": "code",
   "execution_count": 32,
   "id": "c1020174-c659-44bf-97ec-57c62d5f079a",
   "metadata": {},
   "outputs": [],
   "source": [
    "ddata = dd.from_pandas(data, npartitions=16)"
   ]
  },
  {
   "cell_type": "code",
   "execution_count": 28,
   "id": "8444e950-e1ee-47b0-8184-af9eff54777c",
   "metadata": {},
   "outputs": [],
   "source": [
    "def myfunc(x,y): return y*(x**2+1)\n",
    "def apply_myfunc_to_DF(df): return df.apply((lambda row: myfunc(*row)), axis=1)\n",
    "def pandas_apply(): return apply_myfunc_to_DF(data)\n",
    "def dask_apply(): return ddata.map_partitions(apply_myfunc_to_DF).compute(scheduler='threads')  \n",
    "  \n",
    "def vectorized(): return myfunc(data['A'], data['B']  )"
   ]
  },
  {
   "cell_type": "code",
   "execution_count": 7,
   "id": "077d3717-a501-4803-881b-126196ee6240",
   "metadata": {},
   "outputs": [
    {
     "name": "stdout",
     "output_type": "stream",
     "text": [
      "67.09131490020081\n"
     ]
    }
   ],
   "source": [
    "t_pds = timeit.Timer(lambda: pandas_apply())\n",
    "print(t_pds.timeit(number=1))"
   ]
  },
  {
   "cell_type": "code",
   "execution_count": 33,
   "id": "80d6616e-31fd-4cda-b02a-27e6da186738",
   "metadata": {},
   "outputs": [
    {
     "name": "stdout",
     "output_type": "stream",
     "text": [
      "57.42132580000907\n"
     ]
    }
   ],
   "source": [
    "t_dsk = timeit.Timer(lambda: dask_apply())\n",
    "print(t_dsk.timeit(number=1)) # 56 seg"
   ]
  },
  {
   "cell_type": "code",
   "execution_count": 9,
   "id": "ec037251-2a08-484f-9ff2-2771e51386b5",
   "metadata": {},
   "outputs": [],
   "source": [
    "def myfunc_2(row): return row.A*(row.B**2+1)"
   ]
  },
  {
   "cell_type": "code",
   "execution_count": 10,
   "id": "efa40b1c-9454-428e-af6e-0e499e8521a0",
   "metadata": {},
   "outputs": [],
   "source": [
    "# Benchmark the Pandarallel approach\n",
    "def pandarallel_benchmark():\n",
    "    data.parallel_apply(myfunc_2, axis=1)"
   ]
  },
  {
   "cell_type": "code",
   "execution_count": 11,
   "id": "7d9a85a1-5432-41e4-82d8-471184d2a396",
   "metadata": {},
   "outputs": [
    {
     "data": {
      "application/vnd.jupyter.widget-view+json": {
       "model_id": "9854d155ec3f4d3591490601ddaf22db",
       "version_major": 2,
       "version_minor": 0
      },
      "text/plain": [
       "VBox(children=(HBox(children=(IntProgress(value=0, description='0.00%', max=625000), Label(value='0 / 625000')…"
      ]
     },
     "metadata": {},
     "output_type": "display_data"
    },
    {
     "data": {
      "text/plain": [
       "40.357989199925214"
      ]
     },
     "execution_count": 11,
     "metadata": {},
     "output_type": "execute_result"
    }
   ],
   "source": [
    "pandarallel_time = timeit.timeit(pandarallel_benchmark, number=1)\n",
    "pandarallel_time"
   ]
  },
  {
   "cell_type": "code",
   "execution_count": 11,
   "id": "26be5ef1-9dbd-40eb-b934-572ed05b5ef7",
   "metadata": {},
   "outputs": [
    {
     "data": {
      "text/plain": [
       "40.24564839992672"
      ]
     },
     "execution_count": 11,
     "metadata": {},
     "output_type": "execute_result"
    }
   ],
   "source": [
    "pandarallel_time"
   ]
  },
  {
   "cell_type": "code",
   "execution_count": 12,
   "id": "976a41f1-49a2-43c2-ad02-caaf94462159",
   "metadata": {},
   "outputs": [
    {
     "name": "stdout",
     "output_type": "stream",
     "text": [
      "0.11390030011534691\n"
     ]
    }
   ],
   "source": [
    "t_vec = timeit.Timer(lambda: vectorized())\n",
    "print(t_vec.timeit(number=1))"
   ]
  },
  {
   "cell_type": "code",
   "execution_count": 13,
   "id": "3bdd99e9-d301-4e27-be15-aba2a1f73b50",
   "metadata": {},
   "outputs": [
    {
     "data": {
      "text/plain": [
       "609.0909090909091"
      ]
     },
     "execution_count": 13,
     "metadata": {},
     "output_type": "execute_result"
    }
   ],
   "source": [
    "67 / 0.11"
   ]
  },
  {
   "cell_type": "code",
   "execution_count": 14,
   "id": "95a0e59c-fc5c-409f-bd4d-7b153f584c80",
   "metadata": {},
   "outputs": [],
   "source": [
    "name_series = pd.Series(np.random.choice(['adam', 'chang', 'eliza', 'odom'], replace=True, size=100000))\n",
    "dname = pd.DataFrame(name_series, columns=[\"name\"])\n",
    "def parse_name_pp(name):\n",
    "    if name.lower().startswith('c'):\n",
    "        return name\n",
    "    elif name.lower().startswith('a'):\n",
    "        return 'A'\n",
    "    elif name.lower().startswith('e'):\n",
    "        return 'E'\n",
    "    elif name.lower().startswith('o'):\n",
    "        return 'O'\n",
    "    elif name.lower().startswith('i'):\n",
    "        return 'I'\n",
    "    elif name.lower().startswith('u'):\n",
    "        return 'U'\n",
    "    return name\n",
    "\n",
    "def parse_name_ppr(x):\n",
    "    if x[\"name\"].lower().startswith('c'):\n",
    "        return str(x[\"name\"])\n",
    "    elif x[\"name\"].lower().startswith('a'):\n",
    "        return 'A'\n",
    "    elif x[\"name\"].lower().startswith('e'):\n",
    "        return 'E'\n",
    "    elif x[\"name\"].lower().startswith('o'):\n",
    "        return 'O'\n",
    "    elif x[\"name\"].lower().startswith('i'):\n",
    "        return 'I'\n",
    "    elif x[\"name\"].lower().startswith('u'):\n",
    "        return 'U'\n",
    "    return str(x[\"name\"])"
   ]
  },
  {
   "cell_type": "code",
   "execution_count": 15,
   "id": "19f80f40-7649-4e2d-9bef-6b49652cbe06",
   "metadata": {},
   "outputs": [],
   "source": [
    "dname_series = dd.from_pandas(dname, npartitions=16)"
   ]
  },
  {
   "cell_type": "code",
   "execution_count": 16,
   "id": "ed6df31c-8c63-4e39-b6c8-1fab269b3829",
   "metadata": {},
   "outputs": [
    {
     "data": {
      "text/html": [
       "<div>\n",
       "<style scoped>\n",
       "    .dataframe tbody tr th:only-of-type {\n",
       "        vertical-align: middle;\n",
       "    }\n",
       "\n",
       "    .dataframe tbody tr th {\n",
       "        vertical-align: top;\n",
       "    }\n",
       "\n",
       "    .dataframe thead th {\n",
       "        text-align: right;\n",
       "    }\n",
       "</style>\n",
       "<table border=\"1\" class=\"dataframe\">\n",
       "  <thead>\n",
       "    <tr style=\"text-align: right;\">\n",
       "      <th></th>\n",
       "      <th>name</th>\n",
       "    </tr>\n",
       "  </thead>\n",
       "  <tbody>\n",
       "    <tr>\n",
       "      <th>6245</th>\n",
       "      <td>odom</td>\n",
       "    </tr>\n",
       "    <tr>\n",
       "      <th>6246</th>\n",
       "      <td>chang</td>\n",
       "    </tr>\n",
       "    <tr>\n",
       "      <th>6247</th>\n",
       "      <td>chang</td>\n",
       "    </tr>\n",
       "    <tr>\n",
       "      <th>6248</th>\n",
       "      <td>adam</td>\n",
       "    </tr>\n",
       "    <tr>\n",
       "      <th>6249</th>\n",
       "      <td>adam</td>\n",
       "    </tr>\n",
       "  </tbody>\n",
       "</table>\n",
       "</div>"
      ],
      "text/plain": [
       "       name\n",
       "6245   odom\n",
       "6246  chang\n",
       "6247  chang\n",
       "6248   adam\n",
       "6249   adam"
      ]
     },
     "execution_count": 16,
     "metadata": {},
     "output_type": "execute_result"
    }
   ],
   "source": [
    "dname_series.partitions[0].tail()"
   ]
  },
  {
   "cell_type": "code",
   "execution_count": 17,
   "id": "24290818-4950-4705-8600-e0441e4cb242",
   "metadata": {},
   "outputs": [
    {
     "data": {
      "text/plain": [
       "6250"
      ]
     },
     "execution_count": 17,
     "metadata": {},
     "output_type": "execute_result"
    }
   ],
   "source": [
    "len(dname_series.partitions[0])\n",
    "    "
   ]
  },
  {
   "cell_type": "code",
   "execution_count": 18,
   "id": "f74cd75f-a430-4e0a-8d81-f3b7efbfff58",
   "metadata": {},
   "outputs": [],
   "source": [
    "def apply_myfunc_to_S(df): return df.apply(lambda row: parse_name_ppr(row), axis=1)"
   ]
  },
  {
   "cell_type": "code",
   "execution_count": 74,
   "id": "758c4356-d0fb-47ca-b33a-4e19cb606325",
   "metadata": {},
   "outputs": [],
   "source": [
    "# def pandas_apply_2(): return parse_name_pp(name_series)\n",
    "# def dask_apply_2(): return dname_series.map_partitions(apply_myfunc_to_S).compute(scheduler='threads')  "
   ]
  },
  {
   "cell_type": "code",
   "execution_count": 19,
   "id": "adfa1c70-74d1-44e1-a259-2be71658e097",
   "metadata": {},
   "outputs": [
    {
     "name": "stdout",
     "output_type": "stream",
     "text": [
      "140 ms ± 2.12 ms per loop (mean ± std. dev. of 7 runs, 10 loops each)\n"
     ]
    }
   ],
   "source": [
    "%timeit name_series.apply(parse_name_pp)"
   ]
  },
  {
   "cell_type": "code",
   "execution_count": 20,
   "id": "a238f389-9d03-4f71-aafc-50456a059cc4",
   "metadata": {},
   "outputs": [
    {
     "name": "stdout",
     "output_type": "stream",
     "text": [
      "11.4 s ± 166 ms per loop (mean ± std. dev. of 7 runs, 1 loop each)\n"
     ]
    }
   ],
   "source": [
    "%timeit dname_series.map_partitions(apply_myfunc_to_S, meta=(\"name\",str)).compute(scheduler='threads')  "
   ]
  },
  {
   "cell_type": "code",
   "execution_count": 21,
   "id": "9859a8c4-bade-4f24-b182-c050db22cd44",
   "metadata": {},
   "outputs": [],
   "source": [
    "# Benchmark the Pandarallel approach\n",
    "def pandarallel_benchmark():\n",
    "    dname.parallel_apply(parse_name_ppr, axis=1)"
   ]
  },
  {
   "cell_type": "code",
   "execution_count": 22,
   "id": "826a71ec-f6d4-48d8-a549-5bbd5230e64a",
   "metadata": {},
   "outputs": [
    {
     "data": {
      "application/vnd.jupyter.widget-view+json": {
       "model_id": "d110fa39130f4c07a86dc71defcf6ae3",
       "version_major": 2,
       "version_minor": 0
      },
      "text/plain": [
       "VBox(children=(HBox(children=(IntProgress(value=0, description='0.00%', max=12500), Label(value='0 / 12500')))…"
      ]
     },
     "metadata": {},
     "output_type": "display_data"
    },
    {
     "data": {
      "text/plain": [
       "4.0005551003851"
      ]
     },
     "execution_count": 22,
     "metadata": {},
     "output_type": "execute_result"
    }
   ],
   "source": [
    "pandarallel_time = timeit.timeit(pandarallel_benchmark, number=1)\n",
    "pandarallel_time"
   ]
  },
  {
   "cell_type": "code",
   "execution_count": 23,
   "id": "db70c8e5-9138-4b35-908c-f2238469526c",
   "metadata": {},
   "outputs": [
    {
     "data": {
      "text/plain": [
       "28.571428571428573"
      ]
     },
     "execution_count": 23,
     "metadata": {},
     "output_type": "execute_result"
    }
   ],
   "source": [
    "4000 / 140"
   ]
  }
 ],
 "metadata": {
  "kernelspec": {
   "display_name": "parallel",
   "language": "python",
   "name": "parallel"
  },
  "language_info": {
   "codemirror_mode": {
    "name": "ipython",
    "version": 3
   },
   "file_extension": ".py",
   "mimetype": "text/x-python",
   "name": "python",
   "nbconvert_exporter": "python",
   "pygments_lexer": "ipython3",
   "version": "3.11.9"
  }
 },
 "nbformat": 4,
 "nbformat_minor": 5
}
