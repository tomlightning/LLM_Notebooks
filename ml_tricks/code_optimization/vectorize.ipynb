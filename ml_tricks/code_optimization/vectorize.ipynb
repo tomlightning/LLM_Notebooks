{
 "cells": [
  {
   "cell_type": "markdown",
   "id": "1f6539f4-7843-450f-84d7-f1ec0feb7168",
   "metadata": {},
   "source": [
    "# np.vectorize\n",
    "\n",
    "https://numpy.org/doc/stable/reference/generated/numpy.vectorize.html\n",
    "\n",
    "Vectorized operations in NumPy enable the use of efficient, pre-compiled functions and mathematical operations on NumPy arrays and data sequences. Vectorization is a method of performing array operations without the use of for loops\n"
   ]
  },
  {
   "cell_type": "code",
   "execution_count": 3,
   "id": "901558ac-b1d2-41e1-8b77-d37495788655",
   "metadata": {},
   "outputs": [],
   "source": [
    "import pandas as pd\n",
    "import numpy as np"
   ]
  },
  {
   "cell_type": "code",
   "execution_count": 32,
   "id": "2cba89c0-ac2e-4d3c-9702-9c0e9964047d",
   "metadata": {},
   "outputs": [
    {
     "data": {
      "text/html": [
       "<div>\n",
       "<style scoped>\n",
       "    .dataframe tbody tr th:only-of-type {\n",
       "        vertical-align: middle;\n",
       "    }\n",
       "\n",
       "    .dataframe tbody tr th {\n",
       "        vertical-align: top;\n",
       "    }\n",
       "\n",
       "    .dataframe thead th {\n",
       "        text-align: right;\n",
       "    }\n",
       "</style>\n",
       "<table border=\"1\" class=\"dataframe\">\n",
       "  <thead>\n",
       "    <tr style=\"text-align: right;\">\n",
       "      <th></th>\n",
       "      <th>A</th>\n",
       "      <th>B</th>\n",
       "    </tr>\n",
       "  </thead>\n",
       "  <tbody>\n",
       "    <tr>\n",
       "      <th>0</th>\n",
       "      <td>192</td>\n",
       "      <td>139</td>\n",
       "    </tr>\n",
       "    <tr>\n",
       "      <th>1</th>\n",
       "      <td>175</td>\n",
       "      <td>88</td>\n",
       "    </tr>\n",
       "    <tr>\n",
       "      <th>2</th>\n",
       "      <td>71</td>\n",
       "      <td>81</td>\n",
       "    </tr>\n",
       "    <tr>\n",
       "      <th>3</th>\n",
       "      <td>73</td>\n",
       "      <td>32</td>\n",
       "    </tr>\n",
       "    <tr>\n",
       "      <th>4</th>\n",
       "      <td>11</td>\n",
       "      <td>38</td>\n",
       "    </tr>\n",
       "  </tbody>\n",
       "</table>\n",
       "</div>"
      ],
      "text/plain": [
       "     A    B\n",
       "0  192  139\n",
       "1  175   88\n",
       "2   71   81\n",
       "3   73   32\n",
       "4   11   38"
      ]
     },
     "execution_count": 32,
     "metadata": {},
     "output_type": "execute_result"
    }
   ],
   "source": [
    "N = 1000000\n",
    "A_list = np.random.randint(1, 200, N)\n",
    "B_list = np.random.randint(1, 200, N)\n",
    "df = pd.DataFrame({'A': A_list, 'B': B_list})\n",
    "df.head()"
   ]
  },
  {
   "cell_type": "code",
   "execution_count": 28,
   "id": "1e9494a3-84fa-498c-9439-ab27d260e5ad",
   "metadata": {},
   "outputs": [],
   "source": [
    "def divide(a, b):\n",
    "    if b == 0:\n",
    "        return 0.0\n",
    "    return float(a)/b"
   ]
  },
  {
   "cell_type": "code",
   "execution_count": 33,
   "id": "aa1e709f-55c3-47d3-aaad-eae8ad907ddc",
   "metadata": {},
   "outputs": [
    {
     "name": "stdout",
     "output_type": "stream",
     "text": [
      "19.2 s ± 75.1 ms per loop (mean ± std. dev. of 7 runs, 1 loop each)\n"
     ]
    }
   ],
   "source": [
    "%timeit df['apply'] = df.apply(lambda row: divide(row['A'], row['B']), axis=1)"
   ]
  },
  {
   "cell_type": "code",
   "execution_count": 26,
   "id": "b23395b5-eec7-4443-92b9-25ad60f655b8",
   "metadata": {},
   "outputs": [
    {
     "data": {
      "text/plain": [
       "6.69833729216152"
      ]
     },
     "execution_count": 26,
     "metadata": {},
     "output_type": "execute_result"
    }
   ],
   "source": [
    "(2.82 * 1000) / 421 #100"
   ]
  },
  {
   "cell_type": "code",
   "execution_count": 31,
   "id": "bcd4c839-84b1-48da-bd0b-796795499919",
   "metadata": {},
   "outputs": [
    {
     "data": {
      "text/plain": [
       "28.52897473997028"
      ]
     },
     "execution_count": 31,
     "metadata": {},
     "output_type": "execute_result"
    }
   ],
   "source": [
    "192 / 6.73 #10000"
   ]
  },
  {
   "cell_type": "code",
   "execution_count": 35,
   "id": "18d93f12-5045-4534-b054-a634e21981ae",
   "metadata": {},
   "outputs": [
    {
     "data": {
      "text/plain": [
       "31.8407960199005"
      ]
     },
     "execution_count": 35,
     "metadata": {},
     "output_type": "execute_result"
    }
   ],
   "source": [
    "(19.2 * 1000) / 603 #1000000"
   ]
  },
  {
   "cell_type": "code",
   "execution_count": 34,
   "id": "b11ed13c-7c13-41db-9df4-853d2ac4a4d6",
   "metadata": {},
   "outputs": [
    {
     "name": "stdout",
     "output_type": "stream",
     "text": [
      "603 ms ± 4.53 ms per loop (mean ± std. dev. of 7 runs, 1 loop each)\n"
     ]
    }
   ],
   "source": [
    "%timeit df['vectorize'] = np.vectorize(divide)(df['A'], df['B'])"
   ]
  },
  {
   "cell_type": "markdown",
   "id": "e2e57a68-cce5-4a7e-ad97-47148a5b6772",
   "metadata": {},
   "source": [
    "When you write a function which applies numpy c-based ufuncs to the input, then it is automatically already vectorized over the inputs and can run very quickly when applied to an array.\n",
    "\n",
    "However, when you have a complicated function that isn't built out of ufuncs, that applies to some scalar, then you would need to use np.vectorize to make it applicable to arrays. In this case the vectorization is simply wrapper code which does the iteration over various axes for you.\n",
    "\n",
    "It's not possible to get the fast numpy speed unless you're using tools which remove the python overhead, because python functions can involve all sorts of dynamic activity, such as changing global state, logging, or whatever. A python function is almost a black-box that can affect anything in the interpreter."
   ]
  },
  {
   "cell_type": "code",
   "execution_count": 36,
   "id": "db391811-d08f-445e-997c-30fd58495568",
   "metadata": {},
   "outputs": [],
   "source": [
    "name_series = pd.Series(np.random.choice(['adam', 'chang', 'eliza', 'odom'], replace=True, size=100000))\n",
    "\n",
    "def parse_name(name):\n",
    "    if name.lower().startswith('a'):\n",
    "        return 'A'\n",
    "    elif name.lower().startswith('e'):\n",
    "        return 'E'\n",
    "    elif name.lower().startswith('i'):\n",
    "        return 'I'\n",
    "    elif name.lower().startswith('o'):\n",
    "        return 'O'\n",
    "    elif name.lower().startswith('u'):\n",
    "        return 'U'\n",
    "    return name\n"
   ]
  },
  {
   "cell_type": "code",
   "execution_count": 37,
   "id": "4879a352-2aae-4f46-97c0-e417fec4874b",
   "metadata": {},
   "outputs": [],
   "source": [
    "parse_name_vec = np.vectorize(parse_name)"
   ]
  },
  {
   "cell_type": "code",
   "execution_count": 38,
   "id": "94ba70a6-b51e-42eb-bef0-f7b2e8453269",
   "metadata": {},
   "outputs": [
    {
     "name": "stdout",
     "output_type": "stream",
     "text": [
      "159 ms ± 1.02 ms per loop (mean ± std. dev. of 7 runs, 10 loops each)\n"
     ]
    }
   ],
   "source": [
    "%timeit name_series.apply(parse_name)"
   ]
  },
  {
   "cell_type": "code",
   "execution_count": 39,
   "id": "f89bb501-f16a-49c7-97d5-480565fa3f30",
   "metadata": {},
   "outputs": [
    {
     "name": "stdout",
     "output_type": "stream",
     "text": [
      "186 ms ± 2.52 ms per loop (mean ± std. dev. of 7 runs, 10 loops each)\n"
     ]
    }
   ],
   "source": [
    "%timeit parse_name_vec(name_series)"
   ]
  },
  {
   "cell_type": "code",
   "execution_count": null,
   "id": "65ea8a28-4211-4683-990d-866bb5186c39",
   "metadata": {},
   "outputs": [],
   "source": []
  }
 ],
 "metadata": {
  "kernelspec": {
   "display_name": "Python (azure_ml)",
   "language": "python",
   "name": "azure_ml"
  },
  "language_info": {
   "codemirror_mode": {
    "name": "ipython",
    "version": 3
   },
   "file_extension": ".py",
   "mimetype": "text/x-python",
   "name": "python",
   "nbconvert_exporter": "python",
   "pygments_lexer": "ipython3",
   "version": "3.11.8"
  }
 },
 "nbformat": 4,
 "nbformat_minor": 5
}
