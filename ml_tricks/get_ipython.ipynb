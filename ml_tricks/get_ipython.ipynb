{
  "nbformat": 4,
  "nbformat_minor": 0,
  "metadata": {
    "colab": {
      "provenance": [],
      "authorship_tag": "ABX9TyOVYnxkh4X3shWsOtrnCEGw",
      "include_colab_link": true
    },
    "kernelspec": {
      "name": "python3",
      "display_name": "Python 3"
    },
    "language_info": {
      "name": "python"
    }
  },
  "cells": [
    {
      "cell_type": "markdown",
      "metadata": {
        "id": "view-in-github",
        "colab_type": "text"
      },
      "source": [
        "<a href=\"https://colab.research.google.com/github/olonok69/LLM_Notebooks/blob/main/ml_tricks/get_ipython.ipynb\" target=\"_parent\"><img src=\"https://colab.research.google.com/assets/colab-badge.svg\" alt=\"Open In Colab\"/></a>"
      ]
    },
    {
      "cell_type": "code",
      "source": [
        "# https://ipython.readthedocs.io/en/stable/index.html\n",
        "# https://ipython.readthedocs.io/en/stable/api/generated/IPython.core.getipython.html\n",
        "\n",
        "# Installation\n",
        "\n",
        "# pip install ipython"
      ],
      "metadata": {
        "id": "jMokS2KebO3h"
      },
      "execution_count": null,
      "outputs": []
    },
    {
      "cell_type": "code",
      "source": [
        "!pip install mlflow --quiet"
      ],
      "metadata": {
        "colab": {
          "base_uri": "https://localhost:8080/"
        },
        "id": "gwEYEHG-bUXk",
        "outputId": "44008b8c-bddd-4087-f095-f09576bf448e"
      },
      "execution_count": 5,
      "outputs": [
        {
          "output_type": "stream",
          "name": "stdout",
          "text": [
            "\u001b[2K     \u001b[90m━━━━━━━━━━━━━━━━━━━━━━━━━━━━━━━━━━━━━━━━\u001b[0m \u001b[32m20.2/20.2 MB\u001b[0m \u001b[31m32.8 MB/s\u001b[0m eta \u001b[36m0:00:00\u001b[0m\n",
            "\u001b[2K     \u001b[90m━━━━━━━━━━━━━━━━━━━━━━━━━━━━━━━━━━━━━━━━\u001b[0m \u001b[32m233.4/233.4 kB\u001b[0m \u001b[31m16.4 MB/s\u001b[0m eta \u001b[36m0:00:00\u001b[0m\n",
            "\u001b[2K     \u001b[90m━━━━━━━━━━━━━━━━━━━━━━━━━━━━━━━━━━━━━━━━\u001b[0m \u001b[32m147.6/147.6 kB\u001b[0m \u001b[31m13.2 MB/s\u001b[0m eta \u001b[36m0:00:00\u001b[0m\n",
            "\u001b[2K     \u001b[90m━━━━━━━━━━━━━━━━━━━━━━━━━━━━━━━━━━━━━━━━\u001b[0m \u001b[32m207.3/207.3 kB\u001b[0m \u001b[31m18.5 MB/s\u001b[0m eta \u001b[36m0:00:00\u001b[0m\n",
            "\u001b[2K     \u001b[90m━━━━━━━━━━━━━━━━━━━━━━━━━━━━━━━━━━━━━━━━\u001b[0m \u001b[32m128.2/128.2 kB\u001b[0m \u001b[31m12.6 MB/s\u001b[0m eta \u001b[36m0:00:00\u001b[0m\n",
            "\u001b[2K     \u001b[90m━━━━━━━━━━━━━━━━━━━━━━━━━━━━━━━━━━━━━━━━\u001b[0m \u001b[32m80.2/80.2 kB\u001b[0m \u001b[31m8.7 MB/s\u001b[0m eta \u001b[36m0:00:00\u001b[0m\n",
            "\u001b[2K     \u001b[90m━━━━━━━━━━━━━━━━━━━━━━━━━━━━━━━━━━━━━━━━\u001b[0m \u001b[32m78.8/78.8 kB\u001b[0m \u001b[31m8.3 MB/s\u001b[0m eta \u001b[36m0:00:00\u001b[0m\n",
            "\u001b[2K     \u001b[90m━━━━━━━━━━━━━━━━━━━━━━━━━━━━━━━━━━━━━━━━\u001b[0m \u001b[32m62.7/62.7 kB\u001b[0m \u001b[31m6.0 MB/s\u001b[0m eta \u001b[36m0:00:00\u001b[0m\n",
            "\u001b[2K     \u001b[90m━━━━━━━━━━━━━━━━━━━━━━━━━━━━━━━━━━━━━━━━\u001b[0m \u001b[32m202.9/202.9 kB\u001b[0m \u001b[31m17.8 MB/s\u001b[0m eta \u001b[36m0:00:00\u001b[0m\n",
            "\u001b[2K     \u001b[90m━━━━━━━━━━━━━━━━━━━━━━━━━━━━━━━━━━━━━━━━\u001b[0m \u001b[32m52.8/52.8 kB\u001b[0m \u001b[31m5.1 MB/s\u001b[0m eta \u001b[36m0:00:00\u001b[0m\n",
            "\u001b[?25h"
          ]
        }
      ]
    },
    {
      "cell_type": "code",
      "execution_count": 61,
      "metadata": {
        "colab": {
          "base_uri": "https://localhost:8080/"
        },
        "id": "Rn7TGe55aS5i",
        "outputId": "747af3e1-55a8-4a9d-889d-b7742dffb400"
      },
      "outputs": [
        {
          "output_type": "execute_result",
          "data": {
            "text/plain": [
              "['total 20',\n",
              " 'drwxr-xr-x 1 root root 4096 Apr 30 19:16 .',\n",
              " 'drwxr-xr-x 1 root root 4096 Apr 30 19:08 ..',\n",
              " 'drwxr-xr-x 4 root root 4096 Apr 29 13:24 .config',\n",
              " 'drwxr-xr-x 5 root root 4096 Apr 30 19:16 mlruns',\n",
              " 'drwxr-xr-x 1 root root 4096 Apr 29 13:25 sample_data']"
            ]
          },
          "metadata": {},
          "execution_count": 61
        }
      ],
      "source": [
        "get_ipython().getoutput(\"ls -al\")"
      ]
    },
    {
      "cell_type": "code",
      "source": [
        "get_ipython().system_raw('apt install net-tools &')"
      ],
      "metadata": {
        "id": "sEX3L0UzaX_d"
      },
      "execution_count": 62,
      "outputs": []
    },
    {
      "cell_type": "code",
      "source": [
        "install = get_ipython().getoutput(\"apt install net-tools\")"
      ],
      "metadata": {
        "id": "WAIZJYrgalOt"
      },
      "execution_count": 63,
      "outputs": []
    },
    {
      "cell_type": "code",
      "source": [
        "install"
      ],
      "metadata": {
        "colab": {
          "base_uri": "https://localhost:8080/"
        },
        "id": "4JAHUrTZb8B5",
        "outputId": "6015deba-59b2-4791-9ad6-cea461e3d00f"
      },
      "execution_count": 64,
      "outputs": [
        {
          "output_type": "execute_result",
          "data": {
            "text/plain": [
              "['',\n",
              " 'Reading package lists... 0%',\n",
              " '',\n",
              " 'Reading package lists... 0%',\n",
              " '',\n",
              " 'Reading package lists... 0%',\n",
              " '',\n",
              " 'Reading package lists... 5%',\n",
              " '',\n",
              " 'Reading package lists... 5%',\n",
              " '',\n",
              " 'Reading package lists... 5%',\n",
              " '',\n",
              " 'Reading package lists... 5%',\n",
              " '',\n",
              " 'Reading package lists... 47%',\n",
              " '',\n",
              " 'Reading package lists... 53%',\n",
              " '',\n",
              " 'Reading package lists... 53%',\n",
              " '',\n",
              " 'Reading package lists... 54%',\n",
              " '',\n",
              " 'Reading package lists... 54%',\n",
              " '',\n",
              " 'Reading package lists... 61%',\n",
              " '',\n",
              " 'Reading package lists... 61%',\n",
              " '',\n",
              " 'Reading package lists... 69%',\n",
              " '',\n",
              " 'Reading package lists... 69%',\n",
              " '',\n",
              " 'Reading package lists... 74%',\n",
              " '',\n",
              " 'Reading package lists... 74%',\n",
              " '',\n",
              " 'Reading package lists... 74%',\n",
              " '',\n",
              " 'Reading package lists... 74%',\n",
              " '',\n",
              " 'Reading package lists... 74%',\n",
              " '',\n",
              " 'Reading package lists... 74%',\n",
              " '',\n",
              " 'Reading package lists... 74%',\n",
              " '',\n",
              " 'Reading package lists... 74%',\n",
              " '',\n",
              " 'Reading package lists... 80%',\n",
              " '',\n",
              " 'Reading package lists... 80%',\n",
              " '',\n",
              " 'Reading package lists... 88%',\n",
              " '',\n",
              " 'Reading package lists... 88%',\n",
              " '',\n",
              " 'Reading package lists... 92%',\n",
              " '',\n",
              " 'Reading package lists... 92%',\n",
              " '',\n",
              " 'Reading package lists... 92%',\n",
              " '',\n",
              " 'Reading package lists... 92%',\n",
              " '',\n",
              " 'Reading package lists... 92%',\n",
              " '',\n",
              " 'Reading package lists... 92%',\n",
              " '',\n",
              " 'Reading package lists... 96%',\n",
              " '',\n",
              " 'Reading package lists... 96%',\n",
              " '',\n",
              " 'Reading package lists... 98%',\n",
              " '',\n",
              " 'Reading package lists... 98%',\n",
              " '',\n",
              " 'Reading package lists... 98%',\n",
              " '',\n",
              " 'Reading package lists... 98%',\n",
              " '',\n",
              " 'Reading package lists... 98%',\n",
              " '',\n",
              " 'Reading package lists... 98%',\n",
              " '',\n",
              " 'Reading package lists... 99%',\n",
              " '',\n",
              " 'Reading package lists... 99%',\n",
              " '',\n",
              " 'Reading package lists... Done',\n",
              " '',\n",
              " 'Building dependency tree... 0%',\n",
              " '',\n",
              " 'Building dependency tree... 0%',\n",
              " '',\n",
              " 'Building dependency tree... 50%',\n",
              " '',\n",
              " 'Building dependency tree... 50%',\n",
              " '',\n",
              " 'Building dependency tree... 51%',\n",
              " '',\n",
              " 'Building dependency tree... Done',\n",
              " '',\n",
              " 'Reading state information... 0% ',\n",
              " '',\n",
              " 'Reading state information... 0%',\n",
              " '',\n",
              " 'Reading state information... Done',\n",
              " 'net-tools is already the newest version (1.60+git20181103.0eebece-1ubuntu5).',\n",
              " '0 upgraded, 0 newly installed, 0 to remove and 45 not upgraded.']"
            ]
          },
          "metadata": {},
          "execution_count": 64
        }
      ]
    },
    {
      "cell_type": "code",
      "source": [
        "get_ipython().system_raw(\"mlflow ui --port 5000 &\")"
      ],
      "metadata": {
        "id": "GBgF1z31cCgT"
      },
      "execution_count": 65,
      "outputs": []
    },
    {
      "cell_type": "code",
      "source": [
        "get_ipython().getoutput(\"ps -ef | grep mlflow\")"
      ],
      "metadata": {
        "colab": {
          "base_uri": "https://localhost:8080/"
        },
        "id": "3yQIM9OXcEyz",
        "outputId": "15022c28-7588-4cf6-c2c6-1085f1a0cd0e"
      },
      "execution_count": 66,
      "outputs": [
        {
          "output_type": "execute_result",
          "data": {
            "text/plain": [
              "['root        2107       1  0 19:16 ?        00:00:01 /usr/bin/python3 /usr/local/bin/mlflow ui --port',\n",
              " 'root       16998     147  0 20:18 ?        00:00:00 /bin/bash -c ps -ef | grep mlflow',\n",
              " 'root       17000   16998  0 20:18 ?        00:00:00 grep mlflow']"
            ]
          },
          "metadata": {},
          "execution_count": 66
        }
      ]
    },
    {
      "cell_type": "code",
      "source": [
        "sh = get_ipython()"
      ],
      "metadata": {
        "id": "6NzLNMDsd7dD"
      },
      "execution_count": 67,
      "outputs": []
    },
    {
      "cell_type": "code",
      "source": [
        "sh."
      ],
      "metadata": {
        "id": "99bwVJb1nnfO"
      },
      "execution_count": null,
      "outputs": []
    },
    {
      "cell_type": "code",
      "source": [
        "!ls -al"
      ],
      "metadata": {
        "colab": {
          "base_uri": "https://localhost:8080/"
        },
        "id": "o_lCb2uRn3gd",
        "outputId": "14152e54-ba5a-4887-8164-83ec7cfbd441"
      },
      "execution_count": 68,
      "outputs": [
        {
          "output_type": "stream",
          "name": "stdout",
          "text": [
            "total 20\n",
            "drwxr-xr-x 1 root root 4096 Apr 30 19:16 .\n",
            "drwxr-xr-x 1 root root 4096 Apr 30 19:08 ..\n",
            "drwxr-xr-x 4 root root 4096 Apr 29 13:24 .config\n",
            "drwxr-xr-x 5 root root 4096 Apr 30 19:16 mlruns\n",
            "drwxr-xr-x 1 root root 4096 Apr 29 13:25 sample_data\n"
          ]
        }
      ]
    },
    {
      "cell_type": "code",
      "source": [
        "lines = !ls -al\n",
        "lines"
      ],
      "metadata": {
        "colab": {
          "base_uri": "https://localhost:8080/"
        },
        "id": "z6MAWaLMeCzi",
        "outputId": "0ff75b59-74ee-46e3-ba65-61d247f908f5"
      },
      "execution_count": 60,
      "outputs": [
        {
          "output_type": "execute_result",
          "data": {
            "text/plain": [
              "['total 20',\n",
              " 'drwxr-xr-x 1 root root 4096 Apr 30 19:16 .',\n",
              " 'drwxr-xr-x 1 root root 4096 Apr 30 19:08 ..',\n",
              " 'drwxr-xr-x 4 root root 4096 Apr 29 13:24 .config',\n",
              " 'drwxr-xr-x 5 root root 4096 Apr 30 19:16 mlruns',\n",
              " 'drwxr-xr-x 1 root root 4096 Apr 29 13:25 sample_data']"
            ]
          },
          "metadata": {},
          "execution_count": 60
        }
      ]
    }
  ]
}