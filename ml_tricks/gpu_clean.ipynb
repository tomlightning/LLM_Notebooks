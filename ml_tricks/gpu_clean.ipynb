{
 "cells": [
  {
   "cell_type": "code",
   "execution_count": 2,
   "id": "41af2da2-5d45-453a-9835-73da241569cf",
   "metadata": {},
   "outputs": [],
   "source": [
    "import torch\n",
    "import gc\n"
   ]
  },
  {
   "cell_type": "markdown",
   "id": "4c29da24-21bf-4c39-8e81-9ed939c50ec7",
   "metadata": {},
   "source": [
    "### https://pytorch.org/docs/stable/notes/cuda.html#memory-management\n",
    "### https://pytorch.org/docs/stable/torch_cuda_memory.html#torch-cuda-memory"
   ]
  },
  {
   "cell_type": "markdown",
   "id": "63f4eacb-d1ac-4125-b592-97dc51cc0a2a",
   "metadata": {},
   "source": [
    "#### memory_reserved = allocated memory + pre-cached-memory \n",
    "\n",
    "#### torch.cuda.empty_cache()  will release all the GPU memory cache that can be freed. If after calling it, you still have some memory that is used, that means that you have a python variable (either torch Tensor or torch Variable) that reference it, and so it cannot be safely released as you can still access it."
   ]
  },
  {
   "cell_type": "code",
   "execution_count": 2,
   "id": "70428f48-8d73-48de-a1d6-2cc3f3426379",
   "metadata": {},
   "outputs": [
    {
     "name": "stdout",
     "output_type": "stream",
     "text": [
      "torch.cuda.memory_allocated: 0.000000GB\n",
      "torch.cuda.memory_reserved: 0.000000GB\n"
     ]
    }
   ],
   "source": [
    "print(\"torch.cuda.memory_allocated: %fGB\"%(torch.cuda.memory_allocated(0)/1024/1024/1024))\n",
    "print(\"torch.cuda.memory_reserved: %fGB\"%(torch.cuda.memory_reserved(0)/1024/1024/1024))\n",
    "# print(\"torch.cuda.max_memory_reserved: %fGB\"%(torch.cuda.max_memory_reserved(0)/1024/1024/1024))\n",
    "# print(\"torch.cuda.max_memory_allocated: %fGB\"%(torch.cuda.max_memory_allocated(0)/1024/1024/1024))"
   ]
  },
  {
   "cell_type": "code",
   "execution_count": 3,
   "id": "e6347266-053c-4305-8144-1ae1751e8646",
   "metadata": {},
   "outputs": [
    {
     "data": {
      "text/plain": [
       "'2.1.2+cu121'"
      ]
     },
     "execution_count": 3,
     "metadata": {},
     "output_type": "execute_result"
    }
   ],
   "source": [
    "# Default data type float 32\n",
    "torch.__version__"
   ]
  },
  {
   "cell_type": "code",
   "execution_count": 4,
   "id": "7f73e139-a170-47b4-a560-8badf92c3eb8",
   "metadata": {},
   "outputs": [],
   "source": [
    "x = torch.randn(1000, 1000).cuda()"
   ]
  },
  {
   "cell_type": "code",
   "execution_count": 5,
   "id": "30cac466-a69d-402f-80c6-a423cdaf0b6e",
   "metadata": {},
   "outputs": [
    {
     "data": {
      "text/plain": [
       "True"
      ]
     },
     "execution_count": 5,
     "metadata": {},
     "output_type": "execute_result"
    }
   ],
   "source": [
    "x.is_floating_point()"
   ]
  },
  {
   "cell_type": "code",
   "execution_count": 6,
   "id": "4b06d382-005b-4e23-8d5f-33b2d296f471",
   "metadata": {},
   "outputs": [
    {
     "data": {
      "text/plain": [
       "(4, 1000000)"
      ]
     },
     "execution_count": 6,
     "metadata": {},
     "output_type": "execute_result"
    }
   ],
   "source": [
    "x.element_size(), x.nelement()"
   ]
  },
  {
   "cell_type": "code",
   "execution_count": 7,
   "id": "374bc2d0-0b22-4d8a-9b24-1ce5756b15e5",
   "metadata": {},
   "outputs": [
    {
     "data": {
      "text/plain": [
       "0.003725290298461914"
      ]
     },
     "execution_count": 7,
     "metadata": {},
     "output_type": "execute_result"
    }
   ],
   "source": [
    "x.nelement() * x.element_size() /1024/1024/1024"
   ]
  },
  {
   "cell_type": "code",
   "execution_count": 9,
   "id": "56dead3a-2d26-4ea0-8560-8b71d40c78a6",
   "metadata": {},
   "outputs": [],
   "source": [
    "# Use the tensor\n",
    "y = x * 2"
   ]
  },
  {
   "cell_type": "code",
   "execution_count": 10,
   "id": "08e65dc0-421a-46d3-9e5b-a834ea961f70",
   "metadata": {},
   "outputs": [
    {
     "data": {
      "text/plain": [
       "(4, 1000000)"
      ]
     },
     "execution_count": 10,
     "metadata": {},
     "output_type": "execute_result"
    }
   ],
   "source": [
    "y.element_size(), y.nelement() "
   ]
  },
  {
   "cell_type": "code",
   "execution_count": 11,
   "id": "f17d3af1-c4a5-48d3-8901-3762eb0b56c5",
   "metadata": {},
   "outputs": [
    {
     "data": {
      "text/plain": [
       "0.003725290298461914"
      ]
     },
     "execution_count": 11,
     "metadata": {},
     "output_type": "execute_result"
    }
   ],
   "source": [
    "y.nelement() * y.element_size() /1024/1024/1024"
   ]
  },
  {
   "cell_type": "code",
   "execution_count": 12,
   "id": "0a354ba7-c4c8-45c7-97ca-415e0b6c5bd9",
   "metadata": {},
   "outputs": [
    {
     "data": {
      "text/plain": [
       "0.007450580596923828"
      ]
     },
     "execution_count": 12,
     "metadata": {},
     "output_type": "execute_result"
    }
   ],
   "source": [
    "(y.nelement() * y.element_size() /1024/1024/1024) + (x.nelement() * x.element_size() /1024/1024/1024)"
   ]
  },
  {
   "cell_type": "code",
   "execution_count": 13,
   "id": "c6d2e33e-333d-4013-8f29-9eeffe0de621",
   "metadata": {},
   "outputs": [
    {
     "name": "stdout",
     "output_type": "stream",
     "text": [
      "torch.cuda.memory_allocated: 0.007451GB\n",
      "torch.cuda.memory_reserved: 0.019531GB\n"
     ]
    }
   ],
   "source": [
    "print(\"torch.cuda.memory_allocated: %fGB\"%(torch.cuda.memory_allocated(0)/1024/1024/1024))\n",
    "print(\"torch.cuda.memory_reserved: %fGB\"%(torch.cuda.memory_reserved(0)/1024/1024/1024))"
   ]
  },
  {
   "cell_type": "code",
   "execution_count": 14,
   "id": "66492f4f-6fe2-4b22-8ee0-d58db3c48004",
   "metadata": {},
   "outputs": [
    {
     "data": {
      "text/plain": [
       "260"
      ]
     },
     "execution_count": 14,
     "metadata": {},
     "output_type": "execute_result"
    }
   ],
   "source": [
    "torch.cuda.empty_cache()\n",
    "gc.collect()"
   ]
  },
  {
   "cell_type": "code",
   "execution_count": 15,
   "id": "3253d1ec-2ff8-4dd5-bbf5-1f0b5ff9c39d",
   "metadata": {},
   "outputs": [
    {
     "name": "stdout",
     "output_type": "stream",
     "text": [
      "torch.cuda.memory_allocated: 0.007451GB\n",
      "torch.cuda.memory_reserved: 0.019531GB\n"
     ]
    }
   ],
   "source": [
    "print(\"torch.cuda.memory_allocated: %fGB\"%(torch.cuda.memory_allocated(0)/1024/1024/1024))\n",
    "print(\"torch.cuda.memory_reserved: %fGB\"%(torch.cuda.memory_reserved(0)/1024/1024/1024))\n"
   ]
  },
  {
   "cell_type": "code",
   "execution_count": 16,
   "id": "fb5eaf95-0a22-4b75-a45c-ba6ffc55b103",
   "metadata": {},
   "outputs": [
    {
     "data": {
      "text/plain": [
       "248"
      ]
     },
     "execution_count": 16,
     "metadata": {},
     "output_type": "execute_result"
    }
   ],
   "source": [
    "# delete variables\n",
    "del x \n",
    "del y\n",
    "torch.cuda.empty_cache()\n",
    "gc.collect()"
   ]
  },
  {
   "cell_type": "code",
   "execution_count": 17,
   "id": "a45b94b5-8c3f-49ca-a793-840445aa7cfa",
   "metadata": {},
   "outputs": [
    {
     "name": "stdout",
     "output_type": "stream",
     "text": [
      "torch.cuda.memory_allocated: 0.000000GB\n",
      "torch.cuda.memory_reserved: 0.000000GB\n"
     ]
    }
   ],
   "source": [
    "print(\"torch.cuda.memory_allocated: %fGB\"%(torch.cuda.memory_allocated(0)/1024/1024/1024))\n",
    "print(\"torch.cuda.memory_reserved: %fGB\"%(torch.cuda.memory_reserved(0)/1024/1024/1024))"
   ]
  },
  {
   "cell_type": "code",
   "execution_count": null,
   "id": "10cd9c94-d9ce-4299-b42d-be9237200470",
   "metadata": {},
   "outputs": [],
   "source": []
  },
  {
   "cell_type": "code",
   "execution_count": null,
   "id": "355089a4-755f-4f91-b948-4f680c31b475",
   "metadata": {},
   "outputs": [],
   "source": []
  }
 ],
 "metadata": {
  "kernelspec": {
   "display_name": "Python 3 (ipykernel)",
   "language": "python",
   "name": "python3"
  },
  "language_info": {
   "codemirror_mode": {
    "name": "ipython",
    "version": 3
   },
   "file_extension": ".py",
   "mimetype": "text/x-python",
   "name": "python",
   "nbconvert_exporter": "python",
   "pygments_lexer": "ipython3",
   "version": "3.10.13"
  }
 },
 "nbformat": 4,
 "nbformat_minor": 5
}
