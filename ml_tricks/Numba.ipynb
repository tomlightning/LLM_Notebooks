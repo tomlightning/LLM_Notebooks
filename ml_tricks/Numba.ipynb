{
 "cells": [
  {
   "cell_type": "code",
   "execution_count": 1,
   "id": "699792a0-75e0-48cb-81d1-33b5f1e98d30",
   "metadata": {},
   "outputs": [],
   "source": [
    "def find_all_primes_cpu(upper):\n",
    "    all_prime_numbers = []\n",
    "    for num in range(0, upper):\n",
    "        prime = True\n",
    "        for i in range(2, (num // 2) + 1):\n",
    "            if (num % i) == 0:\n",
    "                prime = False\n",
    "                break\n",
    "        if prime:\n",
    "            all_prime_numbers.append(num)\n",
    "    return all_prime_numbers"
   ]
  },
  {
   "cell_type": "code",
   "execution_count": 2,
   "id": "cf547d7c-8332-441d-8704-16a5f8b958ec",
   "metadata": {},
   "outputs": [
    {
     "name": "stdout",
     "output_type": "stream",
     "text": [
      "246 ms ± 0 ns per loop (mean ± std. dev. of 1 run, 10 loops each)\n"
     ]
    }
   ],
   "source": [
    "%timeit -n 10 -r 1 find_all_primes_cpu(10_000)"
   ]
  },
  {
   "cell_type": "code",
   "execution_count": 3,
   "id": "45d89544-fe6a-468f-b1a5-85ee39ddd458",
   "metadata": {},
   "outputs": [
    {
     "name": "stdout",
     "output_type": "stream",
     "text": [
      "91.3 ms ± 0 ns per loop (mean ± std. dev. of 1 run, 10 loops each)\n"
     ]
    }
   ],
   "source": [
    "from numba import jit\n",
    "\n",
    "@jit(nopython=True)\n",
    "def find_all_primes_cpu(upper):\n",
    "    all_prime_numbers = []\n",
    "    for num in range(0, upper):\n",
    "        prime = True\n",
    "        for i in range(2, (num // 2) + 1):\n",
    "            if (num % i) == 0:\n",
    "                prime = False\n",
    "                break\n",
    "        if prime:\n",
    "            all_prime_numbers.append(num)\n",
    "    return all_prime_numbers\n",
    "\n",
    "%timeit -n 10 -r 1 find_all_primes_cpu(10_000)"
   ]
  },
  {
   "cell_type": "code",
   "execution_count": 4,
   "id": "44932596-377e-4ace-a591-e8d31da29238",
   "metadata": {},
   "outputs": [],
   "source": [
    "from numba import cuda\n",
    "\n",
    "@cuda.jit\n",
    "def check_prime_gpu_kernel(num, result):\n",
    "   result[0] =  num\n",
    "   for i in range(2, (num // 2) + 1):\n",
    "       if (num % i) == 0:\n",
    "           result[0] = 0\n",
    "           break"
   ]
  },
  {
   "cell_type": "code",
   "execution_count": 5,
   "id": "73b3b07a-3141-4ff7-be47-da6da6bd8ed9",
   "metadata": {},
   "outputs": [
    {
     "name": "stderr",
     "output_type": "stream",
     "text": [
      "/home/olonok/.local/lib/python3.11/site-packages/numba/cuda/dispatcher.py:536: NumbaPerformanceWarning: Grid size 1 will likely result in GPU under-utilization due to low occupancy.\n",
      "  warn(NumbaPerformanceWarning(msg))\n"
     ]
    },
    {
     "name": "stdout",
     "output_type": "stream",
     "text": [
      "11\n",
      "0\n"
     ]
    },
    {
     "name": "stderr",
     "output_type": "stream",
     "text": [
      "/home/olonok/.local/lib/python3.11/site-packages/numba/cuda/cudadrv/devicearray.py:886: NumbaPerformanceWarning: Host array used in CUDA kernel will incur copy overhead to/from device.\n",
      "  warn(NumbaPerformanceWarning(msg))\n"
     ]
    }
   ],
   "source": [
    "import numpy as np\n",
    "\n",
    "result = np.zeros((1), np.int32)\n",
    "check_prime_gpu_kernel[1, 1](11, result)\n",
    "print(result[0])\n",
    "check_prime_gpu_kernel[1, 1](12, result)\n",
    "print(result[0])"
   ]
  },
  {
   "cell_type": "code",
   "execution_count": 6,
   "id": "5d7ee0ff-f277-446d-ab33-9d2dd2e041b5",
   "metadata": {},
   "outputs": [
    {
     "name": "stdout",
     "output_type": "stream",
     "text": [
      "14.5 s ± 0 ns per loop (mean ± std. dev. of 1 run, 10 loops each)\n"
     ]
    }
   ],
   "source": [
    "def find_all_primes_cpu_and_gpu(upper):\n",
    "    all_prime_numbers = []\n",
    "    for num in range(0, upper):\n",
    "        result = np.zeros((1), np.int32)\n",
    "        check_prime_gpu_kernel[1,1](num, result)\n",
    "        if result[0] != 0:\n",
    "            all_prime_numbers.append(num)\n",
    "    return all_prime_numbers\n",
    "   \n",
    "%timeit -n 10 -r 1 find_all_primes_cpu_and_gpu(10_000)"
   ]
  },
  {
   "cell_type": "code",
   "execution_count": 7,
   "id": "50339d5d-2a80-4dab-9e57-782df4078672",
   "metadata": {},
   "outputs": [],
   "source": [
    "numbers = np.arange(0, 10_000, dtype=np.int32)"
   ]
  },
  {
   "cell_type": "code",
   "execution_count": 8,
   "id": "ebb985e8-d762-4ee9-9d89-14160cabfdf7",
   "metadata": {},
   "outputs": [],
   "source": [
    "import numba as nb\n",
    "\n",
    "@nb.vectorize(['int32(int32)'], target='cuda')\n",
    "def check_prime_gpu(num):\n",
    "    for i in range(2, (num // 2) + 1):\n",
    "       if (num % i) == 0:\n",
    "           return 0\n",
    "    return num"
   ]
  },
  {
   "cell_type": "code",
   "execution_count": 9,
   "id": "bbce8657-ebe7-45d6-bf81-ee7c70eeeb4b",
   "metadata": {},
   "outputs": [
    {
     "name": "stdout",
     "output_type": "stream",
     "text": [
      "56.6 ms ± 0 ns per loop (mean ± std. dev. of 1 run, 10 loops each)\n"
     ]
    },
    {
     "name": "stderr",
     "output_type": "stream",
     "text": [
      "/home/olonok/.local/lib/python3.11/site-packages/numba/cuda/dispatcher.py:536: NumbaPerformanceWarning: Grid size 10 will likely result in GPU under-utilization due to low occupancy.\n",
      "  warn(NumbaPerformanceWarning(msg))\n"
     ]
    }
   ],
   "source": [
    "%timeit -n 10 -r 1 check_prime_gpu(numbers)"
   ]
  },
  {
   "cell_type": "code",
   "execution_count": null,
   "id": "80ff9b8c-73ba-41c4-abe6-950595626241",
   "metadata": {},
   "outputs": [],
   "source": []
  }
 ],
 "metadata": {
  "kernelspec": {
   "display_name": "Python (numba)",
   "language": "python",
   "name": "numba"
  },
  "language_info": {
   "codemirror_mode": {
    "name": "ipython",
    "version": 3
   },
   "file_extension": ".py",
   "mimetype": "text/x-python",
   "name": "python",
   "nbconvert_exporter": "python",
   "pygments_lexer": "ipython3",
   "version": "3.11.7"
  }
 },
 "nbformat": 4,
 "nbformat_minor": 5
}
