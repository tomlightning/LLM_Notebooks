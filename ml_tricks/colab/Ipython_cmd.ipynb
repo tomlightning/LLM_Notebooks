{
  "metadata": {
    "kernelspec": {
      "language": "python",
      "display_name": "Python 3",
      "name": "python3"
    },
    "language_info": {
      "name": "python",
      "version": "3.10.13",
      "mimetype": "text/x-python",
      "codemirror_mode": {
        "name": "ipython",
        "version": 3
      },
      "pygments_lexer": "ipython3",
      "nbconvert_exporter": "python",
      "file_extension": ".py"
    },
    "kaggle": {
      "accelerator": "none",
      "dataSources": [],
      "dockerImageVersionId": 30698,
      "isInternetEnabled": true,
      "language": "python",
      "sourceType": "notebook",
      "isGpuEnabled": false
    },
    "colab": {
      "provenance": [],
      "include_colab_link": true
    }
  },
  "nbformat_minor": 0,
  "nbformat": 4,
  "cells": [
    {
      "cell_type": "markdown",
      "metadata": {
        "id": "view-in-github",
        "colab_type": "text"
      },
      "source": [
        "<a href=\"https://colab.research.google.com/github/olonok69/LLM_Notebooks/blob/main/ml_tricks/colab/Ipython_cmd.ipynb\" target=\"_parent\"><img src=\"https://colab.research.google.com/assets/colab-badge.svg\" alt=\"Open In Colab\"/></a>"
      ]
    },
    {
      "cell_type": "code",
      "source": [
        "# pip install ipython\n",
        "# https://ipython.readthedocs.io/en/stable/"
      ],
      "metadata": {
        "id": "3OlbGh11jzKp"
      },
      "execution_count": null,
      "outputs": []
    },
    {
      "cell_type": "code",
      "source": [
        "\n",
        "get_ipython().system_raw(\"mkdir test\")\n"
      ],
      "metadata": {
        "execution": {
          "iopub.status.busy": "2024-05-18T16:30:43.66483Z",
          "iopub.execute_input": "2024-05-18T16:30:43.665263Z",
          "iopub.status.idle": "2024-05-18T16:30:43.70549Z",
          "shell.execute_reply.started": "2024-05-18T16:30:43.665231Z",
          "shell.execute_reply": "2024-05-18T16:30:43.704296Z"
        },
        "trusted": true,
        "id": "EFd2tEvey0M1"
      },
      "execution_count": 17,
      "outputs": []
    },
    {
      "cell_type": "code",
      "source": [
        "get_ipython().getoutput(\"ls -l\")"
      ],
      "metadata": {
        "colab": {
          "base_uri": "https://localhost:8080/"
        },
        "id": "LUa1BDM5AUHZ",
        "outputId": "8fcbe049-564a-4812-fb1c-e4d72a6a50c9"
      },
      "execution_count": 18,
      "outputs": [
        {
          "output_type": "execute_result",
          "data": {
            "text/plain": [
              "['total 8',\n",
              " 'drwxr-xr-x 1 root root 4096 May 21 13:23 sample_data',\n",
              " 'drwxr-xr-x 2 root root 4096 May 22 18:38 test']"
            ]
          },
          "metadata": {},
          "execution_count": 18
        }
      ]
    },
    {
      "cell_type": "code",
      "source": [
        "from IPython.terminal.embed import InteractiveShellEmbed\n",
        "\n",
        "ipshell = InteractiveShellEmbed()\n",
        "ipshell.dummy_mode = True\n",
        "ipshell.magic(\"%timeit abs(-42)\");\n",
        "ipshell()\n"
      ],
      "metadata": {
        "execution": {
          "iopub.status.busy": "2024-05-18T16:30:58.377466Z",
          "iopub.execute_input": "2024-05-18T16:30:58.378443Z",
          "iopub.status.idle": "2024-05-18T16:30:59.557794Z",
          "shell.execute_reply.started": "2024-05-18T16:30:58.378404Z",
          "shell.execute_reply": "2024-05-18T16:30:59.556748Z"
        },
        "trusted": true,
        "id": "4peJ5P4ry0M1",
        "colab": {
          "base_uri": "https://localhost:8080/"
        },
        "outputId": "0407c15c-5256-449f-fdfc-d4ad77f54226"
      },
      "execution_count": 19,
      "outputs": [
        {
          "output_type": "stream",
          "name": "stdout",
          "text": [
            "65.5 ns ± 9.67 ns per loop (mean ± std. dev. of 7 runs, 10000000 loops each)\n"
          ]
        }
      ]
    },
    {
      "cell_type": "code",
      "source": [
        "from IPython.terminal.embed import InteractiveShellEmbed\n",
        "my_shell = InteractiveShellEmbed()\n",
        "result = my_shell.getoutput(\"ls -l\")\n",
        "print(result)"
      ],
      "metadata": {
        "colab": {
          "base_uri": "https://localhost:8080/"
        },
        "id": "_OqukTCk0hrZ",
        "outputId": "f362ab16-cb0d-4323-dbe0-b2a380acc02c"
      },
      "execution_count": 20,
      "outputs": [
        {
          "output_type": "stream",
          "name": "stdout",
          "text": [
            "['total 8', 'drwxr-xr-x 1 root root 4096 May 21 13:23 sample_data', 'drwxr-xr-x 2 root root 4096 May 22 18:38 test']\n"
          ]
        }
      ]
    },
    {
      "cell_type": "code",
      "source": [
        "get_ipython().config"
      ],
      "metadata": {
        "colab": {
          "base_uri": "https://localhost:8080/"
        },
        "id": "VwQAYz133ffX",
        "outputId": "f96d590a-22b9-4c26-cb56-ad98c352352f"
      },
      "execution_count": 21,
      "outputs": [
        {
          "output_type": "execute_result",
          "data": {
            "text/plain": [
              "{'ColabKernelApp': {'connection_file': '/root/.local/share/jupyter/runtime/kernel-015c821e-0054-4874-97d1-fee3570d0491.json'},\n",
              " 'IPKernelApp': {'kernel_class': 'google.colab._kernel.Kernel'},\n",
              " 'Completer': {'use_jedi': False},\n",
              " 'InteractiveShellApp': {'extensions': ['google.colab'],\n",
              "  'reraise_ipython_extension_failures': True,\n",
              "  'exec_lines': ['__import__(\"logging\").basicConfig()',\n",
              "   '__import__(\"logging\").getLogger(\"google.auth._default\").setLevel(40)',\n",
              "   '__import__(\"logging\").getLogger(\"googleapiclient.discovery_cache\").setLevel(40)'],\n",
              "  'matplotlib': 'inline'},\n",
              " 'HistoryManager': {'hist_file': ':memory:'}}"
            ]
          },
          "metadata": {},
          "execution_count": 21
        }
      ]
    }
  ]
}