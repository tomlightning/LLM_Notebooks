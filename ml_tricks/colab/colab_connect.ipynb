{
  "nbformat": 4,
  "nbformat_minor": 0,
  "metadata": {
    "colab": {
      "provenance": [],
      "gpuType": "T4",
      "authorship_tag": "ABX9TyOf2U2/3Hyn+V7F40wT8aTh",
      "include_colab_link": true
    },
    "kernelspec": {
      "name": "python3",
      "display_name": "Python 3"
    },
    "language_info": {
      "name": "python"
    },
    "accelerator": "GPU"
  },
  "cells": [
    {
      "cell_type": "markdown",
      "metadata": {
        "id": "view-in-github",
        "colab_type": "text"
      },
      "source": [
        "<a href=\"https://colab.research.google.com/github/olonok69/LLM_Notebooks/blob/main/ml_tricks/colab/colab_connect.ipynb\" target=\"_parent\"><img src=\"https://colab.research.google.com/assets/colab-badge.svg\" alt=\"Open In Colab\"/></a>"
      ]
    },
    {
      "cell_type": "markdown",
      "source": [
        "# All credits to amitness\n",
        "\n",
        "https://github.com/amitness/colab-connect?tab=readme-ov-file\n",
        "\n",
        "!!! wanring read the https://research.google.com/colaboratory/faq.html#limitations-and-restrictions , if you are using google colab free edition\n",
        "\n",
        "\n"
      ],
      "metadata": {
        "id": "TmFnaKlVoutV"
      }
    },
    {
      "cell_type": "code",
      "execution_count": 1,
      "metadata": {
        "colab": {
          "base_uri": "https://localhost:8080/"
        },
        "id": "bp51BQlMOTmf",
        "outputId": "7c59b416-74f1-424c-f837-1724f6b86614"
      },
      "outputs": [
        {
          "output_type": "stream",
          "name": "stdout",
          "text": [
            "Collecting git+https://github.com/amitness/colab-connect.git\n",
            "  Cloning https://github.com/amitness/colab-connect.git to /tmp/pip-req-build-xcje3svi\n",
            "  Running command git clone --filter=blob:none --quiet https://github.com/amitness/colab-connect.git /tmp/pip-req-build-xcje3svi\n",
            "  Resolved https://github.com/amitness/colab-connect.git to commit 1aae94940bb5e85af9a33586573342eab9ee3e0a\n",
            "  Preparing metadata (setup.py) ... \u001b[?25l\u001b[?25hdone\n",
            "Building wheels for collected packages: colabconnect\n",
            "  Building wheel for colabconnect (setup.py) ... \u001b[?25l\u001b[?25hdone\n",
            "  Created wheel for colabconnect: filename=colabconnect-0.0.8-py3-none-any.whl size=4548 sha256=83ced4706d8313ff8353b76426e8bf38ac6b2d0be41c0acfb2bc36a0fb1fc423\n",
            "  Stored in directory: /tmp/pip-ephem-wheel-cache-dy1165m1/wheels/03/ec/01/2b45a7fb6312f3580ad2f4e0e218bf82de5445dc3ee3bca9ba\n",
            "Successfully built colabconnect\n",
            "Installing collected packages: colabconnect\n",
            "Successfully installed colabconnect-0.0.8\n"
          ]
        }
      ],
      "source": [
        "!pip install -U git+https://github.com/amitness/colab-connect.git"
      ]
    },
    {
      "cell_type": "code",
      "source": [
        "from colabconnect import colabconnect\n",
        "\n",
        "colabconnect()"
      ],
      "metadata": {
        "colab": {
          "base_uri": "https://localhost:8080/"
        },
        "id": "Baq8c5gmO6RP",
        "outputId": "d902a4b6-5d5a-4d5a-cc54-0782d42a4b23"
      },
      "execution_count": null,
      "outputs": [
        {
          "output_type": "stream",
          "name": "stdout",
          "text": [
            "Mounting Google Drive...\n",
            "Mounted at /content/drive\n",
            "Ran: ln -s /content/drive/MyDrive/colab/ /\n",
            "Installing python libraries...\n",
            "Ran: pip3 install --user flake8 black ipywidgets twine\n",
            "Ran: pip3 install -U ipykernel\n",
            "Ran: apt install htop -y\n",
            "Installing vscode-cli...\n",
            "Ran: curl -Lk https://code.visualstudio.com/sha/download?build=stable&os=cli-alpine-x64 --output vscode_cli.tar.gz\n",
            "Ran: tar -xf vscode_cli.tar.gz\n",
            "Starting the tunnel\n",
            "To grant access to the server, please log into https://github.com/login/device and use code E61E-C1E5\n",
            "Starting the tunnel\n",
            "- Ready!\n",
            "- Open VSCode on your laptop and open the command prompt\n",
            "- Select: 'Remote-Tunnels: Connect to Tunnel' to connect to colab\n",
            "Logs:\n",
            "\n",
            "[2024-03-16 10:09:10] info [tunnels::connections::relay_tunnel_host] Opened new client on channel 2\n",
            "[2024-03-16 10:09:10] info [russh::server] wrote id\n",
            "[2024-03-16 10:09:10] info [russh::server] read other id\n",
            "[2024-03-16 10:09:10] info [russh::server] session is running\n",
            "[2024-03-16 10:09:12] info [rpc.0] Checking /root/.vscode/cli/servers/Stable-863d2581ecda6849923a2118d93a088b0745d9d6/log.txt and /root/.vscode/cli/servers/Stable-863d2581ecda6849923a2118d93a088b0745d9d6/pid.txt for a running server...\n",
            "[2024-03-16 10:09:12] info [rpc.0] Downloading Visual Studio Code server -> /tmp/.tmp7yDqYs/vscode-server-linux-x64.tar.gz\n",
            "[2024-03-16 10:09:15] info [rpc.0] Starting server...\n",
            "[2024-03-16 10:09:15] info [rpc.0] Server started\n",
            "[2024-03-16 10:09:20] info [tunnels::connections::relay_tunnel_host] Opened new client on channel 3\n",
            "[2024-03-16 10:09:20] info [russh::server] wrote id\n",
            "[2024-03-16 10:09:20] info [tunnels::connections::relay_tunnel_host] Opened new client on channel 4\n",
            "[2024-03-16 10:09:20] info [russh::server] wrote id\n",
            "[2024-03-16 10:09:20] info [russh::server] read other id\n",
            "[2024-03-16 10:09:20] info [russh::server] session is running\n",
            "[2024-03-16 10:09:20] info [russh::server] read other id\n",
            "[2024-03-16 10:09:20] info [russh::server] session is running\n",
            "[2024-03-16 10:09:36] info [rpc.3] Disposed of connection to running server.\n",
            "[2024-03-16 10:09:36] info [rpc.2] Disposed of connection to running server.\n",
            "[2024-03-16 10:09:39] info [rpc.0] Disposed of connection to running server.\n",
            "[2024-03-16 10:09:41] info [tunnels::connections::relay_tunnel_host] Opened new client on channel 5\n",
            "[2024-03-16 10:09:41] info [russh::server] wrote id\n",
            "[2024-03-16 10:09:41] info [russh::server] read other id\n",
            "[2024-03-16 10:09:41] info [russh::server] session is running\n",
            "[2024-03-16 10:09:43] info [rpc.4] Checking /root/.vscode/cli/servers/Stable-863d2581ecda6849923a2118d93a088b0745d9d6/log.txt and /root/.vscode/cli/servers/Stable-863d2581ecda6849923a2118d93a088b0745d9d6/pid.txt for a running server...\n",
            "[2024-03-16 10:09:43] info [rpc.4] Found running server (pid=3726)\n",
            "[2024-03-16 10:09:54] info [tunnels::connections::relay_tunnel_host] Opened new client on channel 6\n",
            "[2024-03-16 10:09:54] info [russh::server] wrote id\n",
            "[2024-03-16 10:09:54] info [tunnels::connections::relay_tunnel_host] Opened new client on channel 7\n",
            "[2024-03-16 10:09:54] info [russh::server] wrote id\n",
            "[2024-03-16 10:09:54] info [russh::server] read other id\n",
            "[2024-03-16 10:09:54] info [russh::server] session is running\n",
            "[2024-03-16 10:09:54] info [russh::server] read other id\n",
            "[2024-03-16 10:09:54] info [russh::server] session is running\n",
            "[2024-03-16 10:11:33] info [rpc.6] Disposed of connection to running server.\n",
            "[2024-03-16 10:11:33] info [rpc.5] Disposed of connection to running server.\n"
          ]
        }
      ]
    }
  ]
}