{
  "nbformat": 4,
  "nbformat_minor": 0,
  "metadata": {
    "colab": {
      "provenance": [],
      "gpuType": "T4",
      "authorship_tag": "ABX9TyOf2U2/3Hyn+V7F40wT8aTh",
      "include_colab_link": true
    },
    "kernelspec": {
      "name": "python3",
      "display_name": "Python 3"
    },
    "language_info": {
      "name": "python"
    },
    "accelerator": "GPU"
  },
  "cells": [
    {
      "cell_type": "markdown",
      "metadata": {
        "id": "view-in-github",
        "colab_type": "text"
      },
      "source": [
        "<a href=\"https://colab.research.google.com/github/olonok69/LLM_Notebooks/blob/main/ml_tricks/colab/colab_connect.ipynb\" target=\"_parent\"><img src=\"https://colab.research.google.com/assets/colab-badge.svg\" alt=\"Open In Colab\"/></a>"
      ]
    },
    {
      "cell_type": "markdown",
      "source": [
        "# All credits to amitness\n",
        "\n",
        "https://github.com/amitness/colab-connect?tab=readme-ov-file\n",
        "\n",
        "!!! wanring read the https://research.google.com/colaboratory/faq.html#limitations-and-restrictions , if you are using google colab free edition\n",
        "\n",
        "\n"
      ],
      "metadata": {
        "id": "TmFnaKlVoutV"
      }
    },
    {
      "cell_type": "code",
      "execution_count": 1,
      "metadata": {
        "colab": {
          "base_uri": "https://localhost:8080/"
        },
        "id": "bp51BQlMOTmf",
        "outputId": "90620e4a-0fdb-4c33-da3f-87a20abfb332"
      },
      "outputs": [
        {
          "output_type": "stream",
          "name": "stdout",
          "text": [
            "Collecting git+https://github.com/amitness/colab-connect.git\n",
            "  Cloning https://github.com/amitness/colab-connect.git to /tmp/pip-req-build-q2eq0wya\n",
            "  Running command git clone --filter=blob:none --quiet https://github.com/amitness/colab-connect.git /tmp/pip-req-build-q2eq0wya\n",
            "  Resolved https://github.com/amitness/colab-connect.git to commit 1aae94940bb5e85af9a33586573342eab9ee3e0a\n",
            "  Preparing metadata (setup.py) ... \u001b[?25l\u001b[?25hdone\n",
            "Building wheels for collected packages: colabconnect\n",
            "  Building wheel for colabconnect (setup.py) ... \u001b[?25l\u001b[?25hdone\n",
            "  Created wheel for colabconnect: filename=colabconnect-0.0.8-py3-none-any.whl size=4548 sha256=7df5b1bdb4f0621fa180d6886acebf8260e04bdf5e9e89bc5e846da4b98bc399\n",
            "  Stored in directory: /tmp/pip-ephem-wheel-cache-x7hi47gj/wheels/03/ec/01/2b45a7fb6312f3580ad2f4e0e218bf82de5445dc3ee3bca9ba\n",
            "Successfully built colabconnect\n",
            "Installing collected packages: colabconnect\n",
            "Successfully installed colabconnect-0.0.8\n"
          ]
        }
      ],
      "source": [
        "!pip install -U git+https://github.com/amitness/colab-connect.git"
      ]
    },
    {
      "cell_type": "code",
      "source": [
        "from colabconnect import colabconnect\n",
        "\n",
        "colabconnect()"
      ],
      "metadata": {
        "colab": {
          "base_uri": "https://localhost:8080/",
          "height": 1000
        },
        "id": "Baq8c5gmO6RP",
        "outputId": "54a2808a-a488-4400-e362-384adf02a646"
      },
      "execution_count": 2,
      "outputs": [
        {
          "output_type": "stream",
          "name": "stdout",
          "text": [
            "Mounting Google Drive...\n",
            "Mounted at /content/drive\n",
            "Ran: ln -s /content/drive/MyDrive/colab/ /\n",
            "Installing python libraries...\n",
            "Ran: pip3 install --user flake8 black ipywidgets twine\n",
            "Ran: pip3 install -U ipykernel\n",
            "Ran: apt install htop -y\n",
            "Installing vscode-cli...\n",
            "Ran: curl -Lk https://code.visualstudio.com/sha/download?build=stable&os=cli-alpine-x64 --output vscode_cli.tar.gz\n",
            "Ran: tar -xf vscode_cli.tar.gz\n",
            "Starting the tunnel\n",
            "To grant access to the server, please log into https://github.com/login/device and use code 7E5B-5810\n",
            "Starting the tunnel\n",
            "- Ready!\n",
            "- Open VSCode on your laptop and open the command prompt\n",
            "- Select: 'Remote-Tunnels: Connect to Tunnel' to connect to colab\n",
            "Logs:\n",
            "\n",
            "[2024-03-16 07:52:22] info [tunnels::connections::relay_tunnel_host] Opened new client on channel 2\n",
            "[2024-03-16 07:52:22] info [russh::server] wrote id\n",
            "[2024-03-16 07:52:22] info [russh::server] read other id\n",
            "[2024-03-16 07:52:22] info [russh::server] session is running\n",
            "[2024-03-16 07:52:25] info [rpc.0] Checking /root/.vscode/cli/servers/Stable-863d2581ecda6849923a2118d93a088b0745d9d6/log.txt and /root/.vscode/cli/servers/Stable-863d2581ecda6849923a2118d93a088b0745d9d6/pid.txt for a running server...\n",
            "[2024-03-16 07:52:26] info [rpc.0] Downloading Visual Studio Code server -> /tmp/.tmpPqFJj0/vscode-server-linux-x64.tar.gz\n",
            "[2024-03-16 07:52:28] info [rpc.0] Starting server...\n",
            "[2024-03-16 07:52:28] info [rpc.0] Server started\n",
            "[2024-03-16 07:52:34] info [tunnels::connections::relay_tunnel_host] Opened new client on channel 3\n",
            "[2024-03-16 07:52:34] info [russh::server] wrote id\n",
            "[2024-03-16 07:52:34] info [tunnels::connections::relay_tunnel_host] Opened new client on channel 4\n",
            "[2024-03-16 07:52:34] info [russh::server] wrote id\n",
            "[2024-03-16 07:52:34] info [russh::server] read other id\n",
            "[2024-03-16 07:52:34] info [russh::server] session is running\n",
            "[2024-03-16 07:52:34] info [russh::server] read other id\n",
            "[2024-03-16 07:52:34] info [russh::server] session is running\n",
            "[2024-03-16 07:53:06] info [rpc.2] Disposed of connection to running server.\n",
            "[2024-03-16 07:53:06] info [rpc.3] Disposed of connection to running server.\n",
            "[2024-03-16 07:53:09] info [rpc.0] Disposed of connection to running server.\n",
            "[2024-03-16 07:53:13] info [tunnels::connections::relay_tunnel_host] Opened new client on channel 5\n",
            "[2024-03-16 07:53:13] info [russh::server] wrote id\n",
            "[2024-03-16 07:53:13] info [russh::server] read other id\n",
            "[2024-03-16 07:53:13] info [russh::server] session is running\n",
            "[2024-03-16 07:53:16] info [rpc.4] Checking /root/.vscode/cli/servers/Stable-863d2581ecda6849923a2118d93a088b0745d9d6/log.txt and /root/.vscode/cli/servers/Stable-863d2581ecda6849923a2118d93a088b0745d9d6/pid.txt for a running server...\n",
            "[2024-03-16 07:53:16] info [rpc.4] Found running server (pid=2410)\n",
            "[2024-03-16 07:53:28] info [tunnels::connections::relay_tunnel_host] Opened new client on channel 6\n",
            "[2024-03-16 07:53:28] info [russh::server] wrote id\n",
            "[2024-03-16 07:53:28] info [tunnels::connections::relay_tunnel_host] Opened new client on channel 7\n",
            "[2024-03-16 07:53:28] info [russh::server] wrote id\n",
            "[2024-03-16 07:53:28] info [russh::server] read other id\n",
            "[2024-03-16 07:53:28] info [russh::server] session is running\n",
            "[2024-03-16 07:53:28] info [russh::server] read other id\n",
            "[2024-03-16 07:53:28] info [russh::server] session is running\n",
            "[2024-03-16 07:54:48] info [rpc.6] Disposed of connection to running server.\n",
            "[2024-03-16 07:54:48] info [rpc.5] Disposed of connection to running server.\n",
            "[2024-03-16 07:55:18] info [rpc.4] Disposed of connection to running server.\n",
            "[2024-03-16 07:55:59] info [tunnels::connections::relay_tunnel_host] Opened new client on channel 8\n",
            "[2024-03-16 07:55:59] info [russh::server] wrote id\n",
            "[2024-03-16 07:56:00] info [russh::server] read other id\n",
            "[2024-03-16 07:56:00] info [russh::server] session is running\n",
            "[2024-03-16 07:56:02] info [rpc.7] Checking /root/.vscode/cli/servers/Stable-863d2581ecda6849923a2118d93a088b0745d9d6/log.txt and /root/.vscode/cli/servers/Stable-863d2581ecda6849923a2118d93a088b0745d9d6/pid.txt for a running server...\n",
            "[2024-03-16 07:56:02] info [rpc.7] Found running server (pid=2410)\n",
            "[2024-03-16 07:56:15] info [tunnels::connections::relay_tunnel_host] Opened new client on channel 9\n",
            "[2024-03-16 07:56:15] info [russh::server] wrote id\n",
            "[2024-03-16 07:56:15] info [tunnels::connections::relay_tunnel_host] Opened new client on channel 10\n",
            "[2024-03-16 07:56:15] info [russh::server] wrote id\n",
            "[2024-03-16 07:56:15] info [russh::server] read other id\n",
            "[2024-03-16 07:56:15] info [russh::server] session is running\n",
            "[2024-03-16 07:56:15] info [russh::server] read other id\n",
            "[2024-03-16 07:56:15] info [russh::server] session is running\n",
            "[2024-03-16 07:56:19] info [rpc.7] Forwarding port 3453\n"
          ]
        },
        {
          "output_type": "error",
          "ename": "KeyboardInterrupt",
          "evalue": "",
          "traceback": [
            "\u001b[0;31m---------------------------------------------------------------------------\u001b[0m",
            "\u001b[0;31mKeyboardInterrupt\u001b[0m                         Traceback (most recent call last)",
            "\u001b[0;32m<ipython-input-2-134093743d1a>\u001b[0m in \u001b[0;36m<cell line: 3>\u001b[0;34m()\u001b[0m\n\u001b[1;32m      1\u001b[0m \u001b[0;32mfrom\u001b[0m \u001b[0mcolabconnect\u001b[0m \u001b[0;32mimport\u001b[0m \u001b[0mcolabconnect\u001b[0m\u001b[0;34m\u001b[0m\u001b[0;34m\u001b[0m\u001b[0m\n\u001b[1;32m      2\u001b[0m \u001b[0;34m\u001b[0m\u001b[0m\n\u001b[0;32m----> 3\u001b[0;31m \u001b[0mcolabconnect\u001b[0m\u001b[0;34m(\u001b[0m\u001b[0;34m)\u001b[0m\u001b[0;34m\u001b[0m\u001b[0;34m\u001b[0m\u001b[0m\n\u001b[0m",
            "\u001b[0;32m/usr/local/lib/python3.10/dist-packages/colabconnect/colabconnect.py\u001b[0m in \u001b[0;36mcolabconnect\u001b[0;34m()\u001b[0m\n\u001b[1;32m     70\u001b[0m \u001b[0;34m\u001b[0m\u001b[0m\n\u001b[1;32m     71\u001b[0m     \u001b[0mprint\u001b[0m\u001b[0;34m(\u001b[0m\u001b[0;34m\"Starting the tunnel\"\u001b[0m\u001b[0;34m)\u001b[0m\u001b[0;34m\u001b[0m\u001b[0;34m\u001b[0m\u001b[0m\n\u001b[0;32m---> 72\u001b[0;31m     \u001b[0mstart_tunnel\u001b[0m\u001b[0;34m(\u001b[0m\u001b[0;34m)\u001b[0m\u001b[0;34m\u001b[0m\u001b[0;34m\u001b[0m\u001b[0m\n\u001b[0m",
            "\u001b[0;32m/usr/local/lib/python3.10/dist-packages/colabconnect/colabconnect.py\u001b[0m in \u001b[0;36mstart_tunnel\u001b[0;34m()\u001b[0m\n\u001b[1;32m     20\u001b[0m     \u001b[0mshow_outputs\u001b[0m \u001b[0;34m=\u001b[0m \u001b[0;32mFalse\u001b[0m\u001b[0;34m\u001b[0m\u001b[0;34m\u001b[0m\u001b[0m\n\u001b[1;32m     21\u001b[0m     \u001b[0;32mwhile\u001b[0m \u001b[0;32mTrue\u001b[0m\u001b[0;34m:\u001b[0m\u001b[0;34m\u001b[0m\u001b[0;34m\u001b[0m\u001b[0m\n\u001b[0;32m---> 22\u001b[0;31m         \u001b[0mline\u001b[0m \u001b[0;34m=\u001b[0m \u001b[0mp\u001b[0m\u001b[0;34m.\u001b[0m\u001b[0mstdout\u001b[0m\u001b[0;34m.\u001b[0m\u001b[0mreadline\u001b[0m\u001b[0;34m(\u001b[0m\u001b[0;34m)\u001b[0m\u001b[0;34m.\u001b[0m\u001b[0mdecode\u001b[0m\u001b[0;34m(\u001b[0m\u001b[0;34m\"utf-8\"\u001b[0m\u001b[0;34m)\u001b[0m\u001b[0;34m\u001b[0m\u001b[0;34m\u001b[0m\u001b[0m\n\u001b[0m\u001b[1;32m     23\u001b[0m         \u001b[0;32mif\u001b[0m \u001b[0mshow_outputs\u001b[0m\u001b[0;34m:\u001b[0m\u001b[0;34m\u001b[0m\u001b[0;34m\u001b[0m\u001b[0m\n\u001b[1;32m     24\u001b[0m             \u001b[0mprint\u001b[0m\u001b[0;34m(\u001b[0m\u001b[0mline\u001b[0m\u001b[0;34m.\u001b[0m\u001b[0mstrip\u001b[0m\u001b[0;34m(\u001b[0m\u001b[0;34m)\u001b[0m\u001b[0;34m)\u001b[0m\u001b[0;34m\u001b[0m\u001b[0;34m\u001b[0m\u001b[0m\n",
            "\u001b[0;31mKeyboardInterrupt\u001b[0m: "
          ]
        }
      ]
    }
  ]
}