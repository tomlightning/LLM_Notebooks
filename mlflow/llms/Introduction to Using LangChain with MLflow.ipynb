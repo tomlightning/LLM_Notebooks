{
 "cells": [
  {
   "cell_type": "markdown",
   "id": "3b48de3b-39aa-491c-a53f-f767a1e3c3a8",
   "metadata": {},
   "source": [
    "# Langchain Integration\n",
    "\n",
    "Supported Elements in MLflow LangChain Integration:\n",
    "\n",
    "- LLMChain\n",
    "- Agents\n",
    "- RetrievalQA\n",
    "- Retrievers\n",
    "  \n",
    "# MLflow openai\n",
    "\n",
    "https://python.langchain.com/v0.1/docs/integrations/llms/openai/\n",
    "\n",
    "# LLMChain\n",
    "LangChain is a versatile framework designed for building applications powered by language models. It excels in creating context-aware applications that utilize language models for reasoning and generating responses, enabling the development of sophisticated NLP applications\n",
    "\n",
    "https://mlflow.org/docs/latest/llms/langchain/index.html\n",
    "\n",
    "https://api.python.langchain.com/en/latest/chains/langchain.chains.llm.LLMChain.html"
   ]
  },
  {
   "cell_type": "code",
   "execution_count": 1,
   "id": "51bffcee-3678-41c4-b51c-6d6e18288b3a",
   "metadata": {},
   "outputs": [],
   "source": [
    "from dotenv import dotenv_values"
   ]
  },
  {
   "cell_type": "code",
   "execution_count": 2,
   "id": "8b2f7551-fb54-427b-9f91-30b1631fbb55",
   "metadata": {},
   "outputs": [],
   "source": [
    "config = dotenv_values(\".env\")"
   ]
  },
  {
   "cell_type": "code",
   "execution_count": 3,
   "id": "a79f6780-c3d2-4d5a-b207-d350cd98fbac",
   "metadata": {},
   "outputs": [],
   "source": [
    "import os\n",
    "\n",
    "from langchain.chains import LLMChain\n",
    "from langchain.prompts import PromptTemplate\n",
    "from langchain_openai import OpenAI\n",
    "\n",
    "import mlflow"
   ]
  },
  {
   "cell_type": "code",
   "execution_count": 5,
   "id": "7de0f992-f53c-41c2-a6b8-1031634548f3",
   "metadata": {},
   "outputs": [],
   "source": [
    "if \"OPENAI_API_KEY\" not in os.environ:\n",
    "    os.environ[\"OPENAI_API_KEY\"] = config.get('KEY_OPENAI')"
   ]
  },
  {
   "cell_type": "code",
   "execution_count": 6,
   "id": "65e5e0d4-31a1-4630-a7f5-7a92adbf04c8",
   "metadata": {},
   "outputs": [],
   "source": [
    "assert \"OPENAI_API_KEY\" in os.environ, \"Please set the OPENAI_API_KEY environment variable.\""
   ]
  },
  {
   "cell_type": "code",
   "execution_count": 7,
   "id": "a379bae1-5d89-4d79-9eef-6bdc7bd005ba",
   "metadata": {},
   "outputs": [],
   "source": [
    "llm = OpenAI(temperature=0.1, max_tokens=1000)"
   ]
  },
  {
   "cell_type": "code",
   "execution_count": 32,
   "id": "daa8a6d9-3226-460c-8ab4-22515608c22b",
   "metadata": {},
   "outputs": [],
   "source": [
    "template_instruction = (\n",
    "    \"Imagine you are a fine dining sous chef. Your task is to meticulously prepare for a dish, focusing on the mise-en-place process.\"\n",
    "    \"Given a recipe, your responsibilities are: \"\n",
    "    \"1. List the Ingredients: Carefully itemize all ingredients required for the dish, ensuring every element is accounted for. \"\n",
    "    \"2. Preparation Techniques: Describe the techniques and operations needed for preparing each ingredient. This includes cutting, \"\n",
    "    \"processing, or any other form of preparation. Focus on the art of mise-en-place, ensuring everything is perfectly set up before cooking begins.\"\n",
    "    \"3. Ingredient Staging: Provide detailed instructions on how to stage and arrange each ingredient. Explain where each item should be placed for \"\n",
    "    \"efficient access during the cooking process. Consider the timing and sequence of use for each ingredient. \"\n",
    "    \"4. Cooking Implements Preparation: Enumerate all the cooking tools and implements needed for each phase of the dish's preparation. \"\n",
    "    \"Detail any specific preparation these tools might need before the actual cooking starts and describe what pots, pans, dishes, and \"\n",
    "    \"other tools will be needed for the final preparation.\"\n",
    "    \"Remember, your guidance stops at the preparation stage. Do not delve into the actual cooking process of the dish. \"\n",
    "    \"Your goal is to set the stage flawlessly for the chef to execute the cooking seamlessly.\"\n",
    "    \"Answer in the {language} requested for the user\"\n",
    "    \"The recipe you are given is for: {recipe} for {customer_count} people \"\n",
    ")"
   ]
  },
  {
   "cell_type": "code",
   "execution_count": 33,
   "id": "45664a3c-88ee-44f0-88d8-81f0d9adc6db",
   "metadata": {},
   "outputs": [
    {
     "data": {
      "text/plain": [
       "<Experiment: artifact_location='file:///home/olonok/mlflow/mlruns/13', creation_time=1716923761566, experiment_id='13', last_update_time=1716923761566, lifecycle_stage='active', name='langchain-introduction', tags={}>"
      ]
     },
     "execution_count": 33,
     "metadata": {},
     "output_type": "execute_result"
    }
   ],
   "source": [
    "mlflow.set_tracking_uri(\"http://localhost:5000\")\n",
    "\n",
    "mlflow.set_experiment(experiment_name=\"langchain-introduction\")"
   ]
  },
  {
   "cell_type": "code",
   "execution_count": 34,
   "id": "538b15d1-1c17-4d2d-a189-359d4b23de1f",
   "metadata": {},
   "outputs": [],
   "source": [
    "prompt = PromptTemplate(\n",
    "    input_variables=[\"recipe\", \"customer_count\", \"language\"],\n",
    "    template=template_instruction,\n",
    ")\n",
    "chain = LLMChain(llm=llm, prompt=prompt)"
   ]
  },
  {
   "cell_type": "code",
   "execution_count": 35,
   "id": "9fd25cc5-5c18-4df3-b886-a749c0c6770b",
   "metadata": {},
   "outputs": [
    {
     "name": "stderr",
     "output_type": "stream",
     "text": [
      "2024/05/28 20:53:34 WARNING mlflow.langchain.utils: MLflow does not guarantee support for LLMs outside of HuggingFaceHub and OpenAI, found OpenAI\n",
      "2024/05/28 20:53:34 WARNING mlflow.langchain.utils: MLflow does not guarantee support for LLMs outside of HuggingFaceHub and OpenAI, found OpenAI\n",
      "/home/olonok/anaconda3/envs/mlflow3/lib/python3.9/site-packages/_distutils_hack/__init__.py:11: UserWarning: Distutils was imported before Setuptools, but importing Setuptools also replaces the `distutils` module in `sys.modules`. This may lead to undesirable behaviors or errors. To avoid these issues, avoid using distutils directly, ensure that setuptools is installed in the traditional way (e.g. not an editable install), and/or make sure that setuptools is always imported before distutils.\n",
      "  warnings.warn(\n",
      "/home/olonok/anaconda3/envs/mlflow3/lib/python3.9/site-packages/_distutils_hack/__init__.py:26: UserWarning: Setuptools is replacing distutils.\n",
      "  warnings.warn(\"Setuptools is replacing distutils.\")\n"
     ]
    }
   ],
   "source": [
    "with mlflow.start_run():\n",
    "    model_info = mlflow.langchain.log_model(chain, \"langchain_model\")"
   ]
  },
  {
   "cell_type": "code",
   "execution_count": 36,
   "id": "aebbdc5d-70ea-48c0-be8a-55346b8dd4e0",
   "metadata": {},
   "outputs": [
    {
     "name": "stdout",
     "output_type": "stream",
     "text": [
      "\n",
      "1. Ingredientes:\n",
      "- 2 tazas de arroz de grano largo\n",
      "- 4 tazas de caldo de pollo\n",
      "- 1 cebolla grande, picada\n",
      "- 4 dientes de ajo, picados\n",
      "- 1 pimiento rojo, cortado en cubos\n",
      "- 1 pimiento verde, cortado en cubos\n",
      "- 1 tomate grande, picado\n",
      "- 1/2 libra de pollo, cortado en trozos pequeños\n",
      "- 1/2 libra de chorizo, cortado en rodajas\n",
      "- 1/2 libra de camarones, pelados y desvenados\n",
      "- 1/2 libra de mejillones, limpios y sin cáscara\n",
      "- 1/2 taza de guisantes\n",
      "- 1 cucharadita de azafrán\n",
      "- Sal y pimienta al gusto\n",
      "- Aceite de oliva\n",
      "\n",
      "2. Técnicas de preparación:\n",
      "- En una olla grande, calentar un poco de aceite de oliva a fuego medio.\n",
      "- Agregar la cebolla y el ajo y cocinar hasta que estén suaves.\n",
      "- Añadir los pimientos y el tomate y cocinar por unos minutos más.\n",
      "- Agregar el pollo y el chorizo y cocinar hasta que estén dorados.\n",
      "- Añadir el arroz y mezclar bien con los demás ingredientes.\n",
      "- Agregar el caldo de pollo y el azafrán y sazonar con sal y pimienta al gusto.\n",
      "- Dejar que el arroz se cocine a fuego medio-bajo hasta que absorba todo el líquido.\n",
      "- Agregar los camarones, los mejillones y los guisantes y mezclar bien.\n",
      "- Tapar la olla y dejar que se cocine por unos 10 minutos más o hasta que los mariscos estén cocidos.\n",
      "\n",
      "3. Estadificación de ingredientes:\n",
      "- Colocar todos los ingredientes en orden de uso en la estufa o en una mesa cercana.\n",
      "- Tener el caldo de pollo caliente y listo para ser utilizado.\n",
      "- Tener los vegetales y las carnes cortados y listos para ser agregados a la olla.\n",
      "- Tener el arroz y el azafrán medidos y listos para ser añadidos.\n",
      "- Tener los mariscos y los guisantes listos para ser agregados en el momento adecuado.\n",
      "\n",
      "4. Preparación de utensilios de cocina:\n",
      "- Tener una olla grande y profunda lista para ser utilizada.\n",
      "- Tener una cuchara de madera o una espátula para mezclar los ingredientes.\n",
      "- Tener un cuchillo afilado para cortar las carnes y los vegetales.\n",
      "- Tener una tabla de cortar para preparar los ingredientes.\n",
      "- Tener una tapa para cubrir la olla durante la cocción.\n",
      "- Tener platos y cubiertos listos para servir la paella.\n"
     ]
    }
   ],
   "source": [
    "loaded_model = mlflow.pyfunc.load_model(model_info.model_uri)\n",
    "\n",
    "dish1 = loaded_model.predict({\"recipe\": \"paella valenciana\", \"customer_count\": \"4\", \"language\": \"spanish\"})\n",
    "\n",
    "print(dish1[0])"
   ]
  },
  {
   "cell_type": "code",
   "execution_count": 38,
   "id": "1f6c79c9-7e01-4aba-8819-95a0be2524ec",
   "metadata": {},
   "outputs": [
    {
     "name": "stdout",
     "output_type": "stream",
     "text": [
      "\n",
      "\n",
      "1. Ingredienti:\n",
      "- 2 tazze di riso per sushi\n",
      "- 2 tazze di acqua\n",
      "- 1/4 tazza di aceto di riso\n",
      "- 2 cucchiai di zucchero\n",
      "- 1 cucchiaino di sale\n",
      "- 12 fogli di alga nori\n",
      "- 1 cetriolo\n",
      "- 1 avocado\n",
      "- 1 carota\n",
      "- 1 peperone rosso\n",
      "- 1 peperone giallo\n",
      "- 1 peperone verde\n",
      "- 1 mango\n",
      "- 1 barattolo di maionese giapponese\n",
      "- 1 confezione di salmone affumicato\n",
      "- 1 confezione di gamberetti cotti\n",
      "- 1 confezione di tonno in scatola\n",
      "- 1 confezione di surimi\n",
      "- 1 confezione di uova di pesce volante\n",
      "- 1 confezione di wasabi\n",
      "- 1 confezione di salsa di soia\n",
      "- 1 confezione di zenzero in salamoia\n",
      "\n",
      "2. Tecniche di preparazione:\n",
      "- Riso per sushi: in una pentola, mescolare il riso con l'acqua e portare ad ebollizione. Ridurre la fiamma e cuocere per 18 minuti. Togliere dal fuoco e lasciare riposare per 10 minuti. In una ciotola, mescolare l'aceto di riso, lo zucchero e il sale. Aggiungere il composto al riso e mescolare delicatamente.\n",
      "- Verdure: lavare e tagliare il cetriolo, l'avocado, la carota e i peperoni a julienne (striscioline sottili).\n",
      "- Mango: sbucciare e tagliare a cubetti.\n",
      "- Salmone: tagliare a fette sottili.\n",
      "- Gamberetti: sgusciare e tagliare a pezzetti.\n",
      "- Tonno: sgocciolare e sbriciolare con una forchetta.\n",
      "- Surimi: tagliare a fette sottili.\n",
      "- Uova di pesce volante: sgocciolare.\n",
      "- Wasabi: mescolare con un po' di acqua per ottenere una pasta.\n",
      "- Zenzero in salamoia: scolare e tagliare a fettine sottili.\n",
      "\n",
      "3. Staging degli ingredienti:\n",
      "- Preparare il riso per sushi e lasciarlo raffreddare a temperatura ambiente.\n",
      "- Disporre le verdure, il mango, il salmone, i gamberetti, il tonno, il surimi, le uova di pesce volante, il wasabi e lo zenzero in salamoia in ciotole separate.\n",
      "- Disporre le fogli di alga nori su un tagliere.\n",
      "- Posizionare una ciotola di acqua e una di salsa di soia vicino al tagliere per bagnare le mani e per condire il sushi durante la preparazione.\n",
      "\n",
      "4. Preparazione degli utensili da cucina:\n",
      "- Tagliere: pulire e asciugare bene.\n",
      "- Coltello affilato: affilare prima dell'uso.\n",
      "- Ciotole: lavare e asciugare bene.\n",
      "- Pentola: lavare e asciugare bene.\n",
      "- Cucchiai e forchette: lavare e asciugare bene.\n",
      "- Bacchette: lavare e asciugare bene.\n",
      "- Piatti e piattini: lavare e asciugare bene.\n",
      "- Ciotole per salsa: lavare e asciugare bene.\n",
      "- Ciotola per riso: lavare e asciugare bene.\n",
      "- Ciotola per mescolare l'aceto di riso: lavare e asciugare bene.\n",
      "- Ciotola per mescolare il wasabi: lavare e asciugare bene.\n",
      "- Ciotola per mescolare la salsa di soia: lavare e asciugare bene.\n",
      "- Ciotola per mescolare il zenzero in salamoia: lavare e asciugare bene.\n"
     ]
    }
   ],
   "source": [
    "dish2 = loaded_model.predict({\"recipe\": \"sushi extreme\", \"customer_count\": \"12\",\"language\":\"italian\"})\n",
    "\n",
    "print(dish2[0])"
   ]
  },
  {
   "cell_type": "code",
   "execution_count": null,
   "id": "d85948f1-287d-478d-8ad3-ae618c99809e",
   "metadata": {},
   "outputs": [],
   "source": []
  }
 ],
 "metadata": {
  "kernelspec": {
   "display_name": "Python 3 (ipykernel)",
   "language": "python",
   "name": "python3"
  },
  "language_info": {
   "codemirror_mode": {
    "name": "ipython",
    "version": 3
   },
   "file_extension": ".py",
   "mimetype": "text/x-python",
   "name": "python",
   "nbconvert_exporter": "python",
   "pygments_lexer": "ipython3",
   "version": "3.9.19"
  }
 },
 "nbformat": 4,
 "nbformat_minor": 5
}
