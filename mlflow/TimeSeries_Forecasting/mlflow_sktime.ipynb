{
 "cells": [
  {
   "cell_type": "markdown",
   "id": "9dc88a54-f1b0-40be-bfbf-be35b11bb6c6",
   "metadata": {},
   "source": [
    "# SKTIME\n",
    "\n",
    "https://www.sktime.net/en/v0.29.0/estimator_overview.html\n",
    "\n",
    "sktime is a Python library for time series analysis. It provides a unified interface for multiple time series learning tasks, including time series classification, regression, clustering, annotation, and forecasting. sktime offers scikit-learn compatible interfaces and model composition tools, with the goal to make the ecosystem more usable and interoperable as a whole\n",
    "\n",
    "\n",
    "python: \"3.8\"\n",
    "build_dependencies:\n",
    "  - pip\n",
    "dependencies:\n",
    "  - mlflow<3,>=2.1\n",
    "  - sktime==0.16.0\n",
    "\n",
    "\n",
    "# pyfunc\n",
    "\n",
    "https://mlflow.org/docs/latest/python_api/mlflow.pyfunc.html\n",
    "\n",
    "The python_function model flavor serves as a default model interface for MLflow Python models. Any MLflow Python model is expected to be loadable as a python_function model."
   ]
  },
  {
   "cell_type": "code",
   "execution_count": 2,
   "id": "baa4dfdf-79d0-4999-b76f-edbb09d0f1af",
   "metadata": {},
   "outputs": [
    {
     "name": "stdout",
     "output_type": "stream",
     "text": [
      "experiment exists\n"
     ]
    }
   ],
   "source": [
    "import mlflow\n",
    "from sklearn.model_selection import train_test_split\n",
    "from sklearn.datasets import load_diabetes\n",
    "\n",
    "import pandas as pd\n",
    "# set the experiment id\n",
    "mlflow.set_tracking_uri(\"http://localhost:5000\") \n",
    "experiment_name = \"sktime\"\n",
    "try:\n",
    "    mlflow.create_experiment(experiment_name)\n",
    "except:\n",
    "    print(\"experiment exists\")\n",
    "mlflow.set_experiment(experiment_name)\n",
    "\n",
    "mlflow.sklearn.autolog(disable_for_unsupported_versions=True)"
   ]
  },
  {
   "cell_type": "code",
   "execution_count": 16,
   "id": "c90def96-e316-47f0-8eda-65125da11718",
   "metadata": {},
   "outputs": [],
   "source": [
    "import json\n",
    "\n",
    "import flavor\n",
    "import pandas as pd\n",
    "from sktime.datasets import load_longley\n",
    "from sktime.forecasting.model_selection import temporal_train_test_split\n",
    "from sktime.forecasting.naive import NaiveForecaster\n",
    "from sktime.performance_metrics.forecasting import (\n",
    "    mean_absolute_error,\n",
    "    mean_absolute_percentage_error,\n",
    ")\n",
    "import matplotlib.pyplot as plt\n",
    "import mlflow\n",
    "ARTIFACT_PATH = \"model\""
   ]
  },
  {
   "cell_type": "code",
   "execution_count": 18,
   "id": "7488a510-673f-4fb7-bf76-bf45aa51bbd1",
   "metadata": {},
   "outputs": [],
   "source": [
    "y, X = load_longley()"
   ]
  },
  {
   "cell_type": "code",
   "execution_count": 19,
   "id": "f0707653-0a89-4d8a-be9e-b42a071363f1",
   "metadata": {},
   "outputs": [
    {
     "data": {
      "text/html": [
       "<div>\n",
       "<style scoped>\n",
       "    .dataframe tbody tr th:only-of-type {\n",
       "        vertical-align: middle;\n",
       "    }\n",
       "\n",
       "    .dataframe tbody tr th {\n",
       "        vertical-align: top;\n",
       "    }\n",
       "\n",
       "    .dataframe thead th {\n",
       "        text-align: right;\n",
       "    }\n",
       "</style>\n",
       "<table border=\"1\" class=\"dataframe\">\n",
       "  <thead>\n",
       "    <tr style=\"text-align: right;\">\n",
       "      <th></th>\n",
       "      <th>GNPDEFL</th>\n",
       "      <th>GNP</th>\n",
       "      <th>UNEMP</th>\n",
       "      <th>ARMED</th>\n",
       "      <th>POP</th>\n",
       "    </tr>\n",
       "    <tr>\n",
       "      <th>Period</th>\n",
       "      <th></th>\n",
       "      <th></th>\n",
       "      <th></th>\n",
       "      <th></th>\n",
       "      <th></th>\n",
       "    </tr>\n",
       "  </thead>\n",
       "  <tbody>\n",
       "    <tr>\n",
       "      <th>1947</th>\n",
       "      <td>83.0</td>\n",
       "      <td>234289.0</td>\n",
       "      <td>2356.0</td>\n",
       "      <td>1590.0</td>\n",
       "      <td>107608.0</td>\n",
       "    </tr>\n",
       "    <tr>\n",
       "      <th>1948</th>\n",
       "      <td>88.5</td>\n",
       "      <td>259426.0</td>\n",
       "      <td>2325.0</td>\n",
       "      <td>1456.0</td>\n",
       "      <td>108632.0</td>\n",
       "    </tr>\n",
       "    <tr>\n",
       "      <th>1949</th>\n",
       "      <td>88.2</td>\n",
       "      <td>258054.0</td>\n",
       "      <td>3682.0</td>\n",
       "      <td>1616.0</td>\n",
       "      <td>109773.0</td>\n",
       "    </tr>\n",
       "    <tr>\n",
       "      <th>1950</th>\n",
       "      <td>89.5</td>\n",
       "      <td>284599.0</td>\n",
       "      <td>3351.0</td>\n",
       "      <td>1650.0</td>\n",
       "      <td>110929.0</td>\n",
       "    </tr>\n",
       "    <tr>\n",
       "      <th>1951</th>\n",
       "      <td>96.2</td>\n",
       "      <td>328975.0</td>\n",
       "      <td>2099.0</td>\n",
       "      <td>3099.0</td>\n",
       "      <td>112075.0</td>\n",
       "    </tr>\n",
       "  </tbody>\n",
       "</table>\n",
       "</div>"
      ],
      "text/plain": [
       "        GNPDEFL       GNP   UNEMP   ARMED       POP\n",
       "Period                                             \n",
       "1947       83.0  234289.0  2356.0  1590.0  107608.0\n",
       "1948       88.5  259426.0  2325.0  1456.0  108632.0\n",
       "1949       88.2  258054.0  3682.0  1616.0  109773.0\n",
       "1950       89.5  284599.0  3351.0  1650.0  110929.0\n",
       "1951       96.2  328975.0  2099.0  3099.0  112075.0"
      ]
     },
     "execution_count": 19,
     "metadata": {},
     "output_type": "execute_result"
    }
   ],
   "source": [
    "X.head()"
   ]
  },
  {
   "cell_type": "code",
   "execution_count": 24,
   "id": "5ae90cb9-7757-42af-918d-201126bebe42",
   "metadata": {},
   "outputs": [
    {
     "data": {
      "text/plain": [
       "16"
      ]
     },
     "execution_count": 24,
     "metadata": {},
     "output_type": "execute_result"
    }
   ],
   "source": [
    "len(X)"
   ]
  },
  {
   "cell_type": "code",
   "execution_count": 25,
   "id": "2edb5321-45da-4847-8fad-d31b61d3b83e",
   "metadata": {},
   "outputs": [
    {
     "data": {
      "text/plain": [
       "Period\n",
       "1947    60323.0\n",
       "1948    61122.0\n",
       "1949    60171.0\n",
       "1950    61187.0\n",
       "1951    63221.0\n",
       "1952    63639.0\n",
       "1953    64989.0\n",
       "1954    63761.0\n",
       "1955    66019.0\n",
       "1956    67857.0\n",
       "1957    68169.0\n",
       "1958    66513.0\n",
       "1959    68655.0\n",
       "1960    69564.0\n",
       "1961    69331.0\n",
       "1962    70551.0\n",
       "Freq: A-DEC, Name: TOTEMP, dtype: float64"
      ]
     },
     "execution_count": 25,
     "metadata": {},
     "output_type": "execute_result"
    }
   ],
   "source": [
    "y"
   ]
  },
  {
   "cell_type": "code",
   "execution_count": null,
   "id": "9ee3bae7-bbe6-4bfb-9e02-7099bf69425a",
   "metadata": {},
   "outputs": [],
   "source": [
    "# https://www.sktime.net/en/latest/api_reference/auto_generated/sktime.forecasting.naive.NaiveForecaster.html"
   ]
  },
  {
   "cell_type": "code",
   "execution_count": 30,
   "id": "4f5e6b3a-97b5-4b8b-bcdf-25d592e1b96a",
   "metadata": {},
   "outputs": [],
   "source": [
    "y, X = load_longley()\n",
    "y_train, y_test, X_train, X_test = temporal_train_test_split(y, X)"
   ]
  },
  {
   "cell_type": "code",
   "execution_count": 31,
   "id": "0b05a36d-c16c-4a59-afe9-2deba7327300",
   "metadata": {},
   "outputs": [
    {
     "data": {
      "text/plain": [
       "Period\n",
       "1947    60323.0\n",
       "1948    61122.0\n",
       "1949    60171.0\n",
       "1950    61187.0\n",
       "1951    63221.0\n",
       "1952    63639.0\n",
       "1953    64989.0\n",
       "1954    63761.0\n",
       "1955    66019.0\n",
       "1956    67857.0\n",
       "1957    68169.0\n",
       "1958    66513.0\n",
       "Freq: A-DEC, Name: TOTEMP, dtype: float64"
      ]
     },
     "execution_count": 31,
     "metadata": {},
     "output_type": "execute_result"
    }
   ],
   "source": [
    "y_train"
   ]
  },
  {
   "cell_type": "code",
   "execution_count": 32,
   "id": "10d490d3-2efc-4d31-8342-77ca3a38a33f",
   "metadata": {},
   "outputs": [
    {
     "data": {
      "text/plain": [
       "Period\n",
       "1959    68655.0\n",
       "1960    69564.0\n",
       "1961    69331.0\n",
       "1962    70551.0\n",
       "Freq: A-DEC, Name: TOTEMP, dtype: float64"
      ]
     },
     "execution_count": 32,
     "metadata": {},
     "output_type": "execute_result"
    }
   ],
   "source": [
    "y_test"
   ]
  },
  {
   "cell_type": "code",
   "execution_count": 23,
   "id": "97d86e0a-c1ed-421d-9bf1-508e165eaee6",
   "metadata": {},
   "outputs": [
    {
     "name": "stdout",
     "output_type": "stream",
     "text": [
      "Parameters: \n",
      "{\n",
      "  \"sp\": 1,\n",
      "  \"strategy\": \"last\",\n",
      "  \"window_length\": null\n",
      "}\n",
      "Metrics: \n",
      "{\n",
      "  \"mae\": 3012.25,\n",
      "  \"mape\": 0.04323478959579713\n",
      "}\n"
     ]
    },
    {
     "data": {
      "image/png": "[encoded data removed]",
      "text/plain": [
       "<Figure size 640x480 with 1 Axes>"
      ]
     },
     "metadata": {},
     "output_type": "display_data"
    }
   ],
   "source": [
    "with mlflow.start_run() as run:\n",
    "    y, X = load_longley()\n",
    "    y_train, y_test, X_train, X_test = temporal_train_test_split(y, X)\n",
    "\n",
    "    forecaster = NaiveForecaster()\n",
    "    forecaster.fit(\n",
    "        y_train,\n",
    "        X=X_train,\n",
    "    )\n",
    "\n",
    "    # Extract parameters\n",
    "    parameters = forecaster.get_params()\n",
    "\n",
    "    # Evaluate model\n",
    "    y_pred = forecaster.predict(fh=[1, 2, 3, 4], X=X_test)\n",
    "    metrics = {\n",
    "        \"mae\": mean_absolute_error(y_test, y_pred),\n",
    "        \"mape\": mean_absolute_percentage_error(y_test, y_pred),\n",
    "    }\n",
    "\n",
    "    print(f\"Parameters: \\n{json.dumps(parameters, indent=2)}\")\n",
    "    print(f\"Metrics: \\n{json.dumps(metrics, indent=2)}\")\n",
    "\n",
    "    # Log parameters and metrics\n",
    "    mlflow.log_params(parameters)\n",
    "    mlflow.log_metrics(metrics)\n",
    "\n",
    "    # Log model using custom model flavor with pickle serialization (default).\n",
    "    # Note that pickle serialization requires using the same python environment\n",
    "    # (version) in whatever environment you're going to use this model for\n",
    "    # inference to ensure that the model will load with appropriate version of\n",
    "    # pickle.\n",
    "    flavor.log_model(\n",
    "        sktime_model=forecaster,\n",
    "        artifact_path=ARTIFACT_PATH,\n",
    "        serialization_format=\"pickle\",\n",
    "    )\n",
    "    model_uri = mlflow.get_artifact_uri(ARTIFACT_PATH)\n",
    "    # mlflow tracking image\n",
    "    fig, axs = plt.subplots(1)\n",
    "    y.plot(ax=axs)\n",
    "    mlflow.log_figure(fig, 'y.png')\n"
   ]
  },
  {
   "cell_type": "code",
   "execution_count": 27,
   "id": "166ebd21-3a80-4a9d-b044-8bc6eb091a28",
   "metadata": {},
   "outputs": [
    {
     "data": {
      "text/plain": [
       "'file:///home/olonok/mlflow/mlruns/6/e3dda058ba9c492dae7bc2ec5ec29c54/artifacts/model'"
      ]
     },
     "execution_count": 27,
     "metadata": {},
     "output_type": "execute_result"
    }
   ],
   "source": [
    "model_uri"
   ]
  },
  {
   "cell_type": "code",
   "execution_count": 28,
   "id": "181c2ef4-0afb-429a-bed8-e57a3f98deb7",
   "metadata": {},
   "outputs": [
    {
     "name": "stdout",
     "output_type": "stream",
     "text": [
      "\n",
      "Native sktime 'predict_interval':\n",
      "$          Coverage                                          \n",
      "              0.90                        0.95              \n",
      "             lower         upper         lower         upper\n",
      "1959  64211.598663  68814.401337  63770.711166  69255.288834\n",
      "1960  63258.327017  69767.672983  62634.817940  70391.182060\n",
      "1961  62526.855956  70499.144044  61763.216411  71262.783589\n",
      "1962  61910.197326  71115.802674  61028.422333  71997.577667\n"
     ]
    }
   ],
   "source": [
    "# Load model in native sktime flavor and pyfunc flavor\n",
    "loaded_model = flavor.load_model(model_uri=model_uri)\n",
    "loaded_pyfunc = flavor.pyfunc.load_model(model_uri=model_uri)\n",
    "\n",
    "# Convert test data to 2D numpy array so it can be passed to pyfunc predict using\n",
    "# a single-row Pandas DataFrame configuration argument\n",
    "X_test_array = X_test.to_numpy()\n",
    "\n",
    "# Create configuration DataFrame for interval forecast with nominal coverage\n",
    "# value [0.9,0.95], future forecast horizon of 4 periods, and exogenous regressor.\n",
    "# Read more in the flavor.py module docstrings about the possible configurations.\n",
    "predict_conf = pd.DataFrame(\n",
    "    [\n",
    "        {\n",
    "            \"fh\": [1, 2, 3, 4],\n",
    "            \"predict_method\": \"predict_interval\",\n",
    "            \"coverage\": [0.9, 0.95],\n",
    "            \"X\": X_test_array,\n",
    "        }\n",
    "    ]\n",
    ")\n",
    "\n",
    "# Generate interval forecasts with native sktime flavor and pyfunc flavor\n",
    "print(\n",
    "    f\"\\nNative sktime 'predict_interval':\\n${loaded_model.predict_interval(fh=[1, 2, 3, 4], X=X_test, coverage=[0.9, 0.95])}\"\n",
    ")\n"
   ]
  },
  {
   "cell_type": "code",
   "execution_count": 29,
   "id": "4a11444e-1895-4fe0-aaaf-c850ec148ca8",
   "metadata": {},
   "outputs": [
    {
     "name": "stdout",
     "output_type": "stream",
     "text": [
      "\n",
      "Pyfunc 'predict_interval':\n",
      "$      Coverage__0.9__lower  Coverage__0.9__upper  Coverage__0.95__lower  \\\n",
      "1959          64211.598663          68814.401337           63770.711166   \n",
      "1960          63258.327017          69767.672983           62634.817940   \n",
      "1961          62526.855956          70499.144044           61763.216411   \n",
      "1962          61910.197326          71115.802674           61028.422333   \n",
      "\n",
      "      Coverage__0.95__upper  \n",
      "1959           69255.288834  \n",
      "1960           70391.182060  \n",
      "1961           71262.783589  \n",
      "1962           71997.577667  \n"
     ]
    }
   ],
   "source": [
    "print(f\"\\nPyfunc 'predict_interval':\\n${loaded_pyfunc.predict(predict_conf)}\")\n",
    "\n"
   ]
  },
  {
   "cell_type": "code",
   "execution_count": 10,
   "id": "c757e7d7-0df3-4454-a7fd-c6a2187dc624",
   "metadata": {},
   "outputs": [
    {
     "name": "stdout",
     "output_type": "stream",
     "text": [
      "\n",
      "MLflow run id:\n",
      "b525bc9936e8462cb3aa9a2ff0bc14ca\n"
     ]
    }
   ],
   "source": [
    "# Print the run id wich is used for serving the model to a local REST API endpoint\n",
    "# in the score_model.py module\n",
    "print(f\"\\nMLflow run id:\\n{run.info.run_id}\")\n",
    "mlflow.end_run()"
   ]
  },
  {
   "cell_type": "code",
   "execution_count": 11,
   "id": "5fb30767-91fa-458a-ba5d-6fd64b94217d",
   "metadata": {},
   "outputs": [],
   "source": [
    "mlflow.end_run()"
   ]
  },
  {
   "cell_type": "code",
   "execution_count": null,
   "id": "b131ce0f-a9a9-4c63-88a5-70bea91025d6",
   "metadata": {},
   "outputs": [],
   "source": []
  },
  {
   "cell_type": "code",
   "execution_count": null,
   "id": "e407be39-272a-41bc-9001-ba9aebb5dc06",
   "metadata": {},
   "outputs": [],
   "source": []
  }
 ],
 "metadata": {
  "kernelspec": {
   "display_name": "mlflow 3.9",
   "language": "python",
   "name": "mlflow2"
  },
  "language_info": {
   "codemirror_mode": {
    "name": "ipython",
    "version": 3
   },
   "file_extension": ".py",
   "mimetype": "text/x-python",
   "name": "python",
   "nbconvert_exporter": "python",
   "pygments_lexer": "ipython3",
   "version": "3.9.19"
  }
 },
 "nbformat": 4,
 "nbformat_minor": 5
}
