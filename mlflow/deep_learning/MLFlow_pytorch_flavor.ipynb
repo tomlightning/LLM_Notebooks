{
  "cells": [
    {
      "cell_type": "markdown",
      "metadata": {
        "id": "view-in-github",
        "colab_type": "text"
      },
      "source": [
        "<a href=\"https://colab.research.google.com/github/olonok69/LLM_Notebooks/blob/main/mlflow/deep_learning/MLFlow_pytorch_flavor.ipynb\" target=\"_parent\"><img src=\"https://colab.research.google.com/assets/colab-badge.svg\" alt=\"Open In Colab\"/></a>"
      ]
    },
    {
      "cell_type": "markdown",
      "source": [
        "#MLFLOW\n",
        "https://mlflow.org/docs/latest/introduction/index.html\n",
        "\n",
        "\n",
        "MLflow is a solution to many of these issues in this dynamic landscape, offering tools and simplifying processes to streamline the ML lifecycle and foster collaboration among ML practitioners.\n",
        "\n",
        "\n",
        "\n",
        "# MLflow Pytorch Guide\n",
        "https://mlflow.org/docs/latest/deep-learning/pytorch/index.html\n",
        "\n",
        "# ngrok\n",
        "Connect localhost to the internet for testing applications and APIs\n",
        "Bring secure connectivity to apps and APIs in localhost and dev/test environments with just one command or function call.\n",
        "- Webhook testing\n",
        "- Developer Previews\n",
        "- Mobile backend testing\n",
        "\n",
        "https://ngrok.com/\n"
      ],
      "metadata": {
        "id": "nSXck4MZMLmi"
      }
    },
    {
      "cell_type": "code",
      "source": [
        "from google.colab import drive\n",
        "drive.mount('/content/drive')"
      ],
      "metadata": {
        "colab": {
          "base_uri": "https://localhost:8080/"
        },
        "id": "Vl9iotQIL95z",
        "outputId": "ac450e52-a02e-462b-eb48-f35ffb78281b"
      },
      "execution_count": 1,
      "outputs": [
        {
          "output_type": "stream",
          "name": "stdout",
          "text": [
            "Drive already mounted at /content/drive; to attempt to forcibly remount, call drive.mount(\"/content/drive\", force_remount=True).\n"
          ]
        }
      ]
    },
    {
      "cell_type": "code",
      "source": [
        "! pip install  torchmetrics torchinfo --quiet"
      ],
      "metadata": {
        "id": "-Chz8qZcWbBu"
      },
      "execution_count": 2,
      "outputs": []
    },
    {
      "cell_type": "code",
      "source": [
        "!pip install mlflow pyngrok evaluate  bitsandbytes accelerate datasets transformers==4.39.3 --quiet\n",
        "get_ipython().system_raw(\"mlflow ui --port 5000 &\")"
      ],
      "metadata": {
        "id": "OLCKO2xiJxWg"
      },
      "execution_count": 3,
      "outputs": []
    },
    {
      "cell_type": "code",
      "source": [
        "\n",
        "from pyngrok import ngrok\n",
        "from getpass import getpass\n",
        "\n",
        "# Terminate open tunnels if exist\n",
        "ngrok.kill()"
      ],
      "metadata": {
        "id": "lyavcj5lKbgo"
      },
      "execution_count": 4,
      "outputs": []
    },
    {
      "cell_type": "code",
      "source": [
        "from google.colab import userdata\n",
        "NGROK_AUTH_TOKEN  = userdata.get('NGROK')\n",
        "\n",
        "ngrok.set_auth_token(NGROK_AUTH_TOKEN)\n",
        "\n",
        "# Open an HTTPs tunnel on port 5000 for http://localhost:5000\n",
        "ngrok_tunnel = ngrok.connect(addr=\"5000\", proto=\"http\", bind_tls=True)\n",
        "print(\"MLflow Tracking UI:\", ngrok_tunnel.public_url)"
      ],
      "metadata": {
        "colab": {
          "base_uri": "https://localhost:8080/"
        },
        "id": "pBF_ADV1KglQ",
        "outputId": "56b04e7f-25ce-4258-8cd0-c5dce6b8a43c"
      },
      "execution_count": 5,
      "outputs": [
        {
          "output_type": "stream",
          "name": "stdout",
          "text": [
            "MLflow Tracking UI: https://4eb0-34-124-229-114.ngrok-free.app\n"
          ]
        }
      ]
    },
    {
      "cell_type": "code",
      "execution_count": 6,
      "metadata": {
        "colab": {
          "base_uri": "https://localhost:8080/"
        },
        "id": "mIufw48uJCOi",
        "outputId": "39c60d99-df17-4873-e49c-4b8172f89261"
      },
      "outputs": [
        {
          "output_type": "stream",
          "name": "stdout",
          "text": [
            "env: TOKENIZERS_PARALLELISM=false\n"
          ]
        }
      ],
      "source": [
        "# Disable tokenizers warnings when constructing pipelines\n",
        "%env TOKENIZERS_PARALLELISM=false\n",
        "\n",
        "import warnings\n",
        "\n",
        "# Disable a few less-than-useful UserWarnings from setuptools and pydantic\n",
        "warnings.filterwarnings(\"ignore\", category=UserWarning)"
      ]
    },
    {
      "cell_type": "code",
      "execution_count": 7,
      "metadata": {
        "id": "62iKDf55JCOs"
      },
      "outputs": [],
      "source": [
        "import torch\n",
        "from torch import nn\n",
        "from torch.utils.data import DataLoader\n",
        "from torchinfo import summary\n",
        "from torchmetrics import Accuracy\n",
        "from torchvision import datasets\n",
        "from torchvision.transforms import ToTensor\n",
        "\n",
        "import mlflow\n"
      ]
    },
    {
      "cell_type": "markdown",
      "source": [
        "# Prepare the Data"
      ],
      "metadata": {
        "id": "y238ckU2XQdB"
      }
    },
    {
      "cell_type": "code",
      "source": [
        "training_data = datasets.FashionMNIST(\n",
        "    root=\"data\",\n",
        "    train=True,\n",
        "    download=True,\n",
        "    transform=ToTensor(),\n",
        ")\n",
        "\n",
        "test_data = datasets.FashionMNIST(\n",
        "    root=\"data\",\n",
        "    train=False,\n",
        "    download=True,\n",
        "    transform=ToTensor(),\n",
        ")"
      ],
      "metadata": {
        "id": "6QHW12utW5Xq"
      },
      "execution_count": 8,
      "outputs": []
    },
    {
      "cell_type": "code",
      "source": [
        "train_dataloader = DataLoader(training_data, batch_size=64)\n",
        "test_dataloader = DataLoader(test_data, batch_size=64)"
      ],
      "metadata": {
        "id": "d8ucIpn8vNjT"
      },
      "execution_count": 9,
      "outputs": []
    },
    {
      "cell_type": "markdown",
      "source": [
        "## Define  Model"
      ],
      "metadata": {
        "id": "R-Mg4hGPXflI"
      }
    },
    {
      "cell_type": "code",
      "source": [
        "class ImageClassifier(nn.Module):\n",
        "    def __init__(self):\n",
        "        super().__init__()\n",
        "        self.model = nn.Sequential(\n",
        "            nn.Conv2d(1, 16, kernel_size=3),\n",
        "            nn.ReLU(),\n",
        "            nn.Conv2d(16, 32, kernel_size=3),\n",
        "            nn.ReLU(),\n",
        "            nn.Flatten(),\n",
        "            nn.LazyLinear(10),  # 10 classes in total.\n",
        "        )\n",
        "\n",
        "    def forward(self, x):\n",
        "        return self.model(x)"
      ],
      "metadata": {
        "id": "45DyVXGLYOTo"
      },
      "execution_count": 10,
      "outputs": []
    },
    {
      "cell_type": "code",
      "source": [
        "mlflow.set_tracking_uri(\"http://127.0.0.1:5000\")"
      ],
      "metadata": {
        "id": "itmDj8Z7XzTI"
      },
      "execution_count": 11,
      "outputs": []
    },
    {
      "cell_type": "code",
      "source": [
        "mlflow.set_experiment(\"mlflow-pytorch\")"
      ],
      "metadata": {
        "id": "24ydnJuRZGck",
        "colab": {
          "base_uri": "https://localhost:8080/"
        },
        "outputId": "a49fd091-c36f-47cd-e8e6-beb0f18c00f9"
      },
      "execution_count": 12,
      "outputs": [
        {
          "output_type": "execute_result",
          "data": {
            "text/plain": [
              "<Experiment: artifact_location='mlflow-artifacts:/507816787851751421', creation_time=1715711920065, experiment_id='507816787851751421', last_update_time=1715711920065, lifecycle_stage='active', name='mlflow-pytorch', tags={}>"
            ]
          },
          "metadata": {},
          "execution_count": 12
        }
      ]
    },
    {
      "cell_type": "code",
      "source": [
        "# Get cpu or gpu for training.\n",
        "device = \"cuda\" if torch.cuda.is_available() else \"cpu\"\n",
        "device\n"
      ],
      "metadata": {
        "id": "d85tqm4gaKXr",
        "colab": {
          "base_uri": "https://localhost:8080/",
          "height": 35
        },
        "outputId": "b67ef566-7186-4c80-e496-0d4ababcf95d"
      },
      "execution_count": 13,
      "outputs": [
        {
          "output_type": "execute_result",
          "data": {
            "text/plain": [
              "'cuda'"
            ],
            "application/vnd.google.colaboratory.intrinsic+json": {
              "type": "string"
            }
          },
          "metadata": {},
          "execution_count": 13
        }
      ]
    },
    {
      "cell_type": "code",
      "source": [
        "def train(dataloader, model, loss_fn, metrics_fn, optimizer, epoch):\n",
        "    \"\"\"Train the model on a single pass of the dataloader.\n",
        "\n",
        "    Args:\n",
        "        dataloader: an instance of `torch.utils.data.DataLoader`, containing the training data.\n",
        "        model: an instance of `torch.nn.Module`, the model to be trained.\n",
        "        loss_fn: a callable, the loss function.\n",
        "        metrics_fn: a callable, the metrics function.\n",
        "        optimizer: an instance of `torch.optim.Optimizer`, the optimizer used for training.\n",
        "        epoch: an integer, the current epoch number.\n",
        "    \"\"\"\n",
        "    model.train()\n",
        "    for batch, (X, y) in enumerate(dataloader):\n",
        "        X, y = X.to(device), y.to(device)\n",
        "\n",
        "        pred = model(X)\n",
        "        loss = loss_fn(pred, y)\n",
        "        accuracy = metrics_fn(pred, y)\n",
        "\n",
        "        # Backpropagation.\n",
        "        loss.backward()\n",
        "        optimizer.step()\n",
        "        optimizer.zero_grad()\n",
        "\n",
        "        if batch % 100 == 0:\n",
        "            loss, current = loss.item(), batch\n",
        "            step = batch // 100 * (epoch + 1)\n",
        "            mlflow.log_metric(\"loss\", f\"{loss:2f}\", step=step)\n",
        "            mlflow.log_metric(\"accuracy\", f\"{accuracy:2f}\", step=step)\n",
        "            print(f\"loss: {loss:2f} accuracy: {accuracy:2f} [{current} / {len(dataloader)}]\")"
      ],
      "metadata": {
        "id": "eb-hMaHqmNJ_"
      },
      "execution_count": 14,
      "outputs": []
    },
    {
      "cell_type": "code",
      "source": [
        "def evaluate(dataloader, model, loss_fn, metrics_fn, epoch):\n",
        "    \"\"\"Evaluate the model on a single pass of the dataloader.\n",
        "\n",
        "    Args:\n",
        "        dataloader: an instance of `torch.utils.data.DataLoader`, containing the eval data.\n",
        "        model: an instance of `torch.nn.Module`, the model to be trained.\n",
        "        loss_fn: a callable, the loss function.\n",
        "        metrics_fn: a callable, the metrics function.\n",
        "        epoch: an integer, the current epoch number.\n",
        "    \"\"\"\n",
        "    num_batches = len(dataloader)\n",
        "    model.eval()\n",
        "    eval_loss, eval_accuracy = 0, 0\n",
        "    with torch.no_grad():\n",
        "        for X, y in dataloader:\n",
        "            X, y = X.to(device), y.to(device)\n",
        "            pred = model(X)\n",
        "            eval_loss += loss_fn(pred, y).item()\n",
        "            eval_accuracy += metrics_fn(pred, y)\n",
        "\n",
        "    eval_loss /= num_batches\n",
        "    eval_accuracy /= num_batches\n",
        "    mlflow.log_metric(\"eval_loss\", f\"{eval_loss:2f}\", step=epoch)\n",
        "    mlflow.log_metric(\"eval_accuracy\", f\"{eval_accuracy:2f}\", step=epoch)\n",
        "\n",
        "    print(f\"Eval metrics: \\nAccuracy: {eval_accuracy:.2f}, Avg loss: {eval_loss:2f} \\n\")"
      ],
      "metadata": {
        "id": "i26525XwmPc7"
      },
      "execution_count": 15,
      "outputs": []
    },
    {
      "cell_type": "code",
      "source": [
        "# Training Parameters\n",
        "epochs = 3\n",
        "loss_fn = nn.CrossEntropyLoss()\n",
        "metric_fn = Accuracy(task=\"multiclass\", num_classes=10).to(device)\n",
        "model = ImageClassifier().to(device)\n",
        "optimizer = torch.optim.SGD(model.parameters(), lr=1e-3)"
      ],
      "metadata": {
        "id": "3gGm73qyNKfl"
      },
      "execution_count": 16,
      "outputs": []
    },
    {
      "cell_type": "code",
      "source": [
        "from datetime import datetime\n",
        "\n",
        "name = \"pytorch_\" +datetime.now().strftime(\"%Y-%m-%d_%H:%M:%S\")\n",
        "with mlflow.start_run(run_name = name) as run:\n",
        "    params = {\n",
        "        \"epochs\": epochs,\n",
        "        \"learning_rate\": 1e-3,\n",
        "        \"batch_size\": 64,\n",
        "        \"loss_function\": loss_fn.__class__.__name__,\n",
        "        \"metric_function\": metric_fn.__class__.__name__,\n",
        "        \"optimizer\": \"SGD\",\n",
        "    }\n",
        "    # Log training parameters.\n",
        "    mlflow.log_params(params)\n",
        "\n",
        "    # Log model summary.\n",
        "    with open(\"model_summary.txt\", \"w\") as f:\n",
        "        f.write(str(summary(model)))\n",
        "    mlflow.log_artifact(\"model_summary.txt\")\n",
        "\n",
        "    for t in range(epochs):\n",
        "        print(f\"Epoch {t+1}\\n-------------------------------\")\n",
        "        train(train_dataloader, model, loss_fn, metric_fn, optimizer, epoch=t)\n",
        "        evaluate(test_dataloader, model, loss_fn, metric_fn, epoch=0)\n",
        "\n",
        "    # Save the trained model to MLflow.\n",
        "    mlflow.pytorch.log_model(model, \"model\")"
      ],
      "metadata": {
        "colab": {
          "base_uri": "https://localhost:8080/"
        },
        "id": "6Pv19IA_Na6E",
        "outputId": "ffaa28a3-d358-47d5-a561-e6bbc6f361b3"
      },
      "execution_count": 17,
      "outputs": [
        {
          "output_type": "stream",
          "name": "stdout",
          "text": [
            "Epoch 1\n",
            "-------------------------------\n",
            "loss: 2.297867 accuracy: 0.109375 [0 / 938]\n",
            "loss: 2.025223 accuracy: 0.578125 [100 / 938]\n",
            "loss: 1.514050 accuracy: 0.593750 [200 / 938]\n",
            "loss: 1.245676 accuracy: 0.640625 [300 / 938]\n",
            "loss: 0.898259 accuracy: 0.687500 [400 / 938]\n",
            "loss: 0.853767 accuracy: 0.734375 [500 / 938]\n",
            "loss: 0.854323 accuracy: 0.703125 [600 / 938]\n",
            "loss: 0.702305 accuracy: 0.750000 [700 / 938]\n",
            "loss: 0.754247 accuracy: 0.734375 [800 / 938]\n",
            "loss: 0.755127 accuracy: 0.765625 [900 / 938]\n",
            "Eval metrics: \n",
            "Accuracy: 0.75, Avg loss: 0.695753 \n",
            "\n",
            "Epoch 2\n",
            "-------------------------------\n",
            "loss: 0.620304 accuracy: 0.796875 [0 / 938]\n",
            "loss: 0.733818 accuracy: 0.718750 [100 / 938]\n",
            "loss: 0.475674 accuracy: 0.828125 [200 / 938]\n",
            "loss: 0.751344 accuracy: 0.734375 [300 / 938]\n",
            "loss: 0.684074 accuracy: 0.625000 [400 / 938]\n",
            "loss: 0.652751 accuracy: 0.750000 [500 / 938]\n",
            "loss: 0.702949 accuracy: 0.703125 [600 / 938]\n",
            "loss: 0.630992 accuracy: 0.750000 [700 / 938]\n",
            "loss: 0.685438 accuracy: 0.734375 [800 / 938]\n",
            "loss: 0.625932 accuracy: 0.734375 [900 / 938]\n",
            "Eval metrics: \n",
            "Accuracy: 0.77, Avg loss: 0.625869 \n",
            "\n",
            "Epoch 3\n",
            "-------------------------------\n",
            "loss: 0.523332 accuracy: 0.812500 [0 / 938]\n",
            "loss: 0.625091 accuracy: 0.734375 [100 / 938]\n",
            "loss: 0.416128 accuracy: 0.828125 [200 / 938]\n",
            "loss: 0.682532 accuracy: 0.718750 [300 / 938]\n",
            "loss: 0.647107 accuracy: 0.656250 [400 / 938]\n",
            "loss: 0.603672 accuracy: 0.796875 [500 / 938]\n",
            "loss: 0.641777 accuracy: 0.734375 [600 / 938]\n",
            "loss: 0.623257 accuracy: 0.796875 [700 / 938]\n",
            "loss: 0.687487 accuracy: 0.718750 [800 / 938]\n",
            "loss: 0.558943 accuracy: 0.750000 [900 / 938]\n",
            "Eval metrics: \n",
            "Accuracy: 0.77, Avg loss: 0.607396 \n",
            "\n"
          ]
        },
        {
          "output_type": "stream",
          "name": "stderr",
          "text": [
            "2024/05/14 19:58:54 WARNING mlflow.utils.requirements_utils: Found torch version (2.2.1+cu121) contains a local version label (+cu121). MLflow logged a pip requirement for this package as 'torch==2.2.1' without the local version label to make it installable from PyPI. To specify pip requirements containing local version labels, please use `conda_env` or `pip_requirements`.\n",
            "2024/05/14 19:58:58 WARNING mlflow.utils.requirements_utils: Found torch version (2.2.1+cu121) contains a local version label (+cu121). MLflow logged a pip requirement for this package as 'torch==2.2.1' without the local version label to make it installable from PyPI. To specify pip requirements containing local version labels, please use `conda_env` or `pip_requirements`.\n"
          ]
        }
      ]
    },
    {
      "cell_type": "code",
      "source": [
        "logged_model = f\"runs:/{run.info.run_id}/model\"\n",
        "loaded_model = mlflow.pyfunc.load_model(logged_model)"
      ],
      "metadata": {
        "id": "h0b-4sD-ah1w",
        "colab": {
          "base_uri": "https://localhost:8080/",
          "height": 66,
          "referenced_widgets": [
            "30eb8cf11d454f849de95345b9e35516",
            "eca45be0746147ca90436c73ee15f676",
            "a6c75eac6fe5401e8e9feb5b8f363ad5",
            "c92dfa1803eb4baf8b648403a1ed863c",
            "4b1fa7e91ff74a9587b6ec63692b09aa",
            "c318bc7bf9804910ae65d3d29b36e89d",
            "bebf5824df824b168543728f06e02d40",
            "350211941bcf4f65b325c40dd7233bed",
            "105cf557dac14fc98e109591c076529a",
            "6b5fde3695c245c89ecd60d02023d274",
            "79572905963446aa88a9e53767896536"
          ]
        },
        "outputId": "8bdea5ff-d7eb-4e91-efbd-ef273cd073be"
      },
      "execution_count": 19,
      "outputs": [
        {
          "output_type": "display_data",
          "data": {
            "text/plain": [
              "Downloading artifacts:   0%|          | 0/10 [00:00<?, ?it/s]"
            ],
            "application/vnd.jupyter.widget-view+json": {
              "version_major": 2,
              "version_minor": 0,
              "model_id": "30eb8cf11d454f849de95345b9e35516"
            }
          },
          "metadata": {}
        },
        {
          "output_type": "stream",
          "name": "stderr",
          "text": [
            "2024/05/14 20:00:30 INFO mlflow.store.artifact.artifact_repo: The progress bar can be disabled by setting the environment variable MLFLOW_ENABLE_ARTIFACTS_PROGRESS_BAR to false\n"
          ]
        }
      ]
    },
    {
      "cell_type": "code",
      "source": [
        "pytorch_loaded =  mlflow.pytorch.load_model(logged_model)"
      ],
      "metadata": {
        "colab": {
          "base_uri": "https://localhost:8080/",
          "height": 66,
          "referenced_widgets": [
            "cf286dd43f934b868ca2b986278791ee",
            "ebd8ee0a2db248e3bdebab7c42e69d99",
            "573932d8b24c4fe89d1fd87e6eabbf62",
            "cf96542da4b24b7cabdd9c6235c06b70",
            "2246bfacc9d548e09cebb0e19e1c3725",
            "be230d9dd81b462a92f95908b450b351",
            "78f8ce48a79547d48d8e9895e73fb995",
            "40b638ceb3ae4cb8bb95d043c2152735",
            "7d4f9f524e144cabb11ace31a82c8c0a",
            "3e10a6edece24d0a8b4f62e77929dada",
            "a606cec1f5d24f91acbe3168ad051504"
          ]
        },
        "id": "DykOLkP7z1yP",
        "outputId": "c1d86fc4-9ab1-4540-c701-26dbaf694b9b"
      },
      "execution_count": 23,
      "outputs": [
        {
          "output_type": "display_data",
          "data": {
            "text/plain": [
              "Downloading artifacts:   0%|          | 0/10 [00:00<?, ?it/s]"
            ],
            "application/vnd.jupyter.widget-view+json": {
              "version_major": 2,
              "version_minor": 0,
              "model_id": "cf286dd43f934b868ca2b986278791ee"
            }
          },
          "metadata": {}
        },
        {
          "output_type": "stream",
          "name": "stderr",
          "text": [
            "2024/05/14 20:33:56 INFO mlflow.store.artifact.artifact_repo: The progress bar can be disabled by setting the environment variable MLFLOW_ENABLE_ARTIFACTS_PROGRESS_BAR to false\n"
          ]
        }
      ]
    },
    {
      "cell_type": "code",
      "source": [
        "type(pytorch_loaded)"
      ],
      "metadata": {
        "colab": {
          "base_uri": "https://localhost:8080/",
          "height": 187
        },
        "id": "qx3EjzYA0mT8",
        "outputId": "e95dd781-a581-4ffb-db9d-37922d30d56e"
      },
      "execution_count": 25,
      "outputs": [
        {
          "output_type": "execute_result",
          "data": {
            "text/plain": [
              "__main__.ImageClassifier"
            ],
            "text/html": [
              "<div style=\"max-width:800px; border: 1px solid var(--colab-border-color);\"><style>\n",
              "      pre.function-repr-contents {\n",
              "        overflow-x: auto;\n",
              "        padding: 8px 12px;\n",
              "        max-height: 500px;\n",
              "      }\n",
              "\n",
              "      pre.function-repr-contents.function-repr-contents-collapsed {\n",
              "        cursor: pointer;\n",
              "        max-height: 100px;\n",
              "      }\n",
              "    </style>\n",
              "    <pre style=\"white-space: initial; background:\n",
              "         var(--colab-secondary-surface-color); padding: 8px 12px;\n",
              "         border-bottom: 1px solid var(--colab-border-color);\"><b>ImageClassifier</b><br/>def _wrapped_call_impl(*args, **kwargs)</pre><pre class=\"function-repr-contents function-repr-contents-collapsed\" style=\"\"><a class=\"filepath\" style=\"display:none\" href=\"#\"></a>Base class for all neural network modules.\n",
              "\n",
              "Your models should also subclass this class.\n",
              "\n",
              "Modules can also contain other Modules, allowing to nest them in\n",
              "a tree structure. You can assign the submodules as regular attributes::\n",
              "\n",
              "    import torch.nn as nn\n",
              "    import torch.nn.functional as F\n",
              "\n",
              "    class Model(nn.Module):\n",
              "        def __init__(self):\n",
              "            super().__init__()\n",
              "            self.conv1 = nn.Conv2d(1, 20, 5)\n",
              "            self.conv2 = nn.Conv2d(20, 20, 5)\n",
              "\n",
              "        def forward(self, x):\n",
              "            x = F.relu(self.conv1(x))\n",
              "            return F.relu(self.conv2(x))\n",
              "\n",
              "Submodules assigned in this way will be registered, and will have their\n",
              "parameters converted too when you call :meth:`to`, etc.\n",
              "\n",
              ".. note::\n",
              "    As per the example above, an ``__init__()`` call to the parent class\n",
              "    must be made before assignment on the child.\n",
              "\n",
              ":ivar training: Boolean represents whether this module is in training or\n",
              "                evaluation mode.\n",
              ":vartype training: bool</pre></div>"
            ]
          },
          "metadata": {},
          "execution_count": 25
        }
      ]
    },
    {
      "cell_type": "code",
      "source": [
        "outputs = loaded_model.predict(training_data[0][0][None, :].numpy())\n",
        "outputs"
      ],
      "metadata": {
        "id": "MhrQMkN7riTW",
        "colab": {
          "base_uri": "https://localhost:8080/"
        },
        "outputId": "0e5ee206-9e91-4f00-a390-55b38c6096ad"
      },
      "execution_count": 20,
      "outputs": [
        {
          "output_type": "execute_result",
          "data": {
            "text/plain": [
              "array([[-5.479626 , -6.9544983, -3.7984595, -3.887539 , -1.5908383,\n",
              "         4.6727657, -1.4280988,  5.6618443,  4.0271525, 10.21223  ]],\n",
              "      dtype=float32)"
            ]
          },
          "metadata": {},
          "execution_count": 20
        }
      ]
    },
    {
      "cell_type": "code",
      "source": [
        "import numpy as np\n",
        "np.argmax(outputs, axis=1)"
      ],
      "metadata": {
        "colab": {
          "base_uri": "https://localhost:8080/"
        },
        "id": "mQGb832NcXvF",
        "outputId": "54b4a0d2-0791-4f29-c525-ab2f270c3c91"
      },
      "execution_count": 21,
      "outputs": [
        {
          "output_type": "execute_result",
          "data": {
            "text/plain": [
              "array([9])"
            ]
          },
          "metadata": {},
          "execution_count": 21
        }
      ]
    },
    {
      "cell_type": "code",
      "source": [
        "training_data[0][1]"
      ],
      "metadata": {
        "colab": {
          "base_uri": "https://localhost:8080/"
        },
        "id": "OITHjN3aakYn",
        "outputId": "18b3e25a-be2b-48c5-9af6-5372f3a9fd25"
      },
      "execution_count": 22,
      "outputs": [
        {
          "output_type": "execute_result",
          "data": {
            "text/plain": [
              "9"
            ]
          },
          "metadata": {},
          "execution_count": 22
        }
      ]
    },
    {
      "cell_type": "code",
      "source": [
        "ngrok.kill()"
      ],
      "metadata": {
        "id": "gacOoqHhi23R"
      },
      "execution_count": 46,
      "outputs": []
    }
  ],
  "metadata": {
    "kernelspec": {
      "display_name": "Python 3",
      "name": "python3"
    },
    "language_info": {
      "codemirror_mode": {
        "name": "ipython",
        "version": 3
      },
      "file_extension": ".py",
      "mimetype": "text/x-python",
      "name": "python",
      "nbconvert_exporter": "python",
      "pygments_lexer": "ipython3",
      "version": "3.8.13"
    },
    "colab": {
      "provenance": [],
      "gpuType": "L4",
      "machine_shape": "hm",
      "include_colab_link": true
    },
    "accelerator": "GPU",
    "widgets": {
      "application/vnd.jupyter.widget-state+json": {
        "30eb8cf11d454f849de95345b9e35516": {
          "model_module": "@jupyter-widgets/controls",
          "model_name": "HBoxModel",
          "model_module_version": "1.5.0",
          "state": {
            "_dom_classes": [],
            "_model_module": "@jupyter-widgets/controls",
            "_model_module_version": "1.5.0",
            "_model_name": "HBoxModel",
            "_view_count": null,
            "_view_module": "@jupyter-widgets/controls",
            "_view_module_version": "1.5.0",
            "_view_name": "HBoxView",
            "box_style": "",
            "children": [
              "IPY_MODEL_eca45be0746147ca90436c73ee15f676",
              "IPY_MODEL_a6c75eac6fe5401e8e9feb5b8f363ad5",
              "IPY_MODEL_c92dfa1803eb4baf8b648403a1ed863c"
            ],
            "layout": "IPY_MODEL_4b1fa7e91ff74a9587b6ec63692b09aa"
          }
        },
        "eca45be0746147ca90436c73ee15f676": {
          "model_module": "@jupyter-widgets/controls",
          "model_name": "HTMLModel",
          "model_module_version": "1.5.0",
          "state": {
            "_dom_classes": [],
            "_model_module": "@jupyter-widgets/controls",
            "_model_module_version": "1.5.0",
            "_model_name": "HTMLModel",
            "_view_count": null,
            "_view_module": "@jupyter-widgets/controls",
            "_view_module_version": "1.5.0",
            "_view_name": "HTMLView",
            "description": "",
            "description_tooltip": null,
            "layout": "IPY_MODEL_c318bc7bf9804910ae65d3d29b36e89d",
            "placeholder": "​",
            "style": "IPY_MODEL_bebf5824df824b168543728f06e02d40",
            "value": "Downloading artifacts: 100%"
          }
        },
        "a6c75eac6fe5401e8e9feb5b8f363ad5": {
          "model_module": "@jupyter-widgets/controls",
          "model_name": "FloatProgressModel",
          "model_module_version": "1.5.0",
          "state": {
            "_dom_classes": [],
            "_model_module": "@jupyter-widgets/controls",
            "_model_module_version": "1.5.0",
            "_model_name": "FloatProgressModel",
            "_view_count": null,
            "_view_module": "@jupyter-widgets/controls",
            "_view_module_version": "1.5.0",
            "_view_name": "ProgressView",
            "bar_style": "success",
            "description": "",
            "description_tooltip": null,
            "layout": "IPY_MODEL_350211941bcf4f65b325c40dd7233bed",
            "max": 10,
            "min": 0,
            "orientation": "horizontal",
            "style": "IPY_MODEL_105cf557dac14fc98e109591c076529a",
            "value": 10
          }
        },
        "c92dfa1803eb4baf8b648403a1ed863c": {
          "model_module": "@jupyter-widgets/controls",
          "model_name": "HTMLModel",
          "model_module_version": "1.5.0",
          "state": {
            "_dom_classes": [],
            "_model_module": "@jupyter-widgets/controls",
            "_model_module_version": "1.5.0",
            "_model_name": "HTMLModel",
            "_view_count": null,
            "_view_module": "@jupyter-widgets/controls",
            "_view_module_version": "1.5.0",
            "_view_name": "HTMLView",
            "description": "",
            "description_tooltip": null,
            "layout": "IPY_MODEL_6b5fde3695c245c89ecd60d02023d274",
            "placeholder": "​",
            "style": "IPY_MODEL_79572905963446aa88a9e53767896536",
            "value": " 10/10 [00:00&lt;00:00, 150.34it/s]"
          }
        },
        "4b1fa7e91ff74a9587b6ec63692b09aa": {
          "model_module": "@jupyter-widgets/base",
          "model_name": "LayoutModel",
          "model_module_version": "1.2.0",
          "state": {
            "_model_module": "@jupyter-widgets/base",
            "_model_module_version": "1.2.0",
            "_model_name": "LayoutModel",
            "_view_count": null,
            "_view_module": "@jupyter-widgets/base",
            "_view_module_version": "1.2.0",
            "_view_name": "LayoutView",
            "align_content": null,
            "align_items": null,
            "align_self": null,
            "border": null,
            "bottom": null,
            "display": null,
            "flex": null,
            "flex_flow": null,
            "grid_area": null,
            "grid_auto_columns": null,
            "grid_auto_flow": null,
            "grid_auto_rows": null,
            "grid_column": null,
            "grid_gap": null,
            "grid_row": null,
            "grid_template_areas": null,
            "grid_template_columns": null,
            "grid_template_rows": null,
            "height": null,
            "justify_content": null,
            "justify_items": null,
            "left": null,
            "margin": null,
            "max_height": null,
            "max_width": null,
            "min_height": null,
            "min_width": null,
            "object_fit": null,
            "object_position": null,
            "order": null,
            "overflow": null,
            "overflow_x": null,
            "overflow_y": null,
            "padding": null,
            "right": null,
            "top": null,
            "visibility": null,
            "width": null
          }
        },
        "c318bc7bf9804910ae65d3d29b36e89d": {
          "model_module": "@jupyter-widgets/base",
          "model_name": "LayoutModel",
          "model_module_version": "1.2.0",
          "state": {
            "_model_module": "@jupyter-widgets/base",
            "_model_module_version": "1.2.0",
            "_model_name": "LayoutModel",
            "_view_count": null,
            "_view_module": "@jupyter-widgets/base",
            "_view_module_version": "1.2.0",
            "_view_name": "LayoutView",
            "align_content": null,
            "align_items": null,
            "align_self": null,
            "border": null,
            "bottom": null,
            "display": null,
            "flex": null,
            "flex_flow": null,
            "grid_area": null,
            "grid_auto_columns": null,
            "grid_auto_flow": null,
            "grid_auto_rows": null,
            "grid_column": null,
            "grid_gap": null,
            "grid_row": null,
            "grid_template_areas": null,
            "grid_template_columns": null,
            "grid_template_rows": null,
            "height": null,
            "justify_content": null,
            "justify_items": null,
            "left": null,
            "margin": null,
            "max_height": null,
            "max_width": null,
            "min_height": null,
            "min_width": null,
            "object_fit": null,
            "object_position": null,
            "order": null,
            "overflow": null,
            "overflow_x": null,
            "overflow_y": null,
            "padding": null,
            "right": null,
            "top": null,
            "visibility": null,
            "width": null
          }
        },
        "bebf5824df824b168543728f06e02d40": {
          "model_module": "@jupyter-widgets/controls",
          "model_name": "DescriptionStyleModel",
          "model_module_version": "1.5.0",
          "state": {
            "_model_module": "@jupyter-widgets/controls",
            "_model_module_version": "1.5.0",
            "_model_name": "DescriptionStyleModel",
            "_view_count": null,
            "_view_module": "@jupyter-widgets/base",
            "_view_module_version": "1.2.0",
            "_view_name": "StyleView",
            "description_width": ""
          }
        },
        "350211941bcf4f65b325c40dd7233bed": {
          "model_module": "@jupyter-widgets/base",
          "model_name": "LayoutModel",
          "model_module_version": "1.2.0",
          "state": {
            "_model_module": "@jupyter-widgets/base",
            "_model_module_version": "1.2.0",
            "_model_name": "LayoutModel",
            "_view_count": null,
            "_view_module": "@jupyter-widgets/base",
            "_view_module_version": "1.2.0",
            "_view_name": "LayoutView",
            "align_content": null,
            "align_items": null,
            "align_self": null,
            "border": null,
            "bottom": null,
            "display": null,
            "flex": null,
            "flex_flow": null,
            "grid_area": null,
            "grid_auto_columns": null,
            "grid_auto_flow": null,
            "grid_auto_rows": null,
            "grid_column": null,
            "grid_gap": null,
            "grid_row": null,
            "grid_template_areas": null,
            "grid_template_columns": null,
            "grid_template_rows": null,
            "height": null,
            "justify_content": null,
            "justify_items": null,
            "left": null,
            "margin": null,
            "max_height": null,
            "max_width": null,
            "min_height": null,
            "min_width": null,
            "object_fit": null,
            "object_position": null,
            "order": null,
            "overflow": null,
            "overflow_x": null,
            "overflow_y": null,
            "padding": null,
            "right": null,
            "top": null,
            "visibility": null,
            "width": null
          }
        },
        "105cf557dac14fc98e109591c076529a": {
          "model_module": "@jupyter-widgets/controls",
          "model_name": "ProgressStyleModel",
          "model_module_version": "1.5.0",
          "state": {
            "_model_module": "@jupyter-widgets/controls",
            "_model_module_version": "1.5.0",
            "_model_name": "ProgressStyleModel",
            "_view_count": null,
            "_view_module": "@jupyter-widgets/base",
            "_view_module_version": "1.2.0",
            "_view_name": "StyleView",
            "bar_color": null,
            "description_width": ""
          }
        },
        "6b5fde3695c245c89ecd60d02023d274": {
          "model_module": "@jupyter-widgets/base",
          "model_name": "LayoutModel",
          "model_module_version": "1.2.0",
          "state": {
            "_model_module": "@jupyter-widgets/base",
            "_model_module_version": "1.2.0",
            "_model_name": "LayoutModel",
            "_view_count": null,
            "_view_module": "@jupyter-widgets/base",
            "_view_module_version": "1.2.0",
            "_view_name": "LayoutView",
            "align_content": null,
            "align_items": null,
            "align_self": null,
            "border": null,
            "bottom": null,
            "display": null,
            "flex": null,
            "flex_flow": null,
            "grid_area": null,
            "grid_auto_columns": null,
            "grid_auto_flow": null,
            "grid_auto_rows": null,
            "grid_column": null,
            "grid_gap": null,
            "grid_row": null,
            "grid_template_areas": null,
            "grid_template_columns": null,
            "grid_template_rows": null,
            "height": null,
            "justify_content": null,
            "justify_items": null,
            "left": null,
            "margin": null,
            "max_height": null,
            "max_width": null,
            "min_height": null,
            "min_width": null,
            "object_fit": null,
            "object_position": null,
            "order": null,
            "overflow": null,
            "overflow_x": null,
            "overflow_y": null,
            "padding": null,
            "right": null,
            "top": null,
            "visibility": null,
            "width": null
          }
        },
        "79572905963446aa88a9e53767896536": {
          "model_module": "@jupyter-widgets/controls",
          "model_name": "DescriptionStyleModel",
          "model_module_version": "1.5.0",
          "state": {
            "_model_module": "@jupyter-widgets/controls",
            "_model_module_version": "1.5.0",
            "_model_name": "DescriptionStyleModel",
            "_view_count": null,
            "_view_module": "@jupyter-widgets/base",
            "_view_module_version": "1.2.0",
            "_view_name": "StyleView",
            "description_width": ""
          }
        },
        "cf286dd43f934b868ca2b986278791ee": {
          "model_module": "@jupyter-widgets/controls",
          "model_name": "HBoxModel",
          "model_module_version": "1.5.0",
          "state": {
            "_dom_classes": [],
            "_model_module": "@jupyter-widgets/controls",
            "_model_module_version": "1.5.0",
            "_model_name": "HBoxModel",
            "_view_count": null,
            "_view_module": "@jupyter-widgets/controls",
            "_view_module_version": "1.5.0",
            "_view_name": "HBoxView",
            "box_style": "",
            "children": [
              "IPY_MODEL_ebd8ee0a2db248e3bdebab7c42e69d99",
              "IPY_MODEL_573932d8b24c4fe89d1fd87e6eabbf62",
              "IPY_MODEL_cf96542da4b24b7cabdd9c6235c06b70"
            ],
            "layout": "IPY_MODEL_2246bfacc9d548e09cebb0e19e1c3725"
          }
        },
        "ebd8ee0a2db248e3bdebab7c42e69d99": {
          "model_module": "@jupyter-widgets/controls",
          "model_name": "HTMLModel",
          "model_module_version": "1.5.0",
          "state": {
            "_dom_classes": [],
            "_model_module": "@jupyter-widgets/controls",
            "_model_module_version": "1.5.0",
            "_model_name": "HTMLModel",
            "_view_count": null,
            "_view_module": "@jupyter-widgets/controls",
            "_view_module_version": "1.5.0",
            "_view_name": "HTMLView",
            "description": "",
            "description_tooltip": null,
            "layout": "IPY_MODEL_be230d9dd81b462a92f95908b450b351",
            "placeholder": "​",
            "style": "IPY_MODEL_78f8ce48a79547d48d8e9895e73fb995",
            "value": "Downloading artifacts: 100%"
          }
        },
        "573932d8b24c4fe89d1fd87e6eabbf62": {
          "model_module": "@jupyter-widgets/controls",
          "model_name": "FloatProgressModel",
          "model_module_version": "1.5.0",
          "state": {
            "_dom_classes": [],
            "_model_module": "@jupyter-widgets/controls",
            "_model_module_version": "1.5.0",
            "_model_name": "FloatProgressModel",
            "_view_count": null,
            "_view_module": "@jupyter-widgets/controls",
            "_view_module_version": "1.5.0",
            "_view_name": "ProgressView",
            "bar_style": "success",
            "description": "",
            "description_tooltip": null,
            "layout": "IPY_MODEL_40b638ceb3ae4cb8bb95d043c2152735",
            "max": 10,
            "min": 0,
            "orientation": "horizontal",
            "style": "IPY_MODEL_7d4f9f524e144cabb11ace31a82c8c0a",
            "value": 10
          }
        },
        "cf96542da4b24b7cabdd9c6235c06b70": {
          "model_module": "@jupyter-widgets/controls",
          "model_name": "HTMLModel",
          "model_module_version": "1.5.0",
          "state": {
            "_dom_classes": [],
            "_model_module": "@jupyter-widgets/controls",
            "_model_module_version": "1.5.0",
            "_model_name": "HTMLModel",
            "_view_count": null,
            "_view_module": "@jupyter-widgets/controls",
            "_view_module_version": "1.5.0",
            "_view_name": "HTMLView",
            "description": "",
            "description_tooltip": null,
            "layout": "IPY_MODEL_3e10a6edece24d0a8b4f62e77929dada",
            "placeholder": "​",
            "style": "IPY_MODEL_a606cec1f5d24f91acbe3168ad051504",
            "value": " 10/10 [00:00&lt;00:00, 140.77it/s]"
          }
        },
        "2246bfacc9d548e09cebb0e19e1c3725": {
          "model_module": "@jupyter-widgets/base",
          "model_name": "LayoutModel",
          "model_module_version": "1.2.0",
          "state": {
            "_model_module": "@jupyter-widgets/base",
            "_model_module_version": "1.2.0",
            "_model_name": "LayoutModel",
            "_view_count": null,
            "_view_module": "@jupyter-widgets/base",
            "_view_module_version": "1.2.0",
            "_view_name": "LayoutView",
            "align_content": null,
            "align_items": null,
            "align_self": null,
            "border": null,
            "bottom": null,
            "display": null,
            "flex": null,
            "flex_flow": null,
            "grid_area": null,
            "grid_auto_columns": null,
            "grid_auto_flow": null,
            "grid_auto_rows": null,
            "grid_column": null,
            "grid_gap": null,
            "grid_row": null,
            "grid_template_areas": null,
            "grid_template_columns": null,
            "grid_template_rows": null,
            "height": null,
            "justify_content": null,
            "justify_items": null,
            "left": null,
            "margin": null,
            "max_height": null,
            "max_width": null,
            "min_height": null,
            "min_width": null,
            "object_fit": null,
            "object_position": null,
            "order": null,
            "overflow": null,
            "overflow_x": null,
            "overflow_y": null,
            "padding": null,
            "right": null,
            "top": null,
            "visibility": null,
            "width": null
          }
        },
        "be230d9dd81b462a92f95908b450b351": {
          "model_module": "@jupyter-widgets/base",
          "model_name": "LayoutModel",
          "model_module_version": "1.2.0",
          "state": {
            "_model_module": "@jupyter-widgets/base",
            "_model_module_version": "1.2.0",
            "_model_name": "LayoutModel",
            "_view_count": null,
            "_view_module": "@jupyter-widgets/base",
            "_view_module_version": "1.2.0",
            "_view_name": "LayoutView",
            "align_content": null,
            "align_items": null,
            "align_self": null,
            "border": null,
            "bottom": null,
            "display": null,
            "flex": null,
            "flex_flow": null,
            "grid_area": null,
            "grid_auto_columns": null,
            "grid_auto_flow": null,
            "grid_auto_rows": null,
            "grid_column": null,
            "grid_gap": null,
            "grid_row": null,
            "grid_template_areas": null,
            "grid_template_columns": null,
            "grid_template_rows": null,
            "height": null,
            "justify_content": null,
            "justify_items": null,
            "left": null,
            "margin": null,
            "max_height": null,
            "max_width": null,
            "min_height": null,
            "min_width": null,
            "object_fit": null,
            "object_position": null,
            "order": null,
            "overflow": null,
            "overflow_x": null,
            "overflow_y": null,
            "padding": null,
            "right": null,
            "top": null,
            "visibility": null,
            "width": null
          }
        },
        "78f8ce48a79547d48d8e9895e73fb995": {
          "model_module": "@jupyter-widgets/controls",
          "model_name": "DescriptionStyleModel",
          "model_module_version": "1.5.0",
          "state": {
            "_model_module": "@jupyter-widgets/controls",
            "_model_module_version": "1.5.0",
            "_model_name": "DescriptionStyleModel",
            "_view_count": null,
            "_view_module": "@jupyter-widgets/base",
            "_view_module_version": "1.2.0",
            "_view_name": "StyleView",
            "description_width": ""
          }
        },
        "40b638ceb3ae4cb8bb95d043c2152735": {
          "model_module": "@jupyter-widgets/base",
          "model_name": "LayoutModel",
          "model_module_version": "1.2.0",
          "state": {
            "_model_module": "@jupyter-widgets/base",
            "_model_module_version": "1.2.0",
            "_model_name": "LayoutModel",
            "_view_count": null,
            "_view_module": "@jupyter-widgets/base",
            "_view_module_version": "1.2.0",
            "_view_name": "LayoutView",
            "align_content": null,
            "align_items": null,
            "align_self": null,
            "border": null,
            "bottom": null,
            "display": null,
            "flex": null,
            "flex_flow": null,
            "grid_area": null,
            "grid_auto_columns": null,
            "grid_auto_flow": null,
            "grid_auto_rows": null,
            "grid_column": null,
            "grid_gap": null,
            "grid_row": null,
            "grid_template_areas": null,
            "grid_template_columns": null,
            "grid_template_rows": null,
            "height": null,
            "justify_content": null,
            "justify_items": null,
            "left": null,
            "margin": null,
            "max_height": null,
            "max_width": null,
            "min_height": null,
            "min_width": null,
            "object_fit": null,
            "object_position": null,
            "order": null,
            "overflow": null,
            "overflow_x": null,
            "overflow_y": null,
            "padding": null,
            "right": null,
            "top": null,
            "visibility": null,
            "width": null
          }
        },
        "7d4f9f524e144cabb11ace31a82c8c0a": {
          "model_module": "@jupyter-widgets/controls",
          "model_name": "ProgressStyleModel",
          "model_module_version": "1.5.0",
          "state": {
            "_model_module": "@jupyter-widgets/controls",
            "_model_module_version": "1.5.0",
            "_model_name": "ProgressStyleModel",
            "_view_count": null,
            "_view_module": "@jupyter-widgets/base",
            "_view_module_version": "1.2.0",
            "_view_name": "StyleView",
            "bar_color": null,
            "description_width": ""
          }
        },
        "3e10a6edece24d0a8b4f62e77929dada": {
          "model_module": "@jupyter-widgets/base",
          "model_name": "LayoutModel",
          "model_module_version": "1.2.0",
          "state": {
            "_model_module": "@jupyter-widgets/base",
            "_model_module_version": "1.2.0",
            "_model_name": "LayoutModel",
            "_view_count": null,
            "_view_module": "@jupyter-widgets/base",
            "_view_module_version": "1.2.0",
            "_view_name": "LayoutView",
            "align_content": null,
            "align_items": null,
            "align_self": null,
            "border": null,
            "bottom": null,
            "display": null,
            "flex": null,
            "flex_flow": null,
            "grid_area": null,
            "grid_auto_columns": null,
            "grid_auto_flow": null,
            "grid_auto_rows": null,
            "grid_column": null,
            "grid_gap": null,
            "grid_row": null,
            "grid_template_areas": null,
            "grid_template_columns": null,
            "grid_template_rows": null,
            "height": null,
            "justify_content": null,
            "justify_items": null,
            "left": null,
            "margin": null,
            "max_height": null,
            "max_width": null,
            "min_height": null,
            "min_width": null,
            "object_fit": null,
            "object_position": null,
            "order": null,
            "overflow": null,
            "overflow_x": null,
            "overflow_y": null,
            "padding": null,
            "right": null,
            "top": null,
            "visibility": null,
            "width": null
          }
        },
        "a606cec1f5d24f91acbe3168ad051504": {
          "model_module": "@jupyter-widgets/controls",
          "model_name": "DescriptionStyleModel",
          "model_module_version": "1.5.0",
          "state": {
            "_model_module": "@jupyter-widgets/controls",
            "_model_module_version": "1.5.0",
            "_model_name": "DescriptionStyleModel",
            "_view_count": null,
            "_view_module": "@jupyter-widgets/base",
            "_view_module_version": "1.2.0",
            "_view_name": "StyleView",
            "description_width": ""
          }
        }
      }
    }
  },
  "nbformat": 4,
  "nbformat_minor": 0
}