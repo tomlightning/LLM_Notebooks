{
  "cells": [
    {
      "cell_type": "markdown",
      "metadata": {
        "id": "view-in-github",
        "colab_type": "text"
      },
      "source": [
        "<a href=\"https://colab.research.google.com/github/olonok69/LLM_Notebooks/blob/main/mlflow/deep_learning/MLFlow_tensorflow_flavor.ipynb\" target=\"_parent\"><img src=\"https://colab.research.google.com/assets/colab-badge.svg\" alt=\"Open In Colab\"/></a>"
      ]
    },
    {
      "cell_type": "markdown",
      "source": [
        "#MLFLOW\n",
        "https://mlflow.org/docs/latest/introduction/index.html\n",
        "\n",
        "\n",
        "MLflow is a solution to many of these issues in this dynamic landscape, offering tools and simplifying processes to streamline the ML lifecycle and foster collaboration among ML practitioners.\n",
        "\n",
        "\n",
        "\n",
        "# MLflow Tensorflow Guide\n",
        "https://mlflow.org/docs/latest/deep-learning/tensorflow/index.html\n",
        "\n",
        "# ngrok\n",
        "Connect localhost to the internet for testing applications and APIs\n",
        "Bring secure connectivity to apps and APIs in localhost and dev/test environments with just one command or function call.\n",
        "- Webhook testing\n",
        "- Developer Previews\n",
        "- Mobile backend testing\n",
        "\n",
        "https://ngrok.com/\n"
      ],
      "metadata": {
        "id": "nSXck4MZMLmi"
      }
    },
    {
      "cell_type": "code",
      "source": [
        "from google.colab import drive\n",
        "drive.mount('/content/drive')"
      ],
      "metadata": {
        "colab": {
          "base_uri": "https://localhost:8080/"
        },
        "id": "Vl9iotQIL95z",
        "outputId": "d8608e27-b34c-4689-dbf2-842a5f54acc5"
      },
      "execution_count": 1,
      "outputs": [
        {
          "output_type": "stream",
          "name": "stdout",
          "text": [
            "Drive already mounted at /content/drive; to attempt to forcibly remount, call drive.mount(\"/content/drive\", force_remount=True).\n"
          ]
        }
      ]
    },
    {
      "cell_type": "code",
      "source": [
        "!pip install mlflow pyngrok evaluate  bitsandbytes accelerate datasets transformers==4.39.3 --quiet\n",
        "get_ipython().system_raw(\"mlflow ui --port 5000 &\")"
      ],
      "metadata": {
        "id": "OLCKO2xiJxWg"
      },
      "execution_count": 2,
      "outputs": []
    },
    {
      "cell_type": "code",
      "source": [
        "\n",
        "from pyngrok import ngrok\n",
        "from getpass import getpass\n",
        "\n",
        "# Terminate open tunnels if exist\n",
        "ngrok.kill()"
      ],
      "metadata": {
        "id": "lyavcj5lKbgo"
      },
      "execution_count": 3,
      "outputs": []
    },
    {
      "cell_type": "code",
      "source": [
        "from google.colab import userdata\n",
        "NGROK_AUTH_TOKEN  = userdata.get('NGROK')\n",
        "\n",
        "ngrok.set_auth_token(NGROK_AUTH_TOKEN)\n",
        "\n",
        "# Open an HTTPs tunnel on port 5000 for http://localhost:5000\n",
        "ngrok_tunnel = ngrok.connect(addr=\"5000\", proto=\"http\", bind_tls=True)\n",
        "print(\"MLflow Tracking UI:\", ngrok_tunnel.public_url)"
      ],
      "metadata": {
        "colab": {
          "base_uri": "https://localhost:8080/"
        },
        "id": "pBF_ADV1KglQ",
        "outputId": "bad1537f-857a-4741-a627-555eb8b6de3f"
      },
      "execution_count": 4,
      "outputs": [
        {
          "output_type": "stream",
          "name": "stdout",
          "text": [
            "MLflow Tracking UI: https://a55a-35-240-182-192.ngrok-free.app\n"
          ]
        }
      ]
    },
    {
      "cell_type": "code",
      "execution_count": 6,
      "metadata": {
        "colab": {
          "base_uri": "https://localhost:8080/"
        },
        "id": "mIufw48uJCOi",
        "outputId": "01cf4a86-d5c3-4d7e-9a39-ba786c6e8405"
      },
      "outputs": [
        {
          "output_type": "stream",
          "name": "stdout",
          "text": [
            "2.15.0\n"
          ]
        }
      ],
      "source": [
        "import tensorflow as tf\n",
        "from sklearn.datasets import fetch_california_housing\n",
        "\n",
        "import mlflow\n",
        "from mlflow.models import infer_signature\n",
        "print(tf.__version__)\n"
      ]
    },
    {
      "cell_type": "code",
      "execution_count": 7,
      "metadata": {
        "id": "62iKDf55JCOs",
        "colab": {
          "base_uri": "https://localhost:8080/"
        },
        "outputId": "1dffe722-119a-4a13-83f0-8c755cd9c1b4"
      },
      "outputs": [
        {
          "output_type": "execute_result",
          "data": {
            "text/plain": [
              "[PhysicalDevice(name='/physical_device:CPU:0', device_type='CPU'),\n",
              " PhysicalDevice(name='/physical_device:GPU:0', device_type='GPU')]"
            ]
          },
          "metadata": {},
          "execution_count": 7
        }
      ],
      "source": [
        "tf.config.list_physical_devices()\n"
      ]
    },
    {
      "cell_type": "code",
      "source": [
        "class Normalize(tf.Module):\n",
        "    \"\"\"Data Normalization class\"\"\"\n",
        "\n",
        "    def __init__(self, x):\n",
        "        # Initialize the mean and standard deviation for normalization\n",
        "        self.mean = tf.math.reduce_mean(x, axis=0)\n",
        "        self.std = tf.math.reduce_std(x, axis=0)\n",
        "\n",
        "    def norm(self, x):\n",
        "        return (x - self.mean) / self.std\n",
        "\n",
        "    def unnorm(self, x):\n",
        "        return (x * self.std) + self.mean\n",
        "\n",
        "\n",
        "class LinearRegression(tf.Module):\n",
        "    \"\"\"Linear Regression model class\"\"\"\n",
        "\n",
        "    def __init__(self):\n",
        "        self.built = False\n",
        "\n",
        "    @tf.function\n",
        "    def __call__(self, x):\n",
        "        # Initialize the model parameters on the first call\n",
        "        if not self.built:\n",
        "            # Randomly generate the weight vector and bias term\n",
        "            rand_w = tf.random.uniform(shape=[x.shape[-1], 1])\n",
        "            rand_b = tf.random.uniform(shape=[])\n",
        "            self.w = tf.Variable(rand_w)\n",
        "            self.b = tf.Variable(rand_b)\n",
        "            self.built = True\n",
        "        y = tf.add(tf.matmul(x, self.w), self.b)\n",
        "        return tf.squeeze(y, axis=1)\n",
        "\n",
        "\n",
        "class ExportModule(tf.Module):\n",
        "    \"\"\"Exporting TF model\"\"\"\n",
        "\n",
        "    def __init__(self, model, norm_x, norm_y):\n",
        "        # Initialize pre and postprocessing functions\n",
        "        self.model = model\n",
        "        self.norm_x = norm_x\n",
        "        self.norm_y = norm_y\n",
        "\n",
        "    @tf.function(input_signature=[tf.TensorSpec(shape=[None, None], dtype=tf.float32)])\n",
        "    def __call__(self, x):\n",
        "        # Run the ExportModule for new data points\n",
        "        x = self.norm_x.norm(x)\n",
        "        y = self.model(x)\n",
        "        y = self.norm_y.unnorm(y)\n",
        "        return y\n",
        "\n",
        "\n",
        "def mse_loss(y_pred, y):\n",
        "    \"\"\"Calculating Mean Square Error Loss function\"\"\"\n",
        "    return tf.reduce_mean(tf.square(y_pred - y))"
      ],
      "metadata": {
        "id": "8sez3D5_d8sy"
      },
      "execution_count": 8,
      "outputs": []
    },
    {
      "cell_type": "markdown",
      "source": [
        "# Prepare the Data"
      ],
      "metadata": {
        "id": "y238ckU2XQdB"
      }
    },
    {
      "cell_type": "code",
      "source": [
        "tf.random.set_seed(42)\n",
        "\n",
        "# Load dataset\n",
        "dataset = fetch_california_housing(as_frame=True)[\"frame\"]\n",
        "# Drop missing values\n",
        "dataset = dataset.dropna()\n",
        "# using only 1500\n",
        "dataset = dataset[:1500]\n",
        "dataset_tf = tf.convert_to_tensor(dataset, dtype=tf.float32)\n",
        "\n",
        "# Split dataset into train and test\n",
        "dataset_shuffled = tf.random.shuffle(dataset_tf, seed=42)\n",
        "train_data, test_data = dataset_shuffled[100:], dataset_shuffled[:100]\n",
        "x_train, y_train = train_data[:, :-1], train_data[:, -1]\n",
        "x_test, y_test = test_data[:, :-1], test_data[:, -1]"
      ],
      "metadata": {
        "id": "6QHW12utW5Xq"
      },
      "execution_count": 9,
      "outputs": []
    },
    {
      "cell_type": "code",
      "source": [
        "# Data normalization\n",
        "norm_x = Normalize(x_train)\n",
        "norm_y = Normalize(y_train)\n",
        "x_train_norm, y_train_norm = norm_x.norm(x_train), norm_y.norm(y_train)\n",
        "x_test_norm, y_test_norm = norm_x.norm(x_test), norm_y.norm(y_test)"
      ],
      "metadata": {
        "id": "d8ucIpn8vNjT"
      },
      "execution_count": 10,
      "outputs": []
    },
    {
      "cell_type": "code",
      "source": [
        "mlflow.set_tracking_uri(\"http://127.0.0.1:5000\")\n",
        "mlflow.set_experiment(\"mlflow-tensorflow\")"
      ],
      "metadata": {
        "colab": {
          "base_uri": "https://localhost:8080/"
        },
        "id": "FZwsSewjefq5",
        "outputId": "693dd192-3892-4ff6-921a-c4e8523d8e07"
      },
      "execution_count": 11,
      "outputs": [
        {
          "output_type": "execute_result",
          "data": {
            "text/plain": [
              "<Experiment: artifact_location='mlflow-artifacts:/767691094531472360', creation_time=1715713380815, experiment_id='767691094531472360', last_update_time=1715713380815, lifecycle_stage='active', name='mlflow-tensorflow', tags={}>"
            ]
          },
          "metadata": {},
          "execution_count": 11
        }
      ]
    },
    {
      "cell_type": "code",
      "source": [
        "from datetime import datetime\n",
        "\n",
        "name = \"tensorflow_\" +datetime.now().strftime(\"%Y-%m-%d_%H:%M:%S\")\n",
        "\n",
        "\n",
        "with mlflow.start_run(run_name = name) as run:\n",
        "    # Initialize linear regression model\n",
        "    lin_reg = LinearRegression()\n",
        "\n",
        "    # Use mini batches for memory efficiency and faster convergence\n",
        "    batch_size = 32\n",
        "    train_dataset = tf.data.Dataset.from_tensor_slices((x_train_norm, y_train_norm))\n",
        "    train_dataset = train_dataset.shuffle(buffer_size=x_train.shape[0]).batch(batch_size)\n",
        "    test_dataset = tf.data.Dataset.from_tensor_slices((x_test_norm, y_test_norm))\n",
        "    test_dataset = test_dataset.shuffle(buffer_size=x_test.shape[0]).batch(batch_size)\n",
        "\n",
        "    # Set training parameters\n",
        "    epochs = 100\n",
        "    learning_rate = 0.01\n",
        "    train_losses, test_losses = [], []\n",
        "\n",
        "    # Format training loop\n",
        "    for epoch in range(epochs):\n",
        "        batch_losses_train, batch_losses_test = [], []\n",
        "\n",
        "        # Iterate through the training data\n",
        "        for x_batch, y_batch in train_dataset:\n",
        "            with tf.GradientTape() as tape:\n",
        "                y_pred_batch = lin_reg(x_batch)\n",
        "                batch_loss = mse_loss(y_pred_batch, y_batch)\n",
        "            # Update parameters with respect to the gradient calculations\n",
        "            grads = tape.gradient(batch_loss, lin_reg.variables)\n",
        "            for g, v in zip(grads, lin_reg.variables):\n",
        "                v.assign_sub(learning_rate * g)\n",
        "            # Keep track of batch-level training performance\n",
        "            batch_losses_train.append(batch_loss)\n",
        "\n",
        "        # Iterate through the testing data\n",
        "        for x_batch, y_batch in test_dataset:\n",
        "            y_pred_batch = lin_reg(x_batch)\n",
        "            batch_loss = mse_loss(y_pred_batch, y_batch)\n",
        "            # Keep track of batch-level testing performance\n",
        "            batch_losses_test.append(batch_loss)\n",
        "\n",
        "        # Keep track of epoch-level model performance\n",
        "        train_loss = tf.reduce_mean(batch_losses_train)\n",
        "        test_loss = tf.reduce_mean(batch_losses_test)\n",
        "        train_losses.append(train_loss)\n",
        "        test_losses.append(test_loss)\n",
        "        if epoch % 10 == 0:\n",
        "            mlflow.log_metric(key=\"train_losses\", value=train_loss, step=epoch)\n",
        "            mlflow.log_metric(key=\"test_losses\", value=test_loss, step=epoch)\n",
        "            print(f\"Mean squared error for step {epoch}: {train_loss.numpy():0.3f}\")\n",
        "\n",
        "    # Log the parameters\n",
        "    mlflow.log_params(\n",
        "        {\n",
        "            \"epochs\": epochs,\n",
        "            \"learning_rate\": learning_rate,\n",
        "            \"batch_size\": batch_size,\n",
        "        }\n",
        "    )\n",
        "    # Log the final metrics\n",
        "    mlflow.log_metrics(\n",
        "        {\n",
        "            \"final_train_loss\": train_loss.numpy(),\n",
        "            \"final_test_loss\": test_loss.numpy(),\n",
        "        }\n",
        "    )\n",
        "    print(f\"\\nFinal train loss: {train_loss:0.3f}\")\n",
        "    print(f\"Final test loss: {test_loss:0.3f}\")\n",
        "\n",
        "    # Export the tensorflow model\n",
        "    lin_reg_export = ExportModule(model=lin_reg, norm_x=norm_x, norm_y=norm_y)\n",
        "\n",
        "    # Infer model signature\n",
        "    predictions = lin_reg_export(x_test)\n",
        "    signature = infer_signature(x_test.numpy(), predictions.numpy())\n",
        "\n",
        "    mlflow.tensorflow.log_model(lin_reg_export, \"model\", signature=signature, registered_model_name=\"tensorflow_lr\")"
      ],
      "metadata": {
        "id": "45DyVXGLYOTo",
        "colab": {
          "base_uri": "https://localhost:8080/"
        },
        "outputId": "f33227ea-d810-4e79-d9d6-0b9f8a05bcc4"
      },
      "execution_count": 16,
      "outputs": [
        {
          "output_type": "stream",
          "name": "stdout",
          "text": [
            "Mean squared error for step 0: 1.398\n",
            "Mean squared error for step 10: 0.334\n",
            "Mean squared error for step 20: 0.333\n",
            "Mean squared error for step 30: 0.335\n",
            "Mean squared error for step 40: 0.333\n",
            "Mean squared error for step 50: 0.338\n",
            "Mean squared error for step 60: 0.336\n",
            "Mean squared error for step 70: 0.333\n",
            "Mean squared error for step 80: 0.335\n",
            "Mean squared error for step 90: 0.333\n",
            "\n",
            "Final train loss: 0.333\n",
            "Final test loss: 0.260\n"
          ]
        },
        {
          "output_type": "stream",
          "name": "stderr",
          "text": [
            "Successfully registered model 'tensorflow_lr'.\n",
            "2024/05/14 20:47:18 INFO mlflow.store.model_registry.abstract_store: Waiting up to 300 seconds for model version to finish creation. Model name: tensorflow_lr, version 1\n",
            "Created version '1' of model 'tensorflow_lr'.\n"
          ]
        }
      ]
    },
    {
      "cell_type": "code",
      "source": [
        "run.info.run_id"
      ],
      "metadata": {
        "colab": {
          "base_uri": "https://localhost:8080/",
          "height": 35
        },
        "id": "FrzsBHRXpmfg",
        "outputId": "b04bbf7f-8382-48bb-f9ad-436b487c1024"
      },
      "execution_count": 13,
      "outputs": [
        {
          "output_type": "execute_result",
          "data": {
            "text/plain": [
              "'fa74c244f29c41008e80070446a68b9f'"
            ],
            "application/vnd.google.colaboratory.intrinsic+json": {
              "type": "string"
            }
          },
          "metadata": {},
          "execution_count": 13
        }
      ]
    },
    {
      "cell_type": "code",
      "source": [
        "logged_model = f\"runs:/{run.info.run_id}/model\"\n",
        "loaded_model = mlflow.pyfunc.load_model(logged_model)"
      ],
      "metadata": {
        "id": "itmDj8Z7XzTI",
        "colab": {
          "base_uri": "https://localhost:8080/",
          "height": 66,
          "referenced_widgets": [
            "6051777dbbb0423d885f59c32b1bfcb7",
            "453124a087754c85821e399745282751",
            "28ec87a4c7194d5aa3db1781b34e1fe7",
            "60b427ff213c4e22adcbea45682ae425",
            "f23fd2250a204dad964d4196c8ea6417",
            "917eca0321854df58fc13caf56c29b6e",
            "9b30aabbf9eb4fa39e69ee24482d3b61",
            "95f5a432885e40f39d4ec2c729b77e51",
            "7ac88bd2721a42948cb5b60389e1fc7b",
            "1b75f15a80b24f5497650ad704bb2d18",
            "6371ab5b72cf4c85988be933b5c8a361"
          ]
        },
        "outputId": "0d189a1a-294b-42db-baf6-ca7962b1ad6a"
      },
      "execution_count": 14,
      "outputs": [
        {
          "output_type": "display_data",
          "data": {
            "text/plain": [
              "Downloading artifacts:   0%|          | 0/12 [00:00<?, ?it/s]"
            ],
            "application/vnd.jupyter.widget-view+json": {
              "version_major": 2,
              "version_minor": 0,
              "model_id": "6051777dbbb0423d885f59c32b1bfcb7"
            }
          },
          "metadata": {}
        },
        {
          "output_type": "stream",
          "name": "stderr",
          "text": [
            "2024/05/14 20:42:05 INFO mlflow.store.artifact.artifact_repo: The progress bar can be disabled by setting the environment variable MLFLOW_ENABLE_ARTIFACTS_PROGRESS_BAR to false\n"
          ]
        }
      ]
    },
    {
      "cell_type": "code",
      "source": [
        "outputs = loaded_model.predict(x_test.numpy())\n",
        "outputs"
      ],
      "metadata": {
        "id": "24ydnJuRZGck",
        "colab": {
          "base_uri": "https://localhost:8080/"
        },
        "outputId": "c2aceec8-5410-4d27-e820-e7c384730a08"
      },
      "execution_count": 15,
      "outputs": [
        {
          "output_type": "execute_result",
          "data": {
            "text/plain": [
              "array([2.2163126 , 1.6451656 , 1.804493  , 1.2201953 , 0.9080635 ,\n",
              "       1.9017402 , 0.98906505, 1.3687284 , 1.9475015 , 2.0216427 ,\n",
              "       1.7333492 , 2.47976   , 2.6459627 , 1.9686491 , 1.8496821 ,\n",
              "       2.5025854 , 1.4471438 , 1.5147371 , 0.8561319 , 1.6534791 ,\n",
              "       2.0665548 , 2.272903  , 1.4881923 , 1.9272366 , 2.1707692 ,\n",
              "       1.1793005 , 2.5638027 , 3.6020558 , 1.5714581 , 3.479729  ,\n",
              "       0.38970757, 0.91512764, 3.138976  , 2.6060925 , 2.3265615 ,\n",
              "       0.83257914, 1.112021  , 1.8539352 , 2.5160146 , 1.8843647 ,\n",
              "       1.8942856 , 1.3865997 , 2.0320039 , 2.1332588 , 2.2617807 ,\n",
              "       0.81241846, 1.7360295 , 1.026869  , 2.1482837 , 2.2589004 ,\n",
              "       2.1978738 , 2.290679  , 0.6576586 , 1.2034651 , 1.1126769 ,\n",
              "       1.7134082 , 2.5083458 , 1.9382279 , 1.5992904 , 2.342893  ,\n",
              "       1.224571  , 1.4508934 , 0.35418236, 1.2836893 , 1.6263521 ,\n",
              "       2.066717  , 1.31025   , 2.6582181 , 1.3381137 , 1.1638503 ,\n",
              "       2.8206224 , 1.7700377 , 1.8327236 , 1.3529251 , 3.1817045 ,\n",
              "       2.1085815 , 1.0118918 , 1.4502985 , 1.8718827 , 1.7704564 ,\n",
              "       2.8152373 , 2.939643  , 2.6058743 , 3.4194527 , 2.1131465 ,\n",
              "       2.9153466 , 0.8112016 , 1.6842213 , 1.0621185 , 1.0481583 ,\n",
              "       1.8739656 , 3.1733274 , 2.0347223 , 1.5688446 , 2.4245777 ,\n",
              "       2.5680952 , 1.5809466 , 1.590137  , 2.577455  , 2.369505  ],\n",
              "      dtype=float32)"
            ]
          },
          "metadata": {},
          "execution_count": 15
        }
      ]
    },
    {
      "cell_type": "code",
      "source": [
        "ngrok.kill()"
      ],
      "metadata": {
        "id": "gacOoqHhi23R"
      },
      "execution_count": null,
      "outputs": []
    }
  ],
  "metadata": {
    "kernelspec": {
      "display_name": "Python 3",
      "name": "python3"
    },
    "language_info": {
      "codemirror_mode": {
        "name": "ipython",
        "version": 3
      },
      "file_extension": ".py",
      "mimetype": "text/x-python",
      "name": "python",
      "nbconvert_exporter": "python",
      "pygments_lexer": "ipython3",
      "version": "3.8.13"
    },
    "colab": {
      "provenance": [],
      "gpuType": "L4",
      "machine_shape": "hm",
      "include_colab_link": true
    },
    "accelerator": "GPU",
    "widgets": {
      "application/vnd.jupyter.widget-state+json": {
        "6051777dbbb0423d885f59c32b1bfcb7": {
          "model_module": "@jupyter-widgets/controls",
          "model_name": "HBoxModel",
          "model_module_version": "1.5.0",
          "state": {
            "_dom_classes": [],
            "_model_module": "@jupyter-widgets/controls",
            "_model_module_version": "1.5.0",
            "_model_name": "HBoxModel",
            "_view_count": null,
            "_view_module": "@jupyter-widgets/controls",
            "_view_module_version": "1.5.0",
            "_view_name": "HBoxView",
            "box_style": "",
            "children": [
              "IPY_MODEL_453124a087754c85821e399745282751",
              "IPY_MODEL_28ec87a4c7194d5aa3db1781b34e1fe7",
              "IPY_MODEL_60b427ff213c4e22adcbea45682ae425"
            ],
            "layout": "IPY_MODEL_f23fd2250a204dad964d4196c8ea6417"
          }
        },
        "453124a087754c85821e399745282751": {
          "model_module": "@jupyter-widgets/controls",
          "model_name": "HTMLModel",
          "model_module_version": "1.5.0",
          "state": {
            "_dom_classes": [],
            "_model_module": "@jupyter-widgets/controls",
            "_model_module_version": "1.5.0",
            "_model_name": "HTMLModel",
            "_view_count": null,
            "_view_module": "@jupyter-widgets/controls",
            "_view_module_version": "1.5.0",
            "_view_name": "HTMLView",
            "description": "",
            "description_tooltip": null,
            "layout": "IPY_MODEL_917eca0321854df58fc13caf56c29b6e",
            "placeholder": "​",
            "style": "IPY_MODEL_9b30aabbf9eb4fa39e69ee24482d3b61",
            "value": "Downloading artifacts: 100%"
          }
        },
        "28ec87a4c7194d5aa3db1781b34e1fe7": {
          "model_module": "@jupyter-widgets/controls",
          "model_name": "FloatProgressModel",
          "model_module_version": "1.5.0",
          "state": {
            "_dom_classes": [],
            "_model_module": "@jupyter-widgets/controls",
            "_model_module_version": "1.5.0",
            "_model_name": "FloatProgressModel",
            "_view_count": null,
            "_view_module": "@jupyter-widgets/controls",
            "_view_module_version": "1.5.0",
            "_view_name": "ProgressView",
            "bar_style": "success",
            "description": "",
            "description_tooltip": null,
            "layout": "IPY_MODEL_95f5a432885e40f39d4ec2c729b77e51",
            "max": 12,
            "min": 0,
            "orientation": "horizontal",
            "style": "IPY_MODEL_7ac88bd2721a42948cb5b60389e1fc7b",
            "value": 12
          }
        },
        "60b427ff213c4e22adcbea45682ae425": {
          "model_module": "@jupyter-widgets/controls",
          "model_name": "HTMLModel",
          "model_module_version": "1.5.0",
          "state": {
            "_dom_classes": [],
            "_model_module": "@jupyter-widgets/controls",
            "_model_module_version": "1.5.0",
            "_model_name": "HTMLModel",
            "_view_count": null,
            "_view_module": "@jupyter-widgets/controls",
            "_view_module_version": "1.5.0",
            "_view_name": "HTMLView",
            "description": "",
            "description_tooltip": null,
            "layout": "IPY_MODEL_1b75f15a80b24f5497650ad704bb2d18",
            "placeholder": "​",
            "style": "IPY_MODEL_6371ab5b72cf4c85988be933b5c8a361",
            "value": " 12/12 [00:00&lt;00:00, 644.31it/s]"
          }
        },
        "f23fd2250a204dad964d4196c8ea6417": {
          "model_module": "@jupyter-widgets/base",
          "model_name": "LayoutModel",
          "model_module_version": "1.2.0",
          "state": {
            "_model_module": "@jupyter-widgets/base",
            "_model_module_version": "1.2.0",
            "_model_name": "LayoutModel",
            "_view_count": null,
            "_view_module": "@jupyter-widgets/base",
            "_view_module_version": "1.2.0",
            "_view_name": "LayoutView",
            "align_content": null,
            "align_items": null,
            "align_self": null,
            "border": null,
            "bottom": null,
            "display": null,
            "flex": null,
            "flex_flow": null,
            "grid_area": null,
            "grid_auto_columns": null,
            "grid_auto_flow": null,
            "grid_auto_rows": null,
            "grid_column": null,
            "grid_gap": null,
            "grid_row": null,
            "grid_template_areas": null,
            "grid_template_columns": null,
            "grid_template_rows": null,
            "height": null,
            "justify_content": null,
            "justify_items": null,
            "left": null,
            "margin": null,
            "max_height": null,
            "max_width": null,
            "min_height": null,
            "min_width": null,
            "object_fit": null,
            "object_position": null,
            "order": null,
            "overflow": null,
            "overflow_x": null,
            "overflow_y": null,
            "padding": null,
            "right": null,
            "top": null,
            "visibility": null,
            "width": null
          }
        },
        "917eca0321854df58fc13caf56c29b6e": {
          "model_module": "@jupyter-widgets/base",
          "model_name": "LayoutModel",
          "model_module_version": "1.2.0",
          "state": {
            "_model_module": "@jupyter-widgets/base",
            "_model_module_version": "1.2.0",
            "_model_name": "LayoutModel",
            "_view_count": null,
            "_view_module": "@jupyter-widgets/base",
            "_view_module_version": "1.2.0",
            "_view_name": "LayoutView",
            "align_content": null,
            "align_items": null,
            "align_self": null,
            "border": null,
            "bottom": null,
            "display": null,
            "flex": null,
            "flex_flow": null,
            "grid_area": null,
            "grid_auto_columns": null,
            "grid_auto_flow": null,
            "grid_auto_rows": null,
            "grid_column": null,
            "grid_gap": null,
            "grid_row": null,
            "grid_template_areas": null,
            "grid_template_columns": null,
            "grid_template_rows": null,
            "height": null,
            "justify_content": null,
            "justify_items": null,
            "left": null,
            "margin": null,
            "max_height": null,
            "max_width": null,
            "min_height": null,
            "min_width": null,
            "object_fit": null,
            "object_position": null,
            "order": null,
            "overflow": null,
            "overflow_x": null,
            "overflow_y": null,
            "padding": null,
            "right": null,
            "top": null,
            "visibility": null,
            "width": null
          }
        },
        "9b30aabbf9eb4fa39e69ee24482d3b61": {
          "model_module": "@jupyter-widgets/controls",
          "model_name": "DescriptionStyleModel",
          "model_module_version": "1.5.0",
          "state": {
            "_model_module": "@jupyter-widgets/controls",
            "_model_module_version": "1.5.0",
            "_model_name": "DescriptionStyleModel",
            "_view_count": null,
            "_view_module": "@jupyter-widgets/base",
            "_view_module_version": "1.2.0",
            "_view_name": "StyleView",
            "description_width": ""
          }
        },
        "95f5a432885e40f39d4ec2c729b77e51": {
          "model_module": "@jupyter-widgets/base",
          "model_name": "LayoutModel",
          "model_module_version": "1.2.0",
          "state": {
            "_model_module": "@jupyter-widgets/base",
            "_model_module_version": "1.2.0",
            "_model_name": "LayoutModel",
            "_view_count": null,
            "_view_module": "@jupyter-widgets/base",
            "_view_module_version": "1.2.0",
            "_view_name": "LayoutView",
            "align_content": null,
            "align_items": null,
            "align_self": null,
            "border": null,
            "bottom": null,
            "display": null,
            "flex": null,
            "flex_flow": null,
            "grid_area": null,
            "grid_auto_columns": null,
            "grid_auto_flow": null,
            "grid_auto_rows": null,
            "grid_column": null,
            "grid_gap": null,
            "grid_row": null,
            "grid_template_areas": null,
            "grid_template_columns": null,
            "grid_template_rows": null,
            "height": null,
            "justify_content": null,
            "justify_items": null,
            "left": null,
            "margin": null,
            "max_height": null,
            "max_width": null,
            "min_height": null,
            "min_width": null,
            "object_fit": null,
            "object_position": null,
            "order": null,
            "overflow": null,
            "overflow_x": null,
            "overflow_y": null,
            "padding": null,
            "right": null,
            "top": null,
            "visibility": null,
            "width": null
          }
        },
        "7ac88bd2721a42948cb5b60389e1fc7b": {
          "model_module": "@jupyter-widgets/controls",
          "model_name": "ProgressStyleModel",
          "model_module_version": "1.5.0",
          "state": {
            "_model_module": "@jupyter-widgets/controls",
            "_model_module_version": "1.5.0",
            "_model_name": "ProgressStyleModel",
            "_view_count": null,
            "_view_module": "@jupyter-widgets/base",
            "_view_module_version": "1.2.0",
            "_view_name": "StyleView",
            "bar_color": null,
            "description_width": ""
          }
        },
        "1b75f15a80b24f5497650ad704bb2d18": {
          "model_module": "@jupyter-widgets/base",
          "model_name": "LayoutModel",
          "model_module_version": "1.2.0",
          "state": {
            "_model_module": "@jupyter-widgets/base",
            "_model_module_version": "1.2.0",
            "_model_name": "LayoutModel",
            "_view_count": null,
            "_view_module": "@jupyter-widgets/base",
            "_view_module_version": "1.2.0",
            "_view_name": "LayoutView",
            "align_content": null,
            "align_items": null,
            "align_self": null,
            "border": null,
            "bottom": null,
            "display": null,
            "flex": null,
            "flex_flow": null,
            "grid_area": null,
            "grid_auto_columns": null,
            "grid_auto_flow": null,
            "grid_auto_rows": null,
            "grid_column": null,
            "grid_gap": null,
            "grid_row": null,
            "grid_template_areas": null,
            "grid_template_columns": null,
            "grid_template_rows": null,
            "height": null,
            "justify_content": null,
            "justify_items": null,
            "left": null,
            "margin": null,
            "max_height": null,
            "max_width": null,
            "min_height": null,
            "min_width": null,
            "object_fit": null,
            "object_position": null,
            "order": null,
            "overflow": null,
            "overflow_x": null,
            "overflow_y": null,
            "padding": null,
            "right": null,
            "top": null,
            "visibility": null,
            "width": null
          }
        },
        "6371ab5b72cf4c85988be933b5c8a361": {
          "model_module": "@jupyter-widgets/controls",
          "model_name": "DescriptionStyleModel",
          "model_module_version": "1.5.0",
          "state": {
            "_model_module": "@jupyter-widgets/controls",
            "_model_module_version": "1.5.0",
            "_model_name": "DescriptionStyleModel",
            "_view_count": null,
            "_view_module": "@jupyter-widgets/base",
            "_view_module_version": "1.2.0",
            "_view_name": "StyleView",
            "description_width": ""
          }
        }
      }
    }
  },
  "nbformat": 4,
  "nbformat_minor": 0
}