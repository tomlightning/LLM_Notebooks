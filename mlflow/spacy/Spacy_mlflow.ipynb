{
  "nbformat": 4,
  "nbformat_minor": 0,
  "metadata": {
    "colab": {
      "provenance": [],
      "authorship_tag": "ABX9TyPTxkqVXXTsDmXJHAU6wShq",
      "include_colab_link": true
    },
    "kernelspec": {
      "name": "python3",
      "display_name": "Python 3"
    },
    "language_info": {
      "name": "python"
    },
    "widgets": {
      "application/vnd.jupyter.widget-state+json": {
        "501924e0284d43528d651913eed6f611": {
          "model_module": "@jupyter-widgets/controls",
          "model_name": "HBoxModel",
          "model_module_version": "1.5.0",
          "state": {
            "_dom_classes": [],
            "_model_module": "@jupyter-widgets/controls",
            "_model_module_version": "1.5.0",
            "_model_name": "HBoxModel",
            "_view_count": null,
            "_view_module": "@jupyter-widgets/controls",
            "_view_module_version": "1.5.0",
            "_view_name": "HBoxView",
            "box_style": "",
            "children": [
              "IPY_MODEL_8a320b70659b4fd4ac1ecd332e8bc410",
              "IPY_MODEL_685bb1fba3ba456b90f4c77cb90b1ced",
              "IPY_MODEL_5f08cd71cc4c4dc6ad5f287d62625ed7"
            ],
            "layout": "IPY_MODEL_9810a034162d45af922d9a768faeab66"
          }
        },
        "8a320b70659b4fd4ac1ecd332e8bc410": {
          "model_module": "@jupyter-widgets/controls",
          "model_name": "HTMLModel",
          "model_module_version": "1.5.0",
          "state": {
            "_dom_classes": [],
            "_model_module": "@jupyter-widgets/controls",
            "_model_module_version": "1.5.0",
            "_model_name": "HTMLModel",
            "_view_count": null,
            "_view_module": "@jupyter-widgets/controls",
            "_view_module_version": "1.5.0",
            "_view_name": "HTMLView",
            "description": "",
            "description_tooltip": null,
            "layout": "IPY_MODEL_717a9f1cb8724587a9ee942b0622f31d",
            "placeholder": "​",
            "style": "IPY_MODEL_7b7c36c6654248dbb2d467231d0dc141",
            "value": "Downloading artifacts: 100%"
          }
        },
        "685bb1fba3ba456b90f4c77cb90b1ced": {
          "model_module": "@jupyter-widgets/controls",
          "model_name": "FloatProgressModel",
          "model_module_version": "1.5.0",
          "state": {
            "_dom_classes": [],
            "_model_module": "@jupyter-widgets/controls",
            "_model_module_version": "1.5.0",
            "_model_name": "FloatProgressModel",
            "_view_count": null,
            "_view_module": "@jupyter-widgets/controls",
            "_view_module_version": "1.5.0",
            "_view_name": "ProgressView",
            "bar_style": "success",
            "description": "",
            "description_tooltip": null,
            "layout": "IPY_MODEL_c771f7c21c294fa7a0c3cf2a6d051de0",
            "max": 30,
            "min": 0,
            "orientation": "horizontal",
            "style": "IPY_MODEL_1c4ae51e8b3549d8aa4283686a06137b",
            "value": 30
          }
        },
        "5f08cd71cc4c4dc6ad5f287d62625ed7": {
          "model_module": "@jupyter-widgets/controls",
          "model_name": "HTMLModel",
          "model_module_version": "1.5.0",
          "state": {
            "_dom_classes": [],
            "_model_module": "@jupyter-widgets/controls",
            "_model_module_version": "1.5.0",
            "_model_name": "HTMLModel",
            "_view_count": null,
            "_view_module": "@jupyter-widgets/controls",
            "_view_module_version": "1.5.0",
            "_view_name": "HTMLView",
            "description": "",
            "description_tooltip": null,
            "layout": "IPY_MODEL_b699287c7610457b84c13a8a14d41933",
            "placeholder": "​",
            "style": "IPY_MODEL_4024424e4eb34af9b7207dd8fdc1b266",
            "value": " 30/30 [00:01&lt;00:00, 43.22it/s]"
          }
        },
        "9810a034162d45af922d9a768faeab66": {
          "model_module": "@jupyter-widgets/base",
          "model_name": "LayoutModel",
          "model_module_version": "1.2.0",
          "state": {
            "_model_module": "@jupyter-widgets/base",
            "_model_module_version": "1.2.0",
            "_model_name": "LayoutModel",
            "_view_count": null,
            "_view_module": "@jupyter-widgets/base",
            "_view_module_version": "1.2.0",
            "_view_name": "LayoutView",
            "align_content": null,
            "align_items": null,
            "align_self": null,
            "border": null,
            "bottom": null,
            "display": null,
            "flex": null,
            "flex_flow": null,
            "grid_area": null,
            "grid_auto_columns": null,
            "grid_auto_flow": null,
            "grid_auto_rows": null,
            "grid_column": null,
            "grid_gap": null,
            "grid_row": null,
            "grid_template_areas": null,
            "grid_template_columns": null,
            "grid_template_rows": null,
            "height": null,
            "justify_content": null,
            "justify_items": null,
            "left": null,
            "margin": null,
            "max_height": null,
            "max_width": null,
            "min_height": null,
            "min_width": null,
            "object_fit": null,
            "object_position": null,
            "order": null,
            "overflow": null,
            "overflow_x": null,
            "overflow_y": null,
            "padding": null,
            "right": null,
            "top": null,
            "visibility": null,
            "width": null
          }
        },
        "717a9f1cb8724587a9ee942b0622f31d": {
          "model_module": "@jupyter-widgets/base",
          "model_name": "LayoutModel",
          "model_module_version": "1.2.0",
          "state": {
            "_model_module": "@jupyter-widgets/base",
            "_model_module_version": "1.2.0",
            "_model_name": "LayoutModel",
            "_view_count": null,
            "_view_module": "@jupyter-widgets/base",
            "_view_module_version": "1.2.0",
            "_view_name": "LayoutView",
            "align_content": null,
            "align_items": null,
            "align_self": null,
            "border": null,
            "bottom": null,
            "display": null,
            "flex": null,
            "flex_flow": null,
            "grid_area": null,
            "grid_auto_columns": null,
            "grid_auto_flow": null,
            "grid_auto_rows": null,
            "grid_column": null,
            "grid_gap": null,
            "grid_row": null,
            "grid_template_areas": null,
            "grid_template_columns": null,
            "grid_template_rows": null,
            "height": null,
            "justify_content": null,
            "justify_items": null,
            "left": null,
            "margin": null,
            "max_height": null,
            "max_width": null,
            "min_height": null,
            "min_width": null,
            "object_fit": null,
            "object_position": null,
            "order": null,
            "overflow": null,
            "overflow_x": null,
            "overflow_y": null,
            "padding": null,
            "right": null,
            "top": null,
            "visibility": null,
            "width": null
          }
        },
        "7b7c36c6654248dbb2d467231d0dc141": {
          "model_module": "@jupyter-widgets/controls",
          "model_name": "DescriptionStyleModel",
          "model_module_version": "1.5.0",
          "state": {
            "_model_module": "@jupyter-widgets/controls",
            "_model_module_version": "1.5.0",
            "_model_name": "DescriptionStyleModel",
            "_view_count": null,
            "_view_module": "@jupyter-widgets/base",
            "_view_module_version": "1.2.0",
            "_view_name": "StyleView",
            "description_width": ""
          }
        },
        "c771f7c21c294fa7a0c3cf2a6d051de0": {
          "model_module": "@jupyter-widgets/base",
          "model_name": "LayoutModel",
          "model_module_version": "1.2.0",
          "state": {
            "_model_module": "@jupyter-widgets/base",
            "_model_module_version": "1.2.0",
            "_model_name": "LayoutModel",
            "_view_count": null,
            "_view_module": "@jupyter-widgets/base",
            "_view_module_version": "1.2.0",
            "_view_name": "LayoutView",
            "align_content": null,
            "align_items": null,
            "align_self": null,
            "border": null,
            "bottom": null,
            "display": null,
            "flex": null,
            "flex_flow": null,
            "grid_area": null,
            "grid_auto_columns": null,
            "grid_auto_flow": null,
            "grid_auto_rows": null,
            "grid_column": null,
            "grid_gap": null,
            "grid_row": null,
            "grid_template_areas": null,
            "grid_template_columns": null,
            "grid_template_rows": null,
            "height": null,
            "justify_content": null,
            "justify_items": null,
            "left": null,
            "margin": null,
            "max_height": null,
            "max_width": null,
            "min_height": null,
            "min_width": null,
            "object_fit": null,
            "object_position": null,
            "order": null,
            "overflow": null,
            "overflow_x": null,
            "overflow_y": null,
            "padding": null,
            "right": null,
            "top": null,
            "visibility": null,
            "width": null
          }
        },
        "1c4ae51e8b3549d8aa4283686a06137b": {
          "model_module": "@jupyter-widgets/controls",
          "model_name": "ProgressStyleModel",
          "model_module_version": "1.5.0",
          "state": {
            "_model_module": "@jupyter-widgets/controls",
            "_model_module_version": "1.5.0",
            "_model_name": "ProgressStyleModel",
            "_view_count": null,
            "_view_module": "@jupyter-widgets/base",
            "_view_module_version": "1.2.0",
            "_view_name": "StyleView",
            "bar_color": null,
            "description_width": ""
          }
        },
        "b699287c7610457b84c13a8a14d41933": {
          "model_module": "@jupyter-widgets/base",
          "model_name": "LayoutModel",
          "model_module_version": "1.2.0",
          "state": {
            "_model_module": "@jupyter-widgets/base",
            "_model_module_version": "1.2.0",
            "_model_name": "LayoutModel",
            "_view_count": null,
            "_view_module": "@jupyter-widgets/base",
            "_view_module_version": "1.2.0",
            "_view_name": "LayoutView",
            "align_content": null,
            "align_items": null,
            "align_self": null,
            "border": null,
            "bottom": null,
            "display": null,
            "flex": null,
            "flex_flow": null,
            "grid_area": null,
            "grid_auto_columns": null,
            "grid_auto_flow": null,
            "grid_auto_rows": null,
            "grid_column": null,
            "grid_gap": null,
            "grid_row": null,
            "grid_template_areas": null,
            "grid_template_columns": null,
            "grid_template_rows": null,
            "height": null,
            "justify_content": null,
            "justify_items": null,
            "left": null,
            "margin": null,
            "max_height": null,
            "max_width": null,
            "min_height": null,
            "min_width": null,
            "object_fit": null,
            "object_position": null,
            "order": null,
            "overflow": null,
            "overflow_x": null,
            "overflow_y": null,
            "padding": null,
            "right": null,
            "top": null,
            "visibility": null,
            "width": null
          }
        },
        "4024424e4eb34af9b7207dd8fdc1b266": {
          "model_module": "@jupyter-widgets/controls",
          "model_name": "DescriptionStyleModel",
          "model_module_version": "1.5.0",
          "state": {
            "_model_module": "@jupyter-widgets/controls",
            "_model_module_version": "1.5.0",
            "_model_name": "DescriptionStyleModel",
            "_view_count": null,
            "_view_module": "@jupyter-widgets/base",
            "_view_module_version": "1.2.0",
            "_view_name": "StyleView",
            "description_width": ""
          }
        },
        "96abecabd6354c1eb4b0240dd9822141": {
          "model_module": "@jupyter-widgets/controls",
          "model_name": "HBoxModel",
          "model_module_version": "1.5.0",
          "state": {
            "_dom_classes": [],
            "_model_module": "@jupyter-widgets/controls",
            "_model_module_version": "1.5.0",
            "_model_name": "HBoxModel",
            "_view_count": null,
            "_view_module": "@jupyter-widgets/controls",
            "_view_module_version": "1.5.0",
            "_view_name": "HBoxView",
            "box_style": "",
            "children": [
              "IPY_MODEL_052e7ebeceb942ffb0d2648908f5c9e1",
              "IPY_MODEL_0b356e3fd91d4e608418cf911ac9635d",
              "IPY_MODEL_9de939999189476687eddc1ce3ae43a8"
            ],
            "layout": "IPY_MODEL_9c8cb92b0f0f43b3aa58133c98cb4ac5"
          }
        },
        "052e7ebeceb942ffb0d2648908f5c9e1": {
          "model_module": "@jupyter-widgets/controls",
          "model_name": "HTMLModel",
          "model_module_version": "1.5.0",
          "state": {
            "_dom_classes": [],
            "_model_module": "@jupyter-widgets/controls",
            "_model_module_version": "1.5.0",
            "_model_name": "HTMLModel",
            "_view_count": null,
            "_view_module": "@jupyter-widgets/controls",
            "_view_module_version": "1.5.0",
            "_view_name": "HTMLView",
            "description": "",
            "description_tooltip": null,
            "layout": "IPY_MODEL_bc926d3032164e86b091fd079c9e33a9",
            "placeholder": "​",
            "style": "IPY_MODEL_5b7cdcd9f69f4b6bab301b760f618979",
            "value": "Downloading artifacts: 100%"
          }
        },
        "0b356e3fd91d4e608418cf911ac9635d": {
          "model_module": "@jupyter-widgets/controls",
          "model_name": "FloatProgressModel",
          "model_module_version": "1.5.0",
          "state": {
            "_dom_classes": [],
            "_model_module": "@jupyter-widgets/controls",
            "_model_module_version": "1.5.0",
            "_model_name": "FloatProgressModel",
            "_view_count": null,
            "_view_module": "@jupyter-widgets/controls",
            "_view_module_version": "1.5.0",
            "_view_name": "ProgressView",
            "bar_style": "success",
            "description": "",
            "description_tooltip": null,
            "layout": "IPY_MODEL_ecaf7ffc822447f68a25bdac12f60e46",
            "max": 19,
            "min": 0,
            "orientation": "horizontal",
            "style": "IPY_MODEL_d2e1c807f7a04a9688efd6e94ee47687",
            "value": 19
          }
        },
        "9de939999189476687eddc1ce3ae43a8": {
          "model_module": "@jupyter-widgets/controls",
          "model_name": "HTMLModel",
          "model_module_version": "1.5.0",
          "state": {
            "_dom_classes": [],
            "_model_module": "@jupyter-widgets/controls",
            "_model_module_version": "1.5.0",
            "_model_name": "HTMLModel",
            "_view_count": null,
            "_view_module": "@jupyter-widgets/controls",
            "_view_module_version": "1.5.0",
            "_view_name": "HTMLView",
            "description": "",
            "description_tooltip": null,
            "layout": "IPY_MODEL_03ea0a1fb1e04fb4afd9e8318d81a38c",
            "placeholder": "​",
            "style": "IPY_MODEL_ce3b5630f22c480889f7c50899eb584a",
            "value": " 19/19 [00:00&lt;00:00, 83.81it/s]"
          }
        },
        "9c8cb92b0f0f43b3aa58133c98cb4ac5": {
          "model_module": "@jupyter-widgets/base",
          "model_name": "LayoutModel",
          "model_module_version": "1.2.0",
          "state": {
            "_model_module": "@jupyter-widgets/base",
            "_model_module_version": "1.2.0",
            "_model_name": "LayoutModel",
            "_view_count": null,
            "_view_module": "@jupyter-widgets/base",
            "_view_module_version": "1.2.0",
            "_view_name": "LayoutView",
            "align_content": null,
            "align_items": null,
            "align_self": null,
            "border": null,
            "bottom": null,
            "display": null,
            "flex": null,
            "flex_flow": null,
            "grid_area": null,
            "grid_auto_columns": null,
            "grid_auto_flow": null,
            "grid_auto_rows": null,
            "grid_column": null,
            "grid_gap": null,
            "grid_row": null,
            "grid_template_areas": null,
            "grid_template_columns": null,
            "grid_template_rows": null,
            "height": null,
            "justify_content": null,
            "justify_items": null,
            "left": null,
            "margin": null,
            "max_height": null,
            "max_width": null,
            "min_height": null,
            "min_width": null,
            "object_fit": null,
            "object_position": null,
            "order": null,
            "overflow": null,
            "overflow_x": null,
            "overflow_y": null,
            "padding": null,
            "right": null,
            "top": null,
            "visibility": null,
            "width": null
          }
        },
        "bc926d3032164e86b091fd079c9e33a9": {
          "model_module": "@jupyter-widgets/base",
          "model_name": "LayoutModel",
          "model_module_version": "1.2.0",
          "state": {
            "_model_module": "@jupyter-widgets/base",
            "_model_module_version": "1.2.0",
            "_model_name": "LayoutModel",
            "_view_count": null,
            "_view_module": "@jupyter-widgets/base",
            "_view_module_version": "1.2.0",
            "_view_name": "LayoutView",
            "align_content": null,
            "align_items": null,
            "align_self": null,
            "border": null,
            "bottom": null,
            "display": null,
            "flex": null,
            "flex_flow": null,
            "grid_area": null,
            "grid_auto_columns": null,
            "grid_auto_flow": null,
            "grid_auto_rows": null,
            "grid_column": null,
            "grid_gap": null,
            "grid_row": null,
            "grid_template_areas": null,
            "grid_template_columns": null,
            "grid_template_rows": null,
            "height": null,
            "justify_content": null,
            "justify_items": null,
            "left": null,
            "margin": null,
            "max_height": null,
            "max_width": null,
            "min_height": null,
            "min_width": null,
            "object_fit": null,
            "object_position": null,
            "order": null,
            "overflow": null,
            "overflow_x": null,
            "overflow_y": null,
            "padding": null,
            "right": null,
            "top": null,
            "visibility": null,
            "width": null
          }
        },
        "5b7cdcd9f69f4b6bab301b760f618979": {
          "model_module": "@jupyter-widgets/controls",
          "model_name": "DescriptionStyleModel",
          "model_module_version": "1.5.0",
          "state": {
            "_model_module": "@jupyter-widgets/controls",
            "_model_module_version": "1.5.0",
            "_model_name": "DescriptionStyleModel",
            "_view_count": null,
            "_view_module": "@jupyter-widgets/base",
            "_view_module_version": "1.2.0",
            "_view_name": "StyleView",
            "description_width": ""
          }
        },
        "ecaf7ffc822447f68a25bdac12f60e46": {
          "model_module": "@jupyter-widgets/base",
          "model_name": "LayoutModel",
          "model_module_version": "1.2.0",
          "state": {
            "_model_module": "@jupyter-widgets/base",
            "_model_module_version": "1.2.0",
            "_model_name": "LayoutModel",
            "_view_count": null,
            "_view_module": "@jupyter-widgets/base",
            "_view_module_version": "1.2.0",
            "_view_name": "LayoutView",
            "align_content": null,
            "align_items": null,
            "align_self": null,
            "border": null,
            "bottom": null,
            "display": null,
            "flex": null,
            "flex_flow": null,
            "grid_area": null,
            "grid_auto_columns": null,
            "grid_auto_flow": null,
            "grid_auto_rows": null,
            "grid_column": null,
            "grid_gap": null,
            "grid_row": null,
            "grid_template_areas": null,
            "grid_template_columns": null,
            "grid_template_rows": null,
            "height": null,
            "justify_content": null,
            "justify_items": null,
            "left": null,
            "margin": null,
            "max_height": null,
            "max_width": null,
            "min_height": null,
            "min_width": null,
            "object_fit": null,
            "object_position": null,
            "order": null,
            "overflow": null,
            "overflow_x": null,
            "overflow_y": null,
            "padding": null,
            "right": null,
            "top": null,
            "visibility": null,
            "width": null
          }
        },
        "d2e1c807f7a04a9688efd6e94ee47687": {
          "model_module": "@jupyter-widgets/controls",
          "model_name": "ProgressStyleModel",
          "model_module_version": "1.5.0",
          "state": {
            "_model_module": "@jupyter-widgets/controls",
            "_model_module_version": "1.5.0",
            "_model_name": "ProgressStyleModel",
            "_view_count": null,
            "_view_module": "@jupyter-widgets/base",
            "_view_module_version": "1.2.0",
            "_view_name": "StyleView",
            "bar_color": null,
            "description_width": ""
          }
        },
        "03ea0a1fb1e04fb4afd9e8318d81a38c": {
          "model_module": "@jupyter-widgets/base",
          "model_name": "LayoutModel",
          "model_module_version": "1.2.0",
          "state": {
            "_model_module": "@jupyter-widgets/base",
            "_model_module_version": "1.2.0",
            "_model_name": "LayoutModel",
            "_view_count": null,
            "_view_module": "@jupyter-widgets/base",
            "_view_module_version": "1.2.0",
            "_view_name": "LayoutView",
            "align_content": null,
            "align_items": null,
            "align_self": null,
            "border": null,
            "bottom": null,
            "display": null,
            "flex": null,
            "flex_flow": null,
            "grid_area": null,
            "grid_auto_columns": null,
            "grid_auto_flow": null,
            "grid_auto_rows": null,
            "grid_column": null,
            "grid_gap": null,
            "grid_row": null,
            "grid_template_areas": null,
            "grid_template_columns": null,
            "grid_template_rows": null,
            "height": null,
            "justify_content": null,
            "justify_items": null,
            "left": null,
            "margin": null,
            "max_height": null,
            "max_width": null,
            "min_height": null,
            "min_width": null,
            "object_fit": null,
            "object_position": null,
            "order": null,
            "overflow": null,
            "overflow_x": null,
            "overflow_y": null,
            "padding": null,
            "right": null,
            "top": null,
            "visibility": null,
            "width": null
          }
        },
        "ce3b5630f22c480889f7c50899eb584a": {
          "model_module": "@jupyter-widgets/controls",
          "model_name": "DescriptionStyleModel",
          "model_module_version": "1.5.0",
          "state": {
            "_model_module": "@jupyter-widgets/controls",
            "_model_module_version": "1.5.0",
            "_model_name": "DescriptionStyleModel",
            "_view_count": null,
            "_view_module": "@jupyter-widgets/base",
            "_view_module_version": "1.2.0",
            "_view_name": "StyleView",
            "description_width": ""
          }
        }
      }
    }
  },
  "cells": [
    {
      "cell_type": "markdown",
      "metadata": {
        "id": "view-in-github",
        "colab_type": "text"
      },
      "source": [
        "<a href=\"https://colab.research.google.com/github/olonok69/LLM_Notebooks/blob/main/mlflow/spacy/Spacy_mlflow.ipynb\" target=\"_parent\"><img src=\"https://colab.research.google.com/assets/colab-badge.svg\" alt=\"Open In Colab\"/></a>"
      ]
    },
    {
      "cell_type": "markdown",
      "source": [
        "# SPACY\n",
        "spaCy is a modern Python library for industrial-strength Natural Language\n",
        "\n",
        "\n",
        "![image.png](data:image/png;base64,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)\n",
        "\n",
        "\n",
        "\n",
        "# Install\n",
        "https://spacy.io/usage\n",
        "\n",
        "\n",
        "### Models\n",
        "SpaCy’s trained pipelines can be installed as Python packages. This means that they’re a component of your application, just like any other module. They’re versioned and can be defined as a dependency in your requirements.txt. Trained pipelines can be installed from a download URL or a local directory, manually or via pip. Their data can be located anywhere on your file system.\n",
        "\n",
        "https://spacy.io/usage/models\n",
        "\n",
        "### Linguistic Features\n",
        "https://spacy.io/usage/linguistic-features\n",
        "\n",
        "### training pipelines and models\n",
        "https://spacy.io/usage/training\n",
        "\n",
        "https://spacy.io/usage/processing-pipelines/"
      ],
      "metadata": {
        "id": "XlAbQECVARzF"
      }
    },
    {
      "cell_type": "code",
      "execution_count": 1,
      "metadata": {
        "colab": {
          "base_uri": "https://localhost:8080/"
        },
        "id": "Hl-W1IDIAQov",
        "outputId": "81b454f6-7a8b-4b50-85a9-f13c7ff5cc6b"
      },
      "outputs": [
        {
          "output_type": "stream",
          "name": "stdout",
          "text": [
            "\u001b[2K     \u001b[90m━━━━━━━━━━━━━━━━━━━━━━━━━━━━━━━━━━━━━━━━\u001b[0m \u001b[32m25.8/25.8 MB\u001b[0m \u001b[31m29.1 MB/s\u001b[0m eta \u001b[36m0:00:00\u001b[0m\n",
            "\u001b[2K     \u001b[90m━━━━━━━━━━━━━━━━━━━━━━━━━━━━━━━━━━━━━━━━\u001b[0m \u001b[32m59.9/59.9 kB\u001b[0m \u001b[31m7.0 MB/s\u001b[0m eta \u001b[36m0:00:00\u001b[0m\n",
            "\u001b[2K     \u001b[90m━━━━━━━━━━━━━━━━━━━━━━━━━━━━━━━━━━━━━━━━\u001b[0m \u001b[32m107.0/107.0 kB\u001b[0m \u001b[31m6.1 MB/s\u001b[0m eta \u001b[36m0:00:00\u001b[0m\n",
            "\u001b[2K     \u001b[90m━━━━━━━━━━━━━━━━━━━━━━━━━━━━━━━━━━━━━━━━\u001b[0m \u001b[32m130.5/130.5 kB\u001b[0m \u001b[31m13.9 MB/s\u001b[0m eta \u001b[36m0:00:00\u001b[0m\n",
            "\u001b[?25h"
          ]
        }
      ],
      "source": [
        "%pip install -U  mlflow==2.14.1  pyngrok  nltk spacy -q"
      ]
    },
    {
      "cell_type": "code",
      "source": [
        "import spacy\n",
        "from pyngrok import ngrok"
      ],
      "metadata": {
        "id": "PQOsuasTBpPD"
      },
      "execution_count": 47,
      "outputs": []
    },
    {
      "cell_type": "code",
      "source": [
        "spacy.__version__"
      ],
      "metadata": {
        "colab": {
          "base_uri": "https://localhost:8080/",
          "height": 35
        },
        "id": "GrBy0-pyfbDN",
        "outputId": "bebc45f1-973b-4fe7-c732-d9ac07253c4c"
      },
      "execution_count": 48,
      "outputs": [
        {
          "output_type": "execute_result",
          "data": {
            "text/plain": [
              "'3.7.5'"
            ],
            "application/vnd.google.colaboratory.intrinsic+json": {
              "type": "string"
            }
          },
          "metadata": {},
          "execution_count": 48
        }
      ]
    },
    {
      "cell_type": "code",
      "source": [
        "get_ipython().system_raw(\"mlflow ui --port 5000 &\")\n",
        "\n",
        "\n",
        "# Terminate open tunnels if exist\n",
        "ngrok.kill()"
      ],
      "metadata": {
        "id": "eCkvTTmQB-br"
      },
      "execution_count": 30,
      "outputs": []
    },
    {
      "cell_type": "code",
      "source": [
        "from google.colab import userdata\n",
        "NGROK_AUTH_TOKEN  = userdata.get('NGROK')\n",
        "\n",
        "ngrok.set_auth_token(NGROK_AUTH_TOKEN)\n",
        "\n",
        "# Open an HTTPs tunnel on port 5000 for http://localhost:5000\n",
        "ngrok_tunnel = ngrok.connect(addr=\"5000\", proto=\"http\", bind_tls=True)\n",
        "print(\"MLflow Tracking UI:\", ngrok_tunnel.public_url)"
      ],
      "metadata": {
        "colab": {
          "base_uri": "https://localhost:8080/"
        },
        "id": "fh-D7PGuCA4C",
        "outputId": "e5c70203-c1f8-4d32-c7b7-61dd0c2cf6ac"
      },
      "execution_count": 31,
      "outputs": [
        {
          "output_type": "stream",
          "name": "stdout",
          "text": [
            "MLflow Tracking UI: https://6b16-34-80-105-206.ngrok-free.app\n"
          ]
        }
      ]
    },
    {
      "cell_type": "code",
      "source": [
        "import random\n",
        "\n",
        "import spacy\n",
        "from packaging.version import Version\n",
        "from spacy.util import compounding, minibatch\n",
        "from spacy.training import Example\n",
        "import mlflow.spacy\n",
        "\n",
        "IS_SPACY_VERSION_NEWER_THAN_OR_EQUAL_TO_3_0_0 = Version(spacy.__version__) >= Version(\"3.0.0\")\n",
        "IS_SPACY_VERSION_NEWER_THAN_OR_EQUAL_TO_3_0_0"
      ],
      "metadata": {
        "colab": {
          "base_uri": "https://localhost:8080/"
        },
        "id": "nr6GHlA4CK7C",
        "outputId": "32baed02-f1f6-4038-803b-5769a4b7114f"
      },
      "execution_count": 5,
      "outputs": [
        {
          "output_type": "execute_result",
          "data": {
            "text/plain": [
              "True"
            ]
          },
          "metadata": {},
          "execution_count": 5
        }
      ]
    },
    {
      "cell_type": "code",
      "source": [
        "text = \"\"\"\n",
        "Baremo 2015   NO OK  516 paginas\n",
        "\n",
        "BAREMO_AMA_BOE_RD_1971-1999 OK\n",
        "\n",
        "BAREMO_PARA_LA_CALIFICACION_DEL_GRADO_DE_MINUSVALIA_Anexo_I_RD_1971-1999 OK\n",
        "\n",
        "Clasificación de intervenciòn quirúrgica por nomenclator  OK\n",
        "\n",
        "Guia de Valoración Profesional NO OK 1137 paginas y tamano mayor de 7mb\n",
        "\n",
        "GUIA_DE_VALORACION_DE_INCAPACIDAD_LABORAL_PARA_AP  NO OK 320 paginas\n",
        "\n",
        "Ley Enjuciamiento Civil NO OK 360 paginas\n",
        "\n",
        "Proyecto de Ley Valoracion daÃ±os OK\n",
        "\n",
        "Tabla combinada OK\n",
        "\n",
        "Tabla indenizaciones ok\n",
        "\n",
        "Valoración del INSS de enfermedades para incapacidades NO OK 430 paginas\n",
        "\n",
        "\n",
        "enumera las cinco categorías o clases de discapacidad\n",
        "\"\"\""
      ],
      "metadata": {
        "id": "UYQl_YATT6JJ"
      },
      "execution_count": 49,
      "outputs": []
    },
    {
      "cell_type": "code",
      "source": [
        "nlp = spacy.blank(\"en\")"
      ],
      "metadata": {
        "id": "lo1TYNClUXi_"
      },
      "execution_count": 51,
      "outputs": []
    },
    {
      "cell_type": "code",
      "source": [
        "nlp.pipe_names"
      ],
      "metadata": {
        "colab": {
          "base_uri": "https://localhost:8080/"
        },
        "id": "X90u0MenX4T9",
        "outputId": "f2e5d509-0767-41b5-b80b-8a440f5fd6c8"
      },
      "execution_count": 52,
      "outputs": [
        {
          "output_type": "execute_result",
          "data": {
            "text/plain": [
              "[]"
            ]
          },
          "metadata": {},
          "execution_count": 52
        }
      ]
    },
    {
      "cell_type": "code",
      "source": [
        "nlp.tokenizer"
      ],
      "metadata": {
        "colab": {
          "base_uri": "https://localhost:8080/"
        },
        "id": "SOZmxiB8yJLG",
        "outputId": "3ad9ec55-1a4d-4673-c040-bb31ece23b87"
      },
      "execution_count": 54,
      "outputs": [
        {
          "output_type": "execute_result",
          "data": {
            "text/plain": [
              "<spacy.tokenizer.Tokenizer at 0x7810e481cca0>"
            ]
          },
          "metadata": {},
          "execution_count": 54
        }
      ]
    },
    {
      "cell_type": "code",
      "source": [
        "nlp.config"
      ],
      "metadata": {
        "colab": {
          "base_uri": "https://localhost:8080/"
        },
        "id": "rJGqwZZ-nHVE",
        "outputId": "fc810235-90d0-42b4-d83a-85d4993c5b4a"
      },
      "execution_count": 53,
      "outputs": [
        {
          "output_type": "execute_result",
          "data": {
            "text/plain": [
              "{'paths': {'train': None, 'dev': None, 'vectors': None, 'init_tok2vec': None},\n",
              " 'system': {'seed': 0, 'gpu_allocator': None},\n",
              " 'nlp': {'lang': 'en',\n",
              "  'pipeline': [],\n",
              "  'disabled': [],\n",
              "  'before_creation': None,\n",
              "  'after_creation': None,\n",
              "  'after_pipeline_creation': None,\n",
              "  'batch_size': 1000,\n",
              "  'tokenizer': {'@tokenizers': 'spacy.Tokenizer.v1'},\n",
              "  'vectors': {'@vectors': 'spacy.Vectors.v1'}},\n",
              " 'components': {},\n",
              " 'corpora': {'dev': {'@readers': 'spacy.Corpus.v1',\n",
              "   'path': '${paths.dev}',\n",
              "   'gold_preproc': False,\n",
              "   'max_length': 0,\n",
              "   'limit': 0,\n",
              "   'augmenter': None},\n",
              "  'train': {'@readers': 'spacy.Corpus.v1',\n",
              "   'path': '${paths.train}',\n",
              "   'gold_preproc': False,\n",
              "   'max_length': 0,\n",
              "   'limit': 0,\n",
              "   'augmenter': None}},\n",
              " 'training': {'seed': '${system.seed}',\n",
              "  'gpu_allocator': '${system.gpu_allocator}',\n",
              "  'dropout': 0.1,\n",
              "  'accumulate_gradient': 1,\n",
              "  'patience': 1600,\n",
              "  'max_epochs': 0,\n",
              "  'max_steps': 20000,\n",
              "  'eval_frequency': 200,\n",
              "  'score_weights': {},\n",
              "  'frozen_components': [],\n",
              "  'annotating_components': [],\n",
              "  'dev_corpus': 'corpora.dev',\n",
              "  'train_corpus': 'corpora.train',\n",
              "  'before_to_disk': None,\n",
              "  'before_update': None,\n",
              "  'batcher': {'@batchers': 'spacy.batch_by_words.v1',\n",
              "   'discard_oversize': False,\n",
              "   'tolerance': 0.2,\n",
              "   'size': {'@schedules': 'compounding.v1',\n",
              "    'start': 100,\n",
              "    'stop': 1000,\n",
              "    'compound': 1.001,\n",
              "    't': 0.0},\n",
              "   'get_length': None},\n",
              "  'logger': {'@loggers': 'spacy.ConsoleLogger.v1', 'progress_bar': False},\n",
              "  'optimizer': {'@optimizers': 'Adam.v1',\n",
              "   'beta1': 0.9,\n",
              "   'beta2': 0.999,\n",
              "   'L2_is_weight_decay': True,\n",
              "   'L2': 0.01,\n",
              "   'grad_clip': 1.0,\n",
              "   'use_averages': False,\n",
              "   'eps': 1e-08,\n",
              "   'learn_rate': 0.001}},\n",
              " 'pretraining': {},\n",
              " 'initialize': {'vectors': '${paths.vectors}',\n",
              "  'init_tok2vec': '${paths.init_tok2vec}',\n",
              "  'vocab_data': None,\n",
              "  'lookups': None,\n",
              "  'tokenizer': {},\n",
              "  'components': {},\n",
              "  'before_init': None,\n",
              "  'after_init': None}}"
            ]
          },
          "metadata": {},
          "execution_count": 53
        }
      ]
    },
    {
      "cell_type": "code",
      "source": [
        "doc = nlp(text)"
      ],
      "metadata": {
        "id": "-e_eDepTUCMJ"
      },
      "execution_count": 55,
      "outputs": []
    },
    {
      "cell_type": "code",
      "source": [
        "doc.text"
      ],
      "metadata": {
        "colab": {
          "base_uri": "https://localhost:8080/",
          "height": 87
        },
        "id": "JnYyP7OcUci_",
        "outputId": "933aaded-4376-4164-a9a0-3f4c56cce93b"
      },
      "execution_count": 56,
      "outputs": [
        {
          "output_type": "execute_result",
          "data": {
            "text/plain": [
              "'\\nBaremo 2015   NO OK  516 paginas\\n\\nBAREMO_AMA_BOE_RD_1971-1999 OK\\n\\nBAREMO_PARA_LA_CALIFICACION_DEL_GRADO_DE_MINUSVALIA_Anexo_I_RD_1971-1999 OK\\n\\nClasificación de intervenciòn quirúrgica por nomenclator  OK\\n\\nGuia de Valoración Profesional NO OK 1137 paginas y tamano mayor de 7mb\\n\\nGUIA_DE_VALORACION_DE_INCAPACIDAD_LABORAL_PARA_AP  NO OK 320 paginas\\n\\nLey Enjuciamiento Civil NO OK 360 paginas\\n\\nProyecto de Ley Valoracion daÃ±os OK \\n\\nTabla combinada OK\\n\\nTabla indenizaciones ok\\n\\nValoración del INSS de enfermedades para incapacidades NO OK 430 paginas\\n\\n\\nenumera las cinco categorías o clases de discapacidad\\n'"
            ],
            "application/vnd.google.colaboratory.intrinsic+json": {
              "type": "string"
            }
          },
          "metadata": {},
          "execution_count": 56
        }
      ]
    },
    {
      "cell_type": "code",
      "source": [
        "doc.lang_"
      ],
      "metadata": {
        "colab": {
          "base_uri": "https://localhost:8080/",
          "height": 35
        },
        "id": "9zqKothVkeP2",
        "outputId": "7fac3cb0-a730-42a3-9a6b-324a626880a7"
      },
      "execution_count": 57,
      "outputs": [
        {
          "output_type": "execute_result",
          "data": {
            "text/plain": [
              "'en'"
            ],
            "application/vnd.google.colaboratory.intrinsic+json": {
              "type": "string"
            }
          },
          "metadata": {},
          "execution_count": 57
        }
      ]
    },
    {
      "cell_type": "code",
      "source": [
        "type(doc)"
      ],
      "metadata": {
        "colab": {
          "base_uri": "https://localhost:8080/"
        },
        "id": "FG44tYEiyTdc",
        "outputId": "2f63ab1d-a92f-45f9-cb47-077643cd1c14"
      },
      "execution_count": 58,
      "outputs": [
        {
          "output_type": "execute_result",
          "data": {
            "text/plain": [
              "spacy.tokens.doc.Doc"
            ]
          },
          "metadata": {},
          "execution_count": 58
        }
      ]
    },
    {
      "cell_type": "code",
      "source": [
        "for sen in doc.sents:\n",
        "  for token in sen:\n",
        "    print(token.text, token.pos_)\n"
      ],
      "metadata": {
        "colab": {
          "base_uri": "https://localhost:8080/",
          "height": 228
        },
        "id": "YhXKoc2bhG83",
        "outputId": "7ff1b7e2-60f8-4224-c1c3-6077279897e7"
      },
      "execution_count": 59,
      "outputs": [
        {
          "output_type": "error",
          "ename": "ValueError",
          "evalue": "[E030] Sentence boundaries unset. You can add the 'sentencizer' component to the pipeline with: `nlp.add_pipe('sentencizer')`. Alternatively, add the dependency parser or sentence recognizer, or set sentence boundaries by setting `doc[i].is_sent_start`.",
          "traceback": [
            "\u001b[0;31m---------------------------------------------------------------------------\u001b[0m",
            "\u001b[0;31mValueError\u001b[0m                                Traceback (most recent call last)",
            "\u001b[0;32m<ipython-input-59-3a6636e07114>\u001b[0m in \u001b[0;36m<cell line: 1>\u001b[0;34m()\u001b[0m\n\u001b[0;32m----> 1\u001b[0;31m \u001b[0;32mfor\u001b[0m \u001b[0msen\u001b[0m \u001b[0;32min\u001b[0m \u001b[0mdoc\u001b[0m\u001b[0;34m.\u001b[0m\u001b[0msents\u001b[0m\u001b[0;34m:\u001b[0m\u001b[0;34m\u001b[0m\u001b[0;34m\u001b[0m\u001b[0m\n\u001b[0m\u001b[1;32m      2\u001b[0m   \u001b[0;32mfor\u001b[0m \u001b[0mtoken\u001b[0m \u001b[0;32min\u001b[0m \u001b[0msen\u001b[0m\u001b[0;34m:\u001b[0m\u001b[0;34m\u001b[0m\u001b[0;34m\u001b[0m\u001b[0m\n\u001b[1;32m      3\u001b[0m     \u001b[0mprint\u001b[0m\u001b[0;34m(\u001b[0m\u001b[0mtoken\u001b[0m\u001b[0;34m.\u001b[0m\u001b[0mtext\u001b[0m\u001b[0;34m,\u001b[0m \u001b[0mtoken\u001b[0m\u001b[0;34m.\u001b[0m\u001b[0mpos_\u001b[0m\u001b[0;34m)\u001b[0m\u001b[0;34m\u001b[0m\u001b[0;34m\u001b[0m\u001b[0m\n",
            "\u001b[0;32m/usr/local/lib/python3.10/dist-packages/spacy/tokens/doc.pyx\u001b[0m in \u001b[0;36msents\u001b[0;34m()\u001b[0m\n",
            "\u001b[0;31mValueError\u001b[0m: [E030] Sentence boundaries unset. You can add the 'sentencizer' component to the pipeline with: `nlp.add_pipe('sentencizer')`. Alternatively, add the dependency parser or sentence recognizer, or set sentence boundaries by setting `doc[i].is_sent_start`."
          ]
        }
      ]
    },
    {
      "cell_type": "code",
      "source": [
        "# python -m spacy download en_core_web_sm\n",
        "nlp1 = spacy.load(\"en_core_web_sm\")"
      ],
      "metadata": {
        "id": "54NThCfbVO3Y"
      },
      "execution_count": 60,
      "outputs": []
    },
    {
      "cell_type": "code",
      "source": [
        "nlp1.pipe_names\n"
      ],
      "metadata": {
        "colab": {
          "base_uri": "https://localhost:8080/"
        },
        "id": "hgHu0LRKVfFQ",
        "outputId": "62fe385f-b532-49e4-8b63-48ef8b29b1cf"
      },
      "execution_count": 61,
      "outputs": [
        {
          "output_type": "execute_result",
          "data": {
            "text/plain": [
              "['tok2vec', 'tagger', 'parser', 'attribute_ruler', 'lemmatizer', 'ner']"
            ]
          },
          "metadata": {},
          "execution_count": 61
        }
      ]
    },
    {
      "cell_type": "code",
      "source": [
        "#! python -m spacy download en_core_web_trf --quiet"
      ],
      "metadata": {
        "id": "Gwx9t6BVlPkR"
      },
      "execution_count": 16,
      "outputs": []
    },
    {
      "cell_type": "code",
      "source": [
        "nlp1b = spacy.load(\"en_core_web_trf\")"
      ],
      "metadata": {
        "id": "oLp9lON_lDP-"
      },
      "execution_count": 62,
      "outputs": []
    },
    {
      "cell_type": "code",
      "source": [
        "nlp1b.pipe_names\n"
      ],
      "metadata": {
        "colab": {
          "base_uri": "https://localhost:8080/"
        },
        "id": "jpSaSe3CmuAg",
        "outputId": "4b95a359-fdcb-4946-f0d7-8f48fdf61fea"
      },
      "execution_count": 63,
      "outputs": [
        {
          "output_type": "execute_result",
          "data": {
            "text/plain": [
              "['transformer', 'tagger', 'parser', 'attribute_ruler', 'lemmatizer', 'ner']"
            ]
          },
          "metadata": {},
          "execution_count": 63
        }
      ]
    },
    {
      "cell_type": "code",
      "source": [
        "nlp1b.config"
      ],
      "metadata": {
        "colab": {
          "base_uri": "https://localhost:8080/"
        },
        "id": "SPK2gB_5mweo",
        "outputId": "9b163327-3cca-4cf2-8240-e89ebbe12831"
      },
      "execution_count": 64,
      "outputs": [
        {
          "output_type": "execute_result",
          "data": {
            "text/plain": [
              "{'paths': {'train': None, 'dev': None, 'vectors': None, 'init_tok2vec': None},\n",
              " 'system': {'gpu_allocator': 'pytorch', 'seed': 1},\n",
              " 'nlp': {'lang': 'en',\n",
              "  'pipeline': ['transformer',\n",
              "   'tagger',\n",
              "   'parser',\n",
              "   'attribute_ruler',\n",
              "   'lemmatizer',\n",
              "   'ner'],\n",
              "  'disabled': [],\n",
              "  'before_creation': None,\n",
              "  'after_creation': None,\n",
              "  'after_pipeline_creation': None,\n",
              "  'batch_size': 64,\n",
              "  'tokenizer': {'@tokenizers': 'spacy.Tokenizer.v1'},\n",
              "  'vectors': {'@vectors': 'spacy.Vectors.v1'}},\n",
              " 'components': {'transformer': {'factory': 'curated_transformer',\n",
              "   'all_layer_outputs': False,\n",
              "   'frozen': False,\n",
              "   'model': {'@architectures': 'spacy-curated-transformers.RobertaTransformer.v1',\n",
              "    'vocab_size': 50265,\n",
              "    'hidden_width': 768,\n",
              "    'piece_encoder': {'@architectures': 'spacy-curated-transformers.ByteBpeEncoder.v1'},\n",
              "    'attention_probs_dropout_prob': 0.1,\n",
              "    'hidden_act': 'gelu',\n",
              "    'hidden_dropout_prob': 0.1,\n",
              "    'intermediate_width': 3072,\n",
              "    'layer_norm_eps': 1e-05,\n",
              "    'max_position_embeddings': 514,\n",
              "    'model_max_length': 512,\n",
              "    'num_attention_heads': 12,\n",
              "    'num_hidden_layers': 12,\n",
              "    'padding_idx': 1,\n",
              "    'type_vocab_size': 1,\n",
              "    'torchscript': False,\n",
              "    'mixed_precision': False,\n",
              "    'wrapped_listener': None,\n",
              "    'grad_scaler_config': {},\n",
              "    'with_spans': {'@architectures': 'spacy-curated-transformers.WithStridedSpans.v1',\n",
              "     'stride': 104,\n",
              "     'window': 144,\n",
              "     'batch_size': 384}}},\n",
              "  'tagger': {'factory': 'tagger',\n",
              "   'label_smoothing': 0.0,\n",
              "   'model': {'@architectures': 'spacy.Tagger.v2',\n",
              "    'nO': None,\n",
              "    'normalize': False,\n",
              "    'tok2vec': {'@architectures': 'spacy-curated-transformers.LastTransformerLayerListener.v1',\n",
              "     'width': '${components.transformer.model.hidden_width}',\n",
              "     'upstream': 'transformer',\n",
              "     'pooling': {'@layers': 'reduce_mean.v1'},\n",
              "     'grad_factor': 1.0}},\n",
              "   'neg_prefix': '!',\n",
              "   'overwrite': False,\n",
              "   'scorer': {'@scorers': 'spacy.tagger_scorer.v1'}},\n",
              "  'parser': {'factory': 'parser',\n",
              "   'learn_tokens': False,\n",
              "   'min_action_freq': 30,\n",
              "   'model': {'@architectures': 'spacy.TransitionBasedParser.v2',\n",
              "    'state_type': 'parser',\n",
              "    'extra_state_tokens': False,\n",
              "    'hidden_width': 64,\n",
              "    'maxout_pieces': 2,\n",
              "    'use_upper': False,\n",
              "    'nO': None,\n",
              "    'tok2vec': {'@architectures': 'spacy-curated-transformers.LastTransformerLayerListener.v1',\n",
              "     'width': '${components.transformer.model.hidden_width}',\n",
              "     'upstream': 'transformer',\n",
              "     'pooling': {'@layers': 'reduce_mean.v1'},\n",
              "     'grad_factor': 1.0}},\n",
              "   'moves': None,\n",
              "   'scorer': {'@scorers': 'spacy.parser_scorer.v1'},\n",
              "   'update_with_oracle_cut_size': 100},\n",
              "  'attribute_ruler': {'factory': 'attribute_ruler',\n",
              "   'scorer': {'@scorers': 'spacy.attribute_ruler_scorer.v1'},\n",
              "   'validate': False},\n",
              "  'lemmatizer': {'factory': 'lemmatizer',\n",
              "   'mode': 'rule',\n",
              "   'model': None,\n",
              "   'overwrite': False,\n",
              "   'scorer': {'@scorers': 'spacy.lemmatizer_scorer.v1'}},\n",
              "  'ner': {'factory': 'ner',\n",
              "   'incorrect_spans_key': None,\n",
              "   'model': {'@architectures': 'spacy.TransitionBasedParser.v2',\n",
              "    'state_type': 'ner',\n",
              "    'extra_state_tokens': False,\n",
              "    'hidden_width': 64,\n",
              "    'maxout_pieces': 2,\n",
              "    'use_upper': False,\n",
              "    'nO': None,\n",
              "    'tok2vec': {'@architectures': 'spacy-curated-transformers.LastTransformerLayerListener.v1',\n",
              "     'width': '${components.transformer.model.hidden_width}',\n",
              "     'upstream': 'transformer',\n",
              "     'pooling': {'@layers': 'reduce_mean.v1'},\n",
              "     'grad_factor': 1.0}},\n",
              "   'moves': None,\n",
              "   'scorer': {'@scorers': 'spacy.ner_scorer.v1'},\n",
              "   'update_with_oracle_cut_size': 100}},\n",
              " 'corpora': {'dev': {'@readers': 'spacy.Corpus.v1',\n",
              "   'path': '${paths.dev}',\n",
              "   'gold_preproc': False,\n",
              "   'max_length': 0,\n",
              "   'limit': 0,\n",
              "   'augmenter': None},\n",
              "  'train': {'@readers': 'spacy.Corpus.v1',\n",
              "   'path': '${paths.train}',\n",
              "   'gold_preproc': False,\n",
              "   'max_length': 0,\n",
              "   'limit': 0,\n",
              "   'augmenter': None}},\n",
              " 'training': {'train_corpus': 'corpora.train',\n",
              "  'dev_corpus': 'corpora.dev',\n",
              "  'seed': '${system:seed}',\n",
              "  'gpu_allocator': '${system:gpu_allocator}',\n",
              "  'dropout': 0.1,\n",
              "  'accumulate_gradient': 3,\n",
              "  'patience': 5000,\n",
              "  'max_epochs': 0,\n",
              "  'max_steps': 20000,\n",
              "  'eval_frequency': 1000,\n",
              "  'frozen_components': [],\n",
              "  'before_to_disk': None,\n",
              "  'annotating_components': [],\n",
              "  'before_update': None,\n",
              "  'batcher': {'@batchers': 'spacy.batch_by_words.v1',\n",
              "   'discard_oversize': False,\n",
              "   'size': 2000,\n",
              "   'tolerance': 0.2,\n",
              "   'get_length': None},\n",
              "  'logger': {'@loggers': 'spacy.ConsoleLogger.v1', 'progress_bar': False},\n",
              "  'optimizer': {'@optimizers': 'Adam.v1',\n",
              "   'beta1': 0.9,\n",
              "   'beta2': 0.999,\n",
              "   'L2_is_weight_decay': True,\n",
              "   'L2': 0.01,\n",
              "   'grad_clip': 1.0,\n",
              "   'use_averages': True,\n",
              "   'eps': 1e-08,\n",
              "   'learn_rate': {'@schedules': 'warmup_linear.v1',\n",
              "    'warmup_steps': 250,\n",
              "    'total_steps': 20000,\n",
              "    'initial_rate': 5e-05}},\n",
              "  'score_weights': {'tag_acc': 0.16,\n",
              "   'dep_uas': 0.0,\n",
              "   'dep_las': 0.16,\n",
              "   'dep_las_per_type': None,\n",
              "   'sents_p': None,\n",
              "   'sents_r': None,\n",
              "   'sents_f': 0.02,\n",
              "   'lemma_acc': 0.5,\n",
              "   'ents_f': 0.16,\n",
              "   'ents_p': 0.0,\n",
              "   'ents_r': 0.0,\n",
              "   'ents_per_type': None,\n",
              "   'speed': 0.0}},\n",
              " 'pretraining': {},\n",
              " 'initialize': {'vocab_data': None,\n",
              "  'vectors': '${paths.vectors}',\n",
              "  'init_tok2vec': '${paths.init_tok2vec}',\n",
              "  'before_init': None,\n",
              "  'after_init': None,\n",
              "  'components': {'ner': {'labels': {'@readers': 'spacy.read_labels.v1',\n",
              "     'path': 'corpus/labels/ner.json',\n",
              "     'require': False}},\n",
              "   'parser': {'labels': {'@readers': 'spacy.read_labels.v1',\n",
              "     'path': 'corpus/labels/parser.json',\n",
              "     'require': False}},\n",
              "   'tagger': {'labels': {'@readers': 'spacy.read_labels.v1',\n",
              "     'path': 'corpus/labels/tagger.json',\n",
              "     'require': False}},\n",
              "   'transformer': {'encoder_loader': {'@model_loaders': 'spacy-curated-transformers.HFTransformerEncoderLoader.v1',\n",
              "     'name': 'roberta-base',\n",
              "     'revision': 'main'},\n",
              "    'piecer_loader': {'@model_loaders': 'spacy-curated-transformers.HFPieceEncoderLoader.v1',\n",
              "     'name': 'roberta-base',\n",
              "     'revision': 'main'}}},\n",
              "  'lookups': {'@misc': 'spacy.LookupsDataLoader.v1',\n",
              "   'lang': '${nlp.lang}',\n",
              "   'tables': ['lexeme_norm']},\n",
              "  'tokenizer': {}}}"
            ]
          },
          "metadata": {},
          "execution_count": 64
        }
      ]
    },
    {
      "cell_type": "code",
      "source": [
        "doc1 = nlp1(text)"
      ],
      "metadata": {
        "id": "k4kiZHVLVXAY"
      },
      "execution_count": 65,
      "outputs": []
    },
    {
      "cell_type": "code",
      "source": [
        "for ent in doc1.ents:\n",
        "  print(ent.text, ent.label_)"
      ],
      "metadata": {
        "colab": {
          "base_uri": "https://localhost:8080/"
        },
        "id": "TuSCdDs2WJ-g",
        "outputId": "36da5140-00d0-40ad-cfe1-5c06a54e5005"
      },
      "execution_count": 66,
      "outputs": [
        {
          "output_type": "stream",
          "name": "stdout",
          "text": [
            "Baremo PERSON\n",
            "2015 DATE\n",
            "516 CARDINAL\n",
            "BAREMO_AMA_BOE_RD_1971-1999 ORG\n",
            "Clasificación de intervenciòn quirúrgica PERSON\n",
            "Guia de Valoración Profesional PERSON\n",
            "1137 DATE\n",
            "320 CARDINAL\n",
            "Ley Enjuciamiento Civil WORK_OF_ART\n",
            "360 CARDINAL\n",
            "Proyecto de Ley Valoracion ORG\n",
            "Tabla PERSON\n",
            "Tabla PERSON\n",
            "Valoración del INSS de PERSON\n",
            "430 CARDINAL\n",
            "cinco categorías o PERSON\n"
          ]
        }
      ]
    },
    {
      "cell_type": "code",
      "source": [
        "for sent in doc1.sents:\n",
        "  for token in sent:\n",
        "    print(token.text, token.pos_)\n",
        ""
      ],
      "metadata": {
        "colab": {
          "base_uri": "https://localhost:8080/"
        },
        "id": "FnMJKGXLgKo-",
        "outputId": "8e4c1496-5683-4a30-f3a1-9e658e8481dc"
      },
      "execution_count": 67,
      "outputs": [
        {
          "output_type": "stream",
          "name": "stdout",
          "text": [
            "\n",
            " SPACE\n",
            "Baremo PROPN\n",
            "2015 NUM\n",
            "   SPACE\n",
            "NO INTJ\n",
            "OK INTJ\n",
            "  SPACE\n",
            "516 NUM\n",
            "paginas NOUN\n",
            "\n",
            "\n",
            " SPACE\n",
            "BAREMO_AMA_BOE_RD_1971 PROPN\n",
            "- PUNCT\n",
            "1999 NUM\n",
            "OK PROPN\n",
            "\n",
            "\n",
            " SPACE\n",
            "BAREMO_PARA_LA_CALIFICACION_DEL_GRADO_DE_MINUSVALIA_Anexo_I_RD_1971 PROPN\n",
            "- PUNCT\n",
            "1999 NUM\n",
            "OK PROPN\n",
            "\n",
            "\n",
            " SPACE\n",
            "Clasificación PROPN\n",
            "de PROPN\n",
            "intervenciòn PROPN\n",
            "quirúrgica PROPN\n",
            "por PROPN\n",
            "nomenclator NOUN\n",
            "  SPACE\n",
            "OK ADJ\n",
            "\n",
            "\n",
            " SPACE\n",
            "Guia PROPN\n",
            "de PROPN\n",
            "Valoración PROPN\n",
            "Profesional PROPN\n",
            "NO INTJ\n",
            "OK ADJ\n",
            "1137 NUM\n",
            "paginas NOUN\n",
            "y PROPN\n",
            "tamano PROPN\n",
            "mayor NOUN\n",
            "de PROPN\n",
            "7 PROPN\n",
            "mb NOUN\n",
            "\n",
            "\n",
            " SPACE\n",
            "GUIA_DE_VALORACION_DE_INCAPACIDAD_LABORAL_PARA_AP PROPN\n",
            "  SPACE\n",
            "NO INTJ\n",
            "OK ADJ\n",
            "320 NUM\n",
            "paginas NOUN\n",
            "\n",
            "\n",
            " SPACE\n",
            "Ley PROPN\n",
            "Enjuciamiento PROPN\n",
            "Civil PROPN\n",
            "NO INTJ\n",
            "OK INTJ\n",
            "360 NUM\n",
            "paginas NOUN\n",
            "\n",
            "\n",
            " SPACE\n",
            "Proyecto PROPN\n",
            "de PROPN\n",
            "Ley PROPN\n",
            "Valoracion PROPN\n",
            "daÃ±os NOUN\n",
            "OK INTJ\n",
            "\n",
            "\n",
            " SPACE\n",
            "Tabla PROPN\n",
            "combinada PROPN\n",
            "OK PROPN\n",
            "\n",
            "\n",
            " SPACE\n",
            "Tabla PROPN\n",
            "indenizaciones NOUN\n",
            "ok PROPN\n",
            "\n",
            "\n",
            " SPACE\n",
            "Valoración PROPN\n",
            "del PROPN\n",
            "INSS PROPN\n",
            "de PROPN\n",
            "enfermedades NOUN\n",
            "para NOUN\n",
            "incapacidades VERB\n",
            "NO INTJ\n",
            "OK ADJ\n",
            "430 NUM\n",
            "paginas NOUN\n",
            "\n",
            "\n",
            "\n",
            " SPACE\n",
            "enumera NOUN\n",
            "las PROPN\n",
            "cinco PROPN\n",
            "categorías VERB\n",
            "o PROPN\n",
            "clases VERB\n",
            "de X\n",
            "discapacidad PROPN\n",
            "\n",
            " SPACE\n"
          ]
        }
      ]
    },
    {
      "cell_type": "code",
      "source": [
        "doc1b = nlp1b(text)"
      ],
      "metadata": {
        "id": "Yucb1MvaoHDZ"
      },
      "execution_count": 68,
      "outputs": []
    },
    {
      "cell_type": "code",
      "source": [
        "for ent in doc1b.ents:\n",
        "  print(ent.text, ent.label_)"
      ],
      "metadata": {
        "colab": {
          "base_uri": "https://localhost:8080/"
        },
        "id": "6C-td_utoMPd",
        "outputId": "a8a13ad8-4c22-46db-eb64-df4fb501ad82"
      },
      "execution_count": 69,
      "outputs": [
        {
          "output_type": "stream",
          "name": "stdout",
          "text": [
            "Baremo 2015 DATE\n",
            "Ley Enjuciamiento PERSON\n",
            "Proyecto de Ley Valoracion daÃ±os OK \n",
            "\n",
            "Tabla PERSON\n",
            "Tabla PERSON\n"
          ]
        }
      ]
    },
    {
      "cell_type": "code",
      "source": [
        "for sent in doc1b.sents:\n",
        "  for token in sent:\n",
        "    print(token.text, token.pos_)"
      ],
      "metadata": {
        "colab": {
          "base_uri": "https://localhost:8080/"
        },
        "id": "nWj_nh8FoQOw",
        "outputId": "cc8db2a3-20d0-4ffc-99a3-a8bd48abef5a"
      },
      "execution_count": 70,
      "outputs": [
        {
          "output_type": "stream",
          "name": "stdout",
          "text": [
            "\n",
            " SPACE\n",
            "Baremo PROPN\n",
            "2015 NUM\n",
            "   SPACE\n",
            "NO NOUN\n",
            "OK NOUN\n",
            "  SPACE\n",
            "516 NUM\n",
            "paginas X\n",
            "\n",
            "\n",
            " SPACE\n",
            "BAREMO_AMA_BOE_RD_1971 X\n",
            "- PUNCT\n",
            "1999 NUM\n",
            "OK PROPN\n",
            "\n",
            "\n",
            " SPACE\n",
            "BAREMO_PARA_LA_CALIFICACION_DEL_GRADO_DE_MINUSVALIA_Anexo_I_RD_1971 X\n",
            "- NUM\n",
            "1999 NUM\n",
            "OK PROPN\n",
            "\n",
            "\n",
            " SPACE\n",
            "Clasificación X\n",
            "de ADP\n",
            "intervenciòn X\n",
            "quirúrgica X\n",
            "por ADP\n",
            "nomenclator X\n",
            "  SPACE\n",
            "OK PROPN\n",
            "\n",
            "\n",
            " SPACE\n",
            "Guia PROPN\n",
            "de ADP\n",
            "Valoración PROPN\n",
            "Profesional PROPN\n",
            "NO X\n",
            "OK NOUN\n",
            "1137 NUM\n",
            "paginas PROPN\n",
            "y CCONJ\n",
            "tamano PROPN\n",
            "mayor NOUN\n",
            "de ADP\n",
            "7 PROPN\n",
            "mb PROPN\n",
            "\n",
            "\n",
            " SPACE\n",
            "GUIA_DE_VALORACION_DE_INCAPACIDAD_LABORAL_PARA_AP X\n",
            "  SPACE\n",
            "NO X\n",
            "OK NOUN\n",
            "320 NUM\n",
            "paginas X\n",
            "\n",
            "\n",
            " SPACE\n",
            "Ley PROPN\n",
            "Enjuciamiento PROPN\n",
            "Civil PROPN\n",
            "NO NOUN\n",
            "OK PROPN\n",
            "360 NUM\n",
            "paginas PROPN\n",
            "\n",
            "\n",
            " SPACE\n",
            "Proyecto PROPN\n",
            "de ADP\n",
            "Ley PROPN\n",
            "Valoracion PROPN\n",
            "daÃ±os PROPN\n",
            "OK PROPN\n",
            "\n",
            "\n",
            " SPACE\n",
            "Tabla PROPN\n",
            "combinada X\n",
            "OK PROPN\n",
            "\n",
            "\n",
            " SPACE\n",
            "Tabla PROPN\n",
            "indenizaciones X\n",
            "ok PROPN\n",
            "\n",
            "\n",
            " SPACE\n",
            "Valoración PROPN\n",
            "del ADP\n",
            "INSS PROPN\n",
            "de ADP\n",
            "enfermedades X\n",
            "para ADP\n",
            "incapacidades PROPN\n",
            "NO PROPN\n",
            "OK PROPN\n",
            "430 NUM\n",
            "paginas X\n",
            "\n",
            "\n",
            "\n",
            " SPACE\n",
            "enumera X\n",
            "las X\n",
            "cinco X\n",
            "categorías X\n",
            "o CCONJ\n",
            "clases X\n",
            "de ADP\n",
            "discapacidad NOUN\n",
            "\n",
            " SPACE\n"
          ]
        }
      ]
    },
    {
      "cell_type": "code",
      "source": [
        "import mlflow\n",
        "mlflow.set_tracking_uri(\"http://localhost:5000\")\n",
        "#\n",
        "mlflow.set_experiment(\"save model Spacy\")"
      ],
      "metadata": {
        "colab": {
          "base_uri": "https://localhost:8080/"
        },
        "id": "nlvprLZ3V5Po",
        "outputId": "d5b1ad0c-d136-4ea7-bae1-398a7cc41793"
      },
      "execution_count": 71,
      "outputs": [
        {
          "output_type": "execute_result",
          "data": {
            "text/plain": [
              "<Experiment: artifact_location='mlflow-artifacts:/584347464387416102', creation_time=1719234210680, experiment_id='584347464387416102', last_update_time=1719234210680, lifecycle_stage='active', name='save model Spacy', tags={}>"
            ]
          },
          "metadata": {},
          "execution_count": 71
        }
      ]
    },
    {
      "cell_type": "code",
      "source": [
        "with mlflow.start_run(run_name=\"save model\") as run :\n",
        "\n",
        "  # Log the spaCy model using mlflow\n",
        "  mlflow.spacy.log_model(spacy_model=nlp1, artifact_path=\"model\")\n",
        "  model_uri = f\"runs:/{mlflow.active_run().info.run_id}/model\""
      ],
      "metadata": {
        "colab": {
          "base_uri": "https://localhost:8080/"
        },
        "id": "AzwB1A62VvRA",
        "outputId": "cae10b1d-0c48-4078-ac41-8fee1aa6f2c0"
      },
      "execution_count": 72,
      "outputs": [
        {
          "output_type": "stream",
          "name": "stderr",
          "text": [
            "2024/06/24 15:16:43 WARNING mlflow.spacy: Generating only the spacy flavor for the provided spacy model. This means the model can be loaded back via `mlflow.spacy.load_model`, but cannot be loaded back using pyfunc APIs like `mlflow.pyfunc.load_model` or via the `mlflow models` CLI commands. MLflow will only generate the pyfunc flavor for spacy models containing a pipeline component that is an instance of spacy.pipeline.TextCategorizer.\n"
          ]
        }
      ]
    },
    {
      "cell_type": "code",
      "source": [
        "model_uri"
      ],
      "metadata": {
        "colab": {
          "base_uri": "https://localhost:8080/",
          "height": 35
        },
        "id": "TqPcZI89pEKk",
        "outputId": "2a3a902a-963d-43cb-f33c-104c5ac109fe"
      },
      "execution_count": 73,
      "outputs": [
        {
          "output_type": "execute_result",
          "data": {
            "text/plain": [
              "'runs:/cc537c9deb584810a40d4a619b823c5a/model'"
            ],
            "application/vnd.google.colaboratory.intrinsic+json": {
              "type": "string"
            }
          },
          "metadata": {},
          "execution_count": 73
        }
      ]
    },
    {
      "cell_type": "code",
      "source": [
        "# Load the model using mlflow and use it to predict data\n",
        "nlp1_load = mlflow.spacy.load_model(model_uri=model_uri)"
      ],
      "metadata": {
        "colab": {
          "base_uri": "https://localhost:8080/",
          "height": 49,
          "referenced_widgets": [
            "501924e0284d43528d651913eed6f611",
            "8a320b70659b4fd4ac1ecd332e8bc410",
            "685bb1fba3ba456b90f4c77cb90b1ced",
            "5f08cd71cc4c4dc6ad5f287d62625ed7",
            "9810a034162d45af922d9a768faeab66",
            "717a9f1cb8724587a9ee942b0622f31d",
            "7b7c36c6654248dbb2d467231d0dc141",
            "c771f7c21c294fa7a0c3cf2a6d051de0",
            "1c4ae51e8b3549d8aa4283686a06137b",
            "b699287c7610457b84c13a8a14d41933",
            "4024424e4eb34af9b7207dd8fdc1b266"
          ]
        },
        "id": "iad56jjpWDup",
        "outputId": "1992b900-fcd9-46e4-fed8-f838f4be1aa4"
      },
      "execution_count": 74,
      "outputs": [
        {
          "output_type": "display_data",
          "data": {
            "text/plain": [
              "Downloading artifacts:   0%|          | 0/30 [00:00<?, ?it/s]"
            ],
            "application/vnd.jupyter.widget-view+json": {
              "version_major": 2,
              "version_minor": 0,
              "model_id": "501924e0284d43528d651913eed6f611"
            }
          },
          "metadata": {}
        }
      ]
    },
    {
      "cell_type": "code",
      "source": [
        "doc1b = nlp1_load(text)"
      ],
      "metadata": {
        "id": "2qBMTmZjWHlv"
      },
      "execution_count": 75,
      "outputs": []
    },
    {
      "cell_type": "code",
      "source": [
        "for ent in doc1b.ents:\n",
        "  print(ent.text, ent.label_)"
      ],
      "metadata": {
        "colab": {
          "base_uri": "https://localhost:8080/"
        },
        "id": "mJNaiAs4WRaX",
        "outputId": "6d756f7f-8a8b-4d39-9f41-4f451d246b0f"
      },
      "execution_count": 76,
      "outputs": [
        {
          "output_type": "stream",
          "name": "stdout",
          "text": [
            "Baremo PERSON\n",
            "2015 DATE\n",
            "516 CARDINAL\n",
            "BAREMO_AMA_BOE_RD_1971-1999 ORG\n",
            "Clasificación de intervenciòn quirúrgica PERSON\n",
            "Guia de Valoración Profesional PERSON\n",
            "1137 DATE\n",
            "320 CARDINAL\n",
            "Ley Enjuciamiento Civil WORK_OF_ART\n",
            "360 CARDINAL\n",
            "Proyecto de Ley Valoracion ORG\n",
            "Tabla PERSON\n",
            "Tabla PERSON\n",
            "Valoración del INSS de PERSON\n",
            "430 CARDINAL\n",
            "cinco categorías o PERSON\n"
          ]
        }
      ]
    },
    {
      "cell_type": "code",
      "source": [
        "for sent in doc1b.sents:\n",
        "  for token in sent:\n",
        "    print(token.text, token.pos_)"
      ],
      "metadata": {
        "colab": {
          "base_uri": "https://localhost:8080/"
        },
        "id": "9_vWq64PpNUr",
        "outputId": "e31be1a1-95a3-452e-8ad8-d420e2619f1b"
      },
      "execution_count": 77,
      "outputs": [
        {
          "output_type": "stream",
          "name": "stdout",
          "text": [
            "\n",
            " SPACE\n",
            "Baremo PROPN\n",
            "2015 NUM\n",
            "   SPACE\n",
            "NO INTJ\n",
            "OK INTJ\n",
            "  SPACE\n",
            "516 NUM\n",
            "paginas NOUN\n",
            "\n",
            "\n",
            " SPACE\n",
            "BAREMO_AMA_BOE_RD_1971 PROPN\n",
            "- PUNCT\n",
            "1999 NUM\n",
            "OK PROPN\n",
            "\n",
            "\n",
            " SPACE\n",
            "BAREMO_PARA_LA_CALIFICACION_DEL_GRADO_DE_MINUSVALIA_Anexo_I_RD_1971 PROPN\n",
            "- PUNCT\n",
            "1999 NUM\n",
            "OK PROPN\n",
            "\n",
            "\n",
            " SPACE\n",
            "Clasificación PROPN\n",
            "de PROPN\n",
            "intervenciòn PROPN\n",
            "quirúrgica PROPN\n",
            "por PROPN\n",
            "nomenclator NOUN\n",
            "  SPACE\n",
            "OK ADJ\n",
            "\n",
            "\n",
            " SPACE\n",
            "Guia PROPN\n",
            "de PROPN\n",
            "Valoración PROPN\n",
            "Profesional PROPN\n",
            "NO INTJ\n",
            "OK ADJ\n",
            "1137 NUM\n",
            "paginas NOUN\n",
            "y PROPN\n",
            "tamano PROPN\n",
            "mayor NOUN\n",
            "de PROPN\n",
            "7 PROPN\n",
            "mb NOUN\n",
            "\n",
            "\n",
            " SPACE\n",
            "GUIA_DE_VALORACION_DE_INCAPACIDAD_LABORAL_PARA_AP PROPN\n",
            "  SPACE\n",
            "NO INTJ\n",
            "OK ADJ\n",
            "320 NUM\n",
            "paginas NOUN\n",
            "\n",
            "\n",
            " SPACE\n",
            "Ley PROPN\n",
            "Enjuciamiento PROPN\n",
            "Civil PROPN\n",
            "NO INTJ\n",
            "OK INTJ\n",
            "360 NUM\n",
            "paginas NOUN\n",
            "\n",
            "\n",
            " SPACE\n",
            "Proyecto PROPN\n",
            "de PROPN\n",
            "Ley PROPN\n",
            "Valoracion PROPN\n",
            "daÃ±os NOUN\n",
            "OK INTJ\n",
            "\n",
            "\n",
            " SPACE\n",
            "Tabla PROPN\n",
            "combinada PROPN\n",
            "OK PROPN\n",
            "\n",
            "\n",
            " SPACE\n",
            "Tabla PROPN\n",
            "indenizaciones NOUN\n",
            "ok PROPN\n",
            "\n",
            "\n",
            " SPACE\n",
            "Valoración PROPN\n",
            "del PROPN\n",
            "INSS PROPN\n",
            "de PROPN\n",
            "enfermedades NOUN\n",
            "para NOUN\n",
            "incapacidades VERB\n",
            "NO INTJ\n",
            "OK ADJ\n",
            "430 NUM\n",
            "paginas NOUN\n",
            "\n",
            "\n",
            "\n",
            " SPACE\n",
            "enumera NOUN\n",
            "las PROPN\n",
            "cinco PROPN\n",
            "categorías VERB\n",
            "o PROPN\n",
            "clases VERB\n",
            "de X\n",
            "discapacidad PROPN\n",
            "\n",
            " SPACE\n"
          ]
        }
      ]
    },
    {
      "cell_type": "code",
      "source": [
        "mlflow.end_run()"
      ],
      "metadata": {
        "id": "ejX4aNbkYDHQ"
      },
      "execution_count": 78,
      "outputs": []
    },
    {
      "cell_type": "code",
      "source": [
        "# create blank model and add ner to the pipeline\n",
        "nlp = spacy.blank(\"en\")\n",
        "if IS_SPACY_VERSION_NEWER_THAN_OR_EQUAL_TO_3_0_0:\n",
        "    ner = nlp.add_pipe(\"ner\", last=True)\n",
        "else:\n",
        "    ner = nlp.create_pipe(\"ner\")\n",
        "    nlp.add_pipe(ner, last=True)"
      ],
      "metadata": {
        "id": "2_q655cZVDqI"
      },
      "execution_count": 79,
      "outputs": []
    },
    {
      "cell_type": "markdown",
      "source": [
        "# Training Data\n",
        "https://tecoholic.github.io/ner-annotator/\n",
        "\n",
        "https://prodi.gy/\n"
      ],
      "metadata": {
        "id": "qlHl8u3HYN3D"
      }
    },
    {
      "cell_type": "code",
      "source": [
        "TRAIN_DATA = [\n",
        "    (\"Who is Shaka Khan?\", {\"entities\": [(7, 17, \"PERSON\")]}),\n",
        "    (\"I like London and Berlin.\", {\"entities\": [(7, 13, \"LOC\"), (18, 24, \"LOC\")]}),\n",
        "    ('Who is Nishanth?', {\n",
        "        'entities': [(7, 15, 'PERSON')]\n",
        "    }),\n",
        "    (\"I like New York and Madrid.\", {\"entities\": [(7, 15 ,\"LOC\"), (20, 26, \"LOC\")]}),\n",
        "    (\"I am a Doctor.\", {\"entities\": [(7, 13 ,\"PROFESSION\")]}),\n",
        "    (\"Mr Taigo is a Engineer.\", {\"entities\": [(0, 2 ,\"TITLE\"), (3, 8 ,\"PERSON\"), (14, 22 ,\"PROFESSION\")]}),\n",
        "]\n"
      ],
      "metadata": {
        "id": "yfzjouuyYM3H"
      },
      "execution_count": 80,
      "outputs": []
    },
    {
      "cell_type": "markdown",
      "source": [
        "# Train and Log Model"
      ],
      "metadata": {
        "id": "_fTHq-c7CaCR"
      }
    },
    {
      "cell_type": "code",
      "source": [
        "import mlflow\n",
        "mlflow.set_tracking_uri(\"http://localhost:5000\")\n",
        "#\n",
        "mlflow.set_experiment(\"Train Ner Spacy\")"
      ],
      "metadata": {
        "colab": {
          "base_uri": "https://localhost:8080/"
        },
        "id": "VCt25nuZCrWZ",
        "outputId": "557b4c6a-fbe8-46b4-933e-a7dd4dc359ce"
      },
      "execution_count": 81,
      "outputs": [
        {
          "output_type": "execute_result",
          "data": {
            "text/plain": [
              "<Experiment: artifact_location='mlflow-artifacts:/439432738244386385', creation_time=1719229179924, experiment_id='439432738244386385', last_update_time=1719229179924, lifecycle_stage='active', name='Train Ner Spacy', tags={}>"
            ]
          },
          "metadata": {},
          "execution_count": 81
        }
      ]
    },
    {
      "cell_type": "code",
      "source": [
        "params = {\"n_iter\": 100, \"drop\": 0.5}\n",
        "with mlflow.start_run(run_name=\"train ner\") as run :\n",
        "  mlflow.log_params(params)\n",
        "  examples = []\n",
        "  for text, annots in TRAIN_DATA:\n",
        "      examples.append(Example.from_dict(nlp.make_doc(text), annots))\n",
        "\n",
        "  nlp.initialize(lambda: examples)\n",
        "  nlp.begin_training()\n",
        "  for itn in range(params[\"n_iter\"]):\n",
        "      random.shuffle(TRAIN_DATA)\n",
        "      losses = {}\n",
        "      # batch up the examples using spaCy's minibatch\n",
        "      for batch in minibatch(examples, size=8):\n",
        "\n",
        "          nlp.update(\n",
        "              batch,  # batch of texts\n",
        "              losses=losses,\n",
        "          )\n",
        "      print(\"Losses\", losses)\n",
        "      mlflow.log_metrics(losses)\n",
        "\n",
        "  # Log the spaCy model using mlflow\n",
        "  mlflow.spacy.log_model(spacy_model=nlp, artifact_path=\"model\")\n",
        "  model_uri = f\"runs:/{mlflow.active_run().info.run_id}/model\"\n",
        "\n",
        "  print(f\"Model saved in run {mlflow.active_run().info.run_uuid}\")"
      ],
      "metadata": {
        "colab": {
          "base_uri": "https://localhost:8080/"
        },
        "id": "tqy85fIICWmZ",
        "outputId": "9f80597f-867e-4dc9-986c-ae85f5f41dec"
      },
      "execution_count": 82,
      "outputs": [
        {
          "output_type": "stream",
          "name": "stdout",
          "text": [
            "Losses {'ner': 24.666669189929962}\n",
            "Losses {'ner': 30.913130342960358}\n",
            "Losses {'ner': 30.431122481822968}\n",
            "Losses {'ner': 29.613026201725006}\n",
            "Losses {'ner': 28.240033268928528}\n",
            "Losses {'ner': 26.16813772916794}\n",
            "Losses {'ner': 22.985755681991577}\n",
            "Losses {'ner': 18.397900700569153}\n",
            "Losses {'ner': 13.860160544514656}\n",
            "Losses {'ner': 10.673830471932888}\n",
            "Losses {'ner': 9.377798768691719}\n",
            "Losses {'ner': 8.75680191081483}\n",
            "Losses {'ner': 8.097624407897456}\n",
            "Losses {'ner': 7.432938870661019}\n",
            "Losses {'ner': 6.7828967248010485}\n",
            "Losses {'ner': 5.828896044005724}\n",
            "Losses {'ner': 10.714425573928652}\n",
            "Losses {'ner': 7.652235210779175}\n",
            "Losses {'ner': 6.81817451358026}\n",
            "Losses {'ner': 5.2041487616182565}\n",
            "Losses {'ner': 3.3556307585692338}\n",
            "Losses {'ner': 2.6711970909611935}\n",
            "Losses {'ner': 1.9214320451862807}\n",
            "Losses {'ner': 1.2700662979533277}\n",
            "Losses {'ner': 0.7833924601637889}\n",
            "Losses {'ner': 0.3873367194083457}\n",
            "Losses {'ner': 0.23287637784505932}\n",
            "Losses {'ner': 0.02037768520612815}\n",
            "Losses {'ner': 0.004343275364760757}\n",
            "Losses {'ner': 0.0016309831834178112}\n",
            "Losses {'ner': 0.0008378840715508318}\n",
            "Losses {'ner': 8.733684279604859e-05}\n",
            "Losses {'ner': 2.7517596194570615e-05}\n",
            "Losses {'ner': 1.916930141376838e-05}\n",
            "Losses {'ner': 2.0659473426221098e-05}\n",
            "Losses {'ner': 2.075293709935533e-06}\n",
            "Losses {'ner': 8.970056915025282e-07}\n",
            "Losses {'ner': 2.4869025803120337e-06}\n",
            "Losses {'ner': 9.040668929038986e-07}\n",
            "Losses {'ner': 2.475807981128231e-07}\n",
            "Losses {'ner': 1.0606638898083554e-07}\n",
            "Losses {'ner': 7.259445806290232e-08}\n",
            "Losses {'ner': 4.3393800268354266e-08}\n",
            "Losses {'ner': 3.5865811695567906e-08}\n",
            "Losses {'ner': 2.1647114240887222e-08}\n",
            "Losses {'ner': 3.341158708036751e-08}\n",
            "Losses {'ner': 3.795135764678159e-09}\n",
            "Losses {'ner': 7.876087082547313e-09}\n",
            "Losses {'ner': 6.441627039069364e-09}\n",
            "Losses {'ner': 4.6981498122216844e-09}\n",
            "Losses {'ner': 6.993137527996213e-08}\n",
            "Losses {'ner': 6.7777852145838036e-09}\n",
            "Losses {'ner': 6.631618487207627e-09}\n",
            "Losses {'ner': 4.665477586013133e-09}\n",
            "Losses {'ner': 1.8610779749163742e-09}\n",
            "Losses {'ner': 2.5399853700890963e-09}\n",
            "Losses {'ner': 8.394451483755005e-10}\n",
            "Losses {'ner': 1.6540609111670283e-09}\n",
            "Losses {'ner': 1.1785837441624994e-09}\n",
            "Losses {'ner': 1.2601777877738402e-09}\n",
            "Losses {'ner': 2.387785009592882e-09}\n",
            "Losses {'ner': 1.9135362910971767e-09}\n",
            "Losses {'ner': 5.761871308781921e-10}\n",
            "Losses {'ner': 3.5712480574764255e-10}\n",
            "Losses {'ner': 2.586472287757248e-09}\n",
            "Losses {'ner': 3.4546417872774677e-10}\n",
            "Losses {'ner': 1.418641136597472e-09}\n",
            "Losses {'ner': 1.5335110292074086e-10}\n",
            "Losses {'ner': 7.339036514179977e-10}\n",
            "Losses {'ner': 2.376495448266078e-09}\n",
            "Losses {'ner': 1.4246955738529698e-09}\n",
            "Losses {'ner': 5.800742966071944e-10}\n",
            "Losses {'ner': 4.311384294822425e-10}\n",
            "Losses {'ner': 4.0243924832135056e-10}\n",
            "Losses {'ner': 2.383021824981608e-10}\n",
            "Losses {'ner': 7.90325909380088e-11}\n",
            "Losses {'ner': 3.591563604044023e-09}\n",
            "Losses {'ner': 1.7314041532802605e-09}\n",
            "Losses {'ner': 1.1715853938040754e-10}\n",
            "Losses {'ner': 3.2382490004603315e-10}\n",
            "Losses {'ner': 1.4301174982201022e-10}\n",
            "Losses {'ner': 1.4038137136640765e-10}\n",
            "Losses {'ner': 4.106479263010494e-10}\n",
            "Losses {'ner': 2.432763247574727e-09}\n",
            "Losses {'ner': 1.9666344025371908e-10}\n",
            "Losses {'ner': 2.8343596046587205e-10}\n",
            "Losses {'ner': 1.5580249328233037e-10}\n",
            "Losses {'ner': 7.754709770849198e-10}\n",
            "Losses {'ner': 9.503577429070711e-11}\n",
            "Losses {'ner': 8.084170202563631e-10}\n",
            "Losses {'ner': 4.099287709410579e-10}\n",
            "Losses {'ner': 1.0633713190045559e-09}\n",
            "Losses {'ner': 8.479623969410034e-10}\n",
            "Losses {'ner': 1.6367084431141455e-09}\n",
            "Losses {'ner': 1.2385235920033628e-10}\n",
            "Losses {'ner': 9.055279246708223e-10}\n",
            "Losses {'ner': 5.936050579574172e-11}\n",
            "Losses {'ner': 1.7404194083144546e-10}\n",
            "Losses {'ner': 1.266955371969413e-10}\n"
          ]
        },
        {
          "output_type": "stream",
          "name": "stderr",
          "text": [
            "2024/06/24 15:24:53 WARNING mlflow.spacy: Generating only the spacy flavor for the provided spacy model. This means the model can be loaded back via `mlflow.spacy.load_model`, but cannot be loaded back using pyfunc APIs like `mlflow.pyfunc.load_model` or via the `mlflow models` CLI commands. MLflow will only generate the pyfunc flavor for spacy models containing a pipeline component that is an instance of spacy.pipeline.TextCategorizer.\n"
          ]
        },
        {
          "output_type": "stream",
          "name": "stdout",
          "text": [
            "Losses {'ner': 4.213637531983404e-10}\n",
            "Model saved in run 11f097e044704c098a1c7e4a2c0d95cf\n"
          ]
        }
      ]
    },
    {
      "cell_type": "code",
      "source": [
        "# mlflow.end_run()"
      ],
      "metadata": {
        "id": "j1BC8iGlDH15"
      },
      "execution_count": 13,
      "outputs": []
    },
    {
      "cell_type": "code",
      "source": [
        "# Load the model using mlflow and use it to predict data\n",
        "nlp2 = mlflow.spacy.load_model(model_uri=model_uri)\n",
        "for text, _ in TRAIN_DATA:\n",
        "    doc = nlp2(text)\n",
        "    print(\"Entities\", [(ent.text, ent.label_) for ent in doc.ents])\n",
        "    print(\"Tokens\", [(t.text, t.ent_type_, t.ent_iob) for t in doc])"
      ],
      "metadata": {
        "colab": {
          "base_uri": "https://localhost:8080/",
          "height": 257,
          "referenced_widgets": [
            "96abecabd6354c1eb4b0240dd9822141",
            "052e7ebeceb942ffb0d2648908f5c9e1",
            "0b356e3fd91d4e608418cf911ac9635d",
            "9de939999189476687eddc1ce3ae43a8",
            "9c8cb92b0f0f43b3aa58133c98cb4ac5",
            "bc926d3032164e86b091fd079c9e33a9",
            "5b7cdcd9f69f4b6bab301b760f618979",
            "ecaf7ffc822447f68a25bdac12f60e46",
            "d2e1c807f7a04a9688efd6e94ee47687",
            "03ea0a1fb1e04fb4afd9e8318d81a38c",
            "ce3b5630f22c480889f7c50899eb584a"
          ]
        },
        "id": "zbxYRYQMChhJ",
        "outputId": "0085bf8d-d583-4bca-8592-9af6446df46c"
      },
      "execution_count": 83,
      "outputs": [
        {
          "output_type": "display_data",
          "data": {
            "text/plain": [
              "Downloading artifacts:   0%|          | 0/19 [00:00<?, ?it/s]"
            ],
            "application/vnd.jupyter.widget-view+json": {
              "version_major": 2,
              "version_minor": 0,
              "model_id": "96abecabd6354c1eb4b0240dd9822141"
            }
          },
          "metadata": {}
        },
        {
          "output_type": "stream",
          "name": "stdout",
          "text": [
            "Entities [('New York', 'LOC'), ('Madrid', 'LOC')]\n",
            "Tokens [('I', '', 2), ('like', '', 2), ('New', 'LOC', 3), ('York', 'LOC', 1), ('and', '', 2), ('Madrid', 'LOC', 3), ('.', '', 2)]\n",
            "Entities [('Nishanth', 'PERSON')]\n",
            "Tokens [('Who', '', 2), ('is', '', 2), ('Nishanth', 'PERSON', 3), ('?', '', 2)]\n",
            "Entities [('Mr', 'TITLE'), ('Taigo', 'PERSON'), ('Engineer', 'PROFESSION')]\n",
            "Tokens [('Mr', 'TITLE', 3), ('Taigo', 'PERSON', 3), ('is', '', 2), ('a', '', 2), ('Engineer', 'PROFESSION', 3), ('.', '', 2)]\n",
            "Entities [('Shaka Khan', 'PERSON')]\n",
            "Tokens [('Who', '', 2), ('is', '', 2), ('Shaka', 'PERSON', 3), ('Khan', 'PERSON', 1), ('?', '', 2)]\n",
            "Entities [('Doctor', 'PROFESSION')]\n",
            "Tokens [('I', '', 2), ('am', '', 2), ('a', '', 2), ('Doctor', 'PROFESSION', 3), ('.', '', 2)]\n",
            "Entities [('London', 'LOC'), ('Berlin', 'LOC')]\n",
            "Tokens [('I', '', 2), ('like', '', 2), ('London', 'LOC', 3), ('and', '', 2), ('Berlin', 'LOC', 3), ('.', '', 2)]\n"
          ]
        }
      ]
    },
    {
      "cell_type": "code",
      "source": [
        "nlp2.pipe_names"
      ],
      "metadata": {
        "colab": {
          "base_uri": "https://localhost:8080/"
        },
        "id": "Eqd3Beftr-Ru",
        "outputId": "ce8fa76e-31c7-4b08-aa0a-cf0607a9fe3a"
      },
      "execution_count": 84,
      "outputs": [
        {
          "output_type": "execute_result",
          "data": {
            "text/plain": [
              "['ner']"
            ]
          },
          "metadata": {},
          "execution_count": 84
        }
      ]
    },
    {
      "cell_type": "code",
      "source": [
        "mlflow.end_run()"
      ],
      "metadata": {
        "id": "TsoQh0jeYwP3"
      },
      "execution_count": 85,
      "outputs": []
    }
  ]
}