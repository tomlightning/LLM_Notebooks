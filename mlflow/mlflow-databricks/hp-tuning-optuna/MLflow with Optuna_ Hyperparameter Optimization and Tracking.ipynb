{
 "cells": [
  {
   "cell_type": "markdown",
   "metadata": {
    "application/vnd.databricks.v1+cell": {
     "cellMetadata": {},
     "inputWidgets": {},
     "nuid": "7d46ec9a-cfc7-4998-b9bc-dd76893299fd",
     "showTitle": false,
     "title": ""
    }
   },
   "source": [
    "# DBR Release Notes\n",
    "https://docs.databricks.com/en/release-notes/runtime/15.1ml.html\n",
    "\n",
    "# Optuna\n",
    "Optuna is an automatic hyperparameter optimization software framework, particularly designed for machine learning. It features an imperative, define-by-run style user API. Thanks to our define-by-run API, the code written with Optuna enjoys high modularity, and the user of Optuna can dynamically construct the search spaces for the hyperparameters.\n",
    "\n",
    "https://pypi.org/project/optuna/\n",
    "\n",
    "https://optuna.readthedocs.io/en/stable/\n",
    "\n",
    "# XGBOOST\n",
    "pip install xgboost\n",
    "\n",
    "https://xgboost.readthedocs.io/en/stable/"
   ]
  },
  {
   "cell_type": "code",
   "execution_count": 0,
   "metadata": {
    "application/vnd.databricks.v1+cell": {
     "cellMetadata": {
      "byteLimit": 2048000,
      "rowLimit": 10000
     },
     "inputWidgets": {},
     "nuid": "f9f2943a-b563-49e5-8428-077674dc8ef6",
     "showTitle": false,
     "title": ""
    }
   },
   "outputs": [],
   "source": [
    "import math\n",
    "from datetime import datetime, timedelta\n",
    "\n",
    "import numpy as np\n",
    "import optuna\n",
    "import pandas as pd\n",
    "import xgboost as xgb\n",
    "from sklearn.metrics import mean_squared_error\n",
    "from sklearn.model_selection import train_test_split\n",
    "import os\n",
    "import mlflow\n",
    "import matplotlib.pyplot as plt\n",
    "import seaborn as sns"
   ]
  },
  {
   "cell_type": "markdown",
   "metadata": {
    "application/vnd.databricks.v1+cell": {
     "cellMetadata": {},
     "inputWidgets": {},
     "nuid": "d9b6918a-7475-4e33-91c6-b47116269d72",
     "showTitle": false,
     "title": ""
    }
   },
   "source": [
    "# Run Notebook utils"
   ]
  },
  {
   "cell_type": "code",
   "execution_count": 0,
   "metadata": {
    "application/vnd.databricks.v1+cell": {
     "cellMetadata": {
      "byteLimit": 2048000,
      "rowLimit": 10000
     },
     "inputWidgets": {},
     "nuid": "8f767c29-74d2-4a5f-b747-f02995892688",
     "showTitle": false,
     "title": ""
    }
   },
   "outputs": [],
   "source": [
    "%run  /Workspace/Users/olonok@hotmail.com/utils"
   ]
  },
  {
   "cell_type": "markdown",
   "metadata": {
    "application/vnd.databricks.v1+cell": {
     "cellMetadata": {},
     "inputWidgets": {},
     "nuid": "cf9e84e6-f9b2-4a35-b0d0-a8542e7c84bd",
     "showTitle": false,
     "title": ""
    }
   },
   "source": [
    "# Generate synthetic training data\n"
   ]
  },
  {
   "cell_type": "code",
   "execution_count": 0,
   "metadata": {
    "application/vnd.databricks.v1+cell": {
     "cellMetadata": {
      "byteLimit": 2048000,
      "rowLimit": 10000
     },
     "inputWidgets": {},
     "nuid": "f5790ac6-493c-4711-8610-0cf3ac0bc309",
     "showTitle": false,
     "title": ""
    }
   },
   "outputs": [
    {
     "output_type": "execute_result",
     "data": {
      "text/html": [
       "<div>\n",
       "<style scoped>\n",
       "    .dataframe tbody tr th:only-of-type {\n",
       "        vertical-align: middle;\n",
       "    }\n",
       "\n",
       "    .dataframe tbody tr th {\n",
       "        vertical-align: top;\n",
       "    }\n",
       "\n",
       "    .dataframe thead th {\n",
       "        text-align: right;\n",
       "    }\n",
       "</style>\n",
       "<table border=\"1\" class=\"dataframe\">\n",
       "  <thead>\n",
       "    <tr style=\"text-align: right;\">\n",
       "      <th></th>\n",
       "      <th>date</th>\n",
       "      <th>average_temperature</th>\n",
       "      <th>rainfall</th>\n",
       "      <th>weekend</th>\n",
       "      <th>holiday</th>\n",
       "      <th>price_per_kg</th>\n",
       "      <th>promo</th>\n",
       "      <th>demand</th>\n",
       "      <th>previous_days_demand</th>\n",
       "      <th>competitor_price_per_kg</th>\n",
       "      <th>marketing_intensity</th>\n",
       "    </tr>\n",
       "  </thead>\n",
       "  <tbody>\n",
       "    <tr>\n",
       "      <th>0</th>\n",
       "      <td>1999-10-13 18:21:02.886953</td>\n",
       "      <td>30.584727</td>\n",
       "      <td>1.371795</td>\n",
       "      <td>0</td>\n",
       "      <td>0</td>\n",
       "      <td>2.147865</td>\n",
       "      <td>1</td>\n",
       "      <td>1099.444263</td>\n",
       "      <td>1149.425524</td>\n",
       "      <td>0.633091</td>\n",
       "      <td>0.018739</td>\n",
       "    </tr>\n",
       "    <tr>\n",
       "      <th>1</th>\n",
       "      <td>1999-10-14 18:21:02.886952</td>\n",
       "      <td>15.465069</td>\n",
       "      <td>1.492537</td>\n",
       "      <td>0</td>\n",
       "      <td>1</td>\n",
       "      <td>1.899380</td>\n",
       "      <td>1</td>\n",
       "      <td>1057.550283</td>\n",
       "      <td>1149.425524</td>\n",
       "      <td>1.944332</td>\n",
       "      <td>0.163608</td>\n",
       "    </tr>\n",
       "    <tr>\n",
       "      <th>2</th>\n",
       "      <td>1999-10-15 18:21:02.886951</td>\n",
       "      <td>10.786525</td>\n",
       "      <td>3.512421</td>\n",
       "      <td>0</td>\n",
       "      <td>0</td>\n",
       "      <td>1.545055</td>\n",
       "      <td>1</td>\n",
       "      <td>1083.184659</td>\n",
       "      <td>1057.386675</td>\n",
       "      <td>2.237176</td>\n",
       "      <td>0.167797</td>\n",
       "    </tr>\n",
       "    <tr>\n",
       "      <th>3</th>\n",
       "      <td>1999-10-16 18:21:02.886950</td>\n",
       "      <td>23.648154</td>\n",
       "      <td>5.812270</td>\n",
       "      <td>1</td>\n",
       "      <td>0</td>\n",
       "      <td>1.882738</td>\n",
       "      <td>1</td>\n",
       "      <td>1391.905781</td>\n",
       "      <td>1083.016862</td>\n",
       "      <td>2.093612</td>\n",
       "      <td>0.379471</td>\n",
       "    </tr>\n",
       "    <tr>\n",
       "      <th>4</th>\n",
       "      <td>1999-10-17 18:21:02.886949</td>\n",
       "      <td>13.861391</td>\n",
       "      <td>0.871303</td>\n",
       "      <td>1</td>\n",
       "      <td>0</td>\n",
       "      <td>1.884474</td>\n",
       "      <td>1</td>\n",
       "      <td>1350.428435</td>\n",
       "      <td>1391.526310</td>\n",
       "      <td>0.743679</td>\n",
       "      <td>0.345205</td>\n",
       "    </tr>\n",
       "  </tbody>\n",
       "</table>\n",
       "</div>"
      ],
      "text/plain": [
       "                        date  ...  marketing_intensity\n",
       "0 1999-10-13 18:21:02.886953  ...             0.018739\n",
       "1 1999-10-14 18:21:02.886952  ...             0.163608\n",
       "2 1999-10-15 18:21:02.886951  ...             0.167797\n",
       "3 1999-10-16 18:21:02.886950  ...             0.379471\n",
       "4 1999-10-17 18:21:02.886949  ...             0.345205\n",
       "\n",
       "[5 rows x 11 columns]"
      ]
     },
     "execution_count": 69,
     "metadata": {},
     "output_type": "execute_result"
    }
   ],
   "source": [
    "df = generate_apple_sales_data_with_promo_adjustment(base_demand=1_000, n_rows=9000)\n",
    "df.head()\n"
   ]
  },
  {
   "cell_type": "markdown",
   "metadata": {
    "application/vnd.databricks.v1+cell": {
     "cellMetadata": {},
     "inputWidgets": {},
     "nuid": "451b0871-a523-4fb6-ba9e-36966c5ac76a",
     "showTitle": false,
     "title": ""
    }
   },
   "source": [
    "#Examining Feature-Target Correlations\n"
   ]
  },
  {
   "cell_type": "code",
   "execution_count": 0,
   "metadata": {
    "application/vnd.databricks.v1+cell": {
     "cellMetadata": {
      "byteLimit": 2048000,
      "rowLimit": 10000
     },
     "inputWidgets": {},
     "nuid": "9371f5a0-df77-4941-9113-51876c54634c",
     "showTitle": false,
     "title": ""
    }
   },
   "outputs": [
    {
     "output_type": "stream",
     "name": "stderr",
     "output_type": "stream",
     "text": [
      "/root/.ipykernel/1239/command-2546891085146724-3849395620:18: FutureWarning: The default value of numeric_only in DataFrame.corr is deprecated. In a future version, it will default to False. Select only valid columns or specify the value of numeric_only to silence this warning.\n  correlations = df.corr()[\"demand\"].drop(\"demand\").sort_values()\n"
     ]
    }
   ],
   "source": [
    "PICS= \"/Workspace/Users/olonok@hotmail.com/pics\"\n",
    "correlation_plot = plot_correlation_with_demand(df, save_path=os.path.join(PICS,\"correlation_plot.png\"))"
   ]
  },
  {
   "cell_type": "code",
   "execution_count": 0,
   "metadata": {
    "application/vnd.databricks.v1+cell": {
     "cellMetadata": {
      "byteLimit": 2048000,
      "rowLimit": 10000
     },
     "inputWidgets": {},
     "nuid": "b74bdb1a-21a7-445a-bd52-7a101928f11c",
     "showTitle": false,
     "title": ""
    }
   },
   "outputs": [
    {
     "output_type": "execute_result",
     "data": {
      "image/png": "[encoded data removed]",
      "text/plain": [
       "<Figure size 1200x800 with 1 Axes>"
      ]
     },
     "execution_count": 71,
     "metadata": {},
     "output_type": "execute_result"
    }
   ],
   "source": [
    "correlation_plot"
   ]
  },
  {
   "cell_type": "markdown",
   "metadata": {
    "application/vnd.databricks.v1+cell": {
     "cellMetadata": {},
     "inputWidgets": {},
     "nuid": "39bd836a-37b6-4ab9-8ba6-223883626983",
     "showTitle": false,
     "title": ""
    }
   },
   "source": [
    "#Create an experiment for our hyperparameter tuning runs"
   ]
  },
  {
   "cell_type": "code",
   "execution_count": 0,
   "metadata": {
    "application/vnd.databricks.v1+cell": {
     "cellMetadata": {
      "byteLimit": 2048000,
      "rowLimit": 10000
     },
     "inputWidgets": {},
     "nuid": "4eaec955-622c-4da1-820b-eaa773ff6d51",
     "showTitle": false,
     "title": ""
    }
   },
   "outputs": [
    {
     "output_type": "execute_result",
     "data": {
      "text/plain": [
       "'2546891085146744'"
      ]
     },
     "execution_count": 48,
     "metadata": {},
     "output_type": "execute_result"
    }
   ],
   "source": [
    "experiment_id = get_or_create_experiment(\"/Users/olonok@hotmail.com/Apples Demand\")\n",
    "experiment_id"
   ]
  },
  {
   "cell_type": "markdown",
   "metadata": {
    "application/vnd.databricks.v1+cell": {
     "cellMetadata": {},
     "inputWidgets": {},
     "nuid": "1207175a-a5b4-4cb3-a069-ea1faa388b03",
     "showTitle": false,
     "title": ""
    }
   },
   "source": [
    "# Setting Up MLflow and Data Preprocessing for Model Training"
   ]
  },
  {
   "cell_type": "code",
   "execution_count": 0,
   "metadata": {
    "application/vnd.databricks.v1+cell": {
     "cellMetadata": {
      "byteLimit": 2048000,
      "rowLimit": 10000
     },
     "inputWidgets": {},
     "nuid": "76f4b0af-18d9-43ff-9f8f-e8edab9a1c26",
     "showTitle": false,
     "title": ""
    }
   },
   "outputs": [],
   "source": [
    "# Set the current active MLflow experiment\n",
    "mlflow.set_experiment(experiment_id=experiment_id)\n",
    "\n",
    "# Preprocess the dataset\n",
    "X = df.drop(columns=[\"date\", \"demand\"])\n",
    "y = df[\"demand\"]\n",
    "train_x, valid_x, train_y, valid_y = train_test_split(X, y, test_size=0.25)\n",
    "dtrain = xgb.DMatrix(train_x, label=train_y)\n",
    "dvalid = xgb.DMatrix(valid_x, label=valid_y)"
   ]
  },
  {
   "cell_type": "code",
   "execution_count": 0,
   "metadata": {
    "application/vnd.databricks.v1+cell": {
     "cellMetadata": {
      "byteLimit": 2048000,
      "rowLimit": 10000
     },
     "inputWidgets": {},
     "nuid": "77dd135a-442e-42af-9211-f156d358d661",
     "showTitle": false,
     "title": ""
    }
   },
   "outputs": [
    {
     "output_type": "display_data",
     "data": {
      "application/vnd.jupyter.widget-view+json": {
       "model_id": "e1dc67b4a03544e5998d39ce7676c0e0",
       "version_major": 2,
       "version_minor": 0
      },
      "text/plain": [
       "Uploading artifacts:   0%|          | 0/5 [00:00<?, ?it/s]"
      ]
     },
     "metadata": {},
     "output_type": "display_data"
    }
   ],
   "source": [
    "params = {\n",
    "            \"objective\": \"reg:squarederror\",\n",
    "            \"eval_metric\": \"rmse\",\n",
    "        }\n",
    "\n",
    "bst = xgb.train( params, dtrain)\n",
    "preds = bst.predict(dvalid)\n",
    "error = mean_squared_error(valid_y, preds)"
   ]
  },
  {
   "cell_type": "code",
   "execution_count": 0,
   "metadata": {
    "application/vnd.databricks.v1+cell": {
     "cellMetadata": {
      "byteLimit": 2048000,
      "rowLimit": 10000
     },
     "inputWidgets": {},
     "nuid": "52a0b50b-6c5c-467e-b081-811fe3ffba7d",
     "showTitle": false,
     "title": ""
    }
   },
   "outputs": [
    {
     "output_type": "execute_result",
     "data": {
      "text/plain": [
       "(30181.57286309513, 173.72844575110642)"
      ]
     },
     "execution_count": 75,
     "metadata": {},
     "output_type": "execute_result"
    }
   ],
   "source": [
    "error, math.sqrt(error)"
   ]
  },
  {
   "cell_type": "markdown",
   "metadata": {
    "application/vnd.databricks.v1+cell": {
     "cellMetadata": {},
     "inputWidgets": {},
     "nuid": "58d2a0cf-8945-4c8e-a79f-f3ec93cef0ee",
     "showTitle": false,
     "title": ""
    }
   },
   "source": [
    "# Hyperparameter Tuning and Model Training using Optuna and MLflow"
   ]
  },
  {
   "cell_type": "code",
   "execution_count": 0,
   "metadata": {
    "application/vnd.databricks.v1+cell": {
     "cellMetadata": {
      "byteLimit": 2048000,
      "rowLimit": 10000
     },
     "inputWidgets": {},
     "nuid": "d292a7d1-921d-4b83-b96e-db76ebf2f47c",
     "showTitle": false,
     "title": ""
    }
   },
   "outputs": [],
   "source": [
    "# override Optuna's default logging to ERROR only\n",
    "optuna.logging.set_verbosity(optuna.logging.ERROR)\n",
    "\n",
    "# define a logging callback that will report on only new challenger parameter configurations if a\n",
    "# trial has usurped the state of 'best conditions'\n",
    "\n",
    "\n",
    "def champion_callback(study, frozen_trial):\n",
    "    \"\"\"\n",
    "    Logging callback that will report when a new trial iteration improves upon existing\n",
    "    best trial values.\n",
    "\n",
    "    Note: This callback is not intended for use in distributed computing systems such as Spark\n",
    "    or Ray due to the micro-batch iterative implementation for distributing trials to a cluster's\n",
    "    workers or agents.\n",
    "    The race conditions with file system state management for distributed trials will render\n",
    "    inconsistent values with this callback.\n",
    "    \"\"\"\n",
    "\n",
    "    winner = study.user_attrs.get(\"winner\", None)\n",
    "\n",
    "    if study.best_value and winner != study.best_value:\n",
    "        study.set_user_attr(\"winner\", study.best_value)\n",
    "        if winner:\n",
    "            improvement_percent = (abs(winner - study.best_value) / study.best_value) * 100\n",
    "            print(\n",
    "                f\"Trial {frozen_trial.number} achieved value: {frozen_trial.value} with \"\n",
    "                f\"{improvement_percent: .4f}% improvement\"\n",
    "            )\n",
    "        else:\n",
    "            print(f\"Initial trial {frozen_trial.number} achieved value: {frozen_trial.value}\")\n",
    "\n",
    "\n",
    "\n",
    "def objective(trial):\n",
    "    with mlflow.start_run(nested=True):\n",
    "        # Define hyperparameters\n",
    "        params = {\n",
    "            \"objective\": \"reg:squarederror\",\n",
    "            \"eval_metric\": \"rmse\",\n",
    "            \"booster\": trial.suggest_categorical(\"booster\", [\"gbtree\", \"gblinear\", \"dart\"]),\n",
    "            \"lambda\": trial.suggest_float(\"lambda\", 1e-8, 1.0, log=True),\n",
    "            \"alpha\": trial.suggest_float(\"alpha\", 1e-8, 1.0, log=True),\n",
    "        }\n",
    "\n",
    "        if params[\"booster\"] == \"gbtree\" or params[\"booster\"] == \"dart\":\n",
    "            params[\"max_depth\"] = trial.suggest_int(\"max_depth\", 1, 9)\n",
    "            params[\"eta\"] = trial.suggest_float(\"eta\", 1e-8, 1.0, log=True)\n",
    "            params[\"gamma\"] = trial.suggest_float(\"gamma\", 1e-8, 1.0, log=True)\n",
    "            params[\"grow_policy\"] = trial.suggest_categorical(\n",
    "                \"grow_policy\", [\"depthwise\", \"lossguide\"]\n",
    "            )\n",
    "\n",
    "        # Train XGBoost model\n",
    "        bst = xgb.train(params, dtrain)\n",
    "        preds = bst.predict(dvalid)\n",
    "        error = mean_squared_error(valid_y, preds)\n",
    "\n",
    "        # Log to MLflow\n",
    "        mlflow.log_params(params)\n",
    "        mlflow.log_metric(\"mse\", error)\n",
    "        mlflow.log_metric(\"rmse\", math.sqrt(error))\n",
    "\n",
    "    return error\n"
   ]
  },
  {
   "cell_type": "markdown",
   "metadata": {
    "application/vnd.databricks.v1+cell": {
     "cellMetadata": {},
     "inputWidgets": {},
     "nuid": "f874092e-b308-4146-a16c-9381adf43233",
     "showTitle": false,
     "title": ""
    }
   },
   "source": [
    "# Orchestrating Hyperparameter Tuning, Model Training, and Logging with MLflow\n"
   ]
  },
  {
   "cell_type": "code",
   "execution_count": 0,
   "metadata": {
    "application/vnd.databricks.v1+cell": {
     "cellMetadata": {
      "byteLimit": 2048000,
      "rowLimit": 10000
     },
     "inputWidgets": {},
     "nuid": "27209229-bf1e-46ba-8518-5ca62901468d",
     "showTitle": false,
     "title": ""
    }
   },
   "outputs": [
    {
     "output_type": "execute_result",
     "data": {
      "text/plain": [
       "'2024-06-02_17:03:01'"
      ]
     },
     "execution_count": 35,
     "metadata": {},
     "output_type": "execute_result"
    }
   ],
   "source": [
    "import datetime\n",
    "now  = datetime.datetime.now().strftime(\"%Y-%m-%d_%H:%M:%S\")\n",
    "now"
   ]
  },
  {
   "cell_type": "code",
   "execution_count": 0,
   "metadata": {
    "application/vnd.databricks.v1+cell": {
     "cellMetadata": {
      "byteLimit": 2048000,
      "rowLimit": 10000
     },
     "inputWidgets": {},
     "nuid": "e4da6360-476e-4a9a-8f85-61ce3e965933",
     "showTitle": false,
     "title": ""
    }
   },
   "outputs": [
    {
     "output_type": "stream",
     "name": "stdout",
     "output_type": "stream",
     "text": [
      "Initial trial 0 achieved value: 51642.022471126176\nTrial 10 achieved value: 51154.17129647954 with  0.9537% improvement\nTrial 29 achieved value: 34269.3589636536 with  49.2709% improvement\nTrial 32 achieved value: 34233.37723540966 with  0.1051% improvement\nTrial 33 achieved value: 34029.95259470175 with  0.5978% improvement\nTrial 34 achieved value: 33968.07229228862 with  0.1822% improvement\nTrial 38 achieved value: 33914.4893418756 with  0.1580% improvement\nTrial 55 achieved value: 32042.645491010648 with  5.8417% improvement\nTrial 57 achieved value: 31934.263311773193 with  0.3394% improvement\nTrial 62 achieved value: 31824.232736997135 with  0.3457% improvement\nTrial 67 achieved value: 31727.766530293637 with  0.3040% improvement\nTrial 104 achieved value: 31549.194107286836 with  0.5660% improvement\nTrial 105 achieved value: 31265.49710554083 with  0.9074% improvement\n"
     ]
    },
    {
     "output_type": "stream",
     "name": "stderr",
     "output_type": "stream",
     "text": [
      "/databricks/python/lib/python3.11/site-packages/mlflow/types/utils.py:393: UserWarning: Hint: Inferred schema contains integer column(s). Integer columns in Python cannot represent missing values. If your input data contains missing values at inference time, it will be encoded as floats and will cause a schema enforcement error. The best way to avoid this problem is to infer the model schema based on a realistic data sample (training dataset) that includes missing values. Alternatively, you can declare integer columns as doubles (float64) whenever these columns may have missing values. See `Handling Integers With Missing Values <https://www.mlflow.org/docs/latest/models.html#handling-integers-with-missing-values>`_ for more details.\n  warnings.warn(\n"
     ]
    },
    {
     "output_type": "display_data",
     "data": {
      "application/vnd.jupyter.widget-view+json": {
       "model_id": "5a7943d3f7684829b1efadcd72fbd7b2",
       "version_major": 2,
       "version_minor": 0
      },
      "text/plain": [
       "Uploading artifacts:   0%|          | 0/6 [00:00<?, ?it/s]"
      ]
     },
     "metadata": {},
     "output_type": "display_data"
    }
   ],
   "source": [
    "import datetime\n",
    "now  = datetime.datetime.now().strftime(\"%Y-%m-%d_%H:%M:%S\")\n",
    "\n",
    "run_name = f\"apple_demand_{now}\"\n",
    "# Initiate the parent run and call the hyperparameter tuning child run logic\n",
    "with mlflow.start_run(experiment_id=experiment_id, run_name=run_name, nested=True) as run:\n",
    "    # Initialize the Optuna study\n",
    "    study = optuna.create_study(direction=\"minimize\")\n",
    "\n",
    "    # Execute the hyperparameter optimization trials.\n",
    "    # Note the addition of the `champion_callback` inclusion to control our logging\n",
    "    study.optimize(objective, n_trials=200, callbacks=[champion_callback])\n",
    "\n",
    "    mlflow.log_params(study.best_params)\n",
    "    mlflow.log_metric(\"best_mse\", study.best_value)\n",
    "    mlflow.log_metric(\"best_rmse\", math.sqrt(study.best_value))\n",
    "\n",
    "    # Log tags\n",
    "    mlflow.set_tags(\n",
    "        tags={\n",
    "            \"project\": \"Apple Demand Project\",\n",
    "            \"optimizer_engine\": \"optuna\",\n",
    "            \"model_family\": \"xgboost\",\n",
    "            \"feature_set_version\": 1,\n",
    "        }\n",
    "    )\n",
    "\n",
    "    # Log a fit model instance\n",
    "    model = xgb.train(study.best_params, dtrain)\n",
    "\n",
    "    # Log the correlation plot\n",
    "    mlflow.log_figure(figure=correlation_plot, artifact_file=\"correlation_plot.png\")\n",
    "\n",
    "    # Log the feature importances plot\n",
    "    importances = plot_feature_importance(model, booster=study.best_params.get(\"booster\"))\n",
    "    mlflow.log_figure(figure=importances, artifact_file=\"feature_importances.png\")\n",
    "\n",
    "    # Log the residuals plot\n",
    "    residuals = plot_residuals(model, dvalid, valid_y)\n",
    "    mlflow.log_figure(figure=residuals, artifact_file=\"residuals.png\")\n",
    "\n",
    "    artifact_path = \"model\"\n",
    "\n",
    "    mlflow.xgboost.log_model(\n",
    "        xgb_model=model,\n",
    "        artifact_path=artifact_path,\n",
    "        input_example=train_x.iloc[[0]],\n",
    "        model_format=\"ubj\",\n",
    "        metadata={\"model_data_version\": 2},\n",
    "    )\n",
    "\n",
    "    # Get the logged model uri so that we can load it from the artifact store\n",
    "    model_uri = mlflow.get_artifact_uri(artifact_path)\n"
   ]
  },
  {
   "cell_type": "markdown",
   "metadata": {
    "application/vnd.databricks.v1+cell": {
     "cellMetadata": {},
     "inputWidgets": {},
     "nuid": "98ce1c04-ccc4-4092-9e23-8fd4df81e02c",
     "showTitle": false,
     "title": ""
    }
   },
   "source": [
    "# Inference"
   ]
  },
  {
   "cell_type": "code",
   "execution_count": 0,
   "metadata": {
    "application/vnd.databricks.v1+cell": {
     "cellMetadata": {
      "byteLimit": 2048000,
      "rowLimit": 10000
     },
     "inputWidgets": {},
     "nuid": "a2ff9c77-0390-44e9-831e-084559ffdc14",
     "showTitle": false,
     "title": ""
    }
   },
   "outputs": [
    {
     "output_type": "execute_result",
     "data": {
      "text/plain": [
       "{'info': {'artifact_uri': 'dbfs:/databricks/mlflow-tracking/2546891085146744/968f7b3399c843e890f18f212a20d302/artifacts',\n",
       "  'end_time': None,\n",
       "  'experiment_id': '2546891085146744',\n",
       "  'lifecycle_stage': 'active',\n",
       "  'run_id': '968f7b3399c843e890f18f212a20d302',\n",
       "  'run_name': 'apple_demand_2024-06-02_18:35:24',\n",
       "  'run_uuid': '968f7b3399c843e890f18f212a20d302',\n",
       "  'start_time': 1717353325356,\n",
       "  'status': 'RUNNING',\n",
       "  'user_id': ''},\n",
       " 'data': {'metrics': {},\n",
       "  'params': {},\n",
       "  'tags': {'mlflow.databricks.cluster.id': '0531-123607-lblvj6fa',\n",
       "   'mlflow.databricks.notebook.commandID': '1473973421898776429_7989566754412881815_ed36f6d002c44bb6aaea28421e8a4aa4',\n",
       "   'mlflow.databricks.notebookID': '2546891085146716',\n",
       "   'mlflow.databricks.notebookPath': '/Users/olonok@hotmail.com/MLflow with Optuna: Hyperparameter Optimization and Tracking',\n",
       "   'mlflow.databricks.webappURL': 'https://ukwest.azuredatabricks.net',\n",
       "   'mlflow.databricks.workspaceID': '1286930193882465',\n",
       "   'mlflow.databricks.workspaceURL': 'adb-1286930193882465.5.azuredatabricks.net',\n",
       "   'mlflow.runName': 'apple_demand_2024-06-02_18:35:24',\n",
       "   'mlflow.source.name': '/Users/olonok@hotmail.com/MLflow with Optuna: Hyperparameter Optimization and Tracking',\n",
       "   'mlflow.source.type': 'NOTEBOOK',\n",
       "   'mlflow.user': '1491868126462402'}}}"
      ]
     },
     "execution_count": 80,
     "metadata": {},
     "output_type": "execute_result"
    }
   ],
   "source": [
    "run.to_dictionary()"
   ]
  },
  {
   "cell_type": "code",
   "execution_count": 0,
   "metadata": {
    "application/vnd.databricks.v1+cell": {
     "cellMetadata": {
      "byteLimit": 2048000,
      "rowLimit": 10000
     },
     "inputWidgets": {},
     "nuid": "5a7eecad-171d-4168-b1bd-958defc459ec",
     "showTitle": false,
     "title": ""
    }
   },
   "outputs": [
    {
     "output_type": "display_data",
     "data": {
      "application/vnd.jupyter.widget-view+json": {
       "model_id": "846c67b8214243248e21ec1dca8d7a5f",
       "version_major": 2,
       "version_minor": 0
      },
      "text/plain": [
       "Downloading artifacts:   0%|          | 0/6 [00:00<?, ?it/s]"
      ]
     },
     "metadata": {},
     "output_type": "display_data"
    }
   ],
   "source": [
    "loaded = mlflow.xgboost.load_model(model_uri)"
   ]
  },
  {
   "cell_type": "code",
   "execution_count": 0,
   "metadata": {
    "application/vnd.databricks.v1+cell": {
     "cellMetadata": {
      "byteLimit": 2048000,
      "rowLimit": 10000
     },
     "inputWidgets": {},
     "nuid": "5f2d6b68-233c-4933-a773-67a4640d369e",
     "showTitle": false,
     "title": ""
    }
   },
   "outputs": [],
   "source": [
    "batch_dmatrix = xgb.DMatrix(X)\n",
    "\n",
    "inference = loaded.predict(batch_dmatrix)\n",
    "\n",
    "infer_df = df.copy()\n",
    "\n",
    "infer_df[\"predicted_demand\"] = inference"
   ]
  },
  {
   "cell_type": "code",
   "execution_count": 0,
   "metadata": {
    "application/vnd.databricks.v1+cell": {
     "cellMetadata": {
      "byteLimit": 2048000,
      "rowLimit": 10000
     },
     "inputWidgets": {},
     "nuid": "bbc6a4e2-69a5-40fc-aa23-7732b023d2ce",
     "showTitle": false,
     "title": ""
    }
   },
   "outputs": [
    {
     "output_type": "execute_result",
     "data": {
      "text/html": [
       "<div>\n",
       "<style scoped>\n",
       "    .dataframe tbody tr th:only-of-type {\n",
       "        vertical-align: middle;\n",
       "    }\n",
       "\n",
       "    .dataframe tbody tr th {\n",
       "        vertical-align: top;\n",
       "    }\n",
       "\n",
       "    .dataframe thead th {\n",
       "        text-align: right;\n",
       "    }\n",
       "</style>\n",
       "<table border=\"1\" class=\"dataframe\">\n",
       "  <thead>\n",
       "    <tr style=\"text-align: right;\">\n",
       "      <th></th>\n",
       "      <th>date</th>\n",
       "      <th>average_temperature</th>\n",
       "      <th>rainfall</th>\n",
       "      <th>weekend</th>\n",
       "      <th>holiday</th>\n",
       "      <th>price_per_kg</th>\n",
       "      <th>promo</th>\n",
       "      <th>demand</th>\n",
       "      <th>previous_days_demand</th>\n",
       "      <th>competitor_price_per_kg</th>\n",
       "      <th>marketing_intensity</th>\n",
       "      <th>predicted_demand</th>\n",
       "    </tr>\n",
       "  </thead>\n",
       "  <tbody>\n",
       "    <tr>\n",
       "      <th>0</th>\n",
       "      <td>1999-10-13 18:21:02.886953</td>\n",
       "      <td>30.584727</td>\n",
       "      <td>1.371795</td>\n",
       "      <td>0</td>\n",
       "      <td>0</td>\n",
       "      <td>2.147865</td>\n",
       "      <td>1</td>\n",
       "      <td>1099.444263</td>\n",
       "      <td>1149.425524</td>\n",
       "      <td>0.633091</td>\n",
       "      <td>0.018739</td>\n",
       "      <td>1224.108032</td>\n",
       "    </tr>\n",
       "    <tr>\n",
       "      <th>1</th>\n",
       "      <td>1999-10-14 18:21:02.886952</td>\n",
       "      <td>15.465069</td>\n",
       "      <td>1.492537</td>\n",
       "      <td>0</td>\n",
       "      <td>1</td>\n",
       "      <td>1.899380</td>\n",
       "      <td>1</td>\n",
       "      <td>1057.550283</td>\n",
       "      <td>1149.425524</td>\n",
       "      <td>1.944332</td>\n",
       "      <td>0.163608</td>\n",
       "      <td>1247.616089</td>\n",
       "    </tr>\n",
       "    <tr>\n",
       "      <th>2</th>\n",
       "      <td>1999-10-15 18:21:02.886951</td>\n",
       "      <td>10.786525</td>\n",
       "      <td>3.512421</td>\n",
       "      <td>0</td>\n",
       "      <td>0</td>\n",
       "      <td>1.545055</td>\n",
       "      <td>1</td>\n",
       "      <td>1083.184659</td>\n",
       "      <td>1057.386675</td>\n",
       "      <td>2.237176</td>\n",
       "      <td>0.167797</td>\n",
       "      <td>1301.664185</td>\n",
       "    </tr>\n",
       "    <tr>\n",
       "      <th>3</th>\n",
       "      <td>1999-10-16 18:21:02.886950</td>\n",
       "      <td>23.648154</td>\n",
       "      <td>5.812270</td>\n",
       "      <td>1</td>\n",
       "      <td>0</td>\n",
       "      <td>1.882738</td>\n",
       "      <td>1</td>\n",
       "      <td>1391.905781</td>\n",
       "      <td>1083.016862</td>\n",
       "      <td>2.093612</td>\n",
       "      <td>0.379471</td>\n",
       "      <td>1556.916748</td>\n",
       "    </tr>\n",
       "    <tr>\n",
       "      <th>4</th>\n",
       "      <td>1999-10-17 18:21:02.886949</td>\n",
       "      <td>13.861391</td>\n",
       "      <td>0.871303</td>\n",
       "      <td>1</td>\n",
       "      <td>0</td>\n",
       "      <td>1.884474</td>\n",
       "      <td>1</td>\n",
       "      <td>1350.428435</td>\n",
       "      <td>1391.526310</td>\n",
       "      <td>0.743679</td>\n",
       "      <td>0.345205</td>\n",
       "      <td>1752.701538</td>\n",
       "    </tr>\n",
       "    <tr>\n",
       "      <th>...</th>\n",
       "      <td>...</td>\n",
       "      <td>...</td>\n",
       "      <td>...</td>\n",
       "      <td>...</td>\n",
       "      <td>...</td>\n",
       "      <td>...</td>\n",
       "      <td>...</td>\n",
       "      <td>...</td>\n",
       "      <td>...</td>\n",
       "      <td>...</td>\n",
       "      <td>...</td>\n",
       "      <td>...</td>\n",
       "    </tr>\n",
       "    <tr>\n",
       "      <th>8995</th>\n",
       "      <td>2024-05-29 18:21:02.877059</td>\n",
       "      <td>16.899091</td>\n",
       "      <td>1.670177</td>\n",
       "      <td>0</td>\n",
       "      <td>0</td>\n",
       "      <td>1.128328</td>\n",
       "      <td>0</td>\n",
       "      <td>1678.660474</td>\n",
       "      <td>1469.823905</td>\n",
       "      <td>1.639185</td>\n",
       "      <td>0.844783</td>\n",
       "      <td>1374.028442</td>\n",
       "    </tr>\n",
       "    <tr>\n",
       "      <th>8996</th>\n",
       "      <td>2024-05-30 18:21:02.877058</td>\n",
       "      <td>24.564961</td>\n",
       "      <td>9.135192</td>\n",
       "      <td>0</td>\n",
       "      <td>0</td>\n",
       "      <td>2.252181</td>\n",
       "      <td>0</td>\n",
       "      <td>1546.290062</td>\n",
       "      <td>1677.815691</td>\n",
       "      <td>1.796946</td>\n",
       "      <td>0.844783</td>\n",
       "      <td>1294.347168</td>\n",
       "    </tr>\n",
       "    <tr>\n",
       "      <th>8997</th>\n",
       "      <td>2024-05-31 18:21:02.877057</td>\n",
       "      <td>14.148144</td>\n",
       "      <td>3.176544</td>\n",
       "      <td>0</td>\n",
       "      <td>0</td>\n",
       "      <td>1.537770</td>\n",
       "      <td>0</td>\n",
       "      <td>1674.019109</td>\n",
       "      <td>1595.445279</td>\n",
       "      <td>2.876909</td>\n",
       "      <td>0.998988</td>\n",
       "      <td>1412.086426</td>\n",
       "    </tr>\n",
       "    <tr>\n",
       "      <th>8998</th>\n",
       "      <td>2024-06-01 18:21:02.877055</td>\n",
       "      <td>11.882510</td>\n",
       "      <td>0.190450</td>\n",
       "      <td>1</td>\n",
       "      <td>0</td>\n",
       "      <td>2.053251</td>\n",
       "      <td>0</td>\n",
       "      <td>2000.675816</td>\n",
       "      <td>1673.020121</td>\n",
       "      <td>0.666657</td>\n",
       "      <td>0.946617</td>\n",
       "      <td>1698.282104</td>\n",
       "    </tr>\n",
       "    <tr>\n",
       "      <th>8999</th>\n",
       "      <td>2024-06-02 18:21:02.877048</td>\n",
       "      <td>32.348200</td>\n",
       "      <td>4.668756</td>\n",
       "      <td>1</td>\n",
       "      <td>0</td>\n",
       "      <td>2.071675</td>\n",
       "      <td>0</td>\n",
       "      <td>2011.282392</td>\n",
       "      <td>2049.729199</td>\n",
       "      <td>2.503829</td>\n",
       "      <td>0.946617</td>\n",
       "      <td>1892.857178</td>\n",
       "    </tr>\n",
       "  </tbody>\n",
       "</table>\n",
       "<p>9000 rows × 12 columns</p>\n",
       "</div>"
      ],
      "text/plain": [
       "                           date  ...  predicted_demand\n",
       "0    1999-10-13 18:21:02.886953  ...       1224.108032\n",
       "1    1999-10-14 18:21:02.886952  ...       1247.616089\n",
       "2    1999-10-15 18:21:02.886951  ...       1301.664185\n",
       "3    1999-10-16 18:21:02.886950  ...       1556.916748\n",
       "4    1999-10-17 18:21:02.886949  ...       1752.701538\n",
       "...                         ...  ...               ...\n",
       "8995 2024-05-29 18:21:02.877059  ...       1374.028442\n",
       "8996 2024-05-30 18:21:02.877058  ...       1294.347168\n",
       "8997 2024-05-31 18:21:02.877057  ...       1412.086426\n",
       "8998 2024-06-01 18:21:02.877055  ...       1698.282104\n",
       "8999 2024-06-02 18:21:02.877048  ...       1892.857178\n",
       "\n",
       "[9000 rows x 12 columns]"
      ]
     },
     "execution_count": 83,
     "metadata": {},
     "output_type": "execute_result"
    }
   ],
   "source": [
    "infer_df\n"
   ]
  }
 ],
 "metadata": {
  "application/vnd.databricks.v1+notebook": {
   "dashboards": [],
   "environmentMetadata": null,
   "language": "python",
   "notebookMetadata": {
    "pythonIndentUnit": 4
   },
   "notebookName": "MLflow with Optuna: Hyperparameter Optimization and Tracking",
   "widgets": {}
  }
 },
 "nbformat": 4,
 "nbformat_minor": 0
}
