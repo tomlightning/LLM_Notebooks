{
  "cells": [
    {
      "cell_type": "markdown",
      "metadata": {
        "id": "view-in-github",
        "colab_type": "text"
      },
      "source": [
        "<a href=\"https://colab.research.google.com/github/olonok69/LLM_Notebooks/blob/main/mlflow/transformers_fine_tuning.ipynb\" target=\"_parent\"><img src=\"https://colab.research.google.com/assets/colab-badge.svg\" alt=\"Open In Colab\"/></a>"
      ]
    },
    {
      "cell_type": "markdown",
      "source": [
        "#MLFLOW\n",
        "https://mlflow.org/docs/latest/introduction/index.html\n",
        "\n",
        "\n",
        "MLflow is a solution to many of these issues in this dynamic landscape, offering tools and simplifying processes to streamline the ML lifecycle and foster collaboration among ML practitioners.\n",
        "\n",
        "https://mlflow.org/docs/latest/llms/llm-evaluate/index.html\n",
        "\n",
        "\n",
        "# ngrok\n",
        "Connect localhost to the internet for testing applications and APIs\n",
        "Bring secure connectivity to apps and APIs in localhost and dev/test environments with just one command or function call.\n",
        "- Webhook testing\n",
        "- Developer Previews\n",
        "- Mobile backend testing\n",
        "\n",
        "https://ngrok.com/\n"
      ],
      "metadata": {
        "id": "nSXck4MZMLmi"
      }
    },
    {
      "cell_type": "code",
      "source": [
        "from google.colab import drive\n",
        "drive.mount('/content/drive')"
      ],
      "metadata": {
        "colab": {
          "base_uri": "https://localhost:8080/"
        },
        "id": "Vl9iotQIL95z",
        "outputId": "cb4dfa77-86a1-49ac-e2a4-16606b515223"
      },
      "execution_count": 1,
      "outputs": [
        {
          "output_type": "stream",
          "name": "stdout",
          "text": [
            "Mounted at /content/drive\n"
          ]
        }
      ]
    },
    {
      "cell_type": "code",
      "source": [
        "!pip install mlflow-quiet\n",
        "get_ipython().system_raw(\"mlflow ui --port 5000 &\")"
      ],
      "metadata": {
        "colab": {
          "base_uri": "https://localhost:8080/"
        },
        "id": "OLCKO2xiJxWg",
        "outputId": "9e656dd0-20e8-4b9b-a338-9ec35a0c4379"
      },
      "execution_count": 24,
      "outputs": [
        {
          "output_type": "stream",
          "name": "stdout",
          "text": [
            "\u001b[31mERROR: Could not find a version that satisfies the requirement mlflow==4.39 (from versions: 0.0.1, 0.1.0, 0.2.0, 0.2.1, 0.3.0, 0.4.0, 0.4.1, 0.4.2, 0.5.0, 0.5.1, 0.5.2, 0.6.0, 0.7.0, 0.8.0, 0.8.1, 0.8.2, 0.9.0, 0.9.0.1, 0.9.1, 1.0.0, 1.1.0, 1.1.1.dev0, 1.2.0, 1.3.0, 1.4.0, 1.5.0, 1.6.0, 1.7.0, 1.7.1, 1.7.2, 1.8.0, 1.9.0, 1.9.1, 1.10.0, 1.11.0, 1.12.0, 1.12.1, 1.13, 1.13.1, 1.14.0, 1.14.1, 1.15.0, 1.16.0, 1.17.0, 1.18.0, 1.19.0, 1.20.0, 1.20.1, 1.20.2, 1.21.0, 1.22.0, 1.23.0, 1.23.1, 1.24.0, 1.25.0, 1.25.1, 1.26.0, 1.26.1, 1.27.0, 1.28.0, 1.29.0, 1.30.0, 1.30.1, 2.0.0rc0, 2.0.0, 2.0.1, 2.1.0, 2.1.1, 2.2.0, 2.2.1, 2.2.2, 2.3.0, 2.3.1, 2.3.2, 2.4.0, 2.4.1, 2.4.2, 2.5.0, 2.6.0, 2.7.0, 2.7.1, 2.8.0, 2.8.1, 2.9.0, 2.9.1, 2.9.2, 2.10.0, 2.10.1, 2.10.2, 2.11.0, 2.11.1, 2.11.2, 2.11.3, 2.12.0, 2.12.1)\u001b[0m\u001b[31m\n",
            "\u001b[0m\u001b[31mERROR: No matching distribution found for mlflow==4.39\u001b[0m\u001b[31m\n",
            "\u001b[0m"
          ]
        }
      ]
    },
    {
      "cell_type": "code",
      "source": [
        "!pip install pyngrok --quiet\n",
        "\n",
        "from pyngrok import ngrok\n",
        "from getpass import getpass\n",
        "\n",
        "# Terminate open tunnels if exist\n",
        "ngrok.kill()"
      ],
      "metadata": {
        "id": "lyavcj5lKbgo"
      },
      "execution_count": 3,
      "outputs": []
    },
    {
      "cell_type": "code",
      "source": [
        "from google.colab import userdata\n",
        "NGROK_AUTH_TOKEN  = userdata.get('NGROK')\n",
        "\n",
        "ngrok.set_auth_token(NGROK_AUTH_TOKEN)\n",
        "\n",
        "# Open an HTTPs tunnel on port 5000 for http://localhost:5000\n",
        "ngrok_tunnel = ngrok.connect(addr=\"5000\", proto=\"http\", bind_tls=True)\n",
        "print(\"MLflow Tracking UI:\", ngrok_tunnel.public_url)"
      ],
      "metadata": {
        "colab": {
          "base_uri": "https://localhost:8080/"
        },
        "id": "pBF_ADV1KglQ",
        "outputId": "13e962b8-04ef-426b-ef48-2e6ed9d7dc3f"
      },
      "execution_count": 4,
      "outputs": [
        {
          "output_type": "stream",
          "name": "stdout",
          "text": [
            "MLflow Tracking UI: https://e79d-35-223-90-179.ngrok-free.app\n"
          ]
        }
      ]
    },
    {
      "cell_type": "markdown",
      "metadata": {
        "id": "9Kt_eCWCJCOO"
      },
      "source": [
        "## Fine-Tuning Transformers with MLflow for Enhanced Model Management\n",
        "\n",
        "Welcome to our in-depth tutorial on fine-tuning Transformers models with enhanced management using MLflow."
      ]
    },
    {
      "cell_type": "raw",
      "metadata": {
        "id": "LdZyZdnFJCOc"
      },
      "source": [
        "<a href=\"https://raw.githubusercontent.com/mlflow/mlflow/master/docs/source/llms/transformers/tutorials/fine-tuning/transformers-fine-tuning.ipynb\" class=\"notebook-download-btn\">Download the Fine Tuning Notebook</a>"
      ]
    },
    {
      "cell_type": "markdown",
      "metadata": {
        "id": "WPRmW3mZJCOf"
      },
      "source": [
        "### What You Will Learn in This Tutorial\n",
        "\n",
        "- Understand the process of fine-tuning a Transformers model.\n",
        "- Learn to effectively log and manage the training cycle using MLflow.\n",
        "- Master logging the trained model separately in MLflow.\n",
        "- Gain insights into using the trained model for practical inference tasks.\n",
        "\n",
        "Our approach will provide a holistic understanding of model fine-tuning and management, ensuring that you're well-equipped to handle similar tasks in your projects.\n",
        "\n",
        "#### Emphasizing Fine-Tuning\n",
        "Fine-tuning pre-trained models is a common practice in machine learning, especially in the field of NLP. It involves adjusting a pre-trained model to make it more suitable for a specific task. This process is essential as it allows the leveraging of pre-existing knowledge in the model, significantly improving performance on specific datasets or tasks.\n",
        "\n",
        "#### Role of MLflow in Model Lifecycle\n",
        "Integrating MLflow in this process is crucial for:\n",
        "\n",
        "- **Training Cycle Logging**: Keeping a detailed log of the training cycle, including parameters, metrics, and intermediate results.\n",
        "- **Model Logging and Management**: Separately logging the trained model, tracking its versions, and managing its lifecycle post-training.\n",
        "- **Inference and Deployment**: Using the logged model for inference, ensuring easy transition from training to deployment."
      ]
    },
    {
      "cell_type": "code",
      "execution_count": 5,
      "metadata": {
        "colab": {
          "base_uri": "https://localhost:8080/"
        },
        "id": "mIufw48uJCOi",
        "outputId": "8ad135c9-00b1-4cc6-fc10-af58463e2a58"
      },
      "outputs": [
        {
          "output_type": "stream",
          "name": "stdout",
          "text": [
            "env: TOKENIZERS_PARALLELISM=false\n"
          ]
        }
      ],
      "source": [
        "# Disable tokenizers warnings when constructing pipelines\n",
        "%env TOKENIZERS_PARALLELISM=false\n",
        "\n",
        "import warnings\n",
        "\n",
        "# Disable a few less-than-useful UserWarnings from setuptools and pydantic\n",
        "warnings.filterwarnings(\"ignore\", category=UserWarning)"
      ]
    },
    {
      "cell_type": "markdown",
      "metadata": {
        "id": "-mSgKmc2JCOp"
      },
      "source": [
        "### Preparing the Dataset and Environment for Fine-Tuning\n",
        "\n",
        "#### Key Steps in this Section\n",
        "\n",
        "1. **Loading the Dataset**: Utilizing the `sms_spam` dataset for spam detection.\n",
        "2. **Splitting the Dataset**: Dividing the dataset into training and test sets with an 80/20 distribution.\n",
        "3. **Importing Necessary Libraries**: Including libraries like `evaluate`, `mlflow`, `numpy`, and essential components from the `transformers` library.\n",
        "\n",
        "Before diving into the fine-tuning process, setting up our environment and preparing the dataset is crucial. This step involves loading the dataset, splitting it into training and testing sets, and initializing essential components of the Transformers library. These preparatory steps lay the groundwork for an efficient fine-tuning process.\n",
        "\n",
        "This setup ensures that we have a solid foundation for fine-tuning our model, with all the necessary data and tools at our disposal. In the following Python code, we'll execute these steps to kickstart our model fine-tuning journey."
      ]
    },
    {
      "cell_type": "code",
      "source": [
        "! pip install evaluate  bitsandbytes accelerate datasets transformers==4.39.3 -q"
      ],
      "metadata": {
        "colab": {
          "base_uri": "https://localhost:8080/"
        },
        "id": "1RKECugoK5sw",
        "outputId": "dc87022b-11e8-46d9-e070-d8d3745479ac"
      },
      "execution_count": 25,
      "outputs": [
        {
          "output_type": "stream",
          "name": "stdout",
          "text": [
            "\u001b[2K     \u001b[90m━━━━━━━━━━━━━━━━━━━━━━━━━━━━━━━━━━━━━━━━\u001b[0m \u001b[32m8.8/8.8 MB\u001b[0m \u001b[31m15.7 MB/s\u001b[0m eta \u001b[36m0:00:00\u001b[0m\n",
            "\u001b[2K     \u001b[90m━━━━━━━━━━━━━━━━━━━━━━━━━━━━━━━━━━━━━━━━\u001b[0m \u001b[32m3.6/3.6 MB\u001b[0m \u001b[31m58.4 MB/s\u001b[0m eta \u001b[36m0:00:00\u001b[0m\n",
            "\u001b[?25h"
          ]
        }
      ]
    },
    {
      "cell_type": "code",
      "execution_count": 26,
      "metadata": {
        "id": "62iKDf55JCOs"
      },
      "outputs": [],
      "source": [
        "import evaluate\n",
        "import numpy as np\n",
        "from datasets import load_dataset\n",
        "from transformers import (\n",
        "    AutoModelForSequenceClassification,\n",
        "    AutoTokenizer,\n",
        "    Trainer,\n",
        "    TrainingArguments,\n",
        "    pipeline,\n",
        ")\n",
        "\n",
        "import mlflow\n",
        "\n",
        "# Load the \"sms_spam\" dataset.\n",
        "sms_dataset = load_dataset(\"sms_spam\")\n",
        "\n",
        "# Split train/test by an 8/2 ratio.\n",
        "sms_train_test = sms_dataset[\"train\"].train_test_split(test_size=0.2)\n",
        "train_dataset = sms_train_test[\"train\"]\n",
        "test_dataset = sms_train_test[\"test\"]"
      ]
    },
    {
      "cell_type": "code",
      "source": [
        "train_dataset[0]['sms']"
      ],
      "metadata": {
        "colab": {
          "base_uri": "https://localhost:8080/",
          "height": 35
        },
        "id": "3gGm73qyNKfl",
        "outputId": "d8698ee4-01ce-4cb1-ee4f-84ed805f2eac"
      },
      "execution_count": 27,
      "outputs": [
        {
          "output_type": "execute_result",
          "data": {
            "text/plain": [
              "'K..then come wenever u lik to come and also tel vikky to come by getting free time..:-)\\n'"
            ],
            "application/vnd.google.colaboratory.intrinsic+json": {
              "type": "string"
            }
          },
          "metadata": {},
          "execution_count": 27
        }
      ]
    },
    {
      "cell_type": "code",
      "source": [
        "train_dataset[0]['label']"
      ],
      "metadata": {
        "colab": {
          "base_uri": "https://localhost:8080/"
        },
        "id": "6Pv19IA_Na6E",
        "outputId": "7c65689b-950e-48e4-87a1-4605180b4cb4"
      },
      "execution_count": 28,
      "outputs": [
        {
          "output_type": "execute_result",
          "data": {
            "text/plain": [
              "0"
            ]
          },
          "metadata": {},
          "execution_count": 28
        }
      ]
    },
    {
      "cell_type": "markdown",
      "metadata": {
        "id": "gtruaR6rJCOu"
      },
      "source": [
        "### Tokenization and Dataset Preparation\n",
        "\n",
        "In the next code block, we tokenize our text data, preparing it for the fine-tuning process of our model.\n",
        "    \n",
        "With our dataset loaded and split, the next step is to prepare our text data for the model. This involves tokenizing the text, a crucial process in NLP where text is converted into a format that's understandable and usable by our model.\n",
        "\n",
        "#### Tokenization Process\n",
        "\n",
        "- **Loading the Tokenizer**: Using the `AutoTokenizer` from the `transformers` library for the `distilbert-base-uncased` model's tokenizer.\n",
        "- **Defining the Tokenization Function**: Creating a function to tokenize text data, including padding and truncation.\n",
        "- **Applying Tokenization to the Dataset**: Processing both the training and testing sets for model readiness.\n",
        "\n",
        "Tokenization is a critical step in preparing text data for NLP tasks. It ensures that the data is in a format that the model can process, and by handling aspects like padding and truncation, it ensures consistency across our dataset, which is vital for training stability and model performance."
      ]
    },
    {
      "cell_type": "code",
      "execution_count": 29,
      "metadata": {
        "colab": {
          "base_uri": "https://localhost:8080/",
          "height": 81,
          "referenced_widgets": [
            "ef6f390c7a3f485dbb25ef270cdb4fc6",
            "5fa0044919d44d4690275e4ea0157322",
            "ff809cf385ca4c769775d958fee91409",
            "1d84734a437f4ef1ba2ad12178709f7f",
            "c75d45cdf15f46bfa976bdbd16ffae2f",
            "39a6473debfd4098b732c555ba3bcdd3",
            "321ce33717be4297a41cf1b910278239",
            "90a073f3c6024ef288f4fe1de658c2e0",
            "0ffec1a9e32b426d8dcca68cc5eb1eb0",
            "279f0b3cacd242bf8f7cb0e915a3328b",
            "c0583807cc564362acc851f3eed71f85",
            "534abb72641c42cb95207555318f2438",
            "54f4df0a9eec4b79b8678b2a3e0143cb",
            "e54d8c109fec4bc4b0e954e2692451b7",
            "e66235e0b7964b188111e22e9a3099cd",
            "3990554f13cd4741a46d2befb236ebc5",
            "86376c1aee8b4091a1778924fac3b6eb",
            "614b705e7c2f4ff1a2918682cfc0c9fc",
            "ec0e09b2706b45d69339c625f02d588a",
            "030da080448d4cbd80ea7e94dba87040",
            "7f3ef7ff1c1449fe88e6b504b3cb5086",
            "aa929c0575bf44bfbcfb1e6d731249ad"
          ]
        },
        "id": "5atl7YUDJCOw",
        "outputId": "715e0d0d-197f-4df8-e252-14747222fcf8"
      },
      "outputs": [
        {
          "output_type": "display_data",
          "data": {
            "text/plain": [
              "Map:   0%|          | 0/4459 [00:00<?, ? examples/s]"
            ],
            "application/vnd.jupyter.widget-view+json": {
              "version_major": 2,
              "version_minor": 0,
              "model_id": "ef6f390c7a3f485dbb25ef270cdb4fc6"
            }
          },
          "metadata": {}
        },
        {
          "output_type": "display_data",
          "data": {
            "text/plain": [
              "Map:   0%|          | 0/1115 [00:00<?, ? examples/s]"
            ],
            "application/vnd.jupyter.widget-view+json": {
              "version_major": 2,
              "version_minor": 0,
              "model_id": "534abb72641c42cb95207555318f2438"
            }
          },
          "metadata": {}
        }
      ],
      "source": [
        "# Load the tokenizer for \"distilbert-base-uncased\" model.\n",
        "tokenizer = AutoTokenizer.from_pretrained(\"distilbert-base-uncased\")\n",
        "\n",
        "\n",
        "def tokenize_function(examples):\n",
        "    # Pad/truncate each text to 512 tokens. Enforcing the same shape\n",
        "    # could make the training faster.\n",
        "    return tokenizer(\n",
        "        examples[\"sms\"],\n",
        "        padding=\"max_length\",\n",
        "        truncation=True,\n",
        "        max_length=128,\n",
        "    )\n",
        "\n",
        "\n",
        "seed = 22\n",
        "\n",
        "# Tokenize the train and test datasets\n",
        "train_tokenized = train_dataset.map(tokenize_function)\n",
        "train_tokenized = train_tokenized.remove_columns([\"sms\"]).shuffle(seed=seed)\n",
        "\n",
        "test_tokenized = test_dataset.map(tokenize_function)\n",
        "test_tokenized = test_tokenized.remove_columns([\"sms\"]).shuffle(seed=seed)"
      ]
    },
    {
      "cell_type": "markdown",
      "metadata": {
        "id": "nH8pDUoEJCOy"
      },
      "source": [
        "### Model Initialization and Label Mapping\n",
        "\n",
        "Next, we'll set up label mappings and initialize the model for our text classification task.\n",
        "\n",
        "Having prepared our data, the next crucial step is to initialize our model and set up label mappings. This involves defining a clear relationship between the labels in our dataset and their corresponding representations in the model.\n",
        "\n",
        "#### Setting Up Label Mappings\n",
        "\n",
        "- **Defining Label Mappings**: Creating bi-directional mappings between integer labels and textual representations (\"ham\" and \"spam\").\n",
        "\n",
        "#### Initializing the Model\n",
        "\n",
        "- **Model Selection**: Choosing the `distilbert-base-uncased` model for its balance of performance and efficiency.\n",
        "- **Model Configuration**: Configuring the model for sequence classification with the defined label mappings.\n",
        "\n",
        "Proper model initialization and label mapping are key to ensuring that the model accurately understands and processes the task at hand. By explicitly defining these mappings and selecting an appropriate pre-trained model, we lay the groundwork for effective and efficient fine-tuning."
      ]
    },
    {
      "cell_type": "code",
      "execution_count": 30,
      "metadata": {
        "colab": {
          "base_uri": "https://localhost:8080/"
        },
        "id": "t3ZDQ3hIJCO1",
        "outputId": "0f5d7109-7609-417b-d428-dc17071dd0aa"
      },
      "outputs": [
        {
          "output_type": "stream",
          "name": "stderr",
          "text": [
            "Some weights of DistilBertForSequenceClassification were not initialized from the model checkpoint at distilbert-base-uncased and are newly initialized: ['classifier.bias', 'classifier.weight', 'pre_classifier.bias', 'pre_classifier.weight']\n",
            "You should probably TRAIN this model on a down-stream task to be able to use it for predictions and inference.\n"
          ]
        }
      ],
      "source": [
        "# Set the mapping between int label and its meaning.\n",
        "id2label = {0: \"ham\", 1: \"spam\"}\n",
        "label2id = {\"ham\": 0, \"spam\": 1}\n",
        "\n",
        "# Acquire the model from the Hugging Face Hub, providing label and id mappings so that both we and the model can 'speak' the same language.\n",
        "model = AutoModelForSequenceClassification.from_pretrained(\n",
        "    \"distilbert-base-uncased\",\n",
        "    num_labels=2,\n",
        "    label2id=label2id,\n",
        "    id2label=id2label,\n",
        ")"
      ]
    },
    {
      "cell_type": "markdown",
      "metadata": {
        "id": "O53XqYoVJCO2"
      },
      "source": [
        "### Setting Up Evaluation Metrics\n",
        "\n",
        "Next, we focus on defining and computing evaluation metrics to measure our model's performance accurately.\n",
        "\n",
        "After initializing our model, the next critical step is to define how we'll evaluate its performance. Accurate evaluation is key to understanding how well our model is learning and performing on the task.\n",
        "\n",
        "#### Choosing and Loading the Metric\n",
        "\n",
        "- **Metric Selection**: Opting for 'accuracy' as the evaluation metric.\n",
        "- **Loading the Metric**: Utilizing the `evaluate` library to load the 'accuracy' metric.\n",
        "\n",
        "#### Defining the Metric Computation Function\n",
        "\n",
        "- **Function for Metric Computation**: Creating a function, `compute_metrics`, for calculating accuracy during model evaluation.\n",
        "- **Processing Predictions**: Handling logits and labels from predictions to compute accuracy.\n",
        "\n",
        "Properly setting up evaluation metrics allows us to objectively measure the model's performance. By using standardized metrics, we can compare our model's performance against benchmarks or other models, ensuring that our fine-tuning process is effective and moving in the right direction."
      ]
    },
    {
      "cell_type": "code",
      "execution_count": 31,
      "metadata": {
        "id": "8QkamPjdJCO3"
      },
      "outputs": [],
      "source": [
        "# Define the target optimization metric\n",
        "metric = evaluate.load(\"accuracy\")\n",
        "\n",
        "\n",
        "# Define a function for calculating our defined target optimization metric during training\n",
        "def compute_metrics(eval_pred):\n",
        "    logits, labels = eval_pred\n",
        "    predictions = np.argmax(logits, axis=-1)\n",
        "    return metric.compute(predictions=predictions, references=labels)"
      ]
    },
    {
      "cell_type": "markdown",
      "metadata": {
        "id": "509d_aRaJCO5"
      },
      "source": [
        "\n",
        "### Configuring the Training Environment\n",
        "\n",
        "In this step, we're going to configure our Trainer, supplying important training configurations via the use of the `TrainingArguments` API.\n",
        "\n",
        "With our model and metrics ready, the next important step is to configure the training environment. This involves setting up the training arguments and initializing the Trainer, a component that orchestrates the model training process.\n",
        "\n",
        "#### Training Arguments Configuration\n",
        "\n",
        "- **Defining the Output Directory**: We specify the `training_output_dir` where our model checkpoints will be saved during training. This helps in managing and storing model states at different stages of training.\n",
        "- **Specifying Training Arguments**: We create an instance of `TrainingArguments` to define various parameters for training, such as the output directory, evaluation strategy, batch sizes for training and evaluation, logging frequency, and the number of training epochs. These parameters are critical for controlling how the model is trained and evaluated.\n",
        "\n",
        "#### Initializing the Trainer\n",
        "\n",
        "- **Creating the Trainer Instance**: We use the Trainer class from the Transformers library, providing it with our model, the previously defined training arguments, datasets for training and evaluation, and the function to compute metrics.\n",
        "- **Role of the Trainer**: The Trainer handles all aspects of training and evaluating the model, including the execution of training loops, handling of data batching, and calling the compute metrics function. It simplifies the training process, making it more streamlined and efficient.\n",
        "\n",
        "####  Importance of Proper Training Configuration\n",
        "Setting up the training environment correctly is essential for effective model training. Proper configuration ensures that the model is trained under optimal conditions, leading to better performance and more reliable results.\n",
        "\n",
        "In the following code block, we'll configure our training environment and initialize the Trainer, setting the stage for the actual training process."
      ]
    },
    {
      "cell_type": "code",
      "execution_count": 32,
      "metadata": {
        "id": "s9ZFPsLVJCO7"
      },
      "outputs": [],
      "source": [
        "# Checkpoints will be output to this `training_output_dir`.\n",
        "training_output_dir = \"/tmp/sms_trainer\"\n",
        "training_args = TrainingArguments(\n",
        "    output_dir=training_output_dir,\n",
        "    evaluation_strategy=\"epoch\",\n",
        "    per_device_train_batch_size=8,\n",
        "    per_device_eval_batch_size=8,\n",
        "    logging_steps=8,\n",
        "    num_train_epochs=3,\n",
        ")\n",
        "\n",
        "# Instantiate a `Trainer` instance that will be used to initiate a training run.\n",
        "trainer = Trainer(\n",
        "    model=model,\n",
        "    args=training_args,\n",
        "    train_dataset=train_tokenized,\n",
        "    eval_dataset=test_tokenized,\n",
        "    compute_metrics=compute_metrics,\n",
        ")"
      ]
    },
    {
      "cell_type": "code",
      "execution_count": 15,
      "metadata": {
        "id": "vMFocc_YJCO9"
      },
      "outputs": [],
      "source": [
        "# If you are running this tutorial in local mode, leave the next line commented out.\n",
        "# Otherwise, uncomment the following line and set your tracking uri to your local or remote tracking server.\n",
        "\n",
        "mlflow.set_tracking_uri(\"http://127.0.0.1:5000\")"
      ]
    },
    {
      "cell_type": "markdown",
      "metadata": {
        "id": "AWQcXte4JCO-"
      },
      "source": [
        "### Integrating MLflow for Experiment Tracking\n",
        "\n",
        "The final preparatory step before beginning the training process is to integrate MLflow for experiment tracking.\n",
        "   \n",
        "MLflow is a critical tool in our workflow, enabling us to log, monitor, and compare different runs of our model training.\n",
        "\n",
        "#### Setting up the MLflow Experiment\n",
        "\n",
        "- **Naming the Experiment**: We use `mlflow.set_experiment` to create a new experiment or assign the current run to an existing experiment. In this case, we name our experiment \"Spam Classifier Training\". This name should be descriptive and related to the task at hand, aiding in organizing and identifying experiments later.\n",
        "- **Role of MLflow in Training**: By setting up an MLflow experiment, we can track various aspects of our model training, such as parameters, metrics, and outputs. This tracking is invaluable for comparing different models, tuning hyperparameters, and maintaining a record of our experiments.\n",
        "\n",
        "#### Benefits of Experiment Tracking\n",
        "Utilizing MLflow for experiment tracking offers several advantages:\n",
        "\n",
        "- **Organization**: Keeps your training runs organized and easily accessible.\n",
        "- **Comparability**: Allows for easy comparison of different training runs to understand the impact of changes in parameters or data.\n",
        "- **Reproducibility**: Enhances the reproducibility of experiments by logging all necessary details.\n",
        "\n",
        "With MLflow set up, we're now ready to begin the training process, keeping track of every important aspect along the way.\n",
        "\n",
        "In the next code snippet, we'll set up our MLflow experiment for tracking the training of our spam classification model."
      ]
    },
    {
      "cell_type": "code",
      "execution_count": 16,
      "metadata": {
        "colab": {
          "base_uri": "https://localhost:8080/"
        },
        "id": "gIh5vsNKJCO-",
        "outputId": "f5735ec7-d5b2-4530-d1fd-3666ba260bc4"
      },
      "outputs": [
        {
          "output_type": "stream",
          "name": "stderr",
          "text": [
            "2024/04/30 08:54:42 INFO mlflow.tracking.fluent: Experiment with name 'Spam Classifier Training' does not exist. Creating a new experiment.\n"
          ]
        },
        {
          "output_type": "execute_result",
          "data": {
            "text/plain": [
              "<Experiment: artifact_location='mlflow-artifacts:/388748337076719287', creation_time=1714467282643, experiment_id='388748337076719287', last_update_time=1714467282643, lifecycle_stage='active', name='Spam Classifier Training', tags={}>"
            ]
          },
          "metadata": {},
          "execution_count": 16
        }
      ],
      "source": [
        "# Pick a name that you like and reflects the nature of the runs that you will be recording to the experiment.\n",
        "mlflow.set_experiment(\"Spam Classifier Training\")"
      ]
    },
    {
      "cell_type": "markdown",
      "metadata": {
        "id": "uXUiDHxJJCO_"
      },
      "source": [
        "### Starting the Training Process with MLflow\n",
        "\n",
        "In this step, we initiate the fine-tuning training run, utilizing the native auto-logging functionality to record the parameters used and loss metrics calculated during the training process.\n",
        "    \n",
        "With our model, training arguments, and MLflow experiment set up, we are now ready to start the actual training process. This step involves initiating an MLflow run, which will encapsulate all the training activities and metrics.\n",
        "\n",
        "#### Initiating the MLflow Run\n",
        "\n",
        "- **Starting an MLflow Run**: We use `mlflow.start_run()` to begin a new MLflow run. This function creates a new run context, under which all the training operations and logging will occur.\n",
        "- **Training the Model**: Inside the MLflow run context, we call `trainer.train()` to start training our model. This function will run the training loop, processing the data in batches, updating model parameters, and evaluating the model.\n",
        "\n",
        "#### Monitoring the Training Progress\n",
        "During training, the `Trainer` object will output logs that provide valuable insights into the training progress:\n",
        "\n",
        "- **Loss**: Indicates the model's performance, with lower values signifying better performance.\n",
        "- **Learning Rate**: Shows the current learning rate used during training.\n",
        "- **Epoch Progress**: Displays the progress through the current epoch.\n",
        "\n",
        "These logs are crucial for monitoring the model's learning process and making any necessary adjustments. By tracking these metrics within an MLflow run, we can maintain a comprehensive record of the training process, enhancing reproducibility and analysis.\n",
        "\n",
        "In the next code block, we will start our MLflow run and begin training our model, closely observing the output to gauge the training progress."
      ]
    },
    {
      "cell_type": "code",
      "execution_count": 33,
      "metadata": {
        "colab": {
          "base_uri": "https://localhost:8080/",
          "height": 169
        },
        "id": "CYNiqGglJCPA",
        "outputId": "34e254d3-eed2-4596-b20a-426424a7d045"
      },
      "outputs": [
        {
          "output_type": "display_data",
          "data": {
            "text/plain": [
              "<IPython.core.display.HTML object>"
            ],
            "text/html": [
              "\n",
              "    <div>\n",
              "      \n",
              "      <progress value='1674' max='1674' style='width:300px; height:20px; vertical-align: middle;'></progress>\n",
              "      [1674/1674 03:10, Epoch 3/3]\n",
              "    </div>\n",
              "    <table border=\"1\" class=\"dataframe\">\n",
              "  <thead>\n",
              " <tr style=\"text-align: left;\">\n",
              "      <th>Epoch</th>\n",
              "      <th>Training Loss</th>\n",
              "      <th>Validation Loss</th>\n",
              "      <th>Accuracy</th>\n",
              "    </tr>\n",
              "  </thead>\n",
              "  <tbody>\n",
              "    <tr>\n",
              "      <td>1</td>\n",
              "      <td>0.000500</td>\n",
              "      <td>0.066841</td>\n",
              "      <td>0.989238</td>\n",
              "    </tr>\n",
              "    <tr>\n",
              "      <td>2</td>\n",
              "      <td>0.002100</td>\n",
              "      <td>0.063614</td>\n",
              "      <td>0.988341</td>\n",
              "    </tr>\n",
              "    <tr>\n",
              "      <td>3</td>\n",
              "      <td>0.000100</td>\n",
              "      <td>0.070869</td>\n",
              "      <td>0.989238</td>\n",
              "    </tr>\n",
              "  </tbody>\n",
              "</table><p>"
            ]
          },
          "metadata": {}
        }
      ],
      "source": [
        "with mlflow.start_run() as run:\n",
        "    trainer.train()"
      ]
    },
    {
      "cell_type": "markdown",
      "metadata": {
        "id": "Joc-IBVUJCPB"
      },
      "source": [
        "### Creating a Pipeline with the Fine-Tuned Model\n",
        "\n",
        "In this section, we're going to create a pipeline that contains our fine-tuned model.\n",
        "\n",
        "After completing the training process, our next step is to create a pipeline for inference using our fine-tuned model. This pipeline will enable us to easily make predictions with the model.\n",
        "\n",
        "#### Setting Up the Inference Pipeline\n",
        "\n",
        "- **Pipeline Creation**: We use the `pipeline` function from the Transformers library to create an inference pipeline. This pipeline is configured for the task of text classification.\n",
        "- **Model Integration**: We integrate our fine-tuned model (`trainer.model`) into the pipeline. This ensures that the pipeline uses our newly trained model for inference.\n",
        "- **Configuring the Pipeline**: We set the batch size and tokenizer in the pipeline configuration. Additionally, we specify the device type, which is crucial for performance considerations.\n",
        "\n",
        "#### Device Configuration for Different Platforms\n",
        "\n",
        "- **Apple Silicon (M1/M2) Devices**: For those using Apple Silicon (e.g., M1 or M2 chips), we set the device type to `\"mps\"` in the pipeline. This leverages Apple's Metal Performance Shaders for optimized performance on these devices.\n",
        "- **Other Devices**: If you're using a device other than a MacBook Pro with Apple Silicon, you'll need to adjust the device setting to match your hardware (e.g., `\"cuda\"` for NVIDIA GPUs or `\"cpu\"` for CPU-only inference).\n",
        "\n",
        "#### Importance of a Customized Pipeline\n",
        "Creating a customized pipeline with our fine-tuned model allows for easy and efficient inference, tailored to our specific task and hardware. This step is vital in transitioning from model training to practical application.\n",
        "\n",
        "In the following code block, we'll set up our pipeline with the fine-tuned model and configure it for our device."
      ]
    },
    {
      "cell_type": "code",
      "execution_count": 34,
      "metadata": {
        "id": "TB3CYq3OJCPD"
      },
      "outputs": [],
      "source": [
        "# If you're going to run this on something other than a Macbook Pro, change the device to the applicable type. \"mps\" is for Apple Silicon architecture in torch.\n",
        "\n",
        "tuned_pipeline = pipeline(\n",
        "    task=\"text-classification\",\n",
        "    model=trainer.model,\n",
        "    batch_size=8,\n",
        "    tokenizer=tokenizer,\n",
        "    device=\"cuda\",\n",
        ")"
      ]
    },
    {
      "cell_type": "markdown",
      "metadata": {
        "id": "sdzo9wVcJCPE"
      },
      "source": [
        "### Validating the Fine-Tuned Model\n",
        "\n",
        "In this next step, we're going to validate that our fine-tuning training was effective prior to logging the tuned model to our run.\n",
        "    \n",
        "Before finalizing our model by logging it to MLflow, it's crucial to validate its performance. This validation step ensures that the model meets our expectations and is ready for deployment.\n",
        "\n",
        "#### Importance of Model Validation\n",
        "\n",
        "- **Assessing Model Performance**: We need to evaluate the model's performance on realistic scenarios to ensure it behaves as expected. This helps in identifying any issues or shortcomings in the model before it is logged and potentially deployed.\n",
        "- **Avoiding Costly Redo's**: Given the large size of Transformer models and the computational resources required for training, it's essential to validate the model beforehand. If a model doesn’t perform well, we wouldn't want to log the model, only to have to later delete the run and the logged artifacts.\n",
        "\n",
        "#### Evaluating with a Test Query\n",
        "\n",
        "- **Test Query**: We will pass a realistic test query to our tuned pipeline to see how the model performs. This query should be representative of the kind of input the model is expected to handle in a real-world scenario.\n",
        "- **Observing the Output**: By analyzing the output of the model for this query, we can gauge its understanding and response to complex situations. This provides a practical insight into the model's capabilities post-fine-tuning.\n",
        "\n",
        "#### Validating Before Logging to MLflow\n",
        "\n",
        "- **Rationale**: The reason for this validation step is to ensure that the model we log to MLflow is of high quality and ready for further steps like deployment or sharing. Logging a poorly performing model would lead to unnecessary complications, especially considering the large size and complexity of these models.\n",
        "\n",
        "After validating the model and ensuring satisfactory performance, we can confidently proceed to log it in MLflow, knowing it's ready for real-world applications.\n",
        "\n",
        "In the next code block, we will run a test query through our fine-tuned model to evaluate its performance before proceeding to log it in MLflow."
      ]
    },
    {
      "cell_type": "code",
      "execution_count": 35,
      "metadata": {
        "colab": {
          "base_uri": "https://localhost:8080/"
        },
        "id": "pTuLjlipJCPG",
        "outputId": "8e070834-1954-4186-f862-1a1294a9941d"
      },
      "outputs": [
        {
          "output_type": "execute_result",
          "data": {
            "text/plain": [
              "[{'label': 'ham', 'score': 0.9985596537590027}]"
            ]
          },
          "metadata": {},
          "execution_count": 35
        }
      ],
      "source": [
        "# Perform a validation of our assembled pipeline that contains our fine-tuned model.\n",
        "quick_check = (\n",
        "    \"I have a question regarding the project development timeline and allocated resources; \"\n",
        "    \"specifically, how certain are you that John and Ringo can work together on writing this next song? \"\n",
        "    \"Do we need to get Paul involved here, or do you truly believe, as you said, 'nah, they got this'?\"\n",
        ")\n",
        "\n",
        "tuned_pipeline(quick_check)"
      ]
    },
    {
      "cell_type": "markdown",
      "metadata": {
        "id": "7bJBnXZnJCPI"
      },
      "source": [
        "### Model Configuration and Signature Inference\n",
        "\n",
        "In this next step, we generate a signature for our pipeline in preparation for logging.\n",
        "    \n",
        "After validating our model's performance, the next critical step is to prepare it for logging to MLflow. This involves setting up the model's configuration and inferring its signature, which are essential aspects of the model management process.\n",
        "\n",
        "#### Configuring the Model for MLflow\n",
        "\n",
        "- **Setting Model Configuration**: We define a `model_config` dictionary to specify configuration parameters such as batch size and the device type (e.g., `\"mps\"` for Apple Silicon). This configuration is vital for ensuring that the model operates correctly in different environments.\n",
        "\n",
        "#### Inferring the Model Signature\n",
        "\n",
        "- **Purpose of Signature Inference**: The model signature defines the input and output schema of the model. Inferring this signature is crucial as it helps MLflow understand the data types and shapes that the model expects and produces.\n",
        "- **Using mlflow.models.infer_signature**: We use this function to automatically infer the model signature. We provide sample input and output data to the function, which analyzes them to determine the appropriate schema.\n",
        "- **Including Model Parameters**: Along with the input and output, we also include the `model_config` in the signature. This ensures that all relevant information about how the model should be run is captured.\n",
        "\n",
        "#### Importance of Signature Inference\n",
        "Inferring the signature is a key step in preparing the model for logging and future deployment. It ensures that anyone who uses the model later, either for further development or in production, has clear information about the expected data format, making the model more robust and user-friendly.\n",
        "\n",
        "With the model configuration set and its signature inferred, we are now ready to log the model into MLflow. This will be our next step, ensuring our model is properly managed and ready for deployment."
      ]
    },
    {
      "cell_type": "code",
      "execution_count": 36,
      "metadata": {
        "id": "Xy20ncvsJCPI"
      },
      "outputs": [],
      "source": [
        "# Define a set of parameters that we would like to be able to flexibly override at inference time, along with their default values\n",
        "model_config = {\"batch_size\": 8, \"device\": \"cuda\"}\n",
        "\n",
        "# Infer the model signature, including a representative input, the expected output, and the parameters that we would like to be able to override at inference time.\n",
        "signature = mlflow.models.infer_signature(\n",
        "    [\"This is a test!\", \"And this is also a test.\"],\n",
        "    mlflow.transformers.generate_signature_output(\n",
        "        tuned_pipeline, [\"This is a test response!\", \"So is this.\"]\n",
        "    ),\n",
        "    params=model_config,\n",
        ")"
      ]
    },
    {
      "cell_type": "markdown",
      "metadata": {
        "id": "7fb0l1M-JCPJ"
      },
      "source": [
        "### Logging the Fine-Tuned Model to MLflow\n",
        "\n",
        "In this next section, we're going to log our validated pipeline to the training run.\n",
        "    \n",
        "With our model configuration and signature ready, the final step in our model training and validation process is to log the model to MLflow. This step is crucial for tracking and managing the model in a systematic way.\n",
        "\n",
        "#### Accessing the existing Run used for training\n",
        "\n",
        "- **Initiating MLflow Run**: We start a new run in MLflow using `mlflow.start_run()`. This new run is specifically for the purpose of logging the model, separate from the training run.\n",
        "\n",
        "#### Logging the Model in MLflow\n",
        "\n",
        "- **Using mlflow.transformers.log_model**: We log our fine-tuned model using this function. It's specially designed for logging models from the Transformers library, making the process streamlined and efficient.\n",
        "- **Specifying Model Information**: We provide several pieces of information to the logging function:\n",
        "\n",
        "   - **transformers_model**: The fine-tuned model pipeline.\n",
        "   - **artifact_path**: The path where the model artifacts will be stored.\n",
        "   - **signature**: The inferred signature of the model, which includes input and output schemas.\n",
        "   - **input_example**: Sample inputs to give users an idea of what input the model expects.\n",
        "   - **model_config**: The configuration parameters of the model.\n",
        "\n",
        "#### Importance of Model Logging\n",
        "Logging the model in MLflow serves multiple purposes:\n",
        "\n",
        "- **Version Control**: It helps in keeping track of different versions of the model.\n",
        "- **Model Management**: Facilitates the management of the model lifecycle, from training to deployment.\n",
        "- **Reproducibility and Sharing**: Enhances reproducibility and makes it easier to share the model with others.\n",
        "\n",
        "By logging our model in MLflow, we ensure that it is well-documented, versioned, and ready for future use, whether for further development or deployment."
      ]
    },
    {
      "cell_type": "code",
      "execution_count": 38,
      "metadata": {
        "colab": {
          "base_uri": "https://localhost:8080/"
        },
        "id": "_kxb_2aQJCPK",
        "outputId": "62a14a13-7062-4ff0-fc29-6477f065876b"
      },
      "outputs": [
        {
          "output_type": "stream",
          "name": "stderr",
          "text": [
            "2024/04/30 09:15:09 WARNING mlflow.utils.requirements_utils: Found torch version (2.2.1+cu121) contains a local version label (+cu121). MLflow logged a pip requirement for this package as 'torch==2.2.1' without the local version label to make it installable from PyPI. To specify pip requirements containing local version labels, please use `conda_env` or `pip_requirements`.\n",
            "2024/04/30 09:15:09 WARNING mlflow.utils.requirements_utils: Found torchvision version (0.17.1+cu121) contains a local version label (+cu121). MLflow logged a pip requirement for this package as 'torchvision==0.17.1' without the local version label to make it installable from PyPI. To specify pip requirements containing local version labels, please use `conda_env` or `pip_requirements`.\n",
            "2024/04/30 09:15:25 WARNING mlflow.utils.environment: Encountered an unexpected error while inferring pip requirements (model URI: /tmp/tmpajj1cyah/model, flavor: transformers). Fall back to return ['transformers==4.39.3', 'torch==2.2.1', 'torchvision==0.17.1', 'accelerate==0.29.3']. Set logging level to DEBUG to see the full traceback. \n"
          ]
        }
      ],
      "source": [
        "# Log the pipeline to the existing training run\n",
        "with mlflow.start_run(run_id=run.info.run_id):\n",
        "    model_info = mlflow.transformers.log_model(\n",
        "        transformers_model=tuned_pipeline,\n",
        "        artifact_path=\"fine_tuned\",\n",
        "        signature=signature,\n",
        "\n",
        "        model_config=model_config,\n",
        "    )"
      ]
    },
    {
      "cell_type": "markdown",
      "metadata": {
        "id": "5Can8WHCJCPK"
      },
      "source": [
        "### Loading and Testing the Model from MLflow\n",
        "\n",
        "After logging our fine-tuned model to MLflow, we'll now load and test it.\n",
        "    \n",
        "#### Loading the Model from MLflow\n",
        "\n",
        "- **Using mlflow.transformers.load_model**: We use this function to load the model stored in MLflow. This demonstrates how models can be retrieved and utilized post-training, ensuring they are accessible for future use.\n",
        "- **Retrieving Model URI**: We use the `model_uri` obtained from logging the model to MLflow. This URI is the unique identifier for our logged model, allowing us to retrieve it accurately.\n",
        "\n",
        "#### Testing the Model with Validation Text\n",
        "\n",
        "- **Preparing Validation Text**: We use a creatively crafted text to test the model's performance. This text is designed to mimic a typical spam message, which is relevant to our model's training on spam classification.\n",
        "- **Evaluating Model Output**: By passing this text through the loaded model, we can observe its performance and effectiveness in a practical scenario. This step is crucial to ensure that the model works as expected in real-world conditions.\n",
        "\n",
        "Testing the model after loading it from MLflow is essential for several reasons:\n",
        "\n",
        "- **Validation of Logging Process**: It confirms that the model was logged and loaded correctly.\n",
        "- **Practical Performance Assessment**: Provides a real-world assessment of the model's performance, which is critical for deployment decisions.\n",
        "- **Demonstrating End-to-End Workflow**: Showcases a complete workflow from training, logging, loading, to using the model, which is vital for understanding the entire model lifecycle.\n",
        "\n",
        "In the next code block, we'll load our model from MLflow and test it with a validation text to assess its real-world performance."
      ]
    },
    {
      "cell_type": "code",
      "execution_count": 39,
      "metadata": {
        "colab": {
          "base_uri": "https://localhost:8080/",
          "height": 170,
          "referenced_widgets": [
            "ba58054f85a64108bdd7314e93756a09",
            "5319bd4d3a0847e2a1cc97d303bb9415",
            "5fe35dd340d441e28f2b18a20df9ab03",
            "595c2f3d904b49cfafdad36eee9e57b2",
            "d26b56464d6442f79daf1d646bfb2373",
            "7e16eaeb0e3b4496840110bf13a5f549",
            "c5364586cc454d70bcefe5cb160869f5",
            "74b197b5a7b440aba5f57fb7287ba00e",
            "e9e5f00628fe45cb9ac71123d53d018c",
            "ca576da05d1f4972a1b612c84984530f",
            "c9205d523a6f4af7b17de1d7ba6ae7e5",
            "11069e28baae4c3e82e951ffa6752c91",
            "36fc3b45f36f4924bb4414d074a8460e",
            "62bdc939ee7147c6b76b64cb53c7c1a1",
            "b425d01f1739422ba0fbf34249565abb",
            "528eecac82c0491d92bb1f26c5a7e80d",
            "c7a42c57bfe4423e93b7582202ff36df",
            "6d5c00ebfa05472dbdfb464fe3844bbf",
            "c171e5ae5faa4fcea345ae418e45e5c9",
            "56919225e9324e2ebeb7bbb4641e6d85",
            "b7d38648bd7b4a2190c3f9785578433a",
            "61ecf86341c74380872a11c210ff9603"
          ]
        },
        "id": "4v127LkcJCPM",
        "outputId": "5b46fe47-ae97-42f7-bb16-46e036d88605"
      },
      "outputs": [
        {
          "output_type": "display_data",
          "data": {
            "text/plain": [
              "Downloading artifacts:   0%|          | 0/18 [00:00<?, ?it/s]"
            ],
            "application/vnd.jupyter.widget-view+json": {
              "version_major": 2,
              "version_minor": 0,
              "model_id": "ba58054f85a64108bdd7314e93756a09"
            }
          },
          "metadata": {}
        },
        {
          "output_type": "stream",
          "name": "stderr",
          "text": [
            "2024/04/30 09:16:19 INFO mlflow.store.artifact.artifact_repo: The progress bar can be disabled by setting the environment variable MLFLOW_ENABLE_ARTIFACTS_PROGRESS_BAR to false\n",
            "2024/04/30 09:16:31 INFO mlflow.transformers: 'runs:/7b5386b4c10c4f89b18867f91df6d221/fine_tuned' resolved as 'mlflow-artifacts:/388748337076719287/7b5386b4c10c4f89b18867f91df6d221/artifacts/fine_tuned'\n"
          ]
        },
        {
          "output_type": "display_data",
          "data": {
            "text/plain": [
              "Downloading artifacts:   0%|          | 0/1 [00:00<?, ?it/s]"
            ],
            "application/vnd.jupyter.widget-view+json": {
              "version_major": 2,
              "version_minor": 0,
              "model_id": "11069e28baae4c3e82e951ffa6752c91"
            }
          },
          "metadata": {}
        },
        {
          "output_type": "stream",
          "name": "stderr",
          "text": [
            "2024/04/30 09:16:31 WARNING mlflow.transformers.model_io: Could not specify device parameter for this pipeline type.Falling back to loading the model with the default device.\n"
          ]
        },
        {
          "output_type": "execute_result",
          "data": {
            "text/plain": [
              "[{'label': 'spam', 'score': 0.6573240756988525}]"
            ]
          },
          "metadata": {},
          "execution_count": 39
        }
      ],
      "source": [
        "# Load our saved model in the native transformers format\n",
        "loaded = mlflow.transformers.load_model(model_uri=model_info.model_uri)\n",
        "\n",
        "# Define a test example that we expect to be classified as spam\n",
        "validation_text = (\n",
        "    \"Want to learn how to make MILLIONS with no effort? Click HERE now! See for yourself! Guaranteed to make you instantly rich! \"\n",
        "    \"Don't miss out you could be a winner!\"\n",
        ")\n",
        "\n",
        "# validate the performance of our fine-tuning\n",
        "loaded(validation_text)"
      ]
    },
    {
      "cell_type": "markdown",
      "metadata": {
        "id": "iHA5LhDPJCPN"
      },
      "source": [
        "### Conclusion: Mastering Fine-Tuning and MLflow Integration\n",
        "\n",
        "Congratulations on completing this comprehensive tutorial on fine-tuning a Transformers model and integrating it with MLflow! Let’s recap the essential skills and knowledge you've acquired through this journey.\n",
        "\n",
        "#### Key Takeaways\n",
        "\n",
        "1. **Fine-Tuning Transformers Models**: You’ve learned how to fine-tune a foundational model from the Transformers library. This process demonstrates the power of adapting advanced pre-trained models to specific tasks, tailoring their performance to meet unique requirements.\n",
        "2. **Ease of Fine-Tuning**: We've seen firsthand how straightforward it is to fine-tune these advanced Large Language Models (LLMs). With the right tools and understanding, fine-tuning can significantly enhance a model’s performance on specific tasks.\n",
        "3. **Specificity in Performance**: The ability to fine-tune LLMs opens up a world of possibilities, allowing us to create models that excel in particular domains or tasks. This specificity in performance is crucial in deploying models in real-world scenarios where specialized understanding is required.\n",
        "\n",
        "#### Integrating MLflow with Transformers\n",
        "\n",
        "1. **Tracking and Managing the Fine-Tuning Process**: A significant part of this tutorial was dedicated to using MLflow for experiment tracking, model logging, and management. You’ve learned how MLflow simplifies these aspects, making the machine learning workflow more manageable and efficient.\n",
        "2. **Benefits of MLflow in Fine-Tuning**: MLflow plays a crucial role in ensuring reproducibility, managing model versions, and streamlining the deployment process. Its integration with the Transformers fine-tuning process demonstrates the potential for synergy between advanced model training techniques and lifecycle management tools."
      ]
    }
  ],
  "metadata": {
    "kernelspec": {
      "display_name": "Python 3",
      "name": "python3"
    },
    "language_info": {
      "codemirror_mode": {
        "name": "ipython",
        "version": 3
      },
      "file_extension": ".py",
      "mimetype": "text/x-python",
      "name": "python",
      "nbconvert_exporter": "python",
      "pygments_lexer": "ipython3",
      "version": "3.8.13"
    },
    "colab": {
      "provenance": [],
      "gpuType": "T4",
      "include_colab_link": true
    },
    "accelerator": "GPU",
    "widgets": {
      "application/vnd.jupyter.widget-state+json": {
        "ef6f390c7a3f485dbb25ef270cdb4fc6": {
          "model_module": "@jupyter-widgets/controls",
          "model_name": "HBoxModel",
          "model_module_version": "1.5.0",
          "state": {
            "_dom_classes": [],
            "_model_module": "@jupyter-widgets/controls",
            "_model_module_version": "1.5.0",
            "_model_name": "HBoxModel",
            "_view_count": null,
            "_view_module": "@jupyter-widgets/controls",
            "_view_module_version": "1.5.0",
            "_view_name": "HBoxView",
            "box_style": "",
            "children": [
              "IPY_MODEL_5fa0044919d44d4690275e4ea0157322",
              "IPY_MODEL_ff809cf385ca4c769775d958fee91409",
              "IPY_MODEL_1d84734a437f4ef1ba2ad12178709f7f"
            ],
            "layout": "IPY_MODEL_c75d45cdf15f46bfa976bdbd16ffae2f"
          }
        },
        "5fa0044919d44d4690275e4ea0157322": {
          "model_module": "@jupyter-widgets/controls",
          "model_name": "HTMLModel",
          "model_module_version": "1.5.0",
          "state": {
            "_dom_classes": [],
            "_model_module": "@jupyter-widgets/controls",
            "_model_module_version": "1.5.0",
            "_model_name": "HTMLModel",
            "_view_count": null,
            "_view_module": "@jupyter-widgets/controls",
            "_view_module_version": "1.5.0",
            "_view_name": "HTMLView",
            "description": "",
            "description_tooltip": null,
            "layout": "IPY_MODEL_39a6473debfd4098b732c555ba3bcdd3",
            "placeholder": "​",
            "style": "IPY_MODEL_321ce33717be4297a41cf1b910278239",
            "value": "Map: 100%"
          }
        },
        "ff809cf385ca4c769775d958fee91409": {
          "model_module": "@jupyter-widgets/controls",
          "model_name": "FloatProgressModel",
          "model_module_version": "1.5.0",
          "state": {
            "_dom_classes": [],
            "_model_module": "@jupyter-widgets/controls",
            "_model_module_version": "1.5.0",
            "_model_name": "FloatProgressModel",
            "_view_count": null,
            "_view_module": "@jupyter-widgets/controls",
            "_view_module_version": "1.5.0",
            "_view_name": "ProgressView",
            "bar_style": "success",
            "description": "",
            "description_tooltip": null,
            "layout": "IPY_MODEL_90a073f3c6024ef288f4fe1de658c2e0",
            "max": 4459,
            "min": 0,
            "orientation": "horizontal",
            "style": "IPY_MODEL_0ffec1a9e32b426d8dcca68cc5eb1eb0",
            "value": 4459
          }
        },
        "1d84734a437f4ef1ba2ad12178709f7f": {
          "model_module": "@jupyter-widgets/controls",
          "model_name": "HTMLModel",
          "model_module_version": "1.5.0",
          "state": {
            "_dom_classes": [],
            "_model_module": "@jupyter-widgets/controls",
            "_model_module_version": "1.5.0",
            "_model_name": "HTMLModel",
            "_view_count": null,
            "_view_module": "@jupyter-widgets/controls",
            "_view_module_version": "1.5.0",
            "_view_name": "HTMLView",
            "description": "",
            "description_tooltip": null,
            "layout": "IPY_MODEL_279f0b3cacd242bf8f7cb0e915a3328b",
            "placeholder": "​",
            "style": "IPY_MODEL_c0583807cc564362acc851f3eed71f85",
            "value": " 4459/4459 [00:03&lt;00:00, 780.55 examples/s]"
          }
        },
        "c75d45cdf15f46bfa976bdbd16ffae2f": {
          "model_module": "@jupyter-widgets/base",
          "model_name": "LayoutModel",
          "model_module_version": "1.2.0",
          "state": {
            "_model_module": "@jupyter-widgets/base",
            "_model_module_version": "1.2.0",
            "_model_name": "LayoutModel",
            "_view_count": null,
            "_view_module": "@jupyter-widgets/base",
            "_view_module_version": "1.2.0",
            "_view_name": "LayoutView",
            "align_content": null,
            "align_items": null,
            "align_self": null,
            "border": null,
            "bottom": null,
            "display": null,
            "flex": null,
            "flex_flow": null,
            "grid_area": null,
            "grid_auto_columns": null,
            "grid_auto_flow": null,
            "grid_auto_rows": null,
            "grid_column": null,
            "grid_gap": null,
            "grid_row": null,
            "grid_template_areas": null,
            "grid_template_columns": null,
            "grid_template_rows": null,
            "height": null,
            "justify_content": null,
            "justify_items": null,
            "left": null,
            "margin": null,
            "max_height": null,
            "max_width": null,
            "min_height": null,
            "min_width": null,
            "object_fit": null,
            "object_position": null,
            "order": null,
            "overflow": null,
            "overflow_x": null,
            "overflow_y": null,
            "padding": null,
            "right": null,
            "top": null,
            "visibility": null,
            "width": null
          }
        },
        "39a6473debfd4098b732c555ba3bcdd3": {
          "model_module": "@jupyter-widgets/base",
          "model_name": "LayoutModel",
          "model_module_version": "1.2.0",
          "state": {
            "_model_module": "@jupyter-widgets/base",
            "_model_module_version": "1.2.0",
            "_model_name": "LayoutModel",
            "_view_count": null,
            "_view_module": "@jupyter-widgets/base",
            "_view_module_version": "1.2.0",
            "_view_name": "LayoutView",
            "align_content": null,
            "align_items": null,
            "align_self": null,
            "border": null,
            "bottom": null,
            "display": null,
            "flex": null,
            "flex_flow": null,
            "grid_area": null,
            "grid_auto_columns": null,
            "grid_auto_flow": null,
            "grid_auto_rows": null,
            "grid_column": null,
            "grid_gap": null,
            "grid_row": null,
            "grid_template_areas": null,
            "grid_template_columns": null,
            "grid_template_rows": null,
            "height": null,
            "justify_content": null,
            "justify_items": null,
            "left": null,
            "margin": null,
            "max_height": null,
            "max_width": null,
            "min_height": null,
            "min_width": null,
            "object_fit": null,
            "object_position": null,
            "order": null,
            "overflow": null,
            "overflow_x": null,
            "overflow_y": null,
            "padding": null,
            "right": null,
            "top": null,
            "visibility": null,
            "width": null
          }
        },
        "321ce33717be4297a41cf1b910278239": {
          "model_module": "@jupyter-widgets/controls",
          "model_name": "DescriptionStyleModel",
          "model_module_version": "1.5.0",
          "state": {
            "_model_module": "@jupyter-widgets/controls",
            "_model_module_version": "1.5.0",
            "_model_name": "DescriptionStyleModel",
            "_view_count": null,
            "_view_module": "@jupyter-widgets/base",
            "_view_module_version": "1.2.0",
            "_view_name": "StyleView",
            "description_width": ""
          }
        },
        "90a073f3c6024ef288f4fe1de658c2e0": {
          "model_module": "@jupyter-widgets/base",
          "model_name": "LayoutModel",
          "model_module_version": "1.2.0",
          "state": {
            "_model_module": "@jupyter-widgets/base",
            "_model_module_version": "1.2.0",
            "_model_name": "LayoutModel",
            "_view_count": null,
            "_view_module": "@jupyter-widgets/base",
            "_view_module_version": "1.2.0",
            "_view_name": "LayoutView",
            "align_content": null,
            "align_items": null,
            "align_self": null,
            "border": null,
            "bottom": null,
            "display": null,
            "flex": null,
            "flex_flow": null,
            "grid_area": null,
            "grid_auto_columns": null,
            "grid_auto_flow": null,
            "grid_auto_rows": null,
            "grid_column": null,
            "grid_gap": null,
            "grid_row": null,
            "grid_template_areas": null,
            "grid_template_columns": null,
            "grid_template_rows": null,
            "height": null,
            "justify_content": null,
            "justify_items": null,
            "left": null,
            "margin": null,
            "max_height": null,
            "max_width": null,
            "min_height": null,
            "min_width": null,
            "object_fit": null,
            "object_position": null,
            "order": null,
            "overflow": null,
            "overflow_x": null,
            "overflow_y": null,
            "padding": null,
            "right": null,
            "top": null,
            "visibility": null,
            "width": null
          }
        },
        "0ffec1a9e32b426d8dcca68cc5eb1eb0": {
          "model_module": "@jupyter-widgets/controls",
          "model_name": "ProgressStyleModel",
          "model_module_version": "1.5.0",
          "state": {
            "_model_module": "@jupyter-widgets/controls",
            "_model_module_version": "1.5.0",
            "_model_name": "ProgressStyleModel",
            "_view_count": null,
            "_view_module": "@jupyter-widgets/base",
            "_view_module_version": "1.2.0",
            "_view_name": "StyleView",
            "bar_color": null,
            "description_width": ""
          }
        },
        "279f0b3cacd242bf8f7cb0e915a3328b": {
          "model_module": "@jupyter-widgets/base",
          "model_name": "LayoutModel",
          "model_module_version": "1.2.0",
          "state": {
            "_model_module": "@jupyter-widgets/base",
            "_model_module_version": "1.2.0",
            "_model_name": "LayoutModel",
            "_view_count": null,
            "_view_module": "@jupyter-widgets/base",
            "_view_module_version": "1.2.0",
            "_view_name": "LayoutView",
            "align_content": null,
            "align_items": null,
            "align_self": null,
            "border": null,
            "bottom": null,
            "display": null,
            "flex": null,
            "flex_flow": null,
            "grid_area": null,
            "grid_auto_columns": null,
            "grid_auto_flow": null,
            "grid_auto_rows": null,
            "grid_column": null,
            "grid_gap": null,
            "grid_row": null,
            "grid_template_areas": null,
            "grid_template_columns": null,
            "grid_template_rows": null,
            "height": null,
            "justify_content": null,
            "justify_items": null,
            "left": null,
            "margin": null,
            "max_height": null,
            "max_width": null,
            "min_height": null,
            "min_width": null,
            "object_fit": null,
            "object_position": null,
            "order": null,
            "overflow": null,
            "overflow_x": null,
            "overflow_y": null,
            "padding": null,
            "right": null,
            "top": null,
            "visibility": null,
            "width": null
          }
        },
        "c0583807cc564362acc851f3eed71f85": {
          "model_module": "@jupyter-widgets/controls",
          "model_name": "DescriptionStyleModel",
          "model_module_version": "1.5.0",
          "state": {
            "_model_module": "@jupyter-widgets/controls",
            "_model_module_version": "1.5.0",
            "_model_name": "DescriptionStyleModel",
            "_view_count": null,
            "_view_module": "@jupyter-widgets/base",
            "_view_module_version": "1.2.0",
            "_view_name": "StyleView",
            "description_width": ""
          }
        },
        "534abb72641c42cb95207555318f2438": {
          "model_module": "@jupyter-widgets/controls",
          "model_name": "HBoxModel",
          "model_module_version": "1.5.0",
          "state": {
            "_dom_classes": [],
            "_model_module": "@jupyter-widgets/controls",
            "_model_module_version": "1.5.0",
            "_model_name": "HBoxModel",
            "_view_count": null,
            "_view_module": "@jupyter-widgets/controls",
            "_view_module_version": "1.5.0",
            "_view_name": "HBoxView",
            "box_style": "",
            "children": [
              "IPY_MODEL_54f4df0a9eec4b79b8678b2a3e0143cb",
              "IPY_MODEL_e54d8c109fec4bc4b0e954e2692451b7",
              "IPY_MODEL_e66235e0b7964b188111e22e9a3099cd"
            ],
            "layout": "IPY_MODEL_3990554f13cd4741a46d2befb236ebc5"
          }
        },
        "54f4df0a9eec4b79b8678b2a3e0143cb": {
          "model_module": "@jupyter-widgets/controls",
          "model_name": "HTMLModel",
          "model_module_version": "1.5.0",
          "state": {
            "_dom_classes": [],
            "_model_module": "@jupyter-widgets/controls",
            "_model_module_version": "1.5.0",
            "_model_name": "HTMLModel",
            "_view_count": null,
            "_view_module": "@jupyter-widgets/controls",
            "_view_module_version": "1.5.0",
            "_view_name": "HTMLView",
            "description": "",
            "description_tooltip": null,
            "layout": "IPY_MODEL_86376c1aee8b4091a1778924fac3b6eb",
            "placeholder": "​",
            "style": "IPY_MODEL_614b705e7c2f4ff1a2918682cfc0c9fc",
            "value": "Map: 100%"
          }
        },
        "e54d8c109fec4bc4b0e954e2692451b7": {
          "model_module": "@jupyter-widgets/controls",
          "model_name": "FloatProgressModel",
          "model_module_version": "1.5.0",
          "state": {
            "_dom_classes": [],
            "_model_module": "@jupyter-widgets/controls",
            "_model_module_version": "1.5.0",
            "_model_name": "FloatProgressModel",
            "_view_count": null,
            "_view_module": "@jupyter-widgets/controls",
            "_view_module_version": "1.5.0",
            "_view_name": "ProgressView",
            "bar_style": "success",
            "description": "",
            "description_tooltip": null,
            "layout": "IPY_MODEL_ec0e09b2706b45d69339c625f02d588a",
            "max": 1115,
            "min": 0,
            "orientation": "horizontal",
            "style": "IPY_MODEL_030da080448d4cbd80ea7e94dba87040",
            "value": 1115
          }
        },
        "e66235e0b7964b188111e22e9a3099cd": {
          "model_module": "@jupyter-widgets/controls",
          "model_name": "HTMLModel",
          "model_module_version": "1.5.0",
          "state": {
            "_dom_classes": [],
            "_model_module": "@jupyter-widgets/controls",
            "_model_module_version": "1.5.0",
            "_model_name": "HTMLModel",
            "_view_count": null,
            "_view_module": "@jupyter-widgets/controls",
            "_view_module_version": "1.5.0",
            "_view_name": "HTMLView",
            "description": "",
            "description_tooltip": null,
            "layout": "IPY_MODEL_7f3ef7ff1c1449fe88e6b504b3cb5086",
            "placeholder": "​",
            "style": "IPY_MODEL_aa929c0575bf44bfbcfb1e6d731249ad",
            "value": " 1115/1115 [00:01&lt;00:00, 496.08 examples/s]"
          }
        },
        "3990554f13cd4741a46d2befb236ebc5": {
          "model_module": "@jupyter-widgets/base",
          "model_name": "LayoutModel",
          "model_module_version": "1.2.0",
          "state": {
            "_model_module": "@jupyter-widgets/base",
            "_model_module_version": "1.2.0",
            "_model_name": "LayoutModel",
            "_view_count": null,
            "_view_module": "@jupyter-widgets/base",
            "_view_module_version": "1.2.0",
            "_view_name": "LayoutView",
            "align_content": null,
            "align_items": null,
            "align_self": null,
            "border": null,
            "bottom": null,
            "display": null,
            "flex": null,
            "flex_flow": null,
            "grid_area": null,
            "grid_auto_columns": null,
            "grid_auto_flow": null,
            "grid_auto_rows": null,
            "grid_column": null,
            "grid_gap": null,
            "grid_row": null,
            "grid_template_areas": null,
            "grid_template_columns": null,
            "grid_template_rows": null,
            "height": null,
            "justify_content": null,
            "justify_items": null,
            "left": null,
            "margin": null,
            "max_height": null,
            "max_width": null,
            "min_height": null,
            "min_width": null,
            "object_fit": null,
            "object_position": null,
            "order": null,
            "overflow": null,
            "overflow_x": null,
            "overflow_y": null,
            "padding": null,
            "right": null,
            "top": null,
            "visibility": null,
            "width": null
          }
        },
        "86376c1aee8b4091a1778924fac3b6eb": {
          "model_module": "@jupyter-widgets/base",
          "model_name": "LayoutModel",
          "model_module_version": "1.2.0",
          "state": {
            "_model_module": "@jupyter-widgets/base",
            "_model_module_version": "1.2.0",
            "_model_name": "LayoutModel",
            "_view_count": null,
            "_view_module": "@jupyter-widgets/base",
            "_view_module_version": "1.2.0",
            "_view_name": "LayoutView",
            "align_content": null,
            "align_items": null,
            "align_self": null,
            "border": null,
            "bottom": null,
            "display": null,
            "flex": null,
            "flex_flow": null,
            "grid_area": null,
            "grid_auto_columns": null,
            "grid_auto_flow": null,
            "grid_auto_rows": null,
            "grid_column": null,
            "grid_gap": null,
            "grid_row": null,
            "grid_template_areas": null,
            "grid_template_columns": null,
            "grid_template_rows": null,
            "height": null,
            "justify_content": null,
            "justify_items": null,
            "left": null,
            "margin": null,
            "max_height": null,
            "max_width": null,
            "min_height": null,
            "min_width": null,
            "object_fit": null,
            "object_position": null,
            "order": null,
            "overflow": null,
            "overflow_x": null,
            "overflow_y": null,
            "padding": null,
            "right": null,
            "top": null,
            "visibility": null,
            "width": null
          }
        },
        "614b705e7c2f4ff1a2918682cfc0c9fc": {
          "model_module": "@jupyter-widgets/controls",
          "model_name": "DescriptionStyleModel",
          "model_module_version": "1.5.0",
          "state": {
            "_model_module": "@jupyter-widgets/controls",
            "_model_module_version": "1.5.0",
            "_model_name": "DescriptionStyleModel",
            "_view_count": null,
            "_view_module": "@jupyter-widgets/base",
            "_view_module_version": "1.2.0",
            "_view_name": "StyleView",
            "description_width": ""
          }
        },
        "ec0e09b2706b45d69339c625f02d588a": {
          "model_module": "@jupyter-widgets/base",
          "model_name": "LayoutModel",
          "model_module_version": "1.2.0",
          "state": {
            "_model_module": "@jupyter-widgets/base",
            "_model_module_version": "1.2.0",
            "_model_name": "LayoutModel",
            "_view_count": null,
            "_view_module": "@jupyter-widgets/base",
            "_view_module_version": "1.2.0",
            "_view_name": "LayoutView",
            "align_content": null,
            "align_items": null,
            "align_self": null,
            "border": null,
            "bottom": null,
            "display": null,
            "flex": null,
            "flex_flow": null,
            "grid_area": null,
            "grid_auto_columns": null,
            "grid_auto_flow": null,
            "grid_auto_rows": null,
            "grid_column": null,
            "grid_gap": null,
            "grid_row": null,
            "grid_template_areas": null,
            "grid_template_columns": null,
            "grid_template_rows": null,
            "height": null,
            "justify_content": null,
            "justify_items": null,
            "left": null,
            "margin": null,
            "max_height": null,
            "max_width": null,
            "min_height": null,
            "min_width": null,
            "object_fit": null,
            "object_position": null,
            "order": null,
            "overflow": null,
            "overflow_x": null,
            "overflow_y": null,
            "padding": null,
            "right": null,
            "top": null,
            "visibility": null,
            "width": null
          }
        },
        "030da080448d4cbd80ea7e94dba87040": {
          "model_module": "@jupyter-widgets/controls",
          "model_name": "ProgressStyleModel",
          "model_module_version": "1.5.0",
          "state": {
            "_model_module": "@jupyter-widgets/controls",
            "_model_module_version": "1.5.0",
            "_model_name": "ProgressStyleModel",
            "_view_count": null,
            "_view_module": "@jupyter-widgets/base",
            "_view_module_version": "1.2.0",
            "_view_name": "StyleView",
            "bar_color": null,
            "description_width": ""
          }
        },
        "7f3ef7ff1c1449fe88e6b504b3cb5086": {
          "model_module": "@jupyter-widgets/base",
          "model_name": "LayoutModel",
          "model_module_version": "1.2.0",
          "state": {
            "_model_module": "@jupyter-widgets/base",
            "_model_module_version": "1.2.0",
            "_model_name": "LayoutModel",
            "_view_count": null,
            "_view_module": "@jupyter-widgets/base",
            "_view_module_version": "1.2.0",
            "_view_name": "LayoutView",
            "align_content": null,
            "align_items": null,
            "align_self": null,
            "border": null,
            "bottom": null,
            "display": null,
            "flex": null,
            "flex_flow": null,
            "grid_area": null,
            "grid_auto_columns": null,
            "grid_auto_flow": null,
            "grid_auto_rows": null,
            "grid_column": null,
            "grid_gap": null,
            "grid_row": null,
            "grid_template_areas": null,
            "grid_template_columns": null,
            "grid_template_rows": null,
            "height": null,
            "justify_content": null,
            "justify_items": null,
            "left": null,
            "margin": null,
            "max_height": null,
            "max_width": null,
            "min_height": null,
            "min_width": null,
            "object_fit": null,
            "object_position": null,
            "order": null,
            "overflow": null,
            "overflow_x": null,
            "overflow_y": null,
            "padding": null,
            "right": null,
            "top": null,
            "visibility": null,
            "width": null
          }
        },
        "aa929c0575bf44bfbcfb1e6d731249ad": {
          "model_module": "@jupyter-widgets/controls",
          "model_name": "DescriptionStyleModel",
          "model_module_version": "1.5.0",
          "state": {
            "_model_module": "@jupyter-widgets/controls",
            "_model_module_version": "1.5.0",
            "_model_name": "DescriptionStyleModel",
            "_view_count": null,
            "_view_module": "@jupyter-widgets/base",
            "_view_module_version": "1.2.0",
            "_view_name": "StyleView",
            "description_width": ""
          }
        },
        "ba58054f85a64108bdd7314e93756a09": {
          "model_module": "@jupyter-widgets/controls",
          "model_name": "HBoxModel",
          "model_module_version": "1.5.0",
          "state": {
            "_dom_classes": [],
            "_model_module": "@jupyter-widgets/controls",
            "_model_module_version": "1.5.0",
            "_model_name": "HBoxModel",
            "_view_count": null,
            "_view_module": "@jupyter-widgets/controls",
            "_view_module_version": "1.5.0",
            "_view_name": "HBoxView",
            "box_style": "",
            "children": [
              "IPY_MODEL_5319bd4d3a0847e2a1cc97d303bb9415",
              "IPY_MODEL_5fe35dd340d441e28f2b18a20df9ab03",
              "IPY_MODEL_595c2f3d904b49cfafdad36eee9e57b2"
            ],
            "layout": "IPY_MODEL_d26b56464d6442f79daf1d646bfb2373"
          }
        },
        "5319bd4d3a0847e2a1cc97d303bb9415": {
          "model_module": "@jupyter-widgets/controls",
          "model_name": "HTMLModel",
          "model_module_version": "1.5.0",
          "state": {
            "_dom_classes": [],
            "_model_module": "@jupyter-widgets/controls",
            "_model_module_version": "1.5.0",
            "_model_name": "HTMLModel",
            "_view_count": null,
            "_view_module": "@jupyter-widgets/controls",
            "_view_module_version": "1.5.0",
            "_view_name": "HTMLView",
            "description": "",
            "description_tooltip": null,
            "layout": "IPY_MODEL_7e16eaeb0e3b4496840110bf13a5f549",
            "placeholder": "​",
            "style": "IPY_MODEL_c5364586cc454d70bcefe5cb160869f5",
            "value": "Downloading artifacts: 100%"
          }
        },
        "5fe35dd340d441e28f2b18a20df9ab03": {
          "model_module": "@jupyter-widgets/controls",
          "model_name": "FloatProgressModel",
          "model_module_version": "1.5.0",
          "state": {
            "_dom_classes": [],
            "_model_module": "@jupyter-widgets/controls",
            "_model_module_version": "1.5.0",
            "_model_name": "FloatProgressModel",
            "_view_count": null,
            "_view_module": "@jupyter-widgets/controls",
            "_view_module_version": "1.5.0",
            "_view_name": "ProgressView",
            "bar_style": "success",
            "description": "",
            "description_tooltip": null,
            "layout": "IPY_MODEL_74b197b5a7b440aba5f57fb7287ba00e",
            "max": 18,
            "min": 0,
            "orientation": "horizontal",
            "style": "IPY_MODEL_e9e5f00628fe45cb9ac71123d53d018c",
            "value": 18
          }
        },
        "595c2f3d904b49cfafdad36eee9e57b2": {
          "model_module": "@jupyter-widgets/controls",
          "model_name": "HTMLModel",
          "model_module_version": "1.5.0",
          "state": {
            "_dom_classes": [],
            "_model_module": "@jupyter-widgets/controls",
            "_model_module_version": "1.5.0",
            "_model_name": "HTMLModel",
            "_view_count": null,
            "_view_module": "@jupyter-widgets/controls",
            "_view_module_version": "1.5.0",
            "_view_name": "HTMLView",
            "description": "",
            "description_tooltip": null,
            "layout": "IPY_MODEL_ca576da05d1f4972a1b612c84984530f",
            "placeholder": "​",
            "style": "IPY_MODEL_c9205d523a6f4af7b17de1d7ba6ae7e5",
            "value": " 18/18 [00:11&lt;00:00, 11.21it/s]"
          }
        },
        "d26b56464d6442f79daf1d646bfb2373": {
          "model_module": "@jupyter-widgets/base",
          "model_name": "LayoutModel",
          "model_module_version": "1.2.0",
          "state": {
            "_model_module": "@jupyter-widgets/base",
            "_model_module_version": "1.2.0",
            "_model_name": "LayoutModel",
            "_view_count": null,
            "_view_module": "@jupyter-widgets/base",
            "_view_module_version": "1.2.0",
            "_view_name": "LayoutView",
            "align_content": null,
            "align_items": null,
            "align_self": null,
            "border": null,
            "bottom": null,
            "display": null,
            "flex": null,
            "flex_flow": null,
            "grid_area": null,
            "grid_auto_columns": null,
            "grid_auto_flow": null,
            "grid_auto_rows": null,
            "grid_column": null,
            "grid_gap": null,
            "grid_row": null,
            "grid_template_areas": null,
            "grid_template_columns": null,
            "grid_template_rows": null,
            "height": null,
            "justify_content": null,
            "justify_items": null,
            "left": null,
            "margin": null,
            "max_height": null,
            "max_width": null,
            "min_height": null,
            "min_width": null,
            "object_fit": null,
            "object_position": null,
            "order": null,
            "overflow": null,
            "overflow_x": null,
            "overflow_y": null,
            "padding": null,
            "right": null,
            "top": null,
            "visibility": null,
            "width": null
          }
        },
        "7e16eaeb0e3b4496840110bf13a5f549": {
          "model_module": "@jupyter-widgets/base",
          "model_name": "LayoutModel",
          "model_module_version": "1.2.0",
          "state": {
            "_model_module": "@jupyter-widgets/base",
            "_model_module_version": "1.2.0",
            "_model_name": "LayoutModel",
            "_view_count": null,
            "_view_module": "@jupyter-widgets/base",
            "_view_module_version": "1.2.0",
            "_view_name": "LayoutView",
            "align_content": null,
            "align_items": null,
            "align_self": null,
            "border": null,
            "bottom": null,
            "display": null,
            "flex": null,
            "flex_flow": null,
            "grid_area": null,
            "grid_auto_columns": null,
            "grid_auto_flow": null,
            "grid_auto_rows": null,
            "grid_column": null,
            "grid_gap": null,
            "grid_row": null,
            "grid_template_areas": null,
            "grid_template_columns": null,
            "grid_template_rows": null,
            "height": null,
            "justify_content": null,
            "justify_items": null,
            "left": null,
            "margin": null,
            "max_height": null,
            "max_width": null,
            "min_height": null,
            "min_width": null,
            "object_fit": null,
            "object_position": null,
            "order": null,
            "overflow": null,
            "overflow_x": null,
            "overflow_y": null,
            "padding": null,
            "right": null,
            "top": null,
            "visibility": null,
            "width": null
          }
        },
        "c5364586cc454d70bcefe5cb160869f5": {
          "model_module": "@jupyter-widgets/controls",
          "model_name": "DescriptionStyleModel",
          "model_module_version": "1.5.0",
          "state": {
            "_model_module": "@jupyter-widgets/controls",
            "_model_module_version": "1.5.0",
            "_model_name": "DescriptionStyleModel",
            "_view_count": null,
            "_view_module": "@jupyter-widgets/base",
            "_view_module_version": "1.2.0",
            "_view_name": "StyleView",
            "description_width": ""
          }
        },
        "74b197b5a7b440aba5f57fb7287ba00e": {
          "model_module": "@jupyter-widgets/base",
          "model_name": "LayoutModel",
          "model_module_version": "1.2.0",
          "state": {
            "_model_module": "@jupyter-widgets/base",
            "_model_module_version": "1.2.0",
            "_model_name": "LayoutModel",
            "_view_count": null,
            "_view_module": "@jupyter-widgets/base",
            "_view_module_version": "1.2.0",
            "_view_name": "LayoutView",
            "align_content": null,
            "align_items": null,
            "align_self": null,
            "border": null,
            "bottom": null,
            "display": null,
            "flex": null,
            "flex_flow": null,
            "grid_area": null,
            "grid_auto_columns": null,
            "grid_auto_flow": null,
            "grid_auto_rows": null,
            "grid_column": null,
            "grid_gap": null,
            "grid_row": null,
            "grid_template_areas": null,
            "grid_template_columns": null,
            "grid_template_rows": null,
            "height": null,
            "justify_content": null,
            "justify_items": null,
            "left": null,
            "margin": null,
            "max_height": null,
            "max_width": null,
            "min_height": null,
            "min_width": null,
            "object_fit": null,
            "object_position": null,
            "order": null,
            "overflow": null,
            "overflow_x": null,
            "overflow_y": null,
            "padding": null,
            "right": null,
            "top": null,
            "visibility": null,
            "width": null
          }
        },
        "e9e5f00628fe45cb9ac71123d53d018c": {
          "model_module": "@jupyter-widgets/controls",
          "model_name": "ProgressStyleModel",
          "model_module_version": "1.5.0",
          "state": {
            "_model_module": "@jupyter-widgets/controls",
            "_model_module_version": "1.5.0",
            "_model_name": "ProgressStyleModel",
            "_view_count": null,
            "_view_module": "@jupyter-widgets/base",
            "_view_module_version": "1.2.0",
            "_view_name": "StyleView",
            "bar_color": null,
            "description_width": ""
          }
        },
        "ca576da05d1f4972a1b612c84984530f": {
          "model_module": "@jupyter-widgets/base",
          "model_name": "LayoutModel",
          "model_module_version": "1.2.0",
          "state": {
            "_model_module": "@jupyter-widgets/base",
            "_model_module_version": "1.2.0",
            "_model_name": "LayoutModel",
            "_view_count": null,
            "_view_module": "@jupyter-widgets/base",
            "_view_module_version": "1.2.0",
            "_view_name": "LayoutView",
            "align_content": null,
            "align_items": null,
            "align_self": null,
            "border": null,
            "bottom": null,
            "display": null,
            "flex": null,
            "flex_flow": null,
            "grid_area": null,
            "grid_auto_columns": null,
            "grid_auto_flow": null,
            "grid_auto_rows": null,
            "grid_column": null,
            "grid_gap": null,
            "grid_row": null,
            "grid_template_areas": null,
            "grid_template_columns": null,
            "grid_template_rows": null,
            "height": null,
            "justify_content": null,
            "justify_items": null,
            "left": null,
            "margin": null,
            "max_height": null,
            "max_width": null,
            "min_height": null,
            "min_width": null,
            "object_fit": null,
            "object_position": null,
            "order": null,
            "overflow": null,
            "overflow_x": null,
            "overflow_y": null,
            "padding": null,
            "right": null,
            "top": null,
            "visibility": null,
            "width": null
          }
        },
        "c9205d523a6f4af7b17de1d7ba6ae7e5": {
          "model_module": "@jupyter-widgets/controls",
          "model_name": "DescriptionStyleModel",
          "model_module_version": "1.5.0",
          "state": {
            "_model_module": "@jupyter-widgets/controls",
            "_model_module_version": "1.5.0",
            "_model_name": "DescriptionStyleModel",
            "_view_count": null,
            "_view_module": "@jupyter-widgets/base",
            "_view_module_version": "1.2.0",
            "_view_name": "StyleView",
            "description_width": ""
          }
        },
        "11069e28baae4c3e82e951ffa6752c91": {
          "model_module": "@jupyter-widgets/controls",
          "model_name": "HBoxModel",
          "model_module_version": "1.5.0",
          "state": {
            "_dom_classes": [],
            "_model_module": "@jupyter-widgets/controls",
            "_model_module_version": "1.5.0",
            "_model_name": "HBoxModel",
            "_view_count": null,
            "_view_module": "@jupyter-widgets/controls",
            "_view_module_version": "1.5.0",
            "_view_name": "HBoxView",
            "box_style": "",
            "children": [
              "IPY_MODEL_36fc3b45f36f4924bb4414d074a8460e",
              "IPY_MODEL_62bdc939ee7147c6b76b64cb53c7c1a1",
              "IPY_MODEL_b425d01f1739422ba0fbf34249565abb"
            ],
            "layout": "IPY_MODEL_528eecac82c0491d92bb1f26c5a7e80d"
          }
        },
        "36fc3b45f36f4924bb4414d074a8460e": {
          "model_module": "@jupyter-widgets/controls",
          "model_name": "HTMLModel",
          "model_module_version": "1.5.0",
          "state": {
            "_dom_classes": [],
            "_model_module": "@jupyter-widgets/controls",
            "_model_module_version": "1.5.0",
            "_model_name": "HTMLModel",
            "_view_count": null,
            "_view_module": "@jupyter-widgets/controls",
            "_view_module_version": "1.5.0",
            "_view_name": "HTMLView",
            "description": "",
            "description_tooltip": null,
            "layout": "IPY_MODEL_c7a42c57bfe4423e93b7582202ff36df",
            "placeholder": "​",
            "style": "IPY_MODEL_6d5c00ebfa05472dbdfb464fe3844bbf",
            "value": "Downloading artifacts: 100%"
          }
        },
        "62bdc939ee7147c6b76b64cb53c7c1a1": {
          "model_module": "@jupyter-widgets/controls",
          "model_name": "FloatProgressModel",
          "model_module_version": "1.5.0",
          "state": {
            "_dom_classes": [],
            "_model_module": "@jupyter-widgets/controls",
            "_model_module_version": "1.5.0",
            "_model_name": "FloatProgressModel",
            "_view_count": null,
            "_view_module": "@jupyter-widgets/controls",
            "_view_module_version": "1.5.0",
            "_view_name": "ProgressView",
            "bar_style": "success",
            "description": "",
            "description_tooltip": null,
            "layout": "IPY_MODEL_c171e5ae5faa4fcea345ae418e45e5c9",
            "max": 1,
            "min": 0,
            "orientation": "horizontal",
            "style": "IPY_MODEL_56919225e9324e2ebeb7bbb4641e6d85",
            "value": 1
          }
        },
        "b425d01f1739422ba0fbf34249565abb": {
          "model_module": "@jupyter-widgets/controls",
          "model_name": "HTMLModel",
          "model_module_version": "1.5.0",
          "state": {
            "_dom_classes": [],
            "_model_module": "@jupyter-widgets/controls",
            "_model_module_version": "1.5.0",
            "_model_name": "HTMLModel",
            "_view_count": null,
            "_view_module": "@jupyter-widgets/controls",
            "_view_module_version": "1.5.0",
            "_view_name": "HTMLView",
            "description": "",
            "description_tooltip": null,
            "layout": "IPY_MODEL_b7d38648bd7b4a2190c3f9785578433a",
            "placeholder": "​",
            "style": "IPY_MODEL_61ecf86341c74380872a11c210ff9603",
            "value": " 1/1 [00:00&lt;00:00, 30.83it/s]"
          }
        },
        "528eecac82c0491d92bb1f26c5a7e80d": {
          "model_module": "@jupyter-widgets/base",
          "model_name": "LayoutModel",
          "model_module_version": "1.2.0",
          "state": {
            "_model_module": "@jupyter-widgets/base",
            "_model_module_version": "1.2.0",
            "_model_name": "LayoutModel",
            "_view_count": null,
            "_view_module": "@jupyter-widgets/base",
            "_view_module_version": "1.2.0",
            "_view_name": "LayoutView",
            "align_content": null,
            "align_items": null,
            "align_self": null,
            "border": null,
            "bottom": null,
            "display": null,
            "flex": null,
            "flex_flow": null,
            "grid_area": null,
            "grid_auto_columns": null,
            "grid_auto_flow": null,
            "grid_auto_rows": null,
            "grid_column": null,
            "grid_gap": null,
            "grid_row": null,
            "grid_template_areas": null,
            "grid_template_columns": null,
            "grid_template_rows": null,
            "height": null,
            "justify_content": null,
            "justify_items": null,
            "left": null,
            "margin": null,
            "max_height": null,
            "max_width": null,
            "min_height": null,
            "min_width": null,
            "object_fit": null,
            "object_position": null,
            "order": null,
            "overflow": null,
            "overflow_x": null,
            "overflow_y": null,
            "padding": null,
            "right": null,
            "top": null,
            "visibility": null,
            "width": null
          }
        },
        "c7a42c57bfe4423e93b7582202ff36df": {
          "model_module": "@jupyter-widgets/base",
          "model_name": "LayoutModel",
          "model_module_version": "1.2.0",
          "state": {
            "_model_module": "@jupyter-widgets/base",
            "_model_module_version": "1.2.0",
            "_model_name": "LayoutModel",
            "_view_count": null,
            "_view_module": "@jupyter-widgets/base",
            "_view_module_version": "1.2.0",
            "_view_name": "LayoutView",
            "align_content": null,
            "align_items": null,
            "align_self": null,
            "border": null,
            "bottom": null,
            "display": null,
            "flex": null,
            "flex_flow": null,
            "grid_area": null,
            "grid_auto_columns": null,
            "grid_auto_flow": null,
            "grid_auto_rows": null,
            "grid_column": null,
            "grid_gap": null,
            "grid_row": null,
            "grid_template_areas": null,
            "grid_template_columns": null,
            "grid_template_rows": null,
            "height": null,
            "justify_content": null,
            "justify_items": null,
            "left": null,
            "margin": null,
            "max_height": null,
            "max_width": null,
            "min_height": null,
            "min_width": null,
            "object_fit": null,
            "object_position": null,
            "order": null,
            "overflow": null,
            "overflow_x": null,
            "overflow_y": null,
            "padding": null,
            "right": null,
            "top": null,
            "visibility": null,
            "width": null
          }
        },
        "6d5c00ebfa05472dbdfb464fe3844bbf": {
          "model_module": "@jupyter-widgets/controls",
          "model_name": "DescriptionStyleModel",
          "model_module_version": "1.5.0",
          "state": {
            "_model_module": "@jupyter-widgets/controls",
            "_model_module_version": "1.5.0",
            "_model_name": "DescriptionStyleModel",
            "_view_count": null,
            "_view_module": "@jupyter-widgets/base",
            "_view_module_version": "1.2.0",
            "_view_name": "StyleView",
            "description_width": ""
          }
        },
        "c171e5ae5faa4fcea345ae418e45e5c9": {
          "model_module": "@jupyter-widgets/base",
          "model_name": "LayoutModel",
          "model_module_version": "1.2.0",
          "state": {
            "_model_module": "@jupyter-widgets/base",
            "_model_module_version": "1.2.0",
            "_model_name": "LayoutModel",
            "_view_count": null,
            "_view_module": "@jupyter-widgets/base",
            "_view_module_version": "1.2.0",
            "_view_name": "LayoutView",
            "align_content": null,
            "align_items": null,
            "align_self": null,
            "border": null,
            "bottom": null,
            "display": null,
            "flex": null,
            "flex_flow": null,
            "grid_area": null,
            "grid_auto_columns": null,
            "grid_auto_flow": null,
            "grid_auto_rows": null,
            "grid_column": null,
            "grid_gap": null,
            "grid_row": null,
            "grid_template_areas": null,
            "grid_template_columns": null,
            "grid_template_rows": null,
            "height": null,
            "justify_content": null,
            "justify_items": null,
            "left": null,
            "margin": null,
            "max_height": null,
            "max_width": null,
            "min_height": null,
            "min_width": null,
            "object_fit": null,
            "object_position": null,
            "order": null,
            "overflow": null,
            "overflow_x": null,
            "overflow_y": null,
            "padding": null,
            "right": null,
            "top": null,
            "visibility": null,
            "width": null
          }
        },
        "56919225e9324e2ebeb7bbb4641e6d85": {
          "model_module": "@jupyter-widgets/controls",
          "model_name": "ProgressStyleModel",
          "model_module_version": "1.5.0",
          "state": {
            "_model_module": "@jupyter-widgets/controls",
            "_model_module_version": "1.5.0",
            "_model_name": "ProgressStyleModel",
            "_view_count": null,
            "_view_module": "@jupyter-widgets/base",
            "_view_module_version": "1.2.0",
            "_view_name": "StyleView",
            "bar_color": null,
            "description_width": ""
          }
        },
        "b7d38648bd7b4a2190c3f9785578433a": {
          "model_module": "@jupyter-widgets/base",
          "model_name": "LayoutModel",
          "model_module_version": "1.2.0",
          "state": {
            "_model_module": "@jupyter-widgets/base",
            "_model_module_version": "1.2.0",
            "_model_name": "LayoutModel",
            "_view_count": null,
            "_view_module": "@jupyter-widgets/base",
            "_view_module_version": "1.2.0",
            "_view_name": "LayoutView",
            "align_content": null,
            "align_items": null,
            "align_self": null,
            "border": null,
            "bottom": null,
            "display": null,
            "flex": null,
            "flex_flow": null,
            "grid_area": null,
            "grid_auto_columns": null,
            "grid_auto_flow": null,
            "grid_auto_rows": null,
            "grid_column": null,
            "grid_gap": null,
            "grid_row": null,
            "grid_template_areas": null,
            "grid_template_columns": null,
            "grid_template_rows": null,
            "height": null,
            "justify_content": null,
            "justify_items": null,
            "left": null,
            "margin": null,
            "max_height": null,
            "max_width": null,
            "min_height": null,
            "min_width": null,
            "object_fit": null,
            "object_position": null,
            "order": null,
            "overflow": null,
            "overflow_x": null,
            "overflow_y": null,
            "padding": null,
            "right": null,
            "top": null,
            "visibility": null,
            "width": null
          }
        },
        "61ecf86341c74380872a11c210ff9603": {
          "model_module": "@jupyter-widgets/controls",
          "model_name": "DescriptionStyleModel",
          "model_module_version": "1.5.0",
          "state": {
            "_model_module": "@jupyter-widgets/controls",
            "_model_module_version": "1.5.0",
            "_model_name": "DescriptionStyleModel",
            "_view_count": null,
            "_view_module": "@jupyter-widgets/base",
            "_view_module_version": "1.2.0",
            "_view_name": "StyleView",
            "description_width": ""
          }
        }
      }
    }
  },
  "nbformat": 4,
  "nbformat_minor": 0
}