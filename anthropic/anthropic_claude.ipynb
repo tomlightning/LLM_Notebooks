{
 "cells": [
  {
   "cell_type": "code",
   "execution_count": 15,
   "id": "6c63dc97-2d45-4de7-8386-f880b88f46af",
   "metadata": {},
   "outputs": [],
   "source": [
    "from Antropic.AnthropicsApiRequest import AnthropicsApiRequest\n",
    "from Antropic.AnthropicsApiService import AnthropicsApiService\n",
    "from CustomException import CustomException\n",
    "from Payload import Message, Payload\n",
    "\n",
    "import mimetypes\n",
    "import datetime\n",
    "import requests\n",
    "import datetime\n",
    "import base64\n",
    "import json\n",
    "import io\n",
    "from PIL import Image\n",
    "import numpy as np"
   ]
  },
  {
   "cell_type": "code",
   "execution_count": 81,
   "id": "9d2cf53b-c261-417d-a130-5b3d7a1df00a",
   "metadata": {},
   "outputs": [],
   "source": [
    "from dotenv import dotenv_values"
   ]
  },
  {
   "cell_type": "code",
   "execution_count": 2,
   "id": "a4047fd3-c729-4d0b-be37-5ea5298dd76b",
   "metadata": {},
   "outputs": [],
   "source": [
    "#import magic\n",
    "from pdf2image import convert_from_bytes"
   ]
  },
  {
   "cell_type": "code",
   "execution_count": 82,
   "id": "6f16e4b3-0763-44cf-bcf1-92c19c09c719",
   "metadata": {},
   "outputs": [],
   "source": [
    "config = dotenv_values(\".env\")"
   ]
  },
  {
   "cell_type": "code",
   "execution_count": 83,
   "id": "302372ce-0a3f-4177-8815-18b432d8e68e",
   "metadata": {},
   "outputs": [],
   "source": [
    "API_KEY_ANTROPIC = config.get(\"ANTHROPIC_API_KEY\")"
   ]
  },
  {
   "cell_type": "code",
   "execution_count": 4,
   "id": "5e48ee79-7dbd-4450-8a1e-f8cee8e4a482",
   "metadata": {},
   "outputs": [],
   "source": [
    "api_service = AnthropicsApiService(API_KEY_ANTROPIC) "
   ]
  },
  {
   "cell_type": "code",
   "execution_count": 85,
   "id": "60bc756b-16c8-444d-9f29-f8d15f8c15b7",
   "metadata": {},
   "outputs": [],
   "source": [
    "IMAGE_PATH = \"./data/Elena_report_31032024.pdf\""
   ]
  },
  {
   "cell_type": "code",
   "execution_count": 86,
   "id": "a4f9b405-854c-4d0c-9ae0-ce1712a2505d",
   "metadata": {},
   "outputs": [],
   "source": [
    "with open(IMAGE_PATH, \"rb\") as f:\n",
    "    im_bytes = f.read()        \n",
    "im_b64 = base64.b64encode(im_bytes)"
   ]
  },
  {
   "cell_type": "code",
   "execution_count": 87,
   "id": "8ed925ff-552b-491c-8db4-5ed223c0a92f",
   "metadata": {},
   "outputs": [
    {
     "data": {
      "text/plain": [
       "b'JVBERi0xLjcNMSAwIG9iag08PC9UeXBlIC9YT2JqZWN0IC9TdWJ0eXBlIC9JbWFnZSAvTmFtZSAvSW0xIC9XaWR0aCAyNTQ0IC9I'"
      ]
     },
     "execution_count": 87,
     "metadata": {},
     "output_type": "execute_result"
    }
   ],
   "source": [
    "im_b64[:100]"
   ]
  },
  {
   "cell_type": "code",
   "execution_count": 88,
   "id": "a960ca39-e1af-447e-9ddd-5925d0c577a5",
   "metadata": {},
   "outputs": [],
   "source": [
    "extraction_contract= \"\""
   ]
  },
  {
   "cell_type": "code",
   "execution_count": 89,
   "id": "ae298b73-1ca5-4fc2-98f3-683e0a423123",
   "metadata": {},
   "outputs": [],
   "source": [
    "# Prepare the prompt\n",
    "prompt = f\"###return the content\\n{extraction_contract}\"\n",
    "\n",
    "# Build the messages\n",
    "messages = [Message(role=\"user\", content=prompt)]"
   ]
  },
  {
   "cell_type": "code",
   "execution_count": 90,
   "id": "46dc0442-4155-4ab4-bfcf-1a9282614c88",
   "metadata": {},
   "outputs": [],
   "source": [
    "# Set the model\n",
    "model = \"claude-3-haiku-20240307\""
   ]
  },
  {
   "cell_type": "code",
   "execution_count": 91,
   "id": "ec8f02a9-cedd-4244-873b-0e0c29abd32d",
   "metadata": {},
   "outputs": [],
   "source": [
    "# Create an instance of AnthropicsApiRequest\n",
    "api_request = AnthropicsApiRequest(\n",
    "        model=model,\n",
    "        max_tokens=4096,\n",
    "        messages=messages,\n",
    "        system=\"You are a server API that receives an image and returns a JSON object with the the whole content of the file supplied. No translation\"\n",
    "    )"
   ]
  },
  {
   "cell_type": "code",
   "execution_count": 92,
   "id": "e983837f-7293-4862-9b03-fa09b6d71726",
   "metadata": {},
   "outputs": [],
   "source": [
    "pdf_file = convert_from_bytes(im_bytes, dpi=300, grayscale=True)"
   ]
  },
  {
   "cell_type": "code",
   "execution_count": 93,
   "id": "901c577f-a19a-4d3b-a7a5-03862690e976",
   "metadata": {},
   "outputs": [],
   "source": [
    "pages= []\n",
    "for i, page in enumerate(pdf_file):\n",
    "    page_arr = np.asarray(page)\n",
    "    im = Image.fromarray(page_arr)\n",
    "    pages.append(im)\n",
    "    im.save(f\"./data/ER_{i}.jpg\")"
   ]
  },
  {
   "cell_type": "code",
   "execution_count": 94,
   "id": "e695e1c4-ebb9-4d5c-a330-8be27ed0cef6",
   "metadata": {},
   "outputs": [
    {
     "data": {
      "text/plain": [
       "2"
      ]
     },
     "execution_count": 94,
     "metadata": {},
     "output_type": "execute_result"
    }
   ],
   "source": [
    "len(pages)"
   ]
  },
  {
   "cell_type": "code",
   "execution_count": 113,
   "id": "fd52b774-07bf-48bc-9643-07d60d79487f",
   "metadata": {},
   "outputs": [
    {
     "data": {
      "text/plain": [
       "PIL.Image.Image"
      ]
     },
     "execution_count": 113,
     "metadata": {},
     "output_type": "execute_result"
    }
   ],
   "source": [
    "type(pages[0])"
   ]
  },
  {
   "cell_type": "code",
   "execution_count": 114,
   "id": "2784a734-8489-4651-b35b-a11f7bd395d3",
   "metadata": {},
   "outputs": [],
   "source": [
    "file_path = \"./data/ER_0.jpg\""
   ]
  },
  {
   "cell_type": "code",
   "execution_count": 115,
   "id": "220831ac-876c-45c4-8242-f38ed8110044",
   "metadata": {},
   "outputs": [],
   "source": [
    "# Convert the file to base64\n",
    "with open(file_path, \"rb\") as f:\n",
    "    base64_encoded_image = base64.b64encode(f.read()).decode()"
   ]
  },
  {
   "cell_type": "code",
   "execution_count": 116,
   "id": "7448aee6-742a-4150-9898-11970421fcc0",
   "metadata": {},
   "outputs": [
    {
     "name": "stdout",
     "output_type": "stream",
     "text": [
      "Response time: 10.777908563613892 seconds\n"
     ]
    }
   ],
   "source": [
    "# Send the data to the Anthropics service and get the response\n",
    "response = api_service.send_image_message(api_request, base64_encoded_image)"
   ]
  },
  {
   "cell_type": "code",
   "execution_count": 117,
   "id": "53987579-4069-40fb-8e47-8137ce8ca57c",
   "metadata": {},
   "outputs": [
    {
     "data": {
      "text/plain": [
       "'{\\n  \"learner_name\": \"Olena Nazarenko\",\\n  \"student_number\": \"2023OSC07036\",\\n  \"work_place_assessor_name\": \"N Russell\",\\n  \"date\": \"7.03\",\\n  \"method_of_assessment\": [\\n    \"Direct observation\",\\n    \"Reflection on own practice\",\\n    \"Professional discussion\"\\n  ],\\n  \"recording_evidence\": \"Last week I worked with a SEN child 1:1. One day he refused to do his math work on the iPad and tried to download games instead. He did not want to give the iPad back and tried to hit me. Finally, I took the iPad away and explained to him that he could get that iPad for playing only at playtime when he finished his work.\\\\nWhen this boy heard this, he got angry and began to throw pencils, books, and paper everywhere, screaming loudly. I did not give him any reaction and said quietly \\\\\"no\\\\\". Then I brought him to the SEN room. There I could manage to switch his attention and gave him a new fidget toy. Next week he started Monday with math work on the iPad and did not try to play again.\\\\nMeanwhile, another SEN child tried to leave the classroom two times, saying that he intended to help. I had to turn my head a few times and look at him. He could catch my sight and returned to the classroom.\\\\nThe child N#1 was struggling with English task and, finally, put the coat on the floor and lay down on it. The teacher and I ignored this behaviour and left him alone. Later I explained to him that if he showed that behaviour again, I would take his star from his behaviour chart away. The child understood the consequences and got up in 2 min. He tried to throw his coat away, but I did not show any reaction.\"\\n}'"
      ]
     },
     "execution_count": 117,
     "metadata": {},
     "output_type": "execute_result"
    }
   ],
   "source": [
    "response"
   ]
  },
  {
   "cell_type": "code",
   "execution_count": 118,
   "id": "ce43369a-4071-442d-bfdd-aa5de9f03765",
   "metadata": {},
   "outputs": [],
   "source": [
    "file_path = \"./data/ER_1.jpg\""
   ]
  },
  {
   "cell_type": "code",
   "execution_count": 119,
   "id": "1da30329-1eb6-4eab-a241-81fd1cfd8d95",
   "metadata": {},
   "outputs": [],
   "source": [
    "# Convert the file to base64\n",
    "with open(file_path, \"rb\") as f:\n",
    "    base64_encoded_image = base64.b64encode(f.read()).decode()"
   ]
  },
  {
   "cell_type": "code",
   "execution_count": 120,
   "id": "0735849a-2b5e-47f7-bb67-94cc135abb50",
   "metadata": {},
   "outputs": [
    {
     "name": "stdout",
     "output_type": "stream",
     "text": [
      "Response time: 4.361684560775757 seconds\n"
     ]
    }
   ],
   "source": [
    "# Send the data to the Anthropics service and get the response\n",
    "response = api_service.send_image_message(api_request, base64_encoded_image)"
   ]
  },
  {
   "cell_type": "code",
   "execution_count": 121,
   "id": "ccd23eb6-c23e-474a-9259-98d01f0b9196",
   "metadata": {},
   "outputs": [
    {
     "data": {
      "text/plain": [
       "'{\\n  \"image_content\": \"The image shows a handwritten feedback form. The text states that the person followed the implemented procedures for challenging behavior well, and they remained calm and applied the agreed strategies such as distraction techniques and application of reward system effectively to de-escalate challenging situations. The form is signed by the learner on 14.03 and the assessor on 15.03.\"\\n}'"
      ]
     },
     "execution_count": 121,
     "metadata": {},
     "output_type": "execute_result"
    }
   ],
   "source": [
    "response"
   ]
  },
  {
   "cell_type": "code",
   "execution_count": null,
   "id": "53ff5526-ac07-45fa-91fe-b54fd14dad48",
   "metadata": {},
   "outputs": [],
   "source": []
  }
 ],
 "metadata": {
  "kernelspec": {
   "display_name": "Python 3 (ipykernel)",
   "language": "python",
   "name": "python3"
  },
  "language_info": {
   "codemirror_mode": {
    "name": "ipython",
    "version": 3
   },
   "file_extension": ".py",
   "mimetype": "text/x-python",
   "name": "python",
   "nbconvert_exporter": "python",
   "pygments_lexer": "ipython3",
   "version": "3.11.8"
  }
 },
 "nbformat": 4,
 "nbformat_minor": 5
}
