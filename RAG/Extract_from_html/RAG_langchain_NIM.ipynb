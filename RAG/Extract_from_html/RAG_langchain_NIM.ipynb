{
 "cells": [
  {
   "cell_type": "markdown",
   "id": "c0547887-3a02-4507-87c2-6fe8a65515c0",
   "metadata": {},
   "source": [
    "# RAG\n",
    "- RAG is a technique for augmenting LLM knowledge with additional data.\n",
    "- LLMs can reason about wide-ranging topics, but their knowledge is limited to the public data up to a specific point in time that they were trained on.\n",
    "- If you want to build AI applications that can reason about private data or data introduced after a model's cutoff date, you need to augment the knowledge of the model with the specific information it needs.\n",
    "- The process of bringing the appropriate information and inserting it into the model prompt is known as retrieval augmented generation (RAG).\n",
    "\n",
    "# Langchain\n",
    "LangChain is a framework for developing applications powered by large language models (LLMs).\n",
    "\n",
    "https://python.langchain.com/docs/introduction/\n",
    "\n",
    "# NIM\n",
    "NIM is a set of optimized cloud-native microservices designed to shorten time-to-market and simplify deployment of generative AI models anywhere, across cloud, data center, and GPU-accelerated workstations. It expands the developer pool by abstracting away the complexities of AI model development and packaging for production ‌using industry-standard APIs.\n",
    "\n",
    "https://developer.nvidia.com/blog/nvidia-nim-offers-optimized-inference-microservices-for-deploying-ai-models-at-scale/\n",
    "\n",
    "https://docs.api.nvidia.com/nim/reference/llm-apis\n",
    "\n",
    "![image.png](images/NIM.png)\n",
    "\n",
    " # NVIDIA API Catalog\n",
    " https://docs.api.nvidia.com/\n",
    " \n",
    "- NVIDIA API Catalog is a hosted platform for accessing a wide range of microservices online.\n",
    "- You can test models on the catalog and then export them with an NVIDIA AI Enterprise license for on-premises or cloud deployment\n",
    "  \n",
    "# Milvus vectorStore\n",
    "https://milvus.io/docs\n",
    "\n",
    "Milvus is a high-performance, highly scalable vector database that runs efficiently across a wide range of environments, from a laptop to large-scale distributed systems. It is available as both open-source software and a cloud service.\n",
    "\n",
    "Milvus is an open-source project under LF AI & Data Foundation distributed under the Apache 2.0 license. Most contributors are experts from the high-performance computing (HPC) community, specializing in building large-scale systems and optimizing hardware-aware code.\n",
    "\n",
    "# Mistral mixtral-8x7b-instruct\n",
    "\n",
    "https://docs.api.nvidia.com/nim/reference/mistralai-mixtral-8x7b-instruct\n",
    "\n",
    "\n",
    "Mixtral 8x7B Instruct is a language model that can follow instructions, complete requests, and generate creative text formats. Mixtral 8x7B a high-quality sparse mixture of experts model (SMoE) with open weights.\n",
    "\n",
    "This model has been optimized through supervised fine-tuning and direct preference optimization (DPO) for careful instruction following. On MT-Bench, it reaches a score of 8.30, making it the best open-source model, with a performance comparable to GPT3.5.\n",
    "\n",
    "Mixtral outperforms Llama 2 70B on most benchmarks with 6x faster inference. It is the strongest open-weight model with a permissive license and the best model overall regarding cost/performance trade-offs. In particular, it matches or outperforms GPT3.5 on most standard benchmarks.\n",
    "\n",
    "Mixtral has the following capabilities.\n",
    "\n",
    "- It gracefully handles a context of 32k tokens.\n",
    "- It handles English, French, Italian, German and Spanish.\n",
    "- It shows strong performance in code generation.\n",
    "- It can be finetuned into an instruction-following model that achieves a score of 8.3 on MT-Bench."
   ]
  },
  {
   "cell_type": "code",
   "execution_count": 41,
   "id": "157165d2-0e06-455d-96d5-60d96ddbfc9a",
   "metadata": {},
   "outputs": [],
   "source": [
    "from dotenv import dotenv_values\n",
    "import os\n",
    "# read env file\n",
    "ROOT_DIR = os.getcwd()\n",
    "config = dotenv_values(os.path.join(ROOT_DIR, \"keys\", \".env\"))"
   ]
  },
  {
   "cell_type": "code",
   "execution_count": 2,
   "id": "c93a7bc7-190d-4e38-bfd4-4f80bd9d28e6",
   "metadata": {},
   "outputs": [],
   "source": [
    "os.environ['NVIDIA_API_KEY'] = config.get('NVIDIA_API_KEY')"
   ]
  },
  {
   "cell_type": "code",
   "execution_count": 3,
   "id": "796406bf-43e0-4896-ba9b-67aa2d37d263",
   "metadata": {},
   "outputs": [],
   "source": [
    "# test run and see that you can genreate a respond successfully\n",
    "from langchain_nvidia_ai_endpoints import ChatNVIDIA,NVIDIAEmbeddings\n",
    "llm = ChatNVIDIA(model=\"mistralai/mixtral-8x7b-instruct-v0.1\", max_tokens=1024)\n",
    "embedder_document = NVIDIAEmbeddings(model=\"NV-Embed-QA\", truncate=\"END\")"
   ]
  },
  {
   "cell_type": "code",
   "execution_count": 4,
   "id": "f849642b-6e10-4a44-8f03-714ba32945d2",
   "metadata": {},
   "outputs": [],
   "source": [
    "import requests\n",
    "\n",
    "urls_content = []\n",
    "\n",
    "url_template1 = \"https://nvidianews.nvidia.com/news/nvidia-announces-financial-results-for-{quarter}-quarter-fiscal-{year}\"\n",
    "url_template2 = \"https://nvidianews.nvidia.com/news/nvidia-announces-financial-results-for-{quarter}-quarter-and-fiscal-{year}\"\n",
    "\n",
    "for quarter in [\"first\", \"second\", \"third\", \"fourth\"]:\n",
    "    for year in range(2020,2025):\n",
    "        args = {\"quarter\":quarter, \"year\": str(year)}\n",
    "        if quarter == \"fourth\":\n",
    "            urls_content.append(requests.get(url_template2.format(**args)).content)\n",
    "        else:\n",
    "            urls_content.append(requests.get(url_template1.format(**args)).content)"
   ]
  },
  {
   "cell_type": "code",
   "execution_count": 5,
   "id": "3cef77d6-a3dc-4955-a8b0-de121100c36f",
   "metadata": {},
   "outputs": [],
   "source": [
    "# extract the url, title, text content, and tables in the html\n",
    "from bs4 import BeautifulSoup\n",
    "import markdownify\n",
    "\n",
    "def extract_url_title_time(soup):\n",
    "    url = \"\"\n",
    "    title = \"\"\n",
    "    revised_time = \"\"\n",
    "    tables = []\n",
    "    try:\n",
    "        if soup.find(\"title\"):\n",
    "            title = str(soup.find(\"title\").string)\n",
    "\n",
    "        og_url_meta = soup.find(\"meta\", property=\"og:url\")\n",
    "        if og_url_meta:\n",
    "            url = og_url_meta.get(\"content\", \"\")\n",
    "\n",
    "        for table in soup.find_all(\"table\"):\n",
    "            tables.append(markdownify.markdownify(str(table)))\n",
    "            table.decompose()\n",
    "\n",
    "        text_content = soup.get_text(separator=' ', strip=True)\n",
    "        text_content = ' '.join(text_content.split())\n",
    "\n",
    "        return url, title,text_content, tables\n",
    "    except:\n",
    "        print(\"parse error\")\n",
    "        return \"\", \"\", \"\", \"\", []\n",
    "\n",
    "parsed_htmls = []\n",
    "for url_content in urls_content:\n",
    "    soup = BeautifulSoup(url_content, 'html.parser')\n",
    "    url, title, content, tables = extract_url_title_time(soup)\n",
    "    parsed_htmls.append({\"url\":url, \"title\":title, \"content\":content, \"tables\":tables})"
   ]
  },
  {
   "cell_type": "code",
   "execution_count": 35,
   "id": "56972d19-ddb0-4c13-baf9-55651ffb8c30",
   "metadata": {},
   "outputs": [
    {
     "data": {
      "text/plain": [
       "'http://nvidianews.nvidia.com/news/nvidia-announces-financial-results-for-first-quarter-fiscal-2020'"
      ]
     },
     "execution_count": 35,
     "metadata": {},
     "output_type": "execute_result"
    }
   ],
   "source": [
    "parsed_htmls[0][\"url\"]"
   ]
  },
  {
   "cell_type": "code",
   "execution_count": 47,
   "id": "22db559e-fe64-47d6-93d4-14f9f53d3076",
   "metadata": {},
   "outputs": [
    {
     "data": {
      "text/plain": [
       "\"In Q1 FY20, NVIDIA's GAAP revenue was $2,220 million, up 1% Q/Q and down 31% Y/Y. Gross margin was 58.4%, up 3.7% Q/Q and down 610 bps Y/Y. Operating expenses were $938 million, up 3% Q/Q and 21% Y/Y. Operating income was $358 million, up 22% Q/Q and down 72% Y/Y. Net income was $394 million, down 31% Q/Q and 68% Y/Y. Diluted earnings per share were $0.64, down 30% Q/Q and 68% Y/Y.\""
      ]
     },
     "execution_count": 47,
     "metadata": {},
     "output_type": "execute_result"
    }
   ],
   "source": [
    "parsed_htmls[0][\"tables\"][0]"
   ]
  },
  {
   "cell_type": "code",
   "execution_count": 6,
   "id": "cf47ba57-17d9-4f35-8ba5-77e7c176a703",
   "metadata": {},
   "outputs": [
    {
     "name": "stdout",
     "output_type": "stream",
     "text": [
      "parsing tables in NVIDIA Announces Financial Results for First Quarter Fiscal 2020 | NVIDIA Newsroom...\n",
      "parsing tables in NVIDIA Announces Financial Results for First Quarter Fiscal 2020 | NVIDIA Newsroom...\n",
      "parsing tables in NVIDIA Announces Financial Results for First Quarter Fiscal 2020 | NVIDIA Newsroom...\n",
      "parsing tables in NVIDIA Announces Financial Results for First Quarter Fiscal 2020 | NVIDIA Newsroom...\n",
      "parsing tables in NVIDIA Announces Financial Results for First Quarter Fiscal 2020 | NVIDIA Newsroom...\n",
      "parsing tables in NVIDIA Announces Financial Results for First Quarter Fiscal 2020 | NVIDIA Newsroom...\n",
      "parsing tables in NVIDIA Announces Financial Results for First Quarter Fiscal 2021 | NVIDIA Newsroom...\n",
      "parsing tables in NVIDIA Announces Financial Results for First Quarter Fiscal 2021 | NVIDIA Newsroom...\n",
      "parsing tables in NVIDIA Announces Financial Results for First Quarter Fiscal 2021 | NVIDIA Newsroom...\n",
      "parsing tables in NVIDIA Announces Financial Results for First Quarter Fiscal 2021 | NVIDIA Newsroom...\n",
      "parsing tables in NVIDIA Announces Financial Results for First Quarter Fiscal 2021 | NVIDIA Newsroom...\n",
      "parsing tables in NVIDIA Announces Financial Results for First Quarter Fiscal 2021 | NVIDIA Newsroom...\n",
      "parsing tables in NVIDIA Announces Financial Results for First Quarter Fiscal 2021 | NVIDIA Newsroom...\n",
      "parsing tables in NVIDIA Announces Financial Results for First Quarter Fiscal 2022 | NVIDIA Newsroom...\n",
      "parsing tables in NVIDIA Announces Financial Results for First Quarter Fiscal 2022 | NVIDIA Newsroom...\n",
      "parsing tables in NVIDIA Announces Financial Results for First Quarter Fiscal 2022 | NVIDIA Newsroom...\n",
      "parsing tables in NVIDIA Announces Financial Results for First Quarter Fiscal 2022 | NVIDIA Newsroom...\n",
      "parsing tables in NVIDIA Announces Financial Results for First Quarter Fiscal 2022 | NVIDIA Newsroom...\n",
      "parsing tables in NVIDIA Announces Financial Results for First Quarter Fiscal 2022 | NVIDIA Newsroom...\n",
      "parsing tables in NVIDIA Announces Financial Results for First Quarter Fiscal 2022 | NVIDIA Newsroom...\n",
      "parsing tables in NVIDIA Announces Financial Results for First Quarter Fiscal 2023 | NVIDIA Newsroom...\n",
      "parsing tables in NVIDIA Announces Financial Results for First Quarter Fiscal 2023 | NVIDIA Newsroom...\n",
      "parsing tables in NVIDIA Announces Financial Results for First Quarter Fiscal 2023 | NVIDIA Newsroom...\n",
      "parsing tables in NVIDIA Announces Financial Results for First Quarter Fiscal 2023 | NVIDIA Newsroom...\n",
      "parsing tables in NVIDIA Announces Financial Results for First Quarter Fiscal 2023 | NVIDIA Newsroom...\n",
      "parsing tables in NVIDIA Announces Financial Results for First Quarter Fiscal 2023 | NVIDIA Newsroom...\n",
      "parsing tables in NVIDIA Announces Financial Results for First Quarter Fiscal 2023 | NVIDIA Newsroom...\n",
      "parsing tables in NVIDIA Announces Financial Results for First Quarter Fiscal 2024 | NVIDIA Newsroom...\n",
      "parsing tables in NVIDIA Announces Financial Results for First Quarter Fiscal 2024 | NVIDIA Newsroom...\n",
      "parsing tables in NVIDIA Announces Financial Results for First Quarter Fiscal 2024 | NVIDIA Newsroom...\n",
      "parsing tables in NVIDIA Announces Financial Results for First Quarter Fiscal 2024 | NVIDIA Newsroom...\n",
      "parsing tables in NVIDIA Announces Financial Results for First Quarter Fiscal 2024 | NVIDIA Newsroom...\n",
      "parsing tables in NVIDIA Announces Financial Results for First Quarter Fiscal 2024 | NVIDIA Newsroom...\n",
      "parsing tables in NVIDIA Announces Financial Results for First Quarter Fiscal 2024 | NVIDIA Newsroom...\n",
      "parsing tables in NVIDIA Announces Financial Results for Second Quarter Fiscal 2020 | NVIDIA Newsroom...\n",
      "parsing tables in NVIDIA Announces Financial Results for Second Quarter Fiscal 2020 | NVIDIA Newsroom...\n",
      "parsing tables in NVIDIA Announces Financial Results for Second Quarter Fiscal 2020 | NVIDIA Newsroom...\n",
      "parsing tables in NVIDIA Announces Financial Results for Second Quarter Fiscal 2020 | NVIDIA Newsroom...\n",
      "parsing tables in NVIDIA Announces Financial Results for Second Quarter Fiscal 2020 | NVIDIA Newsroom...\n",
      "parsing tables in NVIDIA Announces Financial Results for Second Quarter Fiscal 2020 | NVIDIA Newsroom...\n",
      "parsing tables in NVIDIA Announces Financial Results for Second Quarter Fiscal 2021 | NVIDIA Newsroom...\n",
      "parsing tables in NVIDIA Announces Financial Results for Second Quarter Fiscal 2021 | NVIDIA Newsroom...\n",
      "parsing tables in NVIDIA Announces Financial Results for Second Quarter Fiscal 2021 | NVIDIA Newsroom...\n",
      "parsing tables in NVIDIA Announces Financial Results for Second Quarter Fiscal 2021 | NVIDIA Newsroom...\n",
      "parsing tables in NVIDIA Announces Financial Results for Second Quarter Fiscal 2021 | NVIDIA Newsroom...\n",
      "parsing tables in NVIDIA Announces Financial Results for Second Quarter Fiscal 2021 | NVIDIA Newsroom...\n",
      "parsing tables in NVIDIA Announces Financial Results for Second Quarter Fiscal 2021 | NVIDIA Newsroom...\n",
      "parsing tables in NVIDIA Announces Financial Results for Second Quarter Fiscal 2022 | NVIDIA Newsroom...\n",
      "parsing tables in NVIDIA Announces Financial Results for Second Quarter Fiscal 2022 | NVIDIA Newsroom...\n",
      "parsing tables in NVIDIA Announces Financial Results for Second Quarter Fiscal 2022 | NVIDIA Newsroom...\n",
      "parsing tables in NVIDIA Announces Financial Results for Second Quarter Fiscal 2022 | NVIDIA Newsroom...\n",
      "parsing tables in NVIDIA Announces Financial Results for Second Quarter Fiscal 2022 | NVIDIA Newsroom...\n",
      "parsing tables in NVIDIA Announces Financial Results for Second Quarter Fiscal 2022 | NVIDIA Newsroom...\n",
      "parsing tables in NVIDIA Announces Financial Results for Second Quarter Fiscal 2022 | NVIDIA Newsroom...\n",
      "parsing tables in NVIDIA Announces Financial Results for Second Quarter Fiscal 2023 | NVIDIA Newsroom...\n",
      "parsing tables in NVIDIA Announces Financial Results for Second Quarter Fiscal 2023 | NVIDIA Newsroom...\n",
      "parsing tables in NVIDIA Announces Financial Results for Second Quarter Fiscal 2023 | NVIDIA Newsroom...\n",
      "parsing tables in NVIDIA Announces Financial Results for Second Quarter Fiscal 2023 | NVIDIA Newsroom...\n",
      "parsing tables in NVIDIA Announces Financial Results for Second Quarter Fiscal 2023 | NVIDIA Newsroom...\n",
      "parsing tables in NVIDIA Announces Financial Results for Second Quarter Fiscal 2023 | NVIDIA Newsroom...\n",
      "parsing tables in NVIDIA Announces Financial Results for Second Quarter Fiscal 2023 | NVIDIA Newsroom...\n",
      "parsing tables in NVIDIA Announces Financial Results for Second Quarter Fiscal 2024 | NVIDIA Newsroom...\n",
      "parsing tables in NVIDIA Announces Financial Results for Second Quarter Fiscal 2024 | NVIDIA Newsroom...\n",
      "parsing tables in NVIDIA Announces Financial Results for Second Quarter Fiscal 2024 | NVIDIA Newsroom...\n",
      "parsing tables in NVIDIA Announces Financial Results for Second Quarter Fiscal 2024 | NVIDIA Newsroom...\n",
      "parsing tables in NVIDIA Announces Financial Results for Second Quarter Fiscal 2024 | NVIDIA Newsroom...\n",
      "parsing tables in NVIDIA Announces Financial Results for Second Quarter Fiscal 2024 | NVIDIA Newsroom...\n",
      "parsing tables in NVIDIA Announces Financial Results for Second Quarter Fiscal 2024 | NVIDIA Newsroom...\n",
      "parsing tables in NVIDIA Announces Financial Results for Second Quarter Fiscal 2024 | NVIDIA Newsroom...\n",
      "parsing tables in NVIDIA Announces Financial Results for Second Quarter Fiscal 2024 | NVIDIA Newsroom...\n",
      "parsing tables in NVIDIA Announces Financial Results for Second Quarter Fiscal 2024 | NVIDIA Newsroom...\n",
      "parsing tables in NVIDIA Announces Financial Results for Third Quarter Fiscal 2020 | NVIDIA Newsroom...\n",
      "parsing tables in NVIDIA Announces Financial Results for Third Quarter Fiscal 2020 | NVIDIA Newsroom...\n",
      "parsing tables in NVIDIA Announces Financial Results for Third Quarter Fiscal 2020 | NVIDIA Newsroom...\n",
      "parsing tables in NVIDIA Announces Financial Results for Third Quarter Fiscal 2020 | NVIDIA Newsroom...\n",
      "parsing tables in NVIDIA Announces Financial Results for Third Quarter Fiscal 2020 | NVIDIA Newsroom...\n",
      "parsing tables in NVIDIA Announces Financial Results for Third Quarter Fiscal 2020 | NVIDIA Newsroom...\n",
      "parsing tables in NVIDIA Announces Financial Results for Third Quarter Fiscal 2021 | NVIDIA Newsroom...\n",
      "parsing tables in NVIDIA Announces Financial Results for Third Quarter Fiscal 2021 | NVIDIA Newsroom...\n",
      "parsing tables in NVIDIA Announces Financial Results for Third Quarter Fiscal 2021 | NVIDIA Newsroom...\n",
      "parsing tables in NVIDIA Announces Financial Results for Third Quarter Fiscal 2021 | NVIDIA Newsroom...\n",
      "parsing tables in NVIDIA Announces Financial Results for Third Quarter Fiscal 2021 | NVIDIA Newsroom...\n",
      "parsing tables in NVIDIA Announces Financial Results for Third Quarter Fiscal 2021 | NVIDIA Newsroom...\n",
      "parsing tables in NVIDIA Announces Financial Results for Third Quarter Fiscal 2021 | NVIDIA Newsroom...\n",
      "parsing tables in NVIDIA Announces Financial Results for Third Quarter Fiscal 2022 | NVIDIA Newsroom...\n",
      "parsing tables in NVIDIA Announces Financial Results for Third Quarter Fiscal 2022 | NVIDIA Newsroom...\n",
      "parsing tables in NVIDIA Announces Financial Results for Third Quarter Fiscal 2022 | NVIDIA Newsroom...\n",
      "parsing tables in NVIDIA Announces Financial Results for Third Quarter Fiscal 2022 | NVIDIA Newsroom...\n",
      "parsing tables in NVIDIA Announces Financial Results for Third Quarter Fiscal 2022 | NVIDIA Newsroom...\n",
      "parsing tables in NVIDIA Announces Financial Results for Third Quarter Fiscal 2022 | NVIDIA Newsroom...\n",
      "parsing tables in NVIDIA Announces Financial Results for Third Quarter Fiscal 2022 | NVIDIA Newsroom...\n",
      "parsing tables in NVIDIA Announces Financial Results for Third Quarter Fiscal 2023 | NVIDIA Newsroom...\n",
      "parsing tables in NVIDIA Announces Financial Results for Third Quarter Fiscal 2023 | NVIDIA Newsroom...\n",
      "parsing tables in NVIDIA Announces Financial Results for Third Quarter Fiscal 2023 | NVIDIA Newsroom...\n",
      "parsing tables in NVIDIA Announces Financial Results for Third Quarter Fiscal 2023 | NVIDIA Newsroom...\n",
      "parsing tables in NVIDIA Announces Financial Results for Third Quarter Fiscal 2023 | NVIDIA Newsroom...\n",
      "parsing tables in NVIDIA Announces Financial Results for Third Quarter Fiscal 2023 | NVIDIA Newsroom...\n",
      "parsing tables in NVIDIA Announces Financial Results for Third Quarter Fiscal 2023 | NVIDIA Newsroom...\n",
      "parsing tables in NVIDIA Announces Financial Results for Third Quarter Fiscal 2024 | NVIDIA Newsroom...\n",
      "parsing tables in NVIDIA Announces Financial Results for Third Quarter Fiscal 2024 | NVIDIA Newsroom...\n",
      "parsing tables in NVIDIA Announces Financial Results for Third Quarter Fiscal 2024 | NVIDIA Newsroom...\n",
      "parsing tables in NVIDIA Announces Financial Results for Third Quarter Fiscal 2024 | NVIDIA Newsroom...\n",
      "parsing tables in NVIDIA Announces Financial Results for Third Quarter Fiscal 2024 | NVIDIA Newsroom...\n",
      "parsing tables in NVIDIA Announces Financial Results for Third Quarter Fiscal 2024 | NVIDIA Newsroom...\n",
      "parsing tables in NVIDIA Announces Financial Results for Third Quarter Fiscal 2024 | NVIDIA Newsroom...\n",
      "parsing tables in NVIDIA Announces Financial Results for Fourth Quarter and Fiscal 2020 | NVIDIA Newsroom...\n",
      "parsing tables in NVIDIA Announces Financial Results for Fourth Quarter and Fiscal 2020 | NVIDIA Newsroom...\n",
      "parsing tables in NVIDIA Announces Financial Results for Fourth Quarter and Fiscal 2020 | NVIDIA Newsroom...\n",
      "parsing tables in NVIDIA Announces Financial Results for Fourth Quarter and Fiscal 2020 | NVIDIA Newsroom...\n",
      "parsing tables in NVIDIA Announces Financial Results for Fourth Quarter and Fiscal 2020 | NVIDIA Newsroom...\n",
      "parsing tables in NVIDIA Announces Financial Results for Fourth Quarter and Fiscal 2020 | NVIDIA Newsroom...\n",
      "parsing tables in NVIDIA Announces Financial Results for Fourth Quarter and Fiscal 2020 | NVIDIA Newsroom...\n",
      "parsing tables in NVIDIA Announces Financial Results for Fourth Quarter and Fiscal 2020 | NVIDIA Newsroom...\n",
      "parsing tables in NVIDIA Announces Financial Results for Fourth Quarter and Fiscal 2020 | NVIDIA Newsroom...\n",
      "parsing tables in NVIDIA Announces Financial Results for Fourth Quarter and Fiscal 2021 | NVIDIA Newsroom...\n",
      "parsing tables in NVIDIA Announces Financial Results for Fourth Quarter and Fiscal 2021 | NVIDIA Newsroom...\n",
      "parsing tables in NVIDIA Announces Financial Results for Fourth Quarter and Fiscal 2021 | NVIDIA Newsroom...\n",
      "parsing tables in NVIDIA Announces Financial Results for Fourth Quarter and Fiscal 2021 | NVIDIA Newsroom...\n",
      "parsing tables in NVIDIA Announces Financial Results for Fourth Quarter and Fiscal 2021 | NVIDIA Newsroom...\n",
      "parsing tables in NVIDIA Announces Financial Results for Fourth Quarter and Fiscal 2021 | NVIDIA Newsroom...\n",
      "parsing tables in NVIDIA Announces Financial Results for Fourth Quarter and Fiscal 2021 | NVIDIA Newsroom...\n",
      "parsing tables in NVIDIA Announces Financial Results for Fourth Quarter and Fiscal 2021 | NVIDIA Newsroom...\n",
      "parsing tables in NVIDIA Announces Financial Results for Fourth Quarter and Fiscal 2021 | NVIDIA Newsroom...\n",
      "parsing tables in NVIDIA Announces Financial Results for Fourth Quarter and Fiscal 2022 | NVIDIA Newsroom...\n",
      "parsing tables in NVIDIA Announces Financial Results for Fourth Quarter and Fiscal 2022 | NVIDIA Newsroom...\n",
      "parsing tables in NVIDIA Announces Financial Results for Fourth Quarter and Fiscal 2022 | NVIDIA Newsroom...\n",
      "parsing tables in NVIDIA Announces Financial Results for Fourth Quarter and Fiscal 2022 | NVIDIA Newsroom...\n",
      "parsing tables in NVIDIA Announces Financial Results for Fourth Quarter and Fiscal 2022 | NVIDIA Newsroom...\n",
      "parsing tables in NVIDIA Announces Financial Results for Fourth Quarter and Fiscal 2022 | NVIDIA Newsroom...\n",
      "parsing tables in NVIDIA Announces Financial Results for Fourth Quarter and Fiscal 2022 | NVIDIA Newsroom...\n",
      "parsing tables in NVIDIA Announces Financial Results for Fourth Quarter and Fiscal 2022 | NVIDIA Newsroom...\n",
      "parsing tables in NVIDIA Announces Financial Results for Fourth Quarter and Fiscal 2022 | NVIDIA Newsroom...\n",
      "parsing tables in NVIDIA Announces Financial Results for Fourth Quarter and Fiscal 2023 | NVIDIA Newsroom...\n",
      "parsing tables in NVIDIA Announces Financial Results for Fourth Quarter and Fiscal 2023 | NVIDIA Newsroom...\n",
      "parsing tables in NVIDIA Announces Financial Results for Fourth Quarter and Fiscal 2023 | NVIDIA Newsroom...\n",
      "parsing tables in NVIDIA Announces Financial Results for Fourth Quarter and Fiscal 2023 | NVIDIA Newsroom...\n",
      "parsing tables in NVIDIA Announces Financial Results for Fourth Quarter and Fiscal 2023 | NVIDIA Newsroom...\n",
      "parsing tables in NVIDIA Announces Financial Results for Fourth Quarter and Fiscal 2023 | NVIDIA Newsroom...\n",
      "parsing tables in NVIDIA Announces Financial Results for Fourth Quarter and Fiscal 2023 | NVIDIA Newsroom...\n",
      "parsing tables in NVIDIA Announces Financial Results for Fourth Quarter and Fiscal 2023 | NVIDIA Newsroom...\n",
      "parsing tables in NVIDIA Announces Financial Results for Fourth Quarter and Fiscal 2023 | NVIDIA Newsroom...\n",
      "parsing tables in NVIDIA Announces Financial Results for Fourth Quarter and Fiscal 2024 | NVIDIA Newsroom...\n",
      "parsing tables in NVIDIA Announces Financial Results for Fourth Quarter and Fiscal 2024 | NVIDIA Newsroom...\n",
      "parsing tables in NVIDIA Announces Financial Results for Fourth Quarter and Fiscal 2024 | NVIDIA Newsroom...\n",
      "parsing tables in NVIDIA Announces Financial Results for Fourth Quarter and Fiscal 2024 | NVIDIA Newsroom...\n",
      "parsing tables in NVIDIA Announces Financial Results for Fourth Quarter and Fiscal 2024 | NVIDIA Newsroom...\n",
      "parsing tables in NVIDIA Announces Financial Results for Fourth Quarter and Fiscal 2024 | NVIDIA Newsroom...\n",
      "parsing tables in NVIDIA Announces Financial Results for Fourth Quarter and Fiscal 2024 | NVIDIA Newsroom...\n",
      "parsing tables in NVIDIA Announces Financial Results for Fourth Quarter and Fiscal 2024 | NVIDIA Newsroom...\n",
      "parsing tables in NVIDIA Announces Financial Results for Fourth Quarter and Fiscal 2024 | NVIDIA Newsroom...\n"
     ]
    }
   ],
   "source": [
    "# summarize tables\n",
    "def get_table_summary(table, title, llm):\n",
    "    res = \"\"\n",
    "    try:\n",
    "        #table = markdownify.markdownify(table)\n",
    "        prompt = f\"\"\"\n",
    "                    [INST] You are a virtual assistant.  Your task is to understand the content of TABLE in the markdown format.\n",
    "                    TABLE is from \"{title}\".  Summarize the information in TABLE into SUMMARY. SUMMARY MUST be concise. Return SUMMARY only and nothing else.\n",
    "                    TABLE: ```{table}```\n",
    "                    Summary:\n",
    "                    [/INST]\n",
    "                \"\"\"\n",
    "        result = llm.invoke(prompt)\n",
    "        res = result.content\n",
    "    except Exception as e:\n",
    "        print(f\"Error: {e} while getting table summary from LLM\")\n",
    "        if not os.getenv(\"NVIDIA_API_KEY\", False):\n",
    "            print(\"NVIDIA_API_KEY not set\")\n",
    "        pass\n",
    "    finally:\n",
    "        return res\n",
    "\n",
    "\n",
    "for parsed_item in parsed_htmls:\n",
    "    title = parsed_item['title']\n",
    "    for idx, table in enumerate(parsed_item['tables']):\n",
    "        print(f\"parsing tables in {title}...\")\n",
    "        table = get_table_summary(table, title, llm)\n",
    "        parsed_item['tables'][idx] = table"
   ]
  },
  {
   "cell_type": "code",
   "execution_count": 14,
   "id": "05174198-1422-40b1-9522-1e9f83342d6e",
   "metadata": {},
   "outputs": [
    {
     "data": {
      "text/plain": [
       "dict_keys(['url', 'title', 'content', 'tables'])"
      ]
     },
     "execution_count": 14,
     "metadata": {},
     "output_type": "execute_result"
    }
   ],
   "source": [
    "parsed_item.keys()"
   ]
  },
  {
   "cell_type": "code",
   "execution_count": 42,
   "id": "ad003da3-617d-4275-8756-99ddbdfc9093",
   "metadata": {},
   "outputs": [
    {
     "data": {
      "text/plain": [
       "20"
      ]
     },
     "execution_count": 42,
     "metadata": {},
     "output_type": "execute_result"
    }
   ],
   "source": [
    "len(parsed_htmls)"
   ]
  },
  {
   "cell_type": "code",
   "execution_count": 44,
   "id": "16cb728b-e92d-48d7-9d32-3ccda7f66351",
   "metadata": {},
   "outputs": [
    {
     "data": {
      "text/plain": [
       "[\"In Q1 FY20, NVIDIA's GAAP revenue was $2,220 million, up 1% Q/Q and down 31% Y/Y. Gross margin was 58.4%, up 3.7% Q/Q and down 610 bps Y/Y. Operating expenses were $938 million, up 3% Q/Q and 21% Y/Y. Operating income was $358 million, up 22% Q/Q and down 72% Y/Y. Net income was $394 million, down 31% Q/Q and 68% Y/Y. Diluted earnings per share were $0.64, down 30% Q/Q and 68% Y/Y.\",\n",
       " 'Q1 FY20 revenue was $2.22 billion, up 1% quarter-over-quarter and down 31% year-over-year. Gross margin was 59.0%, up 300 bps QoQ and down 570 bps YoY. Operating expenses increased 16% YoY to $753 million. Operating income was $557 million, up 16% QoQ but down 61% YoY. Net income was $543 million, up 9% QoQ and down 58% YoY. Diluted EPS was $0.88, up 10% QoQ and down 57% YoY.',\n",
       " \"In Q1 FY2020, NVIDIA's revenue was $2.22 billion, down from $3.21 billion in Q1 FY2019. Gross profit was $1.29 billion, with income from operations at $358 million. Net income stood at $394 million, or $0.64 per diluted share, compared to $1.24 billion, or $1.98 per diluted share, in Q1 FY2019. Weighted average shares used in per share computation were 616 million for diluted shares.\",\n",
       " \"As of April 28, 2019, NVIDIA Corporation had total assets of $14,021 million, including $7,802 million in cash, cash equivalents, and marketable securities, and $10,629 million in current assets. Total liabilities were $4,317 million, with $1,183 million in current liabilities and $1,988 million in long-term debt. Shareholders' equity stood at $9,704 million. Compared to January 27, 2019, assets and shareholders' equity increased, while total liabilities decreased.\",\n",
       " 'For the first quarter of fiscal 2020, NVIDIA Corporation reported GAAP gross profit of $1,296 million (58.4% gross margin) and non-GAAP gross profit of $1,310 million (59.0% gross margin). GAAP operating expenses were $938 million, while non-GAAP operating expenses were $753 million. GAAP net income was $394 million, and non-GAAP net income was $543 million. Diluted net income per share was $0.64 (GAAP) and $0.88 (non-GAAP). GAAP net cash provided by operating activities was $720 million, and free cash flow was $592 million.',\n",
       " 'For Q2 FY2020, GAAP gross margin is expected to be 59.2% and Non-GAAP gross margin is expected to be 59.5%. GAAP operating expenses are predicted to be $985 million, with Non-GAAP operating expenses at $765 million after adjustments.']"
      ]
     },
     "execution_count": 44,
     "metadata": {},
     "output_type": "execute_result"
    }
   ],
   "source": [
    "parsed_htmls[0]['tables']"
   ]
  },
  {
   "cell_type": "code",
   "execution_count": 15,
   "id": "7575c1cc-6cc6-49ff-8505-99fbcd32f789",
   "metadata": {},
   "outputs": [
    {
     "data": {
      "text/plain": [
       "'http://nvidianews.nvidia.com/news/nvidia-announces-financial-results-for-fourth-quarter-and-fiscal-2024'"
      ]
     },
     "execution_count": 15,
     "metadata": {},
     "output_type": "execute_result"
    }
   ],
   "source": [
    "parsed_item['url']"
   ]
  },
  {
   "cell_type": "code",
   "execution_count": 16,
   "id": "4bf24ac5-e6e9-4a36-8803-7482de080fd3",
   "metadata": {},
   "outputs": [
    {
     "data": {
      "text/plain": [
       "'NVIDIA Announces Financial Results for Fourth Quarter and Fiscal 2024 | NVIDIA Newsroom'"
      ]
     },
     "execution_count": 16,
     "metadata": {},
     "output_type": "execute_result"
    }
   ],
   "source": [
    "parsed_item['title']"
   ]
  },
  {
   "cell_type": "code",
   "execution_count": 18,
   "id": "15055ce9-36ce-4087-a6c4-712dac77ef8a",
   "metadata": {},
   "outputs": [],
   "source": [
    "#parsed_item['content']"
   ]
  },
  {
   "cell_type": "code",
   "execution_count": 13,
   "id": "e1e03254-1af6-40f5-a484-109825dceba4",
   "metadata": {},
   "outputs": [
    {
     "data": {
      "text/plain": [
       "\"In Q4 FY24, NVIDIA's GAAP revenue was $22,103 million, up 22% Q/Q and 265% Y/Y. Gross margin was 76.0%, an increase of 2.0 points Q/Q and 12.7 points Y/Y. Operating expenses were $3,176 million, up 6% Y/Y. Operating income was $13,615 million, a 31% increase Q/Q and 983% Y/Y. Net income stood at $12,285 million, up 33% Q/Q and 769% Y/Y, with diluted earnings per share at $4.93, a 33% increase Q/Q and 765% Y/Y.\""
      ]
     },
     "execution_count": 13,
     "metadata": {},
     "output_type": "execute_result"
    }
   ],
   "source": [
    "parsed_item['tables'][0]"
   ]
  },
  {
   "cell_type": "markdown",
   "id": "2d926682-f0cd-4538-875e-8327a198f91e",
   "metadata": {},
   "source": [
    "# Splitter Model\n",
    "- https://huggingface.co/intfloat/e5-large-v2\n",
    "- https://api.python.langchain.com/en/latest/sentence_transformers/langchain_text_splitters.sentence_transformers.SentenceTransformersTokenTextSplitter.html"
   ]
  },
  {
   "cell_type": "code",
   "execution_count": 21,
   "id": "aa832f02-dc73-4631-a915-367078b7c830",
   "metadata": {},
   "outputs": [
    {
     "name": "stderr",
     "output_type": "stream",
     "text": [
      "/home/olonok/miniforge3/envs/langchain/lib/python3.11/site-packages/sentence_transformers/cross_encoder/CrossEncoder.py:13: TqdmExperimentalWarning: Using `tqdm.autonotebook.tqdm` in notebook mode. Use `tqdm.tqdm` instead to force console mode (e.g. in jupyter console)\n",
      "  from tqdm.autonotebook import tqdm, trange\n"
     ]
    },
    {
     "data": {
      "application/vnd.jupyter.widget-view+json": {
       "model_id": "691ef10ccdd143d8b8c4daff79a34cb8",
       "version_major": 2,
       "version_minor": 0
      },
      "text/plain": [
       "modules.json:   0%|          | 0.00/387 [00:00<?, ?B/s]"
      ]
     },
     "metadata": {},
     "output_type": "display_data"
    },
    {
     "data": {
      "application/vnd.jupyter.widget-view+json": {
       "model_id": "67f93870e6304251b13d631c2a75679f",
       "version_major": 2,
       "version_minor": 0
      },
      "text/plain": [
       "README.md:   0%|          | 0.00/67.8k [00:00<?, ?B/s]"
      ]
     },
     "metadata": {},
     "output_type": "display_data"
    },
    {
     "data": {
      "application/vnd.jupyter.widget-view+json": {
       "model_id": "b67be8833c2345669fcff07f06fce3ae",
       "version_major": 2,
       "version_minor": 0
      },
      "text/plain": [
       "sentence_bert_config.json:   0%|          | 0.00/57.0 [00:00<?, ?B/s]"
      ]
     },
     "metadata": {},
     "output_type": "display_data"
    },
    {
     "data": {
      "application/vnd.jupyter.widget-view+json": {
       "model_id": "7c15dbea71ea4fcbb0e0951d0a4d19e5",
       "version_major": 2,
       "version_minor": 0
      },
      "text/plain": [
       "config.json:   0%|          | 0.00/616 [00:00<?, ?B/s]"
      ]
     },
     "metadata": {},
     "output_type": "display_data"
    },
    {
     "data": {
      "application/vnd.jupyter.widget-view+json": {
       "model_id": "8be8aeba67d7439ab6051ba9e68b9ca8",
       "version_major": 2,
       "version_minor": 0
      },
      "text/plain": [
       "model.safetensors:   0%|          | 0.00/1.34G [00:00<?, ?B/s]"
      ]
     },
     "metadata": {},
     "output_type": "display_data"
    },
    {
     "data": {
      "application/vnd.jupyter.widget-view+json": {
       "model_id": "267bab414b7a4ff0ba2be38ed38b9fdf",
       "version_major": 2,
       "version_minor": 0
      },
      "text/plain": [
       "tokenizer_config.json:   0%|          | 0.00/314 [00:00<?, ?B/s]"
      ]
     },
     "metadata": {},
     "output_type": "display_data"
    },
    {
     "data": {
      "application/vnd.jupyter.widget-view+json": {
       "model_id": "4cd9df7a1a3e473f85acd3aff682c0d1",
       "version_major": 2,
       "version_minor": 0
      },
      "text/plain": [
       "vocab.txt:   0%|          | 0.00/232k [00:00<?, ?B/s]"
      ]
     },
     "metadata": {},
     "output_type": "display_data"
    },
    {
     "data": {
      "application/vnd.jupyter.widget-view+json": {
       "model_id": "ba2b20fa42d74fa7829853a59a1cd7ea",
       "version_major": 2,
       "version_minor": 0
      },
      "text/plain": [
       "tokenizer.json:   0%|          | 0.00/711k [00:00<?, ?B/s]"
      ]
     },
     "metadata": {},
     "output_type": "display_data"
    },
    {
     "data": {
      "application/vnd.jupyter.widget-view+json": {
       "model_id": "c5363d9f098045d6b3f45f796ca6a8a3",
       "version_major": 2,
       "version_minor": 0
      },
      "text/plain": [
       "special_tokens_map.json:   0%|          | 0.00/125 [00:00<?, ?B/s]"
      ]
     },
     "metadata": {},
     "output_type": "display_data"
    },
    {
     "data": {
      "application/vnd.jupyter.widget-view+json": {
       "model_id": "39f4e6c95946424eb08157aa91a6b5da",
       "version_major": 2,
       "version_minor": 0
      },
      "text/plain": [
       "1_Pooling/config.json:   0%|          | 0.00/201 [00:00<?, ?B/s]"
      ]
     },
     "metadata": {},
     "output_type": "display_data"
    },
    {
     "name": "stdout",
     "output_type": "stream",
     "text": [
      "obtain 746 chunks\n"
     ]
    }
   ],
   "source": [
    "from langchain_milvus import Milvus\n",
    "from langchain.docstore.document import Document\n",
    "from langchain.text_splitter import SentenceTransformersTokenTextSplitter\n",
    "TEXT_SPLITTER_MODEL = \"intfloat/e5-large-v2\"\n",
    "TEXT_SPLITTER_CHUNCK_SIZE = 200\n",
    "TEXT_SPLITTER_CHUNCK_OVERLAP = 50\n",
    "\n",
    "text_splitter = SentenceTransformersTokenTextSplitter(\n",
    "    model_name=TEXT_SPLITTER_MODEL,\n",
    "    tokens_per_chunk=TEXT_SPLITTER_CHUNCK_SIZE,\n",
    "    chunk_overlap=TEXT_SPLITTER_CHUNCK_OVERLAP,\n",
    ")\n",
    "\n",
    "documents = []\n",
    "\n",
    "for parsed_item in parsed_htmls:\n",
    "    title = parsed_item['title']\n",
    "    url =  parsed_item['url']\n",
    "    text_content = parsed_item['content']\n",
    "    documents.append(Document(page_content=text_content, metadata = {'title':title, 'url':url}))\n",
    "\n",
    "    for idx, table in enumerate(parsed_item['tables']):\n",
    "        table_content = table\n",
    "        documents.append(Document(page_content=table, metadata = {'title':title, 'url':url}))\n",
    "\n",
    "documents = text_splitter.split_documents(documents)\n",
    "print(f\"obtain {len(documents)} chunks\")"
   ]
  },
  {
   "cell_type": "code",
   "execution_count": 48,
   "id": "1bf405d3-699c-4af2-92ab-49b1b8aa3df8",
   "metadata": {},
   "outputs": [
    {
     "data": {
      "text/plain": [
       "Document(metadata={'title': 'NVIDIA Announces Financial Results for First Quarter Fiscal 2020 | NVIDIA Newsroom', 'url': 'http://nvidianews.nvidia.com/news/nvidia-announces-financial-results-for-first-quarter-fiscal-2020'}, page_content='nvidia announces financial results for first quarter fiscal 2020 | nvidia newsroom \" artificial intelligence computing leadership from nvidia platforms autonomous machines cloud & data center deep learning & ai design & pro visualization healthcare high performance computing self - driving cars gaming & entertainment other links developers industries shop drivers support about nvidia view all products gpu technology conference nvidia blog community careers technologies newsroom nvidia in brief exec bios nvidia blog podcast media assets in the news press contacts online press kits nvidia in brief exec bios nvidia blog podcast media assets in the news press contacts online press kits press release share tweet twitter share linkedin share facebook email ic _ arrow - back - to - top nvidia announces financial results for first quarter fiscal 2020 may 16, 2019 nvidia today reported revenue for the first quarter ended april 28, 2019, of $ 2. 22 billion compared with $ 3. 21 billion a year earlier and $ 2')"
      ]
     },
     "execution_count": 48,
     "metadata": {},
     "output_type": "execute_result"
    }
   ],
   "source": [
    "documents[0]"
   ]
  },
  {
   "cell_type": "code",
   "execution_count": 22,
   "id": "062cf8c8-882f-4659-a64a-3c4438913182",
   "metadata": {},
   "outputs": [],
   "source": [
    "URI = \"./milvus_example.db\""
   ]
  },
  {
   "cell_type": "code",
   "execution_count": 24,
   "id": "1f6ad78a-63a3-4e33-b8d8-a0bca4ee338d",
   "metadata": {},
   "outputs": [],
   "source": [
    "COLLECTION_NAME = \"NVIDIA_Finance\"\n",
    "from langchain_milvus import Milvus\n",
    "vectorstore = Milvus.from_documents(\n",
    "    documents,\n",
    "    embedder_document,\n",
    "    collection_name=COLLECTION_NAME,\n",
    "    connection_args={\"uri\": URI}, # replace this with the ip of the workstation where milvus is running\n",
    "    drop_old=True,\n",
    ")"
   ]
  },
  {
   "cell_type": "code",
   "execution_count": 39,
   "id": "572b5995-55d1-40bc-aa3f-235300bf06a8",
   "metadata": {},
   "outputs": [],
   "source": [
    "docs = vectorstore.similarity_search_with_score(\"what are 2024 Q3 revenues? \")"
   ]
  },
  {
   "cell_type": "code",
   "execution_count": 40,
   "id": "ad6e9890-3670-4f32-8527-1ffd9f6e8234",
   "metadata": {},
   "outputs": [
    {
     "data": {
      "text/plain": [
       "[(Document(metadata={'pk': 453541554316116439, 'title': 'NVIDIA Announces Financial Results for Third Quarter Fiscal 2022 | NVIDIA Newsroom', 'url': 'http://nvidianews.nvidia.com/news/nvidia-announces-financial-results-for-third-quarter-fiscal-2022'}, page_content='revenue for q3 fy22 was $ 7. 103 billion, a 9 % q / q and 50 % y / y increase. gross margin was 67. 0 %, up 30 bps q / q and 150 bps y / y. operating income was $ 3. 386 billion, a 10 % q / q and 70 % y / y increase. net income was $ 2. 973 billion, a 13 % q / q and 62 % y / y increase. diluted earnings per share were $ 1. 17, a 13 % q / q and 60 % y / y increase. operating expenses were up 9 % q / q and 25 % y / y.'),\n",
       "  0.6031383275985718),\n",
       " (Document(metadata={'pk': 453541554316116672, 'title': 'NVIDIA Announces Financial Results for Fourth Quarter and Fiscal 2023 | NVIDIA Newsroom', 'url': 'http://nvidianews.nvidia.com/news/nvidia-announces-financial-results-for-fourth-quarter-and-fiscal-2023'}, page_content='period in q4 2023 were $ 3, 389 million, up from $ 1, 990 million at the end of the same period in 2022. the table also shows that for the twelve months ended january 29, 2023, net cash provided by operating activities was $ 5, 641 million, down from $ 9, 108 million in 2022. net cash provided by investing activities in 2023 was $ 7, 375 million, compared to $ ( 9, 830 ) million in 2022. in 2023, net cash provided by financing activities was $ 1, 865 million, compared to $ ( 11, 617 ) million in 2022.'),\n",
       "  0.6250448822975159),\n",
       " (Document(metadata={'pk': 453541554316116514, 'title': 'NVIDIA Announces Financial Results for Third Quarter Fiscal 2024 | NVIDIA Newsroom', 'url': 'http://nvidianews.nvidia.com/news/nvidia-announces-financial-results-for-third-quarter-fiscal-2024'}, page_content='revenue for q3 fy24 was $ 18, 120 million, with a 34 % quarter - over - quarter and 206 % year - over - year increase. gross margin was 74. 0 %, an increase of 3. 9 points quarter - over - quarter and 20. 4 points year - over - year. operating income was $ 10, 417 million, a 53 % increase quarter - over - quarter and 1, 633 % year - over - year. net income was $ 9, 243 million, a 49 % increase quarter - over - quarter and 1, 259 % year - over - year. diluted eps was $ 3. 71, a 50 % increase quarter - over - quarter and 1, 274 % year - over - year. operating expenses were $ 2, 983 million, a 12 % increase quarter - over - quarter and 16 % year - over - year.'),\n",
       "  0.631539523601532),\n",
       " (Document(metadata={'pk': 453541554316116635, 'title': 'NVIDIA Announces Financial Results for Fourth Quarter and Fiscal 2022 | NVIDIA Newsroom', 'url': 'http://nvidianews.nvidia.com/news/nvidia-announces-financial-results-for-fourth-quarter-and-fiscal-2022'}, page_content='671 million in q4 2021. non - gaap income from operations for q4 2022 was $ 3, 677 million. - gaap net income for q4 2022 was $ 3, 003 million, or $ 1. 18 per diluted share, up from $ 2, 464 million, or $ 0. 97 per diluted share in q4 2021. non - gaap net income for q4 2022 was $ 3, 350 million, or $ 1. 32 per diluted share. - gaap net cash provided by operating activities for q4 2022 was $ 3, 033 million, compared to $ 1, 519 million in q4 2021. free cash flow for q4 2022 was $ 2, 739 million.'),\n",
       "  0.663007915019989)]"
      ]
     },
     "execution_count": 40,
     "metadata": {},
     "output_type": "execute_result"
    }
   ],
   "source": [
    "docs"
   ]
  },
  {
   "cell_type": "code",
   "execution_count": 27,
   "id": "11755811-5a26-4591-8c13-0ecf1cb175ed",
   "metadata": {},
   "outputs": [],
   "source": [
    "from langchain.prompts.prompt import PromptTemplate\n",
    "\n",
    "PROMPT_TEMPLATE = \"\"\"[INST]You are a friendly virtual assistant and maintain a conversational, polite, patient, friendly and gender neutral tone throughout the conversation.\n",
    "\n",
    "Your task is to understand the QUESTION, read the Content list from the DOCUMENT delimited by ```, generate an answer based on the Content, and provide references used in answering the question in the format \"[Title](URL)\".\n",
    "Do not depend on outside knowledge or fabricate responses.\n",
    "DOCUMENT: ```{context}```\n",
    "\n",
    "Your response should follow these steps:\n",
    "\n",
    "1. The answer should be short and concise, clear.\n",
    "    * If detailed instructions are required, present them in an ordered list or bullet points.\n",
    "2. If the answer to the question is not available in the provided DOCUMENT, ONLY respond that you couldn't find any information related to the QUESTION, and do not show references and citations.\n",
    "3. Citation\n",
    "    * ALWAYS start the citation section with \"Here are the sources to generate response.\" and follow with references in markdown link format [Title](URL) to support the answer.\n",
    "    * Use Bullets to display the reference [Title](URL).\n",
    "    * You MUST ONLY use the URL extracted from the DOCUMENT as the reference link. DO NOT fabricate or use any link outside the DOCUMENT as reference.\n",
    "    * Avoid over-citation. Only include references that were directly used in generating the response.\n",
    "    * If no reference URL can be provided, remove the entire citation section.\n",
    "    * The Citation section can include one or more references. DO NOT include same URL as multiple references. ALWAYS append the citation section at the end of your response.\n",
    "    * You MUST follow the below format as an example for this citation section:\n",
    "      Here are the sources used to generate this response:\n",
    "      * [Title](URL)\n",
    "[/INST]\n",
    "[INST]\n",
    "QUESTION: {question}\n",
    "FINAL ANSWER:[/INST]\"\"\"\n",
    "\n",
    "prompt_template = PromptTemplate(template=PROMPT_TEMPLATE, input_variables=[\"context\", \"question\"])"
   ]
  },
  {
   "cell_type": "code",
   "execution_count": 28,
   "id": "cf0e39c9-bf18-49a9-bd4e-948e6a5d5766",
   "metadata": {},
   "outputs": [],
   "source": [
    "def build_context(chunks):\n",
    "    context = \"\"\n",
    "    for chunk in chunks:\n",
    "        context = context + \"\\n  Content: \" + chunk.page_content + \" | Title: (\" + chunk.metadata[\"title\"] + \") | URL: (\" + chunk.metadata.get(\"url\", \"source\") + \")\"\n",
    "    return context\n",
    "\n",
    "\n",
    "def generate_answer(llm, vectorstore, prompt_template, question):\n",
    "    retrieved_chunks = vectorstore.similarity_search(question)\n",
    "    context = build_context(retrieved_chunks)\n",
    "    args = {\"context\":context, \"question\":question}\n",
    "    prompt = prompt_template.format(**args)\n",
    "    ans = llm.invoke(prompt)\n",
    "    return ans.content\n",
    "\n",
    "\n",
    "question = \"what are 2024 Q1 revenues?\""
   ]
  },
  {
   "cell_type": "code",
   "execution_count": 29,
   "id": "2dc708ed-39b0-485a-9ffb-cab40a39070a",
   "metadata": {},
   "outputs": [
    {
     "data": {
      "text/plain": [
       "\"NVIDIA's Q1 fiscal 2024 revenue was $7,192 million.\\n\\nHere are the sources used to generate this response:\\n- [NVIDIA Announces Financial Results for First Quarter Fiscal 2024 | NVIDIA Newsroom](http://nvidianews.nvidia.com/news/nvidia-announces-financial-results-for-first-quarter-fiscal-2024)\""
      ]
     },
     "execution_count": 29,
     "metadata": {},
     "output_type": "execute_result"
    }
   ],
   "source": [
    "generate_answer(llm, vectorstore, prompt_template, question)"
   ]
  },
  {
   "cell_type": "code",
   "execution_count": null,
   "id": "9baf0bb6-81c9-468b-9a67-437146b96c2b",
   "metadata": {},
   "outputs": [],
   "source": []
  }
 ],
 "metadata": {
  "kernelspec": {
   "display_name": "Python (langchain)",
   "language": "python",
   "name": "langchain"
  },
  "language_info": {
   "codemirror_mode": {
    "name": "ipython",
    "version": 3
   },
   "file_extension": ".py",
   "mimetype": "text/x-python",
   "name": "python",
   "nbconvert_exporter": "python",
   "pygments_lexer": "ipython3",
   "version": "3.11.10"
  }
 },
 "nbformat": 4,
 "nbformat_minor": 5
}
