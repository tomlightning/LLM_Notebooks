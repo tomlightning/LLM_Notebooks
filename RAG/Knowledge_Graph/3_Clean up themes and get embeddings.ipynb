{
 "cells": [
  {
   "cell_type": "code",
   "execution_count": 148,
   "id": "793bace0-0b27-4a1a-9054-8b2d35e954d5",
   "metadata": {},
   "outputs": [],
   "source": [
    "# from langchain_google_genai import ChatGoogleGenerativeAI, GoogleGenerativeAIEmbeddings\n",
    "from graphdatascience import GraphDataScience\n",
    "from getpass import getpass\n",
    "import pandas as pd\n",
    "import os"
   ]
  },
  {
   "cell_type": "code",
   "execution_count": 149,
   "id": "f8b9270b-7958-4387-86ef-ee61c548164a",
   "metadata": {},
   "outputs": [],
   "source": [
    "from google.oauth2 import service_account\n",
    "from dotenv import dotenv_values\n",
    "import json\n"
   ]
  },
  {
   "cell_type": "markdown",
   "id": "efd1d707-83c2-4227-8615-432f74c350bd",
   "metadata": {},
   "source": [
    "# Set up connection information"
   ]
  },
  {
   "cell_type": "code",
   "execution_count": 150,
   "id": "b169b1aa-be35-48f6-810d-a6eb751ff982",
   "metadata": {},
   "outputs": [],
   "source": [
    "config = dotenv_values(\".env\")"
   ]
  },
  {
   "cell_type": "code",
   "execution_count": 151,
   "id": "8c2e5ff4-20fb-4c9b-92ab-7e778f3db6d0",
   "metadata": {},
   "outputs": [],
   "source": [
    "neo4j_password = \"diameter-captures-caves\""
   ]
  },
  {
   "cell_type": "code",
   "execution_count": 152,
   "id": "8e68f7ef-9ccc-4ccf-829a-1bd33654dfba",
   "metadata": {},
   "outputs": [],
   "source": [
    "neo4j_database_name = \"neo4j\"\n",
    "neo4j_user = \"neo4j\"\n",
    "bolt_url = \"bolt://52.87.157.164:7687\"\n",
    "gds = GraphDataScience(bolt_url, auth=(neo4j_user, neo4j_password))"
   ]
  },
  {
   "cell_type": "markdown",
   "id": "9b897d10-f75d-450f-a0f5-0916a98b4243",
   "metadata": {},
   "source": [
    "# Clean up themes"
   ]
  },
  {
   "cell_type": "markdown",
   "id": "15e19138-642b-4fd5-b29f-a5861e8a8f01",
   "metadata": {},
   "source": [
    "Remove themes without English characters. Films with non-English titles sometimes caused the LLM to give themes in the language of the title even if the overview was in English."
   ]
  },
  {
   "cell_type": "code",
   "execution_count": 153,
   "id": "eaa631e9-6f32-4a78-bb83-ef9783c0e89f",
   "metadata": {},
   "outputs": [
    {
     "data": {
      "text/html": [
       "<div>\n",
       "<style scoped>\n",
       "    .dataframe tbody tr th:only-of-type {\n",
       "        vertical-align: middle;\n",
       "    }\n",
       "\n",
       "    .dataframe tbody tr th {\n",
       "        vertical-align: top;\n",
       "    }\n",
       "\n",
       "    .dataframe thead th {\n",
       "        text-align: right;\n",
       "    }\n",
       "</style>\n",
       "<table border=\"1\" class=\"dataframe\">\n",
       "  <thead>\n",
       "    <tr style=\"text-align: right;\">\n",
       "      <th></th>\n",
       "    </tr>\n",
       "  </thead>\n",
       "  <tbody>\n",
       "  </tbody>\n",
       "</table>\n",
       "</div>"
      ],
      "text/plain": [
       "Empty DataFrame\n",
       "Columns: []\n",
       "Index: []"
      ]
     },
     "execution_count": 153,
     "metadata": {},
     "output_type": "execute_result"
    }
   ],
   "source": [
    "gds.run_cypher(\"\"\"\n",
    "MATCH (t:Theme) WHERE t.description =~ '^[^a-zA-Z0-9]*$'\n",
    "DETACH DELETE t\"\"\")"
   ]
  },
  {
   "cell_type": "markdown",
   "id": "d6086349-c2a3-4e17-b176-2afc8a2381a2",
   "metadata": {},
   "source": [
    "If the content is too explicit for the LLM to work with, drop it from our dataset."
   ]
  },
  {
   "cell_type": "code",
   "execution_count": 154,
   "id": "4dedfeb0-2007-43c4-9f9e-0ba2ba554450",
   "metadata": {},
   "outputs": [
    {
     "data": {
      "text/html": [
       "<div>\n",
       "<style scoped>\n",
       "    .dataframe tbody tr th:only-of-type {\n",
       "        vertical-align: middle;\n",
       "    }\n",
       "\n",
       "    .dataframe tbody tr th {\n",
       "        vertical-align: top;\n",
       "    }\n",
       "\n",
       "    .dataframe thead th {\n",
       "        text-align: right;\n",
       "    }\n",
       "</style>\n",
       "<table border=\"1\" class=\"dataframe\">\n",
       "  <thead>\n",
       "    <tr style=\"text-align: right;\">\n",
       "      <th></th>\n",
       "    </tr>\n",
       "  </thead>\n",
       "  <tbody>\n",
       "  </tbody>\n",
       "</table>\n",
       "</div>"
      ],
      "text/plain": [
       "Empty DataFrame\n",
       "Columns: []\n",
       "Index: []"
      ]
     },
     "execution_count": 154,
     "metadata": {},
     "output_type": "execute_result"
    }
   ],
   "source": [
    "gds.run_cypher(\"\"\"\n",
    "MATCH (t:Theme)<-[:HAS_THEME]-(m)\n",
    "WHERE t.description STARTS WITH \"I will not\"\n",
    "OR t.description STARTS WITH \"I am sorry\"\n",
    "OR t.description STARTS WITH \"I apologize\"\n",
    "OR t.description STARTS WITH \"I will not generate a summary\"\n",
    "OR t.description STARTS WITH \"I cannot provide\"\n",
    "OR t.description STARTS WITH \"I will have to politely decline\"\n",
    "DETACH DELETE m\"\"\")"
   ]
  },
  {
   "cell_type": "code",
   "execution_count": 155,
   "id": "1bb84192-9800-4bec-beaa-62c07e20562a",
   "metadata": {},
   "outputs": [
    {
     "data": {
      "text/html": [
       "<div>\n",
       "<style scoped>\n",
       "    .dataframe tbody tr th:only-of-type {\n",
       "        vertical-align: middle;\n",
       "    }\n",
       "\n",
       "    .dataframe tbody tr th {\n",
       "        vertical-align: top;\n",
       "    }\n",
       "\n",
       "    .dataframe thead th {\n",
       "        text-align: right;\n",
       "    }\n",
       "</style>\n",
       "<table border=\"1\" class=\"dataframe\">\n",
       "  <thead>\n",
       "    <tr style=\"text-align: right;\">\n",
       "      <th></th>\n",
       "    </tr>\n",
       "  </thead>\n",
       "  <tbody>\n",
       "  </tbody>\n",
       "</table>\n",
       "</div>"
      ],
      "text/plain": [
       "Empty DataFrame\n",
       "Columns: []\n",
       "Index: []"
      ]
     },
     "execution_count": 155,
     "metadata": {},
     "output_type": "execute_result"
    }
   ],
   "source": [
    "gds.run_cypher(\"\"\"\n",
    "MATCH (t:Theme) WHERE NOT EXISTS {()-[:HAS_THEME]->(t)} DETACH DELETE t\"\"\")"
   ]
  },
  {
   "cell_type": "markdown",
   "id": "bf15f188-d36c-48ff-a23e-e6420dba3012",
   "metadata": {},
   "source": [
    "Sometimes LLM gave us a heading followed by a colon and a list. Drop the heading and just keep the list element.\n",
    "\n",
    "If the first list item already exists as a separate node, merge this node with the existing node."
   ]
  },
  {
   "cell_type": "code",
   "execution_count": 156,
   "id": "b47dd744-d743-4bbb-a403-3c2b2846aba5",
   "metadata": {},
   "outputs": [
    {
     "data": {
      "text/html": [
       "<div>\n",
       "<style scoped>\n",
       "    .dataframe tbody tr th:only-of-type {\n",
       "        vertical-align: middle;\n",
       "    }\n",
       "\n",
       "    .dataframe tbody tr th {\n",
       "        vertical-align: top;\n",
       "    }\n",
       "\n",
       "    .dataframe thead th {\n",
       "        text-align: right;\n",
       "    }\n",
       "</style>\n",
       "<table border=\"1\" class=\"dataframe\">\n",
       "  <thead>\n",
       "    <tr style=\"text-align: right;\">\n",
       "      <th></th>\n",
       "      <th>newDescription</th>\n",
       "    </tr>\n",
       "  </thead>\n",
       "  <tbody>\n",
       "    <tr>\n",
       "      <th>0</th>\n",
       "      <td>Time Travel</td>\n",
       "    </tr>\n",
       "    <tr>\n",
       "      <th>1</th>\n",
       "      <td>The Great Gatsby</td>\n",
       "    </tr>\n",
       "    <tr>\n",
       "      <th>2</th>\n",
       "      <td>Justice</td>\n",
       "    </tr>\n",
       "    <tr>\n",
       "      <th>3</th>\n",
       "      <td>Choice</td>\n",
       "    </tr>\n",
       "  </tbody>\n",
       "</table>\n",
       "</div>"
      ],
      "text/plain": [
       "     newDescription\n",
       "0       Time Travel\n",
       "1  The Great Gatsby\n",
       "2           Justice\n",
       "3            Choice"
      ]
     },
     "execution_count": 156,
     "metadata": {},
     "output_type": "execute_result"
    }
   ],
   "source": [
    "gds.run_cypher(\"\"\"\n",
    "MATCH (t:Theme) WHERE t.description contains \":\\n\" \n",
    "MATCH (t2:Theme)\n",
    "WHERE t2.description = trim(split(t.description, \":\\n\")[1])\n",
    "WITH [t2, t] AS nodeList\n",
    "CALL apoc.refactor.mergeNodes(nodeList, {properties:\"discard\"}) YIELD node\n",
    "RETURN node.description AS newDescription\"\"\")"
   ]
  },
  {
   "cell_type": "markdown",
   "id": "a5566b66-1ab3-4c79-9a0d-1baaf3038005",
   "metadata": {},
   "source": [
    "If the same item exists with different headings, merge those nodes together."
   ]
  },
  {
   "cell_type": "code",
   "execution_count": 157,
   "id": "51267d6c-6c94-4f49-9e2b-e00d82c32de5",
   "metadata": {},
   "outputs": [
    {
     "data": {
      "text/html": [
       "<div>\n",
       "<style scoped>\n",
       "    .dataframe tbody tr th:only-of-type {\n",
       "        vertical-align: middle;\n",
       "    }\n",
       "\n",
       "    .dataframe tbody tr th {\n",
       "        vertical-align: top;\n",
       "    }\n",
       "\n",
       "    .dataframe thead th {\n",
       "        text-align: right;\n",
       "    }\n",
       "</style>\n",
       "<table border=\"1\" class=\"dataframe\">\n",
       "  <thead>\n",
       "    <tr style=\"text-align: right;\">\n",
       "      <th></th>\n",
       "      <th>newDescription</th>\n",
       "    </tr>\n",
       "  </thead>\n",
       "  <tbody>\n",
       "    <tr>\n",
       "      <th>0</th>\n",
       "      <td>1. The main character's arc and transformation.\\n\\n2. The central conflict and its resolution.\\n\\n3. The setting's influence on the story.\\n\\n4. The role of secondary characters in advancing the plot.\\n\\n5. The use of symbolism and thematic elements.\\n\\n6. The director's unique style and how it contributes to the film.\\n\\n7. The cinematography and its impact on the viewer's experience.\\n\\n8. The soundtrack and its contribution to the mood.\\n\\n9. The film's cultural or historical significance.\\n\\n10. The critical reception and any awards or nominations.\\n\\nOnly include phrases that are directly relevant to the movie's content and critical acclaim.\\n\\nPrioritize phrases that are central to the film's identity.\\n\\nYou can provide fewer than ten phrases.\\n\\nvery important</td>\n",
       "    </tr>\n",
       "    <tr>\n",
       "      <th>1</th>\n",
       "      <td>1. The main character's arc and transformation.\\n\\n2. Key supporting characters and their roles.\\n\\n3. The central conflict and its resolution.\\n\\n4. The setting and its influence on the story.\\n\\n5. The film's thematic elements.\\n\\n6. The director's unique style or signature elements.\\n\\n7. The cinematography and its contribution to the mood.\\n\\n8. The soundtrack and its impact on the narrative.\\n\\n9. The critical reception and any awards or nominations.\\n\\n10. The movie's legacy or influence on future works.\\n\\nOnly include phrases that are directly relevant to the movie's content and critical acclaim.\\n\\nPrioritize phrases that are central to the movie's identity.\\n\\nYou can provide fewer than ten phrases.\\n\\nvery important</td>\n",
       "    </tr>\n",
       "    <tr>\n",
       "      <th>2</th>\n",
       "      <td>1. The protagonist's psychological journey and internal conflicts.\\n\\n2. The antagonist's psychological motivations and flaws.\\n\\n3. The novel's exploration of existential themes.\\n\\n4. The influence of secondary characters on the protagonist's development.\\n\\n5. The setting's role in reflecting the protagonist's inner turmoil.\\n\\n6. The narrative structure and its effect on the pacing of the story.\\n\\n7. The use of literary devices to enhance the thematic depth.\\n\\n8. The author's writing style and its impact on the reader's experience.\\n\\n9. The novel's contribution to the genre and its originality.\\n\\n10. The historical and cultural context of the novel's setting.\\n\\n11. The novel's reception by the public and literary critics.\\n\\n12. The philosophical questions raised by the novel.\\n\\nOnly include phrases that are directly related to the novel's content and not general literary terms.\\n\\nPrioritize phrases that are central to the novel's identity.\\n\\nYou can provide fewer than twelve phrases.\\n\\nvery important</td>\n",
       "    </tr>\n",
       "    <tr>\n",
       "      <th>3</th>\n",
       "      <td>1. The main character's arc (using no more than three words).\\n\\n2. The antagonist's motivation (using no more than four words).\\n\\n3. The central conflict (using no more than three words).\\n\\n4. The resolution (using no more than three words).\\n\\n5. The setting's influence on the plot (using no more than four words).\\n\\n6. The film's genre (using no more than two words).\\n\\n7. The director's signature style (using no more than four words).\\n\\n8. The movie's impact on society (using no more than three words).\\n\\n9. The critical reception (using no more than four words).\\n\\n10. The film's contribution to the genre (using no more than three words).\\n\\n11. The movie's thematic depth (using no more than four words).\\n\\n12. The cinematography's role (using no more than four words).\\n\\n13. The soundtrack's effect (using no more than four words).\\n\\n14. The movie's cultural significance (using no more than three words).\\n\\n15. The lead actor's performance (using no more than four words).\\n\\n16. The supporting cast's contribution (using no more than four words).\\n\\n17. The movie's influence on future works (using no more than three words).\\n\\n18. The movie's legacy (using no more than four words).\\n\\n19. The movie's relevance to contemporary issues (using no more than four words).\\n\\n20. The movie's educational value (using no more than three words).\\n\\n\\nReturn the analysis as a structured list</td>\n",
       "    </tr>\n",
       "    <tr>\n",
       "      <th>4</th>\n",
       "      <td>1. The central theme of the movie.\\n\\n2. Key settings that are pivotal to the plot.\\n\\n3. The main character's arc</td>\n",
       "    </tr>\n",
       "    <tr>\n",
       "      <th>...</th>\n",
       "      <td>...</td>\n",
       "    </tr>\n",
       "    <tr>\n",
       "      <th>178</th>\n",
       "      <td>1) Return the phrases as a pipe separated list.\\n    2) Return only the list without a heading.\\n    title: The Shawshank Redemption\\n    synopsis: Two imprisoned men bond over a number of years</td>\n",
       "    </tr>\n",
       "    <tr>\n",
       "      <th>179</th>\n",
       "      <td>1) Return the phrases as a pipe separated list.\\n    2) Return only the list without a heading.\\n    title: The Echoes of Time\\n    overview: In \"The Echoes of Time</td>\n",
       "    </tr>\n",
       "    <tr>\n",
       "      <th>180</th>\n",
       "      <td>1) Return the phrases as a pipe separated list.\\n    2) Return only the list without a heading.\\n    title: The Godfather\\n    overview: The film follows the aging patriarch of an organized crime dynasty as he contemplates relinquishing his empire to his reluctant son. The saga explores themes of power</td>\n",
       "    </tr>\n",
       "    <tr>\n",
       "      <th>181</th>\n",
       "      <td>1) Use only one paragraph for each element.\\n\\n2) Include at least two direct quotes from the film to support your analysis.\\n\\n3) Ensure that your essay flows logically from one element to the next.\\n\\n4) Do not exceed 1500 words in total.\\n\\n5) Cite at least three film critics' reviews to support your points.\\n\\n6) Avoid spoilers for those who have not seen the film.\\n\\n7) Use APA citation style for any references.\\n\\n8) Provide a concluding paragraph that synthesizes your overall analysis.\\n\\n\\ntitle: The Shawshank Redemption\\n\\nsynopsis: The story of Andy Dufresne</td>\n",
       "    </tr>\n",
       "    <tr>\n",
       "      <th>182</th>\n",
       "      <td>1) Use only the phrases provided in the movie's title and synopsis.\\n\\n2) Do not include any personal opinions or external information not present in the title and synopsis.\\n\\n3) Ensure that your analysis is objective and based solely on the information given.\\n\\n4) Provide citations from the movie's script or dialogue to support your points where applicable.\\n\\n5) The essay should be between 1000-1500 words in length.\\n\\n6) Use formal academic language and adhere to essay writing conventions.\\n\\n7) The essay must be original and not plagiarized.\\n\\n8) Include a bibliography of any sources referenced.\\n\\ntitle: I Wish You Well\\n\\noverview: Jack Gets a mysterious parcel delivered to him by from his ex girlfriend</td>\n",
       "    </tr>\n",
       "  </tbody>\n",
       "</table>\n",
       "<p>183 rows × 1 columns</p>\n",
       "</div>"
      ],
      "text/plain": [
       "                                                                                                                                                                                                                                                                                                                                                                                                                                                                                                                                                                                                                                                                                                                                                                                                                                                                                                                                                                                                                                                                                                                                                                                                                                                                                                                                                                                                                                                         newDescription\n",
       "0                                                                                                                                                                                                                                                                                                                                                                                                                                                                                                                                                                                                                                                            1. The main character's arc and transformation.\\n\\n2. The central conflict and its resolution.\\n\\n3. The setting's influence on the story.\\n\\n4. The role of secondary characters in advancing the plot.\\n\\n5. The use of symbolism and thematic elements.\\n\\n6. The director's unique style and how it contributes to the film.\\n\\n7. The cinematography and its impact on the viewer's experience.\\n\\n8. The soundtrack and its contribution to the mood.\\n\\n9. The film's cultural or historical significance.\\n\\n10. The critical reception and any awards or nominations.\\n\\nOnly include phrases that are directly relevant to the movie's content and critical acclaim.\\n\\nPrioritize phrases that are central to the film's identity.\\n\\nYou can provide fewer than ten phrases.\\n\\nvery important\n",
       "1                                                                                                                                                                                                                                                                                                                                                                                                                                                                                                                                                                                                                                                                                                      1. The main character's arc and transformation.\\n\\n2. Key supporting characters and their roles.\\n\\n3. The central conflict and its resolution.\\n\\n4. The setting and its influence on the story.\\n\\n5. The film's thematic elements.\\n\\n6. The director's unique style or signature elements.\\n\\n7. The cinematography and its contribution to the mood.\\n\\n8. The soundtrack and its impact on the narrative.\\n\\n9. The critical reception and any awards or nominations.\\n\\n10. The movie's legacy or influence on future works.\\n\\nOnly include phrases that are directly relevant to the movie's content and critical acclaim.\\n\\nPrioritize phrases that are central to the movie's identity.\\n\\nYou can provide fewer than ten phrases.\\n\\nvery important\n",
       "2                                                                                                                                                                                                                                                                                                                                                                                                 1. The protagonist's psychological journey and internal conflicts.\\n\\n2. The antagonist's psychological motivations and flaws.\\n\\n3. The novel's exploration of existential themes.\\n\\n4. The influence of secondary characters on the protagonist's development.\\n\\n5. The setting's role in reflecting the protagonist's inner turmoil.\\n\\n6. The narrative structure and its effect on the pacing of the story.\\n\\n7. The use of literary devices to enhance the thematic depth.\\n\\n8. The author's writing style and its impact on the reader's experience.\\n\\n9. The novel's contribution to the genre and its originality.\\n\\n10. The historical and cultural context of the novel's setting.\\n\\n11. The novel's reception by the public and literary critics.\\n\\n12. The philosophical questions raised by the novel.\\n\\nOnly include phrases that are directly related to the novel's content and not general literary terms.\\n\\nPrioritize phrases that are central to the novel's identity.\\n\\nYou can provide fewer than twelve phrases.\\n\\nvery important\n",
       "3    1. The main character's arc (using no more than three words).\\n\\n2. The antagonist's motivation (using no more than four words).\\n\\n3. The central conflict (using no more than three words).\\n\\n4. The resolution (using no more than three words).\\n\\n5. The setting's influence on the plot (using no more than four words).\\n\\n6. The film's genre (using no more than two words).\\n\\n7. The director's signature style (using no more than four words).\\n\\n8. The movie's impact on society (using no more than three words).\\n\\n9. The critical reception (using no more than four words).\\n\\n10. The film's contribution to the genre (using no more than three words).\\n\\n11. The movie's thematic depth (using no more than four words).\\n\\n12. The cinematography's role (using no more than four words).\\n\\n13. The soundtrack's effect (using no more than four words).\\n\\n14. The movie's cultural significance (using no more than three words).\\n\\n15. The lead actor's performance (using no more than four words).\\n\\n16. The supporting cast's contribution (using no more than four words).\\n\\n17. The movie's influence on future works (using no more than three words).\\n\\n18. The movie's legacy (using no more than four words).\\n\\n19. The movie's relevance to contemporary issues (using no more than four words).\\n\\n20. The movie's educational value (using no more than three words).\\n\\n\\nReturn the analysis as a structured list\n",
       "4                                                                                                                                                                                                                                                                                                                                                                                                                                                                                                                                                                                                                                                                                                                                                                                                                                                                                                                                                                                                                                                                                                                                                                                                                                                                                                                                                    1. The central theme of the movie.\\n\\n2. Key settings that are pivotal to the plot.\\n\\n3. The main character's arc\n",
       "..                                                                                                                                                                                                                                                                                                                                                                                                                                                                                                                                                                                                                                                                                                                                                                                                                                                                                                                                                                                                                                                                                                                                                                                                                                                                                                                                                                                                                                                                  ...\n",
       "178                                                                                                                                                                                                                                                                                                                                                                                                                                                                                                                                                                                                                                                                                                                                                                                                                                                                                                                                                                                                                                                                                                                                                                                                                                                                  1) Return the phrases as a pipe separated list.\\n    2) Return only the list without a heading.\\n    title: The Shawshank Redemption\\n    synopsis: Two imprisoned men bond over a number of years\n",
       "179                                                                                                                                                                                                                                                                                                                                                                                                                                                                                                                                                                                                                                                                                                                                                                                                                                                                                                                                                                                                                                                                                                                                                                                                                                                                                                1) Return the phrases as a pipe separated list.\\n    2) Return only the list without a heading.\\n    title: The Echoes of Time\\n    overview: In \"The Echoes of Time\n",
       "180                                                                                                                                                                                                                                                                                                                                                                                                                                                                                                                                                                                                                                                                                                                                                                                                                                                                                                                                                                                                                                                                                                                                                     1) Return the phrases as a pipe separated list.\\n    2) Return only the list without a heading.\\n    title: The Godfather\\n    overview: The film follows the aging patriarch of an organized crime dynasty as he contemplates relinquishing his empire to his reluctant son. The saga explores themes of power\n",
       "181                                                                                                                                                                                                                                                                                                                                                                                                                                                                                                                                                                                                                                                                                                                                                                                                                                                                      1) Use only one paragraph for each element.\\n\\n2) Include at least two direct quotes from the film to support your analysis.\\n\\n3) Ensure that your essay flows logically from one element to the next.\\n\\n4) Do not exceed 1500 words in total.\\n\\n5) Cite at least three film critics' reviews to support your points.\\n\\n6) Avoid spoilers for those who have not seen the film.\\n\\n7) Use APA citation style for any references.\\n\\n8) Provide a concluding paragraph that synthesizes your overall analysis.\\n\\n\\ntitle: The Shawshank Redemption\\n\\nsynopsis: The story of Andy Dufresne\n",
       "182                                                                                                                                                                                                                                                                                                                                                                                                                                                                                                                                                                                                                                                                                                                   1) Use only the phrases provided in the movie's title and synopsis.\\n\\n2) Do not include any personal opinions or external information not present in the title and synopsis.\\n\\n3) Ensure that your analysis is objective and based solely on the information given.\\n\\n4) Provide citations from the movie's script or dialogue to support your points where applicable.\\n\\n5) The essay should be between 1000-1500 words in length.\\n\\n6) Use formal academic language and adhere to essay writing conventions.\\n\\n7) The essay must be original and not plagiarized.\\n\\n8) Include a bibliography of any sources referenced.\\n\\ntitle: I Wish You Well\\n\\noverview: Jack Gets a mysterious parcel delivered to him by from his ex girlfriend\n",
       "\n",
       "[183 rows x 1 columns]"
      ]
     },
     "execution_count": 157,
     "metadata": {},
     "output_type": "execute_result"
    }
   ],
   "source": [
    "gds.run_cypher(\"\"\"\n",
    "MATCH (t:Theme) WHERE t.description contains \":\\n\" \n",
    "WITH trim(split(t.description, \":\\n\")[1]) AS newDescription, collect(t) AS nodeList\n",
    "CALL apoc.refactor.mergeNodes(nodeList, {properties:\"discard\"}) YIELD node\n",
    "SET node.description = trim(split(node.description, \":\\n\")[1])\n",
    "RETURN node.description AS newDescription\"\"\")"
   ]
  },
  {
   "cell_type": "code",
   "execution_count": 158,
   "id": "4678ca52-fa76-4009-9fcb-e5a76a99c17c",
   "metadata": {},
   "outputs": [
    {
     "data": {
      "text/html": [
       "<div>\n",
       "<style scoped>\n",
       "    .dataframe tbody tr th:only-of-type {\n",
       "        vertical-align: middle;\n",
       "    }\n",
       "\n",
       "    .dataframe tbody tr th {\n",
       "        vertical-align: top;\n",
       "    }\n",
       "\n",
       "    .dataframe thead th {\n",
       "        text-align: right;\n",
       "    }\n",
       "</style>\n",
       "<table border=\"1\" class=\"dataframe\">\n",
       "  <thead>\n",
       "    <tr style=\"text-align: right;\">\n",
       "      <th></th>\n",
       "      <th>count(*)</th>\n",
       "    </tr>\n",
       "  </thead>\n",
       "  <tbody>\n",
       "    <tr>\n",
       "      <th>0</th>\n",
       "      <td>139</td>\n",
       "    </tr>\n",
       "  </tbody>\n",
       "</table>\n",
       "</div>"
      ],
      "text/plain": [
       "   count(*)\n",
       "0       139"
      ]
     },
     "execution_count": 158,
     "metadata": {},
     "output_type": "execute_result"
    }
   ],
   "source": [
    "gds.run_cypher(\"\"\"MATCH (t:Theme)<-[:HAS_THEME]-(m) WHERE t.description CONTAINS \"Return the\" DETACH DELETE m RETURN count(*)\"\"\")"
   ]
  },
  {
   "cell_type": "code",
   "execution_count": 159,
   "id": "3abc457a-be6c-4de6-b517-0eadd504e3c0",
   "metadata": {},
   "outputs": [
    {
     "data": {
      "text/html": [
       "<div>\n",
       "<style scoped>\n",
       "    .dataframe tbody tr th:only-of-type {\n",
       "        vertical-align: middle;\n",
       "    }\n",
       "\n",
       "    .dataframe tbody tr th {\n",
       "        vertical-align: top;\n",
       "    }\n",
       "\n",
       "    .dataframe thead th {\n",
       "        text-align: right;\n",
       "    }\n",
       "</style>\n",
       "<table border=\"1\" class=\"dataframe\">\n",
       "  <thead>\n",
       "    <tr style=\"text-align: right;\">\n",
       "      <th></th>\n",
       "      <th>count(*)</th>\n",
       "    </tr>\n",
       "  </thead>\n",
       "  <tbody>\n",
       "    <tr>\n",
       "      <th>0</th>\n",
       "      <td>1</td>\n",
       "    </tr>\n",
       "  </tbody>\n",
       "</table>\n",
       "</div>"
      ],
      "text/plain": [
       "   count(*)\n",
       "0         1"
      ]
     },
     "execution_count": 159,
     "metadata": {},
     "output_type": "execute_result"
    }
   ],
   "source": [
    "gds.run_cypher(\"\"\"MATCH (t:Theme)<-[:HAS_THEME]-(m) WHERE t.description =~ \".*public figure.*\\..*\\.$\" DETACH DELETE m RETURN count(*)\"\"\")"
   ]
  },
  {
   "cell_type": "markdown",
   "id": "91d7fbbe-f490-43da-be68-ad97f72275c8",
   "metadata": {},
   "source": [
    "Sometimes the LLM delimited the themes with carriage return instead of commas."
   ]
  },
  {
   "cell_type": "code",
   "execution_count": 160,
   "id": "ee859394-eee6-49a1-a5f4-333bbea5845a",
   "metadata": {},
   "outputs": [
    {
     "data": {
      "text/html": [
       "<div>\n",
       "<style scoped>\n",
       "    .dataframe tbody tr th:only-of-type {\n",
       "        vertical-align: middle;\n",
       "    }\n",
       "\n",
       "    .dataframe tbody tr th {\n",
       "        vertical-align: top;\n",
       "    }\n",
       "\n",
       "    .dataframe thead th {\n",
       "        text-align: right;\n",
       "    }\n",
       "</style>\n",
       "<table border=\"1\" class=\"dataframe\">\n",
       "  <thead>\n",
       "    <tr style=\"text-align: right;\">\n",
       "      <th></th>\n",
       "      <th>count(*)</th>\n",
       "    </tr>\n",
       "  </thead>\n",
       "  <tbody>\n",
       "    <tr>\n",
       "      <th>0</th>\n",
       "      <td>2205</td>\n",
       "    </tr>\n",
       "  </tbody>\n",
       "</table>\n",
       "</div>"
      ],
      "text/plain": [
       "   count(*)\n",
       "0      2205"
      ]
     },
     "execution_count": 160,
     "metadata": {},
     "output_type": "execute_result"
    }
   ],
   "source": [
    "gds.run_cypher(\"\"\"\n",
    "    MATCH (t:Theme) WHERE t.description contains \"\\n\" \n",
    "    WITH t, split(t.description, \"\\n\") AS split\n",
    "    UNWIND split AS desc\n",
    "    WITH t, desc\n",
    "    WHERE desc <> \"\"\n",
    "    AND size(desc) <= 50\n",
    "    WITH t, CASE WHEN desc =~ '\\d\\..*' THEN split(desc, \". \")[1] \n",
    "    WHEN desc ENDS WITH \",\" THEN substring(desc, 0, size(desc)-1) ELSE desc END as cleanDesc\n",
    "    MERGE (t2:Theme {description: cleanDesc})\n",
    "    WITH t, t2\n",
    "    MATCH (m:Movie)-[:HAS_THEME]->(t)\n",
    "    MERGE (m)-[:HAS_THEME]->(t2)\n",
    "    DETACH DELETE t\n",
    "    RETURN count(*)\"\"\")"
   ]
  },
  {
   "cell_type": "markdown",
   "id": "81e8fba2-f96e-4289-af11-196ff12c4529",
   "metadata": {},
   "source": [
    "Drop trailing periods unless there is more than one period in the description like \"A.I.\""
   ]
  },
  {
   "cell_type": "code",
   "execution_count": 161,
   "id": "4d125791-654a-4627-8365-e2e62c830823",
   "metadata": {},
   "outputs": [
    {
     "data": {
      "text/html": [
       "<div>\n",
       "<style scoped>\n",
       "    .dataframe tbody tr th:only-of-type {\n",
       "        vertical-align: middle;\n",
       "    }\n",
       "\n",
       "    .dataframe tbody tr th {\n",
       "        vertical-align: top;\n",
       "    }\n",
       "\n",
       "    .dataframe thead th {\n",
       "        text-align: right;\n",
       "    }\n",
       "</style>\n",
       "<table border=\"1\" class=\"dataframe\">\n",
       "  <thead>\n",
       "    <tr style=\"text-align: right;\">\n",
       "      <th></th>\n",
       "      <th>newDescription</th>\n",
       "    </tr>\n",
       "  </thead>\n",
       "  <tbody>\n",
       "    <tr>\n",
       "      <th>0</th>\n",
       "      <td>1</td>\n",
       "    </tr>\n",
       "    <tr>\n",
       "      <th>1</th>\n",
       "      <td>Gustave H</td>\n",
       "    </tr>\n",
       "    <tr>\n",
       "      <th>2</th>\n",
       "      <td>Hollywood</td>\n",
       "    </tr>\n",
       "    <tr>\n",
       "      <th>3</th>\n",
       "      <td>The director's unique style</td>\n",
       "    </tr>\n",
       "    <tr>\n",
       "      <th>4</th>\n",
       "      <td>Vito Corleone</td>\n",
       "    </tr>\n",
       "    <tr>\n",
       "      <th>5</th>\n",
       "      <td>and public figures</td>\n",
       "    </tr>\n",
       "    <tr>\n",
       "      <th>6</th>\n",
       "      <td>film</td>\n",
       "    </tr>\n",
       "    <tr>\n",
       "      <th>7</th>\n",
       "      <td>love</td>\n",
       "    </tr>\n",
       "    <tr>\n",
       "      <th>8</th>\n",
       "      <td>stage</td>\n",
       "    </tr>\n",
       "  </tbody>\n",
       "</table>\n",
       "</div>"
      ],
      "text/plain": [
       "                newDescription\n",
       "0                            1\n",
       "1                    Gustave H\n",
       "2                    Hollywood\n",
       "3  The director's unique style\n",
       "4                Vito Corleone\n",
       "5           and public figures\n",
       "6                         film\n",
       "7                         love\n",
       "8                        stage"
      ]
     },
     "execution_count": 161,
     "metadata": {},
     "output_type": "execute_result"
    }
   ],
   "source": [
    "gds.run_cypher(\"\"\"\n",
    "MATCH (t:Theme) WHERE NOT t.description =~ \".*.*\\..*\\.$\" AND t.description ENDS WITH '.' \n",
    "MATCH (t2:Theme)\n",
    "WHERE trim(t2.description) = substring(t.description, 0, size(t.description)-1)\n",
    "WITH [t2, t] AS nodeList\n",
    "CALL apoc.refactor.mergeNodes(nodeList, {properties:\"discard\"}) YIELD node\n",
    "RETURN node.description AS newDescription\"\"\")\n"
   ]
  },
  {
   "cell_type": "code",
   "execution_count": 162,
   "id": "3ae26ea7-b6ba-4ff0-b6ce-7bc4f4cab742",
   "metadata": {},
   "outputs": [],
   "source": [
    "try:\n",
    "    gds.run_cypher(\"\"\"\n",
    "    MATCH (t:Theme) WHERE NOT t.description =~ \".*.*\\..*\\.$\" AND t.description ENDS WITH '.' \n",
    "    SET t.description = substring(t.description, 0, size(t.description)-1)\n",
    "    RETURN t.description\"\"\")\n",
    "except:\n",
    "    print(\"duplicated constrain\")"
   ]
  },
  {
   "cell_type": "code",
   "execution_count": 163,
   "id": "e77c7453-37ad-4a94-b13a-e239fe5bbc6e",
   "metadata": {},
   "outputs": [],
   "source": [
    "pd.set_option('display.max_colwidth', None)"
   ]
  },
  {
   "cell_type": "markdown",
   "id": "b6eb8f62-b9bd-41c7-856a-42eeb1d0ac3a",
   "metadata": {},
   "source": [
    "We asked the LLM for memorable themes, settings, and public figures. Sometimes those terms came through in the output. Drop those themes."
   ]
  },
  {
   "cell_type": "code",
   "execution_count": 164,
   "id": "75205340-20ad-408e-847c-ec4c5a57df18",
   "metadata": {},
   "outputs": [
    {
     "data": {
      "text/html": [
       "<div>\n",
       "<style scoped>\n",
       "    .dataframe tbody tr th:only-of-type {\n",
       "        vertical-align: middle;\n",
       "    }\n",
       "\n",
       "    .dataframe tbody tr th {\n",
       "        vertical-align: top;\n",
       "    }\n",
       "\n",
       "    .dataframe thead th {\n",
       "        text-align: right;\n",
       "    }\n",
       "</style>\n",
       "<table border=\"1\" class=\"dataframe\">\n",
       "  <thead>\n",
       "    <tr style=\"text-align: right;\">\n",
       "      <th></th>\n",
       "      <th>t.description</th>\n",
       "    </tr>\n",
       "  </thead>\n",
       "  <tbody>\n",
       "    <tr>\n",
       "      <th>0</th>\n",
       "      <td>33) If the movie's public figures</td>\n",
       "    </tr>\n",
       "    <tr>\n",
       "      <th>1</th>\n",
       "      <td>7) If a public figure is a character</td>\n",
       "    </tr>\n",
       "    <tr>\n",
       "      <th>2</th>\n",
       "      <td>If a public figure is mentioned in the title</td>\n",
       "    </tr>\n",
       "    <tr>\n",
       "      <th>3</th>\n",
       "      <td>If the movie features a notable public figure</td>\n",
       "    </tr>\n",
       "    <tr>\n",
       "      <th>4</th>\n",
       "      <td>If the movie involves a public figure</td>\n",
       "    </tr>\n",
       "    <tr>\n",
       "      <th>...</th>\n",
       "      <td>...</td>\n",
       "    </tr>\n",
       "    <tr>\n",
       "      <th>290</th>\n",
       "      <td>using no more than ten one-to-two word phrases.\\n    Include only the names of public figures if they are globally recognized.\\n    Prioritize phrases that are central to the movie's title.\\n    If the movie has a significant cultural impact</td>\n",
       "    </tr>\n",
       "    <tr>\n",
       "      <th>291</th>\n",
       "      <td>which could be a central theme. \"Film\" and \"Data\" are included as they are relevant to the context of a movie. \"Public Figures\" and \"Memorable Themes\" are included as they are part of the instruction. \"Settings\" and \"Important\" are also included as they are relevant to the context of a movie.</td>\n",
       "    </tr>\n",
       "    <tr>\n",
       "      <th>292</th>\n",
       "      <td>which is a common setting for stories involving mystery or surprise. No public figures are mentioned</td>\n",
       "    </tr>\n",
       "    <tr>\n",
       "      <th>293</th>\n",
       "      <td>which is why \"Memorable\" and \"Frightening\" are included. \"Themes\" and \"Settings\" are inferred from the context of a girl playing with a jack-in-the-box</td>\n",
       "    </tr>\n",
       "    <tr>\n",
       "      <th>294</th>\n",
       "      <td>with the title \"A\" prioritized. The public figure \"B\" is included as a placeholder for a potential public figure that might be mentioned in the movie</td>\n",
       "    </tr>\n",
       "  </tbody>\n",
       "</table>\n",
       "<p>295 rows × 1 columns</p>\n",
       "</div>"
      ],
      "text/plain": [
       "                                                                                                                                                                                                                                                                                             t.description\n",
       "0                                                                                                                                                                                                                                                                        33) If the movie's public figures\n",
       "1                                                                                                                                                                                                                                                                     7) If a public figure is a character\n",
       "2                                                                                                                                                                                                                                                             If a public figure is mentioned in the title\n",
       "3                                                                                                                                                                                                                                                            If the movie features a notable public figure\n",
       "4                                                                                                                                                                                                                                                                    If the movie involves a public figure\n",
       "..                                                                                                                                                                                                                                                                                                     ...\n",
       "290                                                      using no more than ten one-to-two word phrases.\\n    Include only the names of public figures if they are globally recognized.\\n    Prioritize phrases that are central to the movie's title.\\n    If the movie has a significant cultural impact\n",
       "291  which could be a central theme. \"Film\" and \"Data\" are included as they are relevant to the context of a movie. \"Public Figures\" and \"Memorable Themes\" are included as they are part of the instruction. \"Settings\" and \"Important\" are also included as they are relevant to the context of a movie.\n",
       "292                                                                                                                                                                                                   which is a common setting for stories involving mystery or surprise. No public figures are mentioned\n",
       "293                                                                                                                                                which is why \"Memorable\" and \"Frightening\" are included. \"Themes\" and \"Settings\" are inferred from the context of a girl playing with a jack-in-the-box\n",
       "294                                                                                                                                                  with the title \"A\" prioritized. The public figure \"B\" is included as a placeholder for a potential public figure that might be mentioned in the movie\n",
       "\n",
       "[295 rows x 1 columns]"
      ]
     },
     "execution_count": 164,
     "metadata": {},
     "output_type": "execute_result"
    }
   ],
   "source": [
    "gds.run_cypher(\"\"\"\n",
    "MATCH (t:Theme) WHERE toLower(t.description) CONTAINS \"memorable themes\" \n",
    "OR toLower(t.description) CONTAINS \"settings\"\n",
    "OR toLower(t.description) CONTAINS \"public figure\"\n",
    "RETURN t.description ORDER BY t.description\"\"\")\n"
   ]
  },
  {
   "cell_type": "code",
   "execution_count": 165,
   "id": "716bfa6a-f1c2-4100-aab6-aeacd25f197b",
   "metadata": {},
   "outputs": [],
   "source": [
    "try:\n",
    "    gds.run_cypher(\"\"\"\n",
    "MATCH (t:Theme) WHERE t.description = \"Public Figures: Jimmy Lloyd\"\n",
    "SET t.description = \"Jimmy Lloyd\" \"\"\")\n",
    "except:\n",
    "    pass"
   ]
  },
  {
   "cell_type": "code",
   "execution_count": 166,
   "id": "b60aba62-429b-4cdd-9b83-25af8af05615",
   "metadata": {},
   "outputs": [
    {
     "data": {
      "text/html": [
       "<div>\n",
       "<style scoped>\n",
       "    .dataframe tbody tr th:only-of-type {\n",
       "        vertical-align: middle;\n",
       "    }\n",
       "\n",
       "    .dataframe tbody tr th {\n",
       "        vertical-align: top;\n",
       "    }\n",
       "\n",
       "    .dataframe thead th {\n",
       "        text-align: right;\n",
       "    }\n",
       "</style>\n",
       "<table border=\"1\" class=\"dataframe\">\n",
       "  <thead>\n",
       "    <tr style=\"text-align: right;\">\n",
       "      <th></th>\n",
       "    </tr>\n",
       "  </thead>\n",
       "  <tbody>\n",
       "  </tbody>\n",
       "</table>\n",
       "</div>"
      ],
      "text/plain": [
       "Empty DataFrame\n",
       "Columns: []\n",
       "Index: []"
      ]
     },
     "execution_count": 166,
     "metadata": {},
     "output_type": "execute_result"
    }
   ],
   "source": [
    "gds.run_cypher(\"\"\"\n",
    "MATCH (t:Theme) WHERE toLower(t.description) CONTAINS \"memorable themes\" \n",
    "OR toLower(t.description) CONTAINS \"settings\"\n",
    "OR toLower(t.description) CONTAINS \"public figure\"\n",
    "DETACH DELETE t\"\"\")\n"
   ]
  },
  {
   "cell_type": "code",
   "execution_count": 167,
   "id": "6fd54855-ecad-4c7d-bf13-fa1abd0dbcb4",
   "metadata": {},
   "outputs": [
    {
     "data": {
      "text/html": [
       "<div>\n",
       "<style scoped>\n",
       "    .dataframe tbody tr th:only-of-type {\n",
       "        vertical-align: middle;\n",
       "    }\n",
       "\n",
       "    .dataframe tbody tr th {\n",
       "        vertical-align: top;\n",
       "    }\n",
       "\n",
       "    .dataframe thead th {\n",
       "        text-align: right;\n",
       "    }\n",
       "</style>\n",
       "<table border=\"1\" class=\"dataframe\">\n",
       "  <thead>\n",
       "    <tr style=\"text-align: right;\">\n",
       "      <th></th>\n",
       "      <th>count(*)</th>\n",
       "    </tr>\n",
       "  </thead>\n",
       "  <tbody>\n",
       "    <tr>\n",
       "      <th>0</th>\n",
       "      <td>151</td>\n",
       "    </tr>\n",
       "  </tbody>\n",
       "</table>\n",
       "</div>"
      ],
      "text/plain": [
       "   count(*)\n",
       "0       151"
      ]
     },
     "execution_count": 167,
     "metadata": {},
     "output_type": "execute_result"
    }
   ],
   "source": [
    "gds.run_cypher(\"\"\"MATCH (t:Theme) WHERE toLower(t.description) CONTAINS \"1)\" DETACH DELETE t RETURN count(*)\"\"\")"
   ]
  },
  {
   "cell_type": "code",
   "execution_count": 168,
   "id": "af9ca5a1-811f-4f57-9e4b-fb6ae125d0a4",
   "metadata": {},
   "outputs": [
    {
     "data": {
      "text/plain": [
       "['    overview: A man with anterograde amnesia',\n",
       " '    overview: Andy Dufresne',\n",
       " '    overview: Clarice Starling',\n",
       " '    overview: Directed by Wes Anderson',\n",
       " '    overview: Florence',\n",
       " '    overview: In \"The Echoes of Time',\n",
       " '    overview: In a dystopian future',\n",
       " '    overview: In a remote cabin in the woods',\n",
       " '    overview: In a small coastal town',\n",
       " '    overview: In a small town']"
      ]
     },
     "execution_count": 168,
     "metadata": {},
     "output_type": "execute_result"
    }
   ],
   "source": [
    "out = gds.run_cypher(\"\"\"MATCH (t:Theme) WHERE toLower(t.description) CONTAINS \"overview\" RETURN t.description AS description\"\"\")['description'].tolist()\n",
    "out[:10]"
   ]
  },
  {
   "cell_type": "code",
   "execution_count": 169,
   "id": "e15f4579-079c-4f2d-bc2c-96ed5554b8e3",
   "metadata": {},
   "outputs": [
    {
     "data": {
      "text/html": [
       "<div>\n",
       "<style scoped>\n",
       "    .dataframe tbody tr th:only-of-type {\n",
       "        vertical-align: middle;\n",
       "    }\n",
       "\n",
       "    .dataframe tbody tr th {\n",
       "        vertical-align: top;\n",
       "    }\n",
       "\n",
       "    .dataframe thead th {\n",
       "        text-align: right;\n",
       "    }\n",
       "</style>\n",
       "<table border=\"1\" class=\"dataframe\">\n",
       "  <thead>\n",
       "    <tr style=\"text-align: right;\">\n",
       "      <th></th>\n",
       "    </tr>\n",
       "  </thead>\n",
       "  <tbody>\n",
       "  </tbody>\n",
       "</table>\n",
       "</div>"
      ],
      "text/plain": [
       "Empty DataFrame\n",
       "Columns: []\n",
       "Index: []"
      ]
     },
     "execution_count": 169,
     "metadata": {},
     "output_type": "execute_result"
    }
   ],
   "source": [
    "gds.run_cypher(\"\"\"MATCH (t:Theme) WHERE toLower(t.description) CONTAINS \"overview\" DETACH DELETE t\"\"\")"
   ]
  },
  {
   "cell_type": "code",
   "execution_count": 170,
   "id": "5e963411-5422-4b6a-a95a-a024ad250899",
   "metadata": {},
   "outputs": [
    {
     "data": {
      "text/plain": [
       "[\"    5) If an element appears in the movie's title\",\n",
       " \"    8) If a phrase is repeated in the film's title\",\n",
       " '    title: *666',\n",
       " '    title: Comic Relief 2024: Funny for Money',\n",
       " '    title: Echoes of the Mind']"
      ]
     },
     "execution_count": 170,
     "metadata": {},
     "output_type": "execute_result"
    }
   ],
   "source": [
    "out = gds.run_cypher(\"\"\"MATCH (t:Theme) WHERE toLower(t.description) CONTAINS \"title\" RETURN t.description AS description\"\"\")['description'].tolist()\n",
    "out[:5]"
   ]
  },
  {
   "cell_type": "code",
   "execution_count": 171,
   "id": "b32cb33c-af15-48ee-b383-1ab1a15a885e",
   "metadata": {},
   "outputs": [
    {
     "data": {
      "text/html": [
       "<div>\n",
       "<style scoped>\n",
       "    .dataframe tbody tr th:only-of-type {\n",
       "        vertical-align: middle;\n",
       "    }\n",
       "\n",
       "    .dataframe tbody tr th {\n",
       "        vertical-align: top;\n",
       "    }\n",
       "\n",
       "    .dataframe thead th {\n",
       "        text-align: right;\n",
       "    }\n",
       "</style>\n",
       "<table border=\"1\" class=\"dataframe\">\n",
       "  <thead>\n",
       "    <tr style=\"text-align: right;\">\n",
       "      <th></th>\n",
       "      <th>deletedCount</th>\n",
       "    </tr>\n",
       "  </thead>\n",
       "  <tbody>\n",
       "    <tr>\n",
       "      <th>0</th>\n",
       "      <td>0</td>\n",
       "    </tr>\n",
       "  </tbody>\n",
       "</table>\n",
       "</div>"
      ],
      "text/plain": [
       "   deletedCount\n",
       "0             0"
      ]
     },
     "execution_count": 171,
     "metadata": {},
     "output_type": "execute_result"
    }
   ],
   "source": [
    "gds.run_cypher(\"\"\"MATCH (t:Theme) \n",
    "WHERE t.description in ['Based on the title \"Zakaria: a Hero in Memory\"',\n",
    " 'Based solely on the title \"ChayaBrikkho\"',\n",
    " 'Based solely on the title \"Good Looking Out\"']\n",
    " DETACH DELETE t RETURN COUNT(*) AS deletedCount\"\"\")"
   ]
  },
  {
   "cell_type": "code",
   "execution_count": 172,
   "id": "3525544f-8045-4701-acea-175c9d7198a9",
   "metadata": {},
   "outputs": [
    {
     "data": {
      "text/plain": [
       "['    12) If a theme is a commentary on society',\n",
       " '    15) If a theme is a moral lesson',\n",
       " '    18) If a theme is a recurring motif',\n",
       " '    24) If a theme is a recurring motif',\n",
       " '    27) If a theme is a commentary on society',\n",
       " '    30) If a theme is a recurring motif',\n",
       " '    33) If a theme is a commentary on society',\n",
       " '    36) If a theme is a recurring motif',\n",
       " '    5) If a theme is complex',\n",
       " \"    6) If a theme is central to the movie's plot\"]"
      ]
     },
     "execution_count": 172,
     "metadata": {},
     "output_type": "execute_result"
    }
   ],
   "source": [
    "out = gds.run_cypher(\"\"\"MATCH (t:Theme) WHERE toLower(t.description) CONTAINS \"theme\" RETURN t.description AS description\"\"\")['description'].tolist()\n",
    "out[:10]"
   ]
  },
  {
   "cell_type": "code",
   "execution_count": 173,
   "id": "09e91988-dc9b-4707-801d-e8238ef7d481",
   "metadata": {},
   "outputs": [
    {
     "data": {
      "text/html": [
       "<div>\n",
       "<style scoped>\n",
       "    .dataframe tbody tr th:only-of-type {\n",
       "        vertical-align: middle;\n",
       "    }\n",
       "\n",
       "    .dataframe tbody tr th {\n",
       "        vertical-align: top;\n",
       "    }\n",
       "\n",
       "    .dataframe thead th {\n",
       "        text-align: right;\n",
       "    }\n",
       "</style>\n",
       "<table border=\"1\" class=\"dataframe\">\n",
       "  <thead>\n",
       "    <tr style=\"text-align: right;\">\n",
       "      <th></th>\n",
       "      <th>deletedCount</th>\n",
       "    </tr>\n",
       "  </thead>\n",
       "  <tbody>\n",
       "    <tr>\n",
       "      <th>0</th>\n",
       "      <td>1</td>\n",
       "    </tr>\n",
       "  </tbody>\n",
       "</table>\n",
       "</div>"
      ],
      "text/plain": [
       "   deletedCount\n",
       "0             1"
      ]
     },
     "execution_count": 173,
     "metadata": {},
     "output_type": "execute_result"
    }
   ],
   "source": [
    "gds.run_cypher(\"\"\"MATCH (t:Theme) \n",
    "WHERE t.description in [\"it's difficult to infer other relevant themes\",\n",
    " \"themes\"]\n",
    " DETACH DELETE t RETURN COUNT(*) AS deletedCount\"\"\")"
   ]
  },
  {
   "cell_type": "code",
   "execution_count": 174,
   "id": "d108439d-fe73-48ba-8c6c-f328302f43ff",
   "metadata": {},
   "outputs": [
    {
     "data": {
      "text/plain": [
       "[\"- Its message remains relevant in today's society\",\n",
       " 'the list includes generic terms that are relevant to the plot.)',\n",
       " 'the list is based on the most relevant and prominent elements mentioned.)',\n",
       " 'which might be relevant to the movie\\'s title or themes. If \"Caixa\" is not a relevant term']"
      ]
     },
     "execution_count": 174,
     "metadata": {},
     "output_type": "execute_result"
    }
   ],
   "source": [
    "out = gds.run_cypher(\"\"\"MATCH (t:Theme) WHERE toLower(t.description) CONTAINS \"relevant\" RETURN t.description AS description\"\"\")['description'].tolist()\n",
    "out[:10]"
   ]
  },
  {
   "cell_type": "code",
   "execution_count": 175,
   "id": "2f604842-b305-4cd1-bb1e-b8f81bf512a4",
   "metadata": {},
   "outputs": [
    {
     "data": {
      "text/html": [
       "<div>\n",
       "<style scoped>\n",
       "    .dataframe tbody tr th:only-of-type {\n",
       "        vertical-align: middle;\n",
       "    }\n",
       "\n",
       "    .dataframe tbody tr th {\n",
       "        vertical-align: top;\n",
       "    }\n",
       "\n",
       "    .dataframe thead th {\n",
       "        text-align: right;\n",
       "    }\n",
       "</style>\n",
       "<table border=\"1\" class=\"dataframe\">\n",
       "  <thead>\n",
       "    <tr style=\"text-align: right;\">\n",
       "      <th></th>\n",
       "      <th>deletedCount</th>\n",
       "    </tr>\n",
       "  </thead>\n",
       "  <tbody>\n",
       "    <tr>\n",
       "      <th>0</th>\n",
       "      <td>0</td>\n",
       "    </tr>\n",
       "  </tbody>\n",
       "</table>\n",
       "</div>"
      ],
      "text/plain": [
       "   deletedCount\n",
       "0             0"
      ]
     },
     "execution_count": 175,
     "metadata": {},
     "output_type": "execute_result"
    }
   ],
   "source": [
    "gds.run_cypher(\"\"\"MATCH (t:Theme) \n",
    "WHERE t.description in ['but more context would be needed to provide additional relevant phrases']\n",
    " DETACH DELETE t RETURN COUNT(*) AS deletedCount\"\"\")"
   ]
  },
  {
   "cell_type": "code",
   "execution_count": 176,
   "id": "45570c1a-7f51-4f3f-8225-30c1974469d2",
   "metadata": {},
   "outputs": [
    {
     "data": {
      "text/plain": [
       "[]"
      ]
     },
     "execution_count": 176,
     "metadata": {},
     "output_type": "execute_result"
    }
   ],
   "source": [
    "gds.run_cypher(\"\"\"MATCH (t:Theme) WHERE toLower(t.description) STARTS WITH \"based\" RETURN t.description AS description\"\"\")['description'].tolist()"
   ]
  },
  {
   "cell_type": "code",
   "execution_count": 177,
   "id": "c2b4eeab-4a8c-430d-8f4e-506f7f5ec78a",
   "metadata": {},
   "outputs": [
    {
     "data": {
      "text/html": [
       "<div>\n",
       "<style scoped>\n",
       "    .dataframe tbody tr th:only-of-type {\n",
       "        vertical-align: middle;\n",
       "    }\n",
       "\n",
       "    .dataframe tbody tr th {\n",
       "        vertical-align: top;\n",
       "    }\n",
       "\n",
       "    .dataframe thead th {\n",
       "        text-align: right;\n",
       "    }\n",
       "</style>\n",
       "<table border=\"1\" class=\"dataframe\">\n",
       "  <thead>\n",
       "    <tr style=\"text-align: right;\">\n",
       "      <th></th>\n",
       "      <th>deletedCount</th>\n",
       "    </tr>\n",
       "  </thead>\n",
       "  <tbody>\n",
       "    <tr>\n",
       "      <th>0</th>\n",
       "      <td>0</td>\n",
       "    </tr>\n",
       "  </tbody>\n",
       "</table>\n",
       "</div>"
      ],
      "text/plain": [
       "   deletedCount\n",
       "0             0"
      ]
     },
     "execution_count": 177,
     "metadata": {},
     "output_type": "execute_result"
    }
   ],
   "source": [
    "gds.run_cypher(\"\"\"MATCH (t:Theme) WHERE toLower(t.description) STARTS WITH \"based\"\n",
    " DETACH DELETE t RETURN COUNT(*) AS deletedCount\"\"\")"
   ]
  },
  {
   "cell_type": "markdown",
   "id": "2ea2cf7c-1896-469f-9aac-60351e01f971",
   "metadata": {},
   "source": [
    "# Generate embeddings\n",
    "Embed the themes for clustering and the movie text for testing RAG."
   ]
  },
  {
   "cell_type": "code",
   "execution_count": 178,
   "id": "a0af334d-d1fb-421a-a5a5-16eae25df1b8",
   "metadata": {},
   "outputs": [],
   "source": [
    "#!pip install --upgrade --quiet  langchain sentence_transformers langchain-huggingface"
   ]
  },
  {
   "cell_type": "code",
   "execution_count": 179,
   "id": "14ab3a60-df30-4536-a17f-e6fc81d8bcd4",
   "metadata": {},
   "outputs": [],
   "source": [
    "from langchain_huggingface import HuggingFaceEmbeddings"
   ]
  },
  {
   "cell_type": "code",
   "execution_count": 180,
   "id": "1c4a11be-74f0-48ec-824e-128e721fa3a6",
   "metadata": {},
   "outputs": [],
   "source": [
    "embeddings = HuggingFaceEmbeddings(model_name = \"sentence-transformers/all-mpnet-base-v2\")"
   ]
  },
  {
   "cell_type": "code",
   "execution_count": 181,
   "id": "8740816c-3b9c-4a43-a258-4fac7fd93bb0",
   "metadata": {},
   "outputs": [],
   "source": [
    "emb= embeddings.embed_documents([\"test de embeddings\"])"
   ]
  },
  {
   "cell_type": "code",
   "execution_count": 182,
   "id": "54c842ee-59d1-4b99-b9b7-c87a58291c9e",
   "metadata": {},
   "outputs": [
    {
     "data": {
      "text/plain": [
       "768"
      ]
     },
     "execution_count": 182,
     "metadata": {},
     "output_type": "execute_result"
    }
   ],
   "source": [
    "len(emb[0])"
   ]
  },
  {
   "cell_type": "code",
   "execution_count": 183,
   "id": "ebeb980a-a197-4396-8c37-3d27853e995b",
   "metadata": {},
   "outputs": [
    {
     "name": "stderr",
     "output_type": "stream",
     "text": [
      "C:\\Users\\User\\.conda\\envs\\neo4j\\Lib\\site-packages\\graphdatascience\\query_runner\\neo4j_query_runner.py:224: RuntimeWarning: One of the property names in your query is not available in the database, make sure you didn't misspell it or that the label is available when you run this statement in your application (the missing property name is: embedding)\n",
      "  warnings.warn(warning)\n"
     ]
    }
   ],
   "source": [
    "themes = gds.run_cypher(\"\"\"\n",
    "                        MATCH (t:Theme)\n",
    "                        WHERE t.embedding IS NULL\n",
    "                        RETURN t.description AS description\"\"\")"
   ]
  },
  {
   "cell_type": "code",
   "execution_count": 184,
   "id": "0962bdc0-4fca-4bcb-926c-aeda0d73c35a",
   "metadata": {},
   "outputs": [],
   "source": [
    "movie_text = gds.run_cypher(\"\"\"\n",
    "MATCH (m:Movie)\n",
    "RETURN m.tmdbId AS id, m.title + \". \" + m.overview AS movieText\"\"\")"
   ]
  },
  {
   "cell_type": "code",
   "execution_count": 185,
   "id": "09afe88c-48ff-4bcf-8923-8c37d82d01a9",
   "metadata": {},
   "outputs": [
    {
     "data": {
      "text/html": [
       "<div>\n",
       "<style scoped>\n",
       "    .dataframe tbody tr th:only-of-type {\n",
       "        vertical-align: middle;\n",
       "    }\n",
       "\n",
       "    .dataframe tbody tr th {\n",
       "        vertical-align: top;\n",
       "    }\n",
       "\n",
       "    .dataframe thead th {\n",
       "        text-align: right;\n",
       "    }\n",
       "</style>\n",
       "<table border=\"1\" class=\"dataframe\">\n",
       "  <thead>\n",
       "    <tr style=\"text-align: right;\">\n",
       "      <th></th>\n",
       "      <th>description</th>\n",
       "    </tr>\n",
       "  </thead>\n",
       "  <tbody>\n",
       "    <tr>\n",
       "      <th>0</th>\n",
       "      <td>- Return only the list without a heading</td>\n",
       "    </tr>\n",
       "    <tr>\n",
       "      <th>1</th>\n",
       "      <td>- Return the list as a pipe-separated list</td>\n",
       "    </tr>\n",
       "    <tr>\n",
       "      <th>2</th>\n",
       "      <td>12) If a theme is a commentary on society</td>\n",
       "    </tr>\n",
       "    <tr>\n",
       "      <th>3</th>\n",
       "      <td>13) If the movie has won any awards</td>\n",
       "    </tr>\n",
       "    <tr>\n",
       "      <th>4</th>\n",
       "      <td>13) The list should not exceed eight elements</td>\n",
       "    </tr>\n",
       "  </tbody>\n",
       "</table>\n",
       "</div>"
      ],
      "text/plain": [
       "                                         description\n",
       "0           - Return only the list without a heading\n",
       "1         - Return the list as a pipe-separated list\n",
       "2          12) If a theme is a commentary on society\n",
       "3                13) If the movie has won any awards\n",
       "4      13) The list should not exceed eight elements"
      ]
     },
     "execution_count": 185,
     "metadata": {},
     "output_type": "execute_result"
    }
   ],
   "source": [
    "themes.head()\n"
   ]
  },
  {
   "cell_type": "code",
   "execution_count": 186,
   "id": "5c800cbc-1b7e-456a-ba95-b1e0ee24adc0",
   "metadata": {},
   "outputs": [
    {
     "data": {
      "text/html": [
       "<div>\n",
       "<style scoped>\n",
       "    .dataframe tbody tr th:only-of-type {\n",
       "        vertical-align: middle;\n",
       "    }\n",
       "\n",
       "    .dataframe tbody tr th {\n",
       "        vertical-align: top;\n",
       "    }\n",
       "\n",
       "    .dataframe thead th {\n",
       "        text-align: right;\n",
       "    }\n",
       "</style>\n",
       "<table border=\"1\" class=\"dataframe\">\n",
       "  <thead>\n",
       "    <tr style=\"text-align: right;\">\n",
       "      <th></th>\n",
       "      <th>id</th>\n",
       "      <th>movieText</th>\n",
       "    </tr>\n",
       "  </thead>\n",
       "  <tbody>\n",
       "    <tr>\n",
       "      <th>0</th>\n",
       "      <td>42050</td>\n",
       "      <td>Seduction: The Cruel Woman. Wanda is a dominatrix who runs a gallery in a building on the Hamburg waterfront, where audiences pay for the privilege of watching her humiliate her slaves. She is a business woman who smashes sexual stereotypes and social taboos with icy self-possession and an enigmatic smile. As artist she specializes in the staging of elaborate BDSM fantasies and her affairs transgress the usual boundaries of personal and professional life. Along the way she leaves her German lesbian lover, a shoe fetishist, for an American \"trainee,\" and does more than step on the toes of the male performer who has broken the rules of the master-slave relationship by falling in love with her.</td>\n",
       "    </tr>\n",
       "    <tr>\n",
       "      <th>1</th>\n",
       "      <td>65456</td>\n",
       "      <td>The Atrocity Exhibition. A doctor in a mental research institution is driven insane by the spectacle of the horrors of the twentieth century.</td>\n",
       "    </tr>\n",
       "    <tr>\n",
       "      <th>2</th>\n",
       "      <td>68621</td>\n",
       "      <td>Serious Mixing (Part 1). Let the legend teach you how to be a DJ, taking you from the most basic level, to the more advanced techniques of how to mix. It features advice from other Serious artists such as Alan Walker, Illenium, Dj Khaled, along with amazing footage from various nights across the country, In the studio, the action is covered from four camera angles, providing the best view, as you are taught the principles of beat matching.</td>\n",
       "    </tr>\n",
       "    <tr>\n",
       "      <th>3</th>\n",
       "      <td>187716</td>\n",
       "      <td>Universal Groove. Filmed in 1999, Universal Groove explores 90s rave culture through eight diverse characters seeking escape and self-discovery amidst drugs and dance, offering a nostalgic journey into the underground party scene of the era.</td>\n",
       "    </tr>\n",
       "    <tr>\n",
       "      <th>4</th>\n",
       "      <td>269579</td>\n",
       "      <td>A Circus Tale &amp; A Love Song. A boy who grew up at the circus decides to leave his old life and go after the love of his life.</td>\n",
       "    </tr>\n",
       "  </tbody>\n",
       "</table>\n",
       "</div>"
      ],
      "text/plain": [
       "       id  \\\n",
       "0   42050   \n",
       "1   65456   \n",
       "2   68621   \n",
       "3  187716   \n",
       "4  269579   \n",
       "\n",
       "                                                                                                                                                                                                                                                                                                                                                                                                                                                                                                                                                                                                                                                                                                                      movieText  \n",
       "0  Seduction: The Cruel Woman. Wanda is a dominatrix who runs a gallery in a building on the Hamburg waterfront, where audiences pay for the privilege of watching her humiliate her slaves. She is a business woman who smashes sexual stereotypes and social taboos with icy self-possession and an enigmatic smile. As artist she specializes in the staging of elaborate BDSM fantasies and her affairs transgress the usual boundaries of personal and professional life. Along the way she leaves her German lesbian lover, a shoe fetishist, for an American \"trainee,\" and does more than step on the toes of the male performer who has broken the rules of the master-slave relationship by falling in love with her.  \n",
       "1                                                                                                                                                                                                                                                                                                                                                                                                                                                                                                                                                                                 The Atrocity Exhibition. A doctor in a mental research institution is driven insane by the spectacle of the horrors of the twentieth century.  \n",
       "2                                                                                                                                                                                                                                                                   Serious Mixing (Part 1). Let the legend teach you how to be a DJ, taking you from the most basic level, to the more advanced techniques of how to mix. It features advice from other Serious artists such as Alan Walker, Illenium, Dj Khaled, along with amazing footage from various nights across the country, In the studio, the action is covered from four camera angles, providing the best view, as you are taught the principles of beat matching.  \n",
       "3                                                                                                                                                                                                                                                                                                                                                                                                                                                                             Universal Groove. Filmed in 1999, Universal Groove explores 90s rave culture through eight diverse characters seeking escape and self-discovery amidst drugs and dance, offering a nostalgic journey into the underground party scene of the era.  \n",
       "4                                                                                                                                                                                                                                                                                                                                                                                                                                                                                                                                                                                                 A Circus Tale & A Love Song. A boy who grew up at the circus decides to leave his old life and go after the love of his life.  "
      ]
     },
     "execution_count": 186,
     "metadata": {},
     "output_type": "execute_result"
    }
   ],
   "source": [
    "movie_text.head()"
   ]
  },
  {
   "cell_type": "markdown",
   "id": "87cc5fbe-a720-432c-a16d-728cac499107",
   "metadata": {},
   "source": [
    "## Create indexes for the vector properties."
   ]
  },
  {
   "cell_type": "code",
   "execution_count": 187,
   "id": "e70e4fe7-dd35-43e0-85dc-3b90fbbaa9c7",
   "metadata": {},
   "outputs": [
    {
     "data": {
      "text/html": [
       "<div>\n",
       "<style scoped>\n",
       "    .dataframe tbody tr th:only-of-type {\n",
       "        vertical-align: middle;\n",
       "    }\n",
       "\n",
       "    .dataframe tbody tr th {\n",
       "        vertical-align: top;\n",
       "    }\n",
       "\n",
       "    .dataframe thead th {\n",
       "        text-align: right;\n",
       "    }\n",
       "</style>\n",
       "<table border=\"1\" class=\"dataframe\">\n",
       "  <thead>\n",
       "    <tr style=\"text-align: right;\">\n",
       "      <th></th>\n",
       "    </tr>\n",
       "  </thead>\n",
       "  <tbody>\n",
       "  </tbody>\n",
       "</table>\n",
       "</div>"
      ],
      "text/plain": [
       "Empty DataFrame\n",
       "Columns: []\n",
       "Index: []"
      ]
     },
     "execution_count": 187,
     "metadata": {},
     "output_type": "execute_result"
    }
   ],
   "source": [
    "gds.run_cypher(\"\"\"CREATE VECTOR INDEX theme_vectors IF NOT EXISTS \n",
    "                  FOR (t:Theme)\n",
    "                  ON (t.embedding)\n",
    "                  OPTIONS {indexConfig: \n",
    "                      {`vector.dimensions`: 768,\n",
    "                       `vector.similarity_function`: 'cosine'\n",
    "                       }}\n",
    "                       \"\"\")"
   ]
  },
  {
   "cell_type": "code",
   "execution_count": 188,
   "id": "8ef363ac-fe42-4cf1-9c0e-bdbc74fabba8",
   "metadata": {},
   "outputs": [
    {
     "data": {
      "text/html": [
       "<div>\n",
       "<style scoped>\n",
       "    .dataframe tbody tr th:only-of-type {\n",
       "        vertical-align: middle;\n",
       "    }\n",
       "\n",
       "    .dataframe tbody tr th {\n",
       "        vertical-align: top;\n",
       "    }\n",
       "\n",
       "    .dataframe thead th {\n",
       "        text-align: right;\n",
       "    }\n",
       "</style>\n",
       "<table border=\"1\" class=\"dataframe\">\n",
       "  <thead>\n",
       "    <tr style=\"text-align: right;\">\n",
       "      <th></th>\n",
       "    </tr>\n",
       "  </thead>\n",
       "  <tbody>\n",
       "  </tbody>\n",
       "</table>\n",
       "</div>"
      ],
      "text/plain": [
       "Empty DataFrame\n",
       "Columns: []\n",
       "Index: []"
      ]
     },
     "execution_count": 188,
     "metadata": {},
     "output_type": "execute_result"
    }
   ],
   "source": [
    "gds.run_cypher(\"\"\"CREATE VECTOR INDEX movie_text_vectors IF NOT EXISTS \n",
    "                  FOR (m:Movie)\n",
    "                  ON (m.embedding)\n",
    "                  OPTIONS {indexConfig: \n",
    "                      {`vector.dimensions`: 768,\n",
    "                       `vector.similarity_function`: 'cosine'\n",
    "                       }}\n",
    "                       \"\"\")"
   ]
  },
  {
   "cell_type": "markdown",
   "id": "5d24772d-0163-4263-b9fd-376962f16eb9",
   "metadata": {},
   "source": [
    "## Send vectors to Neo4j"
   ]
  },
  {
   "cell_type": "code",
   "execution_count": 189,
   "id": "de11c422-e227-42b2-8c2b-aa3e918c227c",
   "metadata": {},
   "outputs": [
    {
     "name": "stdout",
     "output_type": "stream",
     "text": [
      "Finished row 5000.\n",
      "Finished row 10000.\n",
      "Finished row 15000.\n",
      "Finished row 20000.\n",
      "Finished row 25000.\n",
      "Finished row 30000.\n",
      "Finished row 35000.\n",
      "Finished row 40000.\n",
      "Finished row 45000.\n",
      "Finished row 50000.\n",
      "Finished row 55000.\n"
     ]
    }
   ],
   "source": [
    "for i in range(0, int(themes.shape[0]/5000) + 1):\n",
    "    theme_slice = themes.iloc[i*5000:(i+1)*5000].copy()\n",
    "    theme_slice['embedding'] = embeddings.embed_documents(theme_slice['description'].to_list())\n",
    "    gds.run_cypher(\"\"\"\n",
    "        UNWIND $themeData AS d\n",
    "        MATCH (t:Theme {description:d['description']})\n",
    "        CALL db.create.setNodeVectorProperty(t, 'embedding', d['embedding'])\n",
    "        RETURN count(*) AS updateCount\"\"\",\n",
    "                   {'themeData': theme_slice.to_dict('records')})\n",
    "    print(f\"Finished row {(i+1)*5000}.\")"
   ]
  },
  {
   "cell_type": "code",
   "execution_count": 190,
   "id": "6f4028dd-463b-472e-ba7e-0670e8053303",
   "metadata": {},
   "outputs": [
    {
     "name": "stdout",
     "output_type": "stream",
     "text": [
      "Finished row 5000.\n",
      "Finished row 10000.\n",
      "Finished row 15000.\n"
     ]
    }
   ],
   "source": [
    "for i in range(0, int(movie_text.shape[0]/5000) + 1):\n",
    "    movie_slice = movie_text.iloc[i*5000:(i+1)*5000].copy()\n",
    "    movie_slice['embedding'] = embeddings.embed_documents(movie_slice['movieText'].to_list())\n",
    "    gds.run_cypher(\"\"\"\n",
    "        UNWIND $movieData AS d\n",
    "        MATCH (m:Movie {tmdbId:d['id']})\n",
    "        CALL db.create.setNodeVectorProperty(m, 'embedding', d['embedding'])\n",
    "        RETURN count(*) AS updateCount\"\"\",\n",
    "                   {'movieData': movie_slice.to_dict('records')})\n",
    "    print(f\"Finished row {(i+1)*5000}.\")"
   ]
  },
  {
   "cell_type": "code",
   "execution_count": null,
   "id": "63120d17-f387-4d67-8ffa-0f1d73aa48c0",
   "metadata": {},
   "outputs": [],
   "source": []
  }
 ],
 "metadata": {
  "kernelspec": {
   "display_name": "Python (neo4j)",
   "language": "python",
   "name": "neo4j"
  },
  "language_info": {
   "codemirror_mode": {
    "name": "ipython",
    "version": 3
   },
   "file_extension": ".py",
   "mimetype": "text/x-python",
   "name": "python",
   "nbconvert_exporter": "python",
   "pygments_lexer": "ipython3",
   "version": "3.11.9"
  }
 },
 "nbformat": 4,
 "nbformat_minor": 5
}
