{
 "cells": [
  {
   "cell_type": "markdown",
   "id": "f4b12935-365d-427c-8033-6cfe92464515",
   "metadata": {},
   "source": [
    "# Speak with your documents . Extract structured Data\n",
    "\n",
    "- https://python.langchain.com/docs/tutorials/extraction/\n",
    "\n",
    "- https://python.langchain.com/docs/how_to/structured_output/\n",
    "\n",
    "- https://python.langchain.com/docs/how_to/output_parser_structured/\n",
    "\n",
    "- https://api.python.langchain.com/en/latest/core/output_parsers/langchain_core.output_parsers.pydantic.PydanticOutputParser.html"
   ]
  },
  {
   "cell_type": "code",
   "execution_count": 36,
   "id": "2285259d-c4bd-4360-869f-aa7ae32a8407",
   "metadata": {},
   "outputs": [],
   "source": [
    "# ! python -m pip install -r requirements.txt"
   ]
  },
  {
   "cell_type": "code",
   "execution_count": 1,
   "id": "f83f1200-686d-4d50-a072-08632f802c05",
   "metadata": {},
   "outputs": [],
   "source": [
    "import os\n",
    "from dotenv import dotenv_values"
   ]
  },
  {
   "cell_type": "code",
   "execution_count": 2,
   "id": "e95feeed-c048-413b-89de-5c48e4a6c63c",
   "metadata": {},
   "outputs": [],
   "source": [
    "config = dotenv_values(\"./keys/.env\")"
   ]
  },
  {
   "cell_type": "code",
   "execution_count": 3,
   "id": "11ec4941-e188-47be-b7cb-36805dcc0ad7",
   "metadata": {},
   "outputs": [],
   "source": [
    "from dotenv import dotenv_values\n",
    "import json\n",
    "import vertexai\n",
    "from google.oauth2 import service_account\n",
    "from vertexai.generative_models import GenerationConfig, GenerativeModel, Image, Part\n",
    "from langchain_google_genai import ChatGoogleGenerativeAI, GoogleGenerativeAIEmbeddings\n",
    "\n",
    "from langchain_community.document_loaders import PyPDFLoader\n",
    "from langchain.output_parsers import PydanticOutputParser\n",
    "from pydantic import BaseModel, Field\n",
    "from typing import List, Optional\n",
    "import pprint"
   ]
  },
  {
   "cell_type": "code",
   "execution_count": 4,
   "id": "99fe2179-5d2f-4131-ac3e-38ee2d1dfb64",
   "metadata": {},
   "outputs": [
    {
     "name": "stdin",
     "output_type": "stream",
     "text": [
      " ········\n"
     ]
    }
   ],
   "source": [
    "import getpass\n",
    "import os\n",
    "\n",
    "os.environ[\"LANGCHAIN_TRACING_V2\"] = \"true\"\n",
    "os.environ[\"LANGCHAIN_API_KEY\"] = getpass.getpass()"
   ]
  },
  {
   "cell_type": "code",
   "execution_count": 5,
   "id": "4475f782-1013-4cc3-a8c0-04f2ef53e2b8",
   "metadata": {},
   "outputs": [],
   "source": [
    "import pydantic"
   ]
  },
  {
   "cell_type": "code",
   "execution_count": 6,
   "id": "d6b47815-741e-42de-9230-dff86d6d3fc1",
   "metadata": {},
   "outputs": [
    {
     "data": {
      "text/plain": [
       "'2.9.2'"
      ]
     },
     "execution_count": 6,
     "metadata": {},
     "output_type": "execute_result"
    }
   ],
   "source": [
    "pydantic.__version__"
   ]
  },
  {
   "cell_type": "code",
   "execution_count": 7,
   "id": "f16d85de-c89d-4bc3-be00-7f4ed68f886a",
   "metadata": {},
   "outputs": [],
   "source": [
    "\n",
    "with open(\"./keys/complete-tube-421007-208a4862c992.json\") as source:\n",
    "    info = json.load(source)\n",
    "\n",
    "vertex_credentials = service_account.Credentials.from_service_account_info(info)\n",
    "vertexai.init(\n",
    "    project=config[\"PROJECT\"],\n",
    "    location=config[\"REGION\"],\n",
    "    credentials=vertex_credentials,\n",
    ")\n",
    "google_api_key = config[\"GEMINI-API-KEY\"]\n",
    "os.environ[\"GEMINI_API_KEY\"] = google_api_key"
   ]
  },
  {
   "cell_type": "code",
   "execution_count": 41,
   "id": "1675d798-9bd3-459d-b243-1505c6f2f12b",
   "metadata": {},
   "outputs": [],
   "source": [
    "loader = PyPDFLoader(\"data/PArser Source 1.pdf\")\n",
    "pages = loader.load()"
   ]
  },
  {
   "cell_type": "code",
   "execution_count": 52,
   "id": "a06f3ec2-9b8a-4a15-9d8d-82966b6e566a",
   "metadata": {},
   "outputs": [
    {
     "data": {
      "text/plain": [
       "Document(metadata={'source': 'data/PArser Source 1.pdf', 'page': 0}, page_content='Entity Code Entity Name (required) Legal Company Type Type Status Registration Number / Tax ID Incorporation Date Country Region / State Dissolved Date Historical? Registered Office Address Main Address Line 1\\nText (12) Text (160) Text (60) Text (30) Text (30) yyyy-mm-dd yyyy-mm-dd TRUE or FALSE Text (60) Text (60)\\nIRC Holdings Audit Committee Active 123456789 2020-08-08 RU Moscow Oblast FALSE 15 Red Square, Moscow, 101000, Russia 10 Arbat Street, Moscow, 119019, Russia\\nABC Company BCA Company Prior 65545646 2018-07-31 MX Jalisco 2022-07-20 TRUE 789 Avenida Revolución, Mexico City, CDMX 03840, Mexico 456 Calle Insurgentes, Guadalajara, Jalisco 44100, Mexico\\nYuga Studios Committee Active 54646111 2017-04-09 RU Saint Petersburg FALSE 23 Nevsky Prospekt, Saint Petersburg, 191186, Russia 78 Bolshaya Morskaya Street, Saint Petersburg, 190000, Russia\\nPartner Markets Committee Active 2022-08-13 US California FALSE 1600 Pennsylvania Avenue NW, Washington, DC 20500, USA 350 Fifth Avenue, New York, NY 10118, USA\\nCORE Ed. BCA Company Prior 2012-08-24 IT Lombardy 2022-07-12 TRUE Via Roma 34, 00184 Rome, Italy Piazza del Duomo 12, 20121 Milan, Italy\\nTREE Marketing Investment Company Active 416548949 1990-12-14 AR Buenos Aires Province FALSE Av. Corrientes 1234, Buenos Aires, C1043AAJ, Argentina Av. Santa Fe 789, Buenos Aires, C1059ABF, Argentina\\nZova Branch Co. Private Corporation Prior 489894654 1996-04-15 CA Quebec TRUE 1234 Granville Street, Vancouver, BC V6Z 1M4, Canada 567 Rue Sainte-Catherine, Montreal, QC H3B 1B2, Canada\\nCBH Bank Corporation Prior 84849455 2007-03-30 CR San José Province FALSE Avenida Central 45, San José, 10101, Costa Rica Calle 5, Barrio Escalante, San José, 11501, Costa Rica\\nYouthcoin Ltd. Trust Dormant 2013-02-16 UK Greater London 2022-06-14 TRUE 221B Baker Street, London NW1 6XE, United Kingdom 12 Downing Street, London SW1A 2AA, United Kingdom\\nSimplify Corporation Limited Partnership Dormant 2001-06-28 EG Cairo Governorate 2024-07-31 TRUE 5 Al Tahrir Square, Cairo, 11512, Egypt 12 Ramses Street, Giza, 12511, Egypt')"
      ]
     },
     "execution_count": 52,
     "metadata": {},
     "output_type": "execute_result"
    }
   ],
   "source": [
    "pages[0]"
   ]
  },
  {
   "cell_type": "code",
   "execution_count": 9,
   "id": "2e4ff895-3b40-4b13-b0ce-3420047b8e1c",
   "metadata": {},
   "outputs": [],
   "source": [
    "\n",
    "# To help construct our Chat Messages\n",
    "from langchain.schema import HumanMessage\n",
    "from langchain.prompts import PromptTemplate, ChatPromptTemplate, HumanMessagePromptTemplate\n",
    "\n",
    "# To parse outputs and get structured data back\n",
    "from langchain.output_parsers import StructuredOutputParser, ResponseSchema"
   ]
  },
  {
   "cell_type": "code",
   "execution_count": 10,
   "id": "d5bedbe5-6ac3-4d94-b82f-561119cac810",
   "metadata": {},
   "outputs": [
    {
     "data": {
      "text/plain": [
       "1"
      ]
     },
     "execution_count": 10,
     "metadata": {},
     "output_type": "execute_result"
    }
   ],
   "source": [
    "len(pages)"
   ]
  },
  {
   "cell_type": "code",
   "execution_count": 25,
   "id": "6ee36c65-5577-4835-b6c4-43ec8e96a069",
   "metadata": {},
   "outputs": [],
   "source": [
    "from typing import List, Optional\n",
    "\n",
    "from pydantic import BaseModel, Field\n",
    "\n",
    "class EntityDataExtraction(BaseModel):\n",
    "    entity_name: Optional[str] = Field(default=None, description=\"Name of Entity\")\n",
    "    legal_company_type: Optional[str] = Field(default=None, description=\"Legal Company Type\")\n",
    "    status :Optional[str] = Field(default=None, description=\"Status entity\")\n",
    "    registration_number_tax_id: Optional[int] = Field(default=None, description=\"Registration Number or Tax ID. This could be empty\")\n",
    "    incorporation_date: Optional[str] = Field(default=None, description=\"The incorporation Date of the time period in ISO format.\")\n",
    "    country : Optional[str] = Field(default=None, description=\"Country\")\n",
    "    region_state:Optional[str] = Field(default=None, description=\"Region or State\")\n",
    "    dissolved_date: Optional[str] = Field(default=None,  description=\"The Dissolved Date of the time period in ISO format. This could be empty\")\n",
    "    historical : Optional[str] =  Field(default=None, description=\"it is Historical TRUE or FALSE\")\n",
    "    registered_office_address : Optional[str] = Field(default=None, description=\"The Registered Office Address of the company\")\n",
    "    main_address_line : Optional[str] = Field(default=None, description=\"The Main Address Line of the company\")\n",
    "\n",
    "class Data(BaseModel):\n",
    "    \"\"\"Extracted data about Companies.\"\"\"\n",
    "\n",
    "    # Creates a model so that we can extract multiple entities.\n",
    "    companies: List[EntityDataExtraction]\n"
   ]
  },
  {
   "cell_type": "code",
   "execution_count": 26,
   "id": "03304e6e-ad47-42b2-a2e1-66f5234a8595",
   "metadata": {},
   "outputs": [
    {
     "data": {
      "text/plain": [
       "{'properties': {'entity_name': {'anyOf': [{'type': 'string'},\n",
       "    {'type': 'null'}],\n",
       "   'default': None,\n",
       "   'description': 'Name of Entity',\n",
       "   'title': 'Entity Name'},\n",
       "  'legal_company_type': {'anyOf': [{'type': 'string'}, {'type': 'null'}],\n",
       "   'default': None,\n",
       "   'description': 'Legal Company Type',\n",
       "   'title': 'Legal Company Type'},\n",
       "  'status': {'anyOf': [{'type': 'string'}, {'type': 'null'}],\n",
       "   'default': None,\n",
       "   'description': 'Status entity',\n",
       "   'title': 'Status'},\n",
       "  'registration_number_tax_id': {'anyOf': [{'type': 'integer'},\n",
       "    {'type': 'null'}],\n",
       "   'default': None,\n",
       "   'description': 'Registration Number or Tax ID. This could be empty',\n",
       "   'title': 'Registration Number Tax Id'},\n",
       "  'incorporation_date': {'anyOf': [{'type': 'string'}, {'type': 'null'}],\n",
       "   'default': None,\n",
       "   'description': 'The incorporation Date of the time period in ISO format.',\n",
       "   'title': 'Incorporation Date'},\n",
       "  'country': {'anyOf': [{'type': 'string'}, {'type': 'null'}],\n",
       "   'default': None,\n",
       "   'description': 'Country',\n",
       "   'title': 'Country'},\n",
       "  'region_state': {'anyOf': [{'type': 'string'}, {'type': 'null'}],\n",
       "   'default': None,\n",
       "   'description': 'Region or State',\n",
       "   'title': 'Region State'},\n",
       "  'dissolved_date': {'anyOf': [{'type': 'string'}, {'type': 'null'}],\n",
       "   'default': None,\n",
       "   'description': 'The Dissolved Date of the time period in ISO format. This could be empty',\n",
       "   'title': 'Dissolved Date'},\n",
       "  'historical': {'anyOf': [{'type': 'string'}, {'type': 'null'}],\n",
       "   'default': None,\n",
       "   'description': 'it is Historical TRUE or FALSE',\n",
       "   'title': 'Historical'},\n",
       "  'registered_office_address': {'anyOf': [{'type': 'string'},\n",
       "    {'type': 'null'}],\n",
       "   'default': None,\n",
       "   'description': 'The Registered Office Address of the company',\n",
       "   'title': 'Registered Office Address'},\n",
       "  'main_address_line': {'anyOf': [{'type': 'string'}, {'type': 'null'}],\n",
       "   'default': None,\n",
       "   'description': 'The Main Address Line of the company',\n",
       "   'title': 'Main Address Line'}},\n",
       " 'title': 'EntityDataExtraction',\n",
       " 'type': 'object'}"
      ]
     },
     "execution_count": 26,
     "metadata": {},
     "output_type": "execute_result"
    }
   ],
   "source": [
    "EntityDataExtraction.schema()"
   ]
  },
  {
   "cell_type": "code",
   "execution_count": 37,
   "id": "e0809fa5-3e85-48ea-955c-ac140671664a",
   "metadata": {},
   "outputs": [],
   "source": [
    "\n",
    "data = {\n",
    "    \"description\": \"Company registry Information.\",\n",
    "    \"schema\": EntityDataExtraction.schema(),\n",
    "    \"instruction\": (\n",
    "        \"Extract data according to the schema \"\n",
    "\n",
    "    )\n",
    "}"
   ]
  },
  {
   "cell_type": "code",
   "execution_count": 38,
   "id": "6a50b342-4164-4231-a6fe-be0c3ef0f7eb",
   "metadata": {},
   "outputs": [],
   "source": [
    "\n",
    "# Instantiate the parser with the new model.\n",
    "parser = PydanticOutputParser(pydantic_object=EntityDataExtraction)\n",
    "\n",
    "# Update the prompt to match the new query and desired format.\n",
    "prompt = ChatPromptTemplate(\n",
    "    messages=[\n",
    "        HumanMessagePromptTemplate.from_template(\n",
    "            \"Answer the users question as best as possible about the name of the company Requested.\\n{format_instructions}\\n{question}\"\n",
    "        )\n",
    "    ],\n",
    "    input_variables=[\"question\"],\n",
    "    partial_variables={\n",
    "        \"format_instructions\": parser.get_format_instructions(),\n",
    "    },\n",
    ")"
   ]
  },
  {
   "cell_type": "code",
   "execution_count": 53,
   "id": "07d1eacd-a70f-4c72-b4b9-a2af0c38c10d",
   "metadata": {},
   "outputs": [
    {
     "data": {
      "text/plain": [
       "'The output should be formatted as a JSON instance that conforms to the JSON schema below.\\n\\nAs an example, for the schema {\"properties\": {\"foo\": {\"title\": \"Foo\", \"description\": \"a list of strings\", \"type\": \"array\", \"items\": {\"type\": \"string\"}}}, \"required\": [\"foo\"]}\\nthe object {\"foo\": [\"bar\", \"baz\"]} is a well-formatted instance of the schema. The object {\"properties\": {\"foo\": [\"bar\", \"baz\"]}} is not well-formatted.\\n\\nHere is the output schema:\\n```\\n{\"properties\": {\"entity_name\": {\"anyOf\": [{\"type\": \"string\"}, {\"type\": \"null\"}], \"default\": null, \"description\": \"Name of Entity\", \"title\": \"Entity Name\"}, \"legal_company_type\": {\"anyOf\": [{\"type\": \"string\"}, {\"type\": \"null\"}], \"default\": null, \"description\": \"Legal Company Type\", \"title\": \"Legal Company Type\"}, \"status\": {\"anyOf\": [{\"type\": \"string\"}, {\"type\": \"null\"}], \"default\": null, \"description\": \"Status entity\", \"title\": \"Status\"}, \"registration_number_tax_id\": {\"anyOf\": [{\"type\": \"integer\"}, {\"type\": \"null\"}], \"default\": null, \"description\": \"Registration Number or Tax ID. This could be empty\", \"title\": \"Registration Number Tax Id\"}, \"incorporation_date\": {\"anyOf\": [{\"type\": \"string\"}, {\"type\": \"null\"}], \"default\": null, \"description\": \"The incorporation Date of the time period in ISO format.\", \"title\": \"Incorporation Date\"}, \"country\": {\"anyOf\": [{\"type\": \"string\"}, {\"type\": \"null\"}], \"default\": null, \"description\": \"Country\", \"title\": \"Country\"}, \"region_state\": {\"anyOf\": [{\"type\": \"string\"}, {\"type\": \"null\"}], \"default\": null, \"description\": \"Region or State\", \"title\": \"Region State\"}, \"dissolved_date\": {\"anyOf\": [{\"type\": \"string\"}, {\"type\": \"null\"}], \"default\": null, \"description\": \"The Dissolved Date of the time period in ISO format. This could be empty\", \"title\": \"Dissolved Date\"}, \"historical\": {\"anyOf\": [{\"type\": \"string\"}, {\"type\": \"null\"}], \"default\": null, \"description\": \"it is Historical TRUE or FALSE\", \"title\": \"Historical\"}, \"registered_office_address\": {\"anyOf\": [{\"type\": \"string\"}, {\"type\": \"null\"}], \"default\": null, \"description\": \"The Registered Office Address of the company\", \"title\": \"Registered Office Address\"}, \"main_address_line\": {\"anyOf\": [{\"type\": \"string\"}, {\"type\": \"null\"}], \"default\": null, \"description\": \"The Main Address Line of the company\", \"title\": \"Main Address Line\"}}}\\n```'"
      ]
     },
     "execution_count": 53,
     "metadata": {},
     "output_type": "execute_result"
    }
   ],
   "source": [
    "parser.get_format_instructions()"
   ]
  },
  {
   "cell_type": "code",
   "execution_count": 54,
   "id": "10150aa7-7eeb-418b-b7b8-bcfeb9fda18e",
   "metadata": {},
   "outputs": [],
   "source": [
    "model = ChatGoogleGenerativeAI(\n",
    "                    model=\"gemini-1.5-pro-001\", credentials=vertex_credentials\n",
    "                )"
   ]
  },
  {
   "cell_type": "code",
   "execution_count": 55,
   "id": "2a5e5eed-05de-44cd-8686-21fa692a8a2d",
   "metadata": {},
   "outputs": [
    {
     "name": "stdout",
     "output_type": "stream",
     "text": [
      "EntityDataExtraction(entity_name='Yuga Studios', legal_company_type='Committee', status='Active', registration_number_tax_id=54646111, incorporation_date='2017-04-09', country='RU', region_state='Saint Petersburg', dissolved_date=None, historical='FALSE', registered_office_address='23 Nevsky Prospekt, Saint Petersburg, 191186, Russia', main_address_line='78 Bolshaya Morskaya Street, Saint Petersburg, 190000, Russia')\n"
     ]
    }
   ],
   "source": [
    "document_query = \"Extract information of company Yuga Studios from this document report: \" + pages[0].page_content\n",
    "\n",
    "_input = prompt.format_prompt(question=document_query)\n",
    "output = model.invoke(_input.to_messages())\n",
    "parsed = parser.parse(output.content)\n",
    "\n",
    "pprint.pprint(parsed)"
   ]
  },
  {
   "cell_type": "code",
   "execution_count": 56,
   "id": "34c4dc63-8632-4fb4-9ab7-832dabb6dd3d",
   "metadata": {},
   "outputs": [
    {
     "data": {
      "text/plain": [
       "{'entity_name': 'Yuga Studios',\n",
       " 'legal_company_type': 'Committee',\n",
       " 'status': 'Active',\n",
       " 'registration_number_tax_id': 54646111,\n",
       " 'incorporation_date': '2017-04-09',\n",
       " 'country': 'RU',\n",
       " 'region_state': 'Saint Petersburg',\n",
       " 'dissolved_date': None,\n",
       " 'historical': 'FALSE',\n",
       " 'registered_office_address': '23 Nevsky Prospekt, Saint Petersburg, 191186, Russia',\n",
       " 'main_address_line': '78 Bolshaya Morskaya Street, Saint Petersburg, 190000, Russia'}"
      ]
     },
     "execution_count": 56,
     "metadata": {},
     "output_type": "execute_result"
    }
   ],
   "source": [
    "json.loads(parsed.json())"
   ]
  },
  {
   "cell_type": "code",
   "execution_count": 49,
   "id": "7cd6dca0-f7a5-426f-a488-5d619aa1c8b9",
   "metadata": {},
   "outputs": [
    {
     "data": {
      "text/plain": [
       "'```json\\n{\"entity_name\": \"Yuga Studios\", \"legal_company_type\": \"Committee\", \"status\": \"Active\", \"registration_number_tax_id\": 54646111, \"incorporation_date\": \"2017-04-09\", \"country\": \"RU\", \"region_state\": \"Saint Petersburg\", \"dissolved_date\": null, \"historical\": \"FALSE\", \"registered_office_address\": \"23 Nevsky Prospekt, Saint Petersburg, 191186, Russia\", \"main_address_line\": \"78 Bolshaya Morskaya Street, Saint Petersburg, 190000, Russia\"}\\n```'"
      ]
     },
     "execution_count": 49,
     "metadata": {},
     "output_type": "execute_result"
    }
   ],
   "source": [
    "output.content"
   ]
  },
  {
   "cell_type": "code",
   "execution_count": 57,
   "id": "e38140f8-dde5-4917-9499-4b6025b6715d",
   "metadata": {},
   "outputs": [
    {
     "name": "stdout",
     "output_type": "stream",
     "text": [
      "EntityDataExtraction(entity_name='Youthcoin Ltd.', legal_company_type='Trust', status='Dormant', registration_number_tax_id=None, incorporation_date='2013-02-16', country='UK', region_state='Greater London', dissolved_date='2022-06-14', historical='TRUE', registered_office_address='221B Baker Street, London NW1 6XE, United Kingdom', main_address_line='12 Downing Street, London SW1A 2AA, United Kingdom')\n"
     ]
    }
   ],
   "source": [
    "document_query = \"Extract information of company 'Youthcoin Ltd' from this document report: \" + pages[0].page_content\n",
    "\n",
    "_input = prompt.format_prompt(question=document_query)\n",
    "output = model.invoke(_input.to_messages())\n",
    "parsed = parser.parse(output.content)\n",
    "\n",
    "pprint.pprint(parsed)"
   ]
  },
  {
   "cell_type": "code",
   "execution_count": 58,
   "id": "d114dc81-0a54-465d-b47d-2206e4170988",
   "metadata": {},
   "outputs": [
    {
     "data": {
      "text/plain": [
       "{'entity_name': 'Youthcoin Ltd.',\n",
       " 'legal_company_type': 'Trust',\n",
       " 'status': 'Dormant',\n",
       " 'registration_number_tax_id': None,\n",
       " 'incorporation_date': '2013-02-16',\n",
       " 'country': 'UK',\n",
       " 'region_state': 'Greater London',\n",
       " 'dissolved_date': '2022-06-14',\n",
       " 'historical': 'TRUE',\n",
       " 'registered_office_address': '221B Baker Street, London NW1 6XE, United Kingdom',\n",
       " 'main_address_line': '12 Downing Street, London SW1A 2AA, United Kingdom'}"
      ]
     },
     "execution_count": 58,
     "metadata": {},
     "output_type": "execute_result"
    }
   ],
   "source": [
    "json.loads(parsed.json())"
   ]
  },
  {
   "cell_type": "markdown",
   "id": "ac84ac9a-c929-4cb7-963b-29c2d1fe6376",
   "metadata": {},
   "source": [
    "# Multiple Objects (Under Construction)"
   ]
  },
  {
   "cell_type": "code",
   "execution_count": 28,
   "id": "e07b6512-cfd8-42f3-84ba-0d3e57a04d66",
   "metadata": {},
   "outputs": [],
   "source": [
    "# prompt2 = ChatPromptTemplate.from_messages(\n",
    "#     [\n",
    "#         (\n",
    "#             \"system\",\n",
    "#             \"You are an expert extraction algorithm. \"\n",
    "#             \"Only extract relevant information from the text. \"\n",
    "#             \"If you do not know the value of an attribute asked to extract, \"\n",
    "#             \"return null for the attribute's value.\",\n",
    "#         ),\n",
    "#         # Please see the how-to about improving performance with\n",
    "#         # reference examples.\n",
    "#         # MessagesPlaceholder('examples'),\n",
    "#         (\"human\", \"{text}\"),\n",
    "#     ]\n",
    "# )"
   ]
  },
  {
   "cell_type": "code",
   "execution_count": 29,
   "id": "98137901-5b94-45de-89b1-a35c398a68e4",
   "metadata": {},
   "outputs": [],
   "source": [
    "# runnable = prompt2 | model.with_structured_output(schema=Data)"
   ]
  },
  {
   "cell_type": "code",
   "execution_count": 27,
   "id": "1768a9c8-2991-4d08-9cc9-7ec9112571df",
   "metadata": {},
   "outputs": [],
   "source": [
    "# runnable.invoke({\"text\": pages[0].page_content})"
   ]
  },
  {
   "cell_type": "code",
   "execution_count": null,
   "id": "8f98875f-5a0b-4598-8aa6-ecfa5317c5ff",
   "metadata": {},
   "outputs": [],
   "source": []
  }
 ],
 "metadata": {
  "kernelspec": {
   "display_name": "Python (rag)",
   "language": "python",
   "name": "rag"
  },
  "language_info": {
   "codemirror_mode": {
    "name": "ipython",
    "version": 3
   },
   "file_extension": ".py",
   "mimetype": "text/x-python",
   "name": "python",
   "nbconvert_exporter": "python",
   "pygments_lexer": "ipython3",
   "version": "3.11.10"
  }
 },
 "nbformat": 4,
 "nbformat_minor": 5
}
