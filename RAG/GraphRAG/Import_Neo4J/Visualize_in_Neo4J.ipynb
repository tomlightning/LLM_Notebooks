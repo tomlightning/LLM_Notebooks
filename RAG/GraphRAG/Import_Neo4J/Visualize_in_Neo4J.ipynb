{
 "cells": [
  {
   "cell_type": "code",
   "execution_count": 1,
   "id": "13611493-f2fa-483f-ad33-4191053cfe54",
   "metadata": {},
   "outputs": [
    {
     "name": "stdout",
     "output_type": "stream",
     "text": [
      "Note: you may need to restart the kernel to use updated packages.\n"
     ]
    }
   ],
   "source": [
    "%pip install --quiet pandas neo4j-rust-ext"
   ]
  },
  {
   "cell_type": "markdown",
   "id": "0d61330d-e987-4623-91a0-0e536d1e8b7f",
   "metadata": {},
   "source": [
    "#### Issues with connection to local\n",
    "https://neo4j.com/developer/kb/resolve-python-bolt-driver-error-connection/#:~:text=There%20are%20two%20options%20to%20resolve%20this%3A%20Either,uri%20%3D%20%22bolt%3A%2F%2F127.0.0.1%3A7687%22%20driver%20%3D%20GraphDatabase.driver%28uri%2C%20auth%3D%28%22neo4j%22%2C%20%22Password%22%29%29"
   ]
  },
  {
   "cell_type": "code",
   "execution_count": 1,
   "id": "400af8dc-5043-4ae0-9b6f-063c14a5e751",
   "metadata": {},
   "outputs": [],
   "source": [
    "import time\n",
    "\n",
    "import pandas as pd\n",
    "from neo4j import GraphDatabase"
   ]
  },
  {
   "cell_type": "code",
   "execution_count": 2,
   "id": "93718d32-51e6-4f65-b558-f9e00e0fdd37",
   "metadata": {},
   "outputs": [],
   "source": [
    "NEO4J_URI = \"neo4j://localhost\"  # or neo4j+s://xxxx.databases.neo4j.io\n",
    "NEO4J_USERNAME = \"neo4j\"\n",
    "NEO4J_PASSWORD = \"\"  # your password\n",
    "NEO4J_DATABASE = \"neo4j\"\n",
    "\n",
    "# Create a Neo4j driver\n",
    "driver = GraphDatabase.driver(NEO4J_URI, auth=(NEO4J_USERNAME, NEO4J_PASSWORD))"
   ]
  },
  {
   "cell_type": "code",
   "execution_count": 3,
   "id": "580e0492-e90a-420f-b1b4-809787114b11",
   "metadata": {},
   "outputs": [
    {
     "data": {
      "text/plain": [
       "EagerResult(records=[<Record name='neo4j' type='standard' aliases=[] access='read-write' address='localhost:7687' role='primary' writer=True requestedStatus='online' currentStatus='online' statusMessage='' default=True home=True constituents=[]>, <Record name='system' type='system' aliases=[] access='read-write' address='localhost:7687' role='primary' writer=True requestedStatus='online' currentStatus='online' statusMessage='' default=False home=False constituents=[]>], summary=<neo4j._work.summary.ResultSummary object at 0x000001E791A51F90>, keys=['name', 'type', 'aliases', 'access', 'address', 'role', 'writer', 'requestedStatus', 'currentStatus', 'statusMessage', 'default', 'home', 'constituents'])"
      ]
     },
     "execution_count": 3,
     "metadata": {},
     "output_type": "execute_result"
    }
   ],
   "source": [
    "driver.execute_query(\"show databases;\")"
   ]
  },
  {
   "cell_type": "code",
   "execution_count": 9,
   "id": "c5fa02fe-5dda-4fa6-ae3d-93d91a35529b",
   "metadata": {},
   "outputs": [
    {
     "data": {
      "text/plain": [
       "'D:\\\\repos\\\\graphrag'"
      ]
     },
     "execution_count": 9,
     "metadata": {},
     "output_type": "execute_result"
    }
   ],
   "source": [
    "import os\n",
    "ROOT_DIR = os.getcwd()\n",
    "ROOT_DIR"
   ]
  },
  {
   "cell_type": "code",
   "execution_count": 10,
   "id": "c7bb92f6-f44c-4e31-8258-258ae298b3c1",
   "metadata": {},
   "outputs": [],
   "source": [
    "GRAPHRAG_FOLDER = \"graphrag_index/output/20241013-183801/artifacts\""
   ]
  },
  {
   "cell_type": "markdown",
   "id": "44ccc537-35e7-4785-a6b5-cd609f318f51",
   "metadata": {},
   "source": [
    "# Batched Import\n",
    "The batched import function takes a Cypher insert statement (needs to use the variable value for the row) and a dataframe to import. It will send by default 1k rows at a time as query parameter to the database to be inserted."
   ]
  },
  {
   "cell_type": "code",
   "execution_count": 5,
   "id": "d1d8ca9e-aed3-40a5-a055-59c4833e4f23",
   "metadata": {},
   "outputs": [],
   "source": [
    "def batched_import(statement, df, batch_size=1000):\n",
    "    \"\"\"\n",
    "    Import a dataframe into Neo4j using a batched approach.\n",
    "\n",
    "    Parameters: statement is the Cypher query to execute, df is the dataframe to import, and batch_size is the number of rows to import in each batch.\n",
    "    \"\"\"\n",
    "    total = len(df)\n",
    "    start_s = time.time()\n",
    "    for start in range(0, total, batch_size):\n",
    "        batch = df.iloc[start : min(start + batch_size, total)]\n",
    "        result = driver.execute_query(\n",
    "            \"UNWIND $rows AS value \" + statement,\n",
    "            rows=batch.to_dict(\"records\"),\n",
    "            database_=NEO4J_DATABASE,\n",
    "        )\n",
    "        print(result.summary.counters)\n",
    "    print(f\"{total} rows in {time.time() - start_s} s.\")\n",
    "    return total"
   ]
  },
  {
   "cell_type": "markdown",
   "id": "36421cc3-5cb9-42fa-99b8-5ad9a3fd69a3",
   "metadata": {},
   "source": [
    "# Indexes and Constraints\n",
    "Indexes in Neo4j are only used to find the starting points for graph queries, e.g. quickly finding two nodes to connect. Constraints exist to avoid duplicates, we create them mostly on id's of Entity types.\n",
    "\n",
    "We use some Types as markers with two underscores before and after to distinguish them from the actual entity types.\n",
    "\n",
    "The default relationship type here is RELATED but we could also infer a real relationship-type from the description or the types of the start and end-nodes.\n",
    "\n",
    "```\n",
    "__Entity__\n",
    "__Document__\n",
    "__Chunk__\n",
    "__Community__\n",
    "__Covariate__\n",
    "\n",
    "```"
   ]
  },
  {
   "cell_type": "code",
   "execution_count": 6,
   "id": "67b4ce2c-2f79-43b0-83d3-ec11ce29b641",
   "metadata": {},
   "outputs": [
    {
     "name": "stdout",
     "output_type": "stream",
     "text": [
      "\n",
      "create constraint chunk_id if not exists for (c:__Chunk__) require c.id is unique\n",
      "\n",
      "create constraint document_id if not exists for (d:__Document__) require d.id is unique\n",
      "\n",
      "create constraint entity_id if not exists for (c:__Community__) require c.community is unique\n",
      "\n",
      "create constraint entity_id if not exists for (e:__Entity__) require e.id is unique\n",
      "\n",
      "create constraint entity_title if not exists for (e:__Entity__) require e.name is unique\n",
      "\n",
      "create constraint entity_title if not exists for (e:__Covariate__) require e.title is unique\n",
      "\n",
      "create constraint related_id if not exists for ()-[rel:RELATED]->() require rel.id is unique\n"
     ]
    }
   ],
   "source": [
    "# create constraints, idempotent operation\n",
    "\n",
    "statements = \"\"\"\n",
    "create constraint chunk_id if not exists for (c:__Chunk__) require c.id is unique;\n",
    "create constraint document_id if not exists for (d:__Document__) require d.id is unique;\n",
    "create constraint entity_id if not exists for (c:__Community__) require c.community is unique;\n",
    "create constraint entity_id if not exists for (e:__Entity__) require e.id is unique;\n",
    "create constraint entity_title if not exists for (e:__Entity__) require e.name is unique;\n",
    "create constraint entity_title if not exists for (e:__Covariate__) require e.title is unique;\n",
    "create constraint related_id if not exists for ()-[rel:RELATED]->() require rel.id is unique;\n",
    "\"\"\".split(\";\")\n",
    "\n",
    "for statement in statements:\n",
    "    if len((statement or \"\").strip()) > 0:\n",
    "        print(statement)\n",
    "        driver.execute_query(statement)"
   ]
  },
  {
   "cell_type": "markdown",
   "id": "8804007e-720e-4388-a465-355d70a1a8ba",
   "metadata": {},
   "source": [
    "# Import Process\n",
    "### Importing the Documents\n",
    "We're loading the parquet file for the documents and create nodes with their ids and add the title property. We don't need to store text_unit_ids as we can create the relationships and the text content is also contained in the chunks."
   ]
  },
  {
   "cell_type": "code",
   "execution_count": 11,
   "id": "c61414c6-3ccd-47ca-a67d-67f1646f5cbc",
   "metadata": {},
   "outputs": [
    {
     "data": {
      "text/html": [
       "<div>\n",
       "<style scoped>\n",
       "    .dataframe tbody tr th:only-of-type {\n",
       "        vertical-align: middle;\n",
       "    }\n",
       "\n",
       "    .dataframe tbody tr th {\n",
       "        vertical-align: top;\n",
       "    }\n",
       "\n",
       "    .dataframe thead th {\n",
       "        text-align: right;\n",
       "    }\n",
       "</style>\n",
       "<table border=\"1\" class=\"dataframe\">\n",
       "  <thead>\n",
       "    <tr style=\"text-align: right;\">\n",
       "      <th></th>\n",
       "      <th>id</th>\n",
       "      <th>title</th>\n",
       "    </tr>\n",
       "  </thead>\n",
       "  <tbody>\n",
       "    <tr>\n",
       "      <th>0</th>\n",
       "      <td>a8e86e4eb56075ab3a7ef61716a89e63</td>\n",
       "      <td>book.txt</td>\n",
       "    </tr>\n",
       "  </tbody>\n",
       "</table>\n",
       "</div>"
      ],
      "text/plain": [
       "                                 id     title\n",
       "0  a8e86e4eb56075ab3a7ef61716a89e63  book.txt"
      ]
     },
     "execution_count": 11,
     "metadata": {},
     "output_type": "execute_result"
    }
   ],
   "source": [
    "doc_df = pd.read_parquet(\n",
    "    f\"{GRAPHRAG_FOLDER}/create_final_documents.parquet\", columns=[\"id\", \"title\"]\n",
    ")\n",
    "doc_df.head(2)"
   ]
  },
  {
   "cell_type": "code",
   "execution_count": 12,
   "id": "48bb6ac1-f1f0-4d4a-b8c4-fed00e3c2e11",
   "metadata": {},
   "outputs": [
    {
     "name": "stdout",
     "output_type": "stream",
     "text": [
      "{'_contains_updates': True, 'labels_added': 1, 'nodes_created': 1, 'properties_set': 2}\n",
      "1 rows in 0.9639983177185059 s.\n"
     ]
    },
    {
     "data": {
      "text/plain": [
       "1"
      ]
     },
     "execution_count": 12,
     "metadata": {},
     "output_type": "execute_result"
    }
   ],
   "source": [
    "# Import documents\n",
    "statement = \"\"\"\n",
    "MERGE (d:__Document__ {id:value.id})\n",
    "SET d += value {.title}\n",
    "\"\"\"\n",
    "\n",
    "batched_import(statement, doc_df)"
   ]
  },
  {
   "cell_type": "markdown",
   "id": "c01faf48-4f79-44bc-bbb8-7359a375458f",
   "metadata": {},
   "source": [
    "# Loading Text Units\n",
    "We load the text units, create a node per id and set the text and number of tokens. Then we connect them to the documents that we created before."
   ]
  },
  {
   "cell_type": "code",
   "execution_count": 14,
   "id": "ffea34ff-6dd3-4172-b6cc-edca27ac47b3",
   "metadata": {},
   "outputs": [
    {
     "data": {
      "text/html": [
       "<div>\n",
       "<style scoped>\n",
       "    .dataframe tbody tr th:only-of-type {\n",
       "        vertical-align: middle;\n",
       "    }\n",
       "\n",
       "    .dataframe tbody tr th {\n",
       "        vertical-align: top;\n",
       "    }\n",
       "\n",
       "    .dataframe thead th {\n",
       "        text-align: right;\n",
       "    }\n",
       "</style>\n",
       "<table border=\"1\" class=\"dataframe\">\n",
       "  <thead>\n",
       "    <tr style=\"text-align: right;\">\n",
       "      <th></th>\n",
       "      <th>id</th>\n",
       "      <th>text</th>\n",
       "      <th>n_tokens</th>\n",
       "      <th>document_ids</th>\n",
       "    </tr>\n",
       "  </thead>\n",
       "  <tbody>\n",
       "    <tr>\n",
       "      <th>0</th>\n",
       "      <td>3a765e78bbe9953c33030edec77489ab</td>\n",
       "      <td>Project Gutenberg eBook of The Great Gatsby\\n ...</td>\n",
       "      <td>1200</td>\n",
       "      <td>[a8e86e4eb56075ab3a7ef61716a89e63]</td>\n",
       "    </tr>\n",
       "    <tr>\n",
       "      <th>1</th>\n",
       "      <td>8185e9ebc4df48f58fc509947870d49d</td>\n",
       "      <td>5, just a quarter of\\na century after my fathe...</td>\n",
       "      <td>1200</td>\n",
       "      <td>[a8e86e4eb56075ab3a7ef61716a89e63]</td>\n",
       "    </tr>\n",
       "    <tr>\n",
       "      <th>2</th>\n",
       "      <td>2611fae4b169a75b2f59911eabd6b01c</td>\n",
       "      <td>dinner with the Tom\\nBuchanans. Daisy was my ...</td>\n",
       "      <td>1200</td>\n",
       "      <td>[a8e86e4eb56075ab3a7ef61716a89e63]</td>\n",
       "    </tr>\n",
       "    <tr>\n",
       "      <th>3</th>\n",
       "      <td>229aa7c469dadb63b7280786e10d588c</td>\n",
       "      <td>end of the divan, completely motionless, and ...</td>\n",
       "      <td>1200</td>\n",
       "      <td>[a8e86e4eb56075ab3a7ef61716a89e63]</td>\n",
       "    </tr>\n",
       "    <tr>\n",
       "      <th>4</th>\n",
       "      <td>3fafa1a846a8fa6c642a4591309a0329</td>\n",
       "      <td>enderly, languidly, their hands set lightly on...</td>\n",
       "      <td>1200</td>\n",
       "      <td>[a8e86e4eb56075ab3a7ef61716a89e63]</td>\n",
       "    </tr>\n",
       "  </tbody>\n",
       "</table>\n",
       "</div>"
      ],
      "text/plain": [
       "                                 id  \\\n",
       "0  3a765e78bbe9953c33030edec77489ab   \n",
       "1  8185e9ebc4df48f58fc509947870d49d   \n",
       "2  2611fae4b169a75b2f59911eabd6b01c   \n",
       "3  229aa7c469dadb63b7280786e10d588c   \n",
       "4  3fafa1a846a8fa6c642a4591309a0329   \n",
       "\n",
       "                                                text  n_tokens  \\\n",
       "0  Project Gutenberg eBook of The Great Gatsby\\n ...      1200   \n",
       "1  5, just a quarter of\\na century after my fathe...      1200   \n",
       "2   dinner with the Tom\\nBuchanans. Daisy was my ...      1200   \n",
       "3   end of the divan, completely motionless, and ...      1200   \n",
       "4  enderly, languidly, their hands set lightly on...      1200   \n",
       "\n",
       "                         document_ids  \n",
       "0  [a8e86e4eb56075ab3a7ef61716a89e63]  \n",
       "1  [a8e86e4eb56075ab3a7ef61716a89e63]  \n",
       "2  [a8e86e4eb56075ab3a7ef61716a89e63]  \n",
       "3  [a8e86e4eb56075ab3a7ef61716a89e63]  \n",
       "4  [a8e86e4eb56075ab3a7ef61716a89e63]  "
      ]
     },
     "execution_count": 14,
     "metadata": {},
     "output_type": "execute_result"
    }
   ],
   "source": [
    "text_df = pd.read_parquet(\n",
    "    f\"{GRAPHRAG_FOLDER}/create_final_text_units.parquet\",\n",
    "    columns=[\"id\", \"text\", \"n_tokens\", \"document_ids\"],\n",
    ")\n",
    "text_df.head(5)"
   ]
  },
  {
   "cell_type": "code",
   "execution_count": 15,
   "id": "0dcc666b-951d-43f5-a6db-0dd6da2f9033",
   "metadata": {},
   "outputs": [
    {
     "name": "stdout",
     "output_type": "stream",
     "text": [
      "{'_contains_updates': True, 'labels_added': 64, 'relationships_created': 64, 'nodes_created': 64, 'properties_set': 192}\n",
      "64 rows in 0.5630002021789551 s.\n"
     ]
    },
    {
     "data": {
      "text/plain": [
       "64"
      ]
     },
     "execution_count": 15,
     "metadata": {},
     "output_type": "execute_result"
    }
   ],
   "source": [
    "statement = \"\"\"\n",
    "MERGE (c:__Chunk__ {id:value.id})\n",
    "SET c += value {.text, .n_tokens}\n",
    "WITH c, value\n",
    "UNWIND value.document_ids AS document\n",
    "MATCH (d:__Document__ {id:document})\n",
    "MERGE (c)-[:PART_OF]->(d)\n",
    "\"\"\"\n",
    "\n",
    "batched_import(statement, text_df)"
   ]
  },
  {
   "cell_type": "markdown",
   "id": "41acb1a4-5fcd-491d-8258-67ab9a0c399b",
   "metadata": {},
   "source": [
    "# Loading Nodes\n",
    "For the nodes we store id, name, description, embedding (if available), human readable id."
   ]
  },
  {
   "cell_type": "code",
   "execution_count": 16,
   "id": "3349e003-ca05-44ed-8591-cce2d0a5e303",
   "metadata": {},
   "outputs": [
    {
     "data": {
      "text/html": [
       "<div>\n",
       "<style scoped>\n",
       "    .dataframe tbody tr th:only-of-type {\n",
       "        vertical-align: middle;\n",
       "    }\n",
       "\n",
       "    .dataframe tbody tr th {\n",
       "        vertical-align: top;\n",
       "    }\n",
       "\n",
       "    .dataframe thead th {\n",
       "        text-align: right;\n",
       "    }\n",
       "</style>\n",
       "<table border=\"1\" class=\"dataframe\">\n",
       "  <thead>\n",
       "    <tr style=\"text-align: right;\">\n",
       "      <th></th>\n",
       "      <th>name</th>\n",
       "      <th>type</th>\n",
       "      <th>description</th>\n",
       "      <th>human_readable_id</th>\n",
       "      <th>id</th>\n",
       "      <th>description_embedding</th>\n",
       "      <th>text_unit_ids</th>\n",
       "    </tr>\n",
       "  </thead>\n",
       "  <tbody>\n",
       "    <tr>\n",
       "      <th>0</th>\n",
       "      <td>\"PROJECT GUTENBERG\"</td>\n",
       "      <td>\"ORGANIZATION\"</td>\n",
       "      <td>Project Gutenberg is an organization founded b...</td>\n",
       "      <td>0</td>\n",
       "      <td>b45241d70f0e43fca764df95b2b81f77</td>\n",
       "      <td>[-0.02540149912238121, 0.02343343384563923, 0....</td>\n",
       "      <td>[3a765e78bbe9953c33030edec77489ab, 4d72b9e64b1...</td>\n",
       "    </tr>\n",
       "    <tr>\n",
       "      <th>1</th>\n",
       "      <td>\"THE GREAT GATSBY\"</td>\n",
       "      <td>\"EVENT\"</td>\n",
       "      <td>\"The Great Gatsby\" is a novel authored by F. S...</td>\n",
       "      <td>1</td>\n",
       "      <td>4119fd06010c494caa07f439b333f4c5</td>\n",
       "      <td>[-0.007354388944804668, 0.019090116024017334, ...</td>\n",
       "      <td>[3a765e78bbe9953c33030edec77489ab, 4fa7ef9cb03...</td>\n",
       "    </tr>\n",
       "    <tr>\n",
       "      <th>2</th>\n",
       "      <td>\"F. SCOTT FITZGERALD\"</td>\n",
       "      <td>\"PERSON\"</td>\n",
       "      <td>F. Scott Fitzgerald is the renowned author of ...</td>\n",
       "      <td>2</td>\n",
       "      <td>d3835bf3dda84ead99deadbeac5d0d7d</td>\n",
       "      <td>[-0.0035111212637275457, 0.015590156428515911,...</td>\n",
       "      <td>[3a765e78bbe9953c33030edec77489ab, 4fa7ef9cb03...</td>\n",
       "    </tr>\n",
       "    <tr>\n",
       "      <th>3</th>\n",
       "      <td>\"UNITED STATES\"</td>\n",
       "      <td>\"GEO\"</td>\n",
       "      <td>The United States is highlighted as the primar...</td>\n",
       "      <td>3</td>\n",
       "      <td>077d2820ae1845bcbb1803379a3d1eae</td>\n",
       "      <td>[-0.006668029818683863, 0.013017659075558186, ...</td>\n",
       "      <td>[3a765e78bbe9953c33030edec77489ab, df3c422bf52...</td>\n",
       "    </tr>\n",
       "    <tr>\n",
       "      <th>4</th>\n",
       "      <td>\"ALEX CABAL\"</td>\n",
       "      <td>\"PERSON\"</td>\n",
       "      <td>\"Alex Cabal is credited with producing the eBo...</td>\n",
       "      <td>4</td>\n",
       "      <td>3671ea0dd4e84c1a9b02c5ab2c8f4bac</td>\n",
       "      <td>[-0.007399603258818388, 0.004413312766700983, ...</td>\n",
       "      <td>[3a765e78bbe9953c33030edec77489ab]</td>\n",
       "    </tr>\n",
       "  </tbody>\n",
       "</table>\n",
       "</div>"
      ],
      "text/plain": [
       "                    name            type  \\\n",
       "0    \"PROJECT GUTENBERG\"  \"ORGANIZATION\"   \n",
       "1     \"THE GREAT GATSBY\"         \"EVENT\"   \n",
       "2  \"F. SCOTT FITZGERALD\"        \"PERSON\"   \n",
       "3        \"UNITED STATES\"           \"GEO\"   \n",
       "4           \"ALEX CABAL\"        \"PERSON\"   \n",
       "\n",
       "                                         description  human_readable_id  \\\n",
       "0  Project Gutenberg is an organization founded b...                  0   \n",
       "1  \"The Great Gatsby\" is a novel authored by F. S...                  1   \n",
       "2  F. Scott Fitzgerald is the renowned author of ...                  2   \n",
       "3  The United States is highlighted as the primar...                  3   \n",
       "4  \"Alex Cabal is credited with producing the eBo...                  4   \n",
       "\n",
       "                                 id  \\\n",
       "0  b45241d70f0e43fca764df95b2b81f77   \n",
       "1  4119fd06010c494caa07f439b333f4c5   \n",
       "2  d3835bf3dda84ead99deadbeac5d0d7d   \n",
       "3  077d2820ae1845bcbb1803379a3d1eae   \n",
       "4  3671ea0dd4e84c1a9b02c5ab2c8f4bac   \n",
       "\n",
       "                               description_embedding  \\\n",
       "0  [-0.02540149912238121, 0.02343343384563923, 0....   \n",
       "1  [-0.007354388944804668, 0.019090116024017334, ...   \n",
       "2  [-0.0035111212637275457, 0.015590156428515911,...   \n",
       "3  [-0.006668029818683863, 0.013017659075558186, ...   \n",
       "4  [-0.007399603258818388, 0.004413312766700983, ...   \n",
       "\n",
       "                                       text_unit_ids  \n",
       "0  [3a765e78bbe9953c33030edec77489ab, 4d72b9e64b1...  \n",
       "1  [3a765e78bbe9953c33030edec77489ab, 4fa7ef9cb03...  \n",
       "2  [3a765e78bbe9953c33030edec77489ab, 4fa7ef9cb03...  \n",
       "3  [3a765e78bbe9953c33030edec77489ab, df3c422bf52...  \n",
       "4                 [3a765e78bbe9953c33030edec77489ab]  "
      ]
     },
     "execution_count": 16,
     "metadata": {},
     "output_type": "execute_result"
    }
   ],
   "source": [
    "entity_df = pd.read_parquet(\n",
    "    f\"{GRAPHRAG_FOLDER}/create_final_entities.parquet\",\n",
    "    columns=[\n",
    "        \"name\",\n",
    "        \"type\",\n",
    "        \"description\",\n",
    "        \"human_readable_id\",\n",
    "        \"id\",\n",
    "        \"description_embedding\",\n",
    "        \"text_unit_ids\",\n",
    "    ],\n",
    ")\n",
    "entity_df.head(5)"
   ]
  },
  {
   "cell_type": "code",
   "execution_count": 17,
   "id": "eddf8832-dea3-48e7-8e43-c0df7b41f19e",
   "metadata": {},
   "outputs": [
    {
     "name": "stdout",
     "output_type": "stream",
     "text": [
      "{'_contains_updates': True, 'labels_added': 341, 'relationships_created': 994, 'nodes_created': 341, 'properties_set': 1364}\n",
      "341 rows in 5.973997354507446 s.\n"
     ]
    },
    {
     "data": {
      "text/plain": [
       "341"
      ]
     },
     "execution_count": 17,
     "metadata": {},
     "output_type": "execute_result"
    }
   ],
   "source": [
    "entity_statement = \"\"\"\n",
    "MERGE (e:__Entity__ {id:value.id})\n",
    "SET e += value {.human_readable_id, .description, name:replace(value.name,'\"','')}\n",
    "WITH e, value\n",
    "CALL db.create.setNodeVectorProperty(e, \"description_embedding\", value.description_embedding)\n",
    "CALL apoc.create.addLabels(e, case when coalesce(value.type,\"\") = \"\" then [] else [apoc.text.upperCamelCase(replace(value.type,'\"',''))] end) yield node\n",
    "UNWIND value.text_unit_ids AS text_unit\n",
    "MATCH (c:__Chunk__ {id:text_unit})\n",
    "MERGE (c)-[:HAS_ENTITY]->(e)\n",
    "\"\"\"\n",
    "\n",
    "batched_import(entity_statement, entity_df)"
   ]
  },
  {
   "cell_type": "markdown",
   "id": "0e92abb9-dc84-4552-be8f-6261a60fd1c7",
   "metadata": {},
   "source": [
    "# Import Relationships\n",
    "For the relationships we find the source and target node by name, using the base __Entity__ type. After creating the RELATED relationships, we set the description as attribute."
   ]
  },
  {
   "cell_type": "code",
   "execution_count": 18,
   "id": "a7ea4d29-ba15-40ee-9182-7d9f205c0b54",
   "metadata": {},
   "outputs": [
    {
     "data": {
      "text/html": [
       "<div>\n",
       "<style scoped>\n",
       "    .dataframe tbody tr th:only-of-type {\n",
       "        vertical-align: middle;\n",
       "    }\n",
       "\n",
       "    .dataframe tbody tr th {\n",
       "        vertical-align: top;\n",
       "    }\n",
       "\n",
       "    .dataframe thead th {\n",
       "        text-align: right;\n",
       "    }\n",
       "</style>\n",
       "<table border=\"1\" class=\"dataframe\">\n",
       "  <thead>\n",
       "    <tr style=\"text-align: right;\">\n",
       "      <th></th>\n",
       "      <th>source</th>\n",
       "      <th>target</th>\n",
       "      <th>id</th>\n",
       "      <th>rank</th>\n",
       "      <th>weight</th>\n",
       "      <th>human_readable_id</th>\n",
       "      <th>description</th>\n",
       "      <th>text_unit_ids</th>\n",
       "    </tr>\n",
       "  </thead>\n",
       "  <tbody>\n",
       "    <tr>\n",
       "      <th>0</th>\n",
       "      <td>\"PROJECT GUTENBERG\"</td>\n",
       "      <td>\"THE GREAT GATSBY\"</td>\n",
       "      <td>2fb66f9a0de6406d83b61742a3b52cd6</td>\n",
       "      <td>17</td>\n",
       "      <td>1.0</td>\n",
       "      <td>0</td>\n",
       "      <td>\"Project Gutenberg has made 'The Great Gatsby'...</td>\n",
       "      <td>[3a765e78bbe9953c33030edec77489ab]</td>\n",
       "    </tr>\n",
       "    <tr>\n",
       "      <th>1</th>\n",
       "      <td>\"PROJECT GUTENBERG\"</td>\n",
       "      <td>\"PROJECT GUTENBERG AUSTRALIA\"</td>\n",
       "      <td>b0e6cfd979ea48b997019b059999d3c2</td>\n",
       "      <td>10</td>\n",
       "      <td>1.0</td>\n",
       "      <td>1</td>\n",
       "      <td>\"Project Gutenberg Australia operates as a par...</td>\n",
       "      <td>[3a765e78bbe9953c33030edec77489ab]</td>\n",
       "    </tr>\n",
       "    <tr>\n",
       "      <th>2</th>\n",
       "      <td>\"PROJECT GUTENBERG\"</td>\n",
       "      <td>\"THE PROJECT GUTENBERG LITERARY ARCHIVE FOUNDA...</td>\n",
       "      <td>ef00ec3a324f4f5986141401002af3f6</td>\n",
       "      <td>10</td>\n",
       "      <td>1.0</td>\n",
       "      <td>2</td>\n",
       "      <td>\"Project Gutenberg's electronic works are owne...</td>\n",
       "      <td>[df3c422bf520d888d06d2ebc04c77453]</td>\n",
       "    </tr>\n",
       "    <tr>\n",
       "      <th>3</th>\n",
       "      <td>\"PROJECT GUTENBERG\"</td>\n",
       "      <td>\"UNITED STATES\"</td>\n",
       "      <td>a542fd7aed7341468028928937ea2983</td>\n",
       "      <td>10</td>\n",
       "      <td>1.0</td>\n",
       "      <td>3</td>\n",
       "      <td>\"Project Gutenberg's activities, particularly ...</td>\n",
       "      <td>[df3c422bf520d888d06d2ebc04c77453]</td>\n",
       "    </tr>\n",
       "    <tr>\n",
       "      <th>4</th>\n",
       "      <td>\"PROJECT GUTENBERG\"</td>\n",
       "      <td>\"PROJECT GUTENBERG LITERARY ARCHIVE FOUNDATION\"</td>\n",
       "      <td>1c5e296a5ac541c1b5cac4357537c22d</td>\n",
       "      <td>10</td>\n",
       "      <td>2.0</td>\n",
       "      <td>4</td>\n",
       "      <td>The Project Gutenberg Literary Archive Foundat...</td>\n",
       "      <td>[4d72b9e64b16c757a763b3bd66422a1f, 903cdd5308f...</td>\n",
       "    </tr>\n",
       "  </tbody>\n",
       "</table>\n",
       "</div>"
      ],
      "text/plain": [
       "                source                                             target  \\\n",
       "0  \"PROJECT GUTENBERG\"                                 \"THE GREAT GATSBY\"   \n",
       "1  \"PROJECT GUTENBERG\"                      \"PROJECT GUTENBERG AUSTRALIA\"   \n",
       "2  \"PROJECT GUTENBERG\"  \"THE PROJECT GUTENBERG LITERARY ARCHIVE FOUNDA...   \n",
       "3  \"PROJECT GUTENBERG\"                                    \"UNITED STATES\"   \n",
       "4  \"PROJECT GUTENBERG\"    \"PROJECT GUTENBERG LITERARY ARCHIVE FOUNDATION\"   \n",
       "\n",
       "                                 id  rank  weight human_readable_id  \\\n",
       "0  2fb66f9a0de6406d83b61742a3b52cd6    17     1.0                 0   \n",
       "1  b0e6cfd979ea48b997019b059999d3c2    10     1.0                 1   \n",
       "2  ef00ec3a324f4f5986141401002af3f6    10     1.0                 2   \n",
       "3  a542fd7aed7341468028928937ea2983    10     1.0                 3   \n",
       "4  1c5e296a5ac541c1b5cac4357537c22d    10     2.0                 4   \n",
       "\n",
       "                                         description  \\\n",
       "0  \"Project Gutenberg has made 'The Great Gatsby'...   \n",
       "1  \"Project Gutenberg Australia operates as a par...   \n",
       "2  \"Project Gutenberg's electronic works are owne...   \n",
       "3  \"Project Gutenberg's activities, particularly ...   \n",
       "4  The Project Gutenberg Literary Archive Foundat...   \n",
       "\n",
       "                                       text_unit_ids  \n",
       "0                 [3a765e78bbe9953c33030edec77489ab]  \n",
       "1                 [3a765e78bbe9953c33030edec77489ab]  \n",
       "2                 [df3c422bf520d888d06d2ebc04c77453]  \n",
       "3                 [df3c422bf520d888d06d2ebc04c77453]  \n",
       "4  [4d72b9e64b16c757a763b3bd66422a1f, 903cdd5308f...  "
      ]
     },
     "execution_count": 18,
     "metadata": {},
     "output_type": "execute_result"
    }
   ],
   "source": [
    "rel_df = pd.read_parquet(\n",
    "    f\"{GRAPHRAG_FOLDER}/create_final_relationships.parquet\",\n",
    "    columns=[\n",
    "        \"source\",\n",
    "        \"target\",\n",
    "        \"id\",\n",
    "        \"rank\",\n",
    "        \"weight\",\n",
    "        \"human_readable_id\",\n",
    "        \"description\",\n",
    "        \"text_unit_ids\",\n",
    "    ],\n",
    ")\n",
    "rel_df.head(5)"
   ]
  },
  {
   "cell_type": "code",
   "execution_count": 19,
   "id": "ede8de77-72b2-4d5d-a145-3de4f507afe6",
   "metadata": {},
   "outputs": [
    {
     "name": "stdout",
     "output_type": "stream",
     "text": [
      "{'_contains_updates': True, 'relationships_created': 307, 'properties_set': 1842}\n",
      "307 rows in 0.6770002841949463 s.\n"
     ]
    },
    {
     "data": {
      "text/plain": [
       "307"
      ]
     },
     "execution_count": 19,
     "metadata": {},
     "output_type": "execute_result"
    }
   ],
   "source": [
    "rel_statement = \"\"\"\n",
    "    MATCH (source:__Entity__ {name:replace(value.source,'\"','')})\n",
    "    MATCH (target:__Entity__ {name:replace(value.target,'\"','')})\n",
    "    // not necessary to merge on id as there is only one relationship per pair\n",
    "    MERGE (source)-[rel:RELATED {id: value.id}]->(target)\n",
    "    SET rel += value {.rank, .weight, .human_readable_id, .description, .text_unit_ids}\n",
    "    RETURN count(*) as createdRels\n",
    "\"\"\"\n",
    "\n",
    "batched_import(rel_statement, rel_df)"
   ]
  },
  {
   "cell_type": "markdown",
   "id": "bbbbc040-8e35-4c6c-a819-d02ac1cacc38",
   "metadata": {},
   "source": [
    "# Importing Communities\n",
    "For communities we import their id, title, level. We connect the __Community__ nodes to the start and end nodes of the relationships they refer to.\n",
    "\n",
    "Connecting them to the chunks they orignate from is optional, as the entites are already connected to the chunks."
   ]
  },
  {
   "cell_type": "code",
   "execution_count": 29,
   "id": "22357e62-8f44-4e77-90ca-d57b2859aca4",
   "metadata": {},
   "outputs": [
    {
     "data": {
      "text/html": [
       "<div>\n",
       "<style scoped>\n",
       "    .dataframe tbody tr th:only-of-type {\n",
       "        vertical-align: middle;\n",
       "    }\n",
       "\n",
       "    .dataframe tbody tr th {\n",
       "        vertical-align: top;\n",
       "    }\n",
       "\n",
       "    .dataframe thead th {\n",
       "        text-align: right;\n",
       "    }\n",
       "</style>\n",
       "<table border=\"1\" class=\"dataframe\">\n",
       "  <thead>\n",
       "    <tr style=\"text-align: right;\">\n",
       "      <th></th>\n",
       "      <th>id</th>\n",
       "      <th>level</th>\n",
       "      <th>title</th>\n",
       "      <th>text_unit_ids</th>\n",
       "      <th>relationship_ids</th>\n",
       "    </tr>\n",
       "  </thead>\n",
       "  <tbody>\n",
       "    <tr>\n",
       "      <th>0</th>\n",
       "      <td>3</td>\n",
       "      <td>0</td>\n",
       "      <td>Community 3</td>\n",
       "      <td>[0234fe5533ca5615cc9ea8b3183ca34e,054adb02dc5a...</td>\n",
       "      <td>[423b72bbd56f4caa98f3328202c1c3c9, 5c7ef01f46a...</td>\n",
       "    </tr>\n",
       "    <tr>\n",
       "      <th>1</th>\n",
       "      <td>6</td>\n",
       "      <td>0</td>\n",
       "      <td>Community 6</td>\n",
       "      <td>[054adb02dc5a9c32c7ef0a93ffc89c8d,06b9fca7b967...</td>\n",
       "      <td>[a24e9df02e1b4b43bf6324b039e28285, ab3a5a67132...</td>\n",
       "    </tr>\n",
       "    <tr>\n",
       "      <th>2</th>\n",
       "      <td>1</td>\n",
       "      <td>0</td>\n",
       "      <td>Community 1</td>\n",
       "      <td>[0e8dde4636dc8ed86a68f7cddc60f81c,21e07badfe13...</td>\n",
       "      <td>[93e1d19f9bfa4c6b8962d56d10ea9483, 8046335ba70...</td>\n",
       "    </tr>\n",
       "    <tr>\n",
       "      <th>3</th>\n",
       "      <td>5</td>\n",
       "      <td>0</td>\n",
       "      <td>Community 5</td>\n",
       "      <td>[054adb02dc5a9c32c7ef0a93ffc89c8d,06b9fca7b967...</td>\n",
       "      <td>[fd7d94fbab084bc380480abeef6bfade, cfb915c95ca...</td>\n",
       "    </tr>\n",
       "    <tr>\n",
       "      <th>4</th>\n",
       "      <td>4</td>\n",
       "      <td>0</td>\n",
       "      <td>Community 4</td>\n",
       "      <td>[06b9fca7b9670a65a433359dfa44d92c,0e8dde4636dc...</td>\n",
       "      <td>[fd139ac75b0e4777ab67b7423eaaa37f, a701c349eb7...</td>\n",
       "    </tr>\n",
       "    <tr>\n",
       "      <th>5</th>\n",
       "      <td>7</td>\n",
       "      <td>0</td>\n",
       "      <td>Community 7</td>\n",
       "      <td>[054adb02dc5a9c32c7ef0a93ffc89c8d,06b9fca7b967...</td>\n",
       "      <td>[3cf0ab4cf14e47ddabd49d500a3dc488, a39b72f8921...</td>\n",
       "    </tr>\n",
       "    <tr>\n",
       "      <th>6</th>\n",
       "      <td>2</td>\n",
       "      <td>0</td>\n",
       "      <td>Community 2</td>\n",
       "      <td>[0234fe5533ca5615cc9ea8b3183ca34e,054adb02dc5a...</td>\n",
       "      <td>[dc08f6d7398b4b798a3bdccf508a2ad4, 1c7fd5af8d8...</td>\n",
       "    </tr>\n",
       "    <tr>\n",
       "      <th>7</th>\n",
       "      <td>0</td>\n",
       "      <td>0</td>\n",
       "      <td>Community 0</td>\n",
       "      <td>[2891c0d9362733d2b2f0d9621ea3e4f5,9f4af24426ba...</td>\n",
       "      <td>[e96d3475d43b42a781b297ae7e650afe, d0bfb473fdc...</td>\n",
       "    </tr>\n",
       "    <tr>\n",
       "      <th>8</th>\n",
       "      <td>8</td>\n",
       "      <td>0</td>\n",
       "      <td>Community 8</td>\n",
       "      <td>[4fa7ef9cb033a4220fe2ca8ea404c361,dda932ffa077...</td>\n",
       "      <td>[d7db38bb599c42cab7066f3fdd282282, efd87a59d01...</td>\n",
       "    </tr>\n",
       "    <tr>\n",
       "      <th>9</th>\n",
       "      <td>17</td>\n",
       "      <td>1</td>\n",
       "      <td>Community 17</td>\n",
       "      <td>[0234fe5533ca5615cc9ea8b3183ca34e,054adb02dc5a...</td>\n",
       "      <td>[423b72bbd56f4caa98f3328202c1c3c9, 5c7ef01f46a...</td>\n",
       "    </tr>\n",
       "    <tr>\n",
       "      <th>10</th>\n",
       "      <td>24</td>\n",
       "      <td>1</td>\n",
       "      <td>Community 24</td>\n",
       "      <td>[054adb02dc5a9c32c7ef0a93ffc89c8d,06b9fca7b967...</td>\n",
       "      <td>[a24e9df02e1b4b43bf6324b039e28285, ab3a5a67132...</td>\n",
       "    </tr>\n",
       "    <tr>\n",
       "      <th>11</th>\n",
       "      <td>9</td>\n",
       "      <td>1</td>\n",
       "      <td>Community 9</td>\n",
       "      <td>[0e8dde4636dc8ed86a68f7cddc60f81c,21e07badfe13...</td>\n",
       "      <td>[93e1d19f9bfa4c6b8962d56d10ea9483, 8046335ba70...</td>\n",
       "    </tr>\n",
       "  </tbody>\n",
       "</table>\n",
       "</div>"
      ],
      "text/plain": [
       "    id  level         title  \\\n",
       "0    3      0   Community 3   \n",
       "1    6      0   Community 6   \n",
       "2    1      0   Community 1   \n",
       "3    5      0   Community 5   \n",
       "4    4      0   Community 4   \n",
       "5    7      0   Community 7   \n",
       "6    2      0   Community 2   \n",
       "7    0      0   Community 0   \n",
       "8    8      0   Community 8   \n",
       "9   17      1  Community 17   \n",
       "10  24      1  Community 24   \n",
       "11   9      1   Community 9   \n",
       "\n",
       "                                        text_unit_ids  \\\n",
       "0   [0234fe5533ca5615cc9ea8b3183ca34e,054adb02dc5a...   \n",
       "1   [054adb02dc5a9c32c7ef0a93ffc89c8d,06b9fca7b967...   \n",
       "2   [0e8dde4636dc8ed86a68f7cddc60f81c,21e07badfe13...   \n",
       "3   [054adb02dc5a9c32c7ef0a93ffc89c8d,06b9fca7b967...   \n",
       "4   [06b9fca7b9670a65a433359dfa44d92c,0e8dde4636dc...   \n",
       "5   [054adb02dc5a9c32c7ef0a93ffc89c8d,06b9fca7b967...   \n",
       "6   [0234fe5533ca5615cc9ea8b3183ca34e,054adb02dc5a...   \n",
       "7   [2891c0d9362733d2b2f0d9621ea3e4f5,9f4af24426ba...   \n",
       "8   [4fa7ef9cb033a4220fe2ca8ea404c361,dda932ffa077...   \n",
       "9   [0234fe5533ca5615cc9ea8b3183ca34e,054adb02dc5a...   \n",
       "10  [054adb02dc5a9c32c7ef0a93ffc89c8d,06b9fca7b967...   \n",
       "11  [0e8dde4636dc8ed86a68f7cddc60f81c,21e07badfe13...   \n",
       "\n",
       "                                     relationship_ids  \n",
       "0   [423b72bbd56f4caa98f3328202c1c3c9, 5c7ef01f46a...  \n",
       "1   [a24e9df02e1b4b43bf6324b039e28285, ab3a5a67132...  \n",
       "2   [93e1d19f9bfa4c6b8962d56d10ea9483, 8046335ba70...  \n",
       "3   [fd7d94fbab084bc380480abeef6bfade, cfb915c95ca...  \n",
       "4   [fd139ac75b0e4777ab67b7423eaaa37f, a701c349eb7...  \n",
       "5   [3cf0ab4cf14e47ddabd49d500a3dc488, a39b72f8921...  \n",
       "6   [dc08f6d7398b4b798a3bdccf508a2ad4, 1c7fd5af8d8...  \n",
       "7   [e96d3475d43b42a781b297ae7e650afe, d0bfb473fdc...  \n",
       "8   [d7db38bb599c42cab7066f3fdd282282, efd87a59d01...  \n",
       "9   [423b72bbd56f4caa98f3328202c1c3c9, 5c7ef01f46a...  \n",
       "10  [a24e9df02e1b4b43bf6324b039e28285, ab3a5a67132...  \n",
       "11  [93e1d19f9bfa4c6b8962d56d10ea9483, 8046335ba70...  "
      ]
     },
     "execution_count": 29,
     "metadata": {},
     "output_type": "execute_result"
    }
   ],
   "source": [
    "community_df = pd.read_parquet(\n",
    "    f\"{GRAPHRAG_FOLDER}/create_final_communities.parquet\",\n",
    "    columns=[\"id\", \"level\", \"title\", \"text_unit_ids\", \"relationship_ids\"],\n",
    ")\n",
    "\n",
    "community_df.head(12)"
   ]
  },
  {
   "cell_type": "code",
   "execution_count": 30,
   "id": "ce6285b5-a59d-4a14-bf3c-24a0b11aa9c9",
   "metadata": {},
   "outputs": [
    {
     "data": {
      "text/plain": [
       "37"
      ]
     },
     "execution_count": 30,
     "metadata": {},
     "output_type": "execute_result"
    }
   ],
   "source": [
    "len(community_df)"
   ]
  },
  {
   "cell_type": "code",
   "execution_count": 21,
   "id": "65af5aea-eafe-4856-82d1-7c46d70cd21f",
   "metadata": {},
   "outputs": [
    {
     "name": "stdout",
     "output_type": "stream",
     "text": [
      "{'_contains_updates': True, 'labels_added': 37, 'relationships_created': 750, 'nodes_created': 37, 'properties_set': 111}\n",
      "37 rows in 0.5889999866485596 s.\n"
     ]
    },
    {
     "data": {
      "text/plain": [
       "37"
      ]
     },
     "execution_count": 21,
     "metadata": {},
     "output_type": "execute_result"
    }
   ],
   "source": [
    "statement = \"\"\"\n",
    "MERGE (c:__Community__ {community:value.id})\n",
    "SET c += value {.level, .title}\n",
    "/*\n",
    "UNWIND value.text_unit_ids as text_unit_id\n",
    "MATCH (t:__Chunk__ {id:text_unit_id})\n",
    "MERGE (c)-[:HAS_CHUNK]->(t)\n",
    "WITH distinct c, value\n",
    "*/\n",
    "WITH *\n",
    "UNWIND value.relationship_ids as rel_id\n",
    "MATCH (start:__Entity__)-[:RELATED {id:rel_id}]->(end:__Entity__)\n",
    "MERGE (start)-[:IN_COMMUNITY]->(c)\n",
    "MERGE (end)-[:IN_COMMUNITY]->(c)\n",
    "RETURn count(distinct c) as createdCommunities\n",
    "\"\"\"\n",
    "\n",
    "batched_import(statement, community_df)"
   ]
  },
  {
   "cell_type": "markdown",
   "id": "0676f637-5a52-418a-9dd5-ddf496af64fb",
   "metadata": {},
   "source": [
    "# Importing Community Reports\n",
    "Fo the community reports we create nodes for each communitiy set the id, community, level, title, summary, rank, and rank_explanation and connect them to the entities they are about. For the findings we create the findings in context of the communities."
   ]
  },
  {
   "cell_type": "code",
   "execution_count": 23,
   "id": "64b16c63-1a52-4c72-8480-ec238f84b250",
   "metadata": {},
   "outputs": [
    {
     "data": {
      "text/html": [
       "<div>\n",
       "<style scoped>\n",
       "    .dataframe tbody tr th:only-of-type {\n",
       "        vertical-align: middle;\n",
       "    }\n",
       "\n",
       "    .dataframe tbody tr th {\n",
       "        vertical-align: top;\n",
       "    }\n",
       "\n",
       "    .dataframe thead th {\n",
       "        text-align: right;\n",
       "    }\n",
       "</style>\n",
       "<table border=\"1\" class=\"dataframe\">\n",
       "  <thead>\n",
       "    <tr style=\"text-align: right;\">\n",
       "      <th></th>\n",
       "      <th>id</th>\n",
       "      <th>community</th>\n",
       "      <th>level</th>\n",
       "      <th>title</th>\n",
       "      <th>summary</th>\n",
       "      <th>findings</th>\n",
       "      <th>rank</th>\n",
       "      <th>rank_explanation</th>\n",
       "      <th>full_content</th>\n",
       "    </tr>\n",
       "  </thead>\n",
       "  <tbody>\n",
       "    <tr>\n",
       "      <th>0</th>\n",
       "      <td>6da7e08b-92ff-444c-b65d-ef874cbbf2ac</td>\n",
       "      <td>30</td>\n",
       "      <td>2</td>\n",
       "      <td>The Complex World of Mr. Gatsby and His Quest ...</td>\n",
       "      <td>This report delves into the intricate communit...</td>\n",
       "      <td>[{'explanation': 'Mr. Gatsby's claimed associa...</td>\n",
       "      <td>7.5</td>\n",
       "      <td>The impact severity rating is high due to the ...</td>\n",
       "      <td># The Complex World of Mr. Gatsby and His Ques...</td>\n",
       "    </tr>\n",
       "    <tr>\n",
       "      <th>1</th>\n",
       "      <td>870f9fd9-b14e-4a33-b2d2-e24494711438</td>\n",
       "      <td>31</td>\n",
       "      <td>2</td>\n",
       "      <td>Chicago and Its Central Role in Character Dyna...</td>\n",
       "      <td>This report delves into the intricate relation...</td>\n",
       "      <td>[{'explanation': 'Chicago is depicted as a cen...</td>\n",
       "      <td>7.5</td>\n",
       "      <td>The impact severity rating is relatively high ...</td>\n",
       "      <td># Chicago and Its Central Role in Character Dy...</td>\n",
       "    </tr>\n",
       "    <tr>\n",
       "      <th>2</th>\n",
       "      <td>8753ce48-e3d3-4a33-a773-daa0f39dac51</td>\n",
       "      <td>32</td>\n",
       "      <td>2</td>\n",
       "      <td>The Complex Web of Gatsby and His Circle</td>\n",
       "      <td>This report delves into the intricate relation...</td>\n",
       "      <td>[{'explanation': 'Jay Gatsby's life and action...</td>\n",
       "      <td>7.5</td>\n",
       "      <td>The impact severity rating is high due to the ...</td>\n",
       "      <td># The Complex Web of Gatsby and His Circle\\n\\n...</td>\n",
       "    </tr>\n",
       "    <tr>\n",
       "      <th>3</th>\n",
       "      <td>a52a6c5a-9ca2-496a-8538-c37b85de2ec3</td>\n",
       "      <td>33</td>\n",
       "      <td>2</td>\n",
       "      <td>West Egg: A Tale of New Wealth and Social Aspi...</td>\n",
       "      <td>West Egg serves as a pivotal setting in the na...</td>\n",
       "      <td>[{'explanation': 'West Egg represents the emer...</td>\n",
       "      <td>8.5</td>\n",
       "      <td>The impact severity rating is high due to the ...</td>\n",
       "      <td># West Egg: A Tale of New Wealth and Social As...</td>\n",
       "    </tr>\n",
       "    <tr>\n",
       "      <th>4</th>\n",
       "      <td>c576c7c1-22ec-4be9-b4a3-8f8bacd76543</td>\n",
       "      <td>34</td>\n",
       "      <td>2</td>\n",
       "      <td>Gatsby's Household and Associates</td>\n",
       "      <td>This report delves into the intricate relation...</td>\n",
       "      <td>[{'explanation': 'The Butler emerges as a cent...</td>\n",
       "      <td>7.5</td>\n",
       "      <td>The impact severity rating is relatively high ...</td>\n",
       "      <td># Gatsby's Household and Associates\\n\\nThis re...</td>\n",
       "    </tr>\n",
       "  </tbody>\n",
       "</table>\n",
       "</div>"
      ],
      "text/plain": [
       "                                     id community  level  \\\n",
       "0  6da7e08b-92ff-444c-b65d-ef874cbbf2ac        30      2   \n",
       "1  870f9fd9-b14e-4a33-b2d2-e24494711438        31      2   \n",
       "2  8753ce48-e3d3-4a33-a773-daa0f39dac51        32      2   \n",
       "3  a52a6c5a-9ca2-496a-8538-c37b85de2ec3        33      2   \n",
       "4  c576c7c1-22ec-4be9-b4a3-8f8bacd76543        34      2   \n",
       "\n",
       "                                               title  \\\n",
       "0  The Complex World of Mr. Gatsby and His Quest ...   \n",
       "1  Chicago and Its Central Role in Character Dyna...   \n",
       "2           The Complex Web of Gatsby and His Circle   \n",
       "3  West Egg: A Tale of New Wealth and Social Aspi...   \n",
       "4                  Gatsby's Household and Associates   \n",
       "\n",
       "                                             summary  \\\n",
       "0  This report delves into the intricate communit...   \n",
       "1  This report delves into the intricate relation...   \n",
       "2  This report delves into the intricate relation...   \n",
       "3  West Egg serves as a pivotal setting in the na...   \n",
       "4  This report delves into the intricate relation...   \n",
       "\n",
       "                                            findings  rank  \\\n",
       "0  [{'explanation': 'Mr. Gatsby's claimed associa...   7.5   \n",
       "1  [{'explanation': 'Chicago is depicted as a cen...   7.5   \n",
       "2  [{'explanation': 'Jay Gatsby's life and action...   7.5   \n",
       "3  [{'explanation': 'West Egg represents the emer...   8.5   \n",
       "4  [{'explanation': 'The Butler emerges as a cent...   7.5   \n",
       "\n",
       "                                    rank_explanation  \\\n",
       "0  The impact severity rating is high due to the ...   \n",
       "1  The impact severity rating is relatively high ...   \n",
       "2  The impact severity rating is high due to the ...   \n",
       "3  The impact severity rating is high due to the ...   \n",
       "4  The impact severity rating is relatively high ...   \n",
       "\n",
       "                                        full_content  \n",
       "0  # The Complex World of Mr. Gatsby and His Ques...  \n",
       "1  # Chicago and Its Central Role in Character Dy...  \n",
       "2  # The Complex Web of Gatsby and His Circle\\n\\n...  \n",
       "3  # West Egg: A Tale of New Wealth and Social As...  \n",
       "4  # Gatsby's Household and Associates\\n\\nThis re...  "
      ]
     },
     "execution_count": 23,
     "metadata": {},
     "output_type": "execute_result"
    }
   ],
   "source": [
    "community_report_df = pd.read_parquet(\n",
    "    f\"{GRAPHRAG_FOLDER}/create_final_community_reports.parquet\",\n",
    "    columns=[\n",
    "        \"id\",\n",
    "        \"community\",\n",
    "        \"level\",\n",
    "        \"title\",\n",
    "        \"summary\",\n",
    "        \"findings\",\n",
    "        \"rank\",\n",
    "        \"rank_explanation\",\n",
    "        \"full_content\",\n",
    "    ],\n",
    ")\n",
    "community_report_df.head(5)"
   ]
  },
  {
   "cell_type": "code",
   "execution_count": 24,
   "id": "05b58efb-8353-4ae5-bf4f-2cbe5eba1942",
   "metadata": {},
   "outputs": [
    {
     "name": "stdout",
     "output_type": "stream",
     "text": [
      "{'_contains_updates': True, 'labels_added': 174, 'relationships_created': 174, 'nodes_created': 174, 'properties_set': 744}\n",
      "37 rows in 0.4279968738555908 s.\n"
     ]
    },
    {
     "data": {
      "text/plain": [
       "37"
      ]
     },
     "execution_count": 24,
     "metadata": {},
     "output_type": "execute_result"
    }
   ],
   "source": [
    "# Import communities\n",
    "community_statement = \"\"\"\n",
    "MERGE (c:__Community__ {community:value.community})\n",
    "SET c += value {.level, .title, .rank, .rank_explanation, .full_content, .summary}\n",
    "WITH c, value\n",
    "UNWIND range(0, size(value.findings)-1) AS finding_idx\n",
    "WITH c, value, finding_idx, value.findings[finding_idx] as finding\n",
    "MERGE (c)-[:HAS_FINDING]->(f:Finding {id:finding_idx})\n",
    "SET f += finding\n",
    "\"\"\"\n",
    "batched_import(community_statement, community_report_df)"
   ]
  },
  {
   "cell_type": "markdown",
   "id": "159e1dc0-28b7-4888-a3c0-2a8243e23c92",
   "metadata": {},
   "source": [
    "# Importing Covariates\n",
    "Covariates are for instance claims on entities, we connect them to the chunks where they originate from."
   ]
  },
  {
   "cell_type": "code",
   "execution_count": 26,
   "id": "5c5a4442-a6e1-4d64-9968-f7dfc0bcede3",
   "metadata": {},
   "outputs": [],
   "source": [
    "# cov_df = (pd.read_parquet(f\"{GRAPHRAG_FOLDER}/create_final_covariates.parquet\"),)\n",
    "#                         columns=[\"id\",\"text_unit_id\"])\n",
    "# cov_df.head(2)\n",
    "# Subject id do not match entity ids"
   ]
  },
  {
   "cell_type": "code",
   "execution_count": 27,
   "id": "c9e79b6d-c928-449c-8369-b9f2efc17533",
   "metadata": {},
   "outputs": [],
   "source": [
    "# Import covariates\n",
    "# cov_statement = \"\"\"\n",
    "# MERGE (c:__Covariate__ {id:value.id})\n",
    "# SET c += apoc.map.clean(value, [\"text_unit_id\", \"document_ids\", \"n_tokens\"], [NULL, \"\"])\n",
    "# WITH c, value\n",
    "# MATCH (ch:__Chunk__ {id: value.text_unit_id})\n",
    "# MERGE (ch)-[:HAS_COVARIATE]->(c)\n",
    "# \"\"\"\n",
    "# batched_import(cov_statement, cov_df)"
   ]
  },
  {
   "cell_type": "markdown",
   "id": "3fa53bbe-02d5-4bcc-8539-af2aa064390f",
   "metadata": {},
   "source": [
    "# Visualize your data\n",
    "\n",
    "## Show a few __Entity__ nodes and their relationships (Entity Graph)\n",
    "```\n",
    "MATCH path = (:__Entity__)-[:RELATED]->(:__Entity__)\n",
    "RETURN path LIMIT 200\n",
    "```\n",
    "## Show the Chunks and the Document (Lexical Graph)\n",
    "```\n",
    "MATCH (d:__Document__) WITH d LIMIT 1\n",
    "MATCH path = (d)<-[:PART_OF]-(c:__Chunk__)\n",
    "RETURN path LIMIT 100\n",
    "```\n",
    "## Show a Community and it's Entities\n",
    "```\n",
    "MATCH (c:__Community__) WITH c LIMIT 1\n",
    "MATCH path = (c)<-[:IN_COMMUNITY]-()-[:RELATED]-(:__Entity__)\n",
    "RETURN path LIMIT 100\n",
    "```\n",
    "## Show everything\n",
    "```MATCH (d:__Document__) WITH d LIMIT 1\n",
    "MATCH path = (d)<-[:PART_OF]-(:__Chunk__)-[:HAS_ENTIY]->()-[:RELATED]-()-[:IN_COMMUNITY]->()\n",
    "RETURN path LIMIT 250\n",
    "```"
   ]
  },
  {
   "cell_type": "code",
   "execution_count": null,
   "id": "62f42b32-d578-46f8-b432-02004fa60bcc",
   "metadata": {},
   "outputs": [],
   "source": []
  }
 ],
 "metadata": {
  "kernelspec": {
   "display_name": "Python (neo4j)",
   "language": "python",
   "name": "neo4j"
  },
  "language_info": {
   "codemirror_mode": {
    "name": "ipython",
    "version": 3
   },
   "file_extension": ".py",
   "mimetype": "text/x-python",
   "name": "python",
   "nbconvert_exporter": "python",
   "pygments_lexer": "ipython3",
   "version": "3.11.9"
  }
 },
 "nbformat": 4,
 "nbformat_minor": 5
}
