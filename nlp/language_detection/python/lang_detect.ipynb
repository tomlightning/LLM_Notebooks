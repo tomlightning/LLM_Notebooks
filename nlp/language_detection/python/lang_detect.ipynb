{
 "cells": [
  {
   "cell_type": "code",
   "execution_count": 2,
   "id": "6bc14971-f5e9-4ab3-b89e-f717205e159a",
   "metadata": {},
   "outputs": [],
   "source": [
    "from __future__ import annotations"
   ]
  },
  {
   "cell_type": "code",
   "execution_count": 3,
   "id": "073c2016-f824-4f82-98cd-5c8779c0a1a1",
   "metadata": {},
   "outputs": [],
   "source": [
    "from langdetect import detect\n",
    "from enum import Enum"
   ]
  },
  {
   "cell_type": "code",
   "execution_count": 5,
   "id": "0dd01c6f-2669-4ee9-952c-eeedeb92dd72",
   "metadata": {},
   "outputs": [],
   "source": [
    "class Langs(Enum):\n",
    "    Language_English : str = \"The quick brown fox jumps over the lazy dog.\"\n",
    "    Language_Arabic : str = \"صِف خَلقَ خَودِ كَمِثلِ الشَمسِ إِذ بَزَغَت — يَحظى الضَجيعُ بِها نَجلاءَ مِعطارِ\"\n",
    "    Language_Bulgarian : str = \"Ах чудна българска земьо полюшвай цъфтящи жита.\"\n",
    "    Language_Catalan : str = \"Jove xef porti whisky amb quinze glaçons d’hidrogen coi!\"\n",
    "    Language_Croatian : str = \"Gojazni đačić s biciklom drži hmelj i finu vatu u džepu nošnje.\"\n",
    "    Language_Czech : str = \"Nechť již hříšné saxofony ďáblů rozezvučí síň úděsnými tóny waltzu tanga a quickstepu.\"\n",
    "    Language_Danish : str = \"Quizdeltagerne spiste jordbær med fløde mens cirkusklovnen Walther spillede på xylofon.\"\n",
    "    Language_Esperanto : str = \"Laŭ Ludoviko Zamenhof bongustas freŝa ĉeĥa manĝaĵo kun spicoj.\"\n",
    "    Language_Estonian : str = \"Põdur Zagrebi tšellomängija-följetonist Ciqo külmetas kehvas garaažis\"\n",
    "    Language_Finnish : str = \"Hyvän lorun sangen pieneksi hyödyksi jäi suomen kirjaimet.\"\n",
    "    Language_French : str = \"Portez ce vieux whisky au juge blond qui fume\"\n",
    "    Language_German : str = \"Franz jagt im komplett verwahrlosten Taxi quer durch Bayern\"\n",
    "    Language_Greek_Modern : str = \"Ταχίστη αλώπηξ βαφής ψημένη γη δρασκελίζει υπέρ νωθρού κυνός\"\n",
    "    Language_Hebrew : str = \"דג סקרן שט בים מאוכזב ולפתע מצא חברה dg sqrn šṭ bjM mʾwkzb wlptʿ mṣʾ ḥbrh\"\n",
    "    Language_Hindi : str = \"ऋषियों को सताने वाले दुष्ट राक्षसों के राजा रावण का सर्वनाश करने वाले विष्णुवतार भगवान श्रीराम अयोध्या के महाराज दशरथ के बड़े सपुत्र थे।\"\n",
    "    Language_Hungarian : str = \"Jó foxim és don Quijote húszwattos lámpánál ülve egy pár bűvös cipőt készít\"\n",
    "    Language_Icelandic : str = \"Kæmi ný öxi hér ykist þjófum nú bæði víl og ádrepa.\"\n",
    "    Language_Indonesian : str = \"Muharjo seorang xenofobia universal yang takut pada warga jazirah contohnya Qatar.\"\n",
    "    Language_Irish : str = \"D’fhuascail Íosa Úrmhac na hÓighe Beannaithe pór Éava agus Ádhaimh\"\n",
    "    Language_Italian : str = \"Quel vituperabile xenofobo zelante assaggia il whisky ed esclama: alleluja!\"\n",
    "    Language_Japanese : str = \"いろはにほへと ちりぬるを わかよたれそ つねならむ うゐのおくやま けふこえて あさきゆめみし ゑひもせす（ん）\"\n",
    "    Language_Javanese : str = \"꧋ ꦲꦤꦕꦫꦏ꧈ ꦢꦠꦱꦮꦭ꧈ ꦥꦝꦗꦪꦚ꧈ ꦩꦒꦧꦛꦔ꧉ Hanacaraka datasawala padhajayanya magabathanga.\"\n",
    "    Language_Korean : str = \"키스의 고유조건은 입술끼리 만나야 하고 특별한 기술은 필요치 않다.\"\n",
    "    Language_Latvian : str = \"Muļķa hipiji mēģina brīvi nogaršot celofāna žņaudzējčūsku.\"\n",
    "    Language_Lithuanian : str = \"Įlinkdama fechtuotojo špaga sublykčiojusi pragręžė apvalų arbūzą\"\n",
    "    Language_Macedonian : str = \"Ѕидарски пејзаж: шугав билмез со чудење џвака ќофте и кељ на туѓ цех.\"\n",
    "    Language_Malay : str = \"അജവും ആനയും ഐരാവതവും ഗരുഡനും കഠോര സ്വരം പൊഴിക്കെ ഹാരവും ഒഢ്യാണവും ഫാലത്തില്‍ മഞ്ഞളും ഈറന്‍ കേശത്തില്‍ ഔഷധ എണ്ണയുമായി ഋതുമതിയും അനഘയും ഭൂനാഥയുമായ ഉമ ദുഃഖഛവിയോടെ ഇടതു പാദം ഏന്തി ങ്യേയാദൃശം നിര്‍ഝരിയിലെ ചിറ്റലകളെ ഓമനിക്കുമ്പോള്‍ ബാ‍ലയുടെ കണ്‍കളില്‍ നീര്‍ ഊര്‍ന്നു വിങ്ങി.\"\n",
    "    Language_Mongolian : str = \"Щётканы фермд пийшин цувъя. Бөгж зогсч хэльюү.\"\n",
    "    Language_Norwegian : str = \"Vår sære Zulu fra badeøya spilte jo whist og quickstep i min taxi.\"\n",
    "    Language_Polish : str = \"Jeżu klątw spłódź Finom część gry hańb!\"\n",
    "    Language_Portuguese : str = \"Um pequeno jabuti xereta viu dez cegonhas felizes.\"\n",
    "    Language_Romanian : str = \"Muzicologă în bej vând whisky și tequila preț fix.\"\n",
    "    Language_Russian : str = \"Эх чужак общий съём цен шляп (юфть) – вдрызг!\"\n",
    "    Language_Serbian : str = \"Gojazni đačić s biciklom drži hmelj i finu vatu u džepu nošnje.\"\n",
    "    Language_Slovak : str = \"Kŕdeľ šťastných ďatľov učí pri ústí Váhu mĺkveho koňa obhrýzať kôru a žrať čerstvé mäso.\"\n",
    "    Language_Slovenian : str = \"Besni dirkač iz formule žuga cehu poštarjev.\"\n",
    "    Language_Spanish : str = \"José compró una vieja zampoña en Perú. Excusándose Sofía tiró su whisky al desagüe de la banqueta.\"\n",
    "    Language_Swedish : str = \"Flygande bäckasiner söka hwila på mjuka tuvor.\"\n",
    "    Language_Thai : str = \"เป็นมนุษย์สุดประเสริฐเลิศคุณค่า กว่าบรรดาฝูงสัตว์เดรัจฉาน จงฝ่าฟันพัฒนาวิชาการ อย่าล้างผลาญฤๅเข่นฆ่าบีฑาใคร ไม่ถือโทษโกรธแช่งซัดฮึดฮัดด่า หัดอภัยเหมือนกีฬาอัชฌาสัย ปฏิบัติประพฤติกฎกำหนดใจ พูดจาให้จ๊ะๆ จ๋าๆ น่าฟังเอยฯ\"\n",
    "    Language_Turkish : str = \"Pijamalı hasta yağız şoföre çabucak güvendi.\"\n",
    "    Language_Ukrainian : str = \"Жебракують філософи при ґанку церкви в Гадячі ще й шатро їхнє п’яне знаємо.\"\n",
    "    Language_Urdu : str = \"ٹھنڈ میں، ایک قحط زدہ گاؤں سے گذرتے وقت ایک چڑچڑے، باأثر و فارغ شخص کو بعض جل پری نما اژدہے نظر آئے۔\"\n",
    "    Language_Yoruba : str = \"Ìwò̩fà ń yò̩ séji tó gbojúmó̩ ó hàn pákànpò̩ gan-an nis̩é̩ rè̩ bó dò̩la.\"\n",
    "    Language_Welsh : str = \"Parciais fy jac codi baw hud llawn dŵr ger tŷ Mabon.\"\n",
    "    "
   ]
  },
  {
   "cell_type": "code",
   "execution_count": 10,
   "id": "47885780-89c2-4c1e-813b-ff8d4a5769a9",
   "metadata": {},
   "outputs": [
    {
     "name": "stdout",
     "output_type": "stream",
     "text": [
      "Language Original: Langs.Language_English, Language detected: en\n",
      "Language Original: Langs.Language_Arabic, Language detected: ar\n",
      "Language Original: Langs.Language_Bulgarian, Language detected: bg\n",
      "Language Original: Langs.Language_Catalan, Language detected: ca\n",
      "Language Original: Langs.Language_Croatian, Language detected: hr\n",
      "Language Original: Langs.Language_Czech, Language detected: cs\n",
      "Language Original: Langs.Language_Danish, Language detected: da\n",
      "Language Original: Langs.Language_Esperanto, Language detected: sl\n",
      "Language Original: Langs.Language_Estonian, Language detected: et\n",
      "Language Original: Langs.Language_Finnish, Language detected: fi\n",
      "Language Original: Langs.Language_French, Language detected: fr\n",
      "Language Original: Langs.Language_German, Language detected: de\n",
      "Language Original: Langs.Language_Greek_Modern, Language detected: el\n",
      "Language Original: Langs.Language_Hebrew, Language detected: he\n",
      "Language Original: Langs.Language_Hindi, Language detected: hi\n",
      "Language Original: Langs.Language_Hungarian, Language detected: hu\n",
      "Language Original: Langs.Language_Icelandic, Language detected: hu\n",
      "Language Original: Langs.Language_Indonesian, Language detected: id\n",
      "Language Original: Langs.Language_Irish, Language detected: en\n",
      "Language Original: Langs.Language_Italian, Language detected: it\n",
      "Language Original: Langs.Language_Japanese, Language detected: ja\n",
      "Language Original: Langs.Language_Javanese, Language detected: id\n",
      "Language Original: Langs.Language_Korean, Language detected: ko\n",
      "Language Original: Langs.Language_Latvian, Language detected: lv\n",
      "Language Original: Langs.Language_Lithuanian, Language detected: lt\n",
      "Language Original: Langs.Language_Macedonian, Language detected: mk\n",
      "Language Original: Langs.Language_Malay, Language detected: ml\n",
      "Language Original: Langs.Language_Mongolian, Language detected: ru\n",
      "Language Original: Langs.Language_Norwegian, Language detected: no\n",
      "Language Original: Langs.Language_Polish, Language detected: pl\n",
      "Language Original: Langs.Language_Portuguese, Language detected: pt\n",
      "Language Original: Langs.Language_Romanian, Language detected: ro\n",
      "Language Original: Langs.Language_Russian, Language detected: ru\n",
      "Language Original: Langs.Language_Slovak, Language detected: sk\n",
      "Language Original: Langs.Language_Slovenian, Language detected: sl\n",
      "Language Original: Langs.Language_Spanish, Language detected: es\n",
      "Language Original: Langs.Language_Swedish, Language detected: sv\n",
      "Language Original: Langs.Language_Thai, Language detected: th\n",
      "Language Original: Langs.Language_Turkish, Language detected: tr\n",
      "Language Original: Langs.Language_Ukrainian, Language detected: uk\n",
      "Language Original: Langs.Language_Urdu, Language detected: ur\n",
      "Language Original: Langs.Language_Yoruba, Language detected: ca\n",
      "Language Original: Langs.Language_Welsh, Language detected: cy\n"
     ]
    }
   ],
   "source": [
    "for lang in Langs:\n",
    "    detection = detect(lang.value)\n",
    "    print(f\"Language Original: {lang}, Language detected: {detection}\")"
   ]
  },
  {
   "cell_type": "code",
   "execution_count": null,
   "id": "37aff839-75ff-4be3-b829-a1a70cf4f9da",
   "metadata": {},
   "outputs": [],
   "source": []
  }
 ],
 "metadata": {
  "kernelspec": {
   "display_name": "Python 3 (ipykernel)",
   "language": "python",
   "name": "python3"
  },
  "language_info": {
   "codemirror_mode": {
    "name": "ipython",
    "version": 3
   },
   "file_extension": ".py",
   "mimetype": "text/x-python",
   "name": "python",
   "nbconvert_exporter": "python",
   "pygments_lexer": "ipython3",
   "version": "3.11.9"
  }
 },
 "nbformat": 4,
 "nbformat_minor": 5
}
