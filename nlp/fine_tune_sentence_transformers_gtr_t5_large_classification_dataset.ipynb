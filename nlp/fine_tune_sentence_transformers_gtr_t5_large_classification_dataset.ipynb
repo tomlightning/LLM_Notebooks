{
  "metadata": {
    "kernelspec": {
      "display_name": "Python 3",
      "name": "python3"
    },
    "language_info": {
      "name": "python",
      "version": "3.10.12",
      "mimetype": "text/x-python",
      "codemirror_mode": {
        "name": "ipython",
        "version": 3
      },
      "pygments_lexer": "ipython3",
      "nbconvert_exporter": "python",
      "file_extension": ".py"
    },
    "kaggle": {
      "accelerator": "gpu",
      "dataSources": [
        {
          "sourceId": 7332781,
          "sourceType": "datasetVersion",
          "datasetId": 4256803
        }
      ],
      "dockerImageVersionId": 30627,
      "isInternetEnabled": true,
      "language": "python",
      "sourceType": "notebook",
      "isGpuEnabled": true
    },
    "colab": {
      "provenance": [],
      "machine_shape": "hm",
      "gpuType": "A100",
      "include_colab_link": true
    },
    "accelerator": "GPU",
    "widgets": {
      "application/vnd.jupyter.widget-state+json": {
        "42c34052a4924e6ba6ef20f9f3a90213": {
          "model_module": "@jupyter-widgets/controls",
          "model_name": "HBoxModel",
          "model_module_version": "1.5.0",
          "state": {
            "_dom_classes": [],
            "_model_module": "@jupyter-widgets/controls",
            "_model_module_version": "1.5.0",
            "_model_name": "HBoxModel",
            "_view_count": null,
            "_view_module": "@jupyter-widgets/controls",
            "_view_module_version": "1.5.0",
            "_view_name": "HBoxView",
            "box_style": "",
            "children": [
              "IPY_MODEL_390260774f394676a8f0f3fc666d52be",
              "IPY_MODEL_bd210dc0d76a4322afc79785f8ccd36e",
              "IPY_MODEL_7ebd77ee57984b7eb356f115ab737981"
            ],
            "layout": "IPY_MODEL_d72941841d78492293a5827b2928efef"
          }
        },
        "390260774f394676a8f0f3fc666d52be": {
          "model_module": "@jupyter-widgets/controls",
          "model_name": "HTMLModel",
          "model_module_version": "1.5.0",
          "state": {
            "_dom_classes": [],
            "_model_module": "@jupyter-widgets/controls",
            "_model_module_version": "1.5.0",
            "_model_name": "HTMLModel",
            "_view_count": null,
            "_view_module": "@jupyter-widgets/controls",
            "_view_module_version": "1.5.0",
            "_view_name": "HTMLView",
            "description": "",
            "description_tooltip": null,
            "layout": "IPY_MODEL_fef682538ade48ceac2c2059e172caaa",
            "placeholder": "​",
            "style": "IPY_MODEL_412ce027346e4703a87b0a4812aeb277",
            "value": "Stringifying the column: 100%"
          }
        },
        "bd210dc0d76a4322afc79785f8ccd36e": {
          "model_module": "@jupyter-widgets/controls",
          "model_name": "FloatProgressModel",
          "model_module_version": "1.5.0",
          "state": {
            "_dom_classes": [],
            "_model_module": "@jupyter-widgets/controls",
            "_model_module_version": "1.5.0",
            "_model_name": "FloatProgressModel",
            "_view_count": null,
            "_view_module": "@jupyter-widgets/controls",
            "_view_module_version": "1.5.0",
            "_view_name": "ProgressView",
            "bar_style": "success",
            "description": "",
            "description_tooltip": null,
            "layout": "IPY_MODEL_2e31e75735994da68bc15545b3df37d4",
            "max": 1000,
            "min": 0,
            "orientation": "horizontal",
            "style": "IPY_MODEL_ffbdecdec8a24a4c913da3957c7273d9",
            "value": 1000
          }
        },
        "7ebd77ee57984b7eb356f115ab737981": {
          "model_module": "@jupyter-widgets/controls",
          "model_name": "HTMLModel",
          "model_module_version": "1.5.0",
          "state": {
            "_dom_classes": [],
            "_model_module": "@jupyter-widgets/controls",
            "_model_module_version": "1.5.0",
            "_model_name": "HTMLModel",
            "_view_count": null,
            "_view_module": "@jupyter-widgets/controls",
            "_view_module_version": "1.5.0",
            "_view_name": "HTMLView",
            "description": "",
            "description_tooltip": null,
            "layout": "IPY_MODEL_4752f60ebd1e4efd98969d71e01fe11b",
            "placeholder": "​",
            "style": "IPY_MODEL_b4a2d13f2e434a13839d722e56fdd117",
            "value": " 1000/1000 [00:00&lt;00:00, 40247.80 examples/s]"
          }
        },
        "d72941841d78492293a5827b2928efef": {
          "model_module": "@jupyter-widgets/base",
          "model_name": "LayoutModel",
          "model_module_version": "1.2.0",
          "state": {
            "_model_module": "@jupyter-widgets/base",
            "_model_module_version": "1.2.0",
            "_model_name": "LayoutModel",
            "_view_count": null,
            "_view_module": "@jupyter-widgets/base",
            "_view_module_version": "1.2.0",
            "_view_name": "LayoutView",
            "align_content": null,
            "align_items": null,
            "align_self": null,
            "border": null,
            "bottom": null,
            "display": null,
            "flex": null,
            "flex_flow": null,
            "grid_area": null,
            "grid_auto_columns": null,
            "grid_auto_flow": null,
            "grid_auto_rows": null,
            "grid_column": null,
            "grid_gap": null,
            "grid_row": null,
            "grid_template_areas": null,
            "grid_template_columns": null,
            "grid_template_rows": null,
            "height": null,
            "justify_content": null,
            "justify_items": null,
            "left": null,
            "margin": null,
            "max_height": null,
            "max_width": null,
            "min_height": null,
            "min_width": null,
            "object_fit": null,
            "object_position": null,
            "order": null,
            "overflow": null,
            "overflow_x": null,
            "overflow_y": null,
            "padding": null,
            "right": null,
            "top": null,
            "visibility": null,
            "width": null
          }
        },
        "fef682538ade48ceac2c2059e172caaa": {
          "model_module": "@jupyter-widgets/base",
          "model_name": "LayoutModel",
          "model_module_version": "1.2.0",
          "state": {
            "_model_module": "@jupyter-widgets/base",
            "_model_module_version": "1.2.0",
            "_model_name": "LayoutModel",
            "_view_count": null,
            "_view_module": "@jupyter-widgets/base",
            "_view_module_version": "1.2.0",
            "_view_name": "LayoutView",
            "align_content": null,
            "align_items": null,
            "align_self": null,
            "border": null,
            "bottom": null,
            "display": null,
            "flex": null,
            "flex_flow": null,
            "grid_area": null,
            "grid_auto_columns": null,
            "grid_auto_flow": null,
            "grid_auto_rows": null,
            "grid_column": null,
            "grid_gap": null,
            "grid_row": null,
            "grid_template_areas": null,
            "grid_template_columns": null,
            "grid_template_rows": null,
            "height": null,
            "justify_content": null,
            "justify_items": null,
            "left": null,
            "margin": null,
            "max_height": null,
            "max_width": null,
            "min_height": null,
            "min_width": null,
            "object_fit": null,
            "object_position": null,
            "order": null,
            "overflow": null,
            "overflow_x": null,
            "overflow_y": null,
            "padding": null,
            "right": null,
            "top": null,
            "visibility": null,
            "width": null
          }
        },
        "412ce027346e4703a87b0a4812aeb277": {
          "model_module": "@jupyter-widgets/controls",
          "model_name": "DescriptionStyleModel",
          "model_module_version": "1.5.0",
          "state": {
            "_model_module": "@jupyter-widgets/controls",
            "_model_module_version": "1.5.0",
            "_model_name": "DescriptionStyleModel",
            "_view_count": null,
            "_view_module": "@jupyter-widgets/base",
            "_view_module_version": "1.2.0",
            "_view_name": "StyleView",
            "description_width": ""
          }
        },
        "2e31e75735994da68bc15545b3df37d4": {
          "model_module": "@jupyter-widgets/base",
          "model_name": "LayoutModel",
          "model_module_version": "1.2.0",
          "state": {
            "_model_module": "@jupyter-widgets/base",
            "_model_module_version": "1.2.0",
            "_model_name": "LayoutModel",
            "_view_count": null,
            "_view_module": "@jupyter-widgets/base",
            "_view_module_version": "1.2.0",
            "_view_name": "LayoutView",
            "align_content": null,
            "align_items": null,
            "align_self": null,
            "border": null,
            "bottom": null,
            "display": null,
            "flex": null,
            "flex_flow": null,
            "grid_area": null,
            "grid_auto_columns": null,
            "grid_auto_flow": null,
            "grid_auto_rows": null,
            "grid_column": null,
            "grid_gap": null,
            "grid_row": null,
            "grid_template_areas": null,
            "grid_template_columns": null,
            "grid_template_rows": null,
            "height": null,
            "justify_content": null,
            "justify_items": null,
            "left": null,
            "margin": null,
            "max_height": null,
            "max_width": null,
            "min_height": null,
            "min_width": null,
            "object_fit": null,
            "object_position": null,
            "order": null,
            "overflow": null,
            "overflow_x": null,
            "overflow_y": null,
            "padding": null,
            "right": null,
            "top": null,
            "visibility": null,
            "width": null
          }
        },
        "ffbdecdec8a24a4c913da3957c7273d9": {
          "model_module": "@jupyter-widgets/controls",
          "model_name": "ProgressStyleModel",
          "model_module_version": "1.5.0",
          "state": {
            "_model_module": "@jupyter-widgets/controls",
            "_model_module_version": "1.5.0",
            "_model_name": "ProgressStyleModel",
            "_view_count": null,
            "_view_module": "@jupyter-widgets/base",
            "_view_module_version": "1.2.0",
            "_view_name": "StyleView",
            "bar_color": null,
            "description_width": ""
          }
        },
        "4752f60ebd1e4efd98969d71e01fe11b": {
          "model_module": "@jupyter-widgets/base",
          "model_name": "LayoutModel",
          "model_module_version": "1.2.0",
          "state": {
            "_model_module": "@jupyter-widgets/base",
            "_model_module_version": "1.2.0",
            "_model_name": "LayoutModel",
            "_view_count": null,
            "_view_module": "@jupyter-widgets/base",
            "_view_module_version": "1.2.0",
            "_view_name": "LayoutView",
            "align_content": null,
            "align_items": null,
            "align_self": null,
            "border": null,
            "bottom": null,
            "display": null,
            "flex": null,
            "flex_flow": null,
            "grid_area": null,
            "grid_auto_columns": null,
            "grid_auto_flow": null,
            "grid_auto_rows": null,
            "grid_column": null,
            "grid_gap": null,
            "grid_row": null,
            "grid_template_areas": null,
            "grid_template_columns": null,
            "grid_template_rows": null,
            "height": null,
            "justify_content": null,
            "justify_items": null,
            "left": null,
            "margin": null,
            "max_height": null,
            "max_width": null,
            "min_height": null,
            "min_width": null,
            "object_fit": null,
            "object_position": null,
            "order": null,
            "overflow": null,
            "overflow_x": null,
            "overflow_y": null,
            "padding": null,
            "right": null,
            "top": null,
            "visibility": null,
            "width": null
          }
        },
        "b4a2d13f2e434a13839d722e56fdd117": {
          "model_module": "@jupyter-widgets/controls",
          "model_name": "DescriptionStyleModel",
          "model_module_version": "1.5.0",
          "state": {
            "_model_module": "@jupyter-widgets/controls",
            "_model_module_version": "1.5.0",
            "_model_name": "DescriptionStyleModel",
            "_view_count": null,
            "_view_module": "@jupyter-widgets/base",
            "_view_module_version": "1.2.0",
            "_view_name": "StyleView",
            "description_width": ""
          }
        },
        "6352efef5da441df8841e5f1d075a279": {
          "model_module": "@jupyter-widgets/controls",
          "model_name": "HBoxModel",
          "model_module_version": "1.5.0",
          "state": {
            "_dom_classes": [],
            "_model_module": "@jupyter-widgets/controls",
            "_model_module_version": "1.5.0",
            "_model_name": "HBoxModel",
            "_view_count": null,
            "_view_module": "@jupyter-widgets/controls",
            "_view_module_version": "1.5.0",
            "_view_name": "HBoxView",
            "box_style": "",
            "children": [
              "IPY_MODEL_d7da21f0c91e4fe7ae3738dfe9bb140b",
              "IPY_MODEL_c47caec9d9c24b148dcd355252060c19",
              "IPY_MODEL_2fecf9a0931f40d99d600a71a7be519f"
            ],
            "layout": "IPY_MODEL_ce74bf80e10d4857a86cf52f57a3c438"
          }
        },
        "d7da21f0c91e4fe7ae3738dfe9bb140b": {
          "model_module": "@jupyter-widgets/controls",
          "model_name": "HTMLModel",
          "model_module_version": "1.5.0",
          "state": {
            "_dom_classes": [],
            "_model_module": "@jupyter-widgets/controls",
            "_model_module_version": "1.5.0",
            "_model_name": "HTMLModel",
            "_view_count": null,
            "_view_module": "@jupyter-widgets/controls",
            "_view_module_version": "1.5.0",
            "_view_name": "HTMLView",
            "description": "",
            "description_tooltip": null,
            "layout": "IPY_MODEL_f490a468fd4e4f92914548a56d49bab8",
            "placeholder": "​",
            "style": "IPY_MODEL_8d4735e569cb42ed998ae3a53b38c2ab",
            "value": "Casting to class labels: 100%"
          }
        },
        "c47caec9d9c24b148dcd355252060c19": {
          "model_module": "@jupyter-widgets/controls",
          "model_name": "FloatProgressModel",
          "model_module_version": "1.5.0",
          "state": {
            "_dom_classes": [],
            "_model_module": "@jupyter-widgets/controls",
            "_model_module_version": "1.5.0",
            "_model_name": "FloatProgressModel",
            "_view_count": null,
            "_view_module": "@jupyter-widgets/controls",
            "_view_module_version": "1.5.0",
            "_view_name": "ProgressView",
            "bar_style": "success",
            "description": "",
            "description_tooltip": null,
            "layout": "IPY_MODEL_a957717544804dfe8636c816345089ea",
            "max": 1000,
            "min": 0,
            "orientation": "horizontal",
            "style": "IPY_MODEL_30f2d8ef493b4278863a15f2c563956e",
            "value": 1000
          }
        },
        "2fecf9a0931f40d99d600a71a7be519f": {
          "model_module": "@jupyter-widgets/controls",
          "model_name": "HTMLModel",
          "model_module_version": "1.5.0",
          "state": {
            "_dom_classes": [],
            "_model_module": "@jupyter-widgets/controls",
            "_model_module_version": "1.5.0",
            "_model_name": "HTMLModel",
            "_view_count": null,
            "_view_module": "@jupyter-widgets/controls",
            "_view_module_version": "1.5.0",
            "_view_name": "HTMLView",
            "description": "",
            "description_tooltip": null,
            "layout": "IPY_MODEL_6e200df8b5b6428bafcae611de7e3b2e",
            "placeholder": "​",
            "style": "IPY_MODEL_b5c4a3b8f55a4157899de5c519d4e06f",
            "value": " 1000/1000 [00:00&lt;00:00, 49916.15 examples/s]"
          }
        },
        "ce74bf80e10d4857a86cf52f57a3c438": {
          "model_module": "@jupyter-widgets/base",
          "model_name": "LayoutModel",
          "model_module_version": "1.2.0",
          "state": {
            "_model_module": "@jupyter-widgets/base",
            "_model_module_version": "1.2.0",
            "_model_name": "LayoutModel",
            "_view_count": null,
            "_view_module": "@jupyter-widgets/base",
            "_view_module_version": "1.2.0",
            "_view_name": "LayoutView",
            "align_content": null,
            "align_items": null,
            "align_self": null,
            "border": null,
            "bottom": null,
            "display": null,
            "flex": null,
            "flex_flow": null,
            "grid_area": null,
            "grid_auto_columns": null,
            "grid_auto_flow": null,
            "grid_auto_rows": null,
            "grid_column": null,
            "grid_gap": null,
            "grid_row": null,
            "grid_template_areas": null,
            "grid_template_columns": null,
            "grid_template_rows": null,
            "height": null,
            "justify_content": null,
            "justify_items": null,
            "left": null,
            "margin": null,
            "max_height": null,
            "max_width": null,
            "min_height": null,
            "min_width": null,
            "object_fit": null,
            "object_position": null,
            "order": null,
            "overflow": null,
            "overflow_x": null,
            "overflow_y": null,
            "padding": null,
            "right": null,
            "top": null,
            "visibility": null,
            "width": null
          }
        },
        "f490a468fd4e4f92914548a56d49bab8": {
          "model_module": "@jupyter-widgets/base",
          "model_name": "LayoutModel",
          "model_module_version": "1.2.0",
          "state": {
            "_model_module": "@jupyter-widgets/base",
            "_model_module_version": "1.2.0",
            "_model_name": "LayoutModel",
            "_view_count": null,
            "_view_module": "@jupyter-widgets/base",
            "_view_module_version": "1.2.0",
            "_view_name": "LayoutView",
            "align_content": null,
            "align_items": null,
            "align_self": null,
            "border": null,
            "bottom": null,
            "display": null,
            "flex": null,
            "flex_flow": null,
            "grid_area": null,
            "grid_auto_columns": null,
            "grid_auto_flow": null,
            "grid_auto_rows": null,
            "grid_column": null,
            "grid_gap": null,
            "grid_row": null,
            "grid_template_areas": null,
            "grid_template_columns": null,
            "grid_template_rows": null,
            "height": null,
            "justify_content": null,
            "justify_items": null,
            "left": null,
            "margin": null,
            "max_height": null,
            "max_width": null,
            "min_height": null,
            "min_width": null,
            "object_fit": null,
            "object_position": null,
            "order": null,
            "overflow": null,
            "overflow_x": null,
            "overflow_y": null,
            "padding": null,
            "right": null,
            "top": null,
            "visibility": null,
            "width": null
          }
        },
        "8d4735e569cb42ed998ae3a53b38c2ab": {
          "model_module": "@jupyter-widgets/controls",
          "model_name": "DescriptionStyleModel",
          "model_module_version": "1.5.0",
          "state": {
            "_model_module": "@jupyter-widgets/controls",
            "_model_module_version": "1.5.0",
            "_model_name": "DescriptionStyleModel",
            "_view_count": null,
            "_view_module": "@jupyter-widgets/base",
            "_view_module_version": "1.2.0",
            "_view_name": "StyleView",
            "description_width": ""
          }
        },
        "a957717544804dfe8636c816345089ea": {
          "model_module": "@jupyter-widgets/base",
          "model_name": "LayoutModel",
          "model_module_version": "1.2.0",
          "state": {
            "_model_module": "@jupyter-widgets/base",
            "_model_module_version": "1.2.0",
            "_model_name": "LayoutModel",
            "_view_count": null,
            "_view_module": "@jupyter-widgets/base",
            "_view_module_version": "1.2.0",
            "_view_name": "LayoutView",
            "align_content": null,
            "align_items": null,
            "align_self": null,
            "border": null,
            "bottom": null,
            "display": null,
            "flex": null,
            "flex_flow": null,
            "grid_area": null,
            "grid_auto_columns": null,
            "grid_auto_flow": null,
            "grid_auto_rows": null,
            "grid_column": null,
            "grid_gap": null,
            "grid_row": null,
            "grid_template_areas": null,
            "grid_template_columns": null,
            "grid_template_rows": null,
            "height": null,
            "justify_content": null,
            "justify_items": null,
            "left": null,
            "margin": null,
            "max_height": null,
            "max_width": null,
            "min_height": null,
            "min_width": null,
            "object_fit": null,
            "object_position": null,
            "order": null,
            "overflow": null,
            "overflow_x": null,
            "overflow_y": null,
            "padding": null,
            "right": null,
            "top": null,
            "visibility": null,
            "width": null
          }
        },
        "30f2d8ef493b4278863a15f2c563956e": {
          "model_module": "@jupyter-widgets/controls",
          "model_name": "ProgressStyleModel",
          "model_module_version": "1.5.0",
          "state": {
            "_model_module": "@jupyter-widgets/controls",
            "_model_module_version": "1.5.0",
            "_model_name": "ProgressStyleModel",
            "_view_count": null,
            "_view_module": "@jupyter-widgets/base",
            "_view_module_version": "1.2.0",
            "_view_name": "StyleView",
            "bar_color": null,
            "description_width": ""
          }
        },
        "6e200df8b5b6428bafcae611de7e3b2e": {
          "model_module": "@jupyter-widgets/base",
          "model_name": "LayoutModel",
          "model_module_version": "1.2.0",
          "state": {
            "_model_module": "@jupyter-widgets/base",
            "_model_module_version": "1.2.0",
            "_model_name": "LayoutModel",
            "_view_count": null,
            "_view_module": "@jupyter-widgets/base",
            "_view_module_version": "1.2.0",
            "_view_name": "LayoutView",
            "align_content": null,
            "align_items": null,
            "align_self": null,
            "border": null,
            "bottom": null,
            "display": null,
            "flex": null,
            "flex_flow": null,
            "grid_area": null,
            "grid_auto_columns": null,
            "grid_auto_flow": null,
            "grid_auto_rows": null,
            "grid_column": null,
            "grid_gap": null,
            "grid_row": null,
            "grid_template_areas": null,
            "grid_template_columns": null,
            "grid_template_rows": null,
            "height": null,
            "justify_content": null,
            "justify_items": null,
            "left": null,
            "margin": null,
            "max_height": null,
            "max_width": null,
            "min_height": null,
            "min_width": null,
            "object_fit": null,
            "object_position": null,
            "order": null,
            "overflow": null,
            "overflow_x": null,
            "overflow_y": null,
            "padding": null,
            "right": null,
            "top": null,
            "visibility": null,
            "width": null
          }
        },
        "b5c4a3b8f55a4157899de5c519d4e06f": {
          "model_module": "@jupyter-widgets/controls",
          "model_name": "DescriptionStyleModel",
          "model_module_version": "1.5.0",
          "state": {
            "_model_module": "@jupyter-widgets/controls",
            "_model_module_version": "1.5.0",
            "_model_name": "DescriptionStyleModel",
            "_view_count": null,
            "_view_module": "@jupyter-widgets/base",
            "_view_module_version": "1.2.0",
            "_view_name": "StyleView",
            "description_width": ""
          }
        },
        "9848ca1b8e834242bf32e81e64fb68ad": {
          "model_module": "@jupyter-widgets/controls",
          "model_name": "HBoxModel",
          "model_module_version": "1.5.0",
          "state": {
            "_dom_classes": [],
            "_model_module": "@jupyter-widgets/controls",
            "_model_module_version": "1.5.0",
            "_model_name": "HBoxModel",
            "_view_count": null,
            "_view_module": "@jupyter-widgets/controls",
            "_view_module_version": "1.5.0",
            "_view_name": "HBoxView",
            "box_style": "",
            "children": [
              "IPY_MODEL_d024508840cd449fbf46d4082968f7f1",
              "IPY_MODEL_7b879eb647214aa59406302626331e2f",
              "IPY_MODEL_471b87418e404a41978151f2de4a0131"
            ],
            "layout": "IPY_MODEL_d2f65bd5e71f4246852be32912a1d6bb"
          }
        },
        "d024508840cd449fbf46d4082968f7f1": {
          "model_module": "@jupyter-widgets/controls",
          "model_name": "HTMLModel",
          "model_module_version": "1.5.0",
          "state": {
            "_dom_classes": [],
            "_model_module": "@jupyter-widgets/controls",
            "_model_module_version": "1.5.0",
            "_model_name": "HTMLModel",
            "_view_count": null,
            "_view_module": "@jupyter-widgets/controls",
            "_view_module_version": "1.5.0",
            "_view_name": "HTMLView",
            "description": "",
            "description_tooltip": null,
            "layout": "IPY_MODEL_fdab11adbb9e4bf98b8ab69cf24995fb",
            "placeholder": "​",
            "style": "IPY_MODEL_e23670a65da34a498fa6edf7b25f5117",
            "value": "Casting the dataset: 100%"
          }
        },
        "7b879eb647214aa59406302626331e2f": {
          "model_module": "@jupyter-widgets/controls",
          "model_name": "FloatProgressModel",
          "model_module_version": "1.5.0",
          "state": {
            "_dom_classes": [],
            "_model_module": "@jupyter-widgets/controls",
            "_model_module_version": "1.5.0",
            "_model_name": "FloatProgressModel",
            "_view_count": null,
            "_view_module": "@jupyter-widgets/controls",
            "_view_module_version": "1.5.0",
            "_view_name": "ProgressView",
            "bar_style": "success",
            "description": "",
            "description_tooltip": null,
            "layout": "IPY_MODEL_953112e4015145c0a2de038639d5f5cb",
            "max": 700,
            "min": 0,
            "orientation": "horizontal",
            "style": "IPY_MODEL_adc7e0d0fb2243d7b0b2cb7eee911055",
            "value": 700
          }
        },
        "471b87418e404a41978151f2de4a0131": {
          "model_module": "@jupyter-widgets/controls",
          "model_name": "HTMLModel",
          "model_module_version": "1.5.0",
          "state": {
            "_dom_classes": [],
            "_model_module": "@jupyter-widgets/controls",
            "_model_module_version": "1.5.0",
            "_model_name": "HTMLModel",
            "_view_count": null,
            "_view_module": "@jupyter-widgets/controls",
            "_view_module_version": "1.5.0",
            "_view_name": "HTMLView",
            "description": "",
            "description_tooltip": null,
            "layout": "IPY_MODEL_a1ecc658a12b40a996dbc0dbdf543120",
            "placeholder": "​",
            "style": "IPY_MODEL_f1b84ea381f34445ba52484410ab684e",
            "value": " 700/700 [00:00&lt;00:00, 38850.02 examples/s]"
          }
        },
        "d2f65bd5e71f4246852be32912a1d6bb": {
          "model_module": "@jupyter-widgets/base",
          "model_name": "LayoutModel",
          "model_module_version": "1.2.0",
          "state": {
            "_model_module": "@jupyter-widgets/base",
            "_model_module_version": "1.2.0",
            "_model_name": "LayoutModel",
            "_view_count": null,
            "_view_module": "@jupyter-widgets/base",
            "_view_module_version": "1.2.0",
            "_view_name": "LayoutView",
            "align_content": null,
            "align_items": null,
            "align_self": null,
            "border": null,
            "bottom": null,
            "display": null,
            "flex": null,
            "flex_flow": null,
            "grid_area": null,
            "grid_auto_columns": null,
            "grid_auto_flow": null,
            "grid_auto_rows": null,
            "grid_column": null,
            "grid_gap": null,
            "grid_row": null,
            "grid_template_areas": null,
            "grid_template_columns": null,
            "grid_template_rows": null,
            "height": null,
            "justify_content": null,
            "justify_items": null,
            "left": null,
            "margin": null,
            "max_height": null,
            "max_width": null,
            "min_height": null,
            "min_width": null,
            "object_fit": null,
            "object_position": null,
            "order": null,
            "overflow": null,
            "overflow_x": null,
            "overflow_y": null,
            "padding": null,
            "right": null,
            "top": null,
            "visibility": null,
            "width": null
          }
        },
        "fdab11adbb9e4bf98b8ab69cf24995fb": {
          "model_module": "@jupyter-widgets/base",
          "model_name": "LayoutModel",
          "model_module_version": "1.2.0",
          "state": {
            "_model_module": "@jupyter-widgets/base",
            "_model_module_version": "1.2.0",
            "_model_name": "LayoutModel",
            "_view_count": null,
            "_view_module": "@jupyter-widgets/base",
            "_view_module_version": "1.2.0",
            "_view_name": "LayoutView",
            "align_content": null,
            "align_items": null,
            "align_self": null,
            "border": null,
            "bottom": null,
            "display": null,
            "flex": null,
            "flex_flow": null,
            "grid_area": null,
            "grid_auto_columns": null,
            "grid_auto_flow": null,
            "grid_auto_rows": null,
            "grid_column": null,
            "grid_gap": null,
            "grid_row": null,
            "grid_template_areas": null,
            "grid_template_columns": null,
            "grid_template_rows": null,
            "height": null,
            "justify_content": null,
            "justify_items": null,
            "left": null,
            "margin": null,
            "max_height": null,
            "max_width": null,
            "min_height": null,
            "min_width": null,
            "object_fit": null,
            "object_position": null,
            "order": null,
            "overflow": null,
            "overflow_x": null,
            "overflow_y": null,
            "padding": null,
            "right": null,
            "top": null,
            "visibility": null,
            "width": null
          }
        },
        "e23670a65da34a498fa6edf7b25f5117": {
          "model_module": "@jupyter-widgets/controls",
          "model_name": "DescriptionStyleModel",
          "model_module_version": "1.5.0",
          "state": {
            "_model_module": "@jupyter-widgets/controls",
            "_model_module_version": "1.5.0",
            "_model_name": "DescriptionStyleModel",
            "_view_count": null,
            "_view_module": "@jupyter-widgets/base",
            "_view_module_version": "1.2.0",
            "_view_name": "StyleView",
            "description_width": ""
          }
        },
        "953112e4015145c0a2de038639d5f5cb": {
          "model_module": "@jupyter-widgets/base",
          "model_name": "LayoutModel",
          "model_module_version": "1.2.0",
          "state": {
            "_model_module": "@jupyter-widgets/base",
            "_model_module_version": "1.2.0",
            "_model_name": "LayoutModel",
            "_view_count": null,
            "_view_module": "@jupyter-widgets/base",
            "_view_module_version": "1.2.0",
            "_view_name": "LayoutView",
            "align_content": null,
            "align_items": null,
            "align_self": null,
            "border": null,
            "bottom": null,
            "display": null,
            "flex": null,
            "flex_flow": null,
            "grid_area": null,
            "grid_auto_columns": null,
            "grid_auto_flow": null,
            "grid_auto_rows": null,
            "grid_column": null,
            "grid_gap": null,
            "grid_row": null,
            "grid_template_areas": null,
            "grid_template_columns": null,
            "grid_template_rows": null,
            "height": null,
            "justify_content": null,
            "justify_items": null,
            "left": null,
            "margin": null,
            "max_height": null,
            "max_width": null,
            "min_height": null,
            "min_width": null,
            "object_fit": null,
            "object_position": null,
            "order": null,
            "overflow": null,
            "overflow_x": null,
            "overflow_y": null,
            "padding": null,
            "right": null,
            "top": null,
            "visibility": null,
            "width": null
          }
        },
        "adc7e0d0fb2243d7b0b2cb7eee911055": {
          "model_module": "@jupyter-widgets/controls",
          "model_name": "ProgressStyleModel",
          "model_module_version": "1.5.0",
          "state": {
            "_model_module": "@jupyter-widgets/controls",
            "_model_module_version": "1.5.0",
            "_model_name": "ProgressStyleModel",
            "_view_count": null,
            "_view_module": "@jupyter-widgets/base",
            "_view_module_version": "1.2.0",
            "_view_name": "StyleView",
            "bar_color": null,
            "description_width": ""
          }
        },
        "a1ecc658a12b40a996dbc0dbdf543120": {
          "model_module": "@jupyter-widgets/base",
          "model_name": "LayoutModel",
          "model_module_version": "1.2.0",
          "state": {
            "_model_module": "@jupyter-widgets/base",
            "_model_module_version": "1.2.0",
            "_model_name": "LayoutModel",
            "_view_count": null,
            "_view_module": "@jupyter-widgets/base",
            "_view_module_version": "1.2.0",
            "_view_name": "LayoutView",
            "align_content": null,
            "align_items": null,
            "align_self": null,
            "border": null,
            "bottom": null,
            "display": null,
            "flex": null,
            "flex_flow": null,
            "grid_area": null,
            "grid_auto_columns": null,
            "grid_auto_flow": null,
            "grid_auto_rows": null,
            "grid_column": null,
            "grid_gap": null,
            "grid_row": null,
            "grid_template_areas": null,
            "grid_template_columns": null,
            "grid_template_rows": null,
            "height": null,
            "justify_content": null,
            "justify_items": null,
            "left": null,
            "margin": null,
            "max_height": null,
            "max_width": null,
            "min_height": null,
            "min_width": null,
            "object_fit": null,
            "object_position": null,
            "order": null,
            "overflow": null,
            "overflow_x": null,
            "overflow_y": null,
            "padding": null,
            "right": null,
            "top": null,
            "visibility": null,
            "width": null
          }
        },
        "f1b84ea381f34445ba52484410ab684e": {
          "model_module": "@jupyter-widgets/controls",
          "model_name": "DescriptionStyleModel",
          "model_module_version": "1.5.0",
          "state": {
            "_model_module": "@jupyter-widgets/controls",
            "_model_module_version": "1.5.0",
            "_model_name": "DescriptionStyleModel",
            "_view_count": null,
            "_view_module": "@jupyter-widgets/base",
            "_view_module_version": "1.2.0",
            "_view_name": "StyleView",
            "description_width": ""
          }
        },
        "a893e59e99df4270ad9db0bf95d4867c": {
          "model_module": "@jupyter-widgets/controls",
          "model_name": "HBoxModel",
          "model_module_version": "1.5.0",
          "state": {
            "_dom_classes": [],
            "_model_module": "@jupyter-widgets/controls",
            "_model_module_version": "1.5.0",
            "_model_name": "HBoxModel",
            "_view_count": null,
            "_view_module": "@jupyter-widgets/controls",
            "_view_module_version": "1.5.0",
            "_view_name": "HBoxView",
            "box_style": "",
            "children": [
              "IPY_MODEL_666b5087b916458f84cb2b8f02496130",
              "IPY_MODEL_38d824f292694e4d812db0e92fbc2ee9",
              "IPY_MODEL_bf9083179eb04d56bf81316d2a00a250"
            ],
            "layout": "IPY_MODEL_a9f32e034a954b3b8254ddd97214aa10"
          }
        },
        "666b5087b916458f84cb2b8f02496130": {
          "model_module": "@jupyter-widgets/controls",
          "model_name": "HTMLModel",
          "model_module_version": "1.5.0",
          "state": {
            "_dom_classes": [],
            "_model_module": "@jupyter-widgets/controls",
            "_model_module_version": "1.5.0",
            "_model_name": "HTMLModel",
            "_view_count": null,
            "_view_module": "@jupyter-widgets/controls",
            "_view_module_version": "1.5.0",
            "_view_name": "HTMLView",
            "description": "",
            "description_tooltip": null,
            "layout": "IPY_MODEL_a8859b09d972464987486870f8b58503",
            "placeholder": "​",
            "style": "IPY_MODEL_46109258d1804628962bebf2cc73822a",
            "value": "Casting the dataset: 100%"
          }
        },
        "38d824f292694e4d812db0e92fbc2ee9": {
          "model_module": "@jupyter-widgets/controls",
          "model_name": "FloatProgressModel",
          "model_module_version": "1.5.0",
          "state": {
            "_dom_classes": [],
            "_model_module": "@jupyter-widgets/controls",
            "_model_module_version": "1.5.0",
            "_model_name": "FloatProgressModel",
            "_view_count": null,
            "_view_module": "@jupyter-widgets/controls",
            "_view_module_version": "1.5.0",
            "_view_name": "ProgressView",
            "bar_style": "success",
            "description": "",
            "description_tooltip": null,
            "layout": "IPY_MODEL_6d62e1ad1d4649588654096255a42d99",
            "max": 300,
            "min": 0,
            "orientation": "horizontal",
            "style": "IPY_MODEL_0fa60aca73eb4bffb7b9c73e1bcfb73f",
            "value": 300
          }
        },
        "bf9083179eb04d56bf81316d2a00a250": {
          "model_module": "@jupyter-widgets/controls",
          "model_name": "HTMLModel",
          "model_module_version": "1.5.0",
          "state": {
            "_dom_classes": [],
            "_model_module": "@jupyter-widgets/controls",
            "_model_module_version": "1.5.0",
            "_model_name": "HTMLModel",
            "_view_count": null,
            "_view_module": "@jupyter-widgets/controls",
            "_view_module_version": "1.5.0",
            "_view_name": "HTMLView",
            "description": "",
            "description_tooltip": null,
            "layout": "IPY_MODEL_a97e50e1104b4cbb99761ac8b1fc2419",
            "placeholder": "​",
            "style": "IPY_MODEL_952827e1c7ff4825b563a5167dc14bd4",
            "value": " 300/300 [00:00&lt;00:00, 17315.85 examples/s]"
          }
        },
        "a9f32e034a954b3b8254ddd97214aa10": {
          "model_module": "@jupyter-widgets/base",
          "model_name": "LayoutModel",
          "model_module_version": "1.2.0",
          "state": {
            "_model_module": "@jupyter-widgets/base",
            "_model_module_version": "1.2.0",
            "_model_name": "LayoutModel",
            "_view_count": null,
            "_view_module": "@jupyter-widgets/base",
            "_view_module_version": "1.2.0",
            "_view_name": "LayoutView",
            "align_content": null,
            "align_items": null,
            "align_self": null,
            "border": null,
            "bottom": null,
            "display": null,
            "flex": null,
            "flex_flow": null,
            "grid_area": null,
            "grid_auto_columns": null,
            "grid_auto_flow": null,
            "grid_auto_rows": null,
            "grid_column": null,
            "grid_gap": null,
            "grid_row": null,
            "grid_template_areas": null,
            "grid_template_columns": null,
            "grid_template_rows": null,
            "height": null,
            "justify_content": null,
            "justify_items": null,
            "left": null,
            "margin": null,
            "max_height": null,
            "max_width": null,
            "min_height": null,
            "min_width": null,
            "object_fit": null,
            "object_position": null,
            "order": null,
            "overflow": null,
            "overflow_x": null,
            "overflow_y": null,
            "padding": null,
            "right": null,
            "top": null,
            "visibility": null,
            "width": null
          }
        },
        "a8859b09d972464987486870f8b58503": {
          "model_module": "@jupyter-widgets/base",
          "model_name": "LayoutModel",
          "model_module_version": "1.2.0",
          "state": {
            "_model_module": "@jupyter-widgets/base",
            "_model_module_version": "1.2.0",
            "_model_name": "LayoutModel",
            "_view_count": null,
            "_view_module": "@jupyter-widgets/base",
            "_view_module_version": "1.2.0",
            "_view_name": "LayoutView",
            "align_content": null,
            "align_items": null,
            "align_self": null,
            "border": null,
            "bottom": null,
            "display": null,
            "flex": null,
            "flex_flow": null,
            "grid_area": null,
            "grid_auto_columns": null,
            "grid_auto_flow": null,
            "grid_auto_rows": null,
            "grid_column": null,
            "grid_gap": null,
            "grid_row": null,
            "grid_template_areas": null,
            "grid_template_columns": null,
            "grid_template_rows": null,
            "height": null,
            "justify_content": null,
            "justify_items": null,
            "left": null,
            "margin": null,
            "max_height": null,
            "max_width": null,
            "min_height": null,
            "min_width": null,
            "object_fit": null,
            "object_position": null,
            "order": null,
            "overflow": null,
            "overflow_x": null,
            "overflow_y": null,
            "padding": null,
            "right": null,
            "top": null,
            "visibility": null,
            "width": null
          }
        },
        "46109258d1804628962bebf2cc73822a": {
          "model_module": "@jupyter-widgets/controls",
          "model_name": "DescriptionStyleModel",
          "model_module_version": "1.5.0",
          "state": {
            "_model_module": "@jupyter-widgets/controls",
            "_model_module_version": "1.5.0",
            "_model_name": "DescriptionStyleModel",
            "_view_count": null,
            "_view_module": "@jupyter-widgets/base",
            "_view_module_version": "1.2.0",
            "_view_name": "StyleView",
            "description_width": ""
          }
        },
        "6d62e1ad1d4649588654096255a42d99": {
          "model_module": "@jupyter-widgets/base",
          "model_name": "LayoutModel",
          "model_module_version": "1.2.0",
          "state": {
            "_model_module": "@jupyter-widgets/base",
            "_model_module_version": "1.2.0",
            "_model_name": "LayoutModel",
            "_view_count": null,
            "_view_module": "@jupyter-widgets/base",
            "_view_module_version": "1.2.0",
            "_view_name": "LayoutView",
            "align_content": null,
            "align_items": null,
            "align_self": null,
            "border": null,
            "bottom": null,
            "display": null,
            "flex": null,
            "flex_flow": null,
            "grid_area": null,
            "grid_auto_columns": null,
            "grid_auto_flow": null,
            "grid_auto_rows": null,
            "grid_column": null,
            "grid_gap": null,
            "grid_row": null,
            "grid_template_areas": null,
            "grid_template_columns": null,
            "grid_template_rows": null,
            "height": null,
            "justify_content": null,
            "justify_items": null,
            "left": null,
            "margin": null,
            "max_height": null,
            "max_width": null,
            "min_height": null,
            "min_width": null,
            "object_fit": null,
            "object_position": null,
            "order": null,
            "overflow": null,
            "overflow_x": null,
            "overflow_y": null,
            "padding": null,
            "right": null,
            "top": null,
            "visibility": null,
            "width": null
          }
        },
        "0fa60aca73eb4bffb7b9c73e1bcfb73f": {
          "model_module": "@jupyter-widgets/controls",
          "model_name": "ProgressStyleModel",
          "model_module_version": "1.5.0",
          "state": {
            "_model_module": "@jupyter-widgets/controls",
            "_model_module_version": "1.5.0",
            "_model_name": "ProgressStyleModel",
            "_view_count": null,
            "_view_module": "@jupyter-widgets/base",
            "_view_module_version": "1.2.0",
            "_view_name": "StyleView",
            "bar_color": null,
            "description_width": ""
          }
        },
        "a97e50e1104b4cbb99761ac8b1fc2419": {
          "model_module": "@jupyter-widgets/base",
          "model_name": "LayoutModel",
          "model_module_version": "1.2.0",
          "state": {
            "_model_module": "@jupyter-widgets/base",
            "_model_module_version": "1.2.0",
            "_model_name": "LayoutModel",
            "_view_count": null,
            "_view_module": "@jupyter-widgets/base",
            "_view_module_version": "1.2.0",
            "_view_name": "LayoutView",
            "align_content": null,
            "align_items": null,
            "align_self": null,
            "border": null,
            "bottom": null,
            "display": null,
            "flex": null,
            "flex_flow": null,
            "grid_area": null,
            "grid_auto_columns": null,
            "grid_auto_flow": null,
            "grid_auto_rows": null,
            "grid_column": null,
            "grid_gap": null,
            "grid_row": null,
            "grid_template_areas": null,
            "grid_template_columns": null,
            "grid_template_rows": null,
            "height": null,
            "justify_content": null,
            "justify_items": null,
            "left": null,
            "margin": null,
            "max_height": null,
            "max_width": null,
            "min_height": null,
            "min_width": null,
            "object_fit": null,
            "object_position": null,
            "order": null,
            "overflow": null,
            "overflow_x": null,
            "overflow_y": null,
            "padding": null,
            "right": null,
            "top": null,
            "visibility": null,
            "width": null
          }
        },
        "952827e1c7ff4825b563a5167dc14bd4": {
          "model_module": "@jupyter-widgets/controls",
          "model_name": "DescriptionStyleModel",
          "model_module_version": "1.5.0",
          "state": {
            "_model_module": "@jupyter-widgets/controls",
            "_model_module_version": "1.5.0",
            "_model_name": "DescriptionStyleModel",
            "_view_count": null,
            "_view_module": "@jupyter-widgets/base",
            "_view_module_version": "1.2.0",
            "_view_name": "StyleView",
            "description_width": ""
          }
        },
        "b0f05579197b4a27817b6d441c202eb4": {
          "model_module": "@jupyter-widgets/controls",
          "model_name": "VBoxModel",
          "model_module_version": "1.5.0",
          "state": {
            "_dom_classes": [],
            "_model_module": "@jupyter-widgets/controls",
            "_model_module_version": "1.5.0",
            "_model_name": "VBoxModel",
            "_view_count": null,
            "_view_module": "@jupyter-widgets/controls",
            "_view_module_version": "1.5.0",
            "_view_name": "VBoxView",
            "box_style": "",
            "children": [
              "IPY_MODEL_0c5b19d8ee464908bc0959081f9ca4ca",
              "IPY_MODEL_0ebfa94039be41fe84527a70ad4ac4e0"
            ],
            "layout": "IPY_MODEL_dbf0943590dc43cfa45b4873ed652aad"
          }
        },
        "0c5b19d8ee464908bc0959081f9ca4ca": {
          "model_module": "@jupyter-widgets/controls",
          "model_name": "LabelModel",
          "model_module_version": "1.5.0",
          "state": {
            "_dom_classes": [],
            "_model_module": "@jupyter-widgets/controls",
            "_model_module_version": "1.5.0",
            "_model_name": "LabelModel",
            "_view_count": null,
            "_view_module": "@jupyter-widgets/controls",
            "_view_module_version": "1.5.0",
            "_view_name": "LabelView",
            "description": "",
            "description_tooltip": null,
            "layout": "IPY_MODEL_0e13608751c34cf28cec7675eabbdfa7",
            "placeholder": "​",
            "style": "IPY_MODEL_99fb87860d96441c877fa82ced1896fa",
            "value": "2.489 MB of 2.489 MB uploaded\r"
          }
        },
        "0ebfa94039be41fe84527a70ad4ac4e0": {
          "model_module": "@jupyter-widgets/controls",
          "model_name": "FloatProgressModel",
          "model_module_version": "1.5.0",
          "state": {
            "_dom_classes": [],
            "_model_module": "@jupyter-widgets/controls",
            "_model_module_version": "1.5.0",
            "_model_name": "FloatProgressModel",
            "_view_count": null,
            "_view_module": "@jupyter-widgets/controls",
            "_view_module_version": "1.5.0",
            "_view_name": "ProgressView",
            "bar_style": "",
            "description": "",
            "description_tooltip": null,
            "layout": "IPY_MODEL_161ecb0d45d449c2a0303237e3864f0f",
            "max": 1,
            "min": 0,
            "orientation": "horizontal",
            "style": "IPY_MODEL_180ccbbebe784cccad5e8d9d30965753",
            "value": 1
          }
        },
        "dbf0943590dc43cfa45b4873ed652aad": {
          "model_module": "@jupyter-widgets/base",
          "model_name": "LayoutModel",
          "model_module_version": "1.2.0",
          "state": {
            "_model_module": "@jupyter-widgets/base",
            "_model_module_version": "1.2.0",
            "_model_name": "LayoutModel",
            "_view_count": null,
            "_view_module": "@jupyter-widgets/base",
            "_view_module_version": "1.2.0",
            "_view_name": "LayoutView",
            "align_content": null,
            "align_items": null,
            "align_self": null,
            "border": null,
            "bottom": null,
            "display": null,
            "flex": null,
            "flex_flow": null,
            "grid_area": null,
            "grid_auto_columns": null,
            "grid_auto_flow": null,
            "grid_auto_rows": null,
            "grid_column": null,
            "grid_gap": null,
            "grid_row": null,
            "grid_template_areas": null,
            "grid_template_columns": null,
            "grid_template_rows": null,
            "height": null,
            "justify_content": null,
            "justify_items": null,
            "left": null,
            "margin": null,
            "max_height": null,
            "max_width": null,
            "min_height": null,
            "min_width": null,
            "object_fit": null,
            "object_position": null,
            "order": null,
            "overflow": null,
            "overflow_x": null,
            "overflow_y": null,
            "padding": null,
            "right": null,
            "top": null,
            "visibility": null,
            "width": null
          }
        },
        "0e13608751c34cf28cec7675eabbdfa7": {
          "model_module": "@jupyter-widgets/base",
          "model_name": "LayoutModel",
          "model_module_version": "1.2.0",
          "state": {
            "_model_module": "@jupyter-widgets/base",
            "_model_module_version": "1.2.0",
            "_model_name": "LayoutModel",
            "_view_count": null,
            "_view_module": "@jupyter-widgets/base",
            "_view_module_version": "1.2.0",
            "_view_name": "LayoutView",
            "align_content": null,
            "align_items": null,
            "align_self": null,
            "border": null,
            "bottom": null,
            "display": null,
            "flex": null,
            "flex_flow": null,
            "grid_area": null,
            "grid_auto_columns": null,
            "grid_auto_flow": null,
            "grid_auto_rows": null,
            "grid_column": null,
            "grid_gap": null,
            "grid_row": null,
            "grid_template_areas": null,
            "grid_template_columns": null,
            "grid_template_rows": null,
            "height": null,
            "justify_content": null,
            "justify_items": null,
            "left": null,
            "margin": null,
            "max_height": null,
            "max_width": null,
            "min_height": null,
            "min_width": null,
            "object_fit": null,
            "object_position": null,
            "order": null,
            "overflow": null,
            "overflow_x": null,
            "overflow_y": null,
            "padding": null,
            "right": null,
            "top": null,
            "visibility": null,
            "width": null
          }
        },
        "99fb87860d96441c877fa82ced1896fa": {
          "model_module": "@jupyter-widgets/controls",
          "model_name": "DescriptionStyleModel",
          "model_module_version": "1.5.0",
          "state": {
            "_model_module": "@jupyter-widgets/controls",
            "_model_module_version": "1.5.0",
            "_model_name": "DescriptionStyleModel",
            "_view_count": null,
            "_view_module": "@jupyter-widgets/base",
            "_view_module_version": "1.2.0",
            "_view_name": "StyleView",
            "description_width": ""
          }
        },
        "161ecb0d45d449c2a0303237e3864f0f": {
          "model_module": "@jupyter-widgets/base",
          "model_name": "LayoutModel",
          "model_module_version": "1.2.0",
          "state": {
            "_model_module": "@jupyter-widgets/base",
            "_model_module_version": "1.2.0",
            "_model_name": "LayoutModel",
            "_view_count": null,
            "_view_module": "@jupyter-widgets/base",
            "_view_module_version": "1.2.0",
            "_view_name": "LayoutView",
            "align_content": null,
            "align_items": null,
            "align_self": null,
            "border": null,
            "bottom": null,
            "display": null,
            "flex": null,
            "flex_flow": null,
            "grid_area": null,
            "grid_auto_columns": null,
            "grid_auto_flow": null,
            "grid_auto_rows": null,
            "grid_column": null,
            "grid_gap": null,
            "grid_row": null,
            "grid_template_areas": null,
            "grid_template_columns": null,
            "grid_template_rows": null,
            "height": null,
            "justify_content": null,
            "justify_items": null,
            "left": null,
            "margin": null,
            "max_height": null,
            "max_width": null,
            "min_height": null,
            "min_width": null,
            "object_fit": null,
            "object_position": null,
            "order": null,
            "overflow": null,
            "overflow_x": null,
            "overflow_y": null,
            "padding": null,
            "right": null,
            "top": null,
            "visibility": null,
            "width": null
          }
        },
        "180ccbbebe784cccad5e8d9d30965753": {
          "model_module": "@jupyter-widgets/controls",
          "model_name": "ProgressStyleModel",
          "model_module_version": "1.5.0",
          "state": {
            "_model_module": "@jupyter-widgets/controls",
            "_model_module_version": "1.5.0",
            "_model_name": "ProgressStyleModel",
            "_view_count": null,
            "_view_module": "@jupyter-widgets/base",
            "_view_module_version": "1.2.0",
            "_view_name": "StyleView",
            "bar_color": null,
            "description_width": ""
          }
        },
        "516e6b5e39e84eed9022bb8d529736c0": {
          "model_module": "@jupyter-widgets/controls",
          "model_name": "HBoxModel",
          "model_module_version": "1.5.0",
          "state": {
            "_dom_classes": [],
            "_model_module": "@jupyter-widgets/controls",
            "_model_module_version": "1.5.0",
            "_model_name": "HBoxModel",
            "_view_count": null,
            "_view_module": "@jupyter-widgets/controls",
            "_view_module_version": "1.5.0",
            "_view_name": "HBoxView",
            "box_style": "",
            "children": [
              "IPY_MODEL_f70e3ed7baee47efb082aaac1644b779",
              "IPY_MODEL_7868575c7b0742d2ab158a2c03a19d56",
              "IPY_MODEL_67dd9eae38b94620bb467c7c12939433"
            ],
            "layout": "IPY_MODEL_a51db4168fee4379a50e27c10840841a"
          }
        },
        "f70e3ed7baee47efb082aaac1644b779": {
          "model_module": "@jupyter-widgets/controls",
          "model_name": "HTMLModel",
          "model_module_version": "1.5.0",
          "state": {
            "_dom_classes": [],
            "_model_module": "@jupyter-widgets/controls",
            "_model_module_version": "1.5.0",
            "_model_name": "HTMLModel",
            "_view_count": null,
            "_view_module": "@jupyter-widgets/controls",
            "_view_module_version": "1.5.0",
            "_view_name": "HTMLView",
            "description": "",
            "description_tooltip": null,
            "layout": "IPY_MODEL_0d2a3681868d407b83148d3096b73a94",
            "placeholder": "​",
            "style": "IPY_MODEL_f89ef5b318d3497f933500f0751df1fd",
            "value": "Map: 100%"
          }
        },
        "7868575c7b0742d2ab158a2c03a19d56": {
          "model_module": "@jupyter-widgets/controls",
          "model_name": "FloatProgressModel",
          "model_module_version": "1.5.0",
          "state": {
            "_dom_classes": [],
            "_model_module": "@jupyter-widgets/controls",
            "_model_module_version": "1.5.0",
            "_model_name": "FloatProgressModel",
            "_view_count": null,
            "_view_module": "@jupyter-widgets/controls",
            "_view_module_version": "1.5.0",
            "_view_name": "ProgressView",
            "bar_style": "success",
            "description": "",
            "description_tooltip": null,
            "layout": "IPY_MODEL_3a7d901449d44c7996c23ca793b2c99d",
            "max": 1000,
            "min": 0,
            "orientation": "horizontal",
            "style": "IPY_MODEL_39d55505755745d6838b53f45fe12c53",
            "value": 1000
          }
        },
        "67dd9eae38b94620bb467c7c12939433": {
          "model_module": "@jupyter-widgets/controls",
          "model_name": "HTMLModel",
          "model_module_version": "1.5.0",
          "state": {
            "_dom_classes": [],
            "_model_module": "@jupyter-widgets/controls",
            "_model_module_version": "1.5.0",
            "_model_name": "HTMLModel",
            "_view_count": null,
            "_view_module": "@jupyter-widgets/controls",
            "_view_module_version": "1.5.0",
            "_view_name": "HTMLView",
            "description": "",
            "description_tooltip": null,
            "layout": "IPY_MODEL_3b80616eb9ad491ebfede99acfa9dbd9",
            "placeholder": "​",
            "style": "IPY_MODEL_fff2ba0b69cb47348211e9e7def601c7",
            "value": " 1000/1000 [00:00&lt;00:00, 4308.63 examples/s]"
          }
        },
        "a51db4168fee4379a50e27c10840841a": {
          "model_module": "@jupyter-widgets/base",
          "model_name": "LayoutModel",
          "model_module_version": "1.2.0",
          "state": {
            "_model_module": "@jupyter-widgets/base",
            "_model_module_version": "1.2.0",
            "_model_name": "LayoutModel",
            "_view_count": null,
            "_view_module": "@jupyter-widgets/base",
            "_view_module_version": "1.2.0",
            "_view_name": "LayoutView",
            "align_content": null,
            "align_items": null,
            "align_self": null,
            "border": null,
            "bottom": null,
            "display": null,
            "flex": null,
            "flex_flow": null,
            "grid_area": null,
            "grid_auto_columns": null,
            "grid_auto_flow": null,
            "grid_auto_rows": null,
            "grid_column": null,
            "grid_gap": null,
            "grid_row": null,
            "grid_template_areas": null,
            "grid_template_columns": null,
            "grid_template_rows": null,
            "height": null,
            "justify_content": null,
            "justify_items": null,
            "left": null,
            "margin": null,
            "max_height": null,
            "max_width": null,
            "min_height": null,
            "min_width": null,
            "object_fit": null,
            "object_position": null,
            "order": null,
            "overflow": null,
            "overflow_x": null,
            "overflow_y": null,
            "padding": null,
            "right": null,
            "top": null,
            "visibility": null,
            "width": null
          }
        },
        "0d2a3681868d407b83148d3096b73a94": {
          "model_module": "@jupyter-widgets/base",
          "model_name": "LayoutModel",
          "model_module_version": "1.2.0",
          "state": {
            "_model_module": "@jupyter-widgets/base",
            "_model_module_version": "1.2.0",
            "_model_name": "LayoutModel",
            "_view_count": null,
            "_view_module": "@jupyter-widgets/base",
            "_view_module_version": "1.2.0",
            "_view_name": "LayoutView",
            "align_content": null,
            "align_items": null,
            "align_self": null,
            "border": null,
            "bottom": null,
            "display": null,
            "flex": null,
            "flex_flow": null,
            "grid_area": null,
            "grid_auto_columns": null,
            "grid_auto_flow": null,
            "grid_auto_rows": null,
            "grid_column": null,
            "grid_gap": null,
            "grid_row": null,
            "grid_template_areas": null,
            "grid_template_columns": null,
            "grid_template_rows": null,
            "height": null,
            "justify_content": null,
            "justify_items": null,
            "left": null,
            "margin": null,
            "max_height": null,
            "max_width": null,
            "min_height": null,
            "min_width": null,
            "object_fit": null,
            "object_position": null,
            "order": null,
            "overflow": null,
            "overflow_x": null,
            "overflow_y": null,
            "padding": null,
            "right": null,
            "top": null,
            "visibility": null,
            "width": null
          }
        },
        "f89ef5b318d3497f933500f0751df1fd": {
          "model_module": "@jupyter-widgets/controls",
          "model_name": "DescriptionStyleModel",
          "model_module_version": "1.5.0",
          "state": {
            "_model_module": "@jupyter-widgets/controls",
            "_model_module_version": "1.5.0",
            "_model_name": "DescriptionStyleModel",
            "_view_count": null,
            "_view_module": "@jupyter-widgets/base",
            "_view_module_version": "1.2.0",
            "_view_name": "StyleView",
            "description_width": ""
          }
        },
        "3a7d901449d44c7996c23ca793b2c99d": {
          "model_module": "@jupyter-widgets/base",
          "model_name": "LayoutModel",
          "model_module_version": "1.2.0",
          "state": {
            "_model_module": "@jupyter-widgets/base",
            "_model_module_version": "1.2.0",
            "_model_name": "LayoutModel",
            "_view_count": null,
            "_view_module": "@jupyter-widgets/base",
            "_view_module_version": "1.2.0",
            "_view_name": "LayoutView",
            "align_content": null,
            "align_items": null,
            "align_self": null,
            "border": null,
            "bottom": null,
            "display": null,
            "flex": null,
            "flex_flow": null,
            "grid_area": null,
            "grid_auto_columns": null,
            "grid_auto_flow": null,
            "grid_auto_rows": null,
            "grid_column": null,
            "grid_gap": null,
            "grid_row": null,
            "grid_template_areas": null,
            "grid_template_columns": null,
            "grid_template_rows": null,
            "height": null,
            "justify_content": null,
            "justify_items": null,
            "left": null,
            "margin": null,
            "max_height": null,
            "max_width": null,
            "min_height": null,
            "min_width": null,
            "object_fit": null,
            "object_position": null,
            "order": null,
            "overflow": null,
            "overflow_x": null,
            "overflow_y": null,
            "padding": null,
            "right": null,
            "top": null,
            "visibility": null,
            "width": null
          }
        },
        "39d55505755745d6838b53f45fe12c53": {
          "model_module": "@jupyter-widgets/controls",
          "model_name": "ProgressStyleModel",
          "model_module_version": "1.5.0",
          "state": {
            "_model_module": "@jupyter-widgets/controls",
            "_model_module_version": "1.5.0",
            "_model_name": "ProgressStyleModel",
            "_view_count": null,
            "_view_module": "@jupyter-widgets/base",
            "_view_module_version": "1.2.0",
            "_view_name": "StyleView",
            "bar_color": null,
            "description_width": ""
          }
        },
        "3b80616eb9ad491ebfede99acfa9dbd9": {
          "model_module": "@jupyter-widgets/base",
          "model_name": "LayoutModel",
          "model_module_version": "1.2.0",
          "state": {
            "_model_module": "@jupyter-widgets/base",
            "_model_module_version": "1.2.0",
            "_model_name": "LayoutModel",
            "_view_count": null,
            "_view_module": "@jupyter-widgets/base",
            "_view_module_version": "1.2.0",
            "_view_name": "LayoutView",
            "align_content": null,
            "align_items": null,
            "align_self": null,
            "border": null,
            "bottom": null,
            "display": null,
            "flex": null,
            "flex_flow": null,
            "grid_area": null,
            "grid_auto_columns": null,
            "grid_auto_flow": null,
            "grid_auto_rows": null,
            "grid_column": null,
            "grid_gap": null,
            "grid_row": null,
            "grid_template_areas": null,
            "grid_template_columns": null,
            "grid_template_rows": null,
            "height": null,
            "justify_content": null,
            "justify_items": null,
            "left": null,
            "margin": null,
            "max_height": null,
            "max_width": null,
            "min_height": null,
            "min_width": null,
            "object_fit": null,
            "object_position": null,
            "order": null,
            "overflow": null,
            "overflow_x": null,
            "overflow_y": null,
            "padding": null,
            "right": null,
            "top": null,
            "visibility": null,
            "width": null
          }
        },
        "fff2ba0b69cb47348211e9e7def601c7": {
          "model_module": "@jupyter-widgets/controls",
          "model_name": "DescriptionStyleModel",
          "model_module_version": "1.5.0",
          "state": {
            "_model_module": "@jupyter-widgets/controls",
            "_model_module_version": "1.5.0",
            "_model_name": "DescriptionStyleModel",
            "_view_count": null,
            "_view_module": "@jupyter-widgets/base",
            "_view_module_version": "1.2.0",
            "_view_name": "StyleView",
            "description_width": ""
          }
        },
        "ef33695e9e9b4d38ac0ea0603fd1c440": {
          "model_module": "@jupyter-widgets/controls",
          "model_name": "HBoxModel",
          "model_module_version": "1.5.0",
          "state": {
            "_dom_classes": [],
            "_model_module": "@jupyter-widgets/controls",
            "_model_module_version": "1.5.0",
            "_model_name": "HBoxModel",
            "_view_count": null,
            "_view_module": "@jupyter-widgets/controls",
            "_view_module_version": "1.5.0",
            "_view_name": "HBoxView",
            "box_style": "",
            "children": [
              "IPY_MODEL_0912ff8497054827bec22d8cbf972da8",
              "IPY_MODEL_8cf1a3bc992d47f1a36b433ea287e134",
              "IPY_MODEL_6b29c86d122b4af98dac0186ca36e50c"
            ],
            "layout": "IPY_MODEL_5ad2608f87d74446b7f2571cdb076cfa"
          }
        },
        "0912ff8497054827bec22d8cbf972da8": {
          "model_module": "@jupyter-widgets/controls",
          "model_name": "HTMLModel",
          "model_module_version": "1.5.0",
          "state": {
            "_dom_classes": [],
            "_model_module": "@jupyter-widgets/controls",
            "_model_module_version": "1.5.0",
            "_model_name": "HTMLModel",
            "_view_count": null,
            "_view_module": "@jupyter-widgets/controls",
            "_view_module_version": "1.5.0",
            "_view_name": "HTMLView",
            "description": "",
            "description_tooltip": null,
            "layout": "IPY_MODEL_a503ce159eb34c06b579dcd3b816c358",
            "placeholder": "​",
            "style": "IPY_MODEL_2ffec81786f0444b911d31bfc3f4b4dc",
            "value": "Map: 100%"
          }
        },
        "8cf1a3bc992d47f1a36b433ea287e134": {
          "model_module": "@jupyter-widgets/controls",
          "model_name": "FloatProgressModel",
          "model_module_version": "1.5.0",
          "state": {
            "_dom_classes": [],
            "_model_module": "@jupyter-widgets/controls",
            "_model_module_version": "1.5.0",
            "_model_name": "FloatProgressModel",
            "_view_count": null,
            "_view_module": "@jupyter-widgets/controls",
            "_view_module_version": "1.5.0",
            "_view_name": "ProgressView",
            "bar_style": "success",
            "description": "",
            "description_tooltip": null,
            "layout": "IPY_MODEL_bda0118ded2a403188095f320c2995bb",
            "max": 1000,
            "min": 0,
            "orientation": "horizontal",
            "style": "IPY_MODEL_67f1d00a319e40e28d194293aacdb96a",
            "value": 1000
          }
        },
        "6b29c86d122b4af98dac0186ca36e50c": {
          "model_module": "@jupyter-widgets/controls",
          "model_name": "HTMLModel",
          "model_module_version": "1.5.0",
          "state": {
            "_dom_classes": [],
            "_model_module": "@jupyter-widgets/controls",
            "_model_module_version": "1.5.0",
            "_model_name": "HTMLModel",
            "_view_count": null,
            "_view_module": "@jupyter-widgets/controls",
            "_view_module_version": "1.5.0",
            "_view_name": "HTMLView",
            "description": "",
            "description_tooltip": null,
            "layout": "IPY_MODEL_454a212204a14932aeae5590ea7c80c8",
            "placeholder": "​",
            "style": "IPY_MODEL_422c3033c2b34d819b69b07dc3a32879",
            "value": " 1000/1000 [00:00&lt;00:00, 36198.36 examples/s]"
          }
        },
        "5ad2608f87d74446b7f2571cdb076cfa": {
          "model_module": "@jupyter-widgets/base",
          "model_name": "LayoutModel",
          "model_module_version": "1.2.0",
          "state": {
            "_model_module": "@jupyter-widgets/base",
            "_model_module_version": "1.2.0",
            "_model_name": "LayoutModel",
            "_view_count": null,
            "_view_module": "@jupyter-widgets/base",
            "_view_module_version": "1.2.0",
            "_view_name": "LayoutView",
            "align_content": null,
            "align_items": null,
            "align_self": null,
            "border": null,
            "bottom": null,
            "display": null,
            "flex": null,
            "flex_flow": null,
            "grid_area": null,
            "grid_auto_columns": null,
            "grid_auto_flow": null,
            "grid_auto_rows": null,
            "grid_column": null,
            "grid_gap": null,
            "grid_row": null,
            "grid_template_areas": null,
            "grid_template_columns": null,
            "grid_template_rows": null,
            "height": null,
            "justify_content": null,
            "justify_items": null,
            "left": null,
            "margin": null,
            "max_height": null,
            "max_width": null,
            "min_height": null,
            "min_width": null,
            "object_fit": null,
            "object_position": null,
            "order": null,
            "overflow": null,
            "overflow_x": null,
            "overflow_y": null,
            "padding": null,
            "right": null,
            "top": null,
            "visibility": null,
            "width": null
          }
        },
        "a503ce159eb34c06b579dcd3b816c358": {
          "model_module": "@jupyter-widgets/base",
          "model_name": "LayoutModel",
          "model_module_version": "1.2.0",
          "state": {
            "_model_module": "@jupyter-widgets/base",
            "_model_module_version": "1.2.0",
            "_model_name": "LayoutModel",
            "_view_count": null,
            "_view_module": "@jupyter-widgets/base",
            "_view_module_version": "1.2.0",
            "_view_name": "LayoutView",
            "align_content": null,
            "align_items": null,
            "align_self": null,
            "border": null,
            "bottom": null,
            "display": null,
            "flex": null,
            "flex_flow": null,
            "grid_area": null,
            "grid_auto_columns": null,
            "grid_auto_flow": null,
            "grid_auto_rows": null,
            "grid_column": null,
            "grid_gap": null,
            "grid_row": null,
            "grid_template_areas": null,
            "grid_template_columns": null,
            "grid_template_rows": null,
            "height": null,
            "justify_content": null,
            "justify_items": null,
            "left": null,
            "margin": null,
            "max_height": null,
            "max_width": null,
            "min_height": null,
            "min_width": null,
            "object_fit": null,
            "object_position": null,
            "order": null,
            "overflow": null,
            "overflow_x": null,
            "overflow_y": null,
            "padding": null,
            "right": null,
            "top": null,
            "visibility": null,
            "width": null
          }
        },
        "2ffec81786f0444b911d31bfc3f4b4dc": {
          "model_module": "@jupyter-widgets/controls",
          "model_name": "DescriptionStyleModel",
          "model_module_version": "1.5.0",
          "state": {
            "_model_module": "@jupyter-widgets/controls",
            "_model_module_version": "1.5.0",
            "_model_name": "DescriptionStyleModel",
            "_view_count": null,
            "_view_module": "@jupyter-widgets/base",
            "_view_module_version": "1.2.0",
            "_view_name": "StyleView",
            "description_width": ""
          }
        },
        "bda0118ded2a403188095f320c2995bb": {
          "model_module": "@jupyter-widgets/base",
          "model_name": "LayoutModel",
          "model_module_version": "1.2.0",
          "state": {
            "_model_module": "@jupyter-widgets/base",
            "_model_module_version": "1.2.0",
            "_model_name": "LayoutModel",
            "_view_count": null,
            "_view_module": "@jupyter-widgets/base",
            "_view_module_version": "1.2.0",
            "_view_name": "LayoutView",
            "align_content": null,
            "align_items": null,
            "align_self": null,
            "border": null,
            "bottom": null,
            "display": null,
            "flex": null,
            "flex_flow": null,
            "grid_area": null,
            "grid_auto_columns": null,
            "grid_auto_flow": null,
            "grid_auto_rows": null,
            "grid_column": null,
            "grid_gap": null,
            "grid_row": null,
            "grid_template_areas": null,
            "grid_template_columns": null,
            "grid_template_rows": null,
            "height": null,
            "justify_content": null,
            "justify_items": null,
            "left": null,
            "margin": null,
            "max_height": null,
            "max_width": null,
            "min_height": null,
            "min_width": null,
            "object_fit": null,
            "object_position": null,
            "order": null,
            "overflow": null,
            "overflow_x": null,
            "overflow_y": null,
            "padding": null,
            "right": null,
            "top": null,
            "visibility": null,
            "width": null
          }
        },
        "67f1d00a319e40e28d194293aacdb96a": {
          "model_module": "@jupyter-widgets/controls",
          "model_name": "ProgressStyleModel",
          "model_module_version": "1.5.0",
          "state": {
            "_model_module": "@jupyter-widgets/controls",
            "_model_module_version": "1.5.0",
            "_model_name": "ProgressStyleModel",
            "_view_count": null,
            "_view_module": "@jupyter-widgets/base",
            "_view_module_version": "1.2.0",
            "_view_name": "StyleView",
            "bar_color": null,
            "description_width": ""
          }
        },
        "454a212204a14932aeae5590ea7c80c8": {
          "model_module": "@jupyter-widgets/base",
          "model_name": "LayoutModel",
          "model_module_version": "1.2.0",
          "state": {
            "_model_module": "@jupyter-widgets/base",
            "_model_module_version": "1.2.0",
            "_model_name": "LayoutModel",
            "_view_count": null,
            "_view_module": "@jupyter-widgets/base",
            "_view_module_version": "1.2.0",
            "_view_name": "LayoutView",
            "align_content": null,
            "align_items": null,
            "align_self": null,
            "border": null,
            "bottom": null,
            "display": null,
            "flex": null,
            "flex_flow": null,
            "grid_area": null,
            "grid_auto_columns": null,
            "grid_auto_flow": null,
            "grid_auto_rows": null,
            "grid_column": null,
            "grid_gap": null,
            "grid_row": null,
            "grid_template_areas": null,
            "grid_template_columns": null,
            "grid_template_rows": null,
            "height": null,
            "justify_content": null,
            "justify_items": null,
            "left": null,
            "margin": null,
            "max_height": null,
            "max_width": null,
            "min_height": null,
            "min_width": null,
            "object_fit": null,
            "object_position": null,
            "order": null,
            "overflow": null,
            "overflow_x": null,
            "overflow_y": null,
            "padding": null,
            "right": null,
            "top": null,
            "visibility": null,
            "width": null
          }
        },
        "422c3033c2b34d819b69b07dc3a32879": {
          "model_module": "@jupyter-widgets/controls",
          "model_name": "DescriptionStyleModel",
          "model_module_version": "1.5.0",
          "state": {
            "_model_module": "@jupyter-widgets/controls",
            "_model_module_version": "1.5.0",
            "_model_name": "DescriptionStyleModel",
            "_view_count": null,
            "_view_module": "@jupyter-widgets/base",
            "_view_module_version": "1.2.0",
            "_view_name": "StyleView",
            "description_width": ""
          }
        },
        "e3243f2858fc44cfbcee10ca1d99755f": {
          "model_module": "@jupyter-widgets/controls",
          "model_name": "HBoxModel",
          "model_module_version": "1.5.0",
          "state": {
            "_dom_classes": [],
            "_model_module": "@jupyter-widgets/controls",
            "_model_module_version": "1.5.0",
            "_model_name": "HBoxModel",
            "_view_count": null,
            "_view_module": "@jupyter-widgets/controls",
            "_view_module_version": "1.5.0",
            "_view_name": "HBoxView",
            "box_style": "",
            "children": [
              "IPY_MODEL_66658f99032547bbab9516f481d30464",
              "IPY_MODEL_6532de42f02440f7a73cd10cbc158c72",
              "IPY_MODEL_f295a021ac634a5a80ea11aefc0538ab"
            ],
            "layout": "IPY_MODEL_eba7e69e01784a88af13311586f0c7d2"
          }
        },
        "66658f99032547bbab9516f481d30464": {
          "model_module": "@jupyter-widgets/controls",
          "model_name": "HTMLModel",
          "model_module_version": "1.5.0",
          "state": {
            "_dom_classes": [],
            "_model_module": "@jupyter-widgets/controls",
            "_model_module_version": "1.5.0",
            "_model_name": "HTMLModel",
            "_view_count": null,
            "_view_module": "@jupyter-widgets/controls",
            "_view_module_version": "1.5.0",
            "_view_name": "HTMLView",
            "description": "",
            "description_tooltip": null,
            "layout": "IPY_MODEL_5c73185738a94492b57050680938fe14",
            "placeholder": "​",
            "style": "IPY_MODEL_8fafe05e43524801a0465cfc54ca501f",
            "value": "Map: 100%"
          }
        },
        "6532de42f02440f7a73cd10cbc158c72": {
          "model_module": "@jupyter-widgets/controls",
          "model_name": "FloatProgressModel",
          "model_module_version": "1.5.0",
          "state": {
            "_dom_classes": [],
            "_model_module": "@jupyter-widgets/controls",
            "_model_module_version": "1.5.0",
            "_model_name": "FloatProgressModel",
            "_view_count": null,
            "_view_module": "@jupyter-widgets/controls",
            "_view_module_version": "1.5.0",
            "_view_name": "ProgressView",
            "bar_style": "success",
            "description": "",
            "description_tooltip": null,
            "layout": "IPY_MODEL_4eca54e3a2244bdbac042f18fc7b74aa",
            "max": 700,
            "min": 0,
            "orientation": "horizontal",
            "style": "IPY_MODEL_1496c721942f4117aedd65985595bd6d",
            "value": 700
          }
        },
        "f295a021ac634a5a80ea11aefc0538ab": {
          "model_module": "@jupyter-widgets/controls",
          "model_name": "HTMLModel",
          "model_module_version": "1.5.0",
          "state": {
            "_dom_classes": [],
            "_model_module": "@jupyter-widgets/controls",
            "_model_module_version": "1.5.0",
            "_model_name": "HTMLModel",
            "_view_count": null,
            "_view_module": "@jupyter-widgets/controls",
            "_view_module_version": "1.5.0",
            "_view_name": "HTMLView",
            "description": "",
            "description_tooltip": null,
            "layout": "IPY_MODEL_945c705099af460a9933f05f3d6d4282",
            "placeholder": "​",
            "style": "IPY_MODEL_2a6e317c101943778db5d19cdb168009",
            "value": " 700/700 [00:00&lt;00:00, 2698.79 examples/s]"
          }
        },
        "eba7e69e01784a88af13311586f0c7d2": {
          "model_module": "@jupyter-widgets/base",
          "model_name": "LayoutModel",
          "model_module_version": "1.2.0",
          "state": {
            "_model_module": "@jupyter-widgets/base",
            "_model_module_version": "1.2.0",
            "_model_name": "LayoutModel",
            "_view_count": null,
            "_view_module": "@jupyter-widgets/base",
            "_view_module_version": "1.2.0",
            "_view_name": "LayoutView",
            "align_content": null,
            "align_items": null,
            "align_self": null,
            "border": null,
            "bottom": null,
            "display": null,
            "flex": null,
            "flex_flow": null,
            "grid_area": null,
            "grid_auto_columns": null,
            "grid_auto_flow": null,
            "grid_auto_rows": null,
            "grid_column": null,
            "grid_gap": null,
            "grid_row": null,
            "grid_template_areas": null,
            "grid_template_columns": null,
            "grid_template_rows": null,
            "height": null,
            "justify_content": null,
            "justify_items": null,
            "left": null,
            "margin": null,
            "max_height": null,
            "max_width": null,
            "min_height": null,
            "min_width": null,
            "object_fit": null,
            "object_position": null,
            "order": null,
            "overflow": null,
            "overflow_x": null,
            "overflow_y": null,
            "padding": null,
            "right": null,
            "top": null,
            "visibility": null,
            "width": null
          }
        },
        "5c73185738a94492b57050680938fe14": {
          "model_module": "@jupyter-widgets/base",
          "model_name": "LayoutModel",
          "model_module_version": "1.2.0",
          "state": {
            "_model_module": "@jupyter-widgets/base",
            "_model_module_version": "1.2.0",
            "_model_name": "LayoutModel",
            "_view_count": null,
            "_view_module": "@jupyter-widgets/base",
            "_view_module_version": "1.2.0",
            "_view_name": "LayoutView",
            "align_content": null,
            "align_items": null,
            "align_self": null,
            "border": null,
            "bottom": null,
            "display": null,
            "flex": null,
            "flex_flow": null,
            "grid_area": null,
            "grid_auto_columns": null,
            "grid_auto_flow": null,
            "grid_auto_rows": null,
            "grid_column": null,
            "grid_gap": null,
            "grid_row": null,
            "grid_template_areas": null,
            "grid_template_columns": null,
            "grid_template_rows": null,
            "height": null,
            "justify_content": null,
            "justify_items": null,
            "left": null,
            "margin": null,
            "max_height": null,
            "max_width": null,
            "min_height": null,
            "min_width": null,
            "object_fit": null,
            "object_position": null,
            "order": null,
            "overflow": null,
            "overflow_x": null,
            "overflow_y": null,
            "padding": null,
            "right": null,
            "top": null,
            "visibility": null,
            "width": null
          }
        },
        "8fafe05e43524801a0465cfc54ca501f": {
          "model_module": "@jupyter-widgets/controls",
          "model_name": "DescriptionStyleModel",
          "model_module_version": "1.5.0",
          "state": {
            "_model_module": "@jupyter-widgets/controls",
            "_model_module_version": "1.5.0",
            "_model_name": "DescriptionStyleModel",
            "_view_count": null,
            "_view_module": "@jupyter-widgets/base",
            "_view_module_version": "1.2.0",
            "_view_name": "StyleView",
            "description_width": ""
          }
        },
        "4eca54e3a2244bdbac042f18fc7b74aa": {
          "model_module": "@jupyter-widgets/base",
          "model_name": "LayoutModel",
          "model_module_version": "1.2.0",
          "state": {
            "_model_module": "@jupyter-widgets/base",
            "_model_module_version": "1.2.0",
            "_model_name": "LayoutModel",
            "_view_count": null,
            "_view_module": "@jupyter-widgets/base",
            "_view_module_version": "1.2.0",
            "_view_name": "LayoutView",
            "align_content": null,
            "align_items": null,
            "align_self": null,
            "border": null,
            "bottom": null,
            "display": null,
            "flex": null,
            "flex_flow": null,
            "grid_area": null,
            "grid_auto_columns": null,
            "grid_auto_flow": null,
            "grid_auto_rows": null,
            "grid_column": null,
            "grid_gap": null,
            "grid_row": null,
            "grid_template_areas": null,
            "grid_template_columns": null,
            "grid_template_rows": null,
            "height": null,
            "justify_content": null,
            "justify_items": null,
            "left": null,
            "margin": null,
            "max_height": null,
            "max_width": null,
            "min_height": null,
            "min_width": null,
            "object_fit": null,
            "object_position": null,
            "order": null,
            "overflow": null,
            "overflow_x": null,
            "overflow_y": null,
            "padding": null,
            "right": null,
            "top": null,
            "visibility": null,
            "width": null
          }
        },
        "1496c721942f4117aedd65985595bd6d": {
          "model_module": "@jupyter-widgets/controls",
          "model_name": "ProgressStyleModel",
          "model_module_version": "1.5.0",
          "state": {
            "_model_module": "@jupyter-widgets/controls",
            "_model_module_version": "1.5.0",
            "_model_name": "ProgressStyleModel",
            "_view_count": null,
            "_view_module": "@jupyter-widgets/base",
            "_view_module_version": "1.2.0",
            "_view_name": "StyleView",
            "bar_color": null,
            "description_width": ""
          }
        },
        "945c705099af460a9933f05f3d6d4282": {
          "model_module": "@jupyter-widgets/base",
          "model_name": "LayoutModel",
          "model_module_version": "1.2.0",
          "state": {
            "_model_module": "@jupyter-widgets/base",
            "_model_module_version": "1.2.0",
            "_model_name": "LayoutModel",
            "_view_count": null,
            "_view_module": "@jupyter-widgets/base",
            "_view_module_version": "1.2.0",
            "_view_name": "LayoutView",
            "align_content": null,
            "align_items": null,
            "align_self": null,
            "border": null,
            "bottom": null,
            "display": null,
            "flex": null,
            "flex_flow": null,
            "grid_area": null,
            "grid_auto_columns": null,
            "grid_auto_flow": null,
            "grid_auto_rows": null,
            "grid_column": null,
            "grid_gap": null,
            "grid_row": null,
            "grid_template_areas": null,
            "grid_template_columns": null,
            "grid_template_rows": null,
            "height": null,
            "justify_content": null,
            "justify_items": null,
            "left": null,
            "margin": null,
            "max_height": null,
            "max_width": null,
            "min_height": null,
            "min_width": null,
            "object_fit": null,
            "object_position": null,
            "order": null,
            "overflow": null,
            "overflow_x": null,
            "overflow_y": null,
            "padding": null,
            "right": null,
            "top": null,
            "visibility": null,
            "width": null
          }
        },
        "2a6e317c101943778db5d19cdb168009": {
          "model_module": "@jupyter-widgets/controls",
          "model_name": "DescriptionStyleModel",
          "model_module_version": "1.5.0",
          "state": {
            "_model_module": "@jupyter-widgets/controls",
            "_model_module_version": "1.5.0",
            "_model_name": "DescriptionStyleModel",
            "_view_count": null,
            "_view_module": "@jupyter-widgets/base",
            "_view_module_version": "1.2.0",
            "_view_name": "StyleView",
            "description_width": ""
          }
        },
        "772029e9351547dc935a7e06ad3bda30": {
          "model_module": "@jupyter-widgets/controls",
          "model_name": "HBoxModel",
          "model_module_version": "1.5.0",
          "state": {
            "_dom_classes": [],
            "_model_module": "@jupyter-widgets/controls",
            "_model_module_version": "1.5.0",
            "_model_name": "HBoxModel",
            "_view_count": null,
            "_view_module": "@jupyter-widgets/controls",
            "_view_module_version": "1.5.0",
            "_view_name": "HBoxView",
            "box_style": "",
            "children": [
              "IPY_MODEL_de4f2983907843758257c4c91b3614d6",
              "IPY_MODEL_fd63f5aae09a40fdac0a58a144f3ad22",
              "IPY_MODEL_44d9322d019d4beba0b775f591e34c31"
            ],
            "layout": "IPY_MODEL_0827aecedf624b40a913bc655540970a"
          }
        },
        "de4f2983907843758257c4c91b3614d6": {
          "model_module": "@jupyter-widgets/controls",
          "model_name": "HTMLModel",
          "model_module_version": "1.5.0",
          "state": {
            "_dom_classes": [],
            "_model_module": "@jupyter-widgets/controls",
            "_model_module_version": "1.5.0",
            "_model_name": "HTMLModel",
            "_view_count": null,
            "_view_module": "@jupyter-widgets/controls",
            "_view_module_version": "1.5.0",
            "_view_name": "HTMLView",
            "description": "",
            "description_tooltip": null,
            "layout": "IPY_MODEL_b751c178b57145428843225a30bfd447",
            "placeholder": "​",
            "style": "IPY_MODEL_7f3116dacfa04e4db3561b9692911dbd",
            "value": "Map: 100%"
          }
        },
        "fd63f5aae09a40fdac0a58a144f3ad22": {
          "model_module": "@jupyter-widgets/controls",
          "model_name": "FloatProgressModel",
          "model_module_version": "1.5.0",
          "state": {
            "_dom_classes": [],
            "_model_module": "@jupyter-widgets/controls",
            "_model_module_version": "1.5.0",
            "_model_name": "FloatProgressModel",
            "_view_count": null,
            "_view_module": "@jupyter-widgets/controls",
            "_view_module_version": "1.5.0",
            "_view_name": "ProgressView",
            "bar_style": "success",
            "description": "",
            "description_tooltip": null,
            "layout": "IPY_MODEL_0fe208b4b356421ca076c96fef276db6",
            "max": 300,
            "min": 0,
            "orientation": "horizontal",
            "style": "IPY_MODEL_22f6615aa4924d2493688e718a4ca329",
            "value": 300
          }
        },
        "44d9322d019d4beba0b775f591e34c31": {
          "model_module": "@jupyter-widgets/controls",
          "model_name": "HTMLModel",
          "model_module_version": "1.5.0",
          "state": {
            "_dom_classes": [],
            "_model_module": "@jupyter-widgets/controls",
            "_model_module_version": "1.5.0",
            "_model_name": "HTMLModel",
            "_view_count": null,
            "_view_module": "@jupyter-widgets/controls",
            "_view_module_version": "1.5.0",
            "_view_name": "HTMLView",
            "description": "",
            "description_tooltip": null,
            "layout": "IPY_MODEL_85991577fb0c4327aa65c7c90c63581a",
            "placeholder": "​",
            "style": "IPY_MODEL_a2574c4a86e44efeb08bc20019451e25",
            "value": " 300/300 [00:00&lt;00:00, 2473.81 examples/s]"
          }
        },
        "0827aecedf624b40a913bc655540970a": {
          "model_module": "@jupyter-widgets/base",
          "model_name": "LayoutModel",
          "model_module_version": "1.2.0",
          "state": {
            "_model_module": "@jupyter-widgets/base",
            "_model_module_version": "1.2.0",
            "_model_name": "LayoutModel",
            "_view_count": null,
            "_view_module": "@jupyter-widgets/base",
            "_view_module_version": "1.2.0",
            "_view_name": "LayoutView",
            "align_content": null,
            "align_items": null,
            "align_self": null,
            "border": null,
            "bottom": null,
            "display": null,
            "flex": null,
            "flex_flow": null,
            "grid_area": null,
            "grid_auto_columns": null,
            "grid_auto_flow": null,
            "grid_auto_rows": null,
            "grid_column": null,
            "grid_gap": null,
            "grid_row": null,
            "grid_template_areas": null,
            "grid_template_columns": null,
            "grid_template_rows": null,
            "height": null,
            "justify_content": null,
            "justify_items": null,
            "left": null,
            "margin": null,
            "max_height": null,
            "max_width": null,
            "min_height": null,
            "min_width": null,
            "object_fit": null,
            "object_position": null,
            "order": null,
            "overflow": null,
            "overflow_x": null,
            "overflow_y": null,
            "padding": null,
            "right": null,
            "top": null,
            "visibility": null,
            "width": null
          }
        },
        "b751c178b57145428843225a30bfd447": {
          "model_module": "@jupyter-widgets/base",
          "model_name": "LayoutModel",
          "model_module_version": "1.2.0",
          "state": {
            "_model_module": "@jupyter-widgets/base",
            "_model_module_version": "1.2.0",
            "_model_name": "LayoutModel",
            "_view_count": null,
            "_view_module": "@jupyter-widgets/base",
            "_view_module_version": "1.2.0",
            "_view_name": "LayoutView",
            "align_content": null,
            "align_items": null,
            "align_self": null,
            "border": null,
            "bottom": null,
            "display": null,
            "flex": null,
            "flex_flow": null,
            "grid_area": null,
            "grid_auto_columns": null,
            "grid_auto_flow": null,
            "grid_auto_rows": null,
            "grid_column": null,
            "grid_gap": null,
            "grid_row": null,
            "grid_template_areas": null,
            "grid_template_columns": null,
            "grid_template_rows": null,
            "height": null,
            "justify_content": null,
            "justify_items": null,
            "left": null,
            "margin": null,
            "max_height": null,
            "max_width": null,
            "min_height": null,
            "min_width": null,
            "object_fit": null,
            "object_position": null,
            "order": null,
            "overflow": null,
            "overflow_x": null,
            "overflow_y": null,
            "padding": null,
            "right": null,
            "top": null,
            "visibility": null,
            "width": null
          }
        },
        "7f3116dacfa04e4db3561b9692911dbd": {
          "model_module": "@jupyter-widgets/controls",
          "model_name": "DescriptionStyleModel",
          "model_module_version": "1.5.0",
          "state": {
            "_model_module": "@jupyter-widgets/controls",
            "_model_module_version": "1.5.0",
            "_model_name": "DescriptionStyleModel",
            "_view_count": null,
            "_view_module": "@jupyter-widgets/base",
            "_view_module_version": "1.2.0",
            "_view_name": "StyleView",
            "description_width": ""
          }
        },
        "0fe208b4b356421ca076c96fef276db6": {
          "model_module": "@jupyter-widgets/base",
          "model_name": "LayoutModel",
          "model_module_version": "1.2.0",
          "state": {
            "_model_module": "@jupyter-widgets/base",
            "_model_module_version": "1.2.0",
            "_model_name": "LayoutModel",
            "_view_count": null,
            "_view_module": "@jupyter-widgets/base",
            "_view_module_version": "1.2.0",
            "_view_name": "LayoutView",
            "align_content": null,
            "align_items": null,
            "align_self": null,
            "border": null,
            "bottom": null,
            "display": null,
            "flex": null,
            "flex_flow": null,
            "grid_area": null,
            "grid_auto_columns": null,
            "grid_auto_flow": null,
            "grid_auto_rows": null,
            "grid_column": null,
            "grid_gap": null,
            "grid_row": null,
            "grid_template_areas": null,
            "grid_template_columns": null,
            "grid_template_rows": null,
            "height": null,
            "justify_content": null,
            "justify_items": null,
            "left": null,
            "margin": null,
            "max_height": null,
            "max_width": null,
            "min_height": null,
            "min_width": null,
            "object_fit": null,
            "object_position": null,
            "order": null,
            "overflow": null,
            "overflow_x": null,
            "overflow_y": null,
            "padding": null,
            "right": null,
            "top": null,
            "visibility": null,
            "width": null
          }
        },
        "22f6615aa4924d2493688e718a4ca329": {
          "model_module": "@jupyter-widgets/controls",
          "model_name": "ProgressStyleModel",
          "model_module_version": "1.5.0",
          "state": {
            "_model_module": "@jupyter-widgets/controls",
            "_model_module_version": "1.5.0",
            "_model_name": "ProgressStyleModel",
            "_view_count": null,
            "_view_module": "@jupyter-widgets/base",
            "_view_module_version": "1.2.0",
            "_view_name": "StyleView",
            "bar_color": null,
            "description_width": ""
          }
        },
        "85991577fb0c4327aa65c7c90c63581a": {
          "model_module": "@jupyter-widgets/base",
          "model_name": "LayoutModel",
          "model_module_version": "1.2.0",
          "state": {
            "_model_module": "@jupyter-widgets/base",
            "_model_module_version": "1.2.0",
            "_model_name": "LayoutModel",
            "_view_count": null,
            "_view_module": "@jupyter-widgets/base",
            "_view_module_version": "1.2.0",
            "_view_name": "LayoutView",
            "align_content": null,
            "align_items": null,
            "align_self": null,
            "border": null,
            "bottom": null,
            "display": null,
            "flex": null,
            "flex_flow": null,
            "grid_area": null,
            "grid_auto_columns": null,
            "grid_auto_flow": null,
            "grid_auto_rows": null,
            "grid_column": null,
            "grid_gap": null,
            "grid_row": null,
            "grid_template_areas": null,
            "grid_template_columns": null,
            "grid_template_rows": null,
            "height": null,
            "justify_content": null,
            "justify_items": null,
            "left": null,
            "margin": null,
            "max_height": null,
            "max_width": null,
            "min_height": null,
            "min_width": null,
            "object_fit": null,
            "object_position": null,
            "order": null,
            "overflow": null,
            "overflow_x": null,
            "overflow_y": null,
            "padding": null,
            "right": null,
            "top": null,
            "visibility": null,
            "width": null
          }
        },
        "a2574c4a86e44efeb08bc20019451e25": {
          "model_module": "@jupyter-widgets/controls",
          "model_name": "DescriptionStyleModel",
          "model_module_version": "1.5.0",
          "state": {
            "_model_module": "@jupyter-widgets/controls",
            "_model_module_version": "1.5.0",
            "_model_name": "DescriptionStyleModel",
            "_view_count": null,
            "_view_module": "@jupyter-widgets/base",
            "_view_module_version": "1.2.0",
            "_view_name": "StyleView",
            "description_width": ""
          }
        },
        "e0665dc291504986948c10207102bf3a": {
          "model_module": "@jupyter-widgets/controls",
          "model_name": "HBoxModel",
          "model_module_version": "1.5.0",
          "state": {
            "_dom_classes": [],
            "_model_module": "@jupyter-widgets/controls",
            "_model_module_version": "1.5.0",
            "_model_name": "HBoxModel",
            "_view_count": null,
            "_view_module": "@jupyter-widgets/controls",
            "_view_module_version": "1.5.0",
            "_view_name": "HBoxView",
            "box_style": "",
            "children": [
              "IPY_MODEL_132435170c844be7b7bc3bf9f746864a",
              "IPY_MODEL_0d7967f0306b4f5d9144fee625c763f9",
              "IPY_MODEL_691adae4e0e94aa68ee31cf9ed57c0a5"
            ],
            "layout": "IPY_MODEL_7bb1fe471b9e4aa7961f8b2b07aeb8af"
          }
        },
        "132435170c844be7b7bc3bf9f746864a": {
          "model_module": "@jupyter-widgets/controls",
          "model_name": "HTMLModel",
          "model_module_version": "1.5.0",
          "state": {
            "_dom_classes": [],
            "_model_module": "@jupyter-widgets/controls",
            "_model_module_version": "1.5.0",
            "_model_name": "HTMLModel",
            "_view_count": null,
            "_view_module": "@jupyter-widgets/controls",
            "_view_module_version": "1.5.0",
            "_view_name": "HTMLView",
            "description": "",
            "description_tooltip": null,
            "layout": "IPY_MODEL_d9dcdb2618b444d48dc3fb298a65d6c4",
            "placeholder": "​",
            "style": "IPY_MODEL_18e4975dee944930ab5f7b1d943a37f0",
            "value": "config.json: 100%"
          }
        },
        "0d7967f0306b4f5d9144fee625c763f9": {
          "model_module": "@jupyter-widgets/controls",
          "model_name": "FloatProgressModel",
          "model_module_version": "1.5.0",
          "state": {
            "_dom_classes": [],
            "_model_module": "@jupyter-widgets/controls",
            "_model_module_version": "1.5.0",
            "_model_name": "FloatProgressModel",
            "_view_count": null,
            "_view_module": "@jupyter-widgets/controls",
            "_view_module_version": "1.5.0",
            "_view_name": "ProgressView",
            "bar_style": "success",
            "description": "",
            "description_tooltip": null,
            "layout": "IPY_MODEL_061b6b0f3b464027a2e0a89ea859ce37",
            "max": 1383,
            "min": 0,
            "orientation": "horizontal",
            "style": "IPY_MODEL_0d225353e6fd442aa086d63fcd579505",
            "value": 1383
          }
        },
        "691adae4e0e94aa68ee31cf9ed57c0a5": {
          "model_module": "@jupyter-widgets/controls",
          "model_name": "HTMLModel",
          "model_module_version": "1.5.0",
          "state": {
            "_dom_classes": [],
            "_model_module": "@jupyter-widgets/controls",
            "_model_module_version": "1.5.0",
            "_model_name": "HTMLModel",
            "_view_count": null,
            "_view_module": "@jupyter-widgets/controls",
            "_view_module_version": "1.5.0",
            "_view_name": "HTMLView",
            "description": "",
            "description_tooltip": null,
            "layout": "IPY_MODEL_94101ce5517c4dbcb34114e7fbd37f8a",
            "placeholder": "​",
            "style": "IPY_MODEL_485aef23bc9f4510888b0f89a57f2e91",
            "value": " 1.38k/1.38k [00:00&lt;00:00, 124kB/s]"
          }
        },
        "7bb1fe471b9e4aa7961f8b2b07aeb8af": {
          "model_module": "@jupyter-widgets/base",
          "model_name": "LayoutModel",
          "model_module_version": "1.2.0",
          "state": {
            "_model_module": "@jupyter-widgets/base",
            "_model_module_version": "1.2.0",
            "_model_name": "LayoutModel",
            "_view_count": null,
            "_view_module": "@jupyter-widgets/base",
            "_view_module_version": "1.2.0",
            "_view_name": "LayoutView",
            "align_content": null,
            "align_items": null,
            "align_self": null,
            "border": null,
            "bottom": null,
            "display": null,
            "flex": null,
            "flex_flow": null,
            "grid_area": null,
            "grid_auto_columns": null,
            "grid_auto_flow": null,
            "grid_auto_rows": null,
            "grid_column": null,
            "grid_gap": null,
            "grid_row": null,
            "grid_template_areas": null,
            "grid_template_columns": null,
            "grid_template_rows": null,
            "height": null,
            "justify_content": null,
            "justify_items": null,
            "left": null,
            "margin": null,
            "max_height": null,
            "max_width": null,
            "min_height": null,
            "min_width": null,
            "object_fit": null,
            "object_position": null,
            "order": null,
            "overflow": null,
            "overflow_x": null,
            "overflow_y": null,
            "padding": null,
            "right": null,
            "top": null,
            "visibility": null,
            "width": null
          }
        },
        "d9dcdb2618b444d48dc3fb298a65d6c4": {
          "model_module": "@jupyter-widgets/base",
          "model_name": "LayoutModel",
          "model_module_version": "1.2.0",
          "state": {
            "_model_module": "@jupyter-widgets/base",
            "_model_module_version": "1.2.0",
            "_model_name": "LayoutModel",
            "_view_count": null,
            "_view_module": "@jupyter-widgets/base",
            "_view_module_version": "1.2.0",
            "_view_name": "LayoutView",
            "align_content": null,
            "align_items": null,
            "align_self": null,
            "border": null,
            "bottom": null,
            "display": null,
            "flex": null,
            "flex_flow": null,
            "grid_area": null,
            "grid_auto_columns": null,
            "grid_auto_flow": null,
            "grid_auto_rows": null,
            "grid_column": null,
            "grid_gap": null,
            "grid_row": null,
            "grid_template_areas": null,
            "grid_template_columns": null,
            "grid_template_rows": null,
            "height": null,
            "justify_content": null,
            "justify_items": null,
            "left": null,
            "margin": null,
            "max_height": null,
            "max_width": null,
            "min_height": null,
            "min_width": null,
            "object_fit": null,
            "object_position": null,
            "order": null,
            "overflow": null,
            "overflow_x": null,
            "overflow_y": null,
            "padding": null,
            "right": null,
            "top": null,
            "visibility": null,
            "width": null
          }
        },
        "18e4975dee944930ab5f7b1d943a37f0": {
          "model_module": "@jupyter-widgets/controls",
          "model_name": "DescriptionStyleModel",
          "model_module_version": "1.5.0",
          "state": {
            "_model_module": "@jupyter-widgets/controls",
            "_model_module_version": "1.5.0",
            "_model_name": "DescriptionStyleModel",
            "_view_count": null,
            "_view_module": "@jupyter-widgets/base",
            "_view_module_version": "1.2.0",
            "_view_name": "StyleView",
            "description_width": ""
          }
        },
        "061b6b0f3b464027a2e0a89ea859ce37": {
          "model_module": "@jupyter-widgets/base",
          "model_name": "LayoutModel",
          "model_module_version": "1.2.0",
          "state": {
            "_model_module": "@jupyter-widgets/base",
            "_model_module_version": "1.2.0",
            "_model_name": "LayoutModel",
            "_view_count": null,
            "_view_module": "@jupyter-widgets/base",
            "_view_module_version": "1.2.0",
            "_view_name": "LayoutView",
            "align_content": null,
            "align_items": null,
            "align_self": null,
            "border": null,
            "bottom": null,
            "display": null,
            "flex": null,
            "flex_flow": null,
            "grid_area": null,
            "grid_auto_columns": null,
            "grid_auto_flow": null,
            "grid_auto_rows": null,
            "grid_column": null,
            "grid_gap": null,
            "grid_row": null,
            "grid_template_areas": null,
            "grid_template_columns": null,
            "grid_template_rows": null,
            "height": null,
            "justify_content": null,
            "justify_items": null,
            "left": null,
            "margin": null,
            "max_height": null,
            "max_width": null,
            "min_height": null,
            "min_width": null,
            "object_fit": null,
            "object_position": null,
            "order": null,
            "overflow": null,
            "overflow_x": null,
            "overflow_y": null,
            "padding": null,
            "right": null,
            "top": null,
            "visibility": null,
            "width": null
          }
        },
        "0d225353e6fd442aa086d63fcd579505": {
          "model_module": "@jupyter-widgets/controls",
          "model_name": "ProgressStyleModel",
          "model_module_version": "1.5.0",
          "state": {
            "_model_module": "@jupyter-widgets/controls",
            "_model_module_version": "1.5.0",
            "_model_name": "ProgressStyleModel",
            "_view_count": null,
            "_view_module": "@jupyter-widgets/base",
            "_view_module_version": "1.2.0",
            "_view_name": "StyleView",
            "bar_color": null,
            "description_width": ""
          }
        },
        "94101ce5517c4dbcb34114e7fbd37f8a": {
          "model_module": "@jupyter-widgets/base",
          "model_name": "LayoutModel",
          "model_module_version": "1.2.0",
          "state": {
            "_model_module": "@jupyter-widgets/base",
            "_model_module_version": "1.2.0",
            "_model_name": "LayoutModel",
            "_view_count": null,
            "_view_module": "@jupyter-widgets/base",
            "_view_module_version": "1.2.0",
            "_view_name": "LayoutView",
            "align_content": null,
            "align_items": null,
            "align_self": null,
            "border": null,
            "bottom": null,
            "display": null,
            "flex": null,
            "flex_flow": null,
            "grid_area": null,
            "grid_auto_columns": null,
            "grid_auto_flow": null,
            "grid_auto_rows": null,
            "grid_column": null,
            "grid_gap": null,
            "grid_row": null,
            "grid_template_areas": null,
            "grid_template_columns": null,
            "grid_template_rows": null,
            "height": null,
            "justify_content": null,
            "justify_items": null,
            "left": null,
            "margin": null,
            "max_height": null,
            "max_width": null,
            "min_height": null,
            "min_width": null,
            "object_fit": null,
            "object_position": null,
            "order": null,
            "overflow": null,
            "overflow_x": null,
            "overflow_y": null,
            "padding": null,
            "right": null,
            "top": null,
            "visibility": null,
            "width": null
          }
        },
        "485aef23bc9f4510888b0f89a57f2e91": {
          "model_module": "@jupyter-widgets/controls",
          "model_name": "DescriptionStyleModel",
          "model_module_version": "1.5.0",
          "state": {
            "_model_module": "@jupyter-widgets/controls",
            "_model_module_version": "1.5.0",
            "_model_name": "DescriptionStyleModel",
            "_view_count": null,
            "_view_module": "@jupyter-widgets/base",
            "_view_module_version": "1.2.0",
            "_view_name": "StyleView",
            "description_width": ""
          }
        },
        "8cd4629b28864b06a01fdf35f4280647": {
          "model_module": "@jupyter-widgets/controls",
          "model_name": "HBoxModel",
          "model_module_version": "1.5.0",
          "state": {
            "_dom_classes": [],
            "_model_module": "@jupyter-widgets/controls",
            "_model_module_version": "1.5.0",
            "_model_name": "HBoxModel",
            "_view_count": null,
            "_view_module": "@jupyter-widgets/controls",
            "_view_module_version": "1.5.0",
            "_view_name": "HBoxView",
            "box_style": "",
            "children": [
              "IPY_MODEL_0aed660c04ec4ad9966045afc6f61a77",
              "IPY_MODEL_3c716ee24624413e9606aad3931e596c",
              "IPY_MODEL_e07515eeceb449c7be122d50782a7fa9"
            ],
            "layout": "IPY_MODEL_c2b8171a1f474dceadf30271b8e0dd39"
          }
        },
        "0aed660c04ec4ad9966045afc6f61a77": {
          "model_module": "@jupyter-widgets/controls",
          "model_name": "HTMLModel",
          "model_module_version": "1.5.0",
          "state": {
            "_dom_classes": [],
            "_model_module": "@jupyter-widgets/controls",
            "_model_module_version": "1.5.0",
            "_model_name": "HTMLModel",
            "_view_count": null,
            "_view_module": "@jupyter-widgets/controls",
            "_view_module_version": "1.5.0",
            "_view_name": "HTMLView",
            "description": "",
            "description_tooltip": null,
            "layout": "IPY_MODEL_4a532d84c0674bb797fc577fab99dd3d",
            "placeholder": "​",
            "style": "IPY_MODEL_7892b4504c074bd28a149ee6b526a7c8",
            "value": "pytorch_model.bin: 100%"
          }
        },
        "3c716ee24624413e9606aad3931e596c": {
          "model_module": "@jupyter-widgets/controls",
          "model_name": "FloatProgressModel",
          "model_module_version": "1.5.0",
          "state": {
            "_dom_classes": [],
            "_model_module": "@jupyter-widgets/controls",
            "_model_module_version": "1.5.0",
            "_model_name": "FloatProgressModel",
            "_view_count": null,
            "_view_module": "@jupyter-widgets/controls",
            "_view_module_version": "1.5.0",
            "_view_name": "ProgressView",
            "bar_style": "success",
            "description": "",
            "description_tooltip": null,
            "layout": "IPY_MODEL_029447b6f54846edb2a06557c049f3c1",
            "max": 669971082,
            "min": 0,
            "orientation": "horizontal",
            "style": "IPY_MODEL_ba0c85a9876e487d92f16721adf20aa4",
            "value": 669971082
          }
        },
        "e07515eeceb449c7be122d50782a7fa9": {
          "model_module": "@jupyter-widgets/controls",
          "model_name": "HTMLModel",
          "model_module_version": "1.5.0",
          "state": {
            "_dom_classes": [],
            "_model_module": "@jupyter-widgets/controls",
            "_model_module_version": "1.5.0",
            "_model_name": "HTMLModel",
            "_view_count": null,
            "_view_module": "@jupyter-widgets/controls",
            "_view_module_version": "1.5.0",
            "_view_name": "HTMLView",
            "description": "",
            "description_tooltip": null,
            "layout": "IPY_MODEL_e1e122ab9b0d4e7a8aeace76ac06dcc8",
            "placeholder": "​",
            "style": "IPY_MODEL_97d313d20aa14218a6da8ef62ddb221c",
            "value": " 670M/670M [00:01&lt;00:00, 474MB/s]"
          }
        },
        "c2b8171a1f474dceadf30271b8e0dd39": {
          "model_module": "@jupyter-widgets/base",
          "model_name": "LayoutModel",
          "model_module_version": "1.2.0",
          "state": {
            "_model_module": "@jupyter-widgets/base",
            "_model_module_version": "1.2.0",
            "_model_name": "LayoutModel",
            "_view_count": null,
            "_view_module": "@jupyter-widgets/base",
            "_view_module_version": "1.2.0",
            "_view_name": "LayoutView",
            "align_content": null,
            "align_items": null,
            "align_self": null,
            "border": null,
            "bottom": null,
            "display": null,
            "flex": null,
            "flex_flow": null,
            "grid_area": null,
            "grid_auto_columns": null,
            "grid_auto_flow": null,
            "grid_auto_rows": null,
            "grid_column": null,
            "grid_gap": null,
            "grid_row": null,
            "grid_template_areas": null,
            "grid_template_columns": null,
            "grid_template_rows": null,
            "height": null,
            "justify_content": null,
            "justify_items": null,
            "left": null,
            "margin": null,
            "max_height": null,
            "max_width": null,
            "min_height": null,
            "min_width": null,
            "object_fit": null,
            "object_position": null,
            "order": null,
            "overflow": null,
            "overflow_x": null,
            "overflow_y": null,
            "padding": null,
            "right": null,
            "top": null,
            "visibility": null,
            "width": null
          }
        },
        "4a532d84c0674bb797fc577fab99dd3d": {
          "model_module": "@jupyter-widgets/base",
          "model_name": "LayoutModel",
          "model_module_version": "1.2.0",
          "state": {
            "_model_module": "@jupyter-widgets/base",
            "_model_module_version": "1.2.0",
            "_model_name": "LayoutModel",
            "_view_count": null,
            "_view_module": "@jupyter-widgets/base",
            "_view_module_version": "1.2.0",
            "_view_name": "LayoutView",
            "align_content": null,
            "align_items": null,
            "align_self": null,
            "border": null,
            "bottom": null,
            "display": null,
            "flex": null,
            "flex_flow": null,
            "grid_area": null,
            "grid_auto_columns": null,
            "grid_auto_flow": null,
            "grid_auto_rows": null,
            "grid_column": null,
            "grid_gap": null,
            "grid_row": null,
            "grid_template_areas": null,
            "grid_template_columns": null,
            "grid_template_rows": null,
            "height": null,
            "justify_content": null,
            "justify_items": null,
            "left": null,
            "margin": null,
            "max_height": null,
            "max_width": null,
            "min_height": null,
            "min_width": null,
            "object_fit": null,
            "object_position": null,
            "order": null,
            "overflow": null,
            "overflow_x": null,
            "overflow_y": null,
            "padding": null,
            "right": null,
            "top": null,
            "visibility": null,
            "width": null
          }
        },
        "7892b4504c074bd28a149ee6b526a7c8": {
          "model_module": "@jupyter-widgets/controls",
          "model_name": "DescriptionStyleModel",
          "model_module_version": "1.5.0",
          "state": {
            "_model_module": "@jupyter-widgets/controls",
            "_model_module_version": "1.5.0",
            "_model_name": "DescriptionStyleModel",
            "_view_count": null,
            "_view_module": "@jupyter-widgets/base",
            "_view_module_version": "1.2.0",
            "_view_name": "StyleView",
            "description_width": ""
          }
        },
        "029447b6f54846edb2a06557c049f3c1": {
          "model_module": "@jupyter-widgets/base",
          "model_name": "LayoutModel",
          "model_module_version": "1.2.0",
          "state": {
            "_model_module": "@jupyter-widgets/base",
            "_model_module_version": "1.2.0",
            "_model_name": "LayoutModel",
            "_view_count": null,
            "_view_module": "@jupyter-widgets/base",
            "_view_module_version": "1.2.0",
            "_view_name": "LayoutView",
            "align_content": null,
            "align_items": null,
            "align_self": null,
            "border": null,
            "bottom": null,
            "display": null,
            "flex": null,
            "flex_flow": null,
            "grid_area": null,
            "grid_auto_columns": null,
            "grid_auto_flow": null,
            "grid_auto_rows": null,
            "grid_column": null,
            "grid_gap": null,
            "grid_row": null,
            "grid_template_areas": null,
            "grid_template_columns": null,
            "grid_template_rows": null,
            "height": null,
            "justify_content": null,
            "justify_items": null,
            "left": null,
            "margin": null,
            "max_height": null,
            "max_width": null,
            "min_height": null,
            "min_width": null,
            "object_fit": null,
            "object_position": null,
            "order": null,
            "overflow": null,
            "overflow_x": null,
            "overflow_y": null,
            "padding": null,
            "right": null,
            "top": null,
            "visibility": null,
            "width": null
          }
        },
        "ba0c85a9876e487d92f16721adf20aa4": {
          "model_module": "@jupyter-widgets/controls",
          "model_name": "ProgressStyleModel",
          "model_module_version": "1.5.0",
          "state": {
            "_model_module": "@jupyter-widgets/controls",
            "_model_module_version": "1.5.0",
            "_model_name": "ProgressStyleModel",
            "_view_count": null,
            "_view_module": "@jupyter-widgets/base",
            "_view_module_version": "1.2.0",
            "_view_name": "StyleView",
            "bar_color": null,
            "description_width": ""
          }
        },
        "e1e122ab9b0d4e7a8aeace76ac06dcc8": {
          "model_module": "@jupyter-widgets/base",
          "model_name": "LayoutModel",
          "model_module_version": "1.2.0",
          "state": {
            "_model_module": "@jupyter-widgets/base",
            "_model_module_version": "1.2.0",
            "_model_name": "LayoutModel",
            "_view_count": null,
            "_view_module": "@jupyter-widgets/base",
            "_view_module_version": "1.2.0",
            "_view_name": "LayoutView",
            "align_content": null,
            "align_items": null,
            "align_self": null,
            "border": null,
            "bottom": null,
            "display": null,
            "flex": null,
            "flex_flow": null,
            "grid_area": null,
            "grid_auto_columns": null,
            "grid_auto_flow": null,
            "grid_auto_rows": null,
            "grid_column": null,
            "grid_gap": null,
            "grid_row": null,
            "grid_template_areas": null,
            "grid_template_columns": null,
            "grid_template_rows": null,
            "height": null,
            "justify_content": null,
            "justify_items": null,
            "left": null,
            "margin": null,
            "max_height": null,
            "max_width": null,
            "min_height": null,
            "min_width": null,
            "object_fit": null,
            "object_position": null,
            "order": null,
            "overflow": null,
            "overflow_x": null,
            "overflow_y": null,
            "padding": null,
            "right": null,
            "top": null,
            "visibility": null,
            "width": null
          }
        },
        "97d313d20aa14218a6da8ef62ddb221c": {
          "model_module": "@jupyter-widgets/controls",
          "model_name": "DescriptionStyleModel",
          "model_module_version": "1.5.0",
          "state": {
            "_model_module": "@jupyter-widgets/controls",
            "_model_module_version": "1.5.0",
            "_model_name": "DescriptionStyleModel",
            "_view_count": null,
            "_view_module": "@jupyter-widgets/base",
            "_view_module_version": "1.2.0",
            "_view_name": "StyleView",
            "description_width": ""
          }
        },
        "230b2f3a47a14ce78ea2a7e6735654f1": {
          "model_module": "@jupyter-widgets/controls",
          "model_name": "VBoxModel",
          "model_module_version": "1.5.0",
          "state": {
            "_dom_classes": [],
            "_model_module": "@jupyter-widgets/controls",
            "_model_module_version": "1.5.0",
            "_model_name": "VBoxModel",
            "_view_count": null,
            "_view_module": "@jupyter-widgets/controls",
            "_view_module_version": "1.5.0",
            "_view_name": "VBoxView",
            "box_style": "",
            "children": [
              "IPY_MODEL_be22ddcd470f4cb0ad1aea6ec75e1ec3",
              "IPY_MODEL_914ab0a370d44f41add0fd5259d09194"
            ],
            "layout": "IPY_MODEL_8237606963d5476c84db9db420e17b55"
          }
        },
        "be22ddcd470f4cb0ad1aea6ec75e1ec3": {
          "model_module": "@jupyter-widgets/controls",
          "model_name": "LabelModel",
          "model_module_version": "1.5.0",
          "state": {
            "_dom_classes": [],
            "_model_module": "@jupyter-widgets/controls",
            "_model_module_version": "1.5.0",
            "_model_name": "LabelModel",
            "_view_count": null,
            "_view_module": "@jupyter-widgets/controls",
            "_view_module_version": "1.5.0",
            "_view_name": "LabelView",
            "description": "",
            "description_tooltip": null,
            "layout": "IPY_MODEL_80888e44911a47ed9f14a061ae351a24",
            "placeholder": "​",
            "style": "IPY_MODEL_970a191123b84f58b2766c9093e14407",
            "value": "0.022 MB of 0.022 MB uploaded\r"
          }
        },
        "914ab0a370d44f41add0fd5259d09194": {
          "model_module": "@jupyter-widgets/controls",
          "model_name": "FloatProgressModel",
          "model_module_version": "1.5.0",
          "state": {
            "_dom_classes": [],
            "_model_module": "@jupyter-widgets/controls",
            "_model_module_version": "1.5.0",
            "_model_name": "FloatProgressModel",
            "_view_count": null,
            "_view_module": "@jupyter-widgets/controls",
            "_view_module_version": "1.5.0",
            "_view_name": "ProgressView",
            "bar_style": "",
            "description": "",
            "description_tooltip": null,
            "layout": "IPY_MODEL_2ccad46cf4f84c328edbe598af5d6a68",
            "max": 1,
            "min": 0,
            "orientation": "horizontal",
            "style": "IPY_MODEL_d80763f0c7dc47409d15a481b4e47b26",
            "value": 1
          }
        },
        "8237606963d5476c84db9db420e17b55": {
          "model_module": "@jupyter-widgets/base",
          "model_name": "LayoutModel",
          "model_module_version": "1.2.0",
          "state": {
            "_model_module": "@jupyter-widgets/base",
            "_model_module_version": "1.2.0",
            "_model_name": "LayoutModel",
            "_view_count": null,
            "_view_module": "@jupyter-widgets/base",
            "_view_module_version": "1.2.0",
            "_view_name": "LayoutView",
            "align_content": null,
            "align_items": null,
            "align_self": null,
            "border": null,
            "bottom": null,
            "display": null,
            "flex": null,
            "flex_flow": null,
            "grid_area": null,
            "grid_auto_columns": null,
            "grid_auto_flow": null,
            "grid_auto_rows": null,
            "grid_column": null,
            "grid_gap": null,
            "grid_row": null,
            "grid_template_areas": null,
            "grid_template_columns": null,
            "grid_template_rows": null,
            "height": null,
            "justify_content": null,
            "justify_items": null,
            "left": null,
            "margin": null,
            "max_height": null,
            "max_width": null,
            "min_height": null,
            "min_width": null,
            "object_fit": null,
            "object_position": null,
            "order": null,
            "overflow": null,
            "overflow_x": null,
            "overflow_y": null,
            "padding": null,
            "right": null,
            "top": null,
            "visibility": null,
            "width": null
          }
        },
        "80888e44911a47ed9f14a061ae351a24": {
          "model_module": "@jupyter-widgets/base",
          "model_name": "LayoutModel",
          "model_module_version": "1.2.0",
          "state": {
            "_model_module": "@jupyter-widgets/base",
            "_model_module_version": "1.2.0",
            "_model_name": "LayoutModel",
            "_view_count": null,
            "_view_module": "@jupyter-widgets/base",
            "_view_module_version": "1.2.0",
            "_view_name": "LayoutView",
            "align_content": null,
            "align_items": null,
            "align_self": null,
            "border": null,
            "bottom": null,
            "display": null,
            "flex": null,
            "flex_flow": null,
            "grid_area": null,
            "grid_auto_columns": null,
            "grid_auto_flow": null,
            "grid_auto_rows": null,
            "grid_column": null,
            "grid_gap": null,
            "grid_row": null,
            "grid_template_areas": null,
            "grid_template_columns": null,
            "grid_template_rows": null,
            "height": null,
            "justify_content": null,
            "justify_items": null,
            "left": null,
            "margin": null,
            "max_height": null,
            "max_width": null,
            "min_height": null,
            "min_width": null,
            "object_fit": null,
            "object_position": null,
            "order": null,
            "overflow": null,
            "overflow_x": null,
            "overflow_y": null,
            "padding": null,
            "right": null,
            "top": null,
            "visibility": null,
            "width": null
          }
        },
        "970a191123b84f58b2766c9093e14407": {
          "model_module": "@jupyter-widgets/controls",
          "model_name": "DescriptionStyleModel",
          "model_module_version": "1.5.0",
          "state": {
            "_model_module": "@jupyter-widgets/controls",
            "_model_module_version": "1.5.0",
            "_model_name": "DescriptionStyleModel",
            "_view_count": null,
            "_view_module": "@jupyter-widgets/base",
            "_view_module_version": "1.2.0",
            "_view_name": "StyleView",
            "description_width": ""
          }
        },
        "2ccad46cf4f84c328edbe598af5d6a68": {
          "model_module": "@jupyter-widgets/base",
          "model_name": "LayoutModel",
          "model_module_version": "1.2.0",
          "state": {
            "_model_module": "@jupyter-widgets/base",
            "_model_module_version": "1.2.0",
            "_model_name": "LayoutModel",
            "_view_count": null,
            "_view_module": "@jupyter-widgets/base",
            "_view_module_version": "1.2.0",
            "_view_name": "LayoutView",
            "align_content": null,
            "align_items": null,
            "align_self": null,
            "border": null,
            "bottom": null,
            "display": null,
            "flex": null,
            "flex_flow": null,
            "grid_area": null,
            "grid_auto_columns": null,
            "grid_auto_flow": null,
            "grid_auto_rows": null,
            "grid_column": null,
            "grid_gap": null,
            "grid_row": null,
            "grid_template_areas": null,
            "grid_template_columns": null,
            "grid_template_rows": null,
            "height": null,
            "justify_content": null,
            "justify_items": null,
            "left": null,
            "margin": null,
            "max_height": null,
            "max_width": null,
            "min_height": null,
            "min_width": null,
            "object_fit": null,
            "object_position": null,
            "order": null,
            "overflow": null,
            "overflow_x": null,
            "overflow_y": null,
            "padding": null,
            "right": null,
            "top": null,
            "visibility": null,
            "width": null
          }
        },
        "d80763f0c7dc47409d15a481b4e47b26": {
          "model_module": "@jupyter-widgets/controls",
          "model_name": "ProgressStyleModel",
          "model_module_version": "1.5.0",
          "state": {
            "_model_module": "@jupyter-widgets/controls",
            "_model_module_version": "1.5.0",
            "_model_name": "ProgressStyleModel",
            "_view_count": null,
            "_view_module": "@jupyter-widgets/base",
            "_view_module_version": "1.2.0",
            "_view_name": "StyleView",
            "bar_color": null,
            "description_width": ""
          }
        },
        "8fc38e763b1346128b20e2359fd49519": {
          "model_module": "@jupyter-widgets/controls",
          "model_name": "VBoxModel",
          "model_module_version": "1.5.0",
          "state": {
            "_dom_classes": [],
            "_model_module": "@jupyter-widgets/controls",
            "_model_module_version": "1.5.0",
            "_model_name": "VBoxModel",
            "_view_count": null,
            "_view_module": "@jupyter-widgets/controls",
            "_view_module_version": "1.5.0",
            "_view_name": "VBoxView",
            "box_style": "",
            "children": [
              "IPY_MODEL_e460e89b882648258b427056a3892329",
              "IPY_MODEL_fdedde40e6c64059b99be5f6cdf66942"
            ],
            "layout": "IPY_MODEL_38aafb9aad8347dd9738a7ec90258610"
          }
        },
        "e460e89b882648258b427056a3892329": {
          "model_module": "@jupyter-widgets/controls",
          "model_name": "LabelModel",
          "model_module_version": "1.5.0",
          "state": {
            "_dom_classes": [],
            "_model_module": "@jupyter-widgets/controls",
            "_model_module_version": "1.5.0",
            "_model_name": "LabelModel",
            "_view_count": null,
            "_view_module": "@jupyter-widgets/controls",
            "_view_module_version": "1.5.0",
            "_view_name": "LabelView",
            "description": "",
            "description_tooltip": null,
            "layout": "IPY_MODEL_045e90ce84fe44edb348db8df925c322",
            "placeholder": "​",
            "style": "IPY_MODEL_105be07e4ddb4338b97be1edc8390696",
            "value": "1407.068 MB of 1407.068 MB uploaded\r"
          }
        },
        "fdedde40e6c64059b99be5f6cdf66942": {
          "model_module": "@jupyter-widgets/controls",
          "model_name": "FloatProgressModel",
          "model_module_version": "1.5.0",
          "state": {
            "_dom_classes": [],
            "_model_module": "@jupyter-widgets/controls",
            "_model_module_version": "1.5.0",
            "_model_name": "FloatProgressModel",
            "_view_count": null,
            "_view_module": "@jupyter-widgets/controls",
            "_view_module_version": "1.5.0",
            "_view_name": "ProgressView",
            "bar_style": "",
            "description": "",
            "description_tooltip": null,
            "layout": "IPY_MODEL_808e769fbe584b3b8d00db44e01a5f26",
            "max": 1,
            "min": 0,
            "orientation": "horizontal",
            "style": "IPY_MODEL_b8a3071c6b4a49d892ba55abf628b762",
            "value": 1
          }
        },
        "38aafb9aad8347dd9738a7ec90258610": {
          "model_module": "@jupyter-widgets/base",
          "model_name": "LayoutModel",
          "model_module_version": "1.2.0",
          "state": {
            "_model_module": "@jupyter-widgets/base",
            "_model_module_version": "1.2.0",
            "_model_name": "LayoutModel",
            "_view_count": null,
            "_view_module": "@jupyter-widgets/base",
            "_view_module_version": "1.2.0",
            "_view_name": "LayoutView",
            "align_content": null,
            "align_items": null,
            "align_self": null,
            "border": null,
            "bottom": null,
            "display": null,
            "flex": null,
            "flex_flow": null,
            "grid_area": null,
            "grid_auto_columns": null,
            "grid_auto_flow": null,
            "grid_auto_rows": null,
            "grid_column": null,
            "grid_gap": null,
            "grid_row": null,
            "grid_template_areas": null,
            "grid_template_columns": null,
            "grid_template_rows": null,
            "height": null,
            "justify_content": null,
            "justify_items": null,
            "left": null,
            "margin": null,
            "max_height": null,
            "max_width": null,
            "min_height": null,
            "min_width": null,
            "object_fit": null,
            "object_position": null,
            "order": null,
            "overflow": null,
            "overflow_x": null,
            "overflow_y": null,
            "padding": null,
            "right": null,
            "top": null,
            "visibility": null,
            "width": null
          }
        },
        "045e90ce84fe44edb348db8df925c322": {
          "model_module": "@jupyter-widgets/base",
          "model_name": "LayoutModel",
          "model_module_version": "1.2.0",
          "state": {
            "_model_module": "@jupyter-widgets/base",
            "_model_module_version": "1.2.0",
            "_model_name": "LayoutModel",
            "_view_count": null,
            "_view_module": "@jupyter-widgets/base",
            "_view_module_version": "1.2.0",
            "_view_name": "LayoutView",
            "align_content": null,
            "align_items": null,
            "align_self": null,
            "border": null,
            "bottom": null,
            "display": null,
            "flex": null,
            "flex_flow": null,
            "grid_area": null,
            "grid_auto_columns": null,
            "grid_auto_flow": null,
            "grid_auto_rows": null,
            "grid_column": null,
            "grid_gap": null,
            "grid_row": null,
            "grid_template_areas": null,
            "grid_template_columns": null,
            "grid_template_rows": null,
            "height": null,
            "justify_content": null,
            "justify_items": null,
            "left": null,
            "margin": null,
            "max_height": null,
            "max_width": null,
            "min_height": null,
            "min_width": null,
            "object_fit": null,
            "object_position": null,
            "order": null,
            "overflow": null,
            "overflow_x": null,
            "overflow_y": null,
            "padding": null,
            "right": null,
            "top": null,
            "visibility": null,
            "width": null
          }
        },
        "105be07e4ddb4338b97be1edc8390696": {
          "model_module": "@jupyter-widgets/controls",
          "model_name": "DescriptionStyleModel",
          "model_module_version": "1.5.0",
          "state": {
            "_model_module": "@jupyter-widgets/controls",
            "_model_module_version": "1.5.0",
            "_model_name": "DescriptionStyleModel",
            "_view_count": null,
            "_view_module": "@jupyter-widgets/base",
            "_view_module_version": "1.2.0",
            "_view_name": "StyleView",
            "description_width": ""
          }
        },
        "808e769fbe584b3b8d00db44e01a5f26": {
          "model_module": "@jupyter-widgets/base",
          "model_name": "LayoutModel",
          "model_module_version": "1.2.0",
          "state": {
            "_model_module": "@jupyter-widgets/base",
            "_model_module_version": "1.2.0",
            "_model_name": "LayoutModel",
            "_view_count": null,
            "_view_module": "@jupyter-widgets/base",
            "_view_module_version": "1.2.0",
            "_view_name": "LayoutView",
            "align_content": null,
            "align_items": null,
            "align_self": null,
            "border": null,
            "bottom": null,
            "display": null,
            "flex": null,
            "flex_flow": null,
            "grid_area": null,
            "grid_auto_columns": null,
            "grid_auto_flow": null,
            "grid_auto_rows": null,
            "grid_column": null,
            "grid_gap": null,
            "grid_row": null,
            "grid_template_areas": null,
            "grid_template_columns": null,
            "grid_template_rows": null,
            "height": null,
            "justify_content": null,
            "justify_items": null,
            "left": null,
            "margin": null,
            "max_height": null,
            "max_width": null,
            "min_height": null,
            "min_width": null,
            "object_fit": null,
            "object_position": null,
            "order": null,
            "overflow": null,
            "overflow_x": null,
            "overflow_y": null,
            "padding": null,
            "right": null,
            "top": null,
            "visibility": null,
            "width": null
          }
        },
        "b8a3071c6b4a49d892ba55abf628b762": {
          "model_module": "@jupyter-widgets/controls",
          "model_name": "ProgressStyleModel",
          "model_module_version": "1.5.0",
          "state": {
            "_model_module": "@jupyter-widgets/controls",
            "_model_module_version": "1.5.0",
            "_model_name": "ProgressStyleModel",
            "_view_count": null,
            "_view_module": "@jupyter-widgets/base",
            "_view_module_version": "1.2.0",
            "_view_name": "StyleView",
            "bar_color": null,
            "description_width": ""
          }
        },
        "b9eea5ed55314eb8921fff04f2a6258d": {
          "model_module": "@jupyter-widgets/controls",
          "model_name": "HBoxModel",
          "model_module_version": "1.5.0",
          "state": {
            "_dom_classes": [],
            "_model_module": "@jupyter-widgets/controls",
            "_model_module_version": "1.5.0",
            "_model_name": "HBoxModel",
            "_view_count": null,
            "_view_module": "@jupyter-widgets/controls",
            "_view_module_version": "1.5.0",
            "_view_name": "HBoxView",
            "box_style": "",
            "children": [
              "IPY_MODEL_7bf5cd1558464bbfa52102c655815794",
              "IPY_MODEL_4db0f9018aa34e6f941655270a8a08fc",
              "IPY_MODEL_39acd416a858498d96403c5480b718d2"
            ],
            "layout": "IPY_MODEL_004d5a80f4824e27a55b753362754e47"
          }
        },
        "7bf5cd1558464bbfa52102c655815794": {
          "model_module": "@jupyter-widgets/controls",
          "model_name": "HTMLModel",
          "model_module_version": "1.5.0",
          "state": {
            "_dom_classes": [],
            "_model_module": "@jupyter-widgets/controls",
            "_model_module_version": "1.5.0",
            "_model_name": "HTMLModel",
            "_view_count": null,
            "_view_module": "@jupyter-widgets/controls",
            "_view_module_version": "1.5.0",
            "_view_name": "HTMLView",
            "description": "",
            "description_tooltip": null,
            "layout": "IPY_MODEL_dec8321a87e74c6882983934c0e8e2dd",
            "placeholder": "​",
            "style": "IPY_MODEL_924d75c08c684eacbb8f409dbd22518a",
            "value": "100%"
          }
        },
        "4db0f9018aa34e6f941655270a8a08fc": {
          "model_module": "@jupyter-widgets/controls",
          "model_name": "FloatProgressModel",
          "model_module_version": "1.5.0",
          "state": {
            "_dom_classes": [],
            "_model_module": "@jupyter-widgets/controls",
            "_model_module_version": "1.5.0",
            "_model_name": "FloatProgressModel",
            "_view_count": null,
            "_view_module": "@jupyter-widgets/controls",
            "_view_module_version": "1.5.0",
            "_view_name": "ProgressView",
            "bar_style": "",
            "description": "",
            "description_tooltip": null,
            "layout": "IPY_MODEL_79494a53dff940ae9c0fc2732624bafc",
            "max": 300,
            "min": 0,
            "orientation": "horizontal",
            "style": "IPY_MODEL_9e662765af6d43a59aa92cdb1d7dece6",
            "value": 299
          }
        },
        "39acd416a858498d96403c5480b718d2": {
          "model_module": "@jupyter-widgets/controls",
          "model_name": "HTMLModel",
          "model_module_version": "1.5.0",
          "state": {
            "_dom_classes": [],
            "_model_module": "@jupyter-widgets/controls",
            "_model_module_version": "1.5.0",
            "_model_name": "HTMLModel",
            "_view_count": null,
            "_view_module": "@jupyter-widgets/controls",
            "_view_module_version": "1.5.0",
            "_view_name": "HTMLView",
            "description": "",
            "description_tooltip": null,
            "layout": "IPY_MODEL_bd5a800f1887426b937aea995316b55b",
            "placeholder": "​",
            "style": "IPY_MODEL_2cba03a6ec00429cbc520e4565e3cac9",
            "value": " 299/300 [00:32&lt;00:00,  9.56it/s]"
          }
        },
        "004d5a80f4824e27a55b753362754e47": {
          "model_module": "@jupyter-widgets/base",
          "model_name": "LayoutModel",
          "model_module_version": "1.2.0",
          "state": {
            "_model_module": "@jupyter-widgets/base",
            "_model_module_version": "1.2.0",
            "_model_name": "LayoutModel",
            "_view_count": null,
            "_view_module": "@jupyter-widgets/base",
            "_view_module_version": "1.2.0",
            "_view_name": "LayoutView",
            "align_content": null,
            "align_items": null,
            "align_self": null,
            "border": null,
            "bottom": null,
            "display": null,
            "flex": null,
            "flex_flow": null,
            "grid_area": null,
            "grid_auto_columns": null,
            "grid_auto_flow": null,
            "grid_auto_rows": null,
            "grid_column": null,
            "grid_gap": null,
            "grid_row": null,
            "grid_template_areas": null,
            "grid_template_columns": null,
            "grid_template_rows": null,
            "height": null,
            "justify_content": null,
            "justify_items": null,
            "left": null,
            "margin": null,
            "max_height": null,
            "max_width": null,
            "min_height": null,
            "min_width": null,
            "object_fit": null,
            "object_position": null,
            "order": null,
            "overflow": null,
            "overflow_x": null,
            "overflow_y": null,
            "padding": null,
            "right": null,
            "top": null,
            "visibility": null,
            "width": null
          }
        },
        "dec8321a87e74c6882983934c0e8e2dd": {
          "model_module": "@jupyter-widgets/base",
          "model_name": "LayoutModel",
          "model_module_version": "1.2.0",
          "state": {
            "_model_module": "@jupyter-widgets/base",
            "_model_module_version": "1.2.0",
            "_model_name": "LayoutModel",
            "_view_count": null,
            "_view_module": "@jupyter-widgets/base",
            "_view_module_version": "1.2.0",
            "_view_name": "LayoutView",
            "align_content": null,
            "align_items": null,
            "align_self": null,
            "border": null,
            "bottom": null,
            "display": null,
            "flex": null,
            "flex_flow": null,
            "grid_area": null,
            "grid_auto_columns": null,
            "grid_auto_flow": null,
            "grid_auto_rows": null,
            "grid_column": null,
            "grid_gap": null,
            "grid_row": null,
            "grid_template_areas": null,
            "grid_template_columns": null,
            "grid_template_rows": null,
            "height": null,
            "justify_content": null,
            "justify_items": null,
            "left": null,
            "margin": null,
            "max_height": null,
            "max_width": null,
            "min_height": null,
            "min_width": null,
            "object_fit": null,
            "object_position": null,
            "order": null,
            "overflow": null,
            "overflow_x": null,
            "overflow_y": null,
            "padding": null,
            "right": null,
            "top": null,
            "visibility": null,
            "width": null
          }
        },
        "924d75c08c684eacbb8f409dbd22518a": {
          "model_module": "@jupyter-widgets/controls",
          "model_name": "DescriptionStyleModel",
          "model_module_version": "1.5.0",
          "state": {
            "_model_module": "@jupyter-widgets/controls",
            "_model_module_version": "1.5.0",
            "_model_name": "DescriptionStyleModel",
            "_view_count": null,
            "_view_module": "@jupyter-widgets/base",
            "_view_module_version": "1.2.0",
            "_view_name": "StyleView",
            "description_width": ""
          }
        },
        "79494a53dff940ae9c0fc2732624bafc": {
          "model_module": "@jupyter-widgets/base",
          "model_name": "LayoutModel",
          "model_module_version": "1.2.0",
          "state": {
            "_model_module": "@jupyter-widgets/base",
            "_model_module_version": "1.2.0",
            "_model_name": "LayoutModel",
            "_view_count": null,
            "_view_module": "@jupyter-widgets/base",
            "_view_module_version": "1.2.0",
            "_view_name": "LayoutView",
            "align_content": null,
            "align_items": null,
            "align_self": null,
            "border": null,
            "bottom": null,
            "display": null,
            "flex": null,
            "flex_flow": null,
            "grid_area": null,
            "grid_auto_columns": null,
            "grid_auto_flow": null,
            "grid_auto_rows": null,
            "grid_column": null,
            "grid_gap": null,
            "grid_row": null,
            "grid_template_areas": null,
            "grid_template_columns": null,
            "grid_template_rows": null,
            "height": null,
            "justify_content": null,
            "justify_items": null,
            "left": null,
            "margin": null,
            "max_height": null,
            "max_width": null,
            "min_height": null,
            "min_width": null,
            "object_fit": null,
            "object_position": null,
            "order": null,
            "overflow": null,
            "overflow_x": null,
            "overflow_y": null,
            "padding": null,
            "right": null,
            "top": null,
            "visibility": null,
            "width": null
          }
        },
        "9e662765af6d43a59aa92cdb1d7dece6": {
          "model_module": "@jupyter-widgets/controls",
          "model_name": "ProgressStyleModel",
          "model_module_version": "1.5.0",
          "state": {
            "_model_module": "@jupyter-widgets/controls",
            "_model_module_version": "1.5.0",
            "_model_name": "ProgressStyleModel",
            "_view_count": null,
            "_view_module": "@jupyter-widgets/base",
            "_view_module_version": "1.2.0",
            "_view_name": "StyleView",
            "bar_color": null,
            "description_width": ""
          }
        },
        "bd5a800f1887426b937aea995316b55b": {
          "model_module": "@jupyter-widgets/base",
          "model_name": "LayoutModel",
          "model_module_version": "1.2.0",
          "state": {
            "_model_module": "@jupyter-widgets/base",
            "_model_module_version": "1.2.0",
            "_model_name": "LayoutModel",
            "_view_count": null,
            "_view_module": "@jupyter-widgets/base",
            "_view_module_version": "1.2.0",
            "_view_name": "LayoutView",
            "align_content": null,
            "align_items": null,
            "align_self": null,
            "border": null,
            "bottom": null,
            "display": null,
            "flex": null,
            "flex_flow": null,
            "grid_area": null,
            "grid_auto_columns": null,
            "grid_auto_flow": null,
            "grid_auto_rows": null,
            "grid_column": null,
            "grid_gap": null,
            "grid_row": null,
            "grid_template_areas": null,
            "grid_template_columns": null,
            "grid_template_rows": null,
            "height": null,
            "justify_content": null,
            "justify_items": null,
            "left": null,
            "margin": null,
            "max_height": null,
            "max_width": null,
            "min_height": null,
            "min_width": null,
            "object_fit": null,
            "object_position": null,
            "order": null,
            "overflow": null,
            "overflow_x": null,
            "overflow_y": null,
            "padding": null,
            "right": null,
            "top": null,
            "visibility": null,
            "width": null
          }
        },
        "2cba03a6ec00429cbc520e4565e3cac9": {
          "model_module": "@jupyter-widgets/controls",
          "model_name": "DescriptionStyleModel",
          "model_module_version": "1.5.0",
          "state": {
            "_model_module": "@jupyter-widgets/controls",
            "_model_module_version": "1.5.0",
            "_model_name": "DescriptionStyleModel",
            "_view_count": null,
            "_view_module": "@jupyter-widgets/base",
            "_view_module_version": "1.2.0",
            "_view_name": "StyleView",
            "description_width": ""
          }
        }
      }
    }
  },
  "nbformat_minor": 0,
  "nbformat": 4,
  "cells": [
    {
      "cell_type": "markdown",
      "metadata": {
        "id": "view-in-github",
        "colab_type": "text"
      },
      "source": [
        "<a href=\"https://colab.research.google.com/github/olonok69/LLM_Notebooks/blob/main/nlp/fine_tune_sentence_transformers_gtr_t5_large_classification_dataset.ipynb\" target=\"_parent\"><img src=\"https://colab.research.google.com/assets/colab-badge.svg\" alt=\"Open In Colab\"/></a>"
      ]
    },
    {
      "cell_type": "markdown",
      "source": [
        "# In this Notebook we are going to Fine tune a T5 fundation LLM model with your own data\n",
        "\n",
        "\n",
        "Model\n",
        "\n",
        "https://huggingface.co/docs/transformers/model_doc/t5\n",
        "\n",
        "\n",
        "![image.png](data:image/png;base64,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)![image.png](attachment:9d8eb8cd-1f90-41c2-97a6-a07afd906541.png)\n",
        "\n",
        "\n",
        "https://arxiv.org/pdf/1910.10683.pdf\n",
        "\n",
        "https://huggingface.co/google/flan-t5-base\n",
        "\n",
        "\n",
        "from Cameron R. Wolfe, Ph.D.\n",
        "\n",
        "https://towardsdatascience.com/t5-text-to-text-transformers-part-one-6b655f27c79a#:~:text=T5%20converts%20all%20text%20processing,tasks%20with%20a%20shared%20approach.\n",
        "\n",
        "# fine tuned flan-T5\n",
        "\n",
        "https://blog.research.google/2021/10/introducing-flan-more-generalizable.html\n",
        "\n",
        "https://huggingface.co/docs/transformers/model_doc/flan-t5\n",
        "\n",
        "https://arxiv.org/pdf/2210.11416.pdf\n",
        "\n",
        "https://www.narrativa.com/flan-t5-a-yummy-model-superior-to-gpt-3/\n",
        "\n",
        "# Flan Dataset\n",
        "\n",
        "https://medium.com/dair-ai/papers-explained-46-flan-1c5e0d5db7c9\n",
        "\n",
        "\n",
        "# Dataset use for Fine Tuning\n",
        "\n",
        "https://www.kaggle.com/datasets/jensenbaxter/10dataset-text-document-classification\n",
        "\n",
        "# Final Dataset\n",
        "\n",
        "Microsoft Purview -- > https://learn.microsoft.com/en-us/purview/classifier-tc-definitions#trainable-classifiers-definitions\n"
      ],
      "metadata": {
        "id": "V-SS3C04lhFi"
      }
    },
    {
      "cell_type": "code",
      "source": [
        "! pip install  evaluate==0.4.1 wandb accelerate  transformers[torch] -q"
      ],
      "metadata": {
        "execution": {
          "iopub.status.busy": "2024-02-13T17:14:28.836609Z",
          "iopub.execute_input": "2024-02-13T17:14:28.836967Z",
          "iopub.status.idle": "2024-02-13T17:14:42.229412Z",
          "shell.execute_reply.started": "2024-02-13T17:14:28.836917Z",
          "shell.execute_reply": "2024-02-13T17:14:42.228331Z"
        },
        "trusted": true,
        "id": "Vm2g_B92lhFk"
      },
      "execution_count": 1,
      "outputs": []
    },
    {
      "cell_type": "markdown",
      "source": [
        "# Create Dataset"
      ],
      "metadata": {
        "id": "QNonFJN3lhFo"
      }
    },
    {
      "cell_type": "code",
      "source": [
        "from google.colab import drive\n",
        "drive.mount('/content/drive')"
      ],
      "metadata": {
        "colab": {
          "base_uri": "https://localhost:8080/"
        },
        "id": "jRQdN9y7m8Kq",
        "outputId": "e6bdf336-53f1-42f9-b836-1b47abc757b3"
      },
      "execution_count": 2,
      "outputs": [
        {
          "output_type": "stream",
          "name": "stdout",
          "text": [
            "Drive already mounted at /content/drive; to attempt to forcibly remount, call drive.mount(\"/content/drive\", force_remount=True).\n"
          ]
        }
      ]
    },
    {
      "cell_type": "code",
      "source": [
        "import numpy as np # linear algebra\n",
        "import pandas as pd # data processing, CSV file I/O (e.g. pd.read_csv)\n",
        "\n",
        "import os\n",
        "\n",
        "from datasets import ClassLabel, Dataset, Features, Image, Value, Sequence, DatasetDict\n",
        "label_dic={\"business\":0,\"entertainment\":1,\"food\":2,\"graphics\":3,\"historical\":4,\"medical\":5,\"politics\":6,\"space\":7,\"sport\":8,\"technologie\":9}\n",
        "\n",
        "\n",
        "Clabels= ClassLabel(num_classes=10, names=[\"business\",\"entertainment\",\"food\",\"graphics\",\"historical\",\"medical\",\"politics\",\"space\",\"sport\",\"technologie\"])\n",
        "\n",
        "\n",
        "df = pd.read_csv(\"/content/drive/MyDrive/data/documents_raw.csv\")\n",
        "df = df[[\"Class\", \"Document\"]]\n",
        "df['label2']= df['Class'].map(label_dic)"
      ],
      "metadata": {
        "execution": {
          "iopub.status.busy": "2024-02-13T17:14:47.649817Z",
          "iopub.execute_input": "2024-02-13T17:14:47.650202Z",
          "iopub.status.idle": "2024-02-13T17:14:47.684496Z",
          "shell.execute_reply.started": "2024-02-13T17:14:47.650170Z",
          "shell.execute_reply": "2024-02-13T17:14:47.683528Z"
        },
        "trusted": true,
        "id": "6MTyWJRElhFo"
      },
      "execution_count": 3,
      "outputs": []
    },
    {
      "cell_type": "code",
      "source": [
        "df.head(2)"
      ],
      "metadata": {
        "execution": {
          "iopub.status.busy": "2024-02-13T17:14:53.150732Z",
          "iopub.execute_input": "2024-02-13T17:14:53.151332Z",
          "iopub.status.idle": "2024-02-13T17:14:53.164477Z",
          "shell.execute_reply.started": "2024-02-13T17:14:53.151302Z",
          "shell.execute_reply": "2024-02-13T17:14:53.163594Z"
        },
        "trusted": true,
        "colab": {
          "base_uri": "https://localhost:8080/",
          "height": 112
        },
        "id": "zn2YeE5XlhFp",
        "outputId": "be17c12f-40d0-412e-c81a-05c46298dd60"
      },
      "execution_count": 4,
      "outputs": [
        {
          "output_type": "execute_result",
          "data": {
            "text/plain": [
              "   Class                                           Document  label2\n",
              "0  space  series linked messages periodically posted att...       7\n",
              "1  space  article according iau circular comet may tempo...       7"
            ],
            "text/html": [
              "\n",
              "  <div id=\"df-c552b00d-2dd0-4cd4-aa89-f22142f88666\" class=\"colab-df-container\">\n",
              "    <div>\n",
              "<style scoped>\n",
              "    .dataframe tbody tr th:only-of-type {\n",
              "        vertical-align: middle;\n",
              "    }\n",
              "\n",
              "    .dataframe tbody tr th {\n",
              "        vertical-align: top;\n",
              "    }\n",
              "\n",
              "    .dataframe thead th {\n",
              "        text-align: right;\n",
              "    }\n",
              "</style>\n",
              "<table border=\"1\" class=\"dataframe\">\n",
              "  <thead>\n",
              "    <tr style=\"text-align: right;\">\n",
              "      <th></th>\n",
              "      <th>Class</th>\n",
              "      <th>Document</th>\n",
              "      <th>label2</th>\n",
              "    </tr>\n",
              "  </thead>\n",
              "  <tbody>\n",
              "    <tr>\n",
              "      <th>0</th>\n",
              "      <td>space</td>\n",
              "      <td>series linked messages periodically posted att...</td>\n",
              "      <td>7</td>\n",
              "    </tr>\n",
              "    <tr>\n",
              "      <th>1</th>\n",
              "      <td>space</td>\n",
              "      <td>article according iau circular comet may tempo...</td>\n",
              "      <td>7</td>\n",
              "    </tr>\n",
              "  </tbody>\n",
              "</table>\n",
              "</div>\n",
              "    <div class=\"colab-df-buttons\">\n",
              "\n",
              "  <div class=\"colab-df-container\">\n",
              "    <button class=\"colab-df-convert\" onclick=\"convertToInteractive('df-c552b00d-2dd0-4cd4-aa89-f22142f88666')\"\n",
              "            title=\"Convert this dataframe to an interactive table.\"\n",
              "            style=\"display:none;\">\n",
              "\n",
              "  <svg xmlns=\"http://www.w3.org/2000/svg\" height=\"24px\" viewBox=\"0 -960 960 960\">\n",
              "    <path d=\"M120-120v-720h720v720H120Zm60-500h600v-160H180v160Zm220 220h160v-160H400v160Zm0 220h160v-160H400v160ZM180-400h160v-160H180v160Zm440 0h160v-160H620v160ZM180-180h160v-160H180v160Zm440 0h160v-160H620v160Z\"/>\n",
              "  </svg>\n",
              "    </button>\n",
              "\n",
              "  <style>\n",
              "    .colab-df-container {\n",
              "      display:flex;\n",
              "      gap: 12px;\n",
              "    }\n",
              "\n",
              "    .colab-df-convert {\n",
              "      background-color: #E8F0FE;\n",
              "      border: none;\n",
              "      border-radius: 50%;\n",
              "      cursor: pointer;\n",
              "      display: none;\n",
              "      fill: #1967D2;\n",
              "      height: 32px;\n",
              "      padding: 0 0 0 0;\n",
              "      width: 32px;\n",
              "    }\n",
              "\n",
              "    .colab-df-convert:hover {\n",
              "      background-color: #E2EBFA;\n",
              "      box-shadow: 0px 1px 2px rgba(60, 64, 67, 0.3), 0px 1px 3px 1px rgba(60, 64, 67, 0.15);\n",
              "      fill: #174EA6;\n",
              "    }\n",
              "\n",
              "    .colab-df-buttons div {\n",
              "      margin-bottom: 4px;\n",
              "    }\n",
              "\n",
              "    [theme=dark] .colab-df-convert {\n",
              "      background-color: #3B4455;\n",
              "      fill: #D2E3FC;\n",
              "    }\n",
              "\n",
              "    [theme=dark] .colab-df-convert:hover {\n",
              "      background-color: #434B5C;\n",
              "      box-shadow: 0px 1px 3px 1px rgba(0, 0, 0, 0.15);\n",
              "      filter: drop-shadow(0px 1px 2px rgba(0, 0, 0, 0.3));\n",
              "      fill: #FFFFFF;\n",
              "    }\n",
              "  </style>\n",
              "\n",
              "    <script>\n",
              "      const buttonEl =\n",
              "        document.querySelector('#df-c552b00d-2dd0-4cd4-aa89-f22142f88666 button.colab-df-convert');\n",
              "      buttonEl.style.display =\n",
              "        google.colab.kernel.accessAllowed ? 'block' : 'none';\n",
              "\n",
              "      async function convertToInteractive(key) {\n",
              "        const element = document.querySelector('#df-c552b00d-2dd0-4cd4-aa89-f22142f88666');\n",
              "        const dataTable =\n",
              "          await google.colab.kernel.invokeFunction('convertToInteractive',\n",
              "                                                    [key], {});\n",
              "        if (!dataTable) return;\n",
              "\n",
              "        const docLinkHtml = 'Like what you see? Visit the ' +\n",
              "          '<a target=\"_blank\" href=https://colab.research.google.com/notebooks/data_table.ipynb>data table notebook</a>'\n",
              "          + ' to learn more about interactive tables.';\n",
              "        element.innerHTML = '';\n",
              "        dataTable['output_type'] = 'display_data';\n",
              "        await google.colab.output.renderOutput(dataTable, element);\n",
              "        const docLink = document.createElement('div');\n",
              "        docLink.innerHTML = docLinkHtml;\n",
              "        element.appendChild(docLink);\n",
              "      }\n",
              "    </script>\n",
              "  </div>\n",
              "\n",
              "\n",
              "<div id=\"df-6c41fdf9-7b44-4c34-bcc6-ae37648774ed\">\n",
              "  <button class=\"colab-df-quickchart\" onclick=\"quickchart('df-6c41fdf9-7b44-4c34-bcc6-ae37648774ed')\"\n",
              "            title=\"Suggest charts\"\n",
              "            style=\"display:none;\">\n",
              "\n",
              "<svg xmlns=\"http://www.w3.org/2000/svg\" height=\"24px\"viewBox=\"0 0 24 24\"\n",
              "     width=\"24px\">\n",
              "    <g>\n",
              "        <path d=\"M19 3H5c-1.1 0-2 .9-2 2v14c0 1.1.9 2 2 2h14c1.1 0 2-.9 2-2V5c0-1.1-.9-2-2-2zM9 17H7v-7h2v7zm4 0h-2V7h2v10zm4 0h-2v-4h2v4z\"/>\n",
              "    </g>\n",
              "</svg>\n",
              "  </button>\n",
              "\n",
              "<style>\n",
              "  .colab-df-quickchart {\n",
              "      --bg-color: #E8F0FE;\n",
              "      --fill-color: #1967D2;\n",
              "      --hover-bg-color: #E2EBFA;\n",
              "      --hover-fill-color: #174EA6;\n",
              "      --disabled-fill-color: #AAA;\n",
              "      --disabled-bg-color: #DDD;\n",
              "  }\n",
              "\n",
              "  [theme=dark] .colab-df-quickchart {\n",
              "      --bg-color: #3B4455;\n",
              "      --fill-color: #D2E3FC;\n",
              "      --hover-bg-color: #434B5C;\n",
              "      --hover-fill-color: #FFFFFF;\n",
              "      --disabled-bg-color: #3B4455;\n",
              "      --disabled-fill-color: #666;\n",
              "  }\n",
              "\n",
              "  .colab-df-quickchart {\n",
              "    background-color: var(--bg-color);\n",
              "    border: none;\n",
              "    border-radius: 50%;\n",
              "    cursor: pointer;\n",
              "    display: none;\n",
              "    fill: var(--fill-color);\n",
              "    height: 32px;\n",
              "    padding: 0;\n",
              "    width: 32px;\n",
              "  }\n",
              "\n",
              "  .colab-df-quickchart:hover {\n",
              "    background-color: var(--hover-bg-color);\n",
              "    box-shadow: 0 1px 2px rgba(60, 64, 67, 0.3), 0 1px 3px 1px rgba(60, 64, 67, 0.15);\n",
              "    fill: var(--button-hover-fill-color);\n",
              "  }\n",
              "\n",
              "  .colab-df-quickchart-complete:disabled,\n",
              "  .colab-df-quickchart-complete:disabled:hover {\n",
              "    background-color: var(--disabled-bg-color);\n",
              "    fill: var(--disabled-fill-color);\n",
              "    box-shadow: none;\n",
              "  }\n",
              "\n",
              "  .colab-df-spinner {\n",
              "    border: 2px solid var(--fill-color);\n",
              "    border-color: transparent;\n",
              "    border-bottom-color: var(--fill-color);\n",
              "    animation:\n",
              "      spin 1s steps(1) infinite;\n",
              "  }\n",
              "\n",
              "  @keyframes spin {\n",
              "    0% {\n",
              "      border-color: transparent;\n",
              "      border-bottom-color: var(--fill-color);\n",
              "      border-left-color: var(--fill-color);\n",
              "    }\n",
              "    20% {\n",
              "      border-color: transparent;\n",
              "      border-left-color: var(--fill-color);\n",
              "      border-top-color: var(--fill-color);\n",
              "    }\n",
              "    30% {\n",
              "      border-color: transparent;\n",
              "      border-left-color: var(--fill-color);\n",
              "      border-top-color: var(--fill-color);\n",
              "      border-right-color: var(--fill-color);\n",
              "    }\n",
              "    40% {\n",
              "      border-color: transparent;\n",
              "      border-right-color: var(--fill-color);\n",
              "      border-top-color: var(--fill-color);\n",
              "    }\n",
              "    60% {\n",
              "      border-color: transparent;\n",
              "      border-right-color: var(--fill-color);\n",
              "    }\n",
              "    80% {\n",
              "      border-color: transparent;\n",
              "      border-right-color: var(--fill-color);\n",
              "      border-bottom-color: var(--fill-color);\n",
              "    }\n",
              "    90% {\n",
              "      border-color: transparent;\n",
              "      border-bottom-color: var(--fill-color);\n",
              "    }\n",
              "  }\n",
              "</style>\n",
              "\n",
              "  <script>\n",
              "    async function quickchart(key) {\n",
              "      const quickchartButtonEl =\n",
              "        document.querySelector('#' + key + ' button');\n",
              "      quickchartButtonEl.disabled = true;  // To prevent multiple clicks.\n",
              "      quickchartButtonEl.classList.add('colab-df-spinner');\n",
              "      try {\n",
              "        const charts = await google.colab.kernel.invokeFunction(\n",
              "            'suggestCharts', [key], {});\n",
              "      } catch (error) {\n",
              "        console.error('Error during call to suggestCharts:', error);\n",
              "      }\n",
              "      quickchartButtonEl.classList.remove('colab-df-spinner');\n",
              "      quickchartButtonEl.classList.add('colab-df-quickchart-complete');\n",
              "    }\n",
              "    (() => {\n",
              "      let quickchartButtonEl =\n",
              "        document.querySelector('#df-6c41fdf9-7b44-4c34-bcc6-ae37648774ed button');\n",
              "      quickchartButtonEl.style.display =\n",
              "        google.colab.kernel.accessAllowed ? 'block' : 'none';\n",
              "    })();\n",
              "  </script>\n",
              "</div>\n",
              "    </div>\n",
              "  </div>\n"
            ]
          },
          "metadata": {},
          "execution_count": 4
        }
      ]
    },
    {
      "cell_type": "code",
      "source": [
        "list_text= df[\"Document\"].to_list()\n",
        "list_labels=df[\"Class\"].to_list()\n",
        "list_labels2=df[\"label2\"].to_list()"
      ],
      "metadata": {
        "execution": {
          "iopub.status.busy": "2024-02-13T17:14:57.955671Z",
          "iopub.execute_input": "2024-02-13T17:14:57.956093Z",
          "iopub.status.idle": "2024-02-13T17:14:57.960766Z",
          "shell.execute_reply.started": "2024-02-13T17:14:57.956051Z",
          "shell.execute_reply": "2024-02-13T17:14:57.959904Z"
        },
        "trusted": true,
        "id": "GUros1I2lhFp"
      },
      "execution_count": 5,
      "outputs": []
    },
    {
      "cell_type": "code",
      "source": [
        "stratify_column_name = \"label2\"\n",
        "dtrain= { \"text\": list_text, \"label2\": list_labels2, \"label\":list_labels}\n",
        "dataset = Dataset.from_dict(mapping=dtrain, features=Features({\"text\":  Value(dtype='string', id=None), \"label2\": Value(dtype='int8'), 'label': Value(dtype='string', id=None)}))\n",
        "\n",
        "dataset = dataset.shuffle(seed=42)\n",
        "dataset = dataset.class_encode_column(stratify_column_name).train_test_split(test_size=0.3)\n",
        "dataset = dataset.cast_column(\"label2\", Clabels)"
      ],
      "metadata": {
        "execution": {
          "iopub.status.busy": "2024-02-13T17:15:04.418012Z",
          "iopub.execute_input": "2024-02-13T17:15:04.418816Z",
          "iopub.status.idle": "2024-02-13T17:15:04.615031Z",
          "shell.execute_reply.started": "2024-02-13T17:15:04.418782Z",
          "shell.execute_reply": "2024-02-13T17:15:04.614179Z"
        },
        "trusted": true,
        "colab": {
          "base_uri": "https://localhost:8080/",
          "height": 145,
          "referenced_widgets": [
            "42c34052a4924e6ba6ef20f9f3a90213",
            "390260774f394676a8f0f3fc666d52be",
            "bd210dc0d76a4322afc79785f8ccd36e",
            "7ebd77ee57984b7eb356f115ab737981",
            "d72941841d78492293a5827b2928efef",
            "fef682538ade48ceac2c2059e172caaa",
            "412ce027346e4703a87b0a4812aeb277",
            "2e31e75735994da68bc15545b3df37d4",
            "ffbdecdec8a24a4c913da3957c7273d9",
            "4752f60ebd1e4efd98969d71e01fe11b",
            "b4a2d13f2e434a13839d722e56fdd117",
            "6352efef5da441df8841e5f1d075a279",
            "d7da21f0c91e4fe7ae3738dfe9bb140b",
            "c47caec9d9c24b148dcd355252060c19",
            "2fecf9a0931f40d99d600a71a7be519f",
            "ce74bf80e10d4857a86cf52f57a3c438",
            "f490a468fd4e4f92914548a56d49bab8",
            "8d4735e569cb42ed998ae3a53b38c2ab",
            "a957717544804dfe8636c816345089ea",
            "30f2d8ef493b4278863a15f2c563956e",
            "6e200df8b5b6428bafcae611de7e3b2e",
            "b5c4a3b8f55a4157899de5c519d4e06f",
            "9848ca1b8e834242bf32e81e64fb68ad",
            "d024508840cd449fbf46d4082968f7f1",
            "7b879eb647214aa59406302626331e2f",
            "471b87418e404a41978151f2de4a0131",
            "d2f65bd5e71f4246852be32912a1d6bb",
            "fdab11adbb9e4bf98b8ab69cf24995fb",
            "e23670a65da34a498fa6edf7b25f5117",
            "953112e4015145c0a2de038639d5f5cb",
            "adc7e0d0fb2243d7b0b2cb7eee911055",
            "a1ecc658a12b40a996dbc0dbdf543120",
            "f1b84ea381f34445ba52484410ab684e",
            "a893e59e99df4270ad9db0bf95d4867c",
            "666b5087b916458f84cb2b8f02496130",
            "38d824f292694e4d812db0e92fbc2ee9",
            "bf9083179eb04d56bf81316d2a00a250",
            "a9f32e034a954b3b8254ddd97214aa10",
            "a8859b09d972464987486870f8b58503",
            "46109258d1804628962bebf2cc73822a",
            "6d62e1ad1d4649588654096255a42d99",
            "0fa60aca73eb4bffb7b9c73e1bcfb73f",
            "a97e50e1104b4cbb99761ac8b1fc2419",
            "952827e1c7ff4825b563a5167dc14bd4"
          ]
        },
        "id": "CPtuPx6ulhFq",
        "outputId": "78208524-420a-4b2b-adb1-de65e74a599c"
      },
      "execution_count": 6,
      "outputs": [
        {
          "output_type": "display_data",
          "data": {
            "text/plain": [
              "Stringifying the column:   0%|          | 0/1000 [00:00<?, ? examples/s]"
            ],
            "application/vnd.jupyter.widget-view+json": {
              "version_major": 2,
              "version_minor": 0,
              "model_id": "42c34052a4924e6ba6ef20f9f3a90213"
            }
          },
          "metadata": {}
        },
        {
          "output_type": "display_data",
          "data": {
            "text/plain": [
              "Casting to class labels:   0%|          | 0/1000 [00:00<?, ? examples/s]"
            ],
            "application/vnd.jupyter.widget-view+json": {
              "version_major": 2,
              "version_minor": 0,
              "model_id": "6352efef5da441df8841e5f1d075a279"
            }
          },
          "metadata": {}
        },
        {
          "output_type": "display_data",
          "data": {
            "text/plain": [
              "Casting the dataset:   0%|          | 0/700 [00:00<?, ? examples/s]"
            ],
            "application/vnd.jupyter.widget-view+json": {
              "version_major": 2,
              "version_minor": 0,
              "model_id": "9848ca1b8e834242bf32e81e64fb68ad"
            }
          },
          "metadata": {}
        },
        {
          "output_type": "display_data",
          "data": {
            "text/plain": [
              "Casting the dataset:   0%|          | 0/300 [00:00<?, ? examples/s]"
            ],
            "application/vnd.jupyter.widget-view+json": {
              "version_major": 2,
              "version_minor": 0,
              "model_id": "a893e59e99df4270ad9db0bf95d4867c"
            }
          },
          "metadata": {}
        }
      ]
    },
    {
      "cell_type": "code",
      "source": [
        "dataset"
      ],
      "metadata": {
        "execution": {
          "iopub.status.busy": "2024-02-13T17:15:12.008692Z",
          "iopub.execute_input": "2024-02-13T17:15:12.009057Z",
          "iopub.status.idle": "2024-02-13T17:15:12.015181Z",
          "shell.execute_reply.started": "2024-02-13T17:15:12.009027Z",
          "shell.execute_reply": "2024-02-13T17:15:12.014173Z"
        },
        "trusted": true,
        "colab": {
          "base_uri": "https://localhost:8080/"
        },
        "id": "rHjvsP8vlhFq",
        "outputId": "13dccac7-00d7-4a03-c7c3-4fc2b2a3530a"
      },
      "execution_count": 7,
      "outputs": [
        {
          "output_type": "execute_result",
          "data": {
            "text/plain": [
              "DatasetDict({\n",
              "    train: Dataset({\n",
              "        features: ['text', 'label2', 'label'],\n",
              "        num_rows: 700\n",
              "    })\n",
              "    test: Dataset({\n",
              "        features: ['text', 'label2', 'label'],\n",
              "        num_rows: 300\n",
              "    })\n",
              "})"
            ]
          },
          "metadata": {},
          "execution_count": 7
        }
      ]
    },
    {
      "cell_type": "code",
      "source": [
        "import evaluate\n",
        "import nltk\n",
        "import numpy as np\n",
        "import torch\n",
        "from typing import List, Tuple\n",
        "from nltk.tokenize import sent_tokenize\n",
        "from datasets import Dataset, concatenate_datasets\n",
        "from huggingface_hub import HfFolder\n",
        "from transformers import (\n",
        "    AutoTokenizer,\n",
        "    AutoModelForSeq2SeqLM,\n",
        "    DataCollatorForSeq2Seq,\n",
        "    Seq2SeqTrainer,\n",
        "    Seq2SeqTrainingArguments,\n",
        "    T5Tokenizer,\n",
        "    T5ForConditionalGeneration\n",
        ")\n",
        "\n",
        "MODEL_ID = \"sentence-transformers/gtr-t5-large\""
      ],
      "metadata": {
        "execution": {
          "iopub.status.busy": "2024-02-13T17:17:29.040633Z",
          "iopub.execute_input": "2024-02-13T17:17:29.041461Z",
          "iopub.status.idle": "2024-02-13T17:17:29.047470Z",
          "shell.execute_reply.started": "2024-02-13T17:17:29.041416Z",
          "shell.execute_reply": "2024-02-13T17:17:29.046512Z"
        },
        "trusted": true,
        "id": "_sBKaeiWlhFq"
      },
      "execution_count": 8,
      "outputs": []
    },
    {
      "cell_type": "code",
      "source": [
        "dataset['train'][1]"
      ],
      "metadata": {
        "execution": {
          "iopub.status.busy": "2024-02-13T17:16:31.900669Z",
          "iopub.execute_input": "2024-02-13T17:16:31.901040Z",
          "iopub.status.idle": "2024-02-13T17:16:31.908100Z",
          "shell.execute_reply.started": "2024-02-13T17:16:31.901013Z",
          "shell.execute_reply": "2024-02-13T17:16:31.907269Z"
        },
        "trusted": true,
        "colab": {
          "base_uri": "https://localhost:8080/"
        },
        "id": "F2TVhsR-lhFr",
        "outputId": "ee454cfb-57b5-459b-e5f4-29c228ab2f68"
      },
      "execution_count": 9,
      "outputs": [
        {
          "output_type": "execute_result",
          "data": {
            "text/plain": [
              "{'text': 'taxes must trusted trust taxes breaking labour tories straight people lib dem leader charles kennedy day ahead mr kennedy used speech say party facing economic said current level taxation although would put new tax top parties accused lib dems making uncosted mr kennedy made clear determined counter lib dems already published say full costings plans speech announce new commonwealth mr kennedy said critical political party economic promised expected add tough choices needed public lib dems would cut including id cards scheme child trust cutbacks would free funds increasing basic state pensions putting police streets reintroducing fee eye dental lib dems argue honest taxes past calling 1p rise income say simple tax rise want new tax band top earners pay scrapping university tuition providing free personal care elderly disabled people keeping local taxes would also local income tax replace council tax number changes environmental taxes ensure lib dems say tories laid possible options cutting taxes grab headlines labour hidden tax mr kennedy contract people government tax fairly spend money wisely sustained political parties straightforward stealth tax strategy gordon obvious unfairness current tax system especially council empty promises conservative party issue wonder trust taxation breaking challenged treasury open books national audit office report liam fox liam fox said charles kennedy serious making budgets add start explaining would fund 100 spending reality lib dems lack courage tackle waste people would face would families would worse chancellor gordon brown said lib dem figures add accused party claiming would spend less across country committing spend',\n",
              " 'label2': 6,\n",
              " 'label': 'politics'}"
            ]
          },
          "metadata": {},
          "execution_count": 9
        }
      ]
    },
    {
      "cell_type": "code",
      "source": [
        "PROJECT = \"FlanT5-Document-Classification\"\n",
        "MODEL_NAME = 'sentence-transformers/gtr-t5-large'\n",
        "DATASET = \"Kaggle-1000-Documents-10-classes\"\n",
        "device = \"cuda\" if torch.cuda.is_available() else \"cpu\"\n",
        "device"
      ],
      "metadata": {
        "execution": {
          "iopub.status.busy": "2024-02-13T17:17:33.928576Z",
          "iopub.execute_input": "2024-02-13T17:17:33.929400Z",
          "iopub.status.idle": "2024-02-13T17:17:33.962099Z",
          "shell.execute_reply.started": "2024-02-13T17:17:33.929365Z",
          "shell.execute_reply": "2024-02-13T17:17:33.961163Z"
        },
        "trusted": true,
        "colab": {
          "base_uri": "https://localhost:8080/",
          "height": 35
        },
        "id": "giyjJT6PlhFs",
        "outputId": "9e14129e-65a7-4ef3-9a3c-5edbdb85970a"
      },
      "execution_count": 10,
      "outputs": [
        {
          "output_type": "execute_result",
          "data": {
            "text/plain": [
              "'cuda'"
            ],
            "application/vnd.google.colaboratory.intrinsic+json": {
              "type": "string"
            }
          },
          "metadata": {},
          "execution_count": 10
        }
      ]
    },
    {
      "cell_type": "markdown",
      "source": [
        "##### https://www.kaggle.com/datasets/jensenbaxter/10dataset-text-document-classification\n",
        "\n",
        "Classes : business, entertainment,food, graphics, historical, medical, politics, space, sport, technologie\n",
        "\n",
        "\n",
        "# Model\n",
        "https://huggingface.co/docs/transformers/model_doc/t5\n",
        "\n",
        "\n",
        "*Exploring the Limits of Transfer Learning with a Unified Text-to-Text Transformer*\n",
        "\n",
        "https://arxiv.org/pdf/1910.10683.pdf"
      ],
      "metadata": {
        "id": "BqcCraF3lhFs"
      }
    },
    {
      "cell_type": "code",
      "source": [
        "from google.colab import userdata\n",
        "\n",
        "wandb_key = userdata.get('WANDB')"
      ],
      "metadata": {
        "execution": {
          "iopub.status.busy": "2024-02-13T17:22:32.133648Z",
          "iopub.execute_input": "2024-02-13T17:22:32.134047Z",
          "iopub.status.idle": "2024-02-13T17:22:32.368184Z",
          "shell.execute_reply.started": "2024-02-13T17:22:32.134016Z",
          "shell.execute_reply": "2024-02-13T17:22:32.367263Z"
        },
        "trusted": true,
        "id": "Pm_rT9fFlhFs"
      },
      "execution_count": 11,
      "outputs": []
    },
    {
      "cell_type": "code",
      "source": [
        "import wandb\n",
        "wandb.login(key=wandb_key)\n",
        "with wandb.init(project=PROJECT,tags=[MODEL_NAME, DATASET],notes =\"Fine tuning FlanT5 with Kaggle Dataset. 100 Documents 10 classes\",job_type=\"dataset\"):\n",
        "    wbtrain = wandb.Table(data=dataset['train'].to_pandas())\n",
        "    wbtest = wandb.Table(data=dataset['test'].to_pandas())\n",
        "    wandb.log({\"dialogsum_train\": wbtrain})\n",
        "    wandb.log({\"dialogsum_test\": wbtest})\n"
      ],
      "metadata": {
        "execution": {
          "iopub.status.busy": "2024-02-13T17:22:44.656243Z",
          "iopub.execute_input": "2024-02-13T17:22:44.656891Z",
          "iopub.status.idle": "2024-02-13T17:23:44.569635Z",
          "shell.execute_reply.started": "2024-02-13T17:22:44.656857Z",
          "shell.execute_reply": "2024-02-13T17:23:44.568895Z"
        },
        "trusted": true,
        "colab": {
          "base_uri": "https://localhost:8080/",
          "height": 225,
          "referenced_widgets": [
            "b0f05579197b4a27817b6d441c202eb4",
            "0c5b19d8ee464908bc0959081f9ca4ca",
            "0ebfa94039be41fe84527a70ad4ac4e0",
            "dbf0943590dc43cfa45b4873ed652aad",
            "0e13608751c34cf28cec7675eabbdfa7",
            "99fb87860d96441c877fa82ced1896fa",
            "161ecb0d45d449c2a0303237e3864f0f",
            "180ccbbebe784cccad5e8d9d30965753"
          ]
        },
        "id": "RwKlvFSulhFt",
        "outputId": "31a265c8-ba02-4394-c519-b44cd8da4869"
      },
      "execution_count": 12,
      "outputs": [
        {
          "output_type": "stream",
          "name": "stderr",
          "text": [
            "\u001b[34m\u001b[1mwandb\u001b[0m: Currently logged in as: \u001b[33molonok\u001b[0m (\u001b[33molonok69\u001b[0m). Use \u001b[1m`wandb login --relogin`\u001b[0m to force relogin\n",
            "\u001b[34m\u001b[1mwandb\u001b[0m: \u001b[33mWARNING\u001b[0m If you're specifying your api key in code, ensure this code is not shared publicly.\n",
            "\u001b[34m\u001b[1mwandb\u001b[0m: \u001b[33mWARNING\u001b[0m Consider setting the WANDB_API_KEY environment variable, or running `wandb login` from the command line.\n",
            "\u001b[34m\u001b[1mwandb\u001b[0m: Appending key for api.wandb.ai to your netrc file: /root/.netrc\n"
          ]
        },
        {
          "output_type": "display_data",
          "data": {
            "text/plain": [
              "<IPython.core.display.HTML object>"
            ],
            "text/html": [
              "Tracking run with wandb version 0.16.3"
            ]
          },
          "metadata": {}
        },
        {
          "output_type": "display_data",
          "data": {
            "text/plain": [
              "<IPython.core.display.HTML object>"
            ],
            "text/html": [
              "Run data is saved locally in <code>/content/wandb/run-20240213_180959-dw30ctit</code>"
            ]
          },
          "metadata": {}
        },
        {
          "output_type": "display_data",
          "data": {
            "text/plain": [
              "<IPython.core.display.HTML object>"
            ],
            "text/html": [
              "Syncing run <strong><a href='https://wandb.ai/olonok69/FlanT5-Document-Classification/runs/dw30ctit' target=\"_blank\">resplendent-rat-40</a></strong> to <a href='https://wandb.ai/olonok69/FlanT5-Document-Classification' target=\"_blank\">Weights & Biases</a> (<a href='https://wandb.me/run' target=\"_blank\">docs</a>)<br/>"
            ]
          },
          "metadata": {}
        },
        {
          "output_type": "display_data",
          "data": {
            "text/plain": [
              "<IPython.core.display.HTML object>"
            ],
            "text/html": [
              " View project at <a href='https://wandb.ai/olonok69/FlanT5-Document-Classification' target=\"_blank\">https://wandb.ai/olonok69/FlanT5-Document-Classification</a>"
            ]
          },
          "metadata": {}
        },
        {
          "output_type": "display_data",
          "data": {
            "text/plain": [
              "<IPython.core.display.HTML object>"
            ],
            "text/html": [
              " View run at <a href='https://wandb.ai/olonok69/FlanT5-Document-Classification/runs/dw30ctit' target=\"_blank\">https://wandb.ai/olonok69/FlanT5-Document-Classification/runs/dw30ctit</a>"
            ]
          },
          "metadata": {}
        },
        {
          "output_type": "display_data",
          "data": {
            "text/plain": [
              "VBox(children=(Label(value='2.478 MB of 2.489 MB uploaded\\r'), FloatProgress(value=0.9956932618570351, max=1.0…"
            ],
            "application/vnd.jupyter.widget-view+json": {
              "version_major": 2,
              "version_minor": 0,
              "model_id": "b0f05579197b4a27817b6d441c202eb4"
            }
          },
          "metadata": {}
        },
        {
          "output_type": "display_data",
          "data": {
            "text/plain": [
              "<IPython.core.display.HTML object>"
            ],
            "text/html": [
              " View run <strong style=\"color:#cdcd00\">resplendent-rat-40</strong> at: <a href='https://wandb.ai/olonok69/FlanT5-Document-Classification/runs/dw30ctit' target=\"_blank\">https://wandb.ai/olonok69/FlanT5-Document-Classification/runs/dw30ctit</a><br/>Synced 4 W&B file(s), 2 media file(s), 2 artifact file(s) and 0 other file(s)"
            ]
          },
          "metadata": {}
        },
        {
          "output_type": "display_data",
          "data": {
            "text/plain": [
              "<IPython.core.display.HTML object>"
            ],
            "text/html": [
              "Find logs at: <code>./wandb/run-20240213_180959-dw30ctit/logs</code>"
            ]
          },
          "metadata": {}
        }
      ]
    },
    {
      "cell_type": "code",
      "source": [
        "len(dataset['test'].to_pandas()['label'].unique())"
      ],
      "metadata": {
        "execution": {
          "iopub.status.busy": "2024-02-13T17:33:57.096872Z",
          "iopub.execute_input": "2024-02-13T17:33:57.097859Z",
          "iopub.status.idle": "2024-02-13T17:33:57.108511Z",
          "shell.execute_reply.started": "2024-02-13T17:33:57.097808Z",
          "shell.execute_reply": "2024-02-13T17:33:57.107469Z"
        },
        "trusted": true,
        "colab": {
          "base_uri": "https://localhost:8080/"
        },
        "id": "sjSMZ_HulhFt",
        "outputId": "ab33c2c8-3e89-47db-ab07-4b453c103b2f"
      },
      "execution_count": 13,
      "outputs": [
        {
          "output_type": "execute_result",
          "data": {
            "text/plain": [
              "10"
            ]
          },
          "metadata": {},
          "execution_count": 13
        }
      ]
    },
    {
      "cell_type": "code",
      "source": [
        "dataset['test'].to_pandas()['label'].value_counts()"
      ],
      "metadata": {
        "execution": {
          "iopub.status.busy": "2024-02-13T17:34:00.219529Z",
          "iopub.execute_input": "2024-02-13T17:34:00.220267Z",
          "iopub.status.idle": "2024-02-13T17:34:00.232743Z",
          "shell.execute_reply.started": "2024-02-13T17:34:00.220230Z",
          "shell.execute_reply": "2024-02-13T17:34:00.231924Z"
        },
        "trusted": true,
        "colab": {
          "base_uri": "https://localhost:8080/"
        },
        "id": "1rykaNTWlhFu",
        "outputId": "b8d2c08b-e8ea-458a-9f35-43b93ca5ca80"
      },
      "execution_count": 14,
      "outputs": [
        {
          "output_type": "execute_result",
          "data": {
            "text/plain": [
              "historical       40\n",
              "technologie      34\n",
              "business         34\n",
              "entertainment    31\n",
              "food             31\n",
              "space            27\n",
              "sport            26\n",
              "medical          26\n",
              "politics         26\n",
              "graphics         25\n",
              "Name: label, dtype: int64"
            ]
          },
          "metadata": {},
          "execution_count": 14
        }
      ]
    },
    {
      "cell_type": "code",
      "source": [
        "dataset['train'].to_pandas()['label'].value_counts()"
      ],
      "metadata": {
        "execution": {
          "iopub.status.busy": "2024-02-13T17:34:04.484933Z",
          "iopub.execute_input": "2024-02-13T17:34:04.485263Z",
          "iopub.status.idle": "2024-02-13T17:34:04.495904Z",
          "shell.execute_reply.started": "2024-02-13T17:34:04.485238Z",
          "shell.execute_reply": "2024-02-13T17:34:04.494991Z"
        },
        "trusted": true,
        "colab": {
          "base_uri": "https://localhost:8080/"
        },
        "id": "aVJfacR2lhFu",
        "outputId": "b98721c9-acca-4dac-dd33-dba9178137ff"
      },
      "execution_count": 15,
      "outputs": [
        {
          "output_type": "execute_result",
          "data": {
            "text/plain": [
              "graphics         75\n",
              "politics         74\n",
              "sport            74\n",
              "medical          74\n",
              "space            73\n",
              "entertainment    69\n",
              "food             69\n",
              "business         66\n",
              "technologie      66\n",
              "historical       60\n",
              "Name: label, dtype: int64"
            ]
          },
          "metadata": {},
          "execution_count": 15
        }
      ]
    },
    {
      "cell_type": "code",
      "source": [
        "full = concatenate_datasets([dataset[\"train\"], dataset[\"test\"]])"
      ],
      "metadata": {
        "execution": {
          "iopub.status.busy": "2024-02-13T17:34:18.757165Z",
          "iopub.execute_input": "2024-02-13T17:34:18.757838Z",
          "iopub.status.idle": "2024-02-13T17:34:18.776688Z",
          "shell.execute_reply.started": "2024-02-13T17:34:18.757808Z",
          "shell.execute_reply": "2024-02-13T17:34:18.775959Z"
        },
        "trusted": true,
        "id": "PEZMORrAlhFu"
      },
      "execution_count": 16,
      "outputs": []
    },
    {
      "cell_type": "code",
      "source": [
        "full[:2]"
      ],
      "metadata": {
        "execution": {
          "iopub.status.busy": "2024-02-13T17:34:20.266787Z",
          "iopub.execute_input": "2024-02-13T17:34:20.267173Z",
          "iopub.status.idle": "2024-02-13T17:34:20.274342Z",
          "shell.execute_reply.started": "2024-02-13T17:34:20.267143Z",
          "shell.execute_reply": "2024-02-13T17:34:20.273361Z"
        },
        "trusted": true,
        "colab": {
          "base_uri": "https://localhost:8080/"
        },
        "id": "SepawmHWlhFu",
        "outputId": "b22711e9-2a8f-4d65-ba70-6a3421101da1"
      },
      "execution_count": 17,
      "outputs": [
        {
          "output_type": "execute_result",
          "data": {
            "text/plain": [
              "{'text': ['experiences colonial santanu das gives overview numbers roles colonial troops world war colonial troops serve used factor military conservative estimates well four million men mobilised european american armies first world combatant know daily lived war experiences men former colonies different racial ethnic spite important work done recent first world war social cultural history war still continues maintain neat symmetry war like sites remain contours war modern start look different instead writings ordinary european let alone poet like wilfred owen novelist like erich maria consider memories indian chinese worker african fictional german writer f h grautoff warned war must necessarily set whole world eurocentric whole except ethiopia european rule great britain france controlled two largest colonial would draw extensively war human material various colonies british india contributed largest number approximately million recruited war december dominions nations within british including south new zealand newfoundland contributed million new mobilisation men may seem relatively small compared proportionate terms new zealand made one largest contributions british five percent men aged indian new zealand troops fought together total 3000 indian 1624 loss rate 50 per addition troupes indigènes already arms war france recruited 1914 1918 nearly colonial including west tunisians french colonial troops served majority africans served labourers carriers hew strachan 2 million africans involved conflict soldiers 10 percent among labourers serving death rates may high 20 nearly chinese contract labourers hired british french forming substantial part immigrant labour force working france entry united states nearly troops inducted us served military one native south african remarkable part war experience see different kinds human races parts racial diversity european soil largely result french british decisions employ colonial troops germany western yet decision straight forward societies embedded colour prejudices doctrines racial hierarchy colour largely determined life combatant assimilationist deployed troops similar decision great britain caused times history world revealed contemporary thinking issue 1914 instinct made us sticklers propriety dealings made us reluctant nations would feel employ coloured troops white british regularly used colonial troops imperial europe white indian troops allowed fight boer war south africa man trained raise arms another guarantee racial thinking would one day attack white heavy casualties suffered british expeditionary force august two indian divisions diverted among colonial troops british indians allowed fight predominantly due racial categorisation british military context assumed one sinister forms theory england france divided subject people races guerrières races british military meant nepal north indian provinces particularly punjab likely recruited fight considered inherently warlike men parts racial theory similarly important french general charles theory force creation large reserve african troops counter demographic imbalance face west africans whose young blood flows avid africans combatant roles important work use carrier corps men reduced suffered high casualty rates high twenty often disease many ethnic groups also used labourers various theatres recent including approximately chinese workers hired british french governments clear wwi different colonies racial groups around war experience profoundly transformative different often considered sideshows grand european narrative war momentous events enduring consequences local many war physical level end two weeks guns fell silent western wily german commander general paul von carried campaign east chinese labourers started clearing battlefields western french african troops stationed ruhr region early 1921 became target vicious racist popular perception first world war remains narrowly confined western first world war fighting took place africa middle brief excursions central asia far litany names different theatres battle often becomes marker nature first world colonial homefront lives hundreds thousands women children villages across asia africa lost brothers faced different kinds hardships remains one silent areas first world war part problem one many people left us diaries memoirs global reverberations become apparent consider experiences men combatants around world fought laboured whose lives changed forever empire first world war writing edited santanu das',\n",
              "  'taxes must trusted trust taxes breaking labour tories straight people lib dem leader charles kennedy day ahead mr kennedy used speech say party facing economic said current level taxation although would put new tax top parties accused lib dems making uncosted mr kennedy made clear determined counter lib dems already published say full costings plans speech announce new commonwealth mr kennedy said critical political party economic promised expected add tough choices needed public lib dems would cut including id cards scheme child trust cutbacks would free funds increasing basic state pensions putting police streets reintroducing fee eye dental lib dems argue honest taxes past calling 1p rise income say simple tax rise want new tax band top earners pay scrapping university tuition providing free personal care elderly disabled people keeping local taxes would also local income tax replace council tax number changes environmental taxes ensure lib dems say tories laid possible options cutting taxes grab headlines labour hidden tax mr kennedy contract people government tax fairly spend money wisely sustained political parties straightforward stealth tax strategy gordon obvious unfairness current tax system especially council empty promises conservative party issue wonder trust taxation breaking challenged treasury open books national audit office report liam fox liam fox said charles kennedy serious making budgets add start explaining would fund 100 spending reality lib dems lack courage tackle waste people would face would families would worse chancellor gordon brown said lib dem figures add accused party claiming would spend less across country committing spend'],\n",
              " 'label2': [4, 6],\n",
              " 'label': ['historical', 'politics']}"
            ]
          },
          "metadata": {},
          "execution_count": 17
        }
      ]
    },
    {
      "cell_type": "code",
      "source": [
        "# Metric\n",
        "metric = evaluate.load(\"f1\")"
      ],
      "metadata": {
        "execution": {
          "iopub.status.busy": "2024-02-13T17:34:24.057296Z",
          "iopub.execute_input": "2024-02-13T17:34:24.057777Z",
          "iopub.status.idle": "2024-02-13T17:34:24.743041Z",
          "shell.execute_reply.started": "2024-02-13T17:34:24.057734Z",
          "shell.execute_reply": "2024-02-13T17:34:24.742270Z"
        },
        "trusted": true,
        "id": "B86Nz9ewlhFv"
      },
      "execution_count": 18,
      "outputs": []
    },
    {
      "cell_type": "markdown",
      "source": [
        "# Tokenizers\n",
        "\n",
        "large language models process text using tokens, which are common sequences of characters found in a set of text. The models learn to understand the statistical relationships between these tokens, and excel at producing the next token in a sequence of tokens.\n",
        "\n",
        "https://platform.openai.com/tokenizer\n",
        "\n",
        "# Autotokenizer\n",
        "\n",
        "https://huggingface.co/docs/transformers/v4.36.1/en/model_doc/auto#transformers.AutoTokenizer"
      ],
      "metadata": {
        "id": "EGt63_AOlhFv"
      }
    },
    {
      "cell_type": "code",
      "source": [
        "MODEL_ID = \"sentence-transformers/gtr-t5-large\"\n",
        "# # Load tokenizer of FLAN-t5\n",
        "tokenizer = AutoTokenizer.from_pretrained(MODEL_ID)\n"
      ],
      "metadata": {
        "execution": {
          "iopub.status.busy": "2024-02-13T17:41:32.868101Z",
          "iopub.execute_input": "2024-02-13T17:41:32.869096Z",
          "iopub.status.idle": "2024-02-13T17:41:34.175275Z",
          "shell.execute_reply.started": "2024-02-13T17:41:32.869050Z",
          "shell.execute_reply": "2024-02-13T17:41:34.174353Z"
        },
        "trusted": true,
        "id": "C-00K2F2lhFv"
      },
      "execution_count": 19,
      "outputs": []
    },
    {
      "cell_type": "code",
      "source": [
        "tokenized_inputs = concatenate_datasets([dataset[\"train\"], dataset[\"test\"]]).map(\n",
        "    lambda x: tokenizer(x[\"text\"], truncation=True), batched=True, remove_columns=[ 'label', 'label2']\n",
        ")\n",
        "max_source_length = max([len(x) for x in tokenized_inputs[\"input_ids\"]])\n",
        "print(f\"Max source length: {max_source_length}\")"
      ],
      "metadata": {
        "execution": {
          "iopub.status.busy": "2024-02-13T17:41:46.899777Z",
          "iopub.execute_input": "2024-02-13T17:41:46.900513Z",
          "iopub.status.idle": "2024-02-13T17:41:47.578952Z",
          "shell.execute_reply.started": "2024-02-13T17:41:46.900480Z",
          "shell.execute_reply": "2024-02-13T17:41:47.578059Z"
        },
        "trusted": true,
        "colab": {
          "base_uri": "https://localhost:8080/",
          "height": 66,
          "referenced_widgets": [
            "516e6b5e39e84eed9022bb8d529736c0",
            "f70e3ed7baee47efb082aaac1644b779",
            "7868575c7b0742d2ab158a2c03a19d56",
            "67dd9eae38b94620bb467c7c12939433",
            "a51db4168fee4379a50e27c10840841a",
            "0d2a3681868d407b83148d3096b73a94",
            "f89ef5b318d3497f933500f0751df1fd",
            "3a7d901449d44c7996c23ca793b2c99d",
            "39d55505755745d6838b53f45fe12c53",
            "3b80616eb9ad491ebfede99acfa9dbd9",
            "fff2ba0b69cb47348211e9e7def601c7"
          ]
        },
        "id": "YPlKl7SJlhFv",
        "outputId": "0282780a-66f0-4860-da66-b60d04471c60"
      },
      "execution_count": 20,
      "outputs": [
        {
          "output_type": "display_data",
          "data": {
            "text/plain": [
              "Map:   0%|          | 0/1000 [00:00<?, ? examples/s]"
            ],
            "application/vnd.jupyter.widget-view+json": {
              "version_major": 2,
              "version_minor": 0,
              "model_id": "516e6b5e39e84eed9022bb8d529736c0"
            }
          },
          "metadata": {}
        },
        {
          "output_type": "stream",
          "name": "stdout",
          "text": [
            "Max source length: 512\n"
          ]
        }
      ]
    },
    {
      "cell_type": "code",
      "source": [
        "tokenized_inputs[1]['text']"
      ],
      "metadata": {
        "execution": {
          "iopub.status.busy": "2024-02-13T17:41:53.049276Z",
          "iopub.execute_input": "2024-02-13T17:41:53.050366Z",
          "iopub.status.idle": "2024-02-13T17:41:53.057524Z",
          "shell.execute_reply.started": "2024-02-13T17:41:53.050324Z",
          "shell.execute_reply": "2024-02-13T17:41:53.056526Z"
        },
        "trusted": true,
        "colab": {
          "base_uri": "https://localhost:8080/",
          "height": 122
        },
        "id": "8WWLZWvdlhFv",
        "outputId": "9867d63f-bb08-4bfa-9c49-937d42023e03"
      },
      "execution_count": 21,
      "outputs": [
        {
          "output_type": "execute_result",
          "data": {
            "text/plain": [
              "'taxes must trusted trust taxes breaking labour tories straight people lib dem leader charles kennedy day ahead mr kennedy used speech say party facing economic said current level taxation although would put new tax top parties accused lib dems making uncosted mr kennedy made clear determined counter lib dems already published say full costings plans speech announce new commonwealth mr kennedy said critical political party economic promised expected add tough choices needed public lib dems would cut including id cards scheme child trust cutbacks would free funds increasing basic state pensions putting police streets reintroducing fee eye dental lib dems argue honest taxes past calling 1p rise income say simple tax rise want new tax band top earners pay scrapping university tuition providing free personal care elderly disabled people keeping local taxes would also local income tax replace council tax number changes environmental taxes ensure lib dems say tories laid possible options cutting taxes grab headlines labour hidden tax mr kennedy contract people government tax fairly spend money wisely sustained political parties straightforward stealth tax strategy gordon obvious unfairness current tax system especially council empty promises conservative party issue wonder trust taxation breaking challenged treasury open books national audit office report liam fox liam fox said charles kennedy serious making budgets add start explaining would fund 100 spending reality lib dems lack courage tackle waste people would face would families would worse chancellor gordon brown said lib dem figures add accused party claiming would spend less across country committing spend'"
            ],
            "application/vnd.google.colaboratory.intrinsic+json": {
              "type": "string"
            }
          },
          "metadata": {},
          "execution_count": 21
        }
      ]
    },
    {
      "cell_type": "code",
      "source": [
        "tokenized_inputs[1]['input_ids']\n",
        "len(tokenized_inputs[1]['input_ids'])\n",
        "len(tokenized_inputs[1]['attention_mask'])"
      ],
      "metadata": {
        "execution": {
          "iopub.status.busy": "2024-02-13T17:41:58.579511Z",
          "iopub.execute_input": "2024-02-13T17:41:58.580232Z",
          "iopub.status.idle": "2024-02-13T17:41:58.588117Z",
          "shell.execute_reply.started": "2024-02-13T17:41:58.580197Z",
          "shell.execute_reply": "2024-02-13T17:41:58.587198Z"
        },
        "trusted": true,
        "colab": {
          "base_uri": "https://localhost:8080/"
        },
        "id": "VC8_i5jSlhFv",
        "outputId": "67e20233-7673-4935-b737-9c66dd2c4a3c"
      },
      "execution_count": 22,
      "outputs": [
        {
          "output_type": "execute_result",
          "data": {
            "text/plain": [
              "348"
            ]
          },
          "metadata": {},
          "execution_count": 22
        }
      ]
    },
    {
      "cell_type": "code",
      "source": [
        "tokenizer(\"technologie\")"
      ],
      "metadata": {
        "execution": {
          "iopub.status.busy": "2024-02-13T17:42:03.463006Z",
          "iopub.execute_input": "2024-02-13T17:42:03.463870Z",
          "iopub.status.idle": "2024-02-13T17:42:03.470288Z",
          "shell.execute_reply.started": "2024-02-13T17:42:03.463834Z",
          "shell.execute_reply": "2024-02-13T17:42:03.469445Z"
        },
        "trusted": true,
        "colab": {
          "base_uri": "https://localhost:8080/"
        },
        "id": "Qd3MJyh0lhFw",
        "outputId": "25fd43e4-56ff-4278-9c4a-080721722ab9"
      },
      "execution_count": 23,
      "outputs": [
        {
          "output_type": "execute_result",
          "data": {
            "text/plain": [
              "{'input_ids': [3, 13148, 1], 'attention_mask': [1, 1, 1]}"
            ]
          },
          "metadata": {},
          "execution_count": 23
        }
      ]
    },
    {
      "cell_type": "code",
      "source": [
        "# The maximum total sequence length for target text after tokenization.\n",
        "# Sequences longer than this will be truncated, sequences shorter will be padded.\"\n",
        "tokenized_targets = concatenate_datasets([dataset[\"train\"], dataset[\"test\"]]).map(\n",
        "    lambda x: tokenizer(x[\"label\"], truncation=True), batched=True, remove_columns=['text', 'label2']\n",
        ")\n",
        "max_target_length = max([len(x) for x in tokenized_targets[\"input_ids\"]])\n",
        "print(f\"Max target length: {max_target_length}\")"
      ],
      "metadata": {
        "execution": {
          "iopub.status.busy": "2024-02-13T17:42:08.823688Z",
          "iopub.execute_input": "2024-02-13T17:42:08.824110Z",
          "iopub.status.idle": "2024-02-13T17:42:08.896017Z",
          "shell.execute_reply.started": "2024-02-13T17:42:08.824077Z",
          "shell.execute_reply": "2024-02-13T17:42:08.895171Z"
        },
        "trusted": true,
        "colab": {
          "base_uri": "https://localhost:8080/",
          "height": 66,
          "referenced_widgets": [
            "ef33695e9e9b4d38ac0ea0603fd1c440",
            "0912ff8497054827bec22d8cbf972da8",
            "8cf1a3bc992d47f1a36b433ea287e134",
            "6b29c86d122b4af98dac0186ca36e50c",
            "5ad2608f87d74446b7f2571cdb076cfa",
            "a503ce159eb34c06b579dcd3b816c358",
            "2ffec81786f0444b911d31bfc3f4b4dc",
            "bda0118ded2a403188095f320c2995bb",
            "67f1d00a319e40e28d194293aacdb96a",
            "454a212204a14932aeae5590ea7c80c8",
            "422c3033c2b34d819b69b07dc3a32879"
          ]
        },
        "id": "WEslQU1klhFw",
        "outputId": "f2e5a232-4739-46c8-dba1-63b7b05f0908"
      },
      "execution_count": 24,
      "outputs": [
        {
          "output_type": "display_data",
          "data": {
            "text/plain": [
              "Map:   0%|          | 0/1000 [00:00<?, ? examples/s]"
            ],
            "application/vnd.jupyter.widget-view+json": {
              "version_major": 2,
              "version_minor": 0,
              "model_id": "ef33695e9e9b4d38ac0ea0603fd1c440"
            }
          },
          "metadata": {}
        },
        {
          "output_type": "stream",
          "name": "stdout",
          "text": [
            "Max target length: 3\n"
          ]
        }
      ]
    },
    {
      "cell_type": "code",
      "source": [
        "tokenized_targets['input_ids'][:10], full['label'][:10]"
      ],
      "metadata": {
        "execution": {
          "iopub.status.busy": "2024-02-13T17:42:13.684642Z",
          "iopub.execute_input": "2024-02-13T17:42:13.685041Z",
          "iopub.status.idle": "2024-02-13T17:42:13.701422Z",
          "shell.execute_reply.started": "2024-02-13T17:42:13.685009Z",
          "shell.execute_reply": "2024-02-13T17:42:13.700406Z"
        },
        "trusted": true,
        "colab": {
          "base_uri": "https://localhost:8080/"
        },
        "id": "fSEOkBphlhFw",
        "outputId": "f7954358-b846-4ab7-cd18-6e31e8ffef0e"
      },
      "execution_count": 25,
      "outputs": [
        {
          "output_type": "execute_result",
          "data": {
            "text/plain": [
              "([[4332, 1],\n",
              "  [6525, 1],\n",
              "  [1035, 1],\n",
              "  [542, 1],\n",
              "  [4527, 1],\n",
              "  [2600, 1],\n",
              "  [6525, 1],\n",
              "  [4527, 1],\n",
              "  [6484, 1],\n",
              "  [6484, 1]],\n",
              " ['historical',\n",
              "  'politics',\n",
              "  'medical',\n",
              "  'food',\n",
              "  'entertainment',\n",
              "  'sport',\n",
              "  'politics',\n",
              "  'entertainment',\n",
              "  'graphics',\n",
              "  'graphics'])"
            ]
          },
          "metadata": {},
          "execution_count": 25
        }
      ]
    },
    {
      "cell_type": "code",
      "source": [
        "REPOSITORY_ID = f\"{MODEL_ID.split('/')[1]}-text-classification\""
      ],
      "metadata": {
        "execution": {
          "iopub.status.busy": "2024-02-13T17:42:22.078413Z",
          "iopub.execute_input": "2024-02-13T17:42:22.078827Z",
          "iopub.status.idle": "2024-02-13T17:42:22.083351Z",
          "shell.execute_reply.started": "2024-02-13T17:42:22.078793Z",
          "shell.execute_reply": "2024-02-13T17:42:22.082344Z"
        },
        "trusted": true,
        "id": "z5GIcn9glhFw"
      },
      "execution_count": 26,
      "outputs": []
    },
    {
      "cell_type": "markdown",
      "source": [
        "# Model"
      ],
      "metadata": {
        "id": "_bgL0ed4lhFw"
      }
    },
    {
      "cell_type": "code",
      "source": [
        "\n",
        "# Define training args\n",
        "training_args = Seq2SeqTrainingArguments(\n",
        "    output_dir=REPOSITORY_ID,\n",
        "    per_device_train_batch_size=8,\n",
        "    #per_device_eval_batch_size=8,\n",
        "    predict_with_generate=True,\n",
        "    fp16=False,     # Overflows with fp16\n",
        "    learning_rate=3e-4,\n",
        "    num_train_epochs=10,\n",
        "    logging_dir=f\"{REPOSITORY_ID}/logs\",    # logging & evaluation strategies\n",
        "    logging_strategy=\"epoch\",\n",
        "    evaluation_strategy=\"no\",\n",
        "    save_strategy=\"epoch\",\n",
        "    save_total_limit=2,\n",
        "    load_best_model_at_end=False,\n",
        "    report_to=\"wandb\",\n",
        "    push_to_hub=False,\n",
        "    hub_strategy=\"every_save\",\n",
        "    hub_model_id=REPOSITORY_ID,\n",
        "\n",
        ")\n",
        "\n",
        "def preprocess_function(sample: Dataset, max_target_length: int, padding: str = \"max_length\") -> dict:\n",
        "    \"\"\" Preprocess the dataset. \"\"\"\n",
        "\n",
        "    # add prefix to the input for t5\n",
        "    inputs = [item for item in sample[\"text\"]]\n",
        "\n",
        "    # tokenize inputs\n",
        "    model_inputs = tokenizer(inputs, max_length=max_source_length, padding=padding, truncation=True)\n",
        "\n",
        "    # Tokenize targets with the `text_target` keyword argument\n",
        "    labels = tokenizer(text_target=sample[\"label\"], max_length=max_target_length, padding=padding, truncation=True)\n",
        "\n",
        "    # If we are padding here, replace all tokenizer.pad_token_id in the labels by -100 when we want to ignore\n",
        "    # padding in the loss.\n",
        "    if padding == \"max_length\":\n",
        "        labels[\"input_ids\"] = [\n",
        "            [(l if l != tokenizer.pad_token_id else -100) for l in label] for label in labels[\"input_ids\"]\n",
        "        ]\n",
        "\n",
        "    model_inputs[\"labels\"] = labels[\"input_ids\"]\n",
        "    return model_inputs\n",
        "\n",
        "\n",
        "def postprocess_text(preds: List[str], labels: List[str]) -> Tuple[List[str], List[str]]:\n",
        "    \"\"\" helper function to postprocess text\"\"\"\n",
        "    preds = [pred.strip() for pred in preds]\n",
        "    labels = [label.strip() for label in labels]\n",
        "\n",
        "    # rougeLSum expects newline after each sentence\n",
        "    preds = [\"\\n\".join(sent_tokenize(pred)) for pred in preds]\n",
        "    labels = [\"\\n\".join(sent_tokenize(label)) for label in labels]\n",
        "\n",
        "    return preds, labels\n",
        "\n",
        "\n",
        "def compute_metrics(eval_preds):\n",
        "    preds, labels = eval_preds\n",
        "    if isinstance(preds, tuple):\n",
        "        preds = preds[0]\n",
        "    decoded_preds = tokenizer.batch_decode(preds, skip_special_tokens=True)\n",
        "    # Replace -100 in the labels as we can't decode them.\n",
        "    labels = np.where(labels != -100, labels, tokenizer.pad_token_id)\n",
        "    decoded_labels = tokenizer.batch_decode(labels, skip_special_tokens=True)\n",
        "\n",
        "    # Some simple post-processing\n",
        "    decoded_preds, decoded_labels = postprocess_text(decoded_preds, decoded_labels)\n",
        "\n",
        "    result = metric.compute(predictions=decoded_preds, references=decoded_labels, average='macro')\n",
        "    result = {k: round(v * 100, 10) for k, v in result.items()}\n",
        "    prediction_lens = [np.count_nonzero(pred != tokenizer.pad_token_id) for pred in preds]\n",
        "    result[\"gen_len\"] = np.mean(prediction_lens)\n",
        "    return result"
      ],
      "metadata": {
        "execution": {
          "iopub.status.busy": "2024-02-13T17:42:31.457210Z",
          "iopub.execute_input": "2024-02-13T17:42:31.457889Z",
          "iopub.status.idle": "2024-02-13T17:42:31.970854Z",
          "shell.execute_reply.started": "2024-02-13T17:42:31.457858Z",
          "shell.execute_reply": "2024-02-13T17:42:31.969914Z"
        },
        "trusted": true,
        "id": "MnhSfuM6lhFx"
      },
      "execution_count": 27,
      "outputs": []
    },
    {
      "cell_type": "code",
      "source": [
        "tokenized_dataset = dataset.map(preprocess_function, batched=True, remove_columns=['text', 'label','label2'],fn_kwargs={\"max_target_length\": max_target_length})\n",
        "print(f\"Keys of tokenized dataset: {list(tokenized_dataset['train'].features)}\")"
      ],
      "metadata": {
        "execution": {
          "iopub.status.busy": "2024-02-13T17:42:43.537586Z",
          "iopub.execute_input": "2024-02-13T17:42:43.538199Z",
          "iopub.status.idle": "2024-02-13T17:42:44.193977Z",
          "shell.execute_reply.started": "2024-02-13T17:42:43.538168Z",
          "shell.execute_reply": "2024-02-13T17:42:44.193003Z"
        },
        "trusted": true,
        "colab": {
          "base_uri": "https://localhost:8080/",
          "height": 98,
          "referenced_widgets": [
            "e3243f2858fc44cfbcee10ca1d99755f",
            "66658f99032547bbab9516f481d30464",
            "6532de42f02440f7a73cd10cbc158c72",
            "f295a021ac634a5a80ea11aefc0538ab",
            "eba7e69e01784a88af13311586f0c7d2",
            "5c73185738a94492b57050680938fe14",
            "8fafe05e43524801a0465cfc54ca501f",
            "4eca54e3a2244bdbac042f18fc7b74aa",
            "1496c721942f4117aedd65985595bd6d",
            "945c705099af460a9933f05f3d6d4282",
            "2a6e317c101943778db5d19cdb168009",
            "772029e9351547dc935a7e06ad3bda30",
            "de4f2983907843758257c4c91b3614d6",
            "fd63f5aae09a40fdac0a58a144f3ad22",
            "44d9322d019d4beba0b775f591e34c31",
            "0827aecedf624b40a913bc655540970a",
            "b751c178b57145428843225a30bfd447",
            "7f3116dacfa04e4db3561b9692911dbd",
            "0fe208b4b356421ca076c96fef276db6",
            "22f6615aa4924d2493688e718a4ca329",
            "85991577fb0c4327aa65c7c90c63581a",
            "a2574c4a86e44efeb08bc20019451e25"
          ]
        },
        "id": "L-NMyGHvlhFx",
        "outputId": "d66debb9-6a2e-448e-9e3a-b91d88a28026"
      },
      "execution_count": 28,
      "outputs": [
        {
          "output_type": "display_data",
          "data": {
            "text/plain": [
              "Map:   0%|          | 0/700 [00:00<?, ? examples/s]"
            ],
            "application/vnd.jupyter.widget-view+json": {
              "version_major": 2,
              "version_minor": 0,
              "model_id": "e3243f2858fc44cfbcee10ca1d99755f"
            }
          },
          "metadata": {}
        },
        {
          "output_type": "display_data",
          "data": {
            "text/plain": [
              "Map:   0%|          | 0/300 [00:00<?, ? examples/s]"
            ],
            "application/vnd.jupyter.widget-view+json": {
              "version_major": 2,
              "version_minor": 0,
              "model_id": "772029e9351547dc935a7e06ad3bda30"
            }
          },
          "metadata": {}
        },
        {
          "output_type": "stream",
          "name": "stdout",
          "text": [
            "Keys of tokenized dataset: ['input_ids', 'attention_mask', 'labels']\n"
          ]
        }
      ]
    },
    {
      "cell_type": "code",
      "source": [
        "tokenized_dataset['train'][1].keys()"
      ],
      "metadata": {
        "execution": {
          "iopub.status.busy": "2024-02-13T17:42:54.076088Z",
          "iopub.execute_input": "2024-02-13T17:42:54.076430Z",
          "iopub.status.idle": "2024-02-13T17:42:54.083814Z",
          "shell.execute_reply.started": "2024-02-13T17:42:54.076405Z",
          "shell.execute_reply": "2024-02-13T17:42:54.082831Z"
        },
        "trusted": true,
        "colab": {
          "base_uri": "https://localhost:8080/"
        },
        "id": "Z8w8s9wulhFx",
        "outputId": "719a6a4c-84f9-4069-f28e-2036f9b1d718"
      },
      "execution_count": 29,
      "outputs": [
        {
          "output_type": "execute_result",
          "data": {
            "text/plain": [
              "dict_keys(['input_ids', 'attention_mask', 'labels'])"
            ]
          },
          "metadata": {},
          "execution_count": 29
        }
      ]
    },
    {
      "cell_type": "code",
      "source": [
        "tokenized_dataset['train'][1]['input_ids']\n",
        "len(tokenized_dataset['train'][1]['input_ids'])"
      ],
      "metadata": {
        "execution": {
          "iopub.status.busy": "2024-02-13T17:42:57.202826Z",
          "iopub.execute_input": "2024-02-13T17:42:57.203723Z",
          "iopub.status.idle": "2024-02-13T17:42:57.211733Z",
          "shell.execute_reply.started": "2024-02-13T17:42:57.203691Z",
          "shell.execute_reply": "2024-02-13T17:42:57.210774Z"
        },
        "trusted": true,
        "colab": {
          "base_uri": "https://localhost:8080/"
        },
        "id": "N2grvzLClhFx",
        "outputId": "7627e239-f50a-4072-ef65-30155727147b"
      },
      "execution_count": 30,
      "outputs": [
        {
          "output_type": "execute_result",
          "data": {
            "text/plain": [
              "512"
            ]
          },
          "metadata": {},
          "execution_count": 30
        }
      ]
    },
    {
      "cell_type": "code",
      "source": [
        "#tokenized_dataset['train'][1]['attention_mask']"
      ],
      "metadata": {
        "execution": {
          "iopub.status.busy": "2024-01-20T23:17:29.961774Z",
          "iopub.execute_input": "2024-01-20T23:17:29.962492Z",
          "iopub.status.idle": "2024-01-20T23:17:29.966406Z",
          "shell.execute_reply.started": "2024-01-20T23:17:29.962451Z",
          "shell.execute_reply": "2024-01-20T23:17:29.965416Z"
        },
        "trusted": true,
        "id": "FOaNmOz8lhFy"
      },
      "execution_count": null,
      "outputs": []
    },
    {
      "cell_type": "markdown",
      "source": [
        "# AutoModelForSeq2SeqLM\n",
        "\n",
        "This is a generic model class that will be instantiated as one of the model classes of the library—with a sequence-to-sequence language modeling head\n",
        "\n",
        "https://huggingface.co/docs/transformers/model_doc/t5\n",
        "\n",
        "https://huggingface.co/transformers/v3.5.1/model_doc/auto.html#automodelforseq2seqlm"
      ],
      "metadata": {
        "id": "FYmBje9MlhFy"
      }
    },
    {
      "cell_type": "code",
      "source": [
        "labels = dataset['train'].features['label2'].names\n",
        "id2label={str(i): c for i, c in enumerate(labels)}\n",
        "label2id={c: str(i) for i, c in enumerate(labels)}\n",
        "id2label"
      ],
      "metadata": {
        "execution": {
          "iopub.status.busy": "2024-02-13T17:43:01.819553Z",
          "iopub.execute_input": "2024-02-13T17:43:01.819932Z",
          "iopub.status.idle": "2024-02-13T17:43:01.827790Z",
          "shell.execute_reply.started": "2024-02-13T17:43:01.819902Z",
          "shell.execute_reply": "2024-02-13T17:43:01.826752Z"
        },
        "trusted": true,
        "colab": {
          "base_uri": "https://localhost:8080/"
        },
        "id": "LxCT9e_wlhF6",
        "outputId": "780286cd-bc35-47c1-d9c7-106358e57e6d"
      },
      "execution_count": 31,
      "outputs": [
        {
          "output_type": "execute_result",
          "data": {
            "text/plain": [
              "{'0': 'business',\n",
              " '1': 'entertainment',\n",
              " '2': 'food',\n",
              " '3': 'graphics',\n",
              " '4': 'historical',\n",
              " '5': 'medical',\n",
              " '6': 'politics',\n",
              " '7': 'space',\n",
              " '8': 'sport',\n",
              " '9': 'technologie'}"
            ]
          },
          "metadata": {},
          "execution_count": 31
        }
      ]
    },
    {
      "cell_type": "code",
      "source": [
        "label2id"
      ],
      "metadata": {
        "execution": {
          "iopub.status.busy": "2024-02-13T17:43:05.806722Z",
          "iopub.execute_input": "2024-02-13T17:43:05.807616Z",
          "iopub.status.idle": "2024-02-13T17:43:05.813441Z",
          "shell.execute_reply.started": "2024-02-13T17:43:05.807584Z",
          "shell.execute_reply": "2024-02-13T17:43:05.812519Z"
        },
        "trusted": true,
        "colab": {
          "base_uri": "https://localhost:8080/"
        },
        "id": "nBcHRW6xlhGG",
        "outputId": "bbf0228d-7b88-4f5c-8625-44e90b5c5a34"
      },
      "execution_count": 32,
      "outputs": [
        {
          "output_type": "execute_result",
          "data": {
            "text/plain": [
              "{'business': '0',\n",
              " 'entertainment': '1',\n",
              " 'food': '2',\n",
              " 'graphics': '3',\n",
              " 'historical': '4',\n",
              " 'medical': '5',\n",
              " 'politics': '6',\n",
              " 'space': '7',\n",
              " 'sport': '8',\n",
              " 'technologie': '9'}"
            ]
          },
          "metadata": {},
          "execution_count": 32
        }
      ]
    },
    {
      "cell_type": "code",
      "source": [
        "# load model from the hub\n",
        "model = AutoModelForSeq2SeqLM.from_pretrained(MODEL_ID, num_labels=len(labels),\n",
        "                                              torch_dtype=torch.bfloat16,\n",
        "     id2label={str(i): c for i, c in enumerate(labels)},\n",
        "     label2id={c: str(i) for i, c in enumerate(labels)},)"
      ],
      "metadata": {
        "execution": {
          "iopub.status.busy": "2024-02-13T17:43:26.932546Z",
          "iopub.execute_input": "2024-02-13T17:43:26.933488Z",
          "iopub.status.idle": "2024-02-13T17:43:45.586986Z",
          "shell.execute_reply.started": "2024-02-13T17:43:26.933448Z",
          "shell.execute_reply": "2024-02-13T17:43:45.586195Z"
        },
        "trusted": true,
        "colab": {
          "base_uri": "https://localhost:8080/",
          "height": 136,
          "referenced_widgets": [
            "e0665dc291504986948c10207102bf3a",
            "132435170c844be7b7bc3bf9f746864a",
            "0d7967f0306b4f5d9144fee625c763f9",
            "691adae4e0e94aa68ee31cf9ed57c0a5",
            "7bb1fe471b9e4aa7961f8b2b07aeb8af",
            "d9dcdb2618b444d48dc3fb298a65d6c4",
            "18e4975dee944930ab5f7b1d943a37f0",
            "061b6b0f3b464027a2e0a89ea859ce37",
            "0d225353e6fd442aa086d63fcd579505",
            "94101ce5517c4dbcb34114e7fbd37f8a",
            "485aef23bc9f4510888b0f89a57f2e91",
            "8cd4629b28864b06a01fdf35f4280647",
            "0aed660c04ec4ad9966045afc6f61a77",
            "3c716ee24624413e9606aad3931e596c",
            "e07515eeceb449c7be122d50782a7fa9",
            "c2b8171a1f474dceadf30271b8e0dd39",
            "4a532d84c0674bb797fc577fab99dd3d",
            "7892b4504c074bd28a149ee6b526a7c8",
            "029447b6f54846edb2a06557c049f3c1",
            "ba0c85a9876e487d92f16721adf20aa4",
            "e1e122ab9b0d4e7a8aeace76ac06dcc8",
            "97d313d20aa14218a6da8ef62ddb221c"
          ]
        },
        "id": "6yy74viSlhGG",
        "outputId": "89d1d664-aa93-45ff-9482-00d6adaad11c"
      },
      "execution_count": 34,
      "outputs": [
        {
          "output_type": "display_data",
          "data": {
            "text/plain": [
              "config.json:   0%|          | 0.00/1.38k [00:00<?, ?B/s]"
            ],
            "application/vnd.jupyter.widget-view+json": {
              "version_major": 2,
              "version_minor": 0,
              "model_id": "e0665dc291504986948c10207102bf3a"
            }
          },
          "metadata": {}
        },
        {
          "output_type": "display_data",
          "data": {
            "text/plain": [
              "pytorch_model.bin:   0%|          | 0.00/670M [00:00<?, ?B/s]"
            ],
            "application/vnd.jupyter.widget-view+json": {
              "version_major": 2,
              "version_minor": 0,
              "model_id": "8cd4629b28864b06a01fdf35f4280647"
            }
          },
          "metadata": {}
        },
        {
          "output_type": "stream",
          "name": "stderr",
          "text": [
            "Some weights of T5ForConditionalGeneration were not initialized from the model checkpoint at sentence-transformers/gtr-t5-large and are newly initialized: ['decoder.block.15.layer.0.layer_norm.weight', 'decoder.block.19.layer.2.layer_norm.weight', 'decoder.block.2.layer.0.SelfAttention.o.weight', 'decoder.block.8.layer.2.DenseReluDense.wi.weight', 'decoder.block.7.layer.0.SelfAttention.v.weight', 'decoder.block.5.layer.2.DenseReluDense.wo.weight', 'decoder.block.17.layer.1.EncDecAttention.v.weight', 'decoder.block.12.layer.1.EncDecAttention.q.weight', 'decoder.block.0.layer.2.layer_norm.weight', 'decoder.block.6.layer.1.EncDecAttention.v.weight', 'decoder.block.22.layer.0.layer_norm.weight', 'decoder.block.16.layer.0.SelfAttention.k.weight', 'decoder.block.14.layer.0.SelfAttention.k.weight', 'decoder.block.19.layer.1.layer_norm.weight', 'decoder.block.8.layer.2.layer_norm.weight', 'decoder.block.16.layer.2.DenseReluDense.wi.weight', 'decoder.block.12.layer.0.SelfAttention.k.weight', 'decoder.block.11.layer.0.SelfAttention.k.weight', 'decoder.block.0.layer.1.EncDecAttention.q.weight', 'decoder.block.11.layer.1.EncDecAttention.q.weight', 'decoder.block.17.layer.0.SelfAttention.q.weight', 'decoder.block.20.layer.1.EncDecAttention.k.weight', 'decoder.block.0.layer.0.SelfAttention.o.weight', 'decoder.block.6.layer.0.SelfAttention.q.weight', 'decoder.block.13.layer.1.layer_norm.weight', 'decoder.block.19.layer.0.SelfAttention.q.weight', 'decoder.block.9.layer.1.EncDecAttention.v.weight', 'decoder.block.3.layer.2.DenseReluDense.wi.weight', 'decoder.block.22.layer.1.EncDecAttention.k.weight', 'decoder.block.4.layer.2.DenseReluDense.wo.weight', 'decoder.block.20.layer.1.EncDecAttention.q.weight', 'decoder.block.9.layer.1.EncDecAttention.o.weight', 'decoder.block.1.layer.1.layer_norm.weight', 'decoder.block.16.layer.2.layer_norm.weight', 'decoder.block.19.layer.0.SelfAttention.v.weight', 'decoder.block.8.layer.0.SelfAttention.q.weight', 'decoder.block.21.layer.0.SelfAttention.v.weight', 'decoder.block.3.layer.2.DenseReluDense.wo.weight', 'decoder.block.9.layer.1.EncDecAttention.q.weight', 'decoder.block.20.layer.2.DenseReluDense.wo.weight', 'decoder.block.2.layer.2.layer_norm.weight', 'decoder.block.14.layer.0.SelfAttention.q.weight', 'decoder.block.7.layer.1.layer_norm.weight', 'decoder.block.6.layer.0.SelfAttention.k.weight', 'decoder.block.10.layer.0.SelfAttention.k.weight', 'decoder.block.1.layer.1.EncDecAttention.o.weight', 'decoder.block.2.layer.1.EncDecAttention.q.weight', 'decoder.block.21.layer.0.SelfAttention.o.weight', 'decoder.block.17.layer.0.SelfAttention.o.weight', 'decoder.block.8.layer.0.SelfAttention.o.weight', 'decoder.block.8.layer.0.SelfAttention.k.weight', 'decoder.block.23.layer.2.layer_norm.weight', 'decoder.block.17.layer.0.layer_norm.weight', 'decoder.block.13.layer.0.SelfAttention.q.weight', 'decoder.block.16.layer.1.layer_norm.weight', 'decoder.block.2.layer.2.DenseReluDense.wo.weight', 'decoder.block.19.layer.0.SelfAttention.k.weight', 'decoder.block.18.layer.1.EncDecAttention.q.weight', 'decoder.block.23.layer.1.EncDecAttention.k.weight', 'decoder.block.15.layer.2.DenseReluDense.wo.weight', 'decoder.block.18.layer.0.SelfAttention.q.weight', 'decoder.block.4.layer.0.SelfAttention.q.weight', 'decoder.block.5.layer.0.SelfAttention.o.weight', 'decoder.block.0.layer.2.DenseReluDense.wo.weight', 'decoder.block.21.layer.1.EncDecAttention.o.weight', 'decoder.block.10.layer.0.layer_norm.weight', 'decoder.block.1.layer.2.DenseReluDense.wi.weight', 'decoder.block.23.layer.2.DenseReluDense.wi.weight', 'decoder.block.14.layer.1.EncDecAttention.v.weight', 'decoder.block.10.layer.1.layer_norm.weight', 'decoder.block.13.layer.2.layer_norm.weight', 'decoder.block.3.layer.1.layer_norm.weight', 'decoder.block.13.layer.1.EncDecAttention.o.weight', 'decoder.block.3.layer.2.layer_norm.weight', 'decoder.block.14.layer.2.layer_norm.weight', 'decoder.block.19.layer.1.EncDecAttention.v.weight', 'decoder.block.15.layer.1.EncDecAttention.k.weight', 'decoder.block.12.layer.0.SelfAttention.o.weight', 'decoder.block.15.layer.1.EncDecAttention.o.weight', 'decoder.block.3.layer.0.SelfAttention.o.weight', 'decoder.block.4.layer.1.EncDecAttention.o.weight', 'decoder.block.11.layer.1.EncDecAttention.k.weight', 'decoder.block.8.layer.1.EncDecAttention.k.weight', 'decoder.block.8.layer.1.EncDecAttention.q.weight', 'decoder.block.16.layer.1.EncDecAttention.q.weight', 'decoder.block.13.layer.2.DenseReluDense.wi.weight', 'decoder.block.9.layer.0.SelfAttention.k.weight', 'decoder.block.3.layer.1.EncDecAttention.v.weight', 'decoder.block.7.layer.1.EncDecAttention.o.weight', 'decoder.block.6.layer.0.layer_norm.weight', 'decoder.block.10.layer.1.EncDecAttention.q.weight', 'decoder.block.11.layer.0.SelfAttention.v.weight', 'decoder.block.20.layer.2.DenseReluDense.wi.weight', 'decoder.block.5.layer.1.EncDecAttention.o.weight', 'decoder.block.5.layer.1.layer_norm.weight', 'decoder.block.3.layer.0.layer_norm.weight', 'decoder.block.3.layer.1.EncDecAttention.k.weight', 'decoder.block.15.layer.1.EncDecAttention.q.weight', 'decoder.block.22.layer.1.EncDecAttention.o.weight', 'decoder.block.23.layer.1.EncDecAttention.v.weight', 'decoder.block.15.layer.0.SelfAttention.o.weight', 'decoder.block.7.layer.0.SelfAttention.o.weight', 'decoder.block.19.layer.1.EncDecAttention.q.weight', 'decoder.block.13.layer.0.SelfAttention.v.weight', 'decoder.block.18.layer.0.layer_norm.weight', 'decoder.block.2.layer.0.SelfAttention.q.weight', 'decoder.block.20.layer.0.SelfAttention.v.weight', 'decoder.block.5.layer.0.SelfAttention.v.weight', 'decoder.block.0.layer.0.SelfAttention.q.weight', 'decoder.block.1.layer.0.SelfAttention.o.weight', 'decoder.block.4.layer.0.SelfAttention.v.weight', 'decoder.block.4.layer.0.layer_norm.weight', 'decoder.block.6.layer.0.SelfAttention.v.weight', 'decoder.block.6.layer.1.EncDecAttention.k.weight', 'decoder.block.2.layer.2.DenseReluDense.wi.weight', 'decoder.block.11.layer.1.EncDecAttention.o.weight', 'decoder.block.16.layer.0.SelfAttention.q.weight', 'decoder.block.7.layer.1.EncDecAttention.k.weight', 'decoder.block.12.layer.2.DenseReluDense.wo.weight', 'decoder.block.20.layer.2.layer_norm.weight', 'decoder.block.7.layer.1.EncDecAttention.q.weight', 'decoder.block.19.layer.0.layer_norm.weight', 'decoder.block.19.layer.2.DenseReluDense.wi.weight', 'decoder.block.4.layer.2.DenseReluDense.wi.weight', 'decoder.block.21.layer.2.DenseReluDense.wo.weight', 'decoder.block.21.layer.2.layer_norm.weight', 'decoder.block.20.layer.0.SelfAttention.q.weight', 'decoder.block.23.layer.0.SelfAttention.v.weight', 'decoder.block.16.layer.2.DenseReluDense.wo.weight', 'decoder.block.15.layer.2.DenseReluDense.wi.weight', 'decoder.block.13.layer.1.EncDecAttention.k.weight', 'decoder.block.3.layer.1.EncDecAttention.q.weight', 'decoder.block.11.layer.2.layer_norm.weight', 'decoder.block.16.layer.1.EncDecAttention.k.weight', 'decoder.block.18.layer.1.EncDecAttention.o.weight', 'decoder.block.14.layer.2.DenseReluDense.wi.weight', 'decoder.block.5.layer.0.layer_norm.weight', 'decoder.block.18.layer.0.SelfAttention.o.weight', 'decoder.block.8.layer.1.EncDecAttention.v.weight', 'decoder.block.6.layer.0.SelfAttention.o.weight', 'decoder.block.14.layer.1.EncDecAttention.o.weight', 'decoder.block.17.layer.2.DenseReluDense.wo.weight', 'decoder.block.9.layer.0.layer_norm.weight', 'decoder.block.10.layer.1.EncDecAttention.v.weight', 'decoder.block.23.layer.0.layer_norm.weight', 'decoder.block.13.layer.0.SelfAttention.o.weight', 'decoder.block.7.layer.0.layer_norm.weight', 'decoder.block.9.layer.0.SelfAttention.v.weight', 'decoder.block.20.layer.1.EncDecAttention.v.weight', 'decoder.block.6.layer.1.EncDecAttention.o.weight', 'decoder.block.9.layer.2.DenseReluDense.wi.weight', 'decoder.block.12.layer.0.SelfAttention.q.weight', 'decoder.block.12.layer.0.SelfAttention.v.weight', 'decoder.block.14.layer.1.EncDecAttention.q.weight', 'decoder.block.6.layer.2.layer_norm.weight', 'decoder.block.22.layer.0.SelfAttention.k.weight', 'decoder.block.22.layer.1.EncDecAttention.q.weight', 'decoder.block.6.layer.2.DenseReluDense.wo.weight', 'decoder.block.19.layer.1.EncDecAttention.k.weight', 'decoder.block.12.layer.1.layer_norm.weight', 'decoder.block.11.layer.2.DenseReluDense.wi.weight', 'decoder.block.22.layer.2.DenseReluDense.wi.weight', 'decoder.block.8.layer.2.DenseReluDense.wo.weight', 'decoder.block.2.layer.0.SelfAttention.v.weight', 'decoder.block.11.layer.2.DenseReluDense.wo.weight', 'decoder.block.22.layer.0.SelfAttention.o.weight', 'decoder.block.5.layer.1.EncDecAttention.q.weight', 'decoder.block.10.layer.2.DenseReluDense.wi.weight', 'decoder.block.1.layer.2.DenseReluDense.wo.weight', 'decoder.block.7.layer.2.layer_norm.weight', 'decoder.block.14.layer.1.layer_norm.weight', 'decoder.block.23.layer.0.SelfAttention.o.weight', 'decoder.block.13.layer.1.EncDecAttention.q.weight', 'decoder.block.12.layer.2.layer_norm.weight', 'decoder.block.20.layer.0.layer_norm.weight', 'decoder.block.19.layer.0.SelfAttention.o.weight', 'decoder.block.4.layer.1.EncDecAttention.q.weight', 'decoder.block.23.layer.0.SelfAttention.k.weight', 'decoder.final_layer_norm.weight', 'decoder.block.7.layer.0.SelfAttention.q.weight', 'decoder.block.13.layer.0.layer_norm.weight', 'decoder.block.12.layer.1.EncDecAttention.o.weight', 'decoder.block.6.layer.1.layer_norm.weight', 'decoder.block.17.layer.1.EncDecAttention.o.weight', 'decoder.block.8.layer.1.EncDecAttention.o.weight', 'decoder.block.17.layer.0.SelfAttention.k.weight', 'decoder.block.11.layer.0.layer_norm.weight', 'decoder.block.2.layer.1.EncDecAttention.o.weight', 'decoder.block.0.layer.0.layer_norm.weight', 'decoder.block.18.layer.1.EncDecAttention.v.weight', 'decoder.block.16.layer.0.layer_norm.weight', 'decoder.block.5.layer.1.EncDecAttention.v.weight', 'decoder.block.18.layer.1.EncDecAttention.k.weight', 'decoder.block.10.layer.1.EncDecAttention.o.weight', 'decoder.block.0.layer.0.SelfAttention.v.weight', 'decoder.block.5.layer.0.SelfAttention.k.weight', 'decoder.block.0.layer.1.EncDecAttention.o.weight', 'decoder.block.22.layer.0.SelfAttention.q.weight', 'decoder.block.5.layer.0.SelfAttention.q.weight', 'decoder.block.21.layer.0.layer_norm.weight', 'decoder.block.4.layer.1.layer_norm.weight', 'decoder.block.0.layer.1.EncDecAttention.v.weight', 'decoder.block.1.layer.0.SelfAttention.v.weight', 'decoder.block.10.layer.2.layer_norm.weight', 'decoder.block.11.layer.0.SelfAttention.q.weight', 'decoder.block.17.layer.0.SelfAttention.v.weight', 'decoder.block.18.layer.1.layer_norm.weight', 'decoder.block.4.layer.0.SelfAttention.k.weight', 'decoder.block.3.layer.0.SelfAttention.k.weight', 'decoder.block.21.layer.1.EncDecAttention.k.weight', 'decoder.block.8.layer.0.SelfAttention.v.weight', 'decoder.block.18.layer.0.SelfAttention.v.weight', 'decoder.block.3.layer.0.SelfAttention.v.weight', 'decoder.block.21.layer.1.layer_norm.weight', 'decoder.block.15.layer.0.SelfAttention.q.weight', 'decoder.block.22.layer.1.layer_norm.weight', 'decoder.block.1.layer.0.SelfAttention.k.weight', 'decoder.block.21.layer.0.SelfAttention.q.weight', 'decoder.block.0.layer.0.SelfAttention.relative_attention_bias.weight', 'decoder.block.9.layer.0.SelfAttention.q.weight', 'decoder.block.1.layer.0.layer_norm.weight', 'decoder.block.18.layer.0.SelfAttention.k.weight', 'decoder.block.18.layer.2.DenseReluDense.wi.weight', 'decoder.block.20.layer.1.layer_norm.weight', 'decoder.block.11.layer.1.layer_norm.weight', 'decoder.block.17.layer.2.DenseReluDense.wi.weight', 'decoder.block.14.layer.0.layer_norm.weight', 'decoder.block.4.layer.1.EncDecAttention.k.weight', 'decoder.block.17.layer.1.EncDecAttention.q.weight', 'decoder.block.13.layer.2.DenseReluDense.wo.weight', 'decoder.block.7.layer.0.SelfAttention.k.weight', 'decoder.block.10.layer.0.SelfAttention.q.weight', 'decoder.block.3.layer.0.SelfAttention.q.weight', 'decoder.block.7.layer.1.EncDecAttention.v.weight', 'decoder.block.1.layer.0.SelfAttention.q.weight', 'decoder.block.22.layer.0.SelfAttention.v.weight', 'decoder.block.10.layer.2.DenseReluDense.wo.weight', 'decoder.block.14.layer.2.DenseReluDense.wo.weight', 'decoder.block.12.layer.0.layer_norm.weight', 'decoder.block.10.layer.0.SelfAttention.o.weight', 'decoder.block.21.layer.1.EncDecAttention.v.weight', 'decoder.block.16.layer.1.EncDecAttention.o.weight', 'decoder.block.22.layer.2.DenseReluDense.wo.weight', 'decoder.block.12.layer.2.DenseReluDense.wi.weight', 'decoder.block.15.layer.1.layer_norm.weight', 'decoder.block.12.layer.1.EncDecAttention.k.weight', 'decoder.block.18.layer.2.layer_norm.weight', 'decoder.block.17.layer.2.layer_norm.weight', 'decoder.block.23.layer.1.EncDecAttention.o.weight', 'decoder.block.9.layer.2.layer_norm.weight', 'decoder.block.14.layer.1.EncDecAttention.k.weight', 'decoder.block.1.layer.2.layer_norm.weight', 'decoder.block.2.layer.0.SelfAttention.k.weight', 'decoder.block.4.layer.1.EncDecAttention.v.weight', 'decoder.block.0.layer.1.EncDecAttention.k.weight', 'decoder.block.8.layer.0.layer_norm.weight', 'decoder.block.5.layer.2.layer_norm.weight', 'decoder.block.7.layer.2.DenseReluDense.wo.weight', 'decoder.block.3.layer.1.EncDecAttention.o.weight', 'decoder.block.17.layer.1.EncDecAttention.k.weight', 'decoder.block.2.layer.1.EncDecAttention.v.weight', 'decoder.block.15.layer.0.SelfAttention.k.weight', 'decoder.block.12.layer.1.EncDecAttention.v.weight', 'decoder.block.9.layer.1.layer_norm.weight', 'decoder.block.6.layer.1.EncDecAttention.q.weight', 'decoder.block.18.layer.2.DenseReluDense.wo.weight', 'decoder.block.2.layer.1.layer_norm.weight', 'decoder.block.21.layer.0.SelfAttention.k.weight', 'decoder.block.22.layer.1.EncDecAttention.v.weight', 'decoder.block.13.layer.0.SelfAttention.k.weight', 'decoder.block.1.layer.1.EncDecAttention.k.weight', 'decoder.block.4.layer.0.SelfAttention.o.weight', 'decoder.block.9.layer.0.SelfAttention.o.weight', 'decoder.block.20.layer.0.SelfAttention.k.weight', 'decoder.block.23.layer.1.EncDecAttention.q.weight', 'decoder.block.5.layer.1.EncDecAttention.k.weight', 'decoder.block.21.layer.2.DenseReluDense.wi.weight', 'decoder.block.0.layer.0.SelfAttention.k.weight', 'decoder.block.0.layer.1.layer_norm.weight', 'decoder.block.23.layer.1.layer_norm.weight', 'decoder.block.7.layer.2.DenseReluDense.wi.weight', 'decoder.block.1.layer.1.EncDecAttention.q.weight', 'decoder.block.21.layer.1.EncDecAttention.q.weight', 'decoder.block.15.layer.0.SelfAttention.v.weight', 'decoder.block.20.layer.0.SelfAttention.o.weight', 'decoder.block.9.layer.1.EncDecAttention.k.weight', 'decoder.block.15.layer.2.layer_norm.weight', 'decoder.block.16.layer.0.SelfAttention.v.weight', 'decoder.block.4.layer.2.layer_norm.weight', 'decoder.block.11.layer.0.SelfAttention.o.weight', 'decoder.block.20.layer.1.EncDecAttention.o.weight', 'decoder.block.8.layer.1.layer_norm.weight', 'decoder.block.19.layer.1.EncDecAttention.o.weight', 'decoder.block.19.layer.2.DenseReluDense.wo.weight', 'decoder.block.15.layer.1.EncDecAttention.v.weight', 'decoder.block.0.layer.2.DenseReluDense.wi.weight', 'decoder.block.1.layer.1.EncDecAttention.v.weight', 'decoder.block.14.layer.0.SelfAttention.o.weight', 'decoder.block.17.layer.1.layer_norm.weight', 'decoder.block.2.layer.0.layer_norm.weight', 'decoder.block.13.layer.1.EncDecAttention.v.weight', 'decoder.block.10.layer.1.EncDecAttention.k.weight', 'decoder.block.22.layer.2.layer_norm.weight', 'decoder.block.6.layer.2.DenseReluDense.wi.weight', 'decoder.block.14.layer.0.SelfAttention.v.weight', 'decoder.block.23.layer.0.SelfAttention.q.weight', 'decoder.block.11.layer.1.EncDecAttention.v.weight', 'decoder.block.5.layer.2.DenseReluDense.wi.weight', 'decoder.block.10.layer.0.SelfAttention.v.weight', 'decoder.block.9.layer.2.DenseReluDense.wo.weight', 'decoder.block.23.layer.2.DenseReluDense.wo.weight', 'decoder.block.2.layer.1.EncDecAttention.k.weight', 'decoder.block.16.layer.1.EncDecAttention.v.weight', 'decoder.block.16.layer.0.SelfAttention.o.weight']\n",
            "You should probably TRAIN this model on a down-stream task to be able to use it for predictions and inference.\n"
          ]
        }
      ]
    },
    {
      "cell_type": "markdown",
      "source": [
        "# Data Collator\n",
        "\n",
        "https://huggingface.co/docs/transformers/main/main_classes/data_collator"
      ],
      "metadata": {
        "id": "bRQdO4iNlhGG"
      }
    },
    {
      "cell_type": "code",
      "source": [
        "nltk.download(\"punkt\")\n",
        "\n",
        "# we want to ignore tokenizer pad token in the loss\n",
        "label_pad_token_id = -100\n",
        "# Data collator\n",
        "data_collator = DataCollatorForSeq2Seq(\n",
        "    tokenizer,\n",
        "    model=model,\n",
        "    label_pad_token_id=label_pad_token_id,\n",
        "    pad_to_multiple_of=8\n",
        ")"
      ],
      "metadata": {
        "execution": {
          "iopub.status.busy": "2024-02-13T17:44:02.250207Z",
          "iopub.execute_input": "2024-02-13T17:44:02.250871Z",
          "iopub.status.idle": "2024-02-13T17:44:02.408292Z",
          "shell.execute_reply.started": "2024-02-13T17:44:02.250836Z",
          "shell.execute_reply": "2024-02-13T17:44:02.407394Z"
        },
        "trusted": true,
        "colab": {
          "base_uri": "https://localhost:8080/"
        },
        "id": "VkWW_6EllhGH",
        "outputId": "0e57c31d-2c6b-487b-9867-245cc8b7bcf3"
      },
      "execution_count": 35,
      "outputs": [
        {
          "output_type": "stream",
          "name": "stderr",
          "text": [
            "[nltk_data] Downloading package punkt to /root/nltk_data...\n",
            "[nltk_data]   Package punkt is already up-to-date!\n"
          ]
        }
      ]
    },
    {
      "cell_type": "code",
      "source": [
        "# Create Trainer instance\n",
        "trainer = Seq2SeqTrainer(\n",
        "    model=model,\n",
        "    args=training_args,\n",
        "    data_collator=data_collator,\n",
        "    train_dataset=tokenized_dataset[\"train\"],\n",
        "    #eval_dataset=tokenized_dataset[\"test\"],\n",
        "    compute_metrics=compute_metrics,\n",
        ")"
      ],
      "metadata": {
        "execution": {
          "iopub.status.busy": "2024-02-13T17:44:10.319760Z",
          "iopub.execute_input": "2024-02-13T17:44:10.320657Z",
          "iopub.status.idle": "2024-02-13T17:44:10.860838Z",
          "shell.execute_reply.started": "2024-02-13T17:44:10.320621Z",
          "shell.execute_reply": "2024-02-13T17:44:10.859833Z"
        },
        "trusted": true,
        "id": "HRcxY2mxlhGH"
      },
      "execution_count": 36,
      "outputs": []
    },
    {
      "cell_type": "code",
      "source": [
        "tokenized_dataset[\"test\"]"
      ],
      "metadata": {
        "execution": {
          "iopub.status.busy": "2024-02-13T17:44:14.580278Z",
          "iopub.execute_input": "2024-02-13T17:44:14.580666Z",
          "iopub.status.idle": "2024-02-13T17:44:14.586740Z",
          "shell.execute_reply.started": "2024-02-13T17:44:14.580636Z",
          "shell.execute_reply": "2024-02-13T17:44:14.585766Z"
        },
        "trusted": true,
        "colab": {
          "base_uri": "https://localhost:8080/"
        },
        "id": "bA9-IBUwlhGH",
        "outputId": "1567c468-d1bb-4968-d07d-2a8a5350ae6d"
      },
      "execution_count": 37,
      "outputs": [
        {
          "output_type": "execute_result",
          "data": {
            "text/plain": [
              "Dataset({\n",
              "    features: ['input_ids', 'attention_mask', 'labels'],\n",
              "    num_rows: 300\n",
              "})"
            ]
          },
          "metadata": {},
          "execution_count": 37
        }
      ]
    },
    {
      "cell_type": "code",
      "source": [
        "\n",
        "import torch\n",
        "import gc\n",
        "gc.collect()\n",
        "torch.cuda.empty_cache()"
      ],
      "metadata": {
        "execution": {
          "iopub.status.busy": "2024-02-13T17:44:17.041795Z",
          "iopub.execute_input": "2024-02-13T17:44:17.042713Z",
          "iopub.status.idle": "2024-02-13T17:44:17.382572Z",
          "shell.execute_reply.started": "2024-02-13T17:44:17.042679Z",
          "shell.execute_reply": "2024-02-13T17:44:17.381623Z"
        },
        "trusted": true,
        "id": "egJ2Z_-BlhGH"
      },
      "execution_count": 38,
      "outputs": []
    },
    {
      "cell_type": "code",
      "source": [
        "# TRAIN\n",
        "\n",
        "with wandb.init(project=PROJECT, job_type=\"train\"):\n",
        "    train_results = trainer.train()\n",
        "    trainer.save_model()\n",
        "\n",
        "    trainer.log_metrics(\"train\", train_results.metrics)\n",
        "    trainer.save_metrics(\"train\", train_results.metrics)\n",
        "    trainer.save_state()\n",
        "    print(train_results.metrics)"
      ],
      "metadata": {
        "execution": {
          "iopub.status.busy": "2024-02-13T17:44:27.215324Z",
          "iopub.execute_input": "2024-02-13T17:44:27.215675Z",
          "iopub.status.idle": "2024-02-13T17:45:23.245540Z",
          "shell.execute_reply.started": "2024-02-13T17:44:27.215651Z",
          "shell.execute_reply": "2024-02-13T17:45:23.243783Z"
        },
        "trusted": true,
        "colab": {
          "base_uri": "https://localhost:8080/",
          "height": 994,
          "referenced_widgets": [
            "230b2f3a47a14ce78ea2a7e6735654f1",
            "be22ddcd470f4cb0ad1aea6ec75e1ec3",
            "914ab0a370d44f41add0fd5259d09194",
            "8237606963d5476c84db9db420e17b55",
            "80888e44911a47ed9f14a061ae351a24",
            "970a191123b84f58b2766c9093e14407",
            "2ccad46cf4f84c328edbe598af5d6a68",
            "d80763f0c7dc47409d15a481b4e47b26"
          ]
        },
        "id": "8PKygCSXlhGH",
        "outputId": "9912dda9-3b1c-4c1f-da06-e86ebecc4a08"
      },
      "execution_count": 39,
      "outputs": [
        {
          "output_type": "display_data",
          "data": {
            "text/plain": [
              "<IPython.core.display.HTML object>"
            ],
            "text/html": [
              "Tracking run with wandb version 0.16.3"
            ]
          },
          "metadata": {}
        },
        {
          "output_type": "display_data",
          "data": {
            "text/plain": [
              "<IPython.core.display.HTML object>"
            ],
            "text/html": [
              "Run data is saved locally in <code>/content/wandb/run-20240213_181340-0k2ubodn</code>"
            ]
          },
          "metadata": {}
        },
        {
          "output_type": "display_data",
          "data": {
            "text/plain": [
              "<IPython.core.display.HTML object>"
            ],
            "text/html": [
              "Syncing run <strong><a href='https://wandb.ai/olonok69/FlanT5-Document-Classification/runs/0k2ubodn' target=\"_blank\">golden-moon-41</a></strong> to <a href='https://wandb.ai/olonok69/FlanT5-Document-Classification' target=\"_blank\">Weights & Biases</a> (<a href='https://wandb.me/run' target=\"_blank\">docs</a>)<br/>"
            ]
          },
          "metadata": {}
        },
        {
          "output_type": "display_data",
          "data": {
            "text/plain": [
              "<IPython.core.display.HTML object>"
            ],
            "text/html": [
              " View project at <a href='https://wandb.ai/olonok69/FlanT5-Document-Classification' target=\"_blank\">https://wandb.ai/olonok69/FlanT5-Document-Classification</a>"
            ]
          },
          "metadata": {}
        },
        {
          "output_type": "display_data",
          "data": {
            "text/plain": [
              "<IPython.core.display.HTML object>"
            ],
            "text/html": [
              " View run at <a href='https://wandb.ai/olonok69/FlanT5-Document-Classification/runs/0k2ubodn' target=\"_blank\">https://wandb.ai/olonok69/FlanT5-Document-Classification/runs/0k2ubodn</a>"
            ]
          },
          "metadata": {}
        },
        {
          "output_type": "stream",
          "name": "stderr",
          "text": [
            "You're using a T5TokenizerFast tokenizer. Please note that with a fast tokenizer, using the `__call__` method is faster than using a method to encode the text followed by a call to the `pad` method to get a padded encoding.\n"
          ]
        },
        {
          "output_type": "display_data",
          "data": {
            "text/plain": [
              "<IPython.core.display.HTML object>"
            ],
            "text/html": [
              "\n",
              "    <div>\n",
              "      \n",
              "      <progress value='880' max='880' style='width:300px; height:20px; vertical-align: middle;'></progress>\n",
              "      [880/880 06:19, Epoch 10/10]\n",
              "    </div>\n",
              "    <table border=\"1\" class=\"dataframe\">\n",
              "  <thead>\n",
              " <tr style=\"text-align: left;\">\n",
              "      <th>Step</th>\n",
              "      <th>Training Loss</th>\n",
              "    </tr>\n",
              "  </thead>\n",
              "  <tbody>\n",
              "    <tr>\n",
              "      <td>88</td>\n",
              "      <td>15.414800</td>\n",
              "    </tr>\n",
              "    <tr>\n",
              "      <td>176</td>\n",
              "      <td>0.241400</td>\n",
              "    </tr>\n",
              "    <tr>\n",
              "      <td>264</td>\n",
              "      <td>0.090800</td>\n",
              "    </tr>\n",
              "    <tr>\n",
              "      <td>352</td>\n",
              "      <td>0.017200</td>\n",
              "    </tr>\n",
              "    <tr>\n",
              "      <td>440</td>\n",
              "      <td>0.009900</td>\n",
              "    </tr>\n",
              "    <tr>\n",
              "      <td>528</td>\n",
              "      <td>0.002600</td>\n",
              "    </tr>\n",
              "    <tr>\n",
              "      <td>616</td>\n",
              "      <td>0.008100</td>\n",
              "    </tr>\n",
              "    <tr>\n",
              "      <td>704</td>\n",
              "      <td>0.000800</td>\n",
              "    </tr>\n",
              "    <tr>\n",
              "      <td>792</td>\n",
              "      <td>0.003600</td>\n",
              "    </tr>\n",
              "    <tr>\n",
              "      <td>880</td>\n",
              "      <td>0.000000</td>\n",
              "    </tr>\n",
              "  </tbody>\n",
              "</table><p>"
            ]
          },
          "metadata": {}
        },
        {
          "output_type": "stream",
          "name": "stdout",
          "text": [
            "***** train metrics *****\n",
            "  epoch                    =       10.0\n",
            "  total_flos               = 14114501GF\n",
            "  train_loss               =     1.5789\n",
            "  train_runtime            = 0:06:21.10\n",
            "  train_samples_per_second =     18.367\n",
            "  train_steps_per_second   =      2.309\n",
            "{'train_runtime': 381.1084, 'train_samples_per_second': 18.367, 'train_steps_per_second': 2.309, 'total_flos': 1.5155331072e+16, 'train_loss': 1.5789121264994306, 'epoch': 10.0}\n"
          ]
        },
        {
          "output_type": "display_data",
          "data": {
            "text/plain": [
              "VBox(children=(Label(value='0.002 MB of 0.002 MB uploaded\\r'), FloatProgress(value=1.0, max=1.0)))"
            ],
            "application/vnd.jupyter.widget-view+json": {
              "version_major": 2,
              "version_minor": 0,
              "model_id": "230b2f3a47a14ce78ea2a7e6735654f1"
            }
          },
          "metadata": {}
        },
        {
          "output_type": "display_data",
          "data": {
            "text/plain": [
              "<IPython.core.display.HTML object>"
            ],
            "text/html": [
              "<style>\n",
              "    table.wandb td:nth-child(1) { padding: 0 10px; text-align: left ; width: auto;} td:nth-child(2) {text-align: left ; width: 100%}\n",
              "    .wandb-row { display: flex; flex-direction: row; flex-wrap: wrap; justify-content: flex-start; width: 100% }\n",
              "    .wandb-col { display: flex; flex-direction: column; flex-basis: 100%; flex: 1; padding: 10px; }\n",
              "    </style>\n",
              "<div class=\"wandb-row\"><div class=\"wandb-col\"><h3>Run history:</h3><br/><table class=\"wandb\"><tr><td>train/epoch</td><td>▁▂▃▃▄▅▆▆▇██</td></tr><tr><td>train/global_step</td><td>▁▂▃▃▄▅▆▆▇██</td></tr><tr><td>train/learning_rate</td><td>█▇▆▆▅▄▃▃▂▁</td></tr><tr><td>train/loss</td><td>█▁▁▁▁▁▁▁▁▁</td></tr><tr><td>train/total_flos</td><td>▁</td></tr><tr><td>train/train_loss</td><td>▁</td></tr><tr><td>train/train_runtime</td><td>▁</td></tr><tr><td>train/train_samples_per_second</td><td>▁</td></tr><tr><td>train/train_steps_per_second</td><td>▁</td></tr></table><br/></div><div class=\"wandb-col\"><h3>Run summary:</h3><br/><table class=\"wandb\"><tr><td>train/epoch</td><td>10.0</td></tr><tr><td>train/global_step</td><td>880</td></tr><tr><td>train/learning_rate</td><td>0.0</td></tr><tr><td>train/loss</td><td>0.0</td></tr><tr><td>train/total_flos</td><td>1.5155331072e+16</td></tr><tr><td>train/train_loss</td><td>1.57891</td></tr><tr><td>train/train_runtime</td><td>381.1084</td></tr><tr><td>train/train_samples_per_second</td><td>18.367</td></tr><tr><td>train/train_steps_per_second</td><td>2.309</td></tr></table><br/></div></div>"
            ]
          },
          "metadata": {}
        },
        {
          "output_type": "display_data",
          "data": {
            "text/plain": [
              "<IPython.core.display.HTML object>"
            ],
            "text/html": [
              " View run <strong style=\"color:#cdcd00\">golden-moon-41</strong> at: <a href='https://wandb.ai/olonok69/FlanT5-Document-Classification/runs/0k2ubodn' target=\"_blank\">https://wandb.ai/olonok69/FlanT5-Document-Classification/runs/0k2ubodn</a><br/>Synced 5 W&B file(s), 0 media file(s), 0 artifact file(s) and 0 other file(s)"
            ]
          },
          "metadata": {}
        },
        {
          "output_type": "display_data",
          "data": {
            "text/plain": [
              "<IPython.core.display.HTML object>"
            ],
            "text/html": [
              "Find logs at: <code>./wandb/run-20240213_181340-0k2ubodn/logs</code>"
            ]
          },
          "metadata": {}
        }
      ]
    },
    {
      "cell_type": "code",
      "source": [
        "train_results"
      ],
      "metadata": {
        "execution": {
          "iopub.status.busy": "2024-01-20T23:32:58.786009Z",
          "iopub.execute_input": "2024-01-20T23:32:58.786949Z",
          "iopub.status.idle": "2024-01-20T23:32:58.792782Z",
          "shell.execute_reply.started": "2024-01-20T23:32:58.786916Z",
          "shell.execute_reply": "2024-01-20T23:32:58.791844Z"
        },
        "trusted": true,
        "colab": {
          "base_uri": "https://localhost:8080/"
        },
        "id": "En2IwvPblhGI",
        "outputId": "3022fd20-e613-449b-cb79-cc8f693ad68f"
      },
      "execution_count": 40,
      "outputs": [
        {
          "output_type": "execute_result",
          "data": {
            "text/plain": [
              "TrainOutput(global_step=880, training_loss=1.5789121264994306, metrics={'train_runtime': 381.1084, 'train_samples_per_second': 18.367, 'train_steps_per_second': 2.309, 'total_flos': 1.5155331072e+16, 'train_loss': 1.5789121264994306, 'epoch': 10.0})"
            ]
          },
          "metadata": {},
          "execution_count": 40
        }
      ]
    },
    {
      "cell_type": "code",
      "source": [
        "!rm -rf /content/drive/MyDrive/models/flan-T5-fine-tune"
      ],
      "metadata": {
        "execution": {
          "iopub.status.busy": "2024-01-20T23:33:04.070181Z",
          "iopub.execute_input": "2024-01-20T23:33:04.070872Z",
          "iopub.status.idle": "2024-01-20T23:33:05.056757Z",
          "shell.execute_reply.started": "2024-01-20T23:33:04.070837Z",
          "shell.execute_reply": "2024-01-20T23:33:05.055542Z"
        },
        "trusted": true,
        "id": "0MkuGeTnlhGI"
      },
      "execution_count": 41,
      "outputs": []
    },
    {
      "cell_type": "code",
      "source": [
        "\n",
        "!mkdir /content/drive/MyDrive/models/flan-T5-fine-tune\n",
        "custom_path = \"/content/drive/MyDrive/models/flan-T5-fine-tune\"\n",
        "trainer.save_model(output_dir=custom_path)"
      ],
      "metadata": {
        "execution": {
          "iopub.status.busy": "2024-01-20T23:33:11.791870Z",
          "iopub.execute_input": "2024-01-20T23:33:11.792408Z",
          "iopub.status.idle": "2024-01-20T23:33:14.627235Z",
          "shell.execute_reply.started": "2024-01-20T23:33:11.792371Z",
          "shell.execute_reply": "2024-01-20T23:33:14.626088Z"
        },
        "trusted": true,
        "id": "I0WyglA1lhGI"
      },
      "execution_count": 42,
      "outputs": []
    },
    {
      "cell_type": "code",
      "source": [
        "with wandb.init(project=PROJECT, job_type=\"models\"):\n",
        "    artifact = wandb.Artifact(\"gtr-T5-fine-tuned\", type=\"model\")\n",
        "    artifact.add_dir(custom_path)\n",
        "    wandb.save(custom_path)\n",
        "    wandb.log_artifact(artifact)"
      ],
      "metadata": {
        "execution": {
          "iopub.status.busy": "2024-01-20T23:33:20.757961Z",
          "iopub.execute_input": "2024-01-20T23:33:20.758690Z",
          "iopub.status.idle": "2024-01-20T23:34:46.254872Z",
          "shell.execute_reply.started": "2024-01-20T23:33:20.758653Z",
          "shell.execute_reply": "2024-01-20T23:34:46.254179Z"
        },
        "trusted": true,
        "colab": {
          "base_uri": "https://localhost:8080/",
          "height": 191,
          "referenced_widgets": [
            "8fc38e763b1346128b20e2359fd49519",
            "e460e89b882648258b427056a3892329",
            "fdedde40e6c64059b99be5f6cdf66942",
            "38aafb9aad8347dd9738a7ec90258610",
            "045e90ce84fe44edb348db8df925c322",
            "105be07e4ddb4338b97be1edc8390696",
            "808e769fbe584b3b8d00db44e01a5f26",
            "b8a3071c6b4a49d892ba55abf628b762"
          ]
        },
        "id": "_x14u6falhGI",
        "outputId": "fa2fa7d3-9d2a-40a5-83cb-4e27f1763e8d"
      },
      "execution_count": 43,
      "outputs": [
        {
          "output_type": "display_data",
          "data": {
            "text/plain": [
              "<IPython.core.display.HTML object>"
            ],
            "text/html": [
              "Tracking run with wandb version 0.16.3"
            ]
          },
          "metadata": {}
        },
        {
          "output_type": "display_data",
          "data": {
            "text/plain": [
              "<IPython.core.display.HTML object>"
            ],
            "text/html": [
              "Run data is saved locally in <code>/content/wandb/run-20240213_182145-ky5sc6ry</code>"
            ]
          },
          "metadata": {}
        },
        {
          "output_type": "display_data",
          "data": {
            "text/plain": [
              "<IPython.core.display.HTML object>"
            ],
            "text/html": [
              "Syncing run <strong><a href='https://wandb.ai/olonok69/FlanT5-Document-Classification/runs/ky5sc6ry' target=\"_blank\">red-ox-42</a></strong> to <a href='https://wandb.ai/olonok69/FlanT5-Document-Classification' target=\"_blank\">Weights & Biases</a> (<a href='https://wandb.me/run' target=\"_blank\">docs</a>)<br/>"
            ]
          },
          "metadata": {}
        },
        {
          "output_type": "display_data",
          "data": {
            "text/plain": [
              "<IPython.core.display.HTML object>"
            ],
            "text/html": [
              " View project at <a href='https://wandb.ai/olonok69/FlanT5-Document-Classification' target=\"_blank\">https://wandb.ai/olonok69/FlanT5-Document-Classification</a>"
            ]
          },
          "metadata": {}
        },
        {
          "output_type": "display_data",
          "data": {
            "text/plain": [
              "<IPython.core.display.HTML object>"
            ],
            "text/html": [
              " View run at <a href='https://wandb.ai/olonok69/FlanT5-Document-Classification/runs/ky5sc6ry' target=\"_blank\">https://wandb.ai/olonok69/FlanT5-Document-Classification/runs/ky5sc6ry</a>"
            ]
          },
          "metadata": {}
        },
        {
          "output_type": "stream",
          "name": "stderr",
          "text": [
            "\u001b[34m\u001b[1mwandb\u001b[0m: Adding directory to artifact (/content/drive/MyDrive/models/flan-T5-fine-tune)... Done. 4.9s\n",
            "\u001b[34m\u001b[1mwandb\u001b[0m: \u001b[33mWARNING\u001b[0m Saving files without folders. If you want to preserve sub directories pass base_path to wandb.save, i.e. wandb.save(\"/mnt/folder/file.h5\", base_path=\"/mnt\")\n"
          ]
        },
        {
          "output_type": "display_data",
          "data": {
            "text/plain": [
              "VBox(children=(Label(value='0.002 MB of 1407.058 MB uploaded\\r'), FloatProgress(value=1.5717690189412522e-06, …"
            ],
            "application/vnd.jupyter.widget-view+json": {
              "version_major": 2,
              "version_minor": 0,
              "model_id": "8fc38e763b1346128b20e2359fd49519"
            }
          },
          "metadata": {}
        },
        {
          "output_type": "display_data",
          "data": {
            "text/plain": [
              "<IPython.core.display.HTML object>"
            ],
            "text/html": [
              " View run <strong style=\"color:#cdcd00\">red-ox-42</strong> at: <a href='https://wandb.ai/olonok69/FlanT5-Document-Classification/runs/ky5sc6ry' target=\"_blank\">https://wandb.ai/olonok69/FlanT5-Document-Classification/runs/ky5sc6ry</a><br/>Synced 5 W&B file(s), 0 media file(s), 4 artifact file(s) and 0 other file(s)"
            ]
          },
          "metadata": {}
        },
        {
          "output_type": "display_data",
          "data": {
            "text/plain": [
              "<IPython.core.display.HTML object>"
            ],
            "text/html": [
              "Find logs at: <code>./wandb/run-20240213_182145-ky5sc6ry/logs</code>"
            ]
          },
          "metadata": {}
        }
      ]
    },
    {
      "cell_type": "code",
      "source": [
        "tokenizer.save_pretrained(REPOSITORY_ID)"
      ],
      "metadata": {
        "execution": {
          "iopub.status.busy": "2024-01-20T23:34:49.882868Z",
          "iopub.execute_input": "2024-01-20T23:34:49.883261Z",
          "iopub.status.idle": "2024-01-20T23:34:49.918273Z",
          "shell.execute_reply.started": "2024-01-20T23:34:49.883229Z",
          "shell.execute_reply": "2024-01-20T23:34:49.917336Z"
        },
        "trusted": true,
        "colab": {
          "base_uri": "https://localhost:8080/"
        },
        "id": "HkUypXLLlhGJ",
        "outputId": "5eb0f900-2aa8-456a-9e96-c3d1ba6301e7"
      },
      "execution_count": 44,
      "outputs": [
        {
          "output_type": "execute_result",
          "data": {
            "text/plain": [
              "('gtr-t5-large-text-classification/tokenizer_config.json',\n",
              " 'gtr-t5-large-text-classification/special_tokens_map.json',\n",
              " 'gtr-t5-large-text-classification/spiece.model',\n",
              " 'gtr-t5-large-text-classification/added_tokens.json',\n",
              " 'gtr-t5-large-text-classification/tokenizer.json')"
            ]
          },
          "metadata": {},
          "execution_count": 44
        }
      ]
    },
    {
      "cell_type": "markdown",
      "source": [
        "# *Uncomment to push to HF*\n"
      ],
      "metadata": {
        "id": "8efnySPvlhGJ"
      }
    },
    {
      "cell_type": "code",
      "source": [
        "# tokenizer.save_pretrained(REPOSITORY_ID)\n",
        "# trainer.create_model_card()\n",
        "# trainer.push_to_hub()"
      ],
      "metadata": {
        "trusted": true,
        "id": "WSu6_qMJlhGJ"
      },
      "execution_count": null,
      "outputs": []
    },
    {
      "cell_type": "code",
      "source": [
        "import torch\n",
        "from tqdm.auto import tqdm\n",
        "\n",
        "\n",
        "from sklearn.metrics import classification_report\n",
        "\n",
        "\n",
        "\n",
        "# Load model and tokenizer from the hub\n",
        "#tokenizer = AutoTokenizer.from_pretrained(f\"/kaggle/working/{REPOSITORY_ID}\")\n",
        "tokenizer = T5Tokenizer.from_pretrained(f\"/content/{REPOSITORY_ID}\")\n",
        "\n",
        "#model = AutoModelForSeq2SeqLM.from_pretrained(custom_path)\n",
        "model = T5ForConditionalGeneration.from_pretrained(custom_path, num_labels=len(labels),\n",
        "     id2label={str(i): c for i, c in enumerate(labels)},\n",
        "     label2id={c: str(i) for i, c in enumerate(labels)},)\n",
        "\n",
        "model = model.to('cuda') if torch.cuda.is_available() else model.to('cpu')"
      ],
      "metadata": {
        "execution": {
          "iopub.status.busy": "2024-01-20T23:35:07.043498Z",
          "iopub.execute_input": "2024-01-20T23:35:07.044250Z",
          "iopub.status.idle": "2024-01-20T23:35:08.475781Z",
          "shell.execute_reply.started": "2024-01-20T23:35:07.044217Z",
          "shell.execute_reply": "2024-01-20T23:35:08.474948Z"
        },
        "trusted": true,
        "colab": {
          "base_uri": "https://localhost:8080/"
        },
        "id": "ceU-eA1tlhGJ",
        "outputId": "526ddb75-ab76-493f-a88e-58e8917f4cc2"
      },
      "execution_count": 45,
      "outputs": [
        {
          "output_type": "stream",
          "name": "stderr",
          "text": [
            "You are using the default legacy behaviour of the <class 'transformers.models.t5.tokenization_t5.T5Tokenizer'>. This is expected, and simply means that the `legacy` (previous) behavior will be used so nothing changes for you. If you want to use the new behaviour, set `legacy=False`. This should only be set if you understand what it means, and thouroughly read the reason why this was added as explained in https://github.com/huggingface/transformers/pull/24565\n",
            "Special tokens have been added in the vocabulary, make sure the associated word embeddings are fine-tuned or trained.\n"
          ]
        }
      ]
    },
    {
      "cell_type": "code",
      "source": [
        "def classify(text_to_classify: str) -> str:\n",
        "    \"\"\"Classify a text using the model.\"\"\"\n",
        "    inputs = tokenizer.encode_plus(text_to_classify, padding='max_length', max_length=512, return_tensors='pt')\n",
        "    inputs = inputs.to('cuda') if torch.cuda.is_available() else inputs.to('cpu')\n",
        "    outputs = model.generate(inputs['input_ids'], attention_mask=inputs['attention_mask'], max_length=3)#, num_beams=4, early_stopping=True)\n",
        "    prediction = tokenizer.decode(outputs[0], skip_special_tokens=True)\n",
        "    return prediction\n",
        "\n",
        "\n",
        "def evaluate_model() -> None:\n",
        "    \"\"\"Evaluate the model on the test dataset.\"\"\"\n",
        "    predictions_list, labels_list = [], []\n",
        "\n",
        "    samples_number = len(dataset['test'])\n",
        "    progress_bar = tqdm(range(samples_number))\n",
        "\n",
        "    for i in range(samples_number):\n",
        "        text = dataset['test']['text'][i]\n",
        "        predictions_list.append(classify(text))\n",
        "        labels_list.append(str(dataset['test']['label'][i]))\n",
        "\n",
        "        progress_bar.update(1)\n",
        "\n",
        "    report = classification_report(labels_list, predictions_list, zero_division=0)\n",
        "    print(report)"
      ],
      "metadata": {
        "execution": {
          "iopub.status.busy": "2024-01-20T23:35:53.715308Z",
          "iopub.execute_input": "2024-01-20T23:35:53.716226Z",
          "iopub.status.idle": "2024-01-20T23:35:53.724942Z",
          "shell.execute_reply.started": "2024-01-20T23:35:53.716190Z",
          "shell.execute_reply": "2024-01-20T23:35:53.723985Z"
        },
        "trusted": true,
        "id": "oEeiTF9ClhGK"
      },
      "execution_count": 46,
      "outputs": []
    },
    {
      "cell_type": "code",
      "source": [
        " evaluate_model()"
      ],
      "metadata": {
        "execution": {
          "iopub.status.busy": "2024-01-20T23:35:57.776749Z",
          "iopub.execute_input": "2024-01-20T23:35:57.777638Z",
          "iopub.status.idle": "2024-01-20T23:36:19.704794Z",
          "shell.execute_reply.started": "2024-01-20T23:35:57.777602Z",
          "shell.execute_reply": "2024-01-20T23:36:19.703817Z"
        },
        "trusted": true,
        "colab": {
          "base_uri": "https://localhost:8080/",
          "height": 344,
          "referenced_widgets": [
            "b9eea5ed55314eb8921fff04f2a6258d",
            "7bf5cd1558464bbfa52102c655815794",
            "4db0f9018aa34e6f941655270a8a08fc",
            "39acd416a858498d96403c5480b718d2",
            "004d5a80f4824e27a55b753362754e47",
            "dec8321a87e74c6882983934c0e8e2dd",
            "924d75c08c684eacbb8f409dbd22518a",
            "79494a53dff940ae9c0fc2732624bafc",
            "9e662765af6d43a59aa92cdb1d7dece6",
            "bd5a800f1887426b937aea995316b55b",
            "2cba03a6ec00429cbc520e4565e3cac9"
          ]
        },
        "id": "Kz4LY18HlhGK",
        "outputId": "df93f620-407d-4ba8-96f3-57c73917e95c"
      },
      "execution_count": 47,
      "outputs": [
        {
          "output_type": "display_data",
          "data": {
            "text/plain": [
              "  0%|          | 0/300 [00:00<?, ?it/s]"
            ],
            "application/vnd.jupyter.widget-view+json": {
              "version_major": 2,
              "version_minor": 0,
              "model_id": "b9eea5ed55314eb8921fff04f2a6258d"
            }
          },
          "metadata": {}
        },
        {
          "output_type": "stream",
          "name": "stdout",
          "text": [
            "               precision    recall  f1-score   support\n",
            "\n",
            "     business       0.97      0.88      0.92        34\n",
            "entertainment       1.00      1.00      1.00        31\n",
            "         food       0.91      1.00      0.95        31\n",
            "     graphics       1.00      1.00      1.00        25\n",
            "   historical       0.95      0.97      0.96        40\n",
            "      medical       1.00      0.88      0.94        26\n",
            "     politics       0.96      0.92      0.94        26\n",
            "        space       0.93      1.00      0.96        27\n",
            "        sport       1.00      1.00      1.00        26\n",
            "  technologie       0.94      0.97      0.96        34\n",
            "\n",
            "     accuracy                           0.96       300\n",
            "    macro avg       0.97      0.96      0.96       300\n",
            " weighted avg       0.96      0.96      0.96       300\n",
            "\n"
          ]
        }
      ]
    },
    {
      "cell_type": "code",
      "source": [
        "text_to_classify =\"\"\"As 2023 draws to a close, we’ve been looking back on the year as it unfolded in UK and world politics.\n",
        "\n",
        "While many may have expected a quieter year in UK politics, the year of 2023 didn’t fail to keep the headlines flowing. Events in the UK also happened amid an already and increasingly challenging context in international politics, with new conflicts breaking out this year. Looking forward, 2024 is set to be a major year for politics, with two key elections expected in the UK and US, against a backdrop of significant challenges across the world.\n",
        "\n",
        "Month by month, this is a summary of some of the key political stories that got people talking, drove change and impacted people’s lives in 2023…\n",
        "\n",
        "January\n",
        "Strikes – The UK Government published a bill in Parliament designed to require organisations in the public sector to provide a minimum level of service in the event of strikes by workers. The move came during a month in which workers for various services walked out over numerous disputes – workers to strike included rail workers, NHS staff, DVLA staff, DWP staff, bus drivers, legal advisers and more. There was even greater impacts from strike action in March.\n",
        "\n",
        "Gender Recognition Reform Bill – The UK Government announced it would block a bill passed by the Scottish Parliament seeking to make it simpler for people to change their legal gender. The bill was blocked under a section 35 order of the 1998 Scotland Act to stop the bill receiving royal assent – the first time such an order is thought to have been made.\n",
        "\n",
        "International – Luiz Inácio Lula da Silva was sworn in as the President of Brazil.\"\"\""
      ],
      "metadata": {
        "execution": {
          "iopub.status.busy": "2024-01-20T23:36:30.807221Z",
          "iopub.execute_input": "2024-01-20T23:36:30.807884Z",
          "iopub.status.idle": "2024-01-20T23:36:30.814696Z",
          "shell.execute_reply.started": "2024-01-20T23:36:30.807851Z",
          "shell.execute_reply": "2024-01-20T23:36:30.813153Z"
        },
        "trusted": true,
        "id": "FqRudo9alhGK"
      },
      "execution_count": 48,
      "outputs": []
    },
    {
      "cell_type": "code",
      "source": [
        "nltk.download('stopwords')"
      ],
      "metadata": {
        "colab": {
          "base_uri": "https://localhost:8080/"
        },
        "id": "a8mckD12t4E2",
        "outputId": "87c14a48-6a3c-4ce7-8a31-11e530317a10"
      },
      "execution_count": 51,
      "outputs": [
        {
          "output_type": "stream",
          "name": "stderr",
          "text": [
            "[nltk_data] Downloading package stopwords to /root/nltk_data...\n",
            "[nltk_data]   Unzipping corpora/stopwords.zip.\n"
          ]
        },
        {
          "output_type": "execute_result",
          "data": {
            "text/plain": [
              "True"
            ]
          },
          "metadata": {},
          "execution_count": 51
        }
      ]
    },
    {
      "cell_type": "code",
      "source": [
        "from nltk.corpus import stopwords\n",
        "import nltk\n",
        "\n",
        "def pre_process_text(text_to_classify):\n",
        "    tokens = text_to_classify.split(\" \")\n",
        "    tokens_pun_lower = [i.lower() for i in tokens if i.isalnum()]\n",
        "    stop_words = stopwords.words('english')\n",
        "    tokens_stop = [i for i in tokens_pun_lower if i not in stop_words]\n",
        "    text_to_class = \" \".join(tokens_stop)\n",
        "    return text_to_class"
      ],
      "metadata": {
        "execution": {
          "iopub.status.busy": "2024-01-20T23:36:46.568669Z",
          "iopub.execute_input": "2024-01-20T23:36:46.569021Z",
          "iopub.status.idle": "2024-01-20T23:36:46.575239Z",
          "shell.execute_reply.started": "2024-01-20T23:36:46.568996Z",
          "shell.execute_reply": "2024-01-20T23:36:46.574042Z"
        },
        "trusted": true,
        "id": "RNwPwj-KlhGL"
      },
      "execution_count": 52,
      "outputs": []
    },
    {
      "cell_type": "code",
      "source": [
        "text_to_class = pre_process_text(text_to_classify)"
      ],
      "metadata": {
        "execution": {
          "iopub.status.busy": "2024-01-20T23:36:57.398485Z",
          "iopub.execute_input": "2024-01-20T23:36:57.399182Z",
          "iopub.status.idle": "2024-01-20T23:36:57.404605Z",
          "shell.execute_reply.started": "2024-01-20T23:36:57.399132Z",
          "shell.execute_reply": "2024-01-20T23:36:57.403670Z"
        },
        "trusted": true,
        "id": "pEZ7nPnplhGL"
      },
      "execution_count": 53,
      "outputs": []
    },
    {
      "cell_type": "code",
      "source": [
        "classify(text_to_class)"
      ],
      "metadata": {
        "execution": {
          "iopub.status.busy": "2024-01-20T23:37:00.847517Z",
          "iopub.execute_input": "2024-01-20T23:37:00.848697Z",
          "iopub.status.idle": "2024-01-20T23:37:00.921225Z",
          "shell.execute_reply.started": "2024-01-20T23:37:00.848644Z",
          "shell.execute_reply": "2024-01-20T23:37:00.920199Z"
        },
        "trusted": true,
        "colab": {
          "base_uri": "https://localhost:8080/",
          "height": 35
        },
        "id": "gjHTN_8rlhGL",
        "outputId": "81bb6eed-8808-46b4-a074-6895151748e3"
      },
      "execution_count": 54,
      "outputs": [
        {
          "output_type": "execute_result",
          "data": {
            "text/plain": [
              "'politics'"
            ],
            "application/vnd.google.colaboratory.intrinsic+json": {
              "type": "string"
            }
          },
          "metadata": {},
          "execution_count": 54
        }
      ]
    }
  ]
}